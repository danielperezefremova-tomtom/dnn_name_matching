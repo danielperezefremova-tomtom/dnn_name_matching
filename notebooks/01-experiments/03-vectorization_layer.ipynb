{
 "cells": [
  {
   "cell_type": "code",
   "execution_count": 6,
   "id": "d549128e-6446-4780-8690-8a0358f8618a",
   "metadata": {},
   "outputs": [
    {
     "name": "stderr",
     "output_type": "stream",
     "text": [
      "2023-09-07 23:21:42.425771: I tensorflow/core/platform/cpu_feature_guard.cc:193] This TensorFlow binary is optimized with oneAPI Deep Neural Network Library (oneDNN) to use the following CPU instructions in performance-critical operations:  AVX2 AVX512F AVX512_VNNI FMA\n",
      "To enable them in other operations, rebuild TensorFlow with the appropriate compiler flags.\n"
     ]
    },
    {
     "name": "stdout",
     "output_type": "stream",
     "text": [
      "1/1 [==============================] - 0s 131ms/step\n"
     ]
    },
    {
     "data": {
      "text/html": [
       "<pre style=\"white-space:pre;overflow-x:auto;line-height:normal;font-family:Menlo,'DejaVu Sans Mono',consolas,'Courier New',monospace\"></pre>\n"
      ],
      "text/plain": []
     },
     "metadata": {},
     "output_type": "display_data"
    },
    {
     "data": {
      "text/plain": [
       "\n",
       "\u001b[1;35marray\u001b[0m\u001b[1m(\u001b[0m\u001b[1m[\u001b[0m\u001b[1m[\u001b[0m\u001b[1;36m16\u001b[0m,  \u001b[1;36m3\u001b[0m, \u001b[1;36m11\u001b[0m, \u001b[1;36m14\u001b[0m,  \u001b[1;36m2\u001b[0m, \u001b[1;36m13\u001b[0m,  \u001b[1;36m7\u001b[0m,  \u001b[1;36m9\u001b[0m,  \u001b[1;36m2\u001b[0m,  \u001b[1;36m4\u001b[0m,  \u001b[1;36m2\u001b[0m,  \u001b[1;36m5\u001b[0m,  \u001b[1;36m7\u001b[0m,  \u001b[1;36m2\u001b[0m, \u001b[1;36m15\u001b[0m,  \u001b[1;36m4\u001b[0m,\n",
       "         \u001b[1;36m2\u001b[0m, \u001b[1;36m12\u001b[0m, \u001b[1;36m10\u001b[0m,  \u001b[1;36m8\u001b[0m,  \u001b[1;36m3\u001b[0m,  \u001b[1;36m0\u001b[0m,  \u001b[1;36m0\u001b[0m,  \u001b[1;36m0\u001b[0m,  \u001b[1;36m0\u001b[0m,  \u001b[1;36m0\u001b[0m,  \u001b[1;36m0\u001b[0m,  \u001b[1;36m0\u001b[0m,  \u001b[1;36m0\u001b[0m,  \u001b[1;36m0\u001b[0m,  \u001b[1;36m0\u001b[0m,  \u001b[1;36m0\u001b[0m,\n",
       "         \u001b[1;36m0\u001b[0m,  \u001b[1;36m0\u001b[0m,  \u001b[1;36m0\u001b[0m,  \u001b[1;36m0\u001b[0m,  \u001b[1;36m0\u001b[0m,  \u001b[1;36m0\u001b[0m,  \u001b[1;36m0\u001b[0m,  \u001b[1;36m0\u001b[0m,  \u001b[1;36m0\u001b[0m,  \u001b[1;36m0\u001b[0m,  \u001b[1;36m0\u001b[0m,  \u001b[1;36m0\u001b[0m,  \u001b[1;36m0\u001b[0m,  \u001b[1;36m0\u001b[0m,  \u001b[1;36m0\u001b[0m,  \u001b[1;36m0\u001b[0m,\n",
       "         \u001b[1;36m0\u001b[0m,  \u001b[1;36m0\u001b[0m,  \u001b[1;36m0\u001b[0m,  \u001b[1;36m0\u001b[0m,  \u001b[1;36m0\u001b[0m,  \u001b[1;36m0\u001b[0m,  \u001b[1;36m0\u001b[0m,  \u001b[1;36m0\u001b[0m,  \u001b[1;36m0\u001b[0m,  \u001b[1;36m0\u001b[0m,  \u001b[1;36m0\u001b[0m,  \u001b[1;36m0\u001b[0m,  \u001b[1;36m0\u001b[0m,  \u001b[1;36m0\u001b[0m,  \u001b[1;36m0\u001b[0m,  \u001b[1;36m0\u001b[0m,\n",
       "         \u001b[1;36m0\u001b[0m,  \u001b[1;36m0\u001b[0m,  \u001b[1;36m0\u001b[0m,  \u001b[1;36m0\u001b[0m,  \u001b[1;36m0\u001b[0m,  \u001b[1;36m0\u001b[0m,  \u001b[1;36m0\u001b[0m,  \u001b[1;36m0\u001b[0m,  \u001b[1;36m0\u001b[0m,  \u001b[1;36m0\u001b[0m,  \u001b[1;36m0\u001b[0m,  \u001b[1;36m0\u001b[0m,  \u001b[1;36m0\u001b[0m,  \u001b[1;36m0\u001b[0m,  \u001b[1;36m0\u001b[0m,  \u001b[1;36m0\u001b[0m,\n",
       "         \u001b[1;36m0\u001b[0m,  \u001b[1;36m0\u001b[0m,  \u001b[1;36m0\u001b[0m,  \u001b[1;36m0\u001b[0m,  \u001b[1;36m0\u001b[0m,  \u001b[1;36m0\u001b[0m,  \u001b[1;36m0\u001b[0m,  \u001b[1;36m0\u001b[0m,  \u001b[1;36m0\u001b[0m,  \u001b[1;36m0\u001b[0m,  \u001b[1;36m0\u001b[0m,  \u001b[1;36m0\u001b[0m,  \u001b[1;36m0\u001b[0m,  \u001b[1;36m0\u001b[0m,  \u001b[1;36m0\u001b[0m,  \u001b[1;36m0\u001b[0m,\n",
       "         \u001b[1;36m0\u001b[0m,  \u001b[1;36m0\u001b[0m,  \u001b[1;36m0\u001b[0m,  \u001b[1;36m0\u001b[0m\u001b[1m]\u001b[0m,\n",
       "       \u001b[1m[\u001b[0m \u001b[1;36m1\u001b[0m,  \u001b[1;36m1\u001b[0m,  \u001b[1;36m1\u001b[0m,  \u001b[1;36m7\u001b[0m,  \u001b[1;36m6\u001b[0m,  \u001b[1;36m3\u001b[0m,  \u001b[1;36m5\u001b[0m,  \u001b[1;36m0\u001b[0m,  \u001b[1;36m0\u001b[0m,  \u001b[1;36m0\u001b[0m,  \u001b[1;36m0\u001b[0m,  \u001b[1;36m0\u001b[0m,  \u001b[1;36m0\u001b[0m,  \u001b[1;36m0\u001b[0m,  \u001b[1;36m0\u001b[0m,  \u001b[1;36m0\u001b[0m,\n",
       "         \u001b[1;36m0\u001b[0m,  \u001b[1;36m0\u001b[0m,  \u001b[1;36m0\u001b[0m,  \u001b[1;36m0\u001b[0m,  \u001b[1;36m0\u001b[0m,  \u001b[1;36m0\u001b[0m,  \u001b[1;36m0\u001b[0m,  \u001b[1;36m0\u001b[0m,  \u001b[1;36m0\u001b[0m,  \u001b[1;36m0\u001b[0m,  \u001b[1;36m0\u001b[0m,  \u001b[1;36m0\u001b[0m,  \u001b[1;36m0\u001b[0m,  \u001b[1;36m0\u001b[0m,  \u001b[1;36m0\u001b[0m,  \u001b[1;36m0\u001b[0m,\n",
       "         \u001b[1;36m0\u001b[0m,  \u001b[1;36m0\u001b[0m,  \u001b[1;36m0\u001b[0m,  \u001b[1;36m0\u001b[0m,  \u001b[1;36m0\u001b[0m,  \u001b[1;36m0\u001b[0m,  \u001b[1;36m0\u001b[0m,  \u001b[1;36m0\u001b[0m,  \u001b[1;36m0\u001b[0m,  \u001b[1;36m0\u001b[0m,  \u001b[1;36m0\u001b[0m,  \u001b[1;36m0\u001b[0m,  \u001b[1;36m0\u001b[0m,  \u001b[1;36m0\u001b[0m,  \u001b[1;36m0\u001b[0m,  \u001b[1;36m0\u001b[0m,\n",
       "         \u001b[1;36m0\u001b[0m,  \u001b[1;36m0\u001b[0m,  \u001b[1;36m0\u001b[0m,  \u001b[1;36m0\u001b[0m,  \u001b[1;36m0\u001b[0m,  \u001b[1;36m0\u001b[0m,  \u001b[1;36m0\u001b[0m,  \u001b[1;36m0\u001b[0m,  \u001b[1;36m0\u001b[0m,  \u001b[1;36m0\u001b[0m,  \u001b[1;36m0\u001b[0m,  \u001b[1;36m0\u001b[0m,  \u001b[1;36m0\u001b[0m,  \u001b[1;36m0\u001b[0m,  \u001b[1;36m0\u001b[0m,  \u001b[1;36m0\u001b[0m,\n",
       "         \u001b[1;36m0\u001b[0m,  \u001b[1;36m0\u001b[0m,  \u001b[1;36m0\u001b[0m,  \u001b[1;36m0\u001b[0m,  \u001b[1;36m0\u001b[0m,  \u001b[1;36m0\u001b[0m,  \u001b[1;36m0\u001b[0m,  \u001b[1;36m0\u001b[0m,  \u001b[1;36m0\u001b[0m,  \u001b[1;36m0\u001b[0m,  \u001b[1;36m0\u001b[0m,  \u001b[1;36m0\u001b[0m,  \u001b[1;36m0\u001b[0m,  \u001b[1;36m0\u001b[0m,  \u001b[1;36m0\u001b[0m,  \u001b[1;36m0\u001b[0m,\n",
       "         \u001b[1;36m0\u001b[0m,  \u001b[1;36m0\u001b[0m,  \u001b[1;36m0\u001b[0m,  \u001b[1;36m0\u001b[0m,  \u001b[1;36m0\u001b[0m,  \u001b[1;36m0\u001b[0m,  \u001b[1;36m0\u001b[0m,  \u001b[1;36m0\u001b[0m,  \u001b[1;36m0\u001b[0m,  \u001b[1;36m0\u001b[0m,  \u001b[1;36m0\u001b[0m,  \u001b[1;36m0\u001b[0m,  \u001b[1;36m0\u001b[0m,  \u001b[1;36m0\u001b[0m,  \u001b[1;36m0\u001b[0m,  \u001b[1;36m0\u001b[0m,\n",
       "         \u001b[1;36m0\u001b[0m,  \u001b[1;36m0\u001b[0m,  \u001b[1;36m0\u001b[0m,  \u001b[1;36m0\u001b[0m\u001b[1m]\u001b[0m\u001b[1m]\u001b[0m\u001b[1m)\u001b[0m"
      ]
     },
     "execution_count": 6,
     "metadata": {},
     "output_type": "execute_result"
    }
   ],
   "source": [
    "import tensorflow as tf\n",
    "import string\n",
    "import re\n",
    "\n",
    "max_features = 96\n",
    "embedding_dim = 16\n",
    "sequence_length = 100\n",
    "def custom_standardization(input_data):\n",
    "    lowercase     = tf.strings.lower(input_data)\n",
    "    stripped_html = tf.strings.regex_replace(lowercase, \"<br />\", \" \")\n",
    "    stripped_num  = tf.strings.regex_replace(stripped_html, \"[\\d-]\", \" \")\n",
    "    stripped_punc = tf.strings.regex_replace(stripped_num, \n",
    "                             \"[%s]\" % re.escape(string.punctuation), \"\")    \n",
    "    return stripped_punc\n",
    "    \n",
    "def char_split(input_data):\n",
    "  return tf.strings.unicode_split(input_data, 'UTF-8')\n",
    "    \n",
    "vectorize_layer = tf.keras.layers.TextVectorization(\n",
    "    standardize=custom_standardization,\n",
    "    max_tokens=100,\n",
    "    split=char_split, # word_split or char_split\n",
    "    output_mode=\"int\",\n",
    "    output_sequence_length=sequence_length,\n",
    ")\n",
    "\n",
    "text_dataset = tf.data.Dataset.from_tensor_slices([\"Daniel Perez Efremova\", \"bar\", \"baz\"])\n",
    "\n",
    "# Now that the vocab layer has been created, call `adapt` on the text-only  \n",
    "# dataset to create the vocabulary. You don't have to batch, but for large  \n",
    "# datasets this means we're not keeping spare copies of the dataset.  \n",
    "vectorize_layer.adapt(text_dataset.batch(64))\n",
    "\n",
    "# Create the model that uses the vectorize text layer  \n",
    "model = tf.keras.models.Sequential()\n",
    "\n",
    "# Start by creating an explicit input layer. It needs to have a shape of  \n",
    "# (1,) (because we need to guarantee that there is exactly one string  \n",
    "# input per batch), and the dtype needs to be 'string'.  \n",
    "model.add(tf.keras.Input(shape=(1,), dtype=tf.string))\n",
    "\n",
    "# The first layer in our model is the vectorization layer. After this  \n",
    "# layer, we have a tensor of shape (batch_size, max_len) containing vocab  \n",
    "# indices.  \n",
    "model.add(vectorize_layer)\n",
    "\n",
    "# Now, the model can map strings to integers, and you can add an embedding  \n",
    "# layer to map these integers to learned embeddings.  \n",
    "input_data = [[\"Daniel Perez Efremova\"], [\"qux baz\"]]\n",
    "model.predict(input_data)"
   ]
  },
  {
   "cell_type": "code",
   "execution_count": 8,
   "id": "3e2e3dc7-7232-408f-a5ce-6202a4577269",
   "metadata": {},
   "outputs": [],
   "source": [
    "from entity_name_matching_dnn.pipelines.train_model.model import char2vecCNN"
   ]
  },
  {
   "cell_type": "code",
   "execution_count": null,
   "id": "73980da4-148f-4da6-84b1-27e211e13135",
   "metadata": {},
   "outputs": [],
   "source": []
  },
  {
   "cell_type": "code",
   "execution_count": 9,
   "id": "3207a8db-6170-4f77-bf26-538650b15cd1",
   "metadata": {},
   "outputs": [
    {
     "data": {
      "text/html": [
       "<pre style=\"white-space:pre;overflow-x:auto;line-height:normal;font-family:Menlo,'DejaVu Sans Mono',consolas,'Courier New',monospace\"><span style=\"color: #7fbfbf; text-decoration-color: #7fbfbf\">[09/07/23 23:22:36] </span><span style=\"color: #000080; text-decoration-color: #000080\">INFO    </span> Loading data from <span style=\"color: #008000; text-decoration-color: #008000\">'vocabulary_file'</span> <span style=\"font-weight: bold\">(</span>JSONDataSet<span style=\"font-weight: bold\">)</span><span style=\"color: #808000; text-decoration-color: #808000\">...</span>               <a href=\"file:///usr/local/lib/python3.9/dist-packages/kedro/io/data_catalog.py\" target=\"_blank\"><span style=\"color: #7f7f7f; text-decoration-color: #7f7f7f\">data_catalog.py</span></a><span style=\"color: #7f7f7f; text-decoration-color: #7f7f7f\">:</span><a href=\"file:///usr/local/lib/python3.9/dist-packages/kedro/io/data_catalog.py#475\" target=\"_blank\"><span style=\"color: #7f7f7f; text-decoration-color: #7f7f7f\">475</span></a>\n",
       "</pre>\n"
      ],
      "text/plain": [
       "\u001b[2;36m[09/07/23 23:22:36]\u001b[0m\u001b[2;36m \u001b[0m\u001b[34mINFO    \u001b[0m Loading data from \u001b[32m'vocabulary_file'\u001b[0m \u001b[1m(\u001b[0mJSONDataSet\u001b[1m)\u001b[0m\u001b[33m...\u001b[0m               \u001b]8;id=707755;file:///usr/local/lib/python3.9/dist-packages/kedro/io/data_catalog.py\u001b\\\u001b[2mdata_catalog.py\u001b[0m\u001b]8;;\u001b\\\u001b[2m:\u001b[0m\u001b]8;id=9751;file:///usr/local/lib/python3.9/dist-packages/kedro/io/data_catalog.py#475\u001b\\\u001b[2m475\u001b[0m\u001b]8;;\u001b\\\n"
      ]
     },
     "metadata": {},
     "output_type": "display_data"
    },
    {
     "name": "stderr",
     "output_type": "stream",
     "text": [
      "All model checkpoint layers were used when initializing TFBertModel.\n",
      "\n",
      "All the layers of TFBertModel were initialized from the model checkpoint at sentence-transformers/paraphrase-multilingual-MiniLM-L12-v2.\n",
      "If your task is similar to the task the model of the checkpoint was trained on, you can already use TFBertModel for predictions without further training.\n"
     ]
    }
   ],
   "source": [
    "model = char2vecCNN(input_size=100,\n",
    "                embedding_dim=150,\n",
    "                char_to_index=catalog.load('vocabulary_file'))"
   ]
  },
  {
   "cell_type": "code",
   "execution_count": null,
   "id": "14893b4a-013b-4d0e-8bfe-0e2867639e83",
   "metadata": {},
   "outputs": [],
   "source": []
  }
 ],
 "metadata": {
  "kernelspec": {
   "display_name": "Kedro (entity_name_matching_dnn)",
   "language": "python",
   "name": "kedro_entity_name_matching_dnn"
  },
  "language_info": {
   "codemirror_mode": {
    "name": "ipython",
    "version": 3
   },
   "file_extension": ".py",
   "mimetype": "text/x-python",
   "name": "python",
   "nbconvert_exporter": "python",
   "pygments_lexer": "ipython3",
   "version": "3.9.5"
  }
 },
 "nbformat": 4,
 "nbformat_minor": 5
}
