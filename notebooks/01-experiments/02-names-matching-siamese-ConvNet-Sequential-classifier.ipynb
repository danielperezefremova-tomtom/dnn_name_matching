{
 "cells": [
  {
   "cell_type": "code",
   "execution_count": 1,
   "id": "4a689f22",
   "metadata": {},
   "outputs": [
    {
     "name": "stderr",
     "output_type": "stream",
     "text": [
      "2023-08-22 16:26:39.474786: I tensorflow/core/platform/cpu_feature_guard.cc:193] This TensorFlow binary is optimized with oneAPI Deep Neural Network Library (oneDNN) to use the following CPU instructions in performance-critical operations:  AVX2 AVX512F AVX512_VNNI FMA\n",
      "To enable them in other operations, rebuild TensorFlow with the appropriate compiler flags.\n",
      "2023-08-22 16:26:39.585888: I tensorflow/core/util/port.cc:104] oneDNN custom operations are on. You may see slightly different numerical results due to floating-point round-off errors from different computation orders. To turn them off, set the environment variable `TF_ENABLE_ONEDNN_OPTS=0`.\n"
     ]
    },
    {
     "data": {
      "text/html": [
       "<pre style=\"white-space:pre;overflow-x:auto;line-height:normal;font-family:Menlo,'DejaVu Sans Mono',consolas,'Courier New',monospace\"><span style=\"color: #7fbfbf; text-decoration-color: #7fbfbf\">[08/22/23 16:26:41] </span><span style=\"color: #800000; text-decoration-color: #800000\">WARNING </span> <span style=\"color: #800080; text-decoration-color: #800080\">/usr/local/lib/python3.9/dist-packages/fuzzywuzzy/</span><span style=\"color: #ff00ff; text-decoration-color: #ff00ff\">fuzz.py</span>:<span style=\"color: #008080; text-decoration-color: #008080; font-weight: bold\">11</span>:          <a href=\"file:///usr/lib/python3.9/warnings.py\" target=\"_blank\"><span style=\"color: #7f7f7f; text-decoration-color: #7f7f7f\">warnings.py</span></a><span style=\"color: #7f7f7f; text-decoration-color: #7f7f7f\">:</span><a href=\"file:///usr/lib/python3.9/warnings.py#109\" target=\"_blank\"><span style=\"color: #7f7f7f; text-decoration-color: #7f7f7f\">109</span></a>\n",
       "<span style=\"color: #7fbfbf; text-decoration-color: #7fbfbf\">                    </span>         UserWarning: Using slow pure-python SequenceMatcher. Install           <span style=\"color: #7f7f7f; text-decoration-color: #7f7f7f\">               </span>\n",
       "<span style=\"color: #7fbfbf; text-decoration-color: #7fbfbf\">                    </span>         python-Levenshtein to remove this warning                              <span style=\"color: #7f7f7f; text-decoration-color: #7f7f7f\">               </span>\n",
       "<span style=\"color: #7fbfbf; text-decoration-color: #7fbfbf\">                    </span>           <span style=\"color: #800080; text-decoration-color: #800080; font-weight: bold\">warnings.warn</span><span style=\"font-weight: bold\">(</span><span style=\"color: #008000; text-decoration-color: #008000\">'Using slow pure-python SequenceMatcher. Install </span>      <span style=\"color: #7f7f7f; text-decoration-color: #7f7f7f\">               </span>\n",
       "<span style=\"color: #7fbfbf; text-decoration-color: #7fbfbf\">                    </span>         <span style=\"color: #008000; text-decoration-color: #008000\">python-Levenshtein to remove this warning'</span><span style=\"font-weight: bold\">)</span>                            <span style=\"color: #7f7f7f; text-decoration-color: #7f7f7f\">               </span>\n",
       "<span style=\"color: #7fbfbf; text-decoration-color: #7fbfbf\">                    </span>                                                                                <span style=\"color: #7f7f7f; text-decoration-color: #7f7f7f\">               </span>\n",
       "</pre>\n"
      ],
      "text/plain": [
       "\u001b[2;36m[08/22/23 16:26:41]\u001b[0m\u001b[2;36m \u001b[0m\u001b[31mWARNING \u001b[0m \u001b[35m/usr/local/lib/python3.9/dist-packages/fuzzywuzzy/\u001b[0m\u001b[95mfuzz.py\u001b[0m:\u001b[1;36m11\u001b[0m:          \u001b]8;id=146225;file:///usr/lib/python3.9/warnings.py\u001b\\\u001b[2mwarnings.py\u001b[0m\u001b]8;;\u001b\\\u001b[2m:\u001b[0m\u001b]8;id=948644;file:///usr/lib/python3.9/warnings.py#109\u001b\\\u001b[2m109\u001b[0m\u001b]8;;\u001b\\\n",
       "\u001b[2;36m                    \u001b[0m         UserWarning: Using slow pure-python SequenceMatcher. Install           \u001b[2m               \u001b[0m\n",
       "\u001b[2;36m                    \u001b[0m         python-Levenshtein to remove this warning                              \u001b[2m               \u001b[0m\n",
       "\u001b[2;36m                    \u001b[0m           \u001b[1;35mwarnings.warn\u001b[0m\u001b[1m(\u001b[0m\u001b[32m'Using slow pure-python SequenceMatcher. Install \u001b[0m      \u001b[2m               \u001b[0m\n",
       "\u001b[2;36m                    \u001b[0m         \u001b[32mpython-Levenshtein to remove this warning'\u001b[0m\u001b[1m)\u001b[0m                            \u001b[2m               \u001b[0m\n",
       "\u001b[2;36m                    \u001b[0m                                                                                \u001b[2m               \u001b[0m\n"
      ]
     },
     "metadata": {},
     "output_type": "display_data"
    }
   ],
   "source": [
    "import pandas as pd\n",
    "from pyspark.sql.functions import (col, rand, udf, collect_set, collect_list, concat, array_distinct, flatten, when, length)\n",
    "import pyspark.sql.functions as F\n",
    "from pyspark.sql.types import ArrayType, StringType, FloatType\n",
    "from unidecode import unidecode\n",
    "import re\n",
    "from functools import reduce\n",
    "import numpy as np\n",
    "import tensorflow as tf\n",
    "import keras\n",
    "from fuzzywuzzy import fuzz\n",
    "\n",
    "from keras.models import Sequential\n",
    "from keras.layers import Dense, Dropout, GRU, Bidirectional, GlobalMaxPooling1D, Layer, Masking, Lambda, Permute\n",
    "import os\n",
    "import pickle\n",
    "from keras.layers import Bidirectional\n",
    "import matplotlib.pyplot as plt\n",
    "from sklearn.metrics import classification_report\n",
    "import functools\n",
    "from keras.callbacks import ModelCheckpoint\n",
    "from keras.layers import Dropout, concatenate\n",
    "from keras.activations import relu\n",
    "from sklearn.model_selection import train_test_split\n"
   ]
  },
  {
   "cell_type": "code",
   "execution_count": 2,
   "id": "40fe30d5",
   "metadata": {},
   "outputs": [],
   "source": [
    "#env: geoNames"
   ]
  },
  {
   "cell_type": "code",
   "execution_count": 3,
   "id": "5d835198",
   "metadata": {},
   "outputs": [
    {
     "data": {
      "text/html": [
       "<pre style=\"white-space:pre;overflow-x:auto;line-height:normal;font-family:Menlo,'DejaVu Sans Mono',consolas,'Courier New',monospace\"><span style=\"color: #7fbfbf; text-decoration-color: #7fbfbf\">                    </span><span style=\"color: #000080; text-decoration-color: #000080\">INFO    </span> Loading data from <span style=\"color: #008000; text-decoration-color: #008000\">'geonames_latin_pairs'</span> <span style=\"font-weight: bold\">(</span>SparkDataSet<span style=\"font-weight: bold\">)</span><span style=\"color: #808000; text-decoration-color: #808000\">...</span>         <a href=\"file:///usr/local/lib/python3.9/dist-packages/kedro/io/data_catalog.py\" target=\"_blank\"><span style=\"color: #7f7f7f; text-decoration-color: #7f7f7f\">data_catalog.py</span></a><span style=\"color: #7f7f7f; text-decoration-color: #7f7f7f\">:</span><a href=\"file:///usr/local/lib/python3.9/dist-packages/kedro/io/data_catalog.py#475\" target=\"_blank\"><span style=\"color: #7f7f7f; text-decoration-color: #7f7f7f\">475</span></a>\n",
       "</pre>\n"
      ],
      "text/plain": [
       "\u001b[2;36m                   \u001b[0m\u001b[2;36m \u001b[0m\u001b[34mINFO    \u001b[0m Loading data from \u001b[32m'geonames_latin_pairs'\u001b[0m \u001b[1m(\u001b[0mSparkDataSet\u001b[1m)\u001b[0m\u001b[33m...\u001b[0m         \u001b]8;id=79126;file:///usr/local/lib/python3.9/dist-packages/kedro/io/data_catalog.py\u001b\\\u001b[2mdata_catalog.py\u001b[0m\u001b]8;;\u001b\\\u001b[2m:\u001b[0m\u001b]8;id=10006;file:///usr/local/lib/python3.9/dist-packages/kedro/io/data_catalog.py#475\u001b\\\u001b[2m475\u001b[0m\u001b]8;;\u001b\\\n"
      ]
     },
     "metadata": {},
     "output_type": "display_data"
    },
    {
     "name": "stderr",
     "output_type": "stream",
     "text": [
      "                                                                                \r"
     ]
    }
   ],
   "source": [
    "geonames_pairs = catalog.load('geonames_latin_pairs')\n",
    "geonames_pairs = geonames_pairs.withColumn('target', when(col('match') == 'true', 1).otherwise(0).cast(FloatType()))"
   ]
  },
  {
   "cell_type": "code",
   "execution_count": 4,
   "id": "3d07f6ed-d33c-4ad5-926a-7be8c877ee4a",
   "metadata": {},
   "outputs": [
    {
     "name": "stderr",
     "output_type": "stream",
     "text": [
      "[Stage 1:>                                                        (0 + 16) / 16]\r"
     ]
    },
    {
     "name": "stdout",
     "output_type": "stream",
     "text": [
      "+----------+------+\n",
      "|language_1| count|\n",
      "+----------+------+\n",
      "|        CN|503487|\n",
      "|        IR|282669|\n",
      "|        RU|234588|\n",
      "|        TH|174396|\n",
      "|        AF|171604|\n",
      "|        NO|109708|\n",
      "|        KR|104579|\n",
      "|        TW| 85863|\n",
      "|        JP| 81481|\n",
      "|        IQ| 59890|\n",
      "|        FR| 58277|\n",
      "|        PK| 55530|\n",
      "|        TR| 49718|\n",
      "|        SE| 47650|\n",
      "|        EG| 47493|\n",
      "|        SY| 45737|\n",
      "|        GR| 41502|\n",
      "|        YE| 40943|\n",
      "|        UA| 39231|\n",
      "|        MX| 37547|\n",
      "+----------+------+\n",
      "only showing top 20 rows\n",
      "\n"
     ]
    },
    {
     "name": "stderr",
     "output_type": "stream",
     "text": [
      "                                                                                \r"
     ]
    }
   ],
   "source": [
    "geonames_pairs.groupBy('language_1').count().orderBy(col('count').desc()).limit(200).show()"
   ]
  },
  {
   "cell_type": "code",
   "execution_count": 5,
   "id": "08501f63-3fb8-40d3-ba35-2a1caedece40",
   "metadata": {},
   "outputs": [
    {
     "name": "stdout",
     "output_type": "stream",
     "text": [
      "+----------------+----------------+-------+-------+----------+----------+----------+----------+-----+------+\n",
      "|          name_1|          name_2|   id_1|   id_2|alphabet_1|alphabet_2|language_1|language_2|match|target|\n",
      "+----------------+----------------+-------+-------+----------+----------+----------+----------+-----+------+\n",
      "|     Homsterland| Hultensche Leij|2753420|2753428|     LATIN|     LATIN|        NL|        NL|false|   0.0|\n",
      "|       Wormingen|  Wormer en Jisp|2744170|2744172|     LATIN|     LATIN|        NL|        NL|false|   0.0|\n",
      "|         De Neer|     Neyderveyrt|2750455|2750467|     LATIN|     LATIN|        NL|        NL|false|   0.0|\n",
      "|     Spykerbosch|          Spronk|2746879|2746889|     LATIN|     LATIN|        NL|        NL|false|   0.0|\n",
      "|    Sint Pancras|Sint Odilienberg|2747225|2747229|     LATIN|     LATIN|        NL|        NL|false|   0.0|\n",
      "|Huis Voorstonden|          Voorst|2745279|2745297|     LATIN|     LATIN|        NL|        NL|false|   0.0|\n",
      "|        Terheden|          Terhei|2746456|2746457|     LATIN|     LATIN|        NL|        NL|false|   0.0|\n",
      "|        Schalsum|  Schaijkse Hoek|2747698|2747710|     LATIN|     LATIN|        NL|        NL|false|   0.0|\n",
      "|       IJselmeer|       Rio Issel|2753361|2753367|     LATIN|     LATIN|        NL|        NL|false|   0.0|\n",
      "|     IJssel Lake|   Sungai IJssel|2753361|2753367|     LATIN|     LATIN|        NL|        NL|false|   0.0|\n",
      "+----------------+----------------+-------+-------+----------+----------+----------+----------+-----+------+\n",
      "\n"
     ]
    }
   ],
   "source": [
    "geonames_pairs.filter(col('language_1') == 'NL').limit(10).show()"
   ]
  },
  {
   "cell_type": "code",
   "execution_count": 6,
   "id": "c9f413a7-818a-45c7-a1de-55aeb1b76dea",
   "metadata": {},
   "outputs": [],
   "source": [
    "geonames_pairs_es = geonames_pairs.filter((col('language_1') == col('language_2')) & (col('language_1').isin(['ES', 'MX', 'AR', 'VE', 'FR', 'IT', 'GB', 'US', 'BR', 'DE', 'NL'])))"
   ]
  },
  {
   "cell_type": "code",
   "execution_count": 7,
   "id": "09eb295f-64a9-4f01-8225-75cb11d74ad3",
   "metadata": {},
   "outputs": [
    {
     "name": "stderr",
     "output_type": "stream",
     "text": [
      "                                                                                \r"
     ]
    },
    {
     "data": {
      "text/html": [
       "<pre style=\"white-space:pre;overflow-x:auto;line-height:normal;font-family:Menlo,'DejaVu Sans Mono',consolas,'Courier New',monospace\"></pre>\n"
      ],
      "text/plain": []
     },
     "metadata": {},
     "output_type": "display_data"
    },
    {
     "data": {
      "text/plain": [
       "\u001b[1;36m195568\u001b[0m"
      ]
     },
     "execution_count": 7,
     "metadata": {},
     "output_type": "execute_result"
    }
   ],
   "source": [
    "geonames_pairs_es.count()"
   ]
  },
  {
   "cell_type": "code",
   "execution_count": 8,
   "id": "5aa0ec3a-6287-4874-8850-90fcf52a63c4",
   "metadata": {},
   "outputs": [
    {
     "name": "stderr",
     "output_type": "stream",
     "text": [
      "                                                                                \r"
     ]
    },
    {
     "name": "stdout",
     "output_type": "stream",
     "text": [
      "+--------------------+--------------------+-------+-------+----------+----------+----------+----------+-----+------+\n",
      "|              name_1|              name_2|   id_1|   id_2|alphabet_1|alphabet_2|language_1|language_2|match|target|\n",
      "+--------------------+--------------------+-------+-------+----------+----------+----------+----------+-----+------+\n",
      "|           El Carmen| San Nicolás Hidalgo|4022734|4022735|     LATIN|     LATIN|        MX|        MX|false|   0.0|\n",
      "|Sainte-Catherine-...|Sainte-Catherine-...|2980720|2980720|     LATIN|     LATIN|        FR|        FR| true|   1.0|\n",
      "|         Sao Vicente|Ribeirão São Vicente|3448120|3448125|     LATIN|     LATIN|        BR|        BR|false|   0.0|\n",
      "|           Tabatinga|Forte de São Fran...|6319345|6319345|     LATIN|     LATIN|        BR|        BR| true|   1.0|\n",
      "|       mi tai er wei|         Mittelweier|2993670|2993670|     LATIN|     LATIN|        FR|        FR| true|   1.0|\n",
      "|        Nije Biltsyl|   Nieuwe-Biltpollen|2750348|2750349|     LATIN|     LATIN|        NL|        NL|false|   0.0|\n",
      "|                Egge|     Egg an der Gunz|2933144|2933168|     LATIN|     LATIN|        DE|        DE|false|   0.0|\n",
      "|          ela miraja|               elo'i|5293996|5294167|     LATIN|     LATIN|        US|        US|false|   0.0|\n",
      "|                 Oza|     Oza de los Rios|3114691|3114691|     LATIN|     LATIN|        ES|        ES| true|   1.0|\n",
      "|          Shelvajler|    Castra Scelerata|2839791|2839819|     LATIN|     LATIN|        DE|        DE|false|   0.0|\n",
      "|  Ribeirao Sucuapara|          Sussuapara|3447347|3447348|     LATIN|     LATIN|        BR|        BR|false|   0.0|\n",
      "|    Le Senig Riviere|    Le Sénig Rivière|2975095|2975095|     LATIN|     LATIN|        FR|        FR| true|   1.0|\n",
      "|   syangpanyualeuden|     sampena-aradana|3027257|3027257|     LATIN|     LATIN|        FR|        FR| true|   1.0|\n",
      "|      Le Gros Dognon|        La Croisiere|3009772|3009772|     LATIN|     LATIN|        FR|        FR| true|   1.0|\n",
      "|           El Maluco|             Malpais|3523666|3523676|     LATIN|     LATIN|        MX|        MX|false|   0.0|\n",
      "|Bordères-Louron I...|            Borderes|3031572|3031573|     LATIN|     LATIN|        FR|        FR|false|   0.0|\n",
      "|          Rio Palmar|           Río Palma|3631061|3631074|     LATIN|     LATIN|        VE|        VE|false|   0.0|\n",
      "|             El Gato|     Punta Gasparena|4005917|4005933|     LATIN|     LATIN|        MX|        MX|false|   0.0|\n",
      "|         ba cang dan|              Bazmon|3034449|3034451|     LATIN|     LATIN|        FR|        FR|false|   0.0|\n",
      "|  Callahan konderria|  Callahan Comitatus|4678206|4678206|     LATIN|     LATIN|        US|        US| true|   1.0|\n",
      "|        Gross Leesen|         Falkenhorst|2886182|2886191|     LATIN|     LATIN|        DE|        DE|false|   0.0|\n",
      "|      Neon-sjur-Krez|Nampont-Saint-Firmin|2990788|2990792|     LATIN|     LATIN|        FR|        FR|false|   0.0|\n",
      "|                Raal|Caserio Casas de ...|2518193|2518199|     LATIN|     LATIN|        ES|        ES|false|   0.0|\n",
      "|   Tapera da Pedroso|   Tapera do Pedroso|3446890|3446890|     LATIN|     LATIN|        BR|        BR| true|   1.0|\n",
      "|          San Rafael|  Jose Maria Morelos|3971656|3971658|     LATIN|     LATIN|        MX|        MX|false|   0.0|\n",
      "|           Bonnirigg|           Bonnyrigg|2655210|2655210|     LATIN|     LATIN|        GB|        GB| true|   1.0|\n",
      "|                Méry|                Mery|2994285|2994287|     LATIN|     LATIN|        FR|        FR|false|   0.0|\n",
      "|          Chunchumil|            Chumucbe|3530699|3530708|     LATIN|     LATIN|        MX|        MX|false|   0.0|\n",
      "|    Ribeirao da Ilha|    Ribeirão da Ilha|3461430|3461430|     LATIN|     LATIN|        BR|        BR| true|   1.0|\n",
      "|         San Martino|San Martino Monte...|3168003|3168003|     LATIN|     LATIN|        IT|        IT| true|   1.0|\n",
      "|           Chihuahua|       Ejido Chiapas|4011682|4011683|     LATIN|     LATIN|        MX|        MX|false|   0.0|\n",
      "|Sierra de la Ceja...|   Sierra de la Ceja|4014880|4014880|     LATIN|     LATIN|        MX|        MX| true|   1.0|\n",
      "|Aeroporto Interna...|Aeropuerto Intern...|8299151|8299151|     LATIN|     LATIN|        ES|        ES| true|   1.0|\n",
      "|              Chemin|Shemil'e-sjur-Endrua|3025592|3025600|     LATIN|     LATIN|        FR|        FR|false|   0.0|\n",
      "|          Os Césares|      Oscar Bressane|3455771|3455773|     LATIN|     LATIN|        BR|        BR|false|   0.0|\n",
      "|     Ferney-Voltaire|     Ferney Voltaire|3018679|3018679|     LATIN|     LATIN|        FR|        FR| true|   1.0|\n",
      "|Francisco I. Made...|           Escarcega|3527577|3527584|     LATIN|     LATIN|        MX|        MX|false|   0.0|\n",
      "|            El Cajon|            El Cajón|4029450|4029450|     LATIN|     LATIN|        MX|        MX| true|   1.0|\n",
      "|          La Preoire|          La Préoire|3007143|3007143|     LATIN|     LATIN|        FR|        FR| true|   1.0|\n",
      "|              Peronn|             Péronne|6444667|6444667|     LATIN|     LATIN|        FR|        FR| true|   1.0|\n",
      "|     Lübnitzer Forst|              Lubmin|2875581|2875585|     LATIN|     LATIN|        DE|        DE|false|   0.0|\n",
      "|         Gorgoglione|           ge er jia|3175993|3175997|     LATIN|     LATIN|        IT|        IT|false|   0.0|\n",
      "|    Ribeirão do Frio|      Frei Eustaquio|3462946|3462952|     LATIN|     LATIN|        BR|        BR|false|   0.0|\n",
      "|            Aplenkur|         Haplincourt|3013968|3013968|     LATIN|     LATIN|        FR|        FR| true|   1.0|\n",
      "|              Lor'er|            LAuriera|6455317|6455317|     LATIN|     LATIN|        FR|        FR| true|   1.0|\n",
      "|        La Tuilliere|        Latronquiere|3006094|3006129|     LATIN|     LATIN|        FR|        FR|false|   0.0|\n",
      "|               Islay|           ai la dao|2646017|2646017|     LATIN|     LATIN|        GB|        GB| true|   1.0|\n",
      "|                btlr|              Batler|4052726|4052726|     LATIN|     LATIN|        US|        US| true|   1.0|\n",
      "|         La Chapelle|La Chapelle-d'Ala...|3010379|3010379|     LATIN|     LATIN|        FR|        FR| true|   1.0|\n",
      "|      ma er li cheng|            Marliens|2995653|2995663|     LATIN|     LATIN|        FR|        FR|false|   0.0|\n",
      "|            morujinu|                Mory|2991630|2991631|     LATIN|     LATIN|        FR|        FR|false|   0.0|\n",
      "|             Varaire|              Vajlat|6434941|6434942|     LATIN|     LATIN|        FR|        FR|false|   0.0|\n",
      "|            Guayameo|        Paso de Cana|4026847|4026855|     LATIN|     LATIN|        MX|        MX|false|   0.0|\n",
      "|   Río Agua Caliente|     González Ortega|9270788|9270802|     LATIN|     LATIN|        MX|        MX|false|   0.0|\n",
      "|        San Geronimo|        San Gerónimo|3519084|3519084|     LATIN|     LATIN|        MX|        MX| true|   1.0|\n",
      "|     Sant-Jili-Plijo|sheng ji lai pu l...|6429132|6429132|     LATIN|     LATIN|        FR|        FR| true|   1.0|\n",
      "|  Sierra El Segarrón|  Sierra El Segarron|2518109|2518109|     LATIN|     LATIN|        ES|        ES| true|   1.0|\n",
      "|Ribeirao Sao Lour...|        Corrego Azul|3471260|3471260|     LATIN|     LATIN|        BR|        BR| true|   1.0|\n",
      "|             Gresieu|   Grezieu-le-Marche|3014715|3014715|     LATIN|     LATIN|        FR|        FR| true|   1.0|\n",
      "|Fazenda Sao Domingos|Barra do São Cris...|3449301|3449305|     LATIN|     LATIN|        BR|        BR|false|   0.0|\n",
      "|      Neuküstrinchen|         Noj-Kozenov|2864651|2864679|     LATIN|     LATIN|        DE|        DE|false|   0.0|\n",
      "|           Sai-Cinza|        Ilha Sacuíta|3389971|3389978|     LATIN|     LATIN|        BR|        BR|false|   0.0|\n",
      "|           Leoncillo|        Isla de Leon|2515074|2515078|     LATIN|     LATIN|        ES|        ES|false|   0.0|\n",
      "|                Grju|             ge lu e|6445130|6445130|     LATIN|     LATIN|        FR|        FR| true|   1.0|\n",
      "|        Bodenkirkhen|          bwdnkyrshn|2947125|2947125|     LATIN|     LATIN|        DE|        DE| true|   1.0|\n",
      "|Arroyo Cajón Colo...|Arroyo Cajon Colo...|3971375|3971375|     LATIN|     LATIN|        MX|        MX| true|   1.0|\n",
      "|    Río de los Loera|             Saucedo|3998386|3998394|     LATIN|     LATIN|        MX|        MX|false|   0.0|\n",
      "|          jia tai ji|               kyari|4886716|4886738|     LATIN|     LATIN|        US|        US|false|   0.0|\n",
      "|    São Luís Casianã|            São Luís|3662269|3662274|     LATIN|     LATIN|        BR|        BR|false|   0.0|\n",
      "|             Medison|Madison County i ...|5072532|5072535|     LATIN|     LATIN|        US|        US|false|   0.0|\n",
      "|         Saint-Agnan|           Montagnan|2981909|2981909|     LATIN|     LATIN|        FR|        FR| true|   1.0|\n",
      "|         Allmersbach|              Aspakh|6555510|6555510|     LATIN|     LATIN|        DE|        DE| true|   1.0|\n",
      "|           Beuvronne|  Le Beuvron Rivière|3032904|3032906|     LATIN|     LATIN|        FR|        FR|false|   0.0|\n",
      "|Stazione di Merge...|Stazione Napoli M...|3172386|3172386|     LATIN|     LATIN|        IT|        IT| true|   1.0|\n",
      "|  Friedeburgerhuette|        fu li de bao|2924787|2924788|     LATIN|     LATIN|        DE|        DE|false|   0.0|\n",
      "|        El Negralejo|          Ehl'-Molar|3123408|3123421|     LATIN|     LATIN|        ES|        ES|false|   0.0|\n",
      "|            Guascaro|            Guáscaro|4005214|4005214|     LATIN|     LATIN|        MX|        MX| true|   1.0|\n",
      "|               Muñoz|       Dos Arbolitos|3974859|3974859|     LATIN|     LATIN|        MX|        MX| true|   1.0|\n",
      "| Pontecagnano Faiano|        Pontecagnano|3170292|3170293|     LATIN|     LATIN|        IT|        IT|false|   0.0|\n",
      "|     Barra de Viçosa|   Recifes da Vicosa|3445129|3445129|     LATIN|     LATIN|        BR|        BR| true|   1.0|\n",
      "| Rio Pedra de Amolar|Ribeirão Pedra de...|3392575|3392575|     LATIN|     LATIN|        BR|        BR| true|   1.0|\n",
      "|             La Cruz|      Rancho La Cruz|3525916|3525916|     LATIN|     LATIN|        MX|        MX| true|   1.0|\n",
      "|             Mixquic|  San Andres Mixquic|3523124|3523124|     LATIN|     LATIN|        MX|        MX| true|   1.0|\n",
      "|            Klakamas|          aden'akedo|7260677|7260806|     LATIN|     LATIN|        US|        US|false|   0.0|\n",
      "|               Lacon|               lakwn|4898920|4898920|     LATIN|     LATIN|        US|        US| true|   1.0|\n",
      "|              Pocoes|            Turvania|3445904|3445904|     LATIN|     LATIN|        BR|        BR| true|   1.0|\n",
      "|   Arroyo del Nataje|     Arroyo del Buey|4016554|4016554|     LATIN|     LATIN|        MX|        MX| true|   1.0|\n",
      "|     Gran Estero Bay|     Gran Estero Bai|3433671|3433671|     LATIN|     LATIN|        AR|        AR| true|   1.0|\n",
      "|   mo mo er suo fang|        Mammelshoffe|6441219|6441219|     LATIN|     LATIN|        FR|        FR| true|   1.0|\n",
      "|    te lei si ke dao|        sandou~itchi|7295842|7295866|     LATIN|     LATIN|        GB|        GB|false|   0.0|\n",
      "|           Rio Pedra|          Rio Muquem|3456515|3456515|     LATIN|     LATIN|        BR|        BR| true|   1.0|\n",
      "|Castaneale Casale...|ka si tai luo di ...|6538169|6538170|     LATIN|     LATIN|        IT|        IT|false|   0.0|\n",
      "|       kaswrat brymw|    Casola di Napoli|3179809|3179832|     LATIN|     LATIN|        IT|        IT|false|   0.0|\n",
      "|         Ottershagen|        Oettershagen|2856002|2856002|     LATIN|     LATIN|        DE|        DE| true|   1.0|\n",
      "|                 BYO|Aeropuerto de Bonito|8260787|8260787|     LATIN|     LATIN|        BR|        BR| true|   1.0|\n",
      "|      San Juan Actún|               Actún|3518741|3518741|     LATIN|     LATIN|        MX|        MX| true|   1.0|\n",
      "|     Rubha an Ridire|            Loch Rue|2639369|2639377|     LATIN|     LATIN|        GB|        GB|false|   0.0|\n",
      "|            Montancy|            Montansi|6429884|6429884|     LATIN|     LATIN|        FR|        FR| true|   1.0|\n",
      "|          Valparaiso|                Waco|5081041|5081222|     LATIN|     LATIN|        US|        US|false|   0.0|\n",
      "|                 BVS|    Carauari Airport|7730891|7730901|     LATIN|     LATIN|        BR|        BR|false|   0.0|\n",
      "+--------------------+--------------------+-------+-------+----------+----------+----------+----------+-----+------+\n",
      "only showing top 100 rows\n",
      "\n"
     ]
    }
   ],
   "source": [
    "geonames_pairs_es.orderBy(rand()).show(100)"
   ]
  },
  {
   "cell_type": "markdown",
   "id": "0c853998-de01-4ee0-b2dd-88486dd74781",
   "metadata": {},
   "source": [
    "# 2. Function to normalize names"
   ]
  },
  {
   "cell_type": "markdown",
   "id": "4151d55b-eea0-4f85-9eb3-546b6fe96cd8",
   "metadata": {},
   "source": [
    "Requirements:\n",
    "\n",
    "* Transform to unicode characters (utf-8)\n",
    "* remove whitespaces"
   ]
  },
  {
   "cell_type": "code",
   "execution_count": 9,
   "id": "5a80a74d-63b6-4c7c-9aa5-952c4edca331",
   "metadata": {},
   "outputs": [],
   "source": [
    "def normalize_characters(text: str) -> str:\n",
    "    \n",
    "    if text is None:\n",
    "        return ''\n",
    "\n",
    "    strange_char_space = r\"!#$%&()*+,./:;<=>?@[\\]^_{|}~ºª®-\"\n",
    "    char_2_remove = \"\\\"'^`\"\n",
    "    space_mask = \"                                \"\n",
    "    punctuation_table = str.maketrans(strange_char_space, space_mask,\n",
    "                                        char_2_remove)\n",
    "    text = text.lower()\n",
    "    text = text.strip()\n",
    "    text = unidecode(text)\n",
    "    text = text.translate(punctuation_table)\n",
    "    text = re.sub(r' +', ' ', text)\n",
    "    text = text.strip()\n",
    "    text = text.lower()\n",
    "\n",
    "    return text\n",
    "\n",
    "udf_normalize_chars = udf(normalize_characters)"
   ]
  },
  {
   "cell_type": "code",
   "execution_count": 10,
   "id": "6a48c848-5dbf-4a6c-afeb-f9593c95d5d7",
   "metadata": {},
   "outputs": [],
   "source": [
    "geonames_normalized = geonames_pairs_es.withColumn('name_1_normalized', udf_normalize_chars(col('name_1'))) \\\n",
    "                .withColumn('name_2_normalized', udf_normalize_chars(col('name_2')))"
   ]
  },
  {
   "cell_type": "markdown",
   "id": "843e9da3-86ac-4b4f-9e41-c01d83bc8469",
   "metadata": {},
   "source": [
    "# 3. Function to generate vocabulary"
   ]
  },
  {
   "cell_type": "code",
   "execution_count": 11,
   "id": "4879fcf5-a024-4dad-8100-a505fe3c55a9",
   "metadata": {},
   "outputs": [],
   "source": [
    "def get_unique_characters(string: str) -> list:\n",
    "\n",
    "    unique_characters = list(set(string))\n",
    "    return unique_characters\n",
    "\n",
    "udf_get_unique_characters = udf(get_unique_characters, ArrayType(StringType()))\n",
    "\n",
    "\n",
    "def compute_max_word_len(string: str) -> int:\n",
    "    return max([len(word) for word in string.split(' ')])\n",
    "\n",
    "udf_compute_max_word_len = udf(compute_max_word_len)\n",
    "\n",
    "def compute_token_count(string: str) -> int:\n",
    "    return len([word for word in string.split(' ')])\n",
    "\n",
    "udf_compute_token_count = udf(compute_token_count)"
   ]
  },
  {
   "cell_type": "code",
   "execution_count": 12,
   "id": "8579c47b-2115-4acf-b6dd-c08257bf8f23",
   "metadata": {},
   "outputs": [],
   "source": [
    "geonames_characters = geonames_normalized.withColumn('unique_characters_1', udf_get_unique_characters(col('name_1_normalized'))) \\\n",
    "                                        .withColumn('unique_characters_2', udf_get_unique_characters(col('name_2_normalized'))) \\\n",
    "                                        .withColumn('unique_characters', array_distinct(concat(col('unique_characters_1'), col('unique_characters_2')))) \\\n",
    "                                        .withColumn('max_word_len_1', udf_compute_max_word_len(col('name_1_normalized')).cast(FloatType())) \\\n",
    "                                        .withColumn('max_word_len_2', udf_compute_max_word_len(col('name_2_normalized')).cast(FloatType())) \\\n",
    "                                        .withColumn('max_token_num_1', udf_compute_token_count(col('name_1_normalized')).cast(FloatType())) \\\n",
    "                                        .withColumn('max_token_num_2', udf_compute_token_count(col('name_2_normalized')).cast(FloatType())) \\\n",
    "                                        .withColumn('max_len_1', length(col('name_1_normalized')).cast(FloatType())) \\\n",
    "                                        .withColumn('max_len_2', length(col('name_2_normalized')).cast(FloatType()))"
   ]
  },
  {
   "cell_type": "code",
   "execution_count": 13,
   "id": "ab8f18d7-4089-42dc-a886-f50759d78518",
   "metadata": {},
   "outputs": [],
   "source": [
    "geonames_char_list = geonames_characters.groupBy().agg(\n",
    "    array_distinct(flatten(collect_set(col('unique_characters')))).alias('char_list'),\n",
    "    F.max(col('max_word_len_1')).alias('max_len_1'),\n",
    "    F.max(col('max_word_len_2')).alias('max_len_2'),\n",
    "    F.max(col('max_token_num_2')).alias('max_num_2'),\n",
    "    F.max(col('max_token_num_1')).alias('max_num_1'),\n",
    "    F.max(col('max_len_1')).alias('max_len_1'),\n",
    "    F.max(col('max_len_2')).alias('max_len_1')\n",
    ")"
   ]
  },
  {
   "cell_type": "code",
   "execution_count": 14,
   "id": "0c646bef-36bb-4044-a39e-2451a4643812",
   "metadata": {},
   "outputs": [
    {
     "name": "stderr",
     "output_type": "stream",
     "text": [
      "[Stage 9:==========================================>              (12 + 4) / 16]\r"
     ]
    },
    {
     "name": "stdout",
     "output_type": "stream",
     "text": [
      "+--------------------+---------+---------+---------+---------+---------+---------+\n",
      "|           char_list|max_len_1|max_len_2|max_num_2|max_num_1|max_len_1|max_len_1|\n",
      "+--------------------+---------+---------+---------+---------+---------+---------+\n",
      "|[n, o, r, a, i, t...|     27.0|     58.0|     18.0|     16.0|     96.0|    111.0|\n",
      "+--------------------+---------+---------+---------+---------+---------+---------+\n",
      "\n"
     ]
    },
    {
     "name": "stderr",
     "output_type": "stream",
     "text": [
      "                                                                                \r"
     ]
    }
   ],
   "source": [
    "geonames_char_list.show()"
   ]
  },
  {
   "cell_type": "code",
   "execution_count": 15,
   "id": "2c7c39dd-51f2-4c32-83e8-375848c3ae6f",
   "metadata": {},
   "outputs": [
    {
     "name": "stderr",
     "output_type": "stream",
     "text": [
      "                                                                                \r"
     ]
    }
   ],
   "source": [
    "characters_list = geonames_char_list.rdd.map(lambda x: x.char_list).collect()[0]\n",
    "sorted_char_list = sorted(characters_list)"
   ]
  },
  {
   "cell_type": "markdown",
   "id": "b87c9a47-d5dd-419d-a0a3-3e3356a3b8d7",
   "metadata": {},
   "source": [
    "# 4. One Hot encoder"
   ]
  },
  {
   "cell_type": "code",
   "execution_count": 16,
   "id": "6edd9435-5664-4ccf-a1ab-9209d8576c46",
   "metadata": {},
   "outputs": [],
   "source": [
    "char_to_index = {char: index+1 for index, char in enumerate(sorted_char_list)}\n",
    "index_to_char = {index: char for char, index in char_to_index.items()}\n",
    "MAX_WORD_LENGTH = 16\n",
    "MAX_TOKEN_NUMBER = 8\n",
    "MAX_NAME_LEN = 100"
   ]
  },
  {
   "cell_type": "code",
   "execution_count": 17,
   "id": "a2cc8fc2-1c79-4b8d-8528-c9ffdeed5eef",
   "metadata": {},
   "outputs": [
    {
     "data": {
      "text/html": [
       "<pre style=\"white-space:pre;overflow-x:auto;line-height:normal;font-family:Menlo,'DejaVu Sans Mono',consolas,'Courier New',monospace\"></pre>\n"
      ],
      "text/plain": []
     },
     "metadata": {},
     "output_type": "display_data"
    },
    {
     "data": {
      "text/plain": [
       "\n",
       "\u001b[1m{\u001b[0m\n",
       "    \u001b[32m' '\u001b[0m: \u001b[1;36m1\u001b[0m,\n",
       "    \u001b[32m'0'\u001b[0m: \u001b[1;36m2\u001b[0m,\n",
       "    \u001b[32m'1'\u001b[0m: \u001b[1;36m3\u001b[0m,\n",
       "    \u001b[32m'2'\u001b[0m: \u001b[1;36m4\u001b[0m,\n",
       "    \u001b[32m'3'\u001b[0m: \u001b[1;36m5\u001b[0m,\n",
       "    \u001b[32m'4'\u001b[0m: \u001b[1;36m6\u001b[0m,\n",
       "    \u001b[32m'5'\u001b[0m: \u001b[1;36m7\u001b[0m,\n",
       "    \u001b[32m'6'\u001b[0m: \u001b[1;36m8\u001b[0m,\n",
       "    \u001b[32m'7'\u001b[0m: \u001b[1;36m9\u001b[0m,\n",
       "    \u001b[32m'8'\u001b[0m: \u001b[1;36m10\u001b[0m,\n",
       "    \u001b[32m'9'\u001b[0m: \u001b[1;36m11\u001b[0m,\n",
       "    \u001b[32m'a'\u001b[0m: \u001b[1;36m12\u001b[0m,\n",
       "    \u001b[32m'b'\u001b[0m: \u001b[1;36m13\u001b[0m,\n",
       "    \u001b[32m'c'\u001b[0m: \u001b[1;36m14\u001b[0m,\n",
       "    \u001b[32m'd'\u001b[0m: \u001b[1;36m15\u001b[0m,\n",
       "    \u001b[32m'e'\u001b[0m: \u001b[1;36m16\u001b[0m,\n",
       "    \u001b[32m'f'\u001b[0m: \u001b[1;36m17\u001b[0m,\n",
       "    \u001b[32m'g'\u001b[0m: \u001b[1;36m18\u001b[0m,\n",
       "    \u001b[32m'h'\u001b[0m: \u001b[1;36m19\u001b[0m,\n",
       "    \u001b[32m'i'\u001b[0m: \u001b[1;36m20\u001b[0m,\n",
       "    \u001b[32m'j'\u001b[0m: \u001b[1;36m21\u001b[0m,\n",
       "    \u001b[32m'k'\u001b[0m: \u001b[1;36m22\u001b[0m,\n",
       "    \u001b[32m'l'\u001b[0m: \u001b[1;36m23\u001b[0m,\n",
       "    \u001b[32m'm'\u001b[0m: \u001b[1;36m24\u001b[0m,\n",
       "    \u001b[32m'n'\u001b[0m: \u001b[1;36m25\u001b[0m,\n",
       "    \u001b[32m'o'\u001b[0m: \u001b[1;36m26\u001b[0m,\n",
       "    \u001b[32m'p'\u001b[0m: \u001b[1;36m27\u001b[0m,\n",
       "    \u001b[32m'q'\u001b[0m: \u001b[1;36m28\u001b[0m,\n",
       "    \u001b[32m'r'\u001b[0m: \u001b[1;36m29\u001b[0m,\n",
       "    \u001b[32m's'\u001b[0m: \u001b[1;36m30\u001b[0m,\n",
       "    \u001b[32m't'\u001b[0m: \u001b[1;36m31\u001b[0m,\n",
       "    \u001b[32m'u'\u001b[0m: \u001b[1;36m32\u001b[0m,\n",
       "    \u001b[32m'v'\u001b[0m: \u001b[1;36m33\u001b[0m,\n",
       "    \u001b[32m'w'\u001b[0m: \u001b[1;36m34\u001b[0m,\n",
       "    \u001b[32m'x'\u001b[0m: \u001b[1;36m35\u001b[0m,\n",
       "    \u001b[32m'y'\u001b[0m: \u001b[1;36m36\u001b[0m,\n",
       "    \u001b[32m'z'\u001b[0m: \u001b[1;36m37\u001b[0m\n",
       "\u001b[1m}\u001b[0m"
      ]
     },
     "execution_count": 17,
     "metadata": {},
     "output_type": "execute_result"
    }
   ],
   "source": [
    "char_to_index"
   ]
  },
  {
   "cell_type": "code",
   "execution_count": 18,
   "id": "4be74622-e88c-44b9-b0b5-95e09b52251c",
   "metadata": {},
   "outputs": [],
   "source": [
    "def one_hot_encoder(string: str, char_to_index_dict: dict) -> np.array:\n",
    "\n",
    "    vocabulary_size = len(char_to_index_dict.keys())\n",
    "    vector = np.zeros(vocabulary_size)\n",
    "    for char in string:\n",
    "        vector[char_to_index[char]-1] = 1 \n",
    "    return vector\n",
    "\n",
    "def encode_name_list(iterable: iter, char_to_index_dict: dict) -> np.array:\n",
    "\n",
    "    return np.array([one_hot_encoder(string, char_to_index_dict) for string in iterable])\n",
    "\n",
    "def check_chars_OOV(string: str, char_to_index_dict: dict) -> bool:\n",
    "\n",
    "    vocabulary = char_to_index_dict.keys()\n",
    "    return all([char in vocabulary for char in string])\n",
    "\n",
    "def name_matrix_encoder(string: iter, char_to_index_dict: dict, max_word_length:int, max_token_number:int) -> np.array :\n",
    "\n",
    "    representation_matrix = np.zeros(shape=(max_token_number, max_word_length))\n",
    "    for token_ind, token in enumerate(string.split(' ')):\n",
    "        for char_ind, char in enumerate(token):\n",
    "            try:\n",
    "                representation_matrix[token_ind][char_ind] = char_to_index[char]\n",
    "            except IndexError:\n",
    "                continue\n",
    "    return representation_matrix\n",
    "\n",
    "def sparse_encoder(string: str, char_to_index_dict: dict, max_len: int) -> np.array:\n",
    "\n",
    "    vector = np.zeros(max_len)\n",
    "    for ind, char in enumerate(string):\n",
    "        if ind>=max_len:\n",
    "            break\n",
    "        vector[ind] = char_to_index[char]\n",
    "    return vector\n",
    "\n",
    "def encode_sparsed_list(iterable: iter, char_to_index_dict: dict, max_len: int) -> np.array:\n",
    "    \n",
    "    return np.array([sparse_encoder(string, char_to_index_dict, max_len) for string in iterable])\n"
   ]
  },
  {
   "cell_type": "code",
   "execution_count": 19,
   "id": "03ef1167-5181-44e8-9b95-30ac5a746557",
   "metadata": {},
   "outputs": [],
   "source": [
    "from keras.activations import relu\n",
    "    \n",
    "def custom_standardization(input_data):\n",
    "    lowercase     = tf.strings.lower(input_data)\n",
    "    stripped_html = tf.strings.regex_replace(lowercase, \"<br />\", \" \")\n",
    "    stripped_punc = tf.strings.regex_replace(stripped_html, \n",
    "                             \"[%s]\" % re.escape(string.punctuation), \"\")\n",
    "    return stripped_punc\n",
    "    \n",
    "def char_split(input_data):\n",
    "  return tf.strings.unicode_split(input_data, 'UTF-8')\n",
    "\n",
    "\n",
    "def get_conv_pool(x_input, max_len, suffix, n_grams=[8,16, 32], feature_maps=128): #[2,3,5,10]\n",
    "    branches = []\n",
    "    for n in n_grams:\n",
    "        branch = tf.keras.layers.Conv1D(filters=feature_maps, kernel_size=n, activation=relu,\n",
    "                        name='Conv_' + suffix + '_' + str(n))(x_input)\n",
    "        branch = tf.keras.layers.MaxPooling1D(pool_size=n, #max_len - n + 1\n",
    "                                              strides=None, padding='valid',\n",
    "                              name='MaxPooling_' + suffix + '_' + str(n))(branch)\n",
    "        branch = tf.keras.layers.Flatten(name='Flatten_' + suffix + '_' + str(n))(branch)\n",
    "        branches.append(branch)\n",
    "    return branches\n",
    "\n",
    "class poiNames_C2V:\n",
    "    \n",
    "    def __init__(self, embedding_dim:int, char_to_index:dict):\n",
    "\n",
    "        self.char_to_index = char_to_index\n",
    "        self.index_to_char = {char_to_index[char]: char for char in char_to_index}\n",
    "        self.input_size = MAX_NAME_LEN\n",
    "        self.embedding_dim = embedding_dim\n",
    "        self.vocabulary_size = len(char_to_index)\n",
    "\n",
    "        input_sequence = tf.keras.layers.Input(shape=self.input_size, name='input_sequence')\n",
    "        # x = tf.keras.layers.Masking(mask_value=0)(input_sequence)\n",
    "        x = tf.keras.layers.Embedding(input_dim=self.input_size, output_dim=self.embedding_dim, mask_zero=True)(input_sequence)\n",
    "        self.embedding_layer = tf.keras.models.Model(inputs=[input_sequence], outputs=x)\n",
    "\n",
    "        sequences_emb = self.embedding_layer(input_sequence)\n",
    "        \n",
    "        conv1 = tf.keras.layers.Conv1D(filters=64, kernel_size=16, activation=relu,\n",
    "                        name='Conv_32')(sequences_emb)\n",
    "        pool1 = tf.keras.layers.MaxPooling1D(pool_size=8, #max_len - n + 1\n",
    "                                              strides=2, padding='valid',\n",
    "                                              name='MaxPooling_32')(conv1)\n",
    "        conv2 = tf.keras.layers.Conv1D(filters=64, kernel_size=4, activation=relu,\n",
    "                                        name='Conv_4')(pool1)\n",
    "        pool2 = tf.keras.layers.MaxPooling1D(pool_size=2, #max_len - n + 1\n",
    "                                              strides=1, padding='valid',\n",
    "                                              name='MaxPooling_4')(conv2)\n",
    "        features = tf.keras.layers.Flatten(name='Flatten')(pool2)\n",
    "        self.features_layer = tf.keras.models.Model(inputs=[input_sequence], outputs=features)\n",
    "        \n",
    "        \n",
    "        left_branch_input = tf.keras.layers.Input(shape=(self.input_size, 1), name='left_branch_input')\n",
    "        right_branch_input = tf.keras.layers.Input(shape=(self.input_size, 1),name='right_branch_input')\n",
    "\n",
    "        left_branch_features = self.features_layer(left_branch_input)\n",
    "        right_branch_features = self.features_layer(right_branch_input)\n",
    "        \n",
    "        features_attention_seq = tf.keras.layers.AdditiveAttention()([left_branch_features, right_branch_features])\n",
    "        product_layer = tf.keras.layers.Multiply()([left_branch_features, right_branch_features])\n",
    "        difference_layer = tf.keras.layers.Subtract()([left_branch_features, right_branch_features])\n",
    "        concat_layer = tf.keras.layers.Concatenate(axis=1)([left_branch_features, right_branch_features])\n",
    "        \n",
    "        representation_layer = tf.keras.layers.Concatenate(axis=1)([\n",
    "                                                                    concat_layer, product_layer, difference_layer, features_attention_seq\n",
    "                                                                    ])\n",
    "        x = tf.keras.layers.Dense(1024, activation='relu')(representation_layer)\n",
    "        x = tf.keras.layers.Dropout(0.5)(x)\n",
    "        x = tf.keras.layers.Dense(1024, activation='relu')(x)\n",
    "        x = tf.keras.layers.Dropout(0.5)(x)\n",
    "        x = tf.keras.layers.Dense(1024, activation='relu')(x)\n",
    "        model_output = tf.keras.layers.Dense(1, activation='sigmoid')(x)\n",
    "        \n",
    "        self.model = tf.keras.models.Model(inputs=[left_branch_input, right_branch_input], outputs=model_output)\n",
    "        self.model.compile(loss='binary_crossentropy', optimizer='adam', metrics=['accuracy',\n",
    "                                                              tf.keras.metrics.Precision(),\n",
    "                                                              tf.keras.metrics.Recall()])\n",
    "        \n",
    "    def fit(\n",
    "        self, name_pairs, target, max_epochs:int, patience:int, validation_split:float, batch_size:int, callbacks: iter):\n",
    "        \n",
    "        X1 = encode_sparsed_list(name_pairs[:, 0],char_to_index_dict=self.char_to_index, max_len=MAX_NAME_LEN)\n",
    "        X2 = encode_sparsed_list(name_pairs[:, 1], char_to_index_dict=self.char_to_index, max_len=MAX_NAME_LEN)\n",
    "        X1 = np.expand_dims(X1, axis=-1)\n",
    "        X2 = np.expand_dims(X2, axis=-1)\n",
    "        X1_pad = tf.keras.preprocessing.sequence.pad_sequences(X1)\n",
    "        X2_pad = tf.keras.preprocessing.sequence.pad_sequences(X2)\n",
    "        \n",
    "        self.model.fit((X1_pad, X2_pad), target,verbose=1,\n",
    "                    batch_size=batch_size, epochs=max_epochs,\n",
    "                    validation_split=validation_split,\n",
    "                    callbacks=[tf.keras.callbacks.EarlyStopping(monitor='val_loss', patience=patience)]\n",
    "                            + callbacks)\n",
    "\n",
    "\n",
    "    def save_model(self, path_to_model):\n",
    "        '''\n",
    "        Saves trained model to directory.\n",
    "    \n",
    "        :param path_to_model: str, path to save model.\n",
    "        '''\n",
    "    \n",
    "        if not os.path.exists(path_to_model):\n",
    "            os.makedirs(path_to_model)\n",
    "        \n",
    "        self.model.save_weights(path_to_model + '/weights.h5')\n",
    "    \n",
    "        with open(path_to_model + '/model.pkl', 'wb') as f:\n",
    "            pickle.dump([self.embedding_dim, self.char_to_index], f, protocol=2)\n",
    "\n",
    "\n",
    "    def load_model(self, path):\n",
    "        '''\n",
    "        Loads trained model.\n",
    "    \n",
    "        :param path: loads model from `path`.\n",
    "    \n",
    "        :return c2v_model: Chars2Vec object, trained model.\n",
    "        '''\n",
    "        path_to_model = path\n",
    "    \n",
    "        with open(path_to_model + '/model.pkl', 'rb') as f:\n",
    "            structure = pickle.load(f)\n",
    "            embedding_dim, char_to_index = structure[0], structure[1]\n",
    "    \n",
    "        model = poiNames_C2V(embedding_dim=embedding_dim, char_to_index=char_to_index)\n",
    "        model.model.load_weights(path_to_model + '/weights.h5')\n",
    "        model.model.compile(optimizer='adam', loss='mae')\n",
    "    \n",
    "        return model\n",
    "\n",
    "\n",
    "    def vectorize(self, iterable: iter) -> np.array:\n",
    "        \n",
    "        X = encode_sparsed_list(iterable,char_to_index_dict=self.char_to_index)\n",
    "        X = np.expand_dims(X, axis=-1)\n",
    "        X_pad = tf.keras.preprocessing.sequence.pad_sequences(X)\n",
    "\n",
    "        return X_pad\n",
    "        "
   ]
  },
  {
   "cell_type": "code",
   "execution_count": 20,
   "id": "d1b3f634-c81c-4447-906e-2575f66be0f4",
   "metadata": {},
   "outputs": [
    {
     "name": "stderr",
     "output_type": "stream",
     "text": [
      "2023-08-22 16:27:04.272351: I tensorflow/core/platform/cpu_feature_guard.cc:193] This TensorFlow binary is optimized with oneAPI Deep Neural Network Library (oneDNN) to use the following CPU instructions in performance-critical operations:  AVX2 AVX512F AVX512_VNNI FMA\n",
      "To enable them in other operations, rebuild TensorFlow with the appropriate compiler flags.\n"
     ]
    }
   ],
   "source": [
    "poi_c2v = poiNames_C2V(150, char_to_index)"
   ]
  },
  {
   "cell_type": "code",
   "execution_count": 143,
   "id": "01dd7a87-0ac4-477f-8893-36dc8b85ded3",
   "metadata": {},
   "outputs": [
    {
     "name": "stdout",
     "output_type": "stream",
     "text": [
      "Model: \"model_18\"\n",
      "__________________________________________________________________________________________________\n",
      " Layer (type)                   Output Shape         Param #     Connected to                     \n",
      "==================================================================================================\n",
      " left_branch_input (InputLayer)  [(None, 100, 1)]    0           []                               \n",
      "                                                                                                  \n",
      " right_branch_input (InputLayer  [(None, 100, 1)]    0           []                               \n",
      " )                                                                                                \n",
      "                                                                                                  \n",
      " model_17 (Functional)          (None, 2240)         185112      ['left_branch_input[0][0]',      \n",
      "                                                                  'right_branch_input[0][0]']     \n",
      "                                                                                                  \n",
      " concatenate_9 (Concatenate)    (None, 4480)         0           ['model_17[0][0]',               \n",
      "                                                                  'model_17[1][0]']               \n",
      "                                                                                                  \n",
      " multiply_4 (Multiply)          (None, 2240)         0           ['model_17[0][0]',               \n",
      "                                                                  'model_17[1][0]']               \n",
      "                                                                                                  \n",
      " subtract_4 (Subtract)          (None, 2240)         0           ['model_17[0][0]',               \n",
      "                                                                  'model_17[1][0]']               \n",
      "                                                                                                  \n",
      " additive_attention_4 (Additive  (None, 2240)        2240        ['model_17[0][0]',               \n",
      " Attention)                                                       'model_17[1][0]']               \n",
      "                                                                                                  \n",
      " concatenate_10 (Concatenate)   (None, 11200)        0           ['concatenate_9[0][0]',          \n",
      "                                                                  'multiply_4[0][0]',             \n",
      "                                                                  'subtract_4[0][0]',             \n",
      "                                                                  'additive_attention_4[0][0]']   \n",
      "                                                                                                  \n",
      " dense_12 (Dense)               (None, 1024)         11469824    ['concatenate_10[0][0]']         \n",
      "                                                                                                  \n",
      " dropout_7 (Dropout)            (None, 1024)         0           ['dense_12[0][0]']               \n",
      "                                                                                                  \n",
      " dense_13 (Dense)               (None, 1024)         1049600     ['dropout_7[0][0]']              \n",
      "                                                                                                  \n",
      " dropout_8 (Dropout)            (None, 1024)         0           ['dense_13[0][0]']               \n",
      "                                                                                                  \n",
      " dense_14 (Dense)               (None, 1024)         1049600     ['dropout_8[0][0]']              \n",
      "                                                                                                  \n",
      " dense_15 (Dense)               (None, 1)            1025        ['dense_14[0][0]']               \n",
      "                                                                                                  \n",
      "==================================================================================================\n",
      "Total params: 13,757,401\n",
      "Trainable params: 13,757,401\n",
      "Non-trainable params: 0\n",
      "__________________________________________________________________________________________________\n"
     ]
    }
   ],
   "source": [
    "poi_c2v.model.summary()"
   ]
  },
  {
   "cell_type": "markdown",
   "id": "4c665c4c-96ae-41fb-a6b5-47ab07a472d5",
   "metadata": {},
   "source": [
    "## Data Preparation"
   ]
  },
  {
   "cell_type": "code",
   "execution_count": 34,
   "id": "218631cf-b5e2-4099-8451-6a809002d04f",
   "metadata": {},
   "outputs": [
    {
     "name": "stderr",
     "output_type": "stream",
     "text": [
      "                                                                                \r"
     ]
    }
   ],
   "source": [
    "name_pairs = geonames_characters.select('name_1_normalized', 'name_2_normalized').toPandas().values\n",
    "target = geonames_characters.select(col('target')).toPandas().astype(float).values"
   ]
  },
  {
   "cell_type": "markdown",
   "id": "ab21a6c4-b5b9-4d83-bd6c-6524d7d19970",
   "metadata": {},
   "source": [
    "# Orbis data preparation"
   ]
  },
  {
   "cell_type": "code",
   "execution_count": 35,
   "id": "1f144ba7-7893-411d-b51f-4627de35127f",
   "metadata": {},
   "outputs": [],
   "source": [
    "orbis_data = pd.read_csv('../../data/01_raw/tomtom/orbis/alt_names/GB/planet_osm_point_202308151142.csv')\n",
    "orbis_data['name'] = orbis_data['name'].apply(lambda x: normalize_characters(x))\n",
    "orbis_data['alt_name'] = orbis_data['alt_name'].apply(lambda x: normalize_characters(x))\n",
    "orbis_data['target'] = 1"
   ]
  },
  {
   "cell_type": "code",
   "execution_count": 36,
   "id": "d323ad72-791b-48d6-a1de-5c67203bb2f9",
   "metadata": {},
   "outputs": [],
   "source": [
    "pos_name_pairs = orbis_data[['name', 'alt_name']].values\n",
    "neg_name_pairs = orbis_data[['name', 'alt_name']].values.copy()\n",
    "pos_target = orbis_data['target'].values\n",
    "neg_target = np.zeros(len(neg_name_pairs))"
   ]
  },
  {
   "cell_type": "code",
   "execution_count": 37,
   "id": "02ec9a44-31c5-420a-add5-31aee91363ac",
   "metadata": {},
   "outputs": [],
   "source": [
    "np.random.shuffle(neg_name_pairs[:, 0])"
   ]
  },
  {
   "cell_type": "code",
   "execution_count": 38,
   "id": "e8c99e52-bb06-434a-aa37-67980313e665",
   "metadata": {},
   "outputs": [],
   "source": [
    "name_pairs_orbis = np.concatenate((neg_name_pairs, pos_name_pairs))\n",
    "target_orbis = np.concatenate((neg_target, pos_target))"
   ]
  },
  {
   "cell_type": "markdown",
   "id": "d9e0fb66-7b7e-492c-877d-933bb77178e7",
   "metadata": {},
   "source": [
    "# Split "
   ]
  },
  {
   "cell_type": "code",
   "execution_count": 44,
   "id": "7d3b32fe-915c-4bb6-a8a0-d15483dedc19",
   "metadata": {},
   "outputs": [],
   "source": [
    "def generate_training_data(name_pairs, target):\n",
    "    X_train, X_test, y_train, y_test = train_test_split(name_pairs, target, test_size=0.1, random_state=0)\n",
    "    print(len(X_train), len(X_test))\n",
    "    return X_train, X_test, y_train, y_test"
   ]
  },
  {
   "cell_type": "code",
   "execution_count": 45,
   "id": "dc38cc87-f18e-43a8-8e8e-fd5aa688129e",
   "metadata": {},
   "outputs": [],
   "source": [
    "all_pairs = np.concatenate([name_pairs, name_pairs_orbis, data_standard_pairs], axis=0)\n",
    "all_target = np.concatenate([target.flatten(), target_orbis, data_standard_target], axis=0).reshape(-1, 1)"
   ]
  },
  {
   "cell_type": "code",
   "execution_count": 46,
   "id": "b4ef5de4-4b8f-4ad5-acf9-ba1b4a01ca90",
   "metadata": {},
   "outputs": [
    {
     "name": "stdout",
     "output_type": "stream",
     "text": [
      "470307 52257\n"
     ]
    }
   ],
   "source": [
    "# X_train, X_test, y_train, y_test = generate_training_data(name_pairs, target)\n",
    "# X_train, X_test, y_train, y_test = generate_training_data(name_pairs_orbis, target_orbis)\n",
    "X_train, X_test, y_train, y_test = generate_training_data(all_pairs, all_target)"
   ]
  },
  {
   "cell_type": "markdown",
   "id": "a3d1cec9-47bf-4686-9d4d-b57686cdf8f9",
   "metadata": {},
   "source": [
    "# Training"
   ]
  },
  {
   "cell_type": "code",
   "execution_count": 47,
   "id": "db92441d-9144-4ffa-b704-aaa9698c00cb",
   "metadata": {},
   "outputs": [],
   "source": [
    "poi_c2v = poiNames_C2V(150, char_to_index)"
   ]
  },
  {
   "cell_type": "code",
   "execution_count": 64,
   "id": "034097da-7624-4c3d-baad-2f49e46872b5",
   "metadata": {},
   "outputs": [
    {
     "name": "stdout",
     "output_type": "stream",
     "text": [
      "Epoch 1/10000\n",
      "2940/2940 [==============================] - 866s 294ms/step - loss: 0.2661 - accuracy: 0.8905 - precision_2: 0.9007 - recall_2: 0.8751 - val_loss: 0.3023 - val_accuracy: 0.8744 - val_precision_2: 0.8961 - val_recall_2: 0.8419\n",
      "Epoch 2/10000\n",
      "2940/2940 [==============================] - 872s 297ms/step - loss: 0.2592 - accuracy: 0.8933 - precision_2: 0.9027 - recall_2: 0.8790 - val_loss: 0.2969 - val_accuracy: 0.8775 - val_precision_2: 0.9017 - val_recall_2: 0.8422\n",
      "Epoch 3/10000\n",
      "2940/2940 [==============================] - 866s 295ms/step - loss: 0.2537 - accuracy: 0.8965 - precision_2: 0.9058 - recall_2: 0.8826 - val_loss: 0.3021 - val_accuracy: 0.8766 - val_precision_2: 0.8981 - val_recall_2: 0.8444\n",
      "Epoch 4/10000\n",
      "2940/2940 [==============================] - 869s 296ms/step - loss: 0.2483 - accuracy: 0.8982 - precision_2: 0.9074 - recall_2: 0.8846 - val_loss: 0.3025 - val_accuracy: 0.8758 - val_precision_2: 0.9036 - val_recall_2: 0.8362\n"
     ]
    }
   ],
   "source": [
    "from keras.callbacks import History\n",
    "history = History()\n",
    "\n",
    "poi_c2v.fit(\n",
    "    name_pairs=X_train,\n",
    "    target=y_train,\n",
    "    validation_split=0.2,\n",
    "    max_epochs=10000,\n",
    "    patience=2,\n",
    "    batch_size=128,\n",
    "    callbacks=[history])"
   ]
  },
  {
   "cell_type": "code",
   "execution_count": 65,
   "id": "f13107f1-68ab-492c-84f2-e48c426525bc",
   "metadata": {},
   "outputs": [
    {
     "data": {
      "text/html": [
       "<pre style=\"white-space:pre;overflow-x:auto;line-height:normal;font-family:Menlo,'DejaVu Sans Mono',consolas,'Courier New',monospace\"></pre>\n"
      ],
      "text/plain": []
     },
     "metadata": {},
     "output_type": "display_data"
    },
    {
     "data": {
      "image/png": "[encoded data removed]",
      "text/plain": [
       "\u001b[1m<\u001b[0m\u001b[1;95mFigure\u001b[0m\u001b[39m size 100\u001b[0m\u001b[1;36m0x500\u001b[0m\u001b[39m with \u001b[0m\u001b[1;36m2\u001b[0m\u001b[39m Axes\u001b[0m\u001b[1m>\u001b[0m"
      ]
     },
     "metadata": {},
     "output_type": "display_data"
    }
   ],
   "source": [
    "fig, ax = plt.subplots(1, 2, figsize=(10,5))\n",
    "\n",
    "ax[0].plot(history.history['loss'])\n",
    "ax[0].plot(history.history['val_loss'])\n",
    "ax[0].set_title('Loss history')\n",
    "ax[0].legend(['Train loss', 'Validation loss'],loc='upper right')\n",
    "\n",
    "ax[1].plot(history.history['accuracy'])\n",
    "ax[1].plot(history.history['val_accuracy'])\n",
    "ax[1].set_title('Accuracy history')\n",
    "ax[1].legend(['Train accuracy', 'Validation accuracy'], loc='upper right')\n",
    "\n",
    "plt.show()"
   ]
  },
  {
   "cell_type": "code",
   "execution_count": 279,
   "id": "24f044e6-edc5-43ad-a872-ff0d799dd25e",
   "metadata": {},
   "outputs": [
    {
     "data": {
      "text/html": [
       "<pre style=\"white-space:pre;overflow-x:auto;line-height:normal;font-family:Menlo,'DejaVu Sans Mono',consolas,'Courier New',monospace\"></pre>\n"
      ],
      "text/plain": []
     },
     "metadata": {},
     "output_type": "display_data"
    },
    {
     "data": {
      "image/png": "[encoded data removed]",
      "text/plain": [
       "\u001b[1m<\u001b[0m\u001b[1;95mFigure\u001b[0m\u001b[39m size 100\u001b[0m\u001b[1;36m0x500\u001b[0m\u001b[39m with \u001b[0m\u001b[1;36m2\u001b[0m\u001b[39m Axes\u001b[0m\u001b[1m>\u001b[0m"
      ]
     },
     "metadata": {},
     "output_type": "display_data"
    }
   ],
   "source": [
    "fig, ax = plt.subplots(1, 2, figsize=(10,5))\n",
    "\n",
    "ax[0].plot(history.history['loss'])\n",
    "ax[0].plot(history.history['val_loss'])\n",
    "ax[0].set_title('Loss history')\n",
    "ax[0].legend(['Train loss', 'Validation loss'],loc='upper right')\n",
    "\n",
    "ax[1].plot(history.history['accuracy'])\n",
    "ax[1].plot(history.history['val_accuracy'])\n",
    "ax[1].set_title('Accuracy history')\n",
    "ax[1].legend(['Train accuracy', 'Validation accuracy'], loc='upper right')\n",
    "\n",
    "plt.show()"
   ]
  },
  {
   "cell_type": "code",
   "execution_count": 66,
   "id": "70d10b23-5ffa-4ec3-b795-56ae3e77c328",
   "metadata": {},
   "outputs": [],
   "source": [
    "poi_c2v.save_model('../../data/06_models/Conv-Sequential-mixed-sources-training-BEAT-EDIT-large')"
   ]
  },
  {
   "cell_type": "code",
   "execution_count": 137,
   "id": "40d26ade-3e5f-4545-9877-89441e49066c",
   "metadata": {},
   "outputs": [],
   "source": [
    "model = poi_c2v.load_model('../../data/06_models/Conv-mixed-sources-training-BEAT-EDIT-large')"
   ]
  },
  {
   "cell_type": "code",
   "execution_count": 281,
   "id": "c3c4da50-06a2-47b0-926d-aef8476c6e9c",
   "metadata": {},
   "outputs": [
    {
     "name": "stdout",
     "output_type": "stream",
     "text": [
      "Model: \"model_82\"\n",
      "__________________________________________________________________________________________________\n",
      " Layer (type)                   Output Shape         Param #     Connected to                     \n",
      "==================================================================================================\n",
      " left_branch_input (InputLayer)  [(None, 100, 1)]    0           []                               \n",
      "                                                                                                  \n",
      " right_branch_input (InputLayer  [(None, 100, 1)]    0           []                               \n",
      " )                                                                                                \n",
      "                                                                                                  \n",
      " model_81 (Functional)          (None, 2304)         1090584     ['left_branch_input[0][0]',      \n",
      "                                                                  'right_branch_input[0][0]']     \n",
      "                                                                                                  \n",
      " concatenate_70 (Concatenate)   (None, 4608)         0           ['model_81[0][0]',               \n",
      "                                                                  'model_81[1][0]']               \n",
      "                                                                                                  \n",
      " multiply_23 (Multiply)         (None, 2304)         0           ['model_81[0][0]',               \n",
      "                                                                  'model_81[1][0]']               \n",
      "                                                                                                  \n",
      " subtract_23 (Subtract)         (None, 2304)         0           ['model_81[0][0]',               \n",
      "                                                                  'model_81[1][0]']               \n",
      "                                                                                                  \n",
      " concatenate_71 (Concatenate)   (None, 9216)         0           ['concatenate_70[0][0]',         \n",
      "                                                                  'multiply_23[0][0]',            \n",
      "                                                                  'subtract_23[0][0]']            \n",
      "                                                                                                  \n",
      " dropout_37 (Dropout)           (None, 9216)         0           ['concatenate_71[0][0]']         \n",
      "                                                                                                  \n",
      " dense_88 (Dense)               (None, 1024)         9438208     ['dropout_37[0][0]']             \n",
      "                                                                                                  \n",
      " dropout_38 (Dropout)           (None, 1024)         0           ['dense_88[0][0]']               \n",
      "                                                                                                  \n",
      " dense_89 (Dense)               (None, 1024)         1049600     ['dropout_38[0][0]']             \n",
      "                                                                                                  \n",
      " dropout_39 (Dropout)           (None, 1024)         0           ['dense_89[0][0]']               \n",
      "                                                                                                  \n",
      " dense_90 (Dense)               (None, 1024)         1049600     ['dropout_39[0][0]']             \n",
      "                                                                                                  \n",
      " dense_91 (Dense)               (None, 1)            1025        ['dense_90[0][0]']               \n",
      "                                                                                                  \n",
      "==================================================================================================\n",
      "Total params: 12,629,017\n",
      "Trainable params: 12,629,017\n",
      "Non-trainable params: 0\n",
      "__________________________________________________________________________________________________\n"
     ]
    }
   ],
   "source": [
    "poi_c2v.model.summary()"
   ]
  },
  {
   "cell_type": "code",
   "execution_count": 67,
   "id": "d771e780-12b9-4795-961b-c113a1ba261f",
   "metadata": {},
   "outputs": [],
   "source": [
    "X_test_1 = encode_sparsed_list(X_test[:, 0],char_to_index_dict=char_to_index, max_len=MAX_NAME_LEN)\n",
    "X_test_2 = encode_sparsed_list(X_test[:, 1],char_to_index_dict=char_to_index, max_len=MAX_NAME_LEN)\n",
    "\n",
    "# X_train_1 = encode_sparsed_list(X_train[:, 0],char_to_index_dict=char_to_index, max_len=MAX_NAME_LEN)\n",
    "# X_train_2 = encode_sparsed_list(X_train[:, 1],char_to_index_dict=char_to_index, max_len=MAX_NAME_LEN)"
   ]
  },
  {
   "cell_type": "code",
   "execution_count": 68,
   "id": "5d803071-7795-44a1-b057-646704dde891",
   "metadata": {},
   "outputs": [
    {
     "name": "stdout",
     "output_type": "stream",
     "text": [
      "1634/1634 [==============================] - 26s 16ms/step\n"
     ]
    }
   ],
   "source": [
    "test_predictions = poi_c2v.model.predict((X_test_1, X_test_2))\n",
    "# train_predictions = poi_c2v.model.predict((X_train_1, X_train_2))"
   ]
  },
  {
   "cell_type": "code",
   "execution_count": 69,
   "id": "ba28d180-f86f-4563-b9f4-9914ecc58e75",
   "metadata": {},
   "outputs": [
    {
     "data": {
      "text/html": [
       "<pre style=\"white-space:pre;overflow-x:auto;line-height:normal;font-family:Menlo,'DejaVu Sans Mono',consolas,'Courier New',monospace\"></pre>\n"
      ],
      "text/plain": []
     },
     "metadata": {},
     "output_type": "display_data"
    },
    {
     "data": {
      "text/plain": [
       "\n",
       "\u001b[1m(\u001b[0m\n",
       "    \u001b[1;35marray\u001b[0m\u001b[1m(\u001b[0m\u001b[1m[\u001b[0m\u001b[1;36m15396\u001b[0m.,  \u001b[1;36m4941\u001b[0m.,  \u001b[1;36m3701\u001b[0m.,  \u001b[1;36m2737\u001b[0m.,  \u001b[1;36m1782\u001b[0m.,  \u001b[1;36m1649\u001b[0m.,  \u001b[1;36m1589\u001b[0m.,  \u001b[1;36m2361\u001b[0m.,\n",
       "        \u001b[1;36m4068\u001b[0m., \u001b[1;36m14033\u001b[0m.\u001b[1m]\u001b[0m\u001b[1m)\u001b[0m,\n",
       "    \u001b[1;35marray\u001b[0m\u001b[1m(\u001b[0m\u001b[1m[\u001b[0m\u001b[1;36m4.43668963e-33\u001b[0m, \u001b[1;36m1.00000001e-01\u001b[0m, \u001b[1;36m2.00000003e-01\u001b[0m, \u001b[1;36m3.00000012e-01\u001b[0m,\n",
       "       \u001b[1;36m4.00000006e-01\u001b[0m, \u001b[1;36m5.00000000e-01\u001b[0m, \u001b[1;36m6.00000024e-01\u001b[0m, \u001b[1;36m6.99999988e-01\u001b[0m,\n",
       "       \u001b[1;36m8.00000012e-01\u001b[0m, \u001b[1;36m8.99999976e-01\u001b[0m, \u001b[1;36m1.00000000e+00\u001b[0m\u001b[1m]\u001b[0m\u001b[1m)\u001b[0m,\n",
       "    \u001b[1m<\u001b[0m\u001b[1;95mBarContainer\u001b[0m\u001b[39m object of \u001b[0m\u001b[1;36m10\u001b[0m\u001b[39m artists\u001b[0m\u001b[1m>\u001b[0m\n",
       "\u001b[1m)\u001b[0m"
      ]
     },
     "execution_count": 69,
     "metadata": {},
     "output_type": "execute_result"
    },
    {
     "data": {
      "text/html": [
       "<pre style=\"white-space:pre;overflow-x:auto;line-height:normal;font-family:Menlo,'DejaVu Sans Mono',consolas,'Courier New',monospace\"></pre>\n"
      ],
      "text/plain": []
     },
     "metadata": {},
     "output_type": "display_data"
    },
    {
     "data": {
      "image/png": "[encoded data removed]",
      "text/plain": [
       "\u001b[1m<\u001b[0m\u001b[1;95mFigure\u001b[0m\u001b[39m size 64\u001b[0m\u001b[1;36m0x480\u001b[0m\u001b[39m with \u001b[0m\u001b[1;36m1\u001b[0m\u001b[39m Axes\u001b[0m\u001b[1m>\u001b[0m"
      ]
     },
     "metadata": {},
     "output_type": "display_data"
    }
   ],
   "source": [
    "plt.hist(test_predictions)"
   ]
  },
  {
   "cell_type": "code",
   "execution_count": 70,
   "id": "8e4da415-9098-43f6-8c0a-a6969520793d",
   "metadata": {},
   "outputs": [
    {
     "data": {
      "text/html": [
       "<pre style=\"white-space:pre;overflow-x:auto;line-height:normal;font-family:Menlo,'DejaVu Sans Mono',consolas,'Courier New',monospace\"></pre>\n"
      ],
      "text/plain": []
     },
     "metadata": {},
     "output_type": "display_data"
    },
    {
     "data": {
      "text/html": [
       "<div>\n",
       "<style scoped>\n",
       "    .dataframe tbody tr th:only-of-type {\n",
       "        vertical-align: middle;\n",
       "    }\n",
       "\n",
       "    .dataframe tbody tr th {\n",
       "        vertical-align: top;\n",
       "    }\n",
       "\n",
       "    .dataframe thead th {\n",
       "        text-align: right;\n",
       "    }\n",
       "</style>\n",
       "<table border=\"1\" class=\"dataframe\">\n",
       "  <thead>\n",
       "    <tr style=\"text-align: right;\">\n",
       "      <th>col_0</th>\n",
       "      <th>False</th>\n",
       "      <th>True</th>\n",
       "    </tr>\n",
       "    <tr>\n",
       "      <th>row_0</th>\n",
       "      <th></th>\n",
       "      <th></th>\n",
       "    </tr>\n",
       "  </thead>\n",
       "  <tbody>\n",
       "    <tr>\n",
       "      <th>False</th>\n",
       "      <td>24256</td>\n",
       "      <td>2227</td>\n",
       "    </tr>\n",
       "    <tr>\n",
       "      <th>True</th>\n",
       "      <td>4301</td>\n",
       "      <td>21473</td>\n",
       "    </tr>\n",
       "  </tbody>\n",
       "</table>\n",
       "</div>"
      ],
      "text/plain": [
       "\n",
       "col_0  \u001b[3;91mFalse\u001b[0m  \u001b[3;92mTrue\u001b[0m \n",
       "row_0              \n",
       "\u001b[3;91mFalse\u001b[0m  \u001b[1;36m24256\u001b[0m   \u001b[1;36m2227\u001b[0m\n",
       "\u001b[3;92mTrue\u001b[0m    \u001b[1;36m4301\u001b[0m  \u001b[1;36m21473\u001b[0m"
      ]
     },
     "execution_count": 70,
     "metadata": {},
     "output_type": "execute_result"
    }
   ],
   "source": [
    "pd.crosstab((y_test>=.75).flatten(), (test_predictions>=.5).flatten())"
   ]
  },
  {
   "cell_type": "code",
   "execution_count": 71,
   "id": "4a045273-2af7-49d0-8738-ea4237330719",
   "metadata": {},
   "outputs": [
    {
     "name": "stdout",
     "output_type": "stream",
     "text": [
      "              precision    recall  f1-score   support\n",
      "\n",
      "       False       0.85      0.92      0.88     26483\n",
      "        True       0.91      0.83      0.87     25774\n",
      "\n",
      "    accuracy                           0.88     52257\n",
      "   macro avg       0.88      0.87      0.87     52257\n",
      "weighted avg       0.88      0.88      0.87     52257\n",
      "\n"
     ]
    }
   ],
   "source": [
    "print(classification_report((y_test>=.5).flatten(), (test_predictions>=.5).flatten()))"
   ]
  },
  {
   "cell_type": "code",
   "execution_count": 55,
   "id": "f1001e24-4103-4257-ba69-487a09b75c01",
   "metadata": {},
   "outputs": [],
   "source": [
    "from fuzzywuzzy import fuzz"
   ]
  },
  {
   "cell_type": "code",
   "execution_count": 56,
   "id": "243fb1d9-fdb4-4a42-84c1-cda865c4d807",
   "metadata": {},
   "outputs": [],
   "source": [
    "token_set_predictions = np.array([fuzz.token_set_ratio(name1, name2)/100 for name1, name2 in X_test])\n",
    "# token_set_predictions_train = np.array([fuzz.token_set_ratio(name1, name2)/100 for name1, name2 in X_train])"
   ]
  },
  {
   "cell_type": "code",
   "execution_count": 72,
   "id": "76262aa6-2b13-46ce-8ed3-242729099662",
   "metadata": {},
   "outputs": [
    {
     "data": {
      "text/html": [
       "<pre style=\"white-space:pre;overflow-x:auto;line-height:normal;font-family:Menlo,'DejaVu Sans Mono',consolas,'Courier New',monospace\"></pre>\n"
      ],
      "text/plain": []
     },
     "metadata": {},
     "output_type": "display_data"
    },
    {
     "data": {
      "text/html": [
       "<div>\n",
       "<style scoped>\n",
       "    .dataframe tbody tr th:only-of-type {\n",
       "        vertical-align: middle;\n",
       "    }\n",
       "\n",
       "    .dataframe tbody tr th {\n",
       "        vertical-align: top;\n",
       "    }\n",
       "\n",
       "    .dataframe thead th {\n",
       "        text-align: right;\n",
       "    }\n",
       "</style>\n",
       "<table border=\"1\" class=\"dataframe\">\n",
       "  <thead>\n",
       "    <tr style=\"text-align: right;\">\n",
       "      <th>col_0</th>\n",
       "      <th>False</th>\n",
       "      <th>True</th>\n",
       "    </tr>\n",
       "    <tr>\n",
       "      <th>row_0</th>\n",
       "      <th></th>\n",
       "      <th></th>\n",
       "    </tr>\n",
       "  </thead>\n",
       "  <tbody>\n",
       "    <tr>\n",
       "      <th>False</th>\n",
       "      <td>25149</td>\n",
       "      <td>1334</td>\n",
       "    </tr>\n",
       "    <tr>\n",
       "      <th>True</th>\n",
       "      <td>5459</td>\n",
       "      <td>20315</td>\n",
       "    </tr>\n",
       "  </tbody>\n",
       "</table>\n",
       "</div>"
      ],
      "text/plain": [
       "\n",
       "col_0  \u001b[3;91mFalse\u001b[0m  \u001b[3;92mTrue\u001b[0m \n",
       "row_0              \n",
       "\u001b[3;91mFalse\u001b[0m  \u001b[1;36m25149\u001b[0m   \u001b[1;36m1334\u001b[0m\n",
       "\u001b[3;92mTrue\u001b[0m    \u001b[1;36m5459\u001b[0m  \u001b[1;36m20315\u001b[0m"
      ]
     },
     "execution_count": 72,
     "metadata": {},
     "output_type": "execute_result"
    }
   ],
   "source": [
    "pd.crosstab((y_test>=.5).flatten(), token_set_predictions>.75)"
   ]
  },
  {
   "cell_type": "code",
   "execution_count": 73,
   "id": "b4d25459-c959-47f6-91f6-d1bad6e0e272",
   "metadata": {},
   "outputs": [
    {
     "name": "stdout",
     "output_type": "stream",
     "text": [
      "              precision    recall  f1-score   support\n",
      "\n",
      "       False       0.82      0.95      0.88     26483\n",
      "        True       0.94      0.79      0.86     25774\n",
      "\n",
      "    accuracy                           0.87     52257\n",
      "   macro avg       0.88      0.87      0.87     52257\n",
      "weighted avg       0.88      0.87      0.87     52257\n",
      "\n"
     ]
    }
   ],
   "source": [
    "print(classification_report((y_test>=.75).flatten(), token_set_predictions>.75))"
   ]
  },
  {
   "cell_type": "code",
   "execution_count": 74,
   "id": "05939c49-51ae-45d6-a32e-a4299e20a49a",
   "metadata": {},
   "outputs": [],
   "source": [
    "results = pd.DataFrame(X_test)\n",
    "results['prediction'] = test_predictions>=.5\n",
    "results['token_set_ratio'] = token_set_predictions\n",
    "results['label'] = y_test\n",
    "results.columns = ['name_1', 'name_2', 'prediction','token_set_ratio', 'label']\n",
    "results['prediction_error'] = results['prediction'] != results['label']\n",
    "results['edit_error'] = (results['token_set_ratio']>.75) != results['label']"
   ]
  },
  {
   "cell_type": "code",
   "execution_count": 75,
   "id": "b7c0aab6-fd5c-4672-958b-f65fb6e148ee",
   "metadata": {},
   "outputs": [
    {
     "data": {
      "text/html": [
       "<pre style=\"white-space:pre;overflow-x:auto;line-height:normal;font-family:Menlo,'DejaVu Sans Mono',consolas,'Courier New',monospace\"><span style=\"color: #800000; text-decoration-color: #800000\">╭─────────────────────────────── </span><span style=\"color: #800000; text-decoration-color: #800000; font-weight: bold\">Traceback </span><span style=\"color: #bf7f7f; text-decoration-color: #bf7f7f; font-weight: bold\">(most recent call last)</span><span style=\"color: #800000; text-decoration-color: #800000\"> ────────────────────────────────╮</span>\n",
       "<span style=\"color: #800000; text-decoration-color: #800000\">│</span> in <span style=\"color: #00ff00; text-decoration-color: #00ff00\">&lt;cell line: 2&gt;</span>:<span style=\"color: #0000ff; text-decoration-color: #0000ff\">2</span>                                                                              <span style=\"color: #800000; text-decoration-color: #800000\">│</span>\n",
       "<span style=\"color: #800000; text-decoration-color: #800000\">│</span>                                                                                                  <span style=\"color: #800000; text-decoration-color: #800000\">│</span>\n",
       "<span style=\"color: #800000; text-decoration-color: #800000\">│</span>   <span style=\"color: #7f7f7f; text-decoration-color: #7f7f7f\">1 </span>results_train = pd.DataFrame(X_train)                                                        <span style=\"color: #800000; text-decoration-color: #800000\">│</span>\n",
       "<span style=\"color: #800000; text-decoration-color: #800000\">│</span> <span style=\"color: #800000; text-decoration-color: #800000\">❱ </span>2 results_train[<span style=\"color: #808000; text-decoration-color: #808000\">'prediction'</span>] = train_predictions                                              <span style=\"color: #800000; text-decoration-color: #800000\">│</span>\n",
       "<span style=\"color: #800000; text-decoration-color: #800000\">│</span>   <span style=\"color: #7f7f7f; text-decoration-color: #7f7f7f\">3 </span>results_train[<span style=\"color: #808000; text-decoration-color: #808000\">'token_set_ratio'</span>] = token_set_predictions_train                               <span style=\"color: #800000; text-decoration-color: #800000\">│</span>\n",
       "<span style=\"color: #800000; text-decoration-color: #800000\">│</span>   <span style=\"color: #7f7f7f; text-decoration-color: #7f7f7f\">4 </span>results_train[<span style=\"color: #808000; text-decoration-color: #808000\">'label'</span>] = y_train                                                             <span style=\"color: #800000; text-decoration-color: #800000\">│</span>\n",
       "<span style=\"color: #800000; text-decoration-color: #800000\">│</span>   <span style=\"color: #7f7f7f; text-decoration-color: #7f7f7f\">5 </span>results_train.columns = [<span style=\"color: #808000; text-decoration-color: #808000\">'name_1'</span>, <span style=\"color: #808000; text-decoration-color: #808000\">'name_2'</span>, <span style=\"color: #808000; text-decoration-color: #808000\">'prediction'</span>,<span style=\"color: #808000; text-decoration-color: #808000\">'token_set_ratio'</span>, <span style=\"color: #808000; text-decoration-color: #808000\">'label'</span>]        <span style=\"color: #800000; text-decoration-color: #800000\">│</span>\n",
       "<span style=\"color: #800000; text-decoration-color: #800000\">╰──────────────────────────────────────────────────────────────────────────────────────────────────╯</span>\n",
       "<span style=\"color: #ff0000; text-decoration-color: #ff0000; font-weight: bold\">NameError: </span>name <span style=\"color: #008000; text-decoration-color: #008000\">'train_predictions'</span> is not defined\n",
       "</pre>\n"
      ],
      "text/plain": [
       "\u001b[31m╭─\u001b[0m\u001b[31m──────────────────────────────\u001b[0m\u001b[31m \u001b[0m\u001b[1;31mTraceback \u001b[0m\u001b[1;2;31m(most recent call last)\u001b[0m\u001b[31m \u001b[0m\u001b[31m───────────────────────────────\u001b[0m\u001b[31m─╮\u001b[0m\n",
       "\u001b[31m│\u001b[0m in \u001b[92m<cell line: 2>\u001b[0m:\u001b[94m2\u001b[0m                                                                              \u001b[31m│\u001b[0m\n",
       "\u001b[31m│\u001b[0m                                                                                                  \u001b[31m│\u001b[0m\n",
       "\u001b[31m│\u001b[0m   \u001b[2m1 \u001b[0mresults_train = pd.DataFrame(X_train)                                                        \u001b[31m│\u001b[0m\n",
       "\u001b[31m│\u001b[0m \u001b[31m❱ \u001b[0m2 results_train[\u001b[33m'\u001b[0m\u001b[33mprediction\u001b[0m\u001b[33m'\u001b[0m] = train_predictions                                              \u001b[31m│\u001b[0m\n",
       "\u001b[31m│\u001b[0m   \u001b[2m3 \u001b[0mresults_train[\u001b[33m'\u001b[0m\u001b[33mtoken_set_ratio\u001b[0m\u001b[33m'\u001b[0m] = token_set_predictions_train                               \u001b[31m│\u001b[0m\n",
       "\u001b[31m│\u001b[0m   \u001b[2m4 \u001b[0mresults_train[\u001b[33m'\u001b[0m\u001b[33mlabel\u001b[0m\u001b[33m'\u001b[0m] = y_train                                                             \u001b[31m│\u001b[0m\n",
       "\u001b[31m│\u001b[0m   \u001b[2m5 \u001b[0mresults_train.columns = [\u001b[33m'\u001b[0m\u001b[33mname_1\u001b[0m\u001b[33m'\u001b[0m, \u001b[33m'\u001b[0m\u001b[33mname_2\u001b[0m\u001b[33m'\u001b[0m, \u001b[33m'\u001b[0m\u001b[33mprediction\u001b[0m\u001b[33m'\u001b[0m,\u001b[33m'\u001b[0m\u001b[33mtoken_set_ratio\u001b[0m\u001b[33m'\u001b[0m, \u001b[33m'\u001b[0m\u001b[33mlabel\u001b[0m\u001b[33m'\u001b[0m]        \u001b[31m│\u001b[0m\n",
       "\u001b[31m╰──────────────────────────────────────────────────────────────────────────────────────────────────╯\u001b[0m\n",
       "\u001b[1;91mNameError: \u001b[0mname \u001b[32m'train_predictions'\u001b[0m is not defined\n"
      ]
     },
     "metadata": {},
     "output_type": "display_data"
    }
   ],
   "source": [
    "results_train = pd.DataFrame(X_train)\n",
    "results_train['prediction'] = train_predictions\n",
    "results_train['token_set_ratio'] = token_set_predictions_train\n",
    "results_train['label'] = y_train\n",
    "results_train.columns = ['name_1', 'name_2', 'prediction','token_set_ratio', 'label']\n",
    "results_train['error'] = (results_train['prediction']>.5).astype(int) != results_train['label'].astype(int)"
   ]
  },
  {
   "cell_type": "code",
   "execution_count": 77,
   "id": "e0c50178-6e8a-4f8e-a9f9-4767f4d4554d",
   "metadata": {},
   "outputs": [],
   "source": [
    "results.to_csv('conv_results_sequential_test_mixed_sources.csv', index=False)\n",
    "results_train.to_csv('conv_results_train_orbis.csv', index=False)"
   ]
  },
  {
   "cell_type": "markdown",
   "id": "ae21aaa0-9e2e-42b2-bc54-ed0d108c17a5",
   "metadata": {},
   "source": [
    "# 6. Prediciton"
   ]
  },
  {
   "cell_type": "code",
   "execution_count": 78,
   "id": "a16124da-6699-44c3-b0f8-d95ffae2ed0c",
   "metadata": {},
   "outputs": [],
   "source": [
    "standard_1 = np.array(['dave smith',\n",
    "                       'international business machine corp',\n",
    "                       'bill gates',\n",
    "                       'william h gates',\n",
    "                       'mary miller',\n",
    "                       'mary',\n",
    "                       'ibm inc',\n",
    "                       'ibm inc', \n",
    "                       'dave smith',\n",
    "                       'royal free hospital',\n",
    "                       'royal free hospital emergency room',\n",
    "                       'royal free hospital school of medicine',\n",
    "                       'howdens joinery',\n",
    "                      'car craft'])\n",
    "standard_2 = np.array(['david smith',\n",
    "                       'ibm',\n",
    "                       'william gates',\n",
    "                       'william a gates',\n",
    "                       'mark miller',\n",
    "                       'mark',\n",
    "                       'ibm corp',\n",
    "                       'ibs inc',\n",
    "                       'smith dave',\n",
    "                       'royal free hospital emergency room',\n",
    "                       'royal free hospital immunology',\n",
    "                       'royal free hospital immunology',\n",
    "                       'howdens new romney',\n",
    "                      'carcraft and mot service centre'])\n",
    "standard_target = np.array([1, 1, 1, 0, 0, 0, 1, 0, 1, 0, 0, 0, 1, 1])\n",
    "token_set_ratio = [fuzz.token_set_ratio(name1, name2)/100 for name1, name2 in list(zip(standard_1, standard_2))]"
   ]
  },
  {
   "cell_type": "code",
   "execution_count": 79,
   "id": "aed0775d-7597-4607-bf66-460893fec003",
   "metadata": {},
   "outputs": [],
   "source": [
    "standard_1_vectorized = encode_sparsed_list(standard_1,char_to_index_dict=char_to_index, max_len=MAX_NAME_LEN)\n",
    "standard_2_vectorized = encode_sparsed_list(standard_2,char_to_index_dict=char_to_index, max_len=MAX_NAME_LEN)"
   ]
  },
  {
   "cell_type": "code",
   "execution_count": 80,
   "id": "be7fb3b6-3845-43c2-8c09-b3b7fc4c23cd",
   "metadata": {},
   "outputs": [
    {
     "name": "stdout",
     "output_type": "stream",
     "text": [
      "1/1 [==============================] - 0s 37ms/step\n"
     ]
    }
   ],
   "source": [
    "standard_predictions = poi_c2v.model.predict((standard_1_vectorized, standard_2_vectorized))"
   ]
  },
  {
   "cell_type": "code",
   "execution_count": 81,
   "id": "6fa85868-4851-4012-a414-4fa2ee363f67",
   "metadata": {},
   "outputs": [
    {
     "data": {
      "text/html": [
       "<pre style=\"white-space:pre;overflow-x:auto;line-height:normal;font-family:Menlo,'DejaVu Sans Mono',consolas,'Courier New',monospace\"></pre>\n"
      ],
      "text/plain": []
     },
     "metadata": {},
     "output_type": "display_data"
    },
    {
     "data": {
      "text/html": [
       "<div>\n",
       "<style scoped>\n",
       "    .dataframe tbody tr th:only-of-type {\n",
       "        vertical-align: middle;\n",
       "    }\n",
       "\n",
       "    .dataframe tbody tr th {\n",
       "        vertical-align: top;\n",
       "    }\n",
       "\n",
       "    .dataframe thead th {\n",
       "        text-align: right;\n",
       "    }\n",
       "</style>\n",
       "<table border=\"1\" class=\"dataframe\">\n",
       "  <thead>\n",
       "    <tr style=\"text-align: right;\">\n",
       "      <th></th>\n",
       "      <th>0</th>\n",
       "      <th>1</th>\n",
       "      <th>2</th>\n",
       "      <th>3</th>\n",
       "      <th>4</th>\n",
       "    </tr>\n",
       "  </thead>\n",
       "  <tbody>\n",
       "    <tr>\n",
       "      <th>0</th>\n",
       "      <td>dave smith</td>\n",
       "      <td>david smith</td>\n",
       "      <td>1</td>\n",
       "      <td>[0.89375305]</td>\n",
       "      <td>0.86</td>\n",
       "    </tr>\n",
       "    <tr>\n",
       "      <th>1</th>\n",
       "      <td>international business machine corp</td>\n",
       "      <td>ibm</td>\n",
       "      <td>1</td>\n",
       "      <td>[0.31713188]</td>\n",
       "      <td>0.11</td>\n",
       "    </tr>\n",
       "    <tr>\n",
       "      <th>2</th>\n",
       "      <td>bill gates</td>\n",
       "      <td>william gates</td>\n",
       "      <td>1</td>\n",
       "      <td>[0.9194644]</td>\n",
       "      <td>0.78</td>\n",
       "    </tr>\n",
       "    <tr>\n",
       "      <th>3</th>\n",
       "      <td>william h gates</td>\n",
       "      <td>william a gates</td>\n",
       "      <td>0</td>\n",
       "      <td>[0.99453497]</td>\n",
       "      <td>0.93</td>\n",
       "    </tr>\n",
       "    <tr>\n",
       "      <th>4</th>\n",
       "      <td>mary miller</td>\n",
       "      <td>mark miller</td>\n",
       "      <td>0</td>\n",
       "      <td>[0.9648974]</td>\n",
       "      <td>0.91</td>\n",
       "    </tr>\n",
       "    <tr>\n",
       "      <th>5</th>\n",
       "      <td>mary</td>\n",
       "      <td>mark</td>\n",
       "      <td>0</td>\n",
       "      <td>[0.28645465]</td>\n",
       "      <td>0.75</td>\n",
       "    </tr>\n",
       "    <tr>\n",
       "      <th>6</th>\n",
       "      <td>ibm inc</td>\n",
       "      <td>ibm corp</td>\n",
       "      <td>1</td>\n",
       "      <td>[0.028367918]</td>\n",
       "      <td>0.67</td>\n",
       "    </tr>\n",
       "    <tr>\n",
       "      <th>7</th>\n",
       "      <td>ibm inc</td>\n",
       "      <td>ibs inc</td>\n",
       "      <td>0</td>\n",
       "      <td>[0.0020040981]</td>\n",
       "      <td>0.86</td>\n",
       "    </tr>\n",
       "    <tr>\n",
       "      <th>8</th>\n",
       "      <td>dave smith</td>\n",
       "      <td>smith dave</td>\n",
       "      <td>1</td>\n",
       "      <td>[0.3783289]</td>\n",
       "      <td>1.00</td>\n",
       "    </tr>\n",
       "    <tr>\n",
       "      <th>9</th>\n",
       "      <td>royal free hospital</td>\n",
       "      <td>royal free hospital emergency room</td>\n",
       "      <td>0</td>\n",
       "      <td>[0.97466063]</td>\n",
       "      <td>1.00</td>\n",
       "    </tr>\n",
       "    <tr>\n",
       "      <th>10</th>\n",
       "      <td>royal free hospital emergency room</td>\n",
       "      <td>royal free hospital immunology</td>\n",
       "      <td>0</td>\n",
       "      <td>[0.90203404]</td>\n",
       "      <td>0.78</td>\n",
       "    </tr>\n",
       "    <tr>\n",
       "      <th>11</th>\n",
       "      <td>royal free hospital school of medicine</td>\n",
       "      <td>royal free hospital immunology</td>\n",
       "      <td>0</td>\n",
       "      <td>[0.8519003]</td>\n",
       "      <td>0.78</td>\n",
       "    </tr>\n",
       "    <tr>\n",
       "      <th>12</th>\n",
       "      <td>howdens joinery</td>\n",
       "      <td>howdens new romney</td>\n",
       "      <td>1</td>\n",
       "      <td>[0.99999845]</td>\n",
       "      <td>0.73</td>\n",
       "    </tr>\n",
       "    <tr>\n",
       "      <th>13</th>\n",
       "      <td>car craft</td>\n",
       "      <td>carcraft and mot service centre</td>\n",
       "      <td>1</td>\n",
       "      <td>[0.17212485]</td>\n",
       "      <td>0.40</td>\n",
       "    </tr>\n",
       "  </tbody>\n",
       "</table>\n",
       "</div>"
      ],
      "text/plain": [
       "\n",
       "                                         \u001b[1;36m0\u001b[0m  \\\n",
       "\u001b[1;36m0\u001b[0m                               dave smith   \n",
       "\u001b[1;36m1\u001b[0m      international business machine corp   \n",
       "\u001b[1;36m2\u001b[0m                               bill gates   \n",
       "\u001b[1;36m3\u001b[0m                          william h gates   \n",
       "\u001b[1;36m4\u001b[0m                              mary miller   \n",
       "\u001b[1;36m5\u001b[0m                                     mary   \n",
       "\u001b[1;36m6\u001b[0m                                  ibm inc   \n",
       "\u001b[1;36m7\u001b[0m                                  ibm inc   \n",
       "\u001b[1;36m8\u001b[0m                               dave smith   \n",
       "\u001b[1;36m9\u001b[0m                      royal free hospital   \n",
       "\u001b[1;36m10\u001b[0m      royal free hospital emergency room   \n",
       "\u001b[1;36m11\u001b[0m  royal free hospital school of medicine   \n",
       "\u001b[1;36m12\u001b[0m                         howdens joinery   \n",
       "\u001b[1;36m13\u001b[0m                               car craft   \n",
       "\n",
       "                                     \u001b[1;36m1\u001b[0m  \u001b[1;36m2\u001b[0m               \u001b[1;36m3\u001b[0m     \u001b[1;36m4\u001b[0m  \n",
       "\u001b[1;36m0\u001b[0m                          david smith  \u001b[1;36m1\u001b[0m    \u001b[1m[\u001b[0m\u001b[1;36m0.89375305\u001b[0m\u001b[1m]\u001b[0m  \u001b[1;36m0.86\u001b[0m  \n",
       "\u001b[1;36m1\u001b[0m                                  ibm  \u001b[1;36m1\u001b[0m    \u001b[1m[\u001b[0m\u001b[1;36m0.31713188\u001b[0m\u001b[1m]\u001b[0m  \u001b[1;36m0.11\u001b[0m  \n",
       "\u001b[1;36m2\u001b[0m                        william gates  \u001b[1;36m1\u001b[0m     \u001b[1m[\u001b[0m\u001b[1;36m0.9194644\u001b[0m\u001b[1m]\u001b[0m  \u001b[1;36m0.78\u001b[0m  \n",
       "\u001b[1;36m3\u001b[0m                      william a gates  \u001b[1;36m0\u001b[0m    \u001b[1m[\u001b[0m\u001b[1;36m0.99453497\u001b[0m\u001b[1m]\u001b[0m  \u001b[1;36m0.93\u001b[0m  \n",
       "\u001b[1;36m4\u001b[0m                          mark miller  \u001b[1;36m0\u001b[0m     \u001b[1m[\u001b[0m\u001b[1;36m0.9648974\u001b[0m\u001b[1m]\u001b[0m  \u001b[1;36m0.91\u001b[0m  \n",
       "\u001b[1;36m5\u001b[0m                                 mark  \u001b[1;36m0\u001b[0m    \u001b[1m[\u001b[0m\u001b[1;36m0.28645465\u001b[0m\u001b[1m]\u001b[0m  \u001b[1;36m0.75\u001b[0m  \n",
       "\u001b[1;36m6\u001b[0m                             ibm corp  \u001b[1;36m1\u001b[0m   \u001b[1m[\u001b[0m\u001b[1;36m0.028367918\u001b[0m\u001b[1m]\u001b[0m  \u001b[1;36m0.67\u001b[0m  \n",
       "\u001b[1;36m7\u001b[0m                              ibs inc  \u001b[1;36m0\u001b[0m  \u001b[1m[\u001b[0m\u001b[1;36m0.0020040981\u001b[0m\u001b[1m]\u001b[0m  \u001b[1;36m0.86\u001b[0m  \n",
       "\u001b[1;36m8\u001b[0m                           smith dave  \u001b[1;36m1\u001b[0m     \u001b[1m[\u001b[0m\u001b[1;36m0.3783289\u001b[0m\u001b[1m]\u001b[0m  \u001b[1;36m1.00\u001b[0m  \n",
       "\u001b[1;36m9\u001b[0m   royal free hospital emergency room  \u001b[1;36m0\u001b[0m    \u001b[1m[\u001b[0m\u001b[1;36m0.97466063\u001b[0m\u001b[1m]\u001b[0m  \u001b[1;36m1.00\u001b[0m  \n",
       "\u001b[1;36m10\u001b[0m      royal free hospital immunology  \u001b[1;36m0\u001b[0m    \u001b[1m[\u001b[0m\u001b[1;36m0.90203404\u001b[0m\u001b[1m]\u001b[0m  \u001b[1;36m0.78\u001b[0m  \n",
       "\u001b[1;36m11\u001b[0m      royal free hospital immunology  \u001b[1;36m0\u001b[0m     \u001b[1m[\u001b[0m\u001b[1;36m0.8519003\u001b[0m\u001b[1m]\u001b[0m  \u001b[1;36m0.78\u001b[0m  \n",
       "\u001b[1;36m12\u001b[0m                  howdens new romney  \u001b[1;36m1\u001b[0m    \u001b[1m[\u001b[0m\u001b[1;36m0.99999845\u001b[0m\u001b[1m]\u001b[0m  \u001b[1;36m0.73\u001b[0m  \n",
       "\u001b[1;36m13\u001b[0m     carcraft and mot service centre  \u001b[1;36m1\u001b[0m    \u001b[1m[\u001b[0m\u001b[1;36m0.17212485\u001b[0m\u001b[1m]\u001b[0m  \u001b[1;36m0.40\u001b[0m  "
      ]
     },
     "execution_count": 81,
     "metadata": {},
     "output_type": "execute_result"
    }
   ],
   "source": [
    "pd.DataFrame(list(zip(standard_1, standard_2, standard_target, standard_predictions, token_set_ratio)))"
   ]
  },
  {
   "cell_type": "code",
   "execution_count": 185,
   "id": "77b60d6c-9a13-410f-a5d8-5195039d4b55",
   "metadata": {},
   "outputs": [
    {
     "data": {
      "text/html": [
       "<pre style=\"white-space:pre;overflow-x:auto;line-height:normal;font-family:Menlo,'DejaVu Sans Mono',consolas,'Courier New',monospace\"><span style=\"color: #7fbfbf; text-decoration-color: #7fbfbf\">[08/16/23 19:42:21] </span><span style=\"color: #000080; text-decoration-color: #000080\">INFO    </span> Loading data from <span style=\"color: #008000; text-decoration-color: #008000\">'geonames_latin_pairs'</span> <span style=\"font-weight: bold\">(</span>SparkDataSet<span style=\"font-weight: bold\">)</span><span style=\"color: #808000; text-decoration-color: #808000\">...</span>         <a href=\"file:///usr/local/lib/python3.9/dist-packages/kedro/io/data_catalog.py\" target=\"_blank\"><span style=\"color: #7f7f7f; text-decoration-color: #7f7f7f\">data_catalog.py</span></a><span style=\"color: #7f7f7f; text-decoration-color: #7f7f7f\">:</span><a href=\"file:///usr/local/lib/python3.9/dist-packages/kedro/io/data_catalog.py#475\" target=\"_blank\"><span style=\"color: #7f7f7f; text-decoration-color: #7f7f7f\">475</span></a>\n",
       "</pre>\n"
      ],
      "text/plain": [
       "\u001b[2;36m[08/16/23 19:42:21]\u001b[0m\u001b[2;36m \u001b[0m\u001b[34mINFO    \u001b[0m Loading data from \u001b[32m'geonames_latin_pairs'\u001b[0m \u001b[1m(\u001b[0mSparkDataSet\u001b[1m)\u001b[0m\u001b[33m...\u001b[0m         \u001b]8;id=676144;file:///usr/local/lib/python3.9/dist-packages/kedro/io/data_catalog.py\u001b\\\u001b[2mdata_catalog.py\u001b[0m\u001b]8;;\u001b\\\u001b[2m:\u001b[0m\u001b]8;id=272117;file:///usr/local/lib/python3.9/dist-packages/kedro/io/data_catalog.py#475\u001b\\\u001b[2m475\u001b[0m\u001b]8;;\u001b\\\n"
      ]
     },
     "metadata": {},
     "output_type": "display_data"
    },
    {
     "name": "stderr",
     "output_type": "stream",
     "text": [
      "                                                                                \r"
     ]
    }
   ],
   "source": [
    "geonames_pairs = catalog.load('geonames_latin_pairs')\n",
    "geonames_pairs = geonames_pairs.withColumn('target', when(col('match') == 'true', 1).otherwise(0).cast(FloatType()))\n",
    "geonames_pairs_es = geonames_pairs.filter(col('language_1').isin(['ES', 'MX']))\n",
    "geonames_normalized = geonames_pairs_es.withColumn('name_1_normalized', udf_normalize_chars(col('name_1'))) \\\n",
    "                .withColumn('name_2_normalized', udf_normalize_chars(col('name_2')))\n",
    "\n",
    "\n",
    "name_pairs = geonames_normalized.select('name_1_normalized', 'name_2_normalized').toPandas().values\n",
    "target = geonames_normalized.select(col('target')).toPandas().astype(float).values\n",
    "\n",
    "X1 = encode_sparsed_list(name_pairs[:, 0],char_to_index_dict=char_to_index, max_len=MAX_NAME_LEN)\n",
    "X2 = encode_sparsed_list(name_pairs[:, 1],char_to_index_dict=char_to_index, max_len=MAX_NAME_LEN)"
   ]
  },
  {
   "cell_type": "code",
   "execution_count": 809,
   "id": "35b4fb98-53ee-45ab-919a-041486825692",
   "metadata": {},
   "outputs": [
    {
     "name": "stdout",
     "output_type": "stream",
     "text": [
      "1708/1708 [==============================] - 19s 11ms/step\n"
     ]
    }
   ],
   "source": [
    "geonames_predictions = poi_c2v.model.predict((X1, X2))"
   ]
  },
  {
   "cell_type": "code",
   "execution_count": 810,
   "id": "be94cca3-cb8e-419d-b5c2-0b512765b49f",
   "metadata": {},
   "outputs": [
    {
     "data": {
      "text/html": [
       "<pre style=\"white-space:pre;overflow-x:auto;line-height:normal;font-family:Menlo,'DejaVu Sans Mono',consolas,'Courier New',monospace\"></pre>\n"
      ],
      "text/plain": []
     },
     "metadata": {},
     "output_type": "display_data"
    },
    {
     "data": {
      "text/plain": [
       "\n",
       "\u001b[1m(\u001b[0m\n",
       "    \u001b[1;35marray\u001b[0m\u001b[1m(\u001b[0m\u001b[1m[\u001b[0m\u001b[1;36m13140\u001b[0m.,  \u001b[1;36m3133\u001b[0m.,  \u001b[1;36m1532\u001b[0m.,  \u001b[1;36m1076\u001b[0m.,   \u001b[1;36m925\u001b[0m.,   \u001b[1;36m897\u001b[0m.,   \u001b[1;36m964\u001b[0m.,  \u001b[1;36m1118\u001b[0m.,\n",
       "        \u001b[1;36m1498\u001b[0m., \u001b[1;36m30360\u001b[0m.\u001b[1m]\u001b[0m\u001b[1m)\u001b[0m,\n",
       "    \u001b[1;35marray\u001b[0m\u001b[1m(\u001b[0m\u001b[1m[\u001b[0m\u001b[1;36m3.25981440e-04\u001b[0m, \u001b[1;36m1.00292802e-01\u001b[0m, \u001b[1;36m2.00259626e-01\u001b[0m, \u001b[1;36m3.00226450e-01\u001b[0m,\n",
       "       \u001b[1;36m4.00193274e-01\u001b[0m, \u001b[1;36m5.00160098e-01\u001b[0m, \u001b[1;36m6.00126922e-01\u001b[0m, \u001b[1;36m7.00093746e-01\u001b[0m,\n",
       "       \u001b[1;36m8.00060570e-01\u001b[0m, \u001b[1;36m9.00027394e-01\u001b[0m, \u001b[1;36m9.99994218e-01\u001b[0m\u001b[1m]\u001b[0m\u001b[1m)\u001b[0m,\n",
       "    \u001b[1m<\u001b[0m\u001b[1;95mBarContainer\u001b[0m\u001b[39m object of \u001b[0m\u001b[1;36m10\u001b[0m\u001b[39m artists\u001b[0m\u001b[1m>\u001b[0m\n",
       "\u001b[1m)\u001b[0m"
      ]
     },
     "execution_count": 810,
     "metadata": {},
     "output_type": "execute_result"
    },
    {
     "data": {
      "text/html": [
       "<pre style=\"white-space:pre;overflow-x:auto;line-height:normal;font-family:Menlo,'DejaVu Sans Mono',consolas,'Courier New',monospace\"></pre>\n"
      ],
      "text/plain": []
     },
     "metadata": {},
     "output_type": "display_data"
    },
    {
     "data": {
      "image/png": "[encoded data removed]",
      "text/plain": [
       "\u001b[1m<\u001b[0m\u001b[1;95mFigure\u001b[0m\u001b[39m size 64\u001b[0m\u001b[1;36m0x480\u001b[0m\u001b[39m with \u001b[0m\u001b[1;36m1\u001b[0m\u001b[39m Axes\u001b[0m\u001b[1m>\u001b[0m"
      ]
     },
     "metadata": {},
     "output_type": "display_data"
    }
   ],
   "source": [
    "plt.hist(geonames_predictions)"
   ]
  },
  {
   "cell_type": "code",
   "execution_count": 811,
   "id": "dc50151b-8037-49c3-913e-24eb78625649",
   "metadata": {},
   "outputs": [
    {
     "data": {
      "text/html": [
       "<pre style=\"white-space:pre;overflow-x:auto;line-height:normal;font-family:Menlo,'DejaVu Sans Mono',consolas,'Courier New',monospace\"></pre>\n"
      ],
      "text/plain": []
     },
     "metadata": {},
     "output_type": "display_data"
    },
    {
     "data": {
      "text/html": [
       "<div>\n",
       "<style scoped>\n",
       "    .dataframe tbody tr th:only-of-type {\n",
       "        vertical-align: middle;\n",
       "    }\n",
       "\n",
       "    .dataframe tbody tr th {\n",
       "        vertical-align: top;\n",
       "    }\n",
       "\n",
       "    .dataframe thead th {\n",
       "        text-align: right;\n",
       "    }\n",
       "</style>\n",
       "<table border=\"1\" class=\"dataframe\">\n",
       "  <thead>\n",
       "    <tr style=\"text-align: right;\">\n",
       "      <th>col_0</th>\n",
       "      <th>False</th>\n",
       "      <th>True</th>\n",
       "    </tr>\n",
       "    <tr>\n",
       "      <th>row_0</th>\n",
       "      <th></th>\n",
       "      <th></th>\n",
       "    </tr>\n",
       "  </thead>\n",
       "  <tbody>\n",
       "    <tr>\n",
       "      <th>False</th>\n",
       "      <td>16004</td>\n",
       "      <td>11397</td>\n",
       "    </tr>\n",
       "    <tr>\n",
       "      <th>True</th>\n",
       "      <td>3802</td>\n",
       "      <td>23440</td>\n",
       "    </tr>\n",
       "  </tbody>\n",
       "</table>\n",
       "</div>"
      ],
      "text/plain": [
       "\n",
       "col_0  \u001b[3;91mFalse\u001b[0m  \u001b[3;92mTrue\u001b[0m \n",
       "row_0              \n",
       "\u001b[3;91mFalse\u001b[0m  \u001b[1;36m16004\u001b[0m  \u001b[1;36m11397\u001b[0m\n",
       "\u001b[3;92mTrue\u001b[0m    \u001b[1;36m3802\u001b[0m  \u001b[1;36m23440\u001b[0m"
      ]
     },
     "execution_count": 811,
     "metadata": {},
     "output_type": "execute_result"
    }
   ],
   "source": [
    "pd.crosstab((target>=.75).flatten(), (geonames_predictions>=.5).flatten())"
   ]
  },
  {
   "cell_type": "code",
   "execution_count": 812,
   "id": "bd4e955d-c4b3-44b0-95b0-a42561c6b07e",
   "metadata": {},
   "outputs": [
    {
     "name": "stdout",
     "output_type": "stream",
     "text": [
      "              precision    recall  f1-score   support\n",
      "\n",
      "       False       0.81      0.58      0.68     27401\n",
      "        True       0.67      0.86      0.76     27242\n",
      "\n",
      "    accuracy                           0.72     54643\n",
      "   macro avg       0.74      0.72      0.72     54643\n",
      "weighted avg       0.74      0.72      0.72     54643\n",
      "\n"
     ]
    }
   ],
   "source": [
    "print(classification_report((target>=.5).flatten(), geonames_predictions>.5))"
   ]
  },
  {
   "cell_type": "code",
   "execution_count": 813,
   "id": "a20f6ff8-c001-4d8c-b157-59be5c515aaf",
   "metadata": {},
   "outputs": [
    {
     "name": "stdout",
     "output_type": "stream",
     "text": [
      "              precision    recall  f1-score   support\n",
      "\n",
      "       False       0.81      0.58      0.68     27401\n",
      "        True       0.67      0.86      0.76     27242\n",
      "\n",
      "    accuracy                           0.72     54643\n",
      "   macro avg       0.74      0.72      0.72     54643\n",
      "weighted avg       0.74      0.72      0.72     54643\n",
      "\n"
     ]
    }
   ],
   "source": [
    "print(classification_report((target>=.5).flatten(), geonames_predictions>.5))"
   ]
  },
  {
   "cell_type": "code",
   "execution_count": 814,
   "id": "6f76abcc-8c09-4768-a84b-7b0f04900bc9",
   "metadata": {},
   "outputs": [
    {
     "data": {
      "text/html": [
       "<pre style=\"white-space:pre;overflow-x:auto;line-height:normal;font-family:Menlo,'DejaVu Sans Mono',consolas,'Courier New',monospace\"></pre>\n"
      ],
      "text/plain": []
     },
     "metadata": {},
     "output_type": "display_data"
    },
    {
     "data": {
      "text/html": [
       "<div>\n",
       "<style scoped>\n",
       "    .dataframe tbody tr th:only-of-type {\n",
       "        vertical-align: middle;\n",
       "    }\n",
       "\n",
       "    .dataframe tbody tr th {\n",
       "        vertical-align: top;\n",
       "    }\n",
       "\n",
       "    .dataframe thead th {\n",
       "        text-align: right;\n",
       "    }\n",
       "</style>\n",
       "<table border=\"1\" class=\"dataframe\">\n",
       "  <thead>\n",
       "    <tr style=\"text-align: right;\">\n",
       "      <th>col_0</th>\n",
       "      <th>False</th>\n",
       "      <th>True</th>\n",
       "    </tr>\n",
       "    <tr>\n",
       "      <th>row_0</th>\n",
       "      <th></th>\n",
       "      <th></th>\n",
       "    </tr>\n",
       "  </thead>\n",
       "  <tbody>\n",
       "    <tr>\n",
       "      <th>False</th>\n",
       "      <td>23164</td>\n",
       "      <td>4237</td>\n",
       "    </tr>\n",
       "    <tr>\n",
       "      <th>True</th>\n",
       "      <td>7350</td>\n",
       "      <td>19892</td>\n",
       "    </tr>\n",
       "  </tbody>\n",
       "</table>\n",
       "</div>"
      ],
      "text/plain": [
       "\n",
       "col_0  \u001b[3;91mFalse\u001b[0m  \u001b[3;92mTrue\u001b[0m \n",
       "row_0              \n",
       "\u001b[3;91mFalse\u001b[0m  \u001b[1;36m23164\u001b[0m   \u001b[1;36m4237\u001b[0m\n",
       "\u001b[3;92mTrue\u001b[0m    \u001b[1;36m7350\u001b[0m  \u001b[1;36m19892\u001b[0m"
      ]
     },
     "execution_count": 814,
     "metadata": {},
     "output_type": "execute_result"
    }
   ],
   "source": [
    "\n",
    "token_set_predictions = np.array([fuzz.token_set_ratio(name1, name2)/100 for name1, name2 in name_pairs])>.75\n",
    "pd.crosstab((target>=.5).flatten(), token_set_predictions)"
   ]
  },
  {
   "cell_type": "code",
   "execution_count": 579,
   "id": "e121b341-177a-408f-848a-faaffde466e2",
   "metadata": {},
   "outputs": [
    {
     "name": "stdout",
     "output_type": "stream",
     "text": [
      "              precision    recall  f1-score   support\n",
      "\n",
      "       False       0.76      0.85      0.80     27401\n",
      "        True       0.82      0.73      0.77     27242\n",
      "\n",
      "    accuracy                           0.79     54643\n",
      "   macro avg       0.79      0.79      0.79     54643\n",
      "weighted avg       0.79      0.79      0.79     54643\n",
      "\n"
     ]
    }
   ],
   "source": [
    "print(classification_report((target>=.5).flatten(), token_set_predictions))"
   ]
  },
  {
   "cell_type": "markdown",
   "id": "c4641264-bf38-40f7-93fe-3a44db1852c8",
   "metadata": {},
   "source": [
    "# Match logs comparison"
   ]
  },
  {
   "cell_type": "code",
   "execution_count": 82,
   "id": "4416cff3-b9bf-4fac-8e32-0bc2ed170236",
   "metadata": {},
   "outputs": [],
   "source": [
    "matching_logs = pd.read_csv('../../data/01_raw/tomtom/full_matching_logs_ES_EN_ov32.csv')"
   ]
  },
  {
   "cell_type": "code",
   "execution_count": 83,
   "id": "c4cb4b76-739a-4205-b617-e81d093f5089",
   "metadata": {},
   "outputs": [
    {
     "data": {
      "text/html": [
       "<pre style=\"white-space:pre;overflow-x:auto;line-height:normal;font-family:Menlo,'DejaVu Sans Mono',consolas,'Courier New',monospace\"></pre>\n"
      ],
      "text/plain": []
     },
     "metadata": {},
     "output_type": "display_data"
    },
    {
     "data": {
      "text/plain": [
       "\n",
       "\u001b[1;35mIndex\u001b[0m\u001b[1m(\u001b[0m\u001b[1m[\u001b[0m\u001b[32m'release_version'\u001b[0m, \u001b[32m'enduser_category'\u001b[0m, \u001b[32m'category_id_tt'\u001b[0m,\n",
       "       \u001b[32m'category_name'\u001b[0m, \u001b[32m'reference_translated_cat_id'\u001b[0m, \u001b[32m'reference_id'\u001b[0m,\n",
       "       \u001b[32m'api_poi_id'\u001b[0m, \u001b[32m'providers_translated_cat_id'\u001b[0m, \u001b[32m'ref_lat'\u001b[0m, \u001b[32m'ref_lon'\u001b[0m,\n",
       "       \u001b[32m'location_distance_m'\u001b[0m, \u001b[32m'pav_threshold_distance_m'\u001b[0m,\n",
       "       \u001b[32m'pa_threshold_distance_m'\u001b[0m, \u001b[32m'name'\u001b[0m, \u001b[32m'api_poiName'\u001b[0m, \u001b[32m'name_ref_nrm'\u001b[0m,\n",
       "       \u001b[32m'name_prov_nrm'\u001b[0m, \u001b[32m'api_poiBrand'\u001b[0m, \u001b[32m'brand_flag'\u001b[0m, \u001b[32m'category_matching'\u001b[0m,\n",
       "       \u001b[32m'distance_matching'\u001b[0m, \u001b[32m'name_matching'\u001b[0m, \u001b[32m'match_code'\u001b[0m, \u001b[32m'match'\u001b[0m,\n",
       "       \u001b[32m'best_result'\u001b[0m, \u001b[32m'bool_pa'\u001b[0m, \u001b[32m'config_params'\u001b[0m, \u001b[32m'region'\u001b[0m, \u001b[32m'matching_run_id'\u001b[0m,\n",
       "       \u001b[32m'provider_id'\u001b[0m, \u001b[32m'country'\u001b[0m, \u001b[32m'sample_round'\u001b[0m\u001b[1m]\u001b[0m,\n",
       "      \u001b[33mdtype\u001b[0m=\u001b[32m'object'\u001b[0m\u001b[1m)\u001b[0m"
      ]
     },
     "execution_count": 83,
     "metadata": {},
     "output_type": "execute_result"
    }
   ],
   "source": [
    "matching_logs.columns"
   ]
  },
  {
   "cell_type": "code",
   "execution_count": 84,
   "id": "9132d874-ca03-49de-97bd-08c1084e2880",
   "metadata": {},
   "outputs": [],
   "source": [
    "matching_names = matching_logs.copy()"
   ]
  },
  {
   "cell_type": "code",
   "execution_count": null,
   "id": "ce105c23-73d1-4c70-a76f-e6b73ebed775",
   "metadata": {},
   "outputs": [],
   "source": []
  },
  {
   "cell_type": "code",
   "execution_count": 85,
   "id": "f9a9fe3e-7780-48e3-8219-280b4c5b63c8",
   "metadata": {},
   "outputs": [],
   "source": [
    "matching_names['name'] = matching_names['name'].apply(lambda x: normalize_characters(x))\n",
    "matching_names['api_poiName'] = matching_names['api_poiName'].apply(lambda x: normalize_characters(x))"
   ]
  },
  {
   "cell_type": "code",
   "execution_count": 86,
   "id": "c32291c5-3b49-4d18-82ab-9ca537891580",
   "metadata": {},
   "outputs": [],
   "source": [
    "matching_names = matching_names[(~matching_names['name_matching'].isnull()) & (matching_names['api_poiName']!= 'null') & (matching_names['match_code'] != 5)]"
   ]
  },
  {
   "cell_type": "code",
   "execution_count": 87,
   "id": "0f7ba75a-d33a-4340-8963-d749eee328fc",
   "metadata": {},
   "outputs": [
    {
     "data": {
      "text/html": [
       "<pre style=\"white-space:pre;overflow-x:auto;line-height:normal;font-family:Menlo,'DejaVu Sans Mono',consolas,'Courier New',monospace\"></pre>\n"
      ],
      "text/plain": []
     },
     "metadata": {},
     "output_type": "display_data"
    },
    {
     "data": {
      "text/html": [
       "<div>\n",
       "<style scoped>\n",
       "    .dataframe tbody tr th:only-of-type {\n",
       "        vertical-align: middle;\n",
       "    }\n",
       "\n",
       "    .dataframe tbody tr th {\n",
       "        vertical-align: top;\n",
       "    }\n",
       "\n",
       "    .dataframe thead th {\n",
       "        text-align: right;\n",
       "    }\n",
       "</style>\n",
       "<table border=\"1\" class=\"dataframe\">\n",
       "  <thead>\n",
       "    <tr style=\"text-align: right;\">\n",
       "      <th></th>\n",
       "      <th>release_version</th>\n",
       "      <th>enduser_category</th>\n",
       "      <th>category_id_tt</th>\n",
       "      <th>category_name</th>\n",
       "      <th>reference_translated_cat_id</th>\n",
       "      <th>reference_id</th>\n",
       "      <th>api_poi_id</th>\n",
       "      <th>providers_translated_cat_id</th>\n",
       "      <th>ref_lat</th>\n",
       "      <th>ref_lon</th>\n",
       "      <th>...</th>\n",
       "      <th>match_code</th>\n",
       "      <th>match</th>\n",
       "      <th>best_result</th>\n",
       "      <th>bool_pa</th>\n",
       "      <th>config_params</th>\n",
       "      <th>region</th>\n",
       "      <th>matching_run_id</th>\n",
       "      <th>provider_id</th>\n",
       "      <th>country</th>\n",
       "      <th>sample_round</th>\n",
       "    </tr>\n",
       "  </thead>\n",
       "  <tbody>\n",
       "    <tr>\n",
       "      <th>2</th>\n",
       "      <td>23320.000 OV</td>\n",
       "      <td>Automotive</td>\n",
       "      <td>9910</td>\n",
       "      <td>Automotive Dealer</td>\n",
       "      <td>9910</td>\n",
       "      <td>ChIJ3W8E5CrBz4URipUCDSXmFhA</td>\n",
       "      <td>3.393684e+10</td>\n",
       "      <td>7310.0</td>\n",
       "      <td>19.054592</td>\n",
       "      <td>-98.219340</td>\n",
       "      <td>...</td>\n",
       "      <td>2</td>\n",
       "      <td>False</td>\n",
       "      <td>True</td>\n",
       "      <td>NaN</td>\n",
       "      <td>NaN</td>\n",
       "      <td>NaN</td>\n",
       "      <td>20230814-06094864</td>\n",
       "      <td>om</td>\n",
       "      <td>MEX</td>\n",
       "      <td>cc</td>\n",
       "    </tr>\n",
       "    <tr>\n",
       "      <th>3</th>\n",
       "      <td>23320.000 OV</td>\n",
       "      <td>Eat &amp; Drink</td>\n",
       "      <td>9376</td>\n",
       "      <td>Café/Pub</td>\n",
       "      <td>9376</td>\n",
       "      <td>ChIJ54VcVHuK2YURvKEcmE-C290</td>\n",
       "      <td>3.398599e+10</td>\n",
       "      <td>7315.0</td>\n",
       "      <td>20.945530</td>\n",
       "      <td>-97.389084</td>\n",
       "      <td>...</td>\n",
       "      <td>1</td>\n",
       "      <td>True</td>\n",
       "      <td>True</td>\n",
       "      <td>True</td>\n",
       "      <td>NaN</td>\n",
       "      <td>NaN</td>\n",
       "      <td>20230814-06094864</td>\n",
       "      <td>om</td>\n",
       "      <td>MEX</td>\n",
       "      <td>cc</td>\n",
       "    </tr>\n",
       "    <tr>\n",
       "      <th>5</th>\n",
       "      <td>23320.000 OV</td>\n",
       "      <td>Things to see &amp; do</td>\n",
       "      <td>9357</td>\n",
       "      <td>Beach</td>\n",
       "      <td>9357</td>\n",
       "      <td>ChIJH7DqZYr414URTUf3jjOCJXw</td>\n",
       "      <td>1.021585e+10</td>\n",
       "      <td>9357.0</td>\n",
       "      <td>22.290174</td>\n",
       "      <td>-97.803566</td>\n",
       "      <td>...</td>\n",
       "      <td>1</td>\n",
       "      <td>True</td>\n",
       "      <td>True</td>\n",
       "      <td>False</td>\n",
       "      <td>NaN</td>\n",
       "      <td>NaN</td>\n",
       "      <td>20230814-06094864</td>\n",
       "      <td>om</td>\n",
       "      <td>MEX</td>\n",
       "      <td>cc</td>\n",
       "    </tr>\n",
       "    <tr>\n",
       "      <th>11</th>\n",
       "      <td>23320.000 OV</td>\n",
       "      <td>Eat &amp; Drink</td>\n",
       "      <td>9376</td>\n",
       "      <td>Café/Pub</td>\n",
       "      <td>9376</td>\n",
       "      <td>ChIJVxwysZvELIQRpNPc9kU8Z_0</td>\n",
       "      <td>3.400459e+10</td>\n",
       "      <td>7315.0</td>\n",
       "      <td>20.213703</td>\n",
       "      <td>-100.882120</td>\n",
       "      <td>...</td>\n",
       "      <td>2</td>\n",
       "      <td>False</td>\n",
       "      <td>True</td>\n",
       "      <td>NaN</td>\n",
       "      <td>NaN</td>\n",
       "      <td>NaN</td>\n",
       "      <td>20230814-06094864</td>\n",
       "      <td>om</td>\n",
       "      <td>MEX</td>\n",
       "      <td>cc</td>\n",
       "    </tr>\n",
       "    <tr>\n",
       "      <th>12</th>\n",
       "      <td>23320.000 OV</td>\n",
       "      <td>Automotive</td>\n",
       "      <td>9910</td>\n",
       "      <td>Automotive Dealer</td>\n",
       "      <td>9910</td>\n",
       "      <td>ChIJX7BDM4DAK4QRkX7UT6vS8lw</td>\n",
       "      <td>3.395777e+10</td>\n",
       "      <td>9910.0</td>\n",
       "      <td>21.117882</td>\n",
       "      <td>-101.707825</td>\n",
       "      <td>...</td>\n",
       "      <td>1</td>\n",
       "      <td>True</td>\n",
       "      <td>True</td>\n",
       "      <td>True</td>\n",
       "      <td>NaN</td>\n",
       "      <td>NaN</td>\n",
       "      <td>20230814-06094864</td>\n",
       "      <td>om</td>\n",
       "      <td>MEX</td>\n",
       "      <td>cc</td>\n",
       "    </tr>\n",
       "    <tr>\n",
       "      <th>...</th>\n",
       "      <td>...</td>\n",
       "      <td>...</td>\n",
       "      <td>...</td>\n",
       "      <td>...</td>\n",
       "      <td>...</td>\n",
       "      <td>...</td>\n",
       "      <td>...</td>\n",
       "      <td>...</td>\n",
       "      <td>...</td>\n",
       "      <td>...</td>\n",
       "      <td>...</td>\n",
       "      <td>...</td>\n",
       "      <td>...</td>\n",
       "      <td>...</td>\n",
       "      <td>...</td>\n",
       "      <td>...</td>\n",
       "      <td>...</td>\n",
       "      <td>...</td>\n",
       "      <td>...</td>\n",
       "      <td>...</td>\n",
       "      <td>...</td>\n",
       "    </tr>\n",
       "    <tr>\n",
       "      <th>19518</th>\n",
       "      <td>23320.000 OV</td>\n",
       "      <td>Things to see &amp; do</td>\n",
       "      <td>9362</td>\n",
       "      <td>Park and Recreation Area</td>\n",
       "      <td>9362</td>\n",
       "      <td>ChIJW-KdHvNGIYQRMqixIdx1U60</td>\n",
       "      <td>1.053229e+10</td>\n",
       "      <td>9362.0</td>\n",
       "      <td>20.714619</td>\n",
       "      <td>-105.274820</td>\n",
       "      <td>...</td>\n",
       "      <td>1</td>\n",
       "      <td>True</td>\n",
       "      <td>True</td>\n",
       "      <td>True</td>\n",
       "      <td>NaN</td>\n",
       "      <td>NaN</td>\n",
       "      <td>20230814-06094864</td>\n",
       "      <td>om</td>\n",
       "      <td>MEX</td>\n",
       "      <td>cc</td>\n",
       "    </tr>\n",
       "    <tr>\n",
       "      <th>19523</th>\n",
       "      <td>23320.000 OV</td>\n",
       "      <td>Amenities</td>\n",
       "      <td>7328</td>\n",
       "      <td>Bank</td>\n",
       "      <td>7328</td>\n",
       "      <td>ChIJ2aMAqttpNg0RVxngOC1-VWo</td>\n",
       "      <td>3.392415e+10</td>\n",
       "      <td>7328.0</td>\n",
       "      <td>43.358700</td>\n",
       "      <td>-5.506369</td>\n",
       "      <td>...</td>\n",
       "      <td>1</td>\n",
       "      <td>True</td>\n",
       "      <td>True</td>\n",
       "      <td>True</td>\n",
       "      <td>NaN</td>\n",
       "      <td>NaN</td>\n",
       "      <td>20230814-06094864</td>\n",
       "      <td>om</td>\n",
       "      <td>ESP</td>\n",
       "      <td>cc</td>\n",
       "    </tr>\n",
       "    <tr>\n",
       "      <th>19526</th>\n",
       "      <td>23320.000 OV</td>\n",
       "      <td>Lodging</td>\n",
       "      <td>7360</td>\n",
       "      <td>Camping Ground</td>\n",
       "      <td>7360</td>\n",
       "      <td>ChIJNwJYS9N9MQ0RR5FIbDmEiYs</td>\n",
       "      <td>3.398923e+10</td>\n",
       "      <td>7360.0</td>\n",
       "      <td>43.545910</td>\n",
       "      <td>-6.995946</td>\n",
       "      <td>...</td>\n",
       "      <td>1</td>\n",
       "      <td>True</td>\n",
       "      <td>True</td>\n",
       "      <td>True</td>\n",
       "      <td>NaN</td>\n",
       "      <td>NaN</td>\n",
       "      <td>20230814-06094864</td>\n",
       "      <td>om</td>\n",
       "      <td>ESP</td>\n",
       "      <td>cc</td>\n",
       "    </tr>\n",
       "    <tr>\n",
       "      <th>19532</th>\n",
       "      <td>23320.000 OV</td>\n",
       "      <td>Things to see &amp; do</td>\n",
       "      <td>9357</td>\n",
       "      <td>Beach</td>\n",
       "      <td>9357</td>\n",
       "      <td>ChIJgyIbeDyruxIRKTnr1nkabJ0</td>\n",
       "      <td>7.324229e+09</td>\n",
       "      <td>8099.0</td>\n",
       "      <td>41.861630</td>\n",
       "      <td>3.150960</td>\n",
       "      <td>...</td>\n",
       "      <td>1</td>\n",
       "      <td>True</td>\n",
       "      <td>True</td>\n",
       "      <td>False</td>\n",
       "      <td>NaN</td>\n",
       "      <td>NaN</td>\n",
       "      <td>20230814-06094864</td>\n",
       "      <td>om</td>\n",
       "      <td>ESP</td>\n",
       "      <td>cc</td>\n",
       "    </tr>\n",
       "    <tr>\n",
       "      <th>19535</th>\n",
       "      <td>23320.000 OV</td>\n",
       "      <td>Things to see &amp; do</td>\n",
       "      <td>9357</td>\n",
       "      <td>Beach</td>\n",
       "      <td>9357</td>\n",
       "      <td>ChIJp9UOGTEXuxIRLZBjWWEQorA</td>\n",
       "      <td>3.395966e+10</td>\n",
       "      <td>7376.0</td>\n",
       "      <td>41.699074</td>\n",
       "      <td>2.850678</td>\n",
       "      <td>...</td>\n",
       "      <td>1</td>\n",
       "      <td>True</td>\n",
       "      <td>True</td>\n",
       "      <td>True</td>\n",
       "      <td>NaN</td>\n",
       "      <td>NaN</td>\n",
       "      <td>20230814-06094864</td>\n",
       "      <td>om</td>\n",
       "      <td>ESP</td>\n",
       "      <td>cc</td>\n",
       "    </tr>\n",
       "  </tbody>\n",
       "</table>\n",
       "<p>10313 rows × 32 columns</p>\n",
       "</div>"
      ],
      "text/plain": [
       "\n",
       "      release_version    enduser_category  category_id_tt  \\\n",
       "\u001b[1;36m2\u001b[0m        \u001b[1;36m23320.000\u001b[0m OV          Automotive            \u001b[1;36m9910\u001b[0m   \n",
       "\u001b[1;36m3\u001b[0m        \u001b[1;36m23320.000\u001b[0m OV         Eat & Drink            \u001b[1;36m9376\u001b[0m   \n",
       "\u001b[1;36m5\u001b[0m        \u001b[1;36m23320.000\u001b[0m OV  Things to see & do            \u001b[1;36m9357\u001b[0m   \n",
       "\u001b[1;36m11\u001b[0m       \u001b[1;36m23320.000\u001b[0m OV         Eat & Drink            \u001b[1;36m9376\u001b[0m   \n",
       "\u001b[1;36m12\u001b[0m       \u001b[1;36m23320.000\u001b[0m OV          Automotive            \u001b[1;36m9910\u001b[0m   \n",
       "\u001b[33m...\u001b[0m               \u001b[33m...\u001b[0m                 \u001b[33m...\u001b[0m             \u001b[33m...\u001b[0m   \n",
       "\u001b[1;36m19518\u001b[0m    \u001b[1;36m23320.000\u001b[0m OV  Things to see & do            \u001b[1;36m9362\u001b[0m   \n",
       "\u001b[1;36m19523\u001b[0m    \u001b[1;36m23320.000\u001b[0m OV           Amenities            \u001b[1;36m7328\u001b[0m   \n",
       "\u001b[1;36m19526\u001b[0m    \u001b[1;36m23320.000\u001b[0m OV             Lodging            \u001b[1;36m7360\u001b[0m   \n",
       "\u001b[1;36m19532\u001b[0m    \u001b[1;36m23320.000\u001b[0m OV  Things to see & do            \u001b[1;36m9357\u001b[0m   \n",
       "\u001b[1;36m19535\u001b[0m    \u001b[1;36m23320.000\u001b[0m OV  Things to see & do            \u001b[1;36m9357\u001b[0m   \n",
       "\n",
       "                  category_name  reference_translated_cat_id  \\\n",
       "\u001b[1;36m2\u001b[0m             Automotive Dealer                         \u001b[1;36m9910\u001b[0m   \n",
       "\u001b[1;36m3\u001b[0m                      Café/Pub                         \u001b[1;36m9376\u001b[0m   \n",
       "\u001b[1;36m5\u001b[0m                         Beach                         \u001b[1;36m9357\u001b[0m   \n",
       "\u001b[1;36m11\u001b[0m                     Café/Pub                         \u001b[1;36m9376\u001b[0m   \n",
       "\u001b[1;36m12\u001b[0m            Automotive Dealer                         \u001b[1;36m9910\u001b[0m   \n",
       "\u001b[33m...\u001b[0m                         \u001b[33m...\u001b[0m                          \u001b[33m...\u001b[0m   \n",
       "\u001b[1;36m19518\u001b[0m  Park and Recreation Area                         \u001b[1;36m9362\u001b[0m   \n",
       "\u001b[1;36m19523\u001b[0m                      Bank                         \u001b[1;36m7328\u001b[0m   \n",
       "\u001b[1;36m19526\u001b[0m            Camping Ground                         \u001b[1;36m7360\u001b[0m   \n",
       "\u001b[1;36m19532\u001b[0m                     Beach                         \u001b[1;36m9357\u001b[0m   \n",
       "\u001b[1;36m19535\u001b[0m                     Beach                         \u001b[1;36m9357\u001b[0m   \n",
       "\n",
       "                      reference_id    api_poi_id  providers_translated_cat_id  \\\n",
       "\u001b[1;36m2\u001b[0m      ChIJ3W8E5CrBz4URipUCDSXmFhA  \u001b[1;36m3.393684e+10\u001b[0m                       \u001b[1;36m7310.0\u001b[0m   \n",
       "\u001b[1;36m3\u001b[0m      ChIJ54VcVHuK2YURvKEcmE-C290  \u001b[1;36m3.398599e+10\u001b[0m                       \u001b[1;36m7315.0\u001b[0m   \n",
       "\u001b[1;36m5\u001b[0m      ChIJH7DqZYr414URTUf3jjOCJXw  \u001b[1;36m1.021585e+10\u001b[0m                       \u001b[1;36m9357.0\u001b[0m   \n",
       "\u001b[1;36m11\u001b[0m     ChIJVxwysZvELIQRpNPc9kU8Z_0  \u001b[1;36m3.400459e+10\u001b[0m                       \u001b[1;36m7315.0\u001b[0m   \n",
       "\u001b[1;36m12\u001b[0m     ChIJX7BDM4DAK4QRkX7UT6vS8lw  \u001b[1;36m3.395777e+10\u001b[0m                       \u001b[1;36m9910.0\u001b[0m   \n",
       "\u001b[33m...\u001b[0m                            \u001b[33m...\u001b[0m           \u001b[33m...\u001b[0m                          \u001b[33m...\u001b[0m   \n",
       "\u001b[1;36m19518\u001b[0m  ChIJW-KdHvNGIYQRMqixIdx1U60  \u001b[1;36m1.053229e+10\u001b[0m                       \u001b[1;36m9362.0\u001b[0m   \n",
       "\u001b[1;36m19523\u001b[0m  ChIJ2aMAqttpNg0RVxngOC1-VWo  \u001b[1;36m3.392415e+10\u001b[0m                       \u001b[1;36m7328.0\u001b[0m   \n",
       "\u001b[1;36m19526\u001b[0m  ChIJNwJYS9N9MQ0RR5FIbDmEiYs  \u001b[1;36m3.398923e+10\u001b[0m                       \u001b[1;36m7360.0\u001b[0m   \n",
       "\u001b[1;36m19532\u001b[0m  ChIJgyIbeDyruxIRKTnr1nkabJ0  \u001b[1;36m7.324229e+09\u001b[0m                       \u001b[1;36m8099.0\u001b[0m   \n",
       "\u001b[1;36m19535\u001b[0m  ChIJp9UOGTEXuxIRLZBjWWEQorA  \u001b[1;36m3.395966e+10\u001b[0m                       \u001b[1;36m7376.0\u001b[0m   \n",
       "\n",
       "         ref_lat     ref_lon  \u001b[33m...\u001b[0m  match_code  match  best_result bool_pa  \\\n",
       "\u001b[1;36m2\u001b[0m      \u001b[1;36m19.054592\u001b[0m  \u001b[1;36m-98.219340\u001b[0m  \u001b[33m...\u001b[0m           \u001b[1;36m2\u001b[0m  \u001b[3;91mFalse\u001b[0m         \u001b[3;92mTrue\u001b[0m     NaN   \n",
       "\u001b[1;36m3\u001b[0m      \u001b[1;36m20.945530\u001b[0m  \u001b[1;36m-97.389084\u001b[0m  \u001b[33m...\u001b[0m           \u001b[1;36m1\u001b[0m   \u001b[3;92mTrue\u001b[0m         \u001b[3;92mTrue\u001b[0m    \u001b[3;92mTrue\u001b[0m   \n",
       "\u001b[1;36m5\u001b[0m      \u001b[1;36m22.290174\u001b[0m  \u001b[1;36m-97.803566\u001b[0m  \u001b[33m...\u001b[0m           \u001b[1;36m1\u001b[0m   \u001b[3;92mTrue\u001b[0m         \u001b[3;92mTrue\u001b[0m   \u001b[3;91mFalse\u001b[0m   \n",
       "\u001b[1;36m11\u001b[0m     \u001b[1;36m20.213703\u001b[0m \u001b[1;36m-100.882120\u001b[0m  \u001b[33m...\u001b[0m           \u001b[1;36m2\u001b[0m  \u001b[3;91mFalse\u001b[0m         \u001b[3;92mTrue\u001b[0m     NaN   \n",
       "\u001b[1;36m12\u001b[0m     \u001b[1;36m21.117882\u001b[0m \u001b[1;36m-101.707825\u001b[0m  \u001b[33m...\u001b[0m           \u001b[1;36m1\u001b[0m   \u001b[3;92mTrue\u001b[0m         \u001b[3;92mTrue\u001b[0m    \u001b[3;92mTrue\u001b[0m   \n",
       "\u001b[33m...\u001b[0m          \u001b[33m...\u001b[0m         \u001b[33m...\u001b[0m  \u001b[33m...\u001b[0m         \u001b[33m...\u001b[0m    \u001b[33m...\u001b[0m          \u001b[33m...\u001b[0m     \u001b[33m...\u001b[0m   \n",
       "\u001b[1;36m19518\u001b[0m  \u001b[1;36m20.714619\u001b[0m \u001b[1;36m-105.274820\u001b[0m  \u001b[33m...\u001b[0m           \u001b[1;36m1\u001b[0m   \u001b[3;92mTrue\u001b[0m         \u001b[3;92mTrue\u001b[0m    \u001b[3;92mTrue\u001b[0m   \n",
       "\u001b[1;36m19523\u001b[0m  \u001b[1;36m43.358700\u001b[0m   \u001b[1;36m-5.506369\u001b[0m  \u001b[33m...\u001b[0m           \u001b[1;36m1\u001b[0m   \u001b[3;92mTrue\u001b[0m         \u001b[3;92mTrue\u001b[0m    \u001b[3;92mTrue\u001b[0m   \n",
       "\u001b[1;36m19526\u001b[0m  \u001b[1;36m43.545910\u001b[0m   \u001b[1;36m-6.995946\u001b[0m  \u001b[33m...\u001b[0m           \u001b[1;36m1\u001b[0m   \u001b[3;92mTrue\u001b[0m         \u001b[3;92mTrue\u001b[0m    \u001b[3;92mTrue\u001b[0m   \n",
       "\u001b[1;36m19532\u001b[0m  \u001b[1;36m41.861630\u001b[0m    \u001b[1;36m3.150960\u001b[0m  \u001b[33m...\u001b[0m           \u001b[1;36m1\u001b[0m   \u001b[3;92mTrue\u001b[0m         \u001b[3;92mTrue\u001b[0m   \u001b[3;91mFalse\u001b[0m   \n",
       "\u001b[1;36m19535\u001b[0m  \u001b[1;36m41.699074\u001b[0m    \u001b[1;36m2.850678\u001b[0m  \u001b[33m...\u001b[0m           \u001b[1;36m1\u001b[0m   \u001b[3;92mTrue\u001b[0m         \u001b[3;92mTrue\u001b[0m    \u001b[3;92mTrue\u001b[0m   \n",
       "\n",
       "      config_params region    matching_run_id provider_id country sample_round  \n",
       "\u001b[1;36m2\u001b[0m               NaN    NaN  \u001b[1;36m20230814\u001b[0m-\u001b[1;36m06094864\u001b[0m          om     MEX           cc  \n",
       "\u001b[1;36m3\u001b[0m               NaN    NaN  \u001b[1;36m20230814\u001b[0m-\u001b[1;36m06094864\u001b[0m          om     MEX           cc  \n",
       "\u001b[1;36m5\u001b[0m               NaN    NaN  \u001b[1;36m20230814\u001b[0m-\u001b[1;36m06094864\u001b[0m          om     MEX           cc  \n",
       "\u001b[1;36m11\u001b[0m              NaN    NaN  \u001b[1;36m20230814\u001b[0m-\u001b[1;36m06094864\u001b[0m          om     MEX           cc  \n",
       "\u001b[1;36m12\u001b[0m              NaN    NaN  \u001b[1;36m20230814\u001b[0m-\u001b[1;36m06094864\u001b[0m          om     MEX           cc  \n",
       "\u001b[33m...\u001b[0m             \u001b[33m...\u001b[0m    \u001b[33m...\u001b[0m                \u001b[33m...\u001b[0m         \u001b[33m...\u001b[0m     \u001b[33m...\u001b[0m          \u001b[33m...\u001b[0m  \n",
       "\u001b[1;36m19518\u001b[0m           NaN    NaN  \u001b[1;36m20230814\u001b[0m-\u001b[1;36m06094864\u001b[0m          om     MEX           cc  \n",
       "\u001b[1;36m19523\u001b[0m           NaN    NaN  \u001b[1;36m20230814\u001b[0m-\u001b[1;36m06094864\u001b[0m          om     ESP           cc  \n",
       "\u001b[1;36m19526\u001b[0m           NaN    NaN  \u001b[1;36m20230814\u001b[0m-\u001b[1;36m06094864\u001b[0m          om     ESP           cc  \n",
       "\u001b[1;36m19532\u001b[0m           NaN    NaN  \u001b[1;36m20230814\u001b[0m-\u001b[1;36m06094864\u001b[0m          om     ESP           cc  \n",
       "\u001b[1;36m19535\u001b[0m           NaN    NaN  \u001b[1;36m20230814\u001b[0m-\u001b[1;36m06094864\u001b[0m          om     ESP           cc  \n",
       "\n",
       "\u001b[1m[\u001b[0m\u001b[1;36m10313\u001b[0m rows x \u001b[1;36m32\u001b[0m columns\u001b[1m]\u001b[0m"
      ]
     },
     "execution_count": 87,
     "metadata": {},
     "output_type": "execute_result"
    }
   ],
   "source": [
    "matching_names"
   ]
  },
  {
   "cell_type": "code",
   "execution_count": 88,
   "id": "315b5cf4-4ed7-4cb7-a131-9d2e0a4d96a7",
   "metadata": {},
   "outputs": [],
   "source": [
    "matching_test_names = matching_names[['name', 'api_poiName']].values"
   ]
  },
  {
   "cell_type": "code",
   "execution_count": 89,
   "id": "bf1e608c-b0a4-401a-aeff-fcdaf1cbbeed",
   "metadata": {},
   "outputs": [],
   "source": [
    "matching_test_names_encoded_left = encode_sparsed_list(matching_test_names[:, 0],char_to_index_dict=char_to_index, max_len=MAX_NAME_LEN)\n",
    "matching_test_names_encoded_right = encode_sparsed_list(matching_test_names[:, 1],char_to_index_dict=char_to_index, max_len=MAX_NAME_LEN)"
   ]
  },
  {
   "cell_type": "code",
   "execution_count": 90,
   "id": "c1b23e22-8d62-488e-bfe2-d453c3d507dd",
   "metadata": {},
   "outputs": [
    {
     "name": "stdout",
     "output_type": "stream",
     "text": [
      "323/323 [==============================] - 5s 16ms/step\n"
     ]
    }
   ],
   "source": [
    "matching_test_names_prediction = poi_c2v.model.predict((matching_test_names_encoded_left, matching_test_names_encoded_right))"
   ]
  },
  {
   "cell_type": "code",
   "execution_count": 91,
   "id": "e38c67dd-7b58-416a-8fa2-06dd7c904a1b",
   "metadata": {},
   "outputs": [],
   "source": [
    "matching_names['cnn_name_match_score'] = matching_test_names_prediction"
   ]
  },
  {
   "cell_type": "code",
   "execution_count": 92,
   "id": "60c6ef26-4671-461f-89bb-9f8caed27ec3",
   "metadata": {},
   "outputs": [],
   "source": [
    "matching_names['edit_distance_match'] = matching_names['name_matching']>=0.75\n",
    "matching_names['cnn_match'] = matching_names['cnn_name_match_score']>=0.5"
   ]
  },
  {
   "cell_type": "code",
   "execution_count": 93,
   "id": "91ccd301-36c0-41dd-b0d4-4c07cb32d06f",
   "metadata": {},
   "outputs": [
    {
     "data": {
      "text/html": [
       "<pre style=\"white-space:pre;overflow-x:auto;line-height:normal;font-family:Menlo,'DejaVu Sans Mono',consolas,'Courier New',monospace\"></pre>\n"
      ],
      "text/plain": []
     },
     "metadata": {},
     "output_type": "display_data"
    },
    {
     "data": {
      "text/html": [
       "<div>\n",
       "<style scoped>\n",
       "    .dataframe tbody tr th:only-of-type {\n",
       "        vertical-align: middle;\n",
       "    }\n",
       "\n",
       "    .dataframe tbody tr th {\n",
       "        vertical-align: top;\n",
       "    }\n",
       "\n",
       "    .dataframe thead th {\n",
       "        text-align: right;\n",
       "    }\n",
       "</style>\n",
       "<table border=\"1\" class=\"dataframe\">\n",
       "  <thead>\n",
       "    <tr style=\"text-align: right;\">\n",
       "      <th>cnn_match</th>\n",
       "      <th>False</th>\n",
       "      <th>True</th>\n",
       "    </tr>\n",
       "    <tr>\n",
       "      <th>edit_distance_match</th>\n",
       "      <th></th>\n",
       "      <th></th>\n",
       "    </tr>\n",
       "  </thead>\n",
       "  <tbody>\n",
       "    <tr>\n",
       "      <th>False</th>\n",
       "      <td>191</td>\n",
       "      <td>17</td>\n",
       "    </tr>\n",
       "    <tr>\n",
       "      <th>True</th>\n",
       "      <td>1902</td>\n",
       "      <td>8203</td>\n",
       "    </tr>\n",
       "  </tbody>\n",
       "</table>\n",
       "</div>"
      ],
      "text/plain": [
       "\n",
       "cnn_match            \u001b[3;91mFalse\u001b[0m  \u001b[3;92mTrue\u001b[0m \n",
       "edit_distance_match              \n",
       "\u001b[3;91mFalse\u001b[0m                  \u001b[1;36m191\u001b[0m     \u001b[1;36m17\u001b[0m\n",
       "\u001b[3;92mTrue\u001b[0m                  \u001b[1;36m1902\u001b[0m   \u001b[1;36m8203\u001b[0m"
      ]
     },
     "execution_count": 93,
     "metadata": {},
     "output_type": "execute_result"
    }
   ],
   "source": [
    "pd.crosstab(matching_names['edit_distance_match'], matching_names['cnn_match'])"
   ]
  },
  {
   "cell_type": "code",
   "execution_count": 218,
   "id": "0a6b02f2-1659-4c07-8d11-b0a9e2fd69e4",
   "metadata": {},
   "outputs": [],
   "source": [
    "matching_names[['category_name', 'name', 'api_poiName','api_poiBrand', 'name_ref_nrm', 'name_prov_nrm', 'location_distance_m', 'match','match_code', 'cnn_match', 'edit_distance_match', 'name_matching', 'cnn_name_match_score']].to_csv('name_matching_comparison_cnn_vs_edit.csv', index=False)"
   ]
  },
  {
   "cell_type": "code",
   "execution_count": 219,
   "id": "73cc7078-8da4-4658-9cc7-adf6e6bbf2b2",
   "metadata": {},
   "outputs": [
    {
     "data": {
      "text/html": [
       "<pre style=\"white-space:pre;overflow-x:auto;line-height:normal;font-family:Menlo,'DejaVu Sans Mono',consolas,'Courier New',monospace\"></pre>\n"
      ],
      "text/plain": []
     },
     "metadata": {},
     "output_type": "display_data"
    },
    {
     "data": {
      "text/plain": [
       "\n",
       "\u001b[1m(\u001b[0m\n",
       "    \u001b[1;35marray\u001b[0m\u001b[1m(\u001b[0m\u001b[1m[\u001b[0m  \u001b[1;36m53\u001b[0m.,   \u001b[1;36m75\u001b[0m.,  \u001b[1;36m100\u001b[0m.,   \u001b[1;36m76\u001b[0m.,   \u001b[1;36m36\u001b[0m.,   \u001b[1;36m47\u001b[0m.,  \u001b[1;36m142\u001b[0m.,  \u001b[1;36m302\u001b[0m.,  \u001b[1;36m407\u001b[0m.,\n",
       "       \u001b[1;36m9075\u001b[0m.\u001b[1m]\u001b[0m\u001b[1m)\u001b[0m,\n",
       "    \u001b[1;35marray\u001b[0m\u001b[1m(\u001b[0m\u001b[1m[\u001b[0m\u001b[1;36m5.56590210e-04\u001b[0m, \u001b[1;36m1.00500919e-01\u001b[0m, \u001b[1;36m2.00445250e-01\u001b[0m, \u001b[1;36m3.00389588e-01\u001b[0m,\n",
       "       \u001b[1;36m4.00333911e-01\u001b[0m, \u001b[1;36m5.00278234e-01\u001b[0m, \u001b[1;36m6.00222588e-01\u001b[0m, \u001b[1;36m7.00166881e-01\u001b[0m,\n",
       "       \u001b[1;36m8.00111234e-01\u001b[0m, \u001b[1;36m9.00055528e-01\u001b[0m, \u001b[1;36m9.99999881e-01\u001b[0m\u001b[1m]\u001b[0m\u001b[1m)\u001b[0m,\n",
       "    \u001b[1m<\u001b[0m\u001b[1;95mBarContainer\u001b[0m\u001b[39m object of \u001b[0m\u001b[1;36m10\u001b[0m\u001b[39m artists\u001b[0m\u001b[1m>\u001b[0m\n",
       "\u001b[1m)\u001b[0m"
      ]
     },
     "execution_count": 219,
     "metadata": {},
     "output_type": "execute_result"
    },
    {
     "data": {
      "text/html": [
       "<pre style=\"white-space:pre;overflow-x:auto;line-height:normal;font-family:Menlo,'DejaVu Sans Mono',consolas,'Courier New',monospace\"></pre>\n"
      ],
      "text/plain": []
     },
     "metadata": {},
     "output_type": "display_data"
    },
    {
     "data": {
      "image/png": "[encoded data removed]",
      "text/plain": [
       "\u001b[1m<\u001b[0m\u001b[1;95mFigure\u001b[0m\u001b[39m size 64\u001b[0m\u001b[1;36m0x480\u001b[0m\u001b[39m with \u001b[0m\u001b[1;36m1\u001b[0m\u001b[39m Axes\u001b[0m\u001b[1m>\u001b[0m"
      ]
     },
     "metadata": {},
     "output_type": "display_data"
    }
   ],
   "source": [
    "plt.hist(matching_test_names_prediction)"
   ]
  },
  {
   "cell_type": "markdown",
   "id": "aa176c71-8cf1-4766-86fe-8966dc5b3b5c",
   "metadata": {},
   "source": [
    "# Orbis data comparison"
   ]
  },
  {
   "cell_type": "code",
   "execution_count": 98,
   "id": "7ba62dea-5a15-42d7-9134-c4fc8879b56e",
   "metadata": {},
   "outputs": [],
   "source": [
    "def generate_comparison_model_vs_edit(pairs, target, match_th, ):\n",
    "    X_encoded_1 = encode_sparsed_list(pairs[:, 0],char_to_index_dict=char_to_index, max_len=MAX_NAME_LEN)\n",
    "    X_encoded_2 = encode_sparsed_list(pairs[:, 1],char_to_index_dict=char_to_index, max_len=MAX_NAME_LEN)\n",
    "    \n",
    "    prediction = poi_c2v.model.predict((X_encoded_1, X_encoded_2))\n",
    "    prediction_edit = np.array([fuzz.token_set_ratio(name1, name2)/100 for name1, name2 in pairs])\n",
    "    \n",
    "    y_pred = prediction>match_th\n",
    "    y_pred = y_pred.flatten()\n",
    "    y_pred_edit = prediction_edit>.75\n",
    "    y_pred_edit = y_pred_edit.flatten()\n",
    "    target = target.astype(np.bool).flatten()\n",
    "\n",
    "    \n",
    "    print('confussion matrix model')\n",
    "    print(pd.crosstab(target, y_pred))\n",
    "    print('\\n confussion matrix edit')\n",
    "    print(pd.crosstab(target, y_pred_edit))\n",
    "    \n",
    "    print('/n/n Classification report model')\n",
    "    print(classification_report((target>=.5).flatten(), y_pred))\n",
    "    print('/n Classification report edit')\n",
    "    print(classification_report((target>=.5).flatten(), y_pred_edit))"
   ]
  },
  {
   "cell_type": "code",
   "execution_count": 220,
   "id": "8b05c345-a143-411a-a047-426e7bf7c5d4",
   "metadata": {},
   "outputs": [
    {
     "name": "stdout",
     "output_type": "stream",
     "text": [
      "9964/9964 [==============================] - 142s 14ms/step\n"
     ]
    },
    {
     "data": {
      "text/html": [
       "<pre style=\"white-space:pre;overflow-x:auto;line-height:normal;font-family:Menlo,'DejaVu Sans Mono',consolas,'Courier New',monospace\"><span style=\"color: #7fbfbf; text-decoration-color: #7fbfbf\">[08/21/23 14:02:59] </span><span style=\"color: #800000; text-decoration-color: #800000\">WARNING </span> <span style=\"color: #800080; text-decoration-color: #800080\">/tmp/ipykernel_883/</span><span style=\"color: #ff00ff; text-decoration-color: #ff00ff\">1921957139.py</span>:<span style=\"color: #008080; text-decoration-color: #008080; font-weight: bold\">12</span>: DeprecationWarning: `np.bool` is  <a href=\"file:///usr/lib/python3.9/warnings.py\" target=\"_blank\"><span style=\"color: #7f7f7f; text-decoration-color: #7f7f7f\">warnings.py</span></a><span style=\"color: #7f7f7f; text-decoration-color: #7f7f7f\">:</span><a href=\"file:///usr/lib/python3.9/warnings.py#109\" target=\"_blank\"><span style=\"color: #7f7f7f; text-decoration-color: #7f7f7f\">109</span></a>\n",
       "<span style=\"color: #7fbfbf; text-decoration-color: #7fbfbf\">                    </span>         a deprecated alias for the builtin `bool`. To silence this warning,    <span style=\"color: #7f7f7f; text-decoration-color: #7f7f7f\">               </span>\n",
       "<span style=\"color: #7fbfbf; text-decoration-color: #7fbfbf\">                    </span>         use `bool` by itself. Doing this will not modify any behavior and is   <span style=\"color: #7f7f7f; text-decoration-color: #7f7f7f\">               </span>\n",
       "<span style=\"color: #7fbfbf; text-decoration-color: #7fbfbf\">                    </span>         safe. If you specifically wanted the numpy scalar type, use `np.bool_` <span style=\"color: #7f7f7f; text-decoration-color: #7f7f7f\">               </span>\n",
       "<span style=\"color: #7fbfbf; text-decoration-color: #7fbfbf\">                    </span>         here.                                                                  <span style=\"color: #7f7f7f; text-decoration-color: #7f7f7f\">               </span>\n",
       "<span style=\"color: #7fbfbf; text-decoration-color: #7fbfbf\">                    </span>         Deprecated in NumPy <span style=\"color: #008080; text-decoration-color: #008080; font-weight: bold\">1.20</span>; for more details and guidance:               <span style=\"color: #7f7f7f; text-decoration-color: #7f7f7f\">               </span>\n",
       "<span style=\"color: #7fbfbf; text-decoration-color: #7fbfbf\">                    </span>         <span style=\"color: #0000ff; text-decoration-color: #0000ff; text-decoration: underline\">https://numpy.org/devdocs/release/1.20.0-notes.html#deprecations</span>       <span style=\"color: #7f7f7f; text-decoration-color: #7f7f7f\">               </span>\n",
       "<span style=\"color: #7fbfbf; text-decoration-color: #7fbfbf\">                    </span>           target = <span style=\"color: #800080; text-decoration-color: #800080; font-weight: bold\">target.astype</span><span style=\"font-weight: bold\">(</span>np.bool<span style=\"font-weight: bold\">)</span><span style=\"color: #800080; text-decoration-color: #800080; font-weight: bold\">.flatten</span><span style=\"font-weight: bold\">()</span>                            <span style=\"color: #7f7f7f; text-decoration-color: #7f7f7f\">               </span>\n",
       "<span style=\"color: #7fbfbf; text-decoration-color: #7fbfbf\">                    </span>                                                                                <span style=\"color: #7f7f7f; text-decoration-color: #7f7f7f\">               </span>\n",
       "</pre>\n"
      ],
      "text/plain": [
       "\u001b[2;36m[08/21/23 14:02:59]\u001b[0m\u001b[2;36m \u001b[0m\u001b[31mWARNING \u001b[0m \u001b[35m/tmp/ipykernel_883/\u001b[0m\u001b[95m1921957139.py\u001b[0m:\u001b[1;36m12\u001b[0m: DeprecationWarning: `np.bool` is  \u001b]8;id=99626;file:///usr/lib/python3.9/warnings.py\u001b\\\u001b[2mwarnings.py\u001b[0m\u001b]8;;\u001b\\\u001b[2m:\u001b[0m\u001b]8;id=186299;file:///usr/lib/python3.9/warnings.py#109\u001b\\\u001b[2m109\u001b[0m\u001b]8;;\u001b\\\n",
       "\u001b[2;36m                    \u001b[0m         a deprecated alias for the builtin `bool`. To silence this warning,    \u001b[2m               \u001b[0m\n",
       "\u001b[2;36m                    \u001b[0m         use `bool` by itself. Doing this will not modify any behavior and is   \u001b[2m               \u001b[0m\n",
       "\u001b[2;36m                    \u001b[0m         safe. If you specifically wanted the numpy scalar type, use `np.bool_` \u001b[2m               \u001b[0m\n",
       "\u001b[2;36m                    \u001b[0m         here.                                                                  \u001b[2m               \u001b[0m\n",
       "\u001b[2;36m                    \u001b[0m         Deprecated in NumPy \u001b[1;36m1.20\u001b[0m; for more details and guidance:               \u001b[2m               \u001b[0m\n",
       "\u001b[2;36m                    \u001b[0m         \u001b[4;94mhttps://numpy.org/devdocs/release/1.20.0-notes.html#deprecations\u001b[0m       \u001b[2m               \u001b[0m\n",
       "\u001b[2;36m                    \u001b[0m           target = \u001b[1;35mtarget.astype\u001b[0m\u001b[1m(\u001b[0mnp.bool\u001b[1m)\u001b[0m\u001b[1;35m.flatten\u001b[0m\u001b[1m(\u001b[0m\u001b[1m)\u001b[0m                            \u001b[2m               \u001b[0m\n",
       "\u001b[2;36m                    \u001b[0m                                                                                \u001b[2m               \u001b[0m\n"
      ]
     },
     "metadata": {},
     "output_type": "display_data"
    },
    {
     "name": "stdout",
     "output_type": "stream",
     "text": [
      "confussion matrix model\n",
      "col_0   False   True \n",
      "row_0                \n",
      "False  147848   11570\n",
      "True     1939  157479\n",
      "\n",
      " confussion matrix edit\n",
      "col_0   False   True \n",
      "row_0                \n",
      "False  158831     587\n",
      "True    12869  146549\n",
      "/n/n Classification report model\n",
      "              precision    recall  f1-score   support\n",
      "\n",
      "       False       0.99      0.93      0.96    159418\n",
      "        True       0.93      0.99      0.96    159418\n",
      "\n",
      "    accuracy                           0.96    318836\n",
      "   macro avg       0.96      0.96      0.96    318836\n",
      "weighted avg       0.96      0.96      0.96    318836\n",
      "\n",
      "/n Classification report edit\n",
      "              precision    recall  f1-score   support\n",
      "\n",
      "       False       0.93      1.00      0.96    159418\n",
      "        True       1.00      0.92      0.96    159418\n",
      "\n",
      "    accuracy                           0.96    318836\n",
      "   macro avg       0.96      0.96      0.96    318836\n",
      "weighted avg       0.96      0.96      0.96    318836\n",
      "\n"
     ]
    }
   ],
   "source": [
    "generate_comparison_model_vs_edit(name_pairs_orbis, target_orbis, 0.5)"
   ]
  },
  {
   "cell_type": "markdown",
   "id": "def8576b-78d6-4861-b4dc-25097658deb4",
   "metadata": {},
   "source": [
    "# Dataset gold standard"
   ]
  },
  {
   "cell_type": "code",
   "execution_count": 99,
   "id": "70791960-451d-4257-8238-a3c8b9846843",
   "metadata": {},
   "outputs": [],
   "source": [
    "data_standard = pd.read_csv('../../data/02_intermediate/names/names.csv')"
   ]
  },
  {
   "cell_type": "code",
   "execution_count": 100,
   "id": "0cd364c2-a5f3-4f39-a206-b1f9950a02e5",
   "metadata": {},
   "outputs": [],
   "source": [
    "data_standard['name_1'] = data_standard['name_1'].apply(lambda x: normalize_characters(x))\n",
    "data_standard['name_2'] = data_standard['name_2'].apply(lambda x: normalize_characters(x))"
   ]
  },
  {
   "cell_type": "code",
   "execution_count": 101,
   "id": "f9a4253b-9fd2-4eb8-ad6f-4350edf72562",
   "metadata": {},
   "outputs": [],
   "source": [
    "data_standard_pairs = data_standard[['name_1', 'name_2']].values\n",
    "data_standard_target = data_standard['target'].values"
   ]
  },
  {
   "cell_type": "code",
   "execution_count": 102,
   "id": "0bd1a816-f828-483e-87de-24bc00a7cf75",
   "metadata": {},
   "outputs": [
    {
     "name": "stdout",
     "output_type": "stream",
     "text": [
      "255/255 [==============================] - 4s 16ms/step\n"
     ]
    },
    {
     "data": {
      "text/html": [
       "<pre style=\"white-space:pre;overflow-x:auto;line-height:normal;font-family:Menlo,'DejaVu Sans Mono',consolas,'Courier New',monospace\"><span style=\"color: #7fbfbf; text-decoration-color: #7fbfbf\">[08/22/23 15:31:16] </span><span style=\"color: #800000; text-decoration-color: #800000\">WARNING </span> <span style=\"color: #800080; text-decoration-color: #800080\">/tmp/ipykernel_6460/</span><span style=\"color: #ff00ff; text-decoration-color: #ff00ff\">1921957139.py</span>:<span style=\"color: #008080; text-decoration-color: #008080; font-weight: bold\">12</span>: DeprecationWarning: `np.bool` is <a href=\"file:///usr/lib/python3.9/warnings.py\" target=\"_blank\"><span style=\"color: #7f7f7f; text-decoration-color: #7f7f7f\">warnings.py</span></a><span style=\"color: #7f7f7f; text-decoration-color: #7f7f7f\">:</span><a href=\"file:///usr/lib/python3.9/warnings.py#109\" target=\"_blank\"><span style=\"color: #7f7f7f; text-decoration-color: #7f7f7f\">109</span></a>\n",
       "<span style=\"color: #7fbfbf; text-decoration-color: #7fbfbf\">                    </span>         a deprecated alias for the builtin `bool`. To silence this warning,    <span style=\"color: #7f7f7f; text-decoration-color: #7f7f7f\">               </span>\n",
       "<span style=\"color: #7fbfbf; text-decoration-color: #7fbfbf\">                    </span>         use `bool` by itself. Doing this will not modify any behavior and is   <span style=\"color: #7f7f7f; text-decoration-color: #7f7f7f\">               </span>\n",
       "<span style=\"color: #7fbfbf; text-decoration-color: #7fbfbf\">                    </span>         safe. If you specifically wanted the numpy scalar type, use `np.bool_` <span style=\"color: #7f7f7f; text-decoration-color: #7f7f7f\">               </span>\n",
       "<span style=\"color: #7fbfbf; text-decoration-color: #7fbfbf\">                    </span>         here.                                                                  <span style=\"color: #7f7f7f; text-decoration-color: #7f7f7f\">               </span>\n",
       "<span style=\"color: #7fbfbf; text-decoration-color: #7fbfbf\">                    </span>         Deprecated in NumPy <span style=\"color: #008080; text-decoration-color: #008080; font-weight: bold\">1.20</span>; for more details and guidance:               <span style=\"color: #7f7f7f; text-decoration-color: #7f7f7f\">               </span>\n",
       "<span style=\"color: #7fbfbf; text-decoration-color: #7fbfbf\">                    </span>         <span style=\"color: #0000ff; text-decoration-color: #0000ff; text-decoration: underline\">https://numpy.org/devdocs/release/1.20.0-notes.html#deprecations</span>       <span style=\"color: #7f7f7f; text-decoration-color: #7f7f7f\">               </span>\n",
       "<span style=\"color: #7fbfbf; text-decoration-color: #7fbfbf\">                    </span>           target = <span style=\"color: #800080; text-decoration-color: #800080; font-weight: bold\">target.astype</span><span style=\"font-weight: bold\">(</span>np.bool<span style=\"font-weight: bold\">)</span><span style=\"color: #800080; text-decoration-color: #800080; font-weight: bold\">.flatten</span><span style=\"font-weight: bold\">()</span>                            <span style=\"color: #7f7f7f; text-decoration-color: #7f7f7f\">               </span>\n",
       "<span style=\"color: #7fbfbf; text-decoration-color: #7fbfbf\">                    </span>                                                                                <span style=\"color: #7f7f7f; text-decoration-color: #7f7f7f\">               </span>\n",
       "</pre>\n"
      ],
      "text/plain": [
       "\u001b[2;36m[08/22/23 15:31:16]\u001b[0m\u001b[2;36m \u001b[0m\u001b[31mWARNING \u001b[0m \u001b[35m/tmp/ipykernel_6460/\u001b[0m\u001b[95m1921957139.py\u001b[0m:\u001b[1;36m12\u001b[0m: DeprecationWarning: `np.bool` is \u001b]8;id=942396;file:///usr/lib/python3.9/warnings.py\u001b\\\u001b[2mwarnings.py\u001b[0m\u001b]8;;\u001b\\\u001b[2m:\u001b[0m\u001b]8;id=647066;file:///usr/lib/python3.9/warnings.py#109\u001b\\\u001b[2m109\u001b[0m\u001b]8;;\u001b\\\n",
       "\u001b[2;36m                    \u001b[0m         a deprecated alias for the builtin `bool`. To silence this warning,    \u001b[2m               \u001b[0m\n",
       "\u001b[2;36m                    \u001b[0m         use `bool` by itself. Doing this will not modify any behavior and is   \u001b[2m               \u001b[0m\n",
       "\u001b[2;36m                    \u001b[0m         safe. If you specifically wanted the numpy scalar type, use `np.bool_` \u001b[2m               \u001b[0m\n",
       "\u001b[2;36m                    \u001b[0m         here.                                                                  \u001b[2m               \u001b[0m\n",
       "\u001b[2;36m                    \u001b[0m         Deprecated in NumPy \u001b[1;36m1.20\u001b[0m; for more details and guidance:               \u001b[2m               \u001b[0m\n",
       "\u001b[2;36m                    \u001b[0m         \u001b[4;94mhttps://numpy.org/devdocs/release/1.20.0-notes.html#deprecations\u001b[0m       \u001b[2m               \u001b[0m\n",
       "\u001b[2;36m                    \u001b[0m           target = \u001b[1;35mtarget.astype\u001b[0m\u001b[1m(\u001b[0mnp.bool\u001b[1m)\u001b[0m\u001b[1;35m.flatten\u001b[0m\u001b[1m(\u001b[0m\u001b[1m)\u001b[0m                            \u001b[2m               \u001b[0m\n",
       "\u001b[2;36m                    \u001b[0m                                                                                \u001b[2m               \u001b[0m\n"
      ]
     },
     "metadata": {},
     "output_type": "display_data"
    },
    {
     "name": "stdout",
     "output_type": "stream",
     "text": [
      "confussion matrix model\n",
      "col_0  False  True \n",
      "row_0              \n",
      "False   3485    382\n",
      "True     230   4063\n",
      "\n",
      " confussion matrix edit\n",
      "col_0  False  True \n",
      "row_0              \n",
      "False   1673   2194\n",
      "True     800   3493\n",
      "/n/n Classification report model\n",
      "              precision    recall  f1-score   support\n",
      "\n",
      "       False       0.94      0.90      0.92      3867\n",
      "        True       0.91      0.95      0.93      4293\n",
      "\n",
      "    accuracy                           0.93      8160\n",
      "   macro avg       0.93      0.92      0.92      8160\n",
      "weighted avg       0.93      0.93      0.92      8160\n",
      "\n",
      "/n Classification report edit\n",
      "              precision    recall  f1-score   support\n",
      "\n",
      "       False       0.68      0.43      0.53      3867\n",
      "        True       0.61      0.81      0.70      4293\n",
      "\n",
      "    accuracy                           0.63      8160\n",
      "   macro avg       0.65      0.62      0.61      8160\n",
      "weighted avg       0.64      0.63      0.62      8160\n",
      "\n"
     ]
    }
   ],
   "source": [
    "generate_comparison_model_vs_edit(data_standard_pairs, data_standard_target, .5)"
   ]
  },
  {
   "cell_type": "markdown",
   "id": "747c7954-2a88-494b-b09b-b455e6571907",
   "metadata": {},
   "source": [
    "## Amazon products evaluation"
   ]
  },
  {
   "cell_type": "code",
   "execution_count": 103,
   "id": "b7bc4e9b-9c9f-4f95-8050-6a05bfd99005",
   "metadata": {},
   "outputs": [],
   "source": [
    "data_prod= pd.read_csv('../../data/01_raw/amazon-google-products/mapping_full.csv')"
   ]
  },
  {
   "cell_type": "code",
   "execution_count": 104,
   "id": "49d249e2-161e-4ce1-81c1-daf537ea9ecc",
   "metadata": {},
   "outputs": [],
   "source": [
    "data_prod['name_1'] = data_prod['name_1'].apply(lambda x: normalize_characters(x))\n",
    "data_prod['name_2'] = data_prod['name_2'].apply(lambda x: normalize_characters(x))\n",
    "data_prod['target'] = 1\n"
   ]
  },
  {
   "cell_type": "code",
   "execution_count": 105,
   "id": "88fe66c3-642d-4aea-b1e8-1a05193e5078",
   "metadata": {},
   "outputs": [],
   "source": [
    "data_prod_pairs = data_prod[['name_1', 'name_2']].values\n",
    "data_prod_target = data_prod['target'].values"
   ]
  },
  {
   "cell_type": "code",
   "execution_count": 106,
   "id": "2d48fc58-dc21-44cb-9d50-d639ae354b62",
   "metadata": {},
   "outputs": [
    {
     "name": "stdout",
     "output_type": "stream",
     "text": [
      "41/41 [==============================] - 1s 16ms/step\n"
     ]
    },
    {
     "data": {
      "text/html": [
       "<pre style=\"white-space:pre;overflow-x:auto;line-height:normal;font-family:Menlo,'DejaVu Sans Mono',consolas,'Courier New',monospace\"><span style=\"color: #7fbfbf; text-decoration-color: #7fbfbf\">[08/22/23 15:31:29] </span><span style=\"color: #800000; text-decoration-color: #800000\">WARNING </span> <span style=\"color: #800080; text-decoration-color: #800080\">/tmp/ipykernel_6460/</span><span style=\"color: #ff00ff; text-decoration-color: #ff00ff\">1921957139.py</span>:<span style=\"color: #008080; text-decoration-color: #008080; font-weight: bold\">12</span>: DeprecationWarning: `np.bool` is <a href=\"file:///usr/lib/python3.9/warnings.py\" target=\"_blank\"><span style=\"color: #7f7f7f; text-decoration-color: #7f7f7f\">warnings.py</span></a><span style=\"color: #7f7f7f; text-decoration-color: #7f7f7f\">:</span><a href=\"file:///usr/lib/python3.9/warnings.py#109\" target=\"_blank\"><span style=\"color: #7f7f7f; text-decoration-color: #7f7f7f\">109</span></a>\n",
       "<span style=\"color: #7fbfbf; text-decoration-color: #7fbfbf\">                    </span>         a deprecated alias for the builtin `bool`. To silence this warning,    <span style=\"color: #7f7f7f; text-decoration-color: #7f7f7f\">               </span>\n",
       "<span style=\"color: #7fbfbf; text-decoration-color: #7fbfbf\">                    </span>         use `bool` by itself. Doing this will not modify any behavior and is   <span style=\"color: #7f7f7f; text-decoration-color: #7f7f7f\">               </span>\n",
       "<span style=\"color: #7fbfbf; text-decoration-color: #7fbfbf\">                    </span>         safe. If you specifically wanted the numpy scalar type, use `np.bool_` <span style=\"color: #7f7f7f; text-decoration-color: #7f7f7f\">               </span>\n",
       "<span style=\"color: #7fbfbf; text-decoration-color: #7fbfbf\">                    </span>         here.                                                                  <span style=\"color: #7f7f7f; text-decoration-color: #7f7f7f\">               </span>\n",
       "<span style=\"color: #7fbfbf; text-decoration-color: #7fbfbf\">                    </span>         Deprecated in NumPy <span style=\"color: #008080; text-decoration-color: #008080; font-weight: bold\">1.20</span>; for more details and guidance:               <span style=\"color: #7f7f7f; text-decoration-color: #7f7f7f\">               </span>\n",
       "<span style=\"color: #7fbfbf; text-decoration-color: #7fbfbf\">                    </span>         <span style=\"color: #0000ff; text-decoration-color: #0000ff; text-decoration: underline\">https://numpy.org/devdocs/release/1.20.0-notes.html#deprecations</span>       <span style=\"color: #7f7f7f; text-decoration-color: #7f7f7f\">               </span>\n",
       "<span style=\"color: #7fbfbf; text-decoration-color: #7fbfbf\">                    </span>           target = <span style=\"color: #800080; text-decoration-color: #800080; font-weight: bold\">target.astype</span><span style=\"font-weight: bold\">(</span>np.bool<span style=\"font-weight: bold\">)</span><span style=\"color: #800080; text-decoration-color: #800080; font-weight: bold\">.flatten</span><span style=\"font-weight: bold\">()</span>                            <span style=\"color: #7f7f7f; text-decoration-color: #7f7f7f\">               </span>\n",
       "<span style=\"color: #7fbfbf; text-decoration-color: #7fbfbf\">                    </span>                                                                                <span style=\"color: #7f7f7f; text-decoration-color: #7f7f7f\">               </span>\n",
       "</pre>\n"
      ],
      "text/plain": [
       "\u001b[2;36m[08/22/23 15:31:29]\u001b[0m\u001b[2;36m \u001b[0m\u001b[31mWARNING \u001b[0m \u001b[35m/tmp/ipykernel_6460/\u001b[0m\u001b[95m1921957139.py\u001b[0m:\u001b[1;36m12\u001b[0m: DeprecationWarning: `np.bool` is \u001b]8;id=629154;file:///usr/lib/python3.9/warnings.py\u001b\\\u001b[2mwarnings.py\u001b[0m\u001b]8;;\u001b\\\u001b[2m:\u001b[0m\u001b]8;id=24515;file:///usr/lib/python3.9/warnings.py#109\u001b\\\u001b[2m109\u001b[0m\u001b]8;;\u001b\\\n",
       "\u001b[2;36m                    \u001b[0m         a deprecated alias for the builtin `bool`. To silence this warning,    \u001b[2m               \u001b[0m\n",
       "\u001b[2;36m                    \u001b[0m         use `bool` by itself. Doing this will not modify any behavior and is   \u001b[2m               \u001b[0m\n",
       "\u001b[2;36m                    \u001b[0m         safe. If you specifically wanted the numpy scalar type, use `np.bool_` \u001b[2m               \u001b[0m\n",
       "\u001b[2;36m                    \u001b[0m         here.                                                                  \u001b[2m               \u001b[0m\n",
       "\u001b[2;36m                    \u001b[0m         Deprecated in NumPy \u001b[1;36m1.20\u001b[0m; for more details and guidance:               \u001b[2m               \u001b[0m\n",
       "\u001b[2;36m                    \u001b[0m         \u001b[4;94mhttps://numpy.org/devdocs/release/1.20.0-notes.html#deprecations\u001b[0m       \u001b[2m               \u001b[0m\n",
       "\u001b[2;36m                    \u001b[0m           target = \u001b[1;35mtarget.astype\u001b[0m\u001b[1m(\u001b[0mnp.bool\u001b[1m)\u001b[0m\u001b[1;35m.flatten\u001b[0m\u001b[1m(\u001b[0m\u001b[1m)\u001b[0m                            \u001b[2m               \u001b[0m\n",
       "\u001b[2;36m                    \u001b[0m                                                                                \u001b[2m               \u001b[0m\n"
      ]
     },
     "metadata": {},
     "output_type": "display_data"
    },
    {
     "name": "stdout",
     "output_type": "stream",
     "text": [
      "confussion matrix model\n",
      "col_0  False  True \n",
      "row_0              \n",
      "True     582    718\n",
      "\n",
      " confussion matrix edit\n",
      "col_0  False  True \n",
      "row_0              \n",
      "True     212   1088\n",
      "/n/n Classification report model\n"
     ]
    },
    {
     "data": {
      "text/html": [
       "<pre style=\"white-space:pre;overflow-x:auto;line-height:normal;font-family:Menlo,'DejaVu Sans Mono',consolas,'Courier New',monospace\"><span style=\"color: #7fbfbf; text-decoration-color: #7fbfbf\">                    </span><span style=\"color: #800000; text-decoration-color: #800000\">WARNING </span> <span style=\"color: #800080; text-decoration-color: #800080\">/usr/local/lib/python3.9/dist-packages/sklearn/metrics/</span><span style=\"color: #ff00ff; text-decoration-color: #ff00ff\">_classification</span> <a href=\"file:///usr/lib/python3.9/warnings.py\" target=\"_blank\"><span style=\"color: #7f7f7f; text-decoration-color: #7f7f7f\">warnings.py</span></a><span style=\"color: #7f7f7f; text-decoration-color: #7f7f7f\">:</span><a href=\"file:///usr/lib/python3.9/warnings.py#109\" target=\"_blank\"><span style=\"color: #7f7f7f; text-decoration-color: #7f7f7f\">109</span></a>\n",
       "<span style=\"color: #7fbfbf; text-decoration-color: #7fbfbf\">                    </span>         <span style=\"color: #ff00ff; text-decoration-color: #ff00ff\">.py</span>:<span style=\"color: #008080; text-decoration-color: #008080; font-weight: bold\">1334</span>: UndefinedMetricWarning: Recall and F-score are ill-defined   <span style=\"color: #7f7f7f; text-decoration-color: #7f7f7f\">               </span>\n",
       "<span style=\"color: #7fbfbf; text-decoration-color: #7fbfbf\">                    </span>         and being set to <span style=\"color: #008080; text-decoration-color: #008080; font-weight: bold\">0.0</span> in labels with no true samples. Use               <span style=\"color: #7f7f7f; text-decoration-color: #7f7f7f\">               </span>\n",
       "<span style=\"color: #7fbfbf; text-decoration-color: #7fbfbf\">                    </span>         `zero_division` parameter to control this behavior.                    <span style=\"color: #7f7f7f; text-decoration-color: #7f7f7f\">               </span>\n",
       "<span style=\"color: #7fbfbf; text-decoration-color: #7fbfbf\">                    </span>           <span style=\"color: #800080; text-decoration-color: #800080; font-weight: bold\">_warn_prf</span><span style=\"font-weight: bold\">(</span>average, modifier, msg_start, <span style=\"color: #800080; text-decoration-color: #800080; font-weight: bold\">len</span><span style=\"font-weight: bold\">(</span>result<span style=\"font-weight: bold\">))</span>                 <span style=\"color: #7f7f7f; text-decoration-color: #7f7f7f\">               </span>\n",
       "<span style=\"color: #7fbfbf; text-decoration-color: #7fbfbf\">                    </span>                                                                                <span style=\"color: #7f7f7f; text-decoration-color: #7f7f7f\">               </span>\n",
       "</pre>\n"
      ],
      "text/plain": [
       "\u001b[2;36m                   \u001b[0m\u001b[2;36m \u001b[0m\u001b[31mWARNING \u001b[0m \u001b[35m/usr/local/lib/python3.9/dist-packages/sklearn/metrics/\u001b[0m\u001b[95m_classification\u001b[0m \u001b]8;id=648673;file:///usr/lib/python3.9/warnings.py\u001b\\\u001b[2mwarnings.py\u001b[0m\u001b]8;;\u001b\\\u001b[2m:\u001b[0m\u001b]8;id=106238;file:///usr/lib/python3.9/warnings.py#109\u001b\\\u001b[2m109\u001b[0m\u001b]8;;\u001b\\\n",
       "\u001b[2;36m                    \u001b[0m         \u001b[95m.py\u001b[0m:\u001b[1;36m1334\u001b[0m: UndefinedMetricWarning: Recall and F-score are ill-defined   \u001b[2m               \u001b[0m\n",
       "\u001b[2;36m                    \u001b[0m         and being set to \u001b[1;36m0.0\u001b[0m in labels with no true samples. Use               \u001b[2m               \u001b[0m\n",
       "\u001b[2;36m                    \u001b[0m         `zero_division` parameter to control this behavior.                    \u001b[2m               \u001b[0m\n",
       "\u001b[2;36m                    \u001b[0m           \u001b[1;35m_warn_prf\u001b[0m\u001b[1m(\u001b[0maverage, modifier, msg_start, \u001b[1;35mlen\u001b[0m\u001b[1m(\u001b[0mresult\u001b[1m)\u001b[0m\u001b[1m)\u001b[0m                 \u001b[2m               \u001b[0m\n",
       "\u001b[2;36m                    \u001b[0m                                                                                \u001b[2m               \u001b[0m\n"
      ]
     },
     "metadata": {},
     "output_type": "display_data"
    },
    {
     "data": {
      "text/html": [
       "<pre style=\"white-space:pre;overflow-x:auto;line-height:normal;font-family:Menlo,'DejaVu Sans Mono',consolas,'Courier New',monospace\"><span style=\"color: #7fbfbf; text-decoration-color: #7fbfbf\">                    </span><span style=\"color: #800000; text-decoration-color: #800000\">WARNING </span> <span style=\"color: #800080; text-decoration-color: #800080\">/usr/local/lib/python3.9/dist-packages/sklearn/metrics/</span><span style=\"color: #ff00ff; text-decoration-color: #ff00ff\">_classification</span> <a href=\"file:///usr/lib/python3.9/warnings.py\" target=\"_blank\"><span style=\"color: #7f7f7f; text-decoration-color: #7f7f7f\">warnings.py</span></a><span style=\"color: #7f7f7f; text-decoration-color: #7f7f7f\">:</span><a href=\"file:///usr/lib/python3.9/warnings.py#109\" target=\"_blank\"><span style=\"color: #7f7f7f; text-decoration-color: #7f7f7f\">109</span></a>\n",
       "<span style=\"color: #7fbfbf; text-decoration-color: #7fbfbf\">                    </span>         <span style=\"color: #ff00ff; text-decoration-color: #ff00ff\">.py</span>:<span style=\"color: #008080; text-decoration-color: #008080; font-weight: bold\">1334</span>: UndefinedMetricWarning: Recall and F-score are ill-defined   <span style=\"color: #7f7f7f; text-decoration-color: #7f7f7f\">               </span>\n",
       "<span style=\"color: #7fbfbf; text-decoration-color: #7fbfbf\">                    </span>         and being set to <span style=\"color: #008080; text-decoration-color: #008080; font-weight: bold\">0.0</span> in labels with no true samples. Use               <span style=\"color: #7f7f7f; text-decoration-color: #7f7f7f\">               </span>\n",
       "<span style=\"color: #7fbfbf; text-decoration-color: #7fbfbf\">                    </span>         `zero_division` parameter to control this behavior.                    <span style=\"color: #7f7f7f; text-decoration-color: #7f7f7f\">               </span>\n",
       "<span style=\"color: #7fbfbf; text-decoration-color: #7fbfbf\">                    </span>           <span style=\"color: #800080; text-decoration-color: #800080; font-weight: bold\">_warn_prf</span><span style=\"font-weight: bold\">(</span>average, modifier, msg_start, <span style=\"color: #800080; text-decoration-color: #800080; font-weight: bold\">len</span><span style=\"font-weight: bold\">(</span>result<span style=\"font-weight: bold\">))</span>                 <span style=\"color: #7f7f7f; text-decoration-color: #7f7f7f\">               </span>\n",
       "<span style=\"color: #7fbfbf; text-decoration-color: #7fbfbf\">                    </span>                                                                                <span style=\"color: #7f7f7f; text-decoration-color: #7f7f7f\">               </span>\n",
       "</pre>\n"
      ],
      "text/plain": [
       "\u001b[2;36m                   \u001b[0m\u001b[2;36m \u001b[0m\u001b[31mWARNING \u001b[0m \u001b[35m/usr/local/lib/python3.9/dist-packages/sklearn/metrics/\u001b[0m\u001b[95m_classification\u001b[0m \u001b]8;id=293010;file:///usr/lib/python3.9/warnings.py\u001b\\\u001b[2mwarnings.py\u001b[0m\u001b]8;;\u001b\\\u001b[2m:\u001b[0m\u001b]8;id=485611;file:///usr/lib/python3.9/warnings.py#109\u001b\\\u001b[2m109\u001b[0m\u001b]8;;\u001b\\\n",
       "\u001b[2;36m                    \u001b[0m         \u001b[95m.py\u001b[0m:\u001b[1;36m1334\u001b[0m: UndefinedMetricWarning: Recall and F-score are ill-defined   \u001b[2m               \u001b[0m\n",
       "\u001b[2;36m                    \u001b[0m         and being set to \u001b[1;36m0.0\u001b[0m in labels with no true samples. Use               \u001b[2m               \u001b[0m\n",
       "\u001b[2;36m                    \u001b[0m         `zero_division` parameter to control this behavior.                    \u001b[2m               \u001b[0m\n",
       "\u001b[2;36m                    \u001b[0m           \u001b[1;35m_warn_prf\u001b[0m\u001b[1m(\u001b[0maverage, modifier, msg_start, \u001b[1;35mlen\u001b[0m\u001b[1m(\u001b[0mresult\u001b[1m)\u001b[0m\u001b[1m)\u001b[0m                 \u001b[2m               \u001b[0m\n",
       "\u001b[2;36m                    \u001b[0m                                                                                \u001b[2m               \u001b[0m\n"
      ]
     },
     "metadata": {},
     "output_type": "display_data"
    },
    {
     "data": {
      "text/html": [
       "<pre style=\"white-space:pre;overflow-x:auto;line-height:normal;font-family:Menlo,'DejaVu Sans Mono',consolas,'Courier New',monospace\"><span style=\"color: #7fbfbf; text-decoration-color: #7fbfbf\">                    </span><span style=\"color: #800000; text-decoration-color: #800000\">WARNING </span> <span style=\"color: #800080; text-decoration-color: #800080\">/usr/local/lib/python3.9/dist-packages/sklearn/metrics/</span><span style=\"color: #ff00ff; text-decoration-color: #ff00ff\">_classification</span> <a href=\"file:///usr/lib/python3.9/warnings.py\" target=\"_blank\"><span style=\"color: #7f7f7f; text-decoration-color: #7f7f7f\">warnings.py</span></a><span style=\"color: #7f7f7f; text-decoration-color: #7f7f7f\">:</span><a href=\"file:///usr/lib/python3.9/warnings.py#109\" target=\"_blank\"><span style=\"color: #7f7f7f; text-decoration-color: #7f7f7f\">109</span></a>\n",
       "<span style=\"color: #7fbfbf; text-decoration-color: #7fbfbf\">                    </span>         <span style=\"color: #ff00ff; text-decoration-color: #ff00ff\">.py</span>:<span style=\"color: #008080; text-decoration-color: #008080; font-weight: bold\">1334</span>: UndefinedMetricWarning: Recall and F-score are ill-defined   <span style=\"color: #7f7f7f; text-decoration-color: #7f7f7f\">               </span>\n",
       "<span style=\"color: #7fbfbf; text-decoration-color: #7fbfbf\">                    </span>         and being set to <span style=\"color: #008080; text-decoration-color: #008080; font-weight: bold\">0.0</span> in labels with no true samples. Use               <span style=\"color: #7f7f7f; text-decoration-color: #7f7f7f\">               </span>\n",
       "<span style=\"color: #7fbfbf; text-decoration-color: #7fbfbf\">                    </span>         `zero_division` parameter to control this behavior.                    <span style=\"color: #7f7f7f; text-decoration-color: #7f7f7f\">               </span>\n",
       "<span style=\"color: #7fbfbf; text-decoration-color: #7fbfbf\">                    </span>           <span style=\"color: #800080; text-decoration-color: #800080; font-weight: bold\">_warn_prf</span><span style=\"font-weight: bold\">(</span>average, modifier, msg_start, <span style=\"color: #800080; text-decoration-color: #800080; font-weight: bold\">len</span><span style=\"font-weight: bold\">(</span>result<span style=\"font-weight: bold\">))</span>                 <span style=\"color: #7f7f7f; text-decoration-color: #7f7f7f\">               </span>\n",
       "<span style=\"color: #7fbfbf; text-decoration-color: #7fbfbf\">                    </span>                                                                                <span style=\"color: #7f7f7f; text-decoration-color: #7f7f7f\">               </span>\n",
       "</pre>\n"
      ],
      "text/plain": [
       "\u001b[2;36m                   \u001b[0m\u001b[2;36m \u001b[0m\u001b[31mWARNING \u001b[0m \u001b[35m/usr/local/lib/python3.9/dist-packages/sklearn/metrics/\u001b[0m\u001b[95m_classification\u001b[0m \u001b]8;id=15805;file:///usr/lib/python3.9/warnings.py\u001b\\\u001b[2mwarnings.py\u001b[0m\u001b]8;;\u001b\\\u001b[2m:\u001b[0m\u001b]8;id=386769;file:///usr/lib/python3.9/warnings.py#109\u001b\\\u001b[2m109\u001b[0m\u001b]8;;\u001b\\\n",
       "\u001b[2;36m                    \u001b[0m         \u001b[95m.py\u001b[0m:\u001b[1;36m1334\u001b[0m: UndefinedMetricWarning: Recall and F-score are ill-defined   \u001b[2m               \u001b[0m\n",
       "\u001b[2;36m                    \u001b[0m         and being set to \u001b[1;36m0.0\u001b[0m in labels with no true samples. Use               \u001b[2m               \u001b[0m\n",
       "\u001b[2;36m                    \u001b[0m         `zero_division` parameter to control this behavior.                    \u001b[2m               \u001b[0m\n",
       "\u001b[2;36m                    \u001b[0m           \u001b[1;35m_warn_prf\u001b[0m\u001b[1m(\u001b[0maverage, modifier, msg_start, \u001b[1;35mlen\u001b[0m\u001b[1m(\u001b[0mresult\u001b[1m)\u001b[0m\u001b[1m)\u001b[0m                 \u001b[2m               \u001b[0m\n",
       "\u001b[2;36m                    \u001b[0m                                                                                \u001b[2m               \u001b[0m\n"
      ]
     },
     "metadata": {},
     "output_type": "display_data"
    },
    {
     "name": "stdout",
     "output_type": "stream",
     "text": [
      "              precision    recall  f1-score   support\n",
      "\n",
      "       False       0.00      0.00      0.00         0\n",
      "        True       1.00      0.55      0.71      1300\n",
      "\n",
      "    accuracy                           0.55      1300\n",
      "   macro avg       0.50      0.28      0.36      1300\n",
      "weighted avg       1.00      0.55      0.71      1300\n",
      "\n",
      "/n Classification report edit\n"
     ]
    },
    {
     "data": {
      "text/html": [
       "<pre style=\"white-space:pre;overflow-x:auto;line-height:normal;font-family:Menlo,'DejaVu Sans Mono',consolas,'Courier New',monospace\"><span style=\"color: #7fbfbf; text-decoration-color: #7fbfbf\">                    </span><span style=\"color: #800000; text-decoration-color: #800000\">WARNING </span> <span style=\"color: #800080; text-decoration-color: #800080\">/usr/local/lib/python3.9/dist-packages/sklearn/metrics/</span><span style=\"color: #ff00ff; text-decoration-color: #ff00ff\">_classification</span> <a href=\"file:///usr/lib/python3.9/warnings.py\" target=\"_blank\"><span style=\"color: #7f7f7f; text-decoration-color: #7f7f7f\">warnings.py</span></a><span style=\"color: #7f7f7f; text-decoration-color: #7f7f7f\">:</span><a href=\"file:///usr/lib/python3.9/warnings.py#109\" target=\"_blank\"><span style=\"color: #7f7f7f; text-decoration-color: #7f7f7f\">109</span></a>\n",
       "<span style=\"color: #7fbfbf; text-decoration-color: #7fbfbf\">                    </span>         <span style=\"color: #ff00ff; text-decoration-color: #ff00ff\">.py</span>:<span style=\"color: #008080; text-decoration-color: #008080; font-weight: bold\">1334</span>: UndefinedMetricWarning: Recall and F-score are ill-defined   <span style=\"color: #7f7f7f; text-decoration-color: #7f7f7f\">               </span>\n",
       "<span style=\"color: #7fbfbf; text-decoration-color: #7fbfbf\">                    </span>         and being set to <span style=\"color: #008080; text-decoration-color: #008080; font-weight: bold\">0.0</span> in labels with no true samples. Use               <span style=\"color: #7f7f7f; text-decoration-color: #7f7f7f\">               </span>\n",
       "<span style=\"color: #7fbfbf; text-decoration-color: #7fbfbf\">                    </span>         `zero_division` parameter to control this behavior.                    <span style=\"color: #7f7f7f; text-decoration-color: #7f7f7f\">               </span>\n",
       "<span style=\"color: #7fbfbf; text-decoration-color: #7fbfbf\">                    </span>           <span style=\"color: #800080; text-decoration-color: #800080; font-weight: bold\">_warn_prf</span><span style=\"font-weight: bold\">(</span>average, modifier, msg_start, <span style=\"color: #800080; text-decoration-color: #800080; font-weight: bold\">len</span><span style=\"font-weight: bold\">(</span>result<span style=\"font-weight: bold\">))</span>                 <span style=\"color: #7f7f7f; text-decoration-color: #7f7f7f\">               </span>\n",
       "<span style=\"color: #7fbfbf; text-decoration-color: #7fbfbf\">                    </span>                                                                                <span style=\"color: #7f7f7f; text-decoration-color: #7f7f7f\">               </span>\n",
       "</pre>\n"
      ],
      "text/plain": [
       "\u001b[2;36m                   \u001b[0m\u001b[2;36m \u001b[0m\u001b[31mWARNING \u001b[0m \u001b[35m/usr/local/lib/python3.9/dist-packages/sklearn/metrics/\u001b[0m\u001b[95m_classification\u001b[0m \u001b]8;id=35087;file:///usr/lib/python3.9/warnings.py\u001b\\\u001b[2mwarnings.py\u001b[0m\u001b]8;;\u001b\\\u001b[2m:\u001b[0m\u001b]8;id=913175;file:///usr/lib/python3.9/warnings.py#109\u001b\\\u001b[2m109\u001b[0m\u001b]8;;\u001b\\\n",
       "\u001b[2;36m                    \u001b[0m         \u001b[95m.py\u001b[0m:\u001b[1;36m1334\u001b[0m: UndefinedMetricWarning: Recall and F-score are ill-defined   \u001b[2m               \u001b[0m\n",
       "\u001b[2;36m                    \u001b[0m         and being set to \u001b[1;36m0.0\u001b[0m in labels with no true samples. Use               \u001b[2m               \u001b[0m\n",
       "\u001b[2;36m                    \u001b[0m         `zero_division` parameter to control this behavior.                    \u001b[2m               \u001b[0m\n",
       "\u001b[2;36m                    \u001b[0m           \u001b[1;35m_warn_prf\u001b[0m\u001b[1m(\u001b[0maverage, modifier, msg_start, \u001b[1;35mlen\u001b[0m\u001b[1m(\u001b[0mresult\u001b[1m)\u001b[0m\u001b[1m)\u001b[0m                 \u001b[2m               \u001b[0m\n",
       "\u001b[2;36m                    \u001b[0m                                                                                \u001b[2m               \u001b[0m\n"
      ]
     },
     "metadata": {},
     "output_type": "display_data"
    },
    {
     "data": {
      "text/html": [
       "<pre style=\"white-space:pre;overflow-x:auto;line-height:normal;font-family:Menlo,'DejaVu Sans Mono',consolas,'Courier New',monospace\"><span style=\"color: #7fbfbf; text-decoration-color: #7fbfbf\">                    </span><span style=\"color: #800000; text-decoration-color: #800000\">WARNING </span> <span style=\"color: #800080; text-decoration-color: #800080\">/usr/local/lib/python3.9/dist-packages/sklearn/metrics/</span><span style=\"color: #ff00ff; text-decoration-color: #ff00ff\">_classification</span> <a href=\"file:///usr/lib/python3.9/warnings.py\" target=\"_blank\"><span style=\"color: #7f7f7f; text-decoration-color: #7f7f7f\">warnings.py</span></a><span style=\"color: #7f7f7f; text-decoration-color: #7f7f7f\">:</span><a href=\"file:///usr/lib/python3.9/warnings.py#109\" target=\"_blank\"><span style=\"color: #7f7f7f; text-decoration-color: #7f7f7f\">109</span></a>\n",
       "<span style=\"color: #7fbfbf; text-decoration-color: #7fbfbf\">                    </span>         <span style=\"color: #ff00ff; text-decoration-color: #ff00ff\">.py</span>:<span style=\"color: #008080; text-decoration-color: #008080; font-weight: bold\">1334</span>: UndefinedMetricWarning: Recall and F-score are ill-defined   <span style=\"color: #7f7f7f; text-decoration-color: #7f7f7f\">               </span>\n",
       "<span style=\"color: #7fbfbf; text-decoration-color: #7fbfbf\">                    </span>         and being set to <span style=\"color: #008080; text-decoration-color: #008080; font-weight: bold\">0.0</span> in labels with no true samples. Use               <span style=\"color: #7f7f7f; text-decoration-color: #7f7f7f\">               </span>\n",
       "<span style=\"color: #7fbfbf; text-decoration-color: #7fbfbf\">                    </span>         `zero_division` parameter to control this behavior.                    <span style=\"color: #7f7f7f; text-decoration-color: #7f7f7f\">               </span>\n",
       "<span style=\"color: #7fbfbf; text-decoration-color: #7fbfbf\">                    </span>           <span style=\"color: #800080; text-decoration-color: #800080; font-weight: bold\">_warn_prf</span><span style=\"font-weight: bold\">(</span>average, modifier, msg_start, <span style=\"color: #800080; text-decoration-color: #800080; font-weight: bold\">len</span><span style=\"font-weight: bold\">(</span>result<span style=\"font-weight: bold\">))</span>                 <span style=\"color: #7f7f7f; text-decoration-color: #7f7f7f\">               </span>\n",
       "<span style=\"color: #7fbfbf; text-decoration-color: #7fbfbf\">                    </span>                                                                                <span style=\"color: #7f7f7f; text-decoration-color: #7f7f7f\">               </span>\n",
       "</pre>\n"
      ],
      "text/plain": [
       "\u001b[2;36m                   \u001b[0m\u001b[2;36m \u001b[0m\u001b[31mWARNING \u001b[0m \u001b[35m/usr/local/lib/python3.9/dist-packages/sklearn/metrics/\u001b[0m\u001b[95m_classification\u001b[0m \u001b]8;id=376530;file:///usr/lib/python3.9/warnings.py\u001b\\\u001b[2mwarnings.py\u001b[0m\u001b]8;;\u001b\\\u001b[2m:\u001b[0m\u001b]8;id=714905;file:///usr/lib/python3.9/warnings.py#109\u001b\\\u001b[2m109\u001b[0m\u001b]8;;\u001b\\\n",
       "\u001b[2;36m                    \u001b[0m         \u001b[95m.py\u001b[0m:\u001b[1;36m1334\u001b[0m: UndefinedMetricWarning: Recall and F-score are ill-defined   \u001b[2m               \u001b[0m\n",
       "\u001b[2;36m                    \u001b[0m         and being set to \u001b[1;36m0.0\u001b[0m in labels with no true samples. Use               \u001b[2m               \u001b[0m\n",
       "\u001b[2;36m                    \u001b[0m         `zero_division` parameter to control this behavior.                    \u001b[2m               \u001b[0m\n",
       "\u001b[2;36m                    \u001b[0m           \u001b[1;35m_warn_prf\u001b[0m\u001b[1m(\u001b[0maverage, modifier, msg_start, \u001b[1;35mlen\u001b[0m\u001b[1m(\u001b[0mresult\u001b[1m)\u001b[0m\u001b[1m)\u001b[0m                 \u001b[2m               \u001b[0m\n",
       "\u001b[2;36m                    \u001b[0m                                                                                \u001b[2m               \u001b[0m\n"
      ]
     },
     "metadata": {},
     "output_type": "display_data"
    },
    {
     "data": {
      "text/html": [
       "<pre style=\"white-space:pre;overflow-x:auto;line-height:normal;font-family:Menlo,'DejaVu Sans Mono',consolas,'Courier New',monospace\"><span style=\"color: #7fbfbf; text-decoration-color: #7fbfbf\">                    </span><span style=\"color: #800000; text-decoration-color: #800000\">WARNING </span> <span style=\"color: #800080; text-decoration-color: #800080\">/usr/local/lib/python3.9/dist-packages/sklearn/metrics/</span><span style=\"color: #ff00ff; text-decoration-color: #ff00ff\">_classification</span> <a href=\"file:///usr/lib/python3.9/warnings.py\" target=\"_blank\"><span style=\"color: #7f7f7f; text-decoration-color: #7f7f7f\">warnings.py</span></a><span style=\"color: #7f7f7f; text-decoration-color: #7f7f7f\">:</span><a href=\"file:///usr/lib/python3.9/warnings.py#109\" target=\"_blank\"><span style=\"color: #7f7f7f; text-decoration-color: #7f7f7f\">109</span></a>\n",
       "<span style=\"color: #7fbfbf; text-decoration-color: #7fbfbf\">                    </span>         <span style=\"color: #ff00ff; text-decoration-color: #ff00ff\">.py</span>:<span style=\"color: #008080; text-decoration-color: #008080; font-weight: bold\">1334</span>: UndefinedMetricWarning: Recall and F-score are ill-defined   <span style=\"color: #7f7f7f; text-decoration-color: #7f7f7f\">               </span>\n",
       "<span style=\"color: #7fbfbf; text-decoration-color: #7fbfbf\">                    </span>         and being set to <span style=\"color: #008080; text-decoration-color: #008080; font-weight: bold\">0.0</span> in labels with no true samples. Use               <span style=\"color: #7f7f7f; text-decoration-color: #7f7f7f\">               </span>\n",
       "<span style=\"color: #7fbfbf; text-decoration-color: #7fbfbf\">                    </span>         `zero_division` parameter to control this behavior.                    <span style=\"color: #7f7f7f; text-decoration-color: #7f7f7f\">               </span>\n",
       "<span style=\"color: #7fbfbf; text-decoration-color: #7fbfbf\">                    </span>           <span style=\"color: #800080; text-decoration-color: #800080; font-weight: bold\">_warn_prf</span><span style=\"font-weight: bold\">(</span>average, modifier, msg_start, <span style=\"color: #800080; text-decoration-color: #800080; font-weight: bold\">len</span><span style=\"font-weight: bold\">(</span>result<span style=\"font-weight: bold\">))</span>                 <span style=\"color: #7f7f7f; text-decoration-color: #7f7f7f\">               </span>\n",
       "<span style=\"color: #7fbfbf; text-decoration-color: #7fbfbf\">                    </span>                                                                                <span style=\"color: #7f7f7f; text-decoration-color: #7f7f7f\">               </span>\n",
       "</pre>\n"
      ],
      "text/plain": [
       "\u001b[2;36m                   \u001b[0m\u001b[2;36m \u001b[0m\u001b[31mWARNING \u001b[0m \u001b[35m/usr/local/lib/python3.9/dist-packages/sklearn/metrics/\u001b[0m\u001b[95m_classification\u001b[0m \u001b]8;id=306129;file:///usr/lib/python3.9/warnings.py\u001b\\\u001b[2mwarnings.py\u001b[0m\u001b]8;;\u001b\\\u001b[2m:\u001b[0m\u001b]8;id=148822;file:///usr/lib/python3.9/warnings.py#109\u001b\\\u001b[2m109\u001b[0m\u001b]8;;\u001b\\\n",
       "\u001b[2;36m                    \u001b[0m         \u001b[95m.py\u001b[0m:\u001b[1;36m1334\u001b[0m: UndefinedMetricWarning: Recall and F-score are ill-defined   \u001b[2m               \u001b[0m\n",
       "\u001b[2;36m                    \u001b[0m         and being set to \u001b[1;36m0.0\u001b[0m in labels with no true samples. Use               \u001b[2m               \u001b[0m\n",
       "\u001b[2;36m                    \u001b[0m         `zero_division` parameter to control this behavior.                    \u001b[2m               \u001b[0m\n",
       "\u001b[2;36m                    \u001b[0m           \u001b[1;35m_warn_prf\u001b[0m\u001b[1m(\u001b[0maverage, modifier, msg_start, \u001b[1;35mlen\u001b[0m\u001b[1m(\u001b[0mresult\u001b[1m)\u001b[0m\u001b[1m)\u001b[0m                 \u001b[2m               \u001b[0m\n",
       "\u001b[2;36m                    \u001b[0m                                                                                \u001b[2m               \u001b[0m\n"
      ]
     },
     "metadata": {},
     "output_type": "display_data"
    },
    {
     "name": "stdout",
     "output_type": "stream",
     "text": [
      "              precision    recall  f1-score   support\n",
      "\n",
      "       False       0.00      0.00      0.00         0\n",
      "        True       1.00      0.84      0.91      1300\n",
      "\n",
      "    accuracy                           0.84      1300\n",
      "   macro avg       0.50      0.42      0.46      1300\n",
      "weighted avg       1.00      0.84      0.91      1300\n",
      "\n"
     ]
    }
   ],
   "source": [
    "generate_comparison_model_vs_edit(data_prod_pairs, data_prod_target, .5)"
   ]
  },
  {
   "cell_type": "markdown",
   "id": "64a718d6-308a-4ac1-b6bc-51d6b49536a4",
   "metadata": {},
   "source": [
    "# ABT vs BUY products evaluation"
   ]
  },
  {
   "cell_type": "code",
   "execution_count": 107,
   "id": "044243e3-0f3a-42a3-88a9-fedf63c2dd2c",
   "metadata": {},
   "outputs": [],
   "source": [
    "data_prod_abt = pd.read_csv('../../data/01_raw/abt-buy-dataset/abt_buy_perfectMapping_full.csv')"
   ]
  },
  {
   "cell_type": "code",
   "execution_count": 108,
   "id": "b6fd96e1-124a-42cd-b019-23f19b1ccca5",
   "metadata": {},
   "outputs": [],
   "source": [
    "data_prod_abt['name_1'] = data_prod_abt['name_1'].apply(lambda x: normalize_characters(x))\n",
    "data_prod_abt['name_2'] = data_prod_abt['name_2'].apply(lambda x: normalize_characters(x))\n",
    "data_prod_abt['target'] = 1"
   ]
  },
  {
   "cell_type": "code",
   "execution_count": 109,
   "id": "976dde0d-ee33-491f-9866-5314a4a10c7a",
   "metadata": {},
   "outputs": [],
   "source": [
    "data_prod_abt_pairs = data_prod_abt[['name_1', 'name_2']].values\n",
    "data_prod_abt_target = data_prod_abt['target'].values"
   ]
  },
  {
   "cell_type": "code",
   "execution_count": 110,
   "id": "c2bda168-b198-4a4a-9431-e1fe37f7b218",
   "metadata": {},
   "outputs": [
    {
     "data": {
      "text/html": [
       "<pre style=\"white-space:pre;overflow-x:auto;line-height:normal;font-family:Menlo,'DejaVu Sans Mono',consolas,'Courier New',monospace\"></pre>\n"
      ],
      "text/plain": []
     },
     "metadata": {},
     "output_type": "display_data"
    },
    {
     "data": {
      "text/plain": [
       "\n",
       "\u001b[1;35marray\u001b[0m\u001b[1m(\u001b[0m\u001b[1m[\u001b[0m\u001b[1m[\u001b[0m\u001b[32m'linksys etherfast 8 port 10 100 switch ezxs88w'\u001b[0m,\n",
       "        \u001b[32m'linksys etherfast ezxs88w ethernet switch ezxs88w'\u001b[0m\u001b[1m]\u001b[0m,\n",
       "       \u001b[1m[\u001b[0m\u001b[32m'linksys etherfast10 100 5 port auto sensing switch ezxs55w'\u001b[0m,\n",
       "        \u001b[32m'linksys etherfast ezxs55w ethernet switch'\u001b[0m\u001b[1m]\u001b[0m,\n",
       "       \u001b[1m[\u001b[0m\u001b[32m'netgear prosafe 5 port 10 100 desktop switch fs105'\u001b[0m,\n",
       "        \u001b[32m'netgear prosafe fs105 ethernet switch fs105na'\u001b[0m\u001b[1m]\u001b[0m,\n",
       "       \u001b[33m...\u001b[0m,\n",
       "       \u001b[1m[\u001b[0m\u001b[32m'sony lcs twa b black soft leather carrying case lcstwab'\u001b[0m,\n",
       "        \u001b[32m'sony lcs twa b cyber shot camera case lcstwa b'\u001b[0m\u001b[1m]\u001b[0m,\n",
       "       \u001b[1m[\u001b[0m\u001b[32m'sony white cybershot t series digital camera jacket case with stylus lcjthcw'\u001b[0m,\n",
       "        \u001b[32m'sony lcj thc b jacket case with stylus lcj thc w'\u001b[0m\u001b[1m]\u001b[0m,\n",
       "       \u001b[1m[\u001b[0m\u001b[32m'sony lcs csj black soft carrying case lcscsj'\u001b[0m,\n",
       "        \u001b[32m'sony lcs csj soft camera case lcscsj'\u001b[0m\u001b[1m]\u001b[0m\u001b[1m]\u001b[0m, \u001b[33mdtype\u001b[0m=\u001b[35mobject\u001b[0m\u001b[1m)\u001b[0m"
      ]
     },
     "execution_count": 110,
     "metadata": {},
     "output_type": "execute_result"
    }
   ],
   "source": [
    "data_prod_abt_pairs"
   ]
  },
  {
   "cell_type": "code",
   "execution_count": 111,
   "id": "98f71852-801c-4093-8e73-0515c64e474b",
   "metadata": {},
   "outputs": [
    {
     "name": "stdout",
     "output_type": "stream",
     "text": [
      "35/35 [==============================] - 1s 16ms/step\n"
     ]
    },
    {
     "data": {
      "text/html": [
       "<pre style=\"white-space:pre;overflow-x:auto;line-height:normal;font-family:Menlo,'DejaVu Sans Mono',consolas,'Courier New',monospace\"><span style=\"color: #7fbfbf; text-decoration-color: #7fbfbf\">[08/22/23 15:31:37] </span><span style=\"color: #800000; text-decoration-color: #800000\">WARNING </span> <span style=\"color: #800080; text-decoration-color: #800080\">/tmp/ipykernel_6460/</span><span style=\"color: #ff00ff; text-decoration-color: #ff00ff\">1921957139.py</span>:<span style=\"color: #008080; text-decoration-color: #008080; font-weight: bold\">12</span>: DeprecationWarning: `np.bool` is <a href=\"file:///usr/lib/python3.9/warnings.py\" target=\"_blank\"><span style=\"color: #7f7f7f; text-decoration-color: #7f7f7f\">warnings.py</span></a><span style=\"color: #7f7f7f; text-decoration-color: #7f7f7f\">:</span><a href=\"file:///usr/lib/python3.9/warnings.py#109\" target=\"_blank\"><span style=\"color: #7f7f7f; text-decoration-color: #7f7f7f\">109</span></a>\n",
       "<span style=\"color: #7fbfbf; text-decoration-color: #7fbfbf\">                    </span>         a deprecated alias for the builtin `bool`. To silence this warning,    <span style=\"color: #7f7f7f; text-decoration-color: #7f7f7f\">               </span>\n",
       "<span style=\"color: #7fbfbf; text-decoration-color: #7fbfbf\">                    </span>         use `bool` by itself. Doing this will not modify any behavior and is   <span style=\"color: #7f7f7f; text-decoration-color: #7f7f7f\">               </span>\n",
       "<span style=\"color: #7fbfbf; text-decoration-color: #7fbfbf\">                    </span>         safe. If you specifically wanted the numpy scalar type, use `np.bool_` <span style=\"color: #7f7f7f; text-decoration-color: #7f7f7f\">               </span>\n",
       "<span style=\"color: #7fbfbf; text-decoration-color: #7fbfbf\">                    </span>         here.                                                                  <span style=\"color: #7f7f7f; text-decoration-color: #7f7f7f\">               </span>\n",
       "<span style=\"color: #7fbfbf; text-decoration-color: #7fbfbf\">                    </span>         Deprecated in NumPy <span style=\"color: #008080; text-decoration-color: #008080; font-weight: bold\">1.20</span>; for more details and guidance:               <span style=\"color: #7f7f7f; text-decoration-color: #7f7f7f\">               </span>\n",
       "<span style=\"color: #7fbfbf; text-decoration-color: #7fbfbf\">                    </span>         <span style=\"color: #0000ff; text-decoration-color: #0000ff; text-decoration: underline\">https://numpy.org/devdocs/release/1.20.0-notes.html#deprecations</span>       <span style=\"color: #7f7f7f; text-decoration-color: #7f7f7f\">               </span>\n",
       "<span style=\"color: #7fbfbf; text-decoration-color: #7fbfbf\">                    </span>           target = <span style=\"color: #800080; text-decoration-color: #800080; font-weight: bold\">target.astype</span><span style=\"font-weight: bold\">(</span>np.bool<span style=\"font-weight: bold\">)</span><span style=\"color: #800080; text-decoration-color: #800080; font-weight: bold\">.flatten</span><span style=\"font-weight: bold\">()</span>                            <span style=\"color: #7f7f7f; text-decoration-color: #7f7f7f\">               </span>\n",
       "<span style=\"color: #7fbfbf; text-decoration-color: #7fbfbf\">                    </span>                                                                                <span style=\"color: #7f7f7f; text-decoration-color: #7f7f7f\">               </span>\n",
       "</pre>\n"
      ],
      "text/plain": [
       "\u001b[2;36m[08/22/23 15:31:37]\u001b[0m\u001b[2;36m \u001b[0m\u001b[31mWARNING \u001b[0m \u001b[35m/tmp/ipykernel_6460/\u001b[0m\u001b[95m1921957139.py\u001b[0m:\u001b[1;36m12\u001b[0m: DeprecationWarning: `np.bool` is \u001b]8;id=394126;file:///usr/lib/python3.9/warnings.py\u001b\\\u001b[2mwarnings.py\u001b[0m\u001b]8;;\u001b\\\u001b[2m:\u001b[0m\u001b]8;id=425997;file:///usr/lib/python3.9/warnings.py#109\u001b\\\u001b[2m109\u001b[0m\u001b]8;;\u001b\\\n",
       "\u001b[2;36m                    \u001b[0m         a deprecated alias for the builtin `bool`. To silence this warning,    \u001b[2m               \u001b[0m\n",
       "\u001b[2;36m                    \u001b[0m         use `bool` by itself. Doing this will not modify any behavior and is   \u001b[2m               \u001b[0m\n",
       "\u001b[2;36m                    \u001b[0m         safe. If you specifically wanted the numpy scalar type, use `np.bool_` \u001b[2m               \u001b[0m\n",
       "\u001b[2;36m                    \u001b[0m         here.                                                                  \u001b[2m               \u001b[0m\n",
       "\u001b[2;36m                    \u001b[0m         Deprecated in NumPy \u001b[1;36m1.20\u001b[0m; for more details and guidance:               \u001b[2m               \u001b[0m\n",
       "\u001b[2;36m                    \u001b[0m         \u001b[4;94mhttps://numpy.org/devdocs/release/1.20.0-notes.html#deprecations\u001b[0m       \u001b[2m               \u001b[0m\n",
       "\u001b[2;36m                    \u001b[0m           target = \u001b[1;35mtarget.astype\u001b[0m\u001b[1m(\u001b[0mnp.bool\u001b[1m)\u001b[0m\u001b[1;35m.flatten\u001b[0m\u001b[1m(\u001b[0m\u001b[1m)\u001b[0m                            \u001b[2m               \u001b[0m\n",
       "\u001b[2;36m                    \u001b[0m                                                                                \u001b[2m               \u001b[0m\n"
      ]
     },
     "metadata": {},
     "output_type": "display_data"
    },
    {
     "name": "stdout",
     "output_type": "stream",
     "text": [
      "confussion matrix model\n",
      "col_0  False  True \n",
      "row_0              \n",
      "True     386    711\n",
      "\n",
      " confussion matrix edit\n",
      "col_0  False  True \n",
      "row_0              \n",
      "True     347    750\n",
      "/n/n Classification report model\n"
     ]
    },
    {
     "data": {
      "text/html": [
       "<pre style=\"white-space:pre;overflow-x:auto;line-height:normal;font-family:Menlo,'DejaVu Sans Mono',consolas,'Courier New',monospace\"><span style=\"color: #7fbfbf; text-decoration-color: #7fbfbf\">                    </span><span style=\"color: #800000; text-decoration-color: #800000\">WARNING </span> <span style=\"color: #800080; text-decoration-color: #800080\">/usr/local/lib/python3.9/dist-packages/sklearn/metrics/</span><span style=\"color: #ff00ff; text-decoration-color: #ff00ff\">_classification</span> <a href=\"file:///usr/lib/python3.9/warnings.py\" target=\"_blank\"><span style=\"color: #7f7f7f; text-decoration-color: #7f7f7f\">warnings.py</span></a><span style=\"color: #7f7f7f; text-decoration-color: #7f7f7f\">:</span><a href=\"file:///usr/lib/python3.9/warnings.py#109\" target=\"_blank\"><span style=\"color: #7f7f7f; text-decoration-color: #7f7f7f\">109</span></a>\n",
       "<span style=\"color: #7fbfbf; text-decoration-color: #7fbfbf\">                    </span>         <span style=\"color: #ff00ff; text-decoration-color: #ff00ff\">.py</span>:<span style=\"color: #008080; text-decoration-color: #008080; font-weight: bold\">1334</span>: UndefinedMetricWarning: Recall and F-score are ill-defined   <span style=\"color: #7f7f7f; text-decoration-color: #7f7f7f\">               </span>\n",
       "<span style=\"color: #7fbfbf; text-decoration-color: #7fbfbf\">                    </span>         and being set to <span style=\"color: #008080; text-decoration-color: #008080; font-weight: bold\">0.0</span> in labels with no true samples. Use               <span style=\"color: #7f7f7f; text-decoration-color: #7f7f7f\">               </span>\n",
       "<span style=\"color: #7fbfbf; text-decoration-color: #7fbfbf\">                    </span>         `zero_division` parameter to control this behavior.                    <span style=\"color: #7f7f7f; text-decoration-color: #7f7f7f\">               </span>\n",
       "<span style=\"color: #7fbfbf; text-decoration-color: #7fbfbf\">                    </span>           <span style=\"color: #800080; text-decoration-color: #800080; font-weight: bold\">_warn_prf</span><span style=\"font-weight: bold\">(</span>average, modifier, msg_start, <span style=\"color: #800080; text-decoration-color: #800080; font-weight: bold\">len</span><span style=\"font-weight: bold\">(</span>result<span style=\"font-weight: bold\">))</span>                 <span style=\"color: #7f7f7f; text-decoration-color: #7f7f7f\">               </span>\n",
       "<span style=\"color: #7fbfbf; text-decoration-color: #7fbfbf\">                    </span>                                                                                <span style=\"color: #7f7f7f; text-decoration-color: #7f7f7f\">               </span>\n",
       "</pre>\n"
      ],
      "text/plain": [
       "\u001b[2;36m                   \u001b[0m\u001b[2;36m \u001b[0m\u001b[31mWARNING \u001b[0m \u001b[35m/usr/local/lib/python3.9/dist-packages/sklearn/metrics/\u001b[0m\u001b[95m_classification\u001b[0m \u001b]8;id=702660;file:///usr/lib/python3.9/warnings.py\u001b\\\u001b[2mwarnings.py\u001b[0m\u001b]8;;\u001b\\\u001b[2m:\u001b[0m\u001b]8;id=877847;file:///usr/lib/python3.9/warnings.py#109\u001b\\\u001b[2m109\u001b[0m\u001b]8;;\u001b\\\n",
       "\u001b[2;36m                    \u001b[0m         \u001b[95m.py\u001b[0m:\u001b[1;36m1334\u001b[0m: UndefinedMetricWarning: Recall and F-score are ill-defined   \u001b[2m               \u001b[0m\n",
       "\u001b[2;36m                    \u001b[0m         and being set to \u001b[1;36m0.0\u001b[0m in labels with no true samples. Use               \u001b[2m               \u001b[0m\n",
       "\u001b[2;36m                    \u001b[0m         `zero_division` parameter to control this behavior.                    \u001b[2m               \u001b[0m\n",
       "\u001b[2;36m                    \u001b[0m           \u001b[1;35m_warn_prf\u001b[0m\u001b[1m(\u001b[0maverage, modifier, msg_start, \u001b[1;35mlen\u001b[0m\u001b[1m(\u001b[0mresult\u001b[1m)\u001b[0m\u001b[1m)\u001b[0m                 \u001b[2m               \u001b[0m\n",
       "\u001b[2;36m                    \u001b[0m                                                                                \u001b[2m               \u001b[0m\n"
      ]
     },
     "metadata": {},
     "output_type": "display_data"
    },
    {
     "data": {
      "text/html": [
       "<pre style=\"white-space:pre;overflow-x:auto;line-height:normal;font-family:Menlo,'DejaVu Sans Mono',consolas,'Courier New',monospace\"><span style=\"color: #7fbfbf; text-decoration-color: #7fbfbf\">                    </span><span style=\"color: #800000; text-decoration-color: #800000\">WARNING </span> <span style=\"color: #800080; text-decoration-color: #800080\">/usr/local/lib/python3.9/dist-packages/sklearn/metrics/</span><span style=\"color: #ff00ff; text-decoration-color: #ff00ff\">_classification</span> <a href=\"file:///usr/lib/python3.9/warnings.py\" target=\"_blank\"><span style=\"color: #7f7f7f; text-decoration-color: #7f7f7f\">warnings.py</span></a><span style=\"color: #7f7f7f; text-decoration-color: #7f7f7f\">:</span><a href=\"file:///usr/lib/python3.9/warnings.py#109\" target=\"_blank\"><span style=\"color: #7f7f7f; text-decoration-color: #7f7f7f\">109</span></a>\n",
       "<span style=\"color: #7fbfbf; text-decoration-color: #7fbfbf\">                    </span>         <span style=\"color: #ff00ff; text-decoration-color: #ff00ff\">.py</span>:<span style=\"color: #008080; text-decoration-color: #008080; font-weight: bold\">1334</span>: UndefinedMetricWarning: Recall and F-score are ill-defined   <span style=\"color: #7f7f7f; text-decoration-color: #7f7f7f\">               </span>\n",
       "<span style=\"color: #7fbfbf; text-decoration-color: #7fbfbf\">                    </span>         and being set to <span style=\"color: #008080; text-decoration-color: #008080; font-weight: bold\">0.0</span> in labels with no true samples. Use               <span style=\"color: #7f7f7f; text-decoration-color: #7f7f7f\">               </span>\n",
       "<span style=\"color: #7fbfbf; text-decoration-color: #7fbfbf\">                    </span>         `zero_division` parameter to control this behavior.                    <span style=\"color: #7f7f7f; text-decoration-color: #7f7f7f\">               </span>\n",
       "<span style=\"color: #7fbfbf; text-decoration-color: #7fbfbf\">                    </span>           <span style=\"color: #800080; text-decoration-color: #800080; font-weight: bold\">_warn_prf</span><span style=\"font-weight: bold\">(</span>average, modifier, msg_start, <span style=\"color: #800080; text-decoration-color: #800080; font-weight: bold\">len</span><span style=\"font-weight: bold\">(</span>result<span style=\"font-weight: bold\">))</span>                 <span style=\"color: #7f7f7f; text-decoration-color: #7f7f7f\">               </span>\n",
       "<span style=\"color: #7fbfbf; text-decoration-color: #7fbfbf\">                    </span>                                                                                <span style=\"color: #7f7f7f; text-decoration-color: #7f7f7f\">               </span>\n",
       "</pre>\n"
      ],
      "text/plain": [
       "\u001b[2;36m                   \u001b[0m\u001b[2;36m \u001b[0m\u001b[31mWARNING \u001b[0m \u001b[35m/usr/local/lib/python3.9/dist-packages/sklearn/metrics/\u001b[0m\u001b[95m_classification\u001b[0m \u001b]8;id=461843;file:///usr/lib/python3.9/warnings.py\u001b\\\u001b[2mwarnings.py\u001b[0m\u001b]8;;\u001b\\\u001b[2m:\u001b[0m\u001b]8;id=944240;file:///usr/lib/python3.9/warnings.py#109\u001b\\\u001b[2m109\u001b[0m\u001b]8;;\u001b\\\n",
       "\u001b[2;36m                    \u001b[0m         \u001b[95m.py\u001b[0m:\u001b[1;36m1334\u001b[0m: UndefinedMetricWarning: Recall and F-score are ill-defined   \u001b[2m               \u001b[0m\n",
       "\u001b[2;36m                    \u001b[0m         and being set to \u001b[1;36m0.0\u001b[0m in labels with no true samples. Use               \u001b[2m               \u001b[0m\n",
       "\u001b[2;36m                    \u001b[0m         `zero_division` parameter to control this behavior.                    \u001b[2m               \u001b[0m\n",
       "\u001b[2;36m                    \u001b[0m           \u001b[1;35m_warn_prf\u001b[0m\u001b[1m(\u001b[0maverage, modifier, msg_start, \u001b[1;35mlen\u001b[0m\u001b[1m(\u001b[0mresult\u001b[1m)\u001b[0m\u001b[1m)\u001b[0m                 \u001b[2m               \u001b[0m\n",
       "\u001b[2;36m                    \u001b[0m                                                                                \u001b[2m               \u001b[0m\n"
      ]
     },
     "metadata": {},
     "output_type": "display_data"
    },
    {
     "data": {
      "text/html": [
       "<pre style=\"white-space:pre;overflow-x:auto;line-height:normal;font-family:Menlo,'DejaVu Sans Mono',consolas,'Courier New',monospace\"><span style=\"color: #7fbfbf; text-decoration-color: #7fbfbf\">                    </span><span style=\"color: #800000; text-decoration-color: #800000\">WARNING </span> <span style=\"color: #800080; text-decoration-color: #800080\">/usr/local/lib/python3.9/dist-packages/sklearn/metrics/</span><span style=\"color: #ff00ff; text-decoration-color: #ff00ff\">_classification</span> <a href=\"file:///usr/lib/python3.9/warnings.py\" target=\"_blank\"><span style=\"color: #7f7f7f; text-decoration-color: #7f7f7f\">warnings.py</span></a><span style=\"color: #7f7f7f; text-decoration-color: #7f7f7f\">:</span><a href=\"file:///usr/lib/python3.9/warnings.py#109\" target=\"_blank\"><span style=\"color: #7f7f7f; text-decoration-color: #7f7f7f\">109</span></a>\n",
       "<span style=\"color: #7fbfbf; text-decoration-color: #7fbfbf\">                    </span>         <span style=\"color: #ff00ff; text-decoration-color: #ff00ff\">.py</span>:<span style=\"color: #008080; text-decoration-color: #008080; font-weight: bold\">1334</span>: UndefinedMetricWarning: Recall and F-score are ill-defined   <span style=\"color: #7f7f7f; text-decoration-color: #7f7f7f\">               </span>\n",
       "<span style=\"color: #7fbfbf; text-decoration-color: #7fbfbf\">                    </span>         and being set to <span style=\"color: #008080; text-decoration-color: #008080; font-weight: bold\">0.0</span> in labels with no true samples. Use               <span style=\"color: #7f7f7f; text-decoration-color: #7f7f7f\">               </span>\n",
       "<span style=\"color: #7fbfbf; text-decoration-color: #7fbfbf\">                    </span>         `zero_division` parameter to control this behavior.                    <span style=\"color: #7f7f7f; text-decoration-color: #7f7f7f\">               </span>\n",
       "<span style=\"color: #7fbfbf; text-decoration-color: #7fbfbf\">                    </span>           <span style=\"color: #800080; text-decoration-color: #800080; font-weight: bold\">_warn_prf</span><span style=\"font-weight: bold\">(</span>average, modifier, msg_start, <span style=\"color: #800080; text-decoration-color: #800080; font-weight: bold\">len</span><span style=\"font-weight: bold\">(</span>result<span style=\"font-weight: bold\">))</span>                 <span style=\"color: #7f7f7f; text-decoration-color: #7f7f7f\">               </span>\n",
       "<span style=\"color: #7fbfbf; text-decoration-color: #7fbfbf\">                    </span>                                                                                <span style=\"color: #7f7f7f; text-decoration-color: #7f7f7f\">               </span>\n",
       "</pre>\n"
      ],
      "text/plain": [
       "\u001b[2;36m                   \u001b[0m\u001b[2;36m \u001b[0m\u001b[31mWARNING \u001b[0m \u001b[35m/usr/local/lib/python3.9/dist-packages/sklearn/metrics/\u001b[0m\u001b[95m_classification\u001b[0m \u001b]8;id=815552;file:///usr/lib/python3.9/warnings.py\u001b\\\u001b[2mwarnings.py\u001b[0m\u001b]8;;\u001b\\\u001b[2m:\u001b[0m\u001b]8;id=528153;file:///usr/lib/python3.9/warnings.py#109\u001b\\\u001b[2m109\u001b[0m\u001b]8;;\u001b\\\n",
       "\u001b[2;36m                    \u001b[0m         \u001b[95m.py\u001b[0m:\u001b[1;36m1334\u001b[0m: UndefinedMetricWarning: Recall and F-score are ill-defined   \u001b[2m               \u001b[0m\n",
       "\u001b[2;36m                    \u001b[0m         and being set to \u001b[1;36m0.0\u001b[0m in labels with no true samples. Use               \u001b[2m               \u001b[0m\n",
       "\u001b[2;36m                    \u001b[0m         `zero_division` parameter to control this behavior.                    \u001b[2m               \u001b[0m\n",
       "\u001b[2;36m                    \u001b[0m           \u001b[1;35m_warn_prf\u001b[0m\u001b[1m(\u001b[0maverage, modifier, msg_start, \u001b[1;35mlen\u001b[0m\u001b[1m(\u001b[0mresult\u001b[1m)\u001b[0m\u001b[1m)\u001b[0m                 \u001b[2m               \u001b[0m\n",
       "\u001b[2;36m                    \u001b[0m                                                                                \u001b[2m               \u001b[0m\n"
      ]
     },
     "metadata": {},
     "output_type": "display_data"
    },
    {
     "name": "stdout",
     "output_type": "stream",
     "text": [
      "              precision    recall  f1-score   support\n",
      "\n",
      "       False       0.00      0.00      0.00         0\n",
      "        True       1.00      0.65      0.79      1097\n",
      "\n",
      "    accuracy                           0.65      1097\n",
      "   macro avg       0.50      0.32      0.39      1097\n",
      "weighted avg       1.00      0.65      0.79      1097\n",
      "\n",
      "/n Classification report edit\n"
     ]
    },
    {
     "data": {
      "text/html": [
       "<pre style=\"white-space:pre;overflow-x:auto;line-height:normal;font-family:Menlo,'DejaVu Sans Mono',consolas,'Courier New',monospace\"><span style=\"color: #7fbfbf; text-decoration-color: #7fbfbf\">                    </span><span style=\"color: #800000; text-decoration-color: #800000\">WARNING </span> <span style=\"color: #800080; text-decoration-color: #800080\">/usr/local/lib/python3.9/dist-packages/sklearn/metrics/</span><span style=\"color: #ff00ff; text-decoration-color: #ff00ff\">_classification</span> <a href=\"file:///usr/lib/python3.9/warnings.py\" target=\"_blank\"><span style=\"color: #7f7f7f; text-decoration-color: #7f7f7f\">warnings.py</span></a><span style=\"color: #7f7f7f; text-decoration-color: #7f7f7f\">:</span><a href=\"file:///usr/lib/python3.9/warnings.py#109\" target=\"_blank\"><span style=\"color: #7f7f7f; text-decoration-color: #7f7f7f\">109</span></a>\n",
       "<span style=\"color: #7fbfbf; text-decoration-color: #7fbfbf\">                    </span>         <span style=\"color: #ff00ff; text-decoration-color: #ff00ff\">.py</span>:<span style=\"color: #008080; text-decoration-color: #008080; font-weight: bold\">1334</span>: UndefinedMetricWarning: Recall and F-score are ill-defined   <span style=\"color: #7f7f7f; text-decoration-color: #7f7f7f\">               </span>\n",
       "<span style=\"color: #7fbfbf; text-decoration-color: #7fbfbf\">                    </span>         and being set to <span style=\"color: #008080; text-decoration-color: #008080; font-weight: bold\">0.0</span> in labels with no true samples. Use               <span style=\"color: #7f7f7f; text-decoration-color: #7f7f7f\">               </span>\n",
       "<span style=\"color: #7fbfbf; text-decoration-color: #7fbfbf\">                    </span>         `zero_division` parameter to control this behavior.                    <span style=\"color: #7f7f7f; text-decoration-color: #7f7f7f\">               </span>\n",
       "<span style=\"color: #7fbfbf; text-decoration-color: #7fbfbf\">                    </span>           <span style=\"color: #800080; text-decoration-color: #800080; font-weight: bold\">_warn_prf</span><span style=\"font-weight: bold\">(</span>average, modifier, msg_start, <span style=\"color: #800080; text-decoration-color: #800080; font-weight: bold\">len</span><span style=\"font-weight: bold\">(</span>result<span style=\"font-weight: bold\">))</span>                 <span style=\"color: #7f7f7f; text-decoration-color: #7f7f7f\">               </span>\n",
       "<span style=\"color: #7fbfbf; text-decoration-color: #7fbfbf\">                    </span>                                                                                <span style=\"color: #7f7f7f; text-decoration-color: #7f7f7f\">               </span>\n",
       "</pre>\n"
      ],
      "text/plain": [
       "\u001b[2;36m                   \u001b[0m\u001b[2;36m \u001b[0m\u001b[31mWARNING \u001b[0m \u001b[35m/usr/local/lib/python3.9/dist-packages/sklearn/metrics/\u001b[0m\u001b[95m_classification\u001b[0m \u001b]8;id=170724;file:///usr/lib/python3.9/warnings.py\u001b\\\u001b[2mwarnings.py\u001b[0m\u001b]8;;\u001b\\\u001b[2m:\u001b[0m\u001b]8;id=822780;file:///usr/lib/python3.9/warnings.py#109\u001b\\\u001b[2m109\u001b[0m\u001b]8;;\u001b\\\n",
       "\u001b[2;36m                    \u001b[0m         \u001b[95m.py\u001b[0m:\u001b[1;36m1334\u001b[0m: UndefinedMetricWarning: Recall and F-score are ill-defined   \u001b[2m               \u001b[0m\n",
       "\u001b[2;36m                    \u001b[0m         and being set to \u001b[1;36m0.0\u001b[0m in labels with no true samples. Use               \u001b[2m               \u001b[0m\n",
       "\u001b[2;36m                    \u001b[0m         `zero_division` parameter to control this behavior.                    \u001b[2m               \u001b[0m\n",
       "\u001b[2;36m                    \u001b[0m           \u001b[1;35m_warn_prf\u001b[0m\u001b[1m(\u001b[0maverage, modifier, msg_start, \u001b[1;35mlen\u001b[0m\u001b[1m(\u001b[0mresult\u001b[1m)\u001b[0m\u001b[1m)\u001b[0m                 \u001b[2m               \u001b[0m\n",
       "\u001b[2;36m                    \u001b[0m                                                                                \u001b[2m               \u001b[0m\n"
      ]
     },
     "metadata": {},
     "output_type": "display_data"
    },
    {
     "data": {
      "text/html": [
       "<pre style=\"white-space:pre;overflow-x:auto;line-height:normal;font-family:Menlo,'DejaVu Sans Mono',consolas,'Courier New',monospace\"><span style=\"color: #7fbfbf; text-decoration-color: #7fbfbf\">                    </span><span style=\"color: #800000; text-decoration-color: #800000\">WARNING </span> <span style=\"color: #800080; text-decoration-color: #800080\">/usr/local/lib/python3.9/dist-packages/sklearn/metrics/</span><span style=\"color: #ff00ff; text-decoration-color: #ff00ff\">_classification</span> <a href=\"file:///usr/lib/python3.9/warnings.py\" target=\"_blank\"><span style=\"color: #7f7f7f; text-decoration-color: #7f7f7f\">warnings.py</span></a><span style=\"color: #7f7f7f; text-decoration-color: #7f7f7f\">:</span><a href=\"file:///usr/lib/python3.9/warnings.py#109\" target=\"_blank\"><span style=\"color: #7f7f7f; text-decoration-color: #7f7f7f\">109</span></a>\n",
       "<span style=\"color: #7fbfbf; text-decoration-color: #7fbfbf\">                    </span>         <span style=\"color: #ff00ff; text-decoration-color: #ff00ff\">.py</span>:<span style=\"color: #008080; text-decoration-color: #008080; font-weight: bold\">1334</span>: UndefinedMetricWarning: Recall and F-score are ill-defined   <span style=\"color: #7f7f7f; text-decoration-color: #7f7f7f\">               </span>\n",
       "<span style=\"color: #7fbfbf; text-decoration-color: #7fbfbf\">                    </span>         and being set to <span style=\"color: #008080; text-decoration-color: #008080; font-weight: bold\">0.0</span> in labels with no true samples. Use               <span style=\"color: #7f7f7f; text-decoration-color: #7f7f7f\">               </span>\n",
       "<span style=\"color: #7fbfbf; text-decoration-color: #7fbfbf\">                    </span>         `zero_division` parameter to control this behavior.                    <span style=\"color: #7f7f7f; text-decoration-color: #7f7f7f\">               </span>\n",
       "<span style=\"color: #7fbfbf; text-decoration-color: #7fbfbf\">                    </span>           <span style=\"color: #800080; text-decoration-color: #800080; font-weight: bold\">_warn_prf</span><span style=\"font-weight: bold\">(</span>average, modifier, msg_start, <span style=\"color: #800080; text-decoration-color: #800080; font-weight: bold\">len</span><span style=\"font-weight: bold\">(</span>result<span style=\"font-weight: bold\">))</span>                 <span style=\"color: #7f7f7f; text-decoration-color: #7f7f7f\">               </span>\n",
       "<span style=\"color: #7fbfbf; text-decoration-color: #7fbfbf\">                    </span>                                                                                <span style=\"color: #7f7f7f; text-decoration-color: #7f7f7f\">               </span>\n",
       "</pre>\n"
      ],
      "text/plain": [
       "\u001b[2;36m                   \u001b[0m\u001b[2;36m \u001b[0m\u001b[31mWARNING \u001b[0m \u001b[35m/usr/local/lib/python3.9/dist-packages/sklearn/metrics/\u001b[0m\u001b[95m_classification\u001b[0m \u001b]8;id=483385;file:///usr/lib/python3.9/warnings.py\u001b\\\u001b[2mwarnings.py\u001b[0m\u001b]8;;\u001b\\\u001b[2m:\u001b[0m\u001b]8;id=803066;file:///usr/lib/python3.9/warnings.py#109\u001b\\\u001b[2m109\u001b[0m\u001b]8;;\u001b\\\n",
       "\u001b[2;36m                    \u001b[0m         \u001b[95m.py\u001b[0m:\u001b[1;36m1334\u001b[0m: UndefinedMetricWarning: Recall and F-score are ill-defined   \u001b[2m               \u001b[0m\n",
       "\u001b[2;36m                    \u001b[0m         and being set to \u001b[1;36m0.0\u001b[0m in labels with no true samples. Use               \u001b[2m               \u001b[0m\n",
       "\u001b[2;36m                    \u001b[0m         `zero_division` parameter to control this behavior.                    \u001b[2m               \u001b[0m\n",
       "\u001b[2;36m                    \u001b[0m           \u001b[1;35m_warn_prf\u001b[0m\u001b[1m(\u001b[0maverage, modifier, msg_start, \u001b[1;35mlen\u001b[0m\u001b[1m(\u001b[0mresult\u001b[1m)\u001b[0m\u001b[1m)\u001b[0m                 \u001b[2m               \u001b[0m\n",
       "\u001b[2;36m                    \u001b[0m                                                                                \u001b[2m               \u001b[0m\n"
      ]
     },
     "metadata": {},
     "output_type": "display_data"
    },
    {
     "data": {
      "text/html": [
       "<pre style=\"white-space:pre;overflow-x:auto;line-height:normal;font-family:Menlo,'DejaVu Sans Mono',consolas,'Courier New',monospace\"><span style=\"color: #7fbfbf; text-decoration-color: #7fbfbf\">                    </span><span style=\"color: #800000; text-decoration-color: #800000\">WARNING </span> <span style=\"color: #800080; text-decoration-color: #800080\">/usr/local/lib/python3.9/dist-packages/sklearn/metrics/</span><span style=\"color: #ff00ff; text-decoration-color: #ff00ff\">_classification</span> <a href=\"file:///usr/lib/python3.9/warnings.py\" target=\"_blank\"><span style=\"color: #7f7f7f; text-decoration-color: #7f7f7f\">warnings.py</span></a><span style=\"color: #7f7f7f; text-decoration-color: #7f7f7f\">:</span><a href=\"file:///usr/lib/python3.9/warnings.py#109\" target=\"_blank\"><span style=\"color: #7f7f7f; text-decoration-color: #7f7f7f\">109</span></a>\n",
       "<span style=\"color: #7fbfbf; text-decoration-color: #7fbfbf\">                    </span>         <span style=\"color: #ff00ff; text-decoration-color: #ff00ff\">.py</span>:<span style=\"color: #008080; text-decoration-color: #008080; font-weight: bold\">1334</span>: UndefinedMetricWarning: Recall and F-score are ill-defined   <span style=\"color: #7f7f7f; text-decoration-color: #7f7f7f\">               </span>\n",
       "<span style=\"color: #7fbfbf; text-decoration-color: #7fbfbf\">                    </span>         and being set to <span style=\"color: #008080; text-decoration-color: #008080; font-weight: bold\">0.0</span> in labels with no true samples. Use               <span style=\"color: #7f7f7f; text-decoration-color: #7f7f7f\">               </span>\n",
       "<span style=\"color: #7fbfbf; text-decoration-color: #7fbfbf\">                    </span>         `zero_division` parameter to control this behavior.                    <span style=\"color: #7f7f7f; text-decoration-color: #7f7f7f\">               </span>\n",
       "<span style=\"color: #7fbfbf; text-decoration-color: #7fbfbf\">                    </span>           <span style=\"color: #800080; text-decoration-color: #800080; font-weight: bold\">_warn_prf</span><span style=\"font-weight: bold\">(</span>average, modifier, msg_start, <span style=\"color: #800080; text-decoration-color: #800080; font-weight: bold\">len</span><span style=\"font-weight: bold\">(</span>result<span style=\"font-weight: bold\">))</span>                 <span style=\"color: #7f7f7f; text-decoration-color: #7f7f7f\">               </span>\n",
       "<span style=\"color: #7fbfbf; text-decoration-color: #7fbfbf\">                    </span>                                                                                <span style=\"color: #7f7f7f; text-decoration-color: #7f7f7f\">               </span>\n",
       "</pre>\n"
      ],
      "text/plain": [
       "\u001b[2;36m                   \u001b[0m\u001b[2;36m \u001b[0m\u001b[31mWARNING \u001b[0m \u001b[35m/usr/local/lib/python3.9/dist-packages/sklearn/metrics/\u001b[0m\u001b[95m_classification\u001b[0m \u001b]8;id=826381;file:///usr/lib/python3.9/warnings.py\u001b\\\u001b[2mwarnings.py\u001b[0m\u001b]8;;\u001b\\\u001b[2m:\u001b[0m\u001b]8;id=989023;file:///usr/lib/python3.9/warnings.py#109\u001b\\\u001b[2m109\u001b[0m\u001b]8;;\u001b\\\n",
       "\u001b[2;36m                    \u001b[0m         \u001b[95m.py\u001b[0m:\u001b[1;36m1334\u001b[0m: UndefinedMetricWarning: Recall and F-score are ill-defined   \u001b[2m               \u001b[0m\n",
       "\u001b[2;36m                    \u001b[0m         and being set to \u001b[1;36m0.0\u001b[0m in labels with no true samples. Use               \u001b[2m               \u001b[0m\n",
       "\u001b[2;36m                    \u001b[0m         `zero_division` parameter to control this behavior.                    \u001b[2m               \u001b[0m\n",
       "\u001b[2;36m                    \u001b[0m           \u001b[1;35m_warn_prf\u001b[0m\u001b[1m(\u001b[0maverage, modifier, msg_start, \u001b[1;35mlen\u001b[0m\u001b[1m(\u001b[0mresult\u001b[1m)\u001b[0m\u001b[1m)\u001b[0m                 \u001b[2m               \u001b[0m\n",
       "\u001b[2;36m                    \u001b[0m                                                                                \u001b[2m               \u001b[0m\n"
      ]
     },
     "metadata": {},
     "output_type": "display_data"
    },
    {
     "name": "stdout",
     "output_type": "stream",
     "text": [
      "              precision    recall  f1-score   support\n",
      "\n",
      "       False       0.00      0.00      0.00         0\n",
      "        True       1.00      0.68      0.81      1097\n",
      "\n",
      "    accuracy                           0.68      1097\n",
      "   macro avg       0.50      0.34      0.41      1097\n",
      "weighted avg       1.00      0.68      0.81      1097\n",
      "\n"
     ]
    }
   ],
   "source": [
    "generate_comparison_model_vs_edit(data_prod_abt_pairs, data_prod_abt_target, .5)"
   ]
  },
  {
   "cell_type": "markdown",
   "id": "63b0df6c-9eec-495c-b7b5-159bbbc062d2",
   "metadata": {},
   "source": [
    "# Affiliations dataset"
   ]
  },
  {
   "cell_type": "code",
   "execution_count": 112,
   "id": "1a7ffed7-3328-42c4-92df-f38929911229",
   "metadata": {},
   "outputs": [],
   "source": [
    "raw_names = pd.read_csv('../../data/01_raw/affiliations/affiliationstrings_ids.csv')\n",
    "mapping = pd.read_csv('../../data/01_raw/affiliations/affiliationstrings_mapping.csv').astype('int')"
   ]
  },
  {
   "cell_type": "code",
   "execution_count": 113,
   "id": "b7eedb46-0ba6-4dbc-a217-db5288b5ff41",
   "metadata": {},
   "outputs": [],
   "source": [
    "mapping.columns = ['id1', 'id2']\n",
    "raw_names.columns = ['id', 'name']"
   ]
  },
  {
   "cell_type": "code",
   "execution_count": 114,
   "id": "d017af08-f895-420c-8b08-2669ef46cb4d",
   "metadata": {},
   "outputs": [],
   "source": [
    "data_affiliations = mapping.merge(raw_names, left_on='id1', right_on='id').merge(raw_names, left_on='id2', right_on='id')"
   ]
  },
  {
   "cell_type": "code",
   "execution_count": 115,
   "id": "306ccb97-6f7f-41cd-a24b-44b31f7fc4be",
   "metadata": {},
   "outputs": [],
   "source": [
    "data_affiliations['name_x'] = data_affiliations['name_x'].apply(lambda x: normalize_characters(x))\n",
    "data_affiliations['name_y'] = data_affiliations['name_y'].apply(lambda x: normalize_characters(x))\n",
    "data_affiliations['target'] = 1"
   ]
  },
  {
   "cell_type": "code",
   "execution_count": 116,
   "id": "fb38940c-863c-48f9-9563-d59be906214f",
   "metadata": {},
   "outputs": [],
   "source": [
    "data_affiliations = data_affiliations.drop_duplicates(subset=['name_x', 'name_y'])"
   ]
  },
  {
   "cell_type": "code",
   "execution_count": 117,
   "id": "51db0f57-78a9-422f-87a6-978b0510a9e6",
   "metadata": {},
   "outputs": [],
   "source": [
    "data_affiliations_pairs = data_affiliations[['name_x', 'name_y']].values\n",
    "data_affiliations_target = data_affiliations['target'].values"
   ]
  },
  {
   "cell_type": "code",
   "execution_count": 118,
   "id": "1d36c674-fa9e-440b-8614-32ca8561318d",
   "metadata": {},
   "outputs": [
    {
     "name": "stdout",
     "output_type": "stream",
     "text": [
      "863/863 [==============================] - 14s 16ms/step\n"
     ]
    }
   ],
   "source": [
    "X_encoded_1 = encode_sparsed_list(data_affiliations_pairs[:, 0],char_to_index_dict=char_to_index, max_len=MAX_NAME_LEN)\n",
    "X_encoded_2 = encode_sparsed_list(data_affiliations_pairs[:, 1],char_to_index_dict=char_to_index, max_len=MAX_NAME_LEN)\n",
    "    \n",
    "prediction = poi_c2v.model.predict((X_encoded_1, X_encoded_2))"
   ]
  },
  {
   "cell_type": "code",
   "execution_count": 119,
   "id": "0023f836-c514-4588-8b33-42a1c7b6d375",
   "metadata": {},
   "outputs": [],
   "source": [
    "prediction_token_set = np.array([fuzz.token_set_ratio(name1, name2)/100 for name1, name2 in data_affiliations_pairs])"
   ]
  },
  {
   "cell_type": "code",
   "execution_count": 120,
   "id": "c14d599c-57fc-44c7-bf3f-e62ca04b9c5c",
   "metadata": {},
   "outputs": [],
   "source": [
    "data_affiliations['cnn_prediction'] = prediction.flatten()\n",
    "data_affiliations['token_set_prediction'] = prediction_token_set\n",
    "\n",
    "data_affiliations['cnn_match'] = prediction>.5\n",
    "data_affiliations['token_set_match'] = prediction_token_set>.75"
   ]
  },
  {
   "cell_type": "code",
   "execution_count": 121,
   "id": "175d0a99-5b1a-4120-b566-fce0797f9cc3",
   "metadata": {},
   "outputs": [],
   "source": [
    "data_affiliations.to_csv('affiliations_cnn_vs_edit_predictions.csv', index=False)"
   ]
  },
  {
   "cell_type": "code",
   "execution_count": 122,
   "id": "e426f2ce-1a24-484a-b1c7-3e4feaf44188",
   "metadata": {},
   "outputs": [
    {
     "name": "stdout",
     "output_type": "stream",
     "text": [
      "863/863 [==============================] - 14s 16ms/step\n"
     ]
    },
    {
     "data": {
      "text/html": [
       "<pre style=\"white-space:pre;overflow-x:auto;line-height:normal;font-family:Menlo,'DejaVu Sans Mono',consolas,'Courier New',monospace\"><span style=\"color: #7fbfbf; text-decoration-color: #7fbfbf\">[08/22/23 15:32:26] </span><span style=\"color: #800000; text-decoration-color: #800000\">WARNING </span> <span style=\"color: #800080; text-decoration-color: #800080\">/tmp/ipykernel_6460/</span><span style=\"color: #ff00ff; text-decoration-color: #ff00ff\">1921957139.py</span>:<span style=\"color: #008080; text-decoration-color: #008080; font-weight: bold\">12</span>: DeprecationWarning: `np.bool` is <a href=\"file:///usr/lib/python3.9/warnings.py\" target=\"_blank\"><span style=\"color: #7f7f7f; text-decoration-color: #7f7f7f\">warnings.py</span></a><span style=\"color: #7f7f7f; text-decoration-color: #7f7f7f\">:</span><a href=\"file:///usr/lib/python3.9/warnings.py#109\" target=\"_blank\"><span style=\"color: #7f7f7f; text-decoration-color: #7f7f7f\">109</span></a>\n",
       "<span style=\"color: #7fbfbf; text-decoration-color: #7fbfbf\">                    </span>         a deprecated alias for the builtin `bool`. To silence this warning,    <span style=\"color: #7f7f7f; text-decoration-color: #7f7f7f\">               </span>\n",
       "<span style=\"color: #7fbfbf; text-decoration-color: #7fbfbf\">                    </span>         use `bool` by itself. Doing this will not modify any behavior and is   <span style=\"color: #7f7f7f; text-decoration-color: #7f7f7f\">               </span>\n",
       "<span style=\"color: #7fbfbf; text-decoration-color: #7fbfbf\">                    </span>         safe. If you specifically wanted the numpy scalar type, use `np.bool_` <span style=\"color: #7f7f7f; text-decoration-color: #7f7f7f\">               </span>\n",
       "<span style=\"color: #7fbfbf; text-decoration-color: #7fbfbf\">                    </span>         here.                                                                  <span style=\"color: #7f7f7f; text-decoration-color: #7f7f7f\">               </span>\n",
       "<span style=\"color: #7fbfbf; text-decoration-color: #7fbfbf\">                    </span>         Deprecated in NumPy <span style=\"color: #008080; text-decoration-color: #008080; font-weight: bold\">1.20</span>; for more details and guidance:               <span style=\"color: #7f7f7f; text-decoration-color: #7f7f7f\">               </span>\n",
       "<span style=\"color: #7fbfbf; text-decoration-color: #7fbfbf\">                    </span>         <span style=\"color: #0000ff; text-decoration-color: #0000ff; text-decoration: underline\">https://numpy.org/devdocs/release/1.20.0-notes.html#deprecations</span>       <span style=\"color: #7f7f7f; text-decoration-color: #7f7f7f\">               </span>\n",
       "<span style=\"color: #7fbfbf; text-decoration-color: #7fbfbf\">                    </span>           target = <span style=\"color: #800080; text-decoration-color: #800080; font-weight: bold\">target.astype</span><span style=\"font-weight: bold\">(</span>np.bool<span style=\"font-weight: bold\">)</span><span style=\"color: #800080; text-decoration-color: #800080; font-weight: bold\">.flatten</span><span style=\"font-weight: bold\">()</span>                            <span style=\"color: #7f7f7f; text-decoration-color: #7f7f7f\">               </span>\n",
       "<span style=\"color: #7fbfbf; text-decoration-color: #7fbfbf\">                    </span>                                                                                <span style=\"color: #7f7f7f; text-decoration-color: #7f7f7f\">               </span>\n",
       "</pre>\n"
      ],
      "text/plain": [
       "\u001b[2;36m[08/22/23 15:32:26]\u001b[0m\u001b[2;36m \u001b[0m\u001b[31mWARNING \u001b[0m \u001b[35m/tmp/ipykernel_6460/\u001b[0m\u001b[95m1921957139.py\u001b[0m:\u001b[1;36m12\u001b[0m: DeprecationWarning: `np.bool` is \u001b]8;id=626244;file:///usr/lib/python3.9/warnings.py\u001b\\\u001b[2mwarnings.py\u001b[0m\u001b]8;;\u001b\\\u001b[2m:\u001b[0m\u001b]8;id=669647;file:///usr/lib/python3.9/warnings.py#109\u001b\\\u001b[2m109\u001b[0m\u001b]8;;\u001b\\\n",
       "\u001b[2;36m                    \u001b[0m         a deprecated alias for the builtin `bool`. To silence this warning,    \u001b[2m               \u001b[0m\n",
       "\u001b[2;36m                    \u001b[0m         use `bool` by itself. Doing this will not modify any behavior and is   \u001b[2m               \u001b[0m\n",
       "\u001b[2;36m                    \u001b[0m         safe. If you specifically wanted the numpy scalar type, use `np.bool_` \u001b[2m               \u001b[0m\n",
       "\u001b[2;36m                    \u001b[0m         here.                                                                  \u001b[2m               \u001b[0m\n",
       "\u001b[2;36m                    \u001b[0m         Deprecated in NumPy \u001b[1;36m1.20\u001b[0m; for more details and guidance:               \u001b[2m               \u001b[0m\n",
       "\u001b[2;36m                    \u001b[0m         \u001b[4;94mhttps://numpy.org/devdocs/release/1.20.0-notes.html#deprecations\u001b[0m       \u001b[2m               \u001b[0m\n",
       "\u001b[2;36m                    \u001b[0m           target = \u001b[1;35mtarget.astype\u001b[0m\u001b[1m(\u001b[0mnp.bool\u001b[1m)\u001b[0m\u001b[1;35m.flatten\u001b[0m\u001b[1m(\u001b[0m\u001b[1m)\u001b[0m                            \u001b[2m               \u001b[0m\n",
       "\u001b[2;36m                    \u001b[0m                                                                                \u001b[2m               \u001b[0m\n"
      ]
     },
     "metadata": {},
     "output_type": "display_data"
    },
    {
     "name": "stdout",
     "output_type": "stream",
     "text": [
      "confussion matrix model\n",
      "col_0  False  True \n",
      "row_0              \n",
      "True   14663  12953\n",
      "\n",
      " confussion matrix edit\n",
      "col_0  False  True \n",
      "row_0              \n",
      "True    8030  19586\n",
      "/n/n Classification report model\n"
     ]
    },
    {
     "data": {
      "text/html": [
       "<pre style=\"white-space:pre;overflow-x:auto;line-height:normal;font-family:Menlo,'DejaVu Sans Mono',consolas,'Courier New',monospace\"><span style=\"color: #7fbfbf; text-decoration-color: #7fbfbf\">                    </span><span style=\"color: #800000; text-decoration-color: #800000\">WARNING </span> <span style=\"color: #800080; text-decoration-color: #800080\">/usr/local/lib/python3.9/dist-packages/sklearn/metrics/</span><span style=\"color: #ff00ff; text-decoration-color: #ff00ff\">_classification</span> <a href=\"file:///usr/lib/python3.9/warnings.py\" target=\"_blank\"><span style=\"color: #7f7f7f; text-decoration-color: #7f7f7f\">warnings.py</span></a><span style=\"color: #7f7f7f; text-decoration-color: #7f7f7f\">:</span><a href=\"file:///usr/lib/python3.9/warnings.py#109\" target=\"_blank\"><span style=\"color: #7f7f7f; text-decoration-color: #7f7f7f\">109</span></a>\n",
       "<span style=\"color: #7fbfbf; text-decoration-color: #7fbfbf\">                    </span>         <span style=\"color: #ff00ff; text-decoration-color: #ff00ff\">.py</span>:<span style=\"color: #008080; text-decoration-color: #008080; font-weight: bold\">1334</span>: UndefinedMetricWarning: Recall and F-score are ill-defined   <span style=\"color: #7f7f7f; text-decoration-color: #7f7f7f\">               </span>\n",
       "<span style=\"color: #7fbfbf; text-decoration-color: #7fbfbf\">                    </span>         and being set to <span style=\"color: #008080; text-decoration-color: #008080; font-weight: bold\">0.0</span> in labels with no true samples. Use               <span style=\"color: #7f7f7f; text-decoration-color: #7f7f7f\">               </span>\n",
       "<span style=\"color: #7fbfbf; text-decoration-color: #7fbfbf\">                    </span>         `zero_division` parameter to control this behavior.                    <span style=\"color: #7f7f7f; text-decoration-color: #7f7f7f\">               </span>\n",
       "<span style=\"color: #7fbfbf; text-decoration-color: #7fbfbf\">                    </span>           <span style=\"color: #800080; text-decoration-color: #800080; font-weight: bold\">_warn_prf</span><span style=\"font-weight: bold\">(</span>average, modifier, msg_start, <span style=\"color: #800080; text-decoration-color: #800080; font-weight: bold\">len</span><span style=\"font-weight: bold\">(</span>result<span style=\"font-weight: bold\">))</span>                 <span style=\"color: #7f7f7f; text-decoration-color: #7f7f7f\">               </span>\n",
       "<span style=\"color: #7fbfbf; text-decoration-color: #7fbfbf\">                    </span>                                                                                <span style=\"color: #7f7f7f; text-decoration-color: #7f7f7f\">               </span>\n",
       "</pre>\n"
      ],
      "text/plain": [
       "\u001b[2;36m                   \u001b[0m\u001b[2;36m \u001b[0m\u001b[31mWARNING \u001b[0m \u001b[35m/usr/local/lib/python3.9/dist-packages/sklearn/metrics/\u001b[0m\u001b[95m_classification\u001b[0m \u001b]8;id=316653;file:///usr/lib/python3.9/warnings.py\u001b\\\u001b[2mwarnings.py\u001b[0m\u001b]8;;\u001b\\\u001b[2m:\u001b[0m\u001b]8;id=655814;file:///usr/lib/python3.9/warnings.py#109\u001b\\\u001b[2m109\u001b[0m\u001b]8;;\u001b\\\n",
       "\u001b[2;36m                    \u001b[0m         \u001b[95m.py\u001b[0m:\u001b[1;36m1334\u001b[0m: UndefinedMetricWarning: Recall and F-score are ill-defined   \u001b[2m               \u001b[0m\n",
       "\u001b[2;36m                    \u001b[0m         and being set to \u001b[1;36m0.0\u001b[0m in labels with no true samples. Use               \u001b[2m               \u001b[0m\n",
       "\u001b[2;36m                    \u001b[0m         `zero_division` parameter to control this behavior.                    \u001b[2m               \u001b[0m\n",
       "\u001b[2;36m                    \u001b[0m           \u001b[1;35m_warn_prf\u001b[0m\u001b[1m(\u001b[0maverage, modifier, msg_start, \u001b[1;35mlen\u001b[0m\u001b[1m(\u001b[0mresult\u001b[1m)\u001b[0m\u001b[1m)\u001b[0m                 \u001b[2m               \u001b[0m\n",
       "\u001b[2;36m                    \u001b[0m                                                                                \u001b[2m               \u001b[0m\n"
      ]
     },
     "metadata": {},
     "output_type": "display_data"
    },
    {
     "data": {
      "text/html": [
       "<pre style=\"white-space:pre;overflow-x:auto;line-height:normal;font-family:Menlo,'DejaVu Sans Mono',consolas,'Courier New',monospace\"><span style=\"color: #7fbfbf; text-decoration-color: #7fbfbf\">                    </span><span style=\"color: #800000; text-decoration-color: #800000\">WARNING </span> <span style=\"color: #800080; text-decoration-color: #800080\">/usr/local/lib/python3.9/dist-packages/sklearn/metrics/</span><span style=\"color: #ff00ff; text-decoration-color: #ff00ff\">_classification</span> <a href=\"file:///usr/lib/python3.9/warnings.py\" target=\"_blank\"><span style=\"color: #7f7f7f; text-decoration-color: #7f7f7f\">warnings.py</span></a><span style=\"color: #7f7f7f; text-decoration-color: #7f7f7f\">:</span><a href=\"file:///usr/lib/python3.9/warnings.py#109\" target=\"_blank\"><span style=\"color: #7f7f7f; text-decoration-color: #7f7f7f\">109</span></a>\n",
       "<span style=\"color: #7fbfbf; text-decoration-color: #7fbfbf\">                    </span>         <span style=\"color: #ff00ff; text-decoration-color: #ff00ff\">.py</span>:<span style=\"color: #008080; text-decoration-color: #008080; font-weight: bold\">1334</span>: UndefinedMetricWarning: Recall and F-score are ill-defined   <span style=\"color: #7f7f7f; text-decoration-color: #7f7f7f\">               </span>\n",
       "<span style=\"color: #7fbfbf; text-decoration-color: #7fbfbf\">                    </span>         and being set to <span style=\"color: #008080; text-decoration-color: #008080; font-weight: bold\">0.0</span> in labels with no true samples. Use               <span style=\"color: #7f7f7f; text-decoration-color: #7f7f7f\">               </span>\n",
       "<span style=\"color: #7fbfbf; text-decoration-color: #7fbfbf\">                    </span>         `zero_division` parameter to control this behavior.                    <span style=\"color: #7f7f7f; text-decoration-color: #7f7f7f\">               </span>\n",
       "<span style=\"color: #7fbfbf; text-decoration-color: #7fbfbf\">                    </span>           <span style=\"color: #800080; text-decoration-color: #800080; font-weight: bold\">_warn_prf</span><span style=\"font-weight: bold\">(</span>average, modifier, msg_start, <span style=\"color: #800080; text-decoration-color: #800080; font-weight: bold\">len</span><span style=\"font-weight: bold\">(</span>result<span style=\"font-weight: bold\">))</span>                 <span style=\"color: #7f7f7f; text-decoration-color: #7f7f7f\">               </span>\n",
       "<span style=\"color: #7fbfbf; text-decoration-color: #7fbfbf\">                    </span>                                                                                <span style=\"color: #7f7f7f; text-decoration-color: #7f7f7f\">               </span>\n",
       "</pre>\n"
      ],
      "text/plain": [
       "\u001b[2;36m                   \u001b[0m\u001b[2;36m \u001b[0m\u001b[31mWARNING \u001b[0m \u001b[35m/usr/local/lib/python3.9/dist-packages/sklearn/metrics/\u001b[0m\u001b[95m_classification\u001b[0m \u001b]8;id=450995;file:///usr/lib/python3.9/warnings.py\u001b\\\u001b[2mwarnings.py\u001b[0m\u001b]8;;\u001b\\\u001b[2m:\u001b[0m\u001b]8;id=79735;file:///usr/lib/python3.9/warnings.py#109\u001b\\\u001b[2m109\u001b[0m\u001b]8;;\u001b\\\n",
       "\u001b[2;36m                    \u001b[0m         \u001b[95m.py\u001b[0m:\u001b[1;36m1334\u001b[0m: UndefinedMetricWarning: Recall and F-score are ill-defined   \u001b[2m               \u001b[0m\n",
       "\u001b[2;36m                    \u001b[0m         and being set to \u001b[1;36m0.0\u001b[0m in labels with no true samples. Use               \u001b[2m               \u001b[0m\n",
       "\u001b[2;36m                    \u001b[0m         `zero_division` parameter to control this behavior.                    \u001b[2m               \u001b[0m\n",
       "\u001b[2;36m                    \u001b[0m           \u001b[1;35m_warn_prf\u001b[0m\u001b[1m(\u001b[0maverage, modifier, msg_start, \u001b[1;35mlen\u001b[0m\u001b[1m(\u001b[0mresult\u001b[1m)\u001b[0m\u001b[1m)\u001b[0m                 \u001b[2m               \u001b[0m\n",
       "\u001b[2;36m                    \u001b[0m                                                                                \u001b[2m               \u001b[0m\n"
      ]
     },
     "metadata": {},
     "output_type": "display_data"
    },
    {
     "data": {
      "text/html": [
       "<pre style=\"white-space:pre;overflow-x:auto;line-height:normal;font-family:Menlo,'DejaVu Sans Mono',consolas,'Courier New',monospace\"><span style=\"color: #7fbfbf; text-decoration-color: #7fbfbf\">                    </span><span style=\"color: #800000; text-decoration-color: #800000\">WARNING </span> <span style=\"color: #800080; text-decoration-color: #800080\">/usr/local/lib/python3.9/dist-packages/sklearn/metrics/</span><span style=\"color: #ff00ff; text-decoration-color: #ff00ff\">_classification</span> <a href=\"file:///usr/lib/python3.9/warnings.py\" target=\"_blank\"><span style=\"color: #7f7f7f; text-decoration-color: #7f7f7f\">warnings.py</span></a><span style=\"color: #7f7f7f; text-decoration-color: #7f7f7f\">:</span><a href=\"file:///usr/lib/python3.9/warnings.py#109\" target=\"_blank\"><span style=\"color: #7f7f7f; text-decoration-color: #7f7f7f\">109</span></a>\n",
       "<span style=\"color: #7fbfbf; text-decoration-color: #7fbfbf\">                    </span>         <span style=\"color: #ff00ff; text-decoration-color: #ff00ff\">.py</span>:<span style=\"color: #008080; text-decoration-color: #008080; font-weight: bold\">1334</span>: UndefinedMetricWarning: Recall and F-score are ill-defined   <span style=\"color: #7f7f7f; text-decoration-color: #7f7f7f\">               </span>\n",
       "<span style=\"color: #7fbfbf; text-decoration-color: #7fbfbf\">                    </span>         and being set to <span style=\"color: #008080; text-decoration-color: #008080; font-weight: bold\">0.0</span> in labels with no true samples. Use               <span style=\"color: #7f7f7f; text-decoration-color: #7f7f7f\">               </span>\n",
       "<span style=\"color: #7fbfbf; text-decoration-color: #7fbfbf\">                    </span>         `zero_division` parameter to control this behavior.                    <span style=\"color: #7f7f7f; text-decoration-color: #7f7f7f\">               </span>\n",
       "<span style=\"color: #7fbfbf; text-decoration-color: #7fbfbf\">                    </span>           <span style=\"color: #800080; text-decoration-color: #800080; font-weight: bold\">_warn_prf</span><span style=\"font-weight: bold\">(</span>average, modifier, msg_start, <span style=\"color: #800080; text-decoration-color: #800080; font-weight: bold\">len</span><span style=\"font-weight: bold\">(</span>result<span style=\"font-weight: bold\">))</span>                 <span style=\"color: #7f7f7f; text-decoration-color: #7f7f7f\">               </span>\n",
       "<span style=\"color: #7fbfbf; text-decoration-color: #7fbfbf\">                    </span>                                                                                <span style=\"color: #7f7f7f; text-decoration-color: #7f7f7f\">               </span>\n",
       "</pre>\n"
      ],
      "text/plain": [
       "\u001b[2;36m                   \u001b[0m\u001b[2;36m \u001b[0m\u001b[31mWARNING \u001b[0m \u001b[35m/usr/local/lib/python3.9/dist-packages/sklearn/metrics/\u001b[0m\u001b[95m_classification\u001b[0m \u001b]8;id=129278;file:///usr/lib/python3.9/warnings.py\u001b\\\u001b[2mwarnings.py\u001b[0m\u001b]8;;\u001b\\\u001b[2m:\u001b[0m\u001b]8;id=572034;file:///usr/lib/python3.9/warnings.py#109\u001b\\\u001b[2m109\u001b[0m\u001b]8;;\u001b\\\n",
       "\u001b[2;36m                    \u001b[0m         \u001b[95m.py\u001b[0m:\u001b[1;36m1334\u001b[0m: UndefinedMetricWarning: Recall and F-score are ill-defined   \u001b[2m               \u001b[0m\n",
       "\u001b[2;36m                    \u001b[0m         and being set to \u001b[1;36m0.0\u001b[0m in labels with no true samples. Use               \u001b[2m               \u001b[0m\n",
       "\u001b[2;36m                    \u001b[0m         `zero_division` parameter to control this behavior.                    \u001b[2m               \u001b[0m\n",
       "\u001b[2;36m                    \u001b[0m           \u001b[1;35m_warn_prf\u001b[0m\u001b[1m(\u001b[0maverage, modifier, msg_start, \u001b[1;35mlen\u001b[0m\u001b[1m(\u001b[0mresult\u001b[1m)\u001b[0m\u001b[1m)\u001b[0m                 \u001b[2m               \u001b[0m\n",
       "\u001b[2;36m                    \u001b[0m                                                                                \u001b[2m               \u001b[0m\n"
      ]
     },
     "metadata": {},
     "output_type": "display_data"
    },
    {
     "name": "stdout",
     "output_type": "stream",
     "text": [
      "              precision    recall  f1-score   support\n",
      "\n",
      "       False       0.00      0.00      0.00         0\n",
      "        True       1.00      0.47      0.64     27616\n",
      "\n",
      "    accuracy                           0.47     27616\n",
      "   macro avg       0.50      0.23      0.32     27616\n",
      "weighted avg       1.00      0.47      0.64     27616\n",
      "\n",
      "/n Classification report edit\n"
     ]
    },
    {
     "data": {
      "text/html": [
       "<pre style=\"white-space:pre;overflow-x:auto;line-height:normal;font-family:Menlo,'DejaVu Sans Mono',consolas,'Courier New',monospace\"><span style=\"color: #7fbfbf; text-decoration-color: #7fbfbf\">                    </span><span style=\"color: #800000; text-decoration-color: #800000\">WARNING </span> <span style=\"color: #800080; text-decoration-color: #800080\">/usr/local/lib/python3.9/dist-packages/sklearn/metrics/</span><span style=\"color: #ff00ff; text-decoration-color: #ff00ff\">_classification</span> <a href=\"file:///usr/lib/python3.9/warnings.py\" target=\"_blank\"><span style=\"color: #7f7f7f; text-decoration-color: #7f7f7f\">warnings.py</span></a><span style=\"color: #7f7f7f; text-decoration-color: #7f7f7f\">:</span><a href=\"file:///usr/lib/python3.9/warnings.py#109\" target=\"_blank\"><span style=\"color: #7f7f7f; text-decoration-color: #7f7f7f\">109</span></a>\n",
       "<span style=\"color: #7fbfbf; text-decoration-color: #7fbfbf\">                    </span>         <span style=\"color: #ff00ff; text-decoration-color: #ff00ff\">.py</span>:<span style=\"color: #008080; text-decoration-color: #008080; font-weight: bold\">1334</span>: UndefinedMetricWarning: Recall and F-score are ill-defined   <span style=\"color: #7f7f7f; text-decoration-color: #7f7f7f\">               </span>\n",
       "<span style=\"color: #7fbfbf; text-decoration-color: #7fbfbf\">                    </span>         and being set to <span style=\"color: #008080; text-decoration-color: #008080; font-weight: bold\">0.0</span> in labels with no true samples. Use               <span style=\"color: #7f7f7f; text-decoration-color: #7f7f7f\">               </span>\n",
       "<span style=\"color: #7fbfbf; text-decoration-color: #7fbfbf\">                    </span>         `zero_division` parameter to control this behavior.                    <span style=\"color: #7f7f7f; text-decoration-color: #7f7f7f\">               </span>\n",
       "<span style=\"color: #7fbfbf; text-decoration-color: #7fbfbf\">                    </span>           <span style=\"color: #800080; text-decoration-color: #800080; font-weight: bold\">_warn_prf</span><span style=\"font-weight: bold\">(</span>average, modifier, msg_start, <span style=\"color: #800080; text-decoration-color: #800080; font-weight: bold\">len</span><span style=\"font-weight: bold\">(</span>result<span style=\"font-weight: bold\">))</span>                 <span style=\"color: #7f7f7f; text-decoration-color: #7f7f7f\">               </span>\n",
       "<span style=\"color: #7fbfbf; text-decoration-color: #7fbfbf\">                    </span>                                                                                <span style=\"color: #7f7f7f; text-decoration-color: #7f7f7f\">               </span>\n",
       "</pre>\n"
      ],
      "text/plain": [
       "\u001b[2;36m                   \u001b[0m\u001b[2;36m \u001b[0m\u001b[31mWARNING \u001b[0m \u001b[35m/usr/local/lib/python3.9/dist-packages/sklearn/metrics/\u001b[0m\u001b[95m_classification\u001b[0m \u001b]8;id=289784;file:///usr/lib/python3.9/warnings.py\u001b\\\u001b[2mwarnings.py\u001b[0m\u001b]8;;\u001b\\\u001b[2m:\u001b[0m\u001b]8;id=100414;file:///usr/lib/python3.9/warnings.py#109\u001b\\\u001b[2m109\u001b[0m\u001b]8;;\u001b\\\n",
       "\u001b[2;36m                    \u001b[0m         \u001b[95m.py\u001b[0m:\u001b[1;36m1334\u001b[0m: UndefinedMetricWarning: Recall and F-score are ill-defined   \u001b[2m               \u001b[0m\n",
       "\u001b[2;36m                    \u001b[0m         and being set to \u001b[1;36m0.0\u001b[0m in labels with no true samples. Use               \u001b[2m               \u001b[0m\n",
       "\u001b[2;36m                    \u001b[0m         `zero_division` parameter to control this behavior.                    \u001b[2m               \u001b[0m\n",
       "\u001b[2;36m                    \u001b[0m           \u001b[1;35m_warn_prf\u001b[0m\u001b[1m(\u001b[0maverage, modifier, msg_start, \u001b[1;35mlen\u001b[0m\u001b[1m(\u001b[0mresult\u001b[1m)\u001b[0m\u001b[1m)\u001b[0m                 \u001b[2m               \u001b[0m\n",
       "\u001b[2;36m                    \u001b[0m                                                                                \u001b[2m               \u001b[0m\n"
      ]
     },
     "metadata": {},
     "output_type": "display_data"
    },
    {
     "data": {
      "text/html": [
       "<pre style=\"white-space:pre;overflow-x:auto;line-height:normal;font-family:Menlo,'DejaVu Sans Mono',consolas,'Courier New',monospace\"><span style=\"color: #7fbfbf; text-decoration-color: #7fbfbf\">                    </span><span style=\"color: #800000; text-decoration-color: #800000\">WARNING </span> <span style=\"color: #800080; text-decoration-color: #800080\">/usr/local/lib/python3.9/dist-packages/sklearn/metrics/</span><span style=\"color: #ff00ff; text-decoration-color: #ff00ff\">_classification</span> <a href=\"file:///usr/lib/python3.9/warnings.py\" target=\"_blank\"><span style=\"color: #7f7f7f; text-decoration-color: #7f7f7f\">warnings.py</span></a><span style=\"color: #7f7f7f; text-decoration-color: #7f7f7f\">:</span><a href=\"file:///usr/lib/python3.9/warnings.py#109\" target=\"_blank\"><span style=\"color: #7f7f7f; text-decoration-color: #7f7f7f\">109</span></a>\n",
       "<span style=\"color: #7fbfbf; text-decoration-color: #7fbfbf\">                    </span>         <span style=\"color: #ff00ff; text-decoration-color: #ff00ff\">.py</span>:<span style=\"color: #008080; text-decoration-color: #008080; font-weight: bold\">1334</span>: UndefinedMetricWarning: Recall and F-score are ill-defined   <span style=\"color: #7f7f7f; text-decoration-color: #7f7f7f\">               </span>\n",
       "<span style=\"color: #7fbfbf; text-decoration-color: #7fbfbf\">                    </span>         and being set to <span style=\"color: #008080; text-decoration-color: #008080; font-weight: bold\">0.0</span> in labels with no true samples. Use               <span style=\"color: #7f7f7f; text-decoration-color: #7f7f7f\">               </span>\n",
       "<span style=\"color: #7fbfbf; text-decoration-color: #7fbfbf\">                    </span>         `zero_division` parameter to control this behavior.                    <span style=\"color: #7f7f7f; text-decoration-color: #7f7f7f\">               </span>\n",
       "<span style=\"color: #7fbfbf; text-decoration-color: #7fbfbf\">                    </span>           <span style=\"color: #800080; text-decoration-color: #800080; font-weight: bold\">_warn_prf</span><span style=\"font-weight: bold\">(</span>average, modifier, msg_start, <span style=\"color: #800080; text-decoration-color: #800080; font-weight: bold\">len</span><span style=\"font-weight: bold\">(</span>result<span style=\"font-weight: bold\">))</span>                 <span style=\"color: #7f7f7f; text-decoration-color: #7f7f7f\">               </span>\n",
       "<span style=\"color: #7fbfbf; text-decoration-color: #7fbfbf\">                    </span>                                                                                <span style=\"color: #7f7f7f; text-decoration-color: #7f7f7f\">               </span>\n",
       "</pre>\n"
      ],
      "text/plain": [
       "\u001b[2;36m                   \u001b[0m\u001b[2;36m \u001b[0m\u001b[31mWARNING \u001b[0m \u001b[35m/usr/local/lib/python3.9/dist-packages/sklearn/metrics/\u001b[0m\u001b[95m_classification\u001b[0m \u001b]8;id=102279;file:///usr/lib/python3.9/warnings.py\u001b\\\u001b[2mwarnings.py\u001b[0m\u001b]8;;\u001b\\\u001b[2m:\u001b[0m\u001b]8;id=907932;file:///usr/lib/python3.9/warnings.py#109\u001b\\\u001b[2m109\u001b[0m\u001b]8;;\u001b\\\n",
       "\u001b[2;36m                    \u001b[0m         \u001b[95m.py\u001b[0m:\u001b[1;36m1334\u001b[0m: UndefinedMetricWarning: Recall and F-score are ill-defined   \u001b[2m               \u001b[0m\n",
       "\u001b[2;36m                    \u001b[0m         and being set to \u001b[1;36m0.0\u001b[0m in labels with no true samples. Use               \u001b[2m               \u001b[0m\n",
       "\u001b[2;36m                    \u001b[0m         `zero_division` parameter to control this behavior.                    \u001b[2m               \u001b[0m\n",
       "\u001b[2;36m                    \u001b[0m           \u001b[1;35m_warn_prf\u001b[0m\u001b[1m(\u001b[0maverage, modifier, msg_start, \u001b[1;35mlen\u001b[0m\u001b[1m(\u001b[0mresult\u001b[1m)\u001b[0m\u001b[1m)\u001b[0m                 \u001b[2m               \u001b[0m\n",
       "\u001b[2;36m                    \u001b[0m                                                                                \u001b[2m               \u001b[0m\n"
      ]
     },
     "metadata": {},
     "output_type": "display_data"
    },
    {
     "data": {
      "text/html": [
       "<pre style=\"white-space:pre;overflow-x:auto;line-height:normal;font-family:Menlo,'DejaVu Sans Mono',consolas,'Courier New',monospace\"><span style=\"color: #7fbfbf; text-decoration-color: #7fbfbf\">                    </span><span style=\"color: #800000; text-decoration-color: #800000\">WARNING </span> <span style=\"color: #800080; text-decoration-color: #800080\">/usr/local/lib/python3.9/dist-packages/sklearn/metrics/</span><span style=\"color: #ff00ff; text-decoration-color: #ff00ff\">_classification</span> <a href=\"file:///usr/lib/python3.9/warnings.py\" target=\"_blank\"><span style=\"color: #7f7f7f; text-decoration-color: #7f7f7f\">warnings.py</span></a><span style=\"color: #7f7f7f; text-decoration-color: #7f7f7f\">:</span><a href=\"file:///usr/lib/python3.9/warnings.py#109\" target=\"_blank\"><span style=\"color: #7f7f7f; text-decoration-color: #7f7f7f\">109</span></a>\n",
       "<span style=\"color: #7fbfbf; text-decoration-color: #7fbfbf\">                    </span>         <span style=\"color: #ff00ff; text-decoration-color: #ff00ff\">.py</span>:<span style=\"color: #008080; text-decoration-color: #008080; font-weight: bold\">1334</span>: UndefinedMetricWarning: Recall and F-score are ill-defined   <span style=\"color: #7f7f7f; text-decoration-color: #7f7f7f\">               </span>\n",
       "<span style=\"color: #7fbfbf; text-decoration-color: #7fbfbf\">                    </span>         and being set to <span style=\"color: #008080; text-decoration-color: #008080; font-weight: bold\">0.0</span> in labels with no true samples. Use               <span style=\"color: #7f7f7f; text-decoration-color: #7f7f7f\">               </span>\n",
       "<span style=\"color: #7fbfbf; text-decoration-color: #7fbfbf\">                    </span>         `zero_division` parameter to control this behavior.                    <span style=\"color: #7f7f7f; text-decoration-color: #7f7f7f\">               </span>\n",
       "<span style=\"color: #7fbfbf; text-decoration-color: #7fbfbf\">                    </span>           <span style=\"color: #800080; text-decoration-color: #800080; font-weight: bold\">_warn_prf</span><span style=\"font-weight: bold\">(</span>average, modifier, msg_start, <span style=\"color: #800080; text-decoration-color: #800080; font-weight: bold\">len</span><span style=\"font-weight: bold\">(</span>result<span style=\"font-weight: bold\">))</span>                 <span style=\"color: #7f7f7f; text-decoration-color: #7f7f7f\">               </span>\n",
       "<span style=\"color: #7fbfbf; text-decoration-color: #7fbfbf\">                    </span>                                                                                <span style=\"color: #7f7f7f; text-decoration-color: #7f7f7f\">               </span>\n",
       "</pre>\n"
      ],
      "text/plain": [
       "\u001b[2;36m                   \u001b[0m\u001b[2;36m \u001b[0m\u001b[31mWARNING \u001b[0m \u001b[35m/usr/local/lib/python3.9/dist-packages/sklearn/metrics/\u001b[0m\u001b[95m_classification\u001b[0m \u001b]8;id=712795;file:///usr/lib/python3.9/warnings.py\u001b\\\u001b[2mwarnings.py\u001b[0m\u001b]8;;\u001b\\\u001b[2m:\u001b[0m\u001b]8;id=586357;file:///usr/lib/python3.9/warnings.py#109\u001b\\\u001b[2m109\u001b[0m\u001b]8;;\u001b\\\n",
       "\u001b[2;36m                    \u001b[0m         \u001b[95m.py\u001b[0m:\u001b[1;36m1334\u001b[0m: UndefinedMetricWarning: Recall and F-score are ill-defined   \u001b[2m               \u001b[0m\n",
       "\u001b[2;36m                    \u001b[0m         and being set to \u001b[1;36m0.0\u001b[0m in labels with no true samples. Use               \u001b[2m               \u001b[0m\n",
       "\u001b[2;36m                    \u001b[0m         `zero_division` parameter to control this behavior.                    \u001b[2m               \u001b[0m\n",
       "\u001b[2;36m                    \u001b[0m           \u001b[1;35m_warn_prf\u001b[0m\u001b[1m(\u001b[0maverage, modifier, msg_start, \u001b[1;35mlen\u001b[0m\u001b[1m(\u001b[0mresult\u001b[1m)\u001b[0m\u001b[1m)\u001b[0m                 \u001b[2m               \u001b[0m\n",
       "\u001b[2;36m                    \u001b[0m                                                                                \u001b[2m               \u001b[0m\n"
      ]
     },
     "metadata": {},
     "output_type": "display_data"
    },
    {
     "name": "stdout",
     "output_type": "stream",
     "text": [
      "              precision    recall  f1-score   support\n",
      "\n",
      "       False       0.00      0.00      0.00         0\n",
      "        True       1.00      0.71      0.83     27616\n",
      "\n",
      "    accuracy                           0.71     27616\n",
      "   macro avg       0.50      0.35      0.41     27616\n",
      "weighted avg       1.00      0.71      0.83     27616\n",
      "\n"
     ]
    }
   ],
   "source": [
    "generate_comparison_model_vs_edit(data_affiliations_pairs, data_affiliations_target, .5)"
   ]
  },
  {
   "cell_type": "markdown",
   "id": "6c87d740-c5b5-4488-a018-14c8b6fe2ccf",
   "metadata": {},
   "source": [
    "# Voters North Carolina"
   ]
  },
  {
   "cell_type": "code",
   "execution_count": 1106,
   "id": "01093aef-3478-4757-bf07-1b04a8c31b7e",
   "metadata": {},
   "outputs": [
    {
     "data": {
      "text/html": [
       "<pre style=\"white-space:pre;overflow-x:auto;line-height:normal;font-family:Menlo,'DejaVu Sans Mono',consolas,'Courier New',monospace\"><span style=\"color: #7fbfbf; text-decoration-color: #7fbfbf\">[08/15/23 20:44:56] </span><span style=\"color: #800000; text-decoration-color: #800000\">WARNING </span> <span style=\"color: #800080; text-decoration-color: #800080\">/tmp/ipykernel_26880/</span><span style=\"color: #ff00ff; text-decoration-color: #ff00ff\">3995391869.py</span>:<span style=\"color: #008080; text-decoration-color: #008080; font-weight: bold\">1</span>: DtypeWarning: Columns <span style=\"font-weight: bold\">(</span><span style=\"color: #008080; text-decoration-color: #008080; font-weight: bold\">4</span><span style=\"font-weight: bold\">)</span> have   <a href=\"file:///usr/lib/python3.9/warnings.py\" target=\"_blank\"><span style=\"color: #7f7f7f; text-decoration-color: #7f7f7f\">warnings.py</span></a><span style=\"color: #7f7f7f; text-decoration-color: #7f7f7f\">:</span><a href=\"file:///usr/lib/python3.9/warnings.py#109\" target=\"_blank\"><span style=\"color: #7f7f7f; text-decoration-color: #7f7f7f\">109</span></a>\n",
       "<span style=\"color: #7fbfbf; text-decoration-color: #7fbfbf\">                    </span>         mixed types. Specify dtype option on import or set <span style=\"color: #808000; text-decoration-color: #808000\">low_memory</span>=<span style=\"color: #ff0000; text-decoration-color: #ff0000; font-style: italic\">False</span>.   <span style=\"color: #7f7f7f; text-decoration-color: #7f7f7f\">               </span>\n",
       "<span style=\"color: #7fbfbf; text-decoration-color: #7fbfbf\">                    </span>           voters_raw_1 =                                                       <span style=\"color: #7f7f7f; text-decoration-color: #7f7f7f\">               </span>\n",
       "<span style=\"color: #7fbfbf; text-decoration-color: #7fbfbf\">                    </span>         <span style=\"color: #800080; text-decoration-color: #800080; font-weight: bold\">pd.read_csv</span><span style=\"font-weight: bold\">(</span><span style=\"color: #008000; text-decoration-color: #008000\">'../../data/01_raw/voters_north_carolina/ncvr_numrec_10000</span> <span style=\"color: #7f7f7f; text-decoration-color: #7f7f7f\">               </span>\n",
       "<span style=\"color: #7fbfbf; text-decoration-color: #7fbfbf\">                    </span>         <span style=\"color: #008000; text-decoration-color: #008000\">00_modrec_2_ocp_20_myp_0_nump_5.csv'</span><span style=\"font-weight: bold\">)</span>                                  <span style=\"color: #7f7f7f; text-decoration-color: #7f7f7f\">               </span>\n",
       "<span style=\"color: #7fbfbf; text-decoration-color: #7fbfbf\">                    </span>                                                                                <span style=\"color: #7f7f7f; text-decoration-color: #7f7f7f\">               </span>\n",
       "</pre>\n"
      ],
      "text/plain": [
       "\u001b[2;36m[08/15/23 20:44:56]\u001b[0m\u001b[2;36m \u001b[0m\u001b[31mWARNING \u001b[0m \u001b[35m/tmp/ipykernel_26880/\u001b[0m\u001b[95m3995391869.py\u001b[0m:\u001b[1;36m1\u001b[0m: DtypeWarning: Columns \u001b[1m(\u001b[0m\u001b[1;36m4\u001b[0m\u001b[1m)\u001b[0m have   \u001b]8;id=863690;file:///usr/lib/python3.9/warnings.py\u001b\\\u001b[2mwarnings.py\u001b[0m\u001b]8;;\u001b\\\u001b[2m:\u001b[0m\u001b]8;id=364802;file:///usr/lib/python3.9/warnings.py#109\u001b\\\u001b[2m109\u001b[0m\u001b]8;;\u001b\\\n",
       "\u001b[2;36m                    \u001b[0m         mixed types. Specify dtype option on import or set \u001b[33mlow_memory\u001b[0m=\u001b[3;91mFalse\u001b[0m.   \u001b[2m               \u001b[0m\n",
       "\u001b[2;36m                    \u001b[0m           voters_raw_1 =                                                       \u001b[2m               \u001b[0m\n",
       "\u001b[2;36m                    \u001b[0m         \u001b[1;35mpd.read_csv\u001b[0m\u001b[1m(\u001b[0m\u001b[32m'../../data/01_raw/voters_north_carolina/ncvr_numrec_10000\u001b[0m \u001b[2m               \u001b[0m\n",
       "\u001b[2;36m                    \u001b[0m         \u001b[32m00_modrec_2_ocp_20_myp_0_nump_5.csv'\u001b[0m\u001b[1m)\u001b[0m                                  \u001b[2m               \u001b[0m\n",
       "\u001b[2;36m                    \u001b[0m                                                                                \u001b[2m               \u001b[0m\n"
      ]
     },
     "metadata": {},
     "output_type": "display_data"
    },
    {
     "data": {
      "text/html": [
       "<pre style=\"white-space:pre;overflow-x:auto;line-height:normal;font-family:Menlo,'DejaVu Sans Mono',consolas,'Courier New',monospace\"><span style=\"color: #7fbfbf; text-decoration-color: #7fbfbf\">                    </span><span style=\"color: #800000; text-decoration-color: #800000\">WARNING </span> <span style=\"color: #800080; text-decoration-color: #800080\">/tmp/ipykernel_26880/</span><span style=\"color: #ff00ff; text-decoration-color: #ff00ff\">3995391869.py</span>:<span style=\"color: #008080; text-decoration-color: #008080; font-weight: bold\">2</span>: DtypeWarning: Columns <span style=\"font-weight: bold\">(</span><span style=\"color: #008080; text-decoration-color: #008080; font-weight: bold\">4</span><span style=\"font-weight: bold\">)</span> have   <a href=\"file:///usr/lib/python3.9/warnings.py\" target=\"_blank\"><span style=\"color: #7f7f7f; text-decoration-color: #7f7f7f\">warnings.py</span></a><span style=\"color: #7f7f7f; text-decoration-color: #7f7f7f\">:</span><a href=\"file:///usr/lib/python3.9/warnings.py#109\" target=\"_blank\"><span style=\"color: #7f7f7f; text-decoration-color: #7f7f7f\">109</span></a>\n",
       "<span style=\"color: #7fbfbf; text-decoration-color: #7fbfbf\">                    </span>         mixed types. Specify dtype option on import or set <span style=\"color: #808000; text-decoration-color: #808000\">low_memory</span>=<span style=\"color: #ff0000; text-decoration-color: #ff0000; font-style: italic\">False</span>.   <span style=\"color: #7f7f7f; text-decoration-color: #7f7f7f\">               </span>\n",
       "<span style=\"color: #7fbfbf; text-decoration-color: #7fbfbf\">                    </span>           voters_raw_2 =                                                       <span style=\"color: #7f7f7f; text-decoration-color: #7f7f7f\">               </span>\n",
       "<span style=\"color: #7fbfbf; text-decoration-color: #7fbfbf\">                    </span>         <span style=\"color: #800080; text-decoration-color: #800080; font-weight: bold\">pd.read_csv</span><span style=\"font-weight: bold\">(</span><span style=\"color: #008000; text-decoration-color: #008000\">'../../data/01_raw/voters_north_carolina/ncvr_numrec_10000</span> <span style=\"color: #7f7f7f; text-decoration-color: #7f7f7f\">               </span>\n",
       "<span style=\"color: #7fbfbf; text-decoration-color: #7fbfbf\">                    </span>         <span style=\"color: #008000; text-decoration-color: #008000\">00_modrec_2_ocp_20_myp_1_nump_5.csv'</span><span style=\"font-weight: bold\">)</span>                                  <span style=\"color: #7f7f7f; text-decoration-color: #7f7f7f\">               </span>\n",
       "<span style=\"color: #7fbfbf; text-decoration-color: #7fbfbf\">                    </span>                                                                                <span style=\"color: #7f7f7f; text-decoration-color: #7f7f7f\">               </span>\n",
       "</pre>\n"
      ],
      "text/plain": [
       "\u001b[2;36m                   \u001b[0m\u001b[2;36m \u001b[0m\u001b[31mWARNING \u001b[0m \u001b[35m/tmp/ipykernel_26880/\u001b[0m\u001b[95m3995391869.py\u001b[0m:\u001b[1;36m2\u001b[0m: DtypeWarning: Columns \u001b[1m(\u001b[0m\u001b[1;36m4\u001b[0m\u001b[1m)\u001b[0m have   \u001b]8;id=597558;file:///usr/lib/python3.9/warnings.py\u001b\\\u001b[2mwarnings.py\u001b[0m\u001b]8;;\u001b\\\u001b[2m:\u001b[0m\u001b]8;id=764248;file:///usr/lib/python3.9/warnings.py#109\u001b\\\u001b[2m109\u001b[0m\u001b]8;;\u001b\\\n",
       "\u001b[2;36m                    \u001b[0m         mixed types. Specify dtype option on import or set \u001b[33mlow_memory\u001b[0m=\u001b[3;91mFalse\u001b[0m.   \u001b[2m               \u001b[0m\n",
       "\u001b[2;36m                    \u001b[0m           voters_raw_2 =                                                       \u001b[2m               \u001b[0m\n",
       "\u001b[2;36m                    \u001b[0m         \u001b[1;35mpd.read_csv\u001b[0m\u001b[1m(\u001b[0m\u001b[32m'../../data/01_raw/voters_north_carolina/ncvr_numrec_10000\u001b[0m \u001b[2m               \u001b[0m\n",
       "\u001b[2;36m                    \u001b[0m         \u001b[32m00_modrec_2_ocp_20_myp_1_nump_5.csv'\u001b[0m\u001b[1m)\u001b[0m                                  \u001b[2m               \u001b[0m\n",
       "\u001b[2;36m                    \u001b[0m                                                                                \u001b[2m               \u001b[0m\n"
      ]
     },
     "metadata": {},
     "output_type": "display_data"
    },
    {
     "data": {
      "text/html": [
       "<pre style=\"white-space:pre;overflow-x:auto;line-height:normal;font-family:Menlo,'DejaVu Sans Mono',consolas,'Courier New',monospace\"><span style=\"color: #7fbfbf; text-decoration-color: #7fbfbf\">[08/15/23 20:44:57] </span><span style=\"color: #800000; text-decoration-color: #800000\">WARNING </span> <span style=\"color: #800080; text-decoration-color: #800080\">/tmp/ipykernel_26880/</span><span style=\"color: #ff00ff; text-decoration-color: #ff00ff\">3995391869.py</span>:<span style=\"color: #008080; text-decoration-color: #008080; font-weight: bold\">3</span>: DtypeWarning: Columns <span style=\"font-weight: bold\">(</span><span style=\"color: #008080; text-decoration-color: #008080; font-weight: bold\">4</span><span style=\"font-weight: bold\">)</span> have   <a href=\"file:///usr/lib/python3.9/warnings.py\" target=\"_blank\"><span style=\"color: #7f7f7f; text-decoration-color: #7f7f7f\">warnings.py</span></a><span style=\"color: #7f7f7f; text-decoration-color: #7f7f7f\">:</span><a href=\"file:///usr/lib/python3.9/warnings.py#109\" target=\"_blank\"><span style=\"color: #7f7f7f; text-decoration-color: #7f7f7f\">109</span></a>\n",
       "<span style=\"color: #7fbfbf; text-decoration-color: #7fbfbf\">                    </span>         mixed types. Specify dtype option on import or set <span style=\"color: #808000; text-decoration-color: #808000\">low_memory</span>=<span style=\"color: #ff0000; text-decoration-color: #ff0000; font-style: italic\">False</span>.   <span style=\"color: #7f7f7f; text-decoration-color: #7f7f7f\">               </span>\n",
       "<span style=\"color: #7fbfbf; text-decoration-color: #7fbfbf\">                    </span>           voters_raw_3 =                                                       <span style=\"color: #7f7f7f; text-decoration-color: #7f7f7f\">               </span>\n",
       "<span style=\"color: #7fbfbf; text-decoration-color: #7fbfbf\">                    </span>         <span style=\"color: #800080; text-decoration-color: #800080; font-weight: bold\">pd.read_csv</span><span style=\"font-weight: bold\">(</span><span style=\"color: #008000; text-decoration-color: #008000\">'../../data/01_raw/voters_north_carolina/ncvr_numrec_10000</span> <span style=\"color: #7f7f7f; text-decoration-color: #7f7f7f\">               </span>\n",
       "<span style=\"color: #7fbfbf; text-decoration-color: #7fbfbf\">                    </span>         <span style=\"color: #008000; text-decoration-color: #008000\">00_modrec_2_ocp_20_myp_2_nump_5.csv'</span><span style=\"font-weight: bold\">)</span>                                  <span style=\"color: #7f7f7f; text-decoration-color: #7f7f7f\">               </span>\n",
       "<span style=\"color: #7fbfbf; text-decoration-color: #7fbfbf\">                    </span>                                                                                <span style=\"color: #7f7f7f; text-decoration-color: #7f7f7f\">               </span>\n",
       "</pre>\n"
      ],
      "text/plain": [
       "\u001b[2;36m[08/15/23 20:44:57]\u001b[0m\u001b[2;36m \u001b[0m\u001b[31mWARNING \u001b[0m \u001b[35m/tmp/ipykernel_26880/\u001b[0m\u001b[95m3995391869.py\u001b[0m:\u001b[1;36m3\u001b[0m: DtypeWarning: Columns \u001b[1m(\u001b[0m\u001b[1;36m4\u001b[0m\u001b[1m)\u001b[0m have   \u001b]8;id=135609;file:///usr/lib/python3.9/warnings.py\u001b\\\u001b[2mwarnings.py\u001b[0m\u001b]8;;\u001b\\\u001b[2m:\u001b[0m\u001b]8;id=84305;file:///usr/lib/python3.9/warnings.py#109\u001b\\\u001b[2m109\u001b[0m\u001b]8;;\u001b\\\n",
       "\u001b[2;36m                    \u001b[0m         mixed types. Specify dtype option on import or set \u001b[33mlow_memory\u001b[0m=\u001b[3;91mFalse\u001b[0m.   \u001b[2m               \u001b[0m\n",
       "\u001b[2;36m                    \u001b[0m           voters_raw_3 =                                                       \u001b[2m               \u001b[0m\n",
       "\u001b[2;36m                    \u001b[0m         \u001b[1;35mpd.read_csv\u001b[0m\u001b[1m(\u001b[0m\u001b[32m'../../data/01_raw/voters_north_carolina/ncvr_numrec_10000\u001b[0m \u001b[2m               \u001b[0m\n",
       "\u001b[2;36m                    \u001b[0m         \u001b[32m00_modrec_2_ocp_20_myp_2_nump_5.csv'\u001b[0m\u001b[1m)\u001b[0m                                  \u001b[2m               \u001b[0m\n",
       "\u001b[2;36m                    \u001b[0m                                                                                \u001b[2m               \u001b[0m\n"
      ]
     },
     "metadata": {},
     "output_type": "display_data"
    },
    {
     "data": {
      "text/html": [
       "<pre style=\"white-space:pre;overflow-x:auto;line-height:normal;font-family:Menlo,'DejaVu Sans Mono',consolas,'Courier New',monospace\"><span style=\"color: #7fbfbf; text-decoration-color: #7fbfbf\">                    </span><span style=\"color: #800000; text-decoration-color: #800000\">WARNING </span> <span style=\"color: #800080; text-decoration-color: #800080\">/tmp/ipykernel_26880/</span><span style=\"color: #ff00ff; text-decoration-color: #ff00ff\">3995391869.py</span>:<span style=\"color: #008080; text-decoration-color: #008080; font-weight: bold\">4</span>: DtypeWarning: Columns <span style=\"font-weight: bold\">(</span><span style=\"color: #008080; text-decoration-color: #008080; font-weight: bold\">4</span><span style=\"font-weight: bold\">)</span> have   <a href=\"file:///usr/lib/python3.9/warnings.py\" target=\"_blank\"><span style=\"color: #7f7f7f; text-decoration-color: #7f7f7f\">warnings.py</span></a><span style=\"color: #7f7f7f; text-decoration-color: #7f7f7f\">:</span><a href=\"file:///usr/lib/python3.9/warnings.py#109\" target=\"_blank\"><span style=\"color: #7f7f7f; text-decoration-color: #7f7f7f\">109</span></a>\n",
       "<span style=\"color: #7fbfbf; text-decoration-color: #7fbfbf\">                    </span>         mixed types. Specify dtype option on import or set <span style=\"color: #808000; text-decoration-color: #808000\">low_memory</span>=<span style=\"color: #ff0000; text-decoration-color: #ff0000; font-style: italic\">False</span>.   <span style=\"color: #7f7f7f; text-decoration-color: #7f7f7f\">               </span>\n",
       "<span style=\"color: #7fbfbf; text-decoration-color: #7fbfbf\">                    </span>           voters_raw_4 =                                                       <span style=\"color: #7f7f7f; text-decoration-color: #7f7f7f\">               </span>\n",
       "<span style=\"color: #7fbfbf; text-decoration-color: #7fbfbf\">                    </span>         <span style=\"color: #800080; text-decoration-color: #800080; font-weight: bold\">pd.read_csv</span><span style=\"font-weight: bold\">(</span><span style=\"color: #008000; text-decoration-color: #008000\">'../../data/01_raw/voters_north_carolina/ncvr_numrec_10000</span> <span style=\"color: #7f7f7f; text-decoration-color: #7f7f7f\">               </span>\n",
       "<span style=\"color: #7fbfbf; text-decoration-color: #7fbfbf\">                    </span>         <span style=\"color: #008000; text-decoration-color: #008000\">00_modrec_2_ocp_20_myp_3_nump_5.csv'</span><span style=\"font-weight: bold\">)</span>                                  <span style=\"color: #7f7f7f; text-decoration-color: #7f7f7f\">               </span>\n",
       "<span style=\"color: #7fbfbf; text-decoration-color: #7fbfbf\">                    </span>                                                                                <span style=\"color: #7f7f7f; text-decoration-color: #7f7f7f\">               </span>\n",
       "</pre>\n"
      ],
      "text/plain": [
       "\u001b[2;36m                   \u001b[0m\u001b[2;36m \u001b[0m\u001b[31mWARNING \u001b[0m \u001b[35m/tmp/ipykernel_26880/\u001b[0m\u001b[95m3995391869.py\u001b[0m:\u001b[1;36m4\u001b[0m: DtypeWarning: Columns \u001b[1m(\u001b[0m\u001b[1;36m4\u001b[0m\u001b[1m)\u001b[0m have   \u001b]8;id=99010;file:///usr/lib/python3.9/warnings.py\u001b\\\u001b[2mwarnings.py\u001b[0m\u001b]8;;\u001b\\\u001b[2m:\u001b[0m\u001b]8;id=610317;file:///usr/lib/python3.9/warnings.py#109\u001b\\\u001b[2m109\u001b[0m\u001b]8;;\u001b\\\n",
       "\u001b[2;36m                    \u001b[0m         mixed types. Specify dtype option on import or set \u001b[33mlow_memory\u001b[0m=\u001b[3;91mFalse\u001b[0m.   \u001b[2m               \u001b[0m\n",
       "\u001b[2;36m                    \u001b[0m           voters_raw_4 =                                                       \u001b[2m               \u001b[0m\n",
       "\u001b[2;36m                    \u001b[0m         \u001b[1;35mpd.read_csv\u001b[0m\u001b[1m(\u001b[0m\u001b[32m'../../data/01_raw/voters_north_carolina/ncvr_numrec_10000\u001b[0m \u001b[2m               \u001b[0m\n",
       "\u001b[2;36m                    \u001b[0m         \u001b[32m00_modrec_2_ocp_20_myp_3_nump_5.csv'\u001b[0m\u001b[1m)\u001b[0m                                  \u001b[2m               \u001b[0m\n",
       "\u001b[2;36m                    \u001b[0m                                                                                \u001b[2m               \u001b[0m\n"
      ]
     },
     "metadata": {},
     "output_type": "display_data"
    },
    {
     "data": {
      "text/html": [
       "<pre style=\"white-space:pre;overflow-x:auto;line-height:normal;font-family:Menlo,'DejaVu Sans Mono',consolas,'Courier New',monospace\"><span style=\"color: #7fbfbf; text-decoration-color: #7fbfbf\">[08/15/23 20:44:58] </span><span style=\"color: #800000; text-decoration-color: #800000\">WARNING </span> <span style=\"color: #800080; text-decoration-color: #800080\">/tmp/ipykernel_26880/</span><span style=\"color: #ff00ff; text-decoration-color: #ff00ff\">3995391869.py</span>:<span style=\"color: #008080; text-decoration-color: #008080; font-weight: bold\">5</span>: DtypeWarning: Columns <span style=\"font-weight: bold\">(</span><span style=\"color: #008080; text-decoration-color: #008080; font-weight: bold\">4</span><span style=\"font-weight: bold\">)</span> have   <a href=\"file:///usr/lib/python3.9/warnings.py\" target=\"_blank\"><span style=\"color: #7f7f7f; text-decoration-color: #7f7f7f\">warnings.py</span></a><span style=\"color: #7f7f7f; text-decoration-color: #7f7f7f\">:</span><a href=\"file:///usr/lib/python3.9/warnings.py#109\" target=\"_blank\"><span style=\"color: #7f7f7f; text-decoration-color: #7f7f7f\">109</span></a>\n",
       "<span style=\"color: #7fbfbf; text-decoration-color: #7fbfbf\">                    </span>         mixed types. Specify dtype option on import or set <span style=\"color: #808000; text-decoration-color: #808000\">low_memory</span>=<span style=\"color: #ff0000; text-decoration-color: #ff0000; font-style: italic\">False</span>.   <span style=\"color: #7f7f7f; text-decoration-color: #7f7f7f\">               </span>\n",
       "<span style=\"color: #7fbfbf; text-decoration-color: #7fbfbf\">                    </span>           voters_raw_5 =                                                       <span style=\"color: #7f7f7f; text-decoration-color: #7f7f7f\">               </span>\n",
       "<span style=\"color: #7fbfbf; text-decoration-color: #7fbfbf\">                    </span>         <span style=\"color: #800080; text-decoration-color: #800080; font-weight: bold\">pd.read_csv</span><span style=\"font-weight: bold\">(</span><span style=\"color: #008000; text-decoration-color: #008000\">'../../data/01_raw/voters_north_carolina/ncvr_numrec_10000</span> <span style=\"color: #7f7f7f; text-decoration-color: #7f7f7f\">               </span>\n",
       "<span style=\"color: #7fbfbf; text-decoration-color: #7fbfbf\">                    </span>         <span style=\"color: #008000; text-decoration-color: #008000\">00_modrec_2_ocp_20_myp_4_nump_5.csv'</span><span style=\"font-weight: bold\">)</span>                                  <span style=\"color: #7f7f7f; text-decoration-color: #7f7f7f\">               </span>\n",
       "<span style=\"color: #7fbfbf; text-decoration-color: #7fbfbf\">                    </span>                                                                                <span style=\"color: #7f7f7f; text-decoration-color: #7f7f7f\">               </span>\n",
       "</pre>\n"
      ],
      "text/plain": [
       "\u001b[2;36m[08/15/23 20:44:58]\u001b[0m\u001b[2;36m \u001b[0m\u001b[31mWARNING \u001b[0m \u001b[35m/tmp/ipykernel_26880/\u001b[0m\u001b[95m3995391869.py\u001b[0m:\u001b[1;36m5\u001b[0m: DtypeWarning: Columns \u001b[1m(\u001b[0m\u001b[1;36m4\u001b[0m\u001b[1m)\u001b[0m have   \u001b]8;id=189391;file:///usr/lib/python3.9/warnings.py\u001b\\\u001b[2mwarnings.py\u001b[0m\u001b]8;;\u001b\\\u001b[2m:\u001b[0m\u001b]8;id=269717;file:///usr/lib/python3.9/warnings.py#109\u001b\\\u001b[2m109\u001b[0m\u001b]8;;\u001b\\\n",
       "\u001b[2;36m                    \u001b[0m         mixed types. Specify dtype option on import or set \u001b[33mlow_memory\u001b[0m=\u001b[3;91mFalse\u001b[0m.   \u001b[2m               \u001b[0m\n",
       "\u001b[2;36m                    \u001b[0m           voters_raw_5 =                                                       \u001b[2m               \u001b[0m\n",
       "\u001b[2;36m                    \u001b[0m         \u001b[1;35mpd.read_csv\u001b[0m\u001b[1m(\u001b[0m\u001b[32m'../../data/01_raw/voters_north_carolina/ncvr_numrec_10000\u001b[0m \u001b[2m               \u001b[0m\n",
       "\u001b[2;36m                    \u001b[0m         \u001b[32m00_modrec_2_ocp_20_myp_4_nump_5.csv'\u001b[0m\u001b[1m)\u001b[0m                                  \u001b[2m               \u001b[0m\n",
       "\u001b[2;36m                    \u001b[0m                                                                                \u001b[2m               \u001b[0m\n"
      ]
     },
     "metadata": {},
     "output_type": "display_data"
    }
   ],
   "source": [
    "voters_raw_1 = pd.read_csv('../../data/01_raw/voters_north_carolina/ncvr_numrec_1000000_modrec_2_ocp_20_myp_0_nump_5.csv')\n",
    "voters_raw_2 = pd.read_csv('../../data/01_raw/voters_north_carolina/ncvr_numrec_1000000_modrec_2_ocp_20_myp_1_nump_5.csv')\n",
    "voters_raw_3 = pd.read_csv('../../data/01_raw/voters_north_carolina/ncvr_numrec_1000000_modrec_2_ocp_20_myp_2_nump_5.csv')\n",
    "voters_raw_4 = pd.read_csv('../../data/01_raw/voters_north_carolina/ncvr_numrec_1000000_modrec_2_ocp_20_myp_3_nump_5.csv')\n",
    "voters_raw_5 = pd.read_csv('../../data/01_raw/voters_north_carolina/ncvr_numrec_1000000_modrec_2_ocp_20_myp_4_nump_5.csv')"
   ]
  },
  {
   "cell_type": "code",
   "execution_count": 1121,
   "id": "d4870eb5-994f-4031-ac17-ed59354b8ab2",
   "metadata": {},
   "outputs": [],
   "source": [
    "voters_raw_full = pd.concat([voters_raw_1, voters_raw_2, voters_raw_3, voters_raw_4, voters_raw_5])"
   ]
  },
  {
   "cell_type": "code",
   "execution_count": 1133,
   "id": "b777447f-3e79-4000-b541-7208cb5dfb6c",
   "metadata": {},
   "outputs": [
    {
     "data": {
      "text/html": [
       "<pre style=\"white-space:pre;overflow-x:auto;line-height:normal;font-family:Menlo,'DejaVu Sans Mono',consolas,'Courier New',monospace\"></pre>\n"
      ],
      "text/plain": []
     },
     "metadata": {},
     "output_type": "display_data"
    },
    {
     "data": {
      "text/html": [
       "<div>\n",
       "<style scoped>\n",
       "    .dataframe tbody tr th:only-of-type {\n",
       "        vertical-align: middle;\n",
       "    }\n",
       "\n",
       "    .dataframe tbody tr th {\n",
       "        vertical-align: top;\n",
       "    }\n",
       "\n",
       "    .dataframe thead th {\n",
       "        text-align: right;\n",
       "    }\n",
       "</style>\n",
       "<table border=\"1\" class=\"dataframe\">\n",
       "  <thead>\n",
       "    <tr style=\"text-align: right;\">\n",
       "      <th></th>\n",
       "      <th>recid</th>\n",
       "      <th>givenname</th>\n",
       "      <th>surname</th>\n",
       "      <th>suburb</th>\n",
       "      <th>postcode</th>\n",
       "    </tr>\n",
       "  </thead>\n",
       "  <tbody>\n",
       "    <tr>\n",
       "      <th>848117</th>\n",
       "      <td>58253</td>\n",
       "      <td>dullie</td>\n",
       "      <td>moss</td>\n",
       "      <td>charlotte</td>\n",
       "      <td>28269.0</td>\n",
       "    </tr>\n",
       "  </tbody>\n",
       "</table>\n",
       "</div>"
      ],
      "text/plain": [
       "\n",
       "        recid givenname surname     suburb postcode\n",
       "\u001b[1;36m848117\u001b[0m  \u001b[1;36m58253\u001b[0m    dullie    moss  charlotte  \u001b[1;36m28269.0\u001b[0m"
      ]
     },
     "execution_count": 1133,
     "metadata": {},
     "output_type": "execute_result"
    }
   ],
   "source": [
    "voters_raw_full[voters_raw_full.recid == 58253]"
   ]
  },
  {
   "cell_type": "code",
   "execution_count": 1132,
   "id": "28161a06-5b6c-489c-940a-1d2874774c26",
   "metadata": {},
   "outputs": [
    {
     "data": {
      "text/html": [
       "<pre style=\"white-space:pre;overflow-x:auto;line-height:normal;font-family:Menlo,'DejaVu Sans Mono',consolas,'Courier New',monospace\"></pre>\n"
      ],
      "text/plain": []
     },
     "metadata": {},
     "output_type": "display_data"
    },
    {
     "data": {
      "text/html": [
       "<div>\n",
       "<style scoped>\n",
       "    .dataframe tbody tr th:only-of-type {\n",
       "        vertical-align: middle;\n",
       "    }\n",
       "\n",
       "    .dataframe tbody tr th {\n",
       "        vertical-align: top;\n",
       "    }\n",
       "\n",
       "    .dataframe thead th {\n",
       "        text-align: right;\n",
       "    }\n",
       "</style>\n",
       "<table border=\"1\" class=\"dataframe\">\n",
       "  <thead>\n",
       "    <tr style=\"text-align: right;\">\n",
       "      <th></th>\n",
       "      <th>recid</th>\n",
       "      <th>givenname</th>\n",
       "      <th>surname</th>\n",
       "      <th>suburb</th>\n",
       "      <th>postcode</th>\n",
       "    </tr>\n",
       "  </thead>\n",
       "  <tbody>\n",
       "    <tr>\n",
       "      <th>88045</th>\n",
       "      <td>185780</td>\n",
       "      <td>ida</td>\n",
       "      <td>watts</td>\n",
       "      <td>carrboro</td>\n",
       "      <td>27510</td>\n",
       "    </tr>\n",
       "  </tbody>\n",
       "</table>\n",
       "</div>"
      ],
      "text/plain": [
       "\n",
       "        recid givenname surname    suburb postcode\n",
       "\u001b[1;36m88045\u001b[0m  \u001b[1;36m185780\u001b[0m       ida   watts  carrboro    \u001b[1;36m27510\u001b[0m"
      ]
     },
     "execution_count": 1132,
     "metadata": {},
     "output_type": "execute_result"
    }
   ],
   "source": [
    "voters_raw_full[voters_raw_full.recid == 185780]"
   ]
  },
  {
   "cell_type": "code",
   "execution_count": 1115,
   "id": "2176f906-25fc-4c70-bbb2-45f78a37a614",
   "metadata": {},
   "outputs": [
    {
     "data": {
      "text/html": [
       "<pre style=\"white-space:pre;overflow-x:auto;line-height:normal;font-family:Menlo,'DejaVu Sans Mono',consolas,'Courier New',monospace\"></pre>\n"
      ],
      "text/plain": []
     },
     "metadata": {},
     "output_type": "display_data"
    },
    {
     "data": {
      "text/plain": [
       "\n",
       "\u001b[1;36m4829629\u001b[0m    \u001b[1;36m2\u001b[0m\n",
       "\u001b[1;36m1802971\u001b[0m    \u001b[1;36m2\u001b[0m\n",
       "\u001b[1;36m1615979\u001b[0m    \u001b[1;36m2\u001b[0m\n",
       "\u001b[1;36m8026477\u001b[0m    \u001b[1;36m2\u001b[0m\n",
       "\u001b[1;36m536452\u001b[0m     \u001b[1;36m2\u001b[0m\n",
       "          ..\n",
       "\u001b[1;36m5237754\u001b[0m    \u001b[1;36m2\u001b[0m\n",
       "\u001b[1;36m4857586\u001b[0m    \u001b[1;36m2\u001b[0m\n",
       "\u001b[1;36m1667198\u001b[0m    \u001b[1;36m2\u001b[0m\n",
       "\u001b[1;36m3782787\u001b[0m    \u001b[1;36m2\u001b[0m\n",
       "\u001b[1;36m893276\u001b[0m     \u001b[1;36m2\u001b[0m\n",
       "Name: recid, Length: \u001b[1;36m83904\u001b[0m, dtype: int64"
      ]
     },
     "execution_count": 1115,
     "metadata": {},
     "output_type": "execute_result"
    }
   ],
   "source": [
    "voters_raw_full.recid.value_counts()[voters_raw_full.recid.value_counts() == 2]"
   ]
  },
  {
   "cell_type": "code",
   "execution_count": 1102,
   "id": "aa4b340f-bb43-44cd-982f-5876a029f280",
   "metadata": {},
   "outputs": [],
   "source": [
    "voters_raw_1['name'] = voters_raw_1['givenname'] + ' ' + voters_raw_1['surname']\n",
    "voters_raw_2['name'] = voters_raw_2['givenname'] + ' ' + voters_raw_2['surname']\n",
    "voters_raw_3['name'] = voters_raw_3['givenname'] + ' ' + voters_raw_3['surname']\n"
   ]
  },
  {
   "cell_type": "code",
   "execution_count": 1105,
   "id": "c3620375-7fa3-4bf0-bd92-ec408ac7fec5",
   "metadata": {},
   "outputs": [
    {
     "data": {
      "text/html": [
       "<pre style=\"white-space:pre;overflow-x:auto;line-height:normal;font-family:Menlo,'DejaVu Sans Mono',consolas,'Courier New',monospace\"></pre>\n"
      ],
      "text/plain": []
     },
     "metadata": {},
     "output_type": "display_data"
    },
    {
     "data": {
      "text/html": [
       "<div>\n",
       "<style scoped>\n",
       "    .dataframe tbody tr th:only-of-type {\n",
       "        vertical-align: middle;\n",
       "    }\n",
       "\n",
       "    .dataframe tbody tr th {\n",
       "        vertical-align: top;\n",
       "    }\n",
       "\n",
       "    .dataframe thead th {\n",
       "        text-align: right;\n",
       "    }\n",
       "</style>\n",
       "<table border=\"1\" class=\"dataframe\">\n",
       "  <thead>\n",
       "    <tr style=\"text-align: right;\">\n",
       "      <th></th>\n",
       "      <th>recid</th>\n",
       "      <th>givenname_x</th>\n",
       "      <th>surname_x</th>\n",
       "      <th>suburb_x</th>\n",
       "      <th>postcode_x</th>\n",
       "      <th>name_x</th>\n",
       "      <th>givenname_y</th>\n",
       "      <th>surname_y</th>\n",
       "      <th>suburb_y</th>\n",
       "      <th>postcode_y</th>\n",
       "      <th>name_y</th>\n",
       "      <th>givenname</th>\n",
       "      <th>surname</th>\n",
       "      <th>suburb</th>\n",
       "      <th>postcode</th>\n",
       "      <th>name</th>\n",
       "    </tr>\n",
       "  </thead>\n",
       "  <tbody>\n",
       "    <tr>\n",
       "      <th>1</th>\n",
       "      <td>3138435</td>\n",
       "      <td>ronel</td>\n",
       "      <td>carter</td>\n",
       "      <td>washington</td>\n",
       "      <td>2788g</td>\n",
       "      <td>ronel carter</td>\n",
       "      <td>ronnel</td>\n",
       "      <td>carter</td>\n",
       "      <td>washington</td>\n",
       "      <td>27889.0</td>\n",
       "      <td>ronnel carter</td>\n",
       "      <td>ronnel</td>\n",
       "      <td>carter</td>\n",
       "      <td>washington</td>\n",
       "      <td>27889.0</td>\n",
       "      <td>ronnel carter</td>\n",
       "    </tr>\n",
       "    <tr>\n",
       "      <th>2</th>\n",
       "      <td>6117295</td>\n",
       "      <td>jason</td>\n",
       "      <td>roehrig</td>\n",
       "      <td>millers ceeek</td>\n",
       "      <td>286s1</td>\n",
       "      <td>jason roehrig</td>\n",
       "      <td>jason</td>\n",
       "      <td>roehrig</td>\n",
       "      <td>millers creek</td>\n",
       "      <td>28651.0</td>\n",
       "      <td>jason roehrig</td>\n",
       "      <td>jason</td>\n",
       "      <td>roehrig</td>\n",
       "      <td>millers creek</td>\n",
       "      <td>28651.0</td>\n",
       "      <td>jason roehrig</td>\n",
       "    </tr>\n",
       "    <tr>\n",
       "      <th>3</th>\n",
       "      <td>6401695</td>\n",
       "      <td>antrea</td>\n",
       "      <td>mure</td>\n",
       "      <td>greensboro</td>\n",
       "      <td>27410</td>\n",
       "      <td>antrea mure</td>\n",
       "      <td>andrea</td>\n",
       "      <td>moore</td>\n",
       "      <td>greensboro</td>\n",
       "      <td>27410.0</td>\n",
       "      <td>andrea moore</td>\n",
       "      <td>andrea</td>\n",
       "      <td>moore</td>\n",
       "      <td>greensboro</td>\n",
       "      <td>27410.0</td>\n",
       "      <td>andrea moore</td>\n",
       "    </tr>\n",
       "    <tr>\n",
       "      <th>5</th>\n",
       "      <td>4338459</td>\n",
       "      <td>jonn</td>\n",
       "      <td>snyder</td>\n",
       "      <td>louisbuahg</td>\n",
       "      <td>27549</td>\n",
       "      <td>jonn snyder</td>\n",
       "      <td>john</td>\n",
       "      <td>snyddr</td>\n",
       "      <td>louisburg</td>\n",
       "      <td>27s49</td>\n",
       "      <td>john snyddr</td>\n",
       "      <td>zohn</td>\n",
       "      <td>snyder</td>\n",
       "      <td>louiburg</td>\n",
       "      <td>27549</td>\n",
       "      <td>zohn snyder</td>\n",
       "    </tr>\n",
       "    <tr>\n",
       "      <th>6</th>\n",
       "      <td>795481</td>\n",
       "      <td>charie</td>\n",
       "      <td>lyles</td>\n",
       "      <td>sdate road</td>\n",
       "      <td>28676</td>\n",
       "      <td>charie lyles</td>\n",
       "      <td>charlie</td>\n",
       "      <td>lyles</td>\n",
       "      <td>state road</td>\n",
       "      <td>28676.0</td>\n",
       "      <td>charlie lyles</td>\n",
       "      <td>charlie</td>\n",
       "      <td>lyles</td>\n",
       "      <td>state road</td>\n",
       "      <td>28676.0</td>\n",
       "      <td>charlie lyles</td>\n",
       "    </tr>\n",
       "    <tr>\n",
       "      <th>...</th>\n",
       "      <td>...</td>\n",
       "      <td>...</td>\n",
       "      <td>...</td>\n",
       "      <td>...</td>\n",
       "      <td>...</td>\n",
       "      <td>...</td>\n",
       "      <td>...</td>\n",
       "      <td>...</td>\n",
       "      <td>...</td>\n",
       "      <td>...</td>\n",
       "      <td>...</td>\n",
       "      <td>...</td>\n",
       "      <td>...</td>\n",
       "      <td>...</td>\n",
       "      <td>...</td>\n",
       "      <td>...</td>\n",
       "    </tr>\n",
       "    <tr>\n",
       "      <th>999985</th>\n",
       "      <td>5819868</td>\n",
       "      <td>meagan</td>\n",
       "      <td>pruitt</td>\n",
       "      <td>roxboro</td>\n",
       "      <td>27574.0</td>\n",
       "      <td>meagan pruitt</td>\n",
       "      <td>meagsn</td>\n",
       "      <td>pruiatt</td>\n",
       "      <td>roxboro</td>\n",
       "      <td>27574</td>\n",
       "      <td>meagsn pruiatt</td>\n",
       "      <td>mesgan</td>\n",
       "      <td>pruitt</td>\n",
       "      <td>roxboro</td>\n",
       "      <td>2757q</td>\n",
       "      <td>mesgan pruitt</td>\n",
       "    </tr>\n",
       "    <tr>\n",
       "      <th>999989</th>\n",
       "      <td>6680655</td>\n",
       "      <td>justin</td>\n",
       "      <td>pence</td>\n",
       "      <td>greensboro</td>\n",
       "      <td>27407.0</td>\n",
       "      <td>justin pence</td>\n",
       "      <td>justin</td>\n",
       "      <td>pence</td>\n",
       "      <td>greensboro</td>\n",
       "      <td>27407.0</td>\n",
       "      <td>justin pence</td>\n",
       "      <td>justin</td>\n",
       "      <td>pence</td>\n",
       "      <td>greensboro</td>\n",
       "      <td>27407.0</td>\n",
       "      <td>justin pence</td>\n",
       "    </tr>\n",
       "    <tr>\n",
       "      <th>999991</th>\n",
       "      <td>517540</td>\n",
       "      <td>roger</td>\n",
       "      <td>fristoe</td>\n",
       "      <td>greensboro</td>\n",
       "      <td>27408.0</td>\n",
       "      <td>roger fristoe</td>\n",
       "      <td>rojyr</td>\n",
       "      <td>fristoe</td>\n",
       "      <td>greensnoro</td>\n",
       "      <td>27408</td>\n",
       "      <td>rojyr fristoe</td>\n",
       "      <td>roger</td>\n",
       "      <td>fristoe</td>\n",
       "      <td>greensboro</td>\n",
       "      <td>27408.0</td>\n",
       "      <td>roger fristoe</td>\n",
       "    </tr>\n",
       "    <tr>\n",
       "      <th>999995</th>\n",
       "      <td>6614741</td>\n",
       "      <td>virginia</td>\n",
       "      <td>angle</td>\n",
       "      <td>charlotte</td>\n",
       "      <td>28205.0</td>\n",
       "      <td>virginia angle</td>\n",
       "      <td>virginia</td>\n",
       "      <td>angle</td>\n",
       "      <td>charlotte</td>\n",
       "      <td>28205.0</td>\n",
       "      <td>virginia angle</td>\n",
       "      <td>virginia</td>\n",
       "      <td>angle</td>\n",
       "      <td>charlotte</td>\n",
       "      <td>28205.0</td>\n",
       "      <td>virginia angle</td>\n",
       "    </tr>\n",
       "    <tr>\n",
       "      <th>999997</th>\n",
       "      <td>5781566</td>\n",
       "      <td>rebecca</td>\n",
       "      <td>allen</td>\n",
       "      <td>willow springs</td>\n",
       "      <td>27592.0</td>\n",
       "      <td>rebecca allen</td>\n",
       "      <td>rebrcca</td>\n",
       "      <td>alen</td>\n",
       "      <td>willow springs</td>\n",
       "      <td>27592</td>\n",
       "      <td>rebrcca alen</td>\n",
       "      <td>rebecca</td>\n",
       "      <td>allen</td>\n",
       "      <td>willow springs</td>\n",
       "      <td>27592.0</td>\n",
       "      <td>rebecca allen</td>\n",
       "    </tr>\n",
       "  </tbody>\n",
       "</table>\n",
       "<p>291451 rows × 16 columns</p>\n",
       "</div>"
      ],
      "text/plain": [
       "\n",
       "          recid givenname_x surname_x        suburb_x postcode_x  \\\n",
       "\u001b[1;36m1\u001b[0m       \u001b[1;36m3138435\u001b[0m       ronel    carter      washington      2788g   \n",
       "\u001b[1;36m2\u001b[0m       \u001b[1;36m6117295\u001b[0m       jason   roehrig   millers ceeek      286s1   \n",
       "\u001b[1;36m3\u001b[0m       \u001b[1;36m6401695\u001b[0m      antrea      mure      greensboro      \u001b[1;36m27410\u001b[0m   \n",
       "\u001b[1;36m5\u001b[0m       \u001b[1;36m4338459\u001b[0m        jonn    snyder      louisbuahg      \u001b[1;36m27549\u001b[0m   \n",
       "\u001b[1;36m6\u001b[0m        \u001b[1;36m795481\u001b[0m      charie     lyles      sdate road      \u001b[1;36m28676\u001b[0m   \n",
       "\u001b[33m...\u001b[0m         \u001b[33m...\u001b[0m         \u001b[33m...\u001b[0m       \u001b[33m...\u001b[0m             \u001b[33m...\u001b[0m        \u001b[33m...\u001b[0m   \n",
       "\u001b[1;36m999985\u001b[0m  \u001b[1;36m5819868\u001b[0m      meagan    pruitt         roxboro    \u001b[1;36m27574.0\u001b[0m   \n",
       "\u001b[1;36m999989\u001b[0m  \u001b[1;36m6680655\u001b[0m      justin     pence      greensboro    \u001b[1;36m27407.0\u001b[0m   \n",
       "\u001b[1;36m999991\u001b[0m   \u001b[1;36m517540\u001b[0m       roger   fristoe      greensboro    \u001b[1;36m27408.0\u001b[0m   \n",
       "\u001b[1;36m999995\u001b[0m  \u001b[1;36m6614741\u001b[0m    virginia     angle       charlotte    \u001b[1;36m28205.0\u001b[0m   \n",
       "\u001b[1;36m999997\u001b[0m  \u001b[1;36m5781566\u001b[0m     rebecca     allen  willow springs    \u001b[1;36m27592.0\u001b[0m   \n",
       "\n",
       "                name_x givenname_y surname_y        suburb_y postcode_y  \\\n",
       "\u001b[1;36m1\u001b[0m         ronel carter      ronnel    carter      washington    \u001b[1;36m27889.0\u001b[0m   \n",
       "\u001b[1;36m2\u001b[0m        jason roehrig       jason   roehrig   millers creek    \u001b[1;36m28651.0\u001b[0m   \n",
       "\u001b[1;36m3\u001b[0m          antrea mure      andrea     moore      greensboro    \u001b[1;36m27410.0\u001b[0m   \n",
       "\u001b[1;36m5\u001b[0m          jonn snyder        john    snyddr       louisburg      27s49   \n",
       "\u001b[1;36m6\u001b[0m         charie lyles     charlie     lyles      state road    \u001b[1;36m28676.0\u001b[0m   \n",
       "\u001b[33m...\u001b[0m                \u001b[33m...\u001b[0m         \u001b[33m...\u001b[0m       \u001b[33m...\u001b[0m             \u001b[33m...\u001b[0m        \u001b[33m...\u001b[0m   \n",
       "\u001b[1;36m999985\u001b[0m   meagan pruitt      meagsn   pruiatt         roxboro      \u001b[1;36m27574\u001b[0m   \n",
       "\u001b[1;36m999989\u001b[0m    justin pence      justin     pence      greensboro    \u001b[1;36m27407.0\u001b[0m   \n",
       "\u001b[1;36m999991\u001b[0m   roger fristoe       rojyr   fristoe      greensnoro      \u001b[1;36m27408\u001b[0m   \n",
       "\u001b[1;36m999995\u001b[0m  virginia angle    virginia     angle       charlotte    \u001b[1;36m28205.0\u001b[0m   \n",
       "\u001b[1;36m999997\u001b[0m   rebecca allen     rebrcca      alen  willow springs      \u001b[1;36m27592\u001b[0m   \n",
       "\n",
       "                name_y givenname  surname          suburb postcode  \\\n",
       "\u001b[1;36m1\u001b[0m        ronnel carter    ronnel   carter      washington  \u001b[1;36m27889.0\u001b[0m   \n",
       "\u001b[1;36m2\u001b[0m        jason roehrig     jason  roehrig   millers creek  \u001b[1;36m28651.0\u001b[0m   \n",
       "\u001b[1;36m3\u001b[0m         andrea moore    andrea    moore      greensboro  \u001b[1;36m27410.0\u001b[0m   \n",
       "\u001b[1;36m5\u001b[0m          john snyddr      zohn   snyder        louiburg    \u001b[1;36m27549\u001b[0m   \n",
       "\u001b[1;36m6\u001b[0m        charlie lyles   charlie    lyles      state road  \u001b[1;36m28676.0\u001b[0m   \n",
       "\u001b[33m...\u001b[0m                \u001b[33m...\u001b[0m       \u001b[33m...\u001b[0m      \u001b[33m...\u001b[0m             \u001b[33m...\u001b[0m      \u001b[33m...\u001b[0m   \n",
       "\u001b[1;36m999985\u001b[0m  meagsn pruiatt    mesgan   pruitt         roxboro    2757q   \n",
       "\u001b[1;36m999989\u001b[0m    justin pence    justin    pence      greensboro  \u001b[1;36m27407.0\u001b[0m   \n",
       "\u001b[1;36m999991\u001b[0m   rojyr fristoe     roger  fristoe      greensboro  \u001b[1;36m27408.0\u001b[0m   \n",
       "\u001b[1;36m999995\u001b[0m  virginia angle  virginia    angle       charlotte  \u001b[1;36m28205.0\u001b[0m   \n",
       "\u001b[1;36m999997\u001b[0m    rebrcca alen   rebecca    allen  willow springs  \u001b[1;36m27592.0\u001b[0m   \n",
       "\n",
       "                  name  \n",
       "\u001b[1;36m1\u001b[0m        ronnel carter  \n",
       "\u001b[1;36m2\u001b[0m        jason roehrig  \n",
       "\u001b[1;36m3\u001b[0m         andrea moore  \n",
       "\u001b[1;36m5\u001b[0m          zohn snyder  \n",
       "\u001b[1;36m6\u001b[0m        charlie lyles  \n",
       "\u001b[33m...\u001b[0m                \u001b[33m...\u001b[0m  \n",
       "\u001b[1;36m999985\u001b[0m   mesgan pruitt  \n",
       "\u001b[1;36m999989\u001b[0m    justin pence  \n",
       "\u001b[1;36m999991\u001b[0m   roger fristoe  \n",
       "\u001b[1;36m999995\u001b[0m  virginia angle  \n",
       "\u001b[1;36m999997\u001b[0m   rebecca allen  \n",
       "\n",
       "\u001b[1m[\u001b[0m\u001b[1;36m291451\u001b[0m rows x \u001b[1;36m16\u001b[0m columns\u001b[1m]\u001b[0m"
      ]
     },
     "execution_count": 1105,
     "metadata": {},
     "output_type": "execute_result"
    }
   ],
   "source": [
    "voters_raw_1.merge(voters_raw_2, on='recid', how='left').merge(voters_raw_3, on='recid', how='left').dropna()"
   ]
  },
  {
   "cell_type": "code",
   "execution_count": null,
   "id": "ca3f581f-e11f-4d5c-89df-223cd5e0c899",
   "metadata": {},
   "outputs": [],
   "source": []
  },
  {
   "cell_type": "markdown",
   "id": "56768c0a-f753-4088-8db4-4a54ffe15783",
   "metadata": {},
   "source": [
    "# Embedding analysis"
   ]
  },
  {
   "cell_type": "code",
   "execution_count": 148,
   "id": "de4b6c89-eb15-43d6-affb-f44fe4daa260",
   "metadata": {},
   "outputs": [],
   "source": [
    "\n",
    "poi_c2v = poiNames_C2V(150, char_to_index)\n",
    "poi_c2v = poi_c2v.load_model('../../data/06_models/Conv-mixed-sources-training-BEAT-EDIT')"
   ]
  },
  {
   "cell_type": "code",
   "execution_count": 160,
   "id": "08f87e69-1259-409c-82c6-ace1f8592954",
   "metadata": {},
   "outputs": [],
   "source": [
    "test_names = ['ibm', 'international business machines']"
   ]
  },
  {
   "cell_type": "code",
   "execution_count": 161,
   "id": "40d1996f-25c4-4966-9fb0-edbaaf6f44b5",
   "metadata": {},
   "outputs": [],
   "source": [
    "X = encode_sparsed_list(test_names,char_to_index_dict=char_to_index, max_len=MAX_NAME_LEN)"
   ]
  },
  {
   "cell_type": "code",
   "execution_count": 163,
   "id": "158d809e-6821-4a87-9b5b-0e831f0d978e",
   "metadata": {},
   "outputs": [
    {
     "data": {
      "text/html": [
       "<pre style=\"white-space:pre;overflow-x:auto;line-height:normal;font-family:Menlo,'DejaVu Sans Mono',consolas,'Courier New',monospace\"></pre>\n"
      ],
      "text/plain": []
     },
     "metadata": {},
     "output_type": "display_data"
    },
    {
     "data": {
      "text/plain": [
       "\u001b[1m[\u001b[0m\u001b[32m'ibm'\u001b[0m, \u001b[32m'international business machines'\u001b[0m\u001b[1m]\u001b[0m"
      ]
     },
     "execution_count": 163,
     "metadata": {},
     "output_type": "execute_result"
    }
   ],
   "source": [
    "test_names"
   ]
  },
  {
   "cell_type": "code",
   "execution_count": 162,
   "id": "fa4045aa-c69d-4b53-9664-6b2971ceaec0",
   "metadata": {},
   "outputs": [
    {
     "name": "stdout",
     "output_type": "stream",
     "text": [
      "[[20. 13. 24.  0.  0.  0.  0.  0.  0.  0.  0.  0.  0.  0.  0.  0.  0.  0.\n",
      "   0.  0.  0.  0.  0.  0.  0.  0.  0.  0.  0.  0.  0.  0.  0.  0.  0.  0.\n",
      "   0.  0.  0.  0.  0.  0.  0.  0.  0.  0.  0.  0.  0.  0.  0.  0.  0.  0.\n",
      "   0.  0.  0.  0.  0.  0.  0.  0.  0.  0.  0.  0.  0.  0.  0.  0.  0.  0.\n",
      "   0.  0.  0.  0.  0.  0.  0.  0.  0.  0.  0.  0.  0.  0.  0.  0.  0.  0.\n",
      "   0.  0.  0.  0.  0.  0.  0.  0.  0.  0.]\n",
      " [20. 25. 31. 16. 29. 25. 12. 31. 20. 26. 25. 12. 23.  1. 13. 32. 30. 20.\n",
      "  25. 16. 30. 30.  1. 24. 12. 14. 19. 20. 25. 16. 30.  0.  0.  0.  0.  0.\n",
      "   0.  0.  0.  0.  0.  0.  0.  0.  0.  0.  0.  0.  0.  0.  0.  0.  0.  0.\n",
      "   0.  0.  0.  0.  0.  0.  0.  0.  0.  0.  0.  0.  0.  0.  0.  0.  0.  0.\n",
      "   0.  0.  0.  0.  0.  0.  0.  0.  0.  0.  0.  0.  0.  0.  0.  0.  0.  0.\n",
      "   0.  0.  0.  0.  0.  0.  0.  0.  0.  0.]]\n"
     ]
    }
   ],
   "source": [
    "print(X)"
   ]
  },
  {
   "cell_type": "code",
   "execution_count": 164,
   "id": "9697f353-e2a9-4bc1-bbd8-3edf6c42eb5a",
   "metadata": {},
   "outputs": [
    {
     "data": {
      "text/html": [
       "<pre style=\"white-space:pre;overflow-x:auto;line-height:normal;font-family:Menlo,'DejaVu Sans Mono',consolas,'Courier New',monospace\"></pre>\n"
      ],
      "text/plain": []
     },
     "metadata": {},
     "output_type": "display_data"
    },
    {
     "data": {
      "text/plain": [
       "\u001b[1m<\u001b[0m\u001b[1;95mmatplotlib.image.AxesImage\u001b[0m\u001b[39m object at \u001b[0m\u001b[1;36m0x7f502caf0c40\u001b[0m\u001b[1m>\u001b[0m"
      ]
     },
     "execution_count": 164,
     "metadata": {},
     "output_type": "execute_result"
    },
    {
     "data": {
      "text/html": [
       "<pre style=\"white-space:pre;overflow-x:auto;line-height:normal;font-family:Menlo,'DejaVu Sans Mono',consolas,'Courier New',monospace\"></pre>\n"
      ],
      "text/plain": []
     },
     "metadata": {},
     "output_type": "display_data"
    },
    {
     "data": {
      "image/png": "[encoded data removed]",
      "text/plain": [
       "\u001b[1m<\u001b[0m\u001b[1;95mFigure\u001b[0m\u001b[39m size 1000\u001b[0m\u001b[1;36m0x10000\u001b[0m\u001b[39m with \u001b[0m\u001b[1;36m1\u001b[0m\u001b[39m Axes\u001b[0m\u001b[1m>\u001b[0m"
      ]
     },
     "metadata": {},
     "output_type": "display_data"
    }
   ],
   "source": [
    "plt.figure(figsize=(100,100))\n",
    "plt.imshow(X[:2])"
   ]
  },
  {
   "cell_type": "code",
   "execution_count": 165,
   "id": "e2c41637-b2ad-4cbb-9bbd-3a21940e2175",
   "metadata": {},
   "outputs": [
    {
     "name": "stdout",
     "output_type": "stream",
     "text": [
      "1/1 [==============================] - 0s 26ms/step\n"
     ]
    },
    {
     "data": {
      "text/html": [
       "<pre style=\"white-space:pre;overflow-x:auto;line-height:normal;font-family:Menlo,'DejaVu Sans Mono',consolas,'Courier New',monospace\"></pre>\n"
      ],
      "text/plain": []
     },
     "metadata": {},
     "output_type": "display_data"
    },
    {
     "data": {
      "text/plain": [
       "\u001b[1m<\u001b[0m\u001b[1;95mmatplotlib.image.AxesImage\u001b[0m\u001b[39m object at \u001b[0m\u001b[1;36m0x7f502c97cca0\u001b[0m\u001b[1m>\u001b[0m"
      ]
     },
     "execution_count": 165,
     "metadata": {},
     "output_type": "execute_result"
    },
    {
     "data": {
      "text/html": [
       "<pre style=\"white-space:pre;overflow-x:auto;line-height:normal;font-family:Menlo,'DejaVu Sans Mono',consolas,'Courier New',monospace\"></pre>\n"
      ],
      "text/plain": []
     },
     "metadata": {},
     "output_type": "display_data"
    },
    {
     "data": {
      "image/png": "[encoded data removed]",
      "text/plain": [
       "\u001b[1m<\u001b[0m\u001b[1;95mFigure\u001b[0m\u001b[39m size 1000\u001b[0m\u001b[1;36m0x1000\u001b[0m\u001b[39m with \u001b[0m\u001b[1;36m1\u001b[0m\u001b[39m Axes\u001b[0m\u001b[1m>\u001b[0m"
      ]
     },
     "metadata": {},
     "output_type": "display_data"
    }
   ],
   "source": [
    "plt.figure(figsize=(100,10))\n",
    "plt.imshow(poi_c2v.embedding_layer.predict(X[0:1]).reshape(-1,150))"
   ]
  },
  {
   "cell_type": "code",
   "execution_count": 166,
   "id": "5c51ec7a-cee2-4302-aeb8-00034c5c2f3d",
   "metadata": {},
   "outputs": [
    {
     "name": "stdout",
     "output_type": "stream",
     "text": [
      "4/4 [==============================] - 0s 2ms/step\n"
     ]
    },
    {
     "data": {
      "text/html": [
       "<pre style=\"white-space:pre;overflow-x:auto;line-height:normal;font-family:Menlo,'DejaVu Sans Mono',consolas,'Courier New',monospace\"></pre>\n"
      ],
      "text/plain": []
     },
     "metadata": {},
     "output_type": "display_data"
    },
    {
     "data": {
      "text/plain": [
       "\u001b[1m<\u001b[0m\u001b[1;95mmatplotlib.image.AxesImage\u001b[0m\u001b[39m object at \u001b[0m\u001b[1;36m0x7f4feae79730\u001b[0m\u001b[1m>\u001b[0m"
      ]
     },
     "execution_count": 166,
     "metadata": {},
     "output_type": "execute_result"
    },
    {
     "data": {
      "text/html": [
       "<pre style=\"white-space:pre;overflow-x:auto;line-height:normal;font-family:Menlo,'DejaVu Sans Mono',consolas,'Courier New',monospace\"></pre>\n"
      ],
      "text/plain": []
     },
     "metadata": {},
     "output_type": "display_data"
    },
    {
     "data": {
      "image/png": "[encoded data removed]",
      "text/plain": [
       "\u001b[1m<\u001b[0m\u001b[1;95mFigure\u001b[0m\u001b[39m size 64\u001b[0m\u001b[1;36m0x480\u001b[0m\u001b[39m with \u001b[0m\u001b[1;36m1\u001b[0m\u001b[39m Axes\u001b[0m\u001b[1m>\u001b[0m"
      ]
     },
     "metadata": {},
     "output_type": "display_data"
    }
   ],
   "source": [
    "plt.imshow(poi_c2v.embedding_layer.predict(X[1]).reshape(-1,150))"
   ]
  },
  {
   "cell_type": "code",
   "execution_count": 171,
   "id": "05c7d7cc-2985-4389-96d9-8cb80535a098",
   "metadata": {},
   "outputs": [
    {
     "data": {
      "text/html": [
       "<pre style=\"white-space:pre;overflow-x:auto;line-height:normal;font-family:Menlo,'DejaVu Sans Mono',consolas,'Courier New',monospace\"></pre>\n"
      ],
      "text/plain": []
     },
     "metadata": {},
     "output_type": "display_data"
    },
    {
     "data": {
      "text/plain": [
       "\u001b[1;36m44\u001b[0m"
      ]
     },
     "execution_count": 171,
     "metadata": {},
     "output_type": "execute_result"
    }
   ],
   "source": [
    "fuzz.token_set_ratio('Car Craft', 'Carcraft Mot & Service Centre')"
   ]
  },
  {
   "cell_type": "code",
   "execution_count": null,
   "id": "597c8a9c-f134-4c8b-b9d3-a2f65fa878d8",
   "metadata": {},
   "outputs": [],
   "source": []
  },
  {
   "cell_type": "markdown",
   "id": "5b963c58-8205-4e0e-b60a-ef4aaea0e20c",
   "metadata": {},
   "source": [
    "# Test layers"
   ]
  },
  {
   "cell_type": "code",
   "execution_count": 176,
   "id": "88e75f01-6fb8-4978-aee5-f806726923a9",
   "metadata": {},
   "outputs": [],
   "source": [
    "input_sequence = tf.keras.layers.Input(shape=100, name='input_sequence')\n",
    "x = tf.keras.layers.Masking(mask_value=0)(input_sequence)\n",
    "x = tf.keras.layers.Embedding(input_dim=100, output_dim=150, mask_zero=True)(x)\n",
    "embedding_layer = tf.keras.models.Model(inputs=[input_sequence], outputs=x)"
   ]
  },
  {
   "cell_type": "code",
   "execution_count": 178,
   "id": "08d19b2a-7888-41cc-9aaf-53722e293bfb",
   "metadata": {},
   "outputs": [
    {
     "data": {
      "text/html": [
       "<pre style=\"white-space:pre;overflow-x:auto;line-height:normal;font-family:Menlo,'DejaVu Sans Mono',consolas,'Courier New',monospace\"></pre>\n"
      ],
      "text/plain": []
     },
     "metadata": {},
     "output_type": "display_data"
    },
    {
     "data": {
      "text/plain": [
       "\n",
       "\u001b[1m<\u001b[0m\u001b[1;95mtf.Tensor:\u001b[0m\u001b[39m \u001b[0m\u001b[33mshape\u001b[0m\u001b[39m=\u001b[0m\u001b[1;39m(\u001b[0m\u001b[1;36m2\u001b[0m\u001b[39m, \u001b[0m\u001b[1;36m100\u001b[0m\u001b[1;39m)\u001b[0m\u001b[39m, \u001b[0m\u001b[33mdtype\u001b[0m\u001b[39m=\u001b[0m\u001b[35mfloat32\u001b[0m\u001b[39m, \u001b[0m\u001b[33mnumpy\u001b[0m\u001b[39m=\u001b[0m\n",
       "\u001b[1;35marray\u001b[0m\u001b[1;39m(\u001b[0m\u001b[1;39m[\u001b[0m\u001b[1;39m[\u001b[0m\u001b[1;36m20\u001b[0m\u001b[39m., \u001b[0m\u001b[1;36m13\u001b[0m\u001b[39m., \u001b[0m\u001b[1;36m24\u001b[0m\u001b[39m.,  \u001b[0m\u001b[1;36m0\u001b[0m\u001b[39m.,  \u001b[0m\u001b[1;36m0\u001b[0m\u001b[39m.,  \u001b[0m\u001b[1;36m0\u001b[0m\u001b[39m.,  \u001b[0m\u001b[1;36m0\u001b[0m\u001b[39m.,  \u001b[0m\u001b[1;36m0\u001b[0m\u001b[39m.,  \u001b[0m\u001b[1;36m0\u001b[0m\u001b[39m.,  \u001b[0m\u001b[1;36m0\u001b[0m\u001b[39m.,  \u001b[0m\u001b[1;36m0\u001b[0m\u001b[39m.,  \u001b[0m\u001b[1;36m0\u001b[0m\u001b[39m.,  \u001b[0m\u001b[1;36m0\u001b[0m\u001b[39m.,\u001b[0m\n",
       "\u001b[39m         \u001b[0m\u001b[1;36m0\u001b[0m\u001b[39m.,  \u001b[0m\u001b[1;36m0\u001b[0m\u001b[39m.,  \u001b[0m\u001b[1;36m0\u001b[0m\u001b[39m.,  \u001b[0m\u001b[1;36m0\u001b[0m\u001b[39m.,  \u001b[0m\u001b[1;36m0\u001b[0m\u001b[39m.,  \u001b[0m\u001b[1;36m0\u001b[0m\u001b[39m.,  \u001b[0m\u001b[1;36m0\u001b[0m\u001b[39m.,  \u001b[0m\u001b[1;36m0\u001b[0m\u001b[39m.,  \u001b[0m\u001b[1;36m0\u001b[0m\u001b[39m.,  \u001b[0m\u001b[1;36m0\u001b[0m\u001b[39m.,  \u001b[0m\u001b[1;36m0\u001b[0m\u001b[39m.,  \u001b[0m\u001b[1;36m0\u001b[0m\u001b[39m.,  \u001b[0m\u001b[1;36m0\u001b[0m\u001b[39m.,\u001b[0m\n",
       "\u001b[39m         \u001b[0m\u001b[1;36m0\u001b[0m\u001b[39m.,  \u001b[0m\u001b[1;36m0\u001b[0m\u001b[39m.,  \u001b[0m\u001b[1;36m0\u001b[0m\u001b[39m.,  \u001b[0m\u001b[1;36m0\u001b[0m\u001b[39m.,  \u001b[0m\u001b[1;36m0\u001b[0m\u001b[39m.,  \u001b[0m\u001b[1;36m0\u001b[0m\u001b[39m.,  \u001b[0m\u001b[1;36m0\u001b[0m\u001b[39m.,  \u001b[0m\u001b[1;36m0\u001b[0m\u001b[39m.,  \u001b[0m\u001b[1;36m0\u001b[0m\u001b[39m.,  \u001b[0m\u001b[1;36m0\u001b[0m\u001b[39m.,  \u001b[0m\u001b[1;36m0\u001b[0m\u001b[39m.,  \u001b[0m\u001b[1;36m0\u001b[0m\u001b[39m.,  \u001b[0m\u001b[1;36m0\u001b[0m\u001b[39m.,\u001b[0m\n",
       "\u001b[39m         \u001b[0m\u001b[1;36m0\u001b[0m\u001b[39m.,  \u001b[0m\u001b[1;36m0\u001b[0m\u001b[39m.,  \u001b[0m\u001b[1;36m0\u001b[0m\u001b[39m.,  \u001b[0m\u001b[1;36m0\u001b[0m\u001b[39m.,  \u001b[0m\u001b[1;36m0\u001b[0m\u001b[39m.,  \u001b[0m\u001b[1;36m0\u001b[0m\u001b[39m.,  \u001b[0m\u001b[1;36m0\u001b[0m\u001b[39m.,  \u001b[0m\u001b[1;36m0\u001b[0m\u001b[39m.,  \u001b[0m\u001b[1;36m0\u001b[0m\u001b[39m.,  \u001b[0m\u001b[1;36m0\u001b[0m\u001b[39m.,  \u001b[0m\u001b[1;36m0\u001b[0m\u001b[39m.,  \u001b[0m\u001b[1;36m0\u001b[0m\u001b[39m.,  \u001b[0m\u001b[1;36m0\u001b[0m\u001b[39m.,\u001b[0m\n",
       "\u001b[39m         \u001b[0m\u001b[1;36m0\u001b[0m\u001b[39m.,  \u001b[0m\u001b[1;36m0\u001b[0m\u001b[39m.,  \u001b[0m\u001b[1;36m0\u001b[0m\u001b[39m.,  \u001b[0m\u001b[1;36m0\u001b[0m\u001b[39m.,  \u001b[0m\u001b[1;36m0\u001b[0m\u001b[39m.,  \u001b[0m\u001b[1;36m0\u001b[0m\u001b[39m.,  \u001b[0m\u001b[1;36m0\u001b[0m\u001b[39m.,  \u001b[0m\u001b[1;36m0\u001b[0m\u001b[39m.,  \u001b[0m\u001b[1;36m0\u001b[0m\u001b[39m.,  \u001b[0m\u001b[1;36m0\u001b[0m\u001b[39m.,  \u001b[0m\u001b[1;36m0\u001b[0m\u001b[39m.,  \u001b[0m\u001b[1;36m0\u001b[0m\u001b[39m.,  \u001b[0m\u001b[1;36m0\u001b[0m\u001b[39m.,\u001b[0m\n",
       "\u001b[39m         \u001b[0m\u001b[1;36m0\u001b[0m\u001b[39m.,  \u001b[0m\u001b[1;36m0\u001b[0m\u001b[39m.,  \u001b[0m\u001b[1;36m0\u001b[0m\u001b[39m.,  \u001b[0m\u001b[1;36m0\u001b[0m\u001b[39m.,  \u001b[0m\u001b[1;36m0\u001b[0m\u001b[39m.,  \u001b[0m\u001b[1;36m0\u001b[0m\u001b[39m.,  \u001b[0m\u001b[1;36m0\u001b[0m\u001b[39m.,  \u001b[0m\u001b[1;36m0\u001b[0m\u001b[39m.,  \u001b[0m\u001b[1;36m0\u001b[0m\u001b[39m.,  \u001b[0m\u001b[1;36m0\u001b[0m\u001b[39m.,  \u001b[0m\u001b[1;36m0\u001b[0m\u001b[39m.,  \u001b[0m\u001b[1;36m0\u001b[0m\u001b[39m.,  \u001b[0m\u001b[1;36m0\u001b[0m\u001b[39m.,\u001b[0m\n",
       "\u001b[39m         \u001b[0m\u001b[1;36m0\u001b[0m\u001b[39m.,  \u001b[0m\u001b[1;36m0\u001b[0m\u001b[39m.,  \u001b[0m\u001b[1;36m0\u001b[0m\u001b[39m.,  \u001b[0m\u001b[1;36m0\u001b[0m\u001b[39m.,  \u001b[0m\u001b[1;36m0\u001b[0m\u001b[39m.,  \u001b[0m\u001b[1;36m0\u001b[0m\u001b[39m.,  \u001b[0m\u001b[1;36m0\u001b[0m\u001b[39m.,  \u001b[0m\u001b[1;36m0\u001b[0m\u001b[39m.,  \u001b[0m\u001b[1;36m0\u001b[0m\u001b[39m.,  \u001b[0m\u001b[1;36m0\u001b[0m\u001b[39m.,  \u001b[0m\u001b[1;36m0\u001b[0m\u001b[39m.,  \u001b[0m\u001b[1;36m0\u001b[0m\u001b[39m.,  \u001b[0m\u001b[1;36m0\u001b[0m\u001b[39m.,\u001b[0m\n",
       "\u001b[39m         \u001b[0m\u001b[1;36m0\u001b[0m\u001b[39m.,  \u001b[0m\u001b[1;36m0\u001b[0m\u001b[39m.,  \u001b[0m\u001b[1;36m0\u001b[0m\u001b[39m.,  \u001b[0m\u001b[1;36m0\u001b[0m\u001b[39m.,  \u001b[0m\u001b[1;36m0\u001b[0m\u001b[39m.,  \u001b[0m\u001b[1;36m0\u001b[0m\u001b[39m.,  \u001b[0m\u001b[1;36m0\u001b[0m\u001b[39m.,  \u001b[0m\u001b[1;36m0\u001b[0m\u001b[39m.,  \u001b[0m\u001b[1;36m0\u001b[0m\u001b[39m.\u001b[0m\u001b[1;39m]\u001b[0m\u001b[39m,\u001b[0m\n",
       "\u001b[39m       \u001b[0m\u001b[1;39m[\u001b[0m\u001b[1;36m20\u001b[0m\u001b[39m., \u001b[0m\u001b[1;36m25\u001b[0m\u001b[39m., \u001b[0m\u001b[1;36m31\u001b[0m\u001b[39m., \u001b[0m\u001b[1;36m16\u001b[0m\u001b[39m., \u001b[0m\u001b[1;36m29\u001b[0m\u001b[39m., \u001b[0m\u001b[1;36m25\u001b[0m\u001b[39m., \u001b[0m\u001b[1;36m12\u001b[0m\u001b[39m., \u001b[0m\u001b[1;36m31\u001b[0m\u001b[39m., \u001b[0m\u001b[1;36m20\u001b[0m\u001b[39m., \u001b[0m\u001b[1;36m26\u001b[0m\u001b[39m., \u001b[0m\u001b[1;36m25\u001b[0m\u001b[39m., \u001b[0m\u001b[1;36m12\u001b[0m\u001b[39m., \u001b[0m\u001b[1;36m23\u001b[0m\u001b[39m.,\u001b[0m\n",
       "\u001b[39m         \u001b[0m\u001b[1;36m1\u001b[0m\u001b[39m., \u001b[0m\u001b[1;36m13\u001b[0m\u001b[39m., \u001b[0m\u001b[1;36m32\u001b[0m\u001b[39m., \u001b[0m\u001b[1;36m30\u001b[0m\u001b[39m., \u001b[0m\u001b[1;36m20\u001b[0m\u001b[39m., \u001b[0m\u001b[1;36m25\u001b[0m\u001b[39m., \u001b[0m\u001b[1;36m16\u001b[0m\u001b[39m., \u001b[0m\u001b[1;36m30\u001b[0m\u001b[39m., \u001b[0m\u001b[1;36m30\u001b[0m\u001b[39m.,  \u001b[0m\u001b[1;36m1\u001b[0m\u001b[39m., \u001b[0m\u001b[1;36m24\u001b[0m\u001b[39m., \u001b[0m\u001b[1;36m12\u001b[0m\u001b[39m., \u001b[0m\u001b[1;36m14\u001b[0m\u001b[39m.,\u001b[0m\n",
       "\u001b[39m        \u001b[0m\u001b[1;36m19\u001b[0m\u001b[39m., \u001b[0m\u001b[1;36m20\u001b[0m\u001b[39m., \u001b[0m\u001b[1;36m25\u001b[0m\u001b[39m., \u001b[0m\u001b[1;36m16\u001b[0m\u001b[39m., \u001b[0m\u001b[1;36m30\u001b[0m\u001b[39m.,  \u001b[0m\u001b[1;36m0\u001b[0m\u001b[39m.,  \u001b[0m\u001b[1;36m0\u001b[0m\u001b[39m.,  \u001b[0m\u001b[1;36m0\u001b[0m\u001b[39m.,  \u001b[0m\u001b[1;36m0\u001b[0m\u001b[39m.,  \u001b[0m\u001b[1;36m0\u001b[0m\u001b[39m.,  \u001b[0m\u001b[1;36m0\u001b[0m\u001b[39m.,  \u001b[0m\u001b[1;36m0\u001b[0m\u001b[39m.,  \u001b[0m\u001b[1;36m0\u001b[0m\u001b[39m.,\u001b[0m\n",
       "\u001b[39m         \u001b[0m\u001b[1;36m0\u001b[0m\u001b[39m.,  \u001b[0m\u001b[1;36m0\u001b[0m\u001b[39m.,  \u001b[0m\u001b[1;36m0\u001b[0m\u001b[39m.,  \u001b[0m\u001b[1;36m0\u001b[0m\u001b[39m.,  \u001b[0m\u001b[1;36m0\u001b[0m\u001b[39m.,  \u001b[0m\u001b[1;36m0\u001b[0m\u001b[39m.,  \u001b[0m\u001b[1;36m0\u001b[0m\u001b[39m.,  \u001b[0m\u001b[1;36m0\u001b[0m\u001b[39m.,  \u001b[0m\u001b[1;36m0\u001b[0m\u001b[39m.,  \u001b[0m\u001b[1;36m0\u001b[0m\u001b[39m.,  \u001b[0m\u001b[1;36m0\u001b[0m\u001b[39m.,  \u001b[0m\u001b[1;36m0\u001b[0m\u001b[39m.,  \u001b[0m\u001b[1;36m0\u001b[0m\u001b[39m.,\u001b[0m\n",
       "\u001b[39m         \u001b[0m\u001b[1;36m0\u001b[0m\u001b[39m.,  \u001b[0m\u001b[1;36m0\u001b[0m\u001b[39m.,  \u001b[0m\u001b[1;36m0\u001b[0m\u001b[39m.,  \u001b[0m\u001b[1;36m0\u001b[0m\u001b[39m.,  \u001b[0m\u001b[1;36m0\u001b[0m\u001b[39m.,  \u001b[0m\u001b[1;36m0\u001b[0m\u001b[39m.,  \u001b[0m\u001b[1;36m0\u001b[0m\u001b[39m.,  \u001b[0m\u001b[1;36m0\u001b[0m\u001b[39m.,  \u001b[0m\u001b[1;36m0\u001b[0m\u001b[39m.,  \u001b[0m\u001b[1;36m0\u001b[0m\u001b[39m.,  \u001b[0m\u001b[1;36m0\u001b[0m\u001b[39m.,  \u001b[0m\u001b[1;36m0\u001b[0m\u001b[39m.,  \u001b[0m\u001b[1;36m0\u001b[0m\u001b[39m.,\u001b[0m\n",
       "\u001b[39m         \u001b[0m\u001b[1;36m0\u001b[0m\u001b[39m.,  \u001b[0m\u001b[1;36m0\u001b[0m\u001b[39m.,  \u001b[0m\u001b[1;36m0\u001b[0m\u001b[39m.,  \u001b[0m\u001b[1;36m0\u001b[0m\u001b[39m.,  \u001b[0m\u001b[1;36m0\u001b[0m\u001b[39m.,  \u001b[0m\u001b[1;36m0\u001b[0m\u001b[39m.,  \u001b[0m\u001b[1;36m0\u001b[0m\u001b[39m.,  \u001b[0m\u001b[1;36m0\u001b[0m\u001b[39m.,  \u001b[0m\u001b[1;36m0\u001b[0m\u001b[39m.,  \u001b[0m\u001b[1;36m0\u001b[0m\u001b[39m.,  \u001b[0m\u001b[1;36m0\u001b[0m\u001b[39m.,  \u001b[0m\u001b[1;36m0\u001b[0m\u001b[39m.,  \u001b[0m\u001b[1;36m0\u001b[0m\u001b[39m.,\u001b[0m\n",
       "\u001b[39m         \u001b[0m\u001b[1;36m0\u001b[0m\u001b[39m.,  \u001b[0m\u001b[1;36m0\u001b[0m\u001b[39m.,  \u001b[0m\u001b[1;36m0\u001b[0m\u001b[39m.,  \u001b[0m\u001b[1;36m0\u001b[0m\u001b[39m.,  \u001b[0m\u001b[1;36m0\u001b[0m\u001b[39m.,  \u001b[0m\u001b[1;36m0\u001b[0m\u001b[39m.,  \u001b[0m\u001b[1;36m0\u001b[0m\u001b[39m.,  \u001b[0m\u001b[1;36m0\u001b[0m\u001b[39m.,  \u001b[0m\u001b[1;36m0\u001b[0m\u001b[39m.,  \u001b[0m\u001b[1;36m0\u001b[0m\u001b[39m.,  \u001b[0m\u001b[1;36m0\u001b[0m\u001b[39m.,  \u001b[0m\u001b[1;36m0\u001b[0m\u001b[39m.,  \u001b[0m\u001b[1;36m0\u001b[0m\u001b[39m.,\u001b[0m\n",
       "\u001b[39m         \u001b[0m\u001b[1;36m0\u001b[0m\u001b[39m.,  \u001b[0m\u001b[1;36m0\u001b[0m\u001b[39m.,  \u001b[0m\u001b[1;36m0\u001b[0m\u001b[39m.,  \u001b[0m\u001b[1;36m0\u001b[0m\u001b[39m.,  \u001b[0m\u001b[1;36m0\u001b[0m\u001b[39m.,  \u001b[0m\u001b[1;36m0\u001b[0m\u001b[39m.,  \u001b[0m\u001b[1;36m0\u001b[0m\u001b[39m.,  \u001b[0m\u001b[1;36m0\u001b[0m\u001b[39m.,  \u001b[0m\u001b[1;36m0\u001b[0m\u001b[39m.\u001b[0m\u001b[1;39m]\u001b[0m\u001b[1;39m]\u001b[0m\u001b[39m, \u001b[0m\u001b[33mdtype\u001b[0m\u001b[39m=\u001b[0m\u001b[35mfloat32\u001b[0m\u001b[1;39m)\u001b[0m\u001b[1m>\u001b[0m"
      ]
     },
     "execution_count": 178,
     "metadata": {},
     "output_type": "execute_result"
    }
   ],
   "source": [
    "tf.keras.layers.Masking(mask_value=0)(X)"
   ]
  },
  {
   "cell_type": "code",
   "execution_count": 53,
   "id": "0bbf20ba-fe7b-4d91-bbee-8f01b544591d",
   "metadata": {},
   "outputs": [
    {
     "data": {
      "text/html": [
       "<pre style=\"white-space:pre;overflow-x:auto;line-height:normal;font-family:Menlo,'DejaVu Sans Mono',consolas,'Courier New',monospace\"></pre>\n"
      ],
      "text/plain": []
     },
     "metadata": {},
     "output_type": "display_data"
    },
    {
     "data": {
      "text/plain": [
       "\u001b[1m<\u001b[0m\u001b[1;95mmatplotlib.image.AxesImage\u001b[0m\u001b[39m object at \u001b[0m\u001b[1;36m0x7f505c7bab20\u001b[0m\u001b[1m>\u001b[0m"
      ]
     },
     "execution_count": 53,
     "metadata": {},
     "output_type": "execute_result"
    },
    {
     "data": {
      "text/html": [
       "<pre style=\"white-space:pre;overflow-x:auto;line-height:normal;font-family:Menlo,'DejaVu Sans Mono',consolas,'Courier New',monospace\"></pre>\n"
      ],
      "text/plain": []
     },
     "metadata": {},
     "output_type": "display_data"
    },
    {
     "data": {
      "image/png": "[encoded data removed]",
      "text/plain": [
       "\u001b[1m<\u001b[0m\u001b[1;95mFigure\u001b[0m\u001b[39m size 64\u001b[0m\u001b[1;36m0x480\u001b[0m\u001b[39m with \u001b[0m\u001b[1;36m1\u001b[0m\u001b[39m Axes\u001b[0m\u001b[1m>\u001b[0m"
      ]
     },
     "metadata": {},
     "output_type": "display_data"
    }
   ],
   "source": [
    "plt.imshow(embedding_layer(ones))"
   ]
  },
  {
   "cell_type": "code",
   "execution_count": null,
   "id": "f80d9c5e-9247-4416-ad05-87674adad0b3",
   "metadata": {},
   "outputs": [],
   "source": []
  }
 ],
 "metadata": {
  "kernelspec": {
   "display_name": "Kedro (entity_name_matching_dnn)",
   "language": "python",
   "name": "kedro_entity_name_matching_dnn"
  },
  "language_info": {
   "codemirror_mode": {
    "name": "ipython",
    "version": 3
   },
   "file_extension": ".py",
   "mimetype": "text/x-python",
   "name": "python",
   "nbconvert_exporter": "python",
   "pygments_lexer": "ipython3",
   "version": "3.9.5"
  }
 },
 "nbformat": 4,
 "nbformat_minor": 5
}
