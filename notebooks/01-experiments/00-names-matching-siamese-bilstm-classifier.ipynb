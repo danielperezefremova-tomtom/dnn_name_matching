{
 "cells": [
  {
   "cell_type": "code",
   "execution_count": 42,
   "id": "4a689f22",
   "metadata": {},
   "outputs": [],
   "source": [
    "import pandas as pd\n",
    "from pyspark.sql.functions import (col, rand, udf, collect_set, collect_list, concat, array_distinct, flatten, when, length)\n",
    "import pyspark.sql.functions as F\n",
    "from pyspark.sql.types import ArrayType, StringType, FloatType\n",
    "from unidecode import unidecode\n",
    "import re\n",
    "from functools import reduce\n",
    "import numpy as np\n",
    "import tensorflow as tf\n",
    "import keras\n",
    "from keras.models import Sequential\n",
    "from keras.layers import Dense, Dropout, GRU, Bidirectional, GlobalMaxPooling1D, Layer, Masking, Lambda, Permute\n",
    "import os\n",
    "import pickle\n",
    "from keras.layers import Bidirectional\n",
    "import matplotlib.pyplot as plt\n",
    "from sklearn.metrics import classification_report\n",
    "import functools\n"
   ]
  },
  {
   "cell_type": "code",
   "execution_count": 2,
   "id": "40fe30d5",
   "metadata": {},
   "outputs": [],
   "source": [
    "#env: geoNames"
   ]
  },
  {
   "cell_type": "code",
   "execution_count": 240,
   "id": "5d835198",
   "metadata": {},
   "outputs": [
    {
     "name": "stdout",
     "output_type": "stream",
     "text": [
      "(8160, 3)\n",
      "(9235, 3)\n"
     ]
    }
   ],
   "source": [
    "names_data = pd.read_csv('../../data/02_intermediate/names/names.csv')\n",
    "print(names_data.shape)\n",
    "names_data['name_2'] = names_data['name_2'].apply(lambda x: x[:-3] if '(' in x else x)\n",
    "names_data['name_1'] = names_data['name_1'].apply(lambda x: x[:-3] if '(' in x else x)\n",
    "names_data['name_2'] = names_data['name_2'].apply(lambda x: x.split('|'))\n",
    "names_data = names_data.explode('name_2')\n",
    "print(names_data.shape)"
   ]
  },
  {
   "cell_type": "code",
   "execution_count": 242,
   "id": "c9f413a7-818a-45c7-a1de-55aeb1b76dea",
   "metadata": {},
   "outputs": [
    {
     "data": {
      "text/html": [
       "<pre style=\"white-space:pre;overflow-x:auto;line-height:normal;font-family:Menlo,'DejaVu Sans Mono',consolas,'Courier New',monospace\"></pre>\n"
      ],
      "text/plain": []
     },
     "metadata": {},
     "output_type": "display_data"
    },
    {
     "data": {
      "text/html": [
       "<div>\n",
       "<style scoped>\n",
       "    .dataframe tbody tr th:only-of-type {\n",
       "        vertical-align: middle;\n",
       "    }\n",
       "\n",
       "    .dataframe tbody tr th {\n",
       "        vertical-align: top;\n",
       "    }\n",
       "\n",
       "    .dataframe thead th {\n",
       "        text-align: right;\n",
       "    }\n",
       "</style>\n",
       "<table border=\"1\" class=\"dataframe\">\n",
       "  <thead>\n",
       "    <tr style=\"text-align: right;\">\n",
       "      <th></th>\n",
       "      <th>name_1</th>\n",
       "      <th>name_2</th>\n",
       "      <th>target</th>\n",
       "    </tr>\n",
       "  </thead>\n",
       "  <tbody>\n",
       "    <tr>\n",
       "      <th>184</th>\n",
       "      <td>AMERICAN ASSOCIATION FOR THE UNITED NATIONS</td>\n",
       "      <td>SONOMA STATE UNIVERSITY ACADEMIC FOUNDATION INC</td>\n",
       "      <td>0</td>\n",
       "    </tr>\n",
       "    <tr>\n",
       "      <th>2000</th>\n",
       "      <td>LABORERS INTERNATIONAL UNION OF NORTH AMERICA</td>\n",
       "      <td>LABORS INTERNATIONAL UNION OF AMERICA</td>\n",
       "      <td>1</td>\n",
       "    </tr>\n",
       "    <tr>\n",
       "      <th>1281</th>\n",
       "      <td>EAST SLOPE TAXPAYERS ASSOCIATIONCUT BANK</td>\n",
       "      <td>TEXAS BANKERS ASSOCIATION PAC STATE</td>\n",
       "      <td>0</td>\n",
       "    </tr>\n",
       "    <tr>\n",
       "      <th>1684</th>\n",
       "      <td>HMONG AMERICAN PARTNERSHIP</td>\n",
       "      <td>INSURANCE BROKERS AND AGENTS OF BURBANK GLENDA...</td>\n",
       "      <td>0</td>\n",
       "    </tr>\n",
       "    <tr>\n",
       "      <th>4836</th>\n",
       "      <td>Jan Schakowsky</td>\n",
       "      <td>Janice Schakowsky</td>\n",
       "      <td>1</td>\n",
       "    </tr>\n",
       "    <tr>\n",
       "      <th>1995</th>\n",
       "      <td>LABORERS INTERNATIONAL UNION OF NORTH AMERICA</td>\n",
       "      <td>LABORERS INTERNATIONAL UNION OF NORTH AMERICA ...</td>\n",
       "      <td>1</td>\n",
       "    </tr>\n",
       "    <tr>\n",
       "      <th>6885</th>\n",
       "      <td>efficiently</td>\n",
       "      <td>effeciently</td>\n",
       "      <td>1</td>\n",
       "    </tr>\n",
       "    <tr>\n",
       "      <th>3502</th>\n",
       "      <td>STB ENTERPRISES INC</td>\n",
       "      <td>TZ &amp; LS ENTERPRISES INC</td>\n",
       "      <td>0</td>\n",
       "    </tr>\n",
       "    <tr>\n",
       "      <th>4265</th>\n",
       "      <td>G. Peter Zhang</td>\n",
       "      <td>Guoqiang Peter Zhang</td>\n",
       "      <td>1</td>\n",
       "    </tr>\n",
       "    <tr>\n",
       "      <th>6356</th>\n",
       "      <td>natural</td>\n",
       "      <td>naturual</td>\n",
       "      <td>1</td>\n",
       "    </tr>\n",
       "  </tbody>\n",
       "</table>\n",
       "</div>"
      ],
      "text/plain": [
       "\n",
       "                                             name_1  \\\n",
       "\u001b[1;36m184\u001b[0m     AMERICAN ASSOCIATION FOR THE UNITED NATIONS   \n",
       "\u001b[1;36m2000\u001b[0m  LABORERS INTERNATIONAL UNION OF NORTH AMERICA   \n",
       "\u001b[1;36m1281\u001b[0m       EAST SLOPE TAXPAYERS ASSOCIATIONCUT BANK   \n",
       "\u001b[1;36m1684\u001b[0m                     HMONG AMERICAN PARTNERSHIP   \n",
       "\u001b[1;36m4836\u001b[0m                                Jan Schakowsky    \n",
       "\u001b[1;36m1995\u001b[0m  LABORERS INTERNATIONAL UNION OF NORTH AMERICA   \n",
       "\u001b[1;36m6885\u001b[0m                                    efficiently   \n",
       "\u001b[1;36m3502\u001b[0m                            STB ENTERPRISES INC   \n",
       "\u001b[1;36m4265\u001b[0m                                 G. Peter Zhang   \n",
       "\u001b[1;36m6356\u001b[0m                                        natural   \n",
       "\n",
       "                                                 name_2  target  \n",
       "\u001b[1;36m184\u001b[0m     SONOMA STATE UNIVERSITY ACADEMIC FOUNDATION INC       \u001b[1;36m0\u001b[0m  \n",
       "\u001b[1;36m2000\u001b[0m              LABORS INTERNATIONAL UNION OF AMERICA       \u001b[1;36m1\u001b[0m  \n",
       "\u001b[1;36m1281\u001b[0m                TEXAS BANKERS ASSOCIATION PAC STATE       \u001b[1;36m0\u001b[0m  \n",
       "\u001b[1;36m1684\u001b[0m  INSURANCE BROKERS AND AGENTS OF BURBANK GLENDA\u001b[33m...\u001b[0m       \u001b[1;36m0\u001b[0m  \n",
       "\u001b[1;36m4836\u001b[0m                                 Janice Schakowsky        \u001b[1;36m1\u001b[0m  \n",
       "\u001b[1;36m1995\u001b[0m  LABORERS INTERNATIONAL UNION OF NORTH AMERICA \u001b[33m...\u001b[0m       \u001b[1;36m1\u001b[0m  \n",
       "\u001b[1;36m6885\u001b[0m                                        effeciently       \u001b[1;36m1\u001b[0m  \n",
       "\u001b[1;36m3502\u001b[0m                            TZ & LS ENTERPRISES INC       \u001b[1;36m0\u001b[0m  \n",
       "\u001b[1;36m4265\u001b[0m                               Guoqiang Peter Zhang       \u001b[1;36m1\u001b[0m  \n",
       "\u001b[1;36m6356\u001b[0m                                           naturual       \u001b[1;36m1\u001b[0m  "
      ]
     },
     "execution_count": 242,
     "metadata": {},
     "output_type": "execute_result"
    }
   ],
   "source": [
    "names_data.sample(10)"
   ]
  },
  {
   "cell_type": "markdown",
   "id": "0c853998-de01-4ee0-b2dd-88486dd74781",
   "metadata": {},
   "source": [
    "# 2. Function to normalize names"
   ]
  },
  {
   "cell_type": "markdown",
   "id": "4151d55b-eea0-4f85-9eb3-546b6fe96cd8",
   "metadata": {},
   "source": [
    "Requirements:\n",
    "\n",
    "* Transform to unicode characters (utf-8)\n",
    "* remove whitespaces"
   ]
  },
  {
   "cell_type": "code",
   "execution_count": 243,
   "id": "5a80a74d-63b6-4c7c-9aa5-952c4edca331",
   "metadata": {},
   "outputs": [],
   "source": [
    "def normalize_characters(text: str) -> str:\n",
    "    \n",
    "    if text is None:\n",
    "        return ''\n",
    "\n",
    "    strange_char_space = r\"!#$%&()*+,./:;<=>?@[\\]^_{|}~ºª®-\"\n",
    "    char_2_remove = \"\\\"'^`\"\n",
    "    space_mask = \"                                \"\n",
    "    punctuation_table = str.maketrans(strange_char_space, space_mask,\n",
    "                                        char_2_remove)\n",
    "    text = text.lower()\n",
    "    text = text.strip()\n",
    "    text = unidecode(text)\n",
    "    text = text.translate(punctuation_table)\n",
    "    text = re.sub(r' +', ' ', text)\n",
    "    text = text.strip()\n",
    "    text = text.lower()\n",
    "\n",
    "    return text\n",
    "\n",
    "udf_normalize_chars = udf(normalize_characters)"
   ]
  },
  {
   "cell_type": "code",
   "execution_count": 244,
   "id": "6a48c848-5dbf-4a6c-afeb-f9593c95d5d7",
   "metadata": {},
   "outputs": [],
   "source": [
    "names_data['name_1_normalized'] = names_data['name_1'].apply(lambda x: normalize_characters(x))\n",
    "names_data['name_2_normalized'] = names_data['name_2'].apply(lambda x: normalize_characters(x))"
   ]
  },
  {
   "cell_type": "markdown",
   "id": "843e9da3-86ac-4b4f-9e41-c01d83bc8469",
   "metadata": {},
   "source": [
    "# 3. Function to generate vocabulary"
   ]
  },
  {
   "cell_type": "code",
   "execution_count": 245,
   "id": "4879fcf5-a024-4dad-8100-a505fe3c55a9",
   "metadata": {},
   "outputs": [],
   "source": [
    "def get_unique_characters(string: str) -> list:\n",
    "\n",
    "    unique_characters = list(set(string))\n",
    "    return unique_characters\n",
    "\n",
    "udf_get_unique_characters = udf(get_unique_characters, ArrayType(StringType()))\n",
    "\n",
    "\n",
    "def compute_max_word_len(string: str) -> int:\n",
    "    return max([len(word) for word in string.split(' ')])\n",
    "\n",
    "udf_compute_max_word_len = udf(compute_max_word_len)\n",
    "\n",
    "def compute_token_count(string: str) -> int:\n",
    "    return len([word for word in string.split(' ')])\n",
    "\n",
    "udf_compute_token_count = udf(compute_token_count)"
   ]
  },
  {
   "cell_type": "code",
   "execution_count": 246,
   "id": "8579c47b-2115-4acf-b6dd-c08257bf8f23",
   "metadata": {},
   "outputs": [],
   "source": [
    "chars_1 = names_data['name_1_normalized'].apply(lambda x: get_unique_characters(x)).values\n",
    "chars_2 = names_data['name_2_normalized'].apply(lambda x: get_unique_characters(x)).values"
   ]
  },
  {
   "cell_type": "code",
   "execution_count": 247,
   "id": "ab8f18d7-4089-42dc-a886-f50759d78518",
   "metadata": {},
   "outputs": [],
   "source": [
    "chars_1_unique = sorted(functools.reduce(lambda x, y: list(set(x+y)), chars_1))\n",
    "chars_2_unique = sorted(functools.reduce(lambda x, y: list(set(x+y)), chars_2))"
   ]
  },
  {
   "cell_type": "code",
   "execution_count": 248,
   "id": "2c7c39dd-51f2-4c32-83e8-375848c3ae6f",
   "metadata": {},
   "outputs": [],
   "source": [
    "characters_list = list(set(chars_1_unique+chars_2_unique))\n",
    "sorted_char_list = sorted(characters_list)"
   ]
  },
  {
   "cell_type": "code",
   "execution_count": 249,
   "id": "30bf5e0a-42af-4b4b-9698-2adf566a606f",
   "metadata": {},
   "outputs": [
    {
     "data": {
      "text/html": [
       "<pre style=\"white-space:pre;overflow-x:auto;line-height:normal;font-family:Menlo,'DejaVu Sans Mono',consolas,'Courier New',monospace\"></pre>\n"
      ],
      "text/plain": []
     },
     "metadata": {},
     "output_type": "display_data"
    },
    {
     "data": {
      "text/plain": [
       "\n",
       "\u001b[1m[\u001b[0m\n",
       "    \u001b[32m' '\u001b[0m,\n",
       "    \u001b[32m'0'\u001b[0m,\n",
       "    \u001b[32m'1'\u001b[0m,\n",
       "    \u001b[32m'2'\u001b[0m,\n",
       "    \u001b[32m'3'\u001b[0m,\n",
       "    \u001b[32m'4'\u001b[0m,\n",
       "    \u001b[32m'5'\u001b[0m,\n",
       "    \u001b[32m'6'\u001b[0m,\n",
       "    \u001b[32m'7'\u001b[0m,\n",
       "    \u001b[32m'8'\u001b[0m,\n",
       "    \u001b[32m'9'\u001b[0m,\n",
       "    \u001b[32m'a'\u001b[0m,\n",
       "    \u001b[32m'b'\u001b[0m,\n",
       "    \u001b[32m'c'\u001b[0m,\n",
       "    \u001b[32m'd'\u001b[0m,\n",
       "    \u001b[32m'e'\u001b[0m,\n",
       "    \u001b[32m'f'\u001b[0m,\n",
       "    \u001b[32m'g'\u001b[0m,\n",
       "    \u001b[32m'h'\u001b[0m,\n",
       "    \u001b[32m'i'\u001b[0m,\n",
       "    \u001b[32m'j'\u001b[0m,\n",
       "    \u001b[32m'k'\u001b[0m,\n",
       "    \u001b[32m'l'\u001b[0m,\n",
       "    \u001b[32m'm'\u001b[0m,\n",
       "    \u001b[32m'n'\u001b[0m,\n",
       "    \u001b[32m'o'\u001b[0m,\n",
       "    \u001b[32m'p'\u001b[0m,\n",
       "    \u001b[32m'q'\u001b[0m,\n",
       "    \u001b[32m'r'\u001b[0m,\n",
       "    \u001b[32m's'\u001b[0m,\n",
       "    \u001b[32m't'\u001b[0m,\n",
       "    \u001b[32m'u'\u001b[0m,\n",
       "    \u001b[32m'v'\u001b[0m,\n",
       "    \u001b[32m'w'\u001b[0m,\n",
       "    \u001b[32m'x'\u001b[0m,\n",
       "    \u001b[32m'y'\u001b[0m,\n",
       "    \u001b[32m'z'\u001b[0m\n",
       "\u001b[1m]\u001b[0m"
      ]
     },
     "execution_count": 249,
     "metadata": {},
     "output_type": "execute_result"
    }
   ],
   "source": [
    "sorted_char_list"
   ]
  },
  {
   "cell_type": "markdown",
   "id": "b87c9a47-d5dd-419d-a0a3-3e3356a3b8d7",
   "metadata": {},
   "source": [
    "# 4. One Hot encoder"
   ]
  },
  {
   "cell_type": "code",
   "execution_count": 250,
   "id": "6edd9435-5664-4ccf-a1ab-9209d8576c46",
   "metadata": {},
   "outputs": [],
   "source": [
    "char_to_index = {char: index for index, char in enumerate(sorted_char_list)}\n",
    "index_to_char = {index: char for char, index in char_to_index.items()}\n",
    "MAX_WORD_LENGTH = 16\n",
    "MAX_TOKEN_NUMBER = 8\n",
    "MAX_NAME_LEN = 100"
   ]
  },
  {
   "cell_type": "code",
   "execution_count": 251,
   "id": "a2cc8fc2-1c79-4b8d-8528-c9ffdeed5eef",
   "metadata": {},
   "outputs": [
    {
     "data": {
      "text/html": [
       "<pre style=\"white-space:pre;overflow-x:auto;line-height:normal;font-family:Menlo,'DejaVu Sans Mono',consolas,'Courier New',monospace\"></pre>\n"
      ],
      "text/plain": []
     },
     "metadata": {},
     "output_type": "display_data"
    },
    {
     "data": {
      "text/plain": [
       "\n",
       "\u001b[1m{\u001b[0m\n",
       "    \u001b[32m' '\u001b[0m: \u001b[1;36m0\u001b[0m,\n",
       "    \u001b[32m'0'\u001b[0m: \u001b[1;36m1\u001b[0m,\n",
       "    \u001b[32m'1'\u001b[0m: \u001b[1;36m2\u001b[0m,\n",
       "    \u001b[32m'2'\u001b[0m: \u001b[1;36m3\u001b[0m,\n",
       "    \u001b[32m'3'\u001b[0m: \u001b[1;36m4\u001b[0m,\n",
       "    \u001b[32m'4'\u001b[0m: \u001b[1;36m5\u001b[0m,\n",
       "    \u001b[32m'5'\u001b[0m: \u001b[1;36m6\u001b[0m,\n",
       "    \u001b[32m'6'\u001b[0m: \u001b[1;36m7\u001b[0m,\n",
       "    \u001b[32m'7'\u001b[0m: \u001b[1;36m8\u001b[0m,\n",
       "    \u001b[32m'8'\u001b[0m: \u001b[1;36m9\u001b[0m,\n",
       "    \u001b[32m'9'\u001b[0m: \u001b[1;36m10\u001b[0m,\n",
       "    \u001b[32m'a'\u001b[0m: \u001b[1;36m11\u001b[0m,\n",
       "    \u001b[32m'b'\u001b[0m: \u001b[1;36m12\u001b[0m,\n",
       "    \u001b[32m'c'\u001b[0m: \u001b[1;36m13\u001b[0m,\n",
       "    \u001b[32m'd'\u001b[0m: \u001b[1;36m14\u001b[0m,\n",
       "    \u001b[32m'e'\u001b[0m: \u001b[1;36m15\u001b[0m,\n",
       "    \u001b[32m'f'\u001b[0m: \u001b[1;36m16\u001b[0m,\n",
       "    \u001b[32m'g'\u001b[0m: \u001b[1;36m17\u001b[0m,\n",
       "    \u001b[32m'h'\u001b[0m: \u001b[1;36m18\u001b[0m,\n",
       "    \u001b[32m'i'\u001b[0m: \u001b[1;36m19\u001b[0m,\n",
       "    \u001b[32m'j'\u001b[0m: \u001b[1;36m20\u001b[0m,\n",
       "    \u001b[32m'k'\u001b[0m: \u001b[1;36m21\u001b[0m,\n",
       "    \u001b[32m'l'\u001b[0m: \u001b[1;36m22\u001b[0m,\n",
       "    \u001b[32m'm'\u001b[0m: \u001b[1;36m23\u001b[0m,\n",
       "    \u001b[32m'n'\u001b[0m: \u001b[1;36m24\u001b[0m,\n",
       "    \u001b[32m'o'\u001b[0m: \u001b[1;36m25\u001b[0m,\n",
       "    \u001b[32m'p'\u001b[0m: \u001b[1;36m26\u001b[0m,\n",
       "    \u001b[32m'q'\u001b[0m: \u001b[1;36m27\u001b[0m,\n",
       "    \u001b[32m'r'\u001b[0m: \u001b[1;36m28\u001b[0m,\n",
       "    \u001b[32m's'\u001b[0m: \u001b[1;36m29\u001b[0m,\n",
       "    \u001b[32m't'\u001b[0m: \u001b[1;36m30\u001b[0m,\n",
       "    \u001b[32m'u'\u001b[0m: \u001b[1;36m31\u001b[0m,\n",
       "    \u001b[32m'v'\u001b[0m: \u001b[1;36m32\u001b[0m,\n",
       "    \u001b[32m'w'\u001b[0m: \u001b[1;36m33\u001b[0m,\n",
       "    \u001b[32m'x'\u001b[0m: \u001b[1;36m34\u001b[0m,\n",
       "    \u001b[32m'y'\u001b[0m: \u001b[1;36m35\u001b[0m,\n",
       "    \u001b[32m'z'\u001b[0m: \u001b[1;36m36\u001b[0m\n",
       "\u001b[1m}\u001b[0m"
      ]
     },
     "execution_count": 251,
     "metadata": {},
     "output_type": "execute_result"
    }
   ],
   "source": [
    "char_to_index"
   ]
  },
  {
   "cell_type": "code",
   "execution_count": 252,
   "id": "4be74622-e88c-44b9-b0b5-95e09b52251c",
   "metadata": {},
   "outputs": [],
   "source": [
    "def one_hot_encoder(string: str, char_to_index_dict: dict) -> np.array:\n",
    "\n",
    "    vocabulary_size = len(char_to_index_dict.keys())\n",
    "    vector = np.zeros(vocabulary_size)\n",
    "    for char in string:\n",
    "        vector[char_to_index[char]-1] = 1 \n",
    "    return vector\n",
    "\n",
    "def encode_name_list(iterable: iter, char_to_index_dict: dict) -> np.array:\n",
    "\n",
    "    return np.array([one_hot_encoder(string, char_to_index_dict) for string in iterable])\n",
    "\n",
    "def check_chars_OOV(string: str, char_to_index_dict: dict) -> bool:\n",
    "\n",
    "    vocabulary = char_to_index_dict.keys()\n",
    "    return all([char in vocabulary for char in string])\n",
    "\n",
    "def name_matrix_encoder(string: iter, char_to_index_dict: dict, max_word_length:int, max_token_number:int) -> np.array :\n",
    "\n",
    "    representation_matrix = np.zeros(shape=(max_token_number, max_word_length))\n",
    "    for token_ind, token in enumerate(string.split(' ')):\n",
    "        for char_ind, char in enumerate(token):\n",
    "            try:\n",
    "                representation_matrix[token_ind][char_ind] = char_to_index[char]\n",
    "            except IndexError:\n",
    "                continue\n",
    "    return representation_matrix\n",
    "\n",
    "def sparse_encoder(string: str, char_to_index_dict: dict, max_len: int) -> np.array:\n",
    "\n",
    "    vector = np.zeros(max_len)\n",
    "    for ind, char in enumerate(string):\n",
    "        if ind>=max_len:\n",
    "            break\n",
    "        vector[ind] = char_to_index[char]\n",
    "    return vector\n",
    "\n",
    "def encode_sparsed_list(iterable: iter, char_to_index_dict: dict, max_len: int) -> np.array:\n",
    "    \n",
    "    return np.array([sparse_encoder(string, char_to_index_dict, max_len) for string in iterable])"
   ]
  },
  {
   "cell_type": "code",
   "execution_count": null,
   "id": "a23c63b4-4440-4296-a43c-a6770da60f4e",
   "metadata": {},
   "outputs": [],
   "source": []
  },
  {
   "cell_type": "code",
   "execution_count": 253,
   "id": "68ed74c0-dda4-40bf-9f43-c8c11d2a38c8",
   "metadata": {},
   "outputs": [],
   "source": [
    "names_encoded_1 = np.array([name_matrix_encoder(name,\n",
    "                                                char_to_index_dict=char_to_index,\n",
    "                                                max_word_length=MAX_WORD_LENGTH,\n",
    "                                                max_token_number=MAX_TOKEN_NUMBER\n",
    "                                               ) for name in name_pairs[:, 0]], dtype=object)\n",
    "\n",
    "names_encoded_2 = np.array([name_matrix_encoder(name,\n",
    "                                                char_to_index_dict=char_to_index,\n",
    "                                                max_word_length=MAX_WORD_LENGTH,\n",
    "                                                max_token_number=MAX_TOKEN_NUMBER\n",
    "                                               ) for name in name_pairs[:, 1]], dtype=object)"
   ]
  },
  {
   "cell_type": "code",
   "execution_count": 254,
   "id": "61f43e99-57bb-4059-b768-3927cc9559d6",
   "metadata": {},
   "outputs": [],
   "source": [
    "string1, string2 = 'dpe', 'daniel perez efremova'\n",
    "strig1_matrix = name_matrix_encoder(string1, \n",
    "                                    char_to_index_dict=char_to_index,\n",
    "                                    max_word_length=MAX_WORD_LENGTH,\n",
    "                                    max_token_number=MAX_TOKEN_NUMBER)\n",
    "strig2_matrix = name_matrix_encoder(string2, \n",
    "                                    char_to_index_dict=char_to_index,\n",
    "                                    max_word_length=MAX_WORD_LENGTH,\n",
    "                                    max_token_number=MAX_TOKEN_NUMBER)"
   ]
  },
  {
   "cell_type": "code",
   "execution_count": 255,
   "id": "3ce3ab25-94ef-4bd9-b68a-71d850a15702",
   "metadata": {},
   "outputs": [],
   "source": [
    "def show_field(field1,field2):\n",
    "\n",
    "    combined_data = np.array([field1,field2])\n",
    "    #Get the min and max of all your data\n",
    "    _min, _max = np.amin(combined_data), np.amax(combined_data)\n",
    "\n",
    "    fig = plt.figure(figsize=(15,15))\n",
    "    ax = fig.add_subplot(1, 2, 1)\n",
    "    #Add the vmin and vmax arguments to set the color scale\n",
    "    ax.imshow(field1,cmap=plt.cm.hot, vmin = _min, vmax = _max)\n",
    "    ax.autoscale(False)\n",
    "    ax2 = fig.add_subplot(1, 2, 2)\n",
    "    #Add the vmin and vmax arguments to set the color scale\n",
    "    ax2.imshow(field2,cmap=plt.cm.hot, vmin = _min, vmax = _max)\n",
    "    ax2.autoscale(False)\n",
    "    plt.show()"
   ]
  },
  {
   "cell_type": "code",
   "execution_count": 256,
   "id": "afe90da8-ed58-41db-87f8-16ae57f8c535",
   "metadata": {},
   "outputs": [
    {
     "data": {
      "text/html": [
       "<pre style=\"white-space:pre;overflow-x:auto;line-height:normal;font-family:Menlo,'DejaVu Sans Mono',consolas,'Courier New',monospace\"></pre>\n"
      ],
      "text/plain": []
     },
     "metadata": {},
     "output_type": "display_data"
    },
    {
     "data": {
      "image/png": "[encoded data removed]",
      "text/plain": [
       "\u001b[1m<\u001b[0m\u001b[1;95mFigure\u001b[0m\u001b[39m size 150\u001b[0m\u001b[1;36m0x1500\u001b[0m\u001b[39m with \u001b[0m\u001b[1;36m2\u001b[0m\u001b[39m Axes\u001b[0m\u001b[1m>\u001b[0m"
      ]
     },
     "metadata": {},
     "output_type": "display_data"
    }
   ],
   "source": [
    "show_field(strig1_matrix, strig2_matrix)"
   ]
  },
  {
   "cell_type": "markdown",
   "id": "b89dccf8-9450-4712-9af0-50cdb41f0e26",
   "metadata": {},
   "source": [
    "# 5.1. Create a model class for char2vec embedding (One hot encoder - Siamese LSTM - Cosine similarity)"
   ]
  },
  {
   "cell_type": "code",
   "execution_count": 257,
   "id": "03ef1167-5181-44e8-9b95-30ac5a746557",
   "metadata": {},
   "outputs": [],
   "source": [
    "class poiNames_C2V:\n",
    "    \n",
    "    def __init__(self, embedding_size:int, char_to_index:dict):\n",
    "\n",
    "        self.char_to_index = char_to_index\n",
    "        self.index_to_char = {char_to_index[char]: char for char in char_to_index}\n",
    "        self.input_size = MAX_NAME_LEN\n",
    "        self.embedding_size = embedding_size\n",
    "\n",
    "        lstm_input = tf.keras.layers.Input(shape=(self.input_size, 1,), name='lstm_input')\n",
    "        x = tf.keras.layers.Masking(mask_value=0)(lstm_input)\n",
    "        x = Bidirectional(tf.keras.layers.LSTM(self.embedding_size, return_sequences=True, name='lstm_1'))(x)\n",
    "        x = Bidirectional(tf.keras.layers.LSTM(self.embedding_size, name='lstm_2'))(x)\n",
    "        self.embedding_model = tf.keras.models.Model(inputs=[lstm_input], outputs=x)\n",
    "\n",
    "        left_branch_input = tf.keras.layers.Input(shape=(self.input_size, 1), name='left_branch_input')\n",
    "        right_branch_input = tf.keras.layers.Input(shape=(self.input_size, 1),name='right_branch_input')\n",
    "\n",
    "        left_branch_embedding = self.embedding_model(left_branch_input)\n",
    "        right_branch_embedding = self.embedding_model(right_branch_input)\n",
    "\n",
    "        concat_layer = tf.keras.layers.Concatenate(axis=1)([left_branch_embedding, right_branch_embedding])\n",
    "        product_layer = tf.keras.layers.Multiply()([left_branch_embedding, right_branch_embedding])\n",
    "        difference_layer = tf.keras.layers.Subtract()([left_branch_embedding, right_branch_embedding])\n",
    "        representation_layer = tf.keras.layers.Concatenate(axis=1)([concat_layer, product_layer, difference_layer])\n",
    "\n",
    "        x = tf.keras.layers.Dropout(0.3)(representation_layer)\n",
    "        x = tf.keras.layers.Dense(128, activation='relu')(x)\n",
    "        x = tf.keras.layers.Dense(64, activation='relu')(x)\n",
    "        model_output = tf.keras.layers.Dense(1, activation='sigmoid')(x)\n",
    "                \n",
    "        # x = tf.keras.layers.Dot(axes=1, normalize=True)([left_branch_embedding, right_branch_embedding]) # cosine similarity\n",
    "        # model_output = tf.keras.layers.Dense(1, activation='sigmoid')(x)\n",
    "        \n",
    "        self.model = tf.keras.models.Model(inputs=[left_branch_input, right_branch_input], outputs=model_output)\n",
    "        self.model.compile(loss='binary_crossentropy', optimizer='adam', metrics=['accuracy',\n",
    "                                                              tf.keras.metrics.Precision(),\n",
    "                                                              tf.keras.metrics.Recall()])\n",
    "        \n",
    "    def fit(\n",
    "        self, name_pairs, target, max_epochs:int, patience:int, validation_split:float, batch_size:int, callbacks: iter):\n",
    "\n",
    "        print(f'Encoding names... ({2*len(name_pairs)})')\n",
    "        # X1 = encode_name_list(name_pairs[:, 0],char_to_index_dict=self.char_to_index)\n",
    "        # X2 = encode_name_list(name_pairs[:, 1], char_to_index_dict=self.char_to_index)\n",
    "\n",
    "        X1 = encode_sparsed_list(name_pairs[:, 0],char_to_index_dict=self.char_to_index, max_len=MAX_NAME_LEN)\n",
    "        X2 = encode_sparsed_list(name_pairs[:, 1], char_to_index_dict=self.char_to_index, max_len=MAX_NAME_LEN)\n",
    "        \n",
    "        X1 = np.expand_dims(X1, axis=-1)\n",
    "        X2 = np.expand_dims(X2, axis=-1)\n",
    "        \n",
    "        X1_pad = tf.keras.preprocessing.sequence.pad_sequences(X1)\n",
    "        X2_pad = tf.keras.preprocessing.sequence.pad_sequences(X2)\n",
    "        \n",
    "        self.model.fit((X1_pad, X2_pad), target,verbose=1,\n",
    "                    batch_size=batch_size, epochs=max_epochs,\n",
    "                    validation_split=validation_split,\n",
    "                    callbacks=[tf.keras.callbacks.EarlyStopping(monitor='val_loss', patience=patience)] + callbacks)\n",
    "\n",
    "\n",
    "    def save_model(self, path_to_model):\n",
    "        '''\n",
    "        Saves trained model to directory.\n",
    "    \n",
    "        :param path_to_model: str, path to save model.\n",
    "        '''\n",
    "    \n",
    "        if not os.path.exists(path_to_model):\n",
    "            os.makedirs(path_to_model)\n",
    "        \n",
    "        self.embedding_model.save_weights(path_to_model + '/weights.h5')\n",
    "    \n",
    "        with open(path_to_model + '/model.pkl', 'wb') as f:\n",
    "            pickle.dump([self.embedding_size, self.char_to_index], f, protocol=2)\n",
    "\n",
    "\n",
    "    def load_model(self, path):\n",
    "        '''\n",
    "        Loads trained model.\n",
    "    \n",
    "        :param path: loads model from `path`.\n",
    "    \n",
    "        :return c2v_model: Chars2Vec object, trained model.\n",
    "        '''\n",
    "        path_to_model = path\n",
    "    \n",
    "        with open(path_to_model + '/model.pkl', 'rb') as f:\n",
    "            structure = pickle.load(f)\n",
    "            embedding_size, char_to_index = structure[0], structure[1]\n",
    "    \n",
    "        model = poiNames_C2V(embedding_size=embedding_size, char_to_index=char_to_index)\n",
    "        model.embedding_model.load_weights(path_to_model + '/weights.h5')\n",
    "        model.embedding_model.compile(optimizer='adam', loss='mae')\n",
    "    \n",
    "        return model\n",
    "\n",
    "\n",
    "    def vectorize(self, iterable: iter) -> np.array:\n",
    "        \n",
    "        X = encode_name_list(iterable,char_to_index_dict=self.char_to_index)\n",
    "        X = np.expand_dims(X, axis=-1)\n",
    "        X_pad = tf.keras.preprocessing.sequence.pad_sequences(X)\n",
    "\n",
    "        return X_pad, self.embedding_model(X_pad)\n",
    "        "
   ]
  },
  {
   "cell_type": "code",
   "execution_count": null,
   "id": "50e1b416-74ac-4325-846b-db1e08ac69e9",
   "metadata": {},
   "outputs": [],
   "source": []
  },
  {
   "cell_type": "markdown",
   "id": "4c665c4c-96ae-41fb-a6b5-47ab07a472d5",
   "metadata": {},
   "source": [
    "## Data Preparation"
   ]
  },
  {
   "cell_type": "code",
   "execution_count": 259,
   "id": "218631cf-b5e2-4099-8451-6a809002d04f",
   "metadata": {},
   "outputs": [],
   "source": [
    "name_pairs = names_data[['name_1_normalized', 'name_2_normalized']].values"
   ]
  },
  {
   "cell_type": "code",
   "execution_count": 260,
   "id": "a8d0f43e-9ed2-4c23-afc8-58a30bd7517e",
   "metadata": {},
   "outputs": [],
   "source": [
    "target = names_data['target'].astype(float).values"
   ]
  },
  {
   "cell_type": "code",
   "execution_count": 261,
   "id": "b4ef5de4-4b8f-4ad5-acf9-ba1b4a01ca90",
   "metadata": {},
   "outputs": [
    {
     "data": {
      "text/html": [
       "<pre style=\"white-space:pre;overflow-x:auto;line-height:normal;font-family:Menlo,'DejaVu Sans Mono',consolas,'Courier New',monospace\"></pre>\n"
      ],
      "text/plain": []
     },
     "metadata": {},
     "output_type": "display_data"
    },
    {
     "data": {
      "text/plain": [
       "\u001b[1m(\u001b[0m\u001b[1;36m8311\u001b[0m, \u001b[1;36m924\u001b[0m\u001b[1m)\u001b[0m"
      ]
     },
     "execution_count": 261,
     "metadata": {},
     "output_type": "execute_result"
    }
   ],
   "source": [
    "from sklearn.model_selection import train_test_split\n",
    "X_train, X_test, y_train, y_test = train_test_split(name_pairs, target, test_size=0.1, random_state=0)\n",
    "\n",
    "len(X_train), len(X_test)"
   ]
  },
  {
   "cell_type": "code",
   "execution_count": 262,
   "id": "db92441d-9144-4ffa-b704-aaa9698c00cb",
   "metadata": {},
   "outputs": [],
   "source": [
    "poi_c2v = poiNames_C2V(150, char_to_index)"
   ]
  },
  {
   "cell_type": "code",
   "execution_count": 263,
   "id": "034097da-7624-4c3d-baad-2f49e46872b5",
   "metadata": {},
   "outputs": [
    {
     "name": "stdout",
     "output_type": "stream",
     "text": [
      "Encoding names... (16622)\n",
      "Epoch 1/10000\n",
      "52/52 [==============================] - 61s 851ms/step - loss: 0.5151 - accuracy: 0.7676 - precision_3: 0.7835 - recall_3: 0.8302 - val_loss: 0.4629 - val_accuracy: 0.8118 - val_precision_3: 0.7962 - val_recall_3: 0.9090\n",
      "Epoch 2/10000\n",
      "52/52 [==============================] - 38s 730ms/step - loss: 0.4487 - accuracy: 0.8081 - precision_3: 0.8233 - recall_3: 0.8535 - val_loss: 0.3913 - val_accuracy: 0.8485 - val_precision_3: 0.8759 - val_recall_3: 0.8614\n",
      "Epoch 3/10000\n",
      "52/52 [==============================] - 37s 714ms/step - loss: 0.4225 - accuracy: 0.8258 - precision_3: 0.8447 - recall_3: 0.8587 - val_loss: 0.3833 - val_accuracy: 0.8539 - val_precision_3: 0.8843 - val_recall_3: 0.8614\n",
      "Epoch 4/10000\n",
      "52/52 [==============================] - 38s 725ms/step - loss: 0.4099 - accuracy: 0.8321 - precision_3: 0.8476 - recall_3: 0.8677 - val_loss: 0.3842 - val_accuracy: 0.8569 - val_precision_3: 0.8949 - val_recall_3: 0.8542\n",
      "Epoch 5/10000\n",
      "52/52 [==============================] - 38s 724ms/step - loss: 0.3997 - accuracy: 0.8347 - precision_3: 0.8525 - recall_3: 0.8659 - val_loss: 0.3735 - val_accuracy: 0.8593 - val_precision_3: 0.8640 - val_recall_3: 0.8997\n",
      "Epoch 6/10000\n",
      "52/52 [==============================] - 38s 727ms/step - loss: 0.3951 - accuracy: 0.8387 - precision_3: 0.8542 - recall_3: 0.8718 - val_loss: 0.3604 - val_accuracy: 0.8587 - val_precision_3: 0.9049 - val_recall_3: 0.8459\n",
      "Epoch 7/10000\n",
      "52/52 [==============================] - 38s 736ms/step - loss: 0.3673 - accuracy: 0.8499 - precision_3: 0.8724 - recall_3: 0.8693 - val_loss: 0.3549 - val_accuracy: 0.8587 - val_precision_3: 0.8697 - val_recall_3: 0.8904\n",
      "Epoch 8/10000\n",
      "52/52 [==============================] - 39s 750ms/step - loss: 0.3431 - accuracy: 0.8586 - precision_3: 0.8803 - recall_3: 0.8762 - val_loss: 0.3366 - val_accuracy: 0.8455 - val_precision_3: 0.8343 - val_recall_3: 0.9162\n",
      "Epoch 9/10000\n",
      "52/52 [==============================] - 37s 718ms/step - loss: 0.3032 - accuracy: 0.8745 - precision_3: 0.8943 - recall_3: 0.8897 - val_loss: 0.2838 - val_accuracy: 0.8870 - val_precision_3: 0.9062 - val_recall_3: 0.8987\n",
      "Epoch 10/10000\n",
      "52/52 [==============================] - 38s 725ms/step - loss: 0.2613 - accuracy: 0.8900 - precision_3: 0.9169 - recall_3: 0.8920 - val_loss: 0.2382 - val_accuracy: 0.9020 - val_precision_3: 0.9205 - val_recall_3: 0.9100\n",
      "Epoch 11/10000\n",
      "52/52 [==============================] - 39s 744ms/step - loss: 0.2274 - accuracy: 0.9057 - precision_3: 0.9293 - recall_3: 0.9070 - val_loss: 0.2236 - val_accuracy: 0.9068 - val_precision_3: 0.9356 - val_recall_3: 0.9018\n",
      "Epoch 12/10000\n",
      "52/52 [==============================] - 37s 713ms/step - loss: 0.2098 - accuracy: 0.9141 - precision_3: 0.9308 - recall_3: 0.9209 - val_loss: 0.2083 - val_accuracy: 0.9146 - val_precision_3: 0.9257 - val_recall_3: 0.9276\n",
      "Epoch 13/10000\n",
      "52/52 [==============================] - 37s 714ms/step - loss: 0.1916 - accuracy: 0.9225 - precision_3: 0.9404 - recall_3: 0.9256 - val_loss: 0.2025 - val_accuracy: 0.9176 - val_precision_3: 0.9305 - val_recall_3: 0.9276\n",
      "Epoch 14/10000\n",
      "52/52 [==============================] - 39s 752ms/step - loss: 0.1761 - accuracy: 0.9252 - precision_3: 0.9411 - recall_3: 0.9297 - val_loss: 0.1901 - val_accuracy: 0.9224 - val_precision_3: 0.9505 - val_recall_3: 0.9142\n",
      "Epoch 15/10000\n",
      "52/52 [==============================] - 37s 720ms/step - loss: 0.1668 - accuracy: 0.9325 - precision_3: 0.9451 - recall_3: 0.9385 - val_loss: 0.1849 - val_accuracy: 0.9248 - val_precision_3: 0.9395 - val_recall_3: 0.9307\n",
      "Epoch 16/10000\n",
      "52/52 [==============================] - 37s 721ms/step - loss: 0.1535 - accuracy: 0.9395 - precision_3: 0.9532 - recall_3: 0.9424 - val_loss: 0.1894 - val_accuracy: 0.9230 - val_precision_3: 0.9393 - val_recall_3: 0.9276\n",
      "Epoch 17/10000\n",
      "52/52 [==============================] - 39s 747ms/step - loss: 0.1405 - accuracy: 0.9463 - precision_3: 0.9573 - recall_3: 0.9501 - val_loss: 0.1909 - val_accuracy: 0.9242 - val_precision_3: 0.9218 - val_recall_3: 0.9504\n",
      "Epoch 18/10000\n",
      " 7/52 [===>..........................] - ETA: 30s - loss: 0.1222 - accuracy: 0.9576 - precision_3: 0.9648 - recall_3: 0.9648"
     ]
    },
    {
     "data": {
      "text/html": [
       "<pre style=\"white-space:pre;overflow-x:auto;line-height:normal;font-family:Menlo,'DejaVu Sans Mono',consolas,'Courier New',monospace\"><span style=\"color: #800000; text-decoration-color: #800000\">╭─────────────────────────────── </span><span style=\"color: #800000; text-decoration-color: #800000; font-weight: bold\">Traceback </span><span style=\"color: #bf7f7f; text-decoration-color: #bf7f7f; font-weight: bold\">(most recent call last)</span><span style=\"color: #800000; text-decoration-color: #800000\"> ────────────────────────────────╮</span>\n",
       "<span style=\"color: #800000; text-decoration-color: #800000\">│</span> in <span style=\"color: #00ff00; text-decoration-color: #00ff00\">&lt;cell line: 4&gt;</span>:<span style=\"color: #0000ff; text-decoration-color: #0000ff\">4</span>                                                                              <span style=\"color: #800000; text-decoration-color: #800000\">│</span>\n",
       "<span style=\"color: #800000; text-decoration-color: #800000\">│</span>                                                                                                  <span style=\"color: #800000; text-decoration-color: #800000\">│</span>\n",
       "<span style=\"color: #800000; text-decoration-color: #800000\">│</span>   <span style=\"color: #7f7f7f; text-decoration-color: #7f7f7f\"> 1 </span><span style=\"color: #0000ff; text-decoration-color: #0000ff\">from</span> <span style=\"color: #00ffff; text-decoration-color: #00ffff; text-decoration: underline\">keras.callbacks</span> <span style=\"color: #0000ff; text-decoration-color: #0000ff\">import</span> History                                                         <span style=\"color: #800000; text-decoration-color: #800000\">│</span>\n",
       "<span style=\"color: #800000; text-decoration-color: #800000\">│</span>   <span style=\"color: #7f7f7f; text-decoration-color: #7f7f7f\"> 2 </span>history = History()                                                                         <span style=\"color: #800000; text-decoration-color: #800000\">│</span>\n",
       "<span style=\"color: #800000; text-decoration-color: #800000\">│</span>   <span style=\"color: #7f7f7f; text-decoration-color: #7f7f7f\"> 3 </span>                                                                                            <span style=\"color: #800000; text-decoration-color: #800000\">│</span>\n",
       "<span style=\"color: #800000; text-decoration-color: #800000\">│</span> <span style=\"color: #800000; text-decoration-color: #800000\">❱ </span> 4 poi_c2v.fit(                                                                                <span style=\"color: #800000; text-decoration-color: #800000\">│</span>\n",
       "<span style=\"color: #800000; text-decoration-color: #800000\">│</span>   <span style=\"color: #7f7f7f; text-decoration-color: #7f7f7f\"> 5 </span><span style=\"color: #7f7f7f; text-decoration-color: #7f7f7f\">│   </span>name_pairs=X_train,                                                                     <span style=\"color: #800000; text-decoration-color: #800000\">│</span>\n",
       "<span style=\"color: #800000; text-decoration-color: #800000\">│</span>   <span style=\"color: #7f7f7f; text-decoration-color: #7f7f7f\"> 6 </span><span style=\"color: #7f7f7f; text-decoration-color: #7f7f7f\">│   </span>target=y_train,                                                                         <span style=\"color: #800000; text-decoration-color: #800000\">│</span>\n",
       "<span style=\"color: #800000; text-decoration-color: #800000\">│</span>   <span style=\"color: #7f7f7f; text-decoration-color: #7f7f7f\"> 7 </span><span style=\"color: #7f7f7f; text-decoration-color: #7f7f7f\">│   </span>validation_split=<span style=\"color: #0000ff; text-decoration-color: #0000ff\">0.2</span>,                                                                   <span style=\"color: #800000; text-decoration-color: #800000\">│</span>\n",
       "<span style=\"color: #800000; text-decoration-color: #800000\">│</span>                                                                                                  <span style=\"color: #800000; text-decoration-color: #800000\">│</span>\n",
       "<span style=\"color: #800000; text-decoration-color: #800000\">│</span> in <span style=\"color: #00ff00; text-decoration-color: #00ff00\">fit</span>:<span style=\"color: #0000ff; text-decoration-color: #0000ff\">56</span>                                                                                        <span style=\"color: #800000; text-decoration-color: #800000\">│</span>\n",
       "<span style=\"color: #800000; text-decoration-color: #800000\">│</span>                                                                                                  <span style=\"color: #800000; text-decoration-color: #800000\">│</span>\n",
       "<span style=\"color: #800000; text-decoration-color: #800000\">│</span>   <span style=\"color: #7f7f7f; text-decoration-color: #7f7f7f\"> 53 </span><span style=\"color: #7f7f7f; text-decoration-color: #7f7f7f\">│   │   </span>X1_pad = tf.keras.preprocessing.sequence.pad_sequences(X1)                         <span style=\"color: #800000; text-decoration-color: #800000\">│</span>\n",
       "<span style=\"color: #800000; text-decoration-color: #800000\">│</span>   <span style=\"color: #7f7f7f; text-decoration-color: #7f7f7f\"> 54 </span><span style=\"color: #7f7f7f; text-decoration-color: #7f7f7f\">│   │   </span>X2_pad = tf.keras.preprocessing.sequence.pad_sequences(X2)                         <span style=\"color: #800000; text-decoration-color: #800000\">│</span>\n",
       "<span style=\"color: #800000; text-decoration-color: #800000\">│</span>   <span style=\"color: #7f7f7f; text-decoration-color: #7f7f7f\"> 55 </span><span style=\"color: #7f7f7f; text-decoration-color: #7f7f7f\">│   │   </span>                                                                                   <span style=\"color: #800000; text-decoration-color: #800000\">│</span>\n",
       "<span style=\"color: #800000; text-decoration-color: #800000\">│</span> <span style=\"color: #800000; text-decoration-color: #800000\">❱ </span> 56 <span style=\"color: #7f7f7f; text-decoration-color: #7f7f7f\">│   │   </span><span style=\"color: #00ffff; text-decoration-color: #00ffff\">self</span>.model.fit((X1_pad, X2_pad), target,verbose=<span style=\"color: #0000ff; text-decoration-color: #0000ff\">1</span>,                                 <span style=\"color: #800000; text-decoration-color: #800000\">│</span>\n",
       "<span style=\"color: #800000; text-decoration-color: #800000\">│</span>   <span style=\"color: #7f7f7f; text-decoration-color: #7f7f7f\"> 57 </span><span style=\"color: #7f7f7f; text-decoration-color: #7f7f7f\">│   │   │   │   │   </span>batch_size=batch_size, epochs=max_epochs,                              <span style=\"color: #800000; text-decoration-color: #800000\">│</span>\n",
       "<span style=\"color: #800000; text-decoration-color: #800000\">│</span>   <span style=\"color: #7f7f7f; text-decoration-color: #7f7f7f\"> 58 </span><span style=\"color: #7f7f7f; text-decoration-color: #7f7f7f\">│   │   │   │   │   </span>validation_split=validation_split,                                     <span style=\"color: #800000; text-decoration-color: #800000\">│</span>\n",
       "<span style=\"color: #800000; text-decoration-color: #800000\">│</span>   <span style=\"color: #7f7f7f; text-decoration-color: #7f7f7f\"> 59 </span><span style=\"color: #7f7f7f; text-decoration-color: #7f7f7f\">│   │   │   │   │   </span>callbacks=[tf.keras.callbacks.EarlyStopping(monitor=<span style=\"color: #808000; text-decoration-color: #808000\">'val_loss'</span>, pati   <span style=\"color: #800000; text-decoration-color: #800000\">│</span>\n",
       "<span style=\"color: #800000; text-decoration-color: #800000\">│</span>                                                                                                  <span style=\"color: #800000; text-decoration-color: #800000\">│</span>\n",
       "<span style=\"color: #800000; text-decoration-color: #800000\">│</span> <span style=\"color: #bfbf7f; text-decoration-color: #bfbf7f\">/usr/local/lib/python3.9/dist-packages/keras/utils/</span><span style=\"color: #808000; text-decoration-color: #808000; font-weight: bold\">traceback_utils.py</span>:<span style=\"color: #0000ff; text-decoration-color: #0000ff\">65</span> in <span style=\"color: #00ff00; text-decoration-color: #00ff00\">error_handler</span>        <span style=\"color: #800000; text-decoration-color: #800000\">│</span>\n",
       "<span style=\"color: #800000; text-decoration-color: #800000\">│</span>                                                                                                  <span style=\"color: #800000; text-decoration-color: #800000\">│</span>\n",
       "<span style=\"color: #800000; text-decoration-color: #800000\">│</span>   <span style=\"color: #7f7f7f; text-decoration-color: #7f7f7f\"> 62 </span><span style=\"color: #7f7f7f; text-decoration-color: #7f7f7f\">│   │   </span>                                                                                   <span style=\"color: #800000; text-decoration-color: #800000\">│</span>\n",
       "<span style=\"color: #800000; text-decoration-color: #800000\">│</span>   <span style=\"color: #7f7f7f; text-decoration-color: #7f7f7f\"> 63 </span><span style=\"color: #7f7f7f; text-decoration-color: #7f7f7f\">│   │   </span>filtered_tb = <span style=\"color: #0000ff; text-decoration-color: #0000ff\">None</span>                                                                 <span style=\"color: #800000; text-decoration-color: #800000\">│</span>\n",
       "<span style=\"color: #800000; text-decoration-color: #800000\">│</span>   <span style=\"color: #7f7f7f; text-decoration-color: #7f7f7f\"> 64 </span><span style=\"color: #7f7f7f; text-decoration-color: #7f7f7f\">│   │   </span><span style=\"color: #0000ff; text-decoration-color: #0000ff\">try</span>:                                                                               <span style=\"color: #800000; text-decoration-color: #800000\">│</span>\n",
       "<span style=\"color: #800000; text-decoration-color: #800000\">│</span> <span style=\"color: #800000; text-decoration-color: #800000\">❱ </span> 65 <span style=\"color: #7f7f7f; text-decoration-color: #7f7f7f\">│   │   │   </span><span style=\"color: #0000ff; text-decoration-color: #0000ff\">return</span> fn(*args, **kwargs)                                                     <span style=\"color: #800000; text-decoration-color: #800000\">│</span>\n",
       "<span style=\"color: #800000; text-decoration-color: #800000\">│</span>   <span style=\"color: #7f7f7f; text-decoration-color: #7f7f7f\"> 66 </span><span style=\"color: #7f7f7f; text-decoration-color: #7f7f7f\">│   │   </span><span style=\"color: #0000ff; text-decoration-color: #0000ff\">except</span> <span style=\"color: #00ffff; text-decoration-color: #00ffff\">Exception</span> <span style=\"color: #0000ff; text-decoration-color: #0000ff\">as</span> e:                                                             <span style=\"color: #800000; text-decoration-color: #800000\">│</span>\n",
       "<span style=\"color: #800000; text-decoration-color: #800000\">│</span>   <span style=\"color: #7f7f7f; text-decoration-color: #7f7f7f\"> 67 </span><span style=\"color: #7f7f7f; text-decoration-color: #7f7f7f\">│   │   │   </span>filtered_tb = _process_traceback_frames(e.__traceback__)                       <span style=\"color: #800000; text-decoration-color: #800000\">│</span>\n",
       "<span style=\"color: #800000; text-decoration-color: #800000\">│</span>   <span style=\"color: #7f7f7f; text-decoration-color: #7f7f7f\"> 68 </span><span style=\"color: #7f7f7f; text-decoration-color: #7f7f7f\">│   │   │   </span><span style=\"color: #7f7f7f; text-decoration-color: #7f7f7f\"># To get the full stack trace, call:</span>                                           <span style=\"color: #800000; text-decoration-color: #800000\">│</span>\n",
       "<span style=\"color: #800000; text-decoration-color: #800000\">│</span>                                                                                                  <span style=\"color: #800000; text-decoration-color: #800000\">│</span>\n",
       "<span style=\"color: #800000; text-decoration-color: #800000\">│</span> <span style=\"color: #bfbf7f; text-decoration-color: #bfbf7f\">/usr/local/lib/python3.9/dist-packages/keras/engine/</span><span style=\"color: #808000; text-decoration-color: #808000; font-weight: bold\">training.py</span>:<span style=\"color: #0000ff; text-decoration-color: #0000ff\">1650</span> in <span style=\"color: #00ff00; text-decoration-color: #00ff00\">fit</span>                      <span style=\"color: #800000; text-decoration-color: #800000\">│</span>\n",
       "<span style=\"color: #800000; text-decoration-color: #800000\">│</span>                                                                                                  <span style=\"color: #800000; text-decoration-color: #800000\">│</span>\n",
       "<span style=\"color: #800000; text-decoration-color: #800000\">│</span>   <span style=\"color: #7f7f7f; text-decoration-color: #7f7f7f\">1647 </span><span style=\"color: #7f7f7f; text-decoration-color: #7f7f7f\">│   │   │   │   │   │   │   </span>_r=<span style=\"color: #0000ff; text-decoration-color: #0000ff\">1</span>,                                                         <span style=\"color: #800000; text-decoration-color: #800000\">│</span>\n",
       "<span style=\"color: #800000; text-decoration-color: #800000\">│</span>   <span style=\"color: #7f7f7f; text-decoration-color: #7f7f7f\">1648 </span><span style=\"color: #7f7f7f; text-decoration-color: #7f7f7f\">│   │   │   │   │   │   </span>):                                                                <span style=\"color: #800000; text-decoration-color: #800000\">│</span>\n",
       "<span style=\"color: #800000; text-decoration-color: #800000\">│</span>   <span style=\"color: #7f7f7f; text-decoration-color: #7f7f7f\">1649 </span><span style=\"color: #7f7f7f; text-decoration-color: #7f7f7f\">│   │   │   │   │   │   │   </span>callbacks.on_train_batch_begin(step)                          <span style=\"color: #800000; text-decoration-color: #800000\">│</span>\n",
       "<span style=\"color: #800000; text-decoration-color: #800000\">│</span> <span style=\"color: #800000; text-decoration-color: #800000\">❱ </span>1650 <span style=\"color: #7f7f7f; text-decoration-color: #7f7f7f\">│   │   │   │   │   │   │   </span>tmp_logs = <span style=\"color: #00ffff; text-decoration-color: #00ffff\">self</span>.train_function(iterator)                      <span style=\"color: #800000; text-decoration-color: #800000\">│</span>\n",
       "<span style=\"color: #800000; text-decoration-color: #800000\">│</span>   <span style=\"color: #7f7f7f; text-decoration-color: #7f7f7f\">1651 </span><span style=\"color: #7f7f7f; text-decoration-color: #7f7f7f\">│   │   │   │   │   │   │   </span><span style=\"color: #0000ff; text-decoration-color: #0000ff\">if</span> data_handler.should_sync:                                  <span style=\"color: #800000; text-decoration-color: #800000\">│</span>\n",
       "<span style=\"color: #800000; text-decoration-color: #800000\">│</span>   <span style=\"color: #7f7f7f; text-decoration-color: #7f7f7f\">1652 </span><span style=\"color: #7f7f7f; text-decoration-color: #7f7f7f\">│   │   │   │   │   │   │   │   </span>context.async_wait()                                      <span style=\"color: #800000; text-decoration-color: #800000\">│</span>\n",
       "<span style=\"color: #800000; text-decoration-color: #800000\">│</span>   <span style=\"color: #7f7f7f; text-decoration-color: #7f7f7f\">1653 </span><span style=\"color: #7f7f7f; text-decoration-color: #7f7f7f\">│   │   │   │   │   │   │   </span><span style=\"color: #7f7f7f; text-decoration-color: #7f7f7f\"># No error, now safe to assign to logs.</span>                       <span style=\"color: #800000; text-decoration-color: #800000\">│</span>\n",
       "<span style=\"color: #800000; text-decoration-color: #800000\">│</span>                                                                                                  <span style=\"color: #800000; text-decoration-color: #800000\">│</span>\n",
       "<span style=\"color: #800000; text-decoration-color: #800000\">│</span> <span style=\"color: #bfbf7f; text-decoration-color: #bfbf7f\">/usr/local/lib/python3.9/dist-packages/tensorflow/python/util/</span><span style=\"color: #808000; text-decoration-color: #808000; font-weight: bold\">traceback_utils.py</span>:<span style=\"color: #0000ff; text-decoration-color: #0000ff\">150</span> in          <span style=\"color: #800000; text-decoration-color: #800000\">│</span>\n",
       "<span style=\"color: #800000; text-decoration-color: #800000\">│</span> <span style=\"color: #00ff00; text-decoration-color: #00ff00\">error_handler</span>                                                                                    <span style=\"color: #800000; text-decoration-color: #800000\">│</span>\n",
       "<span style=\"color: #800000; text-decoration-color: #800000\">│</span>                                                                                                  <span style=\"color: #800000; text-decoration-color: #800000\">│</span>\n",
       "<span style=\"color: #800000; text-decoration-color: #800000\">│</span>   <span style=\"color: #7f7f7f; text-decoration-color: #7f7f7f\">147 </span><span style=\"color: #7f7f7f; text-decoration-color: #7f7f7f\">│   </span>                                                                                       <span style=\"color: #800000; text-decoration-color: #800000\">│</span>\n",
       "<span style=\"color: #800000; text-decoration-color: #800000\">│</span>   <span style=\"color: #7f7f7f; text-decoration-color: #7f7f7f\">148 </span><span style=\"color: #7f7f7f; text-decoration-color: #7f7f7f\">│   </span>filtered_tb = <span style=\"color: #0000ff; text-decoration-color: #0000ff\">None</span>                                                                     <span style=\"color: #800000; text-decoration-color: #800000\">│</span>\n",
       "<span style=\"color: #800000; text-decoration-color: #800000\">│</span>   <span style=\"color: #7f7f7f; text-decoration-color: #7f7f7f\">149 </span><span style=\"color: #7f7f7f; text-decoration-color: #7f7f7f\">│   </span><span style=\"color: #0000ff; text-decoration-color: #0000ff\">try</span>:                                                                                   <span style=\"color: #800000; text-decoration-color: #800000\">│</span>\n",
       "<span style=\"color: #800000; text-decoration-color: #800000\">│</span> <span style=\"color: #800000; text-decoration-color: #800000\">❱ </span>150 <span style=\"color: #7f7f7f; text-decoration-color: #7f7f7f\">│     </span><span style=\"color: #0000ff; text-decoration-color: #0000ff\">return</span> fn(*args, **kwargs)                                                           <span style=\"color: #800000; text-decoration-color: #800000\">│</span>\n",
       "<span style=\"color: #800000; text-decoration-color: #800000\">│</span>   <span style=\"color: #7f7f7f; text-decoration-color: #7f7f7f\">151 </span><span style=\"color: #7f7f7f; text-decoration-color: #7f7f7f\">│   </span><span style=\"color: #0000ff; text-decoration-color: #0000ff\">except</span> <span style=\"color: #00ffff; text-decoration-color: #00ffff\">Exception</span> <span style=\"color: #0000ff; text-decoration-color: #0000ff\">as</span> e:                                                                 <span style=\"color: #800000; text-decoration-color: #800000\">│</span>\n",
       "<span style=\"color: #800000; text-decoration-color: #800000\">│</span>   <span style=\"color: #7f7f7f; text-decoration-color: #7f7f7f\">152 </span><span style=\"color: #7f7f7f; text-decoration-color: #7f7f7f\">│     </span>filtered_tb = _process_traceback_frames(e.__traceback__)                             <span style=\"color: #800000; text-decoration-color: #800000\">│</span>\n",
       "<span style=\"color: #800000; text-decoration-color: #800000\">│</span>   <span style=\"color: #7f7f7f; text-decoration-color: #7f7f7f\">153 </span><span style=\"color: #7f7f7f; text-decoration-color: #7f7f7f\">│     </span><span style=\"color: #0000ff; text-decoration-color: #0000ff\">raise</span> e.with_traceback(filtered_tb) <span style=\"color: #0000ff; text-decoration-color: #0000ff\">from</span> <span style=\"color: #0000ff; text-decoration-color: #0000ff\">None</span>                                        <span style=\"color: #800000; text-decoration-color: #800000\">│</span>\n",
       "<span style=\"color: #800000; text-decoration-color: #800000\">│</span>                                                                                                  <span style=\"color: #800000; text-decoration-color: #800000\">│</span>\n",
       "<span style=\"color: #800000; text-decoration-color: #800000\">│</span> <span style=\"color: #bfbf7f; text-decoration-color: #bfbf7f\">/usr/local/lib/python3.9/dist-packages/tensorflow/python/eager/polymorphic_function/</span><span style=\"color: #808000; text-decoration-color: #808000; font-weight: bold\">polymorphic_</span> <span style=\"color: #800000; text-decoration-color: #800000\">│</span>\n",
       "<span style=\"color: #800000; text-decoration-color: #800000\">│</span> <span style=\"color: #808000; text-decoration-color: #808000; font-weight: bold\">function.py</span>:<span style=\"color: #0000ff; text-decoration-color: #0000ff\">880</span> in <span style=\"color: #00ff00; text-decoration-color: #00ff00\">__call__</span>                                                                      <span style=\"color: #800000; text-decoration-color: #800000\">│</span>\n",
       "<span style=\"color: #800000; text-decoration-color: #800000\">│</span>                                                                                                  <span style=\"color: #800000; text-decoration-color: #800000\">│</span>\n",
       "<span style=\"color: #800000; text-decoration-color: #800000\">│</span>   <span style=\"color: #7f7f7f; text-decoration-color: #7f7f7f\"> 877 </span><span style=\"color: #7f7f7f; text-decoration-color: #7f7f7f\">│     </span>compiler = <span style=\"color: #808000; text-decoration-color: #808000\">\"xla\"</span> <span style=\"color: #0000ff; text-decoration-color: #0000ff\">if</span> <span style=\"color: #00ffff; text-decoration-color: #00ffff\">self</span>._jit_compile <span style=\"color: #0000ff; text-decoration-color: #0000ff\">else</span> <span style=\"color: #808000; text-decoration-color: #808000\">\"nonXla\"</span>                                 <span style=\"color: #800000; text-decoration-color: #800000\">│</span>\n",
       "<span style=\"color: #800000; text-decoration-color: #800000\">│</span>   <span style=\"color: #7f7f7f; text-decoration-color: #7f7f7f\"> 878 </span><span style=\"color: #7f7f7f; text-decoration-color: #7f7f7f\">│     </span>                                                                                    <span style=\"color: #800000; text-decoration-color: #800000\">│</span>\n",
       "<span style=\"color: #800000; text-decoration-color: #800000\">│</span>   <span style=\"color: #7f7f7f; text-decoration-color: #7f7f7f\"> 879 </span><span style=\"color: #7f7f7f; text-decoration-color: #7f7f7f\">│     </span><span style=\"color: #0000ff; text-decoration-color: #0000ff\">with</span> OptionalXlaContext(<span style=\"color: #00ffff; text-decoration-color: #00ffff\">self</span>._jit_compile):                                         <span style=\"color: #800000; text-decoration-color: #800000\">│</span>\n",
       "<span style=\"color: #800000; text-decoration-color: #800000\">│</span> <span style=\"color: #800000; text-decoration-color: #800000\">❱ </span> 880 <span style=\"color: #7f7f7f; text-decoration-color: #7f7f7f\">│   │   </span>result = <span style=\"color: #00ffff; text-decoration-color: #00ffff\">self</span>._call(*args, **kwds)                                                <span style=\"color: #800000; text-decoration-color: #800000\">│</span>\n",
       "<span style=\"color: #800000; text-decoration-color: #800000\">│</span>   <span style=\"color: #7f7f7f; text-decoration-color: #7f7f7f\"> 881 </span><span style=\"color: #7f7f7f; text-decoration-color: #7f7f7f\">│     </span>                                                                                    <span style=\"color: #800000; text-decoration-color: #800000\">│</span>\n",
       "<span style=\"color: #800000; text-decoration-color: #800000\">│</span>   <span style=\"color: #7f7f7f; text-decoration-color: #7f7f7f\"> 882 </span><span style=\"color: #7f7f7f; text-decoration-color: #7f7f7f\">│     </span>new_tracing_count = <span style=\"color: #00ffff; text-decoration-color: #00ffff\">self</span>.experimental_get_tracing_count()                           <span style=\"color: #800000; text-decoration-color: #800000\">│</span>\n",
       "<span style=\"color: #800000; text-decoration-color: #800000\">│</span>   <span style=\"color: #7f7f7f; text-decoration-color: #7f7f7f\"> 883 </span><span style=\"color: #7f7f7f; text-decoration-color: #7f7f7f\">│     </span>without_tracing = (tracing_count == new_tracing_count)                              <span style=\"color: #800000; text-decoration-color: #800000\">│</span>\n",
       "<span style=\"color: #800000; text-decoration-color: #800000\">│</span>                                                                                                  <span style=\"color: #800000; text-decoration-color: #800000\">│</span>\n",
       "<span style=\"color: #800000; text-decoration-color: #800000\">│</span> <span style=\"color: #bfbf7f; text-decoration-color: #bfbf7f\">/usr/local/lib/python3.9/dist-packages/tensorflow/python/eager/polymorphic_function/</span><span style=\"color: #808000; text-decoration-color: #808000; font-weight: bold\">polymorphic_</span> <span style=\"color: #800000; text-decoration-color: #800000\">│</span>\n",
       "<span style=\"color: #800000; text-decoration-color: #800000\">│</span> <span style=\"color: #808000; text-decoration-color: #808000; font-weight: bold\">function.py</span>:<span style=\"color: #0000ff; text-decoration-color: #0000ff\">912</span> in <span style=\"color: #00ff00; text-decoration-color: #00ff00\">_call</span>                                                                         <span style=\"color: #800000; text-decoration-color: #800000\">│</span>\n",
       "<span style=\"color: #800000; text-decoration-color: #800000\">│</span>                                                                                                  <span style=\"color: #800000; text-decoration-color: #800000\">│</span>\n",
       "<span style=\"color: #800000; text-decoration-color: #800000\">│</span>   <span style=\"color: #7f7f7f; text-decoration-color: #7f7f7f\"> 909 </span><span style=\"color: #7f7f7f; text-decoration-color: #7f7f7f\">│     </span><span style=\"color: #00ffff; text-decoration-color: #00ffff\">self</span>._lock.release()                                                                <span style=\"color: #800000; text-decoration-color: #800000\">│</span>\n",
       "<span style=\"color: #800000; text-decoration-color: #800000\">│</span>   <span style=\"color: #7f7f7f; text-decoration-color: #7f7f7f\"> 910 </span><span style=\"color: #7f7f7f; text-decoration-color: #7f7f7f\">│     </span><span style=\"color: #7f7f7f; text-decoration-color: #7f7f7f\"># In this case we have created variables on the first call, so we run the</span>           <span style=\"color: #800000; text-decoration-color: #800000\">│</span>\n",
       "<span style=\"color: #800000; text-decoration-color: #800000\">│</span>   <span style=\"color: #7f7f7f; text-decoration-color: #7f7f7f\"> 911 </span><span style=\"color: #7f7f7f; text-decoration-color: #7f7f7f\">│     </span><span style=\"color: #7f7f7f; text-decoration-color: #7f7f7f\"># defunned version which is guaranteed to never create variables.</span>                   <span style=\"color: #800000; text-decoration-color: #800000\">│</span>\n",
       "<span style=\"color: #800000; text-decoration-color: #800000\">│</span> <span style=\"color: #800000; text-decoration-color: #800000\">❱ </span> 912 <span style=\"color: #7f7f7f; text-decoration-color: #7f7f7f\">│     </span><span style=\"color: #0000ff; text-decoration-color: #0000ff\">return</span> <span style=\"color: #00ffff; text-decoration-color: #00ffff\">self</span>._no_variable_creation_fn(*args, **kwds)  <span style=\"color: #7f7f7f; text-decoration-color: #7f7f7f\"># pylint: disable=not-callabl</span>  <span style=\"color: #800000; text-decoration-color: #800000\">│</span>\n",
       "<span style=\"color: #800000; text-decoration-color: #800000\">│</span>   <span style=\"color: #7f7f7f; text-decoration-color: #7f7f7f\"> 913 </span><span style=\"color: #7f7f7f; text-decoration-color: #7f7f7f\">│   </span><span style=\"color: #0000ff; text-decoration-color: #0000ff\">elif</span> <span style=\"color: #00ffff; text-decoration-color: #00ffff\">self</span>._variable_creation_fn <span style=\"color: #ff00ff; text-decoration-color: #ff00ff\">is</span> <span style=\"color: #ff00ff; text-decoration-color: #ff00ff\">not</span> <span style=\"color: #0000ff; text-decoration-color: #0000ff\">None</span>:                                          <span style=\"color: #800000; text-decoration-color: #800000\">│</span>\n",
       "<span style=\"color: #800000; text-decoration-color: #800000\">│</span>   <span style=\"color: #7f7f7f; text-decoration-color: #7f7f7f\"> 914 </span><span style=\"color: #7f7f7f; text-decoration-color: #7f7f7f\">│     </span><span style=\"color: #7f7f7f; text-decoration-color: #7f7f7f\"># Release the lock early so that multiple threads can perform the call</span>              <span style=\"color: #800000; text-decoration-color: #800000\">│</span>\n",
       "<span style=\"color: #800000; text-decoration-color: #800000\">│</span>   <span style=\"color: #7f7f7f; text-decoration-color: #7f7f7f\"> 915 </span><span style=\"color: #7f7f7f; text-decoration-color: #7f7f7f\">│     </span><span style=\"color: #7f7f7f; text-decoration-color: #7f7f7f\"># in parallel.</span>                                                                      <span style=\"color: #800000; text-decoration-color: #800000\">│</span>\n",
       "<span style=\"color: #800000; text-decoration-color: #800000\">│</span>                                                                                                  <span style=\"color: #800000; text-decoration-color: #800000\">│</span>\n",
       "<span style=\"color: #800000; text-decoration-color: #800000\">│</span> <span style=\"color: #bfbf7f; text-decoration-color: #bfbf7f\">/usr/local/lib/python3.9/dist-packages/tensorflow/python/eager/polymorphic_function/</span><span style=\"color: #808000; text-decoration-color: #808000; font-weight: bold\">tracing_comp</span> <span style=\"color: #800000; text-decoration-color: #800000\">│</span>\n",
       "<span style=\"color: #800000; text-decoration-color: #800000\">│</span> <span style=\"color: #808000; text-decoration-color: #808000; font-weight: bold\">iler.py</span>:<span style=\"color: #0000ff; text-decoration-color: #0000ff\">134</span> in <span style=\"color: #00ff00; text-decoration-color: #00ff00\">__call__</span>                                                                          <span style=\"color: #800000; text-decoration-color: #800000\">│</span>\n",
       "<span style=\"color: #800000; text-decoration-color: #800000\">│</span>                                                                                                  <span style=\"color: #800000; text-decoration-color: #800000\">│</span>\n",
       "<span style=\"color: #800000; text-decoration-color: #800000\">│</span>   <span style=\"color: #7f7f7f; text-decoration-color: #7f7f7f\">131 </span><span style=\"color: #7f7f7f; text-decoration-color: #7f7f7f\">│   </span><span style=\"color: #0000ff; text-decoration-color: #0000ff\">with</span> <span style=\"color: #00ffff; text-decoration-color: #00ffff\">self</span>._lock:                                                                       <span style=\"color: #800000; text-decoration-color: #800000\">│</span>\n",
       "<span style=\"color: #800000; text-decoration-color: #800000\">│</span>   <span style=\"color: #7f7f7f; text-decoration-color: #7f7f7f\">132 </span><span style=\"color: #7f7f7f; text-decoration-color: #7f7f7f\">│     </span>(concrete_function,                                                                  <span style=\"color: #800000; text-decoration-color: #800000\">│</span>\n",
       "<span style=\"color: #800000; text-decoration-color: #800000\">│</span>   <span style=\"color: #7f7f7f; text-decoration-color: #7f7f7f\">133 </span><span style=\"color: #7f7f7f; text-decoration-color: #7f7f7f\">│      </span>filtered_flat_args) = <span style=\"color: #00ffff; text-decoration-color: #00ffff\">self</span>._maybe_define_function(args, kwargs)                     <span style=\"color: #800000; text-decoration-color: #800000\">│</span>\n",
       "<span style=\"color: #800000; text-decoration-color: #800000\">│</span> <span style=\"color: #800000; text-decoration-color: #800000\">❱ </span>134 <span style=\"color: #7f7f7f; text-decoration-color: #7f7f7f\">│   </span><span style=\"color: #0000ff; text-decoration-color: #0000ff\">return</span> concrete_function._call_flat(                                                   <span style=\"color: #800000; text-decoration-color: #800000\">│</span>\n",
       "<span style=\"color: #800000; text-decoration-color: #800000\">│</span>   <span style=\"color: #7f7f7f; text-decoration-color: #7f7f7f\">135 </span><span style=\"color: #7f7f7f; text-decoration-color: #7f7f7f\">│   │   </span>filtered_flat_args, captured_inputs=concrete_function.captured_inputs)  <span style=\"color: #7f7f7f; text-decoration-color: #7f7f7f\"># pylint</span>   <span style=\"color: #800000; text-decoration-color: #800000\">│</span>\n",
       "<span style=\"color: #800000; text-decoration-color: #800000\">│</span>   <span style=\"color: #7f7f7f; text-decoration-color: #7f7f7f\">136 </span><span style=\"color: #7f7f7f; text-decoration-color: #7f7f7f\">  </span>                                                                                         <span style=\"color: #800000; text-decoration-color: #800000\">│</span>\n",
       "<span style=\"color: #800000; text-decoration-color: #800000\">│</span>   <span style=\"color: #7f7f7f; text-decoration-color: #7f7f7f\">137 </span><span style=\"color: #7f7f7f; text-decoration-color: #7f7f7f\">  </span><span style=\"color: #ff00ff; text-decoration-color: #ff00ff; font-weight: bold\">@property</span>                                                                                <span style=\"color: #800000; text-decoration-color: #800000\">│</span>\n",
       "<span style=\"color: #800000; text-decoration-color: #800000\">│</span>                                                                                                  <span style=\"color: #800000; text-decoration-color: #800000\">│</span>\n",
       "<span style=\"color: #800000; text-decoration-color: #800000\">│</span> <span style=\"color: #bfbf7f; text-decoration-color: #bfbf7f\">/usr/local/lib/python3.9/dist-packages/tensorflow/python/eager/polymorphic_function/</span><span style=\"color: #808000; text-decoration-color: #808000; font-weight: bold\">monomorphic_</span> <span style=\"color: #800000; text-decoration-color: #800000\">│</span>\n",
       "<span style=\"color: #800000; text-decoration-color: #800000\">│</span> <span style=\"color: #808000; text-decoration-color: #808000; font-weight: bold\">function.py</span>:<span style=\"color: #0000ff; text-decoration-color: #0000ff\">1745</span> in <span style=\"color: #00ff00; text-decoration-color: #00ff00\">_call_flat</span>                                                                   <span style=\"color: #800000; text-decoration-color: #800000\">│</span>\n",
       "<span style=\"color: #800000; text-decoration-color: #800000\">│</span>                                                                                                  <span style=\"color: #800000; text-decoration-color: #800000\">│</span>\n",
       "<span style=\"color: #800000; text-decoration-color: #800000\">│</span>   <span style=\"color: #7f7f7f; text-decoration-color: #7f7f7f\">1742 </span><span style=\"color: #7f7f7f; text-decoration-color: #7f7f7f\">│   </span><span style=\"color: #0000ff; text-decoration-color: #0000ff\">if</span> (possible_gradient_type == gradients_util.POSSIBLE_GRADIENT_TYPES_NONE             <span style=\"color: #800000; text-decoration-color: #800000\">│</span>\n",
       "<span style=\"color: #800000; text-decoration-color: #800000\">│</span>   <span style=\"color: #7f7f7f; text-decoration-color: #7f7f7f\">1743 </span><span style=\"color: #7f7f7f; text-decoration-color: #7f7f7f\">│   │   </span><span style=\"color: #ff00ff; text-decoration-color: #ff00ff\">and</span> executing_eagerly):                                                           <span style=\"color: #800000; text-decoration-color: #800000\">│</span>\n",
       "<span style=\"color: #800000; text-decoration-color: #800000\">│</span>   <span style=\"color: #7f7f7f; text-decoration-color: #7f7f7f\">1744 </span><span style=\"color: #7f7f7f; text-decoration-color: #7f7f7f\">│     </span><span style=\"color: #7f7f7f; text-decoration-color: #7f7f7f\"># No tape is watching; skip to running the function.</span>                                <span style=\"color: #800000; text-decoration-color: #800000\">│</span>\n",
       "<span style=\"color: #800000; text-decoration-color: #800000\">│</span> <span style=\"color: #800000; text-decoration-color: #800000\">❱ </span>1745 <span style=\"color: #7f7f7f; text-decoration-color: #7f7f7f\">│     </span><span style=\"color: #0000ff; text-decoration-color: #0000ff\">return</span> <span style=\"color: #00ffff; text-decoration-color: #00ffff\">self</span>._build_call_outputs(<span style=\"color: #00ffff; text-decoration-color: #00ffff\">self</span>._inference_function.call(                      <span style=\"color: #800000; text-decoration-color: #800000\">│</span>\n",
       "<span style=\"color: #800000; text-decoration-color: #800000\">│</span>   <span style=\"color: #7f7f7f; text-decoration-color: #7f7f7f\">1746 </span><span style=\"color: #7f7f7f; text-decoration-color: #7f7f7f\">│   │     </span>ctx, args, cancellation_manager=cancellation_manager))                          <span style=\"color: #800000; text-decoration-color: #800000\">│</span>\n",
       "<span style=\"color: #800000; text-decoration-color: #800000\">│</span>   <span style=\"color: #7f7f7f; text-decoration-color: #7f7f7f\">1747 </span><span style=\"color: #7f7f7f; text-decoration-color: #7f7f7f\">│   </span>forward_backward = <span style=\"color: #00ffff; text-decoration-color: #00ffff\">self</span>._select_forward_and_backward_functions(                       <span style=\"color: #800000; text-decoration-color: #800000\">│</span>\n",
       "<span style=\"color: #800000; text-decoration-color: #800000\">│</span>   <span style=\"color: #7f7f7f; text-decoration-color: #7f7f7f\">1748 </span><span style=\"color: #7f7f7f; text-decoration-color: #7f7f7f\">│   │   </span>args,                                                                             <span style=\"color: #800000; text-decoration-color: #800000\">│</span>\n",
       "<span style=\"color: #800000; text-decoration-color: #800000\">│</span>                                                                                                  <span style=\"color: #800000; text-decoration-color: #800000\">│</span>\n",
       "<span style=\"color: #800000; text-decoration-color: #800000\">│</span> <span style=\"color: #bfbf7f; text-decoration-color: #bfbf7f\">/usr/local/lib/python3.9/dist-packages/tensorflow/python/eager/polymorphic_function/</span><span style=\"color: #808000; text-decoration-color: #808000; font-weight: bold\">monomorphic_</span> <span style=\"color: #800000; text-decoration-color: #800000\">│</span>\n",
       "<span style=\"color: #800000; text-decoration-color: #800000\">│</span> <span style=\"color: #808000; text-decoration-color: #808000; font-weight: bold\">function.py</span>:<span style=\"color: #0000ff; text-decoration-color: #0000ff\">378</span> in <span style=\"color: #00ff00; text-decoration-color: #00ff00\">call</span>                                                                          <span style=\"color: #800000; text-decoration-color: #800000\">│</span>\n",
       "<span style=\"color: #800000; text-decoration-color: #800000\">│</span>                                                                                                  <span style=\"color: #800000; text-decoration-color: #800000\">│</span>\n",
       "<span style=\"color: #800000; text-decoration-color: #800000\">│</span>   <span style=\"color: #7f7f7f; text-decoration-color: #7f7f7f\"> 375 </span><span style=\"color: #7f7f7f; text-decoration-color: #7f7f7f\">│   </span><span style=\"color: #0000ff; text-decoration-color: #0000ff\">if</span> executing_eagerly:                                                                 <span style=\"color: #800000; text-decoration-color: #800000\">│</span>\n",
       "<span style=\"color: #800000; text-decoration-color: #800000\">│</span>   <span style=\"color: #7f7f7f; text-decoration-color: #7f7f7f\"> 376 </span><span style=\"color: #7f7f7f; text-decoration-color: #7f7f7f\">│     </span><span style=\"color: #0000ff; text-decoration-color: #0000ff\">with</span> _InterpolateFunctionError(<span style=\"color: #00ffff; text-decoration-color: #00ffff\">self</span>):                                               <span style=\"color: #800000; text-decoration-color: #800000\">│</span>\n",
       "<span style=\"color: #800000; text-decoration-color: #800000\">│</span>   <span style=\"color: #7f7f7f; text-decoration-color: #7f7f7f\"> 377 </span><span style=\"color: #7f7f7f; text-decoration-color: #7f7f7f\">│   │   </span><span style=\"color: #0000ff; text-decoration-color: #0000ff\">if</span> cancellation_manager <span style=\"color: #ff00ff; text-decoration-color: #ff00ff\">is</span> <span style=\"color: #0000ff; text-decoration-color: #0000ff\">None</span>:                                                  <span style=\"color: #800000; text-decoration-color: #800000\">│</span>\n",
       "<span style=\"color: #800000; text-decoration-color: #800000\">│</span> <span style=\"color: #800000; text-decoration-color: #800000\">❱ </span> 378 <span style=\"color: #7f7f7f; text-decoration-color: #7f7f7f\">│   │     </span>outputs = execute.execute(                                                      <span style=\"color: #800000; text-decoration-color: #800000\">│</span>\n",
       "<span style=\"color: #800000; text-decoration-color: #800000\">│</span>   <span style=\"color: #7f7f7f; text-decoration-color: #7f7f7f\"> 379 </span><span style=\"color: #7f7f7f; text-decoration-color: #7f7f7f\">│   │   │     </span><span style=\"color: #00ffff; text-decoration-color: #00ffff\">str</span>(<span style=\"color: #00ffff; text-decoration-color: #00ffff\">self</span>.signature.name),                                                   <span style=\"color: #800000; text-decoration-color: #800000\">│</span>\n",
       "<span style=\"color: #800000; text-decoration-color: #800000\">│</span>   <span style=\"color: #7f7f7f; text-decoration-color: #7f7f7f\"> 380 </span><span style=\"color: #7f7f7f; text-decoration-color: #7f7f7f\">│   │   │     </span>num_outputs=<span style=\"color: #00ffff; text-decoration-color: #00ffff\">self</span>._num_outputs,                                              <span style=\"color: #800000; text-decoration-color: #800000\">│</span>\n",
       "<span style=\"color: #800000; text-decoration-color: #800000\">│</span>   <span style=\"color: #7f7f7f; text-decoration-color: #7f7f7f\"> 381 </span><span style=\"color: #7f7f7f; text-decoration-color: #7f7f7f\">│   │   │     </span>inputs=args,                                                                <span style=\"color: #800000; text-decoration-color: #800000\">│</span>\n",
       "<span style=\"color: #800000; text-decoration-color: #800000\">│</span>                                                                                                  <span style=\"color: #800000; text-decoration-color: #800000\">│</span>\n",
       "<span style=\"color: #800000; text-decoration-color: #800000\">│</span> <span style=\"color: #bfbf7f; text-decoration-color: #bfbf7f\">/usr/local/lib/python3.9/dist-packages/tensorflow/python/eager/</span><span style=\"color: #808000; text-decoration-color: #808000; font-weight: bold\">execute.py</span>:<span style=\"color: #0000ff; text-decoration-color: #0000ff\">52</span> in <span style=\"color: #00ff00; text-decoration-color: #00ff00\">quick_execute</span>    <span style=\"color: #800000; text-decoration-color: #800000\">│</span>\n",
       "<span style=\"color: #800000; text-decoration-color: #800000\">│</span>                                                                                                  <span style=\"color: #800000; text-decoration-color: #800000\">│</span>\n",
       "<span style=\"color: #800000; text-decoration-color: #800000\">│</span>   <span style=\"color: #7f7f7f; text-decoration-color: #7f7f7f\"> 49 </span><span style=\"color: #7f7f7f; text-decoration-color: #7f7f7f\">  </span><span style=\"color: #7f7f7f; text-decoration-color: #7f7f7f\"># pylint: disable=protected-access</span>                                                       <span style=\"color: #800000; text-decoration-color: #800000\">│</span>\n",
       "<span style=\"color: #800000; text-decoration-color: #800000\">│</span>   <span style=\"color: #7f7f7f; text-decoration-color: #7f7f7f\"> 50 </span><span style=\"color: #7f7f7f; text-decoration-color: #7f7f7f\">  </span><span style=\"color: #0000ff; text-decoration-color: #0000ff\">try</span>:                                                                                     <span style=\"color: #800000; text-decoration-color: #800000\">│</span>\n",
       "<span style=\"color: #800000; text-decoration-color: #800000\">│</span>   <span style=\"color: #7f7f7f; text-decoration-color: #7f7f7f\"> 51 </span><span style=\"color: #7f7f7f; text-decoration-color: #7f7f7f\">│   </span>ctx.ensure_initialized()                                                               <span style=\"color: #800000; text-decoration-color: #800000\">│</span>\n",
       "<span style=\"color: #800000; text-decoration-color: #800000\">│</span> <span style=\"color: #800000; text-decoration-color: #800000\">❱ </span> 52 <span style=\"color: #7f7f7f; text-decoration-color: #7f7f7f\">│   </span>tensors = pywrap_tfe.TFE_Py_Execute(ctx._handle, device_name, op_name,                 <span style=\"color: #800000; text-decoration-color: #800000\">│</span>\n",
       "<span style=\"color: #800000; text-decoration-color: #800000\">│</span>   <span style=\"color: #7f7f7f; text-decoration-color: #7f7f7f\"> 53 </span><span style=\"color: #7f7f7f; text-decoration-color: #7f7f7f\">│   │   │   │   │   │   │   │   │   │   </span>inputs, attrs, num_outputs)                        <span style=\"color: #800000; text-decoration-color: #800000\">│</span>\n",
       "<span style=\"color: #800000; text-decoration-color: #800000\">│</span>   <span style=\"color: #7f7f7f; text-decoration-color: #7f7f7f\"> 54 </span><span style=\"color: #7f7f7f; text-decoration-color: #7f7f7f\">  </span><span style=\"color: #0000ff; text-decoration-color: #0000ff\">except</span> core._NotOkStatusException <span style=\"color: #0000ff; text-decoration-color: #0000ff\">as</span> e:                                                  <span style=\"color: #800000; text-decoration-color: #800000\">│</span>\n",
       "<span style=\"color: #800000; text-decoration-color: #800000\">│</span>   <span style=\"color: #7f7f7f; text-decoration-color: #7f7f7f\"> 55 </span><span style=\"color: #7f7f7f; text-decoration-color: #7f7f7f\">│   </span><span style=\"color: #0000ff; text-decoration-color: #0000ff\">if</span> name <span style=\"color: #ff00ff; text-decoration-color: #ff00ff\">is</span> <span style=\"color: #ff00ff; text-decoration-color: #ff00ff\">not</span> <span style=\"color: #0000ff; text-decoration-color: #0000ff\">None</span>:                                                                   <span style=\"color: #800000; text-decoration-color: #800000\">│</span>\n",
       "<span style=\"color: #800000; text-decoration-color: #800000\">╰──────────────────────────────────────────────────────────────────────────────────────────────────╯</span>\n",
       "<span style=\"color: #ff0000; text-decoration-color: #ff0000; font-weight: bold\">KeyboardInterrupt</span>\n",
       "</pre>\n"
      ],
      "text/plain": [
       "\u001b[31m╭─\u001b[0m\u001b[31m──────────────────────────────\u001b[0m\u001b[31m \u001b[0m\u001b[1;31mTraceback \u001b[0m\u001b[1;2;31m(most recent call last)\u001b[0m\u001b[31m \u001b[0m\u001b[31m───────────────────────────────\u001b[0m\u001b[31m─╮\u001b[0m\n",
       "\u001b[31m│\u001b[0m in \u001b[92m<cell line: 4>\u001b[0m:\u001b[94m4\u001b[0m                                                                              \u001b[31m│\u001b[0m\n",
       "\u001b[31m│\u001b[0m                                                                                                  \u001b[31m│\u001b[0m\n",
       "\u001b[31m│\u001b[0m   \u001b[2m 1 \u001b[0m\u001b[94mfrom\u001b[0m \u001b[4;96mkeras\u001b[0m\u001b[4;96m.\u001b[0m\u001b[4;96mcallbacks\u001b[0m \u001b[94mimport\u001b[0m History                                                         \u001b[31m│\u001b[0m\n",
       "\u001b[31m│\u001b[0m   \u001b[2m 2 \u001b[0mhistory = History()                                                                         \u001b[31m│\u001b[0m\n",
       "\u001b[31m│\u001b[0m   \u001b[2m 3 \u001b[0m                                                                                            \u001b[31m│\u001b[0m\n",
       "\u001b[31m│\u001b[0m \u001b[31m❱ \u001b[0m 4 poi_c2v.fit(                                                                                \u001b[31m│\u001b[0m\n",
       "\u001b[31m│\u001b[0m   \u001b[2m 5 \u001b[0m\u001b[2m│   \u001b[0mname_pairs=X_train,                                                                     \u001b[31m│\u001b[0m\n",
       "\u001b[31m│\u001b[0m   \u001b[2m 6 \u001b[0m\u001b[2m│   \u001b[0mtarget=y_train,                                                                         \u001b[31m│\u001b[0m\n",
       "\u001b[31m│\u001b[0m   \u001b[2m 7 \u001b[0m\u001b[2m│   \u001b[0mvalidation_split=\u001b[94m0.2\u001b[0m,                                                                   \u001b[31m│\u001b[0m\n",
       "\u001b[31m│\u001b[0m                                                                                                  \u001b[31m│\u001b[0m\n",
       "\u001b[31m│\u001b[0m in \u001b[92mfit\u001b[0m:\u001b[94m56\u001b[0m                                                                                        \u001b[31m│\u001b[0m\n",
       "\u001b[31m│\u001b[0m                                                                                                  \u001b[31m│\u001b[0m\n",
       "\u001b[31m│\u001b[0m   \u001b[2m 53 \u001b[0m\u001b[2m│   │   \u001b[0mX1_pad = tf.keras.preprocessing.sequence.pad_sequences(X1)                         \u001b[31m│\u001b[0m\n",
       "\u001b[31m│\u001b[0m   \u001b[2m 54 \u001b[0m\u001b[2m│   │   \u001b[0mX2_pad = tf.keras.preprocessing.sequence.pad_sequences(X2)                         \u001b[31m│\u001b[0m\n",
       "\u001b[31m│\u001b[0m   \u001b[2m 55 \u001b[0m\u001b[2m│   │   \u001b[0m                                                                                   \u001b[31m│\u001b[0m\n",
       "\u001b[31m│\u001b[0m \u001b[31m❱ \u001b[0m 56 \u001b[2m│   │   \u001b[0m\u001b[96mself\u001b[0m.model.fit((X1_pad, X2_pad), target,verbose=\u001b[94m1\u001b[0m,                                 \u001b[31m│\u001b[0m\n",
       "\u001b[31m│\u001b[0m   \u001b[2m 57 \u001b[0m\u001b[2m│   │   │   │   │   \u001b[0mbatch_size=batch_size, epochs=max_epochs,                              \u001b[31m│\u001b[0m\n",
       "\u001b[31m│\u001b[0m   \u001b[2m 58 \u001b[0m\u001b[2m│   │   │   │   │   \u001b[0mvalidation_split=validation_split,                                     \u001b[31m│\u001b[0m\n",
       "\u001b[31m│\u001b[0m   \u001b[2m 59 \u001b[0m\u001b[2m│   │   │   │   │   \u001b[0mcallbacks=[tf.keras.callbacks.EarlyStopping(monitor=\u001b[33m'\u001b[0m\u001b[33mval_loss\u001b[0m\u001b[33m'\u001b[0m, pati   \u001b[31m│\u001b[0m\n",
       "\u001b[31m│\u001b[0m                                                                                                  \u001b[31m│\u001b[0m\n",
       "\u001b[31m│\u001b[0m \u001b[2;33m/usr/local/lib/python3.9/dist-packages/keras/utils/\u001b[0m\u001b[1;33mtraceback_utils.py\u001b[0m:\u001b[94m65\u001b[0m in \u001b[92merror_handler\u001b[0m        \u001b[31m│\u001b[0m\n",
       "\u001b[31m│\u001b[0m                                                                                                  \u001b[31m│\u001b[0m\n",
       "\u001b[31m│\u001b[0m   \u001b[2m 62 \u001b[0m\u001b[2m│   │   \u001b[0m                                                                                   \u001b[31m│\u001b[0m\n",
       "\u001b[31m│\u001b[0m   \u001b[2m 63 \u001b[0m\u001b[2m│   │   \u001b[0mfiltered_tb = \u001b[94mNone\u001b[0m                                                                 \u001b[31m│\u001b[0m\n",
       "\u001b[31m│\u001b[0m   \u001b[2m 64 \u001b[0m\u001b[2m│   │   \u001b[0m\u001b[94mtry\u001b[0m:                                                                               \u001b[31m│\u001b[0m\n",
       "\u001b[31m│\u001b[0m \u001b[31m❱ \u001b[0m 65 \u001b[2m│   │   │   \u001b[0m\u001b[94mreturn\u001b[0m fn(*args, **kwargs)                                                     \u001b[31m│\u001b[0m\n",
       "\u001b[31m│\u001b[0m   \u001b[2m 66 \u001b[0m\u001b[2m│   │   \u001b[0m\u001b[94mexcept\u001b[0m \u001b[96mException\u001b[0m \u001b[94mas\u001b[0m e:                                                             \u001b[31m│\u001b[0m\n",
       "\u001b[31m│\u001b[0m   \u001b[2m 67 \u001b[0m\u001b[2m│   │   │   \u001b[0mfiltered_tb = _process_traceback_frames(e.__traceback__)                       \u001b[31m│\u001b[0m\n",
       "\u001b[31m│\u001b[0m   \u001b[2m 68 \u001b[0m\u001b[2m│   │   │   \u001b[0m\u001b[2m# To get the full stack trace, call:\u001b[0m                                           \u001b[31m│\u001b[0m\n",
       "\u001b[31m│\u001b[0m                                                                                                  \u001b[31m│\u001b[0m\n",
       "\u001b[31m│\u001b[0m \u001b[2;33m/usr/local/lib/python3.9/dist-packages/keras/engine/\u001b[0m\u001b[1;33mtraining.py\u001b[0m:\u001b[94m1650\u001b[0m in \u001b[92mfit\u001b[0m                      \u001b[31m│\u001b[0m\n",
       "\u001b[31m│\u001b[0m                                                                                                  \u001b[31m│\u001b[0m\n",
       "\u001b[31m│\u001b[0m   \u001b[2m1647 \u001b[0m\u001b[2m│   │   │   │   │   │   │   \u001b[0m_r=\u001b[94m1\u001b[0m,                                                         \u001b[31m│\u001b[0m\n",
       "\u001b[31m│\u001b[0m   \u001b[2m1648 \u001b[0m\u001b[2m│   │   │   │   │   │   \u001b[0m):                                                                \u001b[31m│\u001b[0m\n",
       "\u001b[31m│\u001b[0m   \u001b[2m1649 \u001b[0m\u001b[2m│   │   │   │   │   │   │   \u001b[0mcallbacks.on_train_batch_begin(step)                          \u001b[31m│\u001b[0m\n",
       "\u001b[31m│\u001b[0m \u001b[31m❱ \u001b[0m1650 \u001b[2m│   │   │   │   │   │   │   \u001b[0mtmp_logs = \u001b[96mself\u001b[0m.train_function(iterator)                      \u001b[31m│\u001b[0m\n",
       "\u001b[31m│\u001b[0m   \u001b[2m1651 \u001b[0m\u001b[2m│   │   │   │   │   │   │   \u001b[0m\u001b[94mif\u001b[0m data_handler.should_sync:                                  \u001b[31m│\u001b[0m\n",
       "\u001b[31m│\u001b[0m   \u001b[2m1652 \u001b[0m\u001b[2m│   │   │   │   │   │   │   │   \u001b[0mcontext.async_wait()                                      \u001b[31m│\u001b[0m\n",
       "\u001b[31m│\u001b[0m   \u001b[2m1653 \u001b[0m\u001b[2m│   │   │   │   │   │   │   \u001b[0m\u001b[2m# No error, now safe to assign to logs.\u001b[0m                       \u001b[31m│\u001b[0m\n",
       "\u001b[31m│\u001b[0m                                                                                                  \u001b[31m│\u001b[0m\n",
       "\u001b[31m│\u001b[0m \u001b[2;33m/usr/local/lib/python3.9/dist-packages/tensorflow/python/util/\u001b[0m\u001b[1;33mtraceback_utils.py\u001b[0m:\u001b[94m150\u001b[0m in          \u001b[31m│\u001b[0m\n",
       "\u001b[31m│\u001b[0m \u001b[92merror_handler\u001b[0m                                                                                    \u001b[31m│\u001b[0m\n",
       "\u001b[31m│\u001b[0m                                                                                                  \u001b[31m│\u001b[0m\n",
       "\u001b[31m│\u001b[0m   \u001b[2m147 \u001b[0m\u001b[2m│   \u001b[0m                                                                                       \u001b[31m│\u001b[0m\n",
       "\u001b[31m│\u001b[0m   \u001b[2m148 \u001b[0m\u001b[2m│   \u001b[0mfiltered_tb = \u001b[94mNone\u001b[0m                                                                     \u001b[31m│\u001b[0m\n",
       "\u001b[31m│\u001b[0m   \u001b[2m149 \u001b[0m\u001b[2m│   \u001b[0m\u001b[94mtry\u001b[0m:                                                                                   \u001b[31m│\u001b[0m\n",
       "\u001b[31m│\u001b[0m \u001b[31m❱ \u001b[0m150 \u001b[2m│     \u001b[0m\u001b[94mreturn\u001b[0m fn(*args, **kwargs)                                                           \u001b[31m│\u001b[0m\n",
       "\u001b[31m│\u001b[0m   \u001b[2m151 \u001b[0m\u001b[2m│   \u001b[0m\u001b[94mexcept\u001b[0m \u001b[96mException\u001b[0m \u001b[94mas\u001b[0m e:                                                                 \u001b[31m│\u001b[0m\n",
       "\u001b[31m│\u001b[0m   \u001b[2m152 \u001b[0m\u001b[2m│     \u001b[0mfiltered_tb = _process_traceback_frames(e.__traceback__)                             \u001b[31m│\u001b[0m\n",
       "\u001b[31m│\u001b[0m   \u001b[2m153 \u001b[0m\u001b[2m│     \u001b[0m\u001b[94mraise\u001b[0m e.with_traceback(filtered_tb) \u001b[94mfrom\u001b[0m \u001b[94mNone\u001b[0m                                        \u001b[31m│\u001b[0m\n",
       "\u001b[31m│\u001b[0m                                                                                                  \u001b[31m│\u001b[0m\n",
       "\u001b[31m│\u001b[0m \u001b[2;33m/usr/local/lib/python3.9/dist-packages/tensorflow/python/eager/polymorphic_function/\u001b[0m\u001b[1;33mpolymorphic_\u001b[0m \u001b[31m│\u001b[0m\n",
       "\u001b[31m│\u001b[0m \u001b[1;33mfunction.py\u001b[0m:\u001b[94m880\u001b[0m in \u001b[92m__call__\u001b[0m                                                                      \u001b[31m│\u001b[0m\n",
       "\u001b[31m│\u001b[0m                                                                                                  \u001b[31m│\u001b[0m\n",
       "\u001b[31m│\u001b[0m   \u001b[2m 877 \u001b[0m\u001b[2m│     \u001b[0mcompiler = \u001b[33m\"\u001b[0m\u001b[33mxla\u001b[0m\u001b[33m\"\u001b[0m \u001b[94mif\u001b[0m \u001b[96mself\u001b[0m._jit_compile \u001b[94melse\u001b[0m \u001b[33m\"\u001b[0m\u001b[33mnonXla\u001b[0m\u001b[33m\"\u001b[0m                                 \u001b[31m│\u001b[0m\n",
       "\u001b[31m│\u001b[0m   \u001b[2m 878 \u001b[0m\u001b[2m│     \u001b[0m                                                                                    \u001b[31m│\u001b[0m\n",
       "\u001b[31m│\u001b[0m   \u001b[2m 879 \u001b[0m\u001b[2m│     \u001b[0m\u001b[94mwith\u001b[0m OptionalXlaContext(\u001b[96mself\u001b[0m._jit_compile):                                         \u001b[31m│\u001b[0m\n",
       "\u001b[31m│\u001b[0m \u001b[31m❱ \u001b[0m 880 \u001b[2m│   │   \u001b[0mresult = \u001b[96mself\u001b[0m._call(*args, **kwds)                                                \u001b[31m│\u001b[0m\n",
       "\u001b[31m│\u001b[0m   \u001b[2m 881 \u001b[0m\u001b[2m│     \u001b[0m                                                                                    \u001b[31m│\u001b[0m\n",
       "\u001b[31m│\u001b[0m   \u001b[2m 882 \u001b[0m\u001b[2m│     \u001b[0mnew_tracing_count = \u001b[96mself\u001b[0m.experimental_get_tracing_count()                           \u001b[31m│\u001b[0m\n",
       "\u001b[31m│\u001b[0m   \u001b[2m 883 \u001b[0m\u001b[2m│     \u001b[0mwithout_tracing = (tracing_count == new_tracing_count)                              \u001b[31m│\u001b[0m\n",
       "\u001b[31m│\u001b[0m                                                                                                  \u001b[31m│\u001b[0m\n",
       "\u001b[31m│\u001b[0m \u001b[2;33m/usr/local/lib/python3.9/dist-packages/tensorflow/python/eager/polymorphic_function/\u001b[0m\u001b[1;33mpolymorphic_\u001b[0m \u001b[31m│\u001b[0m\n",
       "\u001b[31m│\u001b[0m \u001b[1;33mfunction.py\u001b[0m:\u001b[94m912\u001b[0m in \u001b[92m_call\u001b[0m                                                                         \u001b[31m│\u001b[0m\n",
       "\u001b[31m│\u001b[0m                                                                                                  \u001b[31m│\u001b[0m\n",
       "\u001b[31m│\u001b[0m   \u001b[2m 909 \u001b[0m\u001b[2m│     \u001b[0m\u001b[96mself\u001b[0m._lock.release()                                                                \u001b[31m│\u001b[0m\n",
       "\u001b[31m│\u001b[0m   \u001b[2m 910 \u001b[0m\u001b[2m│     \u001b[0m\u001b[2m# In this case we have created variables on the first call, so we run the\u001b[0m           \u001b[31m│\u001b[0m\n",
       "\u001b[31m│\u001b[0m   \u001b[2m 911 \u001b[0m\u001b[2m│     \u001b[0m\u001b[2m# defunned version which is guaranteed to never create variables.\u001b[0m                   \u001b[31m│\u001b[0m\n",
       "\u001b[31m│\u001b[0m \u001b[31m❱ \u001b[0m 912 \u001b[2m│     \u001b[0m\u001b[94mreturn\u001b[0m \u001b[96mself\u001b[0m._no_variable_creation_fn(*args, **kwds)  \u001b[2m# pylint: disable=not-callabl\u001b[0m  \u001b[31m│\u001b[0m\n",
       "\u001b[31m│\u001b[0m   \u001b[2m 913 \u001b[0m\u001b[2m│   \u001b[0m\u001b[94melif\u001b[0m \u001b[96mself\u001b[0m._variable_creation_fn \u001b[95mis\u001b[0m \u001b[95mnot\u001b[0m \u001b[94mNone\u001b[0m:                                          \u001b[31m│\u001b[0m\n",
       "\u001b[31m│\u001b[0m   \u001b[2m 914 \u001b[0m\u001b[2m│     \u001b[0m\u001b[2m# Release the lock early so that multiple threads can perform the call\u001b[0m              \u001b[31m│\u001b[0m\n",
       "\u001b[31m│\u001b[0m   \u001b[2m 915 \u001b[0m\u001b[2m│     \u001b[0m\u001b[2m# in parallel.\u001b[0m                                                                      \u001b[31m│\u001b[0m\n",
       "\u001b[31m│\u001b[0m                                                                                                  \u001b[31m│\u001b[0m\n",
       "\u001b[31m│\u001b[0m \u001b[2;33m/usr/local/lib/python3.9/dist-packages/tensorflow/python/eager/polymorphic_function/\u001b[0m\u001b[1;33mtracing_comp\u001b[0m \u001b[31m│\u001b[0m\n",
       "\u001b[31m│\u001b[0m \u001b[1;33miler.py\u001b[0m:\u001b[94m134\u001b[0m in \u001b[92m__call__\u001b[0m                                                                          \u001b[31m│\u001b[0m\n",
       "\u001b[31m│\u001b[0m                                                                                                  \u001b[31m│\u001b[0m\n",
       "\u001b[31m│\u001b[0m   \u001b[2m131 \u001b[0m\u001b[2m│   \u001b[0m\u001b[94mwith\u001b[0m \u001b[96mself\u001b[0m._lock:                                                                       \u001b[31m│\u001b[0m\n",
       "\u001b[31m│\u001b[0m   \u001b[2m132 \u001b[0m\u001b[2m│     \u001b[0m(concrete_function,                                                                  \u001b[31m│\u001b[0m\n",
       "\u001b[31m│\u001b[0m   \u001b[2m133 \u001b[0m\u001b[2m│      \u001b[0mfiltered_flat_args) = \u001b[96mself\u001b[0m._maybe_define_function(args, kwargs)                     \u001b[31m│\u001b[0m\n",
       "\u001b[31m│\u001b[0m \u001b[31m❱ \u001b[0m134 \u001b[2m│   \u001b[0m\u001b[94mreturn\u001b[0m concrete_function._call_flat(                                                   \u001b[31m│\u001b[0m\n",
       "\u001b[31m│\u001b[0m   \u001b[2m135 \u001b[0m\u001b[2m│   │   \u001b[0mfiltered_flat_args, captured_inputs=concrete_function.captured_inputs)  \u001b[2m# pylint\u001b[0m   \u001b[31m│\u001b[0m\n",
       "\u001b[31m│\u001b[0m   \u001b[2m136 \u001b[0m\u001b[2m  \u001b[0m                                                                                         \u001b[31m│\u001b[0m\n",
       "\u001b[31m│\u001b[0m   \u001b[2m137 \u001b[0m\u001b[2m  \u001b[0m\u001b[1;95m@property\u001b[0m                                                                                \u001b[31m│\u001b[0m\n",
       "\u001b[31m│\u001b[0m                                                                                                  \u001b[31m│\u001b[0m\n",
       "\u001b[31m│\u001b[0m \u001b[2;33m/usr/local/lib/python3.9/dist-packages/tensorflow/python/eager/polymorphic_function/\u001b[0m\u001b[1;33mmonomorphic_\u001b[0m \u001b[31m│\u001b[0m\n",
       "\u001b[31m│\u001b[0m \u001b[1;33mfunction.py\u001b[0m:\u001b[94m1745\u001b[0m in \u001b[92m_call_flat\u001b[0m                                                                   \u001b[31m│\u001b[0m\n",
       "\u001b[31m│\u001b[0m                                                                                                  \u001b[31m│\u001b[0m\n",
       "\u001b[31m│\u001b[0m   \u001b[2m1742 \u001b[0m\u001b[2m│   \u001b[0m\u001b[94mif\u001b[0m (possible_gradient_type == gradients_util.POSSIBLE_GRADIENT_TYPES_NONE             \u001b[31m│\u001b[0m\n",
       "\u001b[31m│\u001b[0m   \u001b[2m1743 \u001b[0m\u001b[2m│   │   \u001b[0m\u001b[95mand\u001b[0m executing_eagerly):                                                           \u001b[31m│\u001b[0m\n",
       "\u001b[31m│\u001b[0m   \u001b[2m1744 \u001b[0m\u001b[2m│     \u001b[0m\u001b[2m# No tape is watching; skip to running the function.\u001b[0m                                \u001b[31m│\u001b[0m\n",
       "\u001b[31m│\u001b[0m \u001b[31m❱ \u001b[0m1745 \u001b[2m│     \u001b[0m\u001b[94mreturn\u001b[0m \u001b[96mself\u001b[0m._build_call_outputs(\u001b[96mself\u001b[0m._inference_function.call(                      \u001b[31m│\u001b[0m\n",
       "\u001b[31m│\u001b[0m   \u001b[2m1746 \u001b[0m\u001b[2m│   │     \u001b[0mctx, args, cancellation_manager=cancellation_manager))                          \u001b[31m│\u001b[0m\n",
       "\u001b[31m│\u001b[0m   \u001b[2m1747 \u001b[0m\u001b[2m│   \u001b[0mforward_backward = \u001b[96mself\u001b[0m._select_forward_and_backward_functions(                       \u001b[31m│\u001b[0m\n",
       "\u001b[31m│\u001b[0m   \u001b[2m1748 \u001b[0m\u001b[2m│   │   \u001b[0margs,                                                                             \u001b[31m│\u001b[0m\n",
       "\u001b[31m│\u001b[0m                                                                                                  \u001b[31m│\u001b[0m\n",
       "\u001b[31m│\u001b[0m \u001b[2;33m/usr/local/lib/python3.9/dist-packages/tensorflow/python/eager/polymorphic_function/\u001b[0m\u001b[1;33mmonomorphic_\u001b[0m \u001b[31m│\u001b[0m\n",
       "\u001b[31m│\u001b[0m \u001b[1;33mfunction.py\u001b[0m:\u001b[94m378\u001b[0m in \u001b[92mcall\u001b[0m                                                                          \u001b[31m│\u001b[0m\n",
       "\u001b[31m│\u001b[0m                                                                                                  \u001b[31m│\u001b[0m\n",
       "\u001b[31m│\u001b[0m   \u001b[2m 375 \u001b[0m\u001b[2m│   \u001b[0m\u001b[94mif\u001b[0m executing_eagerly:                                                                 \u001b[31m│\u001b[0m\n",
       "\u001b[31m│\u001b[0m   \u001b[2m 376 \u001b[0m\u001b[2m│     \u001b[0m\u001b[94mwith\u001b[0m _InterpolateFunctionError(\u001b[96mself\u001b[0m):                                               \u001b[31m│\u001b[0m\n",
       "\u001b[31m│\u001b[0m   \u001b[2m 377 \u001b[0m\u001b[2m│   │   \u001b[0m\u001b[94mif\u001b[0m cancellation_manager \u001b[95mis\u001b[0m \u001b[94mNone\u001b[0m:                                                  \u001b[31m│\u001b[0m\n",
       "\u001b[31m│\u001b[0m \u001b[31m❱ \u001b[0m 378 \u001b[2m│   │     \u001b[0moutputs = execute.execute(                                                      \u001b[31m│\u001b[0m\n",
       "\u001b[31m│\u001b[0m   \u001b[2m 379 \u001b[0m\u001b[2m│   │   │     \u001b[0m\u001b[96mstr\u001b[0m(\u001b[96mself\u001b[0m.signature.name),                                                   \u001b[31m│\u001b[0m\n",
       "\u001b[31m│\u001b[0m   \u001b[2m 380 \u001b[0m\u001b[2m│   │   │     \u001b[0mnum_outputs=\u001b[96mself\u001b[0m._num_outputs,                                              \u001b[31m│\u001b[0m\n",
       "\u001b[31m│\u001b[0m   \u001b[2m 381 \u001b[0m\u001b[2m│   │   │     \u001b[0minputs=args,                                                                \u001b[31m│\u001b[0m\n",
       "\u001b[31m│\u001b[0m                                                                                                  \u001b[31m│\u001b[0m\n",
       "\u001b[31m│\u001b[0m \u001b[2;33m/usr/local/lib/python3.9/dist-packages/tensorflow/python/eager/\u001b[0m\u001b[1;33mexecute.py\u001b[0m:\u001b[94m52\u001b[0m in \u001b[92mquick_execute\u001b[0m    \u001b[31m│\u001b[0m\n",
       "\u001b[31m│\u001b[0m                                                                                                  \u001b[31m│\u001b[0m\n",
       "\u001b[31m│\u001b[0m   \u001b[2m 49 \u001b[0m\u001b[2m  \u001b[0m\u001b[2m# pylint: disable=protected-access\u001b[0m                                                       \u001b[31m│\u001b[0m\n",
       "\u001b[31m│\u001b[0m   \u001b[2m 50 \u001b[0m\u001b[2m  \u001b[0m\u001b[94mtry\u001b[0m:                                                                                     \u001b[31m│\u001b[0m\n",
       "\u001b[31m│\u001b[0m   \u001b[2m 51 \u001b[0m\u001b[2m│   \u001b[0mctx.ensure_initialized()                                                               \u001b[31m│\u001b[0m\n",
       "\u001b[31m│\u001b[0m \u001b[31m❱ \u001b[0m 52 \u001b[2m│   \u001b[0mtensors = pywrap_tfe.TFE_Py_Execute(ctx._handle, device_name, op_name,                 \u001b[31m│\u001b[0m\n",
       "\u001b[31m│\u001b[0m   \u001b[2m 53 \u001b[0m\u001b[2m│   │   │   │   │   │   │   │   │   │   \u001b[0minputs, attrs, num_outputs)                        \u001b[31m│\u001b[0m\n",
       "\u001b[31m│\u001b[0m   \u001b[2m 54 \u001b[0m\u001b[2m  \u001b[0m\u001b[94mexcept\u001b[0m core._NotOkStatusException \u001b[94mas\u001b[0m e:                                                  \u001b[31m│\u001b[0m\n",
       "\u001b[31m│\u001b[0m   \u001b[2m 55 \u001b[0m\u001b[2m│   \u001b[0m\u001b[94mif\u001b[0m name \u001b[95mis\u001b[0m \u001b[95mnot\u001b[0m \u001b[94mNone\u001b[0m:                                                                   \u001b[31m│\u001b[0m\n",
       "\u001b[31m╰──────────────────────────────────────────────────────────────────────────────────────────────────╯\u001b[0m\n",
       "\u001b[1;91mKeyboardInterrupt\u001b[0m\n"
      ]
     },
     "metadata": {},
     "output_type": "display_data"
    }
   ],
   "source": [
    "from keras.callbacks import History\n",
    "history = History()\n",
    "\n",
    "poi_c2v.fit(\n",
    "    name_pairs=X_train,\n",
    "    target=y_train,\n",
    "    validation_split=0.2,\n",
    "    max_epochs=10000,\n",
    "    patience=5,\n",
    "    batch_size=128,\n",
    "    callbacks=[history])"
   ]
  },
  {
   "cell_type": "code",
   "execution_count": 264,
   "id": "f13107f1-68ab-492c-84f2-e48c426525bc",
   "metadata": {},
   "outputs": [
    {
     "data": {
      "text/html": [
       "<pre style=\"white-space:pre;overflow-x:auto;line-height:normal;font-family:Menlo,'DejaVu Sans Mono',consolas,'Courier New',monospace\"></pre>\n"
      ],
      "text/plain": []
     },
     "metadata": {},
     "output_type": "display_data"
    },
    {
     "data": {
      "text/plain": [
       "\u001b[1m<\u001b[0m\u001b[1;95mmatplotlib.legend.Legend\u001b[0m\u001b[39m object at \u001b[0m\u001b[1;36m0x7f63710fe820\u001b[0m\u001b[1m>\u001b[0m"
      ]
     },
     "execution_count": 264,
     "metadata": {},
     "output_type": "execute_result"
    },
    {
     "data": {
      "text/html": [
       "<pre style=\"white-space:pre;overflow-x:auto;line-height:normal;font-family:Menlo,'DejaVu Sans Mono',consolas,'Courier New',monospace\"></pre>\n"
      ],
      "text/plain": []
     },
     "metadata": {},
     "output_type": "display_data"
    },
    {
     "data": {
      "image/png": "[encoded data removed]",
      "text/plain": [
       "\u001b[1m<\u001b[0m\u001b[1;95mFigure\u001b[0m\u001b[39m size 100\u001b[0m\u001b[1;36m0x500\u001b[0m\u001b[39m with \u001b[0m\u001b[1;36m2\u001b[0m\u001b[39m Axes\u001b[0m\u001b[1m>\u001b[0m"
      ]
     },
     "metadata": {},
     "output_type": "display_data"
    }
   ],
   "source": [
    "fig, ax = plt.subplots(1, 2, figsize=(10,5))\n",
    "\n",
    "ax[0].plot(history.history['loss'])\n",
    "ax[0].plot(history.history['val_loss'])\n",
    "ax[0].set_title('Loss history')\n",
    "ax[0].legend(['Train loss', 'Validation loss'],loc='upper right')\n",
    "\n",
    "ax[1].plot(history.history['accuracy'])\n",
    "ax[1].plot(history.history['val_accuracy'])\n",
    "ax[1].set_title('Accuracy history')\n",
    "ax[1].legend(['Train accuracy', 'Validation accuracy'], loc='upper right')"
   ]
  },
  {
   "cell_type": "code",
   "execution_count": 210,
   "id": "08dbf99a-9a27-467c-a207-9329fac46863",
   "metadata": {},
   "outputs": [
    {
     "data": {
      "text/html": [
       "<pre style=\"white-space:pre;overflow-x:auto;line-height:normal;font-family:Menlo,'DejaVu Sans Mono',consolas,'Courier New',monospace\"></pre>\n"
      ],
      "text/plain": []
     },
     "metadata": {},
     "output_type": "display_data"
    },
    {
     "data": {
      "text/plain": [
       "\u001b[1m<\u001b[0m\u001b[1;95mmatplotlib.legend.Legend\u001b[0m\u001b[39m object at \u001b[0m\u001b[1;36m0x7f63e0258b80\u001b[0m\u001b[1m>\u001b[0m"
      ]
     },
     "execution_count": 210,
     "metadata": {},
     "output_type": "execute_result"
    },
    {
     "data": {
      "text/html": [
       "<pre style=\"white-space:pre;overflow-x:auto;line-height:normal;font-family:Menlo,'DejaVu Sans Mono',consolas,'Courier New',monospace\"></pre>\n"
      ],
      "text/plain": []
     },
     "metadata": {},
     "output_type": "display_data"
    },
    {
     "data": {
      "image/png": "[encoded data removed]",
      "text/plain": [
       "\u001b[1m<\u001b[0m\u001b[1;95mFigure\u001b[0m\u001b[39m size 100\u001b[0m\u001b[1;36m0x500\u001b[0m\u001b[39m with \u001b[0m\u001b[1;36m2\u001b[0m\u001b[39m Axes\u001b[0m\u001b[1m>\u001b[0m"
      ]
     },
     "metadata": {},
     "output_type": "display_data"
    }
   ],
   "source": [
    "fig, ax = plt.subplots(1, 2, figsize=(10,5))\n",
    "\n",
    "ax[0].plot(history.history['loss'])\n",
    "ax[0].plot(history.history['val_loss'])\n",
    "ax[0].set_title('Loss history')\n",
    "ax[0].legend(['Train loss', 'Validation loss'],loc='upper right')\n",
    "\n",
    "ax[1].plot(history.history['accuracy'])\n",
    "ax[1].plot(history.history['val_accuracy'])\n",
    "ax[1].set_title('Accuracy history')\n",
    "ax[1].legend(['Train accuracy', 'Validation accuracy'], loc='upper right')"
   ]
  },
  {
   "cell_type": "code",
   "execution_count": 265,
   "id": "70d10b23-5ffa-4ec3-b795-56ae3e77c328",
   "metadata": {},
   "outputs": [],
   "source": [
    "poi_c2v.save_model('../../data/06_models/chars2vec-150-cosine-BiLSTM-sparsedEnc-Deep-namesDataset-english/')"
   ]
  },
  {
   "cell_type": "code",
   "execution_count": null,
   "id": "40d26ade-3e5f-4545-9877-89441e49066c",
   "metadata": {},
   "outputs": [],
   "source": [
    "poi_c2v.load_model('../../data/06_models/chars2vec-150-cosine-BiLSTM-sparsedEnc-geonames-spanish/')"
   ]
  },
  {
   "cell_type": "code",
   "execution_count": 212,
   "id": "c3c4da50-06a2-47b0-926d-aef8476c6e9c",
   "metadata": {},
   "outputs": [
    {
     "name": "stdout",
     "output_type": "stream",
     "text": [
      "Model: \"model_5\"\n",
      "__________________________________________________________________________________________________\n",
      " Layer (type)                   Output Shape         Param #     Connected to                     \n",
      "==================================================================================================\n",
      " left_branch_input (InputLayer)  [(None, 100, 1)]    0           []                               \n",
      "                                                                                                  \n",
      " right_branch_input (InputLayer  [(None, 100, 1)]    0           []                               \n",
      " )                                                                                                \n",
      "                                                                                                  \n",
      " model_4 (Functional)           (None, 300)          723600      ['left_branch_input[0][0]',      \n",
      "                                                                  'right_branch_input[0][0]']     \n",
      "                                                                                                  \n",
      " concatenate_4 (Concatenate)    (None, 600)          0           ['model_4[0][0]',                \n",
      "                                                                  'model_4[1][0]']                \n",
      "                                                                                                  \n",
      " multiply_2 (Multiply)          (None, 300)          0           ['model_4[0][0]',                \n",
      "                                                                  'model_4[1][0]']                \n",
      "                                                                                                  \n",
      " subtract_2 (Subtract)          (None, 300)          0           ['model_4[0][0]',                \n",
      "                                                                  'model_4[1][0]']                \n",
      "                                                                                                  \n",
      " concatenate_5 (Concatenate)    (None, 1200)         0           ['concatenate_4[0][0]',          \n",
      "                                                                  'multiply_2[0][0]',             \n",
      "                                                                  'subtract_2[0][0]']             \n",
      "                                                                                                  \n",
      " dropout_2 (Dropout)            (None, 1200)         0           ['concatenate_5[0][0]']          \n",
      "                                                                                                  \n",
      " dense_6 (Dense)                (None, 128)          153728      ['dropout_2[0][0]']              \n",
      "                                                                                                  \n",
      " dense_7 (Dense)                (None, 64)           8256        ['dense_6[0][0]']                \n",
      "                                                                                                  \n",
      " dense_8 (Dense)                (None, 1)            65          ['dense_7[0][0]']                \n",
      "                                                                                                  \n",
      "==================================================================================================\n",
      "Total params: 885,649\n",
      "Trainable params: 885,649\n",
      "Non-trainable params: 0\n",
      "__________________________________________________________________________________________________\n"
     ]
    }
   ],
   "source": [
    "poi_c2v.model.summary()"
   ]
  },
  {
   "cell_type": "code",
   "execution_count": 266,
   "id": "d771e780-12b9-4795-961b-c113a1ba261f",
   "metadata": {},
   "outputs": [],
   "source": [
    "X_test_1 = encode_sparsed_list(X_test[:, 0],char_to_index_dict=char_to_index, max_len=MAX_NAME_LEN)\n",
    "X_test_2 = encode_sparsed_list(X_test[:, 1],char_to_index_dict=char_to_index, max_len=MAX_NAME_LEN)\n",
    "\n",
    "X_train_1 = encode_sparsed_list(X_train[:, 0],char_to_index_dict=char_to_index, max_len=MAX_NAME_LEN)\n",
    "X_train_2 = encode_sparsed_list(X_train[:, 1],char_to_index_dict=char_to_index, max_len=MAX_NAME_LEN)"
   ]
  },
  {
   "cell_type": "code",
   "execution_count": 267,
   "id": "5d803071-7795-44a1-b057-646704dde891",
   "metadata": {},
   "outputs": [
    {
     "name": "stdout",
     "output_type": "stream",
     "text": [
      "29/29 [==============================] - 11s 123ms/step\n",
      "260/260 [==============================] - 32s 121ms/step\n"
     ]
    }
   ],
   "source": [
    "test_predictions = poi_c2v.model.predict((X_test_1, X_test_2))\n",
    "train_predictions = poi_c2v.model.predict((X_train_1, X_train_2))"
   ]
  },
  {
   "cell_type": "code",
   "execution_count": 268,
   "id": "ba28d180-f86f-4563-b9f4-9914ecc58e75",
   "metadata": {},
   "outputs": [
    {
     "data": {
      "text/html": [
       "<pre style=\"white-space:pre;overflow-x:auto;line-height:normal;font-family:Menlo,'DejaVu Sans Mono',consolas,'Courier New',monospace\"></pre>\n"
      ],
      "text/plain": []
     },
     "metadata": {},
     "output_type": "display_data"
    },
    {
     "data": {
      "text/plain": [
       "\n",
       "\u001b[1m(\u001b[0m\n",
       "    \u001b[1;35marray\u001b[0m\u001b[1m(\u001b[0m\u001b[1m[\u001b[0m\u001b[1;36m303\u001b[0m.,  \u001b[1;36m55\u001b[0m.,  \u001b[1;36m17\u001b[0m.,  \u001b[1;36m14\u001b[0m.,  \u001b[1;36m21\u001b[0m.,  \u001b[1;36m15\u001b[0m.,  \u001b[1;36m11\u001b[0m.,  \u001b[1;36m15\u001b[0m.,  \u001b[1;36m20\u001b[0m., \u001b[1;36m453\u001b[0m.\u001b[1m]\u001b[0m\u001b[1m)\u001b[0m,\n",
       "    \u001b[1;35marray\u001b[0m\u001b[1m(\u001b[0m\u001b[1m[\u001b[0m\u001b[1;36m1.23414247e-06\u001b[0m, \u001b[1;36m1.00000493e-01\u001b[0m, \u001b[1;36m1.99999750e-01\u001b[0m, \u001b[1;36m2.99998999e-01\u001b[0m,\n",
       "       \u001b[1;36m3.99998248e-01\u001b[0m, \u001b[1;36m4.99997526e-01\u001b[0m, \u001b[1;36m5.99996746e-01\u001b[0m, \u001b[1;36m6.99996054e-01\u001b[0m,\n",
       "       \u001b[1;36m7.99995303e-01\u001b[0m, \u001b[1;36m8.99994552e-01\u001b[0m, \u001b[1;36m9.99993801e-01\u001b[0m\u001b[1m]\u001b[0m\u001b[1m)\u001b[0m,\n",
       "    \u001b[1m<\u001b[0m\u001b[1;95mBarContainer\u001b[0m\u001b[39m object of \u001b[0m\u001b[1;36m10\u001b[0m\u001b[39m artists\u001b[0m\u001b[1m>\u001b[0m\n",
       "\u001b[1m)\u001b[0m"
      ]
     },
     "execution_count": 268,
     "metadata": {},
     "output_type": "execute_result"
    },
    {
     "data": {
      "text/html": [
       "<pre style=\"white-space:pre;overflow-x:auto;line-height:normal;font-family:Menlo,'DejaVu Sans Mono',consolas,'Courier New',monospace\"></pre>\n"
      ],
      "text/plain": []
     },
     "metadata": {},
     "output_type": "display_data"
    },
    {
     "data": {
      "image/png": "[encoded data removed]",
      "text/plain": [
       "\u001b[1m<\u001b[0m\u001b[1;95mFigure\u001b[0m\u001b[39m size 64\u001b[0m\u001b[1;36m0x480\u001b[0m\u001b[39m with \u001b[0m\u001b[1;36m1\u001b[0m\u001b[39m Axes\u001b[0m\u001b[1m>\u001b[0m"
      ]
     },
     "metadata": {},
     "output_type": "display_data"
    }
   ],
   "source": [
    "plt.hist(test_predictions)"
   ]
  },
  {
   "cell_type": "code",
   "execution_count": 215,
   "id": "209bae71-d802-4827-8c9e-d3f02beb4562",
   "metadata": {},
   "outputs": [
    {
     "data": {
      "text/html": [
       "<pre style=\"white-space:pre;overflow-x:auto;line-height:normal;font-family:Menlo,'DejaVu Sans Mono',consolas,'Courier New',monospace\"></pre>\n"
      ],
      "text/plain": []
     },
     "metadata": {},
     "output_type": "display_data"
    },
    {
     "data": {
      "text/html": [
       "<div>\n",
       "<style scoped>\n",
       "    .dataframe tbody tr th:only-of-type {\n",
       "        vertical-align: middle;\n",
       "    }\n",
       "\n",
       "    .dataframe tbody tr th {\n",
       "        vertical-align: top;\n",
       "    }\n",
       "\n",
       "    .dataframe thead th {\n",
       "        text-align: right;\n",
       "    }\n",
       "</style>\n",
       "<table border=\"1\" class=\"dataframe\">\n",
       "  <thead>\n",
       "    <tr style=\"text-align: right;\">\n",
       "      <th>col_0</th>\n",
       "      <th>False</th>\n",
       "      <th>True</th>\n",
       "    </tr>\n",
       "    <tr>\n",
       "      <th>row_0</th>\n",
       "      <th></th>\n",
       "      <th></th>\n",
       "    </tr>\n",
       "  </thead>\n",
       "  <tbody>\n",
       "    <tr>\n",
       "      <th>False</th>\n",
       "      <td>3341</td>\n",
       "      <td>133</td>\n",
       "    </tr>\n",
       "    <tr>\n",
       "      <th>True</th>\n",
       "      <td>118</td>\n",
       "      <td>4719</td>\n",
       "    </tr>\n",
       "  </tbody>\n",
       "</table>\n",
       "</div>"
      ],
      "text/plain": [
       "\n",
       "col_0  \u001b[3;91mFalse\u001b[0m  \u001b[3;92mTrue\u001b[0m \n",
       "row_0              \n",
       "\u001b[3;91mFalse\u001b[0m   \u001b[1;36m3341\u001b[0m    \u001b[1;36m133\u001b[0m\n",
       "\u001b[3;92mTrue\u001b[0m     \u001b[1;36m118\u001b[0m   \u001b[1;36m4719\u001b[0m"
      ]
     },
     "execution_count": 215,
     "metadata": {},
     "output_type": "execute_result"
    }
   ],
   "source": [
    "pd.crosstab((y_train>=.75).flatten(), (train_predictions>=.5).flatten())"
   ]
  },
  {
   "cell_type": "code",
   "execution_count": 270,
   "id": "464cd42c-a35d-421b-993d-fd82e28f39ce",
   "metadata": {},
   "outputs": [
    {
     "name": "stdout",
     "output_type": "stream",
     "text": [
      "              precision    recall  f1-score   support\n",
      "\n",
      "       False       0.95      0.95      0.95      3474\n",
      "        True       0.96      0.96      0.96      4837\n",
      "\n",
      "    accuracy                           0.96      8311\n",
      "   macro avg       0.96      0.96      0.96      8311\n",
      "weighted avg       0.96      0.96      0.96      8311\n",
      "\n"
     ]
    }
   ],
   "source": [
    "print(classification_report((y_train>=.5).flatten(), (train_predictions>=.5).flatten()))"
   ]
  },
  {
   "cell_type": "code",
   "execution_count": 271,
   "id": "5e6475be-da41-4300-be6f-61c7e24b73a3",
   "metadata": {},
   "outputs": [
    {
     "data": {
      "text/html": [
       "<pre style=\"white-space:pre;overflow-x:auto;line-height:normal;font-family:Menlo,'DejaVu Sans Mono',consolas,'Courier New',monospace\"></pre>\n"
      ],
      "text/plain": []
     },
     "metadata": {},
     "output_type": "display_data"
    },
    {
     "data": {
      "text/html": [
       "<div>\n",
       "<style scoped>\n",
       "    .dataframe tbody tr th:only-of-type {\n",
       "        vertical-align: middle;\n",
       "    }\n",
       "\n",
       "    .dataframe tbody tr th {\n",
       "        vertical-align: top;\n",
       "    }\n",
       "\n",
       "    .dataframe thead th {\n",
       "        text-align: right;\n",
       "    }\n",
       "</style>\n",
       "<table border=\"1\" class=\"dataframe\">\n",
       "  <thead>\n",
       "    <tr style=\"text-align: right;\">\n",
       "      <th>col_0</th>\n",
       "      <th>False</th>\n",
       "      <th>True</th>\n",
       "    </tr>\n",
       "    <tr>\n",
       "      <th>row_0</th>\n",
       "      <th></th>\n",
       "      <th></th>\n",
       "    </tr>\n",
       "  </thead>\n",
       "  <tbody>\n",
       "    <tr>\n",
       "      <th>False</th>\n",
       "      <td>366</td>\n",
       "      <td>27</td>\n",
       "    </tr>\n",
       "    <tr>\n",
       "      <th>True</th>\n",
       "      <td>44</td>\n",
       "      <td>487</td>\n",
       "    </tr>\n",
       "  </tbody>\n",
       "</table>\n",
       "</div>"
      ],
      "text/plain": [
       "\n",
       "col_0  \u001b[3;91mFalse\u001b[0m  \u001b[3;92mTrue\u001b[0m \n",
       "row_0              \n",
       "\u001b[3;91mFalse\u001b[0m    \u001b[1;36m366\u001b[0m     \u001b[1;36m27\u001b[0m\n",
       "\u001b[3;92mTrue\u001b[0m      \u001b[1;36m44\u001b[0m    \u001b[1;36m487\u001b[0m"
      ]
     },
     "execution_count": 271,
     "metadata": {},
     "output_type": "execute_result"
    }
   ],
   "source": [
    "pd.crosstab((y_test>=.75).flatten(), (test_predictions>=.5).flatten())"
   ]
  },
  {
   "cell_type": "code",
   "execution_count": 272,
   "id": "4a045273-2af7-49d0-8738-ea4237330719",
   "metadata": {},
   "outputs": [
    {
     "name": "stdout",
     "output_type": "stream",
     "text": [
      "              precision    recall  f1-score   support\n",
      "\n",
      "       False       0.89      0.93      0.91       393\n",
      "        True       0.95      0.92      0.93       531\n",
      "\n",
      "    accuracy                           0.92       924\n",
      "   macro avg       0.92      0.92      0.92       924\n",
      "weighted avg       0.92      0.92      0.92       924\n",
      "\n"
     ]
    }
   ],
   "source": [
    "print(classification_report((y_test>=.5).flatten(), (test_predictions>=.5).flatten()))"
   ]
  },
  {
   "cell_type": "code",
   "execution_count": 273,
   "id": "f1001e24-4103-4257-ba69-487a09b75c01",
   "metadata": {},
   "outputs": [],
   "source": [
    "from fuzzywuzzy import fuzz"
   ]
  },
  {
   "cell_type": "code",
   "execution_count": 274,
   "id": "243fb1d9-fdb4-4a42-84c1-cda865c4d807",
   "metadata": {},
   "outputs": [],
   "source": [
    "token_set_predictions = np.array([fuzz.token_set_ratio(name1, name2)/100 for name1, name2 in X_test])\n",
    "token_set_predictions_train = np.array([fuzz.token_set_ratio(name1, name2)/100 for name1, name2 in X_train])"
   ]
  },
  {
   "cell_type": "code",
   "execution_count": 275,
   "id": "76262aa6-2b13-46ce-8ed3-242729099662",
   "metadata": {},
   "outputs": [
    {
     "data": {
      "text/html": [
       "<pre style=\"white-space:pre;overflow-x:auto;line-height:normal;font-family:Menlo,'DejaVu Sans Mono',consolas,'Courier New',monospace\"></pre>\n"
      ],
      "text/plain": []
     },
     "metadata": {},
     "output_type": "display_data"
    },
    {
     "data": {
      "text/html": [
       "<div>\n",
       "<style scoped>\n",
       "    .dataframe tbody tr th:only-of-type {\n",
       "        vertical-align: middle;\n",
       "    }\n",
       "\n",
       "    .dataframe tbody tr th {\n",
       "        vertical-align: top;\n",
       "    }\n",
       "\n",
       "    .dataframe thead th {\n",
       "        text-align: right;\n",
       "    }\n",
       "</style>\n",
       "<table border=\"1\" class=\"dataframe\">\n",
       "  <thead>\n",
       "    <tr style=\"text-align: right;\">\n",
       "      <th>col_0</th>\n",
       "      <th>False</th>\n",
       "      <th>True</th>\n",
       "    </tr>\n",
       "    <tr>\n",
       "      <th>row_0</th>\n",
       "      <th></th>\n",
       "      <th></th>\n",
       "    </tr>\n",
       "  </thead>\n",
       "  <tbody>\n",
       "    <tr>\n",
       "      <th>False</th>\n",
       "      <td>164</td>\n",
       "      <td>229</td>\n",
       "    </tr>\n",
       "    <tr>\n",
       "      <th>True</th>\n",
       "      <td>26</td>\n",
       "      <td>505</td>\n",
       "    </tr>\n",
       "  </tbody>\n",
       "</table>\n",
       "</div>"
      ],
      "text/plain": [
       "\n",
       "col_0  \u001b[3;91mFalse\u001b[0m  \u001b[3;92mTrue\u001b[0m \n",
       "row_0              \n",
       "\u001b[3;91mFalse\u001b[0m    \u001b[1;36m164\u001b[0m    \u001b[1;36m229\u001b[0m\n",
       "\u001b[3;92mTrue\u001b[0m      \u001b[1;36m26\u001b[0m    \u001b[1;36m505\u001b[0m"
      ]
     },
     "execution_count": 275,
     "metadata": {},
     "output_type": "execute_result"
    }
   ],
   "source": [
    "pd.crosstab((y_test>=.5).flatten(), token_set_predictions>.75)"
   ]
  },
  {
   "cell_type": "code",
   "execution_count": 276,
   "id": "b4d25459-c959-47f6-91f6-d1bad6e0e272",
   "metadata": {},
   "outputs": [
    {
     "name": "stdout",
     "output_type": "stream",
     "text": [
      "              precision    recall  f1-score   support\n",
      "\n",
      "       False       0.86      0.42      0.56       393\n",
      "        True       0.69      0.95      0.80       531\n",
      "\n",
      "    accuracy                           0.72       924\n",
      "   macro avg       0.78      0.68      0.68       924\n",
      "weighted avg       0.76      0.72      0.70       924\n",
      "\n"
     ]
    }
   ],
   "source": [
    "print(classification_report((y_test>=.75).flatten(), token_set_predictions>.75))"
   ]
  },
  {
   "cell_type": "code",
   "execution_count": 277,
   "id": "bc777fd0-7dfa-458c-9818-50b9eb1793a3",
   "metadata": {},
   "outputs": [
    {
     "data": {
      "text/html": [
       "<pre style=\"white-space:pre;overflow-x:auto;line-height:normal;font-family:Menlo,'DejaVu Sans Mono',consolas,'Courier New',monospace\"></pre>\n"
      ],
      "text/plain": []
     },
     "metadata": {},
     "output_type": "display_data"
    },
    {
     "data": {
      "text/html": [
       "<div>\n",
       "<style scoped>\n",
       "    .dataframe tbody tr th:only-of-type {\n",
       "        vertical-align: middle;\n",
       "    }\n",
       "\n",
       "    .dataframe tbody tr th {\n",
       "        vertical-align: top;\n",
       "    }\n",
       "\n",
       "    .dataframe thead th {\n",
       "        text-align: right;\n",
       "    }\n",
       "</style>\n",
       "<table border=\"1\" class=\"dataframe\">\n",
       "  <thead>\n",
       "    <tr style=\"text-align: right;\">\n",
       "      <th>col_0</th>\n",
       "      <th>False</th>\n",
       "      <th>True</th>\n",
       "    </tr>\n",
       "    <tr>\n",
       "      <th>row_0</th>\n",
       "      <th></th>\n",
       "      <th></th>\n",
       "    </tr>\n",
       "  </thead>\n",
       "  <tbody>\n",
       "    <tr>\n",
       "      <th>False</th>\n",
       "      <td>1513</td>\n",
       "      <td>1961</td>\n",
       "    </tr>\n",
       "    <tr>\n",
       "      <th>True</th>\n",
       "      <td>194</td>\n",
       "      <td>4643</td>\n",
       "    </tr>\n",
       "  </tbody>\n",
       "</table>\n",
       "</div>"
      ],
      "text/plain": [
       "\n",
       "col_0  \u001b[3;91mFalse\u001b[0m  \u001b[3;92mTrue\u001b[0m \n",
       "row_0              \n",
       "\u001b[3;91mFalse\u001b[0m   \u001b[1;36m1513\u001b[0m   \u001b[1;36m1961\u001b[0m\n",
       "\u001b[3;92mTrue\u001b[0m     \u001b[1;36m194\u001b[0m   \u001b[1;36m4643\u001b[0m"
      ]
     },
     "execution_count": 277,
     "metadata": {},
     "output_type": "execute_result"
    }
   ],
   "source": [
    "pd.crosstab((y_train>=.5).flatten(), token_set_predictions_train>.75)"
   ]
  },
  {
   "cell_type": "code",
   "execution_count": 278,
   "id": "9a21afc5-bd7f-4575-9e85-be43f9888733",
   "metadata": {},
   "outputs": [
    {
     "name": "stdout",
     "output_type": "stream",
     "text": [
      "              precision    recall  f1-score   support\n",
      "\n",
      "       False       0.89      0.44      0.58      3474\n",
      "        True       0.70      0.96      0.81      4837\n",
      "\n",
      "    accuracy                           0.74      8311\n",
      "   macro avg       0.79      0.70      0.70      8311\n",
      "weighted avg       0.78      0.74      0.72      8311\n",
      "\n"
     ]
    }
   ],
   "source": [
    "print(classification_report((y_train>=.75).flatten(), token_set_predictions_train>.75))"
   ]
  },
  {
   "cell_type": "code",
   "execution_count": 279,
   "id": "05939c49-51ae-45d6-a32e-a4299e20a49a",
   "metadata": {},
   "outputs": [],
   "source": [
    "results = pd.DataFrame(X_test)\n",
    "results['prediction'] = test_predictions\n",
    "results['token_set_ratio'] = token_set_predictions\n",
    "results['label'] = y_test\n",
    "results.columns = ['name_1', 'name_2', 'prediction','token_set_ratio', 'label']\n",
    "results['error'] = results['prediction'] != results['label']"
   ]
  },
  {
   "cell_type": "code",
   "execution_count": 280,
   "id": "b7c0aab6-fd5c-4672-958b-f65fb6e148ee",
   "metadata": {},
   "outputs": [],
   "source": [
    "results_train = pd.DataFrame(X_train)\n",
    "results_train['prediction'] = train_predictions\n",
    "results_train['token_set_ratio'] = token_set_predictions_train\n",
    "results_train['label'] = y_train\n",
    "results_train.columns = ['name_1', 'name_2', 'prediction','token_set_ratio', 'label']\n",
    "results_train['error'] = (results_train['prediction']>.5).astype(int) != results_train['label'].astype(int)"
   ]
  },
  {
   "cell_type": "code",
   "execution_count": 281,
   "id": "e0c50178-6e8a-4f8e-a9f9-4767f4d4554d",
   "metadata": {},
   "outputs": [],
   "source": [
    "results.to_csv('results_test.csv', index=False)\n",
    "results_train.to_csv('results_train.csv', index=False)"
   ]
  },
  {
   "cell_type": "markdown",
   "id": "ae21aaa0-9e2e-42b2-bc54-ed0d108c17a5",
   "metadata": {},
   "source": [
    "# 6. Prediciton"
   ]
  },
  {
   "cell_type": "code",
   "execution_count": 282,
   "id": "a16124da-6699-44c3-b0f8-d95ffae2ed0c",
   "metadata": {},
   "outputs": [],
   "source": [
    "standard_1 = np.array(['dave smith', 'international business machine corp', 'bill gates', 'william h gates', 'mary miller', 'mary', 'ibm inc', 'ibm inc', 'dave smith', 'royal free hospital', 'royal free hospital emergency room', 'royal free hospital school of medicine'])\n",
    "standard_2 = np.array(['david smith', 'ibm', 'william gates', 'william a gates', 'mark miller', 'mark', 'ibm corp', 'ibs inc', 'smith dave', 'royal free hospital emergency room', 'royal free hospital immunology', 'royal free hospital immunology'])\n",
    "standard_target = np.array([1, 1, 1, 0, 0, 0, 1, 0, 1, 0, 0, 0, 0])\n",
    "token_set_ratio = [fuzz.token_set_ratio(name1, name2)/100 for name1, name2 in list(zip(standard_1, standard_2))]"
   ]
  },
  {
   "cell_type": "code",
   "execution_count": 283,
   "id": "aed0775d-7597-4607-bf66-460893fec003",
   "metadata": {},
   "outputs": [],
   "source": [
    "standard_1_vectorized = encode_sparsed_list(standard_1,char_to_index_dict=char_to_index, max_len=MAX_NAME_LEN)\n",
    "standard_2_vectorized = encode_sparsed_list(standard_2,char_to_index_dict=char_to_index, max_len=MAX_NAME_LEN)"
   ]
  },
  {
   "cell_type": "code",
   "execution_count": 284,
   "id": "be7fb3b6-3845-43c2-8c09-b3b7fc4c23cd",
   "metadata": {},
   "outputs": [
    {
     "name": "stdout",
     "output_type": "stream",
     "text": [
      "1/1 [==============================] - 0s 123ms/step\n"
     ]
    }
   ],
   "source": [
    "standard_predictions = poi_c2v.model.predict((standard_1_vectorized, standard_2_vectorized))"
   ]
  },
  {
   "cell_type": "code",
   "execution_count": 285,
   "id": "e347ac74-d2db-45d3-ae28-50c0b89cb9c7",
   "metadata": {},
   "outputs": [
    {
     "data": {
      "text/html": [
       "<pre style=\"white-space:pre;overflow-x:auto;line-height:normal;font-family:Menlo,'DejaVu Sans Mono',consolas,'Courier New',monospace\"></pre>\n"
      ],
      "text/plain": []
     },
     "metadata": {},
     "output_type": "display_data"
    },
    {
     "data": {
      "text/html": [
       "<div>\n",
       "<style scoped>\n",
       "    .dataframe tbody tr th:only-of-type {\n",
       "        vertical-align: middle;\n",
       "    }\n",
       "\n",
       "    .dataframe tbody tr th {\n",
       "        vertical-align: top;\n",
       "    }\n",
       "\n",
       "    .dataframe thead th {\n",
       "        text-align: right;\n",
       "    }\n",
       "</style>\n",
       "<table border=\"1\" class=\"dataframe\">\n",
       "  <thead>\n",
       "    <tr style=\"text-align: right;\">\n",
       "      <th></th>\n",
       "      <th>0</th>\n",
       "      <th>1</th>\n",
       "      <th>2</th>\n",
       "      <th>3</th>\n",
       "      <th>4</th>\n",
       "    </tr>\n",
       "  </thead>\n",
       "  <tbody>\n",
       "    <tr>\n",
       "      <th>0</th>\n",
       "      <td>dave smith</td>\n",
       "      <td>david smith</td>\n",
       "      <td>1</td>\n",
       "      <td>[0.99946195]</td>\n",
       "      <td>0.86</td>\n",
       "    </tr>\n",
       "    <tr>\n",
       "      <th>1</th>\n",
       "      <td>international business machine corp</td>\n",
       "      <td>ibm</td>\n",
       "      <td>1</td>\n",
       "      <td>[0.0008993209]</td>\n",
       "      <td>0.11</td>\n",
       "    </tr>\n",
       "    <tr>\n",
       "      <th>2</th>\n",
       "      <td>bill gates</td>\n",
       "      <td>william gates</td>\n",
       "      <td>1</td>\n",
       "      <td>[0.49239737]</td>\n",
       "      <td>0.78</td>\n",
       "    </tr>\n",
       "    <tr>\n",
       "      <th>3</th>\n",
       "      <td>william h gates</td>\n",
       "      <td>william a gates</td>\n",
       "      <td>0</td>\n",
       "      <td>[0.995741]</td>\n",
       "      <td>0.93</td>\n",
       "    </tr>\n",
       "    <tr>\n",
       "      <th>4</th>\n",
       "      <td>mary miller</td>\n",
       "      <td>mark miller</td>\n",
       "      <td>0</td>\n",
       "      <td>[0.98180974]</td>\n",
       "      <td>0.91</td>\n",
       "    </tr>\n",
       "    <tr>\n",
       "      <th>5</th>\n",
       "      <td>mary</td>\n",
       "      <td>mark</td>\n",
       "      <td>0</td>\n",
       "      <td>[0.9997431]</td>\n",
       "      <td>0.75</td>\n",
       "    </tr>\n",
       "    <tr>\n",
       "      <th>6</th>\n",
       "      <td>ibm inc</td>\n",
       "      <td>ibm corp</td>\n",
       "      <td>1</td>\n",
       "      <td>[0.18037309]</td>\n",
       "      <td>0.67</td>\n",
       "    </tr>\n",
       "    <tr>\n",
       "      <th>7</th>\n",
       "      <td>ibm inc</td>\n",
       "      <td>ibs inc</td>\n",
       "      <td>0</td>\n",
       "      <td>[0.77445084]</td>\n",
       "      <td>0.86</td>\n",
       "    </tr>\n",
       "    <tr>\n",
       "      <th>8</th>\n",
       "      <td>dave smith</td>\n",
       "      <td>smith dave</td>\n",
       "      <td>1</td>\n",
       "      <td>[0.008098268]</td>\n",
       "      <td>1.00</td>\n",
       "    </tr>\n",
       "    <tr>\n",
       "      <th>9</th>\n",
       "      <td>royal free hospital</td>\n",
       "      <td>royal free hospital emergency room</td>\n",
       "      <td>0</td>\n",
       "      <td>[0.96508694]</td>\n",
       "      <td>1.00</td>\n",
       "    </tr>\n",
       "    <tr>\n",
       "      <th>10</th>\n",
       "      <td>royal free hospital emergency room</td>\n",
       "      <td>royal free hospital immunology</td>\n",
       "      <td>0</td>\n",
       "      <td>[0.50182074]</td>\n",
       "      <td>0.78</td>\n",
       "    </tr>\n",
       "    <tr>\n",
       "      <th>11</th>\n",
       "      <td>royal free hospital school of medicine</td>\n",
       "      <td>royal free hospital immunology</td>\n",
       "      <td>0</td>\n",
       "      <td>[0.45671868]</td>\n",
       "      <td>0.78</td>\n",
       "    </tr>\n",
       "  </tbody>\n",
       "</table>\n",
       "</div>"
      ],
      "text/plain": [
       "\n",
       "                                         \u001b[1;36m0\u001b[0m  \\\n",
       "\u001b[1;36m0\u001b[0m                               dave smith   \n",
       "\u001b[1;36m1\u001b[0m      international business machine corp   \n",
       "\u001b[1;36m2\u001b[0m                               bill gates   \n",
       "\u001b[1;36m3\u001b[0m                          william h gates   \n",
       "\u001b[1;36m4\u001b[0m                              mary miller   \n",
       "\u001b[1;36m5\u001b[0m                                     mary   \n",
       "\u001b[1;36m6\u001b[0m                                  ibm inc   \n",
       "\u001b[1;36m7\u001b[0m                                  ibm inc   \n",
       "\u001b[1;36m8\u001b[0m                               dave smith   \n",
       "\u001b[1;36m9\u001b[0m                      royal free hospital   \n",
       "\u001b[1;36m10\u001b[0m      royal free hospital emergency room   \n",
       "\u001b[1;36m11\u001b[0m  royal free hospital school of medicine   \n",
       "\n",
       "                                     \u001b[1;36m1\u001b[0m  \u001b[1;36m2\u001b[0m               \u001b[1;36m3\u001b[0m     \u001b[1;36m4\u001b[0m  \n",
       "\u001b[1;36m0\u001b[0m                          david smith  \u001b[1;36m1\u001b[0m    \u001b[1m[\u001b[0m\u001b[1;36m0.99946195\u001b[0m\u001b[1m]\u001b[0m  \u001b[1;36m0.86\u001b[0m  \n",
       "\u001b[1;36m1\u001b[0m                                  ibm  \u001b[1;36m1\u001b[0m  \u001b[1m[\u001b[0m\u001b[1;36m0.0008993209\u001b[0m\u001b[1m]\u001b[0m  \u001b[1;36m0.11\u001b[0m  \n",
       "\u001b[1;36m2\u001b[0m                        william gates  \u001b[1;36m1\u001b[0m    \u001b[1m[\u001b[0m\u001b[1;36m0.49239737\u001b[0m\u001b[1m]\u001b[0m  \u001b[1;36m0.78\u001b[0m  \n",
       "\u001b[1;36m3\u001b[0m                      william a gates  \u001b[1;36m0\u001b[0m      \u001b[1m[\u001b[0m\u001b[1;36m0.995741\u001b[0m\u001b[1m]\u001b[0m  \u001b[1;36m0.93\u001b[0m  \n",
       "\u001b[1;36m4\u001b[0m                          mark miller  \u001b[1;36m0\u001b[0m    \u001b[1m[\u001b[0m\u001b[1;36m0.98180974\u001b[0m\u001b[1m]\u001b[0m  \u001b[1;36m0.91\u001b[0m  \n",
       "\u001b[1;36m5\u001b[0m                                 mark  \u001b[1;36m0\u001b[0m     \u001b[1m[\u001b[0m\u001b[1;36m0.9997431\u001b[0m\u001b[1m]\u001b[0m  \u001b[1;36m0.75\u001b[0m  \n",
       "\u001b[1;36m6\u001b[0m                             ibm corp  \u001b[1;36m1\u001b[0m    \u001b[1m[\u001b[0m\u001b[1;36m0.18037309\u001b[0m\u001b[1m]\u001b[0m  \u001b[1;36m0.67\u001b[0m  \n",
       "\u001b[1;36m7\u001b[0m                              ibs inc  \u001b[1;36m0\u001b[0m    \u001b[1m[\u001b[0m\u001b[1;36m0.77445084\u001b[0m\u001b[1m]\u001b[0m  \u001b[1;36m0.86\u001b[0m  \n",
       "\u001b[1;36m8\u001b[0m                           smith dave  \u001b[1;36m1\u001b[0m   \u001b[1m[\u001b[0m\u001b[1;36m0.008098268\u001b[0m\u001b[1m]\u001b[0m  \u001b[1;36m1.00\u001b[0m  \n",
       "\u001b[1;36m9\u001b[0m   royal free hospital emergency room  \u001b[1;36m0\u001b[0m    \u001b[1m[\u001b[0m\u001b[1;36m0.96508694\u001b[0m\u001b[1m]\u001b[0m  \u001b[1;36m1.00\u001b[0m  \n",
       "\u001b[1;36m10\u001b[0m      royal free hospital immunology  \u001b[1;36m0\u001b[0m    \u001b[1m[\u001b[0m\u001b[1;36m0.50182074\u001b[0m\u001b[1m]\u001b[0m  \u001b[1;36m0.78\u001b[0m  \n",
       "\u001b[1;36m11\u001b[0m      royal free hospital immunology  \u001b[1;36m0\u001b[0m    \u001b[1m[\u001b[0m\u001b[1;36m0.45671868\u001b[0m\u001b[1m]\u001b[0m  \u001b[1;36m0.78\u001b[0m  "
      ]
     },
     "execution_count": 285,
     "metadata": {},
     "output_type": "execute_result"
    }
   ],
   "source": [
    "pd.DataFrame(list(zip(standard_1, standard_2, standard_target, standard_predictions, token_set_ratio)))"
   ]
  },
  {
   "cell_type": "code",
   "execution_count": 286,
   "id": "77b60d6c-9a13-410f-a5d8-5195039d4b55",
   "metadata": {},
   "outputs": [
    {
     "data": {
      "text/html": [
       "<pre style=\"white-space:pre;overflow-x:auto;line-height:normal;font-family:Menlo,'DejaVu Sans Mono',consolas,'Courier New',monospace\"><span style=\"color: #7fbfbf; text-decoration-color: #7fbfbf\">[08/12/23 19:22:44] </span><span style=\"color: #000080; text-decoration-color: #000080\">INFO    </span> Loading data from <span style=\"color: #008000; text-decoration-color: #008000\">'geonames_latin_pairs'</span> <span style=\"font-weight: bold\">(</span>SparkDataSet<span style=\"font-weight: bold\">)</span><span style=\"color: #808000; text-decoration-color: #808000\">...</span>         <a href=\"file:///usr/local/lib/python3.9/dist-packages/kedro/io/data_catalog.py\" target=\"_blank\"><span style=\"color: #7f7f7f; text-decoration-color: #7f7f7f\">data_catalog.py</span></a><span style=\"color: #7f7f7f; text-decoration-color: #7f7f7f\">:</span><a href=\"file:///usr/local/lib/python3.9/dist-packages/kedro/io/data_catalog.py#475\" target=\"_blank\"><span style=\"color: #7f7f7f; text-decoration-color: #7f7f7f\">475</span></a>\n",
       "</pre>\n"
      ],
      "text/plain": [
       "\u001b[2;36m[08/12/23 19:22:44]\u001b[0m\u001b[2;36m \u001b[0m\u001b[34mINFO    \u001b[0m Loading data from \u001b[32m'geonames_latin_pairs'\u001b[0m \u001b[1m(\u001b[0mSparkDataSet\u001b[1m)\u001b[0m\u001b[33m...\u001b[0m         \u001b]8;id=566907;file:///usr/local/lib/python3.9/dist-packages/kedro/io/data_catalog.py\u001b\\\u001b[2mdata_catalog.py\u001b[0m\u001b]8;;\u001b\\\u001b[2m:\u001b[0m\u001b]8;id=388061;file:///usr/local/lib/python3.9/dist-packages/kedro/io/data_catalog.py#475\u001b\\\u001b[2m475\u001b[0m\u001b]8;;\u001b\\\n"
      ]
     },
     "metadata": {},
     "output_type": "display_data"
    },
    {
     "name": "stderr",
     "output_type": "stream",
     "text": [
      "                                                                                \r"
     ]
    }
   ],
   "source": [
    "geonames_pairs = catalog.load('geonames_latin_pairs')\n",
    "geonames_pairs = geonames_pairs.withColumn('target', when(col('match') == 'true', 1).otherwise(0).cast(FloatType()))\n",
    "geonames_pairs_es = geonames_pairs.filter(col('language_1').isin(['ES', 'MX']))\n",
    "geonames_normalized = geonames_pairs_es.withColumn('name_1_normalized', udf_normalize_chars(col('name_1'))) \\\n",
    "                .withColumn('name_2_normalized', udf_normalize_chars(col('name_2')))\n",
    "\n",
    "\n",
    "name_pairs = geonames_normalized.select('name_1_normalized', 'name_2_normalized').toPandas().values\n",
    "target = geonames_normalized.select(col('target')).toPandas().astype(float).values\n",
    "\n",
    "X1 = encode_sparsed_list(name_pairs[:, 0],char_to_index_dict=char_to_index, max_len=MAX_NAME_LEN)\n",
    "X2 = encode_sparsed_list(name_pairs[:, 1],char_to_index_dict=char_to_index, max_len=MAX_NAME_LEN)"
   ]
  },
  {
   "cell_type": "code",
   "execution_count": 287,
   "id": "35b4fb98-53ee-45ab-919a-041486825692",
   "metadata": {},
   "outputs": [
    {
     "name": "stdout",
     "output_type": "stream",
     "text": [
      "1708/1708 [==============================] - 210s 123ms/step\n"
     ]
    }
   ],
   "source": [
    "geonames_predictions = poi_c2v.model.predict((X1, X2))"
   ]
  },
  {
   "cell_type": "code",
   "execution_count": 288,
   "id": "dc50151b-8037-49c3-913e-24eb78625649",
   "metadata": {},
   "outputs": [
    {
     "data": {
      "text/html": [
       "<pre style=\"white-space:pre;overflow-x:auto;line-height:normal;font-family:Menlo,'DejaVu Sans Mono',consolas,'Courier New',monospace\"></pre>\n"
      ],
      "text/plain": []
     },
     "metadata": {},
     "output_type": "display_data"
    },
    {
     "data": {
      "text/html": [
       "<div>\n",
       "<style scoped>\n",
       "    .dataframe tbody tr th:only-of-type {\n",
       "        vertical-align: middle;\n",
       "    }\n",
       "\n",
       "    .dataframe tbody tr th {\n",
       "        vertical-align: top;\n",
       "    }\n",
       "\n",
       "    .dataframe thead th {\n",
       "        text-align: right;\n",
       "    }\n",
       "</style>\n",
       "<table border=\"1\" class=\"dataframe\">\n",
       "  <thead>\n",
       "    <tr style=\"text-align: right;\">\n",
       "      <th>col_0</th>\n",
       "      <th>False</th>\n",
       "      <th>True</th>\n",
       "    </tr>\n",
       "    <tr>\n",
       "      <th>row_0</th>\n",
       "      <th></th>\n",
       "      <th></th>\n",
       "    </tr>\n",
       "  </thead>\n",
       "  <tbody>\n",
       "    <tr>\n",
       "      <th>False</th>\n",
       "      <td>18117</td>\n",
       "      <td>9284</td>\n",
       "    </tr>\n",
       "    <tr>\n",
       "      <th>True</th>\n",
       "      <td>11604</td>\n",
       "      <td>15638</td>\n",
       "    </tr>\n",
       "  </tbody>\n",
       "</table>\n",
       "</div>"
      ],
      "text/plain": [
       "\n",
       "col_0  \u001b[3;91mFalse\u001b[0m  \u001b[3;92mTrue\u001b[0m \n",
       "row_0              \n",
       "\u001b[3;91mFalse\u001b[0m  \u001b[1;36m18117\u001b[0m   \u001b[1;36m9284\u001b[0m\n",
       "\u001b[3;92mTrue\u001b[0m   \u001b[1;36m11604\u001b[0m  \u001b[1;36m15638\u001b[0m"
      ]
     },
     "execution_count": 288,
     "metadata": {},
     "output_type": "execute_result"
    }
   ],
   "source": [
    "pd.crosstab((target>=.75).flatten(), (geonames_predictions>=.5).flatten())"
   ]
  },
  {
   "cell_type": "code",
   "execution_count": 290,
   "id": "bd4e955d-c4b3-44b0-95b0-a42561c6b07e",
   "metadata": {},
   "outputs": [
    {
     "name": "stdout",
     "output_type": "stream",
     "text": [
      "              precision    recall  f1-score   support\n",
      "\n",
      "       False       0.61      0.66      0.63     27401\n",
      "        True       0.63      0.57      0.60     27242\n",
      "\n",
      "    accuracy                           0.62     54643\n",
      "   macro avg       0.62      0.62      0.62     54643\n",
      "weighted avg       0.62      0.62      0.62     54643\n",
      "\n"
     ]
    }
   ],
   "source": [
    "print(classification_report((target>=.5).flatten(), geonames_predictions>.5))"
   ]
  },
  {
   "cell_type": "code",
   "execution_count": 291,
   "id": "a20f6ff8-c001-4d8c-b157-59be5c515aaf",
   "metadata": {},
   "outputs": [
    {
     "name": "stdout",
     "output_type": "stream",
     "text": [
      "              precision    recall  f1-score   support\n",
      "\n",
      "       False       0.61      0.66      0.63     27401\n",
      "        True       0.63      0.57      0.60     27242\n",
      "\n",
      "    accuracy                           0.62     54643\n",
      "   macro avg       0.62      0.62      0.62     54643\n",
      "weighted avg       0.62      0.62      0.62     54643\n",
      "\n"
     ]
    }
   ],
   "source": [
    "print(classification_report((target>=.5).flatten(), geonames_predictions>.5))"
   ]
  },
  {
   "cell_type": "code",
   "execution_count": 159,
   "id": "6f76abcc-8c09-4768-a84b-7b0f04900bc9",
   "metadata": {},
   "outputs": [
    {
     "data": {
      "text/html": [
       "<pre style=\"white-space:pre;overflow-x:auto;line-height:normal;font-family:Menlo,'DejaVu Sans Mono',consolas,'Courier New',monospace\"></pre>\n"
      ],
      "text/plain": []
     },
     "metadata": {},
     "output_type": "display_data"
    },
    {
     "data": {
      "text/html": [
       "<div>\n",
       "<style scoped>\n",
       "    .dataframe tbody tr th:only-of-type {\n",
       "        vertical-align: middle;\n",
       "    }\n",
       "\n",
       "    .dataframe tbody tr th {\n",
       "        vertical-align: top;\n",
       "    }\n",
       "\n",
       "    .dataframe thead th {\n",
       "        text-align: right;\n",
       "    }\n",
       "</style>\n",
       "<table border=\"1\" class=\"dataframe\">\n",
       "  <thead>\n",
       "    <tr style=\"text-align: right;\">\n",
       "      <th>col_0</th>\n",
       "      <th>False</th>\n",
       "      <th>True</th>\n",
       "    </tr>\n",
       "    <tr>\n",
       "      <th>row_0</th>\n",
       "      <th></th>\n",
       "      <th></th>\n",
       "    </tr>\n",
       "  </thead>\n",
       "  <tbody>\n",
       "    <tr>\n",
       "      <th>False</th>\n",
       "      <td>23164</td>\n",
       "      <td>4237</td>\n",
       "    </tr>\n",
       "    <tr>\n",
       "      <th>True</th>\n",
       "      <td>7350</td>\n",
       "      <td>19892</td>\n",
       "    </tr>\n",
       "  </tbody>\n",
       "</table>\n",
       "</div>"
      ],
      "text/plain": [
       "\n",
       "col_0  \u001b[3;91mFalse\u001b[0m  \u001b[3;92mTrue\u001b[0m \n",
       "row_0              \n",
       "\u001b[3;91mFalse\u001b[0m  \u001b[1;36m23164\u001b[0m   \u001b[1;36m4237\u001b[0m\n",
       "\u001b[3;92mTrue\u001b[0m    \u001b[1;36m7350\u001b[0m  \u001b[1;36m19892\u001b[0m"
      ]
     },
     "execution_count": 159,
     "metadata": {},
     "output_type": "execute_result"
    }
   ],
   "source": [
    "from fuzzywuzzy import fuzz\n",
    "\n",
    "token_set_predictions = np.array([fuzz.token_set_ratio(name1, name2)/100 for name1, name2 in name_pairs])>.75\n",
    "pd.crosstab((target>=.5).flatten(), token_set_predictions)"
   ]
  },
  {
   "cell_type": "code",
   "execution_count": 161,
   "id": "e121b341-177a-408f-848a-faaffde466e2",
   "metadata": {},
   "outputs": [
    {
     "name": "stdout",
     "output_type": "stream",
     "text": [
      "              precision    recall  f1-score   support\n",
      "\n",
      "       False       0.76      0.85      0.80     27401\n",
      "        True       0.82      0.73      0.77     27242\n",
      "\n",
      "    accuracy                           0.79     54643\n",
      "   macro avg       0.79      0.79      0.79     54643\n",
      "weighted avg       0.79      0.79      0.79     54643\n",
      "\n"
     ]
    }
   ],
   "source": [
    "print(classification_report((target>=.5).flatten(), token_set_predictions))"
   ]
  },
  {
   "cell_type": "code",
   "execution_count": null,
   "id": "f26e75ed-0afd-4d17-82b9-255bc2faf7c1",
   "metadata": {},
   "outputs": [],
   "source": []
  }
 ],
 "metadata": {
  "kernelspec": {
   "display_name": "Kedro (entity_name_matching_dnn)",
   "language": "python",
   "name": "kedro_entity_name_matching_dnn"
  },
  "language_info": {
   "codemirror_mode": {
    "name": "ipython",
    "version": 3
   },
   "file_extension": ".py",
   "mimetype": "text/x-python",
   "name": "python",
   "nbconvert_exporter": "python",
   "pygments_lexer": "ipython3",
   "version": "3.9.5"
  }
 },
 "nbformat": 4,
 "nbformat_minor": 5
}
