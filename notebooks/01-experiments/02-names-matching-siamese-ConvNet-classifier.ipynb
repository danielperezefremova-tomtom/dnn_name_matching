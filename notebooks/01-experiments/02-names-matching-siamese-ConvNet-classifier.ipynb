{
 "cells": [
  {
   "cell_type": "code",
   "execution_count": 1,
   "id": "4a689f22",
   "metadata": {},
   "outputs": [],
   "source": [
    "import pandas as pd\n",
    "from pyspark.sql.functions import (col, rand, udf, collect_set, collect_list, concat, array_distinct, flatten, when, length)\n",
    "import pyspark.sql.functions as F\n",
    "from pyspark.sql.types import ArrayType, StringType, FloatType\n",
    "from unidecode import unidecode\n",
    "import re\n",
    "from functools import reduce\n",
    "import numpy as np\n",
    "import tensorflow as tf\n",
    "import keras\n",
    "from fuzzywuzzy import fuzz\n",
    "\n",
    "from keras.models import Sequential\n",
    "from keras.layers import Dense, Dropout, GRU, Bidirectional, GlobalMaxPooling1D, Layer, Masking, Lambda, Permute\n",
    "import os\n",
    "import pickle\n",
    "from keras.layers import Bidirectional\n",
    "import matplotlib.pyplot as plt\n",
    "from sklearn.metrics import classification_report\n",
    "import functools\n",
    "from keras.callbacks import ModelCheckpoint\n",
    "from keras.layers import Dropout, concatenate\n",
    "from keras.activations import relu\n",
    "from sklearn.model_selection import train_test_split"
   ]
  },
  {
   "cell_type": "code",
   "execution_count": 2,
   "id": "40fe30d5",
   "metadata": {},
   "outputs": [],
   "source": [
    "#env: geoNames"
   ]
  },
  {
   "cell_type": "code",
   "execution_count": 3,
   "id": "5d835198",
   "metadata": {},
   "outputs": [
    {
     "data": {
      "text/html": [
       "<pre style=\"white-space:pre;overflow-x:auto;line-height:normal;font-family:Menlo,'DejaVu Sans Mono',consolas,'Courier New',monospace\"><span style=\"color: #7fbfbf; text-decoration-color: #7fbfbf\">[08/22/23 16:10:17] </span><span style=\"color: #000080; text-decoration-color: #000080\">INFO    </span> Loading data from <span style=\"color: #008000; text-decoration-color: #008000\">'geonames_latin_pairs'</span> <span style=\"font-weight: bold\">(</span>SparkDataSet<span style=\"font-weight: bold\">)</span><span style=\"color: #808000; text-decoration-color: #808000\">...</span>         <a href=\"file:///usr/local/lib/python3.9/dist-packages/kedro/io/data_catalog.py\" target=\"_blank\"><span style=\"color: #7f7f7f; text-decoration-color: #7f7f7f\">data_catalog.py</span></a><span style=\"color: #7f7f7f; text-decoration-color: #7f7f7f\">:</span><a href=\"file:///usr/local/lib/python3.9/dist-packages/kedro/io/data_catalog.py#475\" target=\"_blank\"><span style=\"color: #7f7f7f; text-decoration-color: #7f7f7f\">475</span></a>\n",
       "</pre>\n"
      ],
      "text/plain": [
       "\u001b[2;36m[08/22/23 16:10:17]\u001b[0m\u001b[2;36m \u001b[0m\u001b[34mINFO    \u001b[0m Loading data from \u001b[32m'geonames_latin_pairs'\u001b[0m \u001b[1m(\u001b[0mSparkDataSet\u001b[1m)\u001b[0m\u001b[33m...\u001b[0m         \u001b]8;id=705859;file:///usr/local/lib/python3.9/dist-packages/kedro/io/data_catalog.py\u001b\\\u001b[2mdata_catalog.py\u001b[0m\u001b]8;;\u001b\\\u001b[2m:\u001b[0m\u001b]8;id=137384;file:///usr/local/lib/python3.9/dist-packages/kedro/io/data_catalog.py#475\u001b\\\u001b[2m475\u001b[0m\u001b]8;;\u001b\\\n"
      ]
     },
     "metadata": {},
     "output_type": "display_data"
    },
    {
     "name": "stderr",
     "output_type": "stream",
     "text": [
      "                                                                                \r"
     ]
    }
   ],
   "source": [
    "geonames_pairs = catalog.load('geonames_latin_pairs')\n",
    "geonames_pairs = geonames_pairs.withColumn('target', when(col('match') == 'true', 1).otherwise(0).cast(FloatType()))"
   ]
  },
  {
   "cell_type": "code",
   "execution_count": 4,
   "id": "3d07f6ed-d33c-4ad5-926a-7be8c877ee4a",
   "metadata": {},
   "outputs": [
    {
     "name": "stderr",
     "output_type": "stream",
     "text": [
      "[Stage 1:>                                                        (0 + 16) / 16]\r"
     ]
    },
    {
     "name": "stdout",
     "output_type": "stream",
     "text": [
      "+----------+------+\n",
      "|language_1| count|\n",
      "+----------+------+\n",
      "|        CN|503487|\n",
      "|        IR|282669|\n",
      "|        RU|234588|\n",
      "|        TH|174396|\n",
      "|        AF|171604|\n",
      "|        NO|109708|\n",
      "|        KR|104579|\n",
      "|        TW| 85863|\n",
      "|        JP| 81481|\n",
      "|        IQ| 59890|\n",
      "|        FR| 58277|\n",
      "|        PK| 55530|\n",
      "|        TR| 49718|\n",
      "|        SE| 47650|\n",
      "|        EG| 47493|\n",
      "|        SY| 45737|\n",
      "|        GR| 41502|\n",
      "|        YE| 40943|\n",
      "|        UA| 39231|\n",
      "|        MX| 37547|\n",
      "+----------+------+\n",
      "only showing top 20 rows\n",
      "\n"
     ]
    },
    {
     "name": "stderr",
     "output_type": "stream",
     "text": [
      "                                                                                \r"
     ]
    }
   ],
   "source": [
    "geonames_pairs.groupBy('language_1').count().orderBy(col('count').desc()).limit(200).show()"
   ]
  },
  {
   "cell_type": "code",
   "execution_count": 5,
   "id": "08501f63-3fb8-40d3-ba35-2a1caedece40",
   "metadata": {},
   "outputs": [
    {
     "name": "stdout",
     "output_type": "stream",
     "text": [
      "+----------------+----------------+-------+-------+----------+----------+----------+----------+-----+------+\n",
      "|          name_1|          name_2|   id_1|   id_2|alphabet_1|alphabet_2|language_1|language_2|match|target|\n",
      "+----------------+----------------+-------+-------+----------+----------+----------+----------+-----+------+\n",
      "|     Homsterland| Hultensche Leij|2753420|2753428|     LATIN|     LATIN|        NL|        NL|false|   0.0|\n",
      "|       Wormingen|  Wormer en Jisp|2744170|2744172|     LATIN|     LATIN|        NL|        NL|false|   0.0|\n",
      "|         De Neer|     Neyderveyrt|2750455|2750467|     LATIN|     LATIN|        NL|        NL|false|   0.0|\n",
      "|     Spykerbosch|          Spronk|2746879|2746889|     LATIN|     LATIN|        NL|        NL|false|   0.0|\n",
      "|    Sint Pancras|Sint Odilienberg|2747225|2747229|     LATIN|     LATIN|        NL|        NL|false|   0.0|\n",
      "|Huis Voorstonden|          Voorst|2745279|2745297|     LATIN|     LATIN|        NL|        NL|false|   0.0|\n",
      "|        Terheden|          Terhei|2746456|2746457|     LATIN|     LATIN|        NL|        NL|false|   0.0|\n",
      "|        Schalsum|  Schaijkse Hoek|2747698|2747710|     LATIN|     LATIN|        NL|        NL|false|   0.0|\n",
      "|       IJselmeer|       Rio Issel|2753361|2753367|     LATIN|     LATIN|        NL|        NL|false|   0.0|\n",
      "|     IJssel Lake|   Sungai IJssel|2753361|2753367|     LATIN|     LATIN|        NL|        NL|false|   0.0|\n",
      "+----------------+----------------+-------+-------+----------+----------+----------+----------+-----+------+\n",
      "\n"
     ]
    }
   ],
   "source": [
    "geonames_pairs.filter(col('language_1') == 'NL').limit(10).show()"
   ]
  },
  {
   "cell_type": "code",
   "execution_count": 6,
   "id": "c9f413a7-818a-45c7-a1de-55aeb1b76dea",
   "metadata": {},
   "outputs": [],
   "source": [
    "geonames_pairs_es = geonames_pairs.filter((col('language_1') == col('language_2')) & (col('language_1').isin(['ES', 'MX', 'AR', 'VE', 'FR', 'IT', 'GB', 'US', 'BR', 'DE', 'NL'])))"
   ]
  },
  {
   "cell_type": "code",
   "execution_count": 7,
   "id": "09eb295f-64a9-4f01-8225-75cb11d74ad3",
   "metadata": {},
   "outputs": [
    {
     "name": "stderr",
     "output_type": "stream",
     "text": [
      "                                                                                \r"
     ]
    },
    {
     "data": {
      "text/html": [
       "<pre style=\"white-space:pre;overflow-x:auto;line-height:normal;font-family:Menlo,'DejaVu Sans Mono',consolas,'Courier New',monospace\"></pre>\n"
      ],
      "text/plain": []
     },
     "metadata": {},
     "output_type": "display_data"
    },
    {
     "data": {
      "text/plain": [
       "\u001b[1;36m195568\u001b[0m"
      ]
     },
     "execution_count": 7,
     "metadata": {},
     "output_type": "execute_result"
    }
   ],
   "source": [
    "geonames_pairs_es.count()"
   ]
  },
  {
   "cell_type": "code",
   "execution_count": 8,
   "id": "5aa0ec3a-6287-4874-8850-90fcf52a63c4",
   "metadata": {},
   "outputs": [
    {
     "name": "stderr",
     "output_type": "stream",
     "text": [
      "                                                                                \r"
     ]
    },
    {
     "name": "stdout",
     "output_type": "stream",
     "text": [
      "+--------------------+--------------------+--------+--------+----------+----------+----------+----------+-----+------+\n",
      "|              name_1|              name_2|    id_1|    id_2|alphabet_1|alphabet_2|language_1|language_2|match|target|\n",
      "+--------------------+--------------------+--------+--------+----------+----------+----------+----------+-----+------+\n",
      "|             Mahalon|           ma a long| 2996733| 2996733|     LATIN|     LATIN|        FR|        FR| true|   1.0|\n",
      "|            Hoogzand|            Khogmade| 2753660| 2753681|     LATIN|     LATIN|        NL|        NL|false|   0.0|\n",
      "|   fa lun ci hao sen|          farenbahha| 2928116| 2928163|     LATIN|     LATIN|        DE|        DE|false|   0.0|\n",
      "|             Moriana|     Caserio Moriana| 2513540| 2513540|     LATIN|     LATIN|        ES|        ES| true|   1.0|\n",
      "|               Orito|       Caserío Orito| 2513074| 2513074|     LATIN|     LATIN|        ES|        ES| true|   1.0|\n",
      "|             Leonhan|      LÈrm e Mussets| 6432274| 6432275|     LATIN|     LATIN|        FR|        FR|false|   0.0|\n",
      "|          Quan Spink|          Springfild| 5231992| 5232077|     LATIN|     LATIN|        US|        US|false|   0.0|\n",
      "|             Tàrbena|     Caserio Taramay| 2510601| 2510606|     LATIN|     LATIN|        ES|        ES|false|   0.0|\n",
      "|              Serber|Cervera de la Mar...| 6618453| 6618453|     LATIN|     LATIN|        FR|        FR| true|   1.0|\n",
      "|         Biển Salton|         Salton more| 5391505| 5391505|     LATIN|     LATIN|        US|        US| true|   1.0|\n",
      "|Serra do Taguaral...|   Ribeirao Taquaral| 3446796| 3446807|     LATIN|     LATIN|        BR|        BR|false|   0.0|\n",
      "|           El Coporo|     Cerro El Coporo|11225910|11225910|     LATIN|     LATIN|        MX|        MX| true|   1.0|\n",
      "|       bei ni mei li|          bynaymylay| 2521061| 2521061|     LATIN|     LATIN|        ES|        ES| true|   1.0|\n",
      "|Försterei Krämerp...|        Kraemerpfuhl| 2884822| 2884822|     LATIN|     LATIN|        DE|        DE| true|   1.0|\n",
      "|             Folkakh|Forsterei Voigtsteig| 2816702| 2816733|     LATIN|     LATIN|        DE|        DE|false|   0.0|\n",
      "|        Río Aliendre|                 Ali| 3130370| 3130373|     LATIN|     LATIN|        ES|        ES|false|   0.0|\n",
      "|      Agache Riviere|               Gache| 3009240| 3009240|     LATIN|     LATIN|        FR|        FR| true|   1.0|\n",
      "|            Sen-Boes|          Sen-Blimon| 2981365| 2981367|     LATIN|     LATIN|        FR|        FR|false|   0.0|\n",
      "|               Cuisy|     Cuisy-en-Almont| 3022111| 3022111|     LATIN|     LATIN|        FR|        FR| true|   1.0|\n",
      "|             Monbuae|    meng te bu wa ai| 2992900| 2992900|     LATIN|     LATIN|        FR|        FR| true|   1.0|\n",
      "|    Parin'e-le-Polen|               Piace| 6442652| 6442656|     LATIN|     LATIN|        FR|        FR|false|   0.0|\n",
      "|Congreso de la Na...|Argentine Nationa...| 6957100| 6957100|     LATIN|     LATIN|        AR|        AR| true|   1.0|\n",
      "| Gobernador Niniqués|  Gobernador M. Solá| 3854973| 3854979|     LATIN|     LATIN|        AR|        AR|false|   0.0|\n",
      "|lang bo pu lu da ...|  Lambaol-Gwitalmeze| 3007971| 3007971|     LATIN|     LATIN|        FR|        FR| true|   1.0|\n",
      "|        Punta Prieta|Puerto Peñasco In...| 3991260| 3991263|     LATIN|     LATIN|        MX|        MX|false|   0.0|\n",
      "|             Hagedet|            Hagedeth| 6440754| 6440754|     LATIN|     LATIN|        FR|        FR| true|   1.0|\n",
      "|   Ribeirão Tatupeva|               Tatui| 3446689| 3446692|     LATIN|     LATIN|        BR|        BR|false|   0.0|\n",
      "|   Ribeirão Barreiro|    Corrego Barreiro| 3470489| 3470492|     LATIN|     LATIN|        BR|        BR|false|   0.0|\n",
      "|               Morar|San-Floriano-del'...| 6538403| 6538404|     LATIN|     LATIN|        IT|        IT|false|   0.0|\n",
      "|              Ilheus|              Ilhéus| 6320871| 6320871|     LATIN|     LATIN|        BR|        BR| true|   1.0|\n",
      "|          Vartenberg|          Wartenburg| 2813935| 2813935|     LATIN|     LATIN|        DE|        DE| true|   1.0|\n",
      "|              Tivoli|         Mont Titano| 3165624| 3165630|     LATIN|     LATIN|        IT|        IT|false|   0.0|\n",
      "|Serra de Sao Goncalo|           Rio Goitá| 3398888| 3398900|     LATIN|     LATIN|        BR|        BR|false|   0.0|\n",
      "|     Jesuitenschloss|          Waldschloß| 2814810| 2814810|     LATIN|     LATIN|        DE|        DE| true|   1.0|\n",
      "|   Aerodromo de Azul|   Aeródromo de Azul| 6300579| 6300579|     LATIN|     LATIN|        AR|        AR| true|   1.0|\n",
      "|        Klajn Bersen|       Klein Berssen| 2889729| 2889729|     LATIN|     LATIN|        DE|        DE| true|   1.0|\n",
      "|     Baile Loch Cuan|       stran'gphorda| 2636724| 2636724|     LATIN|     LATIN|        GB|        GB| true|   1.0|\n",
      "|    Ribeirao Cherrie|      Riacho Cherrie| 3925179| 3925179|     LATIN|     LATIN|        BR|        BR| true|   1.0|\n",
      "|            Beranger| Le Berange Ruisseau| 3033440| 3033441|     LATIN|     LATIN|        FR|        FR|false|   0.0|\n",
      "|  Bahia de los Loros| Caleta de los Loros| 3846580| 3846580|     LATIN|     LATIN|        AR|        AR| true|   1.0|\n",
      "|Desvío Kilómetro 428|Desvio Kilometro 421| 3853152| 3853153|     LATIN|     LATIN|        AR|        AR|false|   0.0|\n",
      "|        Neckargemünd|     Stadt Rauenberg| 6558058| 6558059|     LATIN|     LATIN|        DE|        DE|false|   0.0|\n",
      "|    Val-de-Chalvagne|Castellet-Saint-C...| 3028372| 3028372|     LATIN|     LATIN|        FR|        FR| true|   1.0|\n",
      "| Aéroport de Trévise|Federico Fellini ...| 6299593| 6299599|     LATIN|     LATIN|        IT|        IT|false|   0.0|\n",
      "|sanjashinto shan mai|        San-Khasinto| 5392098| 5392098|     LATIN|     LATIN|        US|        US| true|   1.0|\n",
      "|  Stazione di Rimini|Rimini Järnvägsst...| 8714379| 8714379|     LATIN|     LATIN|        IT|        IT| true|   1.0|\n",
      "| Casas de Buenavista|  Caserio Buenavista| 2520770| 2520770|     LATIN|     LATIN|        ES|        ES| true|   1.0|\n",
      "|          Vallorcine|           Vallorsin| 2970882| 2970882|     LATIN|     LATIN|        FR|        FR| true|   1.0|\n",
      "|          Rio Salado|          Río Salado| 3520077| 3520077|     LATIN|     LATIN|        MX|        MX| true|   1.0|\n",
      "|           Leoncillo|        Isla de Leon| 2515074| 2515078|     LATIN|     LATIN|        ES|        ES|false|   0.0|\n",
      "|            Borderes|Bordeaux-Saint-Clair| 3031574| 3031578|     LATIN|     LATIN|        FR|        FR|false|   0.0|\n",
      "|Furado do Carandà...|Furo do Carandàzinho| 3467013| 3467013|     LATIN|     LATIN|        BR|        BR| true|   1.0|\n",
      "|             mo zhen|               Narcy| 6454383| 6454384|     LATIN|     LATIN|        FR|        FR|false|   0.0|\n",
      "|            Ashville|            aesyubil| 4505522| 4505522|     LATIN|     LATIN|        US|        US| true|   1.0|\n",
      "|Caserio de Campo ...|             Campiña| 2520417| 2520425|     LATIN|     LATIN|        ES|        ES|false|   0.0|\n",
      "|               Pocao|           Rio Poata| 3453395| 3453401|     LATIN|     LATIN|        BR|        BR|false|   0.0|\n",
      "|Santana Tercera S...|Santana Tercera S...| 3802282| 3802282|     LATIN|     LATIN|        MX|        MX| true|   1.0|\n",
      "|Caserío La Majadilla|Caserio La Majadilla| 3119496| 3119496|     LATIN|     LATIN|        ES|        ES| true|   1.0|\n",
      "|       Rio Cachoeira|    Bahia dos Boccas| 3405431| 3405439|     LATIN|     LATIN|        BR|        BR|false|   0.0|\n",
      "|           Lo Truèlh|         Le-Trjuehl'| 6455542| 6455542|     LATIN|     LATIN|        FR|        FR| true|   1.0|\n",
      "|           Orleanais|          Orleannais| 2989318| 2989318|     LATIN|     LATIN|        FR|        FR| true|   1.0|\n",
      "|            Castella|          kaseutelli| 3179626| 3179626|     LATIN|     LATIN|        IT|        IT| true|   1.0|\n",
      "|     Vestuz-Marmut'e| Vikersajm-Vil'sozen| 6617431| 6617432|     LATIN|     LATIN|        FR|        FR|false|   0.0|\n",
      "|  El Limón Escarpado|Sierra Filo Rincó...| 4027238| 4027241|     LATIN|     LATIN|        MX|        MX|false|   0.0|\n",
      "|Conceicao do Mato...|Conceição do Mato...| 3465745| 3465745|     LATIN|     LATIN|        BR|        BR| true|   1.0|\n",
      "|           Grünsfeld|            Külsheim| 6558013| 6558014|     LATIN|     LATIN|        DE|        DE|false|   0.0|\n",
      "|             Couture|  Couture-d’Argenson| 3022791| 3022791|     LATIN|     LATIN|        FR|        FR| true|   1.0|\n",
      "|  Etang de Hossegort|   Étang de Hossegor| 3013138| 3013138|     LATIN|     LATIN|        FR|        FR| true|   1.0|\n",
      "|      Rio Maué-mirim|      Rio Mauesmirim| 3395060| 3395060|     LATIN|     LATIN|        BR|        BR| true|   1.0|\n",
      "|           Ribadeume|         Santa Maria| 3111852| 3111852|     LATIN|     LATIN|        ES|        ES| true|   1.0|\n",
      "|     Vakarų Lodianas|         West Loðene| 2634354| 2634354|     LATIN|     LATIN|        GB|        GB| true|   1.0|\n",
      "|      Mareui-le-Port| ai he pan ma lei yi| 6435885| 6435886|     LATIN|     LATIN|        FR|        FR|false|   0.0|\n",
      "|            Barracão|           Rio Preto| 3451071| 3451074|     LATIN|     LATIN|        BR|        BR|false|   0.0|\n",
      "|Salinas de El Cab...|        Cabo de Gata| 2518666| 2518667|     LATIN|     LATIN|        ES|        ES|false|   0.0|\n",
      "|           lai sa ke|         La Sablette| 2999677| 2999682|     LATIN|     LATIN|        FR|        FR|false|   0.0|\n",
      "|           pei ge ma|Pegairolles-de-l'...| 2988220| 2988224|     LATIN|     LATIN|        FR|        FR|false|   0.0|\n",
      "|           Gutergotz|        Gutenstetten| 2913376| 2913385|     LATIN|     LATIN|        DE|        DE|false|   0.0|\n",
      "|          El Gavilán|          El Gavilan| 4009729| 4009733|     LATIN|     LATIN|        MX|        MX|false|   0.0|\n",
      "|Magdalena Petlacalco|           Magdalena| 3523761| 3523761|     LATIN|     LATIN|        MX|        MX| true|   1.0|\n",
      "|               Cenon|             seunong| 3027949| 3027950|     LATIN|     LATIN|        FR|        FR|false|   0.0|\n",
      "|  lyk plsyd  flwryda|            ma li hu| 4161344| 4161373|     LATIN|     LATIN|        US|        US|false|   0.0|\n",
      "|        pu ci mao si|Chainon Presidential| 5091383| 5091467|     LATIN|     LATIN|        US|        US|false|   0.0|\n",
      "|Gross Tzschacksdo...|    Groß Schacksdorf| 2915089| 2915090|     LATIN|     LATIN|        DE|        DE|false|   0.0|\n",
      "|Königliche Biblio...|Royal Library (17...|11185399|11185399|     LATIN|     LATIN|        DE|        DE| true|   1.0|\n",
      "|  Barneville-sur-Mer|     Barnvil Kartere| 3034886| 3034886|     LATIN|     LATIN|        FR|        FR| true|   1.0|\n",
      "|    Valle-di-Rostino|            Valloris| 2970958| 2970962|     LATIN|     LATIN|        FR|        FR|false|   0.0|\n",
      "|             Chambry|            Chamigny| 6451181| 6451182|     LATIN|     LATIN|        FR|        FR|false|   0.0|\n",
      "|   Grosser Barenberg|    Großer Bärenberg| 2952781| 2952781|     LATIN|     LATIN|        DE|        DE| true|   1.0|\n",
      "|             Piquete|          Ibateguara| 3398412| 3398412|     LATIN|     LATIN|        BR|        BR| true|   1.0|\n",
      "|Río Reguera del G...|     Reguera Guarena| 3112102| 3112102|     LATIN|     LATIN|        ES|        ES| true|   1.0|\n",
      "|La Lauquette Rivière|            Launette| 3005995| 3006009|     LATIN|     LATIN|        FR|        FR|false|   0.0|\n",
      "|         El Cimarron|         El Cimarrón|11211697|11211697|     LATIN|     LATIN|        MX|        MX| true|   1.0|\n",
      "|El Museo de Bella...|The Central Marke...|10278306|10278603|     LATIN|     LATIN|        ES|        ES|false|   0.0|\n",
      "|      Aquiles Serdán|La Ceiba Primera ...| 3802195| 3802200|     LATIN|     LATIN|        MX|        MX|false|   0.0|\n",
      "| Canhac de las Minas|            Cambonet| 6451360| 6451363|     LATIN|     LATIN|        FR|        FR|false|   0.0|\n",
      "|             Münster|         Memersbronn| 6437740| 6437741|     LATIN|     LATIN|        FR|        FR|false|   0.0|\n",
      "|               Bules|     Bajio de Bueyes| 3998041| 3998043|     LATIN|     LATIN|        MX|        MX|false|   0.0|\n",
      "|Baraboo Wisconsin...|               Baron| 5244650| 5244738|     LATIN|     LATIN|        US|        US|false|   0.0|\n",
      "|                Tixá|      Guadalupe Tixá| 3527285| 3527285|     LATIN|     LATIN|        MX|        MX| true|   1.0|\n",
      "|              ma lan|        mang de lang| 6437692| 6437694|     LATIN|     LATIN|        FR|        FR|false|   0.0|\n",
      "+--------------------+--------------------+--------+--------+----------+----------+----------+----------+-----+------+\n",
      "only showing top 100 rows\n",
      "\n"
     ]
    }
   ],
   "source": [
    "geonames_pairs_es.orderBy(rand()).show(100)"
   ]
  },
  {
   "cell_type": "markdown",
   "id": "0c853998-de01-4ee0-b2dd-88486dd74781",
   "metadata": {},
   "source": [
    "# 2. Function to normalize names"
   ]
  },
  {
   "cell_type": "markdown",
   "id": "4151d55b-eea0-4f85-9eb3-546b6fe96cd8",
   "metadata": {},
   "source": [
    "Requirements:\n",
    "\n",
    "* Transform to unicode characters (utf-8)\n",
    "* remove whitespaces"
   ]
  },
  {
   "cell_type": "code",
   "execution_count": 3,
   "id": "5a80a74d-63b6-4c7c-9aa5-952c4edca331",
   "metadata": {},
   "outputs": [],
   "source": [
    "def normalize_characters(text: str) -> str:\n",
    "    \n",
    "    if text is None:\n",
    "        return ''\n",
    "\n",
    "    strange_char_space = r\"!#$%&()*+,./:;<=>?@[\\]^_{|}~ºª®-\"\n",
    "    char_2_remove = \"\\\"'^`\"\n",
    "    space_mask = \"                                \"\n",
    "    punctuation_table = str.maketrans(strange_char_space, space_mask,\n",
    "                                        char_2_remove)\n",
    "    text = text.lower()\n",
    "    text = text.strip()\n",
    "    text = unidecode(text)\n",
    "    text = text.translate(punctuation_table)\n",
    "    text = re.sub(r' +', ' ', text)\n",
    "    text = text.strip()\n",
    "    text = text.lower()\n",
    "\n",
    "    return text\n",
    "\n",
    "udf_normalize_chars = udf(normalize_characters)"
   ]
  },
  {
   "cell_type": "code",
   "execution_count": 10,
   "id": "6a48c848-5dbf-4a6c-afeb-f9593c95d5d7",
   "metadata": {},
   "outputs": [],
   "source": [
    "geonames_normalized = geonames_pairs_es.withColumn('name_1_normalized', udf_normalize_chars(col('name_1'))) \\\n",
    "                .withColumn('name_2_normalized', udf_normalize_chars(col('name_2')))"
   ]
  },
  {
   "cell_type": "markdown",
   "id": "843e9da3-86ac-4b4f-9e41-c01d83bc8469",
   "metadata": {},
   "source": [
    "# 3. Function to generate vocabulary"
   ]
  },
  {
   "cell_type": "code",
   "execution_count": 11,
   "id": "4879fcf5-a024-4dad-8100-a505fe3c55a9",
   "metadata": {},
   "outputs": [],
   "source": [
    "def get_unique_characters(string: str) -> list:\n",
    "\n",
    "    unique_characters = list(set(string))\n",
    "    return unique_characters\n",
    "\n",
    "udf_get_unique_characters = udf(get_unique_characters, ArrayType(StringType()))\n",
    "\n",
    "\n",
    "def compute_max_word_len(string: str) -> int:\n",
    "    return max([len(word) for word in string.split(' ')])\n",
    "\n",
    "udf_compute_max_word_len = udf(compute_max_word_len)\n",
    "\n",
    "def compute_token_count(string: str) -> int:\n",
    "    return len([word for word in string.split(' ')])\n",
    "\n",
    "udf_compute_token_count = udf(compute_token_count)"
   ]
  },
  {
   "cell_type": "code",
   "execution_count": 12,
   "id": "8579c47b-2115-4acf-b6dd-c08257bf8f23",
   "metadata": {},
   "outputs": [],
   "source": [
    "geonames_characters = geonames_normalized.withColumn('unique_characters_1', udf_get_unique_characters(col('name_1_normalized'))) \\\n",
    "                                        .withColumn('unique_characters_2', udf_get_unique_characters(col('name_2_normalized'))) \\\n",
    "                                        .withColumn('unique_characters', array_distinct(concat(col('unique_characters_1'), col('unique_characters_2')))) \\\n",
    "                                        .withColumn('max_word_len_1', udf_compute_max_word_len(col('name_1_normalized')).cast(FloatType())) \\\n",
    "                                        .withColumn('max_word_len_2', udf_compute_max_word_len(col('name_2_normalized')).cast(FloatType())) \\\n",
    "                                        .withColumn('max_token_num_1', udf_compute_token_count(col('name_1_normalized')).cast(FloatType())) \\\n",
    "                                        .withColumn('max_token_num_2', udf_compute_token_count(col('name_2_normalized')).cast(FloatType())) \\\n",
    "                                        .withColumn('max_len_1', length(col('name_1_normalized')).cast(FloatType())) \\\n",
    "                                        .withColumn('max_len_2', length(col('name_2_normalized')).cast(FloatType()))"
   ]
  },
  {
   "cell_type": "code",
   "execution_count": 13,
   "id": "ab8f18d7-4089-42dc-a886-f50759d78518",
   "metadata": {},
   "outputs": [],
   "source": [
    "geonames_char_list = geonames_characters.groupBy().agg(\n",
    "    array_distinct(flatten(collect_set(col('unique_characters')))).alias('char_list'),\n",
    "    F.max(col('max_word_len_1')).alias('max_len_1'),\n",
    "    F.max(col('max_word_len_2')).alias('max_len_2'),\n",
    "    F.max(col('max_token_num_2')).alias('max_num_2'),\n",
    "    F.max(col('max_token_num_1')).alias('max_num_1'),\n",
    "    F.max(col('max_len_1')).alias('max_len_1'),\n",
    "    F.max(col('max_len_2')).alias('max_len_1')\n",
    ")"
   ]
  },
  {
   "cell_type": "code",
   "execution_count": 14,
   "id": "0c646bef-36bb-4044-a39e-2451a4643812",
   "metadata": {},
   "outputs": [
    {
     "name": "stderr",
     "output_type": "stream",
     "text": [
      "[Stage 9:=========================>                                (7 + 9) / 16]\r"
     ]
    },
    {
     "name": "stdout",
     "output_type": "stream",
     "text": [
      "+--------------------+---------+---------+---------+---------+---------+---------+\n",
      "|           char_list|max_len_1|max_len_2|max_num_2|max_num_1|max_len_1|max_len_1|\n",
      "+--------------------+---------+---------+---------+---------+---------+---------+\n",
      "|[n, o, r, a, i, t...|     27.0|     58.0|     18.0|     16.0|     96.0|    111.0|\n",
      "+--------------------+---------+---------+---------+---------+---------+---------+\n",
      "\n"
     ]
    },
    {
     "name": "stderr",
     "output_type": "stream",
     "text": [
      "                                                                                \r"
     ]
    }
   ],
   "source": [
    "geonames_char_list.show()"
   ]
  },
  {
   "cell_type": "code",
   "execution_count": 15,
   "id": "2c7c39dd-51f2-4c32-83e8-375848c3ae6f",
   "metadata": {},
   "outputs": [
    {
     "name": "stderr",
     "output_type": "stream",
     "text": [
      "                                                                                \r"
     ]
    }
   ],
   "source": [
    "characters_list = geonames_char_list.rdd.map(lambda x: x.char_list).collect()[0]\n",
    "sorted_char_list = sorted(characters_list)"
   ]
  },
  {
   "cell_type": "markdown",
   "id": "b87c9a47-d5dd-419d-a0a3-3e3356a3b8d7",
   "metadata": {},
   "source": [
    "# 4. One Hot encoder"
   ]
  },
  {
   "cell_type": "code",
   "execution_count": 16,
   "id": "6edd9435-5664-4ccf-a1ab-9209d8576c46",
   "metadata": {},
   "outputs": [],
   "source": [
    "char_to_index = {char: index+1 for index, char in enumerate(sorted_char_list)}\n",
    "index_to_char = {index: char for char, index in char_to_index.items()}\n",
    "MAX_WORD_LENGTH = 16\n",
    "MAX_TOKEN_NUMBER = 8\n",
    "MAX_NAME_LEN = 100"
   ]
  },
  {
   "cell_type": "code",
   "execution_count": 49,
   "id": "a2cc8fc2-1c79-4b8d-8528-c9ffdeed5eef",
   "metadata": {},
   "outputs": [
    {
     "data": {
      "text/html": [
       "<pre style=\"white-space:pre;overflow-x:auto;line-height:normal;font-family:Menlo,'DejaVu Sans Mono',consolas,'Courier New',monospace\"></pre>\n"
      ],
      "text/plain": []
     },
     "metadata": {},
     "output_type": "display_data"
    },
    {
     "data": {
      "text/plain": [
       "\n",
       "\u001b[1m{\u001b[0m\n",
       "    \u001b[32m'n'\u001b[0m: \u001b[1;36m1\u001b[0m,\n",
       "    \u001b[32m'v'\u001b[0m: \u001b[1;36m2\u001b[0m,\n",
       "    \u001b[32m'o'\u001b[0m: \u001b[1;36m3\u001b[0m,\n",
       "    \u001b[32m'r'\u001b[0m: \u001b[1;36m4\u001b[0m,\n",
       "    \u001b[32m'a'\u001b[0m: \u001b[1;36m5\u001b[0m,\n",
       "    \u001b[32m'i'\u001b[0m: \u001b[1;36m6\u001b[0m,\n",
       "    \u001b[32m't'\u001b[0m: \u001b[1;36m7\u001b[0m,\n",
       "    \u001b[32m' '\u001b[0m: \u001b[1;36m8\u001b[0m,\n",
       "    \u001b[32m's'\u001b[0m: \u001b[1;36m9\u001b[0m,\n",
       "    \u001b[32m'u'\u001b[0m: \u001b[1;36m10\u001b[0m,\n",
       "    \u001b[32m'l'\u001b[0m: \u001b[1;36m11\u001b[0m,\n",
       "    \u001b[32m'e'\u001b[0m: \u001b[1;36m12\u001b[0m,\n",
       "    \u001b[32m'p'\u001b[0m: \u001b[1;36m13\u001b[0m,\n",
       "    \u001b[32m'm'\u001b[0m: \u001b[1;36m14\u001b[0m,\n",
       "    \u001b[32m'c'\u001b[0m: \u001b[1;36m15\u001b[0m,\n",
       "    \u001b[32m'b'\u001b[0m: \u001b[1;36m16\u001b[0m,\n",
       "    \u001b[32m'd'\u001b[0m: \u001b[1;36m17\u001b[0m,\n",
       "    \u001b[32m'z'\u001b[0m: \u001b[1;36m18\u001b[0m,\n",
       "    \u001b[32m'j'\u001b[0m: \u001b[1;36m19\u001b[0m,\n",
       "    \u001b[32m'f'\u001b[0m: \u001b[1;36m20\u001b[0m,\n",
       "    \u001b[32m'x'\u001b[0m: \u001b[1;36m21\u001b[0m,\n",
       "    \u001b[32m'h'\u001b[0m: \u001b[1;36m22\u001b[0m,\n",
       "    \u001b[32m'y'\u001b[0m: \u001b[1;36m23\u001b[0m,\n",
       "    \u001b[32m'k'\u001b[0m: \u001b[1;36m24\u001b[0m,\n",
       "    \u001b[32m'q'\u001b[0m: \u001b[1;36m25\u001b[0m,\n",
       "    \u001b[32m'g'\u001b[0m: \u001b[1;36m26\u001b[0m,\n",
       "    \u001b[32m'5'\u001b[0m: \u001b[1;36m27\u001b[0m,\n",
       "    \u001b[32m'1'\u001b[0m: \u001b[1;36m28\u001b[0m,\n",
       "    \u001b[32m'w'\u001b[0m: \u001b[1;36m29\u001b[0m,\n",
       "    \u001b[32m'3'\u001b[0m: \u001b[1;36m30\u001b[0m,\n",
       "    \u001b[32m'7'\u001b[0m: \u001b[1;36m31\u001b[0m,\n",
       "    \u001b[32m'6'\u001b[0m: \u001b[1;36m32\u001b[0m,\n",
       "    \u001b[32m'9'\u001b[0m: \u001b[1;36m33\u001b[0m,\n",
       "    \u001b[32m'0'\u001b[0m: \u001b[1;36m34\u001b[0m,\n",
       "    \u001b[32m'2'\u001b[0m: \u001b[1;36m35\u001b[0m,\n",
       "    \u001b[32m'4'\u001b[0m: \u001b[1;36m36\u001b[0m,\n",
       "    \u001b[32m'8'\u001b[0m: \u001b[1;36m37\u001b[0m\n",
       "\u001b[1m}\u001b[0m"
      ]
     },
     "execution_count": 49,
     "metadata": {},
     "output_type": "execute_result"
    }
   ],
   "source": [
    "char_to_index"
   ]
  },
  {
   "cell_type": "code",
   "execution_count": 6,
   "id": "a7bec5f2-e610-4064-8a2d-7fdb634b4be3",
   "metadata": {},
   "outputs": [
    {
     "data": {
      "text/html": [
       "<pre style=\"white-space:pre;overflow-x:auto;line-height:normal;font-family:Menlo,'DejaVu Sans Mono',consolas,'Courier New',monospace\"><span style=\"color: #7fbfbf; text-decoration-color: #7fbfbf\">[09/03/23 19:26:49] </span><span style=\"color: #000080; text-decoration-color: #000080\">INFO    </span> Loading data from <span style=\"color: #008000; text-decoration-color: #008000\">'vocabulary_file'</span> <span style=\"font-weight: bold\">(</span>JSONDataSet<span style=\"font-weight: bold\">)</span><span style=\"color: #808000; text-decoration-color: #808000\">...</span>               <a href=\"file:///usr/local/lib/python3.9/dist-packages/kedro/io/data_catalog.py\" target=\"_blank\"><span style=\"color: #7f7f7f; text-decoration-color: #7f7f7f\">data_catalog.py</span></a><span style=\"color: #7f7f7f; text-decoration-color: #7f7f7f\">:</span><a href=\"file:///usr/local/lib/python3.9/dist-packages/kedro/io/data_catalog.py#475\" target=\"_blank\"><span style=\"color: #7f7f7f; text-decoration-color: #7f7f7f\">475</span></a>\n",
       "</pre>\n"
      ],
      "text/plain": [
       "\u001b[2;36m[09/03/23 19:26:49]\u001b[0m\u001b[2;36m \u001b[0m\u001b[34mINFO    \u001b[0m Loading data from \u001b[32m'vocabulary_file'\u001b[0m \u001b[1m(\u001b[0mJSONDataSet\u001b[1m)\u001b[0m\u001b[33m...\u001b[0m               \u001b]8;id=316473;file:///usr/local/lib/python3.9/dist-packages/kedro/io/data_catalog.py\u001b\\\u001b[2mdata_catalog.py\u001b[0m\u001b]8;;\u001b\\\u001b[2m:\u001b[0m\u001b]8;id=294154;file:///usr/local/lib/python3.9/dist-packages/kedro/io/data_catalog.py#475\u001b\\\u001b[2m475\u001b[0m\u001b]8;;\u001b\\\n"
      ]
     },
     "metadata": {},
     "output_type": "display_data"
    },
    {
     "data": {
      "text/html": [
       "<pre style=\"white-space:pre;overflow-x:auto;line-height:normal;font-family:Menlo,'DejaVu Sans Mono',consolas,'Courier New',monospace\"></pre>\n"
      ],
      "text/plain": []
     },
     "metadata": {},
     "output_type": "display_data"
    },
    {
     "data": {
      "text/plain": [
       "\n",
       "\u001b[1m{\u001b[0m\n",
       "    \u001b[32m'n'\u001b[0m: \u001b[1;36m1\u001b[0m,\n",
       "    \u001b[32m'v'\u001b[0m: \u001b[1;36m2\u001b[0m,\n",
       "    \u001b[32m'o'\u001b[0m: \u001b[1;36m3\u001b[0m,\n",
       "    \u001b[32m'r'\u001b[0m: \u001b[1;36m4\u001b[0m,\n",
       "    \u001b[32m'a'\u001b[0m: \u001b[1;36m5\u001b[0m,\n",
       "    \u001b[32m'i'\u001b[0m: \u001b[1;36m6\u001b[0m,\n",
       "    \u001b[32m't'\u001b[0m: \u001b[1;36m7\u001b[0m,\n",
       "    \u001b[32m' '\u001b[0m: \u001b[1;36m8\u001b[0m,\n",
       "    \u001b[32m's'\u001b[0m: \u001b[1;36m9\u001b[0m,\n",
       "    \u001b[32m'u'\u001b[0m: \u001b[1;36m10\u001b[0m,\n",
       "    \u001b[32m'l'\u001b[0m: \u001b[1;36m11\u001b[0m,\n",
       "    \u001b[32m'e'\u001b[0m: \u001b[1;36m12\u001b[0m,\n",
       "    \u001b[32m'p'\u001b[0m: \u001b[1;36m13\u001b[0m,\n",
       "    \u001b[32m'm'\u001b[0m: \u001b[1;36m14\u001b[0m,\n",
       "    \u001b[32m'c'\u001b[0m: \u001b[1;36m15\u001b[0m,\n",
       "    \u001b[32m'b'\u001b[0m: \u001b[1;36m16\u001b[0m,\n",
       "    \u001b[32m'd'\u001b[0m: \u001b[1;36m17\u001b[0m,\n",
       "    \u001b[32m'z'\u001b[0m: \u001b[1;36m18\u001b[0m,\n",
       "    \u001b[32m'j'\u001b[0m: \u001b[1;36m19\u001b[0m,\n",
       "    \u001b[32m'f'\u001b[0m: \u001b[1;36m20\u001b[0m,\n",
       "    \u001b[32m'x'\u001b[0m: \u001b[1;36m21\u001b[0m,\n",
       "    \u001b[32m'h'\u001b[0m: \u001b[1;36m22\u001b[0m,\n",
       "    \u001b[32m'y'\u001b[0m: \u001b[1;36m23\u001b[0m,\n",
       "    \u001b[32m'k'\u001b[0m: \u001b[1;36m24\u001b[0m,\n",
       "    \u001b[32m'q'\u001b[0m: \u001b[1;36m25\u001b[0m,\n",
       "    \u001b[32m'g'\u001b[0m: \u001b[1;36m26\u001b[0m,\n",
       "    \u001b[32m'5'\u001b[0m: \u001b[1;36m27\u001b[0m,\n",
       "    \u001b[32m'1'\u001b[0m: \u001b[1;36m28\u001b[0m,\n",
       "    \u001b[32m'w'\u001b[0m: \u001b[1;36m29\u001b[0m,\n",
       "    \u001b[32m'3'\u001b[0m: \u001b[1;36m30\u001b[0m,\n",
       "    \u001b[32m'7'\u001b[0m: \u001b[1;36m31\u001b[0m,\n",
       "    \u001b[32m'6'\u001b[0m: \u001b[1;36m32\u001b[0m,\n",
       "    \u001b[32m'9'\u001b[0m: \u001b[1;36m33\u001b[0m,\n",
       "    \u001b[32m'0'\u001b[0m: \u001b[1;36m34\u001b[0m,\n",
       "    \u001b[32m'2'\u001b[0m: \u001b[1;36m35\u001b[0m,\n",
       "    \u001b[32m'4'\u001b[0m: \u001b[1;36m36\u001b[0m,\n",
       "    \u001b[32m'8'\u001b[0m: \u001b[1;36m37\u001b[0m\n",
       "\u001b[1m}\u001b[0m"
      ]
     },
     "execution_count": 6,
     "metadata": {},
     "output_type": "execute_result"
    }
   ],
   "source": [
    "char_to_index = catalog.load('vocabulary_file')\n",
    "char_to_index"
   ]
  },
  {
   "cell_type": "code",
   "execution_count": 7,
   "id": "4be74622-e88c-44b9-b0b5-95e09b52251c",
   "metadata": {},
   "outputs": [],
   "source": [
    "def one_hot_encoder(string: str, char_to_index_dict: dict) -> np.array:\n",
    "\n",
    "    vocabulary_size = len(char_to_index_dict.keys())\n",
    "    vector = np.zeros(vocabulary_size)\n",
    "    for char in string:\n",
    "        vector[char_to_index[char]-1] = 1 \n",
    "    return vector\n",
    "\n",
    "def encode_name_list(iterable: iter, char_to_index_dict: dict) -> np.array:\n",
    "\n",
    "    return np.array([one_hot_encoder(string, char_to_index_dict) for string in iterable])\n",
    "\n",
    "def check_chars_OOV(string: str, char_to_index_dict: dict) -> bool:\n",
    "\n",
    "    vocabulary = char_to_index_dict.keys()\n",
    "    return all([char in vocabulary for char in string])\n",
    "\n",
    "def name_matrix_encoder(string: iter, char_to_index_dict: dict, max_word_length:int, max_token_number:int) -> np.array :\n",
    "\n",
    "    representation_matrix = np.zeros(shape=(max_token_number, max_word_length))\n",
    "    for token_ind, token in enumerate(string.split(' ')):\n",
    "        for char_ind, char in enumerate(token):\n",
    "            try:\n",
    "                representation_matrix[token_ind][char_ind] = char_to_index[char]\n",
    "            except IndexError:\n",
    "                continue\n",
    "    return representation_matrix\n",
    "\n",
    "def sparse_encoder(string: str, char_to_index_dict: dict, max_len: int) -> np.array:\n",
    "\n",
    "    vector = np.zeros(max_len)\n",
    "    for ind, char in enumerate(string):\n",
    "        if ind>=max_len:\n",
    "            break\n",
    "        vector[ind] = char_to_index[char]\n",
    "    return vector\n",
    "\n",
    "def encode_sparsed_list(iterable: iter, char_to_index_dict: dict, max_len: int) -> np.array:\n",
    "    \n",
    "    return np.array([sparse_encoder(string, char_to_index_dict, max_len) for string in iterable])\n"
   ]
  },
  {
   "cell_type": "code",
   "execution_count": 8,
   "id": "03ef1167-5181-44e8-9b95-30ac5a746557",
   "metadata": {},
   "outputs": [],
   "source": [
    "from keras.activations import relu\n",
    "    \n",
    "def custom_standardization(input_data):\n",
    "    lowercase     = tf.strings.lower(input_data)\n",
    "    stripped_html = tf.strings.regex_replace(lowercase, \"<br />\", \" \")\n",
    "    stripped_punc = tf.strings.regex_replace(stripped_html, \n",
    "                             \"[%s]\" % re.escape(string.punctuation), \"\")\n",
    "    return stripped_punc\n",
    "    \n",
    "def char_split(input_data):\n",
    "  return tf.strings.unicode_split(input_data, 'UTF-8')\n",
    "\n",
    "\n",
    "def get_conv_pool(x_input, max_len, suffix, n_grams=[2,3,5,8, 13], feature_maps=128):\n",
    "    branches = []\n",
    "    for n in n_grams:\n",
    "        branch = tf.keras.layers.Conv1D(filters=feature_maps, kernel_size=n, activation=relu,\n",
    "                        name='Conv_' + suffix + '_' + str(n))(x_input)\n",
    "        branch = tf.keras.layers.MaxPooling1D(pool_size=max_len - n + 1,\n",
    "                                              strides=1, padding='valid',\n",
    "                              name='MaxPooling_' + suffix + '_' + str(n))(branch)\n",
    "        branch = tf.keras.layers.Flatten(name='Flatten_' + suffix + '_' + str(n))(branch)\n",
    "        branches.append(branch)\n",
    "    return branches\n",
    "\n",
    "class poiNames_C2V:\n",
    "    \n",
    "    def __init__(self, embedding_dim:int, char_to_index:dict):\n",
    "\n",
    "        self.char_to_index = char_to_index\n",
    "        self.index_to_char = {char_to_index[char]: char for char in char_to_index}\n",
    "        self.input_size = MAX_NAME_LEN\n",
    "        self.embedding_dim = embedding_dim\n",
    "        self.vocabulary_size = len(char_to_index)\n",
    "\n",
    "        input_sequence = tf.keras.layers.Input(shape=self.input_size, name='input_sequence')\n",
    "        # x = tf.keras.layers.Masking(mask_value=0)(input_sequence)\n",
    "        x = tf.keras.layers.Embedding(input_dim=self.input_size, output_dim=self.embedding_dim, mask_zero=True)(input_sequence)\n",
    "        self.embedding_layer = tf.keras.models.Model(inputs=[input_sequence], outputs=x)\n",
    "\n",
    "        sequences_emb = self.embedding_layer(input_sequence)\n",
    "        branches = get_conv_pool(sequences_emb, max_len=100, suffix='unique')\n",
    "        z = concatenate(branches, axis=-1)\n",
    "        self.convolutions_layer = tf.keras.models.Model(inputs=[input_sequence], outputs=z)\n",
    "\n",
    "        left_branch_input = tf.keras.layers.Input(shape=(self.input_size, 1), name='left_branch_input')\n",
    "        right_branch_input = tf.keras.layers.Input(shape=(self.input_size, 1),name='right_branch_input')\n",
    "\n",
    "        left_branch_features = self.convolutions_layer(left_branch_input)\n",
    "        right_branch_features = self.convolutions_layer(right_branch_input)\n",
    "\n",
    "        \n",
    "        \n",
    "        product_layer = tf.keras.layers.Multiply()([left_branch_features, right_branch_features])\n",
    "        difference_layer = tf.keras.layers.Subtract()([left_branch_features, right_branch_features])\n",
    "        concat_layer = tf.keras.layers.Concatenate(axis=1)([left_branch_features, right_branch_features])\n",
    "        \n",
    "        representation_layer = tf.keras.layers.Concatenate(axis=1)([\n",
    "                                                                    concat_layer, product_layer, difference_layer, \n",
    "                                                                    ])\n",
    "        x = tf.keras.layers.Dense(1024, activation='relu')(representation_layer)\n",
    "        x = tf.keras.layers.Dropout(0.4)(x)\n",
    "        x = tf.keras.layers.Dense(1024, activation='relu')(x)\n",
    "        x = tf.keras.layers.Dropout(0.4)(x)\n",
    "        x = tf.keras.layers.Dense(1024, activation='relu')(x)\n",
    "        model_output = tf.keras.layers.Dense(1, activation='sigmoid')(x)\n",
    "        \n",
    "        self.model = tf.keras.models.Model(inputs=[left_branch_input, right_branch_input], outputs=model_output)\n",
    "        self.model.compile(loss='binary_crossentropy', optimizer='adam', metrics=['accuracy',\n",
    "                                                              tf.keras.metrics.Precision(),\n",
    "                                                              tf.keras.metrics.Recall()])\n",
    "        \n",
    "    def fit(\n",
    "        self, name_pairs, target, max_epochs:int, patience:int, validation_split:float, batch_size:int, callbacks: iter):\n",
    "        \n",
    "        X1 = encode_sparsed_list(name_pairs[:, 0],char_to_index_dict=self.char_to_index, max_len=MAX_NAME_LEN)\n",
    "        X2 = encode_sparsed_list(name_pairs[:, 1], char_to_index_dict=self.char_to_index, max_len=MAX_NAME_LEN)\n",
    "        X1 = np.expand_dims(X1, axis=-1)\n",
    "        X2 = np.expand_dims(X2, axis=-1)\n",
    "        X1_pad = tf.keras.preprocessing.sequence.pad_sequences(X1)\n",
    "        X2_pad = tf.keras.preprocessing.sequence.pad_sequences(X2)\n",
    "        \n",
    "        self.model.fit((X1_pad, X2_pad), target,verbose=1,\n",
    "                    batch_size=batch_size, epochs=max_epochs,\n",
    "                    validation_split=validation_split,\n",
    "                    callbacks=[tf.keras.callbacks.EarlyStopping(monitor='val_loss', patience=patience)]\n",
    "                            + callbacks)\n",
    "\n",
    "\n",
    "    def save_model(self, path_to_model):\n",
    "        '''\n",
    "        Saves trained model to directory.\n",
    "    \n",
    "        :param path_to_model: str, path to save model.\n",
    "        '''\n",
    "    \n",
    "        if not os.path.exists(path_to_model):\n",
    "            os.makedirs(path_to_model)\n",
    "        \n",
    "        self.model.save_weights(path_to_model + '/weights.h5')\n",
    "    \n",
    "        with open(path_to_model + '/model.pkl', 'wb') as f:\n",
    "            pickle.dump([self.embedding_dim, self.char_to_index], f, protocol=2)\n",
    "\n",
    "\n",
    "    def load_model(self, path):\n",
    "        '''\n",
    "        Loads trained model.\n",
    "    \n",
    "        :param path: loads model from `path`.\n",
    "    \n",
    "        :return c2v_model: Chars2Vec object, trained model.\n",
    "        '''\n",
    "        path_to_model = path\n",
    "    \n",
    "        with open(path_to_model + '/model.pkl', 'rb') as f:\n",
    "            structure = pickle.load(f)\n",
    "            embedding_dim, char_to_index = structure[0], structure[1]\n",
    "    \n",
    "        model = poiNames_C2V(embedding_dim=embedding_dim, char_to_index=char_to_index)\n",
    "        model.model.load_weights(path_to_model + '/weights.h5')\n",
    "        model.model.compile(optimizer='adam', loss='mae')\n",
    "    \n",
    "        return model\n",
    "\n",
    "\n",
    "    def vectorize(self, iterable: iter) -> np.array:\n",
    "        \n",
    "        X = encode_sparsed_list(iterable,char_to_index_dict=self.char_to_index)\n",
    "        X = np.expand_dims(X, axis=-1)\n",
    "        X_pad = tf.keras.preprocessing.sequence.pad_sequences(X)\n",
    "\n",
    "        return X_pad\n",
    "        "
   ]
  },
  {
   "cell_type": "code",
   "execution_count": 10,
   "id": "b0761483-6dcb-4c79-baa9-aa797aebbf18",
   "metadata": {},
   "outputs": [],
   "source": [
    "MAX_NAME_LEN = 100"
   ]
  },
  {
   "cell_type": "code",
   "execution_count": 11,
   "id": "d1b3f634-c81c-4447-906e-2575f66be0f4",
   "metadata": {},
   "outputs": [
    {
     "name": "stderr",
     "output_type": "stream",
     "text": [
      "2023-09-03 19:27:08.682422: I tensorflow/core/platform/cpu_feature_guard.cc:193] This TensorFlow binary is optimized with oneAPI Deep Neural Network Library (oneDNN) to use the following CPU instructions in performance-critical operations:  AVX2 AVX512F AVX512_VNNI FMA\n",
      "To enable them in other operations, rebuild TensorFlow with the appropriate compiler flags.\n"
     ]
    }
   ],
   "source": [
    "poi_c2v = poiNames_C2V(150, char_to_index)"
   ]
  },
  {
   "cell_type": "code",
   "execution_count": 12,
   "id": "01dd7a87-0ac4-477f-8893-36dc8b85ded3",
   "metadata": {},
   "outputs": [
    {
     "name": "stdout",
     "output_type": "stream",
     "text": [
      "Model: \"model_2\"\n",
      "__________________________________________________________________________________________________\n",
      " Layer (type)                   Output Shape         Param #     Connected to                     \n",
      "==================================================================================================\n",
      " left_branch_input (InputLayer)  [(None, 100, 1)]    0           []                               \n",
      "                                                                                                  \n",
      " right_branch_input (InputLayer  [(None, 100, 1)]    0           []                               \n",
      " )                                                                                                \n",
      "                                                                                                  \n",
      " model_1 (Functional)           (None, 640)          610840      ['left_branch_input[0][0]',      \n",
      "                                                                  'right_branch_input[0][0]']     \n",
      "                                                                                                  \n",
      " concatenate_1 (Concatenate)    (None, 1280)         0           ['model_1[0][0]',                \n",
      "                                                                  'model_1[1][0]']                \n",
      "                                                                                                  \n",
      " multiply (Multiply)            (None, 640)          0           ['model_1[0][0]',                \n",
      "                                                                  'model_1[1][0]']                \n",
      "                                                                                                  \n",
      " subtract (Subtract)            (None, 640)          0           ['model_1[0][0]',                \n",
      "                                                                  'model_1[1][0]']                \n",
      "                                                                                                  \n",
      " concatenate_2 (Concatenate)    (None, 2560)         0           ['concatenate_1[0][0]',          \n",
      "                                                                  'multiply[0][0]',               \n",
      "                                                                  'subtract[0][0]']               \n",
      "                                                                                                  \n",
      " dense (Dense)                  (None, 1024)         2622464     ['concatenate_2[0][0]']          \n",
      "                                                                                                  \n",
      " dropout (Dropout)              (None, 1024)         0           ['dense[0][0]']                  \n",
      "                                                                                                  \n",
      " dense_1 (Dense)                (None, 1024)         1049600     ['dropout[0][0]']                \n",
      "                                                                                                  \n",
      " dropout_1 (Dropout)            (None, 1024)         0           ['dense_1[0][0]']                \n",
      "                                                                                                  \n",
      " dense_2 (Dense)                (None, 1024)         1049600     ['dropout_1[0][0]']              \n",
      "                                                                                                  \n",
      " dense_3 (Dense)                (None, 1)            1025        ['dense_2[0][0]']                \n",
      "                                                                                                  \n",
      "==================================================================================================\n",
      "Total params: 5,333,529\n",
      "Trainable params: 5,333,529\n",
      "Non-trainable params: 0\n",
      "__________________________________________________________________________________________________\n"
     ]
    }
   ],
   "source": [
    "poi_c2v.model.summary()"
   ]
  },
  {
   "cell_type": "markdown",
   "id": "4c665c4c-96ae-41fb-a6b5-47ab07a472d5",
   "metadata": {},
   "source": [
    "## Data Preparation"
   ]
  },
  {
   "cell_type": "code",
   "execution_count": 41,
   "id": "218631cf-b5e2-4099-8451-6a809002d04f",
   "metadata": {},
   "outputs": [
    {
     "name": "stderr",
     "output_type": "stream",
     "text": [
      "                                                                                \r"
     ]
    }
   ],
   "source": [
    "name_pairs = geonames_characters.select('name_1_normalized', 'name_2_normalized').toPandas().values\n",
    "target = geonames_characters.select(col('target')).toPandas().astype(float).values"
   ]
  },
  {
   "cell_type": "markdown",
   "id": "ab21a6c4-b5b9-4d83-bd6c-6524d7d19970",
   "metadata": {},
   "source": [
    "# Orbis data preparation"
   ]
  },
  {
   "cell_type": "code",
   "execution_count": 42,
   "id": "e3e4d580-31a3-4bcd-bad2-1c0c39d01b32",
   "metadata": {},
   "outputs": [],
   "source": [
    "gb_path = '../../data/01_raw/tomtom/orbis/alt_names/GBR/planet_osm_point_202308151142.csv'\n",
    "es_path = '../../data/05_model_input/20230901-test-0005/train.csv'\n",
    "it_path = '../../data/01_raw/tomtom/orbis/alt_names/ITA/planet_osm_point_202308221736.csv'"
   ]
  },
  {
   "cell_type": "code",
   "execution_count": 43,
   "id": "a044094b-53e8-4f80-ad4b-669265994e56",
   "metadata": {},
   "outputs": [],
   "source": [
    "def prepare_orbis_data(path):\n",
    "    \n",
    "    orbis_data = pd.read_csv(path)\n",
    "    orbis_data['name'] = orbis_data['name'].apply(lambda x: normalize_characters(x))\n",
    "    orbis_data['alt_name'] = orbis_data['alt_name'].apply(lambda x: normalize_characters(x))\n",
    "    orbis_data['target'] = 1\n",
    "    \n",
    "    pos_name_pairs = orbis_data[['name', 'alt_name']].values\n",
    "    neg_name_pairs = orbis_data[['name', 'alt_name']].values.copy()\n",
    "    \n",
    "    pos_target = orbis_data['target'].values\n",
    "    neg_target = np.zeros(len(neg_name_pairs))\n",
    "    \n",
    "    np.random.shuffle(neg_name_pairs[:, 0])\n",
    "    \n",
    "    name_pairs_orbis = np.concatenate((neg_name_pairs, pos_name_pairs))\n",
    "    target_orbis = np.concatenate((neg_target, pos_target))\n",
    "\n",
    "    return name_pairs_orbis, target_orbis"
   ]
  },
  {
   "cell_type": "code",
   "execution_count": 44,
   "id": "d323ad72-791b-48d6-a1de-5c67203bb2f9",
   "metadata": {},
   "outputs": [],
   "source": [
    "pairs_gb_orbis, target_gb_orbis = prepare_orbis_data(gb_path)\n",
    "pairs_es_orbis, target_es_orbis = prepare_orbis_data(es_path)\n",
    "pairs_it_orbis, target_it_orbis = prepare_orbis_data(it_path)"
   ]
  },
  {
   "cell_type": "markdown",
   "id": "d9e0fb66-7b7e-492c-877d-933bb77178e7",
   "metadata": {},
   "source": [
    "# Split "
   ]
  },
  {
   "cell_type": "code",
   "execution_count": 30,
   "id": "7d3b32fe-915c-4bb6-a8a0-d15483dedc19",
   "metadata": {},
   "outputs": [],
   "source": [
    "def generate_training_data(name_pairs, target):\n",
    "    X_train, X_test, y_train, y_test = train_test_split(name_pairs, target, test_size=0.1, random_state=0)\n",
    "    print(len(X_train), len(X_test))\n",
    "    return X_train, X_test, y_train, y_test"
   ]
  },
  {
   "cell_type": "code",
   "execution_count": 31,
   "id": "dc38cc87-f18e-43a8-8e8e-fd5aa688129e",
   "metadata": {},
   "outputs": [],
   "source": [
    "# all_pairs = np.concatenate([name_pairs, name_pairs_orbis, data_standard_pairs], axis=0)\n",
    "# all_target = np.concatenate([target.flatten(), target_orbis, data_standard_target], axis=0).reshape(-1, 1)\n",
    "\n",
    "all_pairs = np.concatenate([pairs_gb_orbis, pairs_es_orbis, pairs_it_orbis], axis=0)\n",
    "all_target = np.concatenate([target_gb_orbis, target_es_orbis, target_it_orbis], axis=0).reshape(-1, 1)"
   ]
  },
  {
   "cell_type": "code",
   "execution_count": 46,
   "id": "b4ef5de4-4b8f-4ad5-acf9-ba1b4a01ca90",
   "metadata": {},
   "outputs": [
    {
     "name": "stdout",
     "output_type": "stream",
     "text": [
      "85892 9544\n"
     ]
    }
   ],
   "source": [
    "# X_train, X_test, y_train, y_test = generate_training_data(name_pairs, target)\n",
    "# X_train, X_test, y_train, y_test = generate_training_data(name_pairs_orbis, target_orbis)\n",
    "X_train, X_test, y_train, y_test = generate_training_data(pairs_es_orbis, target_es_orbis)\n",
    "# X_train, X_test, y_train, y_test = generate_training_data(all_pairs, all_target)"
   ]
  },
  {
   "cell_type": "code",
   "execution_count": 54,
   "id": "1e8940c1-0c30-4fc7-9d94-09de0440e2ef",
   "metadata": {},
   "outputs": [
    {
     "data": {
      "text/html": [
       "<pre style=\"white-space:pre;overflow-x:auto;line-height:normal;font-family:Menlo,'DejaVu Sans Mono',consolas,'Courier New',monospace\"></pre>\n"
      ],
      "text/plain": []
     },
     "metadata": {},
     "output_type": "display_data"
    },
    {
     "data": {
      "text/plain": [
       "\n",
       "\u001b[1m(\u001b[0m\n",
       "    \u001b[1;35marray\u001b[0m\u001b[1m(\u001b[0m\u001b[1m[\u001b[0m\u001b[1m[\u001b[0m\u001b[32m'os caraveis'\u001b[0m, \u001b[32m'cuevas de german'\u001b[0m\u001b[1m]\u001b[0m,\n",
       "       \u001b[1m[\u001b[0m\u001b[32m'les vinyes'\u001b[0m, \u001b[32m'boutique hotel spa les vinyes'\u001b[0m\u001b[1m]\u001b[0m,\n",
       "       \u001b[1m[\u001b[0m\u001b[32m'meson diana'\u001b[0m, \u001b[32m'puerto de los neveros'\u001b[0m\u001b[1m]\u001b[0m,\n",
       "       \u001b[33m...\u001b[0m,\n",
       "       \u001b[1m[\u001b[0m\u001b[32m'murallo y arco de bezudo'\u001b[0m, \u001b[32m'era lucana'\u001b[0m\u001b[1m]\u001b[0m,\n",
       "       \u001b[1m[\u001b[0m\u001b[32m'centro privado de formacion profesional especifica instituto radio television es'\u001b[0m,\n",
       "        \u001b[32m'caseta seral'\u001b[0m\u001b[1m]\u001b[0m,\n",
       "       \u001b[1m[\u001b[0m\u001b[32m'la tagliatella c calderon sabadell'\u001b[0m, \u001b[32m'la tagliatella'\u001b[0m\u001b[1m]\u001b[0m\u001b[1m]\u001b[0m,\n",
       "      \u001b[33mdtype\u001b[0m=\u001b[35mobject\u001b[0m\u001b[1m)\u001b[0m,\n",
       "    \u001b[1;35marray\u001b[0m\u001b[1m(\u001b[0m\u001b[1m[\u001b[0m\u001b[1;36m0\u001b[0m., \u001b[1;36m1\u001b[0m., \u001b[1;36m0\u001b[0m., \u001b[33m...\u001b[0m, \u001b[1;36m0\u001b[0m., \u001b[1;36m0\u001b[0m., \u001b[1;36m1\u001b[0m.\u001b[1m]\u001b[0m\u001b[1m)\u001b[0m\n",
       "\u001b[1m)\u001b[0m"
      ]
     },
     "execution_count": 54,
     "metadata": {},
     "output_type": "execute_result"
    }
   ],
   "source": [
    "X_train, y_train"
   ]
  },
  {
   "cell_type": "markdown",
   "id": "a3d1cec9-47bf-4686-9d4d-b57686cdf8f9",
   "metadata": {},
   "source": [
    "# Training"
   ]
  },
  {
   "cell_type": "code",
   "execution_count": 47,
   "id": "db92441d-9144-4ffa-b704-aaa9698c00cb",
   "metadata": {},
   "outputs": [],
   "source": [
    "poi_c2v = poiNames_C2V(150, char_to_index)"
   ]
  },
  {
   "cell_type": "code",
   "execution_count": 48,
   "id": "034097da-7624-4c3d-baad-2f49e46872b5",
   "metadata": {},
   "outputs": [
    {
     "name": "stdout",
     "output_type": "stream",
     "text": [
      "Epoch 1/10000\n",
      "269/269 [==============================] - 116s 418ms/step - loss: 0.4584 - accuracy: 0.7516 - precision_2: 0.7799 - recall_2: 0.7015 - val_loss: 0.2502 - val_accuracy: 0.8944 - val_precision_2: 0.9609 - val_recall_2: 0.8214\n",
      "Epoch 2/10000\n",
      "269/269 [==============================] - 111s 414ms/step - loss: 0.2073 - accuracy: 0.9187 - precision_2: 0.9429 - recall_2: 0.8914 - val_loss: 0.1596 - val_accuracy: 0.9400 - val_precision_2: 0.9662 - val_recall_2: 0.9114\n",
      "Epoch 3/10000\n",
      "157/269 [================>.............] - ETA: 43s - loss: 0.1432 - accuracy: 0.9467 - precision_2: 0.9643 - recall_2: 0.9277"
     ]
    },
    {
     "data": {
      "text/html": [
       "<pre style=\"white-space:pre;overflow-x:auto;line-height:normal;font-family:Menlo,'DejaVu Sans Mono',consolas,'Courier New',monospace\"><span style=\"color: #800000; text-decoration-color: #800000\">╭─────────────────────────────── </span><span style=\"color: #800000; text-decoration-color: #800000; font-weight: bold\">Traceback </span><span style=\"color: #bf7f7f; text-decoration-color: #bf7f7f; font-weight: bold\">(most recent call last)</span><span style=\"color: #800000; text-decoration-color: #800000\"> ────────────────────────────────╮</span>\n",
       "<span style=\"color: #800000; text-decoration-color: #800000\">│</span> in <span style=\"color: #00ff00; text-decoration-color: #00ff00\">&lt;cell line: 4&gt;</span>:<span style=\"color: #0000ff; text-decoration-color: #0000ff\">4</span>                                                                              <span style=\"color: #800000; text-decoration-color: #800000\">│</span>\n",
       "<span style=\"color: #800000; text-decoration-color: #800000\">│</span>                                                                                                  <span style=\"color: #800000; text-decoration-color: #800000\">│</span>\n",
       "<span style=\"color: #800000; text-decoration-color: #800000\">│</span>   <span style=\"color: #7f7f7f; text-decoration-color: #7f7f7f\"> 1 </span><span style=\"color: #0000ff; text-decoration-color: #0000ff\">from</span> <span style=\"color: #00ffff; text-decoration-color: #00ffff; text-decoration: underline\">keras.callbacks</span> <span style=\"color: #0000ff; text-decoration-color: #0000ff\">import</span> History                                                         <span style=\"color: #800000; text-decoration-color: #800000\">│</span>\n",
       "<span style=\"color: #800000; text-decoration-color: #800000\">│</span>   <span style=\"color: #7f7f7f; text-decoration-color: #7f7f7f\"> 2 </span>history = History()                                                                         <span style=\"color: #800000; text-decoration-color: #800000\">│</span>\n",
       "<span style=\"color: #800000; text-decoration-color: #800000\">│</span>   <span style=\"color: #7f7f7f; text-decoration-color: #7f7f7f\"> 3 </span>                                                                                            <span style=\"color: #800000; text-decoration-color: #800000\">│</span>\n",
       "<span style=\"color: #800000; text-decoration-color: #800000\">│</span> <span style=\"color: #800000; text-decoration-color: #800000\">❱ </span> 4 poi_c2v.fit(                                                                                <span style=\"color: #800000; text-decoration-color: #800000\">│</span>\n",
       "<span style=\"color: #800000; text-decoration-color: #800000\">│</span>   <span style=\"color: #7f7f7f; text-decoration-color: #7f7f7f\"> 5 </span><span style=\"color: #7f7f7f; text-decoration-color: #7f7f7f\">│   </span>name_pairs=X_train,                                                                     <span style=\"color: #800000; text-decoration-color: #800000\">│</span>\n",
       "<span style=\"color: #800000; text-decoration-color: #800000\">│</span>   <span style=\"color: #7f7f7f; text-decoration-color: #7f7f7f\"> 6 </span><span style=\"color: #7f7f7f; text-decoration-color: #7f7f7f\">│   </span>target=y_train,                                                                         <span style=\"color: #800000; text-decoration-color: #800000\">│</span>\n",
       "<span style=\"color: #800000; text-decoration-color: #800000\">│</span>   <span style=\"color: #7f7f7f; text-decoration-color: #7f7f7f\"> 7 </span><span style=\"color: #7f7f7f; text-decoration-color: #7f7f7f\">│   </span>validation_split=<span style=\"color: #0000ff; text-decoration-color: #0000ff\">0.2</span>,                                                                   <span style=\"color: #800000; text-decoration-color: #800000\">│</span>\n",
       "<span style=\"color: #800000; text-decoration-color: #800000\">│</span>                                                                                                  <span style=\"color: #800000; text-decoration-color: #800000\">│</span>\n",
       "<span style=\"color: #800000; text-decoration-color: #800000\">│</span> in <span style=\"color: #00ff00; text-decoration-color: #00ff00\">fit</span>:<span style=\"color: #0000ff; text-decoration-color: #0000ff\">83</span>                                                                                        <span style=\"color: #800000; text-decoration-color: #800000\">│</span>\n",
       "<span style=\"color: #800000; text-decoration-color: #800000\">│</span>                                                                                                  <span style=\"color: #800000; text-decoration-color: #800000\">│</span>\n",
       "<span style=\"color: #800000; text-decoration-color: #800000\">│</span>   <span style=\"color: #7f7f7f; text-decoration-color: #7f7f7f\"> 80 </span><span style=\"color: #7f7f7f; text-decoration-color: #7f7f7f\">│   │   </span>X1_pad = tf.keras.preprocessing.sequence.pad_sequences(X1)                         <span style=\"color: #800000; text-decoration-color: #800000\">│</span>\n",
       "<span style=\"color: #800000; text-decoration-color: #800000\">│</span>   <span style=\"color: #7f7f7f; text-decoration-color: #7f7f7f\"> 81 </span><span style=\"color: #7f7f7f; text-decoration-color: #7f7f7f\">│   │   </span>X2_pad = tf.keras.preprocessing.sequence.pad_sequences(X2)                         <span style=\"color: #800000; text-decoration-color: #800000\">│</span>\n",
       "<span style=\"color: #800000; text-decoration-color: #800000\">│</span>   <span style=\"color: #7f7f7f; text-decoration-color: #7f7f7f\"> 82 </span><span style=\"color: #7f7f7f; text-decoration-color: #7f7f7f\">│   │   </span>                                                                                   <span style=\"color: #800000; text-decoration-color: #800000\">│</span>\n",
       "<span style=\"color: #800000; text-decoration-color: #800000\">│</span> <span style=\"color: #800000; text-decoration-color: #800000\">❱ </span> 83 <span style=\"color: #7f7f7f; text-decoration-color: #7f7f7f\">│   │   </span><span style=\"color: #00ffff; text-decoration-color: #00ffff\">self</span>.model.fit((X1_pad, X2_pad), target,verbose=<span style=\"color: #0000ff; text-decoration-color: #0000ff\">1</span>,                                 <span style=\"color: #800000; text-decoration-color: #800000\">│</span>\n",
       "<span style=\"color: #800000; text-decoration-color: #800000\">│</span>   <span style=\"color: #7f7f7f; text-decoration-color: #7f7f7f\"> 84 </span><span style=\"color: #7f7f7f; text-decoration-color: #7f7f7f\">│   │   │   │   │   </span>batch_size=batch_size, epochs=max_epochs,                              <span style=\"color: #800000; text-decoration-color: #800000\">│</span>\n",
       "<span style=\"color: #800000; text-decoration-color: #800000\">│</span>   <span style=\"color: #7f7f7f; text-decoration-color: #7f7f7f\"> 85 </span><span style=\"color: #7f7f7f; text-decoration-color: #7f7f7f\">│   │   │   │   │   </span>validation_split=validation_split,                                     <span style=\"color: #800000; text-decoration-color: #800000\">│</span>\n",
       "<span style=\"color: #800000; text-decoration-color: #800000\">│</span>   <span style=\"color: #7f7f7f; text-decoration-color: #7f7f7f\"> 86 </span><span style=\"color: #7f7f7f; text-decoration-color: #7f7f7f\">│   │   │   │   │   </span>callbacks=[tf.keras.callbacks.EarlyStopping(monitor=<span style=\"color: #808000; text-decoration-color: #808000\">'val_loss'</span>, pati   <span style=\"color: #800000; text-decoration-color: #800000\">│</span>\n",
       "<span style=\"color: #800000; text-decoration-color: #800000\">│</span>                                                                                                  <span style=\"color: #800000; text-decoration-color: #800000\">│</span>\n",
       "<span style=\"color: #800000; text-decoration-color: #800000\">│</span> <span style=\"color: #bfbf7f; text-decoration-color: #bfbf7f\">/usr/local/lib/python3.9/dist-packages/keras/utils/</span><span style=\"color: #808000; text-decoration-color: #808000; font-weight: bold\">traceback_utils.py</span>:<span style=\"color: #0000ff; text-decoration-color: #0000ff\">65</span> in <span style=\"color: #00ff00; text-decoration-color: #00ff00\">error_handler</span>        <span style=\"color: #800000; text-decoration-color: #800000\">│</span>\n",
       "<span style=\"color: #800000; text-decoration-color: #800000\">│</span>                                                                                                  <span style=\"color: #800000; text-decoration-color: #800000\">│</span>\n",
       "<span style=\"color: #800000; text-decoration-color: #800000\">│</span>   <span style=\"color: #7f7f7f; text-decoration-color: #7f7f7f\"> 62 </span><span style=\"color: #7f7f7f; text-decoration-color: #7f7f7f\">│   │   </span>                                                                                   <span style=\"color: #800000; text-decoration-color: #800000\">│</span>\n",
       "<span style=\"color: #800000; text-decoration-color: #800000\">│</span>   <span style=\"color: #7f7f7f; text-decoration-color: #7f7f7f\"> 63 </span><span style=\"color: #7f7f7f; text-decoration-color: #7f7f7f\">│   │   </span>filtered_tb = <span style=\"color: #0000ff; text-decoration-color: #0000ff\">None</span>                                                                 <span style=\"color: #800000; text-decoration-color: #800000\">│</span>\n",
       "<span style=\"color: #800000; text-decoration-color: #800000\">│</span>   <span style=\"color: #7f7f7f; text-decoration-color: #7f7f7f\"> 64 </span><span style=\"color: #7f7f7f; text-decoration-color: #7f7f7f\">│   │   </span><span style=\"color: #0000ff; text-decoration-color: #0000ff\">try</span>:                                                                               <span style=\"color: #800000; text-decoration-color: #800000\">│</span>\n",
       "<span style=\"color: #800000; text-decoration-color: #800000\">│</span> <span style=\"color: #800000; text-decoration-color: #800000\">❱ </span> 65 <span style=\"color: #7f7f7f; text-decoration-color: #7f7f7f\">│   │   │   </span><span style=\"color: #0000ff; text-decoration-color: #0000ff\">return</span> fn(*args, **kwargs)                                                     <span style=\"color: #800000; text-decoration-color: #800000\">│</span>\n",
       "<span style=\"color: #800000; text-decoration-color: #800000\">│</span>   <span style=\"color: #7f7f7f; text-decoration-color: #7f7f7f\"> 66 </span><span style=\"color: #7f7f7f; text-decoration-color: #7f7f7f\">│   │   </span><span style=\"color: #0000ff; text-decoration-color: #0000ff\">except</span> <span style=\"color: #00ffff; text-decoration-color: #00ffff\">Exception</span> <span style=\"color: #0000ff; text-decoration-color: #0000ff\">as</span> e:                                                             <span style=\"color: #800000; text-decoration-color: #800000\">│</span>\n",
       "<span style=\"color: #800000; text-decoration-color: #800000\">│</span>   <span style=\"color: #7f7f7f; text-decoration-color: #7f7f7f\"> 67 </span><span style=\"color: #7f7f7f; text-decoration-color: #7f7f7f\">│   │   │   </span>filtered_tb = _process_traceback_frames(e.__traceback__)                       <span style=\"color: #800000; text-decoration-color: #800000\">│</span>\n",
       "<span style=\"color: #800000; text-decoration-color: #800000\">│</span>   <span style=\"color: #7f7f7f; text-decoration-color: #7f7f7f\"> 68 </span><span style=\"color: #7f7f7f; text-decoration-color: #7f7f7f\">│   │   │   </span><span style=\"color: #7f7f7f; text-decoration-color: #7f7f7f\"># To get the full stack trace, call:</span>                                           <span style=\"color: #800000; text-decoration-color: #800000\">│</span>\n",
       "<span style=\"color: #800000; text-decoration-color: #800000\">│</span>                                                                                                  <span style=\"color: #800000; text-decoration-color: #800000\">│</span>\n",
       "<span style=\"color: #800000; text-decoration-color: #800000\">│</span> <span style=\"color: #bfbf7f; text-decoration-color: #bfbf7f\">/usr/local/lib/python3.9/dist-packages/keras/engine/</span><span style=\"color: #808000; text-decoration-color: #808000; font-weight: bold\">training.py</span>:<span style=\"color: #0000ff; text-decoration-color: #0000ff\">1650</span> in <span style=\"color: #00ff00; text-decoration-color: #00ff00\">fit</span>                      <span style=\"color: #800000; text-decoration-color: #800000\">│</span>\n",
       "<span style=\"color: #800000; text-decoration-color: #800000\">│</span>                                                                                                  <span style=\"color: #800000; text-decoration-color: #800000\">│</span>\n",
       "<span style=\"color: #800000; text-decoration-color: #800000\">│</span>   <span style=\"color: #7f7f7f; text-decoration-color: #7f7f7f\">1647 </span><span style=\"color: #7f7f7f; text-decoration-color: #7f7f7f\">│   │   │   │   │   │   │   </span>_r=<span style=\"color: #0000ff; text-decoration-color: #0000ff\">1</span>,                                                         <span style=\"color: #800000; text-decoration-color: #800000\">│</span>\n",
       "<span style=\"color: #800000; text-decoration-color: #800000\">│</span>   <span style=\"color: #7f7f7f; text-decoration-color: #7f7f7f\">1648 </span><span style=\"color: #7f7f7f; text-decoration-color: #7f7f7f\">│   │   │   │   │   │   </span>):                                                                <span style=\"color: #800000; text-decoration-color: #800000\">│</span>\n",
       "<span style=\"color: #800000; text-decoration-color: #800000\">│</span>   <span style=\"color: #7f7f7f; text-decoration-color: #7f7f7f\">1649 </span><span style=\"color: #7f7f7f; text-decoration-color: #7f7f7f\">│   │   │   │   │   │   │   </span>callbacks.on_train_batch_begin(step)                          <span style=\"color: #800000; text-decoration-color: #800000\">│</span>\n",
       "<span style=\"color: #800000; text-decoration-color: #800000\">│</span> <span style=\"color: #800000; text-decoration-color: #800000\">❱ </span>1650 <span style=\"color: #7f7f7f; text-decoration-color: #7f7f7f\">│   │   │   │   │   │   │   </span>tmp_logs = <span style=\"color: #00ffff; text-decoration-color: #00ffff\">self</span>.train_function(iterator)                      <span style=\"color: #800000; text-decoration-color: #800000\">│</span>\n",
       "<span style=\"color: #800000; text-decoration-color: #800000\">│</span>   <span style=\"color: #7f7f7f; text-decoration-color: #7f7f7f\">1651 </span><span style=\"color: #7f7f7f; text-decoration-color: #7f7f7f\">│   │   │   │   │   │   │   </span><span style=\"color: #0000ff; text-decoration-color: #0000ff\">if</span> data_handler.should_sync:                                  <span style=\"color: #800000; text-decoration-color: #800000\">│</span>\n",
       "<span style=\"color: #800000; text-decoration-color: #800000\">│</span>   <span style=\"color: #7f7f7f; text-decoration-color: #7f7f7f\">1652 </span><span style=\"color: #7f7f7f; text-decoration-color: #7f7f7f\">│   │   │   │   │   │   │   │   </span>context.async_wait()                                      <span style=\"color: #800000; text-decoration-color: #800000\">│</span>\n",
       "<span style=\"color: #800000; text-decoration-color: #800000\">│</span>   <span style=\"color: #7f7f7f; text-decoration-color: #7f7f7f\">1653 </span><span style=\"color: #7f7f7f; text-decoration-color: #7f7f7f\">│   │   │   │   │   │   │   </span><span style=\"color: #7f7f7f; text-decoration-color: #7f7f7f\"># No error, now safe to assign to logs.</span>                       <span style=\"color: #800000; text-decoration-color: #800000\">│</span>\n",
       "<span style=\"color: #800000; text-decoration-color: #800000\">│</span>                                                                                                  <span style=\"color: #800000; text-decoration-color: #800000\">│</span>\n",
       "<span style=\"color: #800000; text-decoration-color: #800000\">│</span> <span style=\"color: #bfbf7f; text-decoration-color: #bfbf7f\">/usr/local/lib/python3.9/dist-packages/tensorflow/python/util/</span><span style=\"color: #808000; text-decoration-color: #808000; font-weight: bold\">traceback_utils.py</span>:<span style=\"color: #0000ff; text-decoration-color: #0000ff\">150</span> in          <span style=\"color: #800000; text-decoration-color: #800000\">│</span>\n",
       "<span style=\"color: #800000; text-decoration-color: #800000\">│</span> <span style=\"color: #00ff00; text-decoration-color: #00ff00\">error_handler</span>                                                                                    <span style=\"color: #800000; text-decoration-color: #800000\">│</span>\n",
       "<span style=\"color: #800000; text-decoration-color: #800000\">│</span>                                                                                                  <span style=\"color: #800000; text-decoration-color: #800000\">│</span>\n",
       "<span style=\"color: #800000; text-decoration-color: #800000\">│</span>   <span style=\"color: #7f7f7f; text-decoration-color: #7f7f7f\">147 </span><span style=\"color: #7f7f7f; text-decoration-color: #7f7f7f\">│   </span>                                                                                       <span style=\"color: #800000; text-decoration-color: #800000\">│</span>\n",
       "<span style=\"color: #800000; text-decoration-color: #800000\">│</span>   <span style=\"color: #7f7f7f; text-decoration-color: #7f7f7f\">148 </span><span style=\"color: #7f7f7f; text-decoration-color: #7f7f7f\">│   </span>filtered_tb = <span style=\"color: #0000ff; text-decoration-color: #0000ff\">None</span>                                                                     <span style=\"color: #800000; text-decoration-color: #800000\">│</span>\n",
       "<span style=\"color: #800000; text-decoration-color: #800000\">│</span>   <span style=\"color: #7f7f7f; text-decoration-color: #7f7f7f\">149 </span><span style=\"color: #7f7f7f; text-decoration-color: #7f7f7f\">│   </span><span style=\"color: #0000ff; text-decoration-color: #0000ff\">try</span>:                                                                                   <span style=\"color: #800000; text-decoration-color: #800000\">│</span>\n",
       "<span style=\"color: #800000; text-decoration-color: #800000\">│</span> <span style=\"color: #800000; text-decoration-color: #800000\">❱ </span>150 <span style=\"color: #7f7f7f; text-decoration-color: #7f7f7f\">│     </span><span style=\"color: #0000ff; text-decoration-color: #0000ff\">return</span> fn(*args, **kwargs)                                                           <span style=\"color: #800000; text-decoration-color: #800000\">│</span>\n",
       "<span style=\"color: #800000; text-decoration-color: #800000\">│</span>   <span style=\"color: #7f7f7f; text-decoration-color: #7f7f7f\">151 </span><span style=\"color: #7f7f7f; text-decoration-color: #7f7f7f\">│   </span><span style=\"color: #0000ff; text-decoration-color: #0000ff\">except</span> <span style=\"color: #00ffff; text-decoration-color: #00ffff\">Exception</span> <span style=\"color: #0000ff; text-decoration-color: #0000ff\">as</span> e:                                                                 <span style=\"color: #800000; text-decoration-color: #800000\">│</span>\n",
       "<span style=\"color: #800000; text-decoration-color: #800000\">│</span>   <span style=\"color: #7f7f7f; text-decoration-color: #7f7f7f\">152 </span><span style=\"color: #7f7f7f; text-decoration-color: #7f7f7f\">│     </span>filtered_tb = _process_traceback_frames(e.__traceback__)                             <span style=\"color: #800000; text-decoration-color: #800000\">│</span>\n",
       "<span style=\"color: #800000; text-decoration-color: #800000\">│</span>   <span style=\"color: #7f7f7f; text-decoration-color: #7f7f7f\">153 </span><span style=\"color: #7f7f7f; text-decoration-color: #7f7f7f\">│     </span><span style=\"color: #0000ff; text-decoration-color: #0000ff\">raise</span> e.with_traceback(filtered_tb) <span style=\"color: #0000ff; text-decoration-color: #0000ff\">from</span> <span style=\"color: #0000ff; text-decoration-color: #0000ff\">None</span>                                        <span style=\"color: #800000; text-decoration-color: #800000\">│</span>\n",
       "<span style=\"color: #800000; text-decoration-color: #800000\">│</span>                                                                                                  <span style=\"color: #800000; text-decoration-color: #800000\">│</span>\n",
       "<span style=\"color: #800000; text-decoration-color: #800000\">│</span> <span style=\"color: #bfbf7f; text-decoration-color: #bfbf7f\">/usr/local/lib/python3.9/dist-packages/tensorflow/python/eager/polymorphic_function/</span><span style=\"color: #808000; text-decoration-color: #808000; font-weight: bold\">polymorphic_</span> <span style=\"color: #800000; text-decoration-color: #800000\">│</span>\n",
       "<span style=\"color: #800000; text-decoration-color: #800000\">│</span> <span style=\"color: #808000; text-decoration-color: #808000; font-weight: bold\">function.py</span>:<span style=\"color: #0000ff; text-decoration-color: #0000ff\">880</span> in <span style=\"color: #00ff00; text-decoration-color: #00ff00\">__call__</span>                                                                      <span style=\"color: #800000; text-decoration-color: #800000\">│</span>\n",
       "<span style=\"color: #800000; text-decoration-color: #800000\">│</span>                                                                                                  <span style=\"color: #800000; text-decoration-color: #800000\">│</span>\n",
       "<span style=\"color: #800000; text-decoration-color: #800000\">│</span>   <span style=\"color: #7f7f7f; text-decoration-color: #7f7f7f\"> 877 </span><span style=\"color: #7f7f7f; text-decoration-color: #7f7f7f\">│     </span>compiler = <span style=\"color: #808000; text-decoration-color: #808000\">\"xla\"</span> <span style=\"color: #0000ff; text-decoration-color: #0000ff\">if</span> <span style=\"color: #00ffff; text-decoration-color: #00ffff\">self</span>._jit_compile <span style=\"color: #0000ff; text-decoration-color: #0000ff\">else</span> <span style=\"color: #808000; text-decoration-color: #808000\">\"nonXla\"</span>                                 <span style=\"color: #800000; text-decoration-color: #800000\">│</span>\n",
       "<span style=\"color: #800000; text-decoration-color: #800000\">│</span>   <span style=\"color: #7f7f7f; text-decoration-color: #7f7f7f\"> 878 </span><span style=\"color: #7f7f7f; text-decoration-color: #7f7f7f\">│     </span>                                                                                    <span style=\"color: #800000; text-decoration-color: #800000\">│</span>\n",
       "<span style=\"color: #800000; text-decoration-color: #800000\">│</span>   <span style=\"color: #7f7f7f; text-decoration-color: #7f7f7f\"> 879 </span><span style=\"color: #7f7f7f; text-decoration-color: #7f7f7f\">│     </span><span style=\"color: #0000ff; text-decoration-color: #0000ff\">with</span> OptionalXlaContext(<span style=\"color: #00ffff; text-decoration-color: #00ffff\">self</span>._jit_compile):                                         <span style=\"color: #800000; text-decoration-color: #800000\">│</span>\n",
       "<span style=\"color: #800000; text-decoration-color: #800000\">│</span> <span style=\"color: #800000; text-decoration-color: #800000\">❱ </span> 880 <span style=\"color: #7f7f7f; text-decoration-color: #7f7f7f\">│   │   </span>result = <span style=\"color: #00ffff; text-decoration-color: #00ffff\">self</span>._call(*args, **kwds)                                                <span style=\"color: #800000; text-decoration-color: #800000\">│</span>\n",
       "<span style=\"color: #800000; text-decoration-color: #800000\">│</span>   <span style=\"color: #7f7f7f; text-decoration-color: #7f7f7f\"> 881 </span><span style=\"color: #7f7f7f; text-decoration-color: #7f7f7f\">│     </span>                                                                                    <span style=\"color: #800000; text-decoration-color: #800000\">│</span>\n",
       "<span style=\"color: #800000; text-decoration-color: #800000\">│</span>   <span style=\"color: #7f7f7f; text-decoration-color: #7f7f7f\"> 882 </span><span style=\"color: #7f7f7f; text-decoration-color: #7f7f7f\">│     </span>new_tracing_count = <span style=\"color: #00ffff; text-decoration-color: #00ffff\">self</span>.experimental_get_tracing_count()                           <span style=\"color: #800000; text-decoration-color: #800000\">│</span>\n",
       "<span style=\"color: #800000; text-decoration-color: #800000\">│</span>   <span style=\"color: #7f7f7f; text-decoration-color: #7f7f7f\"> 883 </span><span style=\"color: #7f7f7f; text-decoration-color: #7f7f7f\">│     </span>without_tracing = (tracing_count == new_tracing_count)                              <span style=\"color: #800000; text-decoration-color: #800000\">│</span>\n",
       "<span style=\"color: #800000; text-decoration-color: #800000\">│</span>                                                                                                  <span style=\"color: #800000; text-decoration-color: #800000\">│</span>\n",
       "<span style=\"color: #800000; text-decoration-color: #800000\">│</span> <span style=\"color: #bfbf7f; text-decoration-color: #bfbf7f\">/usr/local/lib/python3.9/dist-packages/tensorflow/python/eager/polymorphic_function/</span><span style=\"color: #808000; text-decoration-color: #808000; font-weight: bold\">polymorphic_</span> <span style=\"color: #800000; text-decoration-color: #800000\">│</span>\n",
       "<span style=\"color: #800000; text-decoration-color: #800000\">│</span> <span style=\"color: #808000; text-decoration-color: #808000; font-weight: bold\">function.py</span>:<span style=\"color: #0000ff; text-decoration-color: #0000ff\">912</span> in <span style=\"color: #00ff00; text-decoration-color: #00ff00\">_call</span>                                                                         <span style=\"color: #800000; text-decoration-color: #800000\">│</span>\n",
       "<span style=\"color: #800000; text-decoration-color: #800000\">│</span>                                                                                                  <span style=\"color: #800000; text-decoration-color: #800000\">│</span>\n",
       "<span style=\"color: #800000; text-decoration-color: #800000\">│</span>   <span style=\"color: #7f7f7f; text-decoration-color: #7f7f7f\"> 909 </span><span style=\"color: #7f7f7f; text-decoration-color: #7f7f7f\">│     </span><span style=\"color: #00ffff; text-decoration-color: #00ffff\">self</span>._lock.release()                                                                <span style=\"color: #800000; text-decoration-color: #800000\">│</span>\n",
       "<span style=\"color: #800000; text-decoration-color: #800000\">│</span>   <span style=\"color: #7f7f7f; text-decoration-color: #7f7f7f\"> 910 </span><span style=\"color: #7f7f7f; text-decoration-color: #7f7f7f\">│     </span><span style=\"color: #7f7f7f; text-decoration-color: #7f7f7f\"># In this case we have created variables on the first call, so we run the</span>           <span style=\"color: #800000; text-decoration-color: #800000\">│</span>\n",
       "<span style=\"color: #800000; text-decoration-color: #800000\">│</span>   <span style=\"color: #7f7f7f; text-decoration-color: #7f7f7f\"> 911 </span><span style=\"color: #7f7f7f; text-decoration-color: #7f7f7f\">│     </span><span style=\"color: #7f7f7f; text-decoration-color: #7f7f7f\"># defunned version which is guaranteed to never create variables.</span>                   <span style=\"color: #800000; text-decoration-color: #800000\">│</span>\n",
       "<span style=\"color: #800000; text-decoration-color: #800000\">│</span> <span style=\"color: #800000; text-decoration-color: #800000\">❱ </span> 912 <span style=\"color: #7f7f7f; text-decoration-color: #7f7f7f\">│     </span><span style=\"color: #0000ff; text-decoration-color: #0000ff\">return</span> <span style=\"color: #00ffff; text-decoration-color: #00ffff\">self</span>._no_variable_creation_fn(*args, **kwds)  <span style=\"color: #7f7f7f; text-decoration-color: #7f7f7f\"># pylint: disable=not-callabl</span>  <span style=\"color: #800000; text-decoration-color: #800000\">│</span>\n",
       "<span style=\"color: #800000; text-decoration-color: #800000\">│</span>   <span style=\"color: #7f7f7f; text-decoration-color: #7f7f7f\"> 913 </span><span style=\"color: #7f7f7f; text-decoration-color: #7f7f7f\">│   </span><span style=\"color: #0000ff; text-decoration-color: #0000ff\">elif</span> <span style=\"color: #00ffff; text-decoration-color: #00ffff\">self</span>._variable_creation_fn <span style=\"color: #ff00ff; text-decoration-color: #ff00ff\">is</span> <span style=\"color: #ff00ff; text-decoration-color: #ff00ff\">not</span> <span style=\"color: #0000ff; text-decoration-color: #0000ff\">None</span>:                                          <span style=\"color: #800000; text-decoration-color: #800000\">│</span>\n",
       "<span style=\"color: #800000; text-decoration-color: #800000\">│</span>   <span style=\"color: #7f7f7f; text-decoration-color: #7f7f7f\"> 914 </span><span style=\"color: #7f7f7f; text-decoration-color: #7f7f7f\">│     </span><span style=\"color: #7f7f7f; text-decoration-color: #7f7f7f\"># Release the lock early so that multiple threads can perform the call</span>              <span style=\"color: #800000; text-decoration-color: #800000\">│</span>\n",
       "<span style=\"color: #800000; text-decoration-color: #800000\">│</span>   <span style=\"color: #7f7f7f; text-decoration-color: #7f7f7f\"> 915 </span><span style=\"color: #7f7f7f; text-decoration-color: #7f7f7f\">│     </span><span style=\"color: #7f7f7f; text-decoration-color: #7f7f7f\"># in parallel.</span>                                                                      <span style=\"color: #800000; text-decoration-color: #800000\">│</span>\n",
       "<span style=\"color: #800000; text-decoration-color: #800000\">│</span>                                                                                                  <span style=\"color: #800000; text-decoration-color: #800000\">│</span>\n",
       "<span style=\"color: #800000; text-decoration-color: #800000\">│</span> <span style=\"color: #bfbf7f; text-decoration-color: #bfbf7f\">/usr/local/lib/python3.9/dist-packages/tensorflow/python/eager/polymorphic_function/</span><span style=\"color: #808000; text-decoration-color: #808000; font-weight: bold\">tracing_comp</span> <span style=\"color: #800000; text-decoration-color: #800000\">│</span>\n",
       "<span style=\"color: #800000; text-decoration-color: #800000\">│</span> <span style=\"color: #808000; text-decoration-color: #808000; font-weight: bold\">iler.py</span>:<span style=\"color: #0000ff; text-decoration-color: #0000ff\">134</span> in <span style=\"color: #00ff00; text-decoration-color: #00ff00\">__call__</span>                                                                          <span style=\"color: #800000; text-decoration-color: #800000\">│</span>\n",
       "<span style=\"color: #800000; text-decoration-color: #800000\">│</span>                                                                                                  <span style=\"color: #800000; text-decoration-color: #800000\">│</span>\n",
       "<span style=\"color: #800000; text-decoration-color: #800000\">│</span>   <span style=\"color: #7f7f7f; text-decoration-color: #7f7f7f\">131 </span><span style=\"color: #7f7f7f; text-decoration-color: #7f7f7f\">│   </span><span style=\"color: #0000ff; text-decoration-color: #0000ff\">with</span> <span style=\"color: #00ffff; text-decoration-color: #00ffff\">self</span>._lock:                                                                       <span style=\"color: #800000; text-decoration-color: #800000\">│</span>\n",
       "<span style=\"color: #800000; text-decoration-color: #800000\">│</span>   <span style=\"color: #7f7f7f; text-decoration-color: #7f7f7f\">132 </span><span style=\"color: #7f7f7f; text-decoration-color: #7f7f7f\">│     </span>(concrete_function,                                                                  <span style=\"color: #800000; text-decoration-color: #800000\">│</span>\n",
       "<span style=\"color: #800000; text-decoration-color: #800000\">│</span>   <span style=\"color: #7f7f7f; text-decoration-color: #7f7f7f\">133 </span><span style=\"color: #7f7f7f; text-decoration-color: #7f7f7f\">│      </span>filtered_flat_args) = <span style=\"color: #00ffff; text-decoration-color: #00ffff\">self</span>._maybe_define_function(args, kwargs)                     <span style=\"color: #800000; text-decoration-color: #800000\">│</span>\n",
       "<span style=\"color: #800000; text-decoration-color: #800000\">│</span> <span style=\"color: #800000; text-decoration-color: #800000\">❱ </span>134 <span style=\"color: #7f7f7f; text-decoration-color: #7f7f7f\">│   </span><span style=\"color: #0000ff; text-decoration-color: #0000ff\">return</span> concrete_function._call_flat(                                                   <span style=\"color: #800000; text-decoration-color: #800000\">│</span>\n",
       "<span style=\"color: #800000; text-decoration-color: #800000\">│</span>   <span style=\"color: #7f7f7f; text-decoration-color: #7f7f7f\">135 </span><span style=\"color: #7f7f7f; text-decoration-color: #7f7f7f\">│   │   </span>filtered_flat_args, captured_inputs=concrete_function.captured_inputs)  <span style=\"color: #7f7f7f; text-decoration-color: #7f7f7f\"># pylint</span>   <span style=\"color: #800000; text-decoration-color: #800000\">│</span>\n",
       "<span style=\"color: #800000; text-decoration-color: #800000\">│</span>   <span style=\"color: #7f7f7f; text-decoration-color: #7f7f7f\">136 </span><span style=\"color: #7f7f7f; text-decoration-color: #7f7f7f\">  </span>                                                                                         <span style=\"color: #800000; text-decoration-color: #800000\">│</span>\n",
       "<span style=\"color: #800000; text-decoration-color: #800000\">│</span>   <span style=\"color: #7f7f7f; text-decoration-color: #7f7f7f\">137 </span><span style=\"color: #7f7f7f; text-decoration-color: #7f7f7f\">  </span><span style=\"color: #ff00ff; text-decoration-color: #ff00ff; font-weight: bold\">@property</span>                                                                                <span style=\"color: #800000; text-decoration-color: #800000\">│</span>\n",
       "<span style=\"color: #800000; text-decoration-color: #800000\">│</span>                                                                                                  <span style=\"color: #800000; text-decoration-color: #800000\">│</span>\n",
       "<span style=\"color: #800000; text-decoration-color: #800000\">│</span> <span style=\"color: #bfbf7f; text-decoration-color: #bfbf7f\">/usr/local/lib/python3.9/dist-packages/tensorflow/python/eager/polymorphic_function/</span><span style=\"color: #808000; text-decoration-color: #808000; font-weight: bold\">monomorphic_</span> <span style=\"color: #800000; text-decoration-color: #800000\">│</span>\n",
       "<span style=\"color: #800000; text-decoration-color: #800000\">│</span> <span style=\"color: #808000; text-decoration-color: #808000; font-weight: bold\">function.py</span>:<span style=\"color: #0000ff; text-decoration-color: #0000ff\">1745</span> in <span style=\"color: #00ff00; text-decoration-color: #00ff00\">_call_flat</span>                                                                   <span style=\"color: #800000; text-decoration-color: #800000\">│</span>\n",
       "<span style=\"color: #800000; text-decoration-color: #800000\">│</span>                                                                                                  <span style=\"color: #800000; text-decoration-color: #800000\">│</span>\n",
       "<span style=\"color: #800000; text-decoration-color: #800000\">│</span>   <span style=\"color: #7f7f7f; text-decoration-color: #7f7f7f\">1742 </span><span style=\"color: #7f7f7f; text-decoration-color: #7f7f7f\">│   </span><span style=\"color: #0000ff; text-decoration-color: #0000ff\">if</span> (possible_gradient_type == gradients_util.POSSIBLE_GRADIENT_TYPES_NONE             <span style=\"color: #800000; text-decoration-color: #800000\">│</span>\n",
       "<span style=\"color: #800000; text-decoration-color: #800000\">│</span>   <span style=\"color: #7f7f7f; text-decoration-color: #7f7f7f\">1743 </span><span style=\"color: #7f7f7f; text-decoration-color: #7f7f7f\">│   │   </span><span style=\"color: #ff00ff; text-decoration-color: #ff00ff\">and</span> executing_eagerly):                                                           <span style=\"color: #800000; text-decoration-color: #800000\">│</span>\n",
       "<span style=\"color: #800000; text-decoration-color: #800000\">│</span>   <span style=\"color: #7f7f7f; text-decoration-color: #7f7f7f\">1744 </span><span style=\"color: #7f7f7f; text-decoration-color: #7f7f7f\">│     </span><span style=\"color: #7f7f7f; text-decoration-color: #7f7f7f\"># No tape is watching; skip to running the function.</span>                                <span style=\"color: #800000; text-decoration-color: #800000\">│</span>\n",
       "<span style=\"color: #800000; text-decoration-color: #800000\">│</span> <span style=\"color: #800000; text-decoration-color: #800000\">❱ </span>1745 <span style=\"color: #7f7f7f; text-decoration-color: #7f7f7f\">│     </span><span style=\"color: #0000ff; text-decoration-color: #0000ff\">return</span> <span style=\"color: #00ffff; text-decoration-color: #00ffff\">self</span>._build_call_outputs(<span style=\"color: #00ffff; text-decoration-color: #00ffff\">self</span>._inference_function.call(                      <span style=\"color: #800000; text-decoration-color: #800000\">│</span>\n",
       "<span style=\"color: #800000; text-decoration-color: #800000\">│</span>   <span style=\"color: #7f7f7f; text-decoration-color: #7f7f7f\">1746 </span><span style=\"color: #7f7f7f; text-decoration-color: #7f7f7f\">│   │     </span>ctx, args, cancellation_manager=cancellation_manager))                          <span style=\"color: #800000; text-decoration-color: #800000\">│</span>\n",
       "<span style=\"color: #800000; text-decoration-color: #800000\">│</span>   <span style=\"color: #7f7f7f; text-decoration-color: #7f7f7f\">1747 </span><span style=\"color: #7f7f7f; text-decoration-color: #7f7f7f\">│   </span>forward_backward = <span style=\"color: #00ffff; text-decoration-color: #00ffff\">self</span>._select_forward_and_backward_functions(                       <span style=\"color: #800000; text-decoration-color: #800000\">│</span>\n",
       "<span style=\"color: #800000; text-decoration-color: #800000\">│</span>   <span style=\"color: #7f7f7f; text-decoration-color: #7f7f7f\">1748 </span><span style=\"color: #7f7f7f; text-decoration-color: #7f7f7f\">│   │   </span>args,                                                                             <span style=\"color: #800000; text-decoration-color: #800000\">│</span>\n",
       "<span style=\"color: #800000; text-decoration-color: #800000\">│</span>                                                                                                  <span style=\"color: #800000; text-decoration-color: #800000\">│</span>\n",
       "<span style=\"color: #800000; text-decoration-color: #800000\">│</span> <span style=\"color: #bfbf7f; text-decoration-color: #bfbf7f\">/usr/local/lib/python3.9/dist-packages/tensorflow/python/eager/polymorphic_function/</span><span style=\"color: #808000; text-decoration-color: #808000; font-weight: bold\">monomorphic_</span> <span style=\"color: #800000; text-decoration-color: #800000\">│</span>\n",
       "<span style=\"color: #800000; text-decoration-color: #800000\">│</span> <span style=\"color: #808000; text-decoration-color: #808000; font-weight: bold\">function.py</span>:<span style=\"color: #0000ff; text-decoration-color: #0000ff\">378</span> in <span style=\"color: #00ff00; text-decoration-color: #00ff00\">call</span>                                                                          <span style=\"color: #800000; text-decoration-color: #800000\">│</span>\n",
       "<span style=\"color: #800000; text-decoration-color: #800000\">│</span>                                                                                                  <span style=\"color: #800000; text-decoration-color: #800000\">│</span>\n",
       "<span style=\"color: #800000; text-decoration-color: #800000\">│</span>   <span style=\"color: #7f7f7f; text-decoration-color: #7f7f7f\"> 375 </span><span style=\"color: #7f7f7f; text-decoration-color: #7f7f7f\">│   </span><span style=\"color: #0000ff; text-decoration-color: #0000ff\">if</span> executing_eagerly:                                                                 <span style=\"color: #800000; text-decoration-color: #800000\">│</span>\n",
       "<span style=\"color: #800000; text-decoration-color: #800000\">│</span>   <span style=\"color: #7f7f7f; text-decoration-color: #7f7f7f\"> 376 </span><span style=\"color: #7f7f7f; text-decoration-color: #7f7f7f\">│     </span><span style=\"color: #0000ff; text-decoration-color: #0000ff\">with</span> _InterpolateFunctionError(<span style=\"color: #00ffff; text-decoration-color: #00ffff\">self</span>):                                               <span style=\"color: #800000; text-decoration-color: #800000\">│</span>\n",
       "<span style=\"color: #800000; text-decoration-color: #800000\">│</span>   <span style=\"color: #7f7f7f; text-decoration-color: #7f7f7f\"> 377 </span><span style=\"color: #7f7f7f; text-decoration-color: #7f7f7f\">│   │   </span><span style=\"color: #0000ff; text-decoration-color: #0000ff\">if</span> cancellation_manager <span style=\"color: #ff00ff; text-decoration-color: #ff00ff\">is</span> <span style=\"color: #0000ff; text-decoration-color: #0000ff\">None</span>:                                                  <span style=\"color: #800000; text-decoration-color: #800000\">│</span>\n",
       "<span style=\"color: #800000; text-decoration-color: #800000\">│</span> <span style=\"color: #800000; text-decoration-color: #800000\">❱ </span> 378 <span style=\"color: #7f7f7f; text-decoration-color: #7f7f7f\">│   │     </span>outputs = execute.execute(                                                      <span style=\"color: #800000; text-decoration-color: #800000\">│</span>\n",
       "<span style=\"color: #800000; text-decoration-color: #800000\">│</span>   <span style=\"color: #7f7f7f; text-decoration-color: #7f7f7f\"> 379 </span><span style=\"color: #7f7f7f; text-decoration-color: #7f7f7f\">│   │   │     </span><span style=\"color: #00ffff; text-decoration-color: #00ffff\">str</span>(<span style=\"color: #00ffff; text-decoration-color: #00ffff\">self</span>.signature.name),                                                   <span style=\"color: #800000; text-decoration-color: #800000\">│</span>\n",
       "<span style=\"color: #800000; text-decoration-color: #800000\">│</span>   <span style=\"color: #7f7f7f; text-decoration-color: #7f7f7f\"> 380 </span><span style=\"color: #7f7f7f; text-decoration-color: #7f7f7f\">│   │   │     </span>num_outputs=<span style=\"color: #00ffff; text-decoration-color: #00ffff\">self</span>._num_outputs,                                              <span style=\"color: #800000; text-decoration-color: #800000\">│</span>\n",
       "<span style=\"color: #800000; text-decoration-color: #800000\">│</span>   <span style=\"color: #7f7f7f; text-decoration-color: #7f7f7f\"> 381 </span><span style=\"color: #7f7f7f; text-decoration-color: #7f7f7f\">│   │   │     </span>inputs=args,                                                                <span style=\"color: #800000; text-decoration-color: #800000\">│</span>\n",
       "<span style=\"color: #800000; text-decoration-color: #800000\">│</span>                                                                                                  <span style=\"color: #800000; text-decoration-color: #800000\">│</span>\n",
       "<span style=\"color: #800000; text-decoration-color: #800000\">│</span> <span style=\"color: #bfbf7f; text-decoration-color: #bfbf7f\">/usr/local/lib/python3.9/dist-packages/tensorflow/python/eager/</span><span style=\"color: #808000; text-decoration-color: #808000; font-weight: bold\">execute.py</span>:<span style=\"color: #0000ff; text-decoration-color: #0000ff\">52</span> in <span style=\"color: #00ff00; text-decoration-color: #00ff00\">quick_execute</span>    <span style=\"color: #800000; text-decoration-color: #800000\">│</span>\n",
       "<span style=\"color: #800000; text-decoration-color: #800000\">│</span>                                                                                                  <span style=\"color: #800000; text-decoration-color: #800000\">│</span>\n",
       "<span style=\"color: #800000; text-decoration-color: #800000\">│</span>   <span style=\"color: #7f7f7f; text-decoration-color: #7f7f7f\"> 49 </span><span style=\"color: #7f7f7f; text-decoration-color: #7f7f7f\">  </span><span style=\"color: #7f7f7f; text-decoration-color: #7f7f7f\"># pylint: disable=protected-access</span>                                                       <span style=\"color: #800000; text-decoration-color: #800000\">│</span>\n",
       "<span style=\"color: #800000; text-decoration-color: #800000\">│</span>   <span style=\"color: #7f7f7f; text-decoration-color: #7f7f7f\"> 50 </span><span style=\"color: #7f7f7f; text-decoration-color: #7f7f7f\">  </span><span style=\"color: #0000ff; text-decoration-color: #0000ff\">try</span>:                                                                                     <span style=\"color: #800000; text-decoration-color: #800000\">│</span>\n",
       "<span style=\"color: #800000; text-decoration-color: #800000\">│</span>   <span style=\"color: #7f7f7f; text-decoration-color: #7f7f7f\"> 51 </span><span style=\"color: #7f7f7f; text-decoration-color: #7f7f7f\">│   </span>ctx.ensure_initialized()                                                               <span style=\"color: #800000; text-decoration-color: #800000\">│</span>\n",
       "<span style=\"color: #800000; text-decoration-color: #800000\">│</span> <span style=\"color: #800000; text-decoration-color: #800000\">❱ </span> 52 <span style=\"color: #7f7f7f; text-decoration-color: #7f7f7f\">│   </span>tensors = pywrap_tfe.TFE_Py_Execute(ctx._handle, device_name, op_name,                 <span style=\"color: #800000; text-decoration-color: #800000\">│</span>\n",
       "<span style=\"color: #800000; text-decoration-color: #800000\">│</span>   <span style=\"color: #7f7f7f; text-decoration-color: #7f7f7f\"> 53 </span><span style=\"color: #7f7f7f; text-decoration-color: #7f7f7f\">│   │   │   │   │   │   │   │   │   │   </span>inputs, attrs, num_outputs)                        <span style=\"color: #800000; text-decoration-color: #800000\">│</span>\n",
       "<span style=\"color: #800000; text-decoration-color: #800000\">│</span>   <span style=\"color: #7f7f7f; text-decoration-color: #7f7f7f\"> 54 </span><span style=\"color: #7f7f7f; text-decoration-color: #7f7f7f\">  </span><span style=\"color: #0000ff; text-decoration-color: #0000ff\">except</span> core._NotOkStatusException <span style=\"color: #0000ff; text-decoration-color: #0000ff\">as</span> e:                                                  <span style=\"color: #800000; text-decoration-color: #800000\">│</span>\n",
       "<span style=\"color: #800000; text-decoration-color: #800000\">│</span>   <span style=\"color: #7f7f7f; text-decoration-color: #7f7f7f\"> 55 </span><span style=\"color: #7f7f7f; text-decoration-color: #7f7f7f\">│   </span><span style=\"color: #0000ff; text-decoration-color: #0000ff\">if</span> name <span style=\"color: #ff00ff; text-decoration-color: #ff00ff\">is</span> <span style=\"color: #ff00ff; text-decoration-color: #ff00ff\">not</span> <span style=\"color: #0000ff; text-decoration-color: #0000ff\">None</span>:                                                                   <span style=\"color: #800000; text-decoration-color: #800000\">│</span>\n",
       "<span style=\"color: #800000; text-decoration-color: #800000\">╰──────────────────────────────────────────────────────────────────────────────────────────────────╯</span>\n",
       "<span style=\"color: #ff0000; text-decoration-color: #ff0000; font-weight: bold\">KeyboardInterrupt</span>\n",
       "</pre>\n"
      ],
      "text/plain": [
       "\u001b[31m╭─\u001b[0m\u001b[31m──────────────────────────────\u001b[0m\u001b[31m \u001b[0m\u001b[1;31mTraceback \u001b[0m\u001b[1;2;31m(most recent call last)\u001b[0m\u001b[31m \u001b[0m\u001b[31m───────────────────────────────\u001b[0m\u001b[31m─╮\u001b[0m\n",
       "\u001b[31m│\u001b[0m in \u001b[92m<cell line: 4>\u001b[0m:\u001b[94m4\u001b[0m                                                                              \u001b[31m│\u001b[0m\n",
       "\u001b[31m│\u001b[0m                                                                                                  \u001b[31m│\u001b[0m\n",
       "\u001b[31m│\u001b[0m   \u001b[2m 1 \u001b[0m\u001b[94mfrom\u001b[0m \u001b[4;96mkeras\u001b[0m\u001b[4;96m.\u001b[0m\u001b[4;96mcallbacks\u001b[0m \u001b[94mimport\u001b[0m History                                                         \u001b[31m│\u001b[0m\n",
       "\u001b[31m│\u001b[0m   \u001b[2m 2 \u001b[0mhistory = History()                                                                         \u001b[31m│\u001b[0m\n",
       "\u001b[31m│\u001b[0m   \u001b[2m 3 \u001b[0m                                                                                            \u001b[31m│\u001b[0m\n",
       "\u001b[31m│\u001b[0m \u001b[31m❱ \u001b[0m 4 poi_c2v.fit(                                                                                \u001b[31m│\u001b[0m\n",
       "\u001b[31m│\u001b[0m   \u001b[2m 5 \u001b[0m\u001b[2m│   \u001b[0mname_pairs=X_train,                                                                     \u001b[31m│\u001b[0m\n",
       "\u001b[31m│\u001b[0m   \u001b[2m 6 \u001b[0m\u001b[2m│   \u001b[0mtarget=y_train,                                                                         \u001b[31m│\u001b[0m\n",
       "\u001b[31m│\u001b[0m   \u001b[2m 7 \u001b[0m\u001b[2m│   \u001b[0mvalidation_split=\u001b[94m0.2\u001b[0m,                                                                   \u001b[31m│\u001b[0m\n",
       "\u001b[31m│\u001b[0m                                                                                                  \u001b[31m│\u001b[0m\n",
       "\u001b[31m│\u001b[0m in \u001b[92mfit\u001b[0m:\u001b[94m83\u001b[0m                                                                                        \u001b[31m│\u001b[0m\n",
       "\u001b[31m│\u001b[0m                                                                                                  \u001b[31m│\u001b[0m\n",
       "\u001b[31m│\u001b[0m   \u001b[2m 80 \u001b[0m\u001b[2m│   │   \u001b[0mX1_pad = tf.keras.preprocessing.sequence.pad_sequences(X1)                         \u001b[31m│\u001b[0m\n",
       "\u001b[31m│\u001b[0m   \u001b[2m 81 \u001b[0m\u001b[2m│   │   \u001b[0mX2_pad = tf.keras.preprocessing.sequence.pad_sequences(X2)                         \u001b[31m│\u001b[0m\n",
       "\u001b[31m│\u001b[0m   \u001b[2m 82 \u001b[0m\u001b[2m│   │   \u001b[0m                                                                                   \u001b[31m│\u001b[0m\n",
       "\u001b[31m│\u001b[0m \u001b[31m❱ \u001b[0m 83 \u001b[2m│   │   \u001b[0m\u001b[96mself\u001b[0m.model.fit((X1_pad, X2_pad), target,verbose=\u001b[94m1\u001b[0m,                                 \u001b[31m│\u001b[0m\n",
       "\u001b[31m│\u001b[0m   \u001b[2m 84 \u001b[0m\u001b[2m│   │   │   │   │   \u001b[0mbatch_size=batch_size, epochs=max_epochs,                              \u001b[31m│\u001b[0m\n",
       "\u001b[31m│\u001b[0m   \u001b[2m 85 \u001b[0m\u001b[2m│   │   │   │   │   \u001b[0mvalidation_split=validation_split,                                     \u001b[31m│\u001b[0m\n",
       "\u001b[31m│\u001b[0m   \u001b[2m 86 \u001b[0m\u001b[2m│   │   │   │   │   \u001b[0mcallbacks=[tf.keras.callbacks.EarlyStopping(monitor=\u001b[33m'\u001b[0m\u001b[33mval_loss\u001b[0m\u001b[33m'\u001b[0m, pati   \u001b[31m│\u001b[0m\n",
       "\u001b[31m│\u001b[0m                                                                                                  \u001b[31m│\u001b[0m\n",
       "\u001b[31m│\u001b[0m \u001b[2;33m/usr/local/lib/python3.9/dist-packages/keras/utils/\u001b[0m\u001b[1;33mtraceback_utils.py\u001b[0m:\u001b[94m65\u001b[0m in \u001b[92merror_handler\u001b[0m        \u001b[31m│\u001b[0m\n",
       "\u001b[31m│\u001b[0m                                                                                                  \u001b[31m│\u001b[0m\n",
       "\u001b[31m│\u001b[0m   \u001b[2m 62 \u001b[0m\u001b[2m│   │   \u001b[0m                                                                                   \u001b[31m│\u001b[0m\n",
       "\u001b[31m│\u001b[0m   \u001b[2m 63 \u001b[0m\u001b[2m│   │   \u001b[0mfiltered_tb = \u001b[94mNone\u001b[0m                                                                 \u001b[31m│\u001b[0m\n",
       "\u001b[31m│\u001b[0m   \u001b[2m 64 \u001b[0m\u001b[2m│   │   \u001b[0m\u001b[94mtry\u001b[0m:                                                                               \u001b[31m│\u001b[0m\n",
       "\u001b[31m│\u001b[0m \u001b[31m❱ \u001b[0m 65 \u001b[2m│   │   │   \u001b[0m\u001b[94mreturn\u001b[0m fn(*args, **kwargs)                                                     \u001b[31m│\u001b[0m\n",
       "\u001b[31m│\u001b[0m   \u001b[2m 66 \u001b[0m\u001b[2m│   │   \u001b[0m\u001b[94mexcept\u001b[0m \u001b[96mException\u001b[0m \u001b[94mas\u001b[0m e:                                                             \u001b[31m│\u001b[0m\n",
       "\u001b[31m│\u001b[0m   \u001b[2m 67 \u001b[0m\u001b[2m│   │   │   \u001b[0mfiltered_tb = _process_traceback_frames(e.__traceback__)                       \u001b[31m│\u001b[0m\n",
       "\u001b[31m│\u001b[0m   \u001b[2m 68 \u001b[0m\u001b[2m│   │   │   \u001b[0m\u001b[2m# To get the full stack trace, call:\u001b[0m                                           \u001b[31m│\u001b[0m\n",
       "\u001b[31m│\u001b[0m                                                                                                  \u001b[31m│\u001b[0m\n",
       "\u001b[31m│\u001b[0m \u001b[2;33m/usr/local/lib/python3.9/dist-packages/keras/engine/\u001b[0m\u001b[1;33mtraining.py\u001b[0m:\u001b[94m1650\u001b[0m in \u001b[92mfit\u001b[0m                      \u001b[31m│\u001b[0m\n",
       "\u001b[31m│\u001b[0m                                                                                                  \u001b[31m│\u001b[0m\n",
       "\u001b[31m│\u001b[0m   \u001b[2m1647 \u001b[0m\u001b[2m│   │   │   │   │   │   │   \u001b[0m_r=\u001b[94m1\u001b[0m,                                                         \u001b[31m│\u001b[0m\n",
       "\u001b[31m│\u001b[0m   \u001b[2m1648 \u001b[0m\u001b[2m│   │   │   │   │   │   \u001b[0m):                                                                \u001b[31m│\u001b[0m\n",
       "\u001b[31m│\u001b[0m   \u001b[2m1649 \u001b[0m\u001b[2m│   │   │   │   │   │   │   \u001b[0mcallbacks.on_train_batch_begin(step)                          \u001b[31m│\u001b[0m\n",
       "\u001b[31m│\u001b[0m \u001b[31m❱ \u001b[0m1650 \u001b[2m│   │   │   │   │   │   │   \u001b[0mtmp_logs = \u001b[96mself\u001b[0m.train_function(iterator)                      \u001b[31m│\u001b[0m\n",
       "\u001b[31m│\u001b[0m   \u001b[2m1651 \u001b[0m\u001b[2m│   │   │   │   │   │   │   \u001b[0m\u001b[94mif\u001b[0m data_handler.should_sync:                                  \u001b[31m│\u001b[0m\n",
       "\u001b[31m│\u001b[0m   \u001b[2m1652 \u001b[0m\u001b[2m│   │   │   │   │   │   │   │   \u001b[0mcontext.async_wait()                                      \u001b[31m│\u001b[0m\n",
       "\u001b[31m│\u001b[0m   \u001b[2m1653 \u001b[0m\u001b[2m│   │   │   │   │   │   │   \u001b[0m\u001b[2m# No error, now safe to assign to logs.\u001b[0m                       \u001b[31m│\u001b[0m\n",
       "\u001b[31m│\u001b[0m                                                                                                  \u001b[31m│\u001b[0m\n",
       "\u001b[31m│\u001b[0m \u001b[2;33m/usr/local/lib/python3.9/dist-packages/tensorflow/python/util/\u001b[0m\u001b[1;33mtraceback_utils.py\u001b[0m:\u001b[94m150\u001b[0m in          \u001b[31m│\u001b[0m\n",
       "\u001b[31m│\u001b[0m \u001b[92merror_handler\u001b[0m                                                                                    \u001b[31m│\u001b[0m\n",
       "\u001b[31m│\u001b[0m                                                                                                  \u001b[31m│\u001b[0m\n",
       "\u001b[31m│\u001b[0m   \u001b[2m147 \u001b[0m\u001b[2m│   \u001b[0m                                                                                       \u001b[31m│\u001b[0m\n",
       "\u001b[31m│\u001b[0m   \u001b[2m148 \u001b[0m\u001b[2m│   \u001b[0mfiltered_tb = \u001b[94mNone\u001b[0m                                                                     \u001b[31m│\u001b[0m\n",
       "\u001b[31m│\u001b[0m   \u001b[2m149 \u001b[0m\u001b[2m│   \u001b[0m\u001b[94mtry\u001b[0m:                                                                                   \u001b[31m│\u001b[0m\n",
       "\u001b[31m│\u001b[0m \u001b[31m❱ \u001b[0m150 \u001b[2m│     \u001b[0m\u001b[94mreturn\u001b[0m fn(*args, **kwargs)                                                           \u001b[31m│\u001b[0m\n",
       "\u001b[31m│\u001b[0m   \u001b[2m151 \u001b[0m\u001b[2m│   \u001b[0m\u001b[94mexcept\u001b[0m \u001b[96mException\u001b[0m \u001b[94mas\u001b[0m e:                                                                 \u001b[31m│\u001b[0m\n",
       "\u001b[31m│\u001b[0m   \u001b[2m152 \u001b[0m\u001b[2m│     \u001b[0mfiltered_tb = _process_traceback_frames(e.__traceback__)                             \u001b[31m│\u001b[0m\n",
       "\u001b[31m│\u001b[0m   \u001b[2m153 \u001b[0m\u001b[2m│     \u001b[0m\u001b[94mraise\u001b[0m e.with_traceback(filtered_tb) \u001b[94mfrom\u001b[0m \u001b[94mNone\u001b[0m                                        \u001b[31m│\u001b[0m\n",
       "\u001b[31m│\u001b[0m                                                                                                  \u001b[31m│\u001b[0m\n",
       "\u001b[31m│\u001b[0m \u001b[2;33m/usr/local/lib/python3.9/dist-packages/tensorflow/python/eager/polymorphic_function/\u001b[0m\u001b[1;33mpolymorphic_\u001b[0m \u001b[31m│\u001b[0m\n",
       "\u001b[31m│\u001b[0m \u001b[1;33mfunction.py\u001b[0m:\u001b[94m880\u001b[0m in \u001b[92m__call__\u001b[0m                                                                      \u001b[31m│\u001b[0m\n",
       "\u001b[31m│\u001b[0m                                                                                                  \u001b[31m│\u001b[0m\n",
       "\u001b[31m│\u001b[0m   \u001b[2m 877 \u001b[0m\u001b[2m│     \u001b[0mcompiler = \u001b[33m\"\u001b[0m\u001b[33mxla\u001b[0m\u001b[33m\"\u001b[0m \u001b[94mif\u001b[0m \u001b[96mself\u001b[0m._jit_compile \u001b[94melse\u001b[0m \u001b[33m\"\u001b[0m\u001b[33mnonXla\u001b[0m\u001b[33m\"\u001b[0m                                 \u001b[31m│\u001b[0m\n",
       "\u001b[31m│\u001b[0m   \u001b[2m 878 \u001b[0m\u001b[2m│     \u001b[0m                                                                                    \u001b[31m│\u001b[0m\n",
       "\u001b[31m│\u001b[0m   \u001b[2m 879 \u001b[0m\u001b[2m│     \u001b[0m\u001b[94mwith\u001b[0m OptionalXlaContext(\u001b[96mself\u001b[0m._jit_compile):                                         \u001b[31m│\u001b[0m\n",
       "\u001b[31m│\u001b[0m \u001b[31m❱ \u001b[0m 880 \u001b[2m│   │   \u001b[0mresult = \u001b[96mself\u001b[0m._call(*args, **kwds)                                                \u001b[31m│\u001b[0m\n",
       "\u001b[31m│\u001b[0m   \u001b[2m 881 \u001b[0m\u001b[2m│     \u001b[0m                                                                                    \u001b[31m│\u001b[0m\n",
       "\u001b[31m│\u001b[0m   \u001b[2m 882 \u001b[0m\u001b[2m│     \u001b[0mnew_tracing_count = \u001b[96mself\u001b[0m.experimental_get_tracing_count()                           \u001b[31m│\u001b[0m\n",
       "\u001b[31m│\u001b[0m   \u001b[2m 883 \u001b[0m\u001b[2m│     \u001b[0mwithout_tracing = (tracing_count == new_tracing_count)                              \u001b[31m│\u001b[0m\n",
       "\u001b[31m│\u001b[0m                                                                                                  \u001b[31m│\u001b[0m\n",
       "\u001b[31m│\u001b[0m \u001b[2;33m/usr/local/lib/python3.9/dist-packages/tensorflow/python/eager/polymorphic_function/\u001b[0m\u001b[1;33mpolymorphic_\u001b[0m \u001b[31m│\u001b[0m\n",
       "\u001b[31m│\u001b[0m \u001b[1;33mfunction.py\u001b[0m:\u001b[94m912\u001b[0m in \u001b[92m_call\u001b[0m                                                                         \u001b[31m│\u001b[0m\n",
       "\u001b[31m│\u001b[0m                                                                                                  \u001b[31m│\u001b[0m\n",
       "\u001b[31m│\u001b[0m   \u001b[2m 909 \u001b[0m\u001b[2m│     \u001b[0m\u001b[96mself\u001b[0m._lock.release()                                                                \u001b[31m│\u001b[0m\n",
       "\u001b[31m│\u001b[0m   \u001b[2m 910 \u001b[0m\u001b[2m│     \u001b[0m\u001b[2m# In this case we have created variables on the first call, so we run the\u001b[0m           \u001b[31m│\u001b[0m\n",
       "\u001b[31m│\u001b[0m   \u001b[2m 911 \u001b[0m\u001b[2m│     \u001b[0m\u001b[2m# defunned version which is guaranteed to never create variables.\u001b[0m                   \u001b[31m│\u001b[0m\n",
       "\u001b[31m│\u001b[0m \u001b[31m❱ \u001b[0m 912 \u001b[2m│     \u001b[0m\u001b[94mreturn\u001b[0m \u001b[96mself\u001b[0m._no_variable_creation_fn(*args, **kwds)  \u001b[2m# pylint: disable=not-callabl\u001b[0m  \u001b[31m│\u001b[0m\n",
       "\u001b[31m│\u001b[0m   \u001b[2m 913 \u001b[0m\u001b[2m│   \u001b[0m\u001b[94melif\u001b[0m \u001b[96mself\u001b[0m._variable_creation_fn \u001b[95mis\u001b[0m \u001b[95mnot\u001b[0m \u001b[94mNone\u001b[0m:                                          \u001b[31m│\u001b[0m\n",
       "\u001b[31m│\u001b[0m   \u001b[2m 914 \u001b[0m\u001b[2m│     \u001b[0m\u001b[2m# Release the lock early so that multiple threads can perform the call\u001b[0m              \u001b[31m│\u001b[0m\n",
       "\u001b[31m│\u001b[0m   \u001b[2m 915 \u001b[0m\u001b[2m│     \u001b[0m\u001b[2m# in parallel.\u001b[0m                                                                      \u001b[31m│\u001b[0m\n",
       "\u001b[31m│\u001b[0m                                                                                                  \u001b[31m│\u001b[0m\n",
       "\u001b[31m│\u001b[0m \u001b[2;33m/usr/local/lib/python3.9/dist-packages/tensorflow/python/eager/polymorphic_function/\u001b[0m\u001b[1;33mtracing_comp\u001b[0m \u001b[31m│\u001b[0m\n",
       "\u001b[31m│\u001b[0m \u001b[1;33miler.py\u001b[0m:\u001b[94m134\u001b[0m in \u001b[92m__call__\u001b[0m                                                                          \u001b[31m│\u001b[0m\n",
       "\u001b[31m│\u001b[0m                                                                                                  \u001b[31m│\u001b[0m\n",
       "\u001b[31m│\u001b[0m   \u001b[2m131 \u001b[0m\u001b[2m│   \u001b[0m\u001b[94mwith\u001b[0m \u001b[96mself\u001b[0m._lock:                                                                       \u001b[31m│\u001b[0m\n",
       "\u001b[31m│\u001b[0m   \u001b[2m132 \u001b[0m\u001b[2m│     \u001b[0m(concrete_function,                                                                  \u001b[31m│\u001b[0m\n",
       "\u001b[31m│\u001b[0m   \u001b[2m133 \u001b[0m\u001b[2m│      \u001b[0mfiltered_flat_args) = \u001b[96mself\u001b[0m._maybe_define_function(args, kwargs)                     \u001b[31m│\u001b[0m\n",
       "\u001b[31m│\u001b[0m \u001b[31m❱ \u001b[0m134 \u001b[2m│   \u001b[0m\u001b[94mreturn\u001b[0m concrete_function._call_flat(                                                   \u001b[31m│\u001b[0m\n",
       "\u001b[31m│\u001b[0m   \u001b[2m135 \u001b[0m\u001b[2m│   │   \u001b[0mfiltered_flat_args, captured_inputs=concrete_function.captured_inputs)  \u001b[2m# pylint\u001b[0m   \u001b[31m│\u001b[0m\n",
       "\u001b[31m│\u001b[0m   \u001b[2m136 \u001b[0m\u001b[2m  \u001b[0m                                                                                         \u001b[31m│\u001b[0m\n",
       "\u001b[31m│\u001b[0m   \u001b[2m137 \u001b[0m\u001b[2m  \u001b[0m\u001b[1;95m@property\u001b[0m                                                                                \u001b[31m│\u001b[0m\n",
       "\u001b[31m│\u001b[0m                                                                                                  \u001b[31m│\u001b[0m\n",
       "\u001b[31m│\u001b[0m \u001b[2;33m/usr/local/lib/python3.9/dist-packages/tensorflow/python/eager/polymorphic_function/\u001b[0m\u001b[1;33mmonomorphic_\u001b[0m \u001b[31m│\u001b[0m\n",
       "\u001b[31m│\u001b[0m \u001b[1;33mfunction.py\u001b[0m:\u001b[94m1745\u001b[0m in \u001b[92m_call_flat\u001b[0m                                                                   \u001b[31m│\u001b[0m\n",
       "\u001b[31m│\u001b[0m                                                                                                  \u001b[31m│\u001b[0m\n",
       "\u001b[31m│\u001b[0m   \u001b[2m1742 \u001b[0m\u001b[2m│   \u001b[0m\u001b[94mif\u001b[0m (possible_gradient_type == gradients_util.POSSIBLE_GRADIENT_TYPES_NONE             \u001b[31m│\u001b[0m\n",
       "\u001b[31m│\u001b[0m   \u001b[2m1743 \u001b[0m\u001b[2m│   │   \u001b[0m\u001b[95mand\u001b[0m executing_eagerly):                                                           \u001b[31m│\u001b[0m\n",
       "\u001b[31m│\u001b[0m   \u001b[2m1744 \u001b[0m\u001b[2m│     \u001b[0m\u001b[2m# No tape is watching; skip to running the function.\u001b[0m                                \u001b[31m│\u001b[0m\n",
       "\u001b[31m│\u001b[0m \u001b[31m❱ \u001b[0m1745 \u001b[2m│     \u001b[0m\u001b[94mreturn\u001b[0m \u001b[96mself\u001b[0m._build_call_outputs(\u001b[96mself\u001b[0m._inference_function.call(                      \u001b[31m│\u001b[0m\n",
       "\u001b[31m│\u001b[0m   \u001b[2m1746 \u001b[0m\u001b[2m│   │     \u001b[0mctx, args, cancellation_manager=cancellation_manager))                          \u001b[31m│\u001b[0m\n",
       "\u001b[31m│\u001b[0m   \u001b[2m1747 \u001b[0m\u001b[2m│   \u001b[0mforward_backward = \u001b[96mself\u001b[0m._select_forward_and_backward_functions(                       \u001b[31m│\u001b[0m\n",
       "\u001b[31m│\u001b[0m   \u001b[2m1748 \u001b[0m\u001b[2m│   │   \u001b[0margs,                                                                             \u001b[31m│\u001b[0m\n",
       "\u001b[31m│\u001b[0m                                                                                                  \u001b[31m│\u001b[0m\n",
       "\u001b[31m│\u001b[0m \u001b[2;33m/usr/local/lib/python3.9/dist-packages/tensorflow/python/eager/polymorphic_function/\u001b[0m\u001b[1;33mmonomorphic_\u001b[0m \u001b[31m│\u001b[0m\n",
       "\u001b[31m│\u001b[0m \u001b[1;33mfunction.py\u001b[0m:\u001b[94m378\u001b[0m in \u001b[92mcall\u001b[0m                                                                          \u001b[31m│\u001b[0m\n",
       "\u001b[31m│\u001b[0m                                                                                                  \u001b[31m│\u001b[0m\n",
       "\u001b[31m│\u001b[0m   \u001b[2m 375 \u001b[0m\u001b[2m│   \u001b[0m\u001b[94mif\u001b[0m executing_eagerly:                                                                 \u001b[31m│\u001b[0m\n",
       "\u001b[31m│\u001b[0m   \u001b[2m 376 \u001b[0m\u001b[2m│     \u001b[0m\u001b[94mwith\u001b[0m _InterpolateFunctionError(\u001b[96mself\u001b[0m):                                               \u001b[31m│\u001b[0m\n",
       "\u001b[31m│\u001b[0m   \u001b[2m 377 \u001b[0m\u001b[2m│   │   \u001b[0m\u001b[94mif\u001b[0m cancellation_manager \u001b[95mis\u001b[0m \u001b[94mNone\u001b[0m:                                                  \u001b[31m│\u001b[0m\n",
       "\u001b[31m│\u001b[0m \u001b[31m❱ \u001b[0m 378 \u001b[2m│   │     \u001b[0moutputs = execute.execute(                                                      \u001b[31m│\u001b[0m\n",
       "\u001b[31m│\u001b[0m   \u001b[2m 379 \u001b[0m\u001b[2m│   │   │     \u001b[0m\u001b[96mstr\u001b[0m(\u001b[96mself\u001b[0m.signature.name),                                                   \u001b[31m│\u001b[0m\n",
       "\u001b[31m│\u001b[0m   \u001b[2m 380 \u001b[0m\u001b[2m│   │   │     \u001b[0mnum_outputs=\u001b[96mself\u001b[0m._num_outputs,                                              \u001b[31m│\u001b[0m\n",
       "\u001b[31m│\u001b[0m   \u001b[2m 381 \u001b[0m\u001b[2m│   │   │     \u001b[0minputs=args,                                                                \u001b[31m│\u001b[0m\n",
       "\u001b[31m│\u001b[0m                                                                                                  \u001b[31m│\u001b[0m\n",
       "\u001b[31m│\u001b[0m \u001b[2;33m/usr/local/lib/python3.9/dist-packages/tensorflow/python/eager/\u001b[0m\u001b[1;33mexecute.py\u001b[0m:\u001b[94m52\u001b[0m in \u001b[92mquick_execute\u001b[0m    \u001b[31m│\u001b[0m\n",
       "\u001b[31m│\u001b[0m                                                                                                  \u001b[31m│\u001b[0m\n",
       "\u001b[31m│\u001b[0m   \u001b[2m 49 \u001b[0m\u001b[2m  \u001b[0m\u001b[2m# pylint: disable=protected-access\u001b[0m                                                       \u001b[31m│\u001b[0m\n",
       "\u001b[31m│\u001b[0m   \u001b[2m 50 \u001b[0m\u001b[2m  \u001b[0m\u001b[94mtry\u001b[0m:                                                                                     \u001b[31m│\u001b[0m\n",
       "\u001b[31m│\u001b[0m   \u001b[2m 51 \u001b[0m\u001b[2m│   \u001b[0mctx.ensure_initialized()                                                               \u001b[31m│\u001b[0m\n",
       "\u001b[31m│\u001b[0m \u001b[31m❱ \u001b[0m 52 \u001b[2m│   \u001b[0mtensors = pywrap_tfe.TFE_Py_Execute(ctx._handle, device_name, op_name,                 \u001b[31m│\u001b[0m\n",
       "\u001b[31m│\u001b[0m   \u001b[2m 53 \u001b[0m\u001b[2m│   │   │   │   │   │   │   │   │   │   \u001b[0minputs, attrs, num_outputs)                        \u001b[31m│\u001b[0m\n",
       "\u001b[31m│\u001b[0m   \u001b[2m 54 \u001b[0m\u001b[2m  \u001b[0m\u001b[94mexcept\u001b[0m core._NotOkStatusException \u001b[94mas\u001b[0m e:                                                  \u001b[31m│\u001b[0m\n",
       "\u001b[31m│\u001b[0m   \u001b[2m 55 \u001b[0m\u001b[2m│   \u001b[0m\u001b[94mif\u001b[0m name \u001b[95mis\u001b[0m \u001b[95mnot\u001b[0m \u001b[94mNone\u001b[0m:                                                                   \u001b[31m│\u001b[0m\n",
       "\u001b[31m╰──────────────────────────────────────────────────────────────────────────────────────────────────╯\u001b[0m\n",
       "\u001b[1;91mKeyboardInterrupt\u001b[0m\n"
      ]
     },
     "metadata": {},
     "output_type": "display_data"
    }
   ],
   "source": [
    "from keras.callbacks import History\n",
    "history = History()\n",
    "\n",
    "poi_c2v.fit(\n",
    "    name_pairs=X_train,\n",
    "    target=y_train,\n",
    "    validation_split=0.2,\n",
    "    max_epochs=10000,\n",
    "    patience=2,\n",
    "    batch_size=256,\n",
    "    callbacks=[history])"
   ]
  },
  {
   "cell_type": "code",
   "execution_count": 36,
   "id": "011b389c-9f37-47e6-ada7-5c44371820b8",
   "metadata": {},
   "outputs": [],
   "source": [
    "poi_c2v.model.save('model.keras')"
   ]
  },
  {
   "cell_type": "code",
   "execution_count": 56,
   "id": "7790fa20-490e-4ff7-adb1-a9945a872b0c",
   "metadata": {},
   "outputs": [],
   "source": [
    "model = tf.keras.models.load_model('../../data/06_models/20230901-test-0006/char2vecCNN.keras')"
   ]
  },
  {
   "cell_type": "code",
   "execution_count": null,
   "id": "9b067c8a-7f99-4869-ad77-6f36bea1b0b3",
   "metadata": {},
   "outputs": [],
   "source": []
  },
  {
   "cell_type": "code",
   "execution_count": null,
   "id": "259c73ac-c731-4803-b1bc-207240e0864b",
   "metadata": {},
   "outputs": [],
   "source": [
    "model.predict()"
   ]
  },
  {
   "cell_type": "code",
   "execution_count": 58,
   "id": "f13107f1-68ab-492c-84f2-e48c426525bc",
   "metadata": {},
   "outputs": [
    {
     "data": {
      "text/html": [
       "<pre style=\"white-space:pre;overflow-x:auto;line-height:normal;font-family:Menlo,'DejaVu Sans Mono',consolas,'Courier New',monospace\"></pre>\n"
      ],
      "text/plain": []
     },
     "metadata": {},
     "output_type": "display_data"
    },
    {
     "data": {
      "image/png": "[encoded data removed]",
      "text/plain": [
       "\u001b[1m<\u001b[0m\u001b[1;95mFigure\u001b[0m\u001b[39m size 100\u001b[0m\u001b[1;36m0x500\u001b[0m\u001b[39m with \u001b[0m\u001b[1;36m2\u001b[0m\u001b[39m Axes\u001b[0m\u001b[1m>\u001b[0m"
      ]
     },
     "metadata": {},
     "output_type": "display_data"
    }
   ],
   "source": [
    "fig, ax = plt.subplots(1, 2, figsize=(10,5))\n",
    "\n",
    "ax[0].plot(history.history['loss'])\n",
    "ax[0].plot(history.history['val_loss'])\n",
    "ax[0].set_title('Loss history')\n",
    "ax[0].legend(['Train loss', 'Validation loss'],loc='upper right')\n",
    "\n",
    "ax[1].plot(history.history['accuracy'])\n",
    "ax[1].plot(history.history['val_accuracy'])\n",
    "ax[1].set_title('Accuracy history')\n",
    "ax[1].legend(['Train accuracy', 'Validation accuracy'], loc='upper right')\n",
    "\n",
    "plt.show()"
   ]
  },
  {
   "cell_type": "code",
   "execution_count": 279,
   "id": "24f044e6-edc5-43ad-a872-ff0d799dd25e",
   "metadata": {},
   "outputs": [
    {
     "data": {
      "text/html": [
       "<pre style=\"white-space:pre;overflow-x:auto;line-height:normal;font-family:Menlo,'DejaVu Sans Mono',consolas,'Courier New',monospace\"></pre>\n"
      ],
      "text/plain": []
     },
     "metadata": {},
     "output_type": "display_data"
    },
    {
     "data": {
      "image/png": "[encoded data removed]",
      "text/plain": [
       "\u001b[1m<\u001b[0m\u001b[1;95mFigure\u001b[0m\u001b[39m size 100\u001b[0m\u001b[1;36m0x500\u001b[0m\u001b[39m with \u001b[0m\u001b[1;36m2\u001b[0m\u001b[39m Axes\u001b[0m\u001b[1m>\u001b[0m"
      ]
     },
     "metadata": {},
     "output_type": "display_data"
    }
   ],
   "source": [
    "fig, ax = plt.subplots(1, 2, figsize=(10,5))\n",
    "\n",
    "ax[0].plot(history.history['loss'])\n",
    "ax[0].plot(history.history['val_loss'])\n",
    "ax[0].set_title('Loss history')\n",
    "ax[0].legend(['Train loss', 'Validation loss'],loc='upper right')\n",
    "\n",
    "ax[1].plot(history.history['accuracy'])\n",
    "ax[1].plot(history.history['val_accuracy'])\n",
    "ax[1].set_title('Accuracy history')\n",
    "ax[1].legend(['Train accuracy', 'Validation accuracy'], loc='upper right')\n",
    "\n",
    "plt.show()"
   ]
  },
  {
   "cell_type": "code",
   "execution_count": 171,
   "id": "70d10b23-5ffa-4ec3-b795-56ae3e77c328",
   "metadata": {},
   "outputs": [],
   "source": [
    "poi_c2v.save_model('../../data/06_models/Conv-orbis-training-large-Fibonacci-filters')"
   ]
  },
  {
   "cell_type": "code",
   "execution_count": 137,
   "id": "40d26ade-3e5f-4545-9877-89441e49066c",
   "metadata": {},
   "outputs": [],
   "source": [
    "model = poi_c2v.load_model('../../data/06_models/Conv-mixed-sources-training-BEAT-EDIT-large')"
   ]
  },
  {
   "cell_type": "code",
   "execution_count": 58,
   "id": "c3c4da50-06a2-47b0-926d-aef8476c6e9c",
   "metadata": {},
   "outputs": [
    {
     "name": "stdout",
     "output_type": "stream",
     "text": [
      "Model: \"model_1\"\n",
      "__________________________________________________________________________________________________\n",
      " Layer (type)                   Output Shape         Param #     Connected to                     \n",
      "==================================================================================================\n",
      " left_branch_input (InputLayer)  [(None, 100, 1)]    0           []                               \n",
      "                                                                                                  \n",
      " right_branch_input (InputLayer  [(None, 100, 1)]    0           []                               \n",
      " )                                                                                                \n",
      "                                                                                                  \n",
      " model (Functional)             (None, 640)          407440      ['left_branch_input[0][0]',      \n",
      "                                                                  'right_branch_input[0][0]']     \n",
      "                                                                                                  \n",
      " concatenate_1 (Concatenate)    (None, 1280)         0           ['model[0][0]',                  \n",
      "                                                                  'model[1][0]']                  \n",
      "                                                                                                  \n",
      " multiply (Multiply)            (None, 640)          0           ['model[0][0]',                  \n",
      "                                                                  'model[1][0]']                  \n",
      "                                                                                                  \n",
      " subtract (Subtract)            (None, 640)          0           ['model[0][0]',                  \n",
      "                                                                  'model[1][0]']                  \n",
      "                                                                                                  \n",
      " concatenate_2 (Concatenate)    (None, 2560)         0           ['concatenate_1[0][0]',          \n",
      "                                                                  'multiply[0][0]',               \n",
      "                                                                  'subtract[0][0]']               \n",
      "                                                                                                  \n",
      " dense (Dense)                  (None, 1024)         2622464     ['concatenate_2[0][0]']          \n",
      "                                                                                                  \n",
      " dropout (Dropout)              (None, 1024)         0           ['dense[0][0]']                  \n",
      "                                                                                                  \n",
      " dense_1 (Dense)                (None, 1024)         1049600     ['dropout[0][0]']                \n",
      "                                                                                                  \n",
      " dropout_1 (Dropout)            (None, 1024)         0           ['dense_1[0][0]']                \n",
      "                                                                                                  \n",
      " dense_2 (Dense)                (None, 1024)         1049600     ['dropout_1[0][0]']              \n",
      "                                                                                                  \n",
      " dense_3 (Dense)                (None, 1)            1025        ['dense_2[0][0]']                \n",
      "                                                                                                  \n",
      "==================================================================================================\n",
      "Total params: 5,130,129\n",
      "Trainable params: 5,130,129\n",
      "Non-trainable params: 0\n",
      "__________________________________________________________________________________________________\n"
     ]
    }
   ],
   "source": [
    "model.summary()"
   ]
  },
  {
   "cell_type": "code",
   "execution_count": 59,
   "id": "d771e780-12b9-4795-961b-c113a1ba261f",
   "metadata": {},
   "outputs": [],
   "source": [
    "X_test_1 = encode_sparsed_list(X_test[:, 0],char_to_index_dict=char_to_index, max_len=MAX_NAME_LEN)\n",
    "X_test_2 = encode_sparsed_list(X_test[:, 1],char_to_index_dict=char_to_index, max_len=MAX_NAME_LEN)\n",
    "\n",
    "# X_train_1 = encode_sparsed_list(X_train[:, 0],char_to_index_dict=char_to_index, max_len=MAX_NAME_LEN)\n",
    "# X_train_2 = encode_sparsed_list(X_train[:, 1],char_to_index_dict=char_to_index, max_len=MAX_NAME_LEN)"
   ]
  },
  {
   "cell_type": "code",
   "execution_count": 60,
   "id": "9ee94890-5901-48b8-a9f0-4b4d82f2c0a2",
   "metadata": {},
   "outputs": [
    {
     "name": "stdout",
     "output_type": "stream",
     "text": [
      "299/299 [==============================] - 5s 16ms/step\n"
     ]
    },
    {
     "data": {
      "text/html": [
       "<pre style=\"white-space:pre;overflow-x:auto;line-height:normal;font-family:Menlo,'DejaVu Sans Mono',consolas,'Courier New',monospace\"></pre>\n"
      ],
      "text/plain": []
     },
     "metadata": {},
     "output_type": "display_data"
    },
    {
     "data": {
      "text/plain": [
       "\n",
       "\u001b[1;35marray\u001b[0m\u001b[1m(\u001b[0m\u001b[1m[\u001b[0m\u001b[1m[\u001b[0m\u001b[1;36m6.9816035e-01\u001b[0m\u001b[1m]\u001b[0m,\n",
       "       \u001b[1m[\u001b[0m\u001b[1;36m2.2602160e-01\u001b[0m\u001b[1m]\u001b[0m,\n",
       "       \u001b[1m[\u001b[0m\u001b[1;36m6.1700662e-04\u001b[0m\u001b[1m]\u001b[0m,\n",
       "       \u001b[33m...\u001b[0m,\n",
       "       \u001b[1m[\u001b[0m\u001b[1;36m9.2893755e-01\u001b[0m\u001b[1m]\u001b[0m,\n",
       "       \u001b[1m[\u001b[0m\u001b[1;36m9.8498392e-01\u001b[0m\u001b[1m]\u001b[0m,\n",
       "       \u001b[1m[\u001b[0m\u001b[1;36m9.5175618e-01\u001b[0m\u001b[1m]\u001b[0m\u001b[1m]\u001b[0m, \u001b[33mdtype\u001b[0m=\u001b[35mfloat32\u001b[0m\u001b[1m)\u001b[0m"
      ]
     },
     "execution_count": 60,
     "metadata": {},
     "output_type": "execute_result"
    }
   ],
   "source": [
    "model.predict((X_test_1, X_test_2))"
   ]
  },
  {
   "cell_type": "code",
   "execution_count": 62,
   "id": "5d803071-7795-44a1-b057-646704dde891",
   "metadata": {},
   "outputs": [
    {
     "name": "stdout",
     "output_type": "stream",
     "text": [
      "299/299 [==============================] - 5s 16ms/step\n"
     ]
    }
   ],
   "source": [
    "test_predictions = model.predict((X_test_1, X_test_2))\n",
    "# train_predictions = poi_c2v.model.predict((X_train_1, X_train_2))"
   ]
  },
  {
   "cell_type": "code",
   "execution_count": 63,
   "id": "ba28d180-f86f-4563-b9f4-9914ecc58e75",
   "metadata": {},
   "outputs": [
    {
     "data": {
      "text/html": [
       "<pre style=\"white-space:pre;overflow-x:auto;line-height:normal;font-family:Menlo,'DejaVu Sans Mono',consolas,'Courier New',monospace\"></pre>\n"
      ],
      "text/plain": []
     },
     "metadata": {},
     "output_type": "display_data"
    },
    {
     "data": {
      "text/plain": [
       "\n",
       "\u001b[1m(\u001b[0m\n",
       "    \u001b[1;35marray\u001b[0m\u001b[1m(\u001b[0m\u001b[1m[\u001b[0m\u001b[1;36m1551\u001b[0m., \u001b[1;36m1002\u001b[0m., \u001b[1;36m1067\u001b[0m.,  \u001b[1;36m987\u001b[0m.,  \u001b[1;36m655\u001b[0m.,  \u001b[1;36m461\u001b[0m.,  \u001b[1;36m264\u001b[0m.,  \u001b[1;36m253\u001b[0m.,  \u001b[1;36m384\u001b[0m.,\n",
       "       \u001b[1;36m2920\u001b[0m.\u001b[1m]\u001b[0m\u001b[1m)\u001b[0m,\n",
       "    \u001b[1;35marray\u001b[0m\u001b[1m(\u001b[0m\u001b[1m[\u001b[0m\u001b[1;36m6.48934838e-06\u001b[0m, \u001b[1;36m9.99811962e-02\u001b[0m, \u001b[1;36m1.99955910e-01\u001b[0m, \u001b[1;36m2.99930632e-01\u001b[0m,\n",
       "       \u001b[1;36m3.99905324e-01\u001b[0m, \u001b[1;36m4.99880046e-01\u001b[0m, \u001b[1;36m5.99854767e-01\u001b[0m, \u001b[1;36m6.99829459e-01\u001b[0m,\n",
       "       \u001b[1;36m7.99804151e-01\u001b[0m, \u001b[1;36m8.99778903e-01\u001b[0m, \u001b[1;36m9.99753594e-01\u001b[0m\u001b[1m]\u001b[0m\u001b[1m)\u001b[0m,\n",
       "    \u001b[1m<\u001b[0m\u001b[1;95mBarContainer\u001b[0m\u001b[39m object of \u001b[0m\u001b[1;36m10\u001b[0m\u001b[39m artists\u001b[0m\u001b[1m>\u001b[0m\n",
       "\u001b[1m)\u001b[0m"
      ]
     },
     "execution_count": 63,
     "metadata": {},
     "output_type": "execute_result"
    },
    {
     "data": {
      "text/html": [
       "<pre style=\"white-space:pre;overflow-x:auto;line-height:normal;font-family:Menlo,'DejaVu Sans Mono',consolas,'Courier New',monospace\"></pre>\n"
      ],
      "text/plain": []
     },
     "metadata": {},
     "output_type": "display_data"
    },
    {
     "data": {
      "image/png": "[encoded data removed]",
      "text/plain": [
       "\u001b[1m<\u001b[0m\u001b[1;95mFigure\u001b[0m\u001b[39m size 64\u001b[0m\u001b[1;36m0x480\u001b[0m\u001b[39m with \u001b[0m\u001b[1;36m1\u001b[0m\u001b[39m Axes\u001b[0m\u001b[1m>\u001b[0m"
      ]
     },
     "metadata": {},
     "output_type": "display_data"
    }
   ],
   "source": [
    "plt.hist(test_predictions)"
   ]
  },
  {
   "cell_type": "code",
   "execution_count": 64,
   "id": "8e4da415-9098-43f6-8c0a-a6969520793d",
   "metadata": {},
   "outputs": [
    {
     "data": {
      "text/html": [
       "<pre style=\"white-space:pre;overflow-x:auto;line-height:normal;font-family:Menlo,'DejaVu Sans Mono',consolas,'Courier New',monospace\"></pre>\n"
      ],
      "text/plain": []
     },
     "metadata": {},
     "output_type": "display_data"
    },
    {
     "data": {
      "text/html": [
       "<div>\n",
       "<style scoped>\n",
       "    .dataframe tbody tr th:only-of-type {\n",
       "        vertical-align: middle;\n",
       "    }\n",
       "\n",
       "    .dataframe tbody tr th {\n",
       "        vertical-align: top;\n",
       "    }\n",
       "\n",
       "    .dataframe thead th {\n",
       "        text-align: right;\n",
       "    }\n",
       "</style>\n",
       "<table border=\"1\" class=\"dataframe\">\n",
       "  <thead>\n",
       "    <tr style=\"text-align: right;\">\n",
       "      <th>col_0</th>\n",
       "      <th>False</th>\n",
       "      <th>True</th>\n",
       "    </tr>\n",
       "    <tr>\n",
       "      <th>row_0</th>\n",
       "      <th></th>\n",
       "      <th></th>\n",
       "    </tr>\n",
       "  </thead>\n",
       "  <tbody>\n",
       "    <tr>\n",
       "      <th>False</th>\n",
       "      <td>4308</td>\n",
       "      <td>450</td>\n",
       "    </tr>\n",
       "    <tr>\n",
       "      <th>True</th>\n",
       "      <td>954</td>\n",
       "      <td>3832</td>\n",
       "    </tr>\n",
       "  </tbody>\n",
       "</table>\n",
       "</div>"
      ],
      "text/plain": [
       "\n",
       "col_0  \u001b[3;91mFalse\u001b[0m  \u001b[3;92mTrue\u001b[0m \n",
       "row_0              \n",
       "\u001b[3;91mFalse\u001b[0m   \u001b[1;36m4308\u001b[0m    \u001b[1;36m450\u001b[0m\n",
       "\u001b[3;92mTrue\u001b[0m     \u001b[1;36m954\u001b[0m   \u001b[1;36m3832\u001b[0m"
      ]
     },
     "execution_count": 64,
     "metadata": {},
     "output_type": "execute_result"
    }
   ],
   "source": [
    "pd.crosstab((y_test>=.75).flatten(), (test_predictions>=.5).flatten())"
   ]
  },
  {
   "cell_type": "code",
   "execution_count": 65,
   "id": "4a045273-2af7-49d0-8738-ea4237330719",
   "metadata": {},
   "outputs": [
    {
     "name": "stdout",
     "output_type": "stream",
     "text": [
      "              precision    recall  f1-score   support\n",
      "\n",
      "       False       0.82      0.91      0.86      4758\n",
      "        True       0.89      0.80      0.85      4786\n",
      "\n",
      "    accuracy                           0.85      9544\n",
      "   macro avg       0.86      0.85      0.85      9544\n",
      "weighted avg       0.86      0.85      0.85      9544\n",
      "\n"
     ]
    }
   ],
   "source": [
    "print(classification_report((y_test>=.5).flatten(), (test_predictions>=.5).flatten()))"
   ]
  },
  {
   "cell_type": "code",
   "execution_count": 66,
   "id": "f1001e24-4103-4257-ba69-487a09b75c01",
   "metadata": {},
   "outputs": [],
   "source": [
    "from fuzzywuzzy import fuzz"
   ]
  },
  {
   "cell_type": "code",
   "execution_count": 67,
   "id": "003d5eb1-00d9-442b-bb69-d2d0dd25d103",
   "metadata": {},
   "outputs": [
    {
     "data": {
      "text/html": [
       "<pre style=\"white-space:pre;overflow-x:auto;line-height:normal;font-family:Menlo,'DejaVu Sans Mono',consolas,'Courier New',monospace\"></pre>\n"
      ],
      "text/plain": []
     },
     "metadata": {},
     "output_type": "display_data"
    },
    {
     "data": {
      "text/plain": [
       "\u001b[1;36m73\u001b[0m"
      ]
     },
     "execution_count": 67,
     "metadata": {},
     "output_type": "execute_result"
    }
   ],
   "source": [
    "fuzz.token_set_ratio('margaret mead junior', 'mead jr')"
   ]
  },
  {
   "cell_type": "code",
   "execution_count": 68,
   "id": "243fb1d9-fdb4-4a42-84c1-cda865c4d807",
   "metadata": {},
   "outputs": [],
   "source": [
    "token_set_predictions = np.array([fuzz.token_set_ratio(name1, name2)/100 for name1, name2 in X_test])\n",
    "# token_set_predictions_train = np.array([fuzz.token_set_ratio(name1, name2)/100 for name1, name2 in X_train])"
   ]
  },
  {
   "cell_type": "code",
   "execution_count": 69,
   "id": "76262aa6-2b13-46ce-8ed3-242729099662",
   "metadata": {},
   "outputs": [
    {
     "data": {
      "text/html": [
       "<pre style=\"white-space:pre;overflow-x:auto;line-height:normal;font-family:Menlo,'DejaVu Sans Mono',consolas,'Courier New',monospace\"></pre>\n"
      ],
      "text/plain": []
     },
     "metadata": {},
     "output_type": "display_data"
    },
    {
     "data": {
      "text/html": [
       "<div>\n",
       "<style scoped>\n",
       "    .dataframe tbody tr th:only-of-type {\n",
       "        vertical-align: middle;\n",
       "    }\n",
       "\n",
       "    .dataframe tbody tr th {\n",
       "        vertical-align: top;\n",
       "    }\n",
       "\n",
       "    .dataframe thead th {\n",
       "        text-align: right;\n",
       "    }\n",
       "</style>\n",
       "<table border=\"1\" class=\"dataframe\">\n",
       "  <thead>\n",
       "    <tr style=\"text-align: right;\">\n",
       "      <th>col_0</th>\n",
       "      <th>False</th>\n",
       "      <th>True</th>\n",
       "    </tr>\n",
       "    <tr>\n",
       "      <th>row_0</th>\n",
       "      <th></th>\n",
       "      <th></th>\n",
       "    </tr>\n",
       "  </thead>\n",
       "  <tbody>\n",
       "    <tr>\n",
       "      <th>False</th>\n",
       "      <td>4743</td>\n",
       "      <td>15</td>\n",
       "    </tr>\n",
       "    <tr>\n",
       "      <th>True</th>\n",
       "      <td>910</td>\n",
       "      <td>3876</td>\n",
       "    </tr>\n",
       "  </tbody>\n",
       "</table>\n",
       "</div>"
      ],
      "text/plain": [
       "\n",
       "col_0  \u001b[3;91mFalse\u001b[0m  \u001b[3;92mTrue\u001b[0m \n",
       "row_0              \n",
       "\u001b[3;91mFalse\u001b[0m   \u001b[1;36m4743\u001b[0m     \u001b[1;36m15\u001b[0m\n",
       "\u001b[3;92mTrue\u001b[0m     \u001b[1;36m910\u001b[0m   \u001b[1;36m3876\u001b[0m"
      ]
     },
     "execution_count": 69,
     "metadata": {},
     "output_type": "execute_result"
    }
   ],
   "source": [
    "pd.crosstab((y_test>=.5).flatten(), token_set_predictions>.75)"
   ]
  },
  {
   "cell_type": "code",
   "execution_count": 70,
   "id": "b4d25459-c959-47f6-91f6-d1bad6e0e272",
   "metadata": {},
   "outputs": [
    {
     "name": "stdout",
     "output_type": "stream",
     "text": [
      "              precision    recall  f1-score   support\n",
      "\n",
      "       False       0.84      1.00      0.91      4758\n",
      "        True       1.00      0.81      0.89      4786\n",
      "\n",
      "    accuracy                           0.90      9544\n",
      "   macro avg       0.92      0.90      0.90      9544\n",
      "weighted avg       0.92      0.90      0.90      9544\n",
      "\n"
     ]
    }
   ],
   "source": [
    "print(classification_report((y_test>=.75).flatten(), token_set_predictions>.75))"
   ]
  },
  {
   "cell_type": "code",
   "execution_count": 62,
   "id": "05939c49-51ae-45d6-a32e-a4299e20a49a",
   "metadata": {},
   "outputs": [],
   "source": [
    "results = pd.DataFrame(X_test)\n",
    "results['prediction'] = test_predictions>=.5\n",
    "results['token_set_ratio'] = token_set_predictions\n",
    "results['label'] = y_test\n",
    "results.columns = ['name_1', 'name_2', 'prediction','token_set_ratio', 'label']\n",
    "results['prediction_error'] = results['prediction'] != results['label']\n",
    "results['edit_error'] = (results['token_set_ratio']>.75) != results['label']"
   ]
  },
  {
   "cell_type": "code",
   "execution_count": 63,
   "id": "b7c0aab6-fd5c-4672-958b-f65fb6e148ee",
   "metadata": {},
   "outputs": [
    {
     "data": {
      "text/html": [
       "<pre style=\"white-space:pre;overflow-x:auto;line-height:normal;font-family:Menlo,'DejaVu Sans Mono',consolas,'Courier New',monospace\"><span style=\"color: #800000; text-decoration-color: #800000\">╭─────────────────────────────── </span><span style=\"color: #800000; text-decoration-color: #800000; font-weight: bold\">Traceback </span><span style=\"color: #bf7f7f; text-decoration-color: #bf7f7f; font-weight: bold\">(most recent call last)</span><span style=\"color: #800000; text-decoration-color: #800000\"> ────────────────────────────────╮</span>\n",
       "<span style=\"color: #800000; text-decoration-color: #800000\">│</span> in <span style=\"color: #00ff00; text-decoration-color: #00ff00\">&lt;cell line: 2&gt;</span>:<span style=\"color: #0000ff; text-decoration-color: #0000ff\">2</span>                                                                              <span style=\"color: #800000; text-decoration-color: #800000\">│</span>\n",
       "<span style=\"color: #800000; text-decoration-color: #800000\">│</span>                                                                                                  <span style=\"color: #800000; text-decoration-color: #800000\">│</span>\n",
       "<span style=\"color: #800000; text-decoration-color: #800000\">│</span>   <span style=\"color: #7f7f7f; text-decoration-color: #7f7f7f\">1 </span>results_train = pd.DataFrame(X_train)                                                        <span style=\"color: #800000; text-decoration-color: #800000\">│</span>\n",
       "<span style=\"color: #800000; text-decoration-color: #800000\">│</span> <span style=\"color: #800000; text-decoration-color: #800000\">❱ </span>2 results_train[<span style=\"color: #808000; text-decoration-color: #808000\">'prediction'</span>] = train_predictions                                              <span style=\"color: #800000; text-decoration-color: #800000\">│</span>\n",
       "<span style=\"color: #800000; text-decoration-color: #800000\">│</span>   <span style=\"color: #7f7f7f; text-decoration-color: #7f7f7f\">3 </span>results_train[<span style=\"color: #808000; text-decoration-color: #808000\">'token_set_ratio'</span>] = token_set_predictions_train                               <span style=\"color: #800000; text-decoration-color: #800000\">│</span>\n",
       "<span style=\"color: #800000; text-decoration-color: #800000\">│</span>   <span style=\"color: #7f7f7f; text-decoration-color: #7f7f7f\">4 </span>results_train[<span style=\"color: #808000; text-decoration-color: #808000\">'label'</span>] = y_train                                                             <span style=\"color: #800000; text-decoration-color: #800000\">│</span>\n",
       "<span style=\"color: #800000; text-decoration-color: #800000\">│</span>   <span style=\"color: #7f7f7f; text-decoration-color: #7f7f7f\">5 </span>results_train.columns = [<span style=\"color: #808000; text-decoration-color: #808000\">'name_1'</span>, <span style=\"color: #808000; text-decoration-color: #808000\">'name_2'</span>, <span style=\"color: #808000; text-decoration-color: #808000\">'prediction'</span>,<span style=\"color: #808000; text-decoration-color: #808000\">'token_set_ratio'</span>, <span style=\"color: #808000; text-decoration-color: #808000\">'label'</span>]        <span style=\"color: #800000; text-decoration-color: #800000\">│</span>\n",
       "<span style=\"color: #800000; text-decoration-color: #800000\">╰──────────────────────────────────────────────────────────────────────────────────────────────────╯</span>\n",
       "<span style=\"color: #ff0000; text-decoration-color: #ff0000; font-weight: bold\">NameError: </span>name <span style=\"color: #008000; text-decoration-color: #008000\">'train_predictions'</span> is not defined\n",
       "</pre>\n"
      ],
      "text/plain": [
       "\u001b[31m╭─\u001b[0m\u001b[31m──────────────────────────────\u001b[0m\u001b[31m \u001b[0m\u001b[1;31mTraceback \u001b[0m\u001b[1;2;31m(most recent call last)\u001b[0m\u001b[31m \u001b[0m\u001b[31m───────────────────────────────\u001b[0m\u001b[31m─╮\u001b[0m\n",
       "\u001b[31m│\u001b[0m in \u001b[92m<cell line: 2>\u001b[0m:\u001b[94m2\u001b[0m                                                                              \u001b[31m│\u001b[0m\n",
       "\u001b[31m│\u001b[0m                                                                                                  \u001b[31m│\u001b[0m\n",
       "\u001b[31m│\u001b[0m   \u001b[2m1 \u001b[0mresults_train = pd.DataFrame(X_train)                                                        \u001b[31m│\u001b[0m\n",
       "\u001b[31m│\u001b[0m \u001b[31m❱ \u001b[0m2 results_train[\u001b[33m'\u001b[0m\u001b[33mprediction\u001b[0m\u001b[33m'\u001b[0m] = train_predictions                                              \u001b[31m│\u001b[0m\n",
       "\u001b[31m│\u001b[0m   \u001b[2m3 \u001b[0mresults_train[\u001b[33m'\u001b[0m\u001b[33mtoken_set_ratio\u001b[0m\u001b[33m'\u001b[0m] = token_set_predictions_train                               \u001b[31m│\u001b[0m\n",
       "\u001b[31m│\u001b[0m   \u001b[2m4 \u001b[0mresults_train[\u001b[33m'\u001b[0m\u001b[33mlabel\u001b[0m\u001b[33m'\u001b[0m] = y_train                                                             \u001b[31m│\u001b[0m\n",
       "\u001b[31m│\u001b[0m   \u001b[2m5 \u001b[0mresults_train.columns = [\u001b[33m'\u001b[0m\u001b[33mname_1\u001b[0m\u001b[33m'\u001b[0m, \u001b[33m'\u001b[0m\u001b[33mname_2\u001b[0m\u001b[33m'\u001b[0m, \u001b[33m'\u001b[0m\u001b[33mprediction\u001b[0m\u001b[33m'\u001b[0m,\u001b[33m'\u001b[0m\u001b[33mtoken_set_ratio\u001b[0m\u001b[33m'\u001b[0m, \u001b[33m'\u001b[0m\u001b[33mlabel\u001b[0m\u001b[33m'\u001b[0m]        \u001b[31m│\u001b[0m\n",
       "\u001b[31m╰──────────────────────────────────────────────────────────────────────────────────────────────────╯\u001b[0m\n",
       "\u001b[1;91mNameError: \u001b[0mname \u001b[32m'train_predictions'\u001b[0m is not defined\n"
      ]
     },
     "metadata": {},
     "output_type": "display_data"
    }
   ],
   "source": [
    "results_train = pd.DataFrame(X_train)\n",
    "results_train['prediction'] = train_predictions\n",
    "results_train['token_set_ratio'] = token_set_predictions_train\n",
    "results_train['label'] = y_train\n",
    "results_train.columns = ['name_1', 'name_2', 'prediction','token_set_ratio', 'label']\n",
    "results_train['error'] = (results_train['prediction']>.5).astype(int) != results_train['label'].astype(int)"
   ]
  },
  {
   "cell_type": "code",
   "execution_count": 65,
   "id": "e0c50178-6e8a-4f8e-a9f9-4767f4d4554d",
   "metadata": {},
   "outputs": [],
   "source": [
    "results.to_csv('conv_results_test_mixed_sources.csv', index=False)\n",
    "results_train.to_csv('conv_results_train_orbis.csv', index=False)"
   ]
  },
  {
   "cell_type": "markdown",
   "id": "ae21aaa0-9e2e-42b2-bc54-ed0d108c17a5",
   "metadata": {},
   "source": [
    "# 6. Prediciton"
   ]
  },
  {
   "cell_type": "code",
   "execution_count": 181,
   "id": "a16124da-6699-44c3-b0f8-d95ffae2ed0c",
   "metadata": {},
   "outputs": [],
   "source": [
    "standard_1 = np.array(['paseo de la castellana 163 madrid 28017',\n",
    "                        'dave smith',\n",
    "                       'international business machine corp',\n",
    "                       'banca nazionale del lavoro',\n",
    "                       'massachusets institute of technology',\n",
    "                       'madrid institue of technology',\n",
    "                       'banco bilbao vizcaya argentaria',\n",
    "                       'bill gates',\n",
    "                       'william h gates',\n",
    "                       'mary miller',\n",
    "                       'mary',\n",
    "                       'ibm inc',\n",
    "                       'ibm inc', \n",
    "                       'dave smith',\n",
    "                       'royal free hospital',\n",
    "                       'royal free hospital emergency room',\n",
    "                       'royal free hospital school of medicine',\n",
    "                       'howdens joinery',\n",
    "                      'car craft'])\n",
    "standard_2 = np.array(['paseo de la castellana 161 madrid 28017',\n",
    "                        'david smith',\n",
    "                       'ibm',\n",
    "                       'bnl',\n",
    "                       'mit',\n",
    "                       'mit',\n",
    "                       'bbva',\n",
    "                       'william gates',\n",
    "                       'william a gates',\n",
    "                       'mark miller',\n",
    "                       'mark',\n",
    "                       'ibm corp',\n",
    "                       'ibs inc',\n",
    "                       'smith dave',\n",
    "                       'royal free hospital emergency room',\n",
    "                       'royal free hospital immunology',\n",
    "                       'royal free hospital immunology',\n",
    "                       'howdens new romney',\n",
    "                      'carcraft and mot service centre'])\n",
    "standard_target = np.array([1, 1,1,1,0,1, 1, 0, 0, 0, 1, 0, 1, 0, 0, 0, 1, 1])\n",
    "token_set_ratio = [fuzz.token_set_ratio(name1, name2)/100 for name1, name2 in list(zip(standard_1, standard_2))]"
   ]
  },
  {
   "cell_type": "code",
   "execution_count": 182,
   "id": "aed0775d-7597-4607-bf66-460893fec003",
   "metadata": {},
   "outputs": [],
   "source": [
    "standard_1_vectorized = encode_sparsed_list(standard_1,char_to_index_dict=char_to_index, max_len=MAX_NAME_LEN)\n",
    "standard_2_vectorized = encode_sparsed_list(standard_2,char_to_index_dict=char_to_index, max_len=MAX_NAME_LEN)"
   ]
  },
  {
   "cell_type": "code",
   "execution_count": 183,
   "id": "be7fb3b6-3845-43c2-8c09-b3b7fc4c23cd",
   "metadata": {},
   "outputs": [
    {
     "name": "stdout",
     "output_type": "stream",
     "text": [
      "1/1 [==============================] - 0s 37ms/step\n"
     ]
    }
   ],
   "source": [
    "standard_predictions = poi_c2v.model.predict((standard_1_vectorized, standard_2_vectorized))"
   ]
  },
  {
   "cell_type": "code",
   "execution_count": 184,
   "id": "e706dbc9-a3ee-4b68-997e-42a20976f191",
   "metadata": {},
   "outputs": [
    {
     "data": {
      "text/html": [
       "<pre style=\"white-space:pre;overflow-x:auto;line-height:normal;font-family:Menlo,'DejaVu Sans Mono',consolas,'Courier New',monospace\"></pre>\n"
      ],
      "text/plain": []
     },
     "metadata": {},
     "output_type": "display_data"
    },
    {
     "data": {
      "text/html": [
       "<div>\n",
       "<style scoped>\n",
       "    .dataframe tbody tr th:only-of-type {\n",
       "        vertical-align: middle;\n",
       "    }\n",
       "\n",
       "    .dataframe tbody tr th {\n",
       "        vertical-align: top;\n",
       "    }\n",
       "\n",
       "    .dataframe thead th {\n",
       "        text-align: right;\n",
       "    }\n",
       "</style>\n",
       "<table border=\"1\" class=\"dataframe\">\n",
       "  <thead>\n",
       "    <tr style=\"text-align: right;\">\n",
       "      <th></th>\n",
       "      <th>0</th>\n",
       "      <th>1</th>\n",
       "      <th>2</th>\n",
       "      <th>3</th>\n",
       "      <th>4</th>\n",
       "    </tr>\n",
       "  </thead>\n",
       "  <tbody>\n",
       "    <tr>\n",
       "      <th>0</th>\n",
       "      <td>paseo de la castellana 163 madrid 28017</td>\n",
       "      <td>paseo de la castellana 161 madrid 28017</td>\n",
       "      <td>1</td>\n",
       "      <td>[1.0]</td>\n",
       "      <td>0.97</td>\n",
       "    </tr>\n",
       "    <tr>\n",
       "      <th>1</th>\n",
       "      <td>dave smith</td>\n",
       "      <td>david smith</td>\n",
       "      <td>1</td>\n",
       "      <td>[0.99995995]</td>\n",
       "      <td>0.86</td>\n",
       "    </tr>\n",
       "    <tr>\n",
       "      <th>2</th>\n",
       "      <td>international business machine corp</td>\n",
       "      <td>ibm</td>\n",
       "      <td>1</td>\n",
       "      <td>[0.09302089]</td>\n",
       "      <td>0.11</td>\n",
       "    </tr>\n",
       "    <tr>\n",
       "      <th>3</th>\n",
       "      <td>banca nazionale del lavoro</td>\n",
       "      <td>bnl</td>\n",
       "      <td>1</td>\n",
       "      <td>[0.15652016]</td>\n",
       "      <td>0.21</td>\n",
       "    </tr>\n",
       "    <tr>\n",
       "      <th>4</th>\n",
       "      <td>massachusets institute of technology</td>\n",
       "      <td>mit</td>\n",
       "      <td>0</td>\n",
       "      <td>[0.13062263]</td>\n",
       "      <td>0.10</td>\n",
       "    </tr>\n",
       "    <tr>\n",
       "      <th>5</th>\n",
       "      <td>madrid institue of technology</td>\n",
       "      <td>mit</td>\n",
       "      <td>1</td>\n",
       "      <td>[0.20601977]</td>\n",
       "      <td>0.12</td>\n",
       "    </tr>\n",
       "    <tr>\n",
       "      <th>6</th>\n",
       "      <td>banco bilbao vizcaya argentaria</td>\n",
       "      <td>bbva</td>\n",
       "      <td>1</td>\n",
       "      <td>[0.8531332]</td>\n",
       "      <td>0.06</td>\n",
       "    </tr>\n",
       "    <tr>\n",
       "      <th>7</th>\n",
       "      <td>bill gates</td>\n",
       "      <td>william gates</td>\n",
       "      <td>0</td>\n",
       "      <td>[0.99979806]</td>\n",
       "      <td>0.78</td>\n",
       "    </tr>\n",
       "    <tr>\n",
       "      <th>8</th>\n",
       "      <td>william h gates</td>\n",
       "      <td>william a gates</td>\n",
       "      <td>0</td>\n",
       "      <td>[0.9999999]</td>\n",
       "      <td>0.93</td>\n",
       "    </tr>\n",
       "    <tr>\n",
       "      <th>9</th>\n",
       "      <td>mary miller</td>\n",
       "      <td>mark miller</td>\n",
       "      <td>0</td>\n",
       "      <td>[0.9995703]</td>\n",
       "      <td>0.91</td>\n",
       "    </tr>\n",
       "    <tr>\n",
       "      <th>10</th>\n",
       "      <td>mary</td>\n",
       "      <td>mark</td>\n",
       "      <td>1</td>\n",
       "      <td>[0.8798858]</td>\n",
       "      <td>0.75</td>\n",
       "    </tr>\n",
       "    <tr>\n",
       "      <th>11</th>\n",
       "      <td>ibm inc</td>\n",
       "      <td>ibm corp</td>\n",
       "      <td>0</td>\n",
       "      <td>[0.79874074]</td>\n",
       "      <td>0.67</td>\n",
       "    </tr>\n",
       "    <tr>\n",
       "      <th>12</th>\n",
       "      <td>ibm inc</td>\n",
       "      <td>ibs inc</td>\n",
       "      <td>1</td>\n",
       "      <td>[0.9907809]</td>\n",
       "      <td>0.86</td>\n",
       "    </tr>\n",
       "    <tr>\n",
       "      <th>13</th>\n",
       "      <td>dave smith</td>\n",
       "      <td>smith dave</td>\n",
       "      <td>0</td>\n",
       "      <td>[0.9999943]</td>\n",
       "      <td>1.00</td>\n",
       "    </tr>\n",
       "    <tr>\n",
       "      <th>14</th>\n",
       "      <td>royal free hospital</td>\n",
       "      <td>royal free hospital emergency room</td>\n",
       "      <td>0</td>\n",
       "      <td>[0.99999964]</td>\n",
       "      <td>1.00</td>\n",
       "    </tr>\n",
       "    <tr>\n",
       "      <th>15</th>\n",
       "      <td>royal free hospital emergency room</td>\n",
       "      <td>royal free hospital immunology</td>\n",
       "      <td>0</td>\n",
       "      <td>[0.99999976]</td>\n",
       "      <td>0.78</td>\n",
       "    </tr>\n",
       "    <tr>\n",
       "      <th>16</th>\n",
       "      <td>royal free hospital school of medicine</td>\n",
       "      <td>royal free hospital immunology</td>\n",
       "      <td>1</td>\n",
       "      <td>[0.9999995]</td>\n",
       "      <td>0.78</td>\n",
       "    </tr>\n",
       "    <tr>\n",
       "      <th>17</th>\n",
       "      <td>howdens joinery</td>\n",
       "      <td>howdens new romney</td>\n",
       "      <td>1</td>\n",
       "      <td>[0.9999121]</td>\n",
       "      <td>0.73</td>\n",
       "    </tr>\n",
       "  </tbody>\n",
       "</table>\n",
       "</div>"
      ],
      "text/plain": [
       "\n",
       "                                          \u001b[1;36m0\u001b[0m  \\\n",
       "\u001b[1;36m0\u001b[0m   paseo de la castellana \u001b[1;36m163\u001b[0m madrid \u001b[1;36m28017\u001b[0m   \n",
       "\u001b[1;36m1\u001b[0m                                dave smith   \n",
       "\u001b[1;36m2\u001b[0m       international business machine corp   \n",
       "\u001b[1;36m3\u001b[0m                banca nazionale del lavoro   \n",
       "\u001b[1;36m4\u001b[0m      massachusets institute of technology   \n",
       "\u001b[1;36m5\u001b[0m             madrid institue of technology   \n",
       "\u001b[1;36m6\u001b[0m           banco bilbao vizcaya argentaria   \n",
       "\u001b[1;36m7\u001b[0m                                bill gates   \n",
       "\u001b[1;36m8\u001b[0m                           william h gates   \n",
       "\u001b[1;36m9\u001b[0m                               mary miller   \n",
       "\u001b[1;36m10\u001b[0m                                     mary   \n",
       "\u001b[1;36m11\u001b[0m                                  ibm inc   \n",
       "\u001b[1;36m12\u001b[0m                                  ibm inc   \n",
       "\u001b[1;36m13\u001b[0m                               dave smith   \n",
       "\u001b[1;36m14\u001b[0m                      royal free hospital   \n",
       "\u001b[1;36m15\u001b[0m       royal free hospital emergency room   \n",
       "\u001b[1;36m16\u001b[0m   royal free hospital school of medicine   \n",
       "\u001b[1;36m17\u001b[0m                          howdens joinery   \n",
       "\n",
       "                                          \u001b[1;36m1\u001b[0m  \u001b[1;36m2\u001b[0m             \u001b[1;36m3\u001b[0m     \u001b[1;36m4\u001b[0m  \n",
       "\u001b[1;36m0\u001b[0m   paseo de la castellana \u001b[1;36m161\u001b[0m madrid \u001b[1;36m28017\u001b[0m  \u001b[1;36m1\u001b[0m         \u001b[1m[\u001b[0m\u001b[1;36m1.0\u001b[0m\u001b[1m]\u001b[0m  \u001b[1;36m0.97\u001b[0m  \n",
       "\u001b[1;36m1\u001b[0m                               david smith  \u001b[1;36m1\u001b[0m  \u001b[1m[\u001b[0m\u001b[1;36m0.99995995\u001b[0m\u001b[1m]\u001b[0m  \u001b[1;36m0.86\u001b[0m  \n",
       "\u001b[1;36m2\u001b[0m                                       ibm  \u001b[1;36m1\u001b[0m  \u001b[1m[\u001b[0m\u001b[1;36m0.09302089\u001b[0m\u001b[1m]\u001b[0m  \u001b[1;36m0.11\u001b[0m  \n",
       "\u001b[1;36m3\u001b[0m                                       bnl  \u001b[1;36m1\u001b[0m  \u001b[1m[\u001b[0m\u001b[1;36m0.15652016\u001b[0m\u001b[1m]\u001b[0m  \u001b[1;36m0.21\u001b[0m  \n",
       "\u001b[1;36m4\u001b[0m                                       mit  \u001b[1;36m0\u001b[0m  \u001b[1m[\u001b[0m\u001b[1;36m0.13062263\u001b[0m\u001b[1m]\u001b[0m  \u001b[1;36m0.10\u001b[0m  \n",
       "\u001b[1;36m5\u001b[0m                                       mit  \u001b[1;36m1\u001b[0m  \u001b[1m[\u001b[0m\u001b[1;36m0.20601977\u001b[0m\u001b[1m]\u001b[0m  \u001b[1;36m0.12\u001b[0m  \n",
       "\u001b[1;36m6\u001b[0m                                      bbva  \u001b[1;36m1\u001b[0m   \u001b[1m[\u001b[0m\u001b[1;36m0.8531332\u001b[0m\u001b[1m]\u001b[0m  \u001b[1;36m0.06\u001b[0m  \n",
       "\u001b[1;36m7\u001b[0m                             william gates  \u001b[1;36m0\u001b[0m  \u001b[1m[\u001b[0m\u001b[1;36m0.99979806\u001b[0m\u001b[1m]\u001b[0m  \u001b[1;36m0.78\u001b[0m  \n",
       "\u001b[1;36m8\u001b[0m                           william a gates  \u001b[1;36m0\u001b[0m   \u001b[1m[\u001b[0m\u001b[1;36m0.9999999\u001b[0m\u001b[1m]\u001b[0m  \u001b[1;36m0.93\u001b[0m  \n",
       "\u001b[1;36m9\u001b[0m                               mark miller  \u001b[1;36m0\u001b[0m   \u001b[1m[\u001b[0m\u001b[1;36m0.9995703\u001b[0m\u001b[1m]\u001b[0m  \u001b[1;36m0.91\u001b[0m  \n",
       "\u001b[1;36m10\u001b[0m                                     mark  \u001b[1;36m1\u001b[0m   \u001b[1m[\u001b[0m\u001b[1;36m0.8798858\u001b[0m\u001b[1m]\u001b[0m  \u001b[1;36m0.75\u001b[0m  \n",
       "\u001b[1;36m11\u001b[0m                                 ibm corp  \u001b[1;36m0\u001b[0m  \u001b[1m[\u001b[0m\u001b[1;36m0.79874074\u001b[0m\u001b[1m]\u001b[0m  \u001b[1;36m0.67\u001b[0m  \n",
       "\u001b[1;36m12\u001b[0m                                  ibs inc  \u001b[1;36m1\u001b[0m   \u001b[1m[\u001b[0m\u001b[1;36m0.9907809\u001b[0m\u001b[1m]\u001b[0m  \u001b[1;36m0.86\u001b[0m  \n",
       "\u001b[1;36m13\u001b[0m                               smith dave  \u001b[1;36m0\u001b[0m   \u001b[1m[\u001b[0m\u001b[1;36m0.9999943\u001b[0m\u001b[1m]\u001b[0m  \u001b[1;36m1.00\u001b[0m  \n",
       "\u001b[1;36m14\u001b[0m       royal free hospital emergency room  \u001b[1;36m0\u001b[0m  \u001b[1m[\u001b[0m\u001b[1;36m0.99999964\u001b[0m\u001b[1m]\u001b[0m  \u001b[1;36m1.00\u001b[0m  \n",
       "\u001b[1;36m15\u001b[0m           royal free hospital immunology  \u001b[1;36m0\u001b[0m  \u001b[1m[\u001b[0m\u001b[1;36m0.99999976\u001b[0m\u001b[1m]\u001b[0m  \u001b[1;36m0.78\u001b[0m  \n",
       "\u001b[1;36m16\u001b[0m           royal free hospital immunology  \u001b[1;36m1\u001b[0m   \u001b[1m[\u001b[0m\u001b[1;36m0.9999995\u001b[0m\u001b[1m]\u001b[0m  \u001b[1;36m0.78\u001b[0m  \n",
       "\u001b[1;36m17\u001b[0m                       howdens new romney  \u001b[1;36m1\u001b[0m   \u001b[1m[\u001b[0m\u001b[1;36m0.9999121\u001b[0m\u001b[1m]\u001b[0m  \u001b[1;36m0.73\u001b[0m  "
      ]
     },
     "execution_count": 184,
     "metadata": {},
     "output_type": "execute_result"
    }
   ],
   "source": [
    "pd.DataFrame(list(zip(standard_1, standard_2, standard_target, standard_predictions, token_set_ratio)))"
   ]
  },
  {
   "cell_type": "code",
   "execution_count": 142,
   "id": "6fa85868-4851-4012-a414-4fa2ee363f67",
   "metadata": {},
   "outputs": [
    {
     "data": {
      "text/html": [
       "<pre style=\"white-space:pre;overflow-x:auto;line-height:normal;font-family:Menlo,'DejaVu Sans Mono',consolas,'Courier New',monospace\"></pre>\n"
      ],
      "text/plain": []
     },
     "metadata": {},
     "output_type": "display_data"
    },
    {
     "data": {
      "text/html": [
       "<div>\n",
       "<style scoped>\n",
       "    .dataframe tbody tr th:only-of-type {\n",
       "        vertical-align: middle;\n",
       "    }\n",
       "\n",
       "    .dataframe tbody tr th {\n",
       "        vertical-align: top;\n",
       "    }\n",
       "\n",
       "    .dataframe thead th {\n",
       "        text-align: right;\n",
       "    }\n",
       "</style>\n",
       "<table border=\"1\" class=\"dataframe\">\n",
       "  <thead>\n",
       "    <tr style=\"text-align: right;\">\n",
       "      <th></th>\n",
       "      <th>0</th>\n",
       "      <th>1</th>\n",
       "      <th>2</th>\n",
       "      <th>3</th>\n",
       "      <th>4</th>\n",
       "    </tr>\n",
       "  </thead>\n",
       "  <tbody>\n",
       "    <tr>\n",
       "      <th>0</th>\n",
       "      <td>paseo de la castellana 163 madrid 28017</td>\n",
       "      <td>paseo de la castellana 161 madrid 28017</td>\n",
       "      <td>1</td>\n",
       "      <td>[0.997929]</td>\n",
       "      <td>0.97</td>\n",
       "    </tr>\n",
       "    <tr>\n",
       "      <th>1</th>\n",
       "      <td>dave smith</td>\n",
       "      <td>david smith</td>\n",
       "      <td>1</td>\n",
       "      <td>[0.998742]</td>\n",
       "      <td>0.86</td>\n",
       "    </tr>\n",
       "    <tr>\n",
       "      <th>2</th>\n",
       "      <td>international business machine corp</td>\n",
       "      <td>ibm</td>\n",
       "      <td>1</td>\n",
       "      <td>[0.77576053]</td>\n",
       "      <td>0.11</td>\n",
       "    </tr>\n",
       "    <tr>\n",
       "      <th>3</th>\n",
       "      <td>banca nazionale del lavoro</td>\n",
       "      <td>bnl</td>\n",
       "      <td>1</td>\n",
       "      <td>[0.34571025]</td>\n",
       "      <td>0.21</td>\n",
       "    </tr>\n",
       "    <tr>\n",
       "      <th>4</th>\n",
       "      <td>massachusets institute of technology</td>\n",
       "      <td>mit</td>\n",
       "      <td>0</td>\n",
       "      <td>[0.5362472]</td>\n",
       "      <td>0.10</td>\n",
       "    </tr>\n",
       "    <tr>\n",
       "      <th>5</th>\n",
       "      <td>madrid institue of technology</td>\n",
       "      <td>mit</td>\n",
       "      <td>1</td>\n",
       "      <td>[0.5866928]</td>\n",
       "      <td>0.12</td>\n",
       "    </tr>\n",
       "    <tr>\n",
       "      <th>6</th>\n",
       "      <td>banco bilbao vizcaya argentaria</td>\n",
       "      <td>bbva</td>\n",
       "      <td>1</td>\n",
       "      <td>[0.41756752]</td>\n",
       "      <td>0.06</td>\n",
       "    </tr>\n",
       "    <tr>\n",
       "      <th>7</th>\n",
       "      <td>bill gates</td>\n",
       "      <td>william gates</td>\n",
       "      <td>0</td>\n",
       "      <td>[0.8190667]</td>\n",
       "      <td>0.78</td>\n",
       "    </tr>\n",
       "    <tr>\n",
       "      <th>8</th>\n",
       "      <td>william h gates</td>\n",
       "      <td>william a gates</td>\n",
       "      <td>0</td>\n",
       "      <td>[0.9979643]</td>\n",
       "      <td>0.93</td>\n",
       "    </tr>\n",
       "    <tr>\n",
       "      <th>9</th>\n",
       "      <td>mary miller</td>\n",
       "      <td>mark miller</td>\n",
       "      <td>0</td>\n",
       "      <td>[0.9946093]</td>\n",
       "      <td>0.91</td>\n",
       "    </tr>\n",
       "    <tr>\n",
       "      <th>10</th>\n",
       "      <td>mary</td>\n",
       "      <td>mark</td>\n",
       "      <td>1</td>\n",
       "      <td>[0.3931997]</td>\n",
       "      <td>0.75</td>\n",
       "    </tr>\n",
       "    <tr>\n",
       "      <th>11</th>\n",
       "      <td>ibm inc</td>\n",
       "      <td>ibm corp</td>\n",
       "      <td>0</td>\n",
       "      <td>[0.67275393]</td>\n",
       "      <td>0.67</td>\n",
       "    </tr>\n",
       "    <tr>\n",
       "      <th>12</th>\n",
       "      <td>ibm inc</td>\n",
       "      <td>ibs inc</td>\n",
       "      <td>1</td>\n",
       "      <td>[0.815987]</td>\n",
       "      <td>0.86</td>\n",
       "    </tr>\n",
       "    <tr>\n",
       "      <th>13</th>\n",
       "      <td>dave smith</td>\n",
       "      <td>smith dave</td>\n",
       "      <td>0</td>\n",
       "      <td>[0.9993318]</td>\n",
       "      <td>1.00</td>\n",
       "    </tr>\n",
       "    <tr>\n",
       "      <th>14</th>\n",
       "      <td>royal free hospital</td>\n",
       "      <td>royal free hospital emergency room</td>\n",
       "      <td>0</td>\n",
       "      <td>[0.99931407]</td>\n",
       "      <td>1.00</td>\n",
       "    </tr>\n",
       "    <tr>\n",
       "      <th>15</th>\n",
       "      <td>royal free hospital emergency room</td>\n",
       "      <td>royal free hospital immunology</td>\n",
       "      <td>0</td>\n",
       "      <td>[0.91845304]</td>\n",
       "      <td>0.78</td>\n",
       "    </tr>\n",
       "    <tr>\n",
       "      <th>16</th>\n",
       "      <td>royal free hospital school of medicine</td>\n",
       "      <td>royal free hospital immunology</td>\n",
       "      <td>1</td>\n",
       "      <td>[0.34198987]</td>\n",
       "      <td>0.78</td>\n",
       "    </tr>\n",
       "    <tr>\n",
       "      <th>17</th>\n",
       "      <td>howdens joinery</td>\n",
       "      <td>howdens new romney</td>\n",
       "      <td>1</td>\n",
       "      <td>[0.9999971]</td>\n",
       "      <td>0.73</td>\n",
       "    </tr>\n",
       "  </tbody>\n",
       "</table>\n",
       "</div>"
      ],
      "text/plain": [
       "\n",
       "                                          \u001b[1;36m0\u001b[0m  \\\n",
       "\u001b[1;36m0\u001b[0m   paseo de la castellana \u001b[1;36m163\u001b[0m madrid \u001b[1;36m28017\u001b[0m   \n",
       "\u001b[1;36m1\u001b[0m                                dave smith   \n",
       "\u001b[1;36m2\u001b[0m       international business machine corp   \n",
       "\u001b[1;36m3\u001b[0m                banca nazionale del lavoro   \n",
       "\u001b[1;36m4\u001b[0m      massachusets institute of technology   \n",
       "\u001b[1;36m5\u001b[0m             madrid institue of technology   \n",
       "\u001b[1;36m6\u001b[0m           banco bilbao vizcaya argentaria   \n",
       "\u001b[1;36m7\u001b[0m                                bill gates   \n",
       "\u001b[1;36m8\u001b[0m                           william h gates   \n",
       "\u001b[1;36m9\u001b[0m                               mary miller   \n",
       "\u001b[1;36m10\u001b[0m                                     mary   \n",
       "\u001b[1;36m11\u001b[0m                                  ibm inc   \n",
       "\u001b[1;36m12\u001b[0m                                  ibm inc   \n",
       "\u001b[1;36m13\u001b[0m                               dave smith   \n",
       "\u001b[1;36m14\u001b[0m                      royal free hospital   \n",
       "\u001b[1;36m15\u001b[0m       royal free hospital emergency room   \n",
       "\u001b[1;36m16\u001b[0m   royal free hospital school of medicine   \n",
       "\u001b[1;36m17\u001b[0m                          howdens joinery   \n",
       "\n",
       "                                          \u001b[1;36m1\u001b[0m  \u001b[1;36m2\u001b[0m             \u001b[1;36m3\u001b[0m     \u001b[1;36m4\u001b[0m  \n",
       "\u001b[1;36m0\u001b[0m   paseo de la castellana \u001b[1;36m161\u001b[0m madrid \u001b[1;36m28017\u001b[0m  \u001b[1;36m1\u001b[0m    \u001b[1m[\u001b[0m\u001b[1;36m0.997929\u001b[0m\u001b[1m]\u001b[0m  \u001b[1;36m0.97\u001b[0m  \n",
       "\u001b[1;36m1\u001b[0m                               david smith  \u001b[1;36m1\u001b[0m    \u001b[1m[\u001b[0m\u001b[1;36m0.998742\u001b[0m\u001b[1m]\u001b[0m  \u001b[1;36m0.86\u001b[0m  \n",
       "\u001b[1;36m2\u001b[0m                                       ibm  \u001b[1;36m1\u001b[0m  \u001b[1m[\u001b[0m\u001b[1;36m0.77576053\u001b[0m\u001b[1m]\u001b[0m  \u001b[1;36m0.11\u001b[0m  \n",
       "\u001b[1;36m3\u001b[0m                                       bnl  \u001b[1;36m1\u001b[0m  \u001b[1m[\u001b[0m\u001b[1;36m0.34571025\u001b[0m\u001b[1m]\u001b[0m  \u001b[1;36m0.21\u001b[0m  \n",
       "\u001b[1;36m4\u001b[0m                                       mit  \u001b[1;36m0\u001b[0m   \u001b[1m[\u001b[0m\u001b[1;36m0.5362472\u001b[0m\u001b[1m]\u001b[0m  \u001b[1;36m0.10\u001b[0m  \n",
       "\u001b[1;36m5\u001b[0m                                       mit  \u001b[1;36m1\u001b[0m   \u001b[1m[\u001b[0m\u001b[1;36m0.5866928\u001b[0m\u001b[1m]\u001b[0m  \u001b[1;36m0.12\u001b[0m  \n",
       "\u001b[1;36m6\u001b[0m                                      bbva  \u001b[1;36m1\u001b[0m  \u001b[1m[\u001b[0m\u001b[1;36m0.41756752\u001b[0m\u001b[1m]\u001b[0m  \u001b[1;36m0.06\u001b[0m  \n",
       "\u001b[1;36m7\u001b[0m                             william gates  \u001b[1;36m0\u001b[0m   \u001b[1m[\u001b[0m\u001b[1;36m0.8190667\u001b[0m\u001b[1m]\u001b[0m  \u001b[1;36m0.78\u001b[0m  \n",
       "\u001b[1;36m8\u001b[0m                           william a gates  \u001b[1;36m0\u001b[0m   \u001b[1m[\u001b[0m\u001b[1;36m0.9979643\u001b[0m\u001b[1m]\u001b[0m  \u001b[1;36m0.93\u001b[0m  \n",
       "\u001b[1;36m9\u001b[0m                               mark miller  \u001b[1;36m0\u001b[0m   \u001b[1m[\u001b[0m\u001b[1;36m0.9946093\u001b[0m\u001b[1m]\u001b[0m  \u001b[1;36m0.91\u001b[0m  \n",
       "\u001b[1;36m10\u001b[0m                                     mark  \u001b[1;36m1\u001b[0m   \u001b[1m[\u001b[0m\u001b[1;36m0.3931997\u001b[0m\u001b[1m]\u001b[0m  \u001b[1;36m0.75\u001b[0m  \n",
       "\u001b[1;36m11\u001b[0m                                 ibm corp  \u001b[1;36m0\u001b[0m  \u001b[1m[\u001b[0m\u001b[1;36m0.67275393\u001b[0m\u001b[1m]\u001b[0m  \u001b[1;36m0.67\u001b[0m  \n",
       "\u001b[1;36m12\u001b[0m                                  ibs inc  \u001b[1;36m1\u001b[0m    \u001b[1m[\u001b[0m\u001b[1;36m0.815987\u001b[0m\u001b[1m]\u001b[0m  \u001b[1;36m0.86\u001b[0m  \n",
       "\u001b[1;36m13\u001b[0m                               smith dave  \u001b[1;36m0\u001b[0m   \u001b[1m[\u001b[0m\u001b[1;36m0.9993318\u001b[0m\u001b[1m]\u001b[0m  \u001b[1;36m1.00\u001b[0m  \n",
       "\u001b[1;36m14\u001b[0m       royal free hospital emergency room  \u001b[1;36m0\u001b[0m  \u001b[1m[\u001b[0m\u001b[1;36m0.99931407\u001b[0m\u001b[1m]\u001b[0m  \u001b[1;36m1.00\u001b[0m  \n",
       "\u001b[1;36m15\u001b[0m           royal free hospital immunology  \u001b[1;36m0\u001b[0m  \u001b[1m[\u001b[0m\u001b[1;36m0.91845304\u001b[0m\u001b[1m]\u001b[0m  \u001b[1;36m0.78\u001b[0m  \n",
       "\u001b[1;36m16\u001b[0m           royal free hospital immunology  \u001b[1;36m1\u001b[0m  \u001b[1m[\u001b[0m\u001b[1;36m0.34198987\u001b[0m\u001b[1m]\u001b[0m  \u001b[1;36m0.78\u001b[0m  \n",
       "\u001b[1;36m17\u001b[0m                       howdens new romney  \u001b[1;36m1\u001b[0m   \u001b[1m[\u001b[0m\u001b[1;36m0.9999971\u001b[0m\u001b[1m]\u001b[0m  \u001b[1;36m0.73\u001b[0m  "
      ]
     },
     "execution_count": 142,
     "metadata": {},
     "output_type": "execute_result"
    }
   ],
   "source": [
    "pd.DataFrame(list(zip(standard_1, standard_2, standard_target, standard_predictions, token_set_ratio)))"
   ]
  },
  {
   "cell_type": "code",
   "execution_count": 185,
   "id": "77b60d6c-9a13-410f-a5d8-5195039d4b55",
   "metadata": {},
   "outputs": [
    {
     "data": {
      "text/html": [
       "<pre style=\"white-space:pre;overflow-x:auto;line-height:normal;font-family:Menlo,'DejaVu Sans Mono',consolas,'Courier New',monospace\"><span style=\"color: #7fbfbf; text-decoration-color: #7fbfbf\">[08/22/23 23:04:37] </span><span style=\"color: #000080; text-decoration-color: #000080\">INFO    </span> Loading data from <span style=\"color: #008000; text-decoration-color: #008000\">'geonames_latin_pairs'</span> <span style=\"font-weight: bold\">(</span>SparkDataSet<span style=\"font-weight: bold\">)</span><span style=\"color: #808000; text-decoration-color: #808000\">...</span>         <a href=\"file:///usr/local/lib/python3.9/dist-packages/kedro/io/data_catalog.py\" target=\"_blank\"><span style=\"color: #7f7f7f; text-decoration-color: #7f7f7f\">data_catalog.py</span></a><span style=\"color: #7f7f7f; text-decoration-color: #7f7f7f\">:</span><a href=\"file:///usr/local/lib/python3.9/dist-packages/kedro/io/data_catalog.py#475\" target=\"_blank\"><span style=\"color: #7f7f7f; text-decoration-color: #7f7f7f\">475</span></a>\n",
       "</pre>\n"
      ],
      "text/plain": [
       "\u001b[2;36m[08/22/23 23:04:37]\u001b[0m\u001b[2;36m \u001b[0m\u001b[34mINFO    \u001b[0m Loading data from \u001b[32m'geonames_latin_pairs'\u001b[0m \u001b[1m(\u001b[0mSparkDataSet\u001b[1m)\u001b[0m\u001b[33m...\u001b[0m         \u001b]8;id=947467;file:///usr/local/lib/python3.9/dist-packages/kedro/io/data_catalog.py\u001b\\\u001b[2mdata_catalog.py\u001b[0m\u001b]8;;\u001b\\\u001b[2m:\u001b[0m\u001b]8;id=992668;file:///usr/local/lib/python3.9/dist-packages/kedro/io/data_catalog.py#475\u001b\\\u001b[2m475\u001b[0m\u001b]8;;\u001b\\\n"
      ]
     },
     "metadata": {},
     "output_type": "display_data"
    },
    {
     "name": "stderr",
     "output_type": "stream",
     "text": [
      "                                                                                \r"
     ]
    }
   ],
   "source": [
    "geonames_pairs = catalog.load('geonames_latin_pairs')\n",
    "geonames_pairs = geonames_pairs.withColumn('target', when(col('match') == 'true', 1).otherwise(0).cast(FloatType()))\n",
    "geonames_pairs_es = geonames_pairs.filter(col('language_1').isin(['ES', 'MX']))\n",
    "geonames_normalized = geonames_pairs_es.withColumn('name_1_normalized', udf_normalize_chars(col('name_1'))) \\\n",
    "                .withColumn('name_2_normalized', udf_normalize_chars(col('name_2')))\n",
    "\n",
    "\n",
    "name_pairs = geonames_normalized.select('name_1_normalized', 'name_2_normalized').toPandas().values\n",
    "target = geonames_normalized.select(col('target')).toPandas().astype(float).values\n",
    "\n",
    "X1 = encode_sparsed_list(name_pairs[:, 0],char_to_index_dict=char_to_index, max_len=MAX_NAME_LEN)\n",
    "X2 = encode_sparsed_list(name_pairs[:, 1],char_to_index_dict=char_to_index, max_len=MAX_NAME_LEN)"
   ]
  },
  {
   "cell_type": "code",
   "execution_count": 186,
   "id": "35b4fb98-53ee-45ab-919a-041486825692",
   "metadata": {},
   "outputs": [
    {
     "name": "stdout",
     "output_type": "stream",
     "text": [
      "1708/1708 [==============================] - 35s 20ms/step\n"
     ]
    }
   ],
   "source": [
    "geonames_predictions = poi_c2v.model.predict((X1, X2))"
   ]
  },
  {
   "cell_type": "code",
   "execution_count": 187,
   "id": "be94cca3-cb8e-419d-b5c2-0b512765b49f",
   "metadata": {},
   "outputs": [
    {
     "data": {
      "text/html": [
       "<pre style=\"white-space:pre;overflow-x:auto;line-height:normal;font-family:Menlo,'DejaVu Sans Mono',consolas,'Courier New',monospace\"></pre>\n"
      ],
      "text/plain": []
     },
     "metadata": {},
     "output_type": "display_data"
    },
    {
     "data": {
      "text/plain": [
       "\n",
       "\u001b[1m(\u001b[0m\n",
       "    \u001b[1;35marray\u001b[0m\u001b[1m(\u001b[0m\u001b[1m[\u001b[0m\u001b[1;36m13908\u001b[0m.,  \u001b[1;36m4153\u001b[0m.,  \u001b[1;36m1894\u001b[0m.,  \u001b[1;36m1129\u001b[0m.,   \u001b[1;36m833\u001b[0m.,   \u001b[1;36m632\u001b[0m.,   \u001b[1;36m638\u001b[0m.,   \u001b[1;36m800\u001b[0m.,\n",
       "        \u001b[1;36m1228\u001b[0m., \u001b[1;36m29428\u001b[0m.\u001b[1m]\u001b[0m\u001b[1m)\u001b[0m,\n",
       "    \u001b[1;35marray\u001b[0m\u001b[1m(\u001b[0m\u001b[1m[\u001b[0m\u001b[1;36m1.33566091e-05\u001b[0m, \u001b[1;36m1.00012019e-01\u001b[0m, \u001b[1;36m2.00010687e-01\u001b[0m, \u001b[1;36m3.00009340e-01\u001b[0m,\n",
       "       \u001b[1;36m4.00008023e-01\u001b[0m, \u001b[1;36m5.00006676e-01\u001b[0m, \u001b[1;36m6.00005329e-01\u001b[0m, \u001b[1;36m7.00003982e-01\u001b[0m,\n",
       "       \u001b[1;36m8.00002694e-01\u001b[0m, \u001b[1;36m9.00001347e-01\u001b[0m, \u001b[1;36m1.00000000e+00\u001b[0m\u001b[1m]\u001b[0m\u001b[1m)\u001b[0m,\n",
       "    \u001b[1m<\u001b[0m\u001b[1;95mBarContainer\u001b[0m\u001b[39m object of \u001b[0m\u001b[1;36m10\u001b[0m\u001b[39m artists\u001b[0m\u001b[1m>\u001b[0m\n",
       "\u001b[1m)\u001b[0m"
      ]
     },
     "execution_count": 187,
     "metadata": {},
     "output_type": "execute_result"
    },
    {
     "data": {
      "text/html": [
       "<pre style=\"white-space:pre;overflow-x:auto;line-height:normal;font-family:Menlo,'DejaVu Sans Mono',consolas,'Courier New',monospace\"></pre>\n"
      ],
      "text/plain": []
     },
     "metadata": {},
     "output_type": "display_data"
    },
    {
     "data": {
      "image/png": "[encoded data removed]",
      "text/plain": [
       "\u001b[1m<\u001b[0m\u001b[1;95mFigure\u001b[0m\u001b[39m size 64\u001b[0m\u001b[1;36m0x480\u001b[0m\u001b[39m with \u001b[0m\u001b[1;36m1\u001b[0m\u001b[39m Axes\u001b[0m\u001b[1m>\u001b[0m"
      ]
     },
     "metadata": {},
     "output_type": "display_data"
    }
   ],
   "source": [
    "plt.hist(geonames_predictions)"
   ]
  },
  {
   "cell_type": "code",
   "execution_count": 188,
   "id": "dc50151b-8037-49c3-913e-24eb78625649",
   "metadata": {},
   "outputs": [
    {
     "data": {
      "text/html": [
       "<pre style=\"white-space:pre;overflow-x:auto;line-height:normal;font-family:Menlo,'DejaVu Sans Mono',consolas,'Courier New',monospace\"></pre>\n"
      ],
      "text/plain": []
     },
     "metadata": {},
     "output_type": "display_data"
    },
    {
     "data": {
      "text/html": [
       "<div>\n",
       "<style scoped>\n",
       "    .dataframe tbody tr th:only-of-type {\n",
       "        vertical-align: middle;\n",
       "    }\n",
       "\n",
       "    .dataframe tbody tr th {\n",
       "        vertical-align: top;\n",
       "    }\n",
       "\n",
       "    .dataframe thead th {\n",
       "        text-align: right;\n",
       "    }\n",
       "</style>\n",
       "<table border=\"1\" class=\"dataframe\">\n",
       "  <thead>\n",
       "    <tr style=\"text-align: right;\">\n",
       "      <th>col_0</th>\n",
       "      <th>False</th>\n",
       "      <th>True</th>\n",
       "    </tr>\n",
       "    <tr>\n",
       "      <th>row_0</th>\n",
       "      <th></th>\n",
       "      <th></th>\n",
       "    </tr>\n",
       "  </thead>\n",
       "  <tbody>\n",
       "    <tr>\n",
       "      <th>False</th>\n",
       "      <td>17786</td>\n",
       "      <td>9615</td>\n",
       "    </tr>\n",
       "    <tr>\n",
       "      <th>True</th>\n",
       "      <td>4131</td>\n",
       "      <td>23111</td>\n",
       "    </tr>\n",
       "  </tbody>\n",
       "</table>\n",
       "</div>"
      ],
      "text/plain": [
       "\n",
       "col_0  \u001b[3;91mFalse\u001b[0m  \u001b[3;92mTrue\u001b[0m \n",
       "row_0              \n",
       "\u001b[3;91mFalse\u001b[0m  \u001b[1;36m17786\u001b[0m   \u001b[1;36m9615\u001b[0m\n",
       "\u001b[3;92mTrue\u001b[0m    \u001b[1;36m4131\u001b[0m  \u001b[1;36m23111\u001b[0m"
      ]
     },
     "execution_count": 188,
     "metadata": {},
     "output_type": "execute_result"
    }
   ],
   "source": [
    "pd.crosstab((target>=.75).flatten(), (geonames_predictions>=.5).flatten())"
   ]
  },
  {
   "cell_type": "code",
   "execution_count": 189,
   "id": "bd4e955d-c4b3-44b0-95b0-a42561c6b07e",
   "metadata": {},
   "outputs": [
    {
     "name": "stdout",
     "output_type": "stream",
     "text": [
      "              precision    recall  f1-score   support\n",
      "\n",
      "       False       0.81      0.65      0.72     27401\n",
      "        True       0.71      0.85      0.77     27242\n",
      "\n",
      "    accuracy                           0.75     54643\n",
      "   macro avg       0.76      0.75      0.75     54643\n",
      "weighted avg       0.76      0.75      0.75     54643\n",
      "\n"
     ]
    }
   ],
   "source": [
    "print(classification_report((target>=.5).flatten(), geonames_predictions>.5))"
   ]
  },
  {
   "cell_type": "code",
   "execution_count": 190,
   "id": "6f76abcc-8c09-4768-a84b-7b0f04900bc9",
   "metadata": {},
   "outputs": [
    {
     "data": {
      "text/html": [
       "<pre style=\"white-space:pre;overflow-x:auto;line-height:normal;font-family:Menlo,'DejaVu Sans Mono',consolas,'Courier New',monospace\"></pre>\n"
      ],
      "text/plain": []
     },
     "metadata": {},
     "output_type": "display_data"
    },
    {
     "data": {
      "text/html": [
       "<div>\n",
       "<style scoped>\n",
       "    .dataframe tbody tr th:only-of-type {\n",
       "        vertical-align: middle;\n",
       "    }\n",
       "\n",
       "    .dataframe tbody tr th {\n",
       "        vertical-align: top;\n",
       "    }\n",
       "\n",
       "    .dataframe thead th {\n",
       "        text-align: right;\n",
       "    }\n",
       "</style>\n",
       "<table border=\"1\" class=\"dataframe\">\n",
       "  <thead>\n",
       "    <tr style=\"text-align: right;\">\n",
       "      <th>col_0</th>\n",
       "      <th>False</th>\n",
       "      <th>True</th>\n",
       "    </tr>\n",
       "    <tr>\n",
       "      <th>row_0</th>\n",
       "      <th></th>\n",
       "      <th></th>\n",
       "    </tr>\n",
       "  </thead>\n",
       "  <tbody>\n",
       "    <tr>\n",
       "      <th>False</th>\n",
       "      <td>23164</td>\n",
       "      <td>4237</td>\n",
       "    </tr>\n",
       "    <tr>\n",
       "      <th>True</th>\n",
       "      <td>7350</td>\n",
       "      <td>19892</td>\n",
       "    </tr>\n",
       "  </tbody>\n",
       "</table>\n",
       "</div>"
      ],
      "text/plain": [
       "\n",
       "col_0  \u001b[3;91mFalse\u001b[0m  \u001b[3;92mTrue\u001b[0m \n",
       "row_0              \n",
       "\u001b[3;91mFalse\u001b[0m  \u001b[1;36m23164\u001b[0m   \u001b[1;36m4237\u001b[0m\n",
       "\u001b[3;92mTrue\u001b[0m    \u001b[1;36m7350\u001b[0m  \u001b[1;36m19892\u001b[0m"
      ]
     },
     "execution_count": 190,
     "metadata": {},
     "output_type": "execute_result"
    }
   ],
   "source": [
    "\n",
    "token_set_predictions = np.array([fuzz.token_set_ratio(name1, name2)/100 for name1, name2 in name_pairs])>.75\n",
    "pd.crosstab((target>=.5).flatten(), token_set_predictions)"
   ]
  },
  {
   "cell_type": "code",
   "execution_count": 191,
   "id": "e121b341-177a-408f-848a-faaffde466e2",
   "metadata": {},
   "outputs": [
    {
     "name": "stdout",
     "output_type": "stream",
     "text": [
      "              precision    recall  f1-score   support\n",
      "\n",
      "       False       0.76      0.85      0.80     27401\n",
      "        True       0.82      0.73      0.77     27242\n",
      "\n",
      "    accuracy                           0.79     54643\n",
      "   macro avg       0.79      0.79      0.79     54643\n",
      "weighted avg       0.79      0.79      0.79     54643\n",
      "\n"
     ]
    }
   ],
   "source": [
    "print(classification_report((target>=.5).flatten(), token_set_predictions))"
   ]
  },
  {
   "cell_type": "markdown",
   "id": "c4641264-bf38-40f7-93fe-3a44db1852c8",
   "metadata": {},
   "source": [
    "# Match logs comparison"
   ]
  },
  {
   "cell_type": "code",
   "execution_count": 192,
   "id": "4416cff3-b9bf-4fac-8e32-0bc2ed170236",
   "metadata": {},
   "outputs": [],
   "source": [
    "matching_logs = pd.read_csv('../../data/01_raw/tomtom/full_matching_logs_ES_EN_ov32.csv')"
   ]
  },
  {
   "cell_type": "code",
   "execution_count": 193,
   "id": "c4cb4b76-739a-4205-b617-e81d093f5089",
   "metadata": {},
   "outputs": [
    {
     "data": {
      "text/html": [
       "<pre style=\"white-space:pre;overflow-x:auto;line-height:normal;font-family:Menlo,'DejaVu Sans Mono',consolas,'Courier New',monospace\"></pre>\n"
      ],
      "text/plain": []
     },
     "metadata": {},
     "output_type": "display_data"
    },
    {
     "data": {
      "text/plain": [
       "\n",
       "\u001b[1;35mIndex\u001b[0m\u001b[1m(\u001b[0m\u001b[1m[\u001b[0m\u001b[32m'release_version'\u001b[0m, \u001b[32m'enduser_category'\u001b[0m, \u001b[32m'category_id_tt'\u001b[0m,\n",
       "       \u001b[32m'category_name'\u001b[0m, \u001b[32m'reference_translated_cat_id'\u001b[0m, \u001b[32m'reference_id'\u001b[0m,\n",
       "       \u001b[32m'api_poi_id'\u001b[0m, \u001b[32m'providers_translated_cat_id'\u001b[0m, \u001b[32m'ref_lat'\u001b[0m, \u001b[32m'ref_lon'\u001b[0m,\n",
       "       \u001b[32m'location_distance_m'\u001b[0m, \u001b[32m'pav_threshold_distance_m'\u001b[0m,\n",
       "       \u001b[32m'pa_threshold_distance_m'\u001b[0m, \u001b[32m'name'\u001b[0m, \u001b[32m'api_poiName'\u001b[0m, \u001b[32m'name_ref_nrm'\u001b[0m,\n",
       "       \u001b[32m'name_prov_nrm'\u001b[0m, \u001b[32m'api_poiBrand'\u001b[0m, \u001b[32m'brand_flag'\u001b[0m, \u001b[32m'category_matching'\u001b[0m,\n",
       "       \u001b[32m'distance_matching'\u001b[0m, \u001b[32m'name_matching'\u001b[0m, \u001b[32m'match_code'\u001b[0m, \u001b[32m'match'\u001b[0m,\n",
       "       \u001b[32m'best_result'\u001b[0m, \u001b[32m'bool_pa'\u001b[0m, \u001b[32m'config_params'\u001b[0m, \u001b[32m'region'\u001b[0m, \u001b[32m'matching_run_id'\u001b[0m,\n",
       "       \u001b[32m'provider_id'\u001b[0m, \u001b[32m'country'\u001b[0m, \u001b[32m'sample_round'\u001b[0m\u001b[1m]\u001b[0m,\n",
       "      \u001b[33mdtype\u001b[0m=\u001b[32m'object'\u001b[0m\u001b[1m)\u001b[0m"
      ]
     },
     "execution_count": 193,
     "metadata": {},
     "output_type": "execute_result"
    }
   ],
   "source": [
    "matching_logs.columns"
   ]
  },
  {
   "cell_type": "code",
   "execution_count": 194,
   "id": "9132d874-ca03-49de-97bd-08c1084e2880",
   "metadata": {},
   "outputs": [],
   "source": [
    "matching_names = matching_logs.copy()"
   ]
  },
  {
   "cell_type": "code",
   "execution_count": null,
   "id": "ce105c23-73d1-4c70-a76f-e6b73ebed775",
   "metadata": {},
   "outputs": [],
   "source": []
  },
  {
   "cell_type": "code",
   "execution_count": 195,
   "id": "f9a9fe3e-7780-48e3-8219-280b4c5b63c8",
   "metadata": {},
   "outputs": [],
   "source": [
    "matching_names['name'] = matching_names['name'].apply(lambda x: normalize_characters(x))\n",
    "matching_names['api_poiName'] = matching_names['api_poiName'].apply(lambda x: normalize_characters(x))"
   ]
  },
  {
   "cell_type": "code",
   "execution_count": 196,
   "id": "c32291c5-3b49-4d18-82ab-9ca537891580",
   "metadata": {},
   "outputs": [],
   "source": [
    "matching_names = matching_names[(~matching_names['name_matching'].isnull()) & (matching_names['api_poiName']!= 'null') & (matching_names['match_code'] != 5)]"
   ]
  },
  {
   "cell_type": "code",
   "execution_count": 197,
   "id": "0f7ba75a-d33a-4340-8963-d749eee328fc",
   "metadata": {},
   "outputs": [
    {
     "data": {
      "text/html": [
       "<pre style=\"white-space:pre;overflow-x:auto;line-height:normal;font-family:Menlo,'DejaVu Sans Mono',consolas,'Courier New',monospace\"></pre>\n"
      ],
      "text/plain": []
     },
     "metadata": {},
     "output_type": "display_data"
    },
    {
     "data": {
      "text/html": [
       "<div>\n",
       "<style scoped>\n",
       "    .dataframe tbody tr th:only-of-type {\n",
       "        vertical-align: middle;\n",
       "    }\n",
       "\n",
       "    .dataframe tbody tr th {\n",
       "        vertical-align: top;\n",
       "    }\n",
       "\n",
       "    .dataframe thead th {\n",
       "        text-align: right;\n",
       "    }\n",
       "</style>\n",
       "<table border=\"1\" class=\"dataframe\">\n",
       "  <thead>\n",
       "    <tr style=\"text-align: right;\">\n",
       "      <th></th>\n",
       "      <th>release_version</th>\n",
       "      <th>enduser_category</th>\n",
       "      <th>category_id_tt</th>\n",
       "      <th>category_name</th>\n",
       "      <th>reference_translated_cat_id</th>\n",
       "      <th>reference_id</th>\n",
       "      <th>api_poi_id</th>\n",
       "      <th>providers_translated_cat_id</th>\n",
       "      <th>ref_lat</th>\n",
       "      <th>ref_lon</th>\n",
       "      <th>...</th>\n",
       "      <th>match_code</th>\n",
       "      <th>match</th>\n",
       "      <th>best_result</th>\n",
       "      <th>bool_pa</th>\n",
       "      <th>config_params</th>\n",
       "      <th>region</th>\n",
       "      <th>matching_run_id</th>\n",
       "      <th>provider_id</th>\n",
       "      <th>country</th>\n",
       "      <th>sample_round</th>\n",
       "    </tr>\n",
       "  </thead>\n",
       "  <tbody>\n",
       "    <tr>\n",
       "      <th>2</th>\n",
       "      <td>23320.000 OV</td>\n",
       "      <td>Automotive</td>\n",
       "      <td>9910</td>\n",
       "      <td>Automotive Dealer</td>\n",
       "      <td>9910</td>\n",
       "      <td>ChIJ3W8E5CrBz4URipUCDSXmFhA</td>\n",
       "      <td>3.393684e+10</td>\n",
       "      <td>7310.0</td>\n",
       "      <td>19.054592</td>\n",
       "      <td>-98.219340</td>\n",
       "      <td>...</td>\n",
       "      <td>2</td>\n",
       "      <td>False</td>\n",
       "      <td>True</td>\n",
       "      <td>NaN</td>\n",
       "      <td>NaN</td>\n",
       "      <td>NaN</td>\n",
       "      <td>20230814-06094864</td>\n",
       "      <td>om</td>\n",
       "      <td>MEX</td>\n",
       "      <td>cc</td>\n",
       "    </tr>\n",
       "    <tr>\n",
       "      <th>3</th>\n",
       "      <td>23320.000 OV</td>\n",
       "      <td>Eat &amp; Drink</td>\n",
       "      <td>9376</td>\n",
       "      <td>Café/Pub</td>\n",
       "      <td>9376</td>\n",
       "      <td>ChIJ54VcVHuK2YURvKEcmE-C290</td>\n",
       "      <td>3.398599e+10</td>\n",
       "      <td>7315.0</td>\n",
       "      <td>20.945530</td>\n",
       "      <td>-97.389084</td>\n",
       "      <td>...</td>\n",
       "      <td>1</td>\n",
       "      <td>True</td>\n",
       "      <td>True</td>\n",
       "      <td>True</td>\n",
       "      <td>NaN</td>\n",
       "      <td>NaN</td>\n",
       "      <td>20230814-06094864</td>\n",
       "      <td>om</td>\n",
       "      <td>MEX</td>\n",
       "      <td>cc</td>\n",
       "    </tr>\n",
       "    <tr>\n",
       "      <th>5</th>\n",
       "      <td>23320.000 OV</td>\n",
       "      <td>Things to see &amp; do</td>\n",
       "      <td>9357</td>\n",
       "      <td>Beach</td>\n",
       "      <td>9357</td>\n",
       "      <td>ChIJH7DqZYr414URTUf3jjOCJXw</td>\n",
       "      <td>1.021585e+10</td>\n",
       "      <td>9357.0</td>\n",
       "      <td>22.290174</td>\n",
       "      <td>-97.803566</td>\n",
       "      <td>...</td>\n",
       "      <td>1</td>\n",
       "      <td>True</td>\n",
       "      <td>True</td>\n",
       "      <td>False</td>\n",
       "      <td>NaN</td>\n",
       "      <td>NaN</td>\n",
       "      <td>20230814-06094864</td>\n",
       "      <td>om</td>\n",
       "      <td>MEX</td>\n",
       "      <td>cc</td>\n",
       "    </tr>\n",
       "    <tr>\n",
       "      <th>11</th>\n",
       "      <td>23320.000 OV</td>\n",
       "      <td>Eat &amp; Drink</td>\n",
       "      <td>9376</td>\n",
       "      <td>Café/Pub</td>\n",
       "      <td>9376</td>\n",
       "      <td>ChIJVxwysZvELIQRpNPc9kU8Z_0</td>\n",
       "      <td>3.400459e+10</td>\n",
       "      <td>7315.0</td>\n",
       "      <td>20.213703</td>\n",
       "      <td>-100.882120</td>\n",
       "      <td>...</td>\n",
       "      <td>2</td>\n",
       "      <td>False</td>\n",
       "      <td>True</td>\n",
       "      <td>NaN</td>\n",
       "      <td>NaN</td>\n",
       "      <td>NaN</td>\n",
       "      <td>20230814-06094864</td>\n",
       "      <td>om</td>\n",
       "      <td>MEX</td>\n",
       "      <td>cc</td>\n",
       "    </tr>\n",
       "    <tr>\n",
       "      <th>12</th>\n",
       "      <td>23320.000 OV</td>\n",
       "      <td>Automotive</td>\n",
       "      <td>9910</td>\n",
       "      <td>Automotive Dealer</td>\n",
       "      <td>9910</td>\n",
       "      <td>ChIJX7BDM4DAK4QRkX7UT6vS8lw</td>\n",
       "      <td>3.395777e+10</td>\n",
       "      <td>9910.0</td>\n",
       "      <td>21.117882</td>\n",
       "      <td>-101.707825</td>\n",
       "      <td>...</td>\n",
       "      <td>1</td>\n",
       "      <td>True</td>\n",
       "      <td>True</td>\n",
       "      <td>True</td>\n",
       "      <td>NaN</td>\n",
       "      <td>NaN</td>\n",
       "      <td>20230814-06094864</td>\n",
       "      <td>om</td>\n",
       "      <td>MEX</td>\n",
       "      <td>cc</td>\n",
       "    </tr>\n",
       "    <tr>\n",
       "      <th>...</th>\n",
       "      <td>...</td>\n",
       "      <td>...</td>\n",
       "      <td>...</td>\n",
       "      <td>...</td>\n",
       "      <td>...</td>\n",
       "      <td>...</td>\n",
       "      <td>...</td>\n",
       "      <td>...</td>\n",
       "      <td>...</td>\n",
       "      <td>...</td>\n",
       "      <td>...</td>\n",
       "      <td>...</td>\n",
       "      <td>...</td>\n",
       "      <td>...</td>\n",
       "      <td>...</td>\n",
       "      <td>...</td>\n",
       "      <td>...</td>\n",
       "      <td>...</td>\n",
       "      <td>...</td>\n",
       "      <td>...</td>\n",
       "      <td>...</td>\n",
       "    </tr>\n",
       "    <tr>\n",
       "      <th>19518</th>\n",
       "      <td>23320.000 OV</td>\n",
       "      <td>Things to see &amp; do</td>\n",
       "      <td>9362</td>\n",
       "      <td>Park and Recreation Area</td>\n",
       "      <td>9362</td>\n",
       "      <td>ChIJW-KdHvNGIYQRMqixIdx1U60</td>\n",
       "      <td>1.053229e+10</td>\n",
       "      <td>9362.0</td>\n",
       "      <td>20.714619</td>\n",
       "      <td>-105.274820</td>\n",
       "      <td>...</td>\n",
       "      <td>1</td>\n",
       "      <td>True</td>\n",
       "      <td>True</td>\n",
       "      <td>True</td>\n",
       "      <td>NaN</td>\n",
       "      <td>NaN</td>\n",
       "      <td>20230814-06094864</td>\n",
       "      <td>om</td>\n",
       "      <td>MEX</td>\n",
       "      <td>cc</td>\n",
       "    </tr>\n",
       "    <tr>\n",
       "      <th>19523</th>\n",
       "      <td>23320.000 OV</td>\n",
       "      <td>Amenities</td>\n",
       "      <td>7328</td>\n",
       "      <td>Bank</td>\n",
       "      <td>7328</td>\n",
       "      <td>ChIJ2aMAqttpNg0RVxngOC1-VWo</td>\n",
       "      <td>3.392415e+10</td>\n",
       "      <td>7328.0</td>\n",
       "      <td>43.358700</td>\n",
       "      <td>-5.506369</td>\n",
       "      <td>...</td>\n",
       "      <td>1</td>\n",
       "      <td>True</td>\n",
       "      <td>True</td>\n",
       "      <td>True</td>\n",
       "      <td>NaN</td>\n",
       "      <td>NaN</td>\n",
       "      <td>20230814-06094864</td>\n",
       "      <td>om</td>\n",
       "      <td>ESP</td>\n",
       "      <td>cc</td>\n",
       "    </tr>\n",
       "    <tr>\n",
       "      <th>19526</th>\n",
       "      <td>23320.000 OV</td>\n",
       "      <td>Lodging</td>\n",
       "      <td>7360</td>\n",
       "      <td>Camping Ground</td>\n",
       "      <td>7360</td>\n",
       "      <td>ChIJNwJYS9N9MQ0RR5FIbDmEiYs</td>\n",
       "      <td>3.398923e+10</td>\n",
       "      <td>7360.0</td>\n",
       "      <td>43.545910</td>\n",
       "      <td>-6.995946</td>\n",
       "      <td>...</td>\n",
       "      <td>1</td>\n",
       "      <td>True</td>\n",
       "      <td>True</td>\n",
       "      <td>True</td>\n",
       "      <td>NaN</td>\n",
       "      <td>NaN</td>\n",
       "      <td>20230814-06094864</td>\n",
       "      <td>om</td>\n",
       "      <td>ESP</td>\n",
       "      <td>cc</td>\n",
       "    </tr>\n",
       "    <tr>\n",
       "      <th>19532</th>\n",
       "      <td>23320.000 OV</td>\n",
       "      <td>Things to see &amp; do</td>\n",
       "      <td>9357</td>\n",
       "      <td>Beach</td>\n",
       "      <td>9357</td>\n",
       "      <td>ChIJgyIbeDyruxIRKTnr1nkabJ0</td>\n",
       "      <td>7.324229e+09</td>\n",
       "      <td>8099.0</td>\n",
       "      <td>41.861630</td>\n",
       "      <td>3.150960</td>\n",
       "      <td>...</td>\n",
       "      <td>1</td>\n",
       "      <td>True</td>\n",
       "      <td>True</td>\n",
       "      <td>False</td>\n",
       "      <td>NaN</td>\n",
       "      <td>NaN</td>\n",
       "      <td>20230814-06094864</td>\n",
       "      <td>om</td>\n",
       "      <td>ESP</td>\n",
       "      <td>cc</td>\n",
       "    </tr>\n",
       "    <tr>\n",
       "      <th>19535</th>\n",
       "      <td>23320.000 OV</td>\n",
       "      <td>Things to see &amp; do</td>\n",
       "      <td>9357</td>\n",
       "      <td>Beach</td>\n",
       "      <td>9357</td>\n",
       "      <td>ChIJp9UOGTEXuxIRLZBjWWEQorA</td>\n",
       "      <td>3.395966e+10</td>\n",
       "      <td>7376.0</td>\n",
       "      <td>41.699074</td>\n",
       "      <td>2.850678</td>\n",
       "      <td>...</td>\n",
       "      <td>1</td>\n",
       "      <td>True</td>\n",
       "      <td>True</td>\n",
       "      <td>True</td>\n",
       "      <td>NaN</td>\n",
       "      <td>NaN</td>\n",
       "      <td>20230814-06094864</td>\n",
       "      <td>om</td>\n",
       "      <td>ESP</td>\n",
       "      <td>cc</td>\n",
       "    </tr>\n",
       "  </tbody>\n",
       "</table>\n",
       "<p>10313 rows × 32 columns</p>\n",
       "</div>"
      ],
      "text/plain": [
       "\n",
       "      release_version    enduser_category  category_id_tt  \\\n",
       "\u001b[1;36m2\u001b[0m        \u001b[1;36m23320.000\u001b[0m OV          Automotive            \u001b[1;36m9910\u001b[0m   \n",
       "\u001b[1;36m3\u001b[0m        \u001b[1;36m23320.000\u001b[0m OV         Eat & Drink            \u001b[1;36m9376\u001b[0m   \n",
       "\u001b[1;36m5\u001b[0m        \u001b[1;36m23320.000\u001b[0m OV  Things to see & do            \u001b[1;36m9357\u001b[0m   \n",
       "\u001b[1;36m11\u001b[0m       \u001b[1;36m23320.000\u001b[0m OV         Eat & Drink            \u001b[1;36m9376\u001b[0m   \n",
       "\u001b[1;36m12\u001b[0m       \u001b[1;36m23320.000\u001b[0m OV          Automotive            \u001b[1;36m9910\u001b[0m   \n",
       "\u001b[33m...\u001b[0m               \u001b[33m...\u001b[0m                 \u001b[33m...\u001b[0m             \u001b[33m...\u001b[0m   \n",
       "\u001b[1;36m19518\u001b[0m    \u001b[1;36m23320.000\u001b[0m OV  Things to see & do            \u001b[1;36m9362\u001b[0m   \n",
       "\u001b[1;36m19523\u001b[0m    \u001b[1;36m23320.000\u001b[0m OV           Amenities            \u001b[1;36m7328\u001b[0m   \n",
       "\u001b[1;36m19526\u001b[0m    \u001b[1;36m23320.000\u001b[0m OV             Lodging            \u001b[1;36m7360\u001b[0m   \n",
       "\u001b[1;36m19532\u001b[0m    \u001b[1;36m23320.000\u001b[0m OV  Things to see & do            \u001b[1;36m9357\u001b[0m   \n",
       "\u001b[1;36m19535\u001b[0m    \u001b[1;36m23320.000\u001b[0m OV  Things to see & do            \u001b[1;36m9357\u001b[0m   \n",
       "\n",
       "                  category_name  reference_translated_cat_id  \\\n",
       "\u001b[1;36m2\u001b[0m             Automotive Dealer                         \u001b[1;36m9910\u001b[0m   \n",
       "\u001b[1;36m3\u001b[0m                      Café/Pub                         \u001b[1;36m9376\u001b[0m   \n",
       "\u001b[1;36m5\u001b[0m                         Beach                         \u001b[1;36m9357\u001b[0m   \n",
       "\u001b[1;36m11\u001b[0m                     Café/Pub                         \u001b[1;36m9376\u001b[0m   \n",
       "\u001b[1;36m12\u001b[0m            Automotive Dealer                         \u001b[1;36m9910\u001b[0m   \n",
       "\u001b[33m...\u001b[0m                         \u001b[33m...\u001b[0m                          \u001b[33m...\u001b[0m   \n",
       "\u001b[1;36m19518\u001b[0m  Park and Recreation Area                         \u001b[1;36m9362\u001b[0m   \n",
       "\u001b[1;36m19523\u001b[0m                      Bank                         \u001b[1;36m7328\u001b[0m   \n",
       "\u001b[1;36m19526\u001b[0m            Camping Ground                         \u001b[1;36m7360\u001b[0m   \n",
       "\u001b[1;36m19532\u001b[0m                     Beach                         \u001b[1;36m9357\u001b[0m   \n",
       "\u001b[1;36m19535\u001b[0m                     Beach                         \u001b[1;36m9357\u001b[0m   \n",
       "\n",
       "                      reference_id    api_poi_id  providers_translated_cat_id  \\\n",
       "\u001b[1;36m2\u001b[0m      ChIJ3W8E5CrBz4URipUCDSXmFhA  \u001b[1;36m3.393684e+10\u001b[0m                       \u001b[1;36m7310.0\u001b[0m   \n",
       "\u001b[1;36m3\u001b[0m      ChIJ54VcVHuK2YURvKEcmE-C290  \u001b[1;36m3.398599e+10\u001b[0m                       \u001b[1;36m7315.0\u001b[0m   \n",
       "\u001b[1;36m5\u001b[0m      ChIJH7DqZYr414URTUf3jjOCJXw  \u001b[1;36m1.021585e+10\u001b[0m                       \u001b[1;36m9357.0\u001b[0m   \n",
       "\u001b[1;36m11\u001b[0m     ChIJVxwysZvELIQRpNPc9kU8Z_0  \u001b[1;36m3.400459e+10\u001b[0m                       \u001b[1;36m7315.0\u001b[0m   \n",
       "\u001b[1;36m12\u001b[0m     ChIJX7BDM4DAK4QRkX7UT6vS8lw  \u001b[1;36m3.395777e+10\u001b[0m                       \u001b[1;36m9910.0\u001b[0m   \n",
       "\u001b[33m...\u001b[0m                            \u001b[33m...\u001b[0m           \u001b[33m...\u001b[0m                          \u001b[33m...\u001b[0m   \n",
       "\u001b[1;36m19518\u001b[0m  ChIJW-KdHvNGIYQRMqixIdx1U60  \u001b[1;36m1.053229e+10\u001b[0m                       \u001b[1;36m9362.0\u001b[0m   \n",
       "\u001b[1;36m19523\u001b[0m  ChIJ2aMAqttpNg0RVxngOC1-VWo  \u001b[1;36m3.392415e+10\u001b[0m                       \u001b[1;36m7328.0\u001b[0m   \n",
       "\u001b[1;36m19526\u001b[0m  ChIJNwJYS9N9MQ0RR5FIbDmEiYs  \u001b[1;36m3.398923e+10\u001b[0m                       \u001b[1;36m7360.0\u001b[0m   \n",
       "\u001b[1;36m19532\u001b[0m  ChIJgyIbeDyruxIRKTnr1nkabJ0  \u001b[1;36m7.324229e+09\u001b[0m                       \u001b[1;36m8099.0\u001b[0m   \n",
       "\u001b[1;36m19535\u001b[0m  ChIJp9UOGTEXuxIRLZBjWWEQorA  \u001b[1;36m3.395966e+10\u001b[0m                       \u001b[1;36m7376.0\u001b[0m   \n",
       "\n",
       "         ref_lat     ref_lon  \u001b[33m...\u001b[0m  match_code  match  best_result bool_pa  \\\n",
       "\u001b[1;36m2\u001b[0m      \u001b[1;36m19.054592\u001b[0m  \u001b[1;36m-98.219340\u001b[0m  \u001b[33m...\u001b[0m           \u001b[1;36m2\u001b[0m  \u001b[3;91mFalse\u001b[0m         \u001b[3;92mTrue\u001b[0m     NaN   \n",
       "\u001b[1;36m3\u001b[0m      \u001b[1;36m20.945530\u001b[0m  \u001b[1;36m-97.389084\u001b[0m  \u001b[33m...\u001b[0m           \u001b[1;36m1\u001b[0m   \u001b[3;92mTrue\u001b[0m         \u001b[3;92mTrue\u001b[0m    \u001b[3;92mTrue\u001b[0m   \n",
       "\u001b[1;36m5\u001b[0m      \u001b[1;36m22.290174\u001b[0m  \u001b[1;36m-97.803566\u001b[0m  \u001b[33m...\u001b[0m           \u001b[1;36m1\u001b[0m   \u001b[3;92mTrue\u001b[0m         \u001b[3;92mTrue\u001b[0m   \u001b[3;91mFalse\u001b[0m   \n",
       "\u001b[1;36m11\u001b[0m     \u001b[1;36m20.213703\u001b[0m \u001b[1;36m-100.882120\u001b[0m  \u001b[33m...\u001b[0m           \u001b[1;36m2\u001b[0m  \u001b[3;91mFalse\u001b[0m         \u001b[3;92mTrue\u001b[0m     NaN   \n",
       "\u001b[1;36m12\u001b[0m     \u001b[1;36m21.117882\u001b[0m \u001b[1;36m-101.707825\u001b[0m  \u001b[33m...\u001b[0m           \u001b[1;36m1\u001b[0m   \u001b[3;92mTrue\u001b[0m         \u001b[3;92mTrue\u001b[0m    \u001b[3;92mTrue\u001b[0m   \n",
       "\u001b[33m...\u001b[0m          \u001b[33m...\u001b[0m         \u001b[33m...\u001b[0m  \u001b[33m...\u001b[0m         \u001b[33m...\u001b[0m    \u001b[33m...\u001b[0m          \u001b[33m...\u001b[0m     \u001b[33m...\u001b[0m   \n",
       "\u001b[1;36m19518\u001b[0m  \u001b[1;36m20.714619\u001b[0m \u001b[1;36m-105.274820\u001b[0m  \u001b[33m...\u001b[0m           \u001b[1;36m1\u001b[0m   \u001b[3;92mTrue\u001b[0m         \u001b[3;92mTrue\u001b[0m    \u001b[3;92mTrue\u001b[0m   \n",
       "\u001b[1;36m19523\u001b[0m  \u001b[1;36m43.358700\u001b[0m   \u001b[1;36m-5.506369\u001b[0m  \u001b[33m...\u001b[0m           \u001b[1;36m1\u001b[0m   \u001b[3;92mTrue\u001b[0m         \u001b[3;92mTrue\u001b[0m    \u001b[3;92mTrue\u001b[0m   \n",
       "\u001b[1;36m19526\u001b[0m  \u001b[1;36m43.545910\u001b[0m   \u001b[1;36m-6.995946\u001b[0m  \u001b[33m...\u001b[0m           \u001b[1;36m1\u001b[0m   \u001b[3;92mTrue\u001b[0m         \u001b[3;92mTrue\u001b[0m    \u001b[3;92mTrue\u001b[0m   \n",
       "\u001b[1;36m19532\u001b[0m  \u001b[1;36m41.861630\u001b[0m    \u001b[1;36m3.150960\u001b[0m  \u001b[33m...\u001b[0m           \u001b[1;36m1\u001b[0m   \u001b[3;92mTrue\u001b[0m         \u001b[3;92mTrue\u001b[0m   \u001b[3;91mFalse\u001b[0m   \n",
       "\u001b[1;36m19535\u001b[0m  \u001b[1;36m41.699074\u001b[0m    \u001b[1;36m2.850678\u001b[0m  \u001b[33m...\u001b[0m           \u001b[1;36m1\u001b[0m   \u001b[3;92mTrue\u001b[0m         \u001b[3;92mTrue\u001b[0m    \u001b[3;92mTrue\u001b[0m   \n",
       "\n",
       "      config_params region    matching_run_id provider_id country sample_round  \n",
       "\u001b[1;36m2\u001b[0m               NaN    NaN  \u001b[1;36m20230814\u001b[0m-\u001b[1;36m06094864\u001b[0m          om     MEX           cc  \n",
       "\u001b[1;36m3\u001b[0m               NaN    NaN  \u001b[1;36m20230814\u001b[0m-\u001b[1;36m06094864\u001b[0m          om     MEX           cc  \n",
       "\u001b[1;36m5\u001b[0m               NaN    NaN  \u001b[1;36m20230814\u001b[0m-\u001b[1;36m06094864\u001b[0m          om     MEX           cc  \n",
       "\u001b[1;36m11\u001b[0m              NaN    NaN  \u001b[1;36m20230814\u001b[0m-\u001b[1;36m06094864\u001b[0m          om     MEX           cc  \n",
       "\u001b[1;36m12\u001b[0m              NaN    NaN  \u001b[1;36m20230814\u001b[0m-\u001b[1;36m06094864\u001b[0m          om     MEX           cc  \n",
       "\u001b[33m...\u001b[0m             \u001b[33m...\u001b[0m    \u001b[33m...\u001b[0m                \u001b[33m...\u001b[0m         \u001b[33m...\u001b[0m     \u001b[33m...\u001b[0m          \u001b[33m...\u001b[0m  \n",
       "\u001b[1;36m19518\u001b[0m           NaN    NaN  \u001b[1;36m20230814\u001b[0m-\u001b[1;36m06094864\u001b[0m          om     MEX           cc  \n",
       "\u001b[1;36m19523\u001b[0m           NaN    NaN  \u001b[1;36m20230814\u001b[0m-\u001b[1;36m06094864\u001b[0m          om     ESP           cc  \n",
       "\u001b[1;36m19526\u001b[0m           NaN    NaN  \u001b[1;36m20230814\u001b[0m-\u001b[1;36m06094864\u001b[0m          om     ESP           cc  \n",
       "\u001b[1;36m19532\u001b[0m           NaN    NaN  \u001b[1;36m20230814\u001b[0m-\u001b[1;36m06094864\u001b[0m          om     ESP           cc  \n",
       "\u001b[1;36m19535\u001b[0m           NaN    NaN  \u001b[1;36m20230814\u001b[0m-\u001b[1;36m06094864\u001b[0m          om     ESP           cc  \n",
       "\n",
       "\u001b[1m[\u001b[0m\u001b[1;36m10313\u001b[0m rows x \u001b[1;36m32\u001b[0m columns\u001b[1m]\u001b[0m"
      ]
     },
     "execution_count": 197,
     "metadata": {},
     "output_type": "execute_result"
    }
   ],
   "source": [
    "matching_names"
   ]
  },
  {
   "cell_type": "code",
   "execution_count": 285,
   "id": "315b5cf4-4ed7-4cb7-a131-9d2e0a4d96a7",
   "metadata": {},
   "outputs": [],
   "source": [
    "matching_test_names = matching_names[['name_ref_nrm', 'name_prov_nrm']].values"
   ]
  },
  {
   "cell_type": "code",
   "execution_count": 286,
   "id": "bf1e608c-b0a4-401a-aeff-fcdaf1cbbeed",
   "metadata": {},
   "outputs": [],
   "source": [
    "matching_test_names_encoded_left = encode_sparsed_list(matching_test_names[:, 0],char_to_index_dict=char_to_index, max_len=MAX_NAME_LEN)\n",
    "matching_test_names_encoded_right = encode_sparsed_list(matching_test_names[:, 1],char_to_index_dict=char_to_index, max_len=MAX_NAME_LEN)"
   ]
  },
  {
   "cell_type": "code",
   "execution_count": 287,
   "id": "c1b23e22-8d62-488e-bfe2-d453c3d507dd",
   "metadata": {},
   "outputs": [
    {
     "name": "stdout",
     "output_type": "stream",
     "text": [
      "323/323 [==============================] - 7s 21ms/step\n"
     ]
    }
   ],
   "source": [
    "matching_test_names_prediction = poi_c2v.model.predict((matching_test_names_encoded_left, matching_test_names_encoded_right))"
   ]
  },
  {
   "cell_type": "code",
   "execution_count": 288,
   "id": "e38c67dd-7b58-416a-8fa2-06dd7c904a1b",
   "metadata": {},
   "outputs": [],
   "source": [
    "matching_names['cnn_name_match_score'] = matching_test_names_prediction"
   ]
  },
  {
   "cell_type": "code",
   "execution_count": 289,
   "id": "60c6ef26-4671-461f-89bb-9f8caed27ec3",
   "metadata": {},
   "outputs": [],
   "source": [
    "matching_names['edit_distance_match'] = matching_names['name_matching']>=0.75\n",
    "matching_names['cnn_match'] = matching_names['cnn_name_match_score']>=0.5"
   ]
  },
  {
   "cell_type": "code",
   "execution_count": 290,
   "id": "91ccd301-36c0-41dd-b0d4-4c07cb32d06f",
   "metadata": {},
   "outputs": [
    {
     "data": {
      "text/html": [
       "<pre style=\"white-space:pre;overflow-x:auto;line-height:normal;font-family:Menlo,'DejaVu Sans Mono',consolas,'Courier New',monospace\"></pre>\n"
      ],
      "text/plain": []
     },
     "metadata": {},
     "output_type": "display_data"
    },
    {
     "data": {
      "text/html": [
       "<div>\n",
       "<style scoped>\n",
       "    .dataframe tbody tr th:only-of-type {\n",
       "        vertical-align: middle;\n",
       "    }\n",
       "\n",
       "    .dataframe tbody tr th {\n",
       "        vertical-align: top;\n",
       "    }\n",
       "\n",
       "    .dataframe thead th {\n",
       "        text-align: right;\n",
       "    }\n",
       "</style>\n",
       "<table border=\"1\" class=\"dataframe\">\n",
       "  <thead>\n",
       "    <tr style=\"text-align: right;\">\n",
       "      <th>cnn_match</th>\n",
       "      <th>False</th>\n",
       "      <th>True</th>\n",
       "    </tr>\n",
       "    <tr>\n",
       "      <th>edit_distance_match</th>\n",
       "      <th></th>\n",
       "      <th></th>\n",
       "    </tr>\n",
       "  </thead>\n",
       "  <tbody>\n",
       "    <tr>\n",
       "      <th>False</th>\n",
       "      <td>194</td>\n",
       "      <td>14</td>\n",
       "    </tr>\n",
       "    <tr>\n",
       "      <th>True</th>\n",
       "      <td>28</td>\n",
       "      <td>10077</td>\n",
       "    </tr>\n",
       "  </tbody>\n",
       "</table>\n",
       "</div>"
      ],
      "text/plain": [
       "\n",
       "cnn_match            \u001b[3;91mFalse\u001b[0m  \u001b[3;92mTrue\u001b[0m \n",
       "edit_distance_match              \n",
       "\u001b[3;91mFalse\u001b[0m                  \u001b[1;36m194\u001b[0m     \u001b[1;36m14\u001b[0m\n",
       "\u001b[3;92mTrue\u001b[0m                    \u001b[1;36m28\u001b[0m  \u001b[1;36m10077\u001b[0m"
      ]
     },
     "execution_count": 290,
     "metadata": {},
     "output_type": "execute_result"
    }
   ],
   "source": [
    "pd.crosstab(matching_names['edit_distance_match'], matching_names['cnn_match'])"
   ]
  },
  {
   "cell_type": "code",
   "execution_count": 291,
   "id": "0a6b02f2-1659-4c07-8d11-b0a9e2fd69e4",
   "metadata": {},
   "outputs": [],
   "source": [
    "matching_names[['category_name', 'name', 'api_poiName','api_poiBrand', 'name_ref_nrm', 'name_prov_nrm', 'location_distance_m', 'match','match_code', 'cnn_match', 'edit_distance_match', 'name_matching', 'cnn_name_match_score']].to_csv('name_matching_comparison_cnn_vs_edit.csv', index=False)"
   ]
  },
  {
   "cell_type": "code",
   "execution_count": 292,
   "id": "73cc7078-8da4-4658-9cc7-adf6e6bbf2b2",
   "metadata": {},
   "outputs": [
    {
     "data": {
      "text/html": [
       "<pre style=\"white-space:pre;overflow-x:auto;line-height:normal;font-family:Menlo,'DejaVu Sans Mono',consolas,'Courier New',monospace\"></pre>\n"
      ],
      "text/plain": []
     },
     "metadata": {},
     "output_type": "display_data"
    },
    {
     "data": {
      "text/plain": [
       "\n",
       "\u001b[1m(\u001b[0m\n",
       "    \u001b[1;35marray\u001b[0m\u001b[1m(\u001b[0m\u001b[1m[\u001b[0m\u001b[1;36m1.800e+02\u001b[0m, \u001b[1;36m1.400e+01\u001b[0m, \u001b[1;36m1.300e+01\u001b[0m, \u001b[1;36m6.000e+00\u001b[0m, \u001b[1;36m9.000e+00\u001b[0m, \u001b[1;36m1.200e+01\u001b[0m,\n",
       "       \u001b[1;36m2.200e+01\u001b[0m, \u001b[1;36m3.200e+01\u001b[0m, \u001b[1;36m4.700e+01\u001b[0m, \u001b[1;36m9.978e+03\u001b[0m\u001b[1m]\u001b[0m\u001b[1m)\u001b[0m,\n",
       "    \u001b[1;35marray\u001b[0m\u001b[1m(\u001b[0m\u001b[1m[\u001b[0m\u001b[1;36m1.30743347e-05\u001b[0m, \u001b[1;36m1.00011766e-01\u001b[0m, \u001b[1;36m2.00010464e-01\u001b[0m, \u001b[1;36m3.00009161e-01\u001b[0m,\n",
       "       \u001b[1;36m4.00007844e-01\u001b[0m, \u001b[1;36m5.00006557e-01\u001b[0m, \u001b[1;36m6.00005209e-01\u001b[0m, \u001b[1;36m7.00003922e-01\u001b[0m,\n",
       "       \u001b[1;36m8.00002635e-01\u001b[0m, \u001b[1;36m9.00001287e-01\u001b[0m, \u001b[1;36m1.00000000e+00\u001b[0m\u001b[1m]\u001b[0m\u001b[1m)\u001b[0m,\n",
       "    \u001b[1m<\u001b[0m\u001b[1;95mBarContainer\u001b[0m\u001b[39m object of \u001b[0m\u001b[1;36m10\u001b[0m\u001b[39m artists\u001b[0m\u001b[1m>\u001b[0m\n",
       "\u001b[1m)\u001b[0m"
      ]
     },
     "execution_count": 292,
     "metadata": {},
     "output_type": "execute_result"
    },
    {
     "data": {
      "text/html": [
       "<pre style=\"white-space:pre;overflow-x:auto;line-height:normal;font-family:Menlo,'DejaVu Sans Mono',consolas,'Courier New',monospace\"></pre>\n"
      ],
      "text/plain": []
     },
     "metadata": {},
     "output_type": "display_data"
    },
    {
     "data": {
      "image/png": "[encoded data removed]",
      "text/plain": [
       "\u001b[1m<\u001b[0m\u001b[1;95mFigure\u001b[0m\u001b[39m size 64\u001b[0m\u001b[1;36m0x480\u001b[0m\u001b[39m with \u001b[0m\u001b[1;36m1\u001b[0m\u001b[39m Axes\u001b[0m\u001b[1m>\u001b[0m"
      ]
     },
     "metadata": {},
     "output_type": "display_data"
    }
   ],
   "source": [
    "plt.hist(matching_test_names_prediction)"
   ]
  },
  {
   "cell_type": "markdown",
   "id": "aa176c71-8cf1-4766-86fe-8966dc5b3b5c",
   "metadata": {},
   "source": [
    "# Orbis data comparison"
   ]
  },
  {
   "cell_type": "code",
   "execution_count": 257,
   "id": "f9ccb211-53a6-455e-84da-51954eb6e296",
   "metadata": {},
   "outputs": [],
   "source": [
    "orbis_data = pd.read_csv('../../data/01_raw/tomtom/orbis/alt_names/FR/planet_osm_point_202308231233.csv')\n",
    "orbis_data['name'] = orbis_data['name'].apply(lambda x: normalize_characters(x))\n",
    "orbis_data['alt_name'] = orbis_data['alt_name'].apply(lambda x: normalize_characters(x))\n",
    "orbis_data['target'] = 1\n",
    "\n",
    "pos_name_pairs = orbis_data[['name', 'alt_name']].values\n",
    "neg_name_pairs = orbis_data[['name', 'alt_name']].values.copy()\n",
    "pos_target = orbis_data['target'].values\n",
    "neg_target = np.zeros(len(neg_name_pairs))\n",
    "\n",
    "np.random.shuffle(neg_name_pairs[:, 0])\n",
    "\n",
    "name_pairs_orbis = np.concatenate((neg_name_pairs, pos_name_pairs))\n",
    "target_orbis = np.concatenate((neg_target, pos_target))"
   ]
  },
  {
   "cell_type": "code",
   "execution_count": 261,
   "id": "7ba62dea-5a15-42d7-9134-c4fc8879b56e",
   "metadata": {},
   "outputs": [],
   "source": [
    "def generate_comparison_model_vs_edit(pairs, target, match_th, ):\n",
    "    X_encoded_1 = encode_sparsed_list(pairs[:, 0],char_to_index_dict=char_to_index, max_len=MAX_NAME_LEN)\n",
    "    X_encoded_2 = encode_sparsed_list(pairs[:, 1],char_to_index_dict=char_to_index, max_len=MAX_NAME_LEN)\n",
    "    \n",
    "    prediction = poi_c2v.model.predict((X_encoded_1, X_encoded_2))\n",
    "    prediction_edit = np.array([fuzz.token_set_ratio(name1, name2)/100 for name1, name2 in pairs])\n",
    "    \n",
    "    y_pred = prediction>=match_th\n",
    "    y_pred = y_pred.flatten()\n",
    "    y_pred_edit = prediction_edit>=.75\n",
    "    y_pred_edit = y_pred_edit.flatten()\n",
    "    target = target.astype(np.bool).flatten()\n",
    "\n",
    "    \n",
    "    print('confussion matrix model')\n",
    "    print(pd.crosstab(target, y_pred))\n",
    "    print('\\n confussion matrix edit')\n",
    "    print(pd.crosstab(target, y_pred_edit))\n",
    "    \n",
    "    print('/n/n Classification report model')\n",
    "    print(classification_report((target>=.5).flatten(), y_pred))\n",
    "    print('/n Classification report edit')\n",
    "    print(classification_report((target>=.5).flatten(), y_pred_edit))\n",
    "\n",
    "    df_prediction = pd.DataFrame(list(zip(pairs[:, 0], pairs[:, 1], prediction, prediction_edit, target, y_pred, y_pred_edit)))\n",
    "    df_prediction.columns = ['name_1', 'name_2', 'prediction_model', 'prediction_edit', 'target', 'match_model', 'match_edit']\n",
    "    return df_prediction"
   ]
  },
  {
   "cell_type": "code",
   "execution_count": 265,
   "id": "8b05c345-a143-411a-a047-426e7bf7c5d4",
   "metadata": {},
   "outputs": [
    {
     "name": "stdout",
     "output_type": "stream",
     "text": [
      "3125/3125 [==============================] - 67s 21ms/step\n"
     ]
    },
    {
     "data": {
      "text/html": [
       "<pre style=\"white-space:pre;overflow-x:auto;line-height:normal;font-family:Menlo,'DejaVu Sans Mono',consolas,'Courier New',monospace\"><span style=\"color: #7fbfbf; text-decoration-color: #7fbfbf\">[08/23/23 10:46:51] </span><span style=\"color: #800000; text-decoration-color: #800000\">WARNING </span> <span style=\"color: #800080; text-decoration-color: #800080\">/tmp/ipykernel_1915/</span><span style=\"color: #ff00ff; text-decoration-color: #ff00ff\">2792745085.py</span>:<span style=\"color: #008080; text-decoration-color: #008080; font-weight: bold\">12</span>: DeprecationWarning: `np.bool` is <a href=\"file:///usr/lib/python3.9/warnings.py\" target=\"_blank\"><span style=\"color: #7f7f7f; text-decoration-color: #7f7f7f\">warnings.py</span></a><span style=\"color: #7f7f7f; text-decoration-color: #7f7f7f\">:</span><a href=\"file:///usr/lib/python3.9/warnings.py#109\" target=\"_blank\"><span style=\"color: #7f7f7f; text-decoration-color: #7f7f7f\">109</span></a>\n",
       "<span style=\"color: #7fbfbf; text-decoration-color: #7fbfbf\">                    </span>         a deprecated alias for the builtin `bool`. To silence this warning,    <span style=\"color: #7f7f7f; text-decoration-color: #7f7f7f\">               </span>\n",
       "<span style=\"color: #7fbfbf; text-decoration-color: #7fbfbf\">                    </span>         use `bool` by itself. Doing this will not modify any behavior and is   <span style=\"color: #7f7f7f; text-decoration-color: #7f7f7f\">               </span>\n",
       "<span style=\"color: #7fbfbf; text-decoration-color: #7fbfbf\">                    </span>         safe. If you specifically wanted the numpy scalar type, use `np.bool_` <span style=\"color: #7f7f7f; text-decoration-color: #7f7f7f\">               </span>\n",
       "<span style=\"color: #7fbfbf; text-decoration-color: #7fbfbf\">                    </span>         here.                                                                  <span style=\"color: #7f7f7f; text-decoration-color: #7f7f7f\">               </span>\n",
       "<span style=\"color: #7fbfbf; text-decoration-color: #7fbfbf\">                    </span>         Deprecated in NumPy <span style=\"color: #008080; text-decoration-color: #008080; font-weight: bold\">1.20</span>; for more details and guidance:               <span style=\"color: #7f7f7f; text-decoration-color: #7f7f7f\">               </span>\n",
       "<span style=\"color: #7fbfbf; text-decoration-color: #7fbfbf\">                    </span>         <span style=\"color: #0000ff; text-decoration-color: #0000ff; text-decoration: underline\">https://numpy.org/devdocs/release/1.20.0-notes.html#deprecations</span>       <span style=\"color: #7f7f7f; text-decoration-color: #7f7f7f\">               </span>\n",
       "<span style=\"color: #7fbfbf; text-decoration-color: #7fbfbf\">                    </span>           target = <span style=\"color: #800080; text-decoration-color: #800080; font-weight: bold\">target.astype</span><span style=\"font-weight: bold\">(</span>np.bool<span style=\"font-weight: bold\">)</span><span style=\"color: #800080; text-decoration-color: #800080; font-weight: bold\">.flatten</span><span style=\"font-weight: bold\">()</span>                            <span style=\"color: #7f7f7f; text-decoration-color: #7f7f7f\">               </span>\n",
       "<span style=\"color: #7fbfbf; text-decoration-color: #7fbfbf\">                    </span>                                                                                <span style=\"color: #7f7f7f; text-decoration-color: #7f7f7f\">               </span>\n",
       "</pre>\n"
      ],
      "text/plain": [
       "\u001b[2;36m[08/23/23 10:46:51]\u001b[0m\u001b[2;36m \u001b[0m\u001b[31mWARNING \u001b[0m \u001b[35m/tmp/ipykernel_1915/\u001b[0m\u001b[95m2792745085.py\u001b[0m:\u001b[1;36m12\u001b[0m: DeprecationWarning: `np.bool` is \u001b]8;id=134011;file:///usr/lib/python3.9/warnings.py\u001b\\\u001b[2mwarnings.py\u001b[0m\u001b]8;;\u001b\\\u001b[2m:\u001b[0m\u001b]8;id=499949;file:///usr/lib/python3.9/warnings.py#109\u001b\\\u001b[2m109\u001b[0m\u001b]8;;\u001b\\\n",
       "\u001b[2;36m                    \u001b[0m         a deprecated alias for the builtin `bool`. To silence this warning,    \u001b[2m               \u001b[0m\n",
       "\u001b[2;36m                    \u001b[0m         use `bool` by itself. Doing this will not modify any behavior and is   \u001b[2m               \u001b[0m\n",
       "\u001b[2;36m                    \u001b[0m         safe. If you specifically wanted the numpy scalar type, use `np.bool_` \u001b[2m               \u001b[0m\n",
       "\u001b[2;36m                    \u001b[0m         here.                                                                  \u001b[2m               \u001b[0m\n",
       "\u001b[2;36m                    \u001b[0m         Deprecated in NumPy \u001b[1;36m1.20\u001b[0m; for more details and guidance:               \u001b[2m               \u001b[0m\n",
       "\u001b[2;36m                    \u001b[0m         \u001b[4;94mhttps://numpy.org/devdocs/release/1.20.0-notes.html#deprecations\u001b[0m       \u001b[2m               \u001b[0m\n",
       "\u001b[2;36m                    \u001b[0m           target = \u001b[1;35mtarget.astype\u001b[0m\u001b[1m(\u001b[0mnp.bool\u001b[1m)\u001b[0m\u001b[1;35m.flatten\u001b[0m\u001b[1m(\u001b[0m\u001b[1m)\u001b[0m                            \u001b[2m               \u001b[0m\n",
       "\u001b[2;36m                    \u001b[0m                                                                                \u001b[2m               \u001b[0m\n"
      ]
     },
     "metadata": {},
     "output_type": "display_data"
    },
    {
     "name": "stdout",
     "output_type": "stream",
     "text": [
      "confussion matrix model\n",
      "col_0  False  True \n",
      "row_0              \n",
      "False  49235    765\n",
      "True    3060  46940\n",
      "\n",
      " confussion matrix edit\n",
      "col_0  False  True \n",
      "row_0              \n",
      "False  49798    202\n",
      "True    5971  44029\n",
      "/n/n Classification report model\n",
      "              precision    recall  f1-score   support\n",
      "\n",
      "       False       0.94      0.98      0.96     50000\n",
      "        True       0.98      0.94      0.96     50000\n",
      "\n",
      "    accuracy                           0.96    100000\n",
      "   macro avg       0.96      0.96      0.96    100000\n",
      "weighted avg       0.96      0.96      0.96    100000\n",
      "\n",
      "/n Classification report edit\n",
      "              precision    recall  f1-score   support\n",
      "\n",
      "       False       0.89      1.00      0.94     50000\n",
      "        True       1.00      0.88      0.93     50000\n",
      "\n",
      "    accuracy                           0.94    100000\n",
      "   macro avg       0.94      0.94      0.94    100000\n",
      "weighted avg       0.94      0.94      0.94    100000\n",
      "\n"
     ]
    }
   ],
   "source": [
    "result = generate_comparison_model_vs_edit(name_pairs_orbis, target_orbis, 0.75)"
   ]
  },
  {
   "cell_type": "code",
   "execution_count": 266,
   "id": "f4b310bb-c610-4fa4-a18a-dced3c004660",
   "metadata": {},
   "outputs": [],
   "source": [
    "result.to_csv('orbis_prediction_FR.csv', index=False)"
   ]
  },
  {
   "cell_type": "markdown",
   "id": "def8576b-78d6-4861-b4dc-25097658deb4",
   "metadata": {},
   "source": [
    "# Dataset gold standard"
   ]
  },
  {
   "cell_type": "code",
   "execution_count": 233,
   "id": "70791960-451d-4257-8238-a3c8b9846843",
   "metadata": {},
   "outputs": [],
   "source": [
    "data_standard = pd.read_csv('../../data/02_intermediate/names/names.csv')"
   ]
  },
  {
   "cell_type": "code",
   "execution_count": 234,
   "id": "0cd364c2-a5f3-4f39-a206-b1f9950a02e5",
   "metadata": {},
   "outputs": [],
   "source": [
    "data_standard['name_1'] = data_standard['name_1'].apply(lambda x: normalize_characters(x))\n",
    "data_standard['name_2'] = data_standard['name_2'].apply(lambda x: normalize_characters(x))"
   ]
  },
  {
   "cell_type": "code",
   "execution_count": 235,
   "id": "f9a4253b-9fd2-4eb8-ad6f-4350edf72562",
   "metadata": {},
   "outputs": [],
   "source": [
    "data_standard_pairs = data_standard[['name_1', 'name_2']].values\n",
    "data_standard_target = data_standard['target'].values"
   ]
  },
  {
   "cell_type": "code",
   "execution_count": 236,
   "id": "0bd1a816-f828-483e-87de-24bc00a7cf75",
   "metadata": {},
   "outputs": [
    {
     "name": "stdout",
     "output_type": "stream",
     "text": [
      "255/255 [==============================] - 5s 20ms/step\n"
     ]
    },
    {
     "data": {
      "text/html": [
       "<pre style=\"white-space:pre;overflow-x:auto;line-height:normal;font-family:Menlo,'DejaVu Sans Mono',consolas,'Courier New',monospace\"><span style=\"color: #7fbfbf; text-decoration-color: #7fbfbf\">[08/23/23 10:27:21] </span><span style=\"color: #800000; text-decoration-color: #800000\">WARNING </span> <span style=\"color: #800080; text-decoration-color: #800080\">/tmp/ipykernel_1915/</span><span style=\"color: #ff00ff; text-decoration-color: #ff00ff\">886421279.py</span>:<span style=\"color: #008080; text-decoration-color: #008080; font-weight: bold\">12</span>: DeprecationWarning: `np.bool` is  <a href=\"file:///usr/lib/python3.9/warnings.py\" target=\"_blank\"><span style=\"color: #7f7f7f; text-decoration-color: #7f7f7f\">warnings.py</span></a><span style=\"color: #7f7f7f; text-decoration-color: #7f7f7f\">:</span><a href=\"file:///usr/lib/python3.9/warnings.py#109\" target=\"_blank\"><span style=\"color: #7f7f7f; text-decoration-color: #7f7f7f\">109</span></a>\n",
       "<span style=\"color: #7fbfbf; text-decoration-color: #7fbfbf\">                    </span>         a deprecated alias for the builtin `bool`. To silence this warning,    <span style=\"color: #7f7f7f; text-decoration-color: #7f7f7f\">               </span>\n",
       "<span style=\"color: #7fbfbf; text-decoration-color: #7fbfbf\">                    </span>         use `bool` by itself. Doing this will not modify any behavior and is   <span style=\"color: #7f7f7f; text-decoration-color: #7f7f7f\">               </span>\n",
       "<span style=\"color: #7fbfbf; text-decoration-color: #7fbfbf\">                    </span>         safe. If you specifically wanted the numpy scalar type, use `np.bool_` <span style=\"color: #7f7f7f; text-decoration-color: #7f7f7f\">               </span>\n",
       "<span style=\"color: #7fbfbf; text-decoration-color: #7fbfbf\">                    </span>         here.                                                                  <span style=\"color: #7f7f7f; text-decoration-color: #7f7f7f\">               </span>\n",
       "<span style=\"color: #7fbfbf; text-decoration-color: #7fbfbf\">                    </span>         Deprecated in NumPy <span style=\"color: #008080; text-decoration-color: #008080; font-weight: bold\">1.20</span>; for more details and guidance:               <span style=\"color: #7f7f7f; text-decoration-color: #7f7f7f\">               </span>\n",
       "<span style=\"color: #7fbfbf; text-decoration-color: #7fbfbf\">                    </span>         <span style=\"color: #0000ff; text-decoration-color: #0000ff; text-decoration: underline\">https://numpy.org/devdocs/release/1.20.0-notes.html#deprecations</span>       <span style=\"color: #7f7f7f; text-decoration-color: #7f7f7f\">               </span>\n",
       "<span style=\"color: #7fbfbf; text-decoration-color: #7fbfbf\">                    </span>           target = <span style=\"color: #800080; text-decoration-color: #800080; font-weight: bold\">target.astype</span><span style=\"font-weight: bold\">(</span>np.bool<span style=\"font-weight: bold\">)</span><span style=\"color: #800080; text-decoration-color: #800080; font-weight: bold\">.flatten</span><span style=\"font-weight: bold\">()</span>                            <span style=\"color: #7f7f7f; text-decoration-color: #7f7f7f\">               </span>\n",
       "<span style=\"color: #7fbfbf; text-decoration-color: #7fbfbf\">                    </span>                                                                                <span style=\"color: #7f7f7f; text-decoration-color: #7f7f7f\">               </span>\n",
       "</pre>\n"
      ],
      "text/plain": [
       "\u001b[2;36m[08/23/23 10:27:21]\u001b[0m\u001b[2;36m \u001b[0m\u001b[31mWARNING \u001b[0m \u001b[35m/tmp/ipykernel_1915/\u001b[0m\u001b[95m886421279.py\u001b[0m:\u001b[1;36m12\u001b[0m: DeprecationWarning: `np.bool` is  \u001b]8;id=261833;file:///usr/lib/python3.9/warnings.py\u001b\\\u001b[2mwarnings.py\u001b[0m\u001b]8;;\u001b\\\u001b[2m:\u001b[0m\u001b]8;id=389594;file:///usr/lib/python3.9/warnings.py#109\u001b\\\u001b[2m109\u001b[0m\u001b]8;;\u001b\\\n",
       "\u001b[2;36m                    \u001b[0m         a deprecated alias for the builtin `bool`. To silence this warning,    \u001b[2m               \u001b[0m\n",
       "\u001b[2;36m                    \u001b[0m         use `bool` by itself. Doing this will not modify any behavior and is   \u001b[2m               \u001b[0m\n",
       "\u001b[2;36m                    \u001b[0m         safe. If you specifically wanted the numpy scalar type, use `np.bool_` \u001b[2m               \u001b[0m\n",
       "\u001b[2;36m                    \u001b[0m         here.                                                                  \u001b[2m               \u001b[0m\n",
       "\u001b[2;36m                    \u001b[0m         Deprecated in NumPy \u001b[1;36m1.20\u001b[0m; for more details and guidance:               \u001b[2m               \u001b[0m\n",
       "\u001b[2;36m                    \u001b[0m         \u001b[4;94mhttps://numpy.org/devdocs/release/1.20.0-notes.html#deprecations\u001b[0m       \u001b[2m               \u001b[0m\n",
       "\u001b[2;36m                    \u001b[0m           target = \u001b[1;35mtarget.astype\u001b[0m\u001b[1m(\u001b[0mnp.bool\u001b[1m)\u001b[0m\u001b[1;35m.flatten\u001b[0m\u001b[1m(\u001b[0m\u001b[1m)\u001b[0m                            \u001b[2m               \u001b[0m\n",
       "\u001b[2;36m                    \u001b[0m                                                                                \u001b[2m               \u001b[0m\n"
      ]
     },
     "metadata": {},
     "output_type": "display_data"
    },
    {
     "name": "stdout",
     "output_type": "stream",
     "text": [
      "confussion matrix model\n",
      "col_0  False  True \n",
      "row_0              \n",
      "False    822   3045\n",
      "True      45   4248\n",
      "\n",
      " confussion matrix edit\n",
      "col_0  False  True \n",
      "row_0              \n",
      "False   1617   2250\n",
      "True     763   3530\n",
      "/n/n Classification report model\n",
      "              precision    recall  f1-score   support\n",
      "\n",
      "       False       0.95      0.21      0.35      3867\n",
      "        True       0.58      0.99      0.73      4293\n",
      "\n",
      "    accuracy                           0.62      8160\n",
      "   macro avg       0.77      0.60      0.54      8160\n",
      "weighted avg       0.76      0.62      0.55      8160\n",
      "\n",
      "/n Classification report edit\n",
      "              precision    recall  f1-score   support\n",
      "\n",
      "       False       0.68      0.42      0.52      3867\n",
      "        True       0.61      0.82      0.70      4293\n",
      "\n",
      "    accuracy                           0.63      8160\n",
      "   macro avg       0.65      0.62      0.61      8160\n",
      "weighted avg       0.64      0.63      0.61      8160\n",
      "\n"
     ]
    },
    {
     "data": {
      "text/html": [
       "<pre style=\"white-space:pre;overflow-x:auto;line-height:normal;font-family:Menlo,'DejaVu Sans Mono',consolas,'Courier New',monospace\"></pre>\n"
      ],
      "text/plain": []
     },
     "metadata": {},
     "output_type": "display_data"
    },
    {
     "data": {
      "text/html": [
       "<div>\n",
       "<style scoped>\n",
       "    .dataframe tbody tr th:only-of-type {\n",
       "        vertical-align: middle;\n",
       "    }\n",
       "\n",
       "    .dataframe tbody tr th {\n",
       "        vertical-align: top;\n",
       "    }\n",
       "\n",
       "    .dataframe thead th {\n",
       "        text-align: right;\n",
       "    }\n",
       "</style>\n",
       "<table border=\"1\" class=\"dataframe\">\n",
       "  <thead>\n",
       "    <tr style=\"text-align: right;\">\n",
       "      <th></th>\n",
       "      <th>name_1</th>\n",
       "      <th>name_2</th>\n",
       "      <th>prediction_model</th>\n",
       "      <th>prediction_edit</th>\n",
       "      <th>target</th>\n",
       "      <th>match_model</th>\n",
       "      <th>match_edit</th>\n",
       "    </tr>\n",
       "  </thead>\n",
       "  <tbody>\n",
       "    <tr>\n",
       "      <th>0</th>\n",
       "      <td>21st century insurance group</td>\n",
       "      <td>21st century insurace</td>\n",
       "      <td>[0.99997616]</td>\n",
       "      <td>0.86</td>\n",
       "      <td>True</td>\n",
       "      <td>True</td>\n",
       "      <td>True</td>\n",
       "    </tr>\n",
       "    <tr>\n",
       "      <th>1</th>\n",
       "      <td>3com corporation</td>\n",
       "      <td>marco corporation</td>\n",
       "      <td>[0.98433185]</td>\n",
       "      <td>0.85</td>\n",
       "      <td>False</td>\n",
       "      <td>True</td>\n",
       "      <td>True</td>\n",
       "    </tr>\n",
       "    <tr>\n",
       "      <th>2</th>\n",
       "      <td>3com corporation</td>\n",
       "      <td>mm corporation</td>\n",
       "      <td>[0.99801904]</td>\n",
       "      <td>0.88</td>\n",
       "      <td>False</td>\n",
       "      <td>True</td>\n",
       "      <td>True</td>\n",
       "    </tr>\n",
       "    <tr>\n",
       "      <th>3</th>\n",
       "      <td>3com corporation</td>\n",
       "      <td>ramcon corporation</td>\n",
       "      <td>[0.9897918]</td>\n",
       "      <td>0.82</td>\n",
       "      <td>False</td>\n",
       "      <td>True</td>\n",
       "      <td>True</td>\n",
       "    </tr>\n",
       "    <tr>\n",
       "      <th>4</th>\n",
       "      <td>a and w office supply</td>\n",
       "      <td>sandia office supply</td>\n",
       "      <td>[0.99730307]</td>\n",
       "      <td>0.83</td>\n",
       "      <td>False</td>\n",
       "      <td>True</td>\n",
       "      <td>True</td>\n",
       "    </tr>\n",
       "    <tr>\n",
       "      <th>...</th>\n",
       "      <td>...</td>\n",
       "      <td>...</td>\n",
       "      <td>...</td>\n",
       "      <td>...</td>\n",
       "      <td>...</td>\n",
       "      <td>...</td>\n",
       "      <td>...</td>\n",
       "    </tr>\n",
       "    <tr>\n",
       "      <th>8155</th>\n",
       "      <td>carnegie mellon</td>\n",
       "      <td>carnigie mellon carnagie mellon</td>\n",
       "      <td>[0.99340785]</td>\n",
       "      <td>0.72</td>\n",
       "      <td>True</td>\n",
       "      <td>True</td>\n",
       "      <td>False</td>\n",
       "    </tr>\n",
       "    <tr>\n",
       "      <th>8156</th>\n",
       "      <td>nonoperational</td>\n",
       "      <td>unoperational</td>\n",
       "      <td>[0.99992114]</td>\n",
       "      <td>0.89</td>\n",
       "      <td>True</td>\n",
       "      <td>True</td>\n",
       "      <td>True</td>\n",
       "    </tr>\n",
       "    <tr>\n",
       "      <th>8157</th>\n",
       "      <td>skating</td>\n",
       "      <td>skateing</td>\n",
       "      <td>[0.99981946]</td>\n",
       "      <td>0.93</td>\n",
       "      <td>True</td>\n",
       "      <td>True</td>\n",
       "      <td>True</td>\n",
       "    </tr>\n",
       "    <tr>\n",
       "      <th>8158</th>\n",
       "      <td>habsburg</td>\n",
       "      <td>habsbourg</td>\n",
       "      <td>[0.9986739]</td>\n",
       "      <td>0.94</td>\n",
       "      <td>True</td>\n",
       "      <td>True</td>\n",
       "      <td>True</td>\n",
       "    </tr>\n",
       "    <tr>\n",
       "      <th>8159</th>\n",
       "      <td>emitting</td>\n",
       "      <td>emmitting emiting emmiting</td>\n",
       "      <td>[0.9999254]</td>\n",
       "      <td>0.47</td>\n",
       "      <td>True</td>\n",
       "      <td>True</td>\n",
       "      <td>False</td>\n",
       "    </tr>\n",
       "  </tbody>\n",
       "</table>\n",
       "<p>8160 rows × 7 columns</p>\n",
       "</div>"
      ],
      "text/plain": [
       "\n",
       "                            name_1                           name_2  \\\n",
       "\u001b[1;36m0\u001b[0m     21st century insurance group            21st century insurace   \n",
       "\u001b[1;36m1\u001b[0m                 3com corporation                marco corporation   \n",
       "\u001b[1;36m2\u001b[0m                 3com corporation                   mm corporation   \n",
       "\u001b[1;36m3\u001b[0m                 3com corporation               ramcon corporation   \n",
       "\u001b[1;36m4\u001b[0m            a and w office supply             sandia office supply   \n",
       "\u001b[33m...\u001b[0m                            \u001b[33m...\u001b[0m                              \u001b[33m...\u001b[0m   \n",
       "\u001b[1;36m8155\u001b[0m               carnegie mellon  carnigie mellon carnagie mellon   \n",
       "\u001b[1;36m8156\u001b[0m                nonoperational                    unoperational   \n",
       "\u001b[1;36m8157\u001b[0m                       skating                         skateing   \n",
       "\u001b[1;36m8158\u001b[0m                      habsburg                        habsbourg   \n",
       "\u001b[1;36m8159\u001b[0m                      emitting       emmitting emiting emmiting   \n",
       "\n",
       "     prediction_model  prediction_edit  target  match_model  match_edit  \n",
       "\u001b[1;36m0\u001b[0m        \u001b[1m[\u001b[0m\u001b[1;36m0.99997616\u001b[0m\u001b[1m]\u001b[0m             \u001b[1;36m0.86\u001b[0m    \u001b[3;92mTrue\u001b[0m         \u001b[3;92mTrue\u001b[0m        \u001b[3;92mTrue\u001b[0m  \n",
       "\u001b[1;36m1\u001b[0m        \u001b[1m[\u001b[0m\u001b[1;36m0.98433185\u001b[0m\u001b[1m]\u001b[0m             \u001b[1;36m0.85\u001b[0m   \u001b[3;91mFalse\u001b[0m         \u001b[3;92mTrue\u001b[0m        \u001b[3;92mTrue\u001b[0m  \n",
       "\u001b[1;36m2\u001b[0m        \u001b[1m[\u001b[0m\u001b[1;36m0.99801904\u001b[0m\u001b[1m]\u001b[0m             \u001b[1;36m0.88\u001b[0m   \u001b[3;91mFalse\u001b[0m         \u001b[3;92mTrue\u001b[0m        \u001b[3;92mTrue\u001b[0m  \n",
       "\u001b[1;36m3\u001b[0m         \u001b[1m[\u001b[0m\u001b[1;36m0.9897918\u001b[0m\u001b[1m]\u001b[0m             \u001b[1;36m0.82\u001b[0m   \u001b[3;91mFalse\u001b[0m         \u001b[3;92mTrue\u001b[0m        \u001b[3;92mTrue\u001b[0m  \n",
       "\u001b[1;36m4\u001b[0m        \u001b[1m[\u001b[0m\u001b[1;36m0.99730307\u001b[0m\u001b[1m]\u001b[0m             \u001b[1;36m0.83\u001b[0m   \u001b[3;91mFalse\u001b[0m         \u001b[3;92mTrue\u001b[0m        \u001b[3;92mTrue\u001b[0m  \n",
       "\u001b[33m...\u001b[0m               \u001b[33m...\u001b[0m              \u001b[33m...\u001b[0m     \u001b[33m...\u001b[0m          \u001b[33m...\u001b[0m         \u001b[33m...\u001b[0m  \n",
       "\u001b[1;36m8155\u001b[0m     \u001b[1m[\u001b[0m\u001b[1;36m0.99340785\u001b[0m\u001b[1m]\u001b[0m             \u001b[1;36m0.72\u001b[0m    \u001b[3;92mTrue\u001b[0m         \u001b[3;92mTrue\u001b[0m       \u001b[3;91mFalse\u001b[0m  \n",
       "\u001b[1;36m8156\u001b[0m     \u001b[1m[\u001b[0m\u001b[1;36m0.99992114\u001b[0m\u001b[1m]\u001b[0m             \u001b[1;36m0.89\u001b[0m    \u001b[3;92mTrue\u001b[0m         \u001b[3;92mTrue\u001b[0m        \u001b[3;92mTrue\u001b[0m  \n",
       "\u001b[1;36m8157\u001b[0m     \u001b[1m[\u001b[0m\u001b[1;36m0.99981946\u001b[0m\u001b[1m]\u001b[0m             \u001b[1;36m0.93\u001b[0m    \u001b[3;92mTrue\u001b[0m         \u001b[3;92mTrue\u001b[0m        \u001b[3;92mTrue\u001b[0m  \n",
       "\u001b[1;36m8158\u001b[0m      \u001b[1m[\u001b[0m\u001b[1;36m0.9986739\u001b[0m\u001b[1m]\u001b[0m             \u001b[1;36m0.94\u001b[0m    \u001b[3;92mTrue\u001b[0m         \u001b[3;92mTrue\u001b[0m        \u001b[3;92mTrue\u001b[0m  \n",
       "\u001b[1;36m8159\u001b[0m      \u001b[1m[\u001b[0m\u001b[1;36m0.9999254\u001b[0m\u001b[1m]\u001b[0m             \u001b[1;36m0.47\u001b[0m    \u001b[3;92mTrue\u001b[0m         \u001b[3;92mTrue\u001b[0m       \u001b[3;91mFalse\u001b[0m  \n",
       "\n",
       "\u001b[1m[\u001b[0m\u001b[1;36m8160\u001b[0m rows x \u001b[1;36m7\u001b[0m columns\u001b[1m]\u001b[0m"
      ]
     },
     "execution_count": 236,
     "metadata": {},
     "output_type": "execute_result"
    }
   ],
   "source": [
    "generate_comparison_model_vs_edit(data_standard_pairs, data_standard_target, .5)"
   ]
  },
  {
   "cell_type": "markdown",
   "id": "747c7954-2a88-494b-b09b-b455e6571907",
   "metadata": {},
   "source": [
    "## Amazon products evaluation"
   ]
  },
  {
   "cell_type": "code",
   "execution_count": 237,
   "id": "b7bc4e9b-9c9f-4f95-8050-6a05bfd99005",
   "metadata": {},
   "outputs": [],
   "source": [
    "data_prod= pd.read_csv('../../data/01_raw/amazon-google-products/mapping_full.csv')"
   ]
  },
  {
   "cell_type": "code",
   "execution_count": 238,
   "id": "49d249e2-161e-4ce1-81c1-daf537ea9ecc",
   "metadata": {},
   "outputs": [],
   "source": [
    "data_prod['name_1'] = data_prod['name_1'].apply(lambda x: normalize_characters(x))\n",
    "data_prod['name_2'] = data_prod['name_2'].apply(lambda x: normalize_characters(x))\n",
    "data_prod['target'] = 1\n"
   ]
  },
  {
   "cell_type": "code",
   "execution_count": 239,
   "id": "88fe66c3-642d-4aea-b1e8-1a05193e5078",
   "metadata": {},
   "outputs": [],
   "source": [
    "data_prod_pairs = data_prod[['name_1', 'name_2']].values\n",
    "data_prod_target = data_prod['target'].values"
   ]
  },
  {
   "cell_type": "code",
   "execution_count": 240,
   "id": "2d48fc58-dc21-44cb-9d50-d639ae354b62",
   "metadata": {},
   "outputs": [
    {
     "name": "stdout",
     "output_type": "stream",
     "text": [
      "41/41 [==============================] - 1s 20ms/step\n"
     ]
    },
    {
     "data": {
      "text/html": [
       "<pre style=\"white-space:pre;overflow-x:auto;line-height:normal;font-family:Menlo,'DejaVu Sans Mono',consolas,'Courier New',monospace\"><span style=\"color: #7fbfbf; text-decoration-color: #7fbfbf\">[08/23/23 10:29:02] </span><span style=\"color: #800000; text-decoration-color: #800000\">WARNING </span> <span style=\"color: #800080; text-decoration-color: #800080\">/tmp/ipykernel_1915/</span><span style=\"color: #ff00ff; text-decoration-color: #ff00ff\">886421279.py</span>:<span style=\"color: #008080; text-decoration-color: #008080; font-weight: bold\">12</span>: DeprecationWarning: `np.bool` is  <a href=\"file:///usr/lib/python3.9/warnings.py\" target=\"_blank\"><span style=\"color: #7f7f7f; text-decoration-color: #7f7f7f\">warnings.py</span></a><span style=\"color: #7f7f7f; text-decoration-color: #7f7f7f\">:</span><a href=\"file:///usr/lib/python3.9/warnings.py#109\" target=\"_blank\"><span style=\"color: #7f7f7f; text-decoration-color: #7f7f7f\">109</span></a>\n",
       "<span style=\"color: #7fbfbf; text-decoration-color: #7fbfbf\">                    </span>         a deprecated alias for the builtin `bool`. To silence this warning,    <span style=\"color: #7f7f7f; text-decoration-color: #7f7f7f\">               </span>\n",
       "<span style=\"color: #7fbfbf; text-decoration-color: #7fbfbf\">                    </span>         use `bool` by itself. Doing this will not modify any behavior and is   <span style=\"color: #7f7f7f; text-decoration-color: #7f7f7f\">               </span>\n",
       "<span style=\"color: #7fbfbf; text-decoration-color: #7fbfbf\">                    </span>         safe. If you specifically wanted the numpy scalar type, use `np.bool_` <span style=\"color: #7f7f7f; text-decoration-color: #7f7f7f\">               </span>\n",
       "<span style=\"color: #7fbfbf; text-decoration-color: #7fbfbf\">                    </span>         here.                                                                  <span style=\"color: #7f7f7f; text-decoration-color: #7f7f7f\">               </span>\n",
       "<span style=\"color: #7fbfbf; text-decoration-color: #7fbfbf\">                    </span>         Deprecated in NumPy <span style=\"color: #008080; text-decoration-color: #008080; font-weight: bold\">1.20</span>; for more details and guidance:               <span style=\"color: #7f7f7f; text-decoration-color: #7f7f7f\">               </span>\n",
       "<span style=\"color: #7fbfbf; text-decoration-color: #7fbfbf\">                    </span>         <span style=\"color: #0000ff; text-decoration-color: #0000ff; text-decoration: underline\">https://numpy.org/devdocs/release/1.20.0-notes.html#deprecations</span>       <span style=\"color: #7f7f7f; text-decoration-color: #7f7f7f\">               </span>\n",
       "<span style=\"color: #7fbfbf; text-decoration-color: #7fbfbf\">                    </span>           target = <span style=\"color: #800080; text-decoration-color: #800080; font-weight: bold\">target.astype</span><span style=\"font-weight: bold\">(</span>np.bool<span style=\"font-weight: bold\">)</span><span style=\"color: #800080; text-decoration-color: #800080; font-weight: bold\">.flatten</span><span style=\"font-weight: bold\">()</span>                            <span style=\"color: #7f7f7f; text-decoration-color: #7f7f7f\">               </span>\n",
       "<span style=\"color: #7fbfbf; text-decoration-color: #7fbfbf\">                    </span>                                                                                <span style=\"color: #7f7f7f; text-decoration-color: #7f7f7f\">               </span>\n",
       "</pre>\n"
      ],
      "text/plain": [
       "\u001b[2;36m[08/23/23 10:29:02]\u001b[0m\u001b[2;36m \u001b[0m\u001b[31mWARNING \u001b[0m \u001b[35m/tmp/ipykernel_1915/\u001b[0m\u001b[95m886421279.py\u001b[0m:\u001b[1;36m12\u001b[0m: DeprecationWarning: `np.bool` is  \u001b]8;id=839663;file:///usr/lib/python3.9/warnings.py\u001b\\\u001b[2mwarnings.py\u001b[0m\u001b]8;;\u001b\\\u001b[2m:\u001b[0m\u001b]8;id=790079;file:///usr/lib/python3.9/warnings.py#109\u001b\\\u001b[2m109\u001b[0m\u001b]8;;\u001b\\\n",
       "\u001b[2;36m                    \u001b[0m         a deprecated alias for the builtin `bool`. To silence this warning,    \u001b[2m               \u001b[0m\n",
       "\u001b[2;36m                    \u001b[0m         use `bool` by itself. Doing this will not modify any behavior and is   \u001b[2m               \u001b[0m\n",
       "\u001b[2;36m                    \u001b[0m         safe. If you specifically wanted the numpy scalar type, use `np.bool_` \u001b[2m               \u001b[0m\n",
       "\u001b[2;36m                    \u001b[0m         here.                                                                  \u001b[2m               \u001b[0m\n",
       "\u001b[2;36m                    \u001b[0m         Deprecated in NumPy \u001b[1;36m1.20\u001b[0m; for more details and guidance:               \u001b[2m               \u001b[0m\n",
       "\u001b[2;36m                    \u001b[0m         \u001b[4;94mhttps://numpy.org/devdocs/release/1.20.0-notes.html#deprecations\u001b[0m       \u001b[2m               \u001b[0m\n",
       "\u001b[2;36m                    \u001b[0m           target = \u001b[1;35mtarget.astype\u001b[0m\u001b[1m(\u001b[0mnp.bool\u001b[1m)\u001b[0m\u001b[1;35m.flatten\u001b[0m\u001b[1m(\u001b[0m\u001b[1m)\u001b[0m                            \u001b[2m               \u001b[0m\n",
       "\u001b[2;36m                    \u001b[0m                                                                                \u001b[2m               \u001b[0m\n"
      ]
     },
     "metadata": {},
     "output_type": "display_data"
    },
    {
     "name": "stdout",
     "output_type": "stream",
     "text": [
      "confussion matrix model\n",
      "col_0  False  True \n",
      "row_0              \n",
      "True      12   1288\n",
      "\n",
      " confussion matrix edit\n",
      "col_0  False  True \n",
      "row_0              \n",
      "True     198   1102\n",
      "/n/n Classification report model\n"
     ]
    },
    {
     "data": {
      "text/html": [
       "<pre style=\"white-space:pre;overflow-x:auto;line-height:normal;font-family:Menlo,'DejaVu Sans Mono',consolas,'Courier New',monospace\"><span style=\"color: #7fbfbf; text-decoration-color: #7fbfbf\">                    </span><span style=\"color: #800000; text-decoration-color: #800000\">WARNING </span> <span style=\"color: #800080; text-decoration-color: #800080\">/usr/local/lib/python3.9/dist-packages/sklearn/metrics/</span><span style=\"color: #ff00ff; text-decoration-color: #ff00ff\">_classification</span> <a href=\"file:///usr/lib/python3.9/warnings.py\" target=\"_blank\"><span style=\"color: #7f7f7f; text-decoration-color: #7f7f7f\">warnings.py</span></a><span style=\"color: #7f7f7f; text-decoration-color: #7f7f7f\">:</span><a href=\"file:///usr/lib/python3.9/warnings.py#109\" target=\"_blank\"><span style=\"color: #7f7f7f; text-decoration-color: #7f7f7f\">109</span></a>\n",
       "<span style=\"color: #7fbfbf; text-decoration-color: #7fbfbf\">                    </span>         <span style=\"color: #ff00ff; text-decoration-color: #ff00ff\">.py</span>:<span style=\"color: #008080; text-decoration-color: #008080; font-weight: bold\">1334</span>: UndefinedMetricWarning: Recall and F-score are ill-defined   <span style=\"color: #7f7f7f; text-decoration-color: #7f7f7f\">               </span>\n",
       "<span style=\"color: #7fbfbf; text-decoration-color: #7fbfbf\">                    </span>         and being set to <span style=\"color: #008080; text-decoration-color: #008080; font-weight: bold\">0.0</span> in labels with no true samples. Use               <span style=\"color: #7f7f7f; text-decoration-color: #7f7f7f\">               </span>\n",
       "<span style=\"color: #7fbfbf; text-decoration-color: #7fbfbf\">                    </span>         `zero_division` parameter to control this behavior.                    <span style=\"color: #7f7f7f; text-decoration-color: #7f7f7f\">               </span>\n",
       "<span style=\"color: #7fbfbf; text-decoration-color: #7fbfbf\">                    </span>           <span style=\"color: #800080; text-decoration-color: #800080; font-weight: bold\">_warn_prf</span><span style=\"font-weight: bold\">(</span>average, modifier, msg_start, <span style=\"color: #800080; text-decoration-color: #800080; font-weight: bold\">len</span><span style=\"font-weight: bold\">(</span>result<span style=\"font-weight: bold\">))</span>                 <span style=\"color: #7f7f7f; text-decoration-color: #7f7f7f\">               </span>\n",
       "<span style=\"color: #7fbfbf; text-decoration-color: #7fbfbf\">                    </span>                                                                                <span style=\"color: #7f7f7f; text-decoration-color: #7f7f7f\">               </span>\n",
       "</pre>\n"
      ],
      "text/plain": [
       "\u001b[2;36m                   \u001b[0m\u001b[2;36m \u001b[0m\u001b[31mWARNING \u001b[0m \u001b[35m/usr/local/lib/python3.9/dist-packages/sklearn/metrics/\u001b[0m\u001b[95m_classification\u001b[0m \u001b]8;id=902732;file:///usr/lib/python3.9/warnings.py\u001b\\\u001b[2mwarnings.py\u001b[0m\u001b]8;;\u001b\\\u001b[2m:\u001b[0m\u001b]8;id=195016;file:///usr/lib/python3.9/warnings.py#109\u001b\\\u001b[2m109\u001b[0m\u001b]8;;\u001b\\\n",
       "\u001b[2;36m                    \u001b[0m         \u001b[95m.py\u001b[0m:\u001b[1;36m1334\u001b[0m: UndefinedMetricWarning: Recall and F-score are ill-defined   \u001b[2m               \u001b[0m\n",
       "\u001b[2;36m                    \u001b[0m         and being set to \u001b[1;36m0.0\u001b[0m in labels with no true samples. Use               \u001b[2m               \u001b[0m\n",
       "\u001b[2;36m                    \u001b[0m         `zero_division` parameter to control this behavior.                    \u001b[2m               \u001b[0m\n",
       "\u001b[2;36m                    \u001b[0m           \u001b[1;35m_warn_prf\u001b[0m\u001b[1m(\u001b[0maverage, modifier, msg_start, \u001b[1;35mlen\u001b[0m\u001b[1m(\u001b[0mresult\u001b[1m)\u001b[0m\u001b[1m)\u001b[0m                 \u001b[2m               \u001b[0m\n",
       "\u001b[2;36m                    \u001b[0m                                                                                \u001b[2m               \u001b[0m\n"
      ]
     },
     "metadata": {},
     "output_type": "display_data"
    },
    {
     "data": {
      "text/html": [
       "<pre style=\"white-space:pre;overflow-x:auto;line-height:normal;font-family:Menlo,'DejaVu Sans Mono',consolas,'Courier New',monospace\"><span style=\"color: #7fbfbf; text-decoration-color: #7fbfbf\">                    </span><span style=\"color: #800000; text-decoration-color: #800000\">WARNING </span> <span style=\"color: #800080; text-decoration-color: #800080\">/usr/local/lib/python3.9/dist-packages/sklearn/metrics/</span><span style=\"color: #ff00ff; text-decoration-color: #ff00ff\">_classification</span> <a href=\"file:///usr/lib/python3.9/warnings.py\" target=\"_blank\"><span style=\"color: #7f7f7f; text-decoration-color: #7f7f7f\">warnings.py</span></a><span style=\"color: #7f7f7f; text-decoration-color: #7f7f7f\">:</span><a href=\"file:///usr/lib/python3.9/warnings.py#109\" target=\"_blank\"><span style=\"color: #7f7f7f; text-decoration-color: #7f7f7f\">109</span></a>\n",
       "<span style=\"color: #7fbfbf; text-decoration-color: #7fbfbf\">                    </span>         <span style=\"color: #ff00ff; text-decoration-color: #ff00ff\">.py</span>:<span style=\"color: #008080; text-decoration-color: #008080; font-weight: bold\">1334</span>: UndefinedMetricWarning: Recall and F-score are ill-defined   <span style=\"color: #7f7f7f; text-decoration-color: #7f7f7f\">               </span>\n",
       "<span style=\"color: #7fbfbf; text-decoration-color: #7fbfbf\">                    </span>         and being set to <span style=\"color: #008080; text-decoration-color: #008080; font-weight: bold\">0.0</span> in labels with no true samples. Use               <span style=\"color: #7f7f7f; text-decoration-color: #7f7f7f\">               </span>\n",
       "<span style=\"color: #7fbfbf; text-decoration-color: #7fbfbf\">                    </span>         `zero_division` parameter to control this behavior.                    <span style=\"color: #7f7f7f; text-decoration-color: #7f7f7f\">               </span>\n",
       "<span style=\"color: #7fbfbf; text-decoration-color: #7fbfbf\">                    </span>           <span style=\"color: #800080; text-decoration-color: #800080; font-weight: bold\">_warn_prf</span><span style=\"font-weight: bold\">(</span>average, modifier, msg_start, <span style=\"color: #800080; text-decoration-color: #800080; font-weight: bold\">len</span><span style=\"font-weight: bold\">(</span>result<span style=\"font-weight: bold\">))</span>                 <span style=\"color: #7f7f7f; text-decoration-color: #7f7f7f\">               </span>\n",
       "<span style=\"color: #7fbfbf; text-decoration-color: #7fbfbf\">                    </span>                                                                                <span style=\"color: #7f7f7f; text-decoration-color: #7f7f7f\">               </span>\n",
       "</pre>\n"
      ],
      "text/plain": [
       "\u001b[2;36m                   \u001b[0m\u001b[2;36m \u001b[0m\u001b[31mWARNING \u001b[0m \u001b[35m/usr/local/lib/python3.9/dist-packages/sklearn/metrics/\u001b[0m\u001b[95m_classification\u001b[0m \u001b]8;id=648703;file:///usr/lib/python3.9/warnings.py\u001b\\\u001b[2mwarnings.py\u001b[0m\u001b]8;;\u001b\\\u001b[2m:\u001b[0m\u001b]8;id=628791;file:///usr/lib/python3.9/warnings.py#109\u001b\\\u001b[2m109\u001b[0m\u001b]8;;\u001b\\\n",
       "\u001b[2;36m                    \u001b[0m         \u001b[95m.py\u001b[0m:\u001b[1;36m1334\u001b[0m: UndefinedMetricWarning: Recall and F-score are ill-defined   \u001b[2m               \u001b[0m\n",
       "\u001b[2;36m                    \u001b[0m         and being set to \u001b[1;36m0.0\u001b[0m in labels with no true samples. Use               \u001b[2m               \u001b[0m\n",
       "\u001b[2;36m                    \u001b[0m         `zero_division` parameter to control this behavior.                    \u001b[2m               \u001b[0m\n",
       "\u001b[2;36m                    \u001b[0m           \u001b[1;35m_warn_prf\u001b[0m\u001b[1m(\u001b[0maverage, modifier, msg_start, \u001b[1;35mlen\u001b[0m\u001b[1m(\u001b[0mresult\u001b[1m)\u001b[0m\u001b[1m)\u001b[0m                 \u001b[2m               \u001b[0m\n",
       "\u001b[2;36m                    \u001b[0m                                                                                \u001b[2m               \u001b[0m\n"
      ]
     },
     "metadata": {},
     "output_type": "display_data"
    },
    {
     "data": {
      "text/html": [
       "<pre style=\"white-space:pre;overflow-x:auto;line-height:normal;font-family:Menlo,'DejaVu Sans Mono',consolas,'Courier New',monospace\"><span style=\"color: #7fbfbf; text-decoration-color: #7fbfbf\">                    </span><span style=\"color: #800000; text-decoration-color: #800000\">WARNING </span> <span style=\"color: #800080; text-decoration-color: #800080\">/usr/local/lib/python3.9/dist-packages/sklearn/metrics/</span><span style=\"color: #ff00ff; text-decoration-color: #ff00ff\">_classification</span> <a href=\"file:///usr/lib/python3.9/warnings.py\" target=\"_blank\"><span style=\"color: #7f7f7f; text-decoration-color: #7f7f7f\">warnings.py</span></a><span style=\"color: #7f7f7f; text-decoration-color: #7f7f7f\">:</span><a href=\"file:///usr/lib/python3.9/warnings.py#109\" target=\"_blank\"><span style=\"color: #7f7f7f; text-decoration-color: #7f7f7f\">109</span></a>\n",
       "<span style=\"color: #7fbfbf; text-decoration-color: #7fbfbf\">                    </span>         <span style=\"color: #ff00ff; text-decoration-color: #ff00ff\">.py</span>:<span style=\"color: #008080; text-decoration-color: #008080; font-weight: bold\">1334</span>: UndefinedMetricWarning: Recall and F-score are ill-defined   <span style=\"color: #7f7f7f; text-decoration-color: #7f7f7f\">               </span>\n",
       "<span style=\"color: #7fbfbf; text-decoration-color: #7fbfbf\">                    </span>         and being set to <span style=\"color: #008080; text-decoration-color: #008080; font-weight: bold\">0.0</span> in labels with no true samples. Use               <span style=\"color: #7f7f7f; text-decoration-color: #7f7f7f\">               </span>\n",
       "<span style=\"color: #7fbfbf; text-decoration-color: #7fbfbf\">                    </span>         `zero_division` parameter to control this behavior.                    <span style=\"color: #7f7f7f; text-decoration-color: #7f7f7f\">               </span>\n",
       "<span style=\"color: #7fbfbf; text-decoration-color: #7fbfbf\">                    </span>           <span style=\"color: #800080; text-decoration-color: #800080; font-weight: bold\">_warn_prf</span><span style=\"font-weight: bold\">(</span>average, modifier, msg_start, <span style=\"color: #800080; text-decoration-color: #800080; font-weight: bold\">len</span><span style=\"font-weight: bold\">(</span>result<span style=\"font-weight: bold\">))</span>                 <span style=\"color: #7f7f7f; text-decoration-color: #7f7f7f\">               </span>\n",
       "<span style=\"color: #7fbfbf; text-decoration-color: #7fbfbf\">                    </span>                                                                                <span style=\"color: #7f7f7f; text-decoration-color: #7f7f7f\">               </span>\n",
       "</pre>\n"
      ],
      "text/plain": [
       "\u001b[2;36m                   \u001b[0m\u001b[2;36m \u001b[0m\u001b[31mWARNING \u001b[0m \u001b[35m/usr/local/lib/python3.9/dist-packages/sklearn/metrics/\u001b[0m\u001b[95m_classification\u001b[0m \u001b]8;id=954781;file:///usr/lib/python3.9/warnings.py\u001b\\\u001b[2mwarnings.py\u001b[0m\u001b]8;;\u001b\\\u001b[2m:\u001b[0m\u001b]8;id=390572;file:///usr/lib/python3.9/warnings.py#109\u001b\\\u001b[2m109\u001b[0m\u001b]8;;\u001b\\\n",
       "\u001b[2;36m                    \u001b[0m         \u001b[95m.py\u001b[0m:\u001b[1;36m1334\u001b[0m: UndefinedMetricWarning: Recall and F-score are ill-defined   \u001b[2m               \u001b[0m\n",
       "\u001b[2;36m                    \u001b[0m         and being set to \u001b[1;36m0.0\u001b[0m in labels with no true samples. Use               \u001b[2m               \u001b[0m\n",
       "\u001b[2;36m                    \u001b[0m         `zero_division` parameter to control this behavior.                    \u001b[2m               \u001b[0m\n",
       "\u001b[2;36m                    \u001b[0m           \u001b[1;35m_warn_prf\u001b[0m\u001b[1m(\u001b[0maverage, modifier, msg_start, \u001b[1;35mlen\u001b[0m\u001b[1m(\u001b[0mresult\u001b[1m)\u001b[0m\u001b[1m)\u001b[0m                 \u001b[2m               \u001b[0m\n",
       "\u001b[2;36m                    \u001b[0m                                                                                \u001b[2m               \u001b[0m\n"
      ]
     },
     "metadata": {},
     "output_type": "display_data"
    },
    {
     "name": "stdout",
     "output_type": "stream",
     "text": [
      "              precision    recall  f1-score   support\n",
      "\n",
      "       False       0.00      0.00      0.00         0\n",
      "        True       1.00      0.99      1.00      1300\n",
      "\n",
      "    accuracy                           0.99      1300\n",
      "   macro avg       0.50      0.50      0.50      1300\n",
      "weighted avg       1.00      0.99      1.00      1300\n",
      "\n",
      "/n Classification report edit\n"
     ]
    },
    {
     "data": {
      "text/html": [
       "<pre style=\"white-space:pre;overflow-x:auto;line-height:normal;font-family:Menlo,'DejaVu Sans Mono',consolas,'Courier New',monospace\"><span style=\"color: #7fbfbf; text-decoration-color: #7fbfbf\">                    </span><span style=\"color: #800000; text-decoration-color: #800000\">WARNING </span> <span style=\"color: #800080; text-decoration-color: #800080\">/usr/local/lib/python3.9/dist-packages/sklearn/metrics/</span><span style=\"color: #ff00ff; text-decoration-color: #ff00ff\">_classification</span> <a href=\"file:///usr/lib/python3.9/warnings.py\" target=\"_blank\"><span style=\"color: #7f7f7f; text-decoration-color: #7f7f7f\">warnings.py</span></a><span style=\"color: #7f7f7f; text-decoration-color: #7f7f7f\">:</span><a href=\"file:///usr/lib/python3.9/warnings.py#109\" target=\"_blank\"><span style=\"color: #7f7f7f; text-decoration-color: #7f7f7f\">109</span></a>\n",
       "<span style=\"color: #7fbfbf; text-decoration-color: #7fbfbf\">                    </span>         <span style=\"color: #ff00ff; text-decoration-color: #ff00ff\">.py</span>:<span style=\"color: #008080; text-decoration-color: #008080; font-weight: bold\">1334</span>: UndefinedMetricWarning: Recall and F-score are ill-defined   <span style=\"color: #7f7f7f; text-decoration-color: #7f7f7f\">               </span>\n",
       "<span style=\"color: #7fbfbf; text-decoration-color: #7fbfbf\">                    </span>         and being set to <span style=\"color: #008080; text-decoration-color: #008080; font-weight: bold\">0.0</span> in labels with no true samples. Use               <span style=\"color: #7f7f7f; text-decoration-color: #7f7f7f\">               </span>\n",
       "<span style=\"color: #7fbfbf; text-decoration-color: #7fbfbf\">                    </span>         `zero_division` parameter to control this behavior.                    <span style=\"color: #7f7f7f; text-decoration-color: #7f7f7f\">               </span>\n",
       "<span style=\"color: #7fbfbf; text-decoration-color: #7fbfbf\">                    </span>           <span style=\"color: #800080; text-decoration-color: #800080; font-weight: bold\">_warn_prf</span><span style=\"font-weight: bold\">(</span>average, modifier, msg_start, <span style=\"color: #800080; text-decoration-color: #800080; font-weight: bold\">len</span><span style=\"font-weight: bold\">(</span>result<span style=\"font-weight: bold\">))</span>                 <span style=\"color: #7f7f7f; text-decoration-color: #7f7f7f\">               </span>\n",
       "<span style=\"color: #7fbfbf; text-decoration-color: #7fbfbf\">                    </span>                                                                                <span style=\"color: #7f7f7f; text-decoration-color: #7f7f7f\">               </span>\n",
       "</pre>\n"
      ],
      "text/plain": [
       "\u001b[2;36m                   \u001b[0m\u001b[2;36m \u001b[0m\u001b[31mWARNING \u001b[0m \u001b[35m/usr/local/lib/python3.9/dist-packages/sklearn/metrics/\u001b[0m\u001b[95m_classification\u001b[0m \u001b]8;id=240490;file:///usr/lib/python3.9/warnings.py\u001b\\\u001b[2mwarnings.py\u001b[0m\u001b]8;;\u001b\\\u001b[2m:\u001b[0m\u001b]8;id=742298;file:///usr/lib/python3.9/warnings.py#109\u001b\\\u001b[2m109\u001b[0m\u001b]8;;\u001b\\\n",
       "\u001b[2;36m                    \u001b[0m         \u001b[95m.py\u001b[0m:\u001b[1;36m1334\u001b[0m: UndefinedMetricWarning: Recall and F-score are ill-defined   \u001b[2m               \u001b[0m\n",
       "\u001b[2;36m                    \u001b[0m         and being set to \u001b[1;36m0.0\u001b[0m in labels with no true samples. Use               \u001b[2m               \u001b[0m\n",
       "\u001b[2;36m                    \u001b[0m         `zero_division` parameter to control this behavior.                    \u001b[2m               \u001b[0m\n",
       "\u001b[2;36m                    \u001b[0m           \u001b[1;35m_warn_prf\u001b[0m\u001b[1m(\u001b[0maverage, modifier, msg_start, \u001b[1;35mlen\u001b[0m\u001b[1m(\u001b[0mresult\u001b[1m)\u001b[0m\u001b[1m)\u001b[0m                 \u001b[2m               \u001b[0m\n",
       "\u001b[2;36m                    \u001b[0m                                                                                \u001b[2m               \u001b[0m\n"
      ]
     },
     "metadata": {},
     "output_type": "display_data"
    },
    {
     "data": {
      "text/html": [
       "<pre style=\"white-space:pre;overflow-x:auto;line-height:normal;font-family:Menlo,'DejaVu Sans Mono',consolas,'Courier New',monospace\"><span style=\"color: #7fbfbf; text-decoration-color: #7fbfbf\">                    </span><span style=\"color: #800000; text-decoration-color: #800000\">WARNING </span> <span style=\"color: #800080; text-decoration-color: #800080\">/usr/local/lib/python3.9/dist-packages/sklearn/metrics/</span><span style=\"color: #ff00ff; text-decoration-color: #ff00ff\">_classification</span> <a href=\"file:///usr/lib/python3.9/warnings.py\" target=\"_blank\"><span style=\"color: #7f7f7f; text-decoration-color: #7f7f7f\">warnings.py</span></a><span style=\"color: #7f7f7f; text-decoration-color: #7f7f7f\">:</span><a href=\"file:///usr/lib/python3.9/warnings.py#109\" target=\"_blank\"><span style=\"color: #7f7f7f; text-decoration-color: #7f7f7f\">109</span></a>\n",
       "<span style=\"color: #7fbfbf; text-decoration-color: #7fbfbf\">                    </span>         <span style=\"color: #ff00ff; text-decoration-color: #ff00ff\">.py</span>:<span style=\"color: #008080; text-decoration-color: #008080; font-weight: bold\">1334</span>: UndefinedMetricWarning: Recall and F-score are ill-defined   <span style=\"color: #7f7f7f; text-decoration-color: #7f7f7f\">               </span>\n",
       "<span style=\"color: #7fbfbf; text-decoration-color: #7fbfbf\">                    </span>         and being set to <span style=\"color: #008080; text-decoration-color: #008080; font-weight: bold\">0.0</span> in labels with no true samples. Use               <span style=\"color: #7f7f7f; text-decoration-color: #7f7f7f\">               </span>\n",
       "<span style=\"color: #7fbfbf; text-decoration-color: #7fbfbf\">                    </span>         `zero_division` parameter to control this behavior.                    <span style=\"color: #7f7f7f; text-decoration-color: #7f7f7f\">               </span>\n",
       "<span style=\"color: #7fbfbf; text-decoration-color: #7fbfbf\">                    </span>           <span style=\"color: #800080; text-decoration-color: #800080; font-weight: bold\">_warn_prf</span><span style=\"font-weight: bold\">(</span>average, modifier, msg_start, <span style=\"color: #800080; text-decoration-color: #800080; font-weight: bold\">len</span><span style=\"font-weight: bold\">(</span>result<span style=\"font-weight: bold\">))</span>                 <span style=\"color: #7f7f7f; text-decoration-color: #7f7f7f\">               </span>\n",
       "<span style=\"color: #7fbfbf; text-decoration-color: #7fbfbf\">                    </span>                                                                                <span style=\"color: #7f7f7f; text-decoration-color: #7f7f7f\">               </span>\n",
       "</pre>\n"
      ],
      "text/plain": [
       "\u001b[2;36m                   \u001b[0m\u001b[2;36m \u001b[0m\u001b[31mWARNING \u001b[0m \u001b[35m/usr/local/lib/python3.9/dist-packages/sklearn/metrics/\u001b[0m\u001b[95m_classification\u001b[0m \u001b]8;id=907371;file:///usr/lib/python3.9/warnings.py\u001b\\\u001b[2mwarnings.py\u001b[0m\u001b]8;;\u001b\\\u001b[2m:\u001b[0m\u001b]8;id=406504;file:///usr/lib/python3.9/warnings.py#109\u001b\\\u001b[2m109\u001b[0m\u001b]8;;\u001b\\\n",
       "\u001b[2;36m                    \u001b[0m         \u001b[95m.py\u001b[0m:\u001b[1;36m1334\u001b[0m: UndefinedMetricWarning: Recall and F-score are ill-defined   \u001b[2m               \u001b[0m\n",
       "\u001b[2;36m                    \u001b[0m         and being set to \u001b[1;36m0.0\u001b[0m in labels with no true samples. Use               \u001b[2m               \u001b[0m\n",
       "\u001b[2;36m                    \u001b[0m         `zero_division` parameter to control this behavior.                    \u001b[2m               \u001b[0m\n",
       "\u001b[2;36m                    \u001b[0m           \u001b[1;35m_warn_prf\u001b[0m\u001b[1m(\u001b[0maverage, modifier, msg_start, \u001b[1;35mlen\u001b[0m\u001b[1m(\u001b[0mresult\u001b[1m)\u001b[0m\u001b[1m)\u001b[0m                 \u001b[2m               \u001b[0m\n",
       "\u001b[2;36m                    \u001b[0m                                                                                \u001b[2m               \u001b[0m\n"
      ]
     },
     "metadata": {},
     "output_type": "display_data"
    },
    {
     "data": {
      "text/html": [
       "<pre style=\"white-space:pre;overflow-x:auto;line-height:normal;font-family:Menlo,'DejaVu Sans Mono',consolas,'Courier New',monospace\"><span style=\"color: #7fbfbf; text-decoration-color: #7fbfbf\">                    </span><span style=\"color: #800000; text-decoration-color: #800000\">WARNING </span> <span style=\"color: #800080; text-decoration-color: #800080\">/usr/local/lib/python3.9/dist-packages/sklearn/metrics/</span><span style=\"color: #ff00ff; text-decoration-color: #ff00ff\">_classification</span> <a href=\"file:///usr/lib/python3.9/warnings.py\" target=\"_blank\"><span style=\"color: #7f7f7f; text-decoration-color: #7f7f7f\">warnings.py</span></a><span style=\"color: #7f7f7f; text-decoration-color: #7f7f7f\">:</span><a href=\"file:///usr/lib/python3.9/warnings.py#109\" target=\"_blank\"><span style=\"color: #7f7f7f; text-decoration-color: #7f7f7f\">109</span></a>\n",
       "<span style=\"color: #7fbfbf; text-decoration-color: #7fbfbf\">                    </span>         <span style=\"color: #ff00ff; text-decoration-color: #ff00ff\">.py</span>:<span style=\"color: #008080; text-decoration-color: #008080; font-weight: bold\">1334</span>: UndefinedMetricWarning: Recall and F-score are ill-defined   <span style=\"color: #7f7f7f; text-decoration-color: #7f7f7f\">               </span>\n",
       "<span style=\"color: #7fbfbf; text-decoration-color: #7fbfbf\">                    </span>         and being set to <span style=\"color: #008080; text-decoration-color: #008080; font-weight: bold\">0.0</span> in labels with no true samples. Use               <span style=\"color: #7f7f7f; text-decoration-color: #7f7f7f\">               </span>\n",
       "<span style=\"color: #7fbfbf; text-decoration-color: #7fbfbf\">                    </span>         `zero_division` parameter to control this behavior.                    <span style=\"color: #7f7f7f; text-decoration-color: #7f7f7f\">               </span>\n",
       "<span style=\"color: #7fbfbf; text-decoration-color: #7fbfbf\">                    </span>           <span style=\"color: #800080; text-decoration-color: #800080; font-weight: bold\">_warn_prf</span><span style=\"font-weight: bold\">(</span>average, modifier, msg_start, <span style=\"color: #800080; text-decoration-color: #800080; font-weight: bold\">len</span><span style=\"font-weight: bold\">(</span>result<span style=\"font-weight: bold\">))</span>                 <span style=\"color: #7f7f7f; text-decoration-color: #7f7f7f\">               </span>\n",
       "<span style=\"color: #7fbfbf; text-decoration-color: #7fbfbf\">                    </span>                                                                                <span style=\"color: #7f7f7f; text-decoration-color: #7f7f7f\">               </span>\n",
       "</pre>\n"
      ],
      "text/plain": [
       "\u001b[2;36m                   \u001b[0m\u001b[2;36m \u001b[0m\u001b[31mWARNING \u001b[0m \u001b[35m/usr/local/lib/python3.9/dist-packages/sklearn/metrics/\u001b[0m\u001b[95m_classification\u001b[0m \u001b]8;id=211283;file:///usr/lib/python3.9/warnings.py\u001b\\\u001b[2mwarnings.py\u001b[0m\u001b]8;;\u001b\\\u001b[2m:\u001b[0m\u001b]8;id=701847;file:///usr/lib/python3.9/warnings.py#109\u001b\\\u001b[2m109\u001b[0m\u001b]8;;\u001b\\\n",
       "\u001b[2;36m                    \u001b[0m         \u001b[95m.py\u001b[0m:\u001b[1;36m1334\u001b[0m: UndefinedMetricWarning: Recall and F-score are ill-defined   \u001b[2m               \u001b[0m\n",
       "\u001b[2;36m                    \u001b[0m         and being set to \u001b[1;36m0.0\u001b[0m in labels with no true samples. Use               \u001b[2m               \u001b[0m\n",
       "\u001b[2;36m                    \u001b[0m         `zero_division` parameter to control this behavior.                    \u001b[2m               \u001b[0m\n",
       "\u001b[2;36m                    \u001b[0m           \u001b[1;35m_warn_prf\u001b[0m\u001b[1m(\u001b[0maverage, modifier, msg_start, \u001b[1;35mlen\u001b[0m\u001b[1m(\u001b[0mresult\u001b[1m)\u001b[0m\u001b[1m)\u001b[0m                 \u001b[2m               \u001b[0m\n",
       "\u001b[2;36m                    \u001b[0m                                                                                \u001b[2m               \u001b[0m\n"
      ]
     },
     "metadata": {},
     "output_type": "display_data"
    },
    {
     "name": "stdout",
     "output_type": "stream",
     "text": [
      "              precision    recall  f1-score   support\n",
      "\n",
      "       False       0.00      0.00      0.00         0\n",
      "        True       1.00      0.85      0.92      1300\n",
      "\n",
      "    accuracy                           0.85      1300\n",
      "   macro avg       0.50      0.42      0.46      1300\n",
      "weighted avg       1.00      0.85      0.92      1300\n",
      "\n"
     ]
    },
    {
     "data": {
      "text/html": [
       "<pre style=\"white-space:pre;overflow-x:auto;line-height:normal;font-family:Menlo,'DejaVu Sans Mono',consolas,'Courier New',monospace\"></pre>\n"
      ],
      "text/plain": []
     },
     "metadata": {},
     "output_type": "display_data"
    },
    {
     "data": {
      "text/html": [
       "<div>\n",
       "<style scoped>\n",
       "    .dataframe tbody tr th:only-of-type {\n",
       "        vertical-align: middle;\n",
       "    }\n",
       "\n",
       "    .dataframe tbody tr th {\n",
       "        vertical-align: top;\n",
       "    }\n",
       "\n",
       "    .dataframe thead th {\n",
       "        text-align: right;\n",
       "    }\n",
       "</style>\n",
       "<table border=\"1\" class=\"dataframe\">\n",
       "  <thead>\n",
       "    <tr style=\"text-align: right;\">\n",
       "      <th></th>\n",
       "      <th>name_1</th>\n",
       "      <th>name_2</th>\n",
       "      <th>prediction_model</th>\n",
       "      <th>prediction_edit</th>\n",
       "      <th>target</th>\n",
       "      <th>match_model</th>\n",
       "      <th>match_edit</th>\n",
       "    </tr>\n",
       "  </thead>\n",
       "  <tbody>\n",
       "    <tr>\n",
       "      <th>0</th>\n",
       "      <td>clickart 950 000 premier image pack dvd rom</td>\n",
       "      <td>clickart 950000 premier image pack dvd rom</td>\n",
       "      <td>[1.0]</td>\n",
       "      <td>0.94</td>\n",
       "      <td>True</td>\n",
       "      <td>True</td>\n",
       "      <td>True</td>\n",
       "    </tr>\n",
       "    <tr>\n",
       "      <th>1</th>\n",
       "      <td>noahs ark activity center jewel case ages 3 8</td>\n",
       "      <td>the beginners bible noahs ark activity center ...</td>\n",
       "      <td>[0.99957424]</td>\n",
       "      <td>0.73</td>\n",
       "      <td>True</td>\n",
       "      <td>True</td>\n",
       "      <td>False</td>\n",
       "    </tr>\n",
       "    <tr>\n",
       "      <th>2</th>\n",
       "      <td>peachtree by sage premium accounting for nonpr...</td>\n",
       "      <td>sage ptree vernfp2007rt premium accounting for...</td>\n",
       "      <td>[1.0]</td>\n",
       "      <td>0.87</td>\n",
       "      <td>True</td>\n",
       "      <td>True</td>\n",
       "      <td>True</td>\n",
       "    </tr>\n",
       "    <tr>\n",
       "      <th>3</th>\n",
       "      <td>singing coach unlimited</td>\n",
       "      <td>singing coach unlimited electronic learning pr...</td>\n",
       "      <td>[0.99999684]</td>\n",
       "      <td>1.00</td>\n",
       "      <td>True</td>\n",
       "      <td>True</td>\n",
       "      <td>True</td>\n",
       "    </tr>\n",
       "    <tr>\n",
       "      <th>4</th>\n",
       "      <td>adobe after effects professional 6 5 upgrade f...</td>\n",
       "      <td>adobe software 22070152 after effects 6 5 pbupgrd</td>\n",
       "      <td>[0.9999811]</td>\n",
       "      <td>0.64</td>\n",
       "      <td>True</td>\n",
       "      <td>True</td>\n",
       "      <td>False</td>\n",
       "    </tr>\n",
       "    <tr>\n",
       "      <th>...</th>\n",
       "      <td>...</td>\n",
       "      <td>...</td>\n",
       "      <td>...</td>\n",
       "      <td>...</td>\n",
       "      <td>...</td>\n",
       "      <td>...</td>\n",
       "      <td>...</td>\n",
       "    </tr>\n",
       "    <tr>\n",
       "      <th>1295</th>\n",
       "      <td>shapes</td>\n",
       "      <td>school zone interactive shapes on track software</td>\n",
       "      <td>[0.99745786]</td>\n",
       "      <td>1.00</td>\n",
       "      <td>True</td>\n",
       "      <td>True</td>\n",
       "      <td>True</td>\n",
       "    </tr>\n",
       "    <tr>\n",
       "      <th>1296</th>\n",
       "      <td>dragon naturally speaking standard v9</td>\n",
       "      <td>nuance communications inc dragon ns standard v9</td>\n",
       "      <td>[0.9898438]</td>\n",
       "      <td>0.65</td>\n",
       "      <td>True</td>\n",
       "      <td>True</td>\n",
       "      <td>False</td>\n",
       "    </tr>\n",
       "    <tr>\n",
       "      <th>1297</th>\n",
       "      <td>mediarecover</td>\n",
       "      <td>allume systems inc mediarecover</td>\n",
       "      <td>[0.99980617]</td>\n",
       "      <td>1.00</td>\n",
       "      <td>True</td>\n",
       "      <td>True</td>\n",
       "      <td>True</td>\n",
       "    </tr>\n",
       "    <tr>\n",
       "      <th>1298</th>\n",
       "      <td>mediarecover</td>\n",
       "      <td>allume mediarecover</td>\n",
       "      <td>[0.9999321]</td>\n",
       "      <td>1.00</td>\n",
       "      <td>True</td>\n",
       "      <td>True</td>\n",
       "      <td>True</td>\n",
       "    </tr>\n",
       "    <tr>\n",
       "      <th>1299</th>\n",
       "      <td>photo explosion 3 0</td>\n",
       "      <td>nova development corp photo explosion 3 0</td>\n",
       "      <td>[0.99999493]</td>\n",
       "      <td>1.00</td>\n",
       "      <td>True</td>\n",
       "      <td>True</td>\n",
       "      <td>True</td>\n",
       "    </tr>\n",
       "  </tbody>\n",
       "</table>\n",
       "<p>1300 rows × 7 columns</p>\n",
       "</div>"
      ],
      "text/plain": [
       "\n",
       "                                                 name_1  \\\n",
       "\u001b[1;36m0\u001b[0m           clickart \u001b[1;36m950\u001b[0m \u001b[1;36m000\u001b[0m premier image pack dvd rom   \n",
       "\u001b[1;36m1\u001b[0m         noahs ark activity center jewel case ages \u001b[1;36m3\u001b[0m \u001b[1;36m8\u001b[0m   \n",
       "\u001b[1;36m2\u001b[0m     peachtree by sage premium accounting for nonpr\u001b[33m...\u001b[0m   \n",
       "\u001b[1;36m3\u001b[0m                               singing coach unlimited   \n",
       "\u001b[1;36m4\u001b[0m     adobe after effects professional \u001b[1;36m6\u001b[0m \u001b[1;36m5\u001b[0m upgrade f\u001b[33m...\u001b[0m   \n",
       "\u001b[33m...\u001b[0m                                                 \u001b[33m...\u001b[0m   \n",
       "\u001b[1;36m1295\u001b[0m                                             shapes   \n",
       "\u001b[1;36m1296\u001b[0m              dragon naturally speaking standard v9   \n",
       "\u001b[1;36m1297\u001b[0m                                       mediarecover   \n",
       "\u001b[1;36m1298\u001b[0m                                       mediarecover   \n",
       "\u001b[1;36m1299\u001b[0m                                photo explosion \u001b[1;36m3\u001b[0m \u001b[1;36m0\u001b[0m   \n",
       "\n",
       "                                                 name_2 prediction_model  \\\n",
       "\u001b[1;36m0\u001b[0m            clickart \u001b[1;36m950000\u001b[0m premier image pack dvd rom            \u001b[1m[\u001b[0m\u001b[1;36m1.0\u001b[0m\u001b[1m]\u001b[0m   \n",
       "\u001b[1;36m1\u001b[0m     the beginners bible noahs ark activity center \u001b[33m...\u001b[0m     \u001b[1m[\u001b[0m\u001b[1;36m0.99957424\u001b[0m\u001b[1m]\u001b[0m   \n",
       "\u001b[1;36m2\u001b[0m     sage ptree vernfp2007rt premium accounting for\u001b[33m...\u001b[0m            \u001b[1m[\u001b[0m\u001b[1;36m1.0\u001b[0m\u001b[1m]\u001b[0m   \n",
       "\u001b[1;36m3\u001b[0m     singing coach unlimited electronic learning pr\u001b[33m...\u001b[0m     \u001b[1m[\u001b[0m\u001b[1;36m0.99999684\u001b[0m\u001b[1m]\u001b[0m   \n",
       "\u001b[1;36m4\u001b[0m     adobe software \u001b[1;36m22070152\u001b[0m after effects \u001b[1;36m6\u001b[0m \u001b[1;36m5\u001b[0m pbupgrd      \u001b[1m[\u001b[0m\u001b[1;36m0.9999811\u001b[0m\u001b[1m]\u001b[0m   \n",
       "\u001b[33m...\u001b[0m                                                 \u001b[33m...\u001b[0m              \u001b[33m...\u001b[0m   \n",
       "\u001b[1;36m1295\u001b[0m   school zone interactive shapes on track software     \u001b[1m[\u001b[0m\u001b[1;36m0.99745786\u001b[0m\u001b[1m]\u001b[0m   \n",
       "\u001b[1;36m1296\u001b[0m    nuance communications inc dragon ns standard v9      \u001b[1m[\u001b[0m\u001b[1;36m0.9898438\u001b[0m\u001b[1m]\u001b[0m   \n",
       "\u001b[1;36m1297\u001b[0m                    allume systems inc mediarecover     \u001b[1m[\u001b[0m\u001b[1;36m0.99980617\u001b[0m\u001b[1m]\u001b[0m   \n",
       "\u001b[1;36m1298\u001b[0m                                allume mediarecover      \u001b[1m[\u001b[0m\u001b[1;36m0.9999321\u001b[0m\u001b[1m]\u001b[0m   \n",
       "\u001b[1;36m1299\u001b[0m          nova development corp photo explosion \u001b[1;36m3\u001b[0m \u001b[1;36m0\u001b[0m     \u001b[1m[\u001b[0m\u001b[1;36m0.99999493\u001b[0m\u001b[1m]\u001b[0m   \n",
       "\n",
       "      prediction_edit  target  match_model  match_edit  \n",
       "\u001b[1;36m0\u001b[0m                \u001b[1;36m0.94\u001b[0m    \u001b[3;92mTrue\u001b[0m         \u001b[3;92mTrue\u001b[0m        \u001b[3;92mTrue\u001b[0m  \n",
       "\u001b[1;36m1\u001b[0m                \u001b[1;36m0.73\u001b[0m    \u001b[3;92mTrue\u001b[0m         \u001b[3;92mTrue\u001b[0m       \u001b[3;91mFalse\u001b[0m  \n",
       "\u001b[1;36m2\u001b[0m                \u001b[1;36m0.87\u001b[0m    \u001b[3;92mTrue\u001b[0m         \u001b[3;92mTrue\u001b[0m        \u001b[3;92mTrue\u001b[0m  \n",
       "\u001b[1;36m3\u001b[0m                \u001b[1;36m1.00\u001b[0m    \u001b[3;92mTrue\u001b[0m         \u001b[3;92mTrue\u001b[0m        \u001b[3;92mTrue\u001b[0m  \n",
       "\u001b[1;36m4\u001b[0m                \u001b[1;36m0.64\u001b[0m    \u001b[3;92mTrue\u001b[0m         \u001b[3;92mTrue\u001b[0m       \u001b[3;91mFalse\u001b[0m  \n",
       "\u001b[33m...\u001b[0m               \u001b[33m...\u001b[0m     \u001b[33m...\u001b[0m          \u001b[33m...\u001b[0m         \u001b[33m...\u001b[0m  \n",
       "\u001b[1;36m1295\u001b[0m             \u001b[1;36m1.00\u001b[0m    \u001b[3;92mTrue\u001b[0m         \u001b[3;92mTrue\u001b[0m        \u001b[3;92mTrue\u001b[0m  \n",
       "\u001b[1;36m1296\u001b[0m             \u001b[1;36m0.65\u001b[0m    \u001b[3;92mTrue\u001b[0m         \u001b[3;92mTrue\u001b[0m       \u001b[3;91mFalse\u001b[0m  \n",
       "\u001b[1;36m1297\u001b[0m             \u001b[1;36m1.00\u001b[0m    \u001b[3;92mTrue\u001b[0m         \u001b[3;92mTrue\u001b[0m        \u001b[3;92mTrue\u001b[0m  \n",
       "\u001b[1;36m1298\u001b[0m             \u001b[1;36m1.00\u001b[0m    \u001b[3;92mTrue\u001b[0m         \u001b[3;92mTrue\u001b[0m        \u001b[3;92mTrue\u001b[0m  \n",
       "\u001b[1;36m1299\u001b[0m             \u001b[1;36m1.00\u001b[0m    \u001b[3;92mTrue\u001b[0m         \u001b[3;92mTrue\u001b[0m        \u001b[3;92mTrue\u001b[0m  \n",
       "\n",
       "\u001b[1m[\u001b[0m\u001b[1;36m1300\u001b[0m rows x \u001b[1;36m7\u001b[0m columns\u001b[1m]\u001b[0m"
      ]
     },
     "execution_count": 240,
     "metadata": {},
     "output_type": "execute_result"
    }
   ],
   "source": [
    "generate_comparison_model_vs_edit(data_prod_pairs, data_prod_target, .75)"
   ]
  },
  {
   "cell_type": "markdown",
   "id": "64a718d6-308a-4ac1-b6bc-51d6b49536a4",
   "metadata": {},
   "source": [
    "# ABT vs BUY products evaluation"
   ]
  },
  {
   "cell_type": "code",
   "execution_count": 241,
   "id": "044243e3-0f3a-42a3-88a9-fedf63c2dd2c",
   "metadata": {},
   "outputs": [],
   "source": [
    "data_prod_abt = pd.read_csv('../../data/01_raw/abt-buy-dataset/abt_buy_perfectMapping_full.csv')"
   ]
  },
  {
   "cell_type": "code",
   "execution_count": 242,
   "id": "b6fd96e1-124a-42cd-b019-23f19b1ccca5",
   "metadata": {},
   "outputs": [],
   "source": [
    "data_prod_abt['name_1'] = data_prod_abt['name_1'].apply(lambda x: normalize_characters(x))\n",
    "data_prod_abt['name_2'] = data_prod_abt['name_2'].apply(lambda x: normalize_characters(x))\n",
    "data_prod_abt['target'] = 1"
   ]
  },
  {
   "cell_type": "code",
   "execution_count": 243,
   "id": "976dde0d-ee33-491f-9866-5314a4a10c7a",
   "metadata": {},
   "outputs": [],
   "source": [
    "data_prod_abt_pairs = data_prod_abt[['name_1', 'name_2']].values\n",
    "data_prod_abt_target = data_prod_abt['target'].values"
   ]
  },
  {
   "cell_type": "code",
   "execution_count": 244,
   "id": "c2bda168-b198-4a4a-9431-e1fe37f7b218",
   "metadata": {},
   "outputs": [
    {
     "data": {
      "text/html": [
       "<pre style=\"white-space:pre;overflow-x:auto;line-height:normal;font-family:Menlo,'DejaVu Sans Mono',consolas,'Courier New',monospace\"></pre>\n"
      ],
      "text/plain": []
     },
     "metadata": {},
     "output_type": "display_data"
    },
    {
     "data": {
      "text/plain": [
       "\n",
       "\u001b[1;35marray\u001b[0m\u001b[1m(\u001b[0m\u001b[1m[\u001b[0m\u001b[1m[\u001b[0m\u001b[32m'linksys etherfast 8 port 10 100 switch ezxs88w'\u001b[0m,\n",
       "        \u001b[32m'linksys etherfast ezxs88w ethernet switch ezxs88w'\u001b[0m\u001b[1m]\u001b[0m,\n",
       "       \u001b[1m[\u001b[0m\u001b[32m'linksys etherfast10 100 5 port auto sensing switch ezxs55w'\u001b[0m,\n",
       "        \u001b[32m'linksys etherfast ezxs55w ethernet switch'\u001b[0m\u001b[1m]\u001b[0m,\n",
       "       \u001b[1m[\u001b[0m\u001b[32m'netgear prosafe 5 port 10 100 desktop switch fs105'\u001b[0m,\n",
       "        \u001b[32m'netgear prosafe fs105 ethernet switch fs105na'\u001b[0m\u001b[1m]\u001b[0m,\n",
       "       \u001b[33m...\u001b[0m,\n",
       "       \u001b[1m[\u001b[0m\u001b[32m'sony lcs twa b black soft leather carrying case lcstwab'\u001b[0m,\n",
       "        \u001b[32m'sony lcs twa b cyber shot camera case lcstwa b'\u001b[0m\u001b[1m]\u001b[0m,\n",
       "       \u001b[1m[\u001b[0m\u001b[32m'sony white cybershot t series digital camera jacket case with stylus lcjthcw'\u001b[0m,\n",
       "        \u001b[32m'sony lcj thc b jacket case with stylus lcj thc w'\u001b[0m\u001b[1m]\u001b[0m,\n",
       "       \u001b[1m[\u001b[0m\u001b[32m'sony lcs csj black soft carrying case lcscsj'\u001b[0m,\n",
       "        \u001b[32m'sony lcs csj soft camera case lcscsj'\u001b[0m\u001b[1m]\u001b[0m\u001b[1m]\u001b[0m, \u001b[33mdtype\u001b[0m=\u001b[35mobject\u001b[0m\u001b[1m)\u001b[0m"
      ]
     },
     "execution_count": 244,
     "metadata": {},
     "output_type": "execute_result"
    }
   ],
   "source": [
    "data_prod_abt_pairs"
   ]
  },
  {
   "cell_type": "code",
   "execution_count": 245,
   "id": "98f71852-801c-4093-8e73-0515c64e474b",
   "metadata": {},
   "outputs": [
    {
     "name": "stdout",
     "output_type": "stream",
     "text": [
      "35/35 [==============================] - 1s 20ms/step\n"
     ]
    },
    {
     "data": {
      "text/html": [
       "<pre style=\"white-space:pre;overflow-x:auto;line-height:normal;font-family:Menlo,'DejaVu Sans Mono',consolas,'Courier New',monospace\"><span style=\"color: #7fbfbf; text-decoration-color: #7fbfbf\">[08/23/23 10:29:16] </span><span style=\"color: #800000; text-decoration-color: #800000\">WARNING </span> <span style=\"color: #800080; text-decoration-color: #800080\">/tmp/ipykernel_1915/</span><span style=\"color: #ff00ff; text-decoration-color: #ff00ff\">886421279.py</span>:<span style=\"color: #008080; text-decoration-color: #008080; font-weight: bold\">12</span>: DeprecationWarning: `np.bool` is  <a href=\"file:///usr/lib/python3.9/warnings.py\" target=\"_blank\"><span style=\"color: #7f7f7f; text-decoration-color: #7f7f7f\">warnings.py</span></a><span style=\"color: #7f7f7f; text-decoration-color: #7f7f7f\">:</span><a href=\"file:///usr/lib/python3.9/warnings.py#109\" target=\"_blank\"><span style=\"color: #7f7f7f; text-decoration-color: #7f7f7f\">109</span></a>\n",
       "<span style=\"color: #7fbfbf; text-decoration-color: #7fbfbf\">                    </span>         a deprecated alias for the builtin `bool`. To silence this warning,    <span style=\"color: #7f7f7f; text-decoration-color: #7f7f7f\">               </span>\n",
       "<span style=\"color: #7fbfbf; text-decoration-color: #7fbfbf\">                    </span>         use `bool` by itself. Doing this will not modify any behavior and is   <span style=\"color: #7f7f7f; text-decoration-color: #7f7f7f\">               </span>\n",
       "<span style=\"color: #7fbfbf; text-decoration-color: #7fbfbf\">                    </span>         safe. If you specifically wanted the numpy scalar type, use `np.bool_` <span style=\"color: #7f7f7f; text-decoration-color: #7f7f7f\">               </span>\n",
       "<span style=\"color: #7fbfbf; text-decoration-color: #7fbfbf\">                    </span>         here.                                                                  <span style=\"color: #7f7f7f; text-decoration-color: #7f7f7f\">               </span>\n",
       "<span style=\"color: #7fbfbf; text-decoration-color: #7fbfbf\">                    </span>         Deprecated in NumPy <span style=\"color: #008080; text-decoration-color: #008080; font-weight: bold\">1.20</span>; for more details and guidance:               <span style=\"color: #7f7f7f; text-decoration-color: #7f7f7f\">               </span>\n",
       "<span style=\"color: #7fbfbf; text-decoration-color: #7fbfbf\">                    </span>         <span style=\"color: #0000ff; text-decoration-color: #0000ff; text-decoration: underline\">https://numpy.org/devdocs/release/1.20.0-notes.html#deprecations</span>       <span style=\"color: #7f7f7f; text-decoration-color: #7f7f7f\">               </span>\n",
       "<span style=\"color: #7fbfbf; text-decoration-color: #7fbfbf\">                    </span>           target = <span style=\"color: #800080; text-decoration-color: #800080; font-weight: bold\">target.astype</span><span style=\"font-weight: bold\">(</span>np.bool<span style=\"font-weight: bold\">)</span><span style=\"color: #800080; text-decoration-color: #800080; font-weight: bold\">.flatten</span><span style=\"font-weight: bold\">()</span>                            <span style=\"color: #7f7f7f; text-decoration-color: #7f7f7f\">               </span>\n",
       "<span style=\"color: #7fbfbf; text-decoration-color: #7fbfbf\">                    </span>                                                                                <span style=\"color: #7f7f7f; text-decoration-color: #7f7f7f\">               </span>\n",
       "</pre>\n"
      ],
      "text/plain": [
       "\u001b[2;36m[08/23/23 10:29:16]\u001b[0m\u001b[2;36m \u001b[0m\u001b[31mWARNING \u001b[0m \u001b[35m/tmp/ipykernel_1915/\u001b[0m\u001b[95m886421279.py\u001b[0m:\u001b[1;36m12\u001b[0m: DeprecationWarning: `np.bool` is  \u001b]8;id=461034;file:///usr/lib/python3.9/warnings.py\u001b\\\u001b[2mwarnings.py\u001b[0m\u001b]8;;\u001b\\\u001b[2m:\u001b[0m\u001b]8;id=724670;file:///usr/lib/python3.9/warnings.py#109\u001b\\\u001b[2m109\u001b[0m\u001b]8;;\u001b\\\n",
       "\u001b[2;36m                    \u001b[0m         a deprecated alias for the builtin `bool`. To silence this warning,    \u001b[2m               \u001b[0m\n",
       "\u001b[2;36m                    \u001b[0m         use `bool` by itself. Doing this will not modify any behavior and is   \u001b[2m               \u001b[0m\n",
       "\u001b[2;36m                    \u001b[0m         safe. If you specifically wanted the numpy scalar type, use `np.bool_` \u001b[2m               \u001b[0m\n",
       "\u001b[2;36m                    \u001b[0m         here.                                                                  \u001b[2m               \u001b[0m\n",
       "\u001b[2;36m                    \u001b[0m         Deprecated in NumPy \u001b[1;36m1.20\u001b[0m; for more details and guidance:               \u001b[2m               \u001b[0m\n",
       "\u001b[2;36m                    \u001b[0m         \u001b[4;94mhttps://numpy.org/devdocs/release/1.20.0-notes.html#deprecations\u001b[0m       \u001b[2m               \u001b[0m\n",
       "\u001b[2;36m                    \u001b[0m           target = \u001b[1;35mtarget.astype\u001b[0m\u001b[1m(\u001b[0mnp.bool\u001b[1m)\u001b[0m\u001b[1;35m.flatten\u001b[0m\u001b[1m(\u001b[0m\u001b[1m)\u001b[0m                            \u001b[2m               \u001b[0m\n",
       "\u001b[2;36m                    \u001b[0m                                                                                \u001b[2m               \u001b[0m\n"
      ]
     },
     "metadata": {},
     "output_type": "display_data"
    },
    {
     "name": "stdout",
     "output_type": "stream",
     "text": [
      "confussion matrix model\n",
      "col_0  False  True \n",
      "row_0              \n",
      "True       3   1094\n",
      "\n",
      " confussion matrix edit\n",
      "col_0  False  True \n",
      "row_0              \n",
      "True     327    770\n",
      "/n/n Classification report model\n"
     ]
    },
    {
     "data": {
      "text/html": [
       "<pre style=\"white-space:pre;overflow-x:auto;line-height:normal;font-family:Menlo,'DejaVu Sans Mono',consolas,'Courier New',monospace\"><span style=\"color: #7fbfbf; text-decoration-color: #7fbfbf\">                    </span><span style=\"color: #800000; text-decoration-color: #800000\">WARNING </span> <span style=\"color: #800080; text-decoration-color: #800080\">/usr/local/lib/python3.9/dist-packages/sklearn/metrics/</span><span style=\"color: #ff00ff; text-decoration-color: #ff00ff\">_classification</span> <a href=\"file:///usr/lib/python3.9/warnings.py\" target=\"_blank\"><span style=\"color: #7f7f7f; text-decoration-color: #7f7f7f\">warnings.py</span></a><span style=\"color: #7f7f7f; text-decoration-color: #7f7f7f\">:</span><a href=\"file:///usr/lib/python3.9/warnings.py#109\" target=\"_blank\"><span style=\"color: #7f7f7f; text-decoration-color: #7f7f7f\">109</span></a>\n",
       "<span style=\"color: #7fbfbf; text-decoration-color: #7fbfbf\">                    </span>         <span style=\"color: #ff00ff; text-decoration-color: #ff00ff\">.py</span>:<span style=\"color: #008080; text-decoration-color: #008080; font-weight: bold\">1334</span>: UndefinedMetricWarning: Recall and F-score are ill-defined   <span style=\"color: #7f7f7f; text-decoration-color: #7f7f7f\">               </span>\n",
       "<span style=\"color: #7fbfbf; text-decoration-color: #7fbfbf\">                    </span>         and being set to <span style=\"color: #008080; text-decoration-color: #008080; font-weight: bold\">0.0</span> in labels with no true samples. Use               <span style=\"color: #7f7f7f; text-decoration-color: #7f7f7f\">               </span>\n",
       "<span style=\"color: #7fbfbf; text-decoration-color: #7fbfbf\">                    </span>         `zero_division` parameter to control this behavior.                    <span style=\"color: #7f7f7f; text-decoration-color: #7f7f7f\">               </span>\n",
       "<span style=\"color: #7fbfbf; text-decoration-color: #7fbfbf\">                    </span>           <span style=\"color: #800080; text-decoration-color: #800080; font-weight: bold\">_warn_prf</span><span style=\"font-weight: bold\">(</span>average, modifier, msg_start, <span style=\"color: #800080; text-decoration-color: #800080; font-weight: bold\">len</span><span style=\"font-weight: bold\">(</span>result<span style=\"font-weight: bold\">))</span>                 <span style=\"color: #7f7f7f; text-decoration-color: #7f7f7f\">               </span>\n",
       "<span style=\"color: #7fbfbf; text-decoration-color: #7fbfbf\">                    </span>                                                                                <span style=\"color: #7f7f7f; text-decoration-color: #7f7f7f\">               </span>\n",
       "</pre>\n"
      ],
      "text/plain": [
       "\u001b[2;36m                   \u001b[0m\u001b[2;36m \u001b[0m\u001b[31mWARNING \u001b[0m \u001b[35m/usr/local/lib/python3.9/dist-packages/sklearn/metrics/\u001b[0m\u001b[95m_classification\u001b[0m \u001b]8;id=418578;file:///usr/lib/python3.9/warnings.py\u001b\\\u001b[2mwarnings.py\u001b[0m\u001b]8;;\u001b\\\u001b[2m:\u001b[0m\u001b]8;id=367377;file:///usr/lib/python3.9/warnings.py#109\u001b\\\u001b[2m109\u001b[0m\u001b]8;;\u001b\\\n",
       "\u001b[2;36m                    \u001b[0m         \u001b[95m.py\u001b[0m:\u001b[1;36m1334\u001b[0m: UndefinedMetricWarning: Recall and F-score are ill-defined   \u001b[2m               \u001b[0m\n",
       "\u001b[2;36m                    \u001b[0m         and being set to \u001b[1;36m0.0\u001b[0m in labels with no true samples. Use               \u001b[2m               \u001b[0m\n",
       "\u001b[2;36m                    \u001b[0m         `zero_division` parameter to control this behavior.                    \u001b[2m               \u001b[0m\n",
       "\u001b[2;36m                    \u001b[0m           \u001b[1;35m_warn_prf\u001b[0m\u001b[1m(\u001b[0maverage, modifier, msg_start, \u001b[1;35mlen\u001b[0m\u001b[1m(\u001b[0mresult\u001b[1m)\u001b[0m\u001b[1m)\u001b[0m                 \u001b[2m               \u001b[0m\n",
       "\u001b[2;36m                    \u001b[0m                                                                                \u001b[2m               \u001b[0m\n"
      ]
     },
     "metadata": {},
     "output_type": "display_data"
    },
    {
     "data": {
      "text/html": [
       "<pre style=\"white-space:pre;overflow-x:auto;line-height:normal;font-family:Menlo,'DejaVu Sans Mono',consolas,'Courier New',monospace\"><span style=\"color: #7fbfbf; text-decoration-color: #7fbfbf\">                    </span><span style=\"color: #800000; text-decoration-color: #800000\">WARNING </span> <span style=\"color: #800080; text-decoration-color: #800080\">/usr/local/lib/python3.9/dist-packages/sklearn/metrics/</span><span style=\"color: #ff00ff; text-decoration-color: #ff00ff\">_classification</span> <a href=\"file:///usr/lib/python3.9/warnings.py\" target=\"_blank\"><span style=\"color: #7f7f7f; text-decoration-color: #7f7f7f\">warnings.py</span></a><span style=\"color: #7f7f7f; text-decoration-color: #7f7f7f\">:</span><a href=\"file:///usr/lib/python3.9/warnings.py#109\" target=\"_blank\"><span style=\"color: #7f7f7f; text-decoration-color: #7f7f7f\">109</span></a>\n",
       "<span style=\"color: #7fbfbf; text-decoration-color: #7fbfbf\">                    </span>         <span style=\"color: #ff00ff; text-decoration-color: #ff00ff\">.py</span>:<span style=\"color: #008080; text-decoration-color: #008080; font-weight: bold\">1334</span>: UndefinedMetricWarning: Recall and F-score are ill-defined   <span style=\"color: #7f7f7f; text-decoration-color: #7f7f7f\">               </span>\n",
       "<span style=\"color: #7fbfbf; text-decoration-color: #7fbfbf\">                    </span>         and being set to <span style=\"color: #008080; text-decoration-color: #008080; font-weight: bold\">0.0</span> in labels with no true samples. Use               <span style=\"color: #7f7f7f; text-decoration-color: #7f7f7f\">               </span>\n",
       "<span style=\"color: #7fbfbf; text-decoration-color: #7fbfbf\">                    </span>         `zero_division` parameter to control this behavior.                    <span style=\"color: #7f7f7f; text-decoration-color: #7f7f7f\">               </span>\n",
       "<span style=\"color: #7fbfbf; text-decoration-color: #7fbfbf\">                    </span>           <span style=\"color: #800080; text-decoration-color: #800080; font-weight: bold\">_warn_prf</span><span style=\"font-weight: bold\">(</span>average, modifier, msg_start, <span style=\"color: #800080; text-decoration-color: #800080; font-weight: bold\">len</span><span style=\"font-weight: bold\">(</span>result<span style=\"font-weight: bold\">))</span>                 <span style=\"color: #7f7f7f; text-decoration-color: #7f7f7f\">               </span>\n",
       "<span style=\"color: #7fbfbf; text-decoration-color: #7fbfbf\">                    </span>                                                                                <span style=\"color: #7f7f7f; text-decoration-color: #7f7f7f\">               </span>\n",
       "</pre>\n"
      ],
      "text/plain": [
       "\u001b[2;36m                   \u001b[0m\u001b[2;36m \u001b[0m\u001b[31mWARNING \u001b[0m \u001b[35m/usr/local/lib/python3.9/dist-packages/sklearn/metrics/\u001b[0m\u001b[95m_classification\u001b[0m \u001b]8;id=659269;file:///usr/lib/python3.9/warnings.py\u001b\\\u001b[2mwarnings.py\u001b[0m\u001b]8;;\u001b\\\u001b[2m:\u001b[0m\u001b]8;id=662481;file:///usr/lib/python3.9/warnings.py#109\u001b\\\u001b[2m109\u001b[0m\u001b]8;;\u001b\\\n",
       "\u001b[2;36m                    \u001b[0m         \u001b[95m.py\u001b[0m:\u001b[1;36m1334\u001b[0m: UndefinedMetricWarning: Recall and F-score are ill-defined   \u001b[2m               \u001b[0m\n",
       "\u001b[2;36m                    \u001b[0m         and being set to \u001b[1;36m0.0\u001b[0m in labels with no true samples. Use               \u001b[2m               \u001b[0m\n",
       "\u001b[2;36m                    \u001b[0m         `zero_division` parameter to control this behavior.                    \u001b[2m               \u001b[0m\n",
       "\u001b[2;36m                    \u001b[0m           \u001b[1;35m_warn_prf\u001b[0m\u001b[1m(\u001b[0maverage, modifier, msg_start, \u001b[1;35mlen\u001b[0m\u001b[1m(\u001b[0mresult\u001b[1m)\u001b[0m\u001b[1m)\u001b[0m                 \u001b[2m               \u001b[0m\n",
       "\u001b[2;36m                    \u001b[0m                                                                                \u001b[2m               \u001b[0m\n"
      ]
     },
     "metadata": {},
     "output_type": "display_data"
    },
    {
     "data": {
      "text/html": [
       "<pre style=\"white-space:pre;overflow-x:auto;line-height:normal;font-family:Menlo,'DejaVu Sans Mono',consolas,'Courier New',monospace\"><span style=\"color: #7fbfbf; text-decoration-color: #7fbfbf\">                    </span><span style=\"color: #800000; text-decoration-color: #800000\">WARNING </span> <span style=\"color: #800080; text-decoration-color: #800080\">/usr/local/lib/python3.9/dist-packages/sklearn/metrics/</span><span style=\"color: #ff00ff; text-decoration-color: #ff00ff\">_classification</span> <a href=\"file:///usr/lib/python3.9/warnings.py\" target=\"_blank\"><span style=\"color: #7f7f7f; text-decoration-color: #7f7f7f\">warnings.py</span></a><span style=\"color: #7f7f7f; text-decoration-color: #7f7f7f\">:</span><a href=\"file:///usr/lib/python3.9/warnings.py#109\" target=\"_blank\"><span style=\"color: #7f7f7f; text-decoration-color: #7f7f7f\">109</span></a>\n",
       "<span style=\"color: #7fbfbf; text-decoration-color: #7fbfbf\">                    </span>         <span style=\"color: #ff00ff; text-decoration-color: #ff00ff\">.py</span>:<span style=\"color: #008080; text-decoration-color: #008080; font-weight: bold\">1334</span>: UndefinedMetricWarning: Recall and F-score are ill-defined   <span style=\"color: #7f7f7f; text-decoration-color: #7f7f7f\">               </span>\n",
       "<span style=\"color: #7fbfbf; text-decoration-color: #7fbfbf\">                    </span>         and being set to <span style=\"color: #008080; text-decoration-color: #008080; font-weight: bold\">0.0</span> in labels with no true samples. Use               <span style=\"color: #7f7f7f; text-decoration-color: #7f7f7f\">               </span>\n",
       "<span style=\"color: #7fbfbf; text-decoration-color: #7fbfbf\">                    </span>         `zero_division` parameter to control this behavior.                    <span style=\"color: #7f7f7f; text-decoration-color: #7f7f7f\">               </span>\n",
       "<span style=\"color: #7fbfbf; text-decoration-color: #7fbfbf\">                    </span>           <span style=\"color: #800080; text-decoration-color: #800080; font-weight: bold\">_warn_prf</span><span style=\"font-weight: bold\">(</span>average, modifier, msg_start, <span style=\"color: #800080; text-decoration-color: #800080; font-weight: bold\">len</span><span style=\"font-weight: bold\">(</span>result<span style=\"font-weight: bold\">))</span>                 <span style=\"color: #7f7f7f; text-decoration-color: #7f7f7f\">               </span>\n",
       "<span style=\"color: #7fbfbf; text-decoration-color: #7fbfbf\">                    </span>                                                                                <span style=\"color: #7f7f7f; text-decoration-color: #7f7f7f\">               </span>\n",
       "</pre>\n"
      ],
      "text/plain": [
       "\u001b[2;36m                   \u001b[0m\u001b[2;36m \u001b[0m\u001b[31mWARNING \u001b[0m \u001b[35m/usr/local/lib/python3.9/dist-packages/sklearn/metrics/\u001b[0m\u001b[95m_classification\u001b[0m \u001b]8;id=930621;file:///usr/lib/python3.9/warnings.py\u001b\\\u001b[2mwarnings.py\u001b[0m\u001b]8;;\u001b\\\u001b[2m:\u001b[0m\u001b]8;id=873262;file:///usr/lib/python3.9/warnings.py#109\u001b\\\u001b[2m109\u001b[0m\u001b]8;;\u001b\\\n",
       "\u001b[2;36m                    \u001b[0m         \u001b[95m.py\u001b[0m:\u001b[1;36m1334\u001b[0m: UndefinedMetricWarning: Recall and F-score are ill-defined   \u001b[2m               \u001b[0m\n",
       "\u001b[2;36m                    \u001b[0m         and being set to \u001b[1;36m0.0\u001b[0m in labels with no true samples. Use               \u001b[2m               \u001b[0m\n",
       "\u001b[2;36m                    \u001b[0m         `zero_division` parameter to control this behavior.                    \u001b[2m               \u001b[0m\n",
       "\u001b[2;36m                    \u001b[0m           \u001b[1;35m_warn_prf\u001b[0m\u001b[1m(\u001b[0maverage, modifier, msg_start, \u001b[1;35mlen\u001b[0m\u001b[1m(\u001b[0mresult\u001b[1m)\u001b[0m\u001b[1m)\u001b[0m                 \u001b[2m               \u001b[0m\n",
       "\u001b[2;36m                    \u001b[0m                                                                                \u001b[2m               \u001b[0m\n"
      ]
     },
     "metadata": {},
     "output_type": "display_data"
    },
    {
     "name": "stdout",
     "output_type": "stream",
     "text": [
      "              precision    recall  f1-score   support\n",
      "\n",
      "       False       0.00      0.00      0.00         0\n",
      "        True       1.00      1.00      1.00      1097\n",
      "\n",
      "    accuracy                           1.00      1097\n",
      "   macro avg       0.50      0.50      0.50      1097\n",
      "weighted avg       1.00      1.00      1.00      1097\n",
      "\n",
      "/n Classification report edit\n"
     ]
    },
    {
     "data": {
      "text/html": [
       "<pre style=\"white-space:pre;overflow-x:auto;line-height:normal;font-family:Menlo,'DejaVu Sans Mono',consolas,'Courier New',monospace\"><span style=\"color: #7fbfbf; text-decoration-color: #7fbfbf\">                    </span><span style=\"color: #800000; text-decoration-color: #800000\">WARNING </span> <span style=\"color: #800080; text-decoration-color: #800080\">/usr/local/lib/python3.9/dist-packages/sklearn/metrics/</span><span style=\"color: #ff00ff; text-decoration-color: #ff00ff\">_classification</span> <a href=\"file:///usr/lib/python3.9/warnings.py\" target=\"_blank\"><span style=\"color: #7f7f7f; text-decoration-color: #7f7f7f\">warnings.py</span></a><span style=\"color: #7f7f7f; text-decoration-color: #7f7f7f\">:</span><a href=\"file:///usr/lib/python3.9/warnings.py#109\" target=\"_blank\"><span style=\"color: #7f7f7f; text-decoration-color: #7f7f7f\">109</span></a>\n",
       "<span style=\"color: #7fbfbf; text-decoration-color: #7fbfbf\">                    </span>         <span style=\"color: #ff00ff; text-decoration-color: #ff00ff\">.py</span>:<span style=\"color: #008080; text-decoration-color: #008080; font-weight: bold\">1334</span>: UndefinedMetricWarning: Recall and F-score are ill-defined   <span style=\"color: #7f7f7f; text-decoration-color: #7f7f7f\">               </span>\n",
       "<span style=\"color: #7fbfbf; text-decoration-color: #7fbfbf\">                    </span>         and being set to <span style=\"color: #008080; text-decoration-color: #008080; font-weight: bold\">0.0</span> in labels with no true samples. Use               <span style=\"color: #7f7f7f; text-decoration-color: #7f7f7f\">               </span>\n",
       "<span style=\"color: #7fbfbf; text-decoration-color: #7fbfbf\">                    </span>         `zero_division` parameter to control this behavior.                    <span style=\"color: #7f7f7f; text-decoration-color: #7f7f7f\">               </span>\n",
       "<span style=\"color: #7fbfbf; text-decoration-color: #7fbfbf\">                    </span>           <span style=\"color: #800080; text-decoration-color: #800080; font-weight: bold\">_warn_prf</span><span style=\"font-weight: bold\">(</span>average, modifier, msg_start, <span style=\"color: #800080; text-decoration-color: #800080; font-weight: bold\">len</span><span style=\"font-weight: bold\">(</span>result<span style=\"font-weight: bold\">))</span>                 <span style=\"color: #7f7f7f; text-decoration-color: #7f7f7f\">               </span>\n",
       "<span style=\"color: #7fbfbf; text-decoration-color: #7fbfbf\">                    </span>                                                                                <span style=\"color: #7f7f7f; text-decoration-color: #7f7f7f\">               </span>\n",
       "</pre>\n"
      ],
      "text/plain": [
       "\u001b[2;36m                   \u001b[0m\u001b[2;36m \u001b[0m\u001b[31mWARNING \u001b[0m \u001b[35m/usr/local/lib/python3.9/dist-packages/sklearn/metrics/\u001b[0m\u001b[95m_classification\u001b[0m \u001b]8;id=776504;file:///usr/lib/python3.9/warnings.py\u001b\\\u001b[2mwarnings.py\u001b[0m\u001b]8;;\u001b\\\u001b[2m:\u001b[0m\u001b]8;id=60274;file:///usr/lib/python3.9/warnings.py#109\u001b\\\u001b[2m109\u001b[0m\u001b]8;;\u001b\\\n",
       "\u001b[2;36m                    \u001b[0m         \u001b[95m.py\u001b[0m:\u001b[1;36m1334\u001b[0m: UndefinedMetricWarning: Recall and F-score are ill-defined   \u001b[2m               \u001b[0m\n",
       "\u001b[2;36m                    \u001b[0m         and being set to \u001b[1;36m0.0\u001b[0m in labels with no true samples. Use               \u001b[2m               \u001b[0m\n",
       "\u001b[2;36m                    \u001b[0m         `zero_division` parameter to control this behavior.                    \u001b[2m               \u001b[0m\n",
       "\u001b[2;36m                    \u001b[0m           \u001b[1;35m_warn_prf\u001b[0m\u001b[1m(\u001b[0maverage, modifier, msg_start, \u001b[1;35mlen\u001b[0m\u001b[1m(\u001b[0mresult\u001b[1m)\u001b[0m\u001b[1m)\u001b[0m                 \u001b[2m               \u001b[0m\n",
       "\u001b[2;36m                    \u001b[0m                                                                                \u001b[2m               \u001b[0m\n"
      ]
     },
     "metadata": {},
     "output_type": "display_data"
    },
    {
     "data": {
      "text/html": [
       "<pre style=\"white-space:pre;overflow-x:auto;line-height:normal;font-family:Menlo,'DejaVu Sans Mono',consolas,'Courier New',monospace\"><span style=\"color: #7fbfbf; text-decoration-color: #7fbfbf\">                    </span><span style=\"color: #800000; text-decoration-color: #800000\">WARNING </span> <span style=\"color: #800080; text-decoration-color: #800080\">/usr/local/lib/python3.9/dist-packages/sklearn/metrics/</span><span style=\"color: #ff00ff; text-decoration-color: #ff00ff\">_classification</span> <a href=\"file:///usr/lib/python3.9/warnings.py\" target=\"_blank\"><span style=\"color: #7f7f7f; text-decoration-color: #7f7f7f\">warnings.py</span></a><span style=\"color: #7f7f7f; text-decoration-color: #7f7f7f\">:</span><a href=\"file:///usr/lib/python3.9/warnings.py#109\" target=\"_blank\"><span style=\"color: #7f7f7f; text-decoration-color: #7f7f7f\">109</span></a>\n",
       "<span style=\"color: #7fbfbf; text-decoration-color: #7fbfbf\">                    </span>         <span style=\"color: #ff00ff; text-decoration-color: #ff00ff\">.py</span>:<span style=\"color: #008080; text-decoration-color: #008080; font-weight: bold\">1334</span>: UndefinedMetricWarning: Recall and F-score are ill-defined   <span style=\"color: #7f7f7f; text-decoration-color: #7f7f7f\">               </span>\n",
       "<span style=\"color: #7fbfbf; text-decoration-color: #7fbfbf\">                    </span>         and being set to <span style=\"color: #008080; text-decoration-color: #008080; font-weight: bold\">0.0</span> in labels with no true samples. Use               <span style=\"color: #7f7f7f; text-decoration-color: #7f7f7f\">               </span>\n",
       "<span style=\"color: #7fbfbf; text-decoration-color: #7fbfbf\">                    </span>         `zero_division` parameter to control this behavior.                    <span style=\"color: #7f7f7f; text-decoration-color: #7f7f7f\">               </span>\n",
       "<span style=\"color: #7fbfbf; text-decoration-color: #7fbfbf\">                    </span>           <span style=\"color: #800080; text-decoration-color: #800080; font-weight: bold\">_warn_prf</span><span style=\"font-weight: bold\">(</span>average, modifier, msg_start, <span style=\"color: #800080; text-decoration-color: #800080; font-weight: bold\">len</span><span style=\"font-weight: bold\">(</span>result<span style=\"font-weight: bold\">))</span>                 <span style=\"color: #7f7f7f; text-decoration-color: #7f7f7f\">               </span>\n",
       "<span style=\"color: #7fbfbf; text-decoration-color: #7fbfbf\">                    </span>                                                                                <span style=\"color: #7f7f7f; text-decoration-color: #7f7f7f\">               </span>\n",
       "</pre>\n"
      ],
      "text/plain": [
       "\u001b[2;36m                   \u001b[0m\u001b[2;36m \u001b[0m\u001b[31mWARNING \u001b[0m \u001b[35m/usr/local/lib/python3.9/dist-packages/sklearn/metrics/\u001b[0m\u001b[95m_classification\u001b[0m \u001b]8;id=40271;file:///usr/lib/python3.9/warnings.py\u001b\\\u001b[2mwarnings.py\u001b[0m\u001b]8;;\u001b\\\u001b[2m:\u001b[0m\u001b]8;id=350586;file:///usr/lib/python3.9/warnings.py#109\u001b\\\u001b[2m109\u001b[0m\u001b]8;;\u001b\\\n",
       "\u001b[2;36m                    \u001b[0m         \u001b[95m.py\u001b[0m:\u001b[1;36m1334\u001b[0m: UndefinedMetricWarning: Recall and F-score are ill-defined   \u001b[2m               \u001b[0m\n",
       "\u001b[2;36m                    \u001b[0m         and being set to \u001b[1;36m0.0\u001b[0m in labels with no true samples. Use               \u001b[2m               \u001b[0m\n",
       "\u001b[2;36m                    \u001b[0m         `zero_division` parameter to control this behavior.                    \u001b[2m               \u001b[0m\n",
       "\u001b[2;36m                    \u001b[0m           \u001b[1;35m_warn_prf\u001b[0m\u001b[1m(\u001b[0maverage, modifier, msg_start, \u001b[1;35mlen\u001b[0m\u001b[1m(\u001b[0mresult\u001b[1m)\u001b[0m\u001b[1m)\u001b[0m                 \u001b[2m               \u001b[0m\n",
       "\u001b[2;36m                    \u001b[0m                                                                                \u001b[2m               \u001b[0m\n"
      ]
     },
     "metadata": {},
     "output_type": "display_data"
    },
    {
     "data": {
      "text/html": [
       "<pre style=\"white-space:pre;overflow-x:auto;line-height:normal;font-family:Menlo,'DejaVu Sans Mono',consolas,'Courier New',monospace\"><span style=\"color: #7fbfbf; text-decoration-color: #7fbfbf\">                    </span><span style=\"color: #800000; text-decoration-color: #800000\">WARNING </span> <span style=\"color: #800080; text-decoration-color: #800080\">/usr/local/lib/python3.9/dist-packages/sklearn/metrics/</span><span style=\"color: #ff00ff; text-decoration-color: #ff00ff\">_classification</span> <a href=\"file:///usr/lib/python3.9/warnings.py\" target=\"_blank\"><span style=\"color: #7f7f7f; text-decoration-color: #7f7f7f\">warnings.py</span></a><span style=\"color: #7f7f7f; text-decoration-color: #7f7f7f\">:</span><a href=\"file:///usr/lib/python3.9/warnings.py#109\" target=\"_blank\"><span style=\"color: #7f7f7f; text-decoration-color: #7f7f7f\">109</span></a>\n",
       "<span style=\"color: #7fbfbf; text-decoration-color: #7fbfbf\">                    </span>         <span style=\"color: #ff00ff; text-decoration-color: #ff00ff\">.py</span>:<span style=\"color: #008080; text-decoration-color: #008080; font-weight: bold\">1334</span>: UndefinedMetricWarning: Recall and F-score are ill-defined   <span style=\"color: #7f7f7f; text-decoration-color: #7f7f7f\">               </span>\n",
       "<span style=\"color: #7fbfbf; text-decoration-color: #7fbfbf\">                    </span>         and being set to <span style=\"color: #008080; text-decoration-color: #008080; font-weight: bold\">0.0</span> in labels with no true samples. Use               <span style=\"color: #7f7f7f; text-decoration-color: #7f7f7f\">               </span>\n",
       "<span style=\"color: #7fbfbf; text-decoration-color: #7fbfbf\">                    </span>         `zero_division` parameter to control this behavior.                    <span style=\"color: #7f7f7f; text-decoration-color: #7f7f7f\">               </span>\n",
       "<span style=\"color: #7fbfbf; text-decoration-color: #7fbfbf\">                    </span>           <span style=\"color: #800080; text-decoration-color: #800080; font-weight: bold\">_warn_prf</span><span style=\"font-weight: bold\">(</span>average, modifier, msg_start, <span style=\"color: #800080; text-decoration-color: #800080; font-weight: bold\">len</span><span style=\"font-weight: bold\">(</span>result<span style=\"font-weight: bold\">))</span>                 <span style=\"color: #7f7f7f; text-decoration-color: #7f7f7f\">               </span>\n",
       "<span style=\"color: #7fbfbf; text-decoration-color: #7fbfbf\">                    </span>                                                                                <span style=\"color: #7f7f7f; text-decoration-color: #7f7f7f\">               </span>\n",
       "</pre>\n"
      ],
      "text/plain": [
       "\u001b[2;36m                   \u001b[0m\u001b[2;36m \u001b[0m\u001b[31mWARNING \u001b[0m \u001b[35m/usr/local/lib/python3.9/dist-packages/sklearn/metrics/\u001b[0m\u001b[95m_classification\u001b[0m \u001b]8;id=343341;file:///usr/lib/python3.9/warnings.py\u001b\\\u001b[2mwarnings.py\u001b[0m\u001b]8;;\u001b\\\u001b[2m:\u001b[0m\u001b]8;id=563181;file:///usr/lib/python3.9/warnings.py#109\u001b\\\u001b[2m109\u001b[0m\u001b]8;;\u001b\\\n",
       "\u001b[2;36m                    \u001b[0m         \u001b[95m.py\u001b[0m:\u001b[1;36m1334\u001b[0m: UndefinedMetricWarning: Recall and F-score are ill-defined   \u001b[2m               \u001b[0m\n",
       "\u001b[2;36m                    \u001b[0m         and being set to \u001b[1;36m0.0\u001b[0m in labels with no true samples. Use               \u001b[2m               \u001b[0m\n",
       "\u001b[2;36m                    \u001b[0m         `zero_division` parameter to control this behavior.                    \u001b[2m               \u001b[0m\n",
       "\u001b[2;36m                    \u001b[0m           \u001b[1;35m_warn_prf\u001b[0m\u001b[1m(\u001b[0maverage, modifier, msg_start, \u001b[1;35mlen\u001b[0m\u001b[1m(\u001b[0mresult\u001b[1m)\u001b[0m\u001b[1m)\u001b[0m                 \u001b[2m               \u001b[0m\n",
       "\u001b[2;36m                    \u001b[0m                                                                                \u001b[2m               \u001b[0m\n"
      ]
     },
     "metadata": {},
     "output_type": "display_data"
    },
    {
     "name": "stdout",
     "output_type": "stream",
     "text": [
      "              precision    recall  f1-score   support\n",
      "\n",
      "       False       0.00      0.00      0.00         0\n",
      "        True       1.00      0.70      0.82      1097\n",
      "\n",
      "    accuracy                           0.70      1097\n",
      "   macro avg       0.50      0.35      0.41      1097\n",
      "weighted avg       1.00      0.70      0.82      1097\n",
      "\n"
     ]
    },
    {
     "data": {
      "text/html": [
       "<pre style=\"white-space:pre;overflow-x:auto;line-height:normal;font-family:Menlo,'DejaVu Sans Mono',consolas,'Courier New',monospace\"></pre>\n"
      ],
      "text/plain": []
     },
     "metadata": {},
     "output_type": "display_data"
    },
    {
     "data": {
      "text/html": [
       "<div>\n",
       "<style scoped>\n",
       "    .dataframe tbody tr th:only-of-type {\n",
       "        vertical-align: middle;\n",
       "    }\n",
       "\n",
       "    .dataframe tbody tr th {\n",
       "        vertical-align: top;\n",
       "    }\n",
       "\n",
       "    .dataframe thead th {\n",
       "        text-align: right;\n",
       "    }\n",
       "</style>\n",
       "<table border=\"1\" class=\"dataframe\">\n",
       "  <thead>\n",
       "    <tr style=\"text-align: right;\">\n",
       "      <th></th>\n",
       "      <th>name_1</th>\n",
       "      <th>name_2</th>\n",
       "      <th>prediction_model</th>\n",
       "      <th>prediction_edit</th>\n",
       "      <th>target</th>\n",
       "      <th>match_model</th>\n",
       "      <th>match_edit</th>\n",
       "    </tr>\n",
       "  </thead>\n",
       "  <tbody>\n",
       "    <tr>\n",
       "      <th>0</th>\n",
       "      <td>linksys etherfast 8 port 10 100 switch ezxs88w</td>\n",
       "      <td>linksys etherfast ezxs88w ethernet switch ezxs88w</td>\n",
       "      <td>[0.99999994]</td>\n",
       "      <td>0.88</td>\n",
       "      <td>True</td>\n",
       "      <td>True</td>\n",
       "      <td>True</td>\n",
       "    </tr>\n",
       "    <tr>\n",
       "      <th>1</th>\n",
       "      <td>linksys etherfast10 100 5 port auto sensing sw...</td>\n",
       "      <td>linksys etherfast ezxs55w ethernet switch</td>\n",
       "      <td>[1.0]</td>\n",
       "      <td>0.71</td>\n",
       "      <td>True</td>\n",
       "      <td>True</td>\n",
       "      <td>False</td>\n",
       "    </tr>\n",
       "    <tr>\n",
       "      <th>2</th>\n",
       "      <td>netgear prosafe 5 port 10 100 desktop switch f...</td>\n",
       "      <td>netgear prosafe fs105 ethernet switch fs105na</td>\n",
       "      <td>[1.0]</td>\n",
       "      <td>0.77</td>\n",
       "      <td>True</td>\n",
       "      <td>True</td>\n",
       "      <td>True</td>\n",
       "    </tr>\n",
       "    <tr>\n",
       "      <th>3</th>\n",
       "      <td>belkin f3h982 10 pro series high integrity 10 ...</td>\n",
       "      <td>belkin pro series high integrity vga svga moni...</td>\n",
       "      <td>[1.0]</td>\n",
       "      <td>0.89</td>\n",
       "      <td>True</td>\n",
       "      <td>True</td>\n",
       "      <td>True</td>\n",
       "    </tr>\n",
       "    <tr>\n",
       "      <th>4</th>\n",
       "      <td>netgear prosafe 16 port 10 100 rackmount switc...</td>\n",
       "      <td>netgear prosafe jfs516 ethernet switch</td>\n",
       "      <td>[1.0]</td>\n",
       "      <td>0.73</td>\n",
       "      <td>True</td>\n",
       "      <td>True</td>\n",
       "      <td>False</td>\n",
       "    </tr>\n",
       "    <tr>\n",
       "      <th>...</th>\n",
       "      <td>...</td>\n",
       "      <td>...</td>\n",
       "      <td>...</td>\n",
       "      <td>...</td>\n",
       "      <td>...</td>\n",
       "      <td>...</td>\n",
       "      <td>...</td>\n",
       "    </tr>\n",
       "    <tr>\n",
       "      <th>1092</th>\n",
       "      <td>audiovox xpressr xm satellite radio receiver x...</td>\n",
       "      <td>audiovox xpress r xm radio receiver with vehic...</td>\n",
       "      <td>[1.0]</td>\n",
       "      <td>0.80</td>\n",
       "      <td>True</td>\n",
       "      <td>True</td>\n",
       "      <td>True</td>\n",
       "    </tr>\n",
       "    <tr>\n",
       "      <th>1093</th>\n",
       "      <td>sony lcs twa r red soft leather carrying case ...</td>\n",
       "      <td>sony lcs twa r cyber shot camera case</td>\n",
       "      <td>[0.97329795]</td>\n",
       "      <td>0.68</td>\n",
       "      <td>True</td>\n",
       "      <td>True</td>\n",
       "      <td>False</td>\n",
       "    </tr>\n",
       "    <tr>\n",
       "      <th>1094</th>\n",
       "      <td>sony lcs twa b black soft leather carrying cas...</td>\n",
       "      <td>sony lcs twa b cyber shot camera case lcstwa b</td>\n",
       "      <td>[0.9988861]</td>\n",
       "      <td>0.71</td>\n",
       "      <td>True</td>\n",
       "      <td>True</td>\n",
       "      <td>False</td>\n",
       "    </tr>\n",
       "    <tr>\n",
       "      <th>1095</th>\n",
       "      <td>sony white cybershot t series digital camera j...</td>\n",
       "      <td>sony lcj thc b jacket case with stylus lcj thc w</td>\n",
       "      <td>[0.9999943]</td>\n",
       "      <td>0.82</td>\n",
       "      <td>True</td>\n",
       "      <td>True</td>\n",
       "      <td>True</td>\n",
       "    </tr>\n",
       "    <tr>\n",
       "      <th>1096</th>\n",
       "      <td>sony lcs csj black soft carrying case lcscsj</td>\n",
       "      <td>sony lcs csj soft camera case lcscsj</td>\n",
       "      <td>[0.9884636]</td>\n",
       "      <td>0.89</td>\n",
       "      <td>True</td>\n",
       "      <td>True</td>\n",
       "      <td>True</td>\n",
       "    </tr>\n",
       "  </tbody>\n",
       "</table>\n",
       "<p>1097 rows × 7 columns</p>\n",
       "</div>"
      ],
      "text/plain": [
       "\n",
       "                                                 name_1  \\\n",
       "\u001b[1;36m0\u001b[0m        linksys etherfast \u001b[1;36m8\u001b[0m port \u001b[1;36m10\u001b[0m \u001b[1;36m100\u001b[0m switch ezxs88w   \n",
       "\u001b[1;36m1\u001b[0m     linksys etherfast10 \u001b[1;36m100\u001b[0m \u001b[1;36m5\u001b[0m port auto sensing sw\u001b[33m...\u001b[0m   \n",
       "\u001b[1;36m2\u001b[0m     netgear prosafe \u001b[1;36m5\u001b[0m port \u001b[1;36m10\u001b[0m \u001b[1;36m100\u001b[0m desktop switch f\u001b[33m...\u001b[0m   \n",
       "\u001b[1;36m3\u001b[0m     belkin f3h982 \u001b[1;36m10\u001b[0m pro series high integrity \u001b[1;36m10\u001b[0m \u001b[33m...\u001b[0m   \n",
       "\u001b[1;36m4\u001b[0m     netgear prosafe \u001b[1;36m16\u001b[0m port \u001b[1;36m10\u001b[0m \u001b[1;36m100\u001b[0m rackmount switc\u001b[33m...\u001b[0m   \n",
       "\u001b[33m...\u001b[0m                                                 \u001b[33m...\u001b[0m   \n",
       "\u001b[1;36m1092\u001b[0m  audiovox xpressr xm satellite radio receiver x\u001b[33m...\u001b[0m   \n",
       "\u001b[1;36m1093\u001b[0m  sony lcs twa r red soft leather carrying case \u001b[33m...\u001b[0m   \n",
       "\u001b[1;36m1094\u001b[0m  sony lcs twa b black soft leather carrying cas\u001b[33m...\u001b[0m   \n",
       "\u001b[1;36m1095\u001b[0m  sony white cybershot t series digital camera j\u001b[33m...\u001b[0m   \n",
       "\u001b[1;36m1096\u001b[0m       sony lcs csj black soft carrying case lcscsj   \n",
       "\n",
       "                                                 name_2 prediction_model  \\\n",
       "\u001b[1;36m0\u001b[0m     linksys etherfast ezxs88w ethernet switch ezxs88w     \u001b[1m[\u001b[0m\u001b[1;36m0.99999994\u001b[0m\u001b[1m]\u001b[0m   \n",
       "\u001b[1;36m1\u001b[0m             linksys etherfast ezxs55w ethernet switch            \u001b[1m[\u001b[0m\u001b[1;36m1.0\u001b[0m\u001b[1m]\u001b[0m   \n",
       "\u001b[1;36m2\u001b[0m         netgear prosafe fs105 ethernet switch fs105na            \u001b[1m[\u001b[0m\u001b[1;36m1.0\u001b[0m\u001b[1m]\u001b[0m   \n",
       "\u001b[1;36m3\u001b[0m     belkin pro series high integrity vga svga moni\u001b[33m...\u001b[0m            \u001b[1m[\u001b[0m\u001b[1;36m1.0\u001b[0m\u001b[1m]\u001b[0m   \n",
       "\u001b[1;36m4\u001b[0m                netgear prosafe jfs516 ethernet switch            \u001b[1m[\u001b[0m\u001b[1;36m1.0\u001b[0m\u001b[1m]\u001b[0m   \n",
       "\u001b[33m...\u001b[0m                                                 \u001b[33m...\u001b[0m              \u001b[33m...\u001b[0m   \n",
       "\u001b[1;36m1092\u001b[0m  audiovox xpress r xm radio receiver with vehic\u001b[33m...\u001b[0m            \u001b[1m[\u001b[0m\u001b[1;36m1.0\u001b[0m\u001b[1m]\u001b[0m   \n",
       "\u001b[1;36m1093\u001b[0m              sony lcs twa r cyber shot camera case     \u001b[1m[\u001b[0m\u001b[1;36m0.97329795\u001b[0m\u001b[1m]\u001b[0m   \n",
       "\u001b[1;36m1094\u001b[0m     sony lcs twa b cyber shot camera case lcstwa b      \u001b[1m[\u001b[0m\u001b[1;36m0.9988861\u001b[0m\u001b[1m]\u001b[0m   \n",
       "\u001b[1;36m1095\u001b[0m   sony lcj thc b jacket case with stylus lcj thc w      \u001b[1m[\u001b[0m\u001b[1;36m0.9999943\u001b[0m\u001b[1m]\u001b[0m   \n",
       "\u001b[1;36m1096\u001b[0m               sony lcs csj soft camera case lcscsj      \u001b[1m[\u001b[0m\u001b[1;36m0.9884636\u001b[0m\u001b[1m]\u001b[0m   \n",
       "\n",
       "      prediction_edit  target  match_model  match_edit  \n",
       "\u001b[1;36m0\u001b[0m                \u001b[1;36m0.88\u001b[0m    \u001b[3;92mTrue\u001b[0m         \u001b[3;92mTrue\u001b[0m        \u001b[3;92mTrue\u001b[0m  \n",
       "\u001b[1;36m1\u001b[0m                \u001b[1;36m0.71\u001b[0m    \u001b[3;92mTrue\u001b[0m         \u001b[3;92mTrue\u001b[0m       \u001b[3;91mFalse\u001b[0m  \n",
       "\u001b[1;36m2\u001b[0m                \u001b[1;36m0.77\u001b[0m    \u001b[3;92mTrue\u001b[0m         \u001b[3;92mTrue\u001b[0m        \u001b[3;92mTrue\u001b[0m  \n",
       "\u001b[1;36m3\u001b[0m                \u001b[1;36m0.89\u001b[0m    \u001b[3;92mTrue\u001b[0m         \u001b[3;92mTrue\u001b[0m        \u001b[3;92mTrue\u001b[0m  \n",
       "\u001b[1;36m4\u001b[0m                \u001b[1;36m0.73\u001b[0m    \u001b[3;92mTrue\u001b[0m         \u001b[3;92mTrue\u001b[0m       \u001b[3;91mFalse\u001b[0m  \n",
       "\u001b[33m...\u001b[0m               \u001b[33m...\u001b[0m     \u001b[33m...\u001b[0m          \u001b[33m...\u001b[0m         \u001b[33m...\u001b[0m  \n",
       "\u001b[1;36m1092\u001b[0m             \u001b[1;36m0.80\u001b[0m    \u001b[3;92mTrue\u001b[0m         \u001b[3;92mTrue\u001b[0m        \u001b[3;92mTrue\u001b[0m  \n",
       "\u001b[1;36m1093\u001b[0m             \u001b[1;36m0.68\u001b[0m    \u001b[3;92mTrue\u001b[0m         \u001b[3;92mTrue\u001b[0m       \u001b[3;91mFalse\u001b[0m  \n",
       "\u001b[1;36m1094\u001b[0m             \u001b[1;36m0.71\u001b[0m    \u001b[3;92mTrue\u001b[0m         \u001b[3;92mTrue\u001b[0m       \u001b[3;91mFalse\u001b[0m  \n",
       "\u001b[1;36m1095\u001b[0m             \u001b[1;36m0.82\u001b[0m    \u001b[3;92mTrue\u001b[0m         \u001b[3;92mTrue\u001b[0m        \u001b[3;92mTrue\u001b[0m  \n",
       "\u001b[1;36m1096\u001b[0m             \u001b[1;36m0.89\u001b[0m    \u001b[3;92mTrue\u001b[0m         \u001b[3;92mTrue\u001b[0m        \u001b[3;92mTrue\u001b[0m  \n",
       "\n",
       "\u001b[1m[\u001b[0m\u001b[1;36m1097\u001b[0m rows x \u001b[1;36m7\u001b[0m columns\u001b[1m]\u001b[0m"
      ]
     },
     "execution_count": 245,
     "metadata": {},
     "output_type": "execute_result"
    }
   ],
   "source": [
    "generate_comparison_model_vs_edit(data_prod_abt_pairs, data_prod_abt_target, .5)"
   ]
  },
  {
   "cell_type": "markdown",
   "id": "63b0df6c-9eec-495c-b7b5-159bbbc062d2",
   "metadata": {},
   "source": [
    "# Affiliations dataset"
   ]
  },
  {
   "cell_type": "code",
   "execution_count": 246,
   "id": "1a7ffed7-3328-42c4-92df-f38929911229",
   "metadata": {},
   "outputs": [],
   "source": [
    "raw_names = pd.read_csv('../../data/01_raw/affiliations/affiliationstrings_ids.csv')\n",
    "mapping = pd.read_csv('../../data/01_raw/affiliations/affiliationstrings_mapping.csv').astype('int')"
   ]
  },
  {
   "cell_type": "code",
   "execution_count": 247,
   "id": "b7eedb46-0ba6-4dbc-a217-db5288b5ff41",
   "metadata": {},
   "outputs": [],
   "source": [
    "mapping.columns = ['id1', 'id2']\n",
    "raw_names.columns = ['id', 'name']"
   ]
  },
  {
   "cell_type": "code",
   "execution_count": 248,
   "id": "d017af08-f895-420c-8b08-2669ef46cb4d",
   "metadata": {},
   "outputs": [],
   "source": [
    "data_affiliations = mapping.merge(raw_names, left_on='id1', right_on='id').merge(raw_names, left_on='id2', right_on='id')"
   ]
  },
  {
   "cell_type": "code",
   "execution_count": 249,
   "id": "306ccb97-6f7f-41cd-a24b-44b31f7fc4be",
   "metadata": {},
   "outputs": [],
   "source": [
    "data_affiliations['name_x'] = data_affiliations['name_x'].apply(lambda x: normalize_characters(x))\n",
    "data_affiliations['name_y'] = data_affiliations['name_y'].apply(lambda x: normalize_characters(x))\n",
    "data_affiliations['target'] = 1"
   ]
  },
  {
   "cell_type": "code",
   "execution_count": 250,
   "id": "fb38940c-863c-48f9-9563-d59be906214f",
   "metadata": {},
   "outputs": [],
   "source": [
    "data_affiliations = data_affiliations.drop_duplicates(subset=['name_x', 'name_y'])"
   ]
  },
  {
   "cell_type": "code",
   "execution_count": 251,
   "id": "51db0f57-78a9-422f-87a6-978b0510a9e6",
   "metadata": {},
   "outputs": [],
   "source": [
    "data_affiliations_pairs = data_affiliations[['name_x', 'name_y']].values\n",
    "data_affiliations_target = data_affiliations['target'].values"
   ]
  },
  {
   "cell_type": "code",
   "execution_count": 252,
   "id": "1d36c674-fa9e-440b-8614-32ca8561318d",
   "metadata": {},
   "outputs": [
    {
     "name": "stdout",
     "output_type": "stream",
     "text": [
      "145/863 [====>.........................] - ETA: 14s"
     ]
    },
    {
     "data": {
      "text/html": [
       "<pre style=\"white-space:pre;overflow-x:auto;line-height:normal;font-family:Menlo,'DejaVu Sans Mono',consolas,'Courier New',monospace\"><span style=\"color: #800000; text-decoration-color: #800000\">╭─────────────────────────────── </span><span style=\"color: #800000; text-decoration-color: #800000; font-weight: bold\">Traceback </span><span style=\"color: #bf7f7f; text-decoration-color: #bf7f7f; font-weight: bold\">(most recent call last)</span><span style=\"color: #800000; text-decoration-color: #800000\"> ────────────────────────────────╮</span>\n",
       "<span style=\"color: #800000; text-decoration-color: #800000\">│</span> in <span style=\"color: #00ff00; text-decoration-color: #00ff00\">&lt;cell line: 4&gt;</span>:<span style=\"color: #0000ff; text-decoration-color: #0000ff\">4</span>                                                                              <span style=\"color: #800000; text-decoration-color: #800000\">│</span>\n",
       "<span style=\"color: #800000; text-decoration-color: #800000\">│</span>                                                                                                  <span style=\"color: #800000; text-decoration-color: #800000\">│</span>\n",
       "<span style=\"color: #800000; text-decoration-color: #800000\">│</span>   <span style=\"color: #7f7f7f; text-decoration-color: #7f7f7f\">1 </span>X_encoded_1 = encode_sparsed_list(data_affiliations_pairs[:, <span style=\"color: #0000ff; text-decoration-color: #0000ff\">0</span>],char_to_index_dict=char_     <span style=\"color: #800000; text-decoration-color: #800000\">│</span>\n",
       "<span style=\"color: #800000; text-decoration-color: #800000\">│</span>   <span style=\"color: #7f7f7f; text-decoration-color: #7f7f7f\">2 </span>X_encoded_2 = encode_sparsed_list(data_affiliations_pairs[:, <span style=\"color: #0000ff; text-decoration-color: #0000ff\">1</span>],char_to_index_dict=char_     <span style=\"color: #800000; text-decoration-color: #800000\">│</span>\n",
       "<span style=\"color: #800000; text-decoration-color: #800000\">│</span>   <span style=\"color: #7f7f7f; text-decoration-color: #7f7f7f\">3 </span>                                                                                             <span style=\"color: #800000; text-decoration-color: #800000\">│</span>\n",
       "<span style=\"color: #800000; text-decoration-color: #800000\">│</span> <span style=\"color: #800000; text-decoration-color: #800000\">❱ </span>4 prediction = poi_c2v.model.predict((X_encoded_1, X_encoded_2))                               <span style=\"color: #800000; text-decoration-color: #800000\">│</span>\n",
       "<span style=\"color: #800000; text-decoration-color: #800000\">│</span>   <span style=\"color: #7f7f7f; text-decoration-color: #7f7f7f\">5 </span>                                                                                             <span style=\"color: #800000; text-decoration-color: #800000\">│</span>\n",
       "<span style=\"color: #800000; text-decoration-color: #800000\">│</span>                                                                                                  <span style=\"color: #800000; text-decoration-color: #800000\">│</span>\n",
       "<span style=\"color: #800000; text-decoration-color: #800000\">│</span> <span style=\"color: #bfbf7f; text-decoration-color: #bfbf7f\">/usr/local/lib/python3.9/dist-packages/keras/utils/</span><span style=\"color: #808000; text-decoration-color: #808000; font-weight: bold\">traceback_utils.py</span>:<span style=\"color: #0000ff; text-decoration-color: #0000ff\">65</span> in <span style=\"color: #00ff00; text-decoration-color: #00ff00\">error_handler</span>        <span style=\"color: #800000; text-decoration-color: #800000\">│</span>\n",
       "<span style=\"color: #800000; text-decoration-color: #800000\">│</span>                                                                                                  <span style=\"color: #800000; text-decoration-color: #800000\">│</span>\n",
       "<span style=\"color: #800000; text-decoration-color: #800000\">│</span>   <span style=\"color: #7f7f7f; text-decoration-color: #7f7f7f\"> 62 </span><span style=\"color: #7f7f7f; text-decoration-color: #7f7f7f\">│   │   </span>                                                                                   <span style=\"color: #800000; text-decoration-color: #800000\">│</span>\n",
       "<span style=\"color: #800000; text-decoration-color: #800000\">│</span>   <span style=\"color: #7f7f7f; text-decoration-color: #7f7f7f\"> 63 </span><span style=\"color: #7f7f7f; text-decoration-color: #7f7f7f\">│   │   </span>filtered_tb = <span style=\"color: #0000ff; text-decoration-color: #0000ff\">None</span>                                                                 <span style=\"color: #800000; text-decoration-color: #800000\">│</span>\n",
       "<span style=\"color: #800000; text-decoration-color: #800000\">│</span>   <span style=\"color: #7f7f7f; text-decoration-color: #7f7f7f\"> 64 </span><span style=\"color: #7f7f7f; text-decoration-color: #7f7f7f\">│   │   </span><span style=\"color: #0000ff; text-decoration-color: #0000ff\">try</span>:                                                                               <span style=\"color: #800000; text-decoration-color: #800000\">│</span>\n",
       "<span style=\"color: #800000; text-decoration-color: #800000\">│</span> <span style=\"color: #800000; text-decoration-color: #800000\">❱ </span> 65 <span style=\"color: #7f7f7f; text-decoration-color: #7f7f7f\">│   │   │   </span><span style=\"color: #0000ff; text-decoration-color: #0000ff\">return</span> fn(*args, **kwargs)                                                     <span style=\"color: #800000; text-decoration-color: #800000\">│</span>\n",
       "<span style=\"color: #800000; text-decoration-color: #800000\">│</span>   <span style=\"color: #7f7f7f; text-decoration-color: #7f7f7f\"> 66 </span><span style=\"color: #7f7f7f; text-decoration-color: #7f7f7f\">│   │   </span><span style=\"color: #0000ff; text-decoration-color: #0000ff\">except</span> <span style=\"color: #00ffff; text-decoration-color: #00ffff\">Exception</span> <span style=\"color: #0000ff; text-decoration-color: #0000ff\">as</span> e:                                                             <span style=\"color: #800000; text-decoration-color: #800000\">│</span>\n",
       "<span style=\"color: #800000; text-decoration-color: #800000\">│</span>   <span style=\"color: #7f7f7f; text-decoration-color: #7f7f7f\"> 67 </span><span style=\"color: #7f7f7f; text-decoration-color: #7f7f7f\">│   │   │   </span>filtered_tb = _process_traceback_frames(e.__traceback__)                       <span style=\"color: #800000; text-decoration-color: #800000\">│</span>\n",
       "<span style=\"color: #800000; text-decoration-color: #800000\">│</span>   <span style=\"color: #7f7f7f; text-decoration-color: #7f7f7f\"> 68 </span><span style=\"color: #7f7f7f; text-decoration-color: #7f7f7f\">│   │   │   </span><span style=\"color: #7f7f7f; text-decoration-color: #7f7f7f\"># To get the full stack trace, call:</span>                                           <span style=\"color: #800000; text-decoration-color: #800000\">│</span>\n",
       "<span style=\"color: #800000; text-decoration-color: #800000\">│</span>                                                                                                  <span style=\"color: #800000; text-decoration-color: #800000\">│</span>\n",
       "<span style=\"color: #800000; text-decoration-color: #800000\">│</span> <span style=\"color: #bfbf7f; text-decoration-color: #bfbf7f\">/usr/local/lib/python3.9/dist-packages/keras/engine/</span><span style=\"color: #808000; text-decoration-color: #808000; font-weight: bold\">training.py</span>:<span style=\"color: #0000ff; text-decoration-color: #0000ff\">2350</span> in <span style=\"color: #00ff00; text-decoration-color: #00ff00\">predict</span>                  <span style=\"color: #800000; text-decoration-color: #800000\">│</span>\n",
       "<span style=\"color: #800000; text-decoration-color: #800000\">│</span>                                                                                                  <span style=\"color: #800000; text-decoration-color: #800000\">│</span>\n",
       "<span style=\"color: #800000; text-decoration-color: #800000\">│</span>   <span style=\"color: #7f7f7f; text-decoration-color: #7f7f7f\">2347 </span><span style=\"color: #7f7f7f; text-decoration-color: #7f7f7f\">│   │   │   │   </span><span style=\"color: #0000ff; text-decoration-color: #0000ff\">with</span> data_handler.catch_stop_iteration():                                 <span style=\"color: #800000; text-decoration-color: #800000\">│</span>\n",
       "<span style=\"color: #800000; text-decoration-color: #800000\">│</span>   <span style=\"color: #7f7f7f; text-decoration-color: #7f7f7f\">2348 </span><span style=\"color: #7f7f7f; text-decoration-color: #7f7f7f\">│   │   │   │   │   </span><span style=\"color: #0000ff; text-decoration-color: #0000ff\">for</span> step <span style=\"color: #ff00ff; text-decoration-color: #ff00ff\">in</span> data_handler.steps():                                     <span style=\"color: #800000; text-decoration-color: #800000\">│</span>\n",
       "<span style=\"color: #800000; text-decoration-color: #800000\">│</span>   <span style=\"color: #7f7f7f; text-decoration-color: #7f7f7f\">2349 </span><span style=\"color: #7f7f7f; text-decoration-color: #7f7f7f\">│   │   │   │   │   │   </span>callbacks.on_predict_batch_begin(step)                            <span style=\"color: #800000; text-decoration-color: #800000\">│</span>\n",
       "<span style=\"color: #800000; text-decoration-color: #800000\">│</span> <span style=\"color: #800000; text-decoration-color: #800000\">❱ </span>2350 <span style=\"color: #7f7f7f; text-decoration-color: #7f7f7f\">│   │   │   │   │   │   </span>tmp_batch_outputs = <span style=\"color: #00ffff; text-decoration-color: #00ffff\">self</span>.predict_function(iterator)               <span style=\"color: #800000; text-decoration-color: #800000\">│</span>\n",
       "<span style=\"color: #800000; text-decoration-color: #800000\">│</span>   <span style=\"color: #7f7f7f; text-decoration-color: #7f7f7f\">2351 </span><span style=\"color: #7f7f7f; text-decoration-color: #7f7f7f\">│   │   │   │   │   │   </span><span style=\"color: #0000ff; text-decoration-color: #0000ff\">if</span> data_handler.should_sync:                                      <span style=\"color: #800000; text-decoration-color: #800000\">│</span>\n",
       "<span style=\"color: #800000; text-decoration-color: #800000\">│</span>   <span style=\"color: #7f7f7f; text-decoration-color: #7f7f7f\">2352 </span><span style=\"color: #7f7f7f; text-decoration-color: #7f7f7f\">│   │   │   │   │   │   │   </span>context.async_wait()                                          <span style=\"color: #800000; text-decoration-color: #800000\">│</span>\n",
       "<span style=\"color: #800000; text-decoration-color: #800000\">│</span>   <span style=\"color: #7f7f7f; text-decoration-color: #7f7f7f\">2353 </span><span style=\"color: #7f7f7f; text-decoration-color: #7f7f7f\">│   │   │   │   │   │   </span>batch_outputs = (                                                 <span style=\"color: #800000; text-decoration-color: #800000\">│</span>\n",
       "<span style=\"color: #800000; text-decoration-color: #800000\">│</span>                                                                                                  <span style=\"color: #800000; text-decoration-color: #800000\">│</span>\n",
       "<span style=\"color: #800000; text-decoration-color: #800000\">│</span> <span style=\"color: #bfbf7f; text-decoration-color: #bfbf7f\">/usr/local/lib/python3.9/dist-packages/tensorflow/python/util/</span><span style=\"color: #808000; text-decoration-color: #808000; font-weight: bold\">traceback_utils.py</span>:<span style=\"color: #0000ff; text-decoration-color: #0000ff\">150</span> in          <span style=\"color: #800000; text-decoration-color: #800000\">│</span>\n",
       "<span style=\"color: #800000; text-decoration-color: #800000\">│</span> <span style=\"color: #00ff00; text-decoration-color: #00ff00\">error_handler</span>                                                                                    <span style=\"color: #800000; text-decoration-color: #800000\">│</span>\n",
       "<span style=\"color: #800000; text-decoration-color: #800000\">│</span>                                                                                                  <span style=\"color: #800000; text-decoration-color: #800000\">│</span>\n",
       "<span style=\"color: #800000; text-decoration-color: #800000\">│</span>   <span style=\"color: #7f7f7f; text-decoration-color: #7f7f7f\">147 </span><span style=\"color: #7f7f7f; text-decoration-color: #7f7f7f\">│   </span>                                                                                       <span style=\"color: #800000; text-decoration-color: #800000\">│</span>\n",
       "<span style=\"color: #800000; text-decoration-color: #800000\">│</span>   <span style=\"color: #7f7f7f; text-decoration-color: #7f7f7f\">148 </span><span style=\"color: #7f7f7f; text-decoration-color: #7f7f7f\">│   </span>filtered_tb = <span style=\"color: #0000ff; text-decoration-color: #0000ff\">None</span>                                                                     <span style=\"color: #800000; text-decoration-color: #800000\">│</span>\n",
       "<span style=\"color: #800000; text-decoration-color: #800000\">│</span>   <span style=\"color: #7f7f7f; text-decoration-color: #7f7f7f\">149 </span><span style=\"color: #7f7f7f; text-decoration-color: #7f7f7f\">│   </span><span style=\"color: #0000ff; text-decoration-color: #0000ff\">try</span>:                                                                                   <span style=\"color: #800000; text-decoration-color: #800000\">│</span>\n",
       "<span style=\"color: #800000; text-decoration-color: #800000\">│</span> <span style=\"color: #800000; text-decoration-color: #800000\">❱ </span>150 <span style=\"color: #7f7f7f; text-decoration-color: #7f7f7f\">│     </span><span style=\"color: #0000ff; text-decoration-color: #0000ff\">return</span> fn(*args, **kwargs)                                                           <span style=\"color: #800000; text-decoration-color: #800000\">│</span>\n",
       "<span style=\"color: #800000; text-decoration-color: #800000\">│</span>   <span style=\"color: #7f7f7f; text-decoration-color: #7f7f7f\">151 </span><span style=\"color: #7f7f7f; text-decoration-color: #7f7f7f\">│   </span><span style=\"color: #0000ff; text-decoration-color: #0000ff\">except</span> <span style=\"color: #00ffff; text-decoration-color: #00ffff\">Exception</span> <span style=\"color: #0000ff; text-decoration-color: #0000ff\">as</span> e:                                                                 <span style=\"color: #800000; text-decoration-color: #800000\">│</span>\n",
       "<span style=\"color: #800000; text-decoration-color: #800000\">│</span>   <span style=\"color: #7f7f7f; text-decoration-color: #7f7f7f\">152 </span><span style=\"color: #7f7f7f; text-decoration-color: #7f7f7f\">│     </span>filtered_tb = _process_traceback_frames(e.__traceback__)                             <span style=\"color: #800000; text-decoration-color: #800000\">│</span>\n",
       "<span style=\"color: #800000; text-decoration-color: #800000\">│</span>   <span style=\"color: #7f7f7f; text-decoration-color: #7f7f7f\">153 </span><span style=\"color: #7f7f7f; text-decoration-color: #7f7f7f\">│     </span><span style=\"color: #0000ff; text-decoration-color: #0000ff\">raise</span> e.with_traceback(filtered_tb) <span style=\"color: #0000ff; text-decoration-color: #0000ff\">from</span> <span style=\"color: #0000ff; text-decoration-color: #0000ff\">None</span>                                        <span style=\"color: #800000; text-decoration-color: #800000\">│</span>\n",
       "<span style=\"color: #800000; text-decoration-color: #800000\">│</span>                                                                                                  <span style=\"color: #800000; text-decoration-color: #800000\">│</span>\n",
       "<span style=\"color: #800000; text-decoration-color: #800000\">│</span> <span style=\"color: #bfbf7f; text-decoration-color: #bfbf7f\">/usr/local/lib/python3.9/dist-packages/tensorflow/python/eager/polymorphic_function/</span><span style=\"color: #808000; text-decoration-color: #808000; font-weight: bold\">polymorphic_</span> <span style=\"color: #800000; text-decoration-color: #800000\">│</span>\n",
       "<span style=\"color: #800000; text-decoration-color: #800000\">│</span> <span style=\"color: #808000; text-decoration-color: #808000; font-weight: bold\">function.py</span>:<span style=\"color: #0000ff; text-decoration-color: #0000ff\">880</span> in <span style=\"color: #00ff00; text-decoration-color: #00ff00\">__call__</span>                                                                      <span style=\"color: #800000; text-decoration-color: #800000\">│</span>\n",
       "<span style=\"color: #800000; text-decoration-color: #800000\">│</span>                                                                                                  <span style=\"color: #800000; text-decoration-color: #800000\">│</span>\n",
       "<span style=\"color: #800000; text-decoration-color: #800000\">│</span>   <span style=\"color: #7f7f7f; text-decoration-color: #7f7f7f\"> 877 </span><span style=\"color: #7f7f7f; text-decoration-color: #7f7f7f\">│     </span>compiler = <span style=\"color: #808000; text-decoration-color: #808000\">\"xla\"</span> <span style=\"color: #0000ff; text-decoration-color: #0000ff\">if</span> <span style=\"color: #00ffff; text-decoration-color: #00ffff\">self</span>._jit_compile <span style=\"color: #0000ff; text-decoration-color: #0000ff\">else</span> <span style=\"color: #808000; text-decoration-color: #808000\">\"nonXla\"</span>                                 <span style=\"color: #800000; text-decoration-color: #800000\">│</span>\n",
       "<span style=\"color: #800000; text-decoration-color: #800000\">│</span>   <span style=\"color: #7f7f7f; text-decoration-color: #7f7f7f\"> 878 </span><span style=\"color: #7f7f7f; text-decoration-color: #7f7f7f\">│     </span>                                                                                    <span style=\"color: #800000; text-decoration-color: #800000\">│</span>\n",
       "<span style=\"color: #800000; text-decoration-color: #800000\">│</span>   <span style=\"color: #7f7f7f; text-decoration-color: #7f7f7f\"> 879 </span><span style=\"color: #7f7f7f; text-decoration-color: #7f7f7f\">│     </span><span style=\"color: #0000ff; text-decoration-color: #0000ff\">with</span> OptionalXlaContext(<span style=\"color: #00ffff; text-decoration-color: #00ffff\">self</span>._jit_compile):                                         <span style=\"color: #800000; text-decoration-color: #800000\">│</span>\n",
       "<span style=\"color: #800000; text-decoration-color: #800000\">│</span> <span style=\"color: #800000; text-decoration-color: #800000\">❱ </span> 880 <span style=\"color: #7f7f7f; text-decoration-color: #7f7f7f\">│   │   </span>result = <span style=\"color: #00ffff; text-decoration-color: #00ffff\">self</span>._call(*args, **kwds)                                                <span style=\"color: #800000; text-decoration-color: #800000\">│</span>\n",
       "<span style=\"color: #800000; text-decoration-color: #800000\">│</span>   <span style=\"color: #7f7f7f; text-decoration-color: #7f7f7f\"> 881 </span><span style=\"color: #7f7f7f; text-decoration-color: #7f7f7f\">│     </span>                                                                                    <span style=\"color: #800000; text-decoration-color: #800000\">│</span>\n",
       "<span style=\"color: #800000; text-decoration-color: #800000\">│</span>   <span style=\"color: #7f7f7f; text-decoration-color: #7f7f7f\"> 882 </span><span style=\"color: #7f7f7f; text-decoration-color: #7f7f7f\">│     </span>new_tracing_count = <span style=\"color: #00ffff; text-decoration-color: #00ffff\">self</span>.experimental_get_tracing_count()                           <span style=\"color: #800000; text-decoration-color: #800000\">│</span>\n",
       "<span style=\"color: #800000; text-decoration-color: #800000\">│</span>   <span style=\"color: #7f7f7f; text-decoration-color: #7f7f7f\"> 883 </span><span style=\"color: #7f7f7f; text-decoration-color: #7f7f7f\">│     </span>without_tracing = (tracing_count == new_tracing_count)                              <span style=\"color: #800000; text-decoration-color: #800000\">│</span>\n",
       "<span style=\"color: #800000; text-decoration-color: #800000\">│</span>                                                                                                  <span style=\"color: #800000; text-decoration-color: #800000\">│</span>\n",
       "<span style=\"color: #800000; text-decoration-color: #800000\">│</span> <span style=\"color: #bfbf7f; text-decoration-color: #bfbf7f\">/usr/local/lib/python3.9/dist-packages/tensorflow/python/eager/polymorphic_function/</span><span style=\"color: #808000; text-decoration-color: #808000; font-weight: bold\">polymorphic_</span> <span style=\"color: #800000; text-decoration-color: #800000\">│</span>\n",
       "<span style=\"color: #800000; text-decoration-color: #800000\">│</span> <span style=\"color: #808000; text-decoration-color: #808000; font-weight: bold\">function.py</span>:<span style=\"color: #0000ff; text-decoration-color: #0000ff\">919</span> in <span style=\"color: #00ff00; text-decoration-color: #00ff00\">_call</span>                                                                         <span style=\"color: #800000; text-decoration-color: #800000\">│</span>\n",
       "<span style=\"color: #800000; text-decoration-color: #800000\">│</span>                                                                                                  <span style=\"color: #800000; text-decoration-color: #800000\">│</span>\n",
       "<span style=\"color: #800000; text-decoration-color: #800000\">│</span>   <span style=\"color: #7f7f7f; text-decoration-color: #7f7f7f\"> 916 </span><span style=\"color: #7f7f7f; text-decoration-color: #7f7f7f\">│     </span><span style=\"color: #00ffff; text-decoration-color: #00ffff\">self</span>._lock.release()                                                                <span style=\"color: #800000; text-decoration-color: #800000\">│</span>\n",
       "<span style=\"color: #800000; text-decoration-color: #800000\">│</span>   <span style=\"color: #7f7f7f; text-decoration-color: #7f7f7f\"> 917 </span><span style=\"color: #7f7f7f; text-decoration-color: #7f7f7f\">│     </span><span style=\"color: #7f7f7f; text-decoration-color: #7f7f7f\"># In this case we have not created variables on the first call. So we can</span>           <span style=\"color: #800000; text-decoration-color: #800000\">│</span>\n",
       "<span style=\"color: #800000; text-decoration-color: #800000\">│</span>   <span style=\"color: #7f7f7f; text-decoration-color: #7f7f7f\"> 918 </span><span style=\"color: #7f7f7f; text-decoration-color: #7f7f7f\">│     </span><span style=\"color: #7f7f7f; text-decoration-color: #7f7f7f\"># run the first trace but we should fail if variables are created.</span>                  <span style=\"color: #800000; text-decoration-color: #800000\">│</span>\n",
       "<span style=\"color: #800000; text-decoration-color: #800000\">│</span> <span style=\"color: #800000; text-decoration-color: #800000\">❱ </span> 919 <span style=\"color: #7f7f7f; text-decoration-color: #7f7f7f\">│     </span>results = <span style=\"color: #00ffff; text-decoration-color: #00ffff\">self</span>._variable_creation_fn(*args, **kwds)                                 <span style=\"color: #800000; text-decoration-color: #800000\">│</span>\n",
       "<span style=\"color: #800000; text-decoration-color: #800000\">│</span>   <span style=\"color: #7f7f7f; text-decoration-color: #7f7f7f\"> 920 </span><span style=\"color: #7f7f7f; text-decoration-color: #7f7f7f\">│     </span><span style=\"color: #0000ff; text-decoration-color: #0000ff\">if</span> <span style=\"color: #00ffff; text-decoration-color: #00ffff\">self</span>._created_variables <span style=\"color: #ff00ff; text-decoration-color: #ff00ff\">and</span> <span style=\"color: #ff00ff; text-decoration-color: #ff00ff\">not</span> ALLOW_DYNAMIC_VARIABLE_CREATION:                 <span style=\"color: #800000; text-decoration-color: #800000\">│</span>\n",
       "<span style=\"color: #800000; text-decoration-color: #800000\">│</span>   <span style=\"color: #7f7f7f; text-decoration-color: #7f7f7f\"> 921 </span><span style=\"color: #7f7f7f; text-decoration-color: #7f7f7f\">│   │   </span><span style=\"color: #0000ff; text-decoration-color: #0000ff\">raise</span> <span style=\"color: #00ffff; text-decoration-color: #00ffff\">ValueError</span>(<span style=\"color: #808000; text-decoration-color: #808000\">\"Creating variables on a non-first call to a function\"</span>           <span style=\"color: #800000; text-decoration-color: #800000\">│</span>\n",
       "<span style=\"color: #800000; text-decoration-color: #800000\">│</span>   <span style=\"color: #7f7f7f; text-decoration-color: #7f7f7f\"> 922 </span><span style=\"color: #7f7f7f; text-decoration-color: #7f7f7f\">│   │   │   │   │   │    </span><span style=\"color: #808000; text-decoration-color: #808000\">\" decorated with tf.function.\"</span>)                                  <span style=\"color: #800000; text-decoration-color: #800000\">│</span>\n",
       "<span style=\"color: #800000; text-decoration-color: #800000\">│</span>                                                                                                  <span style=\"color: #800000; text-decoration-color: #800000\">│</span>\n",
       "<span style=\"color: #800000; text-decoration-color: #800000\">│</span> <span style=\"color: #bfbf7f; text-decoration-color: #bfbf7f\">/usr/local/lib/python3.9/dist-packages/tensorflow/python/eager/polymorphic_function/</span><span style=\"color: #808000; text-decoration-color: #808000; font-weight: bold\">tracing_comp</span> <span style=\"color: #800000; text-decoration-color: #800000\">│</span>\n",
       "<span style=\"color: #800000; text-decoration-color: #800000\">│</span> <span style=\"color: #808000; text-decoration-color: #808000; font-weight: bold\">iler.py</span>:<span style=\"color: #0000ff; text-decoration-color: #0000ff\">134</span> in <span style=\"color: #00ff00; text-decoration-color: #00ff00\">__call__</span>                                                                          <span style=\"color: #800000; text-decoration-color: #800000\">│</span>\n",
       "<span style=\"color: #800000; text-decoration-color: #800000\">│</span>                                                                                                  <span style=\"color: #800000; text-decoration-color: #800000\">│</span>\n",
       "<span style=\"color: #800000; text-decoration-color: #800000\">│</span>   <span style=\"color: #7f7f7f; text-decoration-color: #7f7f7f\">131 </span><span style=\"color: #7f7f7f; text-decoration-color: #7f7f7f\">│   </span><span style=\"color: #0000ff; text-decoration-color: #0000ff\">with</span> <span style=\"color: #00ffff; text-decoration-color: #00ffff\">self</span>._lock:                                                                       <span style=\"color: #800000; text-decoration-color: #800000\">│</span>\n",
       "<span style=\"color: #800000; text-decoration-color: #800000\">│</span>   <span style=\"color: #7f7f7f; text-decoration-color: #7f7f7f\">132 </span><span style=\"color: #7f7f7f; text-decoration-color: #7f7f7f\">│     </span>(concrete_function,                                                                  <span style=\"color: #800000; text-decoration-color: #800000\">│</span>\n",
       "<span style=\"color: #800000; text-decoration-color: #800000\">│</span>   <span style=\"color: #7f7f7f; text-decoration-color: #7f7f7f\">133 </span><span style=\"color: #7f7f7f; text-decoration-color: #7f7f7f\">│      </span>filtered_flat_args) = <span style=\"color: #00ffff; text-decoration-color: #00ffff\">self</span>._maybe_define_function(args, kwargs)                     <span style=\"color: #800000; text-decoration-color: #800000\">│</span>\n",
       "<span style=\"color: #800000; text-decoration-color: #800000\">│</span> <span style=\"color: #800000; text-decoration-color: #800000\">❱ </span>134 <span style=\"color: #7f7f7f; text-decoration-color: #7f7f7f\">│   </span><span style=\"color: #0000ff; text-decoration-color: #0000ff\">return</span> concrete_function._call_flat(                                                   <span style=\"color: #800000; text-decoration-color: #800000\">│</span>\n",
       "<span style=\"color: #800000; text-decoration-color: #800000\">│</span>   <span style=\"color: #7f7f7f; text-decoration-color: #7f7f7f\">135 </span><span style=\"color: #7f7f7f; text-decoration-color: #7f7f7f\">│   │   </span>filtered_flat_args, captured_inputs=concrete_function.captured_inputs)  <span style=\"color: #7f7f7f; text-decoration-color: #7f7f7f\"># pylint</span>   <span style=\"color: #800000; text-decoration-color: #800000\">│</span>\n",
       "<span style=\"color: #800000; text-decoration-color: #800000\">│</span>   <span style=\"color: #7f7f7f; text-decoration-color: #7f7f7f\">136 </span><span style=\"color: #7f7f7f; text-decoration-color: #7f7f7f\">  </span>                                                                                         <span style=\"color: #800000; text-decoration-color: #800000\">│</span>\n",
       "<span style=\"color: #800000; text-decoration-color: #800000\">│</span>   <span style=\"color: #7f7f7f; text-decoration-color: #7f7f7f\">137 </span><span style=\"color: #7f7f7f; text-decoration-color: #7f7f7f\">  </span><span style=\"color: #ff00ff; text-decoration-color: #ff00ff; font-weight: bold\">@property</span>                                                                                <span style=\"color: #800000; text-decoration-color: #800000\">│</span>\n",
       "<span style=\"color: #800000; text-decoration-color: #800000\">│</span>                                                                                                  <span style=\"color: #800000; text-decoration-color: #800000\">│</span>\n",
       "<span style=\"color: #800000; text-decoration-color: #800000\">│</span> <span style=\"color: #bfbf7f; text-decoration-color: #bfbf7f\">/usr/local/lib/python3.9/dist-packages/tensorflow/python/eager/polymorphic_function/</span><span style=\"color: #808000; text-decoration-color: #808000; font-weight: bold\">monomorphic_</span> <span style=\"color: #800000; text-decoration-color: #800000\">│</span>\n",
       "<span style=\"color: #800000; text-decoration-color: #800000\">│</span> <span style=\"color: #808000; text-decoration-color: #808000; font-weight: bold\">function.py</span>:<span style=\"color: #0000ff; text-decoration-color: #0000ff\">1745</span> in <span style=\"color: #00ff00; text-decoration-color: #00ff00\">_call_flat</span>                                                                   <span style=\"color: #800000; text-decoration-color: #800000\">│</span>\n",
       "<span style=\"color: #800000; text-decoration-color: #800000\">│</span>                                                                                                  <span style=\"color: #800000; text-decoration-color: #800000\">│</span>\n",
       "<span style=\"color: #800000; text-decoration-color: #800000\">│</span>   <span style=\"color: #7f7f7f; text-decoration-color: #7f7f7f\">1742 </span><span style=\"color: #7f7f7f; text-decoration-color: #7f7f7f\">│   </span><span style=\"color: #0000ff; text-decoration-color: #0000ff\">if</span> (possible_gradient_type == gradients_util.POSSIBLE_GRADIENT_TYPES_NONE             <span style=\"color: #800000; text-decoration-color: #800000\">│</span>\n",
       "<span style=\"color: #800000; text-decoration-color: #800000\">│</span>   <span style=\"color: #7f7f7f; text-decoration-color: #7f7f7f\">1743 </span><span style=\"color: #7f7f7f; text-decoration-color: #7f7f7f\">│   │   </span><span style=\"color: #ff00ff; text-decoration-color: #ff00ff\">and</span> executing_eagerly):                                                           <span style=\"color: #800000; text-decoration-color: #800000\">│</span>\n",
       "<span style=\"color: #800000; text-decoration-color: #800000\">│</span>   <span style=\"color: #7f7f7f; text-decoration-color: #7f7f7f\">1744 </span><span style=\"color: #7f7f7f; text-decoration-color: #7f7f7f\">│     </span><span style=\"color: #7f7f7f; text-decoration-color: #7f7f7f\"># No tape is watching; skip to running the function.</span>                                <span style=\"color: #800000; text-decoration-color: #800000\">│</span>\n",
       "<span style=\"color: #800000; text-decoration-color: #800000\">│</span> <span style=\"color: #800000; text-decoration-color: #800000\">❱ </span>1745 <span style=\"color: #7f7f7f; text-decoration-color: #7f7f7f\">│     </span><span style=\"color: #0000ff; text-decoration-color: #0000ff\">return</span> <span style=\"color: #00ffff; text-decoration-color: #00ffff\">self</span>._build_call_outputs(<span style=\"color: #00ffff; text-decoration-color: #00ffff\">self</span>._inference_function.call(                      <span style=\"color: #800000; text-decoration-color: #800000\">│</span>\n",
       "<span style=\"color: #800000; text-decoration-color: #800000\">│</span>   <span style=\"color: #7f7f7f; text-decoration-color: #7f7f7f\">1746 </span><span style=\"color: #7f7f7f; text-decoration-color: #7f7f7f\">│   │     </span>ctx, args, cancellation_manager=cancellation_manager))                          <span style=\"color: #800000; text-decoration-color: #800000\">│</span>\n",
       "<span style=\"color: #800000; text-decoration-color: #800000\">│</span>   <span style=\"color: #7f7f7f; text-decoration-color: #7f7f7f\">1747 </span><span style=\"color: #7f7f7f; text-decoration-color: #7f7f7f\">│   </span>forward_backward = <span style=\"color: #00ffff; text-decoration-color: #00ffff\">self</span>._select_forward_and_backward_functions(                       <span style=\"color: #800000; text-decoration-color: #800000\">│</span>\n",
       "<span style=\"color: #800000; text-decoration-color: #800000\">│</span>   <span style=\"color: #7f7f7f; text-decoration-color: #7f7f7f\">1748 </span><span style=\"color: #7f7f7f; text-decoration-color: #7f7f7f\">│   │   </span>args,                                                                             <span style=\"color: #800000; text-decoration-color: #800000\">│</span>\n",
       "<span style=\"color: #800000; text-decoration-color: #800000\">│</span>                                                                                                  <span style=\"color: #800000; text-decoration-color: #800000\">│</span>\n",
       "<span style=\"color: #800000; text-decoration-color: #800000\">│</span> <span style=\"color: #bfbf7f; text-decoration-color: #bfbf7f\">/usr/local/lib/python3.9/dist-packages/tensorflow/python/eager/polymorphic_function/</span><span style=\"color: #808000; text-decoration-color: #808000; font-weight: bold\">monomorphic_</span> <span style=\"color: #800000; text-decoration-color: #800000\">│</span>\n",
       "<span style=\"color: #800000; text-decoration-color: #800000\">│</span> <span style=\"color: #808000; text-decoration-color: #808000; font-weight: bold\">function.py</span>:<span style=\"color: #0000ff; text-decoration-color: #0000ff\">378</span> in <span style=\"color: #00ff00; text-decoration-color: #00ff00\">call</span>                                                                          <span style=\"color: #800000; text-decoration-color: #800000\">│</span>\n",
       "<span style=\"color: #800000; text-decoration-color: #800000\">│</span>                                                                                                  <span style=\"color: #800000; text-decoration-color: #800000\">│</span>\n",
       "<span style=\"color: #800000; text-decoration-color: #800000\">│</span>   <span style=\"color: #7f7f7f; text-decoration-color: #7f7f7f\"> 375 </span><span style=\"color: #7f7f7f; text-decoration-color: #7f7f7f\">│   </span><span style=\"color: #0000ff; text-decoration-color: #0000ff\">if</span> executing_eagerly:                                                                 <span style=\"color: #800000; text-decoration-color: #800000\">│</span>\n",
       "<span style=\"color: #800000; text-decoration-color: #800000\">│</span>   <span style=\"color: #7f7f7f; text-decoration-color: #7f7f7f\"> 376 </span><span style=\"color: #7f7f7f; text-decoration-color: #7f7f7f\">│     </span><span style=\"color: #0000ff; text-decoration-color: #0000ff\">with</span> _InterpolateFunctionError(<span style=\"color: #00ffff; text-decoration-color: #00ffff\">self</span>):                                               <span style=\"color: #800000; text-decoration-color: #800000\">│</span>\n",
       "<span style=\"color: #800000; text-decoration-color: #800000\">│</span>   <span style=\"color: #7f7f7f; text-decoration-color: #7f7f7f\"> 377 </span><span style=\"color: #7f7f7f; text-decoration-color: #7f7f7f\">│   │   </span><span style=\"color: #0000ff; text-decoration-color: #0000ff\">if</span> cancellation_manager <span style=\"color: #ff00ff; text-decoration-color: #ff00ff\">is</span> <span style=\"color: #0000ff; text-decoration-color: #0000ff\">None</span>:                                                  <span style=\"color: #800000; text-decoration-color: #800000\">│</span>\n",
       "<span style=\"color: #800000; text-decoration-color: #800000\">│</span> <span style=\"color: #800000; text-decoration-color: #800000\">❱ </span> 378 <span style=\"color: #7f7f7f; text-decoration-color: #7f7f7f\">│   │     </span>outputs = execute.execute(                                                      <span style=\"color: #800000; text-decoration-color: #800000\">│</span>\n",
       "<span style=\"color: #800000; text-decoration-color: #800000\">│</span>   <span style=\"color: #7f7f7f; text-decoration-color: #7f7f7f\"> 379 </span><span style=\"color: #7f7f7f; text-decoration-color: #7f7f7f\">│   │   │     </span><span style=\"color: #00ffff; text-decoration-color: #00ffff\">str</span>(<span style=\"color: #00ffff; text-decoration-color: #00ffff\">self</span>.signature.name),                                                   <span style=\"color: #800000; text-decoration-color: #800000\">│</span>\n",
       "<span style=\"color: #800000; text-decoration-color: #800000\">│</span>   <span style=\"color: #7f7f7f; text-decoration-color: #7f7f7f\"> 380 </span><span style=\"color: #7f7f7f; text-decoration-color: #7f7f7f\">│   │   │     </span>num_outputs=<span style=\"color: #00ffff; text-decoration-color: #00ffff\">self</span>._num_outputs,                                              <span style=\"color: #800000; text-decoration-color: #800000\">│</span>\n",
       "<span style=\"color: #800000; text-decoration-color: #800000\">│</span>   <span style=\"color: #7f7f7f; text-decoration-color: #7f7f7f\"> 381 </span><span style=\"color: #7f7f7f; text-decoration-color: #7f7f7f\">│   │   │     </span>inputs=args,                                                                <span style=\"color: #800000; text-decoration-color: #800000\">│</span>\n",
       "<span style=\"color: #800000; text-decoration-color: #800000\">│</span>                                                                                                  <span style=\"color: #800000; text-decoration-color: #800000\">│</span>\n",
       "<span style=\"color: #800000; text-decoration-color: #800000\">│</span> <span style=\"color: #bfbf7f; text-decoration-color: #bfbf7f\">/usr/local/lib/python3.9/dist-packages/tensorflow/python/eager/</span><span style=\"color: #808000; text-decoration-color: #808000; font-weight: bold\">execute.py</span>:<span style=\"color: #0000ff; text-decoration-color: #0000ff\">52</span> in <span style=\"color: #00ff00; text-decoration-color: #00ff00\">quick_execute</span>    <span style=\"color: #800000; text-decoration-color: #800000\">│</span>\n",
       "<span style=\"color: #800000; text-decoration-color: #800000\">│</span>                                                                                                  <span style=\"color: #800000; text-decoration-color: #800000\">│</span>\n",
       "<span style=\"color: #800000; text-decoration-color: #800000\">│</span>   <span style=\"color: #7f7f7f; text-decoration-color: #7f7f7f\"> 49 </span><span style=\"color: #7f7f7f; text-decoration-color: #7f7f7f\">  </span><span style=\"color: #7f7f7f; text-decoration-color: #7f7f7f\"># pylint: disable=protected-access</span>                                                       <span style=\"color: #800000; text-decoration-color: #800000\">│</span>\n",
       "<span style=\"color: #800000; text-decoration-color: #800000\">│</span>   <span style=\"color: #7f7f7f; text-decoration-color: #7f7f7f\"> 50 </span><span style=\"color: #7f7f7f; text-decoration-color: #7f7f7f\">  </span><span style=\"color: #0000ff; text-decoration-color: #0000ff\">try</span>:                                                                                     <span style=\"color: #800000; text-decoration-color: #800000\">│</span>\n",
       "<span style=\"color: #800000; text-decoration-color: #800000\">│</span>   <span style=\"color: #7f7f7f; text-decoration-color: #7f7f7f\"> 51 </span><span style=\"color: #7f7f7f; text-decoration-color: #7f7f7f\">│   </span>ctx.ensure_initialized()                                                               <span style=\"color: #800000; text-decoration-color: #800000\">│</span>\n",
       "<span style=\"color: #800000; text-decoration-color: #800000\">│</span> <span style=\"color: #800000; text-decoration-color: #800000\">❱ </span> 52 <span style=\"color: #7f7f7f; text-decoration-color: #7f7f7f\">│   </span>tensors = pywrap_tfe.TFE_Py_Execute(ctx._handle, device_name, op_name,                 <span style=\"color: #800000; text-decoration-color: #800000\">│</span>\n",
       "<span style=\"color: #800000; text-decoration-color: #800000\">│</span>   <span style=\"color: #7f7f7f; text-decoration-color: #7f7f7f\"> 53 </span><span style=\"color: #7f7f7f; text-decoration-color: #7f7f7f\">│   │   │   │   │   │   │   │   │   │   </span>inputs, attrs, num_outputs)                        <span style=\"color: #800000; text-decoration-color: #800000\">│</span>\n",
       "<span style=\"color: #800000; text-decoration-color: #800000\">│</span>   <span style=\"color: #7f7f7f; text-decoration-color: #7f7f7f\"> 54 </span><span style=\"color: #7f7f7f; text-decoration-color: #7f7f7f\">  </span><span style=\"color: #0000ff; text-decoration-color: #0000ff\">except</span> core._NotOkStatusException <span style=\"color: #0000ff; text-decoration-color: #0000ff\">as</span> e:                                                  <span style=\"color: #800000; text-decoration-color: #800000\">│</span>\n",
       "<span style=\"color: #800000; text-decoration-color: #800000\">│</span>   <span style=\"color: #7f7f7f; text-decoration-color: #7f7f7f\"> 55 </span><span style=\"color: #7f7f7f; text-decoration-color: #7f7f7f\">│   </span><span style=\"color: #0000ff; text-decoration-color: #0000ff\">if</span> name <span style=\"color: #ff00ff; text-decoration-color: #ff00ff\">is</span> <span style=\"color: #ff00ff; text-decoration-color: #ff00ff\">not</span> <span style=\"color: #0000ff; text-decoration-color: #0000ff\">None</span>:                                                                   <span style=\"color: #800000; text-decoration-color: #800000\">│</span>\n",
       "<span style=\"color: #800000; text-decoration-color: #800000\">╰──────────────────────────────────────────────────────────────────────────────────────────────────╯</span>\n",
       "<span style=\"color: #ff0000; text-decoration-color: #ff0000; font-weight: bold\">KeyboardInterrupt</span>\n",
       "</pre>\n"
      ],
      "text/plain": [
       "\u001b[31m╭─\u001b[0m\u001b[31m──────────────────────────────\u001b[0m\u001b[31m \u001b[0m\u001b[1;31mTraceback \u001b[0m\u001b[1;2;31m(most recent call last)\u001b[0m\u001b[31m \u001b[0m\u001b[31m───────────────────────────────\u001b[0m\u001b[31m─╮\u001b[0m\n",
       "\u001b[31m│\u001b[0m in \u001b[92m<cell line: 4>\u001b[0m:\u001b[94m4\u001b[0m                                                                              \u001b[31m│\u001b[0m\n",
       "\u001b[31m│\u001b[0m                                                                                                  \u001b[31m│\u001b[0m\n",
       "\u001b[31m│\u001b[0m   \u001b[2m1 \u001b[0mX_encoded_1 = encode_sparsed_list(data_affiliations_pairs[:, \u001b[94m0\u001b[0m],char_to_index_dict=char_     \u001b[31m│\u001b[0m\n",
       "\u001b[31m│\u001b[0m   \u001b[2m2 \u001b[0mX_encoded_2 = encode_sparsed_list(data_affiliations_pairs[:, \u001b[94m1\u001b[0m],char_to_index_dict=char_     \u001b[31m│\u001b[0m\n",
       "\u001b[31m│\u001b[0m   \u001b[2m3 \u001b[0m                                                                                             \u001b[31m│\u001b[0m\n",
       "\u001b[31m│\u001b[0m \u001b[31m❱ \u001b[0m4 prediction = poi_c2v.model.predict((X_encoded_1, X_encoded_2))                               \u001b[31m│\u001b[0m\n",
       "\u001b[31m│\u001b[0m   \u001b[2m5 \u001b[0m                                                                                             \u001b[31m│\u001b[0m\n",
       "\u001b[31m│\u001b[0m                                                                                                  \u001b[31m│\u001b[0m\n",
       "\u001b[31m│\u001b[0m \u001b[2;33m/usr/local/lib/python3.9/dist-packages/keras/utils/\u001b[0m\u001b[1;33mtraceback_utils.py\u001b[0m:\u001b[94m65\u001b[0m in \u001b[92merror_handler\u001b[0m        \u001b[31m│\u001b[0m\n",
       "\u001b[31m│\u001b[0m                                                                                                  \u001b[31m│\u001b[0m\n",
       "\u001b[31m│\u001b[0m   \u001b[2m 62 \u001b[0m\u001b[2m│   │   \u001b[0m                                                                                   \u001b[31m│\u001b[0m\n",
       "\u001b[31m│\u001b[0m   \u001b[2m 63 \u001b[0m\u001b[2m│   │   \u001b[0mfiltered_tb = \u001b[94mNone\u001b[0m                                                                 \u001b[31m│\u001b[0m\n",
       "\u001b[31m│\u001b[0m   \u001b[2m 64 \u001b[0m\u001b[2m│   │   \u001b[0m\u001b[94mtry\u001b[0m:                                                                               \u001b[31m│\u001b[0m\n",
       "\u001b[31m│\u001b[0m \u001b[31m❱ \u001b[0m 65 \u001b[2m│   │   │   \u001b[0m\u001b[94mreturn\u001b[0m fn(*args, **kwargs)                                                     \u001b[31m│\u001b[0m\n",
       "\u001b[31m│\u001b[0m   \u001b[2m 66 \u001b[0m\u001b[2m│   │   \u001b[0m\u001b[94mexcept\u001b[0m \u001b[96mException\u001b[0m \u001b[94mas\u001b[0m e:                                                             \u001b[31m│\u001b[0m\n",
       "\u001b[31m│\u001b[0m   \u001b[2m 67 \u001b[0m\u001b[2m│   │   │   \u001b[0mfiltered_tb = _process_traceback_frames(e.__traceback__)                       \u001b[31m│\u001b[0m\n",
       "\u001b[31m│\u001b[0m   \u001b[2m 68 \u001b[0m\u001b[2m│   │   │   \u001b[0m\u001b[2m# To get the full stack trace, call:\u001b[0m                                           \u001b[31m│\u001b[0m\n",
       "\u001b[31m│\u001b[0m                                                                                                  \u001b[31m│\u001b[0m\n",
       "\u001b[31m│\u001b[0m \u001b[2;33m/usr/local/lib/python3.9/dist-packages/keras/engine/\u001b[0m\u001b[1;33mtraining.py\u001b[0m:\u001b[94m2350\u001b[0m in \u001b[92mpredict\u001b[0m                  \u001b[31m│\u001b[0m\n",
       "\u001b[31m│\u001b[0m                                                                                                  \u001b[31m│\u001b[0m\n",
       "\u001b[31m│\u001b[0m   \u001b[2m2347 \u001b[0m\u001b[2m│   │   │   │   \u001b[0m\u001b[94mwith\u001b[0m data_handler.catch_stop_iteration():                                 \u001b[31m│\u001b[0m\n",
       "\u001b[31m│\u001b[0m   \u001b[2m2348 \u001b[0m\u001b[2m│   │   │   │   │   \u001b[0m\u001b[94mfor\u001b[0m step \u001b[95min\u001b[0m data_handler.steps():                                     \u001b[31m│\u001b[0m\n",
       "\u001b[31m│\u001b[0m   \u001b[2m2349 \u001b[0m\u001b[2m│   │   │   │   │   │   \u001b[0mcallbacks.on_predict_batch_begin(step)                            \u001b[31m│\u001b[0m\n",
       "\u001b[31m│\u001b[0m \u001b[31m❱ \u001b[0m2350 \u001b[2m│   │   │   │   │   │   \u001b[0mtmp_batch_outputs = \u001b[96mself\u001b[0m.predict_function(iterator)               \u001b[31m│\u001b[0m\n",
       "\u001b[31m│\u001b[0m   \u001b[2m2351 \u001b[0m\u001b[2m│   │   │   │   │   │   \u001b[0m\u001b[94mif\u001b[0m data_handler.should_sync:                                      \u001b[31m│\u001b[0m\n",
       "\u001b[31m│\u001b[0m   \u001b[2m2352 \u001b[0m\u001b[2m│   │   │   │   │   │   │   \u001b[0mcontext.async_wait()                                          \u001b[31m│\u001b[0m\n",
       "\u001b[31m│\u001b[0m   \u001b[2m2353 \u001b[0m\u001b[2m│   │   │   │   │   │   \u001b[0mbatch_outputs = (                                                 \u001b[31m│\u001b[0m\n",
       "\u001b[31m│\u001b[0m                                                                                                  \u001b[31m│\u001b[0m\n",
       "\u001b[31m│\u001b[0m \u001b[2;33m/usr/local/lib/python3.9/dist-packages/tensorflow/python/util/\u001b[0m\u001b[1;33mtraceback_utils.py\u001b[0m:\u001b[94m150\u001b[0m in          \u001b[31m│\u001b[0m\n",
       "\u001b[31m│\u001b[0m \u001b[92merror_handler\u001b[0m                                                                                    \u001b[31m│\u001b[0m\n",
       "\u001b[31m│\u001b[0m                                                                                                  \u001b[31m│\u001b[0m\n",
       "\u001b[31m│\u001b[0m   \u001b[2m147 \u001b[0m\u001b[2m│   \u001b[0m                                                                                       \u001b[31m│\u001b[0m\n",
       "\u001b[31m│\u001b[0m   \u001b[2m148 \u001b[0m\u001b[2m│   \u001b[0mfiltered_tb = \u001b[94mNone\u001b[0m                                                                     \u001b[31m│\u001b[0m\n",
       "\u001b[31m│\u001b[0m   \u001b[2m149 \u001b[0m\u001b[2m│   \u001b[0m\u001b[94mtry\u001b[0m:                                                                                   \u001b[31m│\u001b[0m\n",
       "\u001b[31m│\u001b[0m \u001b[31m❱ \u001b[0m150 \u001b[2m│     \u001b[0m\u001b[94mreturn\u001b[0m fn(*args, **kwargs)                                                           \u001b[31m│\u001b[0m\n",
       "\u001b[31m│\u001b[0m   \u001b[2m151 \u001b[0m\u001b[2m│   \u001b[0m\u001b[94mexcept\u001b[0m \u001b[96mException\u001b[0m \u001b[94mas\u001b[0m e:                                                                 \u001b[31m│\u001b[0m\n",
       "\u001b[31m│\u001b[0m   \u001b[2m152 \u001b[0m\u001b[2m│     \u001b[0mfiltered_tb = _process_traceback_frames(e.__traceback__)                             \u001b[31m│\u001b[0m\n",
       "\u001b[31m│\u001b[0m   \u001b[2m153 \u001b[0m\u001b[2m│     \u001b[0m\u001b[94mraise\u001b[0m e.with_traceback(filtered_tb) \u001b[94mfrom\u001b[0m \u001b[94mNone\u001b[0m                                        \u001b[31m│\u001b[0m\n",
       "\u001b[31m│\u001b[0m                                                                                                  \u001b[31m│\u001b[0m\n",
       "\u001b[31m│\u001b[0m \u001b[2;33m/usr/local/lib/python3.9/dist-packages/tensorflow/python/eager/polymorphic_function/\u001b[0m\u001b[1;33mpolymorphic_\u001b[0m \u001b[31m│\u001b[0m\n",
       "\u001b[31m│\u001b[0m \u001b[1;33mfunction.py\u001b[0m:\u001b[94m880\u001b[0m in \u001b[92m__call__\u001b[0m                                                                      \u001b[31m│\u001b[0m\n",
       "\u001b[31m│\u001b[0m                                                                                                  \u001b[31m│\u001b[0m\n",
       "\u001b[31m│\u001b[0m   \u001b[2m 877 \u001b[0m\u001b[2m│     \u001b[0mcompiler = \u001b[33m\"\u001b[0m\u001b[33mxla\u001b[0m\u001b[33m\"\u001b[0m \u001b[94mif\u001b[0m \u001b[96mself\u001b[0m._jit_compile \u001b[94melse\u001b[0m \u001b[33m\"\u001b[0m\u001b[33mnonXla\u001b[0m\u001b[33m\"\u001b[0m                                 \u001b[31m│\u001b[0m\n",
       "\u001b[31m│\u001b[0m   \u001b[2m 878 \u001b[0m\u001b[2m│     \u001b[0m                                                                                    \u001b[31m│\u001b[0m\n",
       "\u001b[31m│\u001b[0m   \u001b[2m 879 \u001b[0m\u001b[2m│     \u001b[0m\u001b[94mwith\u001b[0m OptionalXlaContext(\u001b[96mself\u001b[0m._jit_compile):                                         \u001b[31m│\u001b[0m\n",
       "\u001b[31m│\u001b[0m \u001b[31m❱ \u001b[0m 880 \u001b[2m│   │   \u001b[0mresult = \u001b[96mself\u001b[0m._call(*args, **kwds)                                                \u001b[31m│\u001b[0m\n",
       "\u001b[31m│\u001b[0m   \u001b[2m 881 \u001b[0m\u001b[2m│     \u001b[0m                                                                                    \u001b[31m│\u001b[0m\n",
       "\u001b[31m│\u001b[0m   \u001b[2m 882 \u001b[0m\u001b[2m│     \u001b[0mnew_tracing_count = \u001b[96mself\u001b[0m.experimental_get_tracing_count()                           \u001b[31m│\u001b[0m\n",
       "\u001b[31m│\u001b[0m   \u001b[2m 883 \u001b[0m\u001b[2m│     \u001b[0mwithout_tracing = (tracing_count == new_tracing_count)                              \u001b[31m│\u001b[0m\n",
       "\u001b[31m│\u001b[0m                                                                                                  \u001b[31m│\u001b[0m\n",
       "\u001b[31m│\u001b[0m \u001b[2;33m/usr/local/lib/python3.9/dist-packages/tensorflow/python/eager/polymorphic_function/\u001b[0m\u001b[1;33mpolymorphic_\u001b[0m \u001b[31m│\u001b[0m\n",
       "\u001b[31m│\u001b[0m \u001b[1;33mfunction.py\u001b[0m:\u001b[94m919\u001b[0m in \u001b[92m_call\u001b[0m                                                                         \u001b[31m│\u001b[0m\n",
       "\u001b[31m│\u001b[0m                                                                                                  \u001b[31m│\u001b[0m\n",
       "\u001b[31m│\u001b[0m   \u001b[2m 916 \u001b[0m\u001b[2m│     \u001b[0m\u001b[96mself\u001b[0m._lock.release()                                                                \u001b[31m│\u001b[0m\n",
       "\u001b[31m│\u001b[0m   \u001b[2m 917 \u001b[0m\u001b[2m│     \u001b[0m\u001b[2m# In this case we have not created variables on the first call. So we can\u001b[0m           \u001b[31m│\u001b[0m\n",
       "\u001b[31m│\u001b[0m   \u001b[2m 918 \u001b[0m\u001b[2m│     \u001b[0m\u001b[2m# run the first trace but we should fail if variables are created.\u001b[0m                  \u001b[31m│\u001b[0m\n",
       "\u001b[31m│\u001b[0m \u001b[31m❱ \u001b[0m 919 \u001b[2m│     \u001b[0mresults = \u001b[96mself\u001b[0m._variable_creation_fn(*args, **kwds)                                 \u001b[31m│\u001b[0m\n",
       "\u001b[31m│\u001b[0m   \u001b[2m 920 \u001b[0m\u001b[2m│     \u001b[0m\u001b[94mif\u001b[0m \u001b[96mself\u001b[0m._created_variables \u001b[95mand\u001b[0m \u001b[95mnot\u001b[0m ALLOW_DYNAMIC_VARIABLE_CREATION:                 \u001b[31m│\u001b[0m\n",
       "\u001b[31m│\u001b[0m   \u001b[2m 921 \u001b[0m\u001b[2m│   │   \u001b[0m\u001b[94mraise\u001b[0m \u001b[96mValueError\u001b[0m(\u001b[33m\"\u001b[0m\u001b[33mCreating variables on a non-first call to a function\u001b[0m\u001b[33m\"\u001b[0m           \u001b[31m│\u001b[0m\n",
       "\u001b[31m│\u001b[0m   \u001b[2m 922 \u001b[0m\u001b[2m│   │   │   │   │   │    \u001b[0m\u001b[33m\"\u001b[0m\u001b[33m decorated with tf.function.\u001b[0m\u001b[33m\"\u001b[0m)                                  \u001b[31m│\u001b[0m\n",
       "\u001b[31m│\u001b[0m                                                                                                  \u001b[31m│\u001b[0m\n",
       "\u001b[31m│\u001b[0m \u001b[2;33m/usr/local/lib/python3.9/dist-packages/tensorflow/python/eager/polymorphic_function/\u001b[0m\u001b[1;33mtracing_comp\u001b[0m \u001b[31m│\u001b[0m\n",
       "\u001b[31m│\u001b[0m \u001b[1;33miler.py\u001b[0m:\u001b[94m134\u001b[0m in \u001b[92m__call__\u001b[0m                                                                          \u001b[31m│\u001b[0m\n",
       "\u001b[31m│\u001b[0m                                                                                                  \u001b[31m│\u001b[0m\n",
       "\u001b[31m│\u001b[0m   \u001b[2m131 \u001b[0m\u001b[2m│   \u001b[0m\u001b[94mwith\u001b[0m \u001b[96mself\u001b[0m._lock:                                                                       \u001b[31m│\u001b[0m\n",
       "\u001b[31m│\u001b[0m   \u001b[2m132 \u001b[0m\u001b[2m│     \u001b[0m(concrete_function,                                                                  \u001b[31m│\u001b[0m\n",
       "\u001b[31m│\u001b[0m   \u001b[2m133 \u001b[0m\u001b[2m│      \u001b[0mfiltered_flat_args) = \u001b[96mself\u001b[0m._maybe_define_function(args, kwargs)                     \u001b[31m│\u001b[0m\n",
       "\u001b[31m│\u001b[0m \u001b[31m❱ \u001b[0m134 \u001b[2m│   \u001b[0m\u001b[94mreturn\u001b[0m concrete_function._call_flat(                                                   \u001b[31m│\u001b[0m\n",
       "\u001b[31m│\u001b[0m   \u001b[2m135 \u001b[0m\u001b[2m│   │   \u001b[0mfiltered_flat_args, captured_inputs=concrete_function.captured_inputs)  \u001b[2m# pylint\u001b[0m   \u001b[31m│\u001b[0m\n",
       "\u001b[31m│\u001b[0m   \u001b[2m136 \u001b[0m\u001b[2m  \u001b[0m                                                                                         \u001b[31m│\u001b[0m\n",
       "\u001b[31m│\u001b[0m   \u001b[2m137 \u001b[0m\u001b[2m  \u001b[0m\u001b[1;95m@property\u001b[0m                                                                                \u001b[31m│\u001b[0m\n",
       "\u001b[31m│\u001b[0m                                                                                                  \u001b[31m│\u001b[0m\n",
       "\u001b[31m│\u001b[0m \u001b[2;33m/usr/local/lib/python3.9/dist-packages/tensorflow/python/eager/polymorphic_function/\u001b[0m\u001b[1;33mmonomorphic_\u001b[0m \u001b[31m│\u001b[0m\n",
       "\u001b[31m│\u001b[0m \u001b[1;33mfunction.py\u001b[0m:\u001b[94m1745\u001b[0m in \u001b[92m_call_flat\u001b[0m                                                                   \u001b[31m│\u001b[0m\n",
       "\u001b[31m│\u001b[0m                                                                                                  \u001b[31m│\u001b[0m\n",
       "\u001b[31m│\u001b[0m   \u001b[2m1742 \u001b[0m\u001b[2m│   \u001b[0m\u001b[94mif\u001b[0m (possible_gradient_type == gradients_util.POSSIBLE_GRADIENT_TYPES_NONE             \u001b[31m│\u001b[0m\n",
       "\u001b[31m│\u001b[0m   \u001b[2m1743 \u001b[0m\u001b[2m│   │   \u001b[0m\u001b[95mand\u001b[0m executing_eagerly):                                                           \u001b[31m│\u001b[0m\n",
       "\u001b[31m│\u001b[0m   \u001b[2m1744 \u001b[0m\u001b[2m│     \u001b[0m\u001b[2m# No tape is watching; skip to running the function.\u001b[0m                                \u001b[31m│\u001b[0m\n",
       "\u001b[31m│\u001b[0m \u001b[31m❱ \u001b[0m1745 \u001b[2m│     \u001b[0m\u001b[94mreturn\u001b[0m \u001b[96mself\u001b[0m._build_call_outputs(\u001b[96mself\u001b[0m._inference_function.call(                      \u001b[31m│\u001b[0m\n",
       "\u001b[31m│\u001b[0m   \u001b[2m1746 \u001b[0m\u001b[2m│   │     \u001b[0mctx, args, cancellation_manager=cancellation_manager))                          \u001b[31m│\u001b[0m\n",
       "\u001b[31m│\u001b[0m   \u001b[2m1747 \u001b[0m\u001b[2m│   \u001b[0mforward_backward = \u001b[96mself\u001b[0m._select_forward_and_backward_functions(                       \u001b[31m│\u001b[0m\n",
       "\u001b[31m│\u001b[0m   \u001b[2m1748 \u001b[0m\u001b[2m│   │   \u001b[0margs,                                                                             \u001b[31m│\u001b[0m\n",
       "\u001b[31m│\u001b[0m                                                                                                  \u001b[31m│\u001b[0m\n",
       "\u001b[31m│\u001b[0m \u001b[2;33m/usr/local/lib/python3.9/dist-packages/tensorflow/python/eager/polymorphic_function/\u001b[0m\u001b[1;33mmonomorphic_\u001b[0m \u001b[31m│\u001b[0m\n",
       "\u001b[31m│\u001b[0m \u001b[1;33mfunction.py\u001b[0m:\u001b[94m378\u001b[0m in \u001b[92mcall\u001b[0m                                                                          \u001b[31m│\u001b[0m\n",
       "\u001b[31m│\u001b[0m                                                                                                  \u001b[31m│\u001b[0m\n",
       "\u001b[31m│\u001b[0m   \u001b[2m 375 \u001b[0m\u001b[2m│   \u001b[0m\u001b[94mif\u001b[0m executing_eagerly:                                                                 \u001b[31m│\u001b[0m\n",
       "\u001b[31m│\u001b[0m   \u001b[2m 376 \u001b[0m\u001b[2m│     \u001b[0m\u001b[94mwith\u001b[0m _InterpolateFunctionError(\u001b[96mself\u001b[0m):                                               \u001b[31m│\u001b[0m\n",
       "\u001b[31m│\u001b[0m   \u001b[2m 377 \u001b[0m\u001b[2m│   │   \u001b[0m\u001b[94mif\u001b[0m cancellation_manager \u001b[95mis\u001b[0m \u001b[94mNone\u001b[0m:                                                  \u001b[31m│\u001b[0m\n",
       "\u001b[31m│\u001b[0m \u001b[31m❱ \u001b[0m 378 \u001b[2m│   │     \u001b[0moutputs = execute.execute(                                                      \u001b[31m│\u001b[0m\n",
       "\u001b[31m│\u001b[0m   \u001b[2m 379 \u001b[0m\u001b[2m│   │   │     \u001b[0m\u001b[96mstr\u001b[0m(\u001b[96mself\u001b[0m.signature.name),                                                   \u001b[31m│\u001b[0m\n",
       "\u001b[31m│\u001b[0m   \u001b[2m 380 \u001b[0m\u001b[2m│   │   │     \u001b[0mnum_outputs=\u001b[96mself\u001b[0m._num_outputs,                                              \u001b[31m│\u001b[0m\n",
       "\u001b[31m│\u001b[0m   \u001b[2m 381 \u001b[0m\u001b[2m│   │   │     \u001b[0minputs=args,                                                                \u001b[31m│\u001b[0m\n",
       "\u001b[31m│\u001b[0m                                                                                                  \u001b[31m│\u001b[0m\n",
       "\u001b[31m│\u001b[0m \u001b[2;33m/usr/local/lib/python3.9/dist-packages/tensorflow/python/eager/\u001b[0m\u001b[1;33mexecute.py\u001b[0m:\u001b[94m52\u001b[0m in \u001b[92mquick_execute\u001b[0m    \u001b[31m│\u001b[0m\n",
       "\u001b[31m│\u001b[0m                                                                                                  \u001b[31m│\u001b[0m\n",
       "\u001b[31m│\u001b[0m   \u001b[2m 49 \u001b[0m\u001b[2m  \u001b[0m\u001b[2m# pylint: disable=protected-access\u001b[0m                                                       \u001b[31m│\u001b[0m\n",
       "\u001b[31m│\u001b[0m   \u001b[2m 50 \u001b[0m\u001b[2m  \u001b[0m\u001b[94mtry\u001b[0m:                                                                                     \u001b[31m│\u001b[0m\n",
       "\u001b[31m│\u001b[0m   \u001b[2m 51 \u001b[0m\u001b[2m│   \u001b[0mctx.ensure_initialized()                                                               \u001b[31m│\u001b[0m\n",
       "\u001b[31m│\u001b[0m \u001b[31m❱ \u001b[0m 52 \u001b[2m│   \u001b[0mtensors = pywrap_tfe.TFE_Py_Execute(ctx._handle, device_name, op_name,                 \u001b[31m│\u001b[0m\n",
       "\u001b[31m│\u001b[0m   \u001b[2m 53 \u001b[0m\u001b[2m│   │   │   │   │   │   │   │   │   │   \u001b[0minputs, attrs, num_outputs)                        \u001b[31m│\u001b[0m\n",
       "\u001b[31m│\u001b[0m   \u001b[2m 54 \u001b[0m\u001b[2m  \u001b[0m\u001b[94mexcept\u001b[0m core._NotOkStatusException \u001b[94mas\u001b[0m e:                                                  \u001b[31m│\u001b[0m\n",
       "\u001b[31m│\u001b[0m   \u001b[2m 55 \u001b[0m\u001b[2m│   \u001b[0m\u001b[94mif\u001b[0m name \u001b[95mis\u001b[0m \u001b[95mnot\u001b[0m \u001b[94mNone\u001b[0m:                                                                   \u001b[31m│\u001b[0m\n",
       "\u001b[31m╰──────────────────────────────────────────────────────────────────────────────────────────────────╯\u001b[0m\n",
       "\u001b[1;91mKeyboardInterrupt\u001b[0m\n"
      ]
     },
     "metadata": {},
     "output_type": "display_data"
    }
   ],
   "source": [
    "X_encoded_1 = encode_sparsed_list(data_affiliations_pairs[:, 0],char_to_index_dict=char_to_index, max_len=MAX_NAME_LEN)\n",
    "X_encoded_2 = encode_sparsed_list(data_affiliations_pairs[:, 1],char_to_index_dict=char_to_index, max_len=MAX_NAME_LEN)\n",
    "    \n",
    "prediction = poi_c2v.model.predict((X_encoded_1, X_encoded_2))"
   ]
  },
  {
   "cell_type": "code",
   "execution_count": 253,
   "id": "0023f836-c514-4588-8b33-42a1c7b6d375",
   "metadata": {},
   "outputs": [],
   "source": [
    "prediction_token_set = np.array([fuzz.token_set_ratio(name1, name2)/100 for name1, name2 in data_affiliations_pairs])"
   ]
  },
  {
   "cell_type": "code",
   "execution_count": 254,
   "id": "c14d599c-57fc-44c7-bf3f-e62ca04b9c5c",
   "metadata": {},
   "outputs": [],
   "source": [
    "data_affiliations['cnn_prediction'] = prediction.flatten()\n",
    "data_affiliations['token_set_prediction'] = prediction_token_set\n",
    "\n",
    "data_affiliations['cnn_match'] = prediction>.5\n",
    "data_affiliations['token_set_match'] = prediction_token_set>.75"
   ]
  },
  {
   "cell_type": "code",
   "execution_count": 255,
   "id": "175d0a99-5b1a-4120-b566-fce0797f9cc3",
   "metadata": {},
   "outputs": [
    {
     "data": {
      "text/html": [
       "<pre style=\"white-space:pre;overflow-x:auto;line-height:normal;font-family:Menlo,'DejaVu Sans Mono',consolas,'Courier New',monospace\"><span style=\"color: #800000; text-decoration-color: #800000\">╭─────────────────────────────── </span><span style=\"color: #800000; text-decoration-color: #800000; font-weight: bold\">Traceback </span><span style=\"color: #bf7f7f; text-decoration-color: #bf7f7f; font-weight: bold\">(most recent call last)</span><span style=\"color: #800000; text-decoration-color: #800000\"> ────────────────────────────────╮</span>\n",
       "<span style=\"color: #800000; text-decoration-color: #800000\">│</span> in <span style=\"color: #00ff00; text-decoration-color: #00ff00\">&lt;cell line: 1&gt;</span>:<span style=\"color: #0000ff; text-decoration-color: #0000ff\">1</span>                                                                              <span style=\"color: #800000; text-decoration-color: #800000\">│</span>\n",
       "<span style=\"color: #800000; text-decoration-color: #800000\">│</span>                                                                                                  <span style=\"color: #800000; text-decoration-color: #800000\">│</span>\n",
       "<span style=\"color: #800000; text-decoration-color: #800000\">│</span> <span style=\"color: #800000; text-decoration-color: #800000\">❱ </span>1 data_affiliations.to_csv(<span style=\"color: #808000; text-decoration-color: #808000\">'affiliations_cnn_vs_edit_predictions.csv'</span>, index=<span style=\"color: #0000ff; text-decoration-color: #0000ff\">False</span>)            <span style=\"color: #800000; text-decoration-color: #800000\">│</span>\n",
       "<span style=\"color: #800000; text-decoration-color: #800000\">│</span>   <span style=\"color: #7f7f7f; text-decoration-color: #7f7f7f\">2 </span>                                                                                             <span style=\"color: #800000; text-decoration-color: #800000\">│</span>\n",
       "<span style=\"color: #800000; text-decoration-color: #800000\">│</span>                                                                                                  <span style=\"color: #800000; text-decoration-color: #800000\">│</span>\n",
       "<span style=\"color: #800000; text-decoration-color: #800000\">│</span> <span style=\"color: #bfbf7f; text-decoration-color: #bfbf7f\">/usr/local/lib/python3.9/dist-packages/pandas/util/</span><span style=\"color: #808000; text-decoration-color: #808000; font-weight: bold\">_decorators.py</span>:<span style=\"color: #0000ff; text-decoration-color: #0000ff\">211</span> in <span style=\"color: #00ff00; text-decoration-color: #00ff00\">wrapper</span>                 <span style=\"color: #800000; text-decoration-color: #800000\">│</span>\n",
       "<span style=\"color: #800000; text-decoration-color: #800000\">│</span>                                                                                                  <span style=\"color: #800000; text-decoration-color: #800000\">│</span>\n",
       "<span style=\"color: #800000; text-decoration-color: #800000\">│</span>   <span style=\"color: #7f7f7f; text-decoration-color: #7f7f7f\">208 </span><span style=\"color: #7f7f7f; text-decoration-color: #7f7f7f\">│   │   │   │   │   </span><span style=\"color: #0000ff; text-decoration-color: #0000ff\">raise</span> <span style=\"color: #00ffff; text-decoration-color: #00ffff\">TypeError</span>(msg)                                                   <span style=\"color: #800000; text-decoration-color: #800000\">│</span>\n",
       "<span style=\"color: #800000; text-decoration-color: #800000\">│</span>   <span style=\"color: #7f7f7f; text-decoration-color: #7f7f7f\">209 </span><span style=\"color: #7f7f7f; text-decoration-color: #7f7f7f\">│   │   │   │   </span><span style=\"color: #0000ff; text-decoration-color: #0000ff\">else</span>:                                                                      <span style=\"color: #800000; text-decoration-color: #800000\">│</span>\n",
       "<span style=\"color: #800000; text-decoration-color: #800000\">│</span>   <span style=\"color: #7f7f7f; text-decoration-color: #7f7f7f\">210 </span><span style=\"color: #7f7f7f; text-decoration-color: #7f7f7f\">│   │   │   │   │   </span>kwargs[new_arg_name] = new_arg_value                                   <span style=\"color: #800000; text-decoration-color: #800000\">│</span>\n",
       "<span style=\"color: #800000; text-decoration-color: #800000\">│</span> <span style=\"color: #800000; text-decoration-color: #800000\">❱ </span>211 <span style=\"color: #7f7f7f; text-decoration-color: #7f7f7f\">│   │   │   </span><span style=\"color: #0000ff; text-decoration-color: #0000ff\">return</span> func(*args, **kwargs)                                                   <span style=\"color: #800000; text-decoration-color: #800000\">│</span>\n",
       "<span style=\"color: #800000; text-decoration-color: #800000\">│</span>   <span style=\"color: #7f7f7f; text-decoration-color: #7f7f7f\">212 </span><span style=\"color: #7f7f7f; text-decoration-color: #7f7f7f\">│   │   </span>                                                                                   <span style=\"color: #800000; text-decoration-color: #800000\">│</span>\n",
       "<span style=\"color: #800000; text-decoration-color: #800000\">│</span>   <span style=\"color: #7f7f7f; text-decoration-color: #7f7f7f\">213 </span><span style=\"color: #7f7f7f; text-decoration-color: #7f7f7f\">│   │   </span><span style=\"color: #0000ff; text-decoration-color: #0000ff\">return</span> cast(F, wrapper)                                                            <span style=\"color: #800000; text-decoration-color: #800000\">│</span>\n",
       "<span style=\"color: #800000; text-decoration-color: #800000\">│</span>   <span style=\"color: #7f7f7f; text-decoration-color: #7f7f7f\">214 </span>                                                                                           <span style=\"color: #800000; text-decoration-color: #800000\">│</span>\n",
       "<span style=\"color: #800000; text-decoration-color: #800000\">│</span>                                                                                                  <span style=\"color: #800000; text-decoration-color: #800000\">│</span>\n",
       "<span style=\"color: #800000; text-decoration-color: #800000\">│</span> <span style=\"color: #bfbf7f; text-decoration-color: #bfbf7f\">/usr/local/lib/python3.9/dist-packages/pandas/core/</span><span style=\"color: #808000; text-decoration-color: #808000; font-weight: bold\">generic.py</span>:<span style=\"color: #0000ff; text-decoration-color: #0000ff\">3720</span> in <span style=\"color: #00ff00; text-decoration-color: #00ff00\">to_csv</span>                     <span style=\"color: #800000; text-decoration-color: #800000\">│</span>\n",
       "<span style=\"color: #800000; text-decoration-color: #800000\">│</span>                                                                                                  <span style=\"color: #800000; text-decoration-color: #800000\">│</span>\n",
       "<span style=\"color: #800000; text-decoration-color: #800000\">│</span>   <span style=\"color: #7f7f7f; text-decoration-color: #7f7f7f\"> 3717 </span><span style=\"color: #7f7f7f; text-decoration-color: #7f7f7f\">│   │   │   </span>decimal=decimal,                                                             <span style=\"color: #800000; text-decoration-color: #800000\">│</span>\n",
       "<span style=\"color: #800000; text-decoration-color: #800000\">│</span>   <span style=\"color: #7f7f7f; text-decoration-color: #7f7f7f\"> 3718 </span><span style=\"color: #7f7f7f; text-decoration-color: #7f7f7f\">│   │   </span>)                                                                                <span style=\"color: #800000; text-decoration-color: #800000\">│</span>\n",
       "<span style=\"color: #800000; text-decoration-color: #800000\">│</span>   <span style=\"color: #7f7f7f; text-decoration-color: #7f7f7f\"> 3719 </span><span style=\"color: #7f7f7f; text-decoration-color: #7f7f7f\">│   │   </span>                                                                                 <span style=\"color: #800000; text-decoration-color: #800000\">│</span>\n",
       "<span style=\"color: #800000; text-decoration-color: #800000\">│</span> <span style=\"color: #800000; text-decoration-color: #800000\">❱ </span> 3720 <span style=\"color: #7f7f7f; text-decoration-color: #7f7f7f\">│   │   </span><span style=\"color: #0000ff; text-decoration-color: #0000ff\">return</span> DataFrameRenderer(formatter).to_csv(                                      <span style=\"color: #800000; text-decoration-color: #800000\">│</span>\n",
       "<span style=\"color: #800000; text-decoration-color: #800000\">│</span>   <span style=\"color: #7f7f7f; text-decoration-color: #7f7f7f\"> 3721 </span><span style=\"color: #7f7f7f; text-decoration-color: #7f7f7f\">│   │   │   </span>path_or_buf,                                                                 <span style=\"color: #800000; text-decoration-color: #800000\">│</span>\n",
       "<span style=\"color: #800000; text-decoration-color: #800000\">│</span>   <span style=\"color: #7f7f7f; text-decoration-color: #7f7f7f\"> 3722 </span><span style=\"color: #7f7f7f; text-decoration-color: #7f7f7f\">│   │   │   </span>lineterminator=lineterminator,                                               <span style=\"color: #800000; text-decoration-color: #800000\">│</span>\n",
       "<span style=\"color: #800000; text-decoration-color: #800000\">│</span>   <span style=\"color: #7f7f7f; text-decoration-color: #7f7f7f\"> 3723 </span><span style=\"color: #7f7f7f; text-decoration-color: #7f7f7f\">│   │   │   </span>sep=sep,                                                                     <span style=\"color: #800000; text-decoration-color: #800000\">│</span>\n",
       "<span style=\"color: #800000; text-decoration-color: #800000\">│</span>                                                                                                  <span style=\"color: #800000; text-decoration-color: #800000\">│</span>\n",
       "<span style=\"color: #800000; text-decoration-color: #800000\">│</span> <span style=\"color: #bfbf7f; text-decoration-color: #bfbf7f\">/usr/local/lib/python3.9/dist-packages/pandas/util/</span><span style=\"color: #808000; text-decoration-color: #808000; font-weight: bold\">_decorators.py</span>:<span style=\"color: #0000ff; text-decoration-color: #0000ff\">211</span> in <span style=\"color: #00ff00; text-decoration-color: #00ff00\">wrapper</span>                 <span style=\"color: #800000; text-decoration-color: #800000\">│</span>\n",
       "<span style=\"color: #800000; text-decoration-color: #800000\">│</span>                                                                                                  <span style=\"color: #800000; text-decoration-color: #800000\">│</span>\n",
       "<span style=\"color: #800000; text-decoration-color: #800000\">│</span>   <span style=\"color: #7f7f7f; text-decoration-color: #7f7f7f\">208 </span><span style=\"color: #7f7f7f; text-decoration-color: #7f7f7f\">│   │   │   │   │   </span><span style=\"color: #0000ff; text-decoration-color: #0000ff\">raise</span> <span style=\"color: #00ffff; text-decoration-color: #00ffff\">TypeError</span>(msg)                                                   <span style=\"color: #800000; text-decoration-color: #800000\">│</span>\n",
       "<span style=\"color: #800000; text-decoration-color: #800000\">│</span>   <span style=\"color: #7f7f7f; text-decoration-color: #7f7f7f\">209 </span><span style=\"color: #7f7f7f; text-decoration-color: #7f7f7f\">│   │   │   │   </span><span style=\"color: #0000ff; text-decoration-color: #0000ff\">else</span>:                                                                      <span style=\"color: #800000; text-decoration-color: #800000\">│</span>\n",
       "<span style=\"color: #800000; text-decoration-color: #800000\">│</span>   <span style=\"color: #7f7f7f; text-decoration-color: #7f7f7f\">210 </span><span style=\"color: #7f7f7f; text-decoration-color: #7f7f7f\">│   │   │   │   │   </span>kwargs[new_arg_name] = new_arg_value                                   <span style=\"color: #800000; text-decoration-color: #800000\">│</span>\n",
       "<span style=\"color: #800000; text-decoration-color: #800000\">│</span> <span style=\"color: #800000; text-decoration-color: #800000\">❱ </span>211 <span style=\"color: #7f7f7f; text-decoration-color: #7f7f7f\">│   │   │   </span><span style=\"color: #0000ff; text-decoration-color: #0000ff\">return</span> func(*args, **kwargs)                                                   <span style=\"color: #800000; text-decoration-color: #800000\">│</span>\n",
       "<span style=\"color: #800000; text-decoration-color: #800000\">│</span>   <span style=\"color: #7f7f7f; text-decoration-color: #7f7f7f\">212 </span><span style=\"color: #7f7f7f; text-decoration-color: #7f7f7f\">│   │   </span>                                                                                   <span style=\"color: #800000; text-decoration-color: #800000\">│</span>\n",
       "<span style=\"color: #800000; text-decoration-color: #800000\">│</span>   <span style=\"color: #7f7f7f; text-decoration-color: #7f7f7f\">213 </span><span style=\"color: #7f7f7f; text-decoration-color: #7f7f7f\">│   │   </span><span style=\"color: #0000ff; text-decoration-color: #0000ff\">return</span> cast(F, wrapper)                                                            <span style=\"color: #800000; text-decoration-color: #800000\">│</span>\n",
       "<span style=\"color: #800000; text-decoration-color: #800000\">│</span>   <span style=\"color: #7f7f7f; text-decoration-color: #7f7f7f\">214 </span>                                                                                           <span style=\"color: #800000; text-decoration-color: #800000\">│</span>\n",
       "<span style=\"color: #800000; text-decoration-color: #800000\">│</span>                                                                                                  <span style=\"color: #800000; text-decoration-color: #800000\">│</span>\n",
       "<span style=\"color: #800000; text-decoration-color: #800000\">│</span> <span style=\"color: #bfbf7f; text-decoration-color: #bfbf7f\">/usr/local/lib/python3.9/dist-packages/pandas/io/formats/</span><span style=\"color: #808000; text-decoration-color: #808000; font-weight: bold\">format.py</span>:<span style=\"color: #0000ff; text-decoration-color: #0000ff\">1189</span> in <span style=\"color: #00ff00; text-decoration-color: #00ff00\">to_csv</span>                <span style=\"color: #800000; text-decoration-color: #800000\">│</span>\n",
       "<span style=\"color: #800000; text-decoration-color: #800000\">│</span>                                                                                                  <span style=\"color: #800000; text-decoration-color: #800000\">│</span>\n",
       "<span style=\"color: #800000; text-decoration-color: #800000\">│</span>   <span style=\"color: #7f7f7f; text-decoration-color: #7f7f7f\">1186 </span><span style=\"color: #7f7f7f; text-decoration-color: #7f7f7f\">│   │   │   </span>storage_options=storage_options,                                              <span style=\"color: #800000; text-decoration-color: #800000\">│</span>\n",
       "<span style=\"color: #800000; text-decoration-color: #800000\">│</span>   <span style=\"color: #7f7f7f; text-decoration-color: #7f7f7f\">1187 </span><span style=\"color: #7f7f7f; text-decoration-color: #7f7f7f\">│   │   │   </span>formatter=<span style=\"color: #00ffff; text-decoration-color: #00ffff\">self</span>.fmt,                                                           <span style=\"color: #800000; text-decoration-color: #800000\">│</span>\n",
       "<span style=\"color: #800000; text-decoration-color: #800000\">│</span>   <span style=\"color: #7f7f7f; text-decoration-color: #7f7f7f\">1188 </span><span style=\"color: #7f7f7f; text-decoration-color: #7f7f7f\">│   │   </span>)                                                                                 <span style=\"color: #800000; text-decoration-color: #800000\">│</span>\n",
       "<span style=\"color: #800000; text-decoration-color: #800000\">│</span> <span style=\"color: #800000; text-decoration-color: #800000\">❱ </span>1189 <span style=\"color: #7f7f7f; text-decoration-color: #7f7f7f\">│   │   </span>csv_formatter.save()                                                              <span style=\"color: #800000; text-decoration-color: #800000\">│</span>\n",
       "<span style=\"color: #800000; text-decoration-color: #800000\">│</span>   <span style=\"color: #7f7f7f; text-decoration-color: #7f7f7f\">1190 </span><span style=\"color: #7f7f7f; text-decoration-color: #7f7f7f\">│   │   </span>                                                                                  <span style=\"color: #800000; text-decoration-color: #800000\">│</span>\n",
       "<span style=\"color: #800000; text-decoration-color: #800000\">│</span>   <span style=\"color: #7f7f7f; text-decoration-color: #7f7f7f\">1191 </span><span style=\"color: #7f7f7f; text-decoration-color: #7f7f7f\">│   │   </span><span style=\"color: #0000ff; text-decoration-color: #0000ff\">if</span> created_buffer:                                                                <span style=\"color: #800000; text-decoration-color: #800000\">│</span>\n",
       "<span style=\"color: #800000; text-decoration-color: #800000\">│</span>   <span style=\"color: #7f7f7f; text-decoration-color: #7f7f7f\">1192 </span><span style=\"color: #7f7f7f; text-decoration-color: #7f7f7f\">│   │   │   </span><span style=\"color: #0000ff; text-decoration-color: #0000ff\">assert</span> <span style=\"color: #00ffff; text-decoration-color: #00ffff\">isinstance</span>(path_or_buf, StringIO)                                      <span style=\"color: #800000; text-decoration-color: #800000\">│</span>\n",
       "<span style=\"color: #800000; text-decoration-color: #800000\">│</span>                                                                                                  <span style=\"color: #800000; text-decoration-color: #800000\">│</span>\n",
       "<span style=\"color: #800000; text-decoration-color: #800000\">│</span> <span style=\"color: #bfbf7f; text-decoration-color: #bfbf7f\">/usr/local/lib/python3.9/dist-packages/pandas/io/formats/</span><span style=\"color: #808000; text-decoration-color: #808000; font-weight: bold\">csvs.py</span>:<span style=\"color: #0000ff; text-decoration-color: #0000ff\">241</span> in <span style=\"color: #00ff00; text-decoration-color: #00ff00\">save</span>                     <span style=\"color: #800000; text-decoration-color: #800000\">│</span>\n",
       "<span style=\"color: #800000; text-decoration-color: #800000\">│</span>                                                                                                  <span style=\"color: #800000; text-decoration-color: #800000\">│</span>\n",
       "<span style=\"color: #800000; text-decoration-color: #800000\">│</span>   <span style=\"color: #7f7f7f; text-decoration-color: #7f7f7f\">238 </span><span style=\"color: #bfbf7f; text-decoration-color: #bfbf7f\">│   │   </span><span style=\"color: #808000; text-decoration-color: #808000\">Create the writer &amp; save.</span>                                                          <span style=\"color: #800000; text-decoration-color: #800000\">│</span>\n",
       "<span style=\"color: #800000; text-decoration-color: #800000\">│</span>   <span style=\"color: #7f7f7f; text-decoration-color: #7f7f7f\">239 </span><span style=\"color: #bfbf7f; text-decoration-color: #bfbf7f\">│   │   </span><span style=\"color: #808000; text-decoration-color: #808000\">\"\"\"</span>                                                                                <span style=\"color: #800000; text-decoration-color: #800000\">│</span>\n",
       "<span style=\"color: #800000; text-decoration-color: #800000\">│</span>   <span style=\"color: #7f7f7f; text-decoration-color: #7f7f7f\">240 </span><span style=\"color: #7f7f7f; text-decoration-color: #7f7f7f\">│   │   </span><span style=\"color: #7f7f7f; text-decoration-color: #7f7f7f\"># apply compression and byte/text conversion</span>                                       <span style=\"color: #800000; text-decoration-color: #800000\">│</span>\n",
       "<span style=\"color: #800000; text-decoration-color: #800000\">│</span> <span style=\"color: #800000; text-decoration-color: #800000\">❱ </span>241 <span style=\"color: #7f7f7f; text-decoration-color: #7f7f7f\">│   │   </span><span style=\"color: #0000ff; text-decoration-color: #0000ff\">with</span> get_handle(                                                                   <span style=\"color: #800000; text-decoration-color: #800000\">│</span>\n",
       "<span style=\"color: #800000; text-decoration-color: #800000\">│</span>   <span style=\"color: #7f7f7f; text-decoration-color: #7f7f7f\">242 </span><span style=\"color: #7f7f7f; text-decoration-color: #7f7f7f\">│   │   │   </span><span style=\"color: #00ffff; text-decoration-color: #00ffff\">self</span>.filepath_or_buffer,                                                       <span style=\"color: #800000; text-decoration-color: #800000\">│</span>\n",
       "<span style=\"color: #800000; text-decoration-color: #800000\">│</span>   <span style=\"color: #7f7f7f; text-decoration-color: #7f7f7f\">243 </span><span style=\"color: #7f7f7f; text-decoration-color: #7f7f7f\">│   │   │   </span><span style=\"color: #00ffff; text-decoration-color: #00ffff\">self</span>.mode,                                                                     <span style=\"color: #800000; text-decoration-color: #800000\">│</span>\n",
       "<span style=\"color: #800000; text-decoration-color: #800000\">│</span>   <span style=\"color: #7f7f7f; text-decoration-color: #7f7f7f\">244 </span><span style=\"color: #7f7f7f; text-decoration-color: #7f7f7f\">│   │   │   </span>encoding=<span style=\"color: #00ffff; text-decoration-color: #00ffff\">self</span>.encoding,                                                        <span style=\"color: #800000; text-decoration-color: #800000\">│</span>\n",
       "<span style=\"color: #800000; text-decoration-color: #800000\">│</span>                                                                                                  <span style=\"color: #800000; text-decoration-color: #800000\">│</span>\n",
       "<span style=\"color: #800000; text-decoration-color: #800000\">│</span> <span style=\"color: #bfbf7f; text-decoration-color: #bfbf7f\">/usr/local/lib/python3.9/dist-packages/pandas/io/</span><span style=\"color: #808000; text-decoration-color: #808000; font-weight: bold\">common.py</span>:<span style=\"color: #0000ff; text-decoration-color: #0000ff\">856</span> in <span style=\"color: #00ff00; text-decoration-color: #00ff00\">get_handle</span>                     <span style=\"color: #800000; text-decoration-color: #800000\">│</span>\n",
       "<span style=\"color: #800000; text-decoration-color: #800000\">│</span>                                                                                                  <span style=\"color: #800000; text-decoration-color: #800000\">│</span>\n",
       "<span style=\"color: #800000; text-decoration-color: #800000\">│</span>   <span style=\"color: #7f7f7f; text-decoration-color: #7f7f7f\"> 853 </span><span style=\"color: #7f7f7f; text-decoration-color: #7f7f7f\">│   │   </span><span style=\"color: #7f7f7f; text-decoration-color: #7f7f7f\"># Binary mode does not support 'encoding' and 'newline'.</span>                          <span style=\"color: #800000; text-decoration-color: #800000\">│</span>\n",
       "<span style=\"color: #800000; text-decoration-color: #800000\">│</span>   <span style=\"color: #7f7f7f; text-decoration-color: #7f7f7f\"> 854 </span><span style=\"color: #7f7f7f; text-decoration-color: #7f7f7f\">│   │   </span><span style=\"color: #0000ff; text-decoration-color: #0000ff\">if</span> ioargs.encoding <span style=\"color: #ff00ff; text-decoration-color: #ff00ff\">and</span> <span style=\"color: #808000; text-decoration-color: #808000\">\"b\"</span> <span style=\"color: #ff00ff; text-decoration-color: #ff00ff\">not</span> <span style=\"color: #ff00ff; text-decoration-color: #ff00ff\">in</span> ioargs.mode:                                    <span style=\"color: #800000; text-decoration-color: #800000\">│</span>\n",
       "<span style=\"color: #800000; text-decoration-color: #800000\">│</span>   <span style=\"color: #7f7f7f; text-decoration-color: #7f7f7f\"> 855 </span><span style=\"color: #7f7f7f; text-decoration-color: #7f7f7f\">│   │   │   </span><span style=\"color: #7f7f7f; text-decoration-color: #7f7f7f\"># Encoding</span>                                                                    <span style=\"color: #800000; text-decoration-color: #800000\">│</span>\n",
       "<span style=\"color: #800000; text-decoration-color: #800000\">│</span> <span style=\"color: #800000; text-decoration-color: #800000\">❱ </span> 856 <span style=\"color: #7f7f7f; text-decoration-color: #7f7f7f\">│   │   │   </span>handle = <span style=\"color: #00ffff; text-decoration-color: #00ffff\">open</span>(                                                                <span style=\"color: #800000; text-decoration-color: #800000\">│</span>\n",
       "<span style=\"color: #800000; text-decoration-color: #800000\">│</span>   <span style=\"color: #7f7f7f; text-decoration-color: #7f7f7f\"> 857 </span><span style=\"color: #7f7f7f; text-decoration-color: #7f7f7f\">│   │   │   │   </span>handle,                                                                   <span style=\"color: #800000; text-decoration-color: #800000\">│</span>\n",
       "<span style=\"color: #800000; text-decoration-color: #800000\">│</span>   <span style=\"color: #7f7f7f; text-decoration-color: #7f7f7f\"> 858 </span><span style=\"color: #7f7f7f; text-decoration-color: #7f7f7f\">│   │   │   │   </span>ioargs.mode,                                                              <span style=\"color: #800000; text-decoration-color: #800000\">│</span>\n",
       "<span style=\"color: #800000; text-decoration-color: #800000\">│</span>   <span style=\"color: #7f7f7f; text-decoration-color: #7f7f7f\"> 859 </span><span style=\"color: #7f7f7f; text-decoration-color: #7f7f7f\">│   │   │   │   </span>encoding=ioargs.encoding,                                                 <span style=\"color: #800000; text-decoration-color: #800000\">│</span>\n",
       "<span style=\"color: #800000; text-decoration-color: #800000\">╰──────────────────────────────────────────────────────────────────────────────────────────────────╯</span>\n",
       "<span style=\"color: #ff0000; text-decoration-color: #ff0000; font-weight: bold\">PermissionError: </span><span style=\"font-weight: bold\">[</span>Errno <span style=\"color: #008080; text-decoration-color: #008080; font-weight: bold\">13</span><span style=\"font-weight: bold\">]</span> Permission denied: <span style=\"color: #008000; text-decoration-color: #008000\">'affiliations_cnn_vs_edit_predictions.csv'</span>\n",
       "</pre>\n"
      ],
      "text/plain": [
       "\u001b[31m╭─\u001b[0m\u001b[31m──────────────────────────────\u001b[0m\u001b[31m \u001b[0m\u001b[1;31mTraceback \u001b[0m\u001b[1;2;31m(most recent call last)\u001b[0m\u001b[31m \u001b[0m\u001b[31m───────────────────────────────\u001b[0m\u001b[31m─╮\u001b[0m\n",
       "\u001b[31m│\u001b[0m in \u001b[92m<cell line: 1>\u001b[0m:\u001b[94m1\u001b[0m                                                                              \u001b[31m│\u001b[0m\n",
       "\u001b[31m│\u001b[0m                                                                                                  \u001b[31m│\u001b[0m\n",
       "\u001b[31m│\u001b[0m \u001b[31m❱ \u001b[0m1 data_affiliations.to_csv(\u001b[33m'\u001b[0m\u001b[33maffiliations_cnn_vs_edit_predictions.csv\u001b[0m\u001b[33m'\u001b[0m, index=\u001b[94mFalse\u001b[0m)            \u001b[31m│\u001b[0m\n",
       "\u001b[31m│\u001b[0m   \u001b[2m2 \u001b[0m                                                                                             \u001b[31m│\u001b[0m\n",
       "\u001b[31m│\u001b[0m                                                                                                  \u001b[31m│\u001b[0m\n",
       "\u001b[31m│\u001b[0m \u001b[2;33m/usr/local/lib/python3.9/dist-packages/pandas/util/\u001b[0m\u001b[1;33m_decorators.py\u001b[0m:\u001b[94m211\u001b[0m in \u001b[92mwrapper\u001b[0m                 \u001b[31m│\u001b[0m\n",
       "\u001b[31m│\u001b[0m                                                                                                  \u001b[31m│\u001b[0m\n",
       "\u001b[31m│\u001b[0m   \u001b[2m208 \u001b[0m\u001b[2m│   │   │   │   │   \u001b[0m\u001b[94mraise\u001b[0m \u001b[96mTypeError\u001b[0m(msg)                                                   \u001b[31m│\u001b[0m\n",
       "\u001b[31m│\u001b[0m   \u001b[2m209 \u001b[0m\u001b[2m│   │   │   │   \u001b[0m\u001b[94melse\u001b[0m:                                                                      \u001b[31m│\u001b[0m\n",
       "\u001b[31m│\u001b[0m   \u001b[2m210 \u001b[0m\u001b[2m│   │   │   │   │   \u001b[0mkwargs[new_arg_name] = new_arg_value                                   \u001b[31m│\u001b[0m\n",
       "\u001b[31m│\u001b[0m \u001b[31m❱ \u001b[0m211 \u001b[2m│   │   │   \u001b[0m\u001b[94mreturn\u001b[0m func(*args, **kwargs)                                                   \u001b[31m│\u001b[0m\n",
       "\u001b[31m│\u001b[0m   \u001b[2m212 \u001b[0m\u001b[2m│   │   \u001b[0m                                                                                   \u001b[31m│\u001b[0m\n",
       "\u001b[31m│\u001b[0m   \u001b[2m213 \u001b[0m\u001b[2m│   │   \u001b[0m\u001b[94mreturn\u001b[0m cast(F, wrapper)                                                            \u001b[31m│\u001b[0m\n",
       "\u001b[31m│\u001b[0m   \u001b[2m214 \u001b[0m                                                                                           \u001b[31m│\u001b[0m\n",
       "\u001b[31m│\u001b[0m                                                                                                  \u001b[31m│\u001b[0m\n",
       "\u001b[31m│\u001b[0m \u001b[2;33m/usr/local/lib/python3.9/dist-packages/pandas/core/\u001b[0m\u001b[1;33mgeneric.py\u001b[0m:\u001b[94m3720\u001b[0m in \u001b[92mto_csv\u001b[0m                     \u001b[31m│\u001b[0m\n",
       "\u001b[31m│\u001b[0m                                                                                                  \u001b[31m│\u001b[0m\n",
       "\u001b[31m│\u001b[0m   \u001b[2m 3717 \u001b[0m\u001b[2m│   │   │   \u001b[0mdecimal=decimal,                                                             \u001b[31m│\u001b[0m\n",
       "\u001b[31m│\u001b[0m   \u001b[2m 3718 \u001b[0m\u001b[2m│   │   \u001b[0m)                                                                                \u001b[31m│\u001b[0m\n",
       "\u001b[31m│\u001b[0m   \u001b[2m 3719 \u001b[0m\u001b[2m│   │   \u001b[0m                                                                                 \u001b[31m│\u001b[0m\n",
       "\u001b[31m│\u001b[0m \u001b[31m❱ \u001b[0m 3720 \u001b[2m│   │   \u001b[0m\u001b[94mreturn\u001b[0m DataFrameRenderer(formatter).to_csv(                                      \u001b[31m│\u001b[0m\n",
       "\u001b[31m│\u001b[0m   \u001b[2m 3721 \u001b[0m\u001b[2m│   │   │   \u001b[0mpath_or_buf,                                                                 \u001b[31m│\u001b[0m\n",
       "\u001b[31m│\u001b[0m   \u001b[2m 3722 \u001b[0m\u001b[2m│   │   │   \u001b[0mlineterminator=lineterminator,                                               \u001b[31m│\u001b[0m\n",
       "\u001b[31m│\u001b[0m   \u001b[2m 3723 \u001b[0m\u001b[2m│   │   │   \u001b[0msep=sep,                                                                     \u001b[31m│\u001b[0m\n",
       "\u001b[31m│\u001b[0m                                                                                                  \u001b[31m│\u001b[0m\n",
       "\u001b[31m│\u001b[0m \u001b[2;33m/usr/local/lib/python3.9/dist-packages/pandas/util/\u001b[0m\u001b[1;33m_decorators.py\u001b[0m:\u001b[94m211\u001b[0m in \u001b[92mwrapper\u001b[0m                 \u001b[31m│\u001b[0m\n",
       "\u001b[31m│\u001b[0m                                                                                                  \u001b[31m│\u001b[0m\n",
       "\u001b[31m│\u001b[0m   \u001b[2m208 \u001b[0m\u001b[2m│   │   │   │   │   \u001b[0m\u001b[94mraise\u001b[0m \u001b[96mTypeError\u001b[0m(msg)                                                   \u001b[31m│\u001b[0m\n",
       "\u001b[31m│\u001b[0m   \u001b[2m209 \u001b[0m\u001b[2m│   │   │   │   \u001b[0m\u001b[94melse\u001b[0m:                                                                      \u001b[31m│\u001b[0m\n",
       "\u001b[31m│\u001b[0m   \u001b[2m210 \u001b[0m\u001b[2m│   │   │   │   │   \u001b[0mkwargs[new_arg_name] = new_arg_value                                   \u001b[31m│\u001b[0m\n",
       "\u001b[31m│\u001b[0m \u001b[31m❱ \u001b[0m211 \u001b[2m│   │   │   \u001b[0m\u001b[94mreturn\u001b[0m func(*args, **kwargs)                                                   \u001b[31m│\u001b[0m\n",
       "\u001b[31m│\u001b[0m   \u001b[2m212 \u001b[0m\u001b[2m│   │   \u001b[0m                                                                                   \u001b[31m│\u001b[0m\n",
       "\u001b[31m│\u001b[0m   \u001b[2m213 \u001b[0m\u001b[2m│   │   \u001b[0m\u001b[94mreturn\u001b[0m cast(F, wrapper)                                                            \u001b[31m│\u001b[0m\n",
       "\u001b[31m│\u001b[0m   \u001b[2m214 \u001b[0m                                                                                           \u001b[31m│\u001b[0m\n",
       "\u001b[31m│\u001b[0m                                                                                                  \u001b[31m│\u001b[0m\n",
       "\u001b[31m│\u001b[0m \u001b[2;33m/usr/local/lib/python3.9/dist-packages/pandas/io/formats/\u001b[0m\u001b[1;33mformat.py\u001b[0m:\u001b[94m1189\u001b[0m in \u001b[92mto_csv\u001b[0m                \u001b[31m│\u001b[0m\n",
       "\u001b[31m│\u001b[0m                                                                                                  \u001b[31m│\u001b[0m\n",
       "\u001b[31m│\u001b[0m   \u001b[2m1186 \u001b[0m\u001b[2m│   │   │   \u001b[0mstorage_options=storage_options,                                              \u001b[31m│\u001b[0m\n",
       "\u001b[31m│\u001b[0m   \u001b[2m1187 \u001b[0m\u001b[2m│   │   │   \u001b[0mformatter=\u001b[96mself\u001b[0m.fmt,                                                           \u001b[31m│\u001b[0m\n",
       "\u001b[31m│\u001b[0m   \u001b[2m1188 \u001b[0m\u001b[2m│   │   \u001b[0m)                                                                                 \u001b[31m│\u001b[0m\n",
       "\u001b[31m│\u001b[0m \u001b[31m❱ \u001b[0m1189 \u001b[2m│   │   \u001b[0mcsv_formatter.save()                                                              \u001b[31m│\u001b[0m\n",
       "\u001b[31m│\u001b[0m   \u001b[2m1190 \u001b[0m\u001b[2m│   │   \u001b[0m                                                                                  \u001b[31m│\u001b[0m\n",
       "\u001b[31m│\u001b[0m   \u001b[2m1191 \u001b[0m\u001b[2m│   │   \u001b[0m\u001b[94mif\u001b[0m created_buffer:                                                                \u001b[31m│\u001b[0m\n",
       "\u001b[31m│\u001b[0m   \u001b[2m1192 \u001b[0m\u001b[2m│   │   │   \u001b[0m\u001b[94massert\u001b[0m \u001b[96misinstance\u001b[0m(path_or_buf, StringIO)                                      \u001b[31m│\u001b[0m\n",
       "\u001b[31m│\u001b[0m                                                                                                  \u001b[31m│\u001b[0m\n",
       "\u001b[31m│\u001b[0m \u001b[2;33m/usr/local/lib/python3.9/dist-packages/pandas/io/formats/\u001b[0m\u001b[1;33mcsvs.py\u001b[0m:\u001b[94m241\u001b[0m in \u001b[92msave\u001b[0m                     \u001b[31m│\u001b[0m\n",
       "\u001b[31m│\u001b[0m                                                                                                  \u001b[31m│\u001b[0m\n",
       "\u001b[31m│\u001b[0m   \u001b[2m238 \u001b[0m\u001b[2;33m│   │   \u001b[0m\u001b[33mCreate the writer & save.\u001b[0m                                                          \u001b[31m│\u001b[0m\n",
       "\u001b[31m│\u001b[0m   \u001b[2m239 \u001b[0m\u001b[2;33m│   │   \u001b[0m\u001b[33m\"\"\"\u001b[0m                                                                                \u001b[31m│\u001b[0m\n",
       "\u001b[31m│\u001b[0m   \u001b[2m240 \u001b[0m\u001b[2m│   │   \u001b[0m\u001b[2m# apply compression and byte/text conversion\u001b[0m                                       \u001b[31m│\u001b[0m\n",
       "\u001b[31m│\u001b[0m \u001b[31m❱ \u001b[0m241 \u001b[2m│   │   \u001b[0m\u001b[94mwith\u001b[0m get_handle(                                                                   \u001b[31m│\u001b[0m\n",
       "\u001b[31m│\u001b[0m   \u001b[2m242 \u001b[0m\u001b[2m│   │   │   \u001b[0m\u001b[96mself\u001b[0m.filepath_or_buffer,                                                       \u001b[31m│\u001b[0m\n",
       "\u001b[31m│\u001b[0m   \u001b[2m243 \u001b[0m\u001b[2m│   │   │   \u001b[0m\u001b[96mself\u001b[0m.mode,                                                                     \u001b[31m│\u001b[0m\n",
       "\u001b[31m│\u001b[0m   \u001b[2m244 \u001b[0m\u001b[2m│   │   │   \u001b[0mencoding=\u001b[96mself\u001b[0m.encoding,                                                        \u001b[31m│\u001b[0m\n",
       "\u001b[31m│\u001b[0m                                                                                                  \u001b[31m│\u001b[0m\n",
       "\u001b[31m│\u001b[0m \u001b[2;33m/usr/local/lib/python3.9/dist-packages/pandas/io/\u001b[0m\u001b[1;33mcommon.py\u001b[0m:\u001b[94m856\u001b[0m in \u001b[92mget_handle\u001b[0m                     \u001b[31m│\u001b[0m\n",
       "\u001b[31m│\u001b[0m                                                                                                  \u001b[31m│\u001b[0m\n",
       "\u001b[31m│\u001b[0m   \u001b[2m 853 \u001b[0m\u001b[2m│   │   \u001b[0m\u001b[2m# Binary mode does not support 'encoding' and 'newline'.\u001b[0m                          \u001b[31m│\u001b[0m\n",
       "\u001b[31m│\u001b[0m   \u001b[2m 854 \u001b[0m\u001b[2m│   │   \u001b[0m\u001b[94mif\u001b[0m ioargs.encoding \u001b[95mand\u001b[0m \u001b[33m\"\u001b[0m\u001b[33mb\u001b[0m\u001b[33m\"\u001b[0m \u001b[95mnot\u001b[0m \u001b[95min\u001b[0m ioargs.mode:                                    \u001b[31m│\u001b[0m\n",
       "\u001b[31m│\u001b[0m   \u001b[2m 855 \u001b[0m\u001b[2m│   │   │   \u001b[0m\u001b[2m# Encoding\u001b[0m                                                                    \u001b[31m│\u001b[0m\n",
       "\u001b[31m│\u001b[0m \u001b[31m❱ \u001b[0m 856 \u001b[2m│   │   │   \u001b[0mhandle = \u001b[96mopen\u001b[0m(                                                                \u001b[31m│\u001b[0m\n",
       "\u001b[31m│\u001b[0m   \u001b[2m 857 \u001b[0m\u001b[2m│   │   │   │   \u001b[0mhandle,                                                                   \u001b[31m│\u001b[0m\n",
       "\u001b[31m│\u001b[0m   \u001b[2m 858 \u001b[0m\u001b[2m│   │   │   │   \u001b[0mioargs.mode,                                                              \u001b[31m│\u001b[0m\n",
       "\u001b[31m│\u001b[0m   \u001b[2m 859 \u001b[0m\u001b[2m│   │   │   │   \u001b[0mencoding=ioargs.encoding,                                                 \u001b[31m│\u001b[0m\n",
       "\u001b[31m╰──────────────────────────────────────────────────────────────────────────────────────────────────╯\u001b[0m\n",
       "\u001b[1;91mPermissionError: \u001b[0m\u001b[1m[\u001b[0mErrno \u001b[1;36m13\u001b[0m\u001b[1m]\u001b[0m Permission denied: \u001b[32m'affiliations_cnn_vs_edit_predictions.csv'\u001b[0m\n"
      ]
     },
     "metadata": {},
     "output_type": "display_data"
    }
   ],
   "source": [
    "data_affiliations.to_csv('affiliations_cnn_vs_edit_predictions.csv', index=False)"
   ]
  },
  {
   "cell_type": "code",
   "execution_count": 256,
   "id": "e426f2ce-1a24-484a-b1c7-3e4feaf44188",
   "metadata": {},
   "outputs": [
    {
     "name": "stdout",
     "output_type": "stream",
     "text": [
      "863/863 [==============================] - 17s 20ms/step\n"
     ]
    },
    {
     "data": {
      "text/html": [
       "<pre style=\"white-space:pre;overflow-x:auto;line-height:normal;font-family:Menlo,'DejaVu Sans Mono',consolas,'Courier New',monospace\"><span style=\"color: #7fbfbf; text-decoration-color: #7fbfbf\">[08/23/23 10:30:04] </span><span style=\"color: #800000; text-decoration-color: #800000\">WARNING </span> <span style=\"color: #800080; text-decoration-color: #800080\">/tmp/ipykernel_1915/</span><span style=\"color: #ff00ff; text-decoration-color: #ff00ff\">886421279.py</span>:<span style=\"color: #008080; text-decoration-color: #008080; font-weight: bold\">12</span>: DeprecationWarning: `np.bool` is  <a href=\"file:///usr/lib/python3.9/warnings.py\" target=\"_blank\"><span style=\"color: #7f7f7f; text-decoration-color: #7f7f7f\">warnings.py</span></a><span style=\"color: #7f7f7f; text-decoration-color: #7f7f7f\">:</span><a href=\"file:///usr/lib/python3.9/warnings.py#109\" target=\"_blank\"><span style=\"color: #7f7f7f; text-decoration-color: #7f7f7f\">109</span></a>\n",
       "<span style=\"color: #7fbfbf; text-decoration-color: #7fbfbf\">                    </span>         a deprecated alias for the builtin `bool`. To silence this warning,    <span style=\"color: #7f7f7f; text-decoration-color: #7f7f7f\">               </span>\n",
       "<span style=\"color: #7fbfbf; text-decoration-color: #7fbfbf\">                    </span>         use `bool` by itself. Doing this will not modify any behavior and is   <span style=\"color: #7f7f7f; text-decoration-color: #7f7f7f\">               </span>\n",
       "<span style=\"color: #7fbfbf; text-decoration-color: #7fbfbf\">                    </span>         safe. If you specifically wanted the numpy scalar type, use `np.bool_` <span style=\"color: #7f7f7f; text-decoration-color: #7f7f7f\">               </span>\n",
       "<span style=\"color: #7fbfbf; text-decoration-color: #7fbfbf\">                    </span>         here.                                                                  <span style=\"color: #7f7f7f; text-decoration-color: #7f7f7f\">               </span>\n",
       "<span style=\"color: #7fbfbf; text-decoration-color: #7fbfbf\">                    </span>         Deprecated in NumPy <span style=\"color: #008080; text-decoration-color: #008080; font-weight: bold\">1.20</span>; for more details and guidance:               <span style=\"color: #7f7f7f; text-decoration-color: #7f7f7f\">               </span>\n",
       "<span style=\"color: #7fbfbf; text-decoration-color: #7fbfbf\">                    </span>         <span style=\"color: #0000ff; text-decoration-color: #0000ff; text-decoration: underline\">https://numpy.org/devdocs/release/1.20.0-notes.html#deprecations</span>       <span style=\"color: #7f7f7f; text-decoration-color: #7f7f7f\">               </span>\n",
       "<span style=\"color: #7fbfbf; text-decoration-color: #7fbfbf\">                    </span>           target = <span style=\"color: #800080; text-decoration-color: #800080; font-weight: bold\">target.astype</span><span style=\"font-weight: bold\">(</span>np.bool<span style=\"font-weight: bold\">)</span><span style=\"color: #800080; text-decoration-color: #800080; font-weight: bold\">.flatten</span><span style=\"font-weight: bold\">()</span>                            <span style=\"color: #7f7f7f; text-decoration-color: #7f7f7f\">               </span>\n",
       "<span style=\"color: #7fbfbf; text-decoration-color: #7fbfbf\">                    </span>                                                                                <span style=\"color: #7f7f7f; text-decoration-color: #7f7f7f\">               </span>\n",
       "</pre>\n"
      ],
      "text/plain": [
       "\u001b[2;36m[08/23/23 10:30:04]\u001b[0m\u001b[2;36m \u001b[0m\u001b[31mWARNING \u001b[0m \u001b[35m/tmp/ipykernel_1915/\u001b[0m\u001b[95m886421279.py\u001b[0m:\u001b[1;36m12\u001b[0m: DeprecationWarning: `np.bool` is  \u001b]8;id=749807;file:///usr/lib/python3.9/warnings.py\u001b\\\u001b[2mwarnings.py\u001b[0m\u001b]8;;\u001b\\\u001b[2m:\u001b[0m\u001b]8;id=879787;file:///usr/lib/python3.9/warnings.py#109\u001b\\\u001b[2m109\u001b[0m\u001b]8;;\u001b\\\n",
       "\u001b[2;36m                    \u001b[0m         a deprecated alias for the builtin `bool`. To silence this warning,    \u001b[2m               \u001b[0m\n",
       "\u001b[2;36m                    \u001b[0m         use `bool` by itself. Doing this will not modify any behavior and is   \u001b[2m               \u001b[0m\n",
       "\u001b[2;36m                    \u001b[0m         safe. If you specifically wanted the numpy scalar type, use `np.bool_` \u001b[2m               \u001b[0m\n",
       "\u001b[2;36m                    \u001b[0m         here.                                                                  \u001b[2m               \u001b[0m\n",
       "\u001b[2;36m                    \u001b[0m         Deprecated in NumPy \u001b[1;36m1.20\u001b[0m; for more details and guidance:               \u001b[2m               \u001b[0m\n",
       "\u001b[2;36m                    \u001b[0m         \u001b[4;94mhttps://numpy.org/devdocs/release/1.20.0-notes.html#deprecations\u001b[0m       \u001b[2m               \u001b[0m\n",
       "\u001b[2;36m                    \u001b[0m           target = \u001b[1;35mtarget.astype\u001b[0m\u001b[1m(\u001b[0mnp.bool\u001b[1m)\u001b[0m\u001b[1;35m.flatten\u001b[0m\u001b[1m(\u001b[0m\u001b[1m)\u001b[0m                            \u001b[2m               \u001b[0m\n",
       "\u001b[2;36m                    \u001b[0m                                                                                \u001b[2m               \u001b[0m\n"
      ]
     },
     "metadata": {},
     "output_type": "display_data"
    },
    {
     "name": "stdout",
     "output_type": "stream",
     "text": [
      "confussion matrix model\n",
      "col_0  False  True \n",
      "row_0              \n",
      "True    3402  24214\n",
      "\n",
      " confussion matrix edit\n",
      "col_0  False  True \n",
      "row_0              \n",
      "True    7684  19932\n",
      "/n/n Classification report model\n"
     ]
    },
    {
     "data": {
      "text/html": [
       "<pre style=\"white-space:pre;overflow-x:auto;line-height:normal;font-family:Menlo,'DejaVu Sans Mono',consolas,'Courier New',monospace\"><span style=\"color: #7fbfbf; text-decoration-color: #7fbfbf\">                    </span><span style=\"color: #800000; text-decoration-color: #800000\">WARNING </span> <span style=\"color: #800080; text-decoration-color: #800080\">/usr/local/lib/python3.9/dist-packages/sklearn/metrics/</span><span style=\"color: #ff00ff; text-decoration-color: #ff00ff\">_classification</span> <a href=\"file:///usr/lib/python3.9/warnings.py\" target=\"_blank\"><span style=\"color: #7f7f7f; text-decoration-color: #7f7f7f\">warnings.py</span></a><span style=\"color: #7f7f7f; text-decoration-color: #7f7f7f\">:</span><a href=\"file:///usr/lib/python3.9/warnings.py#109\" target=\"_blank\"><span style=\"color: #7f7f7f; text-decoration-color: #7f7f7f\">109</span></a>\n",
       "<span style=\"color: #7fbfbf; text-decoration-color: #7fbfbf\">                    </span>         <span style=\"color: #ff00ff; text-decoration-color: #ff00ff\">.py</span>:<span style=\"color: #008080; text-decoration-color: #008080; font-weight: bold\">1334</span>: UndefinedMetricWarning: Recall and F-score are ill-defined   <span style=\"color: #7f7f7f; text-decoration-color: #7f7f7f\">               </span>\n",
       "<span style=\"color: #7fbfbf; text-decoration-color: #7fbfbf\">                    </span>         and being set to <span style=\"color: #008080; text-decoration-color: #008080; font-weight: bold\">0.0</span> in labels with no true samples. Use               <span style=\"color: #7f7f7f; text-decoration-color: #7f7f7f\">               </span>\n",
       "<span style=\"color: #7fbfbf; text-decoration-color: #7fbfbf\">                    </span>         `zero_division` parameter to control this behavior.                    <span style=\"color: #7f7f7f; text-decoration-color: #7f7f7f\">               </span>\n",
       "<span style=\"color: #7fbfbf; text-decoration-color: #7fbfbf\">                    </span>           <span style=\"color: #800080; text-decoration-color: #800080; font-weight: bold\">_warn_prf</span><span style=\"font-weight: bold\">(</span>average, modifier, msg_start, <span style=\"color: #800080; text-decoration-color: #800080; font-weight: bold\">len</span><span style=\"font-weight: bold\">(</span>result<span style=\"font-weight: bold\">))</span>                 <span style=\"color: #7f7f7f; text-decoration-color: #7f7f7f\">               </span>\n",
       "<span style=\"color: #7fbfbf; text-decoration-color: #7fbfbf\">                    </span>                                                                                <span style=\"color: #7f7f7f; text-decoration-color: #7f7f7f\">               </span>\n",
       "</pre>\n"
      ],
      "text/plain": [
       "\u001b[2;36m                   \u001b[0m\u001b[2;36m \u001b[0m\u001b[31mWARNING \u001b[0m \u001b[35m/usr/local/lib/python3.9/dist-packages/sklearn/metrics/\u001b[0m\u001b[95m_classification\u001b[0m \u001b]8;id=477325;file:///usr/lib/python3.9/warnings.py\u001b\\\u001b[2mwarnings.py\u001b[0m\u001b]8;;\u001b\\\u001b[2m:\u001b[0m\u001b]8;id=246938;file:///usr/lib/python3.9/warnings.py#109\u001b\\\u001b[2m109\u001b[0m\u001b]8;;\u001b\\\n",
       "\u001b[2;36m                    \u001b[0m         \u001b[95m.py\u001b[0m:\u001b[1;36m1334\u001b[0m: UndefinedMetricWarning: Recall and F-score are ill-defined   \u001b[2m               \u001b[0m\n",
       "\u001b[2;36m                    \u001b[0m         and being set to \u001b[1;36m0.0\u001b[0m in labels with no true samples. Use               \u001b[2m               \u001b[0m\n",
       "\u001b[2;36m                    \u001b[0m         `zero_division` parameter to control this behavior.                    \u001b[2m               \u001b[0m\n",
       "\u001b[2;36m                    \u001b[0m           \u001b[1;35m_warn_prf\u001b[0m\u001b[1m(\u001b[0maverage, modifier, msg_start, \u001b[1;35mlen\u001b[0m\u001b[1m(\u001b[0mresult\u001b[1m)\u001b[0m\u001b[1m)\u001b[0m                 \u001b[2m               \u001b[0m\n",
       "\u001b[2;36m                    \u001b[0m                                                                                \u001b[2m               \u001b[0m\n"
      ]
     },
     "metadata": {},
     "output_type": "display_data"
    },
    {
     "data": {
      "text/html": [
       "<pre style=\"white-space:pre;overflow-x:auto;line-height:normal;font-family:Menlo,'DejaVu Sans Mono',consolas,'Courier New',monospace\"><span style=\"color: #7fbfbf; text-decoration-color: #7fbfbf\">                    </span><span style=\"color: #800000; text-decoration-color: #800000\">WARNING </span> <span style=\"color: #800080; text-decoration-color: #800080\">/usr/local/lib/python3.9/dist-packages/sklearn/metrics/</span><span style=\"color: #ff00ff; text-decoration-color: #ff00ff\">_classification</span> <a href=\"file:///usr/lib/python3.9/warnings.py\" target=\"_blank\"><span style=\"color: #7f7f7f; text-decoration-color: #7f7f7f\">warnings.py</span></a><span style=\"color: #7f7f7f; text-decoration-color: #7f7f7f\">:</span><a href=\"file:///usr/lib/python3.9/warnings.py#109\" target=\"_blank\"><span style=\"color: #7f7f7f; text-decoration-color: #7f7f7f\">109</span></a>\n",
       "<span style=\"color: #7fbfbf; text-decoration-color: #7fbfbf\">                    </span>         <span style=\"color: #ff00ff; text-decoration-color: #ff00ff\">.py</span>:<span style=\"color: #008080; text-decoration-color: #008080; font-weight: bold\">1334</span>: UndefinedMetricWarning: Recall and F-score are ill-defined   <span style=\"color: #7f7f7f; text-decoration-color: #7f7f7f\">               </span>\n",
       "<span style=\"color: #7fbfbf; text-decoration-color: #7fbfbf\">                    </span>         and being set to <span style=\"color: #008080; text-decoration-color: #008080; font-weight: bold\">0.0</span> in labels with no true samples. Use               <span style=\"color: #7f7f7f; text-decoration-color: #7f7f7f\">               </span>\n",
       "<span style=\"color: #7fbfbf; text-decoration-color: #7fbfbf\">                    </span>         `zero_division` parameter to control this behavior.                    <span style=\"color: #7f7f7f; text-decoration-color: #7f7f7f\">               </span>\n",
       "<span style=\"color: #7fbfbf; text-decoration-color: #7fbfbf\">                    </span>           <span style=\"color: #800080; text-decoration-color: #800080; font-weight: bold\">_warn_prf</span><span style=\"font-weight: bold\">(</span>average, modifier, msg_start, <span style=\"color: #800080; text-decoration-color: #800080; font-weight: bold\">len</span><span style=\"font-weight: bold\">(</span>result<span style=\"font-weight: bold\">))</span>                 <span style=\"color: #7f7f7f; text-decoration-color: #7f7f7f\">               </span>\n",
       "<span style=\"color: #7fbfbf; text-decoration-color: #7fbfbf\">                    </span>                                                                                <span style=\"color: #7f7f7f; text-decoration-color: #7f7f7f\">               </span>\n",
       "</pre>\n"
      ],
      "text/plain": [
       "\u001b[2;36m                   \u001b[0m\u001b[2;36m \u001b[0m\u001b[31mWARNING \u001b[0m \u001b[35m/usr/local/lib/python3.9/dist-packages/sklearn/metrics/\u001b[0m\u001b[95m_classification\u001b[0m \u001b]8;id=36337;file:///usr/lib/python3.9/warnings.py\u001b\\\u001b[2mwarnings.py\u001b[0m\u001b]8;;\u001b\\\u001b[2m:\u001b[0m\u001b]8;id=673018;file:///usr/lib/python3.9/warnings.py#109\u001b\\\u001b[2m109\u001b[0m\u001b]8;;\u001b\\\n",
       "\u001b[2;36m                    \u001b[0m         \u001b[95m.py\u001b[0m:\u001b[1;36m1334\u001b[0m: UndefinedMetricWarning: Recall and F-score are ill-defined   \u001b[2m               \u001b[0m\n",
       "\u001b[2;36m                    \u001b[0m         and being set to \u001b[1;36m0.0\u001b[0m in labels with no true samples. Use               \u001b[2m               \u001b[0m\n",
       "\u001b[2;36m                    \u001b[0m         `zero_division` parameter to control this behavior.                    \u001b[2m               \u001b[0m\n",
       "\u001b[2;36m                    \u001b[0m           \u001b[1;35m_warn_prf\u001b[0m\u001b[1m(\u001b[0maverage, modifier, msg_start, \u001b[1;35mlen\u001b[0m\u001b[1m(\u001b[0mresult\u001b[1m)\u001b[0m\u001b[1m)\u001b[0m                 \u001b[2m               \u001b[0m\n",
       "\u001b[2;36m                    \u001b[0m                                                                                \u001b[2m               \u001b[0m\n"
      ]
     },
     "metadata": {},
     "output_type": "display_data"
    },
    {
     "data": {
      "text/html": [
       "<pre style=\"white-space:pre;overflow-x:auto;line-height:normal;font-family:Menlo,'DejaVu Sans Mono',consolas,'Courier New',monospace\"><span style=\"color: #7fbfbf; text-decoration-color: #7fbfbf\">                    </span><span style=\"color: #800000; text-decoration-color: #800000\">WARNING </span> <span style=\"color: #800080; text-decoration-color: #800080\">/usr/local/lib/python3.9/dist-packages/sklearn/metrics/</span><span style=\"color: #ff00ff; text-decoration-color: #ff00ff\">_classification</span> <a href=\"file:///usr/lib/python3.9/warnings.py\" target=\"_blank\"><span style=\"color: #7f7f7f; text-decoration-color: #7f7f7f\">warnings.py</span></a><span style=\"color: #7f7f7f; text-decoration-color: #7f7f7f\">:</span><a href=\"file:///usr/lib/python3.9/warnings.py#109\" target=\"_blank\"><span style=\"color: #7f7f7f; text-decoration-color: #7f7f7f\">109</span></a>\n",
       "<span style=\"color: #7fbfbf; text-decoration-color: #7fbfbf\">                    </span>         <span style=\"color: #ff00ff; text-decoration-color: #ff00ff\">.py</span>:<span style=\"color: #008080; text-decoration-color: #008080; font-weight: bold\">1334</span>: UndefinedMetricWarning: Recall and F-score are ill-defined   <span style=\"color: #7f7f7f; text-decoration-color: #7f7f7f\">               </span>\n",
       "<span style=\"color: #7fbfbf; text-decoration-color: #7fbfbf\">                    </span>         and being set to <span style=\"color: #008080; text-decoration-color: #008080; font-weight: bold\">0.0</span> in labels with no true samples. Use               <span style=\"color: #7f7f7f; text-decoration-color: #7f7f7f\">               </span>\n",
       "<span style=\"color: #7fbfbf; text-decoration-color: #7fbfbf\">                    </span>         `zero_division` parameter to control this behavior.                    <span style=\"color: #7f7f7f; text-decoration-color: #7f7f7f\">               </span>\n",
       "<span style=\"color: #7fbfbf; text-decoration-color: #7fbfbf\">                    </span>           <span style=\"color: #800080; text-decoration-color: #800080; font-weight: bold\">_warn_prf</span><span style=\"font-weight: bold\">(</span>average, modifier, msg_start, <span style=\"color: #800080; text-decoration-color: #800080; font-weight: bold\">len</span><span style=\"font-weight: bold\">(</span>result<span style=\"font-weight: bold\">))</span>                 <span style=\"color: #7f7f7f; text-decoration-color: #7f7f7f\">               </span>\n",
       "<span style=\"color: #7fbfbf; text-decoration-color: #7fbfbf\">                    </span>                                                                                <span style=\"color: #7f7f7f; text-decoration-color: #7f7f7f\">               </span>\n",
       "</pre>\n"
      ],
      "text/plain": [
       "\u001b[2;36m                   \u001b[0m\u001b[2;36m \u001b[0m\u001b[31mWARNING \u001b[0m \u001b[35m/usr/local/lib/python3.9/dist-packages/sklearn/metrics/\u001b[0m\u001b[95m_classification\u001b[0m \u001b]8;id=448259;file:///usr/lib/python3.9/warnings.py\u001b\\\u001b[2mwarnings.py\u001b[0m\u001b]8;;\u001b\\\u001b[2m:\u001b[0m\u001b]8;id=263411;file:///usr/lib/python3.9/warnings.py#109\u001b\\\u001b[2m109\u001b[0m\u001b]8;;\u001b\\\n",
       "\u001b[2;36m                    \u001b[0m         \u001b[95m.py\u001b[0m:\u001b[1;36m1334\u001b[0m: UndefinedMetricWarning: Recall and F-score are ill-defined   \u001b[2m               \u001b[0m\n",
       "\u001b[2;36m                    \u001b[0m         and being set to \u001b[1;36m0.0\u001b[0m in labels with no true samples. Use               \u001b[2m               \u001b[0m\n",
       "\u001b[2;36m                    \u001b[0m         `zero_division` parameter to control this behavior.                    \u001b[2m               \u001b[0m\n",
       "\u001b[2;36m                    \u001b[0m           \u001b[1;35m_warn_prf\u001b[0m\u001b[1m(\u001b[0maverage, modifier, msg_start, \u001b[1;35mlen\u001b[0m\u001b[1m(\u001b[0mresult\u001b[1m)\u001b[0m\u001b[1m)\u001b[0m                 \u001b[2m               \u001b[0m\n",
       "\u001b[2;36m                    \u001b[0m                                                                                \u001b[2m               \u001b[0m\n"
      ]
     },
     "metadata": {},
     "output_type": "display_data"
    },
    {
     "name": "stdout",
     "output_type": "stream",
     "text": [
      "              precision    recall  f1-score   support\n",
      "\n",
      "       False       0.00      0.00      0.00         0\n",
      "        True       1.00      0.88      0.93     27616\n",
      "\n",
      "    accuracy                           0.88     27616\n",
      "   macro avg       0.50      0.44      0.47     27616\n",
      "weighted avg       1.00      0.88      0.93     27616\n",
      "\n",
      "/n Classification report edit\n"
     ]
    },
    {
     "data": {
      "text/html": [
       "<pre style=\"white-space:pre;overflow-x:auto;line-height:normal;font-family:Menlo,'DejaVu Sans Mono',consolas,'Courier New',monospace\"><span style=\"color: #7fbfbf; text-decoration-color: #7fbfbf\">                    </span><span style=\"color: #800000; text-decoration-color: #800000\">WARNING </span> <span style=\"color: #800080; text-decoration-color: #800080\">/usr/local/lib/python3.9/dist-packages/sklearn/metrics/</span><span style=\"color: #ff00ff; text-decoration-color: #ff00ff\">_classification</span> <a href=\"file:///usr/lib/python3.9/warnings.py\" target=\"_blank\"><span style=\"color: #7f7f7f; text-decoration-color: #7f7f7f\">warnings.py</span></a><span style=\"color: #7f7f7f; text-decoration-color: #7f7f7f\">:</span><a href=\"file:///usr/lib/python3.9/warnings.py#109\" target=\"_blank\"><span style=\"color: #7f7f7f; text-decoration-color: #7f7f7f\">109</span></a>\n",
       "<span style=\"color: #7fbfbf; text-decoration-color: #7fbfbf\">                    </span>         <span style=\"color: #ff00ff; text-decoration-color: #ff00ff\">.py</span>:<span style=\"color: #008080; text-decoration-color: #008080; font-weight: bold\">1334</span>: UndefinedMetricWarning: Recall and F-score are ill-defined   <span style=\"color: #7f7f7f; text-decoration-color: #7f7f7f\">               </span>\n",
       "<span style=\"color: #7fbfbf; text-decoration-color: #7fbfbf\">                    </span>         and being set to <span style=\"color: #008080; text-decoration-color: #008080; font-weight: bold\">0.0</span> in labels with no true samples. Use               <span style=\"color: #7f7f7f; text-decoration-color: #7f7f7f\">               </span>\n",
       "<span style=\"color: #7fbfbf; text-decoration-color: #7fbfbf\">                    </span>         `zero_division` parameter to control this behavior.                    <span style=\"color: #7f7f7f; text-decoration-color: #7f7f7f\">               </span>\n",
       "<span style=\"color: #7fbfbf; text-decoration-color: #7fbfbf\">                    </span>           <span style=\"color: #800080; text-decoration-color: #800080; font-weight: bold\">_warn_prf</span><span style=\"font-weight: bold\">(</span>average, modifier, msg_start, <span style=\"color: #800080; text-decoration-color: #800080; font-weight: bold\">len</span><span style=\"font-weight: bold\">(</span>result<span style=\"font-weight: bold\">))</span>                 <span style=\"color: #7f7f7f; text-decoration-color: #7f7f7f\">               </span>\n",
       "<span style=\"color: #7fbfbf; text-decoration-color: #7fbfbf\">                    </span>                                                                                <span style=\"color: #7f7f7f; text-decoration-color: #7f7f7f\">               </span>\n",
       "</pre>\n"
      ],
      "text/plain": [
       "\u001b[2;36m                   \u001b[0m\u001b[2;36m \u001b[0m\u001b[31mWARNING \u001b[0m \u001b[35m/usr/local/lib/python3.9/dist-packages/sklearn/metrics/\u001b[0m\u001b[95m_classification\u001b[0m \u001b]8;id=837830;file:///usr/lib/python3.9/warnings.py\u001b\\\u001b[2mwarnings.py\u001b[0m\u001b]8;;\u001b\\\u001b[2m:\u001b[0m\u001b]8;id=335698;file:///usr/lib/python3.9/warnings.py#109\u001b\\\u001b[2m109\u001b[0m\u001b]8;;\u001b\\\n",
       "\u001b[2;36m                    \u001b[0m         \u001b[95m.py\u001b[0m:\u001b[1;36m1334\u001b[0m: UndefinedMetricWarning: Recall and F-score are ill-defined   \u001b[2m               \u001b[0m\n",
       "\u001b[2;36m                    \u001b[0m         and being set to \u001b[1;36m0.0\u001b[0m in labels with no true samples. Use               \u001b[2m               \u001b[0m\n",
       "\u001b[2;36m                    \u001b[0m         `zero_division` parameter to control this behavior.                    \u001b[2m               \u001b[0m\n",
       "\u001b[2;36m                    \u001b[0m           \u001b[1;35m_warn_prf\u001b[0m\u001b[1m(\u001b[0maverage, modifier, msg_start, \u001b[1;35mlen\u001b[0m\u001b[1m(\u001b[0mresult\u001b[1m)\u001b[0m\u001b[1m)\u001b[0m                 \u001b[2m               \u001b[0m\n",
       "\u001b[2;36m                    \u001b[0m                                                                                \u001b[2m               \u001b[0m\n"
      ]
     },
     "metadata": {},
     "output_type": "display_data"
    },
    {
     "data": {
      "text/html": [
       "<pre style=\"white-space:pre;overflow-x:auto;line-height:normal;font-family:Menlo,'DejaVu Sans Mono',consolas,'Courier New',monospace\"><span style=\"color: #7fbfbf; text-decoration-color: #7fbfbf\">                    </span><span style=\"color: #800000; text-decoration-color: #800000\">WARNING </span> <span style=\"color: #800080; text-decoration-color: #800080\">/usr/local/lib/python3.9/dist-packages/sklearn/metrics/</span><span style=\"color: #ff00ff; text-decoration-color: #ff00ff\">_classification</span> <a href=\"file:///usr/lib/python3.9/warnings.py\" target=\"_blank\"><span style=\"color: #7f7f7f; text-decoration-color: #7f7f7f\">warnings.py</span></a><span style=\"color: #7f7f7f; text-decoration-color: #7f7f7f\">:</span><a href=\"file:///usr/lib/python3.9/warnings.py#109\" target=\"_blank\"><span style=\"color: #7f7f7f; text-decoration-color: #7f7f7f\">109</span></a>\n",
       "<span style=\"color: #7fbfbf; text-decoration-color: #7fbfbf\">                    </span>         <span style=\"color: #ff00ff; text-decoration-color: #ff00ff\">.py</span>:<span style=\"color: #008080; text-decoration-color: #008080; font-weight: bold\">1334</span>: UndefinedMetricWarning: Recall and F-score are ill-defined   <span style=\"color: #7f7f7f; text-decoration-color: #7f7f7f\">               </span>\n",
       "<span style=\"color: #7fbfbf; text-decoration-color: #7fbfbf\">                    </span>         and being set to <span style=\"color: #008080; text-decoration-color: #008080; font-weight: bold\">0.0</span> in labels with no true samples. Use               <span style=\"color: #7f7f7f; text-decoration-color: #7f7f7f\">               </span>\n",
       "<span style=\"color: #7fbfbf; text-decoration-color: #7fbfbf\">                    </span>         `zero_division` parameter to control this behavior.                    <span style=\"color: #7f7f7f; text-decoration-color: #7f7f7f\">               </span>\n",
       "<span style=\"color: #7fbfbf; text-decoration-color: #7fbfbf\">                    </span>           <span style=\"color: #800080; text-decoration-color: #800080; font-weight: bold\">_warn_prf</span><span style=\"font-weight: bold\">(</span>average, modifier, msg_start, <span style=\"color: #800080; text-decoration-color: #800080; font-weight: bold\">len</span><span style=\"font-weight: bold\">(</span>result<span style=\"font-weight: bold\">))</span>                 <span style=\"color: #7f7f7f; text-decoration-color: #7f7f7f\">               </span>\n",
       "<span style=\"color: #7fbfbf; text-decoration-color: #7fbfbf\">                    </span>                                                                                <span style=\"color: #7f7f7f; text-decoration-color: #7f7f7f\">               </span>\n",
       "</pre>\n"
      ],
      "text/plain": [
       "\u001b[2;36m                   \u001b[0m\u001b[2;36m \u001b[0m\u001b[31mWARNING \u001b[0m \u001b[35m/usr/local/lib/python3.9/dist-packages/sklearn/metrics/\u001b[0m\u001b[95m_classification\u001b[0m \u001b]8;id=958301;file:///usr/lib/python3.9/warnings.py\u001b\\\u001b[2mwarnings.py\u001b[0m\u001b]8;;\u001b\\\u001b[2m:\u001b[0m\u001b]8;id=471848;file:///usr/lib/python3.9/warnings.py#109\u001b\\\u001b[2m109\u001b[0m\u001b]8;;\u001b\\\n",
       "\u001b[2;36m                    \u001b[0m         \u001b[95m.py\u001b[0m:\u001b[1;36m1334\u001b[0m: UndefinedMetricWarning: Recall and F-score are ill-defined   \u001b[2m               \u001b[0m\n",
       "\u001b[2;36m                    \u001b[0m         and being set to \u001b[1;36m0.0\u001b[0m in labels with no true samples. Use               \u001b[2m               \u001b[0m\n",
       "\u001b[2;36m                    \u001b[0m         `zero_division` parameter to control this behavior.                    \u001b[2m               \u001b[0m\n",
       "\u001b[2;36m                    \u001b[0m           \u001b[1;35m_warn_prf\u001b[0m\u001b[1m(\u001b[0maverage, modifier, msg_start, \u001b[1;35mlen\u001b[0m\u001b[1m(\u001b[0mresult\u001b[1m)\u001b[0m\u001b[1m)\u001b[0m                 \u001b[2m               \u001b[0m\n",
       "\u001b[2;36m                    \u001b[0m                                                                                \u001b[2m               \u001b[0m\n"
      ]
     },
     "metadata": {},
     "output_type": "display_data"
    },
    {
     "data": {
      "text/html": [
       "<pre style=\"white-space:pre;overflow-x:auto;line-height:normal;font-family:Menlo,'DejaVu Sans Mono',consolas,'Courier New',monospace\"><span style=\"color: #7fbfbf; text-decoration-color: #7fbfbf\">                    </span><span style=\"color: #800000; text-decoration-color: #800000\">WARNING </span> <span style=\"color: #800080; text-decoration-color: #800080\">/usr/local/lib/python3.9/dist-packages/sklearn/metrics/</span><span style=\"color: #ff00ff; text-decoration-color: #ff00ff\">_classification</span> <a href=\"file:///usr/lib/python3.9/warnings.py\" target=\"_blank\"><span style=\"color: #7f7f7f; text-decoration-color: #7f7f7f\">warnings.py</span></a><span style=\"color: #7f7f7f; text-decoration-color: #7f7f7f\">:</span><a href=\"file:///usr/lib/python3.9/warnings.py#109\" target=\"_blank\"><span style=\"color: #7f7f7f; text-decoration-color: #7f7f7f\">109</span></a>\n",
       "<span style=\"color: #7fbfbf; text-decoration-color: #7fbfbf\">                    </span>         <span style=\"color: #ff00ff; text-decoration-color: #ff00ff\">.py</span>:<span style=\"color: #008080; text-decoration-color: #008080; font-weight: bold\">1334</span>: UndefinedMetricWarning: Recall and F-score are ill-defined   <span style=\"color: #7f7f7f; text-decoration-color: #7f7f7f\">               </span>\n",
       "<span style=\"color: #7fbfbf; text-decoration-color: #7fbfbf\">                    </span>         and being set to <span style=\"color: #008080; text-decoration-color: #008080; font-weight: bold\">0.0</span> in labels with no true samples. Use               <span style=\"color: #7f7f7f; text-decoration-color: #7f7f7f\">               </span>\n",
       "<span style=\"color: #7fbfbf; text-decoration-color: #7fbfbf\">                    </span>         `zero_division` parameter to control this behavior.                    <span style=\"color: #7f7f7f; text-decoration-color: #7f7f7f\">               </span>\n",
       "<span style=\"color: #7fbfbf; text-decoration-color: #7fbfbf\">                    </span>           <span style=\"color: #800080; text-decoration-color: #800080; font-weight: bold\">_warn_prf</span><span style=\"font-weight: bold\">(</span>average, modifier, msg_start, <span style=\"color: #800080; text-decoration-color: #800080; font-weight: bold\">len</span><span style=\"font-weight: bold\">(</span>result<span style=\"font-weight: bold\">))</span>                 <span style=\"color: #7f7f7f; text-decoration-color: #7f7f7f\">               </span>\n",
       "<span style=\"color: #7fbfbf; text-decoration-color: #7fbfbf\">                    </span>                                                                                <span style=\"color: #7f7f7f; text-decoration-color: #7f7f7f\">               </span>\n",
       "</pre>\n"
      ],
      "text/plain": [
       "\u001b[2;36m                   \u001b[0m\u001b[2;36m \u001b[0m\u001b[31mWARNING \u001b[0m \u001b[35m/usr/local/lib/python3.9/dist-packages/sklearn/metrics/\u001b[0m\u001b[95m_classification\u001b[0m \u001b]8;id=279631;file:///usr/lib/python3.9/warnings.py\u001b\\\u001b[2mwarnings.py\u001b[0m\u001b]8;;\u001b\\\u001b[2m:\u001b[0m\u001b]8;id=224798;file:///usr/lib/python3.9/warnings.py#109\u001b\\\u001b[2m109\u001b[0m\u001b]8;;\u001b\\\n",
       "\u001b[2;36m                    \u001b[0m         \u001b[95m.py\u001b[0m:\u001b[1;36m1334\u001b[0m: UndefinedMetricWarning: Recall and F-score are ill-defined   \u001b[2m               \u001b[0m\n",
       "\u001b[2;36m                    \u001b[0m         and being set to \u001b[1;36m0.0\u001b[0m in labels with no true samples. Use               \u001b[2m               \u001b[0m\n",
       "\u001b[2;36m                    \u001b[0m         `zero_division` parameter to control this behavior.                    \u001b[2m               \u001b[0m\n",
       "\u001b[2;36m                    \u001b[0m           \u001b[1;35m_warn_prf\u001b[0m\u001b[1m(\u001b[0maverage, modifier, msg_start, \u001b[1;35mlen\u001b[0m\u001b[1m(\u001b[0mresult\u001b[1m)\u001b[0m\u001b[1m)\u001b[0m                 \u001b[2m               \u001b[0m\n",
       "\u001b[2;36m                    \u001b[0m                                                                                \u001b[2m               \u001b[0m\n"
      ]
     },
     "metadata": {},
     "output_type": "display_data"
    },
    {
     "name": "stdout",
     "output_type": "stream",
     "text": [
      "              precision    recall  f1-score   support\n",
      "\n",
      "       False       0.00      0.00      0.00         0\n",
      "        True       1.00      0.72      0.84     27616\n",
      "\n",
      "    accuracy                           0.72     27616\n",
      "   macro avg       0.50      0.36      0.42     27616\n",
      "weighted avg       1.00      0.72      0.84     27616\n",
      "\n"
     ]
    },
    {
     "data": {
      "text/html": [
       "<pre style=\"white-space:pre;overflow-x:auto;line-height:normal;font-family:Menlo,'DejaVu Sans Mono',consolas,'Courier New',monospace\"></pre>\n"
      ],
      "text/plain": []
     },
     "metadata": {},
     "output_type": "display_data"
    },
    {
     "data": {
      "text/html": [
       "<div>\n",
       "<style scoped>\n",
       "    .dataframe tbody tr th:only-of-type {\n",
       "        vertical-align: middle;\n",
       "    }\n",
       "\n",
       "    .dataframe tbody tr th {\n",
       "        vertical-align: top;\n",
       "    }\n",
       "\n",
       "    .dataframe thead th {\n",
       "        text-align: right;\n",
       "    }\n",
       "</style>\n",
       "<table border=\"1\" class=\"dataframe\">\n",
       "  <thead>\n",
       "    <tr style=\"text-align: right;\">\n",
       "      <th></th>\n",
       "      <th>name_1</th>\n",
       "      <th>name_2</th>\n",
       "      <th>prediction_model</th>\n",
       "      <th>prediction_edit</th>\n",
       "      <th>target</th>\n",
       "      <th>match_model</th>\n",
       "      <th>match_edit</th>\n",
       "    </tr>\n",
       "  </thead>\n",
       "  <tbody>\n",
       "    <tr>\n",
       "      <th>0</th>\n",
       "      <td>ibm almaden research center 650 harry road ca ...</td>\n",
       "      <td>almaden research center san jose ca usa</td>\n",
       "      <td>[1.0]</td>\n",
       "      <td>1.00</td>\n",
       "      <td>True</td>\n",
       "      <td>True</td>\n",
       "      <td>True</td>\n",
       "    </tr>\n",
       "    <tr>\n",
       "      <th>1</th>\n",
       "      <td>almaden</td>\n",
       "      <td>almaden research center san jose ca usa</td>\n",
       "      <td>[0.93908453]</td>\n",
       "      <td>1.00</td>\n",
       "      <td>True</td>\n",
       "      <td>True</td>\n",
       "      <td>True</td>\n",
       "    </tr>\n",
       "    <tr>\n",
       "      <th>2</th>\n",
       "      <td>cs storage systems dept ibm almaden research c...</td>\n",
       "      <td>almaden research center san jose ca usa</td>\n",
       "      <td>[0.9975686]</td>\n",
       "      <td>0.74</td>\n",
       "      <td>True</td>\n",
       "      <td>True</td>\n",
       "      <td>False</td>\n",
       "    </tr>\n",
       "    <tr>\n",
       "      <th>3</th>\n",
       "      <td>ibm almaden</td>\n",
       "      <td>almaden research center san jose ca usa</td>\n",
       "      <td>[0.065314114]</td>\n",
       "      <td>0.78</td>\n",
       "      <td>True</td>\n",
       "      <td>False</td>\n",
       "      <td>True</td>\n",
       "    </tr>\n",
       "    <tr>\n",
       "      <th>4</th>\n",
       "      <td>ibm almaden rc san jose ca</td>\n",
       "      <td>almaden research center san jose ca usa</td>\n",
       "      <td>[0.9982076]</td>\n",
       "      <td>0.84</td>\n",
       "      <td>True</td>\n",
       "      <td>True</td>\n",
       "      <td>True</td>\n",
       "    </tr>\n",
       "    <tr>\n",
       "      <th>...</th>\n",
       "      <td>...</td>\n",
       "      <td>...</td>\n",
       "      <td>...</td>\n",
       "      <td>...</td>\n",
       "      <td>...</td>\n",
       "      <td>...</td>\n",
       "      <td>...</td>\n",
       "    </tr>\n",
       "    <tr>\n",
       "      <th>27611</th>\n",
       "      <td>york university 4700 keele street toronto onta...</td>\n",
       "      <td>york university</td>\n",
       "      <td>[0.9997733]</td>\n",
       "      <td>1.00</td>\n",
       "      <td>True</td>\n",
       "      <td>True</td>\n",
       "      <td>True</td>\n",
       "    </tr>\n",
       "    <tr>\n",
       "      <th>27612</th>\n",
       "      <td>york university canada</td>\n",
       "      <td>york university</td>\n",
       "      <td>[0.99964315]</td>\n",
       "      <td>1.00</td>\n",
       "      <td>True</td>\n",
       "      <td>True</td>\n",
       "      <td>True</td>\n",
       "    </tr>\n",
       "    <tr>\n",
       "      <th>27613</th>\n",
       "      <td>york university toronto on canada</td>\n",
       "      <td>york university</td>\n",
       "      <td>[0.9998478]</td>\n",
       "      <td>1.00</td>\n",
       "      <td>True</td>\n",
       "      <td>True</td>\n",
       "      <td>True</td>\n",
       "    </tr>\n",
       "    <tr>\n",
       "      <th>27614</th>\n",
       "      <td>zhejiang university china china</td>\n",
       "      <td>department of computer science zhejiang univer...</td>\n",
       "      <td>[0.99999976]</td>\n",
       "      <td>1.00</td>\n",
       "      <td>True</td>\n",
       "      <td>True</td>\n",
       "      <td>True</td>\n",
       "    </tr>\n",
       "    <tr>\n",
       "      <th>27615</th>\n",
       "      <td>zhejiang university hangzhou china</td>\n",
       "      <td>department of computer science zhejiang univer...</td>\n",
       "      <td>[0.9999998]</td>\n",
       "      <td>1.00</td>\n",
       "      <td>True</td>\n",
       "      <td>True</td>\n",
       "      <td>True</td>\n",
       "    </tr>\n",
       "  </tbody>\n",
       "</table>\n",
       "<p>27616 rows × 7 columns</p>\n",
       "</div>"
      ],
      "text/plain": [
       "\n",
       "                                                  name_1  \\\n",
       "\u001b[1;36m0\u001b[0m      ibm almaden research center \u001b[1;36m650\u001b[0m harry road ca \u001b[33m...\u001b[0m   \n",
       "\u001b[1;36m1\u001b[0m                                                almaden   \n",
       "\u001b[1;36m2\u001b[0m      cs storage systems dept ibm almaden research c\u001b[33m...\u001b[0m   \n",
       "\u001b[1;36m3\u001b[0m                                            ibm almaden   \n",
       "\u001b[1;36m4\u001b[0m                             ibm almaden rc san jose ca   \n",
       "\u001b[33m...\u001b[0m                                                  \u001b[33m...\u001b[0m   \n",
       "\u001b[1;36m27611\u001b[0m  york university \u001b[1;36m4700\u001b[0m keele street toronto onta\u001b[33m...\u001b[0m   \n",
       "\u001b[1;36m27612\u001b[0m                             york university canada   \n",
       "\u001b[1;36m27613\u001b[0m                  york university toronto on canada   \n",
       "\u001b[1;36m27614\u001b[0m                    zhejiang university china china   \n",
       "\u001b[1;36m27615\u001b[0m                 zhejiang university hangzhou china   \n",
       "\n",
       "                                                  name_2 prediction_model  \\\n",
       "\u001b[1;36m0\u001b[0m                almaden research center san jose ca usa            \u001b[1m[\u001b[0m\u001b[1;36m1.0\u001b[0m\u001b[1m]\u001b[0m   \n",
       "\u001b[1;36m1\u001b[0m                almaden research center san jose ca usa     \u001b[1m[\u001b[0m\u001b[1;36m0.93908453\u001b[0m\u001b[1m]\u001b[0m   \n",
       "\u001b[1;36m2\u001b[0m                almaden research center san jose ca usa      \u001b[1m[\u001b[0m\u001b[1;36m0.9975686\u001b[0m\u001b[1m]\u001b[0m   \n",
       "\u001b[1;36m3\u001b[0m                almaden research center san jose ca usa    \u001b[1m[\u001b[0m\u001b[1;36m0.065314114\u001b[0m\u001b[1m]\u001b[0m   \n",
       "\u001b[1;36m4\u001b[0m                almaden research center san jose ca usa      \u001b[1m[\u001b[0m\u001b[1;36m0.9982076\u001b[0m\u001b[1m]\u001b[0m   \n",
       "\u001b[33m...\u001b[0m                                                  \u001b[33m...\u001b[0m              \u001b[33m...\u001b[0m   \n",
       "\u001b[1;36m27611\u001b[0m                                    york university      \u001b[1m[\u001b[0m\u001b[1;36m0.9997733\u001b[0m\u001b[1m]\u001b[0m   \n",
       "\u001b[1;36m27612\u001b[0m                                    york university     \u001b[1m[\u001b[0m\u001b[1;36m0.99964315\u001b[0m\u001b[1m]\u001b[0m   \n",
       "\u001b[1;36m27613\u001b[0m                                    york university      \u001b[1m[\u001b[0m\u001b[1;36m0.9998478\u001b[0m\u001b[1m]\u001b[0m   \n",
       "\u001b[1;36m27614\u001b[0m  department of computer science zhejiang univer\u001b[33m...\u001b[0m     \u001b[1m[\u001b[0m\u001b[1;36m0.99999976\u001b[0m\u001b[1m]\u001b[0m   \n",
       "\u001b[1;36m27615\u001b[0m  department of computer science zhejiang univer\u001b[33m...\u001b[0m      \u001b[1m[\u001b[0m\u001b[1;36m0.9999998\u001b[0m\u001b[1m]\u001b[0m   \n",
       "\n",
       "       prediction_edit  target  match_model  match_edit  \n",
       "\u001b[1;36m0\u001b[0m                 \u001b[1;36m1.00\u001b[0m    \u001b[3;92mTrue\u001b[0m         \u001b[3;92mTrue\u001b[0m        \u001b[3;92mTrue\u001b[0m  \n",
       "\u001b[1;36m1\u001b[0m                 \u001b[1;36m1.00\u001b[0m    \u001b[3;92mTrue\u001b[0m         \u001b[3;92mTrue\u001b[0m        \u001b[3;92mTrue\u001b[0m  \n",
       "\u001b[1;36m2\u001b[0m                 \u001b[1;36m0.74\u001b[0m    \u001b[3;92mTrue\u001b[0m         \u001b[3;92mTrue\u001b[0m       \u001b[3;91mFalse\u001b[0m  \n",
       "\u001b[1;36m3\u001b[0m                 \u001b[1;36m0.78\u001b[0m    \u001b[3;92mTrue\u001b[0m        \u001b[3;91mFalse\u001b[0m        \u001b[3;92mTrue\u001b[0m  \n",
       "\u001b[1;36m4\u001b[0m                 \u001b[1;36m0.84\u001b[0m    \u001b[3;92mTrue\u001b[0m         \u001b[3;92mTrue\u001b[0m        \u001b[3;92mTrue\u001b[0m  \n",
       "\u001b[33m...\u001b[0m                \u001b[33m...\u001b[0m     \u001b[33m...\u001b[0m          \u001b[33m...\u001b[0m         \u001b[33m...\u001b[0m  \n",
       "\u001b[1;36m27611\u001b[0m             \u001b[1;36m1.00\u001b[0m    \u001b[3;92mTrue\u001b[0m         \u001b[3;92mTrue\u001b[0m        \u001b[3;92mTrue\u001b[0m  \n",
       "\u001b[1;36m27612\u001b[0m             \u001b[1;36m1.00\u001b[0m    \u001b[3;92mTrue\u001b[0m         \u001b[3;92mTrue\u001b[0m        \u001b[3;92mTrue\u001b[0m  \n",
       "\u001b[1;36m27613\u001b[0m             \u001b[1;36m1.00\u001b[0m    \u001b[3;92mTrue\u001b[0m         \u001b[3;92mTrue\u001b[0m        \u001b[3;92mTrue\u001b[0m  \n",
       "\u001b[1;36m27614\u001b[0m             \u001b[1;36m1.00\u001b[0m    \u001b[3;92mTrue\u001b[0m         \u001b[3;92mTrue\u001b[0m        \u001b[3;92mTrue\u001b[0m  \n",
       "\u001b[1;36m27615\u001b[0m             \u001b[1;36m1.00\u001b[0m    \u001b[3;92mTrue\u001b[0m         \u001b[3;92mTrue\u001b[0m        \u001b[3;92mTrue\u001b[0m  \n",
       "\n",
       "\u001b[1m[\u001b[0m\u001b[1;36m27616\u001b[0m rows x \u001b[1;36m7\u001b[0m columns\u001b[1m]\u001b[0m"
      ]
     },
     "execution_count": 256,
     "metadata": {},
     "output_type": "execute_result"
    }
   ],
   "source": [
    "generate_comparison_model_vs_edit(data_affiliations_pairs, data_affiliations_target, .75)"
   ]
  },
  {
   "cell_type": "markdown",
   "id": "6c87d740-c5b5-4488-a018-14c8b6fe2ccf",
   "metadata": {},
   "source": [
    "# Voters North Carolina"
   ]
  },
  {
   "cell_type": "code",
   "execution_count": 1106,
   "id": "01093aef-3478-4757-bf07-1b04a8c31b7e",
   "metadata": {},
   "outputs": [
    {
     "data": {
      "text/html": [
       "<pre style=\"white-space:pre;overflow-x:auto;line-height:normal;font-family:Menlo,'DejaVu Sans Mono',consolas,'Courier New',monospace\"><span style=\"color: #7fbfbf; text-decoration-color: #7fbfbf\">[08/15/23 20:44:56] </span><span style=\"color: #800000; text-decoration-color: #800000\">WARNING </span> <span style=\"color: #800080; text-decoration-color: #800080\">/tmp/ipykernel_26880/</span><span style=\"color: #ff00ff; text-decoration-color: #ff00ff\">3995391869.py</span>:<span style=\"color: #008080; text-decoration-color: #008080; font-weight: bold\">1</span>: DtypeWarning: Columns <span style=\"font-weight: bold\">(</span><span style=\"color: #008080; text-decoration-color: #008080; font-weight: bold\">4</span><span style=\"font-weight: bold\">)</span> have   <a href=\"file:///usr/lib/python3.9/warnings.py\" target=\"_blank\"><span style=\"color: #7f7f7f; text-decoration-color: #7f7f7f\">warnings.py</span></a><span style=\"color: #7f7f7f; text-decoration-color: #7f7f7f\">:</span><a href=\"file:///usr/lib/python3.9/warnings.py#109\" target=\"_blank\"><span style=\"color: #7f7f7f; text-decoration-color: #7f7f7f\">109</span></a>\n",
       "<span style=\"color: #7fbfbf; text-decoration-color: #7fbfbf\">                    </span>         mixed types. Specify dtype option on import or set <span style=\"color: #808000; text-decoration-color: #808000\">low_memory</span>=<span style=\"color: #ff0000; text-decoration-color: #ff0000; font-style: italic\">False</span>.   <span style=\"color: #7f7f7f; text-decoration-color: #7f7f7f\">               </span>\n",
       "<span style=\"color: #7fbfbf; text-decoration-color: #7fbfbf\">                    </span>           voters_raw_1 =                                                       <span style=\"color: #7f7f7f; text-decoration-color: #7f7f7f\">               </span>\n",
       "<span style=\"color: #7fbfbf; text-decoration-color: #7fbfbf\">                    </span>         <span style=\"color: #800080; text-decoration-color: #800080; font-weight: bold\">pd.read_csv</span><span style=\"font-weight: bold\">(</span><span style=\"color: #008000; text-decoration-color: #008000\">'../../data/01_raw/voters_north_carolina/ncvr_numrec_10000</span> <span style=\"color: #7f7f7f; text-decoration-color: #7f7f7f\">               </span>\n",
       "<span style=\"color: #7fbfbf; text-decoration-color: #7fbfbf\">                    </span>         <span style=\"color: #008000; text-decoration-color: #008000\">00_modrec_2_ocp_20_myp_0_nump_5.csv'</span><span style=\"font-weight: bold\">)</span>                                  <span style=\"color: #7f7f7f; text-decoration-color: #7f7f7f\">               </span>\n",
       "<span style=\"color: #7fbfbf; text-decoration-color: #7fbfbf\">                    </span>                                                                                <span style=\"color: #7f7f7f; text-decoration-color: #7f7f7f\">               </span>\n",
       "</pre>\n"
      ],
      "text/plain": [
       "\u001b[2;36m[08/15/23 20:44:56]\u001b[0m\u001b[2;36m \u001b[0m\u001b[31mWARNING \u001b[0m \u001b[35m/tmp/ipykernel_26880/\u001b[0m\u001b[95m3995391869.py\u001b[0m:\u001b[1;36m1\u001b[0m: DtypeWarning: Columns \u001b[1m(\u001b[0m\u001b[1;36m4\u001b[0m\u001b[1m)\u001b[0m have   \u001b]8;id=863690;file:///usr/lib/python3.9/warnings.py\u001b\\\u001b[2mwarnings.py\u001b[0m\u001b]8;;\u001b\\\u001b[2m:\u001b[0m\u001b]8;id=364802;file:///usr/lib/python3.9/warnings.py#109\u001b\\\u001b[2m109\u001b[0m\u001b]8;;\u001b\\\n",
       "\u001b[2;36m                    \u001b[0m         mixed types. Specify dtype option on import or set \u001b[33mlow_memory\u001b[0m=\u001b[3;91mFalse\u001b[0m.   \u001b[2m               \u001b[0m\n",
       "\u001b[2;36m                    \u001b[0m           voters_raw_1 =                                                       \u001b[2m               \u001b[0m\n",
       "\u001b[2;36m                    \u001b[0m         \u001b[1;35mpd.read_csv\u001b[0m\u001b[1m(\u001b[0m\u001b[32m'../../data/01_raw/voters_north_carolina/ncvr_numrec_10000\u001b[0m \u001b[2m               \u001b[0m\n",
       "\u001b[2;36m                    \u001b[0m         \u001b[32m00_modrec_2_ocp_20_myp_0_nump_5.csv'\u001b[0m\u001b[1m)\u001b[0m                                  \u001b[2m               \u001b[0m\n",
       "\u001b[2;36m                    \u001b[0m                                                                                \u001b[2m               \u001b[0m\n"
      ]
     },
     "metadata": {},
     "output_type": "display_data"
    },
    {
     "data": {
      "text/html": [
       "<pre style=\"white-space:pre;overflow-x:auto;line-height:normal;font-family:Menlo,'DejaVu Sans Mono',consolas,'Courier New',monospace\"><span style=\"color: #7fbfbf; text-decoration-color: #7fbfbf\">                    </span><span style=\"color: #800000; text-decoration-color: #800000\">WARNING </span> <span style=\"color: #800080; text-decoration-color: #800080\">/tmp/ipykernel_26880/</span><span style=\"color: #ff00ff; text-decoration-color: #ff00ff\">3995391869.py</span>:<span style=\"color: #008080; text-decoration-color: #008080; font-weight: bold\">2</span>: DtypeWarning: Columns <span style=\"font-weight: bold\">(</span><span style=\"color: #008080; text-decoration-color: #008080; font-weight: bold\">4</span><span style=\"font-weight: bold\">)</span> have   <a href=\"file:///usr/lib/python3.9/warnings.py\" target=\"_blank\"><span style=\"color: #7f7f7f; text-decoration-color: #7f7f7f\">warnings.py</span></a><span style=\"color: #7f7f7f; text-decoration-color: #7f7f7f\">:</span><a href=\"file:///usr/lib/python3.9/warnings.py#109\" target=\"_blank\"><span style=\"color: #7f7f7f; text-decoration-color: #7f7f7f\">109</span></a>\n",
       "<span style=\"color: #7fbfbf; text-decoration-color: #7fbfbf\">                    </span>         mixed types. Specify dtype option on import or set <span style=\"color: #808000; text-decoration-color: #808000\">low_memory</span>=<span style=\"color: #ff0000; text-decoration-color: #ff0000; font-style: italic\">False</span>.   <span style=\"color: #7f7f7f; text-decoration-color: #7f7f7f\">               </span>\n",
       "<span style=\"color: #7fbfbf; text-decoration-color: #7fbfbf\">                    </span>           voters_raw_2 =                                                       <span style=\"color: #7f7f7f; text-decoration-color: #7f7f7f\">               </span>\n",
       "<span style=\"color: #7fbfbf; text-decoration-color: #7fbfbf\">                    </span>         <span style=\"color: #800080; text-decoration-color: #800080; font-weight: bold\">pd.read_csv</span><span style=\"font-weight: bold\">(</span><span style=\"color: #008000; text-decoration-color: #008000\">'../../data/01_raw/voters_north_carolina/ncvr_numrec_10000</span> <span style=\"color: #7f7f7f; text-decoration-color: #7f7f7f\">               </span>\n",
       "<span style=\"color: #7fbfbf; text-decoration-color: #7fbfbf\">                    </span>         <span style=\"color: #008000; text-decoration-color: #008000\">00_modrec_2_ocp_20_myp_1_nump_5.csv'</span><span style=\"font-weight: bold\">)</span>                                  <span style=\"color: #7f7f7f; text-decoration-color: #7f7f7f\">               </span>\n",
       "<span style=\"color: #7fbfbf; text-decoration-color: #7fbfbf\">                    </span>                                                                                <span style=\"color: #7f7f7f; text-decoration-color: #7f7f7f\">               </span>\n",
       "</pre>\n"
      ],
      "text/plain": [
       "\u001b[2;36m                   \u001b[0m\u001b[2;36m \u001b[0m\u001b[31mWARNING \u001b[0m \u001b[35m/tmp/ipykernel_26880/\u001b[0m\u001b[95m3995391869.py\u001b[0m:\u001b[1;36m2\u001b[0m: DtypeWarning: Columns \u001b[1m(\u001b[0m\u001b[1;36m4\u001b[0m\u001b[1m)\u001b[0m have   \u001b]8;id=597558;file:///usr/lib/python3.9/warnings.py\u001b\\\u001b[2mwarnings.py\u001b[0m\u001b]8;;\u001b\\\u001b[2m:\u001b[0m\u001b]8;id=764248;file:///usr/lib/python3.9/warnings.py#109\u001b\\\u001b[2m109\u001b[0m\u001b]8;;\u001b\\\n",
       "\u001b[2;36m                    \u001b[0m         mixed types. Specify dtype option on import or set \u001b[33mlow_memory\u001b[0m=\u001b[3;91mFalse\u001b[0m.   \u001b[2m               \u001b[0m\n",
       "\u001b[2;36m                    \u001b[0m           voters_raw_2 =                                                       \u001b[2m               \u001b[0m\n",
       "\u001b[2;36m                    \u001b[0m         \u001b[1;35mpd.read_csv\u001b[0m\u001b[1m(\u001b[0m\u001b[32m'../../data/01_raw/voters_north_carolina/ncvr_numrec_10000\u001b[0m \u001b[2m               \u001b[0m\n",
       "\u001b[2;36m                    \u001b[0m         \u001b[32m00_modrec_2_ocp_20_myp_1_nump_5.csv'\u001b[0m\u001b[1m)\u001b[0m                                  \u001b[2m               \u001b[0m\n",
       "\u001b[2;36m                    \u001b[0m                                                                                \u001b[2m               \u001b[0m\n"
      ]
     },
     "metadata": {},
     "output_type": "display_data"
    },
    {
     "data": {
      "text/html": [
       "<pre style=\"white-space:pre;overflow-x:auto;line-height:normal;font-family:Menlo,'DejaVu Sans Mono',consolas,'Courier New',monospace\"><span style=\"color: #7fbfbf; text-decoration-color: #7fbfbf\">[08/15/23 20:44:57] </span><span style=\"color: #800000; text-decoration-color: #800000\">WARNING </span> <span style=\"color: #800080; text-decoration-color: #800080\">/tmp/ipykernel_26880/</span><span style=\"color: #ff00ff; text-decoration-color: #ff00ff\">3995391869.py</span>:<span style=\"color: #008080; text-decoration-color: #008080; font-weight: bold\">3</span>: DtypeWarning: Columns <span style=\"font-weight: bold\">(</span><span style=\"color: #008080; text-decoration-color: #008080; font-weight: bold\">4</span><span style=\"font-weight: bold\">)</span> have   <a href=\"file:///usr/lib/python3.9/warnings.py\" target=\"_blank\"><span style=\"color: #7f7f7f; text-decoration-color: #7f7f7f\">warnings.py</span></a><span style=\"color: #7f7f7f; text-decoration-color: #7f7f7f\">:</span><a href=\"file:///usr/lib/python3.9/warnings.py#109\" target=\"_blank\"><span style=\"color: #7f7f7f; text-decoration-color: #7f7f7f\">109</span></a>\n",
       "<span style=\"color: #7fbfbf; text-decoration-color: #7fbfbf\">                    </span>         mixed types. Specify dtype option on import or set <span style=\"color: #808000; text-decoration-color: #808000\">low_memory</span>=<span style=\"color: #ff0000; text-decoration-color: #ff0000; font-style: italic\">False</span>.   <span style=\"color: #7f7f7f; text-decoration-color: #7f7f7f\">               </span>\n",
       "<span style=\"color: #7fbfbf; text-decoration-color: #7fbfbf\">                    </span>           voters_raw_3 =                                                       <span style=\"color: #7f7f7f; text-decoration-color: #7f7f7f\">               </span>\n",
       "<span style=\"color: #7fbfbf; text-decoration-color: #7fbfbf\">                    </span>         <span style=\"color: #800080; text-decoration-color: #800080; font-weight: bold\">pd.read_csv</span><span style=\"font-weight: bold\">(</span><span style=\"color: #008000; text-decoration-color: #008000\">'../../data/01_raw/voters_north_carolina/ncvr_numrec_10000</span> <span style=\"color: #7f7f7f; text-decoration-color: #7f7f7f\">               </span>\n",
       "<span style=\"color: #7fbfbf; text-decoration-color: #7fbfbf\">                    </span>         <span style=\"color: #008000; text-decoration-color: #008000\">00_modrec_2_ocp_20_myp_2_nump_5.csv'</span><span style=\"font-weight: bold\">)</span>                                  <span style=\"color: #7f7f7f; text-decoration-color: #7f7f7f\">               </span>\n",
       "<span style=\"color: #7fbfbf; text-decoration-color: #7fbfbf\">                    </span>                                                                                <span style=\"color: #7f7f7f; text-decoration-color: #7f7f7f\">               </span>\n",
       "</pre>\n"
      ],
      "text/plain": [
       "\u001b[2;36m[08/15/23 20:44:57]\u001b[0m\u001b[2;36m \u001b[0m\u001b[31mWARNING \u001b[0m \u001b[35m/tmp/ipykernel_26880/\u001b[0m\u001b[95m3995391869.py\u001b[0m:\u001b[1;36m3\u001b[0m: DtypeWarning: Columns \u001b[1m(\u001b[0m\u001b[1;36m4\u001b[0m\u001b[1m)\u001b[0m have   \u001b]8;id=135609;file:///usr/lib/python3.9/warnings.py\u001b\\\u001b[2mwarnings.py\u001b[0m\u001b]8;;\u001b\\\u001b[2m:\u001b[0m\u001b]8;id=84305;file:///usr/lib/python3.9/warnings.py#109\u001b\\\u001b[2m109\u001b[0m\u001b]8;;\u001b\\\n",
       "\u001b[2;36m                    \u001b[0m         mixed types. Specify dtype option on import or set \u001b[33mlow_memory\u001b[0m=\u001b[3;91mFalse\u001b[0m.   \u001b[2m               \u001b[0m\n",
       "\u001b[2;36m                    \u001b[0m           voters_raw_3 =                                                       \u001b[2m               \u001b[0m\n",
       "\u001b[2;36m                    \u001b[0m         \u001b[1;35mpd.read_csv\u001b[0m\u001b[1m(\u001b[0m\u001b[32m'../../data/01_raw/voters_north_carolina/ncvr_numrec_10000\u001b[0m \u001b[2m               \u001b[0m\n",
       "\u001b[2;36m                    \u001b[0m         \u001b[32m00_modrec_2_ocp_20_myp_2_nump_5.csv'\u001b[0m\u001b[1m)\u001b[0m                                  \u001b[2m               \u001b[0m\n",
       "\u001b[2;36m                    \u001b[0m                                                                                \u001b[2m               \u001b[0m\n"
      ]
     },
     "metadata": {},
     "output_type": "display_data"
    },
    {
     "data": {
      "text/html": [
       "<pre style=\"white-space:pre;overflow-x:auto;line-height:normal;font-family:Menlo,'DejaVu Sans Mono',consolas,'Courier New',monospace\"><span style=\"color: #7fbfbf; text-decoration-color: #7fbfbf\">                    </span><span style=\"color: #800000; text-decoration-color: #800000\">WARNING </span> <span style=\"color: #800080; text-decoration-color: #800080\">/tmp/ipykernel_26880/</span><span style=\"color: #ff00ff; text-decoration-color: #ff00ff\">3995391869.py</span>:<span style=\"color: #008080; text-decoration-color: #008080; font-weight: bold\">4</span>: DtypeWarning: Columns <span style=\"font-weight: bold\">(</span><span style=\"color: #008080; text-decoration-color: #008080; font-weight: bold\">4</span><span style=\"font-weight: bold\">)</span> have   <a href=\"file:///usr/lib/python3.9/warnings.py\" target=\"_blank\"><span style=\"color: #7f7f7f; text-decoration-color: #7f7f7f\">warnings.py</span></a><span style=\"color: #7f7f7f; text-decoration-color: #7f7f7f\">:</span><a href=\"file:///usr/lib/python3.9/warnings.py#109\" target=\"_blank\"><span style=\"color: #7f7f7f; text-decoration-color: #7f7f7f\">109</span></a>\n",
       "<span style=\"color: #7fbfbf; text-decoration-color: #7fbfbf\">                    </span>         mixed types. Specify dtype option on import or set <span style=\"color: #808000; text-decoration-color: #808000\">low_memory</span>=<span style=\"color: #ff0000; text-decoration-color: #ff0000; font-style: italic\">False</span>.   <span style=\"color: #7f7f7f; text-decoration-color: #7f7f7f\">               </span>\n",
       "<span style=\"color: #7fbfbf; text-decoration-color: #7fbfbf\">                    </span>           voters_raw_4 =                                                       <span style=\"color: #7f7f7f; text-decoration-color: #7f7f7f\">               </span>\n",
       "<span style=\"color: #7fbfbf; text-decoration-color: #7fbfbf\">                    </span>         <span style=\"color: #800080; text-decoration-color: #800080; font-weight: bold\">pd.read_csv</span><span style=\"font-weight: bold\">(</span><span style=\"color: #008000; text-decoration-color: #008000\">'../../data/01_raw/voters_north_carolina/ncvr_numrec_10000</span> <span style=\"color: #7f7f7f; text-decoration-color: #7f7f7f\">               </span>\n",
       "<span style=\"color: #7fbfbf; text-decoration-color: #7fbfbf\">                    </span>         <span style=\"color: #008000; text-decoration-color: #008000\">00_modrec_2_ocp_20_myp_3_nump_5.csv'</span><span style=\"font-weight: bold\">)</span>                                  <span style=\"color: #7f7f7f; text-decoration-color: #7f7f7f\">               </span>\n",
       "<span style=\"color: #7fbfbf; text-decoration-color: #7fbfbf\">                    </span>                                                                                <span style=\"color: #7f7f7f; text-decoration-color: #7f7f7f\">               </span>\n",
       "</pre>\n"
      ],
      "text/plain": [
       "\u001b[2;36m                   \u001b[0m\u001b[2;36m \u001b[0m\u001b[31mWARNING \u001b[0m \u001b[35m/tmp/ipykernel_26880/\u001b[0m\u001b[95m3995391869.py\u001b[0m:\u001b[1;36m4\u001b[0m: DtypeWarning: Columns \u001b[1m(\u001b[0m\u001b[1;36m4\u001b[0m\u001b[1m)\u001b[0m have   \u001b]8;id=99010;file:///usr/lib/python3.9/warnings.py\u001b\\\u001b[2mwarnings.py\u001b[0m\u001b]8;;\u001b\\\u001b[2m:\u001b[0m\u001b]8;id=610317;file:///usr/lib/python3.9/warnings.py#109\u001b\\\u001b[2m109\u001b[0m\u001b]8;;\u001b\\\n",
       "\u001b[2;36m                    \u001b[0m         mixed types. Specify dtype option on import or set \u001b[33mlow_memory\u001b[0m=\u001b[3;91mFalse\u001b[0m.   \u001b[2m               \u001b[0m\n",
       "\u001b[2;36m                    \u001b[0m           voters_raw_4 =                                                       \u001b[2m               \u001b[0m\n",
       "\u001b[2;36m                    \u001b[0m         \u001b[1;35mpd.read_csv\u001b[0m\u001b[1m(\u001b[0m\u001b[32m'../../data/01_raw/voters_north_carolina/ncvr_numrec_10000\u001b[0m \u001b[2m               \u001b[0m\n",
       "\u001b[2;36m                    \u001b[0m         \u001b[32m00_modrec_2_ocp_20_myp_3_nump_5.csv'\u001b[0m\u001b[1m)\u001b[0m                                  \u001b[2m               \u001b[0m\n",
       "\u001b[2;36m                    \u001b[0m                                                                                \u001b[2m               \u001b[0m\n"
      ]
     },
     "metadata": {},
     "output_type": "display_data"
    },
    {
     "data": {
      "text/html": [
       "<pre style=\"white-space:pre;overflow-x:auto;line-height:normal;font-family:Menlo,'DejaVu Sans Mono',consolas,'Courier New',monospace\"><span style=\"color: #7fbfbf; text-decoration-color: #7fbfbf\">[08/15/23 20:44:58] </span><span style=\"color: #800000; text-decoration-color: #800000\">WARNING </span> <span style=\"color: #800080; text-decoration-color: #800080\">/tmp/ipykernel_26880/</span><span style=\"color: #ff00ff; text-decoration-color: #ff00ff\">3995391869.py</span>:<span style=\"color: #008080; text-decoration-color: #008080; font-weight: bold\">5</span>: DtypeWarning: Columns <span style=\"font-weight: bold\">(</span><span style=\"color: #008080; text-decoration-color: #008080; font-weight: bold\">4</span><span style=\"font-weight: bold\">)</span> have   <a href=\"file:///usr/lib/python3.9/warnings.py\" target=\"_blank\"><span style=\"color: #7f7f7f; text-decoration-color: #7f7f7f\">warnings.py</span></a><span style=\"color: #7f7f7f; text-decoration-color: #7f7f7f\">:</span><a href=\"file:///usr/lib/python3.9/warnings.py#109\" target=\"_blank\"><span style=\"color: #7f7f7f; text-decoration-color: #7f7f7f\">109</span></a>\n",
       "<span style=\"color: #7fbfbf; text-decoration-color: #7fbfbf\">                    </span>         mixed types. Specify dtype option on import or set <span style=\"color: #808000; text-decoration-color: #808000\">low_memory</span>=<span style=\"color: #ff0000; text-decoration-color: #ff0000; font-style: italic\">False</span>.   <span style=\"color: #7f7f7f; text-decoration-color: #7f7f7f\">               </span>\n",
       "<span style=\"color: #7fbfbf; text-decoration-color: #7fbfbf\">                    </span>           voters_raw_5 =                                                       <span style=\"color: #7f7f7f; text-decoration-color: #7f7f7f\">               </span>\n",
       "<span style=\"color: #7fbfbf; text-decoration-color: #7fbfbf\">                    </span>         <span style=\"color: #800080; text-decoration-color: #800080; font-weight: bold\">pd.read_csv</span><span style=\"font-weight: bold\">(</span><span style=\"color: #008000; text-decoration-color: #008000\">'../../data/01_raw/voters_north_carolina/ncvr_numrec_10000</span> <span style=\"color: #7f7f7f; text-decoration-color: #7f7f7f\">               </span>\n",
       "<span style=\"color: #7fbfbf; text-decoration-color: #7fbfbf\">                    </span>         <span style=\"color: #008000; text-decoration-color: #008000\">00_modrec_2_ocp_20_myp_4_nump_5.csv'</span><span style=\"font-weight: bold\">)</span>                                  <span style=\"color: #7f7f7f; text-decoration-color: #7f7f7f\">               </span>\n",
       "<span style=\"color: #7fbfbf; text-decoration-color: #7fbfbf\">                    </span>                                                                                <span style=\"color: #7f7f7f; text-decoration-color: #7f7f7f\">               </span>\n",
       "</pre>\n"
      ],
      "text/plain": [
       "\u001b[2;36m[08/15/23 20:44:58]\u001b[0m\u001b[2;36m \u001b[0m\u001b[31mWARNING \u001b[0m \u001b[35m/tmp/ipykernel_26880/\u001b[0m\u001b[95m3995391869.py\u001b[0m:\u001b[1;36m5\u001b[0m: DtypeWarning: Columns \u001b[1m(\u001b[0m\u001b[1;36m4\u001b[0m\u001b[1m)\u001b[0m have   \u001b]8;id=189391;file:///usr/lib/python3.9/warnings.py\u001b\\\u001b[2mwarnings.py\u001b[0m\u001b]8;;\u001b\\\u001b[2m:\u001b[0m\u001b]8;id=269717;file:///usr/lib/python3.9/warnings.py#109\u001b\\\u001b[2m109\u001b[0m\u001b]8;;\u001b\\\n",
       "\u001b[2;36m                    \u001b[0m         mixed types. Specify dtype option on import or set \u001b[33mlow_memory\u001b[0m=\u001b[3;91mFalse\u001b[0m.   \u001b[2m               \u001b[0m\n",
       "\u001b[2;36m                    \u001b[0m           voters_raw_5 =                                                       \u001b[2m               \u001b[0m\n",
       "\u001b[2;36m                    \u001b[0m         \u001b[1;35mpd.read_csv\u001b[0m\u001b[1m(\u001b[0m\u001b[32m'../../data/01_raw/voters_north_carolina/ncvr_numrec_10000\u001b[0m \u001b[2m               \u001b[0m\n",
       "\u001b[2;36m                    \u001b[0m         \u001b[32m00_modrec_2_ocp_20_myp_4_nump_5.csv'\u001b[0m\u001b[1m)\u001b[0m                                  \u001b[2m               \u001b[0m\n",
       "\u001b[2;36m                    \u001b[0m                                                                                \u001b[2m               \u001b[0m\n"
      ]
     },
     "metadata": {},
     "output_type": "display_data"
    }
   ],
   "source": [
    "voters_raw_1 = pd.read_csv('../../data/01_raw/voters_north_carolina/ncvr_numrec_1000000_modrec_2_ocp_20_myp_0_nump_5.csv')\n",
    "voters_raw_2 = pd.read_csv('../../data/01_raw/voters_north_carolina/ncvr_numrec_1000000_modrec_2_ocp_20_myp_1_nump_5.csv')\n",
    "voters_raw_3 = pd.read_csv('../../data/01_raw/voters_north_carolina/ncvr_numrec_1000000_modrec_2_ocp_20_myp_2_nump_5.csv')\n",
    "voters_raw_4 = pd.read_csv('../../data/01_raw/voters_north_carolina/ncvr_numrec_1000000_modrec_2_ocp_20_myp_3_nump_5.csv')\n",
    "voters_raw_5 = pd.read_csv('../../data/01_raw/voters_north_carolina/ncvr_numrec_1000000_modrec_2_ocp_20_myp_4_nump_5.csv')"
   ]
  },
  {
   "cell_type": "code",
   "execution_count": 1121,
   "id": "d4870eb5-994f-4031-ac17-ed59354b8ab2",
   "metadata": {},
   "outputs": [],
   "source": [
    "voters_raw_full = pd.concat([voters_raw_1, voters_raw_2, voters_raw_3, voters_raw_4, voters_raw_5])"
   ]
  },
  {
   "cell_type": "code",
   "execution_count": 1133,
   "id": "b777447f-3e79-4000-b541-7208cb5dfb6c",
   "metadata": {},
   "outputs": [
    {
     "data": {
      "text/html": [
       "<pre style=\"white-space:pre;overflow-x:auto;line-height:normal;font-family:Menlo,'DejaVu Sans Mono',consolas,'Courier New',monospace\"></pre>\n"
      ],
      "text/plain": []
     },
     "metadata": {},
     "output_type": "display_data"
    },
    {
     "data": {
      "text/html": [
       "<div>\n",
       "<style scoped>\n",
       "    .dataframe tbody tr th:only-of-type {\n",
       "        vertical-align: middle;\n",
       "    }\n",
       "\n",
       "    .dataframe tbody tr th {\n",
       "        vertical-align: top;\n",
       "    }\n",
       "\n",
       "    .dataframe thead th {\n",
       "        text-align: right;\n",
       "    }\n",
       "</style>\n",
       "<table border=\"1\" class=\"dataframe\">\n",
       "  <thead>\n",
       "    <tr style=\"text-align: right;\">\n",
       "      <th></th>\n",
       "      <th>recid</th>\n",
       "      <th>givenname</th>\n",
       "      <th>surname</th>\n",
       "      <th>suburb</th>\n",
       "      <th>postcode</th>\n",
       "    </tr>\n",
       "  </thead>\n",
       "  <tbody>\n",
       "    <tr>\n",
       "      <th>848117</th>\n",
       "      <td>58253</td>\n",
       "      <td>dullie</td>\n",
       "      <td>moss</td>\n",
       "      <td>charlotte</td>\n",
       "      <td>28269.0</td>\n",
       "    </tr>\n",
       "  </tbody>\n",
       "</table>\n",
       "</div>"
      ],
      "text/plain": [
       "\n",
       "        recid givenname surname     suburb postcode\n",
       "\u001b[1;36m848117\u001b[0m  \u001b[1;36m58253\u001b[0m    dullie    moss  charlotte  \u001b[1;36m28269.0\u001b[0m"
      ]
     },
     "execution_count": 1133,
     "metadata": {},
     "output_type": "execute_result"
    }
   ],
   "source": [
    "voters_raw_full[voters_raw_full.recid == 58253]"
   ]
  },
  {
   "cell_type": "code",
   "execution_count": 1132,
   "id": "28161a06-5b6c-489c-940a-1d2874774c26",
   "metadata": {},
   "outputs": [
    {
     "data": {
      "text/html": [
       "<pre style=\"white-space:pre;overflow-x:auto;line-height:normal;font-family:Menlo,'DejaVu Sans Mono',consolas,'Courier New',monospace\"></pre>\n"
      ],
      "text/plain": []
     },
     "metadata": {},
     "output_type": "display_data"
    },
    {
     "data": {
      "text/html": [
       "<div>\n",
       "<style scoped>\n",
       "    .dataframe tbody tr th:only-of-type {\n",
       "        vertical-align: middle;\n",
       "    }\n",
       "\n",
       "    .dataframe tbody tr th {\n",
       "        vertical-align: top;\n",
       "    }\n",
       "\n",
       "    .dataframe thead th {\n",
       "        text-align: right;\n",
       "    }\n",
       "</style>\n",
       "<table border=\"1\" class=\"dataframe\">\n",
       "  <thead>\n",
       "    <tr style=\"text-align: right;\">\n",
       "      <th></th>\n",
       "      <th>recid</th>\n",
       "      <th>givenname</th>\n",
       "      <th>surname</th>\n",
       "      <th>suburb</th>\n",
       "      <th>postcode</th>\n",
       "    </tr>\n",
       "  </thead>\n",
       "  <tbody>\n",
       "    <tr>\n",
       "      <th>88045</th>\n",
       "      <td>185780</td>\n",
       "      <td>ida</td>\n",
       "      <td>watts</td>\n",
       "      <td>carrboro</td>\n",
       "      <td>27510</td>\n",
       "    </tr>\n",
       "  </tbody>\n",
       "</table>\n",
       "</div>"
      ],
      "text/plain": [
       "\n",
       "        recid givenname surname    suburb postcode\n",
       "\u001b[1;36m88045\u001b[0m  \u001b[1;36m185780\u001b[0m       ida   watts  carrboro    \u001b[1;36m27510\u001b[0m"
      ]
     },
     "execution_count": 1132,
     "metadata": {},
     "output_type": "execute_result"
    }
   ],
   "source": [
    "voters_raw_full[voters_raw_full.recid == 185780]"
   ]
  },
  {
   "cell_type": "code",
   "execution_count": 1115,
   "id": "2176f906-25fc-4c70-bbb2-45f78a37a614",
   "metadata": {},
   "outputs": [
    {
     "data": {
      "text/html": [
       "<pre style=\"white-space:pre;overflow-x:auto;line-height:normal;font-family:Menlo,'DejaVu Sans Mono',consolas,'Courier New',monospace\"></pre>\n"
      ],
      "text/plain": []
     },
     "metadata": {},
     "output_type": "display_data"
    },
    {
     "data": {
      "text/plain": [
       "\n",
       "\u001b[1;36m4829629\u001b[0m    \u001b[1;36m2\u001b[0m\n",
       "\u001b[1;36m1802971\u001b[0m    \u001b[1;36m2\u001b[0m\n",
       "\u001b[1;36m1615979\u001b[0m    \u001b[1;36m2\u001b[0m\n",
       "\u001b[1;36m8026477\u001b[0m    \u001b[1;36m2\u001b[0m\n",
       "\u001b[1;36m536452\u001b[0m     \u001b[1;36m2\u001b[0m\n",
       "          ..\n",
       "\u001b[1;36m5237754\u001b[0m    \u001b[1;36m2\u001b[0m\n",
       "\u001b[1;36m4857586\u001b[0m    \u001b[1;36m2\u001b[0m\n",
       "\u001b[1;36m1667198\u001b[0m    \u001b[1;36m2\u001b[0m\n",
       "\u001b[1;36m3782787\u001b[0m    \u001b[1;36m2\u001b[0m\n",
       "\u001b[1;36m893276\u001b[0m     \u001b[1;36m2\u001b[0m\n",
       "Name: recid, Length: \u001b[1;36m83904\u001b[0m, dtype: int64"
      ]
     },
     "execution_count": 1115,
     "metadata": {},
     "output_type": "execute_result"
    }
   ],
   "source": [
    "voters_raw_full.recid.value_counts()[voters_raw_full.recid.value_counts() == 2]"
   ]
  },
  {
   "cell_type": "code",
   "execution_count": 1102,
   "id": "aa4b340f-bb43-44cd-982f-5876a029f280",
   "metadata": {},
   "outputs": [],
   "source": [
    "voters_raw_1['name'] = voters_raw_1['givenname'] + ' ' + voters_raw_1['surname']\n",
    "voters_raw_2['name'] = voters_raw_2['givenname'] + ' ' + voters_raw_2['surname']\n",
    "voters_raw_3['name'] = voters_raw_3['givenname'] + ' ' + voters_raw_3['surname']\n"
   ]
  },
  {
   "cell_type": "code",
   "execution_count": 1105,
   "id": "c3620375-7fa3-4bf0-bd92-ec408ac7fec5",
   "metadata": {},
   "outputs": [
    {
     "data": {
      "text/html": [
       "<pre style=\"white-space:pre;overflow-x:auto;line-height:normal;font-family:Menlo,'DejaVu Sans Mono',consolas,'Courier New',monospace\"></pre>\n"
      ],
      "text/plain": []
     },
     "metadata": {},
     "output_type": "display_data"
    },
    {
     "data": {
      "text/html": [
       "<div>\n",
       "<style scoped>\n",
       "    .dataframe tbody tr th:only-of-type {\n",
       "        vertical-align: middle;\n",
       "    }\n",
       "\n",
       "    .dataframe tbody tr th {\n",
       "        vertical-align: top;\n",
       "    }\n",
       "\n",
       "    .dataframe thead th {\n",
       "        text-align: right;\n",
       "    }\n",
       "</style>\n",
       "<table border=\"1\" class=\"dataframe\">\n",
       "  <thead>\n",
       "    <tr style=\"text-align: right;\">\n",
       "      <th></th>\n",
       "      <th>recid</th>\n",
       "      <th>givenname_x</th>\n",
       "      <th>surname_x</th>\n",
       "      <th>suburb_x</th>\n",
       "      <th>postcode_x</th>\n",
       "      <th>name_x</th>\n",
       "      <th>givenname_y</th>\n",
       "      <th>surname_y</th>\n",
       "      <th>suburb_y</th>\n",
       "      <th>postcode_y</th>\n",
       "      <th>name_y</th>\n",
       "      <th>givenname</th>\n",
       "      <th>surname</th>\n",
       "      <th>suburb</th>\n",
       "      <th>postcode</th>\n",
       "      <th>name</th>\n",
       "    </tr>\n",
       "  </thead>\n",
       "  <tbody>\n",
       "    <tr>\n",
       "      <th>1</th>\n",
       "      <td>3138435</td>\n",
       "      <td>ronel</td>\n",
       "      <td>carter</td>\n",
       "      <td>washington</td>\n",
       "      <td>2788g</td>\n",
       "      <td>ronel carter</td>\n",
       "      <td>ronnel</td>\n",
       "      <td>carter</td>\n",
       "      <td>washington</td>\n",
       "      <td>27889.0</td>\n",
       "      <td>ronnel carter</td>\n",
       "      <td>ronnel</td>\n",
       "      <td>carter</td>\n",
       "      <td>washington</td>\n",
       "      <td>27889.0</td>\n",
       "      <td>ronnel carter</td>\n",
       "    </tr>\n",
       "    <tr>\n",
       "      <th>2</th>\n",
       "      <td>6117295</td>\n",
       "      <td>jason</td>\n",
       "      <td>roehrig</td>\n",
       "      <td>millers ceeek</td>\n",
       "      <td>286s1</td>\n",
       "      <td>jason roehrig</td>\n",
       "      <td>jason</td>\n",
       "      <td>roehrig</td>\n",
       "      <td>millers creek</td>\n",
       "      <td>28651.0</td>\n",
       "      <td>jason roehrig</td>\n",
       "      <td>jason</td>\n",
       "      <td>roehrig</td>\n",
       "      <td>millers creek</td>\n",
       "      <td>28651.0</td>\n",
       "      <td>jason roehrig</td>\n",
       "    </tr>\n",
       "    <tr>\n",
       "      <th>3</th>\n",
       "      <td>6401695</td>\n",
       "      <td>antrea</td>\n",
       "      <td>mure</td>\n",
       "      <td>greensboro</td>\n",
       "      <td>27410</td>\n",
       "      <td>antrea mure</td>\n",
       "      <td>andrea</td>\n",
       "      <td>moore</td>\n",
       "      <td>greensboro</td>\n",
       "      <td>27410.0</td>\n",
       "      <td>andrea moore</td>\n",
       "      <td>andrea</td>\n",
       "      <td>moore</td>\n",
       "      <td>greensboro</td>\n",
       "      <td>27410.0</td>\n",
       "      <td>andrea moore</td>\n",
       "    </tr>\n",
       "    <tr>\n",
       "      <th>5</th>\n",
       "      <td>4338459</td>\n",
       "      <td>jonn</td>\n",
       "      <td>snyder</td>\n",
       "      <td>louisbuahg</td>\n",
       "      <td>27549</td>\n",
       "      <td>jonn snyder</td>\n",
       "      <td>john</td>\n",
       "      <td>snyddr</td>\n",
       "      <td>louisburg</td>\n",
       "      <td>27s49</td>\n",
       "      <td>john snyddr</td>\n",
       "      <td>zohn</td>\n",
       "      <td>snyder</td>\n",
       "      <td>louiburg</td>\n",
       "      <td>27549</td>\n",
       "      <td>zohn snyder</td>\n",
       "    </tr>\n",
       "    <tr>\n",
       "      <th>6</th>\n",
       "      <td>795481</td>\n",
       "      <td>charie</td>\n",
       "      <td>lyles</td>\n",
       "      <td>sdate road</td>\n",
       "      <td>28676</td>\n",
       "      <td>charie lyles</td>\n",
       "      <td>charlie</td>\n",
       "      <td>lyles</td>\n",
       "      <td>state road</td>\n",
       "      <td>28676.0</td>\n",
       "      <td>charlie lyles</td>\n",
       "      <td>charlie</td>\n",
       "      <td>lyles</td>\n",
       "      <td>state road</td>\n",
       "      <td>28676.0</td>\n",
       "      <td>charlie lyles</td>\n",
       "    </tr>\n",
       "    <tr>\n",
       "      <th>...</th>\n",
       "      <td>...</td>\n",
       "      <td>...</td>\n",
       "      <td>...</td>\n",
       "      <td>...</td>\n",
       "      <td>...</td>\n",
       "      <td>...</td>\n",
       "      <td>...</td>\n",
       "      <td>...</td>\n",
       "      <td>...</td>\n",
       "      <td>...</td>\n",
       "      <td>...</td>\n",
       "      <td>...</td>\n",
       "      <td>...</td>\n",
       "      <td>...</td>\n",
       "      <td>...</td>\n",
       "      <td>...</td>\n",
       "    </tr>\n",
       "    <tr>\n",
       "      <th>999985</th>\n",
       "      <td>5819868</td>\n",
       "      <td>meagan</td>\n",
       "      <td>pruitt</td>\n",
       "      <td>roxboro</td>\n",
       "      <td>27574.0</td>\n",
       "      <td>meagan pruitt</td>\n",
       "      <td>meagsn</td>\n",
       "      <td>pruiatt</td>\n",
       "      <td>roxboro</td>\n",
       "      <td>27574</td>\n",
       "      <td>meagsn pruiatt</td>\n",
       "      <td>mesgan</td>\n",
       "      <td>pruitt</td>\n",
       "      <td>roxboro</td>\n",
       "      <td>2757q</td>\n",
       "      <td>mesgan pruitt</td>\n",
       "    </tr>\n",
       "    <tr>\n",
       "      <th>999989</th>\n",
       "      <td>6680655</td>\n",
       "      <td>justin</td>\n",
       "      <td>pence</td>\n",
       "      <td>greensboro</td>\n",
       "      <td>27407.0</td>\n",
       "      <td>justin pence</td>\n",
       "      <td>justin</td>\n",
       "      <td>pence</td>\n",
       "      <td>greensboro</td>\n",
       "      <td>27407.0</td>\n",
       "      <td>justin pence</td>\n",
       "      <td>justin</td>\n",
       "      <td>pence</td>\n",
       "      <td>greensboro</td>\n",
       "      <td>27407.0</td>\n",
       "      <td>justin pence</td>\n",
       "    </tr>\n",
       "    <tr>\n",
       "      <th>999991</th>\n",
       "      <td>517540</td>\n",
       "      <td>roger</td>\n",
       "      <td>fristoe</td>\n",
       "      <td>greensboro</td>\n",
       "      <td>27408.0</td>\n",
       "      <td>roger fristoe</td>\n",
       "      <td>rojyr</td>\n",
       "      <td>fristoe</td>\n",
       "      <td>greensnoro</td>\n",
       "      <td>27408</td>\n",
       "      <td>rojyr fristoe</td>\n",
       "      <td>roger</td>\n",
       "      <td>fristoe</td>\n",
       "      <td>greensboro</td>\n",
       "      <td>27408.0</td>\n",
       "      <td>roger fristoe</td>\n",
       "    </tr>\n",
       "    <tr>\n",
       "      <th>999995</th>\n",
       "      <td>6614741</td>\n",
       "      <td>virginia</td>\n",
       "      <td>angle</td>\n",
       "      <td>charlotte</td>\n",
       "      <td>28205.0</td>\n",
       "      <td>virginia angle</td>\n",
       "      <td>virginia</td>\n",
       "      <td>angle</td>\n",
       "      <td>charlotte</td>\n",
       "      <td>28205.0</td>\n",
       "      <td>virginia angle</td>\n",
       "      <td>virginia</td>\n",
       "      <td>angle</td>\n",
       "      <td>charlotte</td>\n",
       "      <td>28205.0</td>\n",
       "      <td>virginia angle</td>\n",
       "    </tr>\n",
       "    <tr>\n",
       "      <th>999997</th>\n",
       "      <td>5781566</td>\n",
       "      <td>rebecca</td>\n",
       "      <td>allen</td>\n",
       "      <td>willow springs</td>\n",
       "      <td>27592.0</td>\n",
       "      <td>rebecca allen</td>\n",
       "      <td>rebrcca</td>\n",
       "      <td>alen</td>\n",
       "      <td>willow springs</td>\n",
       "      <td>27592</td>\n",
       "      <td>rebrcca alen</td>\n",
       "      <td>rebecca</td>\n",
       "      <td>allen</td>\n",
       "      <td>willow springs</td>\n",
       "      <td>27592.0</td>\n",
       "      <td>rebecca allen</td>\n",
       "    </tr>\n",
       "  </tbody>\n",
       "</table>\n",
       "<p>291451 rows × 16 columns</p>\n",
       "</div>"
      ],
      "text/plain": [
       "\n",
       "          recid givenname_x surname_x        suburb_x postcode_x  \\\n",
       "\u001b[1;36m1\u001b[0m       \u001b[1;36m3138435\u001b[0m       ronel    carter      washington      2788g   \n",
       "\u001b[1;36m2\u001b[0m       \u001b[1;36m6117295\u001b[0m       jason   roehrig   millers ceeek      286s1   \n",
       "\u001b[1;36m3\u001b[0m       \u001b[1;36m6401695\u001b[0m      antrea      mure      greensboro      \u001b[1;36m27410\u001b[0m   \n",
       "\u001b[1;36m5\u001b[0m       \u001b[1;36m4338459\u001b[0m        jonn    snyder      louisbuahg      \u001b[1;36m27549\u001b[0m   \n",
       "\u001b[1;36m6\u001b[0m        \u001b[1;36m795481\u001b[0m      charie     lyles      sdate road      \u001b[1;36m28676\u001b[0m   \n",
       "\u001b[33m...\u001b[0m         \u001b[33m...\u001b[0m         \u001b[33m...\u001b[0m       \u001b[33m...\u001b[0m             \u001b[33m...\u001b[0m        \u001b[33m...\u001b[0m   \n",
       "\u001b[1;36m999985\u001b[0m  \u001b[1;36m5819868\u001b[0m      meagan    pruitt         roxboro    \u001b[1;36m27574.0\u001b[0m   \n",
       "\u001b[1;36m999989\u001b[0m  \u001b[1;36m6680655\u001b[0m      justin     pence      greensboro    \u001b[1;36m27407.0\u001b[0m   \n",
       "\u001b[1;36m999991\u001b[0m   \u001b[1;36m517540\u001b[0m       roger   fristoe      greensboro    \u001b[1;36m27408.0\u001b[0m   \n",
       "\u001b[1;36m999995\u001b[0m  \u001b[1;36m6614741\u001b[0m    virginia     angle       charlotte    \u001b[1;36m28205.0\u001b[0m   \n",
       "\u001b[1;36m999997\u001b[0m  \u001b[1;36m5781566\u001b[0m     rebecca     allen  willow springs    \u001b[1;36m27592.0\u001b[0m   \n",
       "\n",
       "                name_x givenname_y surname_y        suburb_y postcode_y  \\\n",
       "\u001b[1;36m1\u001b[0m         ronel carter      ronnel    carter      washington    \u001b[1;36m27889.0\u001b[0m   \n",
       "\u001b[1;36m2\u001b[0m        jason roehrig       jason   roehrig   millers creek    \u001b[1;36m28651.0\u001b[0m   \n",
       "\u001b[1;36m3\u001b[0m          antrea mure      andrea     moore      greensboro    \u001b[1;36m27410.0\u001b[0m   \n",
       "\u001b[1;36m5\u001b[0m          jonn snyder        john    snyddr       louisburg      27s49   \n",
       "\u001b[1;36m6\u001b[0m         charie lyles     charlie     lyles      state road    \u001b[1;36m28676.0\u001b[0m   \n",
       "\u001b[33m...\u001b[0m                \u001b[33m...\u001b[0m         \u001b[33m...\u001b[0m       \u001b[33m...\u001b[0m             \u001b[33m...\u001b[0m        \u001b[33m...\u001b[0m   \n",
       "\u001b[1;36m999985\u001b[0m   meagan pruitt      meagsn   pruiatt         roxboro      \u001b[1;36m27574\u001b[0m   \n",
       "\u001b[1;36m999989\u001b[0m    justin pence      justin     pence      greensboro    \u001b[1;36m27407.0\u001b[0m   \n",
       "\u001b[1;36m999991\u001b[0m   roger fristoe       rojyr   fristoe      greensnoro      \u001b[1;36m27408\u001b[0m   \n",
       "\u001b[1;36m999995\u001b[0m  virginia angle    virginia     angle       charlotte    \u001b[1;36m28205.0\u001b[0m   \n",
       "\u001b[1;36m999997\u001b[0m   rebecca allen     rebrcca      alen  willow springs      \u001b[1;36m27592\u001b[0m   \n",
       "\n",
       "                name_y givenname  surname          suburb postcode  \\\n",
       "\u001b[1;36m1\u001b[0m        ronnel carter    ronnel   carter      washington  \u001b[1;36m27889.0\u001b[0m   \n",
       "\u001b[1;36m2\u001b[0m        jason roehrig     jason  roehrig   millers creek  \u001b[1;36m28651.0\u001b[0m   \n",
       "\u001b[1;36m3\u001b[0m         andrea moore    andrea    moore      greensboro  \u001b[1;36m27410.0\u001b[0m   \n",
       "\u001b[1;36m5\u001b[0m          john snyddr      zohn   snyder        louiburg    \u001b[1;36m27549\u001b[0m   \n",
       "\u001b[1;36m6\u001b[0m        charlie lyles   charlie    lyles      state road  \u001b[1;36m28676.0\u001b[0m   \n",
       "\u001b[33m...\u001b[0m                \u001b[33m...\u001b[0m       \u001b[33m...\u001b[0m      \u001b[33m...\u001b[0m             \u001b[33m...\u001b[0m      \u001b[33m...\u001b[0m   \n",
       "\u001b[1;36m999985\u001b[0m  meagsn pruiatt    mesgan   pruitt         roxboro    2757q   \n",
       "\u001b[1;36m999989\u001b[0m    justin pence    justin    pence      greensboro  \u001b[1;36m27407.0\u001b[0m   \n",
       "\u001b[1;36m999991\u001b[0m   rojyr fristoe     roger  fristoe      greensboro  \u001b[1;36m27408.0\u001b[0m   \n",
       "\u001b[1;36m999995\u001b[0m  virginia angle  virginia    angle       charlotte  \u001b[1;36m28205.0\u001b[0m   \n",
       "\u001b[1;36m999997\u001b[0m    rebrcca alen   rebecca    allen  willow springs  \u001b[1;36m27592.0\u001b[0m   \n",
       "\n",
       "                  name  \n",
       "\u001b[1;36m1\u001b[0m        ronnel carter  \n",
       "\u001b[1;36m2\u001b[0m        jason roehrig  \n",
       "\u001b[1;36m3\u001b[0m         andrea moore  \n",
       "\u001b[1;36m5\u001b[0m          zohn snyder  \n",
       "\u001b[1;36m6\u001b[0m        charlie lyles  \n",
       "\u001b[33m...\u001b[0m                \u001b[33m...\u001b[0m  \n",
       "\u001b[1;36m999985\u001b[0m   mesgan pruitt  \n",
       "\u001b[1;36m999989\u001b[0m    justin pence  \n",
       "\u001b[1;36m999991\u001b[0m   roger fristoe  \n",
       "\u001b[1;36m999995\u001b[0m  virginia angle  \n",
       "\u001b[1;36m999997\u001b[0m   rebecca allen  \n",
       "\n",
       "\u001b[1m[\u001b[0m\u001b[1;36m291451\u001b[0m rows x \u001b[1;36m16\u001b[0m columns\u001b[1m]\u001b[0m"
      ]
     },
     "execution_count": 1105,
     "metadata": {},
     "output_type": "execute_result"
    }
   ],
   "source": [
    "voters_raw_1.merge(voters_raw_2, on='recid', how='left').merge(voters_raw_3, on='recid', how='left').dropna()"
   ]
  },
  {
   "cell_type": "code",
   "execution_count": null,
   "id": "ca3f581f-e11f-4d5c-89df-223cd5e0c899",
   "metadata": {},
   "outputs": [],
   "source": []
  },
  {
   "cell_type": "markdown",
   "id": "56768c0a-f753-4088-8db4-4a54ffe15783",
   "metadata": {},
   "source": [
    "# Embedding analysis"
   ]
  },
  {
   "cell_type": "code",
   "execution_count": 148,
   "id": "de4b6c89-eb15-43d6-affb-f44fe4daa260",
   "metadata": {},
   "outputs": [],
   "source": [
    "\n",
    "poi_c2v = poiNames_C2V(150, char_to_index)\n",
    "poi_c2v = poi_c2v.load_model('../../data/06_models/Conv-mixed-sources-training-BEAT-EDIT')"
   ]
  },
  {
   "cell_type": "code",
   "execution_count": 160,
   "id": "08f87e69-1259-409c-82c6-ace1f8592954",
   "metadata": {},
   "outputs": [],
   "source": [
    "test_names = ['ibm', 'international business machines']"
   ]
  },
  {
   "cell_type": "code",
   "execution_count": 161,
   "id": "40d1996f-25c4-4966-9fb0-edbaaf6f44b5",
   "metadata": {},
   "outputs": [],
   "source": [
    "X = encode_sparsed_list(test_names,char_to_index_dict=char_to_index, max_len=MAX_NAME_LEN)"
   ]
  },
  {
   "cell_type": "code",
   "execution_count": 163,
   "id": "158d809e-6821-4a87-9b5b-0e831f0d978e",
   "metadata": {},
   "outputs": [
    {
     "data": {
      "text/html": [
       "<pre style=\"white-space:pre;overflow-x:auto;line-height:normal;font-family:Menlo,'DejaVu Sans Mono',consolas,'Courier New',monospace\"></pre>\n"
      ],
      "text/plain": []
     },
     "metadata": {},
     "output_type": "display_data"
    },
    {
     "data": {
      "text/plain": [
       "\u001b[1m[\u001b[0m\u001b[32m'ibm'\u001b[0m, \u001b[32m'international business machines'\u001b[0m\u001b[1m]\u001b[0m"
      ]
     },
     "execution_count": 163,
     "metadata": {},
     "output_type": "execute_result"
    }
   ],
   "source": [
    "test_names"
   ]
  },
  {
   "cell_type": "code",
   "execution_count": 162,
   "id": "fa4045aa-c69d-4b53-9664-6b2971ceaec0",
   "metadata": {},
   "outputs": [
    {
     "name": "stdout",
     "output_type": "stream",
     "text": [
      "[[20. 13. 24.  0.  0.  0.  0.  0.  0.  0.  0.  0.  0.  0.  0.  0.  0.  0.\n",
      "   0.  0.  0.  0.  0.  0.  0.  0.  0.  0.  0.  0.  0.  0.  0.  0.  0.  0.\n",
      "   0.  0.  0.  0.  0.  0.  0.  0.  0.  0.  0.  0.  0.  0.  0.  0.  0.  0.\n",
      "   0.  0.  0.  0.  0.  0.  0.  0.  0.  0.  0.  0.  0.  0.  0.  0.  0.  0.\n",
      "   0.  0.  0.  0.  0.  0.  0.  0.  0.  0.  0.  0.  0.  0.  0.  0.  0.  0.\n",
      "   0.  0.  0.  0.  0.  0.  0.  0.  0.  0.]\n",
      " [20. 25. 31. 16. 29. 25. 12. 31. 20. 26. 25. 12. 23.  1. 13. 32. 30. 20.\n",
      "  25. 16. 30. 30.  1. 24. 12. 14. 19. 20. 25. 16. 30.  0.  0.  0.  0.  0.\n",
      "   0.  0.  0.  0.  0.  0.  0.  0.  0.  0.  0.  0.  0.  0.  0.  0.  0.  0.\n",
      "   0.  0.  0.  0.  0.  0.  0.  0.  0.  0.  0.  0.  0.  0.  0.  0.  0.  0.\n",
      "   0.  0.  0.  0.  0.  0.  0.  0.  0.  0.  0.  0.  0.  0.  0.  0.  0.  0.\n",
      "   0.  0.  0.  0.  0.  0.  0.  0.  0.  0.]]\n"
     ]
    }
   ],
   "source": [
    "print(X)"
   ]
  },
  {
   "cell_type": "code",
   "execution_count": 164,
   "id": "9697f353-e2a9-4bc1-bbd8-3edf6c42eb5a",
   "metadata": {},
   "outputs": [
    {
     "data": {
      "text/html": [
       "<pre style=\"white-space:pre;overflow-x:auto;line-height:normal;font-family:Menlo,'DejaVu Sans Mono',consolas,'Courier New',monospace\"></pre>\n"
      ],
      "text/plain": []
     },
     "metadata": {},
     "output_type": "display_data"
    },
    {
     "data": {
      "text/plain": [
       "\u001b[1m<\u001b[0m\u001b[1;95mmatplotlib.image.AxesImage\u001b[0m\u001b[39m object at \u001b[0m\u001b[1;36m0x7f502caf0c40\u001b[0m\u001b[1m>\u001b[0m"
      ]
     },
     "execution_count": 164,
     "metadata": {},
     "output_type": "execute_result"
    },
    {
     "data": {
      "text/html": [
       "<pre style=\"white-space:pre;overflow-x:auto;line-height:normal;font-family:Menlo,'DejaVu Sans Mono',consolas,'Courier New',monospace\"></pre>\n"
      ],
      "text/plain": []
     },
     "metadata": {},
     "output_type": "display_data"
    },
    {
     "data": {
      "image/png": "[encoded data removed]",
      "text/plain": [
       "\u001b[1m<\u001b[0m\u001b[1;95mFigure\u001b[0m\u001b[39m size 1000\u001b[0m\u001b[1;36m0x10000\u001b[0m\u001b[39m with \u001b[0m\u001b[1;36m1\u001b[0m\u001b[39m Axes\u001b[0m\u001b[1m>\u001b[0m"
      ]
     },
     "metadata": {},
     "output_type": "display_data"
    }
   ],
   "source": [
    "plt.figure(figsize=(100,100))\n",
    "plt.imshow(X[:2])"
   ]
  },
  {
   "cell_type": "code",
   "execution_count": 165,
   "id": "e2c41637-b2ad-4cbb-9bbd-3a21940e2175",
   "metadata": {},
   "outputs": [
    {
     "name": "stdout",
     "output_type": "stream",
     "text": [
      "1/1 [==============================] - 0s 26ms/step\n"
     ]
    },
    {
     "data": {
      "text/html": [
       "<pre style=\"white-space:pre;overflow-x:auto;line-height:normal;font-family:Menlo,'DejaVu Sans Mono',consolas,'Courier New',monospace\"></pre>\n"
      ],
      "text/plain": []
     },
     "metadata": {},
     "output_type": "display_data"
    },
    {
     "data": {
      "text/plain": [
       "\u001b[1m<\u001b[0m\u001b[1;95mmatplotlib.image.AxesImage\u001b[0m\u001b[39m object at \u001b[0m\u001b[1;36m0x7f502c97cca0\u001b[0m\u001b[1m>\u001b[0m"
      ]
     },
     "execution_count": 165,
     "metadata": {},
     "output_type": "execute_result"
    },
    {
     "data": {
      "text/html": [
       "<pre style=\"white-space:pre;overflow-x:auto;line-height:normal;font-family:Menlo,'DejaVu Sans Mono',consolas,'Courier New',monospace\"></pre>\n"
      ],
      "text/plain": []
     },
     "metadata": {},
     "output_type": "display_data"
    },
    {
     "data": {
      "image/png": "[encoded data removed]",
      "text/plain": [
       "\u001b[1m<\u001b[0m\u001b[1;95mFigure\u001b[0m\u001b[39m size 1000\u001b[0m\u001b[1;36m0x1000\u001b[0m\u001b[39m with \u001b[0m\u001b[1;36m1\u001b[0m\u001b[39m Axes\u001b[0m\u001b[1m>\u001b[0m"
      ]
     },
     "metadata": {},
     "output_type": "display_data"
    }
   ],
   "source": [
    "plt.figure(figsize=(100,10))\n",
    "plt.imshow(poi_c2v.embedding_layer.predict(X[0:1]).reshape(-1,150))"
   ]
  },
  {
   "cell_type": "code",
   "execution_count": 166,
   "id": "5c51ec7a-cee2-4302-aeb8-00034c5c2f3d",
   "metadata": {},
   "outputs": [
    {
     "name": "stdout",
     "output_type": "stream",
     "text": [
      "4/4 [==============================] - 0s 2ms/step\n"
     ]
    },
    {
     "data": {
      "text/html": [
       "<pre style=\"white-space:pre;overflow-x:auto;line-height:normal;font-family:Menlo,'DejaVu Sans Mono',consolas,'Courier New',monospace\"></pre>\n"
      ],
      "text/plain": []
     },
     "metadata": {},
     "output_type": "display_data"
    },
    {
     "data": {
      "text/plain": [
       "\u001b[1m<\u001b[0m\u001b[1;95mmatplotlib.image.AxesImage\u001b[0m\u001b[39m object at \u001b[0m\u001b[1;36m0x7f4feae79730\u001b[0m\u001b[1m>\u001b[0m"
      ]
     },
     "execution_count": 166,
     "metadata": {},
     "output_type": "execute_result"
    },
    {
     "data": {
      "text/html": [
       "<pre style=\"white-space:pre;overflow-x:auto;line-height:normal;font-family:Menlo,'DejaVu Sans Mono',consolas,'Courier New',monospace\"></pre>\n"
      ],
      "text/plain": []
     },
     "metadata": {},
     "output_type": "display_data"
    },
    {
     "data": {
      "image/png": "[encoded data removed]",
      "text/plain": [
       "\u001b[1m<\u001b[0m\u001b[1;95mFigure\u001b[0m\u001b[39m size 64\u001b[0m\u001b[1;36m0x480\u001b[0m\u001b[39m with \u001b[0m\u001b[1;36m1\u001b[0m\u001b[39m Axes\u001b[0m\u001b[1m>\u001b[0m"
      ]
     },
     "metadata": {},
     "output_type": "display_data"
    }
   ],
   "source": [
    "plt.imshow(poi_c2v.embedding_layer.predict(X[1]).reshape(-1,150))"
   ]
  },
  {
   "cell_type": "code",
   "execution_count": 171,
   "id": "05c7d7cc-2985-4389-96d9-8cb80535a098",
   "metadata": {},
   "outputs": [
    {
     "data": {
      "text/html": [
       "<pre style=\"white-space:pre;overflow-x:auto;line-height:normal;font-family:Menlo,'DejaVu Sans Mono',consolas,'Courier New',monospace\"></pre>\n"
      ],
      "text/plain": []
     },
     "metadata": {},
     "output_type": "display_data"
    },
    {
     "data": {
      "text/plain": [
       "\u001b[1;36m44\u001b[0m"
      ]
     },
     "execution_count": 171,
     "metadata": {},
     "output_type": "execute_result"
    }
   ],
   "source": [
    "fuzz.token_set_ratio('Car Craft', 'Carcraft Mot & Service Centre')"
   ]
  },
  {
   "cell_type": "code",
   "execution_count": null,
   "id": "597c8a9c-f134-4c8b-b9d3-a2f65fa878d8",
   "metadata": {},
   "outputs": [],
   "source": []
  },
  {
   "cell_type": "markdown",
   "id": "5b963c58-8205-4e0e-b60a-ef4aaea0e20c",
   "metadata": {},
   "source": [
    "# Test layers"
   ]
  },
  {
   "cell_type": "code",
   "execution_count": 176,
   "id": "88e75f01-6fb8-4978-aee5-f806726923a9",
   "metadata": {},
   "outputs": [],
   "source": [
    "input_sequence = tf.keras.layers.Input(shape=100, name='input_sequence')\n",
    "x = tf.keras.layers.Masking(mask_value=0)(input_sequence)\n",
    "x = tf.keras.layers.Embedding(input_dim=100, output_dim=150, mask_zero=True)(x)\n",
    "embedding_layer = tf.keras.models.Model(inputs=[input_sequence], outputs=x)"
   ]
  },
  {
   "cell_type": "code",
   "execution_count": 178,
   "id": "08d19b2a-7888-41cc-9aaf-53722e293bfb",
   "metadata": {},
   "outputs": [
    {
     "data": {
      "text/html": [
       "<pre style=\"white-space:pre;overflow-x:auto;line-height:normal;font-family:Menlo,'DejaVu Sans Mono',consolas,'Courier New',monospace\"></pre>\n"
      ],
      "text/plain": []
     },
     "metadata": {},
     "output_type": "display_data"
    },
    {
     "data": {
      "text/plain": [
       "\n",
       "\u001b[1m<\u001b[0m\u001b[1;95mtf.Tensor:\u001b[0m\u001b[39m \u001b[0m\u001b[33mshape\u001b[0m\u001b[39m=\u001b[0m\u001b[1;39m(\u001b[0m\u001b[1;36m2\u001b[0m\u001b[39m, \u001b[0m\u001b[1;36m100\u001b[0m\u001b[1;39m)\u001b[0m\u001b[39m, \u001b[0m\u001b[33mdtype\u001b[0m\u001b[39m=\u001b[0m\u001b[35mfloat32\u001b[0m\u001b[39m, \u001b[0m\u001b[33mnumpy\u001b[0m\u001b[39m=\u001b[0m\n",
       "\u001b[1;35marray\u001b[0m\u001b[1;39m(\u001b[0m\u001b[1;39m[\u001b[0m\u001b[1;39m[\u001b[0m\u001b[1;36m20\u001b[0m\u001b[39m., \u001b[0m\u001b[1;36m13\u001b[0m\u001b[39m., \u001b[0m\u001b[1;36m24\u001b[0m\u001b[39m.,  \u001b[0m\u001b[1;36m0\u001b[0m\u001b[39m.,  \u001b[0m\u001b[1;36m0\u001b[0m\u001b[39m.,  \u001b[0m\u001b[1;36m0\u001b[0m\u001b[39m.,  \u001b[0m\u001b[1;36m0\u001b[0m\u001b[39m.,  \u001b[0m\u001b[1;36m0\u001b[0m\u001b[39m.,  \u001b[0m\u001b[1;36m0\u001b[0m\u001b[39m.,  \u001b[0m\u001b[1;36m0\u001b[0m\u001b[39m.,  \u001b[0m\u001b[1;36m0\u001b[0m\u001b[39m.,  \u001b[0m\u001b[1;36m0\u001b[0m\u001b[39m.,  \u001b[0m\u001b[1;36m0\u001b[0m\u001b[39m.,\u001b[0m\n",
       "\u001b[39m         \u001b[0m\u001b[1;36m0\u001b[0m\u001b[39m.,  \u001b[0m\u001b[1;36m0\u001b[0m\u001b[39m.,  \u001b[0m\u001b[1;36m0\u001b[0m\u001b[39m.,  \u001b[0m\u001b[1;36m0\u001b[0m\u001b[39m.,  \u001b[0m\u001b[1;36m0\u001b[0m\u001b[39m.,  \u001b[0m\u001b[1;36m0\u001b[0m\u001b[39m.,  \u001b[0m\u001b[1;36m0\u001b[0m\u001b[39m.,  \u001b[0m\u001b[1;36m0\u001b[0m\u001b[39m.,  \u001b[0m\u001b[1;36m0\u001b[0m\u001b[39m.,  \u001b[0m\u001b[1;36m0\u001b[0m\u001b[39m.,  \u001b[0m\u001b[1;36m0\u001b[0m\u001b[39m.,  \u001b[0m\u001b[1;36m0\u001b[0m\u001b[39m.,  \u001b[0m\u001b[1;36m0\u001b[0m\u001b[39m.,\u001b[0m\n",
       "\u001b[39m         \u001b[0m\u001b[1;36m0\u001b[0m\u001b[39m.,  \u001b[0m\u001b[1;36m0\u001b[0m\u001b[39m.,  \u001b[0m\u001b[1;36m0\u001b[0m\u001b[39m.,  \u001b[0m\u001b[1;36m0\u001b[0m\u001b[39m.,  \u001b[0m\u001b[1;36m0\u001b[0m\u001b[39m.,  \u001b[0m\u001b[1;36m0\u001b[0m\u001b[39m.,  \u001b[0m\u001b[1;36m0\u001b[0m\u001b[39m.,  \u001b[0m\u001b[1;36m0\u001b[0m\u001b[39m.,  \u001b[0m\u001b[1;36m0\u001b[0m\u001b[39m.,  \u001b[0m\u001b[1;36m0\u001b[0m\u001b[39m.,  \u001b[0m\u001b[1;36m0\u001b[0m\u001b[39m.,  \u001b[0m\u001b[1;36m0\u001b[0m\u001b[39m.,  \u001b[0m\u001b[1;36m0\u001b[0m\u001b[39m.,\u001b[0m\n",
       "\u001b[39m         \u001b[0m\u001b[1;36m0\u001b[0m\u001b[39m.,  \u001b[0m\u001b[1;36m0\u001b[0m\u001b[39m.,  \u001b[0m\u001b[1;36m0\u001b[0m\u001b[39m.,  \u001b[0m\u001b[1;36m0\u001b[0m\u001b[39m.,  \u001b[0m\u001b[1;36m0\u001b[0m\u001b[39m.,  \u001b[0m\u001b[1;36m0\u001b[0m\u001b[39m.,  \u001b[0m\u001b[1;36m0\u001b[0m\u001b[39m.,  \u001b[0m\u001b[1;36m0\u001b[0m\u001b[39m.,  \u001b[0m\u001b[1;36m0\u001b[0m\u001b[39m.,  \u001b[0m\u001b[1;36m0\u001b[0m\u001b[39m.,  \u001b[0m\u001b[1;36m0\u001b[0m\u001b[39m.,  \u001b[0m\u001b[1;36m0\u001b[0m\u001b[39m.,  \u001b[0m\u001b[1;36m0\u001b[0m\u001b[39m.,\u001b[0m\n",
       "\u001b[39m         \u001b[0m\u001b[1;36m0\u001b[0m\u001b[39m.,  \u001b[0m\u001b[1;36m0\u001b[0m\u001b[39m.,  \u001b[0m\u001b[1;36m0\u001b[0m\u001b[39m.,  \u001b[0m\u001b[1;36m0\u001b[0m\u001b[39m.,  \u001b[0m\u001b[1;36m0\u001b[0m\u001b[39m.,  \u001b[0m\u001b[1;36m0\u001b[0m\u001b[39m.,  \u001b[0m\u001b[1;36m0\u001b[0m\u001b[39m.,  \u001b[0m\u001b[1;36m0\u001b[0m\u001b[39m.,  \u001b[0m\u001b[1;36m0\u001b[0m\u001b[39m.,  \u001b[0m\u001b[1;36m0\u001b[0m\u001b[39m.,  \u001b[0m\u001b[1;36m0\u001b[0m\u001b[39m.,  \u001b[0m\u001b[1;36m0\u001b[0m\u001b[39m.,  \u001b[0m\u001b[1;36m0\u001b[0m\u001b[39m.,\u001b[0m\n",
       "\u001b[39m         \u001b[0m\u001b[1;36m0\u001b[0m\u001b[39m.,  \u001b[0m\u001b[1;36m0\u001b[0m\u001b[39m.,  \u001b[0m\u001b[1;36m0\u001b[0m\u001b[39m.,  \u001b[0m\u001b[1;36m0\u001b[0m\u001b[39m.,  \u001b[0m\u001b[1;36m0\u001b[0m\u001b[39m.,  \u001b[0m\u001b[1;36m0\u001b[0m\u001b[39m.,  \u001b[0m\u001b[1;36m0\u001b[0m\u001b[39m.,  \u001b[0m\u001b[1;36m0\u001b[0m\u001b[39m.,  \u001b[0m\u001b[1;36m0\u001b[0m\u001b[39m.,  \u001b[0m\u001b[1;36m0\u001b[0m\u001b[39m.,  \u001b[0m\u001b[1;36m0\u001b[0m\u001b[39m.,  \u001b[0m\u001b[1;36m0\u001b[0m\u001b[39m.,  \u001b[0m\u001b[1;36m0\u001b[0m\u001b[39m.,\u001b[0m\n",
       "\u001b[39m         \u001b[0m\u001b[1;36m0\u001b[0m\u001b[39m.,  \u001b[0m\u001b[1;36m0\u001b[0m\u001b[39m.,  \u001b[0m\u001b[1;36m0\u001b[0m\u001b[39m.,  \u001b[0m\u001b[1;36m0\u001b[0m\u001b[39m.,  \u001b[0m\u001b[1;36m0\u001b[0m\u001b[39m.,  \u001b[0m\u001b[1;36m0\u001b[0m\u001b[39m.,  \u001b[0m\u001b[1;36m0\u001b[0m\u001b[39m.,  \u001b[0m\u001b[1;36m0\u001b[0m\u001b[39m.,  \u001b[0m\u001b[1;36m0\u001b[0m\u001b[39m.,  \u001b[0m\u001b[1;36m0\u001b[0m\u001b[39m.,  \u001b[0m\u001b[1;36m0\u001b[0m\u001b[39m.,  \u001b[0m\u001b[1;36m0\u001b[0m\u001b[39m.,  \u001b[0m\u001b[1;36m0\u001b[0m\u001b[39m.,\u001b[0m\n",
       "\u001b[39m         \u001b[0m\u001b[1;36m0\u001b[0m\u001b[39m.,  \u001b[0m\u001b[1;36m0\u001b[0m\u001b[39m.,  \u001b[0m\u001b[1;36m0\u001b[0m\u001b[39m.,  \u001b[0m\u001b[1;36m0\u001b[0m\u001b[39m.,  \u001b[0m\u001b[1;36m0\u001b[0m\u001b[39m.,  \u001b[0m\u001b[1;36m0\u001b[0m\u001b[39m.,  \u001b[0m\u001b[1;36m0\u001b[0m\u001b[39m.,  \u001b[0m\u001b[1;36m0\u001b[0m\u001b[39m.,  \u001b[0m\u001b[1;36m0\u001b[0m\u001b[39m.\u001b[0m\u001b[1;39m]\u001b[0m\u001b[39m,\u001b[0m\n",
       "\u001b[39m       \u001b[0m\u001b[1;39m[\u001b[0m\u001b[1;36m20\u001b[0m\u001b[39m., \u001b[0m\u001b[1;36m25\u001b[0m\u001b[39m., \u001b[0m\u001b[1;36m31\u001b[0m\u001b[39m., \u001b[0m\u001b[1;36m16\u001b[0m\u001b[39m., \u001b[0m\u001b[1;36m29\u001b[0m\u001b[39m., \u001b[0m\u001b[1;36m25\u001b[0m\u001b[39m., \u001b[0m\u001b[1;36m12\u001b[0m\u001b[39m., \u001b[0m\u001b[1;36m31\u001b[0m\u001b[39m., \u001b[0m\u001b[1;36m20\u001b[0m\u001b[39m., \u001b[0m\u001b[1;36m26\u001b[0m\u001b[39m., \u001b[0m\u001b[1;36m25\u001b[0m\u001b[39m., \u001b[0m\u001b[1;36m12\u001b[0m\u001b[39m., \u001b[0m\u001b[1;36m23\u001b[0m\u001b[39m.,\u001b[0m\n",
       "\u001b[39m         \u001b[0m\u001b[1;36m1\u001b[0m\u001b[39m., \u001b[0m\u001b[1;36m13\u001b[0m\u001b[39m., \u001b[0m\u001b[1;36m32\u001b[0m\u001b[39m., \u001b[0m\u001b[1;36m30\u001b[0m\u001b[39m., \u001b[0m\u001b[1;36m20\u001b[0m\u001b[39m., \u001b[0m\u001b[1;36m25\u001b[0m\u001b[39m., \u001b[0m\u001b[1;36m16\u001b[0m\u001b[39m., \u001b[0m\u001b[1;36m30\u001b[0m\u001b[39m., \u001b[0m\u001b[1;36m30\u001b[0m\u001b[39m.,  \u001b[0m\u001b[1;36m1\u001b[0m\u001b[39m., \u001b[0m\u001b[1;36m24\u001b[0m\u001b[39m., \u001b[0m\u001b[1;36m12\u001b[0m\u001b[39m., \u001b[0m\u001b[1;36m14\u001b[0m\u001b[39m.,\u001b[0m\n",
       "\u001b[39m        \u001b[0m\u001b[1;36m19\u001b[0m\u001b[39m., \u001b[0m\u001b[1;36m20\u001b[0m\u001b[39m., \u001b[0m\u001b[1;36m25\u001b[0m\u001b[39m., \u001b[0m\u001b[1;36m16\u001b[0m\u001b[39m., \u001b[0m\u001b[1;36m30\u001b[0m\u001b[39m.,  \u001b[0m\u001b[1;36m0\u001b[0m\u001b[39m.,  \u001b[0m\u001b[1;36m0\u001b[0m\u001b[39m.,  \u001b[0m\u001b[1;36m0\u001b[0m\u001b[39m.,  \u001b[0m\u001b[1;36m0\u001b[0m\u001b[39m.,  \u001b[0m\u001b[1;36m0\u001b[0m\u001b[39m.,  \u001b[0m\u001b[1;36m0\u001b[0m\u001b[39m.,  \u001b[0m\u001b[1;36m0\u001b[0m\u001b[39m.,  \u001b[0m\u001b[1;36m0\u001b[0m\u001b[39m.,\u001b[0m\n",
       "\u001b[39m         \u001b[0m\u001b[1;36m0\u001b[0m\u001b[39m.,  \u001b[0m\u001b[1;36m0\u001b[0m\u001b[39m.,  \u001b[0m\u001b[1;36m0\u001b[0m\u001b[39m.,  \u001b[0m\u001b[1;36m0\u001b[0m\u001b[39m.,  \u001b[0m\u001b[1;36m0\u001b[0m\u001b[39m.,  \u001b[0m\u001b[1;36m0\u001b[0m\u001b[39m.,  \u001b[0m\u001b[1;36m0\u001b[0m\u001b[39m.,  \u001b[0m\u001b[1;36m0\u001b[0m\u001b[39m.,  \u001b[0m\u001b[1;36m0\u001b[0m\u001b[39m.,  \u001b[0m\u001b[1;36m0\u001b[0m\u001b[39m.,  \u001b[0m\u001b[1;36m0\u001b[0m\u001b[39m.,  \u001b[0m\u001b[1;36m0\u001b[0m\u001b[39m.,  \u001b[0m\u001b[1;36m0\u001b[0m\u001b[39m.,\u001b[0m\n",
       "\u001b[39m         \u001b[0m\u001b[1;36m0\u001b[0m\u001b[39m.,  \u001b[0m\u001b[1;36m0\u001b[0m\u001b[39m.,  \u001b[0m\u001b[1;36m0\u001b[0m\u001b[39m.,  \u001b[0m\u001b[1;36m0\u001b[0m\u001b[39m.,  \u001b[0m\u001b[1;36m0\u001b[0m\u001b[39m.,  \u001b[0m\u001b[1;36m0\u001b[0m\u001b[39m.,  \u001b[0m\u001b[1;36m0\u001b[0m\u001b[39m.,  \u001b[0m\u001b[1;36m0\u001b[0m\u001b[39m.,  \u001b[0m\u001b[1;36m0\u001b[0m\u001b[39m.,  \u001b[0m\u001b[1;36m0\u001b[0m\u001b[39m.,  \u001b[0m\u001b[1;36m0\u001b[0m\u001b[39m.,  \u001b[0m\u001b[1;36m0\u001b[0m\u001b[39m.,  \u001b[0m\u001b[1;36m0\u001b[0m\u001b[39m.,\u001b[0m\n",
       "\u001b[39m         \u001b[0m\u001b[1;36m0\u001b[0m\u001b[39m.,  \u001b[0m\u001b[1;36m0\u001b[0m\u001b[39m.,  \u001b[0m\u001b[1;36m0\u001b[0m\u001b[39m.,  \u001b[0m\u001b[1;36m0\u001b[0m\u001b[39m.,  \u001b[0m\u001b[1;36m0\u001b[0m\u001b[39m.,  \u001b[0m\u001b[1;36m0\u001b[0m\u001b[39m.,  \u001b[0m\u001b[1;36m0\u001b[0m\u001b[39m.,  \u001b[0m\u001b[1;36m0\u001b[0m\u001b[39m.,  \u001b[0m\u001b[1;36m0\u001b[0m\u001b[39m.,  \u001b[0m\u001b[1;36m0\u001b[0m\u001b[39m.,  \u001b[0m\u001b[1;36m0\u001b[0m\u001b[39m.,  \u001b[0m\u001b[1;36m0\u001b[0m\u001b[39m.,  \u001b[0m\u001b[1;36m0\u001b[0m\u001b[39m.,\u001b[0m\n",
       "\u001b[39m         \u001b[0m\u001b[1;36m0\u001b[0m\u001b[39m.,  \u001b[0m\u001b[1;36m0\u001b[0m\u001b[39m.,  \u001b[0m\u001b[1;36m0\u001b[0m\u001b[39m.,  \u001b[0m\u001b[1;36m0\u001b[0m\u001b[39m.,  \u001b[0m\u001b[1;36m0\u001b[0m\u001b[39m.,  \u001b[0m\u001b[1;36m0\u001b[0m\u001b[39m.,  \u001b[0m\u001b[1;36m0\u001b[0m\u001b[39m.,  \u001b[0m\u001b[1;36m0\u001b[0m\u001b[39m.,  \u001b[0m\u001b[1;36m0\u001b[0m\u001b[39m.,  \u001b[0m\u001b[1;36m0\u001b[0m\u001b[39m.,  \u001b[0m\u001b[1;36m0\u001b[0m\u001b[39m.,  \u001b[0m\u001b[1;36m0\u001b[0m\u001b[39m.,  \u001b[0m\u001b[1;36m0\u001b[0m\u001b[39m.,\u001b[0m\n",
       "\u001b[39m         \u001b[0m\u001b[1;36m0\u001b[0m\u001b[39m.,  \u001b[0m\u001b[1;36m0\u001b[0m\u001b[39m.,  \u001b[0m\u001b[1;36m0\u001b[0m\u001b[39m.,  \u001b[0m\u001b[1;36m0\u001b[0m\u001b[39m.,  \u001b[0m\u001b[1;36m0\u001b[0m\u001b[39m.,  \u001b[0m\u001b[1;36m0\u001b[0m\u001b[39m.,  \u001b[0m\u001b[1;36m0\u001b[0m\u001b[39m.,  \u001b[0m\u001b[1;36m0\u001b[0m\u001b[39m.,  \u001b[0m\u001b[1;36m0\u001b[0m\u001b[39m.\u001b[0m\u001b[1;39m]\u001b[0m\u001b[1;39m]\u001b[0m\u001b[39m, \u001b[0m\u001b[33mdtype\u001b[0m\u001b[39m=\u001b[0m\u001b[35mfloat32\u001b[0m\u001b[1;39m)\u001b[0m\u001b[1m>\u001b[0m"
      ]
     },
     "execution_count": 178,
     "metadata": {},
     "output_type": "execute_result"
    }
   ],
   "source": [
    "tf.keras.layers.Masking(mask_value=0)(X)"
   ]
  },
  {
   "cell_type": "code",
   "execution_count": 53,
   "id": "0bbf20ba-fe7b-4d91-bbee-8f01b544591d",
   "metadata": {},
   "outputs": [
    {
     "data": {
      "text/html": [
       "<pre style=\"white-space:pre;overflow-x:auto;line-height:normal;font-family:Menlo,'DejaVu Sans Mono',consolas,'Courier New',monospace\"></pre>\n"
      ],
      "text/plain": []
     },
     "metadata": {},
     "output_type": "display_data"
    },
    {
     "data": {
      "text/plain": [
       "\u001b[1m<\u001b[0m\u001b[1;95mmatplotlib.image.AxesImage\u001b[0m\u001b[39m object at \u001b[0m\u001b[1;36m0x7f505c7bab20\u001b[0m\u001b[1m>\u001b[0m"
      ]
     },
     "execution_count": 53,
     "metadata": {},
     "output_type": "execute_result"
    },
    {
     "data": {
      "text/html": [
       "<pre style=\"white-space:pre;overflow-x:auto;line-height:normal;font-family:Menlo,'DejaVu Sans Mono',consolas,'Courier New',monospace\"></pre>\n"
      ],
      "text/plain": []
     },
     "metadata": {},
     "output_type": "display_data"
    },
    {
     "data": {
      "image/png": "[encoded data removed]",
      "text/plain": [
       "\u001b[1m<\u001b[0m\u001b[1;95mFigure\u001b[0m\u001b[39m size 64\u001b[0m\u001b[1;36m0x480\u001b[0m\u001b[39m with \u001b[0m\u001b[1;36m1\u001b[0m\u001b[39m Axes\u001b[0m\u001b[1m>\u001b[0m"
      ]
     },
     "metadata": {},
     "output_type": "display_data"
    }
   ],
   "source": [
    "plt.imshow(embedding_layer(ones))"
   ]
  },
  {
   "cell_type": "code",
   "execution_count": null,
   "id": "f80d9c5e-9247-4416-ad05-87674adad0b3",
   "metadata": {},
   "outputs": [],
   "source": []
  }
 ],
 "metadata": {
  "kernelspec": {
   "display_name": "Kedro (entity_name_matching_dnn)",
   "language": "python",
   "name": "kedro_entity_name_matching_dnn"
  },
  "language_info": {
   "codemirror_mode": {
    "name": "ipython",
    "version": 3
   },
   "file_extension": ".py",
   "mimetype": "text/x-python",
   "name": "python",
   "nbconvert_exporter": "python",
   "pygments_lexer": "ipython3",
   "version": "3.9.5"
  }
 },
 "nbformat": 4,
 "nbformat_minor": 5
}
