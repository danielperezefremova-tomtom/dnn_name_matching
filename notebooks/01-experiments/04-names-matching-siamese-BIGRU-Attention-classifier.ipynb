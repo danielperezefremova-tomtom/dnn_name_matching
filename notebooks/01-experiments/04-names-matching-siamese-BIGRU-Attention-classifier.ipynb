{
 "cells": [
  {
   "cell_type": "code",
   "execution_count": 28,
   "id": "4a689f22",
   "metadata": {},
   "outputs": [],
   "source": [
    "import pandas as pd\n",
    "from pyspark.sql.functions import (col, rand, udf, collect_set, collect_list, concat, array_distinct, flatten, when, length)\n",
    "import pyspark.sql.functions as F\n",
    "from pyspark.sql.types import ArrayType, StringType, FloatType\n",
    "from unidecode import unidecode\n",
    "import re\n",
    "from functools import reduce\n",
    "import numpy as np\n",
    "import tensorflow as tf\n",
    "import keras\n",
    "from fuzzywuzzy import fuzz\n",
    "\n",
    "from keras.models import Sequential\n",
    "from keras.layers import Dense, Dropout, GRU, Bidirectional, GlobalMaxPooling1D, Layer, Masking, Lambda, Permute\n",
    "import os\n",
    "import pickle\n",
    "from keras.layers import Bidirectional\n",
    "import matplotlib.pyplot as plt\n",
    "from sklearn.metrics import classification_report\n",
    "import functools\n",
    "from keras.callbacks import ModelCheckpoint\n",
    "from keras.layers import Dropout, concatenate\n",
    "from keras.activations import relu\n",
    "from sklearn.model_selection import train_test_split\n"
   ]
  },
  {
   "cell_type": "code",
   "execution_count": 29,
   "id": "40fe30d5",
   "metadata": {},
   "outputs": [],
   "source": [
    "#env: geoNames"
   ]
  },
  {
   "cell_type": "code",
   "execution_count": 30,
   "id": "5d835198",
   "metadata": {},
   "outputs": [
    {
     "data": {
      "text/html": [
       "<pre style=\"white-space:pre;overflow-x:auto;line-height:normal;font-family:Menlo,'DejaVu Sans Mono',consolas,'Courier New',monospace\"><span style=\"color: #7fbfbf; text-decoration-color: #7fbfbf\">[08/22/23 08:58:01] </span><span style=\"color: #000080; text-decoration-color: #000080\">INFO    </span> Loading data from <span style=\"color: #008000; text-decoration-color: #008000\">'geonames_latin_pairs'</span> <span style=\"font-weight: bold\">(</span>SparkDataSet<span style=\"font-weight: bold\">)</span><span style=\"color: #808000; text-decoration-color: #808000\">...</span>         <a href=\"file:///usr/local/lib/python3.9/dist-packages/kedro/io/data_catalog.py\" target=\"_blank\"><span style=\"color: #7f7f7f; text-decoration-color: #7f7f7f\">data_catalog.py</span></a><span style=\"color: #7f7f7f; text-decoration-color: #7f7f7f\">:</span><a href=\"file:///usr/local/lib/python3.9/dist-packages/kedro/io/data_catalog.py#475\" target=\"_blank\"><span style=\"color: #7f7f7f; text-decoration-color: #7f7f7f\">475</span></a>\n",
       "</pre>\n"
      ],
      "text/plain": [
       "\u001b[2;36m[08/22/23 08:58:01]\u001b[0m\u001b[2;36m \u001b[0m\u001b[34mINFO    \u001b[0m Loading data from \u001b[32m'geonames_latin_pairs'\u001b[0m \u001b[1m(\u001b[0mSparkDataSet\u001b[1m)\u001b[0m\u001b[33m...\u001b[0m         \u001b]8;id=823888;file:///usr/local/lib/python3.9/dist-packages/kedro/io/data_catalog.py\u001b\\\u001b[2mdata_catalog.py\u001b[0m\u001b]8;;\u001b\\\u001b[2m:\u001b[0m\u001b]8;id=872722;file:///usr/local/lib/python3.9/dist-packages/kedro/io/data_catalog.py#475\u001b\\\u001b[2m475\u001b[0m\u001b]8;;\u001b\\\n"
      ]
     },
     "metadata": {},
     "output_type": "display_data"
    }
   ],
   "source": [
    "geonames_pairs = catalog.load('geonames_latin_pairs')\n",
    "geonames_pairs = geonames_pairs.withColumn('target', when(col('match') == 'true', 1).otherwise(0).cast(FloatType()))"
   ]
  },
  {
   "cell_type": "code",
   "execution_count": 31,
   "id": "3d07f6ed-d33c-4ad5-926a-7be8c877ee4a",
   "metadata": {},
   "outputs": [
    {
     "name": "stderr",
     "output_type": "stream",
     "text": [
      "[Stage 16:>                                                       (0 + 16) / 16]\r"
     ]
    },
    {
     "name": "stdout",
     "output_type": "stream",
     "text": [
      "+----------+------+\n",
      "|language_1| count|\n",
      "+----------+------+\n",
      "|        CN|503487|\n",
      "|        IR|282669|\n",
      "|        RU|234588|\n",
      "|        TH|174396|\n",
      "|        AF|171604|\n",
      "|        NO|109708|\n",
      "|        KR|104579|\n",
      "|        TW| 85863|\n",
      "|        JP| 81481|\n",
      "|        IQ| 59890|\n",
      "|        FR| 58277|\n",
      "|        PK| 55530|\n",
      "|        TR| 49718|\n",
      "|        SE| 47650|\n",
      "|        EG| 47493|\n",
      "|        SY| 45737|\n",
      "|        GR| 41502|\n",
      "|        YE| 40943|\n",
      "|        UA| 39231|\n",
      "|        MX| 37547|\n",
      "+----------+------+\n",
      "only showing top 20 rows\n",
      "\n"
     ]
    },
    {
     "name": "stderr",
     "output_type": "stream",
     "text": [
      "                                                                                \r"
     ]
    }
   ],
   "source": [
    "geonames_pairs.groupBy('language_1').count().orderBy(col('count').desc()).limit(200).show()"
   ]
  },
  {
   "cell_type": "code",
   "execution_count": 32,
   "id": "08501f63-3fb8-40d3-ba35-2a1caedece40",
   "metadata": {},
   "outputs": [
    {
     "name": "stdout",
     "output_type": "stream",
     "text": [
      "+----------------+----------------+-------+-------+----------+----------+----------+----------+-----+------+\n",
      "|          name_1|          name_2|   id_1|   id_2|alphabet_1|alphabet_2|language_1|language_2|match|target|\n",
      "+----------------+----------------+-------+-------+----------+----------+----------+----------+-----+------+\n",
      "|     Homsterland| Hultensche Leij|2753420|2753428|     LATIN|     LATIN|        NL|        NL|false|   0.0|\n",
      "|       Wormingen|  Wormer en Jisp|2744170|2744172|     LATIN|     LATIN|        NL|        NL|false|   0.0|\n",
      "|         De Neer|     Neyderveyrt|2750455|2750467|     LATIN|     LATIN|        NL|        NL|false|   0.0|\n",
      "|     Spykerbosch|          Spronk|2746879|2746889|     LATIN|     LATIN|        NL|        NL|false|   0.0|\n",
      "|    Sint Pancras|Sint Odilienberg|2747225|2747229|     LATIN|     LATIN|        NL|        NL|false|   0.0|\n",
      "|Huis Voorstonden|          Voorst|2745279|2745297|     LATIN|     LATIN|        NL|        NL|false|   0.0|\n",
      "|        Terheden|          Terhei|2746456|2746457|     LATIN|     LATIN|        NL|        NL|false|   0.0|\n",
      "|        Schalsum|  Schaijkse Hoek|2747698|2747710|     LATIN|     LATIN|        NL|        NL|false|   0.0|\n",
      "|       IJselmeer|       Rio Issel|2753361|2753367|     LATIN|     LATIN|        NL|        NL|false|   0.0|\n",
      "|     IJssel Lake|   Sungai IJssel|2753361|2753367|     LATIN|     LATIN|        NL|        NL|false|   0.0|\n",
      "+----------------+----------------+-------+-------+----------+----------+----------+----------+-----+------+\n",
      "\n"
     ]
    }
   ],
   "source": [
    "geonames_pairs.filter(col('language_1') == 'NL').limit(10).show()"
   ]
  },
  {
   "cell_type": "code",
   "execution_count": 33,
   "id": "c9f413a7-818a-45c7-a1de-55aeb1b76dea",
   "metadata": {},
   "outputs": [],
   "source": [
    "geonames_pairs_es = geonames_pairs.filter((col('language_1') == col('language_2')) & (col('language_1').isin(['ES', 'MX', 'AR', 'VE', 'FR', 'IT', 'GB', 'US', 'BR', 'DE', 'NL'])))"
   ]
  },
  {
   "cell_type": "code",
   "execution_count": 34,
   "id": "09eb295f-64a9-4f01-8225-75cb11d74ad3",
   "metadata": {},
   "outputs": [
    {
     "name": "stderr",
     "output_type": "stream",
     "text": [
      "                                                                                \r"
     ]
    },
    {
     "data": {
      "text/html": [
       "<pre style=\"white-space:pre;overflow-x:auto;line-height:normal;font-family:Menlo,'DejaVu Sans Mono',consolas,'Courier New',monospace\"></pre>\n"
      ],
      "text/plain": []
     },
     "metadata": {},
     "output_type": "display_data"
    },
    {
     "data": {
      "text/plain": [
       "\u001b[1;36m195568\u001b[0m"
      ]
     },
     "execution_count": 34,
     "metadata": {},
     "output_type": "execute_result"
    }
   ],
   "source": [
    "geonames_pairs_es.count()"
   ]
  },
  {
   "cell_type": "code",
   "execution_count": 35,
   "id": "5aa0ec3a-6287-4874-8850-90fcf52a63c4",
   "metadata": {},
   "outputs": [
    {
     "name": "stderr",
     "output_type": "stream",
     "text": [
      "[Stage 23:===>                                                    (1 + 15) / 16]\r"
     ]
    },
    {
     "name": "stdout",
     "output_type": "stream",
     "text": [
      "+--------------------+--------------------+-------+-------+----------+----------+----------+----------+-----+------+\n",
      "|              name_1|              name_2|   id_1|   id_2|alphabet_1|alphabet_2|language_1|language_2|match|target|\n",
      "+--------------------+--------------------+-------+-------+----------+----------+----------+----------+-----+------+\n",
      "|             Morcens|         Le Morbihan|2991877|2991878|     LATIN|     LATIN|        FR|        FR|false|   0.0|\n",
      "|    Hrabstwo Webster|         wyst bransh|4881109|4881274|     LATIN|     LATIN|        US|        US|false|   0.0|\n",
      "| Cachoeira Piararusa| Cachoeira Piararusá|3380625|3380625|     LATIN|     LATIN|        BR|        BR| true|   1.0|\n",
      "|            El Holan|            El Holán|4009637|4009637|     LATIN|     LATIN|        MX|        MX| true|   1.0|\n",
      "|          Rucachoroi|             Aluminé|3866000|3866000|     LATIN|     LATIN|        AR|        AR| true|   1.0|\n",
      "|             Tuparaí|         Tupanciretã|3445936|3445939|     LATIN|     LATIN|        BR|        BR|false|   0.0|\n",
      "|           Xaracuaro|           Jarácuaro|4004097|4004097|     LATIN|     LATIN|        MX|        MX| true|   1.0|\n",
      "|             Conchos|              Concha|3530324|3530324|     LATIN|     LATIN|        MX|        MX| true|   1.0|\n",
      "|             Mulungú|     Corrego Mutunga|3456566|3456569|     LATIN|     LATIN|        BR|        BR|false|   0.0|\n",
      "|   Colonia Hernandez|   Hernandez Jovales|4013404|4013404|     LATIN|     LATIN|        MX|        MX| true|   1.0|\n",
      "|          Zjuderende|  Wittduen auf Amrum|6551611|6551633|     LATIN|     LATIN|        DE|        DE|false|   0.0|\n",
      "|         Na Puballan|             Peebles|2640526|2640526|     LATIN|     LATIN|        GB|        GB| true|   1.0|\n",
      "|               Kruze|        lei ke lu ze|6455712|6455712|     LATIN|     LATIN|        FR|        FR| true|   1.0|\n",
      "|             Monzhar|            Montgras|6431719|6431721|     LATIN|     LATIN|        FR|        FR|false|   0.0|\n",
      "|               Gelas|                Giac|6440041|6440043|     LATIN|     LATIN|        FR|        FR|false|   0.0|\n",
      "|tuo la zha pi ye ...|             Torassa|6543790|6543790|     LATIN|     LATIN|        IT|        IT| true|   1.0|\n",
      "|          Buchenberg|            Bockberg|2947399|2947399|     LATIN|     LATIN|        DE|        DE| true|   1.0|\n",
      "|             La Mota|            La Mosca|4001259|4001262|     LATIN|     LATIN|        MX|        MX|false|   0.0|\n",
      "|     meng te fu kong|                 Rog|6612446|6612448|     LATIN|     LATIN|        FR|        FR|false|   0.0|\n",
      "|             Comondú| San José de Comondú|4013097|4013098|     LATIN|     LATIN|        MX|        MX|false|   0.0|\n",
      "|             Ferrare|               Ferno|3177090|3177098|     LATIN|     LATIN|        IT|        IT|false|   0.0|\n",
      "|San Antonio de la...|San Antonio de Abajo|3519723|3519725|     LATIN|     LATIN|        MX|        MX|false|   0.0|\n",
      "|            Mortom'e|      Mulen-sjur-Evr|6428229|6428230|     LATIN|     LATIN|        FR|        FR|false|   0.0|\n",
      "|               Doire|   Le Doigt Ruisseau|3021276|3021278|     LATIN|     LATIN|        FR|        FR|false|   0.0|\n",
      "|               Sancy|sang xi lai she m...|2976233|2976234|     LATIN|     LATIN|        FR|        FR|false|   0.0|\n",
      "|    Caserio Rio-Miel|             Ríofrío|2511820|2511831|     LATIN|     LATIN|        ES|        ES|false|   0.0|\n",
      "|         Koenigsdorf|          Königsdorf|3207637|3207637|     LATIN|     LATIN|        DE|        DE| true|   1.0|\n",
      "|Aeroporto Estadua...|Bartolomeu de Gus...|7668428|7668428|     LATIN|     LATIN|        BR|        BR| true|   1.0|\n",
      "|          Vatehrtaun|   GJai hoc Wesleyan|4845245|4845353|     LATIN|     LATIN|        US|        US|false|   0.0|\n",
      "|       Smellingerlan|Gemeente Smelling...|2747091|2747091|     LATIN|     LATIN|        NL|        NL| true|   1.0|\n",
      "|            bi a nei|              Buanes|6448859|6448859|     LATIN|     LATIN|        FR|        FR| true|   1.0|\n",
      "| La Umbría de Arriba| La Umbria de Arriba|2515152|2515152|     LATIN|     LATIN|        ES|        ES| true|   1.0|\n",
      "|          Santa-Roza|   Santa Rosa Island|5393287|5393320|     LATIN|     LATIN|        US|        US|false|   0.0|\n",
      "|  Caserío Cobatillas|  Caserio Cobatillas|2519390|2519390|     LATIN|     LATIN|        ES|        ES| true|   1.0|\n",
      "|         byrnardfyly|  bei er nuo er sang|6450583|6450584|     LATIN|     LATIN|        FR|        FR|false|   0.0|\n",
      "|Casas de los Garcías|Casas de los Garcias|2519910|2519910|     LATIN|     LATIN|        ES|        ES| true|   1.0|\n",
      "|Ribeirao Calheirinho|          Rio Galhao|3462712|3462715|     LATIN|     LATIN|        BR|        BR|false|   0.0|\n",
      "|Hôpital La Pitié-...|       Hopital Broca|6639744|6639747|     LATIN|     LATIN|        FR|        FR|false|   0.0|\n",
      "|               Kuvre|              Kuprju|3023175|3023177|     LATIN|     LATIN|        FR|        FR|false|   0.0|\n",
      "|  Igarape do Barreto|   Ribeirão Barreiro|3406139|3406175|     LATIN|     LATIN|        BR|        BR|false|   0.0|\n",
      "|    Les Costes-Gozon|          Les Costes|3001318|3001320|     LATIN|     LATIN|        FR|        FR|false|   0.0|\n",
      "|    Cano Angosturita|        Cano Angosto|3649240|3649240|     LATIN|     LATIN|        VE|        VE| true|   1.0|\n",
      "|                Bisi|  Bjussju-Bjussjuel'|6444315|6444316|     LATIN|     LATIN|        FR|        FR|false|   0.0|\n",
      "|   Uricuricaia River|    Furo Urucuricaia|3385648|3385648|     LATIN|     LATIN|        BR|        BR| true|   1.0|\n",
      "|                rmzk|nei ka he pan lei...|2848267|2848267|     LATIN|     LATIN|        DE|        DE| true|   1.0|\n",
      "|  Puebla de Albortón|               Ebora|3112796|3112796|     LATIN|     LATIN|        ES|        ES| true|   1.0|\n",
      "|         Le-Shaffal'|    Shapel an Verkor|6456795|6456797|     LATIN|     LATIN|        FR|        FR|false|   0.0|\n",
      "|   Araguaína Airport|     Arraias Airport|7668482|7668483|     LATIN|     LATIN|        BR|        BR|false|   0.0|\n",
      "|Ranchería Sajóriachi|        Asajoreachic|4018115|4018115|     LATIN|     LATIN|        MX|        MX| true|   1.0|\n",
      "|        Arroio Putiã|     Serra do Purunã|3452192|3452194|     LATIN|     LATIN|        BR|        BR|false|   0.0|\n",
      "| Parco delle Cascine|          Le Cascine|3174960|3174960|     LATIN|     LATIN|        IT|        IT| true|   1.0|\n",
      "| Condado de Delaware|       Delaver srjan|5114810|5114810|     LATIN|     LATIN|        US|        US| true|   1.0|\n",
      "|     Caserío Robledo|             Robledo|3111545|3111546|     LATIN|     LATIN|        ES|        ES|false|   0.0|\n",
      "|                 Izo|    L'Izaute Riviere|3012611|3012614|     LATIN|     LATIN|        FR|        FR|false|   0.0|\n",
      "|General Joaquin A...|General Joaquín A...|3970535|3970535|     LATIN|     LATIN|        MX|        MX| true|   1.0|\n",
      "|  Sant'Anna do Congo|         Conego Lira|3401813|3401814|     LATIN|     LATIN|        BR|        BR|false|   0.0|\n",
      "|              Vajoia|         Olho d'Agua|3385502|3385536|     LATIN|     LATIN|        BR|        BR|false|   0.0|\n",
      "|    Estación Sarabia|             Sarabia|3516760|3516760|     LATIN|     LATIN|        MX|        MX| true|   1.0|\n",
      "|         ku er bu an|            Courboin|6424843|6424843|     LATIN|     LATIN|        FR|        FR| true|   1.0|\n",
      "|             Orellan|              Orduña|3114969|3114980|     LATIN|     LATIN|        ES|        ES|false|   0.0|\n",
      "|               sudan|              Vallet|6434547|6434555|     LATIN|     LATIN|        FR|        FR|false|   0.0|\n",
      "| Bordo del Astillero|Santa Fe de Marav...|3814040|3814097|     LATIN|     LATIN|        MX|        MX|false|   0.0|\n",
      "|  Bormida di Mallare|Torrente Bormida ...|3181734|3181734|     LATIN|     LATIN|        IT|        IT| true|   1.0|\n",
      "|La Rochelle - ile...|La Rochelle-Île d...|6299371|6299371|     LATIN|     LATIN|        FR|        FR| true|   1.0|\n",
      "|jia di nai de qu ...|  Oussoy-en-Gatinais|2988949|2988949|     LATIN|     LATIN|        FR|        FR| true|   1.0|\n",
      "|            Nortboro|           nwrthbwrw|4945840|4945840|     LATIN|     LATIN|        US|        US| true|   1.0|\n",
      "|Alfredo de Vascon...|             Alfenas|3472586|3472603|     LATIN|     LATIN|        BR|        BR|false|   0.0|\n",
      "|Saint-Etienne-sur...|Saint-Etienne-sur...|2980214|2980215|     LATIN|     LATIN|        FR|        FR|false|   0.0|\n",
      "|   Bahnhof Karlsfeld|Bahnhof Munchen-G...|2867698|2867702|     LATIN|     LATIN|        DE|        DE|false|   0.0|\n",
      "|   Corrego Guararoba|    Corrego Garariba|3462034|3462034|     LATIN|     LATIN|        BR|        BR| true|   1.0|\n",
      "|Cachoeira do Sul ...|                 QDB|7731427|7731427|     LATIN|     LATIN|        BR|        BR| true|   1.0|\n",
      "|           El Jardin|           El Tandhe|3814000|3814001|     LATIN|     LATIN|        MX|        MX|false|   0.0|\n",
      "|    Rincón de Alisos|    Rincon de Alisos|9085161|9085161|     LATIN|     LATIN|        MX|        MX| true|   1.0|\n",
      "|           Chicuasén|San Miguel Chicon...|3530917|3530932|     LATIN|     LATIN|        MX|        MX|false|   0.0|\n",
      "|       Montemarciano|         mwnth manyw|3172845|3172850|     LATIN|     LATIN|        IT|        IT|false|   0.0|\n",
      "|                Edem|             El Eden|3529607|3529607|     LATIN|     LATIN|        MX|        MX| true|   1.0|\n",
      "|    Paris La défense|    Paris La Defense|3009670|3009670|     LATIN|     LATIN|        FR|        FR| true|   1.0|\n",
      "|              Gereñu|             Guereñu|3120992|3120992|     LATIN|     LATIN|        ES|        ES| true|   1.0|\n",
      "|           aindlingi|            Aindling|2958835|2958835|     LATIN|     LATIN|        DE|        DE| true|   1.0|\n",
      "| nei te er si hai mu|                ntfn|2866336|2866375|     LATIN|     LATIN|        DE|        DE|false|   0.0|\n",
      "|     Rio Salsipuedes|             Salitre|3520027|3520043|     LATIN|     LATIN|        MX|        MX|false|   0.0|\n",
      "|Caserío Reiguero ...|Caserio Reiguero ...|2511948|2511949|     LATIN|     LATIN|        ES|        ES|false|   0.0|\n",
      "|  Bahía Santa Marina|         Santa Maria|3984063|3984065|     LATIN|     LATIN|        MX|        MX|false|   0.0|\n",
      "|            Ligueers|              Lupiak|6616556|6616557|     LATIN|     LATIN|        FR|        FR|false|   0.0|\n",
      "|           Durrwiese|           Dirvangen|2934275|2934281|     LATIN|     LATIN|        DE|        DE|false|   0.0|\n",
      "|Isola de sa Tonnária|Isola de sa Tonnaria|3171271|3171271|     LATIN|     LATIN|        IT|        IT| true|   1.0|\n",
      "|           Montmarat|  Saint-Jean-d'Aulps|2979355|2979355|     LATIN|     LATIN|        FR|        FR| true|   1.0|\n",
      "|        Cerro Gallan|Departamento de G...|3855280|3855282|     LATIN|     LATIN|        AR|        AR|false|   0.0|\n",
      "|         Jesus Maria|  José María Morelos|3526533|3526533|     LATIN|     LATIN|        MX|        MX| true|   1.0|\n",
      "|           Ibipeuara|    Sao Joao Batista|3388635|3388635|     LATIN|     LATIN|        BR|        BR| true|   1.0|\n",
      "|         ba si ka la|             Báscara|6534015|6534015|     LATIN|     LATIN|        ES|        ES| true|   1.0|\n",
      "|     Sèvre-Niortaise|     Sevre-Niortaise|2974679|2974679|     LATIN|     LATIN|        FR|        FR| true|   1.0|\n",
      "|Musée internation...|Musee internation...|7828765|7828765|     LATIN|     LATIN|        IT|        IT| true|   1.0|\n",
      "|        Las Adjuntas|             Ajuntas|4019738|4019738|     LATIN|     LATIN|        MX|        MX| true|   1.0|\n",
      "|Provincia di Mass...|               Massa|3173767|3173775|     LATIN|     LATIN|        IT|        IT|false|   0.0|\n",
      "|Isla Angel de la ...|  Angel de la Guarda|4018513|4018513|     LATIN|     LATIN|        MX|        MX| true|   1.0|\n",
      "|              Penmon|         Penmaenmawr|2640449|2640452|     LATIN|     LATIN|        GB|        GB|false|   0.0|\n",
      "|         Niederfinow|          Niderfell'|2863442|2863444|     LATIN|     LATIN|        DE|        DE|false|   0.0|\n",
      "|           Orizatlan|           Orizatlán|3522302|3522302|     LATIN|     LATIN|        MX|        MX| true|   1.0|\n",
      "|      Kasteli Romani|Kathedrale Santa ...|7302106|7302742|     LATIN|     LATIN|        IT|        IT|false|   0.0|\n",
      "+--------------------+--------------------+-------+-------+----------+----------+----------+----------+-----+------+\n",
      "only showing top 100 rows\n",
      "\n"
     ]
    },
    {
     "name": "stderr",
     "output_type": "stream",
     "text": [
      "                                                                                \r"
     ]
    }
   ],
   "source": [
    "geonames_pairs_es.orderBy(rand()).show(100)"
   ]
  },
  {
   "cell_type": "markdown",
   "id": "0c853998-de01-4ee0-b2dd-88486dd74781",
   "metadata": {},
   "source": [
    "# 2. Function to normalize names"
   ]
  },
  {
   "cell_type": "markdown",
   "id": "4151d55b-eea0-4f85-9eb3-546b6fe96cd8",
   "metadata": {},
   "source": [
    "Requirements:\n",
    "\n",
    "* Transform to unicode characters (utf-8)\n",
    "* remove whitespaces"
   ]
  },
  {
   "cell_type": "code",
   "execution_count": 36,
   "id": "5a80a74d-63b6-4c7c-9aa5-952c4edca331",
   "metadata": {},
   "outputs": [],
   "source": [
    "def normalize_characters(text: str) -> str:\n",
    "    \n",
    "    if text is None:\n",
    "        return ''\n",
    "\n",
    "    strange_char_space = r\"!#$%&()*+,./:;<=>?@[\\]^_{|}~ºª®-\"\n",
    "    char_2_remove = \"\\\"'^`\"\n",
    "    space_mask = \"                                \"\n",
    "    punctuation_table = str.maketrans(strange_char_space, space_mask,\n",
    "                                        char_2_remove)\n",
    "    text = text.lower()\n",
    "    text = text.strip()\n",
    "    text = unidecode(text)\n",
    "    text = text.translate(punctuation_table)\n",
    "    text = re.sub(r' +', ' ', text)\n",
    "    text = text.strip()\n",
    "    text = text.lower()\n",
    "\n",
    "    return text\n",
    "\n",
    "udf_normalize_chars = udf(normalize_characters)"
   ]
  },
  {
   "cell_type": "code",
   "execution_count": 37,
   "id": "6a48c848-5dbf-4a6c-afeb-f9593c95d5d7",
   "metadata": {},
   "outputs": [],
   "source": [
    "geonames_normalized = geonames_pairs_es.withColumn('name_1_normalized', udf_normalize_chars(col('name_1'))) \\\n",
    "                .withColumn('name_2_normalized', udf_normalize_chars(col('name_2')))"
   ]
  },
  {
   "cell_type": "markdown",
   "id": "843e9da3-86ac-4b4f-9e41-c01d83bc8469",
   "metadata": {},
   "source": [
    "# 3. Function to generate vocabulary"
   ]
  },
  {
   "cell_type": "code",
   "execution_count": 38,
   "id": "4879fcf5-a024-4dad-8100-a505fe3c55a9",
   "metadata": {},
   "outputs": [],
   "source": [
    "def get_unique_characters(string: str) -> list:\n",
    "\n",
    "    unique_characters = list(set(string))\n",
    "    return unique_characters\n",
    "\n",
    "udf_get_unique_characters = udf(get_unique_characters, ArrayType(StringType()))\n",
    "\n",
    "\n",
    "def compute_max_word_len(string: str) -> int:\n",
    "    return max([len(word) for word in string.split(' ')])\n",
    "\n",
    "udf_compute_max_word_len = udf(compute_max_word_len)\n",
    "\n",
    "def compute_token_count(string: str) -> int:\n",
    "    return len([word for word in string.split(' ')])\n",
    "\n",
    "udf_compute_token_count = udf(compute_token_count)"
   ]
  },
  {
   "cell_type": "code",
   "execution_count": 39,
   "id": "8579c47b-2115-4acf-b6dd-c08257bf8f23",
   "metadata": {},
   "outputs": [],
   "source": [
    "geonames_characters = geonames_normalized.withColumn('unique_characters_1', udf_get_unique_characters(col('name_1_normalized'))) \\\n",
    "                                        .withColumn('unique_characters_2', udf_get_unique_characters(col('name_2_normalized'))) \\\n",
    "                                        .withColumn('unique_characters', array_distinct(concat(col('unique_characters_1'), col('unique_characters_2')))) \\\n",
    "                                        .withColumn('max_word_len_1', udf_compute_max_word_len(col('name_1_normalized')).cast(FloatType())) \\\n",
    "                                        .withColumn('max_word_len_2', udf_compute_max_word_len(col('name_2_normalized')).cast(FloatType())) \\\n",
    "                                        .withColumn('max_token_num_1', udf_compute_token_count(col('name_1_normalized')).cast(FloatType())) \\\n",
    "                                        .withColumn('max_token_num_2', udf_compute_token_count(col('name_2_normalized')).cast(FloatType())) \\\n",
    "                                        .withColumn('max_len_1', length(col('name_1_normalized')).cast(FloatType())) \\\n",
    "                                        .withColumn('max_len_2', length(col('name_2_normalized')).cast(FloatType()))"
   ]
  },
  {
   "cell_type": "code",
   "execution_count": 40,
   "id": "ab8f18d7-4089-42dc-a886-f50759d78518",
   "metadata": {},
   "outputs": [],
   "source": [
    "geonames_char_list = geonames_characters.groupBy().agg(\n",
    "    array_distinct(flatten(collect_set(col('unique_characters')))).alias('char_list'),\n",
    "    F.max(col('max_word_len_1')).alias('max_len_1'),\n",
    "    F.max(col('max_word_len_2')).alias('max_len_2'),\n",
    "    F.max(col('max_token_num_2')).alias('max_num_2'),\n",
    "    F.max(col('max_token_num_1')).alias('max_num_1'),\n",
    "    F.max(col('max_len_1')).alias('max_len_1'),\n",
    "    F.max(col('max_len_2')).alias('max_len_1')\n",
    ")"
   ]
  },
  {
   "cell_type": "code",
   "execution_count": 41,
   "id": "0c646bef-36bb-4044-a39e-2451a4643812",
   "metadata": {},
   "outputs": [
    {
     "name": "stderr",
     "output_type": "stream",
     "text": [
      "[Stage 24:==========================================>             (12 + 4) / 16]\r"
     ]
    },
    {
     "name": "stdout",
     "output_type": "stream",
     "text": [
      "+--------------------+---------+---------+---------+---------+---------+---------+\n",
      "|           char_list|max_len_1|max_len_2|max_num_2|max_num_1|max_len_1|max_len_1|\n",
      "+--------------------+---------+---------+---------+---------+---------+---------+\n",
      "|[n, o, r, a, i, t...|     27.0|     58.0|     18.0|     16.0|     96.0|    111.0|\n",
      "+--------------------+---------+---------+---------+---------+---------+---------+\n",
      "\n"
     ]
    },
    {
     "name": "stderr",
     "output_type": "stream",
     "text": [
      "                                                                                \r"
     ]
    }
   ],
   "source": [
    "geonames_char_list.show()"
   ]
  },
  {
   "cell_type": "code",
   "execution_count": 42,
   "id": "2c7c39dd-51f2-4c32-83e8-375848c3ae6f",
   "metadata": {},
   "outputs": [
    {
     "name": "stderr",
     "output_type": "stream",
     "text": [
      "                                                                                \r"
     ]
    }
   ],
   "source": [
    "characters_list = geonames_char_list.rdd.map(lambda x: x.char_list).collect()[0]\n",
    "sorted_char_list = sorted(characters_list)"
   ]
  },
  {
   "cell_type": "markdown",
   "id": "b87c9a47-d5dd-419d-a0a3-3e3356a3b8d7",
   "metadata": {},
   "source": [
    "# 4. One Hot encoder"
   ]
  },
  {
   "cell_type": "code",
   "execution_count": 43,
   "id": "6edd9435-5664-4ccf-a1ab-9209d8576c46",
   "metadata": {},
   "outputs": [],
   "source": [
    "char_to_index = {char: index+1 for index, char in enumerate(sorted_char_list)}\n",
    "index_to_char = {index: char for char, index in char_to_index.items()}\n",
    "MAX_WORD_LENGTH = 16\n",
    "MAX_TOKEN_NUMBER = 8\n",
    "MAX_NAME_LEN = 100"
   ]
  },
  {
   "cell_type": "code",
   "execution_count": 44,
   "id": "a2cc8fc2-1c79-4b8d-8528-c9ffdeed5eef",
   "metadata": {},
   "outputs": [
    {
     "data": {
      "text/html": [
       "<pre style=\"white-space:pre;overflow-x:auto;line-height:normal;font-family:Menlo,'DejaVu Sans Mono',consolas,'Courier New',monospace\"></pre>\n"
      ],
      "text/plain": []
     },
     "metadata": {},
     "output_type": "display_data"
    },
    {
     "data": {
      "text/plain": [
       "\n",
       "\u001b[1m{\u001b[0m\n",
       "    \u001b[32m' '\u001b[0m: \u001b[1;36m1\u001b[0m,\n",
       "    \u001b[32m'0'\u001b[0m: \u001b[1;36m2\u001b[0m,\n",
       "    \u001b[32m'1'\u001b[0m: \u001b[1;36m3\u001b[0m,\n",
       "    \u001b[32m'2'\u001b[0m: \u001b[1;36m4\u001b[0m,\n",
       "    \u001b[32m'3'\u001b[0m: \u001b[1;36m5\u001b[0m,\n",
       "    \u001b[32m'4'\u001b[0m: \u001b[1;36m6\u001b[0m,\n",
       "    \u001b[32m'5'\u001b[0m: \u001b[1;36m7\u001b[0m,\n",
       "    \u001b[32m'6'\u001b[0m: \u001b[1;36m8\u001b[0m,\n",
       "    \u001b[32m'7'\u001b[0m: \u001b[1;36m9\u001b[0m,\n",
       "    \u001b[32m'8'\u001b[0m: \u001b[1;36m10\u001b[0m,\n",
       "    \u001b[32m'9'\u001b[0m: \u001b[1;36m11\u001b[0m,\n",
       "    \u001b[32m'a'\u001b[0m: \u001b[1;36m12\u001b[0m,\n",
       "    \u001b[32m'b'\u001b[0m: \u001b[1;36m13\u001b[0m,\n",
       "    \u001b[32m'c'\u001b[0m: \u001b[1;36m14\u001b[0m,\n",
       "    \u001b[32m'd'\u001b[0m: \u001b[1;36m15\u001b[0m,\n",
       "    \u001b[32m'e'\u001b[0m: \u001b[1;36m16\u001b[0m,\n",
       "    \u001b[32m'f'\u001b[0m: \u001b[1;36m17\u001b[0m,\n",
       "    \u001b[32m'g'\u001b[0m: \u001b[1;36m18\u001b[0m,\n",
       "    \u001b[32m'h'\u001b[0m: \u001b[1;36m19\u001b[0m,\n",
       "    \u001b[32m'i'\u001b[0m: \u001b[1;36m20\u001b[0m,\n",
       "    \u001b[32m'j'\u001b[0m: \u001b[1;36m21\u001b[0m,\n",
       "    \u001b[32m'k'\u001b[0m: \u001b[1;36m22\u001b[0m,\n",
       "    \u001b[32m'l'\u001b[0m: \u001b[1;36m23\u001b[0m,\n",
       "    \u001b[32m'm'\u001b[0m: \u001b[1;36m24\u001b[0m,\n",
       "    \u001b[32m'n'\u001b[0m: \u001b[1;36m25\u001b[0m,\n",
       "    \u001b[32m'o'\u001b[0m: \u001b[1;36m26\u001b[0m,\n",
       "    \u001b[32m'p'\u001b[0m: \u001b[1;36m27\u001b[0m,\n",
       "    \u001b[32m'q'\u001b[0m: \u001b[1;36m28\u001b[0m,\n",
       "    \u001b[32m'r'\u001b[0m: \u001b[1;36m29\u001b[0m,\n",
       "    \u001b[32m's'\u001b[0m: \u001b[1;36m30\u001b[0m,\n",
       "    \u001b[32m't'\u001b[0m: \u001b[1;36m31\u001b[0m,\n",
       "    \u001b[32m'u'\u001b[0m: \u001b[1;36m32\u001b[0m,\n",
       "    \u001b[32m'v'\u001b[0m: \u001b[1;36m33\u001b[0m,\n",
       "    \u001b[32m'w'\u001b[0m: \u001b[1;36m34\u001b[0m,\n",
       "    \u001b[32m'x'\u001b[0m: \u001b[1;36m35\u001b[0m,\n",
       "    \u001b[32m'y'\u001b[0m: \u001b[1;36m36\u001b[0m,\n",
       "    \u001b[32m'z'\u001b[0m: \u001b[1;36m37\u001b[0m\n",
       "\u001b[1m}\u001b[0m"
      ]
     },
     "execution_count": 44,
     "metadata": {},
     "output_type": "execute_result"
    }
   ],
   "source": [
    "char_to_index"
   ]
  },
  {
   "cell_type": "code",
   "execution_count": 45,
   "id": "4be74622-e88c-44b9-b0b5-95e09b52251c",
   "metadata": {},
   "outputs": [],
   "source": [
    "def one_hot_encoder(string: str, char_to_index_dict: dict) -> np.array:\n",
    "\n",
    "    vocabulary_size = len(char_to_index_dict.keys())\n",
    "    vector = np.zeros(vocabulary_size)\n",
    "    for char in string:\n",
    "        vector[char_to_index[char]-1] = 1 \n",
    "    return vector\n",
    "\n",
    "def encode_name_list(iterable: iter, char_to_index_dict: dict) -> np.array:\n",
    "\n",
    "    return np.array([one_hot_encoder(string, char_to_index_dict) for string in iterable])\n",
    "\n",
    "def check_chars_OOV(string: str, char_to_index_dict: dict) -> bool:\n",
    "\n",
    "    vocabulary = char_to_index_dict.keys()\n",
    "    return all([char in vocabulary for char in string])\n",
    "\n",
    "def name_matrix_encoder(string: iter, char_to_index_dict: dict, max_word_length:int, max_token_number:int) -> np.array :\n",
    "\n",
    "    representation_matrix = np.zeros(shape=(max_token_number, max_word_length))\n",
    "    for token_ind, token in enumerate(string.split(' ')):\n",
    "        for char_ind, char in enumerate(token):\n",
    "            try:\n",
    "                representation_matrix[token_ind][char_ind] = char_to_index[char]\n",
    "            except IndexError:\n",
    "                continue\n",
    "    return representation_matrix\n",
    "\n",
    "def sparse_encoder(string: str, char_to_index_dict: dict, max_len: int) -> np.array:\n",
    "\n",
    "    vector = np.zeros(max_len)\n",
    "    for ind, char in enumerate(string):\n",
    "        if ind>=max_len:\n",
    "            break\n",
    "        vector[ind] = char_to_index[char]\n",
    "    return vector\n",
    "\n",
    "def encode_sparsed_list(iterable: iter, char_to_index_dict: dict, max_len: int) -> np.array:\n",
    "    \n",
    "    return np.array([sparse_encoder(string, char_to_index_dict, max_len) for string in iterable])\n"
   ]
  },
  {
   "cell_type": "code",
   "execution_count": 78,
   "id": "03ef1167-5181-44e8-9b95-30ac5a746557",
   "metadata": {},
   "outputs": [],
   "source": [
    "from keras.activations import relu\n",
    "    \n",
    "def custom_standardization(input_data):\n",
    "    lowercase     = tf.strings.lower(input_data)\n",
    "    stripped_html = tf.strings.regex_replace(lowercase, \"<br />\", \" \")\n",
    "    stripped_punc = tf.strings.regex_replace(stripped_html, \n",
    "                             \"[%s]\" % re.escape(string.punctuation), \"\")\n",
    "    return stripped_punc\n",
    "    \n",
    "def char_split(input_data):\n",
    "  return tf.strings.unicode_split(input_data, 'UTF-8')\n",
    "\n",
    "\n",
    "def get_conv_pool(x_input, max_len, suffix, n_grams=[8,16, 32], feature_maps=128): #[2,3,5,10]\n",
    "    branches = []\n",
    "    for n in n_grams:\n",
    "        branch = tf.keras.layers.Conv1D(filters=feature_maps, kernel_size=n, activation=relu,\n",
    "                        name='Conv_' + suffix + '_' + str(n))(x_input)\n",
    "        branch = tf.keras.layers.MaxPooling1D(pool_size=n, #max_len - n + 1\n",
    "                                              strides=None, padding='valid',\n",
    "                              name='MaxPooling_' + suffix + '_' + str(n))(branch)\n",
    "        branch = tf.keras.layers.Flatten(name='Flatten_' + suffix + '_' + str(n))(branch)\n",
    "        branches.append(branch)\n",
    "    return branches\n",
    "\n",
    "class poiNames_C2V:\n",
    "    \n",
    "    def __init__(self, embedding_dim:int, char_to_index:dict, gru_hidden_units:int):\n",
    "\n",
    "        self.char_to_index = char_to_index\n",
    "        self.index_to_char = {char_to_index[char]: char for char in char_to_index}\n",
    "        self.input_size = MAX_NAME_LEN\n",
    "        self.embedding_dim = embedding_dim\n",
    "        self.vocabulary_size = len(char_to_index)\n",
    "        self.gru_hidden_units = gru_hidden_units\n",
    "\n",
    "        \n",
    "        input_sequence = tf.keras.layers.Input(shape=self.input_size, name='input_sequence')\n",
    "        x = tf.keras.layers.Masking(mask_value=0)(input_sequence)\n",
    "        x = tf.keras.layers.Embedding(input_dim=self.input_size, output_dim=self.embedding_dim, mask_zero=True)(x)\n",
    "        x = Bidirectional(tf.keras.layers.GRU(self.gru_hidden_units, return_sequences=True, name='gru_1'))(x)\n",
    "        x = Bidirectional(tf.keras.layers.GRU(self.gru_hidden_units, name='gru_2'))(x)\n",
    "        self.embedding_layer = tf.keras.models.Model(inputs=[input_sequence], outputs=x)\n",
    "\n",
    "        left_branch_input = tf.keras.layers.Input(shape=(self.input_size, 1), name='left_branch_input')\n",
    "        right_branch_input = tf.keras.layers.Input(shape=(self.input_size, 1),name='right_branch_input')\n",
    "\n",
    "        left_branch_features = self.embedding_layer(left_branch_input)\n",
    "        right_branch_features = self.embedding_layer(right_branch_input)\n",
    "        \n",
    "        product_layer = tf.keras.layers.Multiply()([left_branch_features, right_branch_features])\n",
    "        difference_layer = tf.keras.layers.Subtract()([left_branch_features, right_branch_features])\n",
    "        concat_layer = tf.keras.layers.Concatenate(axis=1)([left_branch_features, right_branch_features])\n",
    "        \n",
    "        representation_layer = tf.keras.layers.Concatenate(axis=1)([\n",
    "                                                                    concat_layer, product_layer, difference_layer, \n",
    "                                                                    ])\n",
    "        x = tf.keras.layers.Dense(1024, activation='relu')(representation_layer)\n",
    "        x = tf.keras.layers.Dropout(0.5)(x)\n",
    "        x = tf.keras.layers.Dense(1024, activation='relu')(x)\n",
    "        x = tf.keras.layers.Dropout(0.5)(x)\n",
    "        x = tf.keras.layers.Dense(1024, activation='relu')(x)\n",
    "        model_output = tf.keras.layers.Dense(1, activation='sigmoid')(x)\n",
    "        \n",
    "        self.model = tf.keras.models.Model(inputs=[left_branch_input, right_branch_input], outputs=model_output)\n",
    "        self.model.compile(loss='binary_crossentropy', optimizer='adam', metrics=['accuracy',\n",
    "                                                              tf.keras.metrics.Precision(),\n",
    "                                                              tf.keras.metrics.Recall()])\n",
    "        \n",
    "    def fit(\n",
    "        self, name_pairs, target, max_epochs:int, patience:int, validation_split:float, batch_size:int, callbacks: iter):\n",
    "        \n",
    "        X1 = encode_sparsed_list(name_pairs[:, 0],char_to_index_dict=self.char_to_index, max_len=MAX_NAME_LEN)\n",
    "        X2 = encode_sparsed_list(name_pairs[:, 1], char_to_index_dict=self.char_to_index, max_len=MAX_NAME_LEN)\n",
    "        X1 = np.expand_dims(X1, axis=-1)\n",
    "        X2 = np.expand_dims(X2, axis=-1)\n",
    "        X1_pad = tf.keras.preprocessing.sequence.pad_sequences(X1)\n",
    "        X2_pad = tf.keras.preprocessing.sequence.pad_sequences(X2)\n",
    "        \n",
    "        self.model.fit((X1_pad, X2_pad), target,verbose=1,\n",
    "                    batch_size=batch_size, epochs=max_epochs,\n",
    "                    validation_split=validation_split,\n",
    "                    callbacks=[tf.keras.callbacks.EarlyStopping(monitor='val_loss', patience=patience)]\n",
    "                            + callbacks)\n",
    "\n",
    "\n",
    "    def save_model(self, path_to_model):\n",
    "        '''\n",
    "        Saves trained model to directory.\n",
    "    \n",
    "        :param path_to_model: str, path to save model.\n",
    "        '''\n",
    "    \n",
    "        if not os.path.exists(path_to_model):\n",
    "            os.makedirs(path_to_model)\n",
    "        \n",
    "        self.model.save_weights(path_to_model + '/weights.h5')\n",
    "    \n",
    "        with open(path_to_model + '/model.pkl', 'wb') as f:\n",
    "            pickle.dump([self.embedding_dim, self.char_to_index], f, protocol=2)\n",
    "\n",
    "\n",
    "    def load_model(self, path):\n",
    "        '''\n",
    "        Loads trained model.\n",
    "    \n",
    "        :param path: loads model from `path`.\n",
    "    \n",
    "        :return c2v_model: Chars2Vec object, trained model.\n",
    "        '''\n",
    "        path_to_model = path\n",
    "    \n",
    "        with open(path_to_model + '/model.pkl', 'rb') as f:\n",
    "            structure = pickle.load(f)\n",
    "            embedding_dim, char_to_index = structure[0], structure[1]\n",
    "    \n",
    "        model = poiNames_C2V(embedding_dim=embedding_dim, char_to_index=char_to_index)\n",
    "        model.model.load_weights(path_to_model + '/weights.h5')\n",
    "        model.model.compile(optimizer='adam', loss='mae')\n",
    "    \n",
    "        return model\n",
    "\n",
    "\n",
    "    def vectorize(self, iterable: iter) -> np.array:\n",
    "        \n",
    "        X = encode_sparsed_list(iterable,char_to_index_dict=self.char_to_index)\n",
    "        X = np.expand_dims(X, axis=-1)\n",
    "        X_pad = tf.keras.preprocessing.sequence.pad_sequences(X)\n",
    "\n",
    "        return X_pad\n",
    "        "
   ]
  },
  {
   "cell_type": "code",
   "execution_count": 80,
   "id": "d1b3f634-c81c-4447-906e-2575f66be0f4",
   "metadata": {},
   "outputs": [],
   "source": [
    "poi_c2v = poiNames_C2V(100, char_to_index, 60)"
   ]
  },
  {
   "cell_type": "code",
   "execution_count": 81,
   "id": "01dd7a87-0ac4-477f-8893-36dc8b85ded3",
   "metadata": {},
   "outputs": [
    {
     "name": "stdout",
     "output_type": "stream",
     "text": [
      "Model: \"model_18\"\n",
      "__________________________________________________________________________________________________\n",
      " Layer (type)                   Output Shape         Param #     Connected to                     \n",
      "==================================================================================================\n",
      " left_branch_input (InputLayer)  [(None, 100, 1)]    0           []                               \n",
      "                                                                                                  \n",
      " right_branch_input (InputLayer  [(None, 100, 1)]    0           []                               \n",
      " )                                                                                                \n",
      "                                                                                                  \n",
      " model_17 (Functional)          (None, 120)          133840      ['left_branch_input[0][0]',      \n",
      "                                                                  'right_branch_input[0][0]']     \n",
      "                                                                                                  \n",
      " concatenate_16 (Concatenate)   (None, 240)          0           ['model_17[0][0]',               \n",
      "                                                                  'model_17[1][0]']               \n",
      "                                                                                                  \n",
      " multiply_8 (Multiply)          (None, 120)          0           ['model_17[0][0]',               \n",
      "                                                                  'model_17[1][0]']               \n",
      "                                                                                                  \n",
      " subtract_8 (Subtract)          (None, 120)          0           ['model_17[0][0]',               \n",
      "                                                                  'model_17[1][0]']               \n",
      "                                                                                                  \n",
      " concatenate_17 (Concatenate)   (None, 480)          0           ['concatenate_16[0][0]',         \n",
      "                                                                  'multiply_8[0][0]',             \n",
      "                                                                  'subtract_8[0][0]']             \n",
      "                                                                                                  \n",
      " dense_29 (Dense)               (None, 1024)         492544      ['concatenate_17[0][0]']         \n",
      "                                                                                                  \n",
      " dropout_16 (Dropout)           (None, 1024)         0           ['dense_29[0][0]']               \n",
      "                                                                                                  \n",
      " dense_30 (Dense)               (None, 1024)         1049600     ['dropout_16[0][0]']             \n",
      "                                                                                                  \n",
      " dropout_17 (Dropout)           (None, 1024)         0           ['dense_30[0][0]']               \n",
      "                                                                                                  \n",
      " dense_31 (Dense)               (None, 1024)         1049600     ['dropout_17[0][0]']             \n",
      "                                                                                                  \n",
      " dense_32 (Dense)               (None, 1)            1025        ['dense_31[0][0]']               \n",
      "                                                                                                  \n",
      "==================================================================================================\n",
      "Total params: 2,726,609\n",
      "Trainable params: 2,726,609\n",
      "Non-trainable params: 0\n",
      "__________________________________________________________________________________________________\n"
     ]
    }
   ],
   "source": [
    "poi_c2v.model.summary()"
   ]
  },
  {
   "cell_type": "markdown",
   "id": "4c665c4c-96ae-41fb-a6b5-47ab07a472d5",
   "metadata": {},
   "source": [
    "## Data Preparation"
   ]
  },
  {
   "cell_type": "code",
   "execution_count": 49,
   "id": "218631cf-b5e2-4099-8451-6a809002d04f",
   "metadata": {},
   "outputs": [
    {
     "name": "stderr",
     "output_type": "stream",
     "text": [
      "                                                                                \r"
     ]
    }
   ],
   "source": [
    "name_pairs = geonames_characters.select('name_1_normalized', 'name_2_normalized').toPandas().values\n",
    "target = geonames_characters.select(col('target')).toPandas().astype(float).values"
   ]
  },
  {
   "cell_type": "markdown",
   "id": "ab21a6c4-b5b9-4d83-bd6c-6524d7d19970",
   "metadata": {},
   "source": [
    "# Orbis data preparation"
   ]
  },
  {
   "cell_type": "code",
   "execution_count": 50,
   "id": "1f144ba7-7893-411d-b51f-4627de35127f",
   "metadata": {},
   "outputs": [],
   "source": [
    "orbis_data = pd.read_csv('../../data/01_raw/tomtom/orbis/alt_names/GB/planet_osm_point_202308151142.csv')\n",
    "orbis_data['name'] = orbis_data['name'].apply(lambda x: normalize_characters(x))\n",
    "orbis_data['alt_name'] = orbis_data['alt_name'].apply(lambda x: normalize_characters(x))\n",
    "orbis_data['target'] = 1"
   ]
  },
  {
   "cell_type": "code",
   "execution_count": 51,
   "id": "d323ad72-791b-48d6-a1de-5c67203bb2f9",
   "metadata": {},
   "outputs": [],
   "source": [
    "pos_name_pairs = orbis_data[['name', 'alt_name']].values\n",
    "neg_name_pairs = orbis_data[['name', 'alt_name']].values.copy()\n",
    "pos_target = orbis_data['target'].values\n",
    "neg_target = np.zeros(len(neg_name_pairs))"
   ]
  },
  {
   "cell_type": "code",
   "execution_count": 52,
   "id": "02ec9a44-31c5-420a-add5-31aee91363ac",
   "metadata": {},
   "outputs": [],
   "source": [
    "np.random.shuffle(neg_name_pairs[:, 0])"
   ]
  },
  {
   "cell_type": "code",
   "execution_count": 53,
   "id": "e8c99e52-bb06-434a-aa37-67980313e665",
   "metadata": {},
   "outputs": [],
   "source": [
    "name_pairs_orbis = np.concatenate((neg_name_pairs, pos_name_pairs))\n",
    "target_orbis = np.concatenate((neg_target, pos_target))"
   ]
  },
  {
   "cell_type": "markdown",
   "id": "952a8eec-8244-4293-9953-d2b36a20e878",
   "metadata": {},
   "source": [
    "## Names standard"
   ]
  },
  {
   "cell_type": "code",
   "execution_count": 59,
   "id": "56f6cafa-2050-480a-8a4e-351a997e024d",
   "metadata": {},
   "outputs": [],
   "source": [
    "data_standard = pd.read_csv('../../data/02_intermediate/names/names.csv')\n",
    "\n",
    "data_standard['name_1'] = data_standard['name_1'].apply(lambda x: normalize_characters(x))\n",
    "data_standard['name_2'] = data_standard['name_2'].apply(lambda x: normalize_characters(x))\n",
    "\n",
    "data_standard_pairs = data_standard[['name_1', 'name_2']].values\n",
    "data_standard_target = data_standard['target'].values"
   ]
  },
  {
   "cell_type": "markdown",
   "id": "d9e0fb66-7b7e-492c-877d-933bb77178e7",
   "metadata": {},
   "source": [
    "# Split "
   ]
  },
  {
   "cell_type": "code",
   "execution_count": 60,
   "id": "7d3b32fe-915c-4bb6-a8a0-d15483dedc19",
   "metadata": {},
   "outputs": [],
   "source": [
    "def generate_training_data(name_pairs, target):\n",
    "    X_train, X_test, y_train, y_test = train_test_split(name_pairs, target, test_size=0.1, random_state=0)\n",
    "    print(len(X_train), len(X_test))\n",
    "    return X_train, X_test, y_train, y_test"
   ]
  },
  {
   "cell_type": "code",
   "execution_count": 61,
   "id": "dc38cc87-f18e-43a8-8e8e-fd5aa688129e",
   "metadata": {},
   "outputs": [],
   "source": [
    "all_pairs = np.concatenate([name_pairs, name_pairs_orbis, data_standard_pairs], axis=0)\n",
    "all_target = np.concatenate([target.flatten(), target_orbis, data_standard_target], axis=0).reshape(-1, 1)"
   ]
  },
  {
   "cell_type": "code",
   "execution_count": 62,
   "id": "b4ef5de4-4b8f-4ad5-acf9-ba1b4a01ca90",
   "metadata": {},
   "outputs": [
    {
     "name": "stdout",
     "output_type": "stream",
     "text": [
      "470307 52257\n"
     ]
    }
   ],
   "source": [
    "# X_train, X_test, y_train, y_test = generate_training_data(name_pairs, target)\n",
    "# X_train, X_test, y_train, y_test = generate_training_data(name_pairs_orbis, target_orbis)\n",
    "X_train, X_test, y_train, y_test = generate_training_data(all_pairs, all_target)"
   ]
  },
  {
   "cell_type": "markdown",
   "id": "a3d1cec9-47bf-4686-9d4d-b57686cdf8f9",
   "metadata": {},
   "source": [
    "# Training"
   ]
  },
  {
   "cell_type": "code",
   "execution_count": 84,
   "id": "db92441d-9144-4ffa-b704-aaa9698c00cb",
   "metadata": {},
   "outputs": [],
   "source": [
    "poi_c2v = poiNames_C2V(150, char_to_index, 60)"
   ]
  },
  {
   "cell_type": "code",
   "execution_count": 85,
   "id": "034097da-7624-4c3d-baad-2f49e46872b5",
   "metadata": {},
   "outputs": [
    {
     "name": "stdout",
     "output_type": "stream",
     "text": [
      "Epoch 1/10000\n",
      "2940/2940 [==============================] - 1717s 578ms/step - loss: 0.3473 - accuracy: 0.8585 - precision_9: 0.8812 - recall_9: 0.8253 - val_loss: 0.2887 - val_accuracy: 0.8894 - val_precision_9: 0.9195 - val_recall_9: 0.8490\n",
      "Epoch 2/10000\n",
      "2940/2940 [==============================] - 1707s 581ms/step - loss: 0.2762 - accuracy: 0.8935 - precision_9: 0.9156 - recall_9: 0.8645 - val_loss: 0.2504 - val_accuracy: 0.9029 - val_precision_9: 0.9327 - val_recall_9: 0.8648\n",
      "Epoch 3/10000\n",
      "2940/2940 [==============================] - 1705s 580ms/step - loss: 0.2480 - accuracy: 0.9037 - precision_9: 0.9243 - recall_9: 0.8773 - val_loss: 0.2407 - val_accuracy: 0.9051 - val_precision_9: 0.9386 - val_recall_9: 0.8632\n",
      "Epoch 4/10000\n",
      "1874/2940 [==================>...........] - ETA: 9:33 - loss: 0.2298 - accuracy: 0.9103 - precision_9: 0.9288 - recall_9: 0.8868"
     ]
    },
    {
     "data": {
      "text/html": [
       "<pre style=\"white-space:pre;overflow-x:auto;line-height:normal;font-family:Menlo,'DejaVu Sans Mono',consolas,'Courier New',monospace\"><span style=\"color: #800000; text-decoration-color: #800000\">╭─────────────────────────────── </span><span style=\"color: #800000; text-decoration-color: #800000; font-weight: bold\">Traceback </span><span style=\"color: #bf7f7f; text-decoration-color: #bf7f7f; font-weight: bold\">(most recent call last)</span><span style=\"color: #800000; text-decoration-color: #800000\"> ────────────────────────────────╮</span>\n",
       "<span style=\"color: #800000; text-decoration-color: #800000\">│</span> in <span style=\"color: #00ff00; text-decoration-color: #00ff00\">&lt;cell line: 4&gt;</span>:<span style=\"color: #0000ff; text-decoration-color: #0000ff\">4</span>                                                                              <span style=\"color: #800000; text-decoration-color: #800000\">│</span>\n",
       "<span style=\"color: #800000; text-decoration-color: #800000\">│</span>                                                                                                  <span style=\"color: #800000; text-decoration-color: #800000\">│</span>\n",
       "<span style=\"color: #800000; text-decoration-color: #800000\">│</span>   <span style=\"color: #7f7f7f; text-decoration-color: #7f7f7f\"> 1 </span><span style=\"color: #0000ff; text-decoration-color: #0000ff\">from</span> <span style=\"color: #00ffff; text-decoration-color: #00ffff; text-decoration: underline\">keras.callbacks</span> <span style=\"color: #0000ff; text-decoration-color: #0000ff\">import</span> History                                                         <span style=\"color: #800000; text-decoration-color: #800000\">│</span>\n",
       "<span style=\"color: #800000; text-decoration-color: #800000\">│</span>   <span style=\"color: #7f7f7f; text-decoration-color: #7f7f7f\"> 2 </span>history = History()                                                                         <span style=\"color: #800000; text-decoration-color: #800000\">│</span>\n",
       "<span style=\"color: #800000; text-decoration-color: #800000\">│</span>   <span style=\"color: #7f7f7f; text-decoration-color: #7f7f7f\"> 3 </span>                                                                                            <span style=\"color: #800000; text-decoration-color: #800000\">│</span>\n",
       "<span style=\"color: #800000; text-decoration-color: #800000\">│</span> <span style=\"color: #800000; text-decoration-color: #800000\">❱ </span> 4 poi_c2v.fit(                                                                                <span style=\"color: #800000; text-decoration-color: #800000\">│</span>\n",
       "<span style=\"color: #800000; text-decoration-color: #800000\">│</span>   <span style=\"color: #7f7f7f; text-decoration-color: #7f7f7f\"> 5 </span><span style=\"color: #7f7f7f; text-decoration-color: #7f7f7f\">│   </span>name_pairs=X_train,                                                                     <span style=\"color: #800000; text-decoration-color: #800000\">│</span>\n",
       "<span style=\"color: #800000; text-decoration-color: #800000\">│</span>   <span style=\"color: #7f7f7f; text-decoration-color: #7f7f7f\"> 6 </span><span style=\"color: #7f7f7f; text-decoration-color: #7f7f7f\">│   </span>target=y_train,                                                                         <span style=\"color: #800000; text-decoration-color: #800000\">│</span>\n",
       "<span style=\"color: #800000; text-decoration-color: #800000\">│</span>   <span style=\"color: #7f7f7f; text-decoration-color: #7f7f7f\"> 7 </span><span style=\"color: #7f7f7f; text-decoration-color: #7f7f7f\">│   </span>validation_split=<span style=\"color: #0000ff; text-decoration-color: #0000ff\">0.2</span>,                                                                   <span style=\"color: #800000; text-decoration-color: #800000\">│</span>\n",
       "<span style=\"color: #800000; text-decoration-color: #800000\">│</span>                                                                                                  <span style=\"color: #800000; text-decoration-color: #800000\">│</span>\n",
       "<span style=\"color: #800000; text-decoration-color: #800000\">│</span> in <span style=\"color: #00ff00; text-decoration-color: #00ff00\">fit</span>:<span style=\"color: #0000ff; text-decoration-color: #0000ff\">80</span>                                                                                        <span style=\"color: #800000; text-decoration-color: #800000\">│</span>\n",
       "<span style=\"color: #800000; text-decoration-color: #800000\">│</span>                                                                                                  <span style=\"color: #800000; text-decoration-color: #800000\">│</span>\n",
       "<span style=\"color: #800000; text-decoration-color: #800000\">│</span>   <span style=\"color: #7f7f7f; text-decoration-color: #7f7f7f\"> 77 </span><span style=\"color: #7f7f7f; text-decoration-color: #7f7f7f\">│   │   </span>X1_pad = tf.keras.preprocessing.sequence.pad_sequences(X1)                         <span style=\"color: #800000; text-decoration-color: #800000\">│</span>\n",
       "<span style=\"color: #800000; text-decoration-color: #800000\">│</span>   <span style=\"color: #7f7f7f; text-decoration-color: #7f7f7f\"> 78 </span><span style=\"color: #7f7f7f; text-decoration-color: #7f7f7f\">│   │   </span>X2_pad = tf.keras.preprocessing.sequence.pad_sequences(X2)                         <span style=\"color: #800000; text-decoration-color: #800000\">│</span>\n",
       "<span style=\"color: #800000; text-decoration-color: #800000\">│</span>   <span style=\"color: #7f7f7f; text-decoration-color: #7f7f7f\"> 79 </span><span style=\"color: #7f7f7f; text-decoration-color: #7f7f7f\">│   │   </span>                                                                                   <span style=\"color: #800000; text-decoration-color: #800000\">│</span>\n",
       "<span style=\"color: #800000; text-decoration-color: #800000\">│</span> <span style=\"color: #800000; text-decoration-color: #800000\">❱ </span> 80 <span style=\"color: #7f7f7f; text-decoration-color: #7f7f7f\">│   │   </span><span style=\"color: #00ffff; text-decoration-color: #00ffff\">self</span>.model.fit((X1_pad, X2_pad), target,verbose=<span style=\"color: #0000ff; text-decoration-color: #0000ff\">1</span>,                                 <span style=\"color: #800000; text-decoration-color: #800000\">│</span>\n",
       "<span style=\"color: #800000; text-decoration-color: #800000\">│</span>   <span style=\"color: #7f7f7f; text-decoration-color: #7f7f7f\"> 81 </span><span style=\"color: #7f7f7f; text-decoration-color: #7f7f7f\">│   │   │   │   │   </span>batch_size=batch_size, epochs=max_epochs,                              <span style=\"color: #800000; text-decoration-color: #800000\">│</span>\n",
       "<span style=\"color: #800000; text-decoration-color: #800000\">│</span>   <span style=\"color: #7f7f7f; text-decoration-color: #7f7f7f\"> 82 </span><span style=\"color: #7f7f7f; text-decoration-color: #7f7f7f\">│   │   │   │   │   </span>validation_split=validation_split,                                     <span style=\"color: #800000; text-decoration-color: #800000\">│</span>\n",
       "<span style=\"color: #800000; text-decoration-color: #800000\">│</span>   <span style=\"color: #7f7f7f; text-decoration-color: #7f7f7f\"> 83 </span><span style=\"color: #7f7f7f; text-decoration-color: #7f7f7f\">│   │   │   │   │   </span>callbacks=[tf.keras.callbacks.EarlyStopping(monitor=<span style=\"color: #808000; text-decoration-color: #808000\">'val_loss'</span>, pati   <span style=\"color: #800000; text-decoration-color: #800000\">│</span>\n",
       "<span style=\"color: #800000; text-decoration-color: #800000\">│</span>                                                                                                  <span style=\"color: #800000; text-decoration-color: #800000\">│</span>\n",
       "<span style=\"color: #800000; text-decoration-color: #800000\">│</span> <span style=\"color: #bfbf7f; text-decoration-color: #bfbf7f\">/usr/local/lib/python3.9/dist-packages/keras/utils/</span><span style=\"color: #808000; text-decoration-color: #808000; font-weight: bold\">traceback_utils.py</span>:<span style=\"color: #0000ff; text-decoration-color: #0000ff\">65</span> in <span style=\"color: #00ff00; text-decoration-color: #00ff00\">error_handler</span>        <span style=\"color: #800000; text-decoration-color: #800000\">│</span>\n",
       "<span style=\"color: #800000; text-decoration-color: #800000\">│</span>                                                                                                  <span style=\"color: #800000; text-decoration-color: #800000\">│</span>\n",
       "<span style=\"color: #800000; text-decoration-color: #800000\">│</span>   <span style=\"color: #7f7f7f; text-decoration-color: #7f7f7f\"> 62 </span><span style=\"color: #7f7f7f; text-decoration-color: #7f7f7f\">│   │   </span>                                                                                   <span style=\"color: #800000; text-decoration-color: #800000\">│</span>\n",
       "<span style=\"color: #800000; text-decoration-color: #800000\">│</span>   <span style=\"color: #7f7f7f; text-decoration-color: #7f7f7f\"> 63 </span><span style=\"color: #7f7f7f; text-decoration-color: #7f7f7f\">│   │   </span>filtered_tb = <span style=\"color: #0000ff; text-decoration-color: #0000ff\">None</span>                                                                 <span style=\"color: #800000; text-decoration-color: #800000\">│</span>\n",
       "<span style=\"color: #800000; text-decoration-color: #800000\">│</span>   <span style=\"color: #7f7f7f; text-decoration-color: #7f7f7f\"> 64 </span><span style=\"color: #7f7f7f; text-decoration-color: #7f7f7f\">│   │   </span><span style=\"color: #0000ff; text-decoration-color: #0000ff\">try</span>:                                                                               <span style=\"color: #800000; text-decoration-color: #800000\">│</span>\n",
       "<span style=\"color: #800000; text-decoration-color: #800000\">│</span> <span style=\"color: #800000; text-decoration-color: #800000\">❱ </span> 65 <span style=\"color: #7f7f7f; text-decoration-color: #7f7f7f\">│   │   │   </span><span style=\"color: #0000ff; text-decoration-color: #0000ff\">return</span> fn(*args, **kwargs)                                                     <span style=\"color: #800000; text-decoration-color: #800000\">│</span>\n",
       "<span style=\"color: #800000; text-decoration-color: #800000\">│</span>   <span style=\"color: #7f7f7f; text-decoration-color: #7f7f7f\"> 66 </span><span style=\"color: #7f7f7f; text-decoration-color: #7f7f7f\">│   │   </span><span style=\"color: #0000ff; text-decoration-color: #0000ff\">except</span> <span style=\"color: #00ffff; text-decoration-color: #00ffff\">Exception</span> <span style=\"color: #0000ff; text-decoration-color: #0000ff\">as</span> e:                                                             <span style=\"color: #800000; text-decoration-color: #800000\">│</span>\n",
       "<span style=\"color: #800000; text-decoration-color: #800000\">│</span>   <span style=\"color: #7f7f7f; text-decoration-color: #7f7f7f\"> 67 </span><span style=\"color: #7f7f7f; text-decoration-color: #7f7f7f\">│   │   │   </span>filtered_tb = _process_traceback_frames(e.__traceback__)                       <span style=\"color: #800000; text-decoration-color: #800000\">│</span>\n",
       "<span style=\"color: #800000; text-decoration-color: #800000\">│</span>   <span style=\"color: #7f7f7f; text-decoration-color: #7f7f7f\"> 68 </span><span style=\"color: #7f7f7f; text-decoration-color: #7f7f7f\">│   │   │   </span><span style=\"color: #7f7f7f; text-decoration-color: #7f7f7f\"># To get the full stack trace, call:</span>                                           <span style=\"color: #800000; text-decoration-color: #800000\">│</span>\n",
       "<span style=\"color: #800000; text-decoration-color: #800000\">│</span>                                                                                                  <span style=\"color: #800000; text-decoration-color: #800000\">│</span>\n",
       "<span style=\"color: #800000; text-decoration-color: #800000\">│</span> <span style=\"color: #bfbf7f; text-decoration-color: #bfbf7f\">/usr/local/lib/python3.9/dist-packages/keras/engine/</span><span style=\"color: #808000; text-decoration-color: #808000; font-weight: bold\">training.py</span>:<span style=\"color: #0000ff; text-decoration-color: #0000ff\">1650</span> in <span style=\"color: #00ff00; text-decoration-color: #00ff00\">fit</span>                      <span style=\"color: #800000; text-decoration-color: #800000\">│</span>\n",
       "<span style=\"color: #800000; text-decoration-color: #800000\">│</span>                                                                                                  <span style=\"color: #800000; text-decoration-color: #800000\">│</span>\n",
       "<span style=\"color: #800000; text-decoration-color: #800000\">│</span>   <span style=\"color: #7f7f7f; text-decoration-color: #7f7f7f\">1647 </span><span style=\"color: #7f7f7f; text-decoration-color: #7f7f7f\">│   │   │   │   │   │   │   </span>_r=<span style=\"color: #0000ff; text-decoration-color: #0000ff\">1</span>,                                                         <span style=\"color: #800000; text-decoration-color: #800000\">│</span>\n",
       "<span style=\"color: #800000; text-decoration-color: #800000\">│</span>   <span style=\"color: #7f7f7f; text-decoration-color: #7f7f7f\">1648 </span><span style=\"color: #7f7f7f; text-decoration-color: #7f7f7f\">│   │   │   │   │   │   </span>):                                                                <span style=\"color: #800000; text-decoration-color: #800000\">│</span>\n",
       "<span style=\"color: #800000; text-decoration-color: #800000\">│</span>   <span style=\"color: #7f7f7f; text-decoration-color: #7f7f7f\">1649 </span><span style=\"color: #7f7f7f; text-decoration-color: #7f7f7f\">│   │   │   │   │   │   │   </span>callbacks.on_train_batch_begin(step)                          <span style=\"color: #800000; text-decoration-color: #800000\">│</span>\n",
       "<span style=\"color: #800000; text-decoration-color: #800000\">│</span> <span style=\"color: #800000; text-decoration-color: #800000\">❱ </span>1650 <span style=\"color: #7f7f7f; text-decoration-color: #7f7f7f\">│   │   │   │   │   │   │   </span>tmp_logs = <span style=\"color: #00ffff; text-decoration-color: #00ffff\">self</span>.train_function(iterator)                      <span style=\"color: #800000; text-decoration-color: #800000\">│</span>\n",
       "<span style=\"color: #800000; text-decoration-color: #800000\">│</span>   <span style=\"color: #7f7f7f; text-decoration-color: #7f7f7f\">1651 </span><span style=\"color: #7f7f7f; text-decoration-color: #7f7f7f\">│   │   │   │   │   │   │   </span><span style=\"color: #0000ff; text-decoration-color: #0000ff\">if</span> data_handler.should_sync:                                  <span style=\"color: #800000; text-decoration-color: #800000\">│</span>\n",
       "<span style=\"color: #800000; text-decoration-color: #800000\">│</span>   <span style=\"color: #7f7f7f; text-decoration-color: #7f7f7f\">1652 </span><span style=\"color: #7f7f7f; text-decoration-color: #7f7f7f\">│   │   │   │   │   │   │   │   </span>context.async_wait()                                      <span style=\"color: #800000; text-decoration-color: #800000\">│</span>\n",
       "<span style=\"color: #800000; text-decoration-color: #800000\">│</span>   <span style=\"color: #7f7f7f; text-decoration-color: #7f7f7f\">1653 </span><span style=\"color: #7f7f7f; text-decoration-color: #7f7f7f\">│   │   │   │   │   │   │   </span><span style=\"color: #7f7f7f; text-decoration-color: #7f7f7f\"># No error, now safe to assign to logs.</span>                       <span style=\"color: #800000; text-decoration-color: #800000\">│</span>\n",
       "<span style=\"color: #800000; text-decoration-color: #800000\">│</span>                                                                                                  <span style=\"color: #800000; text-decoration-color: #800000\">│</span>\n",
       "<span style=\"color: #800000; text-decoration-color: #800000\">│</span> <span style=\"color: #bfbf7f; text-decoration-color: #bfbf7f\">/usr/local/lib/python3.9/dist-packages/tensorflow/python/util/</span><span style=\"color: #808000; text-decoration-color: #808000; font-weight: bold\">traceback_utils.py</span>:<span style=\"color: #0000ff; text-decoration-color: #0000ff\">150</span> in          <span style=\"color: #800000; text-decoration-color: #800000\">│</span>\n",
       "<span style=\"color: #800000; text-decoration-color: #800000\">│</span> <span style=\"color: #00ff00; text-decoration-color: #00ff00\">error_handler</span>                                                                                    <span style=\"color: #800000; text-decoration-color: #800000\">│</span>\n",
       "<span style=\"color: #800000; text-decoration-color: #800000\">│</span>                                                                                                  <span style=\"color: #800000; text-decoration-color: #800000\">│</span>\n",
       "<span style=\"color: #800000; text-decoration-color: #800000\">│</span>   <span style=\"color: #7f7f7f; text-decoration-color: #7f7f7f\">147 </span><span style=\"color: #7f7f7f; text-decoration-color: #7f7f7f\">│   </span>                                                                                       <span style=\"color: #800000; text-decoration-color: #800000\">│</span>\n",
       "<span style=\"color: #800000; text-decoration-color: #800000\">│</span>   <span style=\"color: #7f7f7f; text-decoration-color: #7f7f7f\">148 </span><span style=\"color: #7f7f7f; text-decoration-color: #7f7f7f\">│   </span>filtered_tb = <span style=\"color: #0000ff; text-decoration-color: #0000ff\">None</span>                                                                     <span style=\"color: #800000; text-decoration-color: #800000\">│</span>\n",
       "<span style=\"color: #800000; text-decoration-color: #800000\">│</span>   <span style=\"color: #7f7f7f; text-decoration-color: #7f7f7f\">149 </span><span style=\"color: #7f7f7f; text-decoration-color: #7f7f7f\">│   </span><span style=\"color: #0000ff; text-decoration-color: #0000ff\">try</span>:                                                                                   <span style=\"color: #800000; text-decoration-color: #800000\">│</span>\n",
       "<span style=\"color: #800000; text-decoration-color: #800000\">│</span> <span style=\"color: #800000; text-decoration-color: #800000\">❱ </span>150 <span style=\"color: #7f7f7f; text-decoration-color: #7f7f7f\">│     </span><span style=\"color: #0000ff; text-decoration-color: #0000ff\">return</span> fn(*args, **kwargs)                                                           <span style=\"color: #800000; text-decoration-color: #800000\">│</span>\n",
       "<span style=\"color: #800000; text-decoration-color: #800000\">│</span>   <span style=\"color: #7f7f7f; text-decoration-color: #7f7f7f\">151 </span><span style=\"color: #7f7f7f; text-decoration-color: #7f7f7f\">│   </span><span style=\"color: #0000ff; text-decoration-color: #0000ff\">except</span> <span style=\"color: #00ffff; text-decoration-color: #00ffff\">Exception</span> <span style=\"color: #0000ff; text-decoration-color: #0000ff\">as</span> e:                                                                 <span style=\"color: #800000; text-decoration-color: #800000\">│</span>\n",
       "<span style=\"color: #800000; text-decoration-color: #800000\">│</span>   <span style=\"color: #7f7f7f; text-decoration-color: #7f7f7f\">152 </span><span style=\"color: #7f7f7f; text-decoration-color: #7f7f7f\">│     </span>filtered_tb = _process_traceback_frames(e.__traceback__)                             <span style=\"color: #800000; text-decoration-color: #800000\">│</span>\n",
       "<span style=\"color: #800000; text-decoration-color: #800000\">│</span>   <span style=\"color: #7f7f7f; text-decoration-color: #7f7f7f\">153 </span><span style=\"color: #7f7f7f; text-decoration-color: #7f7f7f\">│     </span><span style=\"color: #0000ff; text-decoration-color: #0000ff\">raise</span> e.with_traceback(filtered_tb) <span style=\"color: #0000ff; text-decoration-color: #0000ff\">from</span> <span style=\"color: #0000ff; text-decoration-color: #0000ff\">None</span>                                        <span style=\"color: #800000; text-decoration-color: #800000\">│</span>\n",
       "<span style=\"color: #800000; text-decoration-color: #800000\">│</span>                                                                                                  <span style=\"color: #800000; text-decoration-color: #800000\">│</span>\n",
       "<span style=\"color: #800000; text-decoration-color: #800000\">│</span> <span style=\"color: #bfbf7f; text-decoration-color: #bfbf7f\">/usr/local/lib/python3.9/dist-packages/tensorflow/python/eager/polymorphic_function/</span><span style=\"color: #808000; text-decoration-color: #808000; font-weight: bold\">polymorphic_</span> <span style=\"color: #800000; text-decoration-color: #800000\">│</span>\n",
       "<span style=\"color: #800000; text-decoration-color: #800000\">│</span> <span style=\"color: #808000; text-decoration-color: #808000; font-weight: bold\">function.py</span>:<span style=\"color: #0000ff; text-decoration-color: #0000ff\">880</span> in <span style=\"color: #00ff00; text-decoration-color: #00ff00\">__call__</span>                                                                      <span style=\"color: #800000; text-decoration-color: #800000\">│</span>\n",
       "<span style=\"color: #800000; text-decoration-color: #800000\">│</span>                                                                                                  <span style=\"color: #800000; text-decoration-color: #800000\">│</span>\n",
       "<span style=\"color: #800000; text-decoration-color: #800000\">│</span>   <span style=\"color: #7f7f7f; text-decoration-color: #7f7f7f\"> 877 </span><span style=\"color: #7f7f7f; text-decoration-color: #7f7f7f\">│     </span>compiler = <span style=\"color: #808000; text-decoration-color: #808000\">\"xla\"</span> <span style=\"color: #0000ff; text-decoration-color: #0000ff\">if</span> <span style=\"color: #00ffff; text-decoration-color: #00ffff\">self</span>._jit_compile <span style=\"color: #0000ff; text-decoration-color: #0000ff\">else</span> <span style=\"color: #808000; text-decoration-color: #808000\">\"nonXla\"</span>                                 <span style=\"color: #800000; text-decoration-color: #800000\">│</span>\n",
       "<span style=\"color: #800000; text-decoration-color: #800000\">│</span>   <span style=\"color: #7f7f7f; text-decoration-color: #7f7f7f\"> 878 </span><span style=\"color: #7f7f7f; text-decoration-color: #7f7f7f\">│     </span>                                                                                    <span style=\"color: #800000; text-decoration-color: #800000\">│</span>\n",
       "<span style=\"color: #800000; text-decoration-color: #800000\">│</span>   <span style=\"color: #7f7f7f; text-decoration-color: #7f7f7f\"> 879 </span><span style=\"color: #7f7f7f; text-decoration-color: #7f7f7f\">│     </span><span style=\"color: #0000ff; text-decoration-color: #0000ff\">with</span> OptionalXlaContext(<span style=\"color: #00ffff; text-decoration-color: #00ffff\">self</span>._jit_compile):                                         <span style=\"color: #800000; text-decoration-color: #800000\">│</span>\n",
       "<span style=\"color: #800000; text-decoration-color: #800000\">│</span> <span style=\"color: #800000; text-decoration-color: #800000\">❱ </span> 880 <span style=\"color: #7f7f7f; text-decoration-color: #7f7f7f\">│   │   </span>result = <span style=\"color: #00ffff; text-decoration-color: #00ffff\">self</span>._call(*args, **kwds)                                                <span style=\"color: #800000; text-decoration-color: #800000\">│</span>\n",
       "<span style=\"color: #800000; text-decoration-color: #800000\">│</span>   <span style=\"color: #7f7f7f; text-decoration-color: #7f7f7f\"> 881 </span><span style=\"color: #7f7f7f; text-decoration-color: #7f7f7f\">│     </span>                                                                                    <span style=\"color: #800000; text-decoration-color: #800000\">│</span>\n",
       "<span style=\"color: #800000; text-decoration-color: #800000\">│</span>   <span style=\"color: #7f7f7f; text-decoration-color: #7f7f7f\"> 882 </span><span style=\"color: #7f7f7f; text-decoration-color: #7f7f7f\">│     </span>new_tracing_count = <span style=\"color: #00ffff; text-decoration-color: #00ffff\">self</span>.experimental_get_tracing_count()                           <span style=\"color: #800000; text-decoration-color: #800000\">│</span>\n",
       "<span style=\"color: #800000; text-decoration-color: #800000\">│</span>   <span style=\"color: #7f7f7f; text-decoration-color: #7f7f7f\"> 883 </span><span style=\"color: #7f7f7f; text-decoration-color: #7f7f7f\">│     </span>without_tracing = (tracing_count == new_tracing_count)                              <span style=\"color: #800000; text-decoration-color: #800000\">│</span>\n",
       "<span style=\"color: #800000; text-decoration-color: #800000\">│</span>                                                                                                  <span style=\"color: #800000; text-decoration-color: #800000\">│</span>\n",
       "<span style=\"color: #800000; text-decoration-color: #800000\">│</span> <span style=\"color: #bfbf7f; text-decoration-color: #bfbf7f\">/usr/local/lib/python3.9/dist-packages/tensorflow/python/eager/polymorphic_function/</span><span style=\"color: #808000; text-decoration-color: #808000; font-weight: bold\">polymorphic_</span> <span style=\"color: #800000; text-decoration-color: #800000\">│</span>\n",
       "<span style=\"color: #800000; text-decoration-color: #800000\">│</span> <span style=\"color: #808000; text-decoration-color: #808000; font-weight: bold\">function.py</span>:<span style=\"color: #0000ff; text-decoration-color: #0000ff\">912</span> in <span style=\"color: #00ff00; text-decoration-color: #00ff00\">_call</span>                                                                         <span style=\"color: #800000; text-decoration-color: #800000\">│</span>\n",
       "<span style=\"color: #800000; text-decoration-color: #800000\">│</span>                                                                                                  <span style=\"color: #800000; text-decoration-color: #800000\">│</span>\n",
       "<span style=\"color: #800000; text-decoration-color: #800000\">│</span>   <span style=\"color: #7f7f7f; text-decoration-color: #7f7f7f\"> 909 </span><span style=\"color: #7f7f7f; text-decoration-color: #7f7f7f\">│     </span><span style=\"color: #00ffff; text-decoration-color: #00ffff\">self</span>._lock.release()                                                                <span style=\"color: #800000; text-decoration-color: #800000\">│</span>\n",
       "<span style=\"color: #800000; text-decoration-color: #800000\">│</span>   <span style=\"color: #7f7f7f; text-decoration-color: #7f7f7f\"> 910 </span><span style=\"color: #7f7f7f; text-decoration-color: #7f7f7f\">│     </span><span style=\"color: #7f7f7f; text-decoration-color: #7f7f7f\"># In this case we have created variables on the first call, so we run the</span>           <span style=\"color: #800000; text-decoration-color: #800000\">│</span>\n",
       "<span style=\"color: #800000; text-decoration-color: #800000\">│</span>   <span style=\"color: #7f7f7f; text-decoration-color: #7f7f7f\"> 911 </span><span style=\"color: #7f7f7f; text-decoration-color: #7f7f7f\">│     </span><span style=\"color: #7f7f7f; text-decoration-color: #7f7f7f\"># defunned version which is guaranteed to never create variables.</span>                   <span style=\"color: #800000; text-decoration-color: #800000\">│</span>\n",
       "<span style=\"color: #800000; text-decoration-color: #800000\">│</span> <span style=\"color: #800000; text-decoration-color: #800000\">❱ </span> 912 <span style=\"color: #7f7f7f; text-decoration-color: #7f7f7f\">│     </span><span style=\"color: #0000ff; text-decoration-color: #0000ff\">return</span> <span style=\"color: #00ffff; text-decoration-color: #00ffff\">self</span>._no_variable_creation_fn(*args, **kwds)  <span style=\"color: #7f7f7f; text-decoration-color: #7f7f7f\"># pylint: disable=not-callabl</span>  <span style=\"color: #800000; text-decoration-color: #800000\">│</span>\n",
       "<span style=\"color: #800000; text-decoration-color: #800000\">│</span>   <span style=\"color: #7f7f7f; text-decoration-color: #7f7f7f\"> 913 </span><span style=\"color: #7f7f7f; text-decoration-color: #7f7f7f\">│   </span><span style=\"color: #0000ff; text-decoration-color: #0000ff\">elif</span> <span style=\"color: #00ffff; text-decoration-color: #00ffff\">self</span>._variable_creation_fn <span style=\"color: #ff00ff; text-decoration-color: #ff00ff\">is</span> <span style=\"color: #ff00ff; text-decoration-color: #ff00ff\">not</span> <span style=\"color: #0000ff; text-decoration-color: #0000ff\">None</span>:                                          <span style=\"color: #800000; text-decoration-color: #800000\">│</span>\n",
       "<span style=\"color: #800000; text-decoration-color: #800000\">│</span>   <span style=\"color: #7f7f7f; text-decoration-color: #7f7f7f\"> 914 </span><span style=\"color: #7f7f7f; text-decoration-color: #7f7f7f\">│     </span><span style=\"color: #7f7f7f; text-decoration-color: #7f7f7f\"># Release the lock early so that multiple threads can perform the call</span>              <span style=\"color: #800000; text-decoration-color: #800000\">│</span>\n",
       "<span style=\"color: #800000; text-decoration-color: #800000\">│</span>   <span style=\"color: #7f7f7f; text-decoration-color: #7f7f7f\"> 915 </span><span style=\"color: #7f7f7f; text-decoration-color: #7f7f7f\">│     </span><span style=\"color: #7f7f7f; text-decoration-color: #7f7f7f\"># in parallel.</span>                                                                      <span style=\"color: #800000; text-decoration-color: #800000\">│</span>\n",
       "<span style=\"color: #800000; text-decoration-color: #800000\">│</span>                                                                                                  <span style=\"color: #800000; text-decoration-color: #800000\">│</span>\n",
       "<span style=\"color: #800000; text-decoration-color: #800000\">│</span> <span style=\"color: #bfbf7f; text-decoration-color: #bfbf7f\">/usr/local/lib/python3.9/dist-packages/tensorflow/python/eager/polymorphic_function/</span><span style=\"color: #808000; text-decoration-color: #808000; font-weight: bold\">tracing_comp</span> <span style=\"color: #800000; text-decoration-color: #800000\">│</span>\n",
       "<span style=\"color: #800000; text-decoration-color: #800000\">│</span> <span style=\"color: #808000; text-decoration-color: #808000; font-weight: bold\">iler.py</span>:<span style=\"color: #0000ff; text-decoration-color: #0000ff\">134</span> in <span style=\"color: #00ff00; text-decoration-color: #00ff00\">__call__</span>                                                                          <span style=\"color: #800000; text-decoration-color: #800000\">│</span>\n",
       "<span style=\"color: #800000; text-decoration-color: #800000\">│</span>                                                                                                  <span style=\"color: #800000; text-decoration-color: #800000\">│</span>\n",
       "<span style=\"color: #800000; text-decoration-color: #800000\">│</span>   <span style=\"color: #7f7f7f; text-decoration-color: #7f7f7f\">131 </span><span style=\"color: #7f7f7f; text-decoration-color: #7f7f7f\">│   </span><span style=\"color: #0000ff; text-decoration-color: #0000ff\">with</span> <span style=\"color: #00ffff; text-decoration-color: #00ffff\">self</span>._lock:                                                                       <span style=\"color: #800000; text-decoration-color: #800000\">│</span>\n",
       "<span style=\"color: #800000; text-decoration-color: #800000\">│</span>   <span style=\"color: #7f7f7f; text-decoration-color: #7f7f7f\">132 </span><span style=\"color: #7f7f7f; text-decoration-color: #7f7f7f\">│     </span>(concrete_function,                                                                  <span style=\"color: #800000; text-decoration-color: #800000\">│</span>\n",
       "<span style=\"color: #800000; text-decoration-color: #800000\">│</span>   <span style=\"color: #7f7f7f; text-decoration-color: #7f7f7f\">133 </span><span style=\"color: #7f7f7f; text-decoration-color: #7f7f7f\">│      </span>filtered_flat_args) = <span style=\"color: #00ffff; text-decoration-color: #00ffff\">self</span>._maybe_define_function(args, kwargs)                     <span style=\"color: #800000; text-decoration-color: #800000\">│</span>\n",
       "<span style=\"color: #800000; text-decoration-color: #800000\">│</span> <span style=\"color: #800000; text-decoration-color: #800000\">❱ </span>134 <span style=\"color: #7f7f7f; text-decoration-color: #7f7f7f\">│   </span><span style=\"color: #0000ff; text-decoration-color: #0000ff\">return</span> concrete_function._call_flat(                                                   <span style=\"color: #800000; text-decoration-color: #800000\">│</span>\n",
       "<span style=\"color: #800000; text-decoration-color: #800000\">│</span>   <span style=\"color: #7f7f7f; text-decoration-color: #7f7f7f\">135 </span><span style=\"color: #7f7f7f; text-decoration-color: #7f7f7f\">│   │   </span>filtered_flat_args, captured_inputs=concrete_function.captured_inputs)  <span style=\"color: #7f7f7f; text-decoration-color: #7f7f7f\"># pylint</span>   <span style=\"color: #800000; text-decoration-color: #800000\">│</span>\n",
       "<span style=\"color: #800000; text-decoration-color: #800000\">│</span>   <span style=\"color: #7f7f7f; text-decoration-color: #7f7f7f\">136 </span><span style=\"color: #7f7f7f; text-decoration-color: #7f7f7f\">  </span>                                                                                         <span style=\"color: #800000; text-decoration-color: #800000\">│</span>\n",
       "<span style=\"color: #800000; text-decoration-color: #800000\">│</span>   <span style=\"color: #7f7f7f; text-decoration-color: #7f7f7f\">137 </span><span style=\"color: #7f7f7f; text-decoration-color: #7f7f7f\">  </span><span style=\"color: #ff00ff; text-decoration-color: #ff00ff; font-weight: bold\">@property</span>                                                                                <span style=\"color: #800000; text-decoration-color: #800000\">│</span>\n",
       "<span style=\"color: #800000; text-decoration-color: #800000\">│</span>                                                                                                  <span style=\"color: #800000; text-decoration-color: #800000\">│</span>\n",
       "<span style=\"color: #800000; text-decoration-color: #800000\">│</span> <span style=\"color: #bfbf7f; text-decoration-color: #bfbf7f\">/usr/local/lib/python3.9/dist-packages/tensorflow/python/eager/polymorphic_function/</span><span style=\"color: #808000; text-decoration-color: #808000; font-weight: bold\">monomorphic_</span> <span style=\"color: #800000; text-decoration-color: #800000\">│</span>\n",
       "<span style=\"color: #800000; text-decoration-color: #800000\">│</span> <span style=\"color: #808000; text-decoration-color: #808000; font-weight: bold\">function.py</span>:<span style=\"color: #0000ff; text-decoration-color: #0000ff\">1745</span> in <span style=\"color: #00ff00; text-decoration-color: #00ff00\">_call_flat</span>                                                                   <span style=\"color: #800000; text-decoration-color: #800000\">│</span>\n",
       "<span style=\"color: #800000; text-decoration-color: #800000\">│</span>                                                                                                  <span style=\"color: #800000; text-decoration-color: #800000\">│</span>\n",
       "<span style=\"color: #800000; text-decoration-color: #800000\">│</span>   <span style=\"color: #7f7f7f; text-decoration-color: #7f7f7f\">1742 </span><span style=\"color: #7f7f7f; text-decoration-color: #7f7f7f\">│   </span><span style=\"color: #0000ff; text-decoration-color: #0000ff\">if</span> (possible_gradient_type == gradients_util.POSSIBLE_GRADIENT_TYPES_NONE             <span style=\"color: #800000; text-decoration-color: #800000\">│</span>\n",
       "<span style=\"color: #800000; text-decoration-color: #800000\">│</span>   <span style=\"color: #7f7f7f; text-decoration-color: #7f7f7f\">1743 </span><span style=\"color: #7f7f7f; text-decoration-color: #7f7f7f\">│   │   </span><span style=\"color: #ff00ff; text-decoration-color: #ff00ff\">and</span> executing_eagerly):                                                           <span style=\"color: #800000; text-decoration-color: #800000\">│</span>\n",
       "<span style=\"color: #800000; text-decoration-color: #800000\">│</span>   <span style=\"color: #7f7f7f; text-decoration-color: #7f7f7f\">1744 </span><span style=\"color: #7f7f7f; text-decoration-color: #7f7f7f\">│     </span><span style=\"color: #7f7f7f; text-decoration-color: #7f7f7f\"># No tape is watching; skip to running the function.</span>                                <span style=\"color: #800000; text-decoration-color: #800000\">│</span>\n",
       "<span style=\"color: #800000; text-decoration-color: #800000\">│</span> <span style=\"color: #800000; text-decoration-color: #800000\">❱ </span>1745 <span style=\"color: #7f7f7f; text-decoration-color: #7f7f7f\">│     </span><span style=\"color: #0000ff; text-decoration-color: #0000ff\">return</span> <span style=\"color: #00ffff; text-decoration-color: #00ffff\">self</span>._build_call_outputs(<span style=\"color: #00ffff; text-decoration-color: #00ffff\">self</span>._inference_function.call(                      <span style=\"color: #800000; text-decoration-color: #800000\">│</span>\n",
       "<span style=\"color: #800000; text-decoration-color: #800000\">│</span>   <span style=\"color: #7f7f7f; text-decoration-color: #7f7f7f\">1746 </span><span style=\"color: #7f7f7f; text-decoration-color: #7f7f7f\">│   │     </span>ctx, args, cancellation_manager=cancellation_manager))                          <span style=\"color: #800000; text-decoration-color: #800000\">│</span>\n",
       "<span style=\"color: #800000; text-decoration-color: #800000\">│</span>   <span style=\"color: #7f7f7f; text-decoration-color: #7f7f7f\">1747 </span><span style=\"color: #7f7f7f; text-decoration-color: #7f7f7f\">│   </span>forward_backward = <span style=\"color: #00ffff; text-decoration-color: #00ffff\">self</span>._select_forward_and_backward_functions(                       <span style=\"color: #800000; text-decoration-color: #800000\">│</span>\n",
       "<span style=\"color: #800000; text-decoration-color: #800000\">│</span>   <span style=\"color: #7f7f7f; text-decoration-color: #7f7f7f\">1748 </span><span style=\"color: #7f7f7f; text-decoration-color: #7f7f7f\">│   │   </span>args,                                                                             <span style=\"color: #800000; text-decoration-color: #800000\">│</span>\n",
       "<span style=\"color: #800000; text-decoration-color: #800000\">│</span>                                                                                                  <span style=\"color: #800000; text-decoration-color: #800000\">│</span>\n",
       "<span style=\"color: #800000; text-decoration-color: #800000\">│</span> <span style=\"color: #bfbf7f; text-decoration-color: #bfbf7f\">/usr/local/lib/python3.9/dist-packages/tensorflow/python/eager/polymorphic_function/</span><span style=\"color: #808000; text-decoration-color: #808000; font-weight: bold\">monomorphic_</span> <span style=\"color: #800000; text-decoration-color: #800000\">│</span>\n",
       "<span style=\"color: #800000; text-decoration-color: #800000\">│</span> <span style=\"color: #808000; text-decoration-color: #808000; font-weight: bold\">function.py</span>:<span style=\"color: #0000ff; text-decoration-color: #0000ff\">378</span> in <span style=\"color: #00ff00; text-decoration-color: #00ff00\">call</span>                                                                          <span style=\"color: #800000; text-decoration-color: #800000\">│</span>\n",
       "<span style=\"color: #800000; text-decoration-color: #800000\">│</span>                                                                                                  <span style=\"color: #800000; text-decoration-color: #800000\">│</span>\n",
       "<span style=\"color: #800000; text-decoration-color: #800000\">│</span>   <span style=\"color: #7f7f7f; text-decoration-color: #7f7f7f\"> 375 </span><span style=\"color: #7f7f7f; text-decoration-color: #7f7f7f\">│   </span><span style=\"color: #0000ff; text-decoration-color: #0000ff\">if</span> executing_eagerly:                                                                 <span style=\"color: #800000; text-decoration-color: #800000\">│</span>\n",
       "<span style=\"color: #800000; text-decoration-color: #800000\">│</span>   <span style=\"color: #7f7f7f; text-decoration-color: #7f7f7f\"> 376 </span><span style=\"color: #7f7f7f; text-decoration-color: #7f7f7f\">│     </span><span style=\"color: #0000ff; text-decoration-color: #0000ff\">with</span> _InterpolateFunctionError(<span style=\"color: #00ffff; text-decoration-color: #00ffff\">self</span>):                                               <span style=\"color: #800000; text-decoration-color: #800000\">│</span>\n",
       "<span style=\"color: #800000; text-decoration-color: #800000\">│</span>   <span style=\"color: #7f7f7f; text-decoration-color: #7f7f7f\"> 377 </span><span style=\"color: #7f7f7f; text-decoration-color: #7f7f7f\">│   │   </span><span style=\"color: #0000ff; text-decoration-color: #0000ff\">if</span> cancellation_manager <span style=\"color: #ff00ff; text-decoration-color: #ff00ff\">is</span> <span style=\"color: #0000ff; text-decoration-color: #0000ff\">None</span>:                                                  <span style=\"color: #800000; text-decoration-color: #800000\">│</span>\n",
       "<span style=\"color: #800000; text-decoration-color: #800000\">│</span> <span style=\"color: #800000; text-decoration-color: #800000\">❱ </span> 378 <span style=\"color: #7f7f7f; text-decoration-color: #7f7f7f\">│   │     </span>outputs = execute.execute(                                                      <span style=\"color: #800000; text-decoration-color: #800000\">│</span>\n",
       "<span style=\"color: #800000; text-decoration-color: #800000\">│</span>   <span style=\"color: #7f7f7f; text-decoration-color: #7f7f7f\"> 379 </span><span style=\"color: #7f7f7f; text-decoration-color: #7f7f7f\">│   │   │     </span><span style=\"color: #00ffff; text-decoration-color: #00ffff\">str</span>(<span style=\"color: #00ffff; text-decoration-color: #00ffff\">self</span>.signature.name),                                                   <span style=\"color: #800000; text-decoration-color: #800000\">│</span>\n",
       "<span style=\"color: #800000; text-decoration-color: #800000\">│</span>   <span style=\"color: #7f7f7f; text-decoration-color: #7f7f7f\"> 380 </span><span style=\"color: #7f7f7f; text-decoration-color: #7f7f7f\">│   │   │     </span>num_outputs=<span style=\"color: #00ffff; text-decoration-color: #00ffff\">self</span>._num_outputs,                                              <span style=\"color: #800000; text-decoration-color: #800000\">│</span>\n",
       "<span style=\"color: #800000; text-decoration-color: #800000\">│</span>   <span style=\"color: #7f7f7f; text-decoration-color: #7f7f7f\"> 381 </span><span style=\"color: #7f7f7f; text-decoration-color: #7f7f7f\">│   │   │     </span>inputs=args,                                                                <span style=\"color: #800000; text-decoration-color: #800000\">│</span>\n",
       "<span style=\"color: #800000; text-decoration-color: #800000\">│</span>                                                                                                  <span style=\"color: #800000; text-decoration-color: #800000\">│</span>\n",
       "<span style=\"color: #800000; text-decoration-color: #800000\">│</span> <span style=\"color: #bfbf7f; text-decoration-color: #bfbf7f\">/usr/local/lib/python3.9/dist-packages/tensorflow/python/eager/</span><span style=\"color: #808000; text-decoration-color: #808000; font-weight: bold\">execute.py</span>:<span style=\"color: #0000ff; text-decoration-color: #0000ff\">52</span> in <span style=\"color: #00ff00; text-decoration-color: #00ff00\">quick_execute</span>    <span style=\"color: #800000; text-decoration-color: #800000\">│</span>\n",
       "<span style=\"color: #800000; text-decoration-color: #800000\">│</span>                                                                                                  <span style=\"color: #800000; text-decoration-color: #800000\">│</span>\n",
       "<span style=\"color: #800000; text-decoration-color: #800000\">│</span>   <span style=\"color: #7f7f7f; text-decoration-color: #7f7f7f\"> 49 </span><span style=\"color: #7f7f7f; text-decoration-color: #7f7f7f\">  </span><span style=\"color: #7f7f7f; text-decoration-color: #7f7f7f\"># pylint: disable=protected-access</span>                                                       <span style=\"color: #800000; text-decoration-color: #800000\">│</span>\n",
       "<span style=\"color: #800000; text-decoration-color: #800000\">│</span>   <span style=\"color: #7f7f7f; text-decoration-color: #7f7f7f\"> 50 </span><span style=\"color: #7f7f7f; text-decoration-color: #7f7f7f\">  </span><span style=\"color: #0000ff; text-decoration-color: #0000ff\">try</span>:                                                                                     <span style=\"color: #800000; text-decoration-color: #800000\">│</span>\n",
       "<span style=\"color: #800000; text-decoration-color: #800000\">│</span>   <span style=\"color: #7f7f7f; text-decoration-color: #7f7f7f\"> 51 </span><span style=\"color: #7f7f7f; text-decoration-color: #7f7f7f\">│   </span>ctx.ensure_initialized()                                                               <span style=\"color: #800000; text-decoration-color: #800000\">│</span>\n",
       "<span style=\"color: #800000; text-decoration-color: #800000\">│</span> <span style=\"color: #800000; text-decoration-color: #800000\">❱ </span> 52 <span style=\"color: #7f7f7f; text-decoration-color: #7f7f7f\">│   </span>tensors = pywrap_tfe.TFE_Py_Execute(ctx._handle, device_name, op_name,                 <span style=\"color: #800000; text-decoration-color: #800000\">│</span>\n",
       "<span style=\"color: #800000; text-decoration-color: #800000\">│</span>   <span style=\"color: #7f7f7f; text-decoration-color: #7f7f7f\"> 53 </span><span style=\"color: #7f7f7f; text-decoration-color: #7f7f7f\">│   │   │   │   │   │   │   │   │   │   </span>inputs, attrs, num_outputs)                        <span style=\"color: #800000; text-decoration-color: #800000\">│</span>\n",
       "<span style=\"color: #800000; text-decoration-color: #800000\">│</span>   <span style=\"color: #7f7f7f; text-decoration-color: #7f7f7f\"> 54 </span><span style=\"color: #7f7f7f; text-decoration-color: #7f7f7f\">  </span><span style=\"color: #0000ff; text-decoration-color: #0000ff\">except</span> core._NotOkStatusException <span style=\"color: #0000ff; text-decoration-color: #0000ff\">as</span> e:                                                  <span style=\"color: #800000; text-decoration-color: #800000\">│</span>\n",
       "<span style=\"color: #800000; text-decoration-color: #800000\">│</span>   <span style=\"color: #7f7f7f; text-decoration-color: #7f7f7f\"> 55 </span><span style=\"color: #7f7f7f; text-decoration-color: #7f7f7f\">│   </span><span style=\"color: #0000ff; text-decoration-color: #0000ff\">if</span> name <span style=\"color: #ff00ff; text-decoration-color: #ff00ff\">is</span> <span style=\"color: #ff00ff; text-decoration-color: #ff00ff\">not</span> <span style=\"color: #0000ff; text-decoration-color: #0000ff\">None</span>:                                                                   <span style=\"color: #800000; text-decoration-color: #800000\">│</span>\n",
       "<span style=\"color: #800000; text-decoration-color: #800000\">╰──────────────────────────────────────────────────────────────────────────────────────────────────╯</span>\n",
       "<span style=\"color: #ff0000; text-decoration-color: #ff0000; font-weight: bold\">KeyboardInterrupt</span>\n",
       "</pre>\n"
      ],
      "text/plain": [
       "\u001b[31m╭─\u001b[0m\u001b[31m──────────────────────────────\u001b[0m\u001b[31m \u001b[0m\u001b[1;31mTraceback \u001b[0m\u001b[1;2;31m(most recent call last)\u001b[0m\u001b[31m \u001b[0m\u001b[31m───────────────────────────────\u001b[0m\u001b[31m─╮\u001b[0m\n",
       "\u001b[31m│\u001b[0m in \u001b[92m<cell line: 4>\u001b[0m:\u001b[94m4\u001b[0m                                                                              \u001b[31m│\u001b[0m\n",
       "\u001b[31m│\u001b[0m                                                                                                  \u001b[31m│\u001b[0m\n",
       "\u001b[31m│\u001b[0m   \u001b[2m 1 \u001b[0m\u001b[94mfrom\u001b[0m \u001b[4;96mkeras\u001b[0m\u001b[4;96m.\u001b[0m\u001b[4;96mcallbacks\u001b[0m \u001b[94mimport\u001b[0m History                                                         \u001b[31m│\u001b[0m\n",
       "\u001b[31m│\u001b[0m   \u001b[2m 2 \u001b[0mhistory = History()                                                                         \u001b[31m│\u001b[0m\n",
       "\u001b[31m│\u001b[0m   \u001b[2m 3 \u001b[0m                                                                                            \u001b[31m│\u001b[0m\n",
       "\u001b[31m│\u001b[0m \u001b[31m❱ \u001b[0m 4 poi_c2v.fit(                                                                                \u001b[31m│\u001b[0m\n",
       "\u001b[31m│\u001b[0m   \u001b[2m 5 \u001b[0m\u001b[2m│   \u001b[0mname_pairs=X_train,                                                                     \u001b[31m│\u001b[0m\n",
       "\u001b[31m│\u001b[0m   \u001b[2m 6 \u001b[0m\u001b[2m│   \u001b[0mtarget=y_train,                                                                         \u001b[31m│\u001b[0m\n",
       "\u001b[31m│\u001b[0m   \u001b[2m 7 \u001b[0m\u001b[2m│   \u001b[0mvalidation_split=\u001b[94m0.2\u001b[0m,                                                                   \u001b[31m│\u001b[0m\n",
       "\u001b[31m│\u001b[0m                                                                                                  \u001b[31m│\u001b[0m\n",
       "\u001b[31m│\u001b[0m in \u001b[92mfit\u001b[0m:\u001b[94m80\u001b[0m                                                                                        \u001b[31m│\u001b[0m\n",
       "\u001b[31m│\u001b[0m                                                                                                  \u001b[31m│\u001b[0m\n",
       "\u001b[31m│\u001b[0m   \u001b[2m 77 \u001b[0m\u001b[2m│   │   \u001b[0mX1_pad = tf.keras.preprocessing.sequence.pad_sequences(X1)                         \u001b[31m│\u001b[0m\n",
       "\u001b[31m│\u001b[0m   \u001b[2m 78 \u001b[0m\u001b[2m│   │   \u001b[0mX2_pad = tf.keras.preprocessing.sequence.pad_sequences(X2)                         \u001b[31m│\u001b[0m\n",
       "\u001b[31m│\u001b[0m   \u001b[2m 79 \u001b[0m\u001b[2m│   │   \u001b[0m                                                                                   \u001b[31m│\u001b[0m\n",
       "\u001b[31m│\u001b[0m \u001b[31m❱ \u001b[0m 80 \u001b[2m│   │   \u001b[0m\u001b[96mself\u001b[0m.model.fit((X1_pad, X2_pad), target,verbose=\u001b[94m1\u001b[0m,                                 \u001b[31m│\u001b[0m\n",
       "\u001b[31m│\u001b[0m   \u001b[2m 81 \u001b[0m\u001b[2m│   │   │   │   │   \u001b[0mbatch_size=batch_size, epochs=max_epochs,                              \u001b[31m│\u001b[0m\n",
       "\u001b[31m│\u001b[0m   \u001b[2m 82 \u001b[0m\u001b[2m│   │   │   │   │   \u001b[0mvalidation_split=validation_split,                                     \u001b[31m│\u001b[0m\n",
       "\u001b[31m│\u001b[0m   \u001b[2m 83 \u001b[0m\u001b[2m│   │   │   │   │   \u001b[0mcallbacks=[tf.keras.callbacks.EarlyStopping(monitor=\u001b[33m'\u001b[0m\u001b[33mval_loss\u001b[0m\u001b[33m'\u001b[0m, pati   \u001b[31m│\u001b[0m\n",
       "\u001b[31m│\u001b[0m                                                                                                  \u001b[31m│\u001b[0m\n",
       "\u001b[31m│\u001b[0m \u001b[2;33m/usr/local/lib/python3.9/dist-packages/keras/utils/\u001b[0m\u001b[1;33mtraceback_utils.py\u001b[0m:\u001b[94m65\u001b[0m in \u001b[92merror_handler\u001b[0m        \u001b[31m│\u001b[0m\n",
       "\u001b[31m│\u001b[0m                                                                                                  \u001b[31m│\u001b[0m\n",
       "\u001b[31m│\u001b[0m   \u001b[2m 62 \u001b[0m\u001b[2m│   │   \u001b[0m                                                                                   \u001b[31m│\u001b[0m\n",
       "\u001b[31m│\u001b[0m   \u001b[2m 63 \u001b[0m\u001b[2m│   │   \u001b[0mfiltered_tb = \u001b[94mNone\u001b[0m                                                                 \u001b[31m│\u001b[0m\n",
       "\u001b[31m│\u001b[0m   \u001b[2m 64 \u001b[0m\u001b[2m│   │   \u001b[0m\u001b[94mtry\u001b[0m:                                                                               \u001b[31m│\u001b[0m\n",
       "\u001b[31m│\u001b[0m \u001b[31m❱ \u001b[0m 65 \u001b[2m│   │   │   \u001b[0m\u001b[94mreturn\u001b[0m fn(*args, **kwargs)                                                     \u001b[31m│\u001b[0m\n",
       "\u001b[31m│\u001b[0m   \u001b[2m 66 \u001b[0m\u001b[2m│   │   \u001b[0m\u001b[94mexcept\u001b[0m \u001b[96mException\u001b[0m \u001b[94mas\u001b[0m e:                                                             \u001b[31m│\u001b[0m\n",
       "\u001b[31m│\u001b[0m   \u001b[2m 67 \u001b[0m\u001b[2m│   │   │   \u001b[0mfiltered_tb = _process_traceback_frames(e.__traceback__)                       \u001b[31m│\u001b[0m\n",
       "\u001b[31m│\u001b[0m   \u001b[2m 68 \u001b[0m\u001b[2m│   │   │   \u001b[0m\u001b[2m# To get the full stack trace, call:\u001b[0m                                           \u001b[31m│\u001b[0m\n",
       "\u001b[31m│\u001b[0m                                                                                                  \u001b[31m│\u001b[0m\n",
       "\u001b[31m│\u001b[0m \u001b[2;33m/usr/local/lib/python3.9/dist-packages/keras/engine/\u001b[0m\u001b[1;33mtraining.py\u001b[0m:\u001b[94m1650\u001b[0m in \u001b[92mfit\u001b[0m                      \u001b[31m│\u001b[0m\n",
       "\u001b[31m│\u001b[0m                                                                                                  \u001b[31m│\u001b[0m\n",
       "\u001b[31m│\u001b[0m   \u001b[2m1647 \u001b[0m\u001b[2m│   │   │   │   │   │   │   \u001b[0m_r=\u001b[94m1\u001b[0m,                                                         \u001b[31m│\u001b[0m\n",
       "\u001b[31m│\u001b[0m   \u001b[2m1648 \u001b[0m\u001b[2m│   │   │   │   │   │   \u001b[0m):                                                                \u001b[31m│\u001b[0m\n",
       "\u001b[31m│\u001b[0m   \u001b[2m1649 \u001b[0m\u001b[2m│   │   │   │   │   │   │   \u001b[0mcallbacks.on_train_batch_begin(step)                          \u001b[31m│\u001b[0m\n",
       "\u001b[31m│\u001b[0m \u001b[31m❱ \u001b[0m1650 \u001b[2m│   │   │   │   │   │   │   \u001b[0mtmp_logs = \u001b[96mself\u001b[0m.train_function(iterator)                      \u001b[31m│\u001b[0m\n",
       "\u001b[31m│\u001b[0m   \u001b[2m1651 \u001b[0m\u001b[2m│   │   │   │   │   │   │   \u001b[0m\u001b[94mif\u001b[0m data_handler.should_sync:                                  \u001b[31m│\u001b[0m\n",
       "\u001b[31m│\u001b[0m   \u001b[2m1652 \u001b[0m\u001b[2m│   │   │   │   │   │   │   │   \u001b[0mcontext.async_wait()                                      \u001b[31m│\u001b[0m\n",
       "\u001b[31m│\u001b[0m   \u001b[2m1653 \u001b[0m\u001b[2m│   │   │   │   │   │   │   \u001b[0m\u001b[2m# No error, now safe to assign to logs.\u001b[0m                       \u001b[31m│\u001b[0m\n",
       "\u001b[31m│\u001b[0m                                                                                                  \u001b[31m│\u001b[0m\n",
       "\u001b[31m│\u001b[0m \u001b[2;33m/usr/local/lib/python3.9/dist-packages/tensorflow/python/util/\u001b[0m\u001b[1;33mtraceback_utils.py\u001b[0m:\u001b[94m150\u001b[0m in          \u001b[31m│\u001b[0m\n",
       "\u001b[31m│\u001b[0m \u001b[92merror_handler\u001b[0m                                                                                    \u001b[31m│\u001b[0m\n",
       "\u001b[31m│\u001b[0m                                                                                                  \u001b[31m│\u001b[0m\n",
       "\u001b[31m│\u001b[0m   \u001b[2m147 \u001b[0m\u001b[2m│   \u001b[0m                                                                                       \u001b[31m│\u001b[0m\n",
       "\u001b[31m│\u001b[0m   \u001b[2m148 \u001b[0m\u001b[2m│   \u001b[0mfiltered_tb = \u001b[94mNone\u001b[0m                                                                     \u001b[31m│\u001b[0m\n",
       "\u001b[31m│\u001b[0m   \u001b[2m149 \u001b[0m\u001b[2m│   \u001b[0m\u001b[94mtry\u001b[0m:                                                                                   \u001b[31m│\u001b[0m\n",
       "\u001b[31m│\u001b[0m \u001b[31m❱ \u001b[0m150 \u001b[2m│     \u001b[0m\u001b[94mreturn\u001b[0m fn(*args, **kwargs)                                                           \u001b[31m│\u001b[0m\n",
       "\u001b[31m│\u001b[0m   \u001b[2m151 \u001b[0m\u001b[2m│   \u001b[0m\u001b[94mexcept\u001b[0m \u001b[96mException\u001b[0m \u001b[94mas\u001b[0m e:                                                                 \u001b[31m│\u001b[0m\n",
       "\u001b[31m│\u001b[0m   \u001b[2m152 \u001b[0m\u001b[2m│     \u001b[0mfiltered_tb = _process_traceback_frames(e.__traceback__)                             \u001b[31m│\u001b[0m\n",
       "\u001b[31m│\u001b[0m   \u001b[2m153 \u001b[0m\u001b[2m│     \u001b[0m\u001b[94mraise\u001b[0m e.with_traceback(filtered_tb) \u001b[94mfrom\u001b[0m \u001b[94mNone\u001b[0m                                        \u001b[31m│\u001b[0m\n",
       "\u001b[31m│\u001b[0m                                                                                                  \u001b[31m│\u001b[0m\n",
       "\u001b[31m│\u001b[0m \u001b[2;33m/usr/local/lib/python3.9/dist-packages/tensorflow/python/eager/polymorphic_function/\u001b[0m\u001b[1;33mpolymorphic_\u001b[0m \u001b[31m│\u001b[0m\n",
       "\u001b[31m│\u001b[0m \u001b[1;33mfunction.py\u001b[0m:\u001b[94m880\u001b[0m in \u001b[92m__call__\u001b[0m                                                                      \u001b[31m│\u001b[0m\n",
       "\u001b[31m│\u001b[0m                                                                                                  \u001b[31m│\u001b[0m\n",
       "\u001b[31m│\u001b[0m   \u001b[2m 877 \u001b[0m\u001b[2m│     \u001b[0mcompiler = \u001b[33m\"\u001b[0m\u001b[33mxla\u001b[0m\u001b[33m\"\u001b[0m \u001b[94mif\u001b[0m \u001b[96mself\u001b[0m._jit_compile \u001b[94melse\u001b[0m \u001b[33m\"\u001b[0m\u001b[33mnonXla\u001b[0m\u001b[33m\"\u001b[0m                                 \u001b[31m│\u001b[0m\n",
       "\u001b[31m│\u001b[0m   \u001b[2m 878 \u001b[0m\u001b[2m│     \u001b[0m                                                                                    \u001b[31m│\u001b[0m\n",
       "\u001b[31m│\u001b[0m   \u001b[2m 879 \u001b[0m\u001b[2m│     \u001b[0m\u001b[94mwith\u001b[0m OptionalXlaContext(\u001b[96mself\u001b[0m._jit_compile):                                         \u001b[31m│\u001b[0m\n",
       "\u001b[31m│\u001b[0m \u001b[31m❱ \u001b[0m 880 \u001b[2m│   │   \u001b[0mresult = \u001b[96mself\u001b[0m._call(*args, **kwds)                                                \u001b[31m│\u001b[0m\n",
       "\u001b[31m│\u001b[0m   \u001b[2m 881 \u001b[0m\u001b[2m│     \u001b[0m                                                                                    \u001b[31m│\u001b[0m\n",
       "\u001b[31m│\u001b[0m   \u001b[2m 882 \u001b[0m\u001b[2m│     \u001b[0mnew_tracing_count = \u001b[96mself\u001b[0m.experimental_get_tracing_count()                           \u001b[31m│\u001b[0m\n",
       "\u001b[31m│\u001b[0m   \u001b[2m 883 \u001b[0m\u001b[2m│     \u001b[0mwithout_tracing = (tracing_count == new_tracing_count)                              \u001b[31m│\u001b[0m\n",
       "\u001b[31m│\u001b[0m                                                                                                  \u001b[31m│\u001b[0m\n",
       "\u001b[31m│\u001b[0m \u001b[2;33m/usr/local/lib/python3.9/dist-packages/tensorflow/python/eager/polymorphic_function/\u001b[0m\u001b[1;33mpolymorphic_\u001b[0m \u001b[31m│\u001b[0m\n",
       "\u001b[31m│\u001b[0m \u001b[1;33mfunction.py\u001b[0m:\u001b[94m912\u001b[0m in \u001b[92m_call\u001b[0m                                                                         \u001b[31m│\u001b[0m\n",
       "\u001b[31m│\u001b[0m                                                                                                  \u001b[31m│\u001b[0m\n",
       "\u001b[31m│\u001b[0m   \u001b[2m 909 \u001b[0m\u001b[2m│     \u001b[0m\u001b[96mself\u001b[0m._lock.release()                                                                \u001b[31m│\u001b[0m\n",
       "\u001b[31m│\u001b[0m   \u001b[2m 910 \u001b[0m\u001b[2m│     \u001b[0m\u001b[2m# In this case we have created variables on the first call, so we run the\u001b[0m           \u001b[31m│\u001b[0m\n",
       "\u001b[31m│\u001b[0m   \u001b[2m 911 \u001b[0m\u001b[2m│     \u001b[0m\u001b[2m# defunned version which is guaranteed to never create variables.\u001b[0m                   \u001b[31m│\u001b[0m\n",
       "\u001b[31m│\u001b[0m \u001b[31m❱ \u001b[0m 912 \u001b[2m│     \u001b[0m\u001b[94mreturn\u001b[0m \u001b[96mself\u001b[0m._no_variable_creation_fn(*args, **kwds)  \u001b[2m# pylint: disable=not-callabl\u001b[0m  \u001b[31m│\u001b[0m\n",
       "\u001b[31m│\u001b[0m   \u001b[2m 913 \u001b[0m\u001b[2m│   \u001b[0m\u001b[94melif\u001b[0m \u001b[96mself\u001b[0m._variable_creation_fn \u001b[95mis\u001b[0m \u001b[95mnot\u001b[0m \u001b[94mNone\u001b[0m:                                          \u001b[31m│\u001b[0m\n",
       "\u001b[31m│\u001b[0m   \u001b[2m 914 \u001b[0m\u001b[2m│     \u001b[0m\u001b[2m# Release the lock early so that multiple threads can perform the call\u001b[0m              \u001b[31m│\u001b[0m\n",
       "\u001b[31m│\u001b[0m   \u001b[2m 915 \u001b[0m\u001b[2m│     \u001b[0m\u001b[2m# in parallel.\u001b[0m                                                                      \u001b[31m│\u001b[0m\n",
       "\u001b[31m│\u001b[0m                                                                                                  \u001b[31m│\u001b[0m\n",
       "\u001b[31m│\u001b[0m \u001b[2;33m/usr/local/lib/python3.9/dist-packages/tensorflow/python/eager/polymorphic_function/\u001b[0m\u001b[1;33mtracing_comp\u001b[0m \u001b[31m│\u001b[0m\n",
       "\u001b[31m│\u001b[0m \u001b[1;33miler.py\u001b[0m:\u001b[94m134\u001b[0m in \u001b[92m__call__\u001b[0m                                                                          \u001b[31m│\u001b[0m\n",
       "\u001b[31m│\u001b[0m                                                                                                  \u001b[31m│\u001b[0m\n",
       "\u001b[31m│\u001b[0m   \u001b[2m131 \u001b[0m\u001b[2m│   \u001b[0m\u001b[94mwith\u001b[0m \u001b[96mself\u001b[0m._lock:                                                                       \u001b[31m│\u001b[0m\n",
       "\u001b[31m│\u001b[0m   \u001b[2m132 \u001b[0m\u001b[2m│     \u001b[0m(concrete_function,                                                                  \u001b[31m│\u001b[0m\n",
       "\u001b[31m│\u001b[0m   \u001b[2m133 \u001b[0m\u001b[2m│      \u001b[0mfiltered_flat_args) = \u001b[96mself\u001b[0m._maybe_define_function(args, kwargs)                     \u001b[31m│\u001b[0m\n",
       "\u001b[31m│\u001b[0m \u001b[31m❱ \u001b[0m134 \u001b[2m│   \u001b[0m\u001b[94mreturn\u001b[0m concrete_function._call_flat(                                                   \u001b[31m│\u001b[0m\n",
       "\u001b[31m│\u001b[0m   \u001b[2m135 \u001b[0m\u001b[2m│   │   \u001b[0mfiltered_flat_args, captured_inputs=concrete_function.captured_inputs)  \u001b[2m# pylint\u001b[0m   \u001b[31m│\u001b[0m\n",
       "\u001b[31m│\u001b[0m   \u001b[2m136 \u001b[0m\u001b[2m  \u001b[0m                                                                                         \u001b[31m│\u001b[0m\n",
       "\u001b[31m│\u001b[0m   \u001b[2m137 \u001b[0m\u001b[2m  \u001b[0m\u001b[1;95m@property\u001b[0m                                                                                \u001b[31m│\u001b[0m\n",
       "\u001b[31m│\u001b[0m                                                                                                  \u001b[31m│\u001b[0m\n",
       "\u001b[31m│\u001b[0m \u001b[2;33m/usr/local/lib/python3.9/dist-packages/tensorflow/python/eager/polymorphic_function/\u001b[0m\u001b[1;33mmonomorphic_\u001b[0m \u001b[31m│\u001b[0m\n",
       "\u001b[31m│\u001b[0m \u001b[1;33mfunction.py\u001b[0m:\u001b[94m1745\u001b[0m in \u001b[92m_call_flat\u001b[0m                                                                   \u001b[31m│\u001b[0m\n",
       "\u001b[31m│\u001b[0m                                                                                                  \u001b[31m│\u001b[0m\n",
       "\u001b[31m│\u001b[0m   \u001b[2m1742 \u001b[0m\u001b[2m│   \u001b[0m\u001b[94mif\u001b[0m (possible_gradient_type == gradients_util.POSSIBLE_GRADIENT_TYPES_NONE             \u001b[31m│\u001b[0m\n",
       "\u001b[31m│\u001b[0m   \u001b[2m1743 \u001b[0m\u001b[2m│   │   \u001b[0m\u001b[95mand\u001b[0m executing_eagerly):                                                           \u001b[31m│\u001b[0m\n",
       "\u001b[31m│\u001b[0m   \u001b[2m1744 \u001b[0m\u001b[2m│     \u001b[0m\u001b[2m# No tape is watching; skip to running the function.\u001b[0m                                \u001b[31m│\u001b[0m\n",
       "\u001b[31m│\u001b[0m \u001b[31m❱ \u001b[0m1745 \u001b[2m│     \u001b[0m\u001b[94mreturn\u001b[0m \u001b[96mself\u001b[0m._build_call_outputs(\u001b[96mself\u001b[0m._inference_function.call(                      \u001b[31m│\u001b[0m\n",
       "\u001b[31m│\u001b[0m   \u001b[2m1746 \u001b[0m\u001b[2m│   │     \u001b[0mctx, args, cancellation_manager=cancellation_manager))                          \u001b[31m│\u001b[0m\n",
       "\u001b[31m│\u001b[0m   \u001b[2m1747 \u001b[0m\u001b[2m│   \u001b[0mforward_backward = \u001b[96mself\u001b[0m._select_forward_and_backward_functions(                       \u001b[31m│\u001b[0m\n",
       "\u001b[31m│\u001b[0m   \u001b[2m1748 \u001b[0m\u001b[2m│   │   \u001b[0margs,                                                                             \u001b[31m│\u001b[0m\n",
       "\u001b[31m│\u001b[0m                                                                                                  \u001b[31m│\u001b[0m\n",
       "\u001b[31m│\u001b[0m \u001b[2;33m/usr/local/lib/python3.9/dist-packages/tensorflow/python/eager/polymorphic_function/\u001b[0m\u001b[1;33mmonomorphic_\u001b[0m \u001b[31m│\u001b[0m\n",
       "\u001b[31m│\u001b[0m \u001b[1;33mfunction.py\u001b[0m:\u001b[94m378\u001b[0m in \u001b[92mcall\u001b[0m                                                                          \u001b[31m│\u001b[0m\n",
       "\u001b[31m│\u001b[0m                                                                                                  \u001b[31m│\u001b[0m\n",
       "\u001b[31m│\u001b[0m   \u001b[2m 375 \u001b[0m\u001b[2m│   \u001b[0m\u001b[94mif\u001b[0m executing_eagerly:                                                                 \u001b[31m│\u001b[0m\n",
       "\u001b[31m│\u001b[0m   \u001b[2m 376 \u001b[0m\u001b[2m│     \u001b[0m\u001b[94mwith\u001b[0m _InterpolateFunctionError(\u001b[96mself\u001b[0m):                                               \u001b[31m│\u001b[0m\n",
       "\u001b[31m│\u001b[0m   \u001b[2m 377 \u001b[0m\u001b[2m│   │   \u001b[0m\u001b[94mif\u001b[0m cancellation_manager \u001b[95mis\u001b[0m \u001b[94mNone\u001b[0m:                                                  \u001b[31m│\u001b[0m\n",
       "\u001b[31m│\u001b[0m \u001b[31m❱ \u001b[0m 378 \u001b[2m│   │     \u001b[0moutputs = execute.execute(                                                      \u001b[31m│\u001b[0m\n",
       "\u001b[31m│\u001b[0m   \u001b[2m 379 \u001b[0m\u001b[2m│   │   │     \u001b[0m\u001b[96mstr\u001b[0m(\u001b[96mself\u001b[0m.signature.name),                                                   \u001b[31m│\u001b[0m\n",
       "\u001b[31m│\u001b[0m   \u001b[2m 380 \u001b[0m\u001b[2m│   │   │     \u001b[0mnum_outputs=\u001b[96mself\u001b[0m._num_outputs,                                              \u001b[31m│\u001b[0m\n",
       "\u001b[31m│\u001b[0m   \u001b[2m 381 \u001b[0m\u001b[2m│   │   │     \u001b[0minputs=args,                                                                \u001b[31m│\u001b[0m\n",
       "\u001b[31m│\u001b[0m                                                                                                  \u001b[31m│\u001b[0m\n",
       "\u001b[31m│\u001b[0m \u001b[2;33m/usr/local/lib/python3.9/dist-packages/tensorflow/python/eager/\u001b[0m\u001b[1;33mexecute.py\u001b[0m:\u001b[94m52\u001b[0m in \u001b[92mquick_execute\u001b[0m    \u001b[31m│\u001b[0m\n",
       "\u001b[31m│\u001b[0m                                                                                                  \u001b[31m│\u001b[0m\n",
       "\u001b[31m│\u001b[0m   \u001b[2m 49 \u001b[0m\u001b[2m  \u001b[0m\u001b[2m# pylint: disable=protected-access\u001b[0m                                                       \u001b[31m│\u001b[0m\n",
       "\u001b[31m│\u001b[0m   \u001b[2m 50 \u001b[0m\u001b[2m  \u001b[0m\u001b[94mtry\u001b[0m:                                                                                     \u001b[31m│\u001b[0m\n",
       "\u001b[31m│\u001b[0m   \u001b[2m 51 \u001b[0m\u001b[2m│   \u001b[0mctx.ensure_initialized()                                                               \u001b[31m│\u001b[0m\n",
       "\u001b[31m│\u001b[0m \u001b[31m❱ \u001b[0m 52 \u001b[2m│   \u001b[0mtensors = pywrap_tfe.TFE_Py_Execute(ctx._handle, device_name, op_name,                 \u001b[31m│\u001b[0m\n",
       "\u001b[31m│\u001b[0m   \u001b[2m 53 \u001b[0m\u001b[2m│   │   │   │   │   │   │   │   │   │   \u001b[0minputs, attrs, num_outputs)                        \u001b[31m│\u001b[0m\n",
       "\u001b[31m│\u001b[0m   \u001b[2m 54 \u001b[0m\u001b[2m  \u001b[0m\u001b[94mexcept\u001b[0m core._NotOkStatusException \u001b[94mas\u001b[0m e:                                                  \u001b[31m│\u001b[0m\n",
       "\u001b[31m│\u001b[0m   \u001b[2m 55 \u001b[0m\u001b[2m│   \u001b[0m\u001b[94mif\u001b[0m name \u001b[95mis\u001b[0m \u001b[95mnot\u001b[0m \u001b[94mNone\u001b[0m:                                                                   \u001b[31m│\u001b[0m\n",
       "\u001b[31m╰──────────────────────────────────────────────────────────────────────────────────────────────────╯\u001b[0m\n",
       "\u001b[1;91mKeyboardInterrupt\u001b[0m\n"
      ]
     },
     "metadata": {},
     "output_type": "display_data"
    }
   ],
   "source": [
    "from keras.callbacks import History\n",
    "history = History()\n",
    "\n",
    "poi_c2v.fit(\n",
    "    name_pairs=X_train,\n",
    "    target=y_train,\n",
    "    validation_split=0.2,\n",
    "    max_epochs=10000,\n",
    "    patience=2,\n",
    "    batch_size=256,\n",
    "    callbacks=[history])"
   ]
  },
  {
   "cell_type": "code",
   "execution_count": 190,
   "id": "f13107f1-68ab-492c-84f2-e48c426525bc",
   "metadata": {},
   "outputs": [
    {
     "data": {
      "text/html": [
       "<pre style=\"white-space:pre;overflow-x:auto;line-height:normal;font-family:Menlo,'DejaVu Sans Mono',consolas,'Courier New',monospace\"></pre>\n"
      ],
      "text/plain": []
     },
     "metadata": {},
     "output_type": "display_data"
    },
    {
     "data": {
      "image/png": "[encoded data removed]",
      "text/plain": [
       "\u001b[1m<\u001b[0m\u001b[1;95mFigure\u001b[0m\u001b[39m size 100\u001b[0m\u001b[1;36m0x500\u001b[0m\u001b[39m with \u001b[0m\u001b[1;36m2\u001b[0m\u001b[39m Axes\u001b[0m\u001b[1m>\u001b[0m"
      ]
     },
     "metadata": {},
     "output_type": "display_data"
    }
   ],
   "source": [
    "fig, ax = plt.subplots(1, 2, figsize=(10,5))\n",
    "\n",
    "ax[0].plot(history.history['loss'])\n",
    "ax[0].plot(history.history['val_loss'])\n",
    "ax[0].set_title('Loss history')\n",
    "ax[0].legend(['Train loss', 'Validation loss'],loc='upper right')\n",
    "\n",
    "ax[1].plot(history.history['accuracy'])\n",
    "ax[1].plot(history.history['val_accuracy'])\n",
    "ax[1].set_title('Accuracy history')\n",
    "ax[1].legend(['Train accuracy', 'Validation accuracy'], loc='upper right')\n",
    "\n",
    "plt.show()"
   ]
  },
  {
   "cell_type": "code",
   "execution_count": 86,
   "id": "24f044e6-edc5-43ad-a872-ff0d799dd25e",
   "metadata": {},
   "outputs": [
    {
     "data": {
      "text/html": [
       "<pre style=\"white-space:pre;overflow-x:auto;line-height:normal;font-family:Menlo,'DejaVu Sans Mono',consolas,'Courier New',monospace\"></pre>\n"
      ],
      "text/plain": []
     },
     "metadata": {},
     "output_type": "display_data"
    },
    {
     "data": {
      "image/png": "[encoded data removed]",
      "text/plain": [
       "\u001b[1m<\u001b[0m\u001b[1;95mFigure\u001b[0m\u001b[39m size 100\u001b[0m\u001b[1;36m0x500\u001b[0m\u001b[39m with \u001b[0m\u001b[1;36m2\u001b[0m\u001b[39m Axes\u001b[0m\u001b[1m>\u001b[0m"
      ]
     },
     "metadata": {},
     "output_type": "display_data"
    }
   ],
   "source": [
    "fig, ax = plt.subplots(1, 2, figsize=(10,5))\n",
    "\n",
    "ax[0].plot(history.history['loss'])\n",
    "ax[0].plot(history.history['val_loss'])\n",
    "ax[0].set_title('Loss history')\n",
    "ax[0].legend(['Train loss', 'Validation loss'],loc='upper right')\n",
    "\n",
    "ax[1].plot(history.history['accuracy'])\n",
    "ax[1].plot(history.history['val_accuracy'])\n",
    "ax[1].set_title('Accuracy history')\n",
    "ax[1].legend(['Train accuracy', 'Validation accuracy'], loc='upper right')\n",
    "\n",
    "plt.show()"
   ]
  },
  {
   "cell_type": "code",
   "execution_count": 87,
   "id": "70d10b23-5ffa-4ec3-b795-56ae3e77c328",
   "metadata": {},
   "outputs": [],
   "source": [
    "poi_c2v.save_model('../../data/06_models/BIGRU-mixed-sources-training-BEAT-EDIT-large')"
   ]
  },
  {
   "cell_type": "code",
   "execution_count": 137,
   "id": "40d26ade-3e5f-4545-9877-89441e49066c",
   "metadata": {},
   "outputs": [],
   "source": [
    "model = poi_c2v.load_model('../../data/06_models/BIGRU-mixed-sources-training-BEAT-EDIT-large')"
   ]
  },
  {
   "cell_type": "code",
   "execution_count": 88,
   "id": "c3c4da50-06a2-47b0-926d-aef8476c6e9c",
   "metadata": {},
   "outputs": [
    {
     "name": "stdout",
     "output_type": "stream",
     "text": [
      "Model: \"model_22\"\n",
      "__________________________________________________________________________________________________\n",
      " Layer (type)                   Output Shape         Param #     Connected to                     \n",
      "==================================================================================================\n",
      " left_branch_input (InputLayer)  [(None, 100, 1)]    0           []                               \n",
      "                                                                                                  \n",
      " right_branch_input (InputLayer  [(None, 100, 1)]    0           []                               \n",
      " )                                                                                                \n",
      "                                                                                                  \n",
      " model_21 (Functional)          (None, 120)          156840      ['left_branch_input[0][0]',      \n",
      "                                                                  'right_branch_input[0][0]']     \n",
      "                                                                                                  \n",
      " concatenate_20 (Concatenate)   (None, 240)          0           ['model_21[0][0]',               \n",
      "                                                                  'model_21[1][0]']               \n",
      "                                                                                                  \n",
      " multiply_10 (Multiply)         (None, 120)          0           ['model_21[0][0]',               \n",
      "                                                                  'model_21[1][0]']               \n",
      "                                                                                                  \n",
      " subtract_10 (Subtract)         (None, 120)          0           ['model_21[0][0]',               \n",
      "                                                                  'model_21[1][0]']               \n",
      "                                                                                                  \n",
      " concatenate_21 (Concatenate)   (None, 480)          0           ['concatenate_20[0][0]',         \n",
      "                                                                  'multiply_10[0][0]',            \n",
      "                                                                  'subtract_10[0][0]']            \n",
      "                                                                                                  \n",
      " dense_37 (Dense)               (None, 1024)         492544      ['concatenate_21[0][0]']         \n",
      "                                                                                                  \n",
      " dropout_20 (Dropout)           (None, 1024)         0           ['dense_37[0][0]']               \n",
      "                                                                                                  \n",
      " dense_38 (Dense)               (None, 1024)         1049600     ['dropout_20[0][0]']             \n",
      "                                                                                                  \n",
      " dropout_21 (Dropout)           (None, 1024)         0           ['dense_38[0][0]']               \n",
      "                                                                                                  \n",
      " dense_39 (Dense)               (None, 1024)         1049600     ['dropout_21[0][0]']             \n",
      "                                                                                                  \n",
      " dense_40 (Dense)               (None, 1)            1025        ['dense_39[0][0]']               \n",
      "                                                                                                  \n",
      "==================================================================================================\n",
      "Total params: 2,749,609\n",
      "Trainable params: 2,749,609\n",
      "Non-trainable params: 0\n",
      "__________________________________________________________________________________________________\n"
     ]
    }
   ],
   "source": [
    "poi_c2v.model.summary()"
   ]
  },
  {
   "cell_type": "code",
   "execution_count": 89,
   "id": "d771e780-12b9-4795-961b-c113a1ba261f",
   "metadata": {},
   "outputs": [],
   "source": [
    "X_test_1 = encode_sparsed_list(X_test[:, 0],char_to_index_dict=char_to_index, max_len=MAX_NAME_LEN)\n",
    "X_test_2 = encode_sparsed_list(X_test[:, 1],char_to_index_dict=char_to_index, max_len=MAX_NAME_LEN)\n",
    "\n",
    "# X_train_1 = encode_sparsed_list(X_train[:, 0],char_to_index_dict=char_to_index, max_len=MAX_NAME_LEN)\n",
    "# X_train_2 = encode_sparsed_list(X_train[:, 1],char_to_index_dict=char_to_index, max_len=MAX_NAME_LEN)"
   ]
  },
  {
   "cell_type": "code",
   "execution_count": 90,
   "id": "5d803071-7795-44a1-b057-646704dde891",
   "metadata": {},
   "outputs": [
    {
     "name": "stdout",
     "output_type": "stream",
     "text": [
      "1634/1634 [==============================] - 233s 139ms/step\n"
     ]
    }
   ],
   "source": [
    "test_predictions = poi_c2v.model.predict((X_test_1, X_test_2))\n",
    "# train_predictions = poi_c2v.model.predict((X_train_1, X_train_2))"
   ]
  },
  {
   "cell_type": "code",
   "execution_count": 91,
   "id": "ba28d180-f86f-4563-b9f4-9914ecc58e75",
   "metadata": {},
   "outputs": [
    {
     "data": {
      "text/html": [
       "<pre style=\"white-space:pre;overflow-x:auto;line-height:normal;font-family:Menlo,'DejaVu Sans Mono',consolas,'Courier New',monospace\"></pre>\n"
      ],
      "text/plain": []
     },
     "metadata": {},
     "output_type": "display_data"
    },
    {
     "data": {
      "text/plain": [
       "\n",
       "\u001b[1m(\u001b[0m\n",
       "    \u001b[1;35marray\u001b[0m\u001b[1m(\u001b[0m\u001b[1m[\u001b[0m\u001b[1;36m17666\u001b[0m.,  \u001b[1;36m5017\u001b[0m.,  \u001b[1;36m2937\u001b[0m.,  \u001b[1;36m1834\u001b[0m.,  \u001b[1;36m1278\u001b[0m.,   \u001b[1;36m935\u001b[0m.,   \u001b[1;36m911\u001b[0m.,  \u001b[1;36m1572\u001b[0m.,\n",
       "        \u001b[1;36m3438\u001b[0m., \u001b[1;36m16669\u001b[0m.\u001b[1m]\u001b[0m\u001b[1m)\u001b[0m,\n",
       "    \u001b[1;35marray\u001b[0m\u001b[1m(\u001b[0m\u001b[1m[\u001b[0m\u001b[1;36m9.93633603e-06\u001b[0m, \u001b[1;36m1.00008927e-01\u001b[0m, \u001b[1;36m2.00007915e-01\u001b[0m, \u001b[1;36m3.00006896e-01\u001b[0m,\n",
       "       \u001b[1;36m4.00005877e-01\u001b[0m, \u001b[1;36m5.00004888e-01\u001b[0m, \u001b[1;36m6.00003839e-01\u001b[0m, \u001b[1;36m7.00002849e-01\u001b[0m,\n",
       "       \u001b[1;36m8.00001860e-01\u001b[0m, \u001b[1;36m9.00000811e-01\u001b[0m, \u001b[1;36m9.99999821e-01\u001b[0m\u001b[1m]\u001b[0m\u001b[1m)\u001b[0m,\n",
       "    \u001b[1m<\u001b[0m\u001b[1;95mBarContainer\u001b[0m\u001b[39m object of \u001b[0m\u001b[1;36m10\u001b[0m\u001b[39m artists\u001b[0m\u001b[1m>\u001b[0m\n",
       "\u001b[1m)\u001b[0m"
      ]
     },
     "execution_count": 91,
     "metadata": {},
     "output_type": "execute_result"
    },
    {
     "data": {
      "text/html": [
       "<pre style=\"white-space:pre;overflow-x:auto;line-height:normal;font-family:Menlo,'DejaVu Sans Mono',consolas,'Courier New',monospace\"></pre>\n"
      ],
      "text/plain": []
     },
     "metadata": {},
     "output_type": "display_data"
    },
    {
     "data": {
      "image/png": "[encoded data removed]",
      "text/plain": [
       "\u001b[1m<\u001b[0m\u001b[1;95mFigure\u001b[0m\u001b[39m size 64\u001b[0m\u001b[1;36m0x480\u001b[0m\u001b[39m with \u001b[0m\u001b[1;36m1\u001b[0m\u001b[39m Axes\u001b[0m\u001b[1m>\u001b[0m"
      ]
     },
     "metadata": {},
     "output_type": "display_data"
    }
   ],
   "source": [
    "plt.hist(test_predictions)"
   ]
  },
  {
   "cell_type": "code",
   "execution_count": 92,
   "id": "8e4da415-9098-43f6-8c0a-a6969520793d",
   "metadata": {},
   "outputs": [
    {
     "data": {
      "text/html": [
       "<pre style=\"white-space:pre;overflow-x:auto;line-height:normal;font-family:Menlo,'DejaVu Sans Mono',consolas,'Courier New',monospace\"></pre>\n"
      ],
      "text/plain": []
     },
     "metadata": {},
     "output_type": "display_data"
    },
    {
     "data": {
      "text/html": [
       "<div>\n",
       "<style scoped>\n",
       "    .dataframe tbody tr th:only-of-type {\n",
       "        vertical-align: middle;\n",
       "    }\n",
       "\n",
       "    .dataframe tbody tr th {\n",
       "        vertical-align: top;\n",
       "    }\n",
       "\n",
       "    .dataframe thead th {\n",
       "        text-align: right;\n",
       "    }\n",
       "</style>\n",
       "<table border=\"1\" class=\"dataframe\">\n",
       "  <thead>\n",
       "    <tr style=\"text-align: right;\">\n",
       "      <th>col_0</th>\n",
       "      <th>False</th>\n",
       "      <th>True</th>\n",
       "    </tr>\n",
       "    <tr>\n",
       "      <th>row_0</th>\n",
       "      <th></th>\n",
       "      <th></th>\n",
       "    </tr>\n",
       "  </thead>\n",
       "  <tbody>\n",
       "    <tr>\n",
       "      <th>False</th>\n",
       "      <td>25142</td>\n",
       "      <td>1341</td>\n",
       "    </tr>\n",
       "    <tr>\n",
       "      <th>True</th>\n",
       "      <td>3590</td>\n",
       "      <td>22184</td>\n",
       "    </tr>\n",
       "  </tbody>\n",
       "</table>\n",
       "</div>"
      ],
      "text/plain": [
       "\n",
       "col_0  \u001b[3;91mFalse\u001b[0m  \u001b[3;92mTrue\u001b[0m \n",
       "row_0              \n",
       "\u001b[3;91mFalse\u001b[0m  \u001b[1;36m25142\u001b[0m   \u001b[1;36m1341\u001b[0m\n",
       "\u001b[3;92mTrue\u001b[0m    \u001b[1;36m3590\u001b[0m  \u001b[1;36m22184\u001b[0m"
      ]
     },
     "execution_count": 92,
     "metadata": {},
     "output_type": "execute_result"
    }
   ],
   "source": [
    "pd.crosstab((y_test>=.75).flatten(), (test_predictions>=.5).flatten())"
   ]
  },
  {
   "cell_type": "code",
   "execution_count": 93,
   "id": "4a045273-2af7-49d0-8738-ea4237330719",
   "metadata": {},
   "outputs": [
    {
     "name": "stdout",
     "output_type": "stream",
     "text": [
      "              precision    recall  f1-score   support\n",
      "\n",
      "       False       0.88      0.95      0.91     26483\n",
      "        True       0.94      0.86      0.90     25774\n",
      "\n",
      "    accuracy                           0.91     52257\n",
      "   macro avg       0.91      0.91      0.91     52257\n",
      "weighted avg       0.91      0.91      0.91     52257\n",
      "\n"
     ]
    }
   ],
   "source": [
    "print(classification_report((y_test>=.5).flatten(), (test_predictions>=.5).flatten()))"
   ]
  },
  {
   "cell_type": "code",
   "execution_count": 94,
   "id": "f1001e24-4103-4257-ba69-487a09b75c01",
   "metadata": {},
   "outputs": [],
   "source": [
    "from fuzzywuzzy import fuzz"
   ]
  },
  {
   "cell_type": "code",
   "execution_count": 95,
   "id": "243fb1d9-fdb4-4a42-84c1-cda865c4d807",
   "metadata": {},
   "outputs": [],
   "source": [
    "token_set_predictions = np.array([fuzz.token_set_ratio(name1, name2)/100 for name1, name2 in X_test])\n",
    "# token_set_predictions_train = np.array([fuzz.token_set_ratio(name1, name2)/100 for name1, name2 in X_train])"
   ]
  },
  {
   "cell_type": "code",
   "execution_count": 97,
   "id": "76262aa6-2b13-46ce-8ed3-242729099662",
   "metadata": {},
   "outputs": [
    {
     "data": {
      "text/html": [
       "<pre style=\"white-space:pre;overflow-x:auto;line-height:normal;font-family:Menlo,'DejaVu Sans Mono',consolas,'Courier New',monospace\"></pre>\n"
      ],
      "text/plain": []
     },
     "metadata": {},
     "output_type": "display_data"
    },
    {
     "data": {
      "text/html": [
       "<div>\n",
       "<style scoped>\n",
       "    .dataframe tbody tr th:only-of-type {\n",
       "        vertical-align: middle;\n",
       "    }\n",
       "\n",
       "    .dataframe tbody tr th {\n",
       "        vertical-align: top;\n",
       "    }\n",
       "\n",
       "    .dataframe thead th {\n",
       "        text-align: right;\n",
       "    }\n",
       "</style>\n",
       "<table border=\"1\" class=\"dataframe\">\n",
       "  <thead>\n",
       "    <tr style=\"text-align: right;\">\n",
       "      <th>col_0</th>\n",
       "      <th>False</th>\n",
       "      <th>True</th>\n",
       "    </tr>\n",
       "    <tr>\n",
       "      <th>row_0</th>\n",
       "      <th></th>\n",
       "      <th></th>\n",
       "    </tr>\n",
       "  </thead>\n",
       "  <tbody>\n",
       "    <tr>\n",
       "      <th>False</th>\n",
       "      <td>25146</td>\n",
       "      <td>1337</td>\n",
       "    </tr>\n",
       "    <tr>\n",
       "      <th>True</th>\n",
       "      <td>5459</td>\n",
       "      <td>20315</td>\n",
       "    </tr>\n",
       "  </tbody>\n",
       "</table>\n",
       "</div>"
      ],
      "text/plain": [
       "\n",
       "col_0  \u001b[3;91mFalse\u001b[0m  \u001b[3;92mTrue\u001b[0m \n",
       "row_0              \n",
       "\u001b[3;91mFalse\u001b[0m  \u001b[1;36m25146\u001b[0m   \u001b[1;36m1337\u001b[0m\n",
       "\u001b[3;92mTrue\u001b[0m    \u001b[1;36m5459\u001b[0m  \u001b[1;36m20315\u001b[0m"
      ]
     },
     "execution_count": 97,
     "metadata": {},
     "output_type": "execute_result"
    }
   ],
   "source": [
    "pd.crosstab((y_test>=.5).flatten(), token_set_predictions>.75)"
   ]
  },
  {
   "cell_type": "code",
   "execution_count": 98,
   "id": "b4d25459-c959-47f6-91f6-d1bad6e0e272",
   "metadata": {},
   "outputs": [
    {
     "name": "stdout",
     "output_type": "stream",
     "text": [
      "              precision    recall  f1-score   support\n",
      "\n",
      "       False       0.82      0.95      0.88     26483\n",
      "        True       0.94      0.79      0.86     25774\n",
      "\n",
      "    accuracy                           0.87     52257\n",
      "   macro avg       0.88      0.87      0.87     52257\n",
      "weighted avg       0.88      0.87      0.87     52257\n",
      "\n"
     ]
    }
   ],
   "source": [
    "print(classification_report((y_test>=.75).flatten(), token_set_predictions>.75))"
   ]
  },
  {
   "cell_type": "code",
   "execution_count": 62,
   "id": "05939c49-51ae-45d6-a32e-a4299e20a49a",
   "metadata": {},
   "outputs": [],
   "source": [
    "results = pd.DataFrame(X_test)\n",
    "results['prediction'] = test_predictions>=.5\n",
    "results['token_set_ratio'] = token_set_predictions\n",
    "results['label'] = y_test\n",
    "results.columns = ['name_1', 'name_2', 'prediction','token_set_ratio', 'label']\n",
    "results['prediction_error'] = results['prediction'] != results['label']\n",
    "results['edit_error'] = (results['token_set_ratio']>.75) != results['label']"
   ]
  },
  {
   "cell_type": "code",
   "execution_count": 63,
   "id": "b7c0aab6-fd5c-4672-958b-f65fb6e148ee",
   "metadata": {},
   "outputs": [
    {
     "data": {
      "text/html": [
       "<pre style=\"white-space:pre;overflow-x:auto;line-height:normal;font-family:Menlo,'DejaVu Sans Mono',consolas,'Courier New',monospace\"><span style=\"color: #800000; text-decoration-color: #800000\">╭─────────────────────────────── </span><span style=\"color: #800000; text-decoration-color: #800000; font-weight: bold\">Traceback </span><span style=\"color: #bf7f7f; text-decoration-color: #bf7f7f; font-weight: bold\">(most recent call last)</span><span style=\"color: #800000; text-decoration-color: #800000\"> ────────────────────────────────╮</span>\n",
       "<span style=\"color: #800000; text-decoration-color: #800000\">│</span> in <span style=\"color: #00ff00; text-decoration-color: #00ff00\">&lt;cell line: 2&gt;</span>:<span style=\"color: #0000ff; text-decoration-color: #0000ff\">2</span>                                                                              <span style=\"color: #800000; text-decoration-color: #800000\">│</span>\n",
       "<span style=\"color: #800000; text-decoration-color: #800000\">│</span>                                                                                                  <span style=\"color: #800000; text-decoration-color: #800000\">│</span>\n",
       "<span style=\"color: #800000; text-decoration-color: #800000\">│</span>   <span style=\"color: #7f7f7f; text-decoration-color: #7f7f7f\">1 </span>results_train = pd.DataFrame(X_train)                                                        <span style=\"color: #800000; text-decoration-color: #800000\">│</span>\n",
       "<span style=\"color: #800000; text-decoration-color: #800000\">│</span> <span style=\"color: #800000; text-decoration-color: #800000\">❱ </span>2 results_train[<span style=\"color: #808000; text-decoration-color: #808000\">'prediction'</span>] = train_predictions                                              <span style=\"color: #800000; text-decoration-color: #800000\">│</span>\n",
       "<span style=\"color: #800000; text-decoration-color: #800000\">│</span>   <span style=\"color: #7f7f7f; text-decoration-color: #7f7f7f\">3 </span>results_train[<span style=\"color: #808000; text-decoration-color: #808000\">'token_set_ratio'</span>] = token_set_predictions_train                               <span style=\"color: #800000; text-decoration-color: #800000\">│</span>\n",
       "<span style=\"color: #800000; text-decoration-color: #800000\">│</span>   <span style=\"color: #7f7f7f; text-decoration-color: #7f7f7f\">4 </span>results_train[<span style=\"color: #808000; text-decoration-color: #808000\">'label'</span>] = y_train                                                             <span style=\"color: #800000; text-decoration-color: #800000\">│</span>\n",
       "<span style=\"color: #800000; text-decoration-color: #800000\">│</span>   <span style=\"color: #7f7f7f; text-decoration-color: #7f7f7f\">5 </span>results_train.columns = [<span style=\"color: #808000; text-decoration-color: #808000\">'name_1'</span>, <span style=\"color: #808000; text-decoration-color: #808000\">'name_2'</span>, <span style=\"color: #808000; text-decoration-color: #808000\">'prediction'</span>,<span style=\"color: #808000; text-decoration-color: #808000\">'token_set_ratio'</span>, <span style=\"color: #808000; text-decoration-color: #808000\">'label'</span>]        <span style=\"color: #800000; text-decoration-color: #800000\">│</span>\n",
       "<span style=\"color: #800000; text-decoration-color: #800000\">╰──────────────────────────────────────────────────────────────────────────────────────────────────╯</span>\n",
       "<span style=\"color: #ff0000; text-decoration-color: #ff0000; font-weight: bold\">NameError: </span>name <span style=\"color: #008000; text-decoration-color: #008000\">'train_predictions'</span> is not defined\n",
       "</pre>\n"
      ],
      "text/plain": [
       "\u001b[31m╭─\u001b[0m\u001b[31m──────────────────────────────\u001b[0m\u001b[31m \u001b[0m\u001b[1;31mTraceback \u001b[0m\u001b[1;2;31m(most recent call last)\u001b[0m\u001b[31m \u001b[0m\u001b[31m───────────────────────────────\u001b[0m\u001b[31m─╮\u001b[0m\n",
       "\u001b[31m│\u001b[0m in \u001b[92m<cell line: 2>\u001b[0m:\u001b[94m2\u001b[0m                                                                              \u001b[31m│\u001b[0m\n",
       "\u001b[31m│\u001b[0m                                                                                                  \u001b[31m│\u001b[0m\n",
       "\u001b[31m│\u001b[0m   \u001b[2m1 \u001b[0mresults_train = pd.DataFrame(X_train)                                                        \u001b[31m│\u001b[0m\n",
       "\u001b[31m│\u001b[0m \u001b[31m❱ \u001b[0m2 results_train[\u001b[33m'\u001b[0m\u001b[33mprediction\u001b[0m\u001b[33m'\u001b[0m] = train_predictions                                              \u001b[31m│\u001b[0m\n",
       "\u001b[31m│\u001b[0m   \u001b[2m3 \u001b[0mresults_train[\u001b[33m'\u001b[0m\u001b[33mtoken_set_ratio\u001b[0m\u001b[33m'\u001b[0m] = token_set_predictions_train                               \u001b[31m│\u001b[0m\n",
       "\u001b[31m│\u001b[0m   \u001b[2m4 \u001b[0mresults_train[\u001b[33m'\u001b[0m\u001b[33mlabel\u001b[0m\u001b[33m'\u001b[0m] = y_train                                                             \u001b[31m│\u001b[0m\n",
       "\u001b[31m│\u001b[0m   \u001b[2m5 \u001b[0mresults_train.columns = [\u001b[33m'\u001b[0m\u001b[33mname_1\u001b[0m\u001b[33m'\u001b[0m, \u001b[33m'\u001b[0m\u001b[33mname_2\u001b[0m\u001b[33m'\u001b[0m, \u001b[33m'\u001b[0m\u001b[33mprediction\u001b[0m\u001b[33m'\u001b[0m,\u001b[33m'\u001b[0m\u001b[33mtoken_set_ratio\u001b[0m\u001b[33m'\u001b[0m, \u001b[33m'\u001b[0m\u001b[33mlabel\u001b[0m\u001b[33m'\u001b[0m]        \u001b[31m│\u001b[0m\n",
       "\u001b[31m╰──────────────────────────────────────────────────────────────────────────────────────────────────╯\u001b[0m\n",
       "\u001b[1;91mNameError: \u001b[0mname \u001b[32m'train_predictions'\u001b[0m is not defined\n"
      ]
     },
     "metadata": {},
     "output_type": "display_data"
    }
   ],
   "source": [
    "results_train = pd.DataFrame(X_train)\n",
    "results_train['prediction'] = train_predictions\n",
    "results_train['token_set_ratio'] = token_set_predictions_train\n",
    "results_train['label'] = y_train\n",
    "results_train.columns = ['name_1', 'name_2', 'prediction','token_set_ratio', 'label']\n",
    "results_train['error'] = (results_train['prediction']>.5).astype(int) != results_train['label'].astype(int)"
   ]
  },
  {
   "cell_type": "code",
   "execution_count": 65,
   "id": "e0c50178-6e8a-4f8e-a9f9-4767f4d4554d",
   "metadata": {},
   "outputs": [],
   "source": [
    "results.to_csv('conv_results_test_mixed_sources.csv', index=False)\n",
    "results_train.to_csv('conv_results_train_orbis.csv', index=False)"
   ]
  },
  {
   "cell_type": "markdown",
   "id": "ae21aaa0-9e2e-42b2-bc54-ed0d108c17a5",
   "metadata": {},
   "source": [
    "# 6. Prediciton"
   ]
  },
  {
   "cell_type": "code",
   "execution_count": 99,
   "id": "a16124da-6699-44c3-b0f8-d95ffae2ed0c",
   "metadata": {},
   "outputs": [],
   "source": [
    "standard_1 = np.array(['dave smith',\n",
    "                       'international business machine corp',\n",
    "                       'bill gates',\n",
    "                       'william h gates',\n",
    "                       'mary miller',\n",
    "                       'mary',\n",
    "                       'ibm inc',\n",
    "                       'ibm inc', \n",
    "                       'dave smith',\n",
    "                       'royal free hospital',\n",
    "                       'royal free hospital emergency room',\n",
    "                       'royal free hospital school of medicine',\n",
    "                       'howdens joinery',\n",
    "                      'car craft'])\n",
    "standard_2 = np.array(['david smith',\n",
    "                       'ibm',\n",
    "                       'william gates',\n",
    "                       'william a gates',\n",
    "                       'mark miller',\n",
    "                       'mark',\n",
    "                       'ibm corp',\n",
    "                       'ibs inc',\n",
    "                       'smith dave',\n",
    "                       'royal free hospital emergency room',\n",
    "                       'royal free hospital immunology',\n",
    "                       'royal free hospital immunology',\n",
    "                       'howdens new romney',\n",
    "                      'carcraft and mot service centre'])\n",
    "standard_target = np.array([1, 1, 1, 0, 0, 0, 1, 0, 1, 0, 0, 0, 1, 1])\n",
    "token_set_ratio = [fuzz.token_set_ratio(name1, name2)/100 for name1, name2 in list(zip(standard_1, standard_2))]"
   ]
  },
  {
   "cell_type": "code",
   "execution_count": 100,
   "id": "aed0775d-7597-4607-bf66-460893fec003",
   "metadata": {},
   "outputs": [],
   "source": [
    "standard_1_vectorized = encode_sparsed_list(standard_1,char_to_index_dict=char_to_index, max_len=MAX_NAME_LEN)\n",
    "standard_2_vectorized = encode_sparsed_list(standard_2,char_to_index_dict=char_to_index, max_len=MAX_NAME_LEN)"
   ]
  },
  {
   "cell_type": "code",
   "execution_count": 101,
   "id": "be7fb3b6-3845-43c2-8c09-b3b7fc4c23cd",
   "metadata": {},
   "outputs": [
    {
     "name": "stdout",
     "output_type": "stream",
     "text": [
      "1/1 [==============================] - 0s 99ms/step\n"
     ]
    }
   ],
   "source": [
    "standard_predictions = poi_c2v.model.predict((standard_1_vectorized, standard_2_vectorized))"
   ]
  },
  {
   "cell_type": "code",
   "execution_count": 102,
   "id": "6fa85868-4851-4012-a414-4fa2ee363f67",
   "metadata": {},
   "outputs": [
    {
     "data": {
      "text/html": [
       "<pre style=\"white-space:pre;overflow-x:auto;line-height:normal;font-family:Menlo,'DejaVu Sans Mono',consolas,'Courier New',monospace\"></pre>\n"
      ],
      "text/plain": []
     },
     "metadata": {},
     "output_type": "display_data"
    },
    {
     "data": {
      "text/html": [
       "<div>\n",
       "<style scoped>\n",
       "    .dataframe tbody tr th:only-of-type {\n",
       "        vertical-align: middle;\n",
       "    }\n",
       "\n",
       "    .dataframe tbody tr th {\n",
       "        vertical-align: top;\n",
       "    }\n",
       "\n",
       "    .dataframe thead th {\n",
       "        text-align: right;\n",
       "    }\n",
       "</style>\n",
       "<table border=\"1\" class=\"dataframe\">\n",
       "  <thead>\n",
       "    <tr style=\"text-align: right;\">\n",
       "      <th></th>\n",
       "      <th>0</th>\n",
       "      <th>1</th>\n",
       "      <th>2</th>\n",
       "      <th>3</th>\n",
       "      <th>4</th>\n",
       "    </tr>\n",
       "  </thead>\n",
       "  <tbody>\n",
       "    <tr>\n",
       "      <th>0</th>\n",
       "      <td>dave smith</td>\n",
       "      <td>david smith</td>\n",
       "      <td>1</td>\n",
       "      <td>[0.9756205]</td>\n",
       "      <td>0.86</td>\n",
       "    </tr>\n",
       "    <tr>\n",
       "      <th>1</th>\n",
       "      <td>international business machine corp</td>\n",
       "      <td>ibm</td>\n",
       "      <td>1</td>\n",
       "      <td>[0.16104262]</td>\n",
       "      <td>0.11</td>\n",
       "    </tr>\n",
       "    <tr>\n",
       "      <th>2</th>\n",
       "      <td>bill gates</td>\n",
       "      <td>william gates</td>\n",
       "      <td>1</td>\n",
       "      <td>[0.95303804]</td>\n",
       "      <td>0.78</td>\n",
       "    </tr>\n",
       "    <tr>\n",
       "      <th>3</th>\n",
       "      <td>william h gates</td>\n",
       "      <td>william a gates</td>\n",
       "      <td>0</td>\n",
       "      <td>[0.9776573]</td>\n",
       "      <td>0.93</td>\n",
       "    </tr>\n",
       "    <tr>\n",
       "      <th>4</th>\n",
       "      <td>mary miller</td>\n",
       "      <td>mark miller</td>\n",
       "      <td>0</td>\n",
       "      <td>[0.9780773]</td>\n",
       "      <td>0.91</td>\n",
       "    </tr>\n",
       "    <tr>\n",
       "      <th>5</th>\n",
       "      <td>mary</td>\n",
       "      <td>mark</td>\n",
       "      <td>0</td>\n",
       "      <td>[0.21813014]</td>\n",
       "      <td>0.75</td>\n",
       "    </tr>\n",
       "    <tr>\n",
       "      <th>6</th>\n",
       "      <td>ibm inc</td>\n",
       "      <td>ibm corp</td>\n",
       "      <td>1</td>\n",
       "      <td>[0.1477734]</td>\n",
       "      <td>0.67</td>\n",
       "    </tr>\n",
       "    <tr>\n",
       "      <th>7</th>\n",
       "      <td>ibm inc</td>\n",
       "      <td>ibs inc</td>\n",
       "      <td>0</td>\n",
       "      <td>[0.082217865]</td>\n",
       "      <td>0.86</td>\n",
       "    </tr>\n",
       "    <tr>\n",
       "      <th>8</th>\n",
       "      <td>dave smith</td>\n",
       "      <td>smith dave</td>\n",
       "      <td>1</td>\n",
       "      <td>[0.79717976]</td>\n",
       "      <td>1.00</td>\n",
       "    </tr>\n",
       "    <tr>\n",
       "      <th>9</th>\n",
       "      <td>royal free hospital</td>\n",
       "      <td>royal free hospital emergency room</td>\n",
       "      <td>0</td>\n",
       "      <td>[0.9998045]</td>\n",
       "      <td>1.00</td>\n",
       "    </tr>\n",
       "    <tr>\n",
       "      <th>10</th>\n",
       "      <td>royal free hospital emergency room</td>\n",
       "      <td>royal free hospital immunology</td>\n",
       "      <td>0</td>\n",
       "      <td>[0.9607169]</td>\n",
       "      <td>0.78</td>\n",
       "    </tr>\n",
       "    <tr>\n",
       "      <th>11</th>\n",
       "      <td>royal free hospital school of medicine</td>\n",
       "      <td>royal free hospital immunology</td>\n",
       "      <td>0</td>\n",
       "      <td>[0.99601287]</td>\n",
       "      <td>0.78</td>\n",
       "    </tr>\n",
       "    <tr>\n",
       "      <th>12</th>\n",
       "      <td>howdens joinery</td>\n",
       "      <td>howdens new romney</td>\n",
       "      <td>1</td>\n",
       "      <td>[0.9789497]</td>\n",
       "      <td>0.73</td>\n",
       "    </tr>\n",
       "    <tr>\n",
       "      <th>13</th>\n",
       "      <td>car craft</td>\n",
       "      <td>carcraft and mot service centre</td>\n",
       "      <td>1</td>\n",
       "      <td>[0.8220749]</td>\n",
       "      <td>0.40</td>\n",
       "    </tr>\n",
       "  </tbody>\n",
       "</table>\n",
       "</div>"
      ],
      "text/plain": [
       "\n",
       "                                         \u001b[1;36m0\u001b[0m  \\\n",
       "\u001b[1;36m0\u001b[0m                               dave smith   \n",
       "\u001b[1;36m1\u001b[0m      international business machine corp   \n",
       "\u001b[1;36m2\u001b[0m                               bill gates   \n",
       "\u001b[1;36m3\u001b[0m                          william h gates   \n",
       "\u001b[1;36m4\u001b[0m                              mary miller   \n",
       "\u001b[1;36m5\u001b[0m                                     mary   \n",
       "\u001b[1;36m6\u001b[0m                                  ibm inc   \n",
       "\u001b[1;36m7\u001b[0m                                  ibm inc   \n",
       "\u001b[1;36m8\u001b[0m                               dave smith   \n",
       "\u001b[1;36m9\u001b[0m                      royal free hospital   \n",
       "\u001b[1;36m10\u001b[0m      royal free hospital emergency room   \n",
       "\u001b[1;36m11\u001b[0m  royal free hospital school of medicine   \n",
       "\u001b[1;36m12\u001b[0m                         howdens joinery   \n",
       "\u001b[1;36m13\u001b[0m                               car craft   \n",
       "\n",
       "                                     \u001b[1;36m1\u001b[0m  \u001b[1;36m2\u001b[0m              \u001b[1;36m3\u001b[0m     \u001b[1;36m4\u001b[0m  \n",
       "\u001b[1;36m0\u001b[0m                          david smith  \u001b[1;36m1\u001b[0m    \u001b[1m[\u001b[0m\u001b[1;36m0.9756205\u001b[0m\u001b[1m]\u001b[0m  \u001b[1;36m0.86\u001b[0m  \n",
       "\u001b[1;36m1\u001b[0m                                  ibm  \u001b[1;36m1\u001b[0m   \u001b[1m[\u001b[0m\u001b[1;36m0.16104262\u001b[0m\u001b[1m]\u001b[0m  \u001b[1;36m0.11\u001b[0m  \n",
       "\u001b[1;36m2\u001b[0m                        william gates  \u001b[1;36m1\u001b[0m   \u001b[1m[\u001b[0m\u001b[1;36m0.95303804\u001b[0m\u001b[1m]\u001b[0m  \u001b[1;36m0.78\u001b[0m  \n",
       "\u001b[1;36m3\u001b[0m                      william a gates  \u001b[1;36m0\u001b[0m    \u001b[1m[\u001b[0m\u001b[1;36m0.9776573\u001b[0m\u001b[1m]\u001b[0m  \u001b[1;36m0.93\u001b[0m  \n",
       "\u001b[1;36m4\u001b[0m                          mark miller  \u001b[1;36m0\u001b[0m    \u001b[1m[\u001b[0m\u001b[1;36m0.9780773\u001b[0m\u001b[1m]\u001b[0m  \u001b[1;36m0.91\u001b[0m  \n",
       "\u001b[1;36m5\u001b[0m                                 mark  \u001b[1;36m0\u001b[0m   \u001b[1m[\u001b[0m\u001b[1;36m0.21813014\u001b[0m\u001b[1m]\u001b[0m  \u001b[1;36m0.75\u001b[0m  \n",
       "\u001b[1;36m6\u001b[0m                             ibm corp  \u001b[1;36m1\u001b[0m    \u001b[1m[\u001b[0m\u001b[1;36m0.1477734\u001b[0m\u001b[1m]\u001b[0m  \u001b[1;36m0.67\u001b[0m  \n",
       "\u001b[1;36m7\u001b[0m                              ibs inc  \u001b[1;36m0\u001b[0m  \u001b[1m[\u001b[0m\u001b[1;36m0.082217865\u001b[0m\u001b[1m]\u001b[0m  \u001b[1;36m0.86\u001b[0m  \n",
       "\u001b[1;36m8\u001b[0m                           smith dave  \u001b[1;36m1\u001b[0m   \u001b[1m[\u001b[0m\u001b[1;36m0.79717976\u001b[0m\u001b[1m]\u001b[0m  \u001b[1;36m1.00\u001b[0m  \n",
       "\u001b[1;36m9\u001b[0m   royal free hospital emergency room  \u001b[1;36m0\u001b[0m    \u001b[1m[\u001b[0m\u001b[1;36m0.9998045\u001b[0m\u001b[1m]\u001b[0m  \u001b[1;36m1.00\u001b[0m  \n",
       "\u001b[1;36m10\u001b[0m      royal free hospital immunology  \u001b[1;36m0\u001b[0m    \u001b[1m[\u001b[0m\u001b[1;36m0.9607169\u001b[0m\u001b[1m]\u001b[0m  \u001b[1;36m0.78\u001b[0m  \n",
       "\u001b[1;36m11\u001b[0m      royal free hospital immunology  \u001b[1;36m0\u001b[0m   \u001b[1m[\u001b[0m\u001b[1;36m0.99601287\u001b[0m\u001b[1m]\u001b[0m  \u001b[1;36m0.78\u001b[0m  \n",
       "\u001b[1;36m12\u001b[0m                  howdens new romney  \u001b[1;36m1\u001b[0m    \u001b[1m[\u001b[0m\u001b[1;36m0.9789497\u001b[0m\u001b[1m]\u001b[0m  \u001b[1;36m0.73\u001b[0m  \n",
       "\u001b[1;36m13\u001b[0m     carcraft and mot service centre  \u001b[1;36m1\u001b[0m    \u001b[1m[\u001b[0m\u001b[1;36m0.8220749\u001b[0m\u001b[1m]\u001b[0m  \u001b[1;36m0.40\u001b[0m  "
      ]
     },
     "execution_count": 102,
     "metadata": {},
     "output_type": "execute_result"
    }
   ],
   "source": [
    "pd.DataFrame(list(zip(standard_1, standard_2, standard_target, standard_predictions, token_set_ratio)))"
   ]
  },
  {
   "cell_type": "code",
   "execution_count": 185,
   "id": "77b60d6c-9a13-410f-a5d8-5195039d4b55",
   "metadata": {},
   "outputs": [
    {
     "data": {
      "text/html": [
       "<pre style=\"white-space:pre;overflow-x:auto;line-height:normal;font-family:Menlo,'DejaVu Sans Mono',consolas,'Courier New',monospace\"><span style=\"color: #7fbfbf; text-decoration-color: #7fbfbf\">[08/16/23 19:42:21] </span><span style=\"color: #000080; text-decoration-color: #000080\">INFO    </span> Loading data from <span style=\"color: #008000; text-decoration-color: #008000\">'geonames_latin_pairs'</span> <span style=\"font-weight: bold\">(</span>SparkDataSet<span style=\"font-weight: bold\">)</span><span style=\"color: #808000; text-decoration-color: #808000\">...</span>         <a href=\"file:///usr/local/lib/python3.9/dist-packages/kedro/io/data_catalog.py\" target=\"_blank\"><span style=\"color: #7f7f7f; text-decoration-color: #7f7f7f\">data_catalog.py</span></a><span style=\"color: #7f7f7f; text-decoration-color: #7f7f7f\">:</span><a href=\"file:///usr/local/lib/python3.9/dist-packages/kedro/io/data_catalog.py#475\" target=\"_blank\"><span style=\"color: #7f7f7f; text-decoration-color: #7f7f7f\">475</span></a>\n",
       "</pre>\n"
      ],
      "text/plain": [
       "\u001b[2;36m[08/16/23 19:42:21]\u001b[0m\u001b[2;36m \u001b[0m\u001b[34mINFO    \u001b[0m Loading data from \u001b[32m'geonames_latin_pairs'\u001b[0m \u001b[1m(\u001b[0mSparkDataSet\u001b[1m)\u001b[0m\u001b[33m...\u001b[0m         \u001b]8;id=676144;file:///usr/local/lib/python3.9/dist-packages/kedro/io/data_catalog.py\u001b\\\u001b[2mdata_catalog.py\u001b[0m\u001b]8;;\u001b\\\u001b[2m:\u001b[0m\u001b]8;id=272117;file:///usr/local/lib/python3.9/dist-packages/kedro/io/data_catalog.py#475\u001b\\\u001b[2m475\u001b[0m\u001b]8;;\u001b\\\n"
      ]
     },
     "metadata": {},
     "output_type": "display_data"
    },
    {
     "name": "stderr",
     "output_type": "stream",
     "text": [
      "                                                                                \r"
     ]
    }
   ],
   "source": [
    "geonames_pairs = catalog.load('geonames_latin_pairs')\n",
    "geonames_pairs = geonames_pairs.withColumn('target', when(col('match') == 'true', 1).otherwise(0).cast(FloatType()))\n",
    "geonames_pairs_es = geonames_pairs.filter(col('language_1').isin(['ES', 'MX']))\n",
    "geonames_normalized = geonames_pairs_es.withColumn('name_1_normalized', udf_normalize_chars(col('name_1'))) \\\n",
    "                .withColumn('name_2_normalized', udf_normalize_chars(col('name_2')))\n",
    "\n",
    "\n",
    "name_pairs = geonames_normalized.select('name_1_normalized', 'name_2_normalized').toPandas().values\n",
    "target = geonames_normalized.select(col('target')).toPandas().astype(float).values\n",
    "\n",
    "X1 = encode_sparsed_list(name_pairs[:, 0],char_to_index_dict=char_to_index, max_len=MAX_NAME_LEN)\n",
    "X2 = encode_sparsed_list(name_pairs[:, 1],char_to_index_dict=char_to_index, max_len=MAX_NAME_LEN)"
   ]
  },
  {
   "cell_type": "code",
   "execution_count": 809,
   "id": "35b4fb98-53ee-45ab-919a-041486825692",
   "metadata": {},
   "outputs": [
    {
     "name": "stdout",
     "output_type": "stream",
     "text": [
      "1708/1708 [==============================] - 19s 11ms/step\n"
     ]
    }
   ],
   "source": [
    "geonames_predictions = poi_c2v.model.predict((X1, X2))"
   ]
  },
  {
   "cell_type": "code",
   "execution_count": 810,
   "id": "be94cca3-cb8e-419d-b5c2-0b512765b49f",
   "metadata": {},
   "outputs": [
    {
     "data": {
      "text/html": [
       "<pre style=\"white-space:pre;overflow-x:auto;line-height:normal;font-family:Menlo,'DejaVu Sans Mono',consolas,'Courier New',monospace\"></pre>\n"
      ],
      "text/plain": []
     },
     "metadata": {},
     "output_type": "display_data"
    },
    {
     "data": {
      "text/plain": [
       "\n",
       "\u001b[1m(\u001b[0m\n",
       "    \u001b[1;35marray\u001b[0m\u001b[1m(\u001b[0m\u001b[1m[\u001b[0m\u001b[1;36m13140\u001b[0m.,  \u001b[1;36m3133\u001b[0m.,  \u001b[1;36m1532\u001b[0m.,  \u001b[1;36m1076\u001b[0m.,   \u001b[1;36m925\u001b[0m.,   \u001b[1;36m897\u001b[0m.,   \u001b[1;36m964\u001b[0m.,  \u001b[1;36m1118\u001b[0m.,\n",
       "        \u001b[1;36m1498\u001b[0m., \u001b[1;36m30360\u001b[0m.\u001b[1m]\u001b[0m\u001b[1m)\u001b[0m,\n",
       "    \u001b[1;35marray\u001b[0m\u001b[1m(\u001b[0m\u001b[1m[\u001b[0m\u001b[1;36m3.25981440e-04\u001b[0m, \u001b[1;36m1.00292802e-01\u001b[0m, \u001b[1;36m2.00259626e-01\u001b[0m, \u001b[1;36m3.00226450e-01\u001b[0m,\n",
       "       \u001b[1;36m4.00193274e-01\u001b[0m, \u001b[1;36m5.00160098e-01\u001b[0m, \u001b[1;36m6.00126922e-01\u001b[0m, \u001b[1;36m7.00093746e-01\u001b[0m,\n",
       "       \u001b[1;36m8.00060570e-01\u001b[0m, \u001b[1;36m9.00027394e-01\u001b[0m, \u001b[1;36m9.99994218e-01\u001b[0m\u001b[1m]\u001b[0m\u001b[1m)\u001b[0m,\n",
       "    \u001b[1m<\u001b[0m\u001b[1;95mBarContainer\u001b[0m\u001b[39m object of \u001b[0m\u001b[1;36m10\u001b[0m\u001b[39m artists\u001b[0m\u001b[1m>\u001b[0m\n",
       "\u001b[1m)\u001b[0m"
      ]
     },
     "execution_count": 810,
     "metadata": {},
     "output_type": "execute_result"
    },
    {
     "data": {
      "text/html": [
       "<pre style=\"white-space:pre;overflow-x:auto;line-height:normal;font-family:Menlo,'DejaVu Sans Mono',consolas,'Courier New',monospace\"></pre>\n"
      ],
      "text/plain": []
     },
     "metadata": {},
     "output_type": "display_data"
    },
    {
     "data": {
      "image/png": "[encoded data removed]",
      "text/plain": [
       "\u001b[1m<\u001b[0m\u001b[1;95mFigure\u001b[0m\u001b[39m size 64\u001b[0m\u001b[1;36m0x480\u001b[0m\u001b[39m with \u001b[0m\u001b[1;36m1\u001b[0m\u001b[39m Axes\u001b[0m\u001b[1m>\u001b[0m"
      ]
     },
     "metadata": {},
     "output_type": "display_data"
    }
   ],
   "source": [
    "plt.hist(geonames_predictions)"
   ]
  },
  {
   "cell_type": "code",
   "execution_count": 811,
   "id": "dc50151b-8037-49c3-913e-24eb78625649",
   "metadata": {},
   "outputs": [
    {
     "data": {
      "text/html": [
       "<pre style=\"white-space:pre;overflow-x:auto;line-height:normal;font-family:Menlo,'DejaVu Sans Mono',consolas,'Courier New',monospace\"></pre>\n"
      ],
      "text/plain": []
     },
     "metadata": {},
     "output_type": "display_data"
    },
    {
     "data": {
      "text/html": [
       "<div>\n",
       "<style scoped>\n",
       "    .dataframe tbody tr th:only-of-type {\n",
       "        vertical-align: middle;\n",
       "    }\n",
       "\n",
       "    .dataframe tbody tr th {\n",
       "        vertical-align: top;\n",
       "    }\n",
       "\n",
       "    .dataframe thead th {\n",
       "        text-align: right;\n",
       "    }\n",
       "</style>\n",
       "<table border=\"1\" class=\"dataframe\">\n",
       "  <thead>\n",
       "    <tr style=\"text-align: right;\">\n",
       "      <th>col_0</th>\n",
       "      <th>False</th>\n",
       "      <th>True</th>\n",
       "    </tr>\n",
       "    <tr>\n",
       "      <th>row_0</th>\n",
       "      <th></th>\n",
       "      <th></th>\n",
       "    </tr>\n",
       "  </thead>\n",
       "  <tbody>\n",
       "    <tr>\n",
       "      <th>False</th>\n",
       "      <td>16004</td>\n",
       "      <td>11397</td>\n",
       "    </tr>\n",
       "    <tr>\n",
       "      <th>True</th>\n",
       "      <td>3802</td>\n",
       "      <td>23440</td>\n",
       "    </tr>\n",
       "  </tbody>\n",
       "</table>\n",
       "</div>"
      ],
      "text/plain": [
       "\n",
       "col_0  \u001b[3;91mFalse\u001b[0m  \u001b[3;92mTrue\u001b[0m \n",
       "row_0              \n",
       "\u001b[3;91mFalse\u001b[0m  \u001b[1;36m16004\u001b[0m  \u001b[1;36m11397\u001b[0m\n",
       "\u001b[3;92mTrue\u001b[0m    \u001b[1;36m3802\u001b[0m  \u001b[1;36m23440\u001b[0m"
      ]
     },
     "execution_count": 811,
     "metadata": {},
     "output_type": "execute_result"
    }
   ],
   "source": [
    "pd.crosstab((target>=.75).flatten(), (geonames_predictions>=.5).flatten())"
   ]
  },
  {
   "cell_type": "code",
   "execution_count": 812,
   "id": "bd4e955d-c4b3-44b0-95b0-a42561c6b07e",
   "metadata": {},
   "outputs": [
    {
     "name": "stdout",
     "output_type": "stream",
     "text": [
      "              precision    recall  f1-score   support\n",
      "\n",
      "       False       0.81      0.58      0.68     27401\n",
      "        True       0.67      0.86      0.76     27242\n",
      "\n",
      "    accuracy                           0.72     54643\n",
      "   macro avg       0.74      0.72      0.72     54643\n",
      "weighted avg       0.74      0.72      0.72     54643\n",
      "\n"
     ]
    }
   ],
   "source": [
    "print(classification_report((target>=.5).flatten(), geonames_predictions>.5))"
   ]
  },
  {
   "cell_type": "code",
   "execution_count": 813,
   "id": "a20f6ff8-c001-4d8c-b157-59be5c515aaf",
   "metadata": {},
   "outputs": [
    {
     "name": "stdout",
     "output_type": "stream",
     "text": [
      "              precision    recall  f1-score   support\n",
      "\n",
      "       False       0.81      0.58      0.68     27401\n",
      "        True       0.67      0.86      0.76     27242\n",
      "\n",
      "    accuracy                           0.72     54643\n",
      "   macro avg       0.74      0.72      0.72     54643\n",
      "weighted avg       0.74      0.72      0.72     54643\n",
      "\n"
     ]
    }
   ],
   "source": [
    "print(classification_report((target>=.5).flatten(), geonames_predictions>.5))"
   ]
  },
  {
   "cell_type": "code",
   "execution_count": 814,
   "id": "6f76abcc-8c09-4768-a84b-7b0f04900bc9",
   "metadata": {},
   "outputs": [
    {
     "data": {
      "text/html": [
       "<pre style=\"white-space:pre;overflow-x:auto;line-height:normal;font-family:Menlo,'DejaVu Sans Mono',consolas,'Courier New',monospace\"></pre>\n"
      ],
      "text/plain": []
     },
     "metadata": {},
     "output_type": "display_data"
    },
    {
     "data": {
      "text/html": [
       "<div>\n",
       "<style scoped>\n",
       "    .dataframe tbody tr th:only-of-type {\n",
       "        vertical-align: middle;\n",
       "    }\n",
       "\n",
       "    .dataframe tbody tr th {\n",
       "        vertical-align: top;\n",
       "    }\n",
       "\n",
       "    .dataframe thead th {\n",
       "        text-align: right;\n",
       "    }\n",
       "</style>\n",
       "<table border=\"1\" class=\"dataframe\">\n",
       "  <thead>\n",
       "    <tr style=\"text-align: right;\">\n",
       "      <th>col_0</th>\n",
       "      <th>False</th>\n",
       "      <th>True</th>\n",
       "    </tr>\n",
       "    <tr>\n",
       "      <th>row_0</th>\n",
       "      <th></th>\n",
       "      <th></th>\n",
       "    </tr>\n",
       "  </thead>\n",
       "  <tbody>\n",
       "    <tr>\n",
       "      <th>False</th>\n",
       "      <td>23164</td>\n",
       "      <td>4237</td>\n",
       "    </tr>\n",
       "    <tr>\n",
       "      <th>True</th>\n",
       "      <td>7350</td>\n",
       "      <td>19892</td>\n",
       "    </tr>\n",
       "  </tbody>\n",
       "</table>\n",
       "</div>"
      ],
      "text/plain": [
       "\n",
       "col_0  \u001b[3;91mFalse\u001b[0m  \u001b[3;92mTrue\u001b[0m \n",
       "row_0              \n",
       "\u001b[3;91mFalse\u001b[0m  \u001b[1;36m23164\u001b[0m   \u001b[1;36m4237\u001b[0m\n",
       "\u001b[3;92mTrue\u001b[0m    \u001b[1;36m7350\u001b[0m  \u001b[1;36m19892\u001b[0m"
      ]
     },
     "execution_count": 814,
     "metadata": {},
     "output_type": "execute_result"
    }
   ],
   "source": [
    "\n",
    "token_set_predictions = np.array([fuzz.token_set_ratio(name1, name2)/100 for name1, name2 in name_pairs])>.75\n",
    "pd.crosstab((target>=.5).flatten(), token_set_predictions)"
   ]
  },
  {
   "cell_type": "code",
   "execution_count": 579,
   "id": "e121b341-177a-408f-848a-faaffde466e2",
   "metadata": {},
   "outputs": [
    {
     "name": "stdout",
     "output_type": "stream",
     "text": [
      "              precision    recall  f1-score   support\n",
      "\n",
      "       False       0.76      0.85      0.80     27401\n",
      "        True       0.82      0.73      0.77     27242\n",
      "\n",
      "    accuracy                           0.79     54643\n",
      "   macro avg       0.79      0.79      0.79     54643\n",
      "weighted avg       0.79      0.79      0.79     54643\n",
      "\n"
     ]
    }
   ],
   "source": [
    "print(classification_report((target>=.5).flatten(), token_set_predictions))"
   ]
  },
  {
   "cell_type": "markdown",
   "id": "c4641264-bf38-40f7-93fe-3a44db1852c8",
   "metadata": {},
   "source": [
    "# Match logs comparison"
   ]
  },
  {
   "cell_type": "code",
   "execution_count": 103,
   "id": "4416cff3-b9bf-4fac-8e32-0bc2ed170236",
   "metadata": {},
   "outputs": [],
   "source": [
    "matching_logs = pd.read_csv('../../data/01_raw/tomtom/full_matching_logs_ES_EN_ov32.csv')"
   ]
  },
  {
   "cell_type": "code",
   "execution_count": 104,
   "id": "c4cb4b76-739a-4205-b617-e81d093f5089",
   "metadata": {},
   "outputs": [
    {
     "data": {
      "text/html": [
       "<pre style=\"white-space:pre;overflow-x:auto;line-height:normal;font-family:Menlo,'DejaVu Sans Mono',consolas,'Courier New',monospace\"></pre>\n"
      ],
      "text/plain": []
     },
     "metadata": {},
     "output_type": "display_data"
    },
    {
     "data": {
      "text/plain": [
       "\n",
       "\u001b[1;35mIndex\u001b[0m\u001b[1m(\u001b[0m\u001b[1m[\u001b[0m\u001b[32m'release_version'\u001b[0m, \u001b[32m'enduser_category'\u001b[0m, \u001b[32m'category_id_tt'\u001b[0m,\n",
       "       \u001b[32m'category_name'\u001b[0m, \u001b[32m'reference_translated_cat_id'\u001b[0m, \u001b[32m'reference_id'\u001b[0m,\n",
       "       \u001b[32m'api_poi_id'\u001b[0m, \u001b[32m'providers_translated_cat_id'\u001b[0m, \u001b[32m'ref_lat'\u001b[0m, \u001b[32m'ref_lon'\u001b[0m,\n",
       "       \u001b[32m'location_distance_m'\u001b[0m, \u001b[32m'pav_threshold_distance_m'\u001b[0m,\n",
       "       \u001b[32m'pa_threshold_distance_m'\u001b[0m, \u001b[32m'name'\u001b[0m, \u001b[32m'api_poiName'\u001b[0m, \u001b[32m'name_ref_nrm'\u001b[0m,\n",
       "       \u001b[32m'name_prov_nrm'\u001b[0m, \u001b[32m'api_poiBrand'\u001b[0m, \u001b[32m'brand_flag'\u001b[0m, \u001b[32m'category_matching'\u001b[0m,\n",
       "       \u001b[32m'distance_matching'\u001b[0m, \u001b[32m'name_matching'\u001b[0m, \u001b[32m'match_code'\u001b[0m, \u001b[32m'match'\u001b[0m,\n",
       "       \u001b[32m'best_result'\u001b[0m, \u001b[32m'bool_pa'\u001b[0m, \u001b[32m'config_params'\u001b[0m, \u001b[32m'region'\u001b[0m, \u001b[32m'matching_run_id'\u001b[0m,\n",
       "       \u001b[32m'provider_id'\u001b[0m, \u001b[32m'country'\u001b[0m, \u001b[32m'sample_round'\u001b[0m\u001b[1m]\u001b[0m,\n",
       "      \u001b[33mdtype\u001b[0m=\u001b[32m'object'\u001b[0m\u001b[1m)\u001b[0m"
      ]
     },
     "execution_count": 104,
     "metadata": {},
     "output_type": "execute_result"
    }
   ],
   "source": [
    "matching_logs.columns"
   ]
  },
  {
   "cell_type": "code",
   "execution_count": 105,
   "id": "9132d874-ca03-49de-97bd-08c1084e2880",
   "metadata": {},
   "outputs": [],
   "source": [
    "matching_names = matching_logs.copy()"
   ]
  },
  {
   "cell_type": "code",
   "execution_count": null,
   "id": "ce105c23-73d1-4c70-a76f-e6b73ebed775",
   "metadata": {},
   "outputs": [],
   "source": []
  },
  {
   "cell_type": "code",
   "execution_count": 106,
   "id": "f9a9fe3e-7780-48e3-8219-280b4c5b63c8",
   "metadata": {},
   "outputs": [],
   "source": [
    "matching_names['name'] = matching_names['name'].apply(lambda x: normalize_characters(x))\n",
    "matching_names['api_poiName'] = matching_names['api_poiName'].apply(lambda x: normalize_characters(x))"
   ]
  },
  {
   "cell_type": "code",
   "execution_count": 107,
   "id": "c32291c5-3b49-4d18-82ab-9ca537891580",
   "metadata": {},
   "outputs": [],
   "source": [
    "matching_names = matching_names[(~matching_names['name_matching'].isnull()) & (matching_names['api_poiName']!= 'null') & (matching_names['match_code'] != 5)]"
   ]
  },
  {
   "cell_type": "code",
   "execution_count": 108,
   "id": "0f7ba75a-d33a-4340-8963-d749eee328fc",
   "metadata": {},
   "outputs": [
    {
     "data": {
      "text/html": [
       "<pre style=\"white-space:pre;overflow-x:auto;line-height:normal;font-family:Menlo,'DejaVu Sans Mono',consolas,'Courier New',monospace\"></pre>\n"
      ],
      "text/plain": []
     },
     "metadata": {},
     "output_type": "display_data"
    },
    {
     "data": {
      "text/html": [
       "<div>\n",
       "<style scoped>\n",
       "    .dataframe tbody tr th:only-of-type {\n",
       "        vertical-align: middle;\n",
       "    }\n",
       "\n",
       "    .dataframe tbody tr th {\n",
       "        vertical-align: top;\n",
       "    }\n",
       "\n",
       "    .dataframe thead th {\n",
       "        text-align: right;\n",
       "    }\n",
       "</style>\n",
       "<table border=\"1\" class=\"dataframe\">\n",
       "  <thead>\n",
       "    <tr style=\"text-align: right;\">\n",
       "      <th></th>\n",
       "      <th>release_version</th>\n",
       "      <th>enduser_category</th>\n",
       "      <th>category_id_tt</th>\n",
       "      <th>category_name</th>\n",
       "      <th>reference_translated_cat_id</th>\n",
       "      <th>reference_id</th>\n",
       "      <th>api_poi_id</th>\n",
       "      <th>providers_translated_cat_id</th>\n",
       "      <th>ref_lat</th>\n",
       "      <th>ref_lon</th>\n",
       "      <th>...</th>\n",
       "      <th>match_code</th>\n",
       "      <th>match</th>\n",
       "      <th>best_result</th>\n",
       "      <th>bool_pa</th>\n",
       "      <th>config_params</th>\n",
       "      <th>region</th>\n",
       "      <th>matching_run_id</th>\n",
       "      <th>provider_id</th>\n",
       "      <th>country</th>\n",
       "      <th>sample_round</th>\n",
       "    </tr>\n",
       "  </thead>\n",
       "  <tbody>\n",
       "    <tr>\n",
       "      <th>2</th>\n",
       "      <td>23320.000 OV</td>\n",
       "      <td>Automotive</td>\n",
       "      <td>9910</td>\n",
       "      <td>Automotive Dealer</td>\n",
       "      <td>9910</td>\n",
       "      <td>ChIJ3W8E5CrBz4URipUCDSXmFhA</td>\n",
       "      <td>3.393684e+10</td>\n",
       "      <td>7310.0</td>\n",
       "      <td>19.054592</td>\n",
       "      <td>-98.219340</td>\n",
       "      <td>...</td>\n",
       "      <td>2</td>\n",
       "      <td>False</td>\n",
       "      <td>True</td>\n",
       "      <td>NaN</td>\n",
       "      <td>NaN</td>\n",
       "      <td>NaN</td>\n",
       "      <td>20230814-06094864</td>\n",
       "      <td>om</td>\n",
       "      <td>MEX</td>\n",
       "      <td>cc</td>\n",
       "    </tr>\n",
       "    <tr>\n",
       "      <th>3</th>\n",
       "      <td>23320.000 OV</td>\n",
       "      <td>Eat &amp; Drink</td>\n",
       "      <td>9376</td>\n",
       "      <td>Café/Pub</td>\n",
       "      <td>9376</td>\n",
       "      <td>ChIJ54VcVHuK2YURvKEcmE-C290</td>\n",
       "      <td>3.398599e+10</td>\n",
       "      <td>7315.0</td>\n",
       "      <td>20.945530</td>\n",
       "      <td>-97.389084</td>\n",
       "      <td>...</td>\n",
       "      <td>1</td>\n",
       "      <td>True</td>\n",
       "      <td>True</td>\n",
       "      <td>True</td>\n",
       "      <td>NaN</td>\n",
       "      <td>NaN</td>\n",
       "      <td>20230814-06094864</td>\n",
       "      <td>om</td>\n",
       "      <td>MEX</td>\n",
       "      <td>cc</td>\n",
       "    </tr>\n",
       "    <tr>\n",
       "      <th>5</th>\n",
       "      <td>23320.000 OV</td>\n",
       "      <td>Things to see &amp; do</td>\n",
       "      <td>9357</td>\n",
       "      <td>Beach</td>\n",
       "      <td>9357</td>\n",
       "      <td>ChIJH7DqZYr414URTUf3jjOCJXw</td>\n",
       "      <td>1.021585e+10</td>\n",
       "      <td>9357.0</td>\n",
       "      <td>22.290174</td>\n",
       "      <td>-97.803566</td>\n",
       "      <td>...</td>\n",
       "      <td>1</td>\n",
       "      <td>True</td>\n",
       "      <td>True</td>\n",
       "      <td>False</td>\n",
       "      <td>NaN</td>\n",
       "      <td>NaN</td>\n",
       "      <td>20230814-06094864</td>\n",
       "      <td>om</td>\n",
       "      <td>MEX</td>\n",
       "      <td>cc</td>\n",
       "    </tr>\n",
       "    <tr>\n",
       "      <th>11</th>\n",
       "      <td>23320.000 OV</td>\n",
       "      <td>Eat &amp; Drink</td>\n",
       "      <td>9376</td>\n",
       "      <td>Café/Pub</td>\n",
       "      <td>9376</td>\n",
       "      <td>ChIJVxwysZvELIQRpNPc9kU8Z_0</td>\n",
       "      <td>3.400459e+10</td>\n",
       "      <td>7315.0</td>\n",
       "      <td>20.213703</td>\n",
       "      <td>-100.882120</td>\n",
       "      <td>...</td>\n",
       "      <td>2</td>\n",
       "      <td>False</td>\n",
       "      <td>True</td>\n",
       "      <td>NaN</td>\n",
       "      <td>NaN</td>\n",
       "      <td>NaN</td>\n",
       "      <td>20230814-06094864</td>\n",
       "      <td>om</td>\n",
       "      <td>MEX</td>\n",
       "      <td>cc</td>\n",
       "    </tr>\n",
       "    <tr>\n",
       "      <th>12</th>\n",
       "      <td>23320.000 OV</td>\n",
       "      <td>Automotive</td>\n",
       "      <td>9910</td>\n",
       "      <td>Automotive Dealer</td>\n",
       "      <td>9910</td>\n",
       "      <td>ChIJX7BDM4DAK4QRkX7UT6vS8lw</td>\n",
       "      <td>3.395777e+10</td>\n",
       "      <td>9910.0</td>\n",
       "      <td>21.117882</td>\n",
       "      <td>-101.707825</td>\n",
       "      <td>...</td>\n",
       "      <td>1</td>\n",
       "      <td>True</td>\n",
       "      <td>True</td>\n",
       "      <td>True</td>\n",
       "      <td>NaN</td>\n",
       "      <td>NaN</td>\n",
       "      <td>20230814-06094864</td>\n",
       "      <td>om</td>\n",
       "      <td>MEX</td>\n",
       "      <td>cc</td>\n",
       "    </tr>\n",
       "    <tr>\n",
       "      <th>...</th>\n",
       "      <td>...</td>\n",
       "      <td>...</td>\n",
       "      <td>...</td>\n",
       "      <td>...</td>\n",
       "      <td>...</td>\n",
       "      <td>...</td>\n",
       "      <td>...</td>\n",
       "      <td>...</td>\n",
       "      <td>...</td>\n",
       "      <td>...</td>\n",
       "      <td>...</td>\n",
       "      <td>...</td>\n",
       "      <td>...</td>\n",
       "      <td>...</td>\n",
       "      <td>...</td>\n",
       "      <td>...</td>\n",
       "      <td>...</td>\n",
       "      <td>...</td>\n",
       "      <td>...</td>\n",
       "      <td>...</td>\n",
       "      <td>...</td>\n",
       "    </tr>\n",
       "    <tr>\n",
       "      <th>19518</th>\n",
       "      <td>23320.000 OV</td>\n",
       "      <td>Things to see &amp; do</td>\n",
       "      <td>9362</td>\n",
       "      <td>Park and Recreation Area</td>\n",
       "      <td>9362</td>\n",
       "      <td>ChIJW-KdHvNGIYQRMqixIdx1U60</td>\n",
       "      <td>1.053229e+10</td>\n",
       "      <td>9362.0</td>\n",
       "      <td>20.714619</td>\n",
       "      <td>-105.274820</td>\n",
       "      <td>...</td>\n",
       "      <td>1</td>\n",
       "      <td>True</td>\n",
       "      <td>True</td>\n",
       "      <td>True</td>\n",
       "      <td>NaN</td>\n",
       "      <td>NaN</td>\n",
       "      <td>20230814-06094864</td>\n",
       "      <td>om</td>\n",
       "      <td>MEX</td>\n",
       "      <td>cc</td>\n",
       "    </tr>\n",
       "    <tr>\n",
       "      <th>19523</th>\n",
       "      <td>23320.000 OV</td>\n",
       "      <td>Amenities</td>\n",
       "      <td>7328</td>\n",
       "      <td>Bank</td>\n",
       "      <td>7328</td>\n",
       "      <td>ChIJ2aMAqttpNg0RVxngOC1-VWo</td>\n",
       "      <td>3.392415e+10</td>\n",
       "      <td>7328.0</td>\n",
       "      <td>43.358700</td>\n",
       "      <td>-5.506369</td>\n",
       "      <td>...</td>\n",
       "      <td>1</td>\n",
       "      <td>True</td>\n",
       "      <td>True</td>\n",
       "      <td>True</td>\n",
       "      <td>NaN</td>\n",
       "      <td>NaN</td>\n",
       "      <td>20230814-06094864</td>\n",
       "      <td>om</td>\n",
       "      <td>ESP</td>\n",
       "      <td>cc</td>\n",
       "    </tr>\n",
       "    <tr>\n",
       "      <th>19526</th>\n",
       "      <td>23320.000 OV</td>\n",
       "      <td>Lodging</td>\n",
       "      <td>7360</td>\n",
       "      <td>Camping Ground</td>\n",
       "      <td>7360</td>\n",
       "      <td>ChIJNwJYS9N9MQ0RR5FIbDmEiYs</td>\n",
       "      <td>3.398923e+10</td>\n",
       "      <td>7360.0</td>\n",
       "      <td>43.545910</td>\n",
       "      <td>-6.995946</td>\n",
       "      <td>...</td>\n",
       "      <td>1</td>\n",
       "      <td>True</td>\n",
       "      <td>True</td>\n",
       "      <td>True</td>\n",
       "      <td>NaN</td>\n",
       "      <td>NaN</td>\n",
       "      <td>20230814-06094864</td>\n",
       "      <td>om</td>\n",
       "      <td>ESP</td>\n",
       "      <td>cc</td>\n",
       "    </tr>\n",
       "    <tr>\n",
       "      <th>19532</th>\n",
       "      <td>23320.000 OV</td>\n",
       "      <td>Things to see &amp; do</td>\n",
       "      <td>9357</td>\n",
       "      <td>Beach</td>\n",
       "      <td>9357</td>\n",
       "      <td>ChIJgyIbeDyruxIRKTnr1nkabJ0</td>\n",
       "      <td>7.324229e+09</td>\n",
       "      <td>8099.0</td>\n",
       "      <td>41.861630</td>\n",
       "      <td>3.150960</td>\n",
       "      <td>...</td>\n",
       "      <td>1</td>\n",
       "      <td>True</td>\n",
       "      <td>True</td>\n",
       "      <td>False</td>\n",
       "      <td>NaN</td>\n",
       "      <td>NaN</td>\n",
       "      <td>20230814-06094864</td>\n",
       "      <td>om</td>\n",
       "      <td>ESP</td>\n",
       "      <td>cc</td>\n",
       "    </tr>\n",
       "    <tr>\n",
       "      <th>19535</th>\n",
       "      <td>23320.000 OV</td>\n",
       "      <td>Things to see &amp; do</td>\n",
       "      <td>9357</td>\n",
       "      <td>Beach</td>\n",
       "      <td>9357</td>\n",
       "      <td>ChIJp9UOGTEXuxIRLZBjWWEQorA</td>\n",
       "      <td>3.395966e+10</td>\n",
       "      <td>7376.0</td>\n",
       "      <td>41.699074</td>\n",
       "      <td>2.850678</td>\n",
       "      <td>...</td>\n",
       "      <td>1</td>\n",
       "      <td>True</td>\n",
       "      <td>True</td>\n",
       "      <td>True</td>\n",
       "      <td>NaN</td>\n",
       "      <td>NaN</td>\n",
       "      <td>20230814-06094864</td>\n",
       "      <td>om</td>\n",
       "      <td>ESP</td>\n",
       "      <td>cc</td>\n",
       "    </tr>\n",
       "  </tbody>\n",
       "</table>\n",
       "<p>10313 rows × 32 columns</p>\n",
       "</div>"
      ],
      "text/plain": [
       "\n",
       "      release_version    enduser_category  category_id_tt  \\\n",
       "\u001b[1;36m2\u001b[0m        \u001b[1;36m23320.000\u001b[0m OV          Automotive            \u001b[1;36m9910\u001b[0m   \n",
       "\u001b[1;36m3\u001b[0m        \u001b[1;36m23320.000\u001b[0m OV         Eat & Drink            \u001b[1;36m9376\u001b[0m   \n",
       "\u001b[1;36m5\u001b[0m        \u001b[1;36m23320.000\u001b[0m OV  Things to see & do            \u001b[1;36m9357\u001b[0m   \n",
       "\u001b[1;36m11\u001b[0m       \u001b[1;36m23320.000\u001b[0m OV         Eat & Drink            \u001b[1;36m9376\u001b[0m   \n",
       "\u001b[1;36m12\u001b[0m       \u001b[1;36m23320.000\u001b[0m OV          Automotive            \u001b[1;36m9910\u001b[0m   \n",
       "\u001b[33m...\u001b[0m               \u001b[33m...\u001b[0m                 \u001b[33m...\u001b[0m             \u001b[33m...\u001b[0m   \n",
       "\u001b[1;36m19518\u001b[0m    \u001b[1;36m23320.000\u001b[0m OV  Things to see & do            \u001b[1;36m9362\u001b[0m   \n",
       "\u001b[1;36m19523\u001b[0m    \u001b[1;36m23320.000\u001b[0m OV           Amenities            \u001b[1;36m7328\u001b[0m   \n",
       "\u001b[1;36m19526\u001b[0m    \u001b[1;36m23320.000\u001b[0m OV             Lodging            \u001b[1;36m7360\u001b[0m   \n",
       "\u001b[1;36m19532\u001b[0m    \u001b[1;36m23320.000\u001b[0m OV  Things to see & do            \u001b[1;36m9357\u001b[0m   \n",
       "\u001b[1;36m19535\u001b[0m    \u001b[1;36m23320.000\u001b[0m OV  Things to see & do            \u001b[1;36m9357\u001b[0m   \n",
       "\n",
       "                  category_name  reference_translated_cat_id  \\\n",
       "\u001b[1;36m2\u001b[0m             Automotive Dealer                         \u001b[1;36m9910\u001b[0m   \n",
       "\u001b[1;36m3\u001b[0m                      Café/Pub                         \u001b[1;36m9376\u001b[0m   \n",
       "\u001b[1;36m5\u001b[0m                         Beach                         \u001b[1;36m9357\u001b[0m   \n",
       "\u001b[1;36m11\u001b[0m                     Café/Pub                         \u001b[1;36m9376\u001b[0m   \n",
       "\u001b[1;36m12\u001b[0m            Automotive Dealer                         \u001b[1;36m9910\u001b[0m   \n",
       "\u001b[33m...\u001b[0m                         \u001b[33m...\u001b[0m                          \u001b[33m...\u001b[0m   \n",
       "\u001b[1;36m19518\u001b[0m  Park and Recreation Area                         \u001b[1;36m9362\u001b[0m   \n",
       "\u001b[1;36m19523\u001b[0m                      Bank                         \u001b[1;36m7328\u001b[0m   \n",
       "\u001b[1;36m19526\u001b[0m            Camping Ground                         \u001b[1;36m7360\u001b[0m   \n",
       "\u001b[1;36m19532\u001b[0m                     Beach                         \u001b[1;36m9357\u001b[0m   \n",
       "\u001b[1;36m19535\u001b[0m                     Beach                         \u001b[1;36m9357\u001b[0m   \n",
       "\n",
       "                      reference_id    api_poi_id  providers_translated_cat_id  \\\n",
       "\u001b[1;36m2\u001b[0m      ChIJ3W8E5CrBz4URipUCDSXmFhA  \u001b[1;36m3.393684e+10\u001b[0m                       \u001b[1;36m7310.0\u001b[0m   \n",
       "\u001b[1;36m3\u001b[0m      ChIJ54VcVHuK2YURvKEcmE-C290  \u001b[1;36m3.398599e+10\u001b[0m                       \u001b[1;36m7315.0\u001b[0m   \n",
       "\u001b[1;36m5\u001b[0m      ChIJH7DqZYr414URTUf3jjOCJXw  \u001b[1;36m1.021585e+10\u001b[0m                       \u001b[1;36m9357.0\u001b[0m   \n",
       "\u001b[1;36m11\u001b[0m     ChIJVxwysZvELIQRpNPc9kU8Z_0  \u001b[1;36m3.400459e+10\u001b[0m                       \u001b[1;36m7315.0\u001b[0m   \n",
       "\u001b[1;36m12\u001b[0m     ChIJX7BDM4DAK4QRkX7UT6vS8lw  \u001b[1;36m3.395777e+10\u001b[0m                       \u001b[1;36m9910.0\u001b[0m   \n",
       "\u001b[33m...\u001b[0m                            \u001b[33m...\u001b[0m           \u001b[33m...\u001b[0m                          \u001b[33m...\u001b[0m   \n",
       "\u001b[1;36m19518\u001b[0m  ChIJW-KdHvNGIYQRMqixIdx1U60  \u001b[1;36m1.053229e+10\u001b[0m                       \u001b[1;36m9362.0\u001b[0m   \n",
       "\u001b[1;36m19523\u001b[0m  ChIJ2aMAqttpNg0RVxngOC1-VWo  \u001b[1;36m3.392415e+10\u001b[0m                       \u001b[1;36m7328.0\u001b[0m   \n",
       "\u001b[1;36m19526\u001b[0m  ChIJNwJYS9N9MQ0RR5FIbDmEiYs  \u001b[1;36m3.398923e+10\u001b[0m                       \u001b[1;36m7360.0\u001b[0m   \n",
       "\u001b[1;36m19532\u001b[0m  ChIJgyIbeDyruxIRKTnr1nkabJ0  \u001b[1;36m7.324229e+09\u001b[0m                       \u001b[1;36m8099.0\u001b[0m   \n",
       "\u001b[1;36m19535\u001b[0m  ChIJp9UOGTEXuxIRLZBjWWEQorA  \u001b[1;36m3.395966e+10\u001b[0m                       \u001b[1;36m7376.0\u001b[0m   \n",
       "\n",
       "         ref_lat     ref_lon  \u001b[33m...\u001b[0m  match_code  match  best_result bool_pa  \\\n",
       "\u001b[1;36m2\u001b[0m      \u001b[1;36m19.054592\u001b[0m  \u001b[1;36m-98.219340\u001b[0m  \u001b[33m...\u001b[0m           \u001b[1;36m2\u001b[0m  \u001b[3;91mFalse\u001b[0m         \u001b[3;92mTrue\u001b[0m     NaN   \n",
       "\u001b[1;36m3\u001b[0m      \u001b[1;36m20.945530\u001b[0m  \u001b[1;36m-97.389084\u001b[0m  \u001b[33m...\u001b[0m           \u001b[1;36m1\u001b[0m   \u001b[3;92mTrue\u001b[0m         \u001b[3;92mTrue\u001b[0m    \u001b[3;92mTrue\u001b[0m   \n",
       "\u001b[1;36m5\u001b[0m      \u001b[1;36m22.290174\u001b[0m  \u001b[1;36m-97.803566\u001b[0m  \u001b[33m...\u001b[0m           \u001b[1;36m1\u001b[0m   \u001b[3;92mTrue\u001b[0m         \u001b[3;92mTrue\u001b[0m   \u001b[3;91mFalse\u001b[0m   \n",
       "\u001b[1;36m11\u001b[0m     \u001b[1;36m20.213703\u001b[0m \u001b[1;36m-100.882120\u001b[0m  \u001b[33m...\u001b[0m           \u001b[1;36m2\u001b[0m  \u001b[3;91mFalse\u001b[0m         \u001b[3;92mTrue\u001b[0m     NaN   \n",
       "\u001b[1;36m12\u001b[0m     \u001b[1;36m21.117882\u001b[0m \u001b[1;36m-101.707825\u001b[0m  \u001b[33m...\u001b[0m           \u001b[1;36m1\u001b[0m   \u001b[3;92mTrue\u001b[0m         \u001b[3;92mTrue\u001b[0m    \u001b[3;92mTrue\u001b[0m   \n",
       "\u001b[33m...\u001b[0m          \u001b[33m...\u001b[0m         \u001b[33m...\u001b[0m  \u001b[33m...\u001b[0m         \u001b[33m...\u001b[0m    \u001b[33m...\u001b[0m          \u001b[33m...\u001b[0m     \u001b[33m...\u001b[0m   \n",
       "\u001b[1;36m19518\u001b[0m  \u001b[1;36m20.714619\u001b[0m \u001b[1;36m-105.274820\u001b[0m  \u001b[33m...\u001b[0m           \u001b[1;36m1\u001b[0m   \u001b[3;92mTrue\u001b[0m         \u001b[3;92mTrue\u001b[0m    \u001b[3;92mTrue\u001b[0m   \n",
       "\u001b[1;36m19523\u001b[0m  \u001b[1;36m43.358700\u001b[0m   \u001b[1;36m-5.506369\u001b[0m  \u001b[33m...\u001b[0m           \u001b[1;36m1\u001b[0m   \u001b[3;92mTrue\u001b[0m         \u001b[3;92mTrue\u001b[0m    \u001b[3;92mTrue\u001b[0m   \n",
       "\u001b[1;36m19526\u001b[0m  \u001b[1;36m43.545910\u001b[0m   \u001b[1;36m-6.995946\u001b[0m  \u001b[33m...\u001b[0m           \u001b[1;36m1\u001b[0m   \u001b[3;92mTrue\u001b[0m         \u001b[3;92mTrue\u001b[0m    \u001b[3;92mTrue\u001b[0m   \n",
       "\u001b[1;36m19532\u001b[0m  \u001b[1;36m41.861630\u001b[0m    \u001b[1;36m3.150960\u001b[0m  \u001b[33m...\u001b[0m           \u001b[1;36m1\u001b[0m   \u001b[3;92mTrue\u001b[0m         \u001b[3;92mTrue\u001b[0m   \u001b[3;91mFalse\u001b[0m   \n",
       "\u001b[1;36m19535\u001b[0m  \u001b[1;36m41.699074\u001b[0m    \u001b[1;36m2.850678\u001b[0m  \u001b[33m...\u001b[0m           \u001b[1;36m1\u001b[0m   \u001b[3;92mTrue\u001b[0m         \u001b[3;92mTrue\u001b[0m    \u001b[3;92mTrue\u001b[0m   \n",
       "\n",
       "      config_params region    matching_run_id provider_id country sample_round  \n",
       "\u001b[1;36m2\u001b[0m               NaN    NaN  \u001b[1;36m20230814\u001b[0m-\u001b[1;36m06094864\u001b[0m          om     MEX           cc  \n",
       "\u001b[1;36m3\u001b[0m               NaN    NaN  \u001b[1;36m20230814\u001b[0m-\u001b[1;36m06094864\u001b[0m          om     MEX           cc  \n",
       "\u001b[1;36m5\u001b[0m               NaN    NaN  \u001b[1;36m20230814\u001b[0m-\u001b[1;36m06094864\u001b[0m          om     MEX           cc  \n",
       "\u001b[1;36m11\u001b[0m              NaN    NaN  \u001b[1;36m20230814\u001b[0m-\u001b[1;36m06094864\u001b[0m          om     MEX           cc  \n",
       "\u001b[1;36m12\u001b[0m              NaN    NaN  \u001b[1;36m20230814\u001b[0m-\u001b[1;36m06094864\u001b[0m          om     MEX           cc  \n",
       "\u001b[33m...\u001b[0m             \u001b[33m...\u001b[0m    \u001b[33m...\u001b[0m                \u001b[33m...\u001b[0m         \u001b[33m...\u001b[0m     \u001b[33m...\u001b[0m          \u001b[33m...\u001b[0m  \n",
       "\u001b[1;36m19518\u001b[0m           NaN    NaN  \u001b[1;36m20230814\u001b[0m-\u001b[1;36m06094864\u001b[0m          om     MEX           cc  \n",
       "\u001b[1;36m19523\u001b[0m           NaN    NaN  \u001b[1;36m20230814\u001b[0m-\u001b[1;36m06094864\u001b[0m          om     ESP           cc  \n",
       "\u001b[1;36m19526\u001b[0m           NaN    NaN  \u001b[1;36m20230814\u001b[0m-\u001b[1;36m06094864\u001b[0m          om     ESP           cc  \n",
       "\u001b[1;36m19532\u001b[0m           NaN    NaN  \u001b[1;36m20230814\u001b[0m-\u001b[1;36m06094864\u001b[0m          om     ESP           cc  \n",
       "\u001b[1;36m19535\u001b[0m           NaN    NaN  \u001b[1;36m20230814\u001b[0m-\u001b[1;36m06094864\u001b[0m          om     ESP           cc  \n",
       "\n",
       "\u001b[1m[\u001b[0m\u001b[1;36m10313\u001b[0m rows x \u001b[1;36m32\u001b[0m columns\u001b[1m]\u001b[0m"
      ]
     },
     "execution_count": 108,
     "metadata": {},
     "output_type": "execute_result"
    }
   ],
   "source": [
    "matching_names"
   ]
  },
  {
   "cell_type": "code",
   "execution_count": 109,
   "id": "315b5cf4-4ed7-4cb7-a131-9d2e0a4d96a7",
   "metadata": {},
   "outputs": [],
   "source": [
    "matching_test_names = matching_names[['name', 'api_poiName']].values"
   ]
  },
  {
   "cell_type": "code",
   "execution_count": 110,
   "id": "bf1e608c-b0a4-401a-aeff-fcdaf1cbbeed",
   "metadata": {},
   "outputs": [],
   "source": [
    "matching_test_names_encoded_left = encode_sparsed_list(matching_test_names[:, 0],char_to_index_dict=char_to_index, max_len=MAX_NAME_LEN)\n",
    "matching_test_names_encoded_right = encode_sparsed_list(matching_test_names[:, 1],char_to_index_dict=char_to_index, max_len=MAX_NAME_LEN)"
   ]
  },
  {
   "cell_type": "code",
   "execution_count": 111,
   "id": "c1b23e22-8d62-488e-bfe2-d453c3d507dd",
   "metadata": {},
   "outputs": [
    {
     "name": "stdout",
     "output_type": "stream",
     "text": [
      "323/323 [==============================] - 45s 139ms/step\n"
     ]
    }
   ],
   "source": [
    "matching_test_names_prediction = poi_c2v.model.predict((matching_test_names_encoded_left, matching_test_names_encoded_right))"
   ]
  },
  {
   "cell_type": "code",
   "execution_count": 112,
   "id": "e38c67dd-7b58-416a-8fa2-06dd7c904a1b",
   "metadata": {},
   "outputs": [],
   "source": [
    "matching_names['cnn_name_match_score'] = matching_test_names_prediction"
   ]
  },
  {
   "cell_type": "code",
   "execution_count": 113,
   "id": "60c6ef26-4671-461f-89bb-9f8caed27ec3",
   "metadata": {},
   "outputs": [],
   "source": [
    "matching_names['edit_distance_match'] = matching_names['name_matching']>=0.75\n",
    "matching_names['cnn_match'] = matching_names['cnn_name_match_score']>=0.5"
   ]
  },
  {
   "cell_type": "code",
   "execution_count": 114,
   "id": "91ccd301-36c0-41dd-b0d4-4c07cb32d06f",
   "metadata": {},
   "outputs": [
    {
     "data": {
      "text/html": [
       "<pre style=\"white-space:pre;overflow-x:auto;line-height:normal;font-family:Menlo,'DejaVu Sans Mono',consolas,'Courier New',monospace\"></pre>\n"
      ],
      "text/plain": []
     },
     "metadata": {},
     "output_type": "display_data"
    },
    {
     "data": {
      "text/html": [
       "<div>\n",
       "<style scoped>\n",
       "    .dataframe tbody tr th:only-of-type {\n",
       "        vertical-align: middle;\n",
       "    }\n",
       "\n",
       "    .dataframe tbody tr th {\n",
       "        vertical-align: top;\n",
       "    }\n",
       "\n",
       "    .dataframe thead th {\n",
       "        text-align: right;\n",
       "    }\n",
       "</style>\n",
       "<table border=\"1\" class=\"dataframe\">\n",
       "  <thead>\n",
       "    <tr style=\"text-align: right;\">\n",
       "      <th>cnn_match</th>\n",
       "      <th>False</th>\n",
       "      <th>True</th>\n",
       "    </tr>\n",
       "    <tr>\n",
       "      <th>edit_distance_match</th>\n",
       "      <th></th>\n",
       "      <th></th>\n",
       "    </tr>\n",
       "  </thead>\n",
       "  <tbody>\n",
       "    <tr>\n",
       "      <th>False</th>\n",
       "      <td>196</td>\n",
       "      <td>12</td>\n",
       "    </tr>\n",
       "    <tr>\n",
       "      <th>True</th>\n",
       "      <td>1201</td>\n",
       "      <td>8904</td>\n",
       "    </tr>\n",
       "  </tbody>\n",
       "</table>\n",
       "</div>"
      ],
      "text/plain": [
       "\n",
       "cnn_match            \u001b[3;91mFalse\u001b[0m  \u001b[3;92mTrue\u001b[0m \n",
       "edit_distance_match              \n",
       "\u001b[3;91mFalse\u001b[0m                  \u001b[1;36m196\u001b[0m     \u001b[1;36m12\u001b[0m\n",
       "\u001b[3;92mTrue\u001b[0m                  \u001b[1;36m1201\u001b[0m   \u001b[1;36m8904\u001b[0m"
      ]
     },
     "execution_count": 114,
     "metadata": {},
     "output_type": "execute_result"
    }
   ],
   "source": [
    "pd.crosstab(matching_names['edit_distance_match'], matching_names['cnn_match'])"
   ]
  },
  {
   "cell_type": "code",
   "execution_count": 115,
   "id": "0a6b02f2-1659-4c07-8d11-b0a9e2fd69e4",
   "metadata": {},
   "outputs": [],
   "source": [
    "matching_names[['category_name', 'name', 'api_poiName','api_poiBrand', 'name_ref_nrm', 'name_prov_nrm', 'location_distance_m', 'match','match_code', 'cnn_match', 'edit_distance_match', 'name_matching', 'cnn_name_match_score']].to_csv('name_matching_comparison_cnn_vs_edit.csv', index=False)"
   ]
  },
  {
   "cell_type": "code",
   "execution_count": 219,
   "id": "73cc7078-8da4-4658-9cc7-adf6e6bbf2b2",
   "metadata": {},
   "outputs": [
    {
     "data": {
      "text/html": [
       "<pre style=\"white-space:pre;overflow-x:auto;line-height:normal;font-family:Menlo,'DejaVu Sans Mono',consolas,'Courier New',monospace\"></pre>\n"
      ],
      "text/plain": []
     },
     "metadata": {},
     "output_type": "display_data"
    },
    {
     "data": {
      "text/plain": [
       "\n",
       "\u001b[1m(\u001b[0m\n",
       "    \u001b[1;35marray\u001b[0m\u001b[1m(\u001b[0m\u001b[1m[\u001b[0m  \u001b[1;36m53\u001b[0m.,   \u001b[1;36m75\u001b[0m.,  \u001b[1;36m100\u001b[0m.,   \u001b[1;36m76\u001b[0m.,   \u001b[1;36m36\u001b[0m.,   \u001b[1;36m47\u001b[0m.,  \u001b[1;36m142\u001b[0m.,  \u001b[1;36m302\u001b[0m.,  \u001b[1;36m407\u001b[0m.,\n",
       "       \u001b[1;36m9075\u001b[0m.\u001b[1m]\u001b[0m\u001b[1m)\u001b[0m,\n",
       "    \u001b[1;35marray\u001b[0m\u001b[1m(\u001b[0m\u001b[1m[\u001b[0m\u001b[1;36m5.56590210e-04\u001b[0m, \u001b[1;36m1.00500919e-01\u001b[0m, \u001b[1;36m2.00445250e-01\u001b[0m, \u001b[1;36m3.00389588e-01\u001b[0m,\n",
       "       \u001b[1;36m4.00333911e-01\u001b[0m, \u001b[1;36m5.00278234e-01\u001b[0m, \u001b[1;36m6.00222588e-01\u001b[0m, \u001b[1;36m7.00166881e-01\u001b[0m,\n",
       "       \u001b[1;36m8.00111234e-01\u001b[0m, \u001b[1;36m9.00055528e-01\u001b[0m, \u001b[1;36m9.99999881e-01\u001b[0m\u001b[1m]\u001b[0m\u001b[1m)\u001b[0m,\n",
       "    \u001b[1m<\u001b[0m\u001b[1;95mBarContainer\u001b[0m\u001b[39m object of \u001b[0m\u001b[1;36m10\u001b[0m\u001b[39m artists\u001b[0m\u001b[1m>\u001b[0m\n",
       "\u001b[1m)\u001b[0m"
      ]
     },
     "execution_count": 219,
     "metadata": {},
     "output_type": "execute_result"
    },
    {
     "data": {
      "text/html": [
       "<pre style=\"white-space:pre;overflow-x:auto;line-height:normal;font-family:Menlo,'DejaVu Sans Mono',consolas,'Courier New',monospace\"></pre>\n"
      ],
      "text/plain": []
     },
     "metadata": {},
     "output_type": "display_data"
    },
    {
     "data": {
      "image/png": "[encoded data removed]",
      "text/plain": [
       "\u001b[1m<\u001b[0m\u001b[1;95mFigure\u001b[0m\u001b[39m size 64\u001b[0m\u001b[1;36m0x480\u001b[0m\u001b[39m with \u001b[0m\u001b[1;36m1\u001b[0m\u001b[39m Axes\u001b[0m\u001b[1m>\u001b[0m"
      ]
     },
     "metadata": {},
     "output_type": "display_data"
    }
   ],
   "source": [
    "plt.hist(matching_test_names_prediction)"
   ]
  },
  {
   "cell_type": "markdown",
   "id": "aa176c71-8cf1-4766-86fe-8966dc5b3b5c",
   "metadata": {},
   "source": [
    "# Orbis data comparison"
   ]
  },
  {
   "cell_type": "code",
   "execution_count": 117,
   "id": "7ba62dea-5a15-42d7-9134-c4fc8879b56e",
   "metadata": {},
   "outputs": [],
   "source": [
    "def generate_comparison_model_vs_edit(pairs, target, match_th, ):\n",
    "    X_encoded_1 = encode_sparsed_list(pairs[:, 0],char_to_index_dict=char_to_index, max_len=MAX_NAME_LEN)\n",
    "    X_encoded_2 = encode_sparsed_list(pairs[:, 1],char_to_index_dict=char_to_index, max_len=MAX_NAME_LEN)\n",
    "    \n",
    "    prediction = poi_c2v.model.predict((X_encoded_1, X_encoded_2))\n",
    "    prediction_edit = np.array([fuzz.token_set_ratio(name1, name2)/100 for name1, name2 in pairs])\n",
    "    \n",
    "    y_pred = prediction>match_th\n",
    "    y_pred = y_pred.flatten()\n",
    "    y_pred_edit = prediction_edit>.75\n",
    "    y_pred_edit = y_pred_edit.flatten()\n",
    "    target = target.astype(np.bool).flatten()\n",
    "\n",
    "    \n",
    "    print('confussion matrix model')\n",
    "    print(pd.crosstab(target, y_pred))\n",
    "    print('\\n confussion matrix edit')\n",
    "    print(pd.crosstab(target, y_pred_edit))\n",
    "    \n",
    "    print('/n/n Classification report model')\n",
    "    print(classification_report((target>=.5).flatten(), y_pred))\n",
    "    print('/n Classification report edit')\n",
    "    print(classification_report((target>=.5).flatten(), y_pred_edit))"
   ]
  },
  {
   "cell_type": "code",
   "execution_count": 118,
   "id": "8b05c345-a143-411a-a047-426e7bf7c5d4",
   "metadata": {},
   "outputs": [
    {
     "name": "stdout",
     "output_type": "stream",
     "text": [
      "  42/9964 [..............................] - ETA: 23:11"
     ]
    },
    {
     "data": {
      "text/html": [
       "<pre style=\"white-space:pre;overflow-x:auto;line-height:normal;font-family:Menlo,'DejaVu Sans Mono',consolas,'Courier New',monospace\"><span style=\"color: #800000; text-decoration-color: #800000\">╭─────────────────────────────── </span><span style=\"color: #800000; text-decoration-color: #800000; font-weight: bold\">Traceback </span><span style=\"color: #bf7f7f; text-decoration-color: #bf7f7f; font-weight: bold\">(most recent call last)</span><span style=\"color: #800000; text-decoration-color: #800000\"> ────────────────────────────────╮</span>\n",
       "<span style=\"color: #800000; text-decoration-color: #800000\">│</span> in <span style=\"color: #00ff00; text-decoration-color: #00ff00\">&lt;cell line: 1&gt;</span>:<span style=\"color: #0000ff; text-decoration-color: #0000ff\">1</span>                                                                              <span style=\"color: #800000; text-decoration-color: #800000\">│</span>\n",
       "<span style=\"color: #800000; text-decoration-color: #800000\">│</span>                                                                                                  <span style=\"color: #800000; text-decoration-color: #800000\">│</span>\n",
       "<span style=\"color: #800000; text-decoration-color: #800000\">│</span> <span style=\"color: #800000; text-decoration-color: #800000\">❱ </span>1 generate_comparison_model_vs_edit(name_pairs_orbis, target_orbis, <span style=\"color: #0000ff; text-decoration-color: #0000ff\">0.5</span>)                       <span style=\"color: #800000; text-decoration-color: #800000\">│</span>\n",
       "<span style=\"color: #800000; text-decoration-color: #800000\">│</span>   <span style=\"color: #7f7f7f; text-decoration-color: #7f7f7f\">2 </span>                                                                                             <span style=\"color: #800000; text-decoration-color: #800000\">│</span>\n",
       "<span style=\"color: #800000; text-decoration-color: #800000\">│</span>                                                                                                  <span style=\"color: #800000; text-decoration-color: #800000\">│</span>\n",
       "<span style=\"color: #800000; text-decoration-color: #800000\">│</span> in <span style=\"color: #00ff00; text-decoration-color: #00ff00\">generate_comparison_model_vs_edit</span>:<span style=\"color: #0000ff; text-decoration-color: #0000ff\">5</span>                                                           <span style=\"color: #800000; text-decoration-color: #800000\">│</span>\n",
       "<span style=\"color: #800000; text-decoration-color: #800000\">│</span>                                                                                                  <span style=\"color: #800000; text-decoration-color: #800000\">│</span>\n",
       "<span style=\"color: #800000; text-decoration-color: #800000\">│</span>   <span style=\"color: #7f7f7f; text-decoration-color: #7f7f7f\"> 2 </span><span style=\"color: #7f7f7f; text-decoration-color: #7f7f7f\">│   </span>X_encoded_1 = encode_sparsed_list(pairs[:, <span style=\"color: #0000ff; text-decoration-color: #0000ff\">0</span>],char_to_index_dict=char_to_index, max_    <span style=\"color: #800000; text-decoration-color: #800000\">│</span>\n",
       "<span style=\"color: #800000; text-decoration-color: #800000\">│</span>   <span style=\"color: #7f7f7f; text-decoration-color: #7f7f7f\"> 3 </span><span style=\"color: #7f7f7f; text-decoration-color: #7f7f7f\">│   </span>X_encoded_2 = encode_sparsed_list(pairs[:, <span style=\"color: #0000ff; text-decoration-color: #0000ff\">1</span>],char_to_index_dict=char_to_index, max_    <span style=\"color: #800000; text-decoration-color: #800000\">│</span>\n",
       "<span style=\"color: #800000; text-decoration-color: #800000\">│</span>   <span style=\"color: #7f7f7f; text-decoration-color: #7f7f7f\"> 4 </span><span style=\"color: #7f7f7f; text-decoration-color: #7f7f7f\">│   </span>                                                                                        <span style=\"color: #800000; text-decoration-color: #800000\">│</span>\n",
       "<span style=\"color: #800000; text-decoration-color: #800000\">│</span> <span style=\"color: #800000; text-decoration-color: #800000\">❱ </span> 5 <span style=\"color: #7f7f7f; text-decoration-color: #7f7f7f\">│   </span>prediction = poi_c2v.model.predict((X_encoded_1, X_encoded_2))                          <span style=\"color: #800000; text-decoration-color: #800000\">│</span>\n",
       "<span style=\"color: #800000; text-decoration-color: #800000\">│</span>   <span style=\"color: #7f7f7f; text-decoration-color: #7f7f7f\"> 6 </span><span style=\"color: #7f7f7f; text-decoration-color: #7f7f7f\">│   </span>prediction_edit = np.array([fuzz.token_set_ratio(name1, name2)/<span style=\"color: #0000ff; text-decoration-color: #0000ff\">100</span> <span style=\"color: #0000ff; text-decoration-color: #0000ff\">for</span> name1, name2     <span style=\"color: #800000; text-decoration-color: #800000\">│</span>\n",
       "<span style=\"color: #800000; text-decoration-color: #800000\">│</span>   <span style=\"color: #7f7f7f; text-decoration-color: #7f7f7f\"> 7 </span><span style=\"color: #7f7f7f; text-decoration-color: #7f7f7f\">│   </span>                                                                                        <span style=\"color: #800000; text-decoration-color: #800000\">│</span>\n",
       "<span style=\"color: #800000; text-decoration-color: #800000\">│</span>   <span style=\"color: #7f7f7f; text-decoration-color: #7f7f7f\"> 8 </span><span style=\"color: #7f7f7f; text-decoration-color: #7f7f7f\">│   </span>y_pred = prediction&gt;match_th                                                            <span style=\"color: #800000; text-decoration-color: #800000\">│</span>\n",
       "<span style=\"color: #800000; text-decoration-color: #800000\">│</span>                                                                                                  <span style=\"color: #800000; text-decoration-color: #800000\">│</span>\n",
       "<span style=\"color: #800000; text-decoration-color: #800000\">│</span> <span style=\"color: #bfbf7f; text-decoration-color: #bfbf7f\">/usr/local/lib/python3.9/dist-packages/keras/utils/</span><span style=\"color: #808000; text-decoration-color: #808000; font-weight: bold\">traceback_utils.py</span>:<span style=\"color: #0000ff; text-decoration-color: #0000ff\">65</span> in <span style=\"color: #00ff00; text-decoration-color: #00ff00\">error_handler</span>        <span style=\"color: #800000; text-decoration-color: #800000\">│</span>\n",
       "<span style=\"color: #800000; text-decoration-color: #800000\">│</span>                                                                                                  <span style=\"color: #800000; text-decoration-color: #800000\">│</span>\n",
       "<span style=\"color: #800000; text-decoration-color: #800000\">│</span>   <span style=\"color: #7f7f7f; text-decoration-color: #7f7f7f\"> 62 </span><span style=\"color: #7f7f7f; text-decoration-color: #7f7f7f\">│   │   </span>                                                                                   <span style=\"color: #800000; text-decoration-color: #800000\">│</span>\n",
       "<span style=\"color: #800000; text-decoration-color: #800000\">│</span>   <span style=\"color: #7f7f7f; text-decoration-color: #7f7f7f\"> 63 </span><span style=\"color: #7f7f7f; text-decoration-color: #7f7f7f\">│   │   </span>filtered_tb = <span style=\"color: #0000ff; text-decoration-color: #0000ff\">None</span>                                                                 <span style=\"color: #800000; text-decoration-color: #800000\">│</span>\n",
       "<span style=\"color: #800000; text-decoration-color: #800000\">│</span>   <span style=\"color: #7f7f7f; text-decoration-color: #7f7f7f\"> 64 </span><span style=\"color: #7f7f7f; text-decoration-color: #7f7f7f\">│   │   </span><span style=\"color: #0000ff; text-decoration-color: #0000ff\">try</span>:                                                                               <span style=\"color: #800000; text-decoration-color: #800000\">│</span>\n",
       "<span style=\"color: #800000; text-decoration-color: #800000\">│</span> <span style=\"color: #800000; text-decoration-color: #800000\">❱ </span> 65 <span style=\"color: #7f7f7f; text-decoration-color: #7f7f7f\">│   │   │   </span><span style=\"color: #0000ff; text-decoration-color: #0000ff\">return</span> fn(*args, **kwargs)                                                     <span style=\"color: #800000; text-decoration-color: #800000\">│</span>\n",
       "<span style=\"color: #800000; text-decoration-color: #800000\">│</span>   <span style=\"color: #7f7f7f; text-decoration-color: #7f7f7f\"> 66 </span><span style=\"color: #7f7f7f; text-decoration-color: #7f7f7f\">│   │   </span><span style=\"color: #0000ff; text-decoration-color: #0000ff\">except</span> <span style=\"color: #00ffff; text-decoration-color: #00ffff\">Exception</span> <span style=\"color: #0000ff; text-decoration-color: #0000ff\">as</span> e:                                                             <span style=\"color: #800000; text-decoration-color: #800000\">│</span>\n",
       "<span style=\"color: #800000; text-decoration-color: #800000\">│</span>   <span style=\"color: #7f7f7f; text-decoration-color: #7f7f7f\"> 67 </span><span style=\"color: #7f7f7f; text-decoration-color: #7f7f7f\">│   │   │   </span>filtered_tb = _process_traceback_frames(e.__traceback__)                       <span style=\"color: #800000; text-decoration-color: #800000\">│</span>\n",
       "<span style=\"color: #800000; text-decoration-color: #800000\">│</span>   <span style=\"color: #7f7f7f; text-decoration-color: #7f7f7f\"> 68 </span><span style=\"color: #7f7f7f; text-decoration-color: #7f7f7f\">│   │   │   </span><span style=\"color: #7f7f7f; text-decoration-color: #7f7f7f\"># To get the full stack trace, call:</span>                                           <span style=\"color: #800000; text-decoration-color: #800000\">│</span>\n",
       "<span style=\"color: #800000; text-decoration-color: #800000\">│</span>                                                                                                  <span style=\"color: #800000; text-decoration-color: #800000\">│</span>\n",
       "<span style=\"color: #800000; text-decoration-color: #800000\">│</span> <span style=\"color: #bfbf7f; text-decoration-color: #bfbf7f\">/usr/local/lib/python3.9/dist-packages/keras/engine/</span><span style=\"color: #808000; text-decoration-color: #808000; font-weight: bold\">training.py</span>:<span style=\"color: #0000ff; text-decoration-color: #0000ff\">2350</span> in <span style=\"color: #00ff00; text-decoration-color: #00ff00\">predict</span>                  <span style=\"color: #800000; text-decoration-color: #800000\">│</span>\n",
       "<span style=\"color: #800000; text-decoration-color: #800000\">│</span>                                                                                                  <span style=\"color: #800000; text-decoration-color: #800000\">│</span>\n",
       "<span style=\"color: #800000; text-decoration-color: #800000\">│</span>   <span style=\"color: #7f7f7f; text-decoration-color: #7f7f7f\">2347 </span><span style=\"color: #7f7f7f; text-decoration-color: #7f7f7f\">│   │   │   │   </span><span style=\"color: #0000ff; text-decoration-color: #0000ff\">with</span> data_handler.catch_stop_iteration():                                 <span style=\"color: #800000; text-decoration-color: #800000\">│</span>\n",
       "<span style=\"color: #800000; text-decoration-color: #800000\">│</span>   <span style=\"color: #7f7f7f; text-decoration-color: #7f7f7f\">2348 </span><span style=\"color: #7f7f7f; text-decoration-color: #7f7f7f\">│   │   │   │   │   </span><span style=\"color: #0000ff; text-decoration-color: #0000ff\">for</span> step <span style=\"color: #ff00ff; text-decoration-color: #ff00ff\">in</span> data_handler.steps():                                     <span style=\"color: #800000; text-decoration-color: #800000\">│</span>\n",
       "<span style=\"color: #800000; text-decoration-color: #800000\">│</span>   <span style=\"color: #7f7f7f; text-decoration-color: #7f7f7f\">2349 </span><span style=\"color: #7f7f7f; text-decoration-color: #7f7f7f\">│   │   │   │   │   │   </span>callbacks.on_predict_batch_begin(step)                            <span style=\"color: #800000; text-decoration-color: #800000\">│</span>\n",
       "<span style=\"color: #800000; text-decoration-color: #800000\">│</span> <span style=\"color: #800000; text-decoration-color: #800000\">❱ </span>2350 <span style=\"color: #7f7f7f; text-decoration-color: #7f7f7f\">│   │   │   │   │   │   </span>tmp_batch_outputs = <span style=\"color: #00ffff; text-decoration-color: #00ffff\">self</span>.predict_function(iterator)               <span style=\"color: #800000; text-decoration-color: #800000\">│</span>\n",
       "<span style=\"color: #800000; text-decoration-color: #800000\">│</span>   <span style=\"color: #7f7f7f; text-decoration-color: #7f7f7f\">2351 </span><span style=\"color: #7f7f7f; text-decoration-color: #7f7f7f\">│   │   │   │   │   │   </span><span style=\"color: #0000ff; text-decoration-color: #0000ff\">if</span> data_handler.should_sync:                                      <span style=\"color: #800000; text-decoration-color: #800000\">│</span>\n",
       "<span style=\"color: #800000; text-decoration-color: #800000\">│</span>   <span style=\"color: #7f7f7f; text-decoration-color: #7f7f7f\">2352 </span><span style=\"color: #7f7f7f; text-decoration-color: #7f7f7f\">│   │   │   │   │   │   │   </span>context.async_wait()                                          <span style=\"color: #800000; text-decoration-color: #800000\">│</span>\n",
       "<span style=\"color: #800000; text-decoration-color: #800000\">│</span>   <span style=\"color: #7f7f7f; text-decoration-color: #7f7f7f\">2353 </span><span style=\"color: #7f7f7f; text-decoration-color: #7f7f7f\">│   │   │   │   │   │   </span>batch_outputs = (                                                 <span style=\"color: #800000; text-decoration-color: #800000\">│</span>\n",
       "<span style=\"color: #800000; text-decoration-color: #800000\">│</span>                                                                                                  <span style=\"color: #800000; text-decoration-color: #800000\">│</span>\n",
       "<span style=\"color: #800000; text-decoration-color: #800000\">│</span> <span style=\"color: #bfbf7f; text-decoration-color: #bfbf7f\">/usr/local/lib/python3.9/dist-packages/tensorflow/python/util/</span><span style=\"color: #808000; text-decoration-color: #808000; font-weight: bold\">traceback_utils.py</span>:<span style=\"color: #0000ff; text-decoration-color: #0000ff\">150</span> in          <span style=\"color: #800000; text-decoration-color: #800000\">│</span>\n",
       "<span style=\"color: #800000; text-decoration-color: #800000\">│</span> <span style=\"color: #00ff00; text-decoration-color: #00ff00\">error_handler</span>                                                                                    <span style=\"color: #800000; text-decoration-color: #800000\">│</span>\n",
       "<span style=\"color: #800000; text-decoration-color: #800000\">│</span>                                                                                                  <span style=\"color: #800000; text-decoration-color: #800000\">│</span>\n",
       "<span style=\"color: #800000; text-decoration-color: #800000\">│</span>   <span style=\"color: #7f7f7f; text-decoration-color: #7f7f7f\">147 </span><span style=\"color: #7f7f7f; text-decoration-color: #7f7f7f\">│   </span>                                                                                       <span style=\"color: #800000; text-decoration-color: #800000\">│</span>\n",
       "<span style=\"color: #800000; text-decoration-color: #800000\">│</span>   <span style=\"color: #7f7f7f; text-decoration-color: #7f7f7f\">148 </span><span style=\"color: #7f7f7f; text-decoration-color: #7f7f7f\">│   </span>filtered_tb = <span style=\"color: #0000ff; text-decoration-color: #0000ff\">None</span>                                                                     <span style=\"color: #800000; text-decoration-color: #800000\">│</span>\n",
       "<span style=\"color: #800000; text-decoration-color: #800000\">│</span>   <span style=\"color: #7f7f7f; text-decoration-color: #7f7f7f\">149 </span><span style=\"color: #7f7f7f; text-decoration-color: #7f7f7f\">│   </span><span style=\"color: #0000ff; text-decoration-color: #0000ff\">try</span>:                                                                                   <span style=\"color: #800000; text-decoration-color: #800000\">│</span>\n",
       "<span style=\"color: #800000; text-decoration-color: #800000\">│</span> <span style=\"color: #800000; text-decoration-color: #800000\">❱ </span>150 <span style=\"color: #7f7f7f; text-decoration-color: #7f7f7f\">│     </span><span style=\"color: #0000ff; text-decoration-color: #0000ff\">return</span> fn(*args, **kwargs)                                                           <span style=\"color: #800000; text-decoration-color: #800000\">│</span>\n",
       "<span style=\"color: #800000; text-decoration-color: #800000\">│</span>   <span style=\"color: #7f7f7f; text-decoration-color: #7f7f7f\">151 </span><span style=\"color: #7f7f7f; text-decoration-color: #7f7f7f\">│   </span><span style=\"color: #0000ff; text-decoration-color: #0000ff\">except</span> <span style=\"color: #00ffff; text-decoration-color: #00ffff\">Exception</span> <span style=\"color: #0000ff; text-decoration-color: #0000ff\">as</span> e:                                                                 <span style=\"color: #800000; text-decoration-color: #800000\">│</span>\n",
       "<span style=\"color: #800000; text-decoration-color: #800000\">│</span>   <span style=\"color: #7f7f7f; text-decoration-color: #7f7f7f\">152 </span><span style=\"color: #7f7f7f; text-decoration-color: #7f7f7f\">│     </span>filtered_tb = _process_traceback_frames(e.__traceback__)                             <span style=\"color: #800000; text-decoration-color: #800000\">│</span>\n",
       "<span style=\"color: #800000; text-decoration-color: #800000\">│</span>   <span style=\"color: #7f7f7f; text-decoration-color: #7f7f7f\">153 </span><span style=\"color: #7f7f7f; text-decoration-color: #7f7f7f\">│     </span><span style=\"color: #0000ff; text-decoration-color: #0000ff\">raise</span> e.with_traceback(filtered_tb) <span style=\"color: #0000ff; text-decoration-color: #0000ff\">from</span> <span style=\"color: #0000ff; text-decoration-color: #0000ff\">None</span>                                        <span style=\"color: #800000; text-decoration-color: #800000\">│</span>\n",
       "<span style=\"color: #800000; text-decoration-color: #800000\">│</span>                                                                                                  <span style=\"color: #800000; text-decoration-color: #800000\">│</span>\n",
       "<span style=\"color: #800000; text-decoration-color: #800000\">│</span> <span style=\"color: #bfbf7f; text-decoration-color: #bfbf7f\">/usr/local/lib/python3.9/dist-packages/tensorflow/python/eager/polymorphic_function/</span><span style=\"color: #808000; text-decoration-color: #808000; font-weight: bold\">polymorphic_</span> <span style=\"color: #800000; text-decoration-color: #800000\">│</span>\n",
       "<span style=\"color: #800000; text-decoration-color: #800000\">│</span> <span style=\"color: #808000; text-decoration-color: #808000; font-weight: bold\">function.py</span>:<span style=\"color: #0000ff; text-decoration-color: #0000ff\">880</span> in <span style=\"color: #00ff00; text-decoration-color: #00ff00\">__call__</span>                                                                      <span style=\"color: #800000; text-decoration-color: #800000\">│</span>\n",
       "<span style=\"color: #800000; text-decoration-color: #800000\">│</span>                                                                                                  <span style=\"color: #800000; text-decoration-color: #800000\">│</span>\n",
       "<span style=\"color: #800000; text-decoration-color: #800000\">│</span>   <span style=\"color: #7f7f7f; text-decoration-color: #7f7f7f\"> 877 </span><span style=\"color: #7f7f7f; text-decoration-color: #7f7f7f\">│     </span>compiler = <span style=\"color: #808000; text-decoration-color: #808000\">\"xla\"</span> <span style=\"color: #0000ff; text-decoration-color: #0000ff\">if</span> <span style=\"color: #00ffff; text-decoration-color: #00ffff\">self</span>._jit_compile <span style=\"color: #0000ff; text-decoration-color: #0000ff\">else</span> <span style=\"color: #808000; text-decoration-color: #808000\">\"nonXla\"</span>                                 <span style=\"color: #800000; text-decoration-color: #800000\">│</span>\n",
       "<span style=\"color: #800000; text-decoration-color: #800000\">│</span>   <span style=\"color: #7f7f7f; text-decoration-color: #7f7f7f\"> 878 </span><span style=\"color: #7f7f7f; text-decoration-color: #7f7f7f\">│     </span>                                                                                    <span style=\"color: #800000; text-decoration-color: #800000\">│</span>\n",
       "<span style=\"color: #800000; text-decoration-color: #800000\">│</span>   <span style=\"color: #7f7f7f; text-decoration-color: #7f7f7f\"> 879 </span><span style=\"color: #7f7f7f; text-decoration-color: #7f7f7f\">│     </span><span style=\"color: #0000ff; text-decoration-color: #0000ff\">with</span> OptionalXlaContext(<span style=\"color: #00ffff; text-decoration-color: #00ffff\">self</span>._jit_compile):                                         <span style=\"color: #800000; text-decoration-color: #800000\">│</span>\n",
       "<span style=\"color: #800000; text-decoration-color: #800000\">│</span> <span style=\"color: #800000; text-decoration-color: #800000\">❱ </span> 880 <span style=\"color: #7f7f7f; text-decoration-color: #7f7f7f\">│   │   </span>result = <span style=\"color: #00ffff; text-decoration-color: #00ffff\">self</span>._call(*args, **kwds)                                                <span style=\"color: #800000; text-decoration-color: #800000\">│</span>\n",
       "<span style=\"color: #800000; text-decoration-color: #800000\">│</span>   <span style=\"color: #7f7f7f; text-decoration-color: #7f7f7f\"> 881 </span><span style=\"color: #7f7f7f; text-decoration-color: #7f7f7f\">│     </span>                                                                                    <span style=\"color: #800000; text-decoration-color: #800000\">│</span>\n",
       "<span style=\"color: #800000; text-decoration-color: #800000\">│</span>   <span style=\"color: #7f7f7f; text-decoration-color: #7f7f7f\"> 882 </span><span style=\"color: #7f7f7f; text-decoration-color: #7f7f7f\">│     </span>new_tracing_count = <span style=\"color: #00ffff; text-decoration-color: #00ffff\">self</span>.experimental_get_tracing_count()                           <span style=\"color: #800000; text-decoration-color: #800000\">│</span>\n",
       "<span style=\"color: #800000; text-decoration-color: #800000\">│</span>   <span style=\"color: #7f7f7f; text-decoration-color: #7f7f7f\"> 883 </span><span style=\"color: #7f7f7f; text-decoration-color: #7f7f7f\">│     </span>without_tracing = (tracing_count == new_tracing_count)                              <span style=\"color: #800000; text-decoration-color: #800000\">│</span>\n",
       "<span style=\"color: #800000; text-decoration-color: #800000\">│</span>                                                                                                  <span style=\"color: #800000; text-decoration-color: #800000\">│</span>\n",
       "<span style=\"color: #800000; text-decoration-color: #800000\">│</span> <span style=\"color: #bfbf7f; text-decoration-color: #bfbf7f\">/usr/local/lib/python3.9/dist-packages/tensorflow/python/eager/polymorphic_function/</span><span style=\"color: #808000; text-decoration-color: #808000; font-weight: bold\">polymorphic_</span> <span style=\"color: #800000; text-decoration-color: #800000\">│</span>\n",
       "<span style=\"color: #800000; text-decoration-color: #800000\">│</span> <span style=\"color: #808000; text-decoration-color: #808000; font-weight: bold\">function.py</span>:<span style=\"color: #0000ff; text-decoration-color: #0000ff\">919</span> in <span style=\"color: #00ff00; text-decoration-color: #00ff00\">_call</span>                                                                         <span style=\"color: #800000; text-decoration-color: #800000\">│</span>\n",
       "<span style=\"color: #800000; text-decoration-color: #800000\">│</span>                                                                                                  <span style=\"color: #800000; text-decoration-color: #800000\">│</span>\n",
       "<span style=\"color: #800000; text-decoration-color: #800000\">│</span>   <span style=\"color: #7f7f7f; text-decoration-color: #7f7f7f\"> 916 </span><span style=\"color: #7f7f7f; text-decoration-color: #7f7f7f\">│     </span><span style=\"color: #00ffff; text-decoration-color: #00ffff\">self</span>._lock.release()                                                                <span style=\"color: #800000; text-decoration-color: #800000\">│</span>\n",
       "<span style=\"color: #800000; text-decoration-color: #800000\">│</span>   <span style=\"color: #7f7f7f; text-decoration-color: #7f7f7f\"> 917 </span><span style=\"color: #7f7f7f; text-decoration-color: #7f7f7f\">│     </span><span style=\"color: #7f7f7f; text-decoration-color: #7f7f7f\"># In this case we have not created variables on the first call. So we can</span>           <span style=\"color: #800000; text-decoration-color: #800000\">│</span>\n",
       "<span style=\"color: #800000; text-decoration-color: #800000\">│</span>   <span style=\"color: #7f7f7f; text-decoration-color: #7f7f7f\"> 918 </span><span style=\"color: #7f7f7f; text-decoration-color: #7f7f7f\">│     </span><span style=\"color: #7f7f7f; text-decoration-color: #7f7f7f\"># run the first trace but we should fail if variables are created.</span>                  <span style=\"color: #800000; text-decoration-color: #800000\">│</span>\n",
       "<span style=\"color: #800000; text-decoration-color: #800000\">│</span> <span style=\"color: #800000; text-decoration-color: #800000\">❱ </span> 919 <span style=\"color: #7f7f7f; text-decoration-color: #7f7f7f\">│     </span>results = <span style=\"color: #00ffff; text-decoration-color: #00ffff\">self</span>._variable_creation_fn(*args, **kwds)                                 <span style=\"color: #800000; text-decoration-color: #800000\">│</span>\n",
       "<span style=\"color: #800000; text-decoration-color: #800000\">│</span>   <span style=\"color: #7f7f7f; text-decoration-color: #7f7f7f\"> 920 </span><span style=\"color: #7f7f7f; text-decoration-color: #7f7f7f\">│     </span><span style=\"color: #0000ff; text-decoration-color: #0000ff\">if</span> <span style=\"color: #00ffff; text-decoration-color: #00ffff\">self</span>._created_variables <span style=\"color: #ff00ff; text-decoration-color: #ff00ff\">and</span> <span style=\"color: #ff00ff; text-decoration-color: #ff00ff\">not</span> ALLOW_DYNAMIC_VARIABLE_CREATION:                 <span style=\"color: #800000; text-decoration-color: #800000\">│</span>\n",
       "<span style=\"color: #800000; text-decoration-color: #800000\">│</span>   <span style=\"color: #7f7f7f; text-decoration-color: #7f7f7f\"> 921 </span><span style=\"color: #7f7f7f; text-decoration-color: #7f7f7f\">│   │   </span><span style=\"color: #0000ff; text-decoration-color: #0000ff\">raise</span> <span style=\"color: #00ffff; text-decoration-color: #00ffff\">ValueError</span>(<span style=\"color: #808000; text-decoration-color: #808000\">\"Creating variables on a non-first call to a function\"</span>           <span style=\"color: #800000; text-decoration-color: #800000\">│</span>\n",
       "<span style=\"color: #800000; text-decoration-color: #800000\">│</span>   <span style=\"color: #7f7f7f; text-decoration-color: #7f7f7f\"> 922 </span><span style=\"color: #7f7f7f; text-decoration-color: #7f7f7f\">│   │   │   │   │   │    </span><span style=\"color: #808000; text-decoration-color: #808000\">\" decorated with tf.function.\"</span>)                                  <span style=\"color: #800000; text-decoration-color: #800000\">│</span>\n",
       "<span style=\"color: #800000; text-decoration-color: #800000\">│</span>                                                                                                  <span style=\"color: #800000; text-decoration-color: #800000\">│</span>\n",
       "<span style=\"color: #800000; text-decoration-color: #800000\">│</span> <span style=\"color: #bfbf7f; text-decoration-color: #bfbf7f\">/usr/local/lib/python3.9/dist-packages/tensorflow/python/eager/polymorphic_function/</span><span style=\"color: #808000; text-decoration-color: #808000; font-weight: bold\">tracing_comp</span> <span style=\"color: #800000; text-decoration-color: #800000\">│</span>\n",
       "<span style=\"color: #800000; text-decoration-color: #800000\">│</span> <span style=\"color: #808000; text-decoration-color: #808000; font-weight: bold\">iler.py</span>:<span style=\"color: #0000ff; text-decoration-color: #0000ff\">134</span> in <span style=\"color: #00ff00; text-decoration-color: #00ff00\">__call__</span>                                                                          <span style=\"color: #800000; text-decoration-color: #800000\">│</span>\n",
       "<span style=\"color: #800000; text-decoration-color: #800000\">│</span>                                                                                                  <span style=\"color: #800000; text-decoration-color: #800000\">│</span>\n",
       "<span style=\"color: #800000; text-decoration-color: #800000\">│</span>   <span style=\"color: #7f7f7f; text-decoration-color: #7f7f7f\">131 </span><span style=\"color: #7f7f7f; text-decoration-color: #7f7f7f\">│   </span><span style=\"color: #0000ff; text-decoration-color: #0000ff\">with</span> <span style=\"color: #00ffff; text-decoration-color: #00ffff\">self</span>._lock:                                                                       <span style=\"color: #800000; text-decoration-color: #800000\">│</span>\n",
       "<span style=\"color: #800000; text-decoration-color: #800000\">│</span>   <span style=\"color: #7f7f7f; text-decoration-color: #7f7f7f\">132 </span><span style=\"color: #7f7f7f; text-decoration-color: #7f7f7f\">│     </span>(concrete_function,                                                                  <span style=\"color: #800000; text-decoration-color: #800000\">│</span>\n",
       "<span style=\"color: #800000; text-decoration-color: #800000\">│</span>   <span style=\"color: #7f7f7f; text-decoration-color: #7f7f7f\">133 </span><span style=\"color: #7f7f7f; text-decoration-color: #7f7f7f\">│      </span>filtered_flat_args) = <span style=\"color: #00ffff; text-decoration-color: #00ffff\">self</span>._maybe_define_function(args, kwargs)                     <span style=\"color: #800000; text-decoration-color: #800000\">│</span>\n",
       "<span style=\"color: #800000; text-decoration-color: #800000\">│</span> <span style=\"color: #800000; text-decoration-color: #800000\">❱ </span>134 <span style=\"color: #7f7f7f; text-decoration-color: #7f7f7f\">│   </span><span style=\"color: #0000ff; text-decoration-color: #0000ff\">return</span> concrete_function._call_flat(                                                   <span style=\"color: #800000; text-decoration-color: #800000\">│</span>\n",
       "<span style=\"color: #800000; text-decoration-color: #800000\">│</span>   <span style=\"color: #7f7f7f; text-decoration-color: #7f7f7f\">135 </span><span style=\"color: #7f7f7f; text-decoration-color: #7f7f7f\">│   │   </span>filtered_flat_args, captured_inputs=concrete_function.captured_inputs)  <span style=\"color: #7f7f7f; text-decoration-color: #7f7f7f\"># pylint</span>   <span style=\"color: #800000; text-decoration-color: #800000\">│</span>\n",
       "<span style=\"color: #800000; text-decoration-color: #800000\">│</span>   <span style=\"color: #7f7f7f; text-decoration-color: #7f7f7f\">136 </span><span style=\"color: #7f7f7f; text-decoration-color: #7f7f7f\">  </span>                                                                                         <span style=\"color: #800000; text-decoration-color: #800000\">│</span>\n",
       "<span style=\"color: #800000; text-decoration-color: #800000\">│</span>   <span style=\"color: #7f7f7f; text-decoration-color: #7f7f7f\">137 </span><span style=\"color: #7f7f7f; text-decoration-color: #7f7f7f\">  </span><span style=\"color: #ff00ff; text-decoration-color: #ff00ff; font-weight: bold\">@property</span>                                                                                <span style=\"color: #800000; text-decoration-color: #800000\">│</span>\n",
       "<span style=\"color: #800000; text-decoration-color: #800000\">│</span>                                                                                                  <span style=\"color: #800000; text-decoration-color: #800000\">│</span>\n",
       "<span style=\"color: #800000; text-decoration-color: #800000\">│</span> <span style=\"color: #bfbf7f; text-decoration-color: #bfbf7f\">/usr/local/lib/python3.9/dist-packages/tensorflow/python/eager/polymorphic_function/</span><span style=\"color: #808000; text-decoration-color: #808000; font-weight: bold\">monomorphic_</span> <span style=\"color: #800000; text-decoration-color: #800000\">│</span>\n",
       "<span style=\"color: #800000; text-decoration-color: #800000\">│</span> <span style=\"color: #808000; text-decoration-color: #808000; font-weight: bold\">function.py</span>:<span style=\"color: #0000ff; text-decoration-color: #0000ff\">1745</span> in <span style=\"color: #00ff00; text-decoration-color: #00ff00\">_call_flat</span>                                                                   <span style=\"color: #800000; text-decoration-color: #800000\">│</span>\n",
       "<span style=\"color: #800000; text-decoration-color: #800000\">│</span>                                                                                                  <span style=\"color: #800000; text-decoration-color: #800000\">│</span>\n",
       "<span style=\"color: #800000; text-decoration-color: #800000\">│</span>   <span style=\"color: #7f7f7f; text-decoration-color: #7f7f7f\">1742 </span><span style=\"color: #7f7f7f; text-decoration-color: #7f7f7f\">│   </span><span style=\"color: #0000ff; text-decoration-color: #0000ff\">if</span> (possible_gradient_type == gradients_util.POSSIBLE_GRADIENT_TYPES_NONE             <span style=\"color: #800000; text-decoration-color: #800000\">│</span>\n",
       "<span style=\"color: #800000; text-decoration-color: #800000\">│</span>   <span style=\"color: #7f7f7f; text-decoration-color: #7f7f7f\">1743 </span><span style=\"color: #7f7f7f; text-decoration-color: #7f7f7f\">│   │   </span><span style=\"color: #ff00ff; text-decoration-color: #ff00ff\">and</span> executing_eagerly):                                                           <span style=\"color: #800000; text-decoration-color: #800000\">│</span>\n",
       "<span style=\"color: #800000; text-decoration-color: #800000\">│</span>   <span style=\"color: #7f7f7f; text-decoration-color: #7f7f7f\">1744 </span><span style=\"color: #7f7f7f; text-decoration-color: #7f7f7f\">│     </span><span style=\"color: #7f7f7f; text-decoration-color: #7f7f7f\"># No tape is watching; skip to running the function.</span>                                <span style=\"color: #800000; text-decoration-color: #800000\">│</span>\n",
       "<span style=\"color: #800000; text-decoration-color: #800000\">│</span> <span style=\"color: #800000; text-decoration-color: #800000\">❱ </span>1745 <span style=\"color: #7f7f7f; text-decoration-color: #7f7f7f\">│     </span><span style=\"color: #0000ff; text-decoration-color: #0000ff\">return</span> <span style=\"color: #00ffff; text-decoration-color: #00ffff\">self</span>._build_call_outputs(<span style=\"color: #00ffff; text-decoration-color: #00ffff\">self</span>._inference_function.call(                      <span style=\"color: #800000; text-decoration-color: #800000\">│</span>\n",
       "<span style=\"color: #800000; text-decoration-color: #800000\">│</span>   <span style=\"color: #7f7f7f; text-decoration-color: #7f7f7f\">1746 </span><span style=\"color: #7f7f7f; text-decoration-color: #7f7f7f\">│   │     </span>ctx, args, cancellation_manager=cancellation_manager))                          <span style=\"color: #800000; text-decoration-color: #800000\">│</span>\n",
       "<span style=\"color: #800000; text-decoration-color: #800000\">│</span>   <span style=\"color: #7f7f7f; text-decoration-color: #7f7f7f\">1747 </span><span style=\"color: #7f7f7f; text-decoration-color: #7f7f7f\">│   </span>forward_backward = <span style=\"color: #00ffff; text-decoration-color: #00ffff\">self</span>._select_forward_and_backward_functions(                       <span style=\"color: #800000; text-decoration-color: #800000\">│</span>\n",
       "<span style=\"color: #800000; text-decoration-color: #800000\">│</span>   <span style=\"color: #7f7f7f; text-decoration-color: #7f7f7f\">1748 </span><span style=\"color: #7f7f7f; text-decoration-color: #7f7f7f\">│   │   </span>args,                                                                             <span style=\"color: #800000; text-decoration-color: #800000\">│</span>\n",
       "<span style=\"color: #800000; text-decoration-color: #800000\">│</span>                                                                                                  <span style=\"color: #800000; text-decoration-color: #800000\">│</span>\n",
       "<span style=\"color: #800000; text-decoration-color: #800000\">│</span> <span style=\"color: #bfbf7f; text-decoration-color: #bfbf7f\">/usr/local/lib/python3.9/dist-packages/tensorflow/python/eager/polymorphic_function/</span><span style=\"color: #808000; text-decoration-color: #808000; font-weight: bold\">monomorphic_</span> <span style=\"color: #800000; text-decoration-color: #800000\">│</span>\n",
       "<span style=\"color: #800000; text-decoration-color: #800000\">│</span> <span style=\"color: #808000; text-decoration-color: #808000; font-weight: bold\">function.py</span>:<span style=\"color: #0000ff; text-decoration-color: #0000ff\">378</span> in <span style=\"color: #00ff00; text-decoration-color: #00ff00\">call</span>                                                                          <span style=\"color: #800000; text-decoration-color: #800000\">│</span>\n",
       "<span style=\"color: #800000; text-decoration-color: #800000\">│</span>                                                                                                  <span style=\"color: #800000; text-decoration-color: #800000\">│</span>\n",
       "<span style=\"color: #800000; text-decoration-color: #800000\">│</span>   <span style=\"color: #7f7f7f; text-decoration-color: #7f7f7f\"> 375 </span><span style=\"color: #7f7f7f; text-decoration-color: #7f7f7f\">│   </span><span style=\"color: #0000ff; text-decoration-color: #0000ff\">if</span> executing_eagerly:                                                                 <span style=\"color: #800000; text-decoration-color: #800000\">│</span>\n",
       "<span style=\"color: #800000; text-decoration-color: #800000\">│</span>   <span style=\"color: #7f7f7f; text-decoration-color: #7f7f7f\"> 376 </span><span style=\"color: #7f7f7f; text-decoration-color: #7f7f7f\">│     </span><span style=\"color: #0000ff; text-decoration-color: #0000ff\">with</span> _InterpolateFunctionError(<span style=\"color: #00ffff; text-decoration-color: #00ffff\">self</span>):                                               <span style=\"color: #800000; text-decoration-color: #800000\">│</span>\n",
       "<span style=\"color: #800000; text-decoration-color: #800000\">│</span>   <span style=\"color: #7f7f7f; text-decoration-color: #7f7f7f\"> 377 </span><span style=\"color: #7f7f7f; text-decoration-color: #7f7f7f\">│   │   </span><span style=\"color: #0000ff; text-decoration-color: #0000ff\">if</span> cancellation_manager <span style=\"color: #ff00ff; text-decoration-color: #ff00ff\">is</span> <span style=\"color: #0000ff; text-decoration-color: #0000ff\">None</span>:                                                  <span style=\"color: #800000; text-decoration-color: #800000\">│</span>\n",
       "<span style=\"color: #800000; text-decoration-color: #800000\">│</span> <span style=\"color: #800000; text-decoration-color: #800000\">❱ </span> 378 <span style=\"color: #7f7f7f; text-decoration-color: #7f7f7f\">│   │     </span>outputs = execute.execute(                                                      <span style=\"color: #800000; text-decoration-color: #800000\">│</span>\n",
       "<span style=\"color: #800000; text-decoration-color: #800000\">│</span>   <span style=\"color: #7f7f7f; text-decoration-color: #7f7f7f\"> 379 </span><span style=\"color: #7f7f7f; text-decoration-color: #7f7f7f\">│   │   │     </span><span style=\"color: #00ffff; text-decoration-color: #00ffff\">str</span>(<span style=\"color: #00ffff; text-decoration-color: #00ffff\">self</span>.signature.name),                                                   <span style=\"color: #800000; text-decoration-color: #800000\">│</span>\n",
       "<span style=\"color: #800000; text-decoration-color: #800000\">│</span>   <span style=\"color: #7f7f7f; text-decoration-color: #7f7f7f\"> 380 </span><span style=\"color: #7f7f7f; text-decoration-color: #7f7f7f\">│   │   │     </span>num_outputs=<span style=\"color: #00ffff; text-decoration-color: #00ffff\">self</span>._num_outputs,                                              <span style=\"color: #800000; text-decoration-color: #800000\">│</span>\n",
       "<span style=\"color: #800000; text-decoration-color: #800000\">│</span>   <span style=\"color: #7f7f7f; text-decoration-color: #7f7f7f\"> 381 </span><span style=\"color: #7f7f7f; text-decoration-color: #7f7f7f\">│   │   │     </span>inputs=args,                                                                <span style=\"color: #800000; text-decoration-color: #800000\">│</span>\n",
       "<span style=\"color: #800000; text-decoration-color: #800000\">│</span>                                                                                                  <span style=\"color: #800000; text-decoration-color: #800000\">│</span>\n",
       "<span style=\"color: #800000; text-decoration-color: #800000\">│</span> <span style=\"color: #bfbf7f; text-decoration-color: #bfbf7f\">/usr/local/lib/python3.9/dist-packages/tensorflow/python/eager/</span><span style=\"color: #808000; text-decoration-color: #808000; font-weight: bold\">execute.py</span>:<span style=\"color: #0000ff; text-decoration-color: #0000ff\">52</span> in <span style=\"color: #00ff00; text-decoration-color: #00ff00\">quick_execute</span>    <span style=\"color: #800000; text-decoration-color: #800000\">│</span>\n",
       "<span style=\"color: #800000; text-decoration-color: #800000\">│</span>                                                                                                  <span style=\"color: #800000; text-decoration-color: #800000\">│</span>\n",
       "<span style=\"color: #800000; text-decoration-color: #800000\">│</span>   <span style=\"color: #7f7f7f; text-decoration-color: #7f7f7f\"> 49 </span><span style=\"color: #7f7f7f; text-decoration-color: #7f7f7f\">  </span><span style=\"color: #7f7f7f; text-decoration-color: #7f7f7f\"># pylint: disable=protected-access</span>                                                       <span style=\"color: #800000; text-decoration-color: #800000\">│</span>\n",
       "<span style=\"color: #800000; text-decoration-color: #800000\">│</span>   <span style=\"color: #7f7f7f; text-decoration-color: #7f7f7f\"> 50 </span><span style=\"color: #7f7f7f; text-decoration-color: #7f7f7f\">  </span><span style=\"color: #0000ff; text-decoration-color: #0000ff\">try</span>:                                                                                     <span style=\"color: #800000; text-decoration-color: #800000\">│</span>\n",
       "<span style=\"color: #800000; text-decoration-color: #800000\">│</span>   <span style=\"color: #7f7f7f; text-decoration-color: #7f7f7f\"> 51 </span><span style=\"color: #7f7f7f; text-decoration-color: #7f7f7f\">│   </span>ctx.ensure_initialized()                                                               <span style=\"color: #800000; text-decoration-color: #800000\">│</span>\n",
       "<span style=\"color: #800000; text-decoration-color: #800000\">│</span> <span style=\"color: #800000; text-decoration-color: #800000\">❱ </span> 52 <span style=\"color: #7f7f7f; text-decoration-color: #7f7f7f\">│   </span>tensors = pywrap_tfe.TFE_Py_Execute(ctx._handle, device_name, op_name,                 <span style=\"color: #800000; text-decoration-color: #800000\">│</span>\n",
       "<span style=\"color: #800000; text-decoration-color: #800000\">│</span>   <span style=\"color: #7f7f7f; text-decoration-color: #7f7f7f\"> 53 </span><span style=\"color: #7f7f7f; text-decoration-color: #7f7f7f\">│   │   │   │   │   │   │   │   │   │   </span>inputs, attrs, num_outputs)                        <span style=\"color: #800000; text-decoration-color: #800000\">│</span>\n",
       "<span style=\"color: #800000; text-decoration-color: #800000\">│</span>   <span style=\"color: #7f7f7f; text-decoration-color: #7f7f7f\"> 54 </span><span style=\"color: #7f7f7f; text-decoration-color: #7f7f7f\">  </span><span style=\"color: #0000ff; text-decoration-color: #0000ff\">except</span> core._NotOkStatusException <span style=\"color: #0000ff; text-decoration-color: #0000ff\">as</span> e:                                                  <span style=\"color: #800000; text-decoration-color: #800000\">│</span>\n",
       "<span style=\"color: #800000; text-decoration-color: #800000\">│</span>   <span style=\"color: #7f7f7f; text-decoration-color: #7f7f7f\"> 55 </span><span style=\"color: #7f7f7f; text-decoration-color: #7f7f7f\">│   </span><span style=\"color: #0000ff; text-decoration-color: #0000ff\">if</span> name <span style=\"color: #ff00ff; text-decoration-color: #ff00ff\">is</span> <span style=\"color: #ff00ff; text-decoration-color: #ff00ff\">not</span> <span style=\"color: #0000ff; text-decoration-color: #0000ff\">None</span>:                                                                   <span style=\"color: #800000; text-decoration-color: #800000\">│</span>\n",
       "<span style=\"color: #800000; text-decoration-color: #800000\">╰──────────────────────────────────────────────────────────────────────────────────────────────────╯</span>\n",
       "<span style=\"color: #ff0000; text-decoration-color: #ff0000; font-weight: bold\">KeyboardInterrupt</span>\n",
       "</pre>\n"
      ],
      "text/plain": [
       "\u001b[31m╭─\u001b[0m\u001b[31m──────────────────────────────\u001b[0m\u001b[31m \u001b[0m\u001b[1;31mTraceback \u001b[0m\u001b[1;2;31m(most recent call last)\u001b[0m\u001b[31m \u001b[0m\u001b[31m───────────────────────────────\u001b[0m\u001b[31m─╮\u001b[0m\n",
       "\u001b[31m│\u001b[0m in \u001b[92m<cell line: 1>\u001b[0m:\u001b[94m1\u001b[0m                                                                              \u001b[31m│\u001b[0m\n",
       "\u001b[31m│\u001b[0m                                                                                                  \u001b[31m│\u001b[0m\n",
       "\u001b[31m│\u001b[0m \u001b[31m❱ \u001b[0m1 generate_comparison_model_vs_edit(name_pairs_orbis, target_orbis, \u001b[94m0.5\u001b[0m)                       \u001b[31m│\u001b[0m\n",
       "\u001b[31m│\u001b[0m   \u001b[2m2 \u001b[0m                                                                                             \u001b[31m│\u001b[0m\n",
       "\u001b[31m│\u001b[0m                                                                                                  \u001b[31m│\u001b[0m\n",
       "\u001b[31m│\u001b[0m in \u001b[92mgenerate_comparison_model_vs_edit\u001b[0m:\u001b[94m5\u001b[0m                                                           \u001b[31m│\u001b[0m\n",
       "\u001b[31m│\u001b[0m                                                                                                  \u001b[31m│\u001b[0m\n",
       "\u001b[31m│\u001b[0m   \u001b[2m 2 \u001b[0m\u001b[2m│   \u001b[0mX_encoded_1 = encode_sparsed_list(pairs[:, \u001b[94m0\u001b[0m],char_to_index_dict=char_to_index, max_    \u001b[31m│\u001b[0m\n",
       "\u001b[31m│\u001b[0m   \u001b[2m 3 \u001b[0m\u001b[2m│   \u001b[0mX_encoded_2 = encode_sparsed_list(pairs[:, \u001b[94m1\u001b[0m],char_to_index_dict=char_to_index, max_    \u001b[31m│\u001b[0m\n",
       "\u001b[31m│\u001b[0m   \u001b[2m 4 \u001b[0m\u001b[2m│   \u001b[0m                                                                                        \u001b[31m│\u001b[0m\n",
       "\u001b[31m│\u001b[0m \u001b[31m❱ \u001b[0m 5 \u001b[2m│   \u001b[0mprediction = poi_c2v.model.predict((X_encoded_1, X_encoded_2))                          \u001b[31m│\u001b[0m\n",
       "\u001b[31m│\u001b[0m   \u001b[2m 6 \u001b[0m\u001b[2m│   \u001b[0mprediction_edit = np.array([fuzz.token_set_ratio(name1, name2)/\u001b[94m100\u001b[0m \u001b[94mfor\u001b[0m name1, name2     \u001b[31m│\u001b[0m\n",
       "\u001b[31m│\u001b[0m   \u001b[2m 7 \u001b[0m\u001b[2m│   \u001b[0m                                                                                        \u001b[31m│\u001b[0m\n",
       "\u001b[31m│\u001b[0m   \u001b[2m 8 \u001b[0m\u001b[2m│   \u001b[0my_pred = prediction>match_th                                                            \u001b[31m│\u001b[0m\n",
       "\u001b[31m│\u001b[0m                                                                                                  \u001b[31m│\u001b[0m\n",
       "\u001b[31m│\u001b[0m \u001b[2;33m/usr/local/lib/python3.9/dist-packages/keras/utils/\u001b[0m\u001b[1;33mtraceback_utils.py\u001b[0m:\u001b[94m65\u001b[0m in \u001b[92merror_handler\u001b[0m        \u001b[31m│\u001b[0m\n",
       "\u001b[31m│\u001b[0m                                                                                                  \u001b[31m│\u001b[0m\n",
       "\u001b[31m│\u001b[0m   \u001b[2m 62 \u001b[0m\u001b[2m│   │   \u001b[0m                                                                                   \u001b[31m│\u001b[0m\n",
       "\u001b[31m│\u001b[0m   \u001b[2m 63 \u001b[0m\u001b[2m│   │   \u001b[0mfiltered_tb = \u001b[94mNone\u001b[0m                                                                 \u001b[31m│\u001b[0m\n",
       "\u001b[31m│\u001b[0m   \u001b[2m 64 \u001b[0m\u001b[2m│   │   \u001b[0m\u001b[94mtry\u001b[0m:                                                                               \u001b[31m│\u001b[0m\n",
       "\u001b[31m│\u001b[0m \u001b[31m❱ \u001b[0m 65 \u001b[2m│   │   │   \u001b[0m\u001b[94mreturn\u001b[0m fn(*args, **kwargs)                                                     \u001b[31m│\u001b[0m\n",
       "\u001b[31m│\u001b[0m   \u001b[2m 66 \u001b[0m\u001b[2m│   │   \u001b[0m\u001b[94mexcept\u001b[0m \u001b[96mException\u001b[0m \u001b[94mas\u001b[0m e:                                                             \u001b[31m│\u001b[0m\n",
       "\u001b[31m│\u001b[0m   \u001b[2m 67 \u001b[0m\u001b[2m│   │   │   \u001b[0mfiltered_tb = _process_traceback_frames(e.__traceback__)                       \u001b[31m│\u001b[0m\n",
       "\u001b[31m│\u001b[0m   \u001b[2m 68 \u001b[0m\u001b[2m│   │   │   \u001b[0m\u001b[2m# To get the full stack trace, call:\u001b[0m                                           \u001b[31m│\u001b[0m\n",
       "\u001b[31m│\u001b[0m                                                                                                  \u001b[31m│\u001b[0m\n",
       "\u001b[31m│\u001b[0m \u001b[2;33m/usr/local/lib/python3.9/dist-packages/keras/engine/\u001b[0m\u001b[1;33mtraining.py\u001b[0m:\u001b[94m2350\u001b[0m in \u001b[92mpredict\u001b[0m                  \u001b[31m│\u001b[0m\n",
       "\u001b[31m│\u001b[0m                                                                                                  \u001b[31m│\u001b[0m\n",
       "\u001b[31m│\u001b[0m   \u001b[2m2347 \u001b[0m\u001b[2m│   │   │   │   \u001b[0m\u001b[94mwith\u001b[0m data_handler.catch_stop_iteration():                                 \u001b[31m│\u001b[0m\n",
       "\u001b[31m│\u001b[0m   \u001b[2m2348 \u001b[0m\u001b[2m│   │   │   │   │   \u001b[0m\u001b[94mfor\u001b[0m step \u001b[95min\u001b[0m data_handler.steps():                                     \u001b[31m│\u001b[0m\n",
       "\u001b[31m│\u001b[0m   \u001b[2m2349 \u001b[0m\u001b[2m│   │   │   │   │   │   \u001b[0mcallbacks.on_predict_batch_begin(step)                            \u001b[31m│\u001b[0m\n",
       "\u001b[31m│\u001b[0m \u001b[31m❱ \u001b[0m2350 \u001b[2m│   │   │   │   │   │   \u001b[0mtmp_batch_outputs = \u001b[96mself\u001b[0m.predict_function(iterator)               \u001b[31m│\u001b[0m\n",
       "\u001b[31m│\u001b[0m   \u001b[2m2351 \u001b[0m\u001b[2m│   │   │   │   │   │   \u001b[0m\u001b[94mif\u001b[0m data_handler.should_sync:                                      \u001b[31m│\u001b[0m\n",
       "\u001b[31m│\u001b[0m   \u001b[2m2352 \u001b[0m\u001b[2m│   │   │   │   │   │   │   \u001b[0mcontext.async_wait()                                          \u001b[31m│\u001b[0m\n",
       "\u001b[31m│\u001b[0m   \u001b[2m2353 \u001b[0m\u001b[2m│   │   │   │   │   │   \u001b[0mbatch_outputs = (                                                 \u001b[31m│\u001b[0m\n",
       "\u001b[31m│\u001b[0m                                                                                                  \u001b[31m│\u001b[0m\n",
       "\u001b[31m│\u001b[0m \u001b[2;33m/usr/local/lib/python3.9/dist-packages/tensorflow/python/util/\u001b[0m\u001b[1;33mtraceback_utils.py\u001b[0m:\u001b[94m150\u001b[0m in          \u001b[31m│\u001b[0m\n",
       "\u001b[31m│\u001b[0m \u001b[92merror_handler\u001b[0m                                                                                    \u001b[31m│\u001b[0m\n",
       "\u001b[31m│\u001b[0m                                                                                                  \u001b[31m│\u001b[0m\n",
       "\u001b[31m│\u001b[0m   \u001b[2m147 \u001b[0m\u001b[2m│   \u001b[0m                                                                                       \u001b[31m│\u001b[0m\n",
       "\u001b[31m│\u001b[0m   \u001b[2m148 \u001b[0m\u001b[2m│   \u001b[0mfiltered_tb = \u001b[94mNone\u001b[0m                                                                     \u001b[31m│\u001b[0m\n",
       "\u001b[31m│\u001b[0m   \u001b[2m149 \u001b[0m\u001b[2m│   \u001b[0m\u001b[94mtry\u001b[0m:                                                                                   \u001b[31m│\u001b[0m\n",
       "\u001b[31m│\u001b[0m \u001b[31m❱ \u001b[0m150 \u001b[2m│     \u001b[0m\u001b[94mreturn\u001b[0m fn(*args, **kwargs)                                                           \u001b[31m│\u001b[0m\n",
       "\u001b[31m│\u001b[0m   \u001b[2m151 \u001b[0m\u001b[2m│   \u001b[0m\u001b[94mexcept\u001b[0m \u001b[96mException\u001b[0m \u001b[94mas\u001b[0m e:                                                                 \u001b[31m│\u001b[0m\n",
       "\u001b[31m│\u001b[0m   \u001b[2m152 \u001b[0m\u001b[2m│     \u001b[0mfiltered_tb = _process_traceback_frames(e.__traceback__)                             \u001b[31m│\u001b[0m\n",
       "\u001b[31m│\u001b[0m   \u001b[2m153 \u001b[0m\u001b[2m│     \u001b[0m\u001b[94mraise\u001b[0m e.with_traceback(filtered_tb) \u001b[94mfrom\u001b[0m \u001b[94mNone\u001b[0m                                        \u001b[31m│\u001b[0m\n",
       "\u001b[31m│\u001b[0m                                                                                                  \u001b[31m│\u001b[0m\n",
       "\u001b[31m│\u001b[0m \u001b[2;33m/usr/local/lib/python3.9/dist-packages/tensorflow/python/eager/polymorphic_function/\u001b[0m\u001b[1;33mpolymorphic_\u001b[0m \u001b[31m│\u001b[0m\n",
       "\u001b[31m│\u001b[0m \u001b[1;33mfunction.py\u001b[0m:\u001b[94m880\u001b[0m in \u001b[92m__call__\u001b[0m                                                                      \u001b[31m│\u001b[0m\n",
       "\u001b[31m│\u001b[0m                                                                                                  \u001b[31m│\u001b[0m\n",
       "\u001b[31m│\u001b[0m   \u001b[2m 877 \u001b[0m\u001b[2m│     \u001b[0mcompiler = \u001b[33m\"\u001b[0m\u001b[33mxla\u001b[0m\u001b[33m\"\u001b[0m \u001b[94mif\u001b[0m \u001b[96mself\u001b[0m._jit_compile \u001b[94melse\u001b[0m \u001b[33m\"\u001b[0m\u001b[33mnonXla\u001b[0m\u001b[33m\"\u001b[0m                                 \u001b[31m│\u001b[0m\n",
       "\u001b[31m│\u001b[0m   \u001b[2m 878 \u001b[0m\u001b[2m│     \u001b[0m                                                                                    \u001b[31m│\u001b[0m\n",
       "\u001b[31m│\u001b[0m   \u001b[2m 879 \u001b[0m\u001b[2m│     \u001b[0m\u001b[94mwith\u001b[0m OptionalXlaContext(\u001b[96mself\u001b[0m._jit_compile):                                         \u001b[31m│\u001b[0m\n",
       "\u001b[31m│\u001b[0m \u001b[31m❱ \u001b[0m 880 \u001b[2m│   │   \u001b[0mresult = \u001b[96mself\u001b[0m._call(*args, **kwds)                                                \u001b[31m│\u001b[0m\n",
       "\u001b[31m│\u001b[0m   \u001b[2m 881 \u001b[0m\u001b[2m│     \u001b[0m                                                                                    \u001b[31m│\u001b[0m\n",
       "\u001b[31m│\u001b[0m   \u001b[2m 882 \u001b[0m\u001b[2m│     \u001b[0mnew_tracing_count = \u001b[96mself\u001b[0m.experimental_get_tracing_count()                           \u001b[31m│\u001b[0m\n",
       "\u001b[31m│\u001b[0m   \u001b[2m 883 \u001b[0m\u001b[2m│     \u001b[0mwithout_tracing = (tracing_count == new_tracing_count)                              \u001b[31m│\u001b[0m\n",
       "\u001b[31m│\u001b[0m                                                                                                  \u001b[31m│\u001b[0m\n",
       "\u001b[31m│\u001b[0m \u001b[2;33m/usr/local/lib/python3.9/dist-packages/tensorflow/python/eager/polymorphic_function/\u001b[0m\u001b[1;33mpolymorphic_\u001b[0m \u001b[31m│\u001b[0m\n",
       "\u001b[31m│\u001b[0m \u001b[1;33mfunction.py\u001b[0m:\u001b[94m919\u001b[0m in \u001b[92m_call\u001b[0m                                                                         \u001b[31m│\u001b[0m\n",
       "\u001b[31m│\u001b[0m                                                                                                  \u001b[31m│\u001b[0m\n",
       "\u001b[31m│\u001b[0m   \u001b[2m 916 \u001b[0m\u001b[2m│     \u001b[0m\u001b[96mself\u001b[0m._lock.release()                                                                \u001b[31m│\u001b[0m\n",
       "\u001b[31m│\u001b[0m   \u001b[2m 917 \u001b[0m\u001b[2m│     \u001b[0m\u001b[2m# In this case we have not created variables on the first call. So we can\u001b[0m           \u001b[31m│\u001b[0m\n",
       "\u001b[31m│\u001b[0m   \u001b[2m 918 \u001b[0m\u001b[2m│     \u001b[0m\u001b[2m# run the first trace but we should fail if variables are created.\u001b[0m                  \u001b[31m│\u001b[0m\n",
       "\u001b[31m│\u001b[0m \u001b[31m❱ \u001b[0m 919 \u001b[2m│     \u001b[0mresults = \u001b[96mself\u001b[0m._variable_creation_fn(*args, **kwds)                                 \u001b[31m│\u001b[0m\n",
       "\u001b[31m│\u001b[0m   \u001b[2m 920 \u001b[0m\u001b[2m│     \u001b[0m\u001b[94mif\u001b[0m \u001b[96mself\u001b[0m._created_variables \u001b[95mand\u001b[0m \u001b[95mnot\u001b[0m ALLOW_DYNAMIC_VARIABLE_CREATION:                 \u001b[31m│\u001b[0m\n",
       "\u001b[31m│\u001b[0m   \u001b[2m 921 \u001b[0m\u001b[2m│   │   \u001b[0m\u001b[94mraise\u001b[0m \u001b[96mValueError\u001b[0m(\u001b[33m\"\u001b[0m\u001b[33mCreating variables on a non-first call to a function\u001b[0m\u001b[33m\"\u001b[0m           \u001b[31m│\u001b[0m\n",
       "\u001b[31m│\u001b[0m   \u001b[2m 922 \u001b[0m\u001b[2m│   │   │   │   │   │    \u001b[0m\u001b[33m\"\u001b[0m\u001b[33m decorated with tf.function.\u001b[0m\u001b[33m\"\u001b[0m)                                  \u001b[31m│\u001b[0m\n",
       "\u001b[31m│\u001b[0m                                                                                                  \u001b[31m│\u001b[0m\n",
       "\u001b[31m│\u001b[0m \u001b[2;33m/usr/local/lib/python3.9/dist-packages/tensorflow/python/eager/polymorphic_function/\u001b[0m\u001b[1;33mtracing_comp\u001b[0m \u001b[31m│\u001b[0m\n",
       "\u001b[31m│\u001b[0m \u001b[1;33miler.py\u001b[0m:\u001b[94m134\u001b[0m in \u001b[92m__call__\u001b[0m                                                                          \u001b[31m│\u001b[0m\n",
       "\u001b[31m│\u001b[0m                                                                                                  \u001b[31m│\u001b[0m\n",
       "\u001b[31m│\u001b[0m   \u001b[2m131 \u001b[0m\u001b[2m│   \u001b[0m\u001b[94mwith\u001b[0m \u001b[96mself\u001b[0m._lock:                                                                       \u001b[31m│\u001b[0m\n",
       "\u001b[31m│\u001b[0m   \u001b[2m132 \u001b[0m\u001b[2m│     \u001b[0m(concrete_function,                                                                  \u001b[31m│\u001b[0m\n",
       "\u001b[31m│\u001b[0m   \u001b[2m133 \u001b[0m\u001b[2m│      \u001b[0mfiltered_flat_args) = \u001b[96mself\u001b[0m._maybe_define_function(args, kwargs)                     \u001b[31m│\u001b[0m\n",
       "\u001b[31m│\u001b[0m \u001b[31m❱ \u001b[0m134 \u001b[2m│   \u001b[0m\u001b[94mreturn\u001b[0m concrete_function._call_flat(                                                   \u001b[31m│\u001b[0m\n",
       "\u001b[31m│\u001b[0m   \u001b[2m135 \u001b[0m\u001b[2m│   │   \u001b[0mfiltered_flat_args, captured_inputs=concrete_function.captured_inputs)  \u001b[2m# pylint\u001b[0m   \u001b[31m│\u001b[0m\n",
       "\u001b[31m│\u001b[0m   \u001b[2m136 \u001b[0m\u001b[2m  \u001b[0m                                                                                         \u001b[31m│\u001b[0m\n",
       "\u001b[31m│\u001b[0m   \u001b[2m137 \u001b[0m\u001b[2m  \u001b[0m\u001b[1;95m@property\u001b[0m                                                                                \u001b[31m│\u001b[0m\n",
       "\u001b[31m│\u001b[0m                                                                                                  \u001b[31m│\u001b[0m\n",
       "\u001b[31m│\u001b[0m \u001b[2;33m/usr/local/lib/python3.9/dist-packages/tensorflow/python/eager/polymorphic_function/\u001b[0m\u001b[1;33mmonomorphic_\u001b[0m \u001b[31m│\u001b[0m\n",
       "\u001b[31m│\u001b[0m \u001b[1;33mfunction.py\u001b[0m:\u001b[94m1745\u001b[0m in \u001b[92m_call_flat\u001b[0m                                                                   \u001b[31m│\u001b[0m\n",
       "\u001b[31m│\u001b[0m                                                                                                  \u001b[31m│\u001b[0m\n",
       "\u001b[31m│\u001b[0m   \u001b[2m1742 \u001b[0m\u001b[2m│   \u001b[0m\u001b[94mif\u001b[0m (possible_gradient_type == gradients_util.POSSIBLE_GRADIENT_TYPES_NONE             \u001b[31m│\u001b[0m\n",
       "\u001b[31m│\u001b[0m   \u001b[2m1743 \u001b[0m\u001b[2m│   │   \u001b[0m\u001b[95mand\u001b[0m executing_eagerly):                                                           \u001b[31m│\u001b[0m\n",
       "\u001b[31m│\u001b[0m   \u001b[2m1744 \u001b[0m\u001b[2m│     \u001b[0m\u001b[2m# No tape is watching; skip to running the function.\u001b[0m                                \u001b[31m│\u001b[0m\n",
       "\u001b[31m│\u001b[0m \u001b[31m❱ \u001b[0m1745 \u001b[2m│     \u001b[0m\u001b[94mreturn\u001b[0m \u001b[96mself\u001b[0m._build_call_outputs(\u001b[96mself\u001b[0m._inference_function.call(                      \u001b[31m│\u001b[0m\n",
       "\u001b[31m│\u001b[0m   \u001b[2m1746 \u001b[0m\u001b[2m│   │     \u001b[0mctx, args, cancellation_manager=cancellation_manager))                          \u001b[31m│\u001b[0m\n",
       "\u001b[31m│\u001b[0m   \u001b[2m1747 \u001b[0m\u001b[2m│   \u001b[0mforward_backward = \u001b[96mself\u001b[0m._select_forward_and_backward_functions(                       \u001b[31m│\u001b[0m\n",
       "\u001b[31m│\u001b[0m   \u001b[2m1748 \u001b[0m\u001b[2m│   │   \u001b[0margs,                                                                             \u001b[31m│\u001b[0m\n",
       "\u001b[31m│\u001b[0m                                                                                                  \u001b[31m│\u001b[0m\n",
       "\u001b[31m│\u001b[0m \u001b[2;33m/usr/local/lib/python3.9/dist-packages/tensorflow/python/eager/polymorphic_function/\u001b[0m\u001b[1;33mmonomorphic_\u001b[0m \u001b[31m│\u001b[0m\n",
       "\u001b[31m│\u001b[0m \u001b[1;33mfunction.py\u001b[0m:\u001b[94m378\u001b[0m in \u001b[92mcall\u001b[0m                                                                          \u001b[31m│\u001b[0m\n",
       "\u001b[31m│\u001b[0m                                                                                                  \u001b[31m│\u001b[0m\n",
       "\u001b[31m│\u001b[0m   \u001b[2m 375 \u001b[0m\u001b[2m│   \u001b[0m\u001b[94mif\u001b[0m executing_eagerly:                                                                 \u001b[31m│\u001b[0m\n",
       "\u001b[31m│\u001b[0m   \u001b[2m 376 \u001b[0m\u001b[2m│     \u001b[0m\u001b[94mwith\u001b[0m _InterpolateFunctionError(\u001b[96mself\u001b[0m):                                               \u001b[31m│\u001b[0m\n",
       "\u001b[31m│\u001b[0m   \u001b[2m 377 \u001b[0m\u001b[2m│   │   \u001b[0m\u001b[94mif\u001b[0m cancellation_manager \u001b[95mis\u001b[0m \u001b[94mNone\u001b[0m:                                                  \u001b[31m│\u001b[0m\n",
       "\u001b[31m│\u001b[0m \u001b[31m❱ \u001b[0m 378 \u001b[2m│   │     \u001b[0moutputs = execute.execute(                                                      \u001b[31m│\u001b[0m\n",
       "\u001b[31m│\u001b[0m   \u001b[2m 379 \u001b[0m\u001b[2m│   │   │     \u001b[0m\u001b[96mstr\u001b[0m(\u001b[96mself\u001b[0m.signature.name),                                                   \u001b[31m│\u001b[0m\n",
       "\u001b[31m│\u001b[0m   \u001b[2m 380 \u001b[0m\u001b[2m│   │   │     \u001b[0mnum_outputs=\u001b[96mself\u001b[0m._num_outputs,                                              \u001b[31m│\u001b[0m\n",
       "\u001b[31m│\u001b[0m   \u001b[2m 381 \u001b[0m\u001b[2m│   │   │     \u001b[0minputs=args,                                                                \u001b[31m│\u001b[0m\n",
       "\u001b[31m│\u001b[0m                                                                                                  \u001b[31m│\u001b[0m\n",
       "\u001b[31m│\u001b[0m \u001b[2;33m/usr/local/lib/python3.9/dist-packages/tensorflow/python/eager/\u001b[0m\u001b[1;33mexecute.py\u001b[0m:\u001b[94m52\u001b[0m in \u001b[92mquick_execute\u001b[0m    \u001b[31m│\u001b[0m\n",
       "\u001b[31m│\u001b[0m                                                                                                  \u001b[31m│\u001b[0m\n",
       "\u001b[31m│\u001b[0m   \u001b[2m 49 \u001b[0m\u001b[2m  \u001b[0m\u001b[2m# pylint: disable=protected-access\u001b[0m                                                       \u001b[31m│\u001b[0m\n",
       "\u001b[31m│\u001b[0m   \u001b[2m 50 \u001b[0m\u001b[2m  \u001b[0m\u001b[94mtry\u001b[0m:                                                                                     \u001b[31m│\u001b[0m\n",
       "\u001b[31m│\u001b[0m   \u001b[2m 51 \u001b[0m\u001b[2m│   \u001b[0mctx.ensure_initialized()                                                               \u001b[31m│\u001b[0m\n",
       "\u001b[31m│\u001b[0m \u001b[31m❱ \u001b[0m 52 \u001b[2m│   \u001b[0mtensors = pywrap_tfe.TFE_Py_Execute(ctx._handle, device_name, op_name,                 \u001b[31m│\u001b[0m\n",
       "\u001b[31m│\u001b[0m   \u001b[2m 53 \u001b[0m\u001b[2m│   │   │   │   │   │   │   │   │   │   \u001b[0minputs, attrs, num_outputs)                        \u001b[31m│\u001b[0m\n",
       "\u001b[31m│\u001b[0m   \u001b[2m 54 \u001b[0m\u001b[2m  \u001b[0m\u001b[94mexcept\u001b[0m core._NotOkStatusException \u001b[94mas\u001b[0m e:                                                  \u001b[31m│\u001b[0m\n",
       "\u001b[31m│\u001b[0m   \u001b[2m 55 \u001b[0m\u001b[2m│   \u001b[0m\u001b[94mif\u001b[0m name \u001b[95mis\u001b[0m \u001b[95mnot\u001b[0m \u001b[94mNone\u001b[0m:                                                                   \u001b[31m│\u001b[0m\n",
       "\u001b[31m╰──────────────────────────────────────────────────────────────────────────────────────────────────╯\u001b[0m\n",
       "\u001b[1;91mKeyboardInterrupt\u001b[0m\n"
      ]
     },
     "metadata": {},
     "output_type": "display_data"
    }
   ],
   "source": [
    "generate_comparison_model_vs_edit(name_pairs_orbis, target_orbis, 0.5)"
   ]
  },
  {
   "cell_type": "markdown",
   "id": "def8576b-78d6-4861-b4dc-25097658deb4",
   "metadata": {},
   "source": [
    "# Dataset gold standard"
   ]
  },
  {
   "cell_type": "code",
   "execution_count": 119,
   "id": "0bd1a816-f828-483e-87de-24bc00a7cf75",
   "metadata": {},
   "outputs": [
    {
     "name": "stdout",
     "output_type": "stream",
     "text": [
      "255/255 [==============================] - 37s 145ms/step\n"
     ]
    },
    {
     "data": {
      "text/html": [
       "<pre style=\"white-space:pre;overflow-x:auto;line-height:normal;font-family:Menlo,'DejaVu Sans Mono',consolas,'Courier New',monospace\"><span style=\"color: #7fbfbf; text-decoration-color: #7fbfbf\">[08/22/23 11:03:24] </span><span style=\"color: #800000; text-decoration-color: #800000\">WARNING </span> <span style=\"color: #800080; text-decoration-color: #800080\">/tmp/ipykernel_26498/</span><span style=\"color: #ff00ff; text-decoration-color: #ff00ff\">1921957139.py</span>:<span style=\"color: #008080; text-decoration-color: #008080; font-weight: bold\">12</span>: DeprecationWarning: `np.bool`   <a href=\"file:///usr/lib/python3.9/warnings.py\" target=\"_blank\"><span style=\"color: #7f7f7f; text-decoration-color: #7f7f7f\">warnings.py</span></a><span style=\"color: #7f7f7f; text-decoration-color: #7f7f7f\">:</span><a href=\"file:///usr/lib/python3.9/warnings.py#109\" target=\"_blank\"><span style=\"color: #7f7f7f; text-decoration-color: #7f7f7f\">109</span></a>\n",
       "<span style=\"color: #7fbfbf; text-decoration-color: #7fbfbf\">                    </span>         is a deprecated alias for the builtin `bool`. To silence this warning, <span style=\"color: #7f7f7f; text-decoration-color: #7f7f7f\">               </span>\n",
       "<span style=\"color: #7fbfbf; text-decoration-color: #7fbfbf\">                    </span>         use `bool` by itself. Doing this will not modify any behavior and is   <span style=\"color: #7f7f7f; text-decoration-color: #7f7f7f\">               </span>\n",
       "<span style=\"color: #7fbfbf; text-decoration-color: #7fbfbf\">                    </span>         safe. If you specifically wanted the numpy scalar type, use `np.bool_` <span style=\"color: #7f7f7f; text-decoration-color: #7f7f7f\">               </span>\n",
       "<span style=\"color: #7fbfbf; text-decoration-color: #7fbfbf\">                    </span>         here.                                                                  <span style=\"color: #7f7f7f; text-decoration-color: #7f7f7f\">               </span>\n",
       "<span style=\"color: #7fbfbf; text-decoration-color: #7fbfbf\">                    </span>         Deprecated in NumPy <span style=\"color: #008080; text-decoration-color: #008080; font-weight: bold\">1.20</span>; for more details and guidance:               <span style=\"color: #7f7f7f; text-decoration-color: #7f7f7f\">               </span>\n",
       "<span style=\"color: #7fbfbf; text-decoration-color: #7fbfbf\">                    </span>         <span style=\"color: #0000ff; text-decoration-color: #0000ff; text-decoration: underline\">https://numpy.org/devdocs/release/1.20.0-notes.html#deprecations</span>       <span style=\"color: #7f7f7f; text-decoration-color: #7f7f7f\">               </span>\n",
       "<span style=\"color: #7fbfbf; text-decoration-color: #7fbfbf\">                    </span>           target = <span style=\"color: #800080; text-decoration-color: #800080; font-weight: bold\">target.astype</span><span style=\"font-weight: bold\">(</span>np.bool<span style=\"font-weight: bold\">)</span><span style=\"color: #800080; text-decoration-color: #800080; font-weight: bold\">.flatten</span><span style=\"font-weight: bold\">()</span>                            <span style=\"color: #7f7f7f; text-decoration-color: #7f7f7f\">               </span>\n",
       "<span style=\"color: #7fbfbf; text-decoration-color: #7fbfbf\">                    </span>                                                                                <span style=\"color: #7f7f7f; text-decoration-color: #7f7f7f\">               </span>\n",
       "</pre>\n"
      ],
      "text/plain": [
       "\u001b[2;36m[08/22/23 11:03:24]\u001b[0m\u001b[2;36m \u001b[0m\u001b[31mWARNING \u001b[0m \u001b[35m/tmp/ipykernel_26498/\u001b[0m\u001b[95m1921957139.py\u001b[0m:\u001b[1;36m12\u001b[0m: DeprecationWarning: `np.bool`   \u001b]8;id=302910;file:///usr/lib/python3.9/warnings.py\u001b\\\u001b[2mwarnings.py\u001b[0m\u001b]8;;\u001b\\\u001b[2m:\u001b[0m\u001b]8;id=454632;file:///usr/lib/python3.9/warnings.py#109\u001b\\\u001b[2m109\u001b[0m\u001b]8;;\u001b\\\n",
       "\u001b[2;36m                    \u001b[0m         is a deprecated alias for the builtin `bool`. To silence this warning, \u001b[2m               \u001b[0m\n",
       "\u001b[2;36m                    \u001b[0m         use `bool` by itself. Doing this will not modify any behavior and is   \u001b[2m               \u001b[0m\n",
       "\u001b[2;36m                    \u001b[0m         safe. If you specifically wanted the numpy scalar type, use `np.bool_` \u001b[2m               \u001b[0m\n",
       "\u001b[2;36m                    \u001b[0m         here.                                                                  \u001b[2m               \u001b[0m\n",
       "\u001b[2;36m                    \u001b[0m         Deprecated in NumPy \u001b[1;36m1.20\u001b[0m; for more details and guidance:               \u001b[2m               \u001b[0m\n",
       "\u001b[2;36m                    \u001b[0m         \u001b[4;94mhttps://numpy.org/devdocs/release/1.20.0-notes.html#deprecations\u001b[0m       \u001b[2m               \u001b[0m\n",
       "\u001b[2;36m                    \u001b[0m           target = \u001b[1;35mtarget.astype\u001b[0m\u001b[1m(\u001b[0mnp.bool\u001b[1m)\u001b[0m\u001b[1;35m.flatten\u001b[0m\u001b[1m(\u001b[0m\u001b[1m)\u001b[0m                            \u001b[2m               \u001b[0m\n",
       "\u001b[2;36m                    \u001b[0m                                                                                \u001b[2m               \u001b[0m\n"
      ]
     },
     "metadata": {},
     "output_type": "display_data"
    },
    {
     "name": "stdout",
     "output_type": "stream",
     "text": [
      "confussion matrix model\n",
      "col_0  False  True \n",
      "row_0              \n",
      "False   3358    509\n",
      "True     146   4147\n",
      "\n",
      " confussion matrix edit\n",
      "col_0  False  True \n",
      "row_0              \n",
      "False   1673   2194\n",
      "True     800   3493\n",
      "/n/n Classification report model\n",
      "              precision    recall  f1-score   support\n",
      "\n",
      "       False       0.96      0.87      0.91      3867\n",
      "        True       0.89      0.97      0.93      4293\n",
      "\n",
      "    accuracy                           0.92      8160\n",
      "   macro avg       0.92      0.92      0.92      8160\n",
      "weighted avg       0.92      0.92      0.92      8160\n",
      "\n",
      "/n Classification report edit\n",
      "              precision    recall  f1-score   support\n",
      "\n",
      "       False       0.68      0.43      0.53      3867\n",
      "        True       0.61      0.81      0.70      4293\n",
      "\n",
      "    accuracy                           0.63      8160\n",
      "   macro avg       0.65      0.62      0.61      8160\n",
      "weighted avg       0.64      0.63      0.62      8160\n",
      "\n"
     ]
    }
   ],
   "source": [
    "generate_comparison_model_vs_edit(data_standard_pairs, data_standard_target, .5)"
   ]
  },
  {
   "cell_type": "markdown",
   "id": "747c7954-2a88-494b-b09b-b455e6571907",
   "metadata": {},
   "source": [
    "## Amazon products evaluation"
   ]
  },
  {
   "cell_type": "code",
   "execution_count": 120,
   "id": "b7bc4e9b-9c9f-4f95-8050-6a05bfd99005",
   "metadata": {},
   "outputs": [],
   "source": [
    "data_prod= pd.read_csv('../../data/01_raw/amazon-google-products/mapping_full.csv')"
   ]
  },
  {
   "cell_type": "code",
   "execution_count": 121,
   "id": "49d249e2-161e-4ce1-81c1-daf537ea9ecc",
   "metadata": {},
   "outputs": [],
   "source": [
    "data_prod['name_1'] = data_prod['name_1'].apply(lambda x: normalize_characters(x))\n",
    "data_prod['name_2'] = data_prod['name_2'].apply(lambda x: normalize_characters(x))\n",
    "data_prod['target'] = 1\n"
   ]
  },
  {
   "cell_type": "code",
   "execution_count": 122,
   "id": "88fe66c3-642d-4aea-b1e8-1a05193e5078",
   "metadata": {},
   "outputs": [],
   "source": [
    "data_prod_pairs = data_prod[['name_1', 'name_2']].values\n",
    "data_prod_target = data_prod['target'].values"
   ]
  },
  {
   "cell_type": "code",
   "execution_count": 123,
   "id": "2d48fc58-dc21-44cb-9d50-d639ae354b62",
   "metadata": {},
   "outputs": [
    {
     "name": "stdout",
     "output_type": "stream",
     "text": [
      "41/41 [==============================] - 6s 140ms/step\n"
     ]
    },
    {
     "data": {
      "text/html": [
       "<pre style=\"white-space:pre;overflow-x:auto;line-height:normal;font-family:Menlo,'DejaVu Sans Mono',consolas,'Courier New',monospace\"><span style=\"color: #7fbfbf; text-decoration-color: #7fbfbf\">[08/22/23 11:03:55] </span><span style=\"color: #800000; text-decoration-color: #800000\">WARNING </span> <span style=\"color: #800080; text-decoration-color: #800080\">/tmp/ipykernel_26498/</span><span style=\"color: #ff00ff; text-decoration-color: #ff00ff\">1921957139.py</span>:<span style=\"color: #008080; text-decoration-color: #008080; font-weight: bold\">12</span>: DeprecationWarning: `np.bool`   <a href=\"file:///usr/lib/python3.9/warnings.py\" target=\"_blank\"><span style=\"color: #7f7f7f; text-decoration-color: #7f7f7f\">warnings.py</span></a><span style=\"color: #7f7f7f; text-decoration-color: #7f7f7f\">:</span><a href=\"file:///usr/lib/python3.9/warnings.py#109\" target=\"_blank\"><span style=\"color: #7f7f7f; text-decoration-color: #7f7f7f\">109</span></a>\n",
       "<span style=\"color: #7fbfbf; text-decoration-color: #7fbfbf\">                    </span>         is a deprecated alias for the builtin `bool`. To silence this warning, <span style=\"color: #7f7f7f; text-decoration-color: #7f7f7f\">               </span>\n",
       "<span style=\"color: #7fbfbf; text-decoration-color: #7fbfbf\">                    </span>         use `bool` by itself. Doing this will not modify any behavior and is   <span style=\"color: #7f7f7f; text-decoration-color: #7f7f7f\">               </span>\n",
       "<span style=\"color: #7fbfbf; text-decoration-color: #7fbfbf\">                    </span>         safe. If you specifically wanted the numpy scalar type, use `np.bool_` <span style=\"color: #7f7f7f; text-decoration-color: #7f7f7f\">               </span>\n",
       "<span style=\"color: #7fbfbf; text-decoration-color: #7fbfbf\">                    </span>         here.                                                                  <span style=\"color: #7f7f7f; text-decoration-color: #7f7f7f\">               </span>\n",
       "<span style=\"color: #7fbfbf; text-decoration-color: #7fbfbf\">                    </span>         Deprecated in NumPy <span style=\"color: #008080; text-decoration-color: #008080; font-weight: bold\">1.20</span>; for more details and guidance:               <span style=\"color: #7f7f7f; text-decoration-color: #7f7f7f\">               </span>\n",
       "<span style=\"color: #7fbfbf; text-decoration-color: #7fbfbf\">                    </span>         <span style=\"color: #0000ff; text-decoration-color: #0000ff; text-decoration: underline\">https://numpy.org/devdocs/release/1.20.0-notes.html#deprecations</span>       <span style=\"color: #7f7f7f; text-decoration-color: #7f7f7f\">               </span>\n",
       "<span style=\"color: #7fbfbf; text-decoration-color: #7fbfbf\">                    </span>           target = <span style=\"color: #800080; text-decoration-color: #800080; font-weight: bold\">target.astype</span><span style=\"font-weight: bold\">(</span>np.bool<span style=\"font-weight: bold\">)</span><span style=\"color: #800080; text-decoration-color: #800080; font-weight: bold\">.flatten</span><span style=\"font-weight: bold\">()</span>                            <span style=\"color: #7f7f7f; text-decoration-color: #7f7f7f\">               </span>\n",
       "<span style=\"color: #7fbfbf; text-decoration-color: #7fbfbf\">                    </span>                                                                                <span style=\"color: #7f7f7f; text-decoration-color: #7f7f7f\">               </span>\n",
       "</pre>\n"
      ],
      "text/plain": [
       "\u001b[2;36m[08/22/23 11:03:55]\u001b[0m\u001b[2;36m \u001b[0m\u001b[31mWARNING \u001b[0m \u001b[35m/tmp/ipykernel_26498/\u001b[0m\u001b[95m1921957139.py\u001b[0m:\u001b[1;36m12\u001b[0m: DeprecationWarning: `np.bool`   \u001b]8;id=756194;file:///usr/lib/python3.9/warnings.py\u001b\\\u001b[2mwarnings.py\u001b[0m\u001b]8;;\u001b\\\u001b[2m:\u001b[0m\u001b]8;id=304101;file:///usr/lib/python3.9/warnings.py#109\u001b\\\u001b[2m109\u001b[0m\u001b]8;;\u001b\\\n",
       "\u001b[2;36m                    \u001b[0m         is a deprecated alias for the builtin `bool`. To silence this warning, \u001b[2m               \u001b[0m\n",
       "\u001b[2;36m                    \u001b[0m         use `bool` by itself. Doing this will not modify any behavior and is   \u001b[2m               \u001b[0m\n",
       "\u001b[2;36m                    \u001b[0m         safe. If you specifically wanted the numpy scalar type, use `np.bool_` \u001b[2m               \u001b[0m\n",
       "\u001b[2;36m                    \u001b[0m         here.                                                                  \u001b[2m               \u001b[0m\n",
       "\u001b[2;36m                    \u001b[0m         Deprecated in NumPy \u001b[1;36m1.20\u001b[0m; for more details and guidance:               \u001b[2m               \u001b[0m\n",
       "\u001b[2;36m                    \u001b[0m         \u001b[4;94mhttps://numpy.org/devdocs/release/1.20.0-notes.html#deprecations\u001b[0m       \u001b[2m               \u001b[0m\n",
       "\u001b[2;36m                    \u001b[0m           target = \u001b[1;35mtarget.astype\u001b[0m\u001b[1m(\u001b[0mnp.bool\u001b[1m)\u001b[0m\u001b[1;35m.flatten\u001b[0m\u001b[1m(\u001b[0m\u001b[1m)\u001b[0m                            \u001b[2m               \u001b[0m\n",
       "\u001b[2;36m                    \u001b[0m                                                                                \u001b[2m               \u001b[0m\n"
      ]
     },
     "metadata": {},
     "output_type": "display_data"
    },
    {
     "name": "stdout",
     "output_type": "stream",
     "text": [
      "confussion matrix model\n",
      "col_0  False  True \n",
      "row_0              \n",
      "True     484    816\n",
      "\n",
      " confussion matrix edit\n",
      "col_0  False  True \n",
      "row_0              \n",
      "True     212   1088\n",
      "/n/n Classification report model\n"
     ]
    },
    {
     "data": {
      "text/html": [
       "<pre style=\"white-space:pre;overflow-x:auto;line-height:normal;font-family:Menlo,'DejaVu Sans Mono',consolas,'Courier New',monospace\"><span style=\"color: #7fbfbf; text-decoration-color: #7fbfbf\">                    </span><span style=\"color: #800000; text-decoration-color: #800000\">WARNING </span> <span style=\"color: #800080; text-decoration-color: #800080\">/usr/local/lib/python3.9/dist-packages/sklearn/metrics/</span><span style=\"color: #ff00ff; text-decoration-color: #ff00ff\">_classification</span> <a href=\"file:///usr/lib/python3.9/warnings.py\" target=\"_blank\"><span style=\"color: #7f7f7f; text-decoration-color: #7f7f7f\">warnings.py</span></a><span style=\"color: #7f7f7f; text-decoration-color: #7f7f7f\">:</span><a href=\"file:///usr/lib/python3.9/warnings.py#109\" target=\"_blank\"><span style=\"color: #7f7f7f; text-decoration-color: #7f7f7f\">109</span></a>\n",
       "<span style=\"color: #7fbfbf; text-decoration-color: #7fbfbf\">                    </span>         <span style=\"color: #ff00ff; text-decoration-color: #ff00ff\">.py</span>:<span style=\"color: #008080; text-decoration-color: #008080; font-weight: bold\">1334</span>: UndefinedMetricWarning: Recall and F-score are ill-defined   <span style=\"color: #7f7f7f; text-decoration-color: #7f7f7f\">               </span>\n",
       "<span style=\"color: #7fbfbf; text-decoration-color: #7fbfbf\">                    </span>         and being set to <span style=\"color: #008080; text-decoration-color: #008080; font-weight: bold\">0.0</span> in labels with no true samples. Use               <span style=\"color: #7f7f7f; text-decoration-color: #7f7f7f\">               </span>\n",
       "<span style=\"color: #7fbfbf; text-decoration-color: #7fbfbf\">                    </span>         `zero_division` parameter to control this behavior.                    <span style=\"color: #7f7f7f; text-decoration-color: #7f7f7f\">               </span>\n",
       "<span style=\"color: #7fbfbf; text-decoration-color: #7fbfbf\">                    </span>           <span style=\"color: #800080; text-decoration-color: #800080; font-weight: bold\">_warn_prf</span><span style=\"font-weight: bold\">(</span>average, modifier, msg_start, <span style=\"color: #800080; text-decoration-color: #800080; font-weight: bold\">len</span><span style=\"font-weight: bold\">(</span>result<span style=\"font-weight: bold\">))</span>                 <span style=\"color: #7f7f7f; text-decoration-color: #7f7f7f\">               </span>\n",
       "<span style=\"color: #7fbfbf; text-decoration-color: #7fbfbf\">                    </span>                                                                                <span style=\"color: #7f7f7f; text-decoration-color: #7f7f7f\">               </span>\n",
       "</pre>\n"
      ],
      "text/plain": [
       "\u001b[2;36m                   \u001b[0m\u001b[2;36m \u001b[0m\u001b[31mWARNING \u001b[0m \u001b[35m/usr/local/lib/python3.9/dist-packages/sklearn/metrics/\u001b[0m\u001b[95m_classification\u001b[0m \u001b]8;id=562145;file:///usr/lib/python3.9/warnings.py\u001b\\\u001b[2mwarnings.py\u001b[0m\u001b]8;;\u001b\\\u001b[2m:\u001b[0m\u001b]8;id=126793;file:///usr/lib/python3.9/warnings.py#109\u001b\\\u001b[2m109\u001b[0m\u001b]8;;\u001b\\\n",
       "\u001b[2;36m                    \u001b[0m         \u001b[95m.py\u001b[0m:\u001b[1;36m1334\u001b[0m: UndefinedMetricWarning: Recall and F-score are ill-defined   \u001b[2m               \u001b[0m\n",
       "\u001b[2;36m                    \u001b[0m         and being set to \u001b[1;36m0.0\u001b[0m in labels with no true samples. Use               \u001b[2m               \u001b[0m\n",
       "\u001b[2;36m                    \u001b[0m         `zero_division` parameter to control this behavior.                    \u001b[2m               \u001b[0m\n",
       "\u001b[2;36m                    \u001b[0m           \u001b[1;35m_warn_prf\u001b[0m\u001b[1m(\u001b[0maverage, modifier, msg_start, \u001b[1;35mlen\u001b[0m\u001b[1m(\u001b[0mresult\u001b[1m)\u001b[0m\u001b[1m)\u001b[0m                 \u001b[2m               \u001b[0m\n",
       "\u001b[2;36m                    \u001b[0m                                                                                \u001b[2m               \u001b[0m\n"
      ]
     },
     "metadata": {},
     "output_type": "display_data"
    },
    {
     "data": {
      "text/html": [
       "<pre style=\"white-space:pre;overflow-x:auto;line-height:normal;font-family:Menlo,'DejaVu Sans Mono',consolas,'Courier New',monospace\"><span style=\"color: #7fbfbf; text-decoration-color: #7fbfbf\">                    </span><span style=\"color: #800000; text-decoration-color: #800000\">WARNING </span> <span style=\"color: #800080; text-decoration-color: #800080\">/usr/local/lib/python3.9/dist-packages/sklearn/metrics/</span><span style=\"color: #ff00ff; text-decoration-color: #ff00ff\">_classification</span> <a href=\"file:///usr/lib/python3.9/warnings.py\" target=\"_blank\"><span style=\"color: #7f7f7f; text-decoration-color: #7f7f7f\">warnings.py</span></a><span style=\"color: #7f7f7f; text-decoration-color: #7f7f7f\">:</span><a href=\"file:///usr/lib/python3.9/warnings.py#109\" target=\"_blank\"><span style=\"color: #7f7f7f; text-decoration-color: #7f7f7f\">109</span></a>\n",
       "<span style=\"color: #7fbfbf; text-decoration-color: #7fbfbf\">                    </span>         <span style=\"color: #ff00ff; text-decoration-color: #ff00ff\">.py</span>:<span style=\"color: #008080; text-decoration-color: #008080; font-weight: bold\">1334</span>: UndefinedMetricWarning: Recall and F-score are ill-defined   <span style=\"color: #7f7f7f; text-decoration-color: #7f7f7f\">               </span>\n",
       "<span style=\"color: #7fbfbf; text-decoration-color: #7fbfbf\">                    </span>         and being set to <span style=\"color: #008080; text-decoration-color: #008080; font-weight: bold\">0.0</span> in labels with no true samples. Use               <span style=\"color: #7f7f7f; text-decoration-color: #7f7f7f\">               </span>\n",
       "<span style=\"color: #7fbfbf; text-decoration-color: #7fbfbf\">                    </span>         `zero_division` parameter to control this behavior.                    <span style=\"color: #7f7f7f; text-decoration-color: #7f7f7f\">               </span>\n",
       "<span style=\"color: #7fbfbf; text-decoration-color: #7fbfbf\">                    </span>           <span style=\"color: #800080; text-decoration-color: #800080; font-weight: bold\">_warn_prf</span><span style=\"font-weight: bold\">(</span>average, modifier, msg_start, <span style=\"color: #800080; text-decoration-color: #800080; font-weight: bold\">len</span><span style=\"font-weight: bold\">(</span>result<span style=\"font-weight: bold\">))</span>                 <span style=\"color: #7f7f7f; text-decoration-color: #7f7f7f\">               </span>\n",
       "<span style=\"color: #7fbfbf; text-decoration-color: #7fbfbf\">                    </span>                                                                                <span style=\"color: #7f7f7f; text-decoration-color: #7f7f7f\">               </span>\n",
       "</pre>\n"
      ],
      "text/plain": [
       "\u001b[2;36m                   \u001b[0m\u001b[2;36m \u001b[0m\u001b[31mWARNING \u001b[0m \u001b[35m/usr/local/lib/python3.9/dist-packages/sklearn/metrics/\u001b[0m\u001b[95m_classification\u001b[0m \u001b]8;id=100901;file:///usr/lib/python3.9/warnings.py\u001b\\\u001b[2mwarnings.py\u001b[0m\u001b]8;;\u001b\\\u001b[2m:\u001b[0m\u001b]8;id=833774;file:///usr/lib/python3.9/warnings.py#109\u001b\\\u001b[2m109\u001b[0m\u001b]8;;\u001b\\\n",
       "\u001b[2;36m                    \u001b[0m         \u001b[95m.py\u001b[0m:\u001b[1;36m1334\u001b[0m: UndefinedMetricWarning: Recall and F-score are ill-defined   \u001b[2m               \u001b[0m\n",
       "\u001b[2;36m                    \u001b[0m         and being set to \u001b[1;36m0.0\u001b[0m in labels with no true samples. Use               \u001b[2m               \u001b[0m\n",
       "\u001b[2;36m                    \u001b[0m         `zero_division` parameter to control this behavior.                    \u001b[2m               \u001b[0m\n",
       "\u001b[2;36m                    \u001b[0m           \u001b[1;35m_warn_prf\u001b[0m\u001b[1m(\u001b[0maverage, modifier, msg_start, \u001b[1;35mlen\u001b[0m\u001b[1m(\u001b[0mresult\u001b[1m)\u001b[0m\u001b[1m)\u001b[0m                 \u001b[2m               \u001b[0m\n",
       "\u001b[2;36m                    \u001b[0m                                                                                \u001b[2m               \u001b[0m\n"
      ]
     },
     "metadata": {},
     "output_type": "display_data"
    },
    {
     "data": {
      "text/html": [
       "<pre style=\"white-space:pre;overflow-x:auto;line-height:normal;font-family:Menlo,'DejaVu Sans Mono',consolas,'Courier New',monospace\"><span style=\"color: #7fbfbf; text-decoration-color: #7fbfbf\">                    </span><span style=\"color: #800000; text-decoration-color: #800000\">WARNING </span> <span style=\"color: #800080; text-decoration-color: #800080\">/usr/local/lib/python3.9/dist-packages/sklearn/metrics/</span><span style=\"color: #ff00ff; text-decoration-color: #ff00ff\">_classification</span> <a href=\"file:///usr/lib/python3.9/warnings.py\" target=\"_blank\"><span style=\"color: #7f7f7f; text-decoration-color: #7f7f7f\">warnings.py</span></a><span style=\"color: #7f7f7f; text-decoration-color: #7f7f7f\">:</span><a href=\"file:///usr/lib/python3.9/warnings.py#109\" target=\"_blank\"><span style=\"color: #7f7f7f; text-decoration-color: #7f7f7f\">109</span></a>\n",
       "<span style=\"color: #7fbfbf; text-decoration-color: #7fbfbf\">                    </span>         <span style=\"color: #ff00ff; text-decoration-color: #ff00ff\">.py</span>:<span style=\"color: #008080; text-decoration-color: #008080; font-weight: bold\">1334</span>: UndefinedMetricWarning: Recall and F-score are ill-defined   <span style=\"color: #7f7f7f; text-decoration-color: #7f7f7f\">               </span>\n",
       "<span style=\"color: #7fbfbf; text-decoration-color: #7fbfbf\">                    </span>         and being set to <span style=\"color: #008080; text-decoration-color: #008080; font-weight: bold\">0.0</span> in labels with no true samples. Use               <span style=\"color: #7f7f7f; text-decoration-color: #7f7f7f\">               </span>\n",
       "<span style=\"color: #7fbfbf; text-decoration-color: #7fbfbf\">                    </span>         `zero_division` parameter to control this behavior.                    <span style=\"color: #7f7f7f; text-decoration-color: #7f7f7f\">               </span>\n",
       "<span style=\"color: #7fbfbf; text-decoration-color: #7fbfbf\">                    </span>           <span style=\"color: #800080; text-decoration-color: #800080; font-weight: bold\">_warn_prf</span><span style=\"font-weight: bold\">(</span>average, modifier, msg_start, <span style=\"color: #800080; text-decoration-color: #800080; font-weight: bold\">len</span><span style=\"font-weight: bold\">(</span>result<span style=\"font-weight: bold\">))</span>                 <span style=\"color: #7f7f7f; text-decoration-color: #7f7f7f\">               </span>\n",
       "<span style=\"color: #7fbfbf; text-decoration-color: #7fbfbf\">                    </span>                                                                                <span style=\"color: #7f7f7f; text-decoration-color: #7f7f7f\">               </span>\n",
       "</pre>\n"
      ],
      "text/plain": [
       "\u001b[2;36m                   \u001b[0m\u001b[2;36m \u001b[0m\u001b[31mWARNING \u001b[0m \u001b[35m/usr/local/lib/python3.9/dist-packages/sklearn/metrics/\u001b[0m\u001b[95m_classification\u001b[0m \u001b]8;id=681588;file:///usr/lib/python3.9/warnings.py\u001b\\\u001b[2mwarnings.py\u001b[0m\u001b]8;;\u001b\\\u001b[2m:\u001b[0m\u001b]8;id=47315;file:///usr/lib/python3.9/warnings.py#109\u001b\\\u001b[2m109\u001b[0m\u001b]8;;\u001b\\\n",
       "\u001b[2;36m                    \u001b[0m         \u001b[95m.py\u001b[0m:\u001b[1;36m1334\u001b[0m: UndefinedMetricWarning: Recall and F-score are ill-defined   \u001b[2m               \u001b[0m\n",
       "\u001b[2;36m                    \u001b[0m         and being set to \u001b[1;36m0.0\u001b[0m in labels with no true samples. Use               \u001b[2m               \u001b[0m\n",
       "\u001b[2;36m                    \u001b[0m         `zero_division` parameter to control this behavior.                    \u001b[2m               \u001b[0m\n",
       "\u001b[2;36m                    \u001b[0m           \u001b[1;35m_warn_prf\u001b[0m\u001b[1m(\u001b[0maverage, modifier, msg_start, \u001b[1;35mlen\u001b[0m\u001b[1m(\u001b[0mresult\u001b[1m)\u001b[0m\u001b[1m)\u001b[0m                 \u001b[2m               \u001b[0m\n",
       "\u001b[2;36m                    \u001b[0m                                                                                \u001b[2m               \u001b[0m\n"
      ]
     },
     "metadata": {},
     "output_type": "display_data"
    },
    {
     "name": "stdout",
     "output_type": "stream",
     "text": [
      "              precision    recall  f1-score   support\n",
      "\n",
      "       False       0.00      0.00      0.00         0\n",
      "        True       1.00      0.63      0.77      1300\n",
      "\n",
      "    accuracy                           0.63      1300\n",
      "   macro avg       0.50      0.31      0.39      1300\n",
      "weighted avg       1.00      0.63      0.77      1300\n",
      "\n",
      "/n Classification report edit\n"
     ]
    },
    {
     "data": {
      "text/html": [
       "<pre style=\"white-space:pre;overflow-x:auto;line-height:normal;font-family:Menlo,'DejaVu Sans Mono',consolas,'Courier New',monospace\"><span style=\"color: #7fbfbf; text-decoration-color: #7fbfbf\">                    </span><span style=\"color: #800000; text-decoration-color: #800000\">WARNING </span> <span style=\"color: #800080; text-decoration-color: #800080\">/usr/local/lib/python3.9/dist-packages/sklearn/metrics/</span><span style=\"color: #ff00ff; text-decoration-color: #ff00ff\">_classification</span> <a href=\"file:///usr/lib/python3.9/warnings.py\" target=\"_blank\"><span style=\"color: #7f7f7f; text-decoration-color: #7f7f7f\">warnings.py</span></a><span style=\"color: #7f7f7f; text-decoration-color: #7f7f7f\">:</span><a href=\"file:///usr/lib/python3.9/warnings.py#109\" target=\"_blank\"><span style=\"color: #7f7f7f; text-decoration-color: #7f7f7f\">109</span></a>\n",
       "<span style=\"color: #7fbfbf; text-decoration-color: #7fbfbf\">                    </span>         <span style=\"color: #ff00ff; text-decoration-color: #ff00ff\">.py</span>:<span style=\"color: #008080; text-decoration-color: #008080; font-weight: bold\">1334</span>: UndefinedMetricWarning: Recall and F-score are ill-defined   <span style=\"color: #7f7f7f; text-decoration-color: #7f7f7f\">               </span>\n",
       "<span style=\"color: #7fbfbf; text-decoration-color: #7fbfbf\">                    </span>         and being set to <span style=\"color: #008080; text-decoration-color: #008080; font-weight: bold\">0.0</span> in labels with no true samples. Use               <span style=\"color: #7f7f7f; text-decoration-color: #7f7f7f\">               </span>\n",
       "<span style=\"color: #7fbfbf; text-decoration-color: #7fbfbf\">                    </span>         `zero_division` parameter to control this behavior.                    <span style=\"color: #7f7f7f; text-decoration-color: #7f7f7f\">               </span>\n",
       "<span style=\"color: #7fbfbf; text-decoration-color: #7fbfbf\">                    </span>           <span style=\"color: #800080; text-decoration-color: #800080; font-weight: bold\">_warn_prf</span><span style=\"font-weight: bold\">(</span>average, modifier, msg_start, <span style=\"color: #800080; text-decoration-color: #800080; font-weight: bold\">len</span><span style=\"font-weight: bold\">(</span>result<span style=\"font-weight: bold\">))</span>                 <span style=\"color: #7f7f7f; text-decoration-color: #7f7f7f\">               </span>\n",
       "<span style=\"color: #7fbfbf; text-decoration-color: #7fbfbf\">                    </span>                                                                                <span style=\"color: #7f7f7f; text-decoration-color: #7f7f7f\">               </span>\n",
       "</pre>\n"
      ],
      "text/plain": [
       "\u001b[2;36m                   \u001b[0m\u001b[2;36m \u001b[0m\u001b[31mWARNING \u001b[0m \u001b[35m/usr/local/lib/python3.9/dist-packages/sklearn/metrics/\u001b[0m\u001b[95m_classification\u001b[0m \u001b]8;id=513377;file:///usr/lib/python3.9/warnings.py\u001b\\\u001b[2mwarnings.py\u001b[0m\u001b]8;;\u001b\\\u001b[2m:\u001b[0m\u001b]8;id=414741;file:///usr/lib/python3.9/warnings.py#109\u001b\\\u001b[2m109\u001b[0m\u001b]8;;\u001b\\\n",
       "\u001b[2;36m                    \u001b[0m         \u001b[95m.py\u001b[0m:\u001b[1;36m1334\u001b[0m: UndefinedMetricWarning: Recall and F-score are ill-defined   \u001b[2m               \u001b[0m\n",
       "\u001b[2;36m                    \u001b[0m         and being set to \u001b[1;36m0.0\u001b[0m in labels with no true samples. Use               \u001b[2m               \u001b[0m\n",
       "\u001b[2;36m                    \u001b[0m         `zero_division` parameter to control this behavior.                    \u001b[2m               \u001b[0m\n",
       "\u001b[2;36m                    \u001b[0m           \u001b[1;35m_warn_prf\u001b[0m\u001b[1m(\u001b[0maverage, modifier, msg_start, \u001b[1;35mlen\u001b[0m\u001b[1m(\u001b[0mresult\u001b[1m)\u001b[0m\u001b[1m)\u001b[0m                 \u001b[2m               \u001b[0m\n",
       "\u001b[2;36m                    \u001b[0m                                                                                \u001b[2m               \u001b[0m\n"
      ]
     },
     "metadata": {},
     "output_type": "display_data"
    },
    {
     "data": {
      "text/html": [
       "<pre style=\"white-space:pre;overflow-x:auto;line-height:normal;font-family:Menlo,'DejaVu Sans Mono',consolas,'Courier New',monospace\"><span style=\"color: #7fbfbf; text-decoration-color: #7fbfbf\">                    </span><span style=\"color: #800000; text-decoration-color: #800000\">WARNING </span> <span style=\"color: #800080; text-decoration-color: #800080\">/usr/local/lib/python3.9/dist-packages/sklearn/metrics/</span><span style=\"color: #ff00ff; text-decoration-color: #ff00ff\">_classification</span> <a href=\"file:///usr/lib/python3.9/warnings.py\" target=\"_blank\"><span style=\"color: #7f7f7f; text-decoration-color: #7f7f7f\">warnings.py</span></a><span style=\"color: #7f7f7f; text-decoration-color: #7f7f7f\">:</span><a href=\"file:///usr/lib/python3.9/warnings.py#109\" target=\"_blank\"><span style=\"color: #7f7f7f; text-decoration-color: #7f7f7f\">109</span></a>\n",
       "<span style=\"color: #7fbfbf; text-decoration-color: #7fbfbf\">                    </span>         <span style=\"color: #ff00ff; text-decoration-color: #ff00ff\">.py</span>:<span style=\"color: #008080; text-decoration-color: #008080; font-weight: bold\">1334</span>: UndefinedMetricWarning: Recall and F-score are ill-defined   <span style=\"color: #7f7f7f; text-decoration-color: #7f7f7f\">               </span>\n",
       "<span style=\"color: #7fbfbf; text-decoration-color: #7fbfbf\">                    </span>         and being set to <span style=\"color: #008080; text-decoration-color: #008080; font-weight: bold\">0.0</span> in labels with no true samples. Use               <span style=\"color: #7f7f7f; text-decoration-color: #7f7f7f\">               </span>\n",
       "<span style=\"color: #7fbfbf; text-decoration-color: #7fbfbf\">                    </span>         `zero_division` parameter to control this behavior.                    <span style=\"color: #7f7f7f; text-decoration-color: #7f7f7f\">               </span>\n",
       "<span style=\"color: #7fbfbf; text-decoration-color: #7fbfbf\">                    </span>           <span style=\"color: #800080; text-decoration-color: #800080; font-weight: bold\">_warn_prf</span><span style=\"font-weight: bold\">(</span>average, modifier, msg_start, <span style=\"color: #800080; text-decoration-color: #800080; font-weight: bold\">len</span><span style=\"font-weight: bold\">(</span>result<span style=\"font-weight: bold\">))</span>                 <span style=\"color: #7f7f7f; text-decoration-color: #7f7f7f\">               </span>\n",
       "<span style=\"color: #7fbfbf; text-decoration-color: #7fbfbf\">                    </span>                                                                                <span style=\"color: #7f7f7f; text-decoration-color: #7f7f7f\">               </span>\n",
       "</pre>\n"
      ],
      "text/plain": [
       "\u001b[2;36m                   \u001b[0m\u001b[2;36m \u001b[0m\u001b[31mWARNING \u001b[0m \u001b[35m/usr/local/lib/python3.9/dist-packages/sklearn/metrics/\u001b[0m\u001b[95m_classification\u001b[0m \u001b]8;id=287580;file:///usr/lib/python3.9/warnings.py\u001b\\\u001b[2mwarnings.py\u001b[0m\u001b]8;;\u001b\\\u001b[2m:\u001b[0m\u001b]8;id=285027;file:///usr/lib/python3.9/warnings.py#109\u001b\\\u001b[2m109\u001b[0m\u001b]8;;\u001b\\\n",
       "\u001b[2;36m                    \u001b[0m         \u001b[95m.py\u001b[0m:\u001b[1;36m1334\u001b[0m: UndefinedMetricWarning: Recall and F-score are ill-defined   \u001b[2m               \u001b[0m\n",
       "\u001b[2;36m                    \u001b[0m         and being set to \u001b[1;36m0.0\u001b[0m in labels with no true samples. Use               \u001b[2m               \u001b[0m\n",
       "\u001b[2;36m                    \u001b[0m         `zero_division` parameter to control this behavior.                    \u001b[2m               \u001b[0m\n",
       "\u001b[2;36m                    \u001b[0m           \u001b[1;35m_warn_prf\u001b[0m\u001b[1m(\u001b[0maverage, modifier, msg_start, \u001b[1;35mlen\u001b[0m\u001b[1m(\u001b[0mresult\u001b[1m)\u001b[0m\u001b[1m)\u001b[0m                 \u001b[2m               \u001b[0m\n",
       "\u001b[2;36m                    \u001b[0m                                                                                \u001b[2m               \u001b[0m\n"
      ]
     },
     "metadata": {},
     "output_type": "display_data"
    },
    {
     "data": {
      "text/html": [
       "<pre style=\"white-space:pre;overflow-x:auto;line-height:normal;font-family:Menlo,'DejaVu Sans Mono',consolas,'Courier New',monospace\"><span style=\"color: #7fbfbf; text-decoration-color: #7fbfbf\">                    </span><span style=\"color: #800000; text-decoration-color: #800000\">WARNING </span> <span style=\"color: #800080; text-decoration-color: #800080\">/usr/local/lib/python3.9/dist-packages/sklearn/metrics/</span><span style=\"color: #ff00ff; text-decoration-color: #ff00ff\">_classification</span> <a href=\"file:///usr/lib/python3.9/warnings.py\" target=\"_blank\"><span style=\"color: #7f7f7f; text-decoration-color: #7f7f7f\">warnings.py</span></a><span style=\"color: #7f7f7f; text-decoration-color: #7f7f7f\">:</span><a href=\"file:///usr/lib/python3.9/warnings.py#109\" target=\"_blank\"><span style=\"color: #7f7f7f; text-decoration-color: #7f7f7f\">109</span></a>\n",
       "<span style=\"color: #7fbfbf; text-decoration-color: #7fbfbf\">                    </span>         <span style=\"color: #ff00ff; text-decoration-color: #ff00ff\">.py</span>:<span style=\"color: #008080; text-decoration-color: #008080; font-weight: bold\">1334</span>: UndefinedMetricWarning: Recall and F-score are ill-defined   <span style=\"color: #7f7f7f; text-decoration-color: #7f7f7f\">               </span>\n",
       "<span style=\"color: #7fbfbf; text-decoration-color: #7fbfbf\">                    </span>         and being set to <span style=\"color: #008080; text-decoration-color: #008080; font-weight: bold\">0.0</span> in labels with no true samples. Use               <span style=\"color: #7f7f7f; text-decoration-color: #7f7f7f\">               </span>\n",
       "<span style=\"color: #7fbfbf; text-decoration-color: #7fbfbf\">                    </span>         `zero_division` parameter to control this behavior.                    <span style=\"color: #7f7f7f; text-decoration-color: #7f7f7f\">               </span>\n",
       "<span style=\"color: #7fbfbf; text-decoration-color: #7fbfbf\">                    </span>           <span style=\"color: #800080; text-decoration-color: #800080; font-weight: bold\">_warn_prf</span><span style=\"font-weight: bold\">(</span>average, modifier, msg_start, <span style=\"color: #800080; text-decoration-color: #800080; font-weight: bold\">len</span><span style=\"font-weight: bold\">(</span>result<span style=\"font-weight: bold\">))</span>                 <span style=\"color: #7f7f7f; text-decoration-color: #7f7f7f\">               </span>\n",
       "<span style=\"color: #7fbfbf; text-decoration-color: #7fbfbf\">                    </span>                                                                                <span style=\"color: #7f7f7f; text-decoration-color: #7f7f7f\">               </span>\n",
       "</pre>\n"
      ],
      "text/plain": [
       "\u001b[2;36m                   \u001b[0m\u001b[2;36m \u001b[0m\u001b[31mWARNING \u001b[0m \u001b[35m/usr/local/lib/python3.9/dist-packages/sklearn/metrics/\u001b[0m\u001b[95m_classification\u001b[0m \u001b]8;id=736275;file:///usr/lib/python3.9/warnings.py\u001b\\\u001b[2mwarnings.py\u001b[0m\u001b]8;;\u001b\\\u001b[2m:\u001b[0m\u001b]8;id=53707;file:///usr/lib/python3.9/warnings.py#109\u001b\\\u001b[2m109\u001b[0m\u001b]8;;\u001b\\\n",
       "\u001b[2;36m                    \u001b[0m         \u001b[95m.py\u001b[0m:\u001b[1;36m1334\u001b[0m: UndefinedMetricWarning: Recall and F-score are ill-defined   \u001b[2m               \u001b[0m\n",
       "\u001b[2;36m                    \u001b[0m         and being set to \u001b[1;36m0.0\u001b[0m in labels with no true samples. Use               \u001b[2m               \u001b[0m\n",
       "\u001b[2;36m                    \u001b[0m         `zero_division` parameter to control this behavior.                    \u001b[2m               \u001b[0m\n",
       "\u001b[2;36m                    \u001b[0m           \u001b[1;35m_warn_prf\u001b[0m\u001b[1m(\u001b[0maverage, modifier, msg_start, \u001b[1;35mlen\u001b[0m\u001b[1m(\u001b[0mresult\u001b[1m)\u001b[0m\u001b[1m)\u001b[0m                 \u001b[2m               \u001b[0m\n",
       "\u001b[2;36m                    \u001b[0m                                                                                \u001b[2m               \u001b[0m\n"
      ]
     },
     "metadata": {},
     "output_type": "display_data"
    },
    {
     "name": "stdout",
     "output_type": "stream",
     "text": [
      "              precision    recall  f1-score   support\n",
      "\n",
      "       False       0.00      0.00      0.00         0\n",
      "        True       1.00      0.84      0.91      1300\n",
      "\n",
      "    accuracy                           0.84      1300\n",
      "   macro avg       0.50      0.42      0.46      1300\n",
      "weighted avg       1.00      0.84      0.91      1300\n",
      "\n"
     ]
    }
   ],
   "source": [
    "generate_comparison_model_vs_edit(data_prod_pairs, data_prod_target, .5)"
   ]
  },
  {
   "cell_type": "markdown",
   "id": "64a718d6-308a-4ac1-b6bc-51d6b49536a4",
   "metadata": {},
   "source": [
    "# ABT vs BUY products evaluation"
   ]
  },
  {
   "cell_type": "code",
   "execution_count": 124,
   "id": "044243e3-0f3a-42a3-88a9-fedf63c2dd2c",
   "metadata": {},
   "outputs": [],
   "source": [
    "data_prod_abt = pd.read_csv('../../data/01_raw/abt-buy-dataset/abt_buy_perfectMapping_full.csv')"
   ]
  },
  {
   "cell_type": "code",
   "execution_count": 125,
   "id": "b6fd96e1-124a-42cd-b019-23f19b1ccca5",
   "metadata": {},
   "outputs": [],
   "source": [
    "data_prod_abt['name_1'] = data_prod_abt['name_1'].apply(lambda x: normalize_characters(x))\n",
    "data_prod_abt['name_2'] = data_prod_abt['name_2'].apply(lambda x: normalize_characters(x))\n",
    "data_prod_abt['target'] = 1"
   ]
  },
  {
   "cell_type": "code",
   "execution_count": 126,
   "id": "976dde0d-ee33-491f-9866-5314a4a10c7a",
   "metadata": {},
   "outputs": [],
   "source": [
    "data_prod_abt_pairs = data_prod_abt[['name_1', 'name_2']].values\n",
    "data_prod_abt_target = data_prod_abt['target'].values"
   ]
  },
  {
   "cell_type": "code",
   "execution_count": 127,
   "id": "c2bda168-b198-4a4a-9431-e1fe37f7b218",
   "metadata": {},
   "outputs": [
    {
     "data": {
      "text/html": [
       "<pre style=\"white-space:pre;overflow-x:auto;line-height:normal;font-family:Menlo,'DejaVu Sans Mono',consolas,'Courier New',monospace\"></pre>\n"
      ],
      "text/plain": []
     },
     "metadata": {},
     "output_type": "display_data"
    },
    {
     "data": {
      "text/plain": [
       "\n",
       "\u001b[1;35marray\u001b[0m\u001b[1m(\u001b[0m\u001b[1m[\u001b[0m\u001b[1m[\u001b[0m\u001b[32m'linksys etherfast 8 port 10 100 switch ezxs88w'\u001b[0m,\n",
       "        \u001b[32m'linksys etherfast ezxs88w ethernet switch ezxs88w'\u001b[0m\u001b[1m]\u001b[0m,\n",
       "       \u001b[1m[\u001b[0m\u001b[32m'linksys etherfast10 100 5 port auto sensing switch ezxs55w'\u001b[0m,\n",
       "        \u001b[32m'linksys etherfast ezxs55w ethernet switch'\u001b[0m\u001b[1m]\u001b[0m,\n",
       "       \u001b[1m[\u001b[0m\u001b[32m'netgear prosafe 5 port 10 100 desktop switch fs105'\u001b[0m,\n",
       "        \u001b[32m'netgear prosafe fs105 ethernet switch fs105na'\u001b[0m\u001b[1m]\u001b[0m,\n",
       "       \u001b[33m...\u001b[0m,\n",
       "       \u001b[1m[\u001b[0m\u001b[32m'sony lcs twa b black soft leather carrying case lcstwab'\u001b[0m,\n",
       "        \u001b[32m'sony lcs twa b cyber shot camera case lcstwa b'\u001b[0m\u001b[1m]\u001b[0m,\n",
       "       \u001b[1m[\u001b[0m\u001b[32m'sony white cybershot t series digital camera jacket case with stylus lcjthcw'\u001b[0m,\n",
       "        \u001b[32m'sony lcj thc b jacket case with stylus lcj thc w'\u001b[0m\u001b[1m]\u001b[0m,\n",
       "       \u001b[1m[\u001b[0m\u001b[32m'sony lcs csj black soft carrying case lcscsj'\u001b[0m,\n",
       "        \u001b[32m'sony lcs csj soft camera case lcscsj'\u001b[0m\u001b[1m]\u001b[0m\u001b[1m]\u001b[0m, \u001b[33mdtype\u001b[0m=\u001b[35mobject\u001b[0m\u001b[1m)\u001b[0m"
      ]
     },
     "execution_count": 127,
     "metadata": {},
     "output_type": "execute_result"
    }
   ],
   "source": [
    "data_prod_abt_pairs"
   ]
  },
  {
   "cell_type": "code",
   "execution_count": 128,
   "id": "98f71852-801c-4093-8e73-0515c64e474b",
   "metadata": {},
   "outputs": [
    {
     "name": "stdout",
     "output_type": "stream",
     "text": [
      "35/35 [==============================] - 5s 137ms/step\n"
     ]
    },
    {
     "data": {
      "text/html": [
       "<pre style=\"white-space:pre;overflow-x:auto;line-height:normal;font-family:Menlo,'DejaVu Sans Mono',consolas,'Courier New',monospace\"><span style=\"color: #7fbfbf; text-decoration-color: #7fbfbf\">[08/22/23 11:04:11] </span><span style=\"color: #800000; text-decoration-color: #800000\">WARNING </span> <span style=\"color: #800080; text-decoration-color: #800080\">/tmp/ipykernel_26498/</span><span style=\"color: #ff00ff; text-decoration-color: #ff00ff\">1921957139.py</span>:<span style=\"color: #008080; text-decoration-color: #008080; font-weight: bold\">12</span>: DeprecationWarning: `np.bool`   <a href=\"file:///usr/lib/python3.9/warnings.py\" target=\"_blank\"><span style=\"color: #7f7f7f; text-decoration-color: #7f7f7f\">warnings.py</span></a><span style=\"color: #7f7f7f; text-decoration-color: #7f7f7f\">:</span><a href=\"file:///usr/lib/python3.9/warnings.py#109\" target=\"_blank\"><span style=\"color: #7f7f7f; text-decoration-color: #7f7f7f\">109</span></a>\n",
       "<span style=\"color: #7fbfbf; text-decoration-color: #7fbfbf\">                    </span>         is a deprecated alias for the builtin `bool`. To silence this warning, <span style=\"color: #7f7f7f; text-decoration-color: #7f7f7f\">               </span>\n",
       "<span style=\"color: #7fbfbf; text-decoration-color: #7fbfbf\">                    </span>         use `bool` by itself. Doing this will not modify any behavior and is   <span style=\"color: #7f7f7f; text-decoration-color: #7f7f7f\">               </span>\n",
       "<span style=\"color: #7fbfbf; text-decoration-color: #7fbfbf\">                    </span>         safe. If you specifically wanted the numpy scalar type, use `np.bool_` <span style=\"color: #7f7f7f; text-decoration-color: #7f7f7f\">               </span>\n",
       "<span style=\"color: #7fbfbf; text-decoration-color: #7fbfbf\">                    </span>         here.                                                                  <span style=\"color: #7f7f7f; text-decoration-color: #7f7f7f\">               </span>\n",
       "<span style=\"color: #7fbfbf; text-decoration-color: #7fbfbf\">                    </span>         Deprecated in NumPy <span style=\"color: #008080; text-decoration-color: #008080; font-weight: bold\">1.20</span>; for more details and guidance:               <span style=\"color: #7f7f7f; text-decoration-color: #7f7f7f\">               </span>\n",
       "<span style=\"color: #7fbfbf; text-decoration-color: #7fbfbf\">                    </span>         <span style=\"color: #0000ff; text-decoration-color: #0000ff; text-decoration: underline\">https://numpy.org/devdocs/release/1.20.0-notes.html#deprecations</span>       <span style=\"color: #7f7f7f; text-decoration-color: #7f7f7f\">               </span>\n",
       "<span style=\"color: #7fbfbf; text-decoration-color: #7fbfbf\">                    </span>           target = <span style=\"color: #800080; text-decoration-color: #800080; font-weight: bold\">target.astype</span><span style=\"font-weight: bold\">(</span>np.bool<span style=\"font-weight: bold\">)</span><span style=\"color: #800080; text-decoration-color: #800080; font-weight: bold\">.flatten</span><span style=\"font-weight: bold\">()</span>                            <span style=\"color: #7f7f7f; text-decoration-color: #7f7f7f\">               </span>\n",
       "<span style=\"color: #7fbfbf; text-decoration-color: #7fbfbf\">                    </span>                                                                                <span style=\"color: #7f7f7f; text-decoration-color: #7f7f7f\">               </span>\n",
       "</pre>\n"
      ],
      "text/plain": [
       "\u001b[2;36m[08/22/23 11:04:11]\u001b[0m\u001b[2;36m \u001b[0m\u001b[31mWARNING \u001b[0m \u001b[35m/tmp/ipykernel_26498/\u001b[0m\u001b[95m1921957139.py\u001b[0m:\u001b[1;36m12\u001b[0m: DeprecationWarning: `np.bool`   \u001b]8;id=942196;file:///usr/lib/python3.9/warnings.py\u001b\\\u001b[2mwarnings.py\u001b[0m\u001b]8;;\u001b\\\u001b[2m:\u001b[0m\u001b]8;id=576940;file:///usr/lib/python3.9/warnings.py#109\u001b\\\u001b[2m109\u001b[0m\u001b]8;;\u001b\\\n",
       "\u001b[2;36m                    \u001b[0m         is a deprecated alias for the builtin `bool`. To silence this warning, \u001b[2m               \u001b[0m\n",
       "\u001b[2;36m                    \u001b[0m         use `bool` by itself. Doing this will not modify any behavior and is   \u001b[2m               \u001b[0m\n",
       "\u001b[2;36m                    \u001b[0m         safe. If you specifically wanted the numpy scalar type, use `np.bool_` \u001b[2m               \u001b[0m\n",
       "\u001b[2;36m                    \u001b[0m         here.                                                                  \u001b[2m               \u001b[0m\n",
       "\u001b[2;36m                    \u001b[0m         Deprecated in NumPy \u001b[1;36m1.20\u001b[0m; for more details and guidance:               \u001b[2m               \u001b[0m\n",
       "\u001b[2;36m                    \u001b[0m         \u001b[4;94mhttps://numpy.org/devdocs/release/1.20.0-notes.html#deprecations\u001b[0m       \u001b[2m               \u001b[0m\n",
       "\u001b[2;36m                    \u001b[0m           target = \u001b[1;35mtarget.astype\u001b[0m\u001b[1m(\u001b[0mnp.bool\u001b[1m)\u001b[0m\u001b[1;35m.flatten\u001b[0m\u001b[1m(\u001b[0m\u001b[1m)\u001b[0m                            \u001b[2m               \u001b[0m\n",
       "\u001b[2;36m                    \u001b[0m                                                                                \u001b[2m               \u001b[0m\n"
      ]
     },
     "metadata": {},
     "output_type": "display_data"
    },
    {
     "name": "stdout",
     "output_type": "stream",
     "text": [
      "confussion matrix model\n",
      "col_0  False  True \n",
      "row_0              \n",
      "True     109    988\n",
      "\n",
      " confussion matrix edit\n",
      "col_0  False  True \n",
      "row_0              \n",
      "True     347    750\n",
      "/n/n Classification report model\n"
     ]
    },
    {
     "data": {
      "text/html": [
       "<pre style=\"white-space:pre;overflow-x:auto;line-height:normal;font-family:Menlo,'DejaVu Sans Mono',consolas,'Courier New',monospace\"><span style=\"color: #7fbfbf; text-decoration-color: #7fbfbf\">                    </span><span style=\"color: #800000; text-decoration-color: #800000\">WARNING </span> <span style=\"color: #800080; text-decoration-color: #800080\">/usr/local/lib/python3.9/dist-packages/sklearn/metrics/</span><span style=\"color: #ff00ff; text-decoration-color: #ff00ff\">_classification</span> <a href=\"file:///usr/lib/python3.9/warnings.py\" target=\"_blank\"><span style=\"color: #7f7f7f; text-decoration-color: #7f7f7f\">warnings.py</span></a><span style=\"color: #7f7f7f; text-decoration-color: #7f7f7f\">:</span><a href=\"file:///usr/lib/python3.9/warnings.py#109\" target=\"_blank\"><span style=\"color: #7f7f7f; text-decoration-color: #7f7f7f\">109</span></a>\n",
       "<span style=\"color: #7fbfbf; text-decoration-color: #7fbfbf\">                    </span>         <span style=\"color: #ff00ff; text-decoration-color: #ff00ff\">.py</span>:<span style=\"color: #008080; text-decoration-color: #008080; font-weight: bold\">1334</span>: UndefinedMetricWarning: Recall and F-score are ill-defined   <span style=\"color: #7f7f7f; text-decoration-color: #7f7f7f\">               </span>\n",
       "<span style=\"color: #7fbfbf; text-decoration-color: #7fbfbf\">                    </span>         and being set to <span style=\"color: #008080; text-decoration-color: #008080; font-weight: bold\">0.0</span> in labels with no true samples. Use               <span style=\"color: #7f7f7f; text-decoration-color: #7f7f7f\">               </span>\n",
       "<span style=\"color: #7fbfbf; text-decoration-color: #7fbfbf\">                    </span>         `zero_division` parameter to control this behavior.                    <span style=\"color: #7f7f7f; text-decoration-color: #7f7f7f\">               </span>\n",
       "<span style=\"color: #7fbfbf; text-decoration-color: #7fbfbf\">                    </span>           <span style=\"color: #800080; text-decoration-color: #800080; font-weight: bold\">_warn_prf</span><span style=\"font-weight: bold\">(</span>average, modifier, msg_start, <span style=\"color: #800080; text-decoration-color: #800080; font-weight: bold\">len</span><span style=\"font-weight: bold\">(</span>result<span style=\"font-weight: bold\">))</span>                 <span style=\"color: #7f7f7f; text-decoration-color: #7f7f7f\">               </span>\n",
       "<span style=\"color: #7fbfbf; text-decoration-color: #7fbfbf\">                    </span>                                                                                <span style=\"color: #7f7f7f; text-decoration-color: #7f7f7f\">               </span>\n",
       "</pre>\n"
      ],
      "text/plain": [
       "\u001b[2;36m                   \u001b[0m\u001b[2;36m \u001b[0m\u001b[31mWARNING \u001b[0m \u001b[35m/usr/local/lib/python3.9/dist-packages/sklearn/metrics/\u001b[0m\u001b[95m_classification\u001b[0m \u001b]8;id=593773;file:///usr/lib/python3.9/warnings.py\u001b\\\u001b[2mwarnings.py\u001b[0m\u001b]8;;\u001b\\\u001b[2m:\u001b[0m\u001b]8;id=217082;file:///usr/lib/python3.9/warnings.py#109\u001b\\\u001b[2m109\u001b[0m\u001b]8;;\u001b\\\n",
       "\u001b[2;36m                    \u001b[0m         \u001b[95m.py\u001b[0m:\u001b[1;36m1334\u001b[0m: UndefinedMetricWarning: Recall and F-score are ill-defined   \u001b[2m               \u001b[0m\n",
       "\u001b[2;36m                    \u001b[0m         and being set to \u001b[1;36m0.0\u001b[0m in labels with no true samples. Use               \u001b[2m               \u001b[0m\n",
       "\u001b[2;36m                    \u001b[0m         `zero_division` parameter to control this behavior.                    \u001b[2m               \u001b[0m\n",
       "\u001b[2;36m                    \u001b[0m           \u001b[1;35m_warn_prf\u001b[0m\u001b[1m(\u001b[0maverage, modifier, msg_start, \u001b[1;35mlen\u001b[0m\u001b[1m(\u001b[0mresult\u001b[1m)\u001b[0m\u001b[1m)\u001b[0m                 \u001b[2m               \u001b[0m\n",
       "\u001b[2;36m                    \u001b[0m                                                                                \u001b[2m               \u001b[0m\n"
      ]
     },
     "metadata": {},
     "output_type": "display_data"
    },
    {
     "data": {
      "text/html": [
       "<pre style=\"white-space:pre;overflow-x:auto;line-height:normal;font-family:Menlo,'DejaVu Sans Mono',consolas,'Courier New',monospace\"><span style=\"color: #7fbfbf; text-decoration-color: #7fbfbf\">                    </span><span style=\"color: #800000; text-decoration-color: #800000\">WARNING </span> <span style=\"color: #800080; text-decoration-color: #800080\">/usr/local/lib/python3.9/dist-packages/sklearn/metrics/</span><span style=\"color: #ff00ff; text-decoration-color: #ff00ff\">_classification</span> <a href=\"file:///usr/lib/python3.9/warnings.py\" target=\"_blank\"><span style=\"color: #7f7f7f; text-decoration-color: #7f7f7f\">warnings.py</span></a><span style=\"color: #7f7f7f; text-decoration-color: #7f7f7f\">:</span><a href=\"file:///usr/lib/python3.9/warnings.py#109\" target=\"_blank\"><span style=\"color: #7f7f7f; text-decoration-color: #7f7f7f\">109</span></a>\n",
       "<span style=\"color: #7fbfbf; text-decoration-color: #7fbfbf\">                    </span>         <span style=\"color: #ff00ff; text-decoration-color: #ff00ff\">.py</span>:<span style=\"color: #008080; text-decoration-color: #008080; font-weight: bold\">1334</span>: UndefinedMetricWarning: Recall and F-score are ill-defined   <span style=\"color: #7f7f7f; text-decoration-color: #7f7f7f\">               </span>\n",
       "<span style=\"color: #7fbfbf; text-decoration-color: #7fbfbf\">                    </span>         and being set to <span style=\"color: #008080; text-decoration-color: #008080; font-weight: bold\">0.0</span> in labels with no true samples. Use               <span style=\"color: #7f7f7f; text-decoration-color: #7f7f7f\">               </span>\n",
       "<span style=\"color: #7fbfbf; text-decoration-color: #7fbfbf\">                    </span>         `zero_division` parameter to control this behavior.                    <span style=\"color: #7f7f7f; text-decoration-color: #7f7f7f\">               </span>\n",
       "<span style=\"color: #7fbfbf; text-decoration-color: #7fbfbf\">                    </span>           <span style=\"color: #800080; text-decoration-color: #800080; font-weight: bold\">_warn_prf</span><span style=\"font-weight: bold\">(</span>average, modifier, msg_start, <span style=\"color: #800080; text-decoration-color: #800080; font-weight: bold\">len</span><span style=\"font-weight: bold\">(</span>result<span style=\"font-weight: bold\">))</span>                 <span style=\"color: #7f7f7f; text-decoration-color: #7f7f7f\">               </span>\n",
       "<span style=\"color: #7fbfbf; text-decoration-color: #7fbfbf\">                    </span>                                                                                <span style=\"color: #7f7f7f; text-decoration-color: #7f7f7f\">               </span>\n",
       "</pre>\n"
      ],
      "text/plain": [
       "\u001b[2;36m                   \u001b[0m\u001b[2;36m \u001b[0m\u001b[31mWARNING \u001b[0m \u001b[35m/usr/local/lib/python3.9/dist-packages/sklearn/metrics/\u001b[0m\u001b[95m_classification\u001b[0m \u001b]8;id=510384;file:///usr/lib/python3.9/warnings.py\u001b\\\u001b[2mwarnings.py\u001b[0m\u001b]8;;\u001b\\\u001b[2m:\u001b[0m\u001b]8;id=334084;file:///usr/lib/python3.9/warnings.py#109\u001b\\\u001b[2m109\u001b[0m\u001b]8;;\u001b\\\n",
       "\u001b[2;36m                    \u001b[0m         \u001b[95m.py\u001b[0m:\u001b[1;36m1334\u001b[0m: UndefinedMetricWarning: Recall and F-score are ill-defined   \u001b[2m               \u001b[0m\n",
       "\u001b[2;36m                    \u001b[0m         and being set to \u001b[1;36m0.0\u001b[0m in labels with no true samples. Use               \u001b[2m               \u001b[0m\n",
       "\u001b[2;36m                    \u001b[0m         `zero_division` parameter to control this behavior.                    \u001b[2m               \u001b[0m\n",
       "\u001b[2;36m                    \u001b[0m           \u001b[1;35m_warn_prf\u001b[0m\u001b[1m(\u001b[0maverage, modifier, msg_start, \u001b[1;35mlen\u001b[0m\u001b[1m(\u001b[0mresult\u001b[1m)\u001b[0m\u001b[1m)\u001b[0m                 \u001b[2m               \u001b[0m\n",
       "\u001b[2;36m                    \u001b[0m                                                                                \u001b[2m               \u001b[0m\n"
      ]
     },
     "metadata": {},
     "output_type": "display_data"
    },
    {
     "data": {
      "text/html": [
       "<pre style=\"white-space:pre;overflow-x:auto;line-height:normal;font-family:Menlo,'DejaVu Sans Mono',consolas,'Courier New',monospace\"><span style=\"color: #7fbfbf; text-decoration-color: #7fbfbf\">                    </span><span style=\"color: #800000; text-decoration-color: #800000\">WARNING </span> <span style=\"color: #800080; text-decoration-color: #800080\">/usr/local/lib/python3.9/dist-packages/sklearn/metrics/</span><span style=\"color: #ff00ff; text-decoration-color: #ff00ff\">_classification</span> <a href=\"file:///usr/lib/python3.9/warnings.py\" target=\"_blank\"><span style=\"color: #7f7f7f; text-decoration-color: #7f7f7f\">warnings.py</span></a><span style=\"color: #7f7f7f; text-decoration-color: #7f7f7f\">:</span><a href=\"file:///usr/lib/python3.9/warnings.py#109\" target=\"_blank\"><span style=\"color: #7f7f7f; text-decoration-color: #7f7f7f\">109</span></a>\n",
       "<span style=\"color: #7fbfbf; text-decoration-color: #7fbfbf\">                    </span>         <span style=\"color: #ff00ff; text-decoration-color: #ff00ff\">.py</span>:<span style=\"color: #008080; text-decoration-color: #008080; font-weight: bold\">1334</span>: UndefinedMetricWarning: Recall and F-score are ill-defined   <span style=\"color: #7f7f7f; text-decoration-color: #7f7f7f\">               </span>\n",
       "<span style=\"color: #7fbfbf; text-decoration-color: #7fbfbf\">                    </span>         and being set to <span style=\"color: #008080; text-decoration-color: #008080; font-weight: bold\">0.0</span> in labels with no true samples. Use               <span style=\"color: #7f7f7f; text-decoration-color: #7f7f7f\">               </span>\n",
       "<span style=\"color: #7fbfbf; text-decoration-color: #7fbfbf\">                    </span>         `zero_division` parameter to control this behavior.                    <span style=\"color: #7f7f7f; text-decoration-color: #7f7f7f\">               </span>\n",
       "<span style=\"color: #7fbfbf; text-decoration-color: #7fbfbf\">                    </span>           <span style=\"color: #800080; text-decoration-color: #800080; font-weight: bold\">_warn_prf</span><span style=\"font-weight: bold\">(</span>average, modifier, msg_start, <span style=\"color: #800080; text-decoration-color: #800080; font-weight: bold\">len</span><span style=\"font-weight: bold\">(</span>result<span style=\"font-weight: bold\">))</span>                 <span style=\"color: #7f7f7f; text-decoration-color: #7f7f7f\">               </span>\n",
       "<span style=\"color: #7fbfbf; text-decoration-color: #7fbfbf\">                    </span>                                                                                <span style=\"color: #7f7f7f; text-decoration-color: #7f7f7f\">               </span>\n",
       "</pre>\n"
      ],
      "text/plain": [
       "\u001b[2;36m                   \u001b[0m\u001b[2;36m \u001b[0m\u001b[31mWARNING \u001b[0m \u001b[35m/usr/local/lib/python3.9/dist-packages/sklearn/metrics/\u001b[0m\u001b[95m_classification\u001b[0m \u001b]8;id=487255;file:///usr/lib/python3.9/warnings.py\u001b\\\u001b[2mwarnings.py\u001b[0m\u001b]8;;\u001b\\\u001b[2m:\u001b[0m\u001b]8;id=604562;file:///usr/lib/python3.9/warnings.py#109\u001b\\\u001b[2m109\u001b[0m\u001b]8;;\u001b\\\n",
       "\u001b[2;36m                    \u001b[0m         \u001b[95m.py\u001b[0m:\u001b[1;36m1334\u001b[0m: UndefinedMetricWarning: Recall and F-score are ill-defined   \u001b[2m               \u001b[0m\n",
       "\u001b[2;36m                    \u001b[0m         and being set to \u001b[1;36m0.0\u001b[0m in labels with no true samples. Use               \u001b[2m               \u001b[0m\n",
       "\u001b[2;36m                    \u001b[0m         `zero_division` parameter to control this behavior.                    \u001b[2m               \u001b[0m\n",
       "\u001b[2;36m                    \u001b[0m           \u001b[1;35m_warn_prf\u001b[0m\u001b[1m(\u001b[0maverage, modifier, msg_start, \u001b[1;35mlen\u001b[0m\u001b[1m(\u001b[0mresult\u001b[1m)\u001b[0m\u001b[1m)\u001b[0m                 \u001b[2m               \u001b[0m\n",
       "\u001b[2;36m                    \u001b[0m                                                                                \u001b[2m               \u001b[0m\n"
      ]
     },
     "metadata": {},
     "output_type": "display_data"
    },
    {
     "name": "stdout",
     "output_type": "stream",
     "text": [
      "              precision    recall  f1-score   support\n",
      "\n",
      "       False       0.00      0.00      0.00         0\n",
      "        True       1.00      0.90      0.95      1097\n",
      "\n",
      "    accuracy                           0.90      1097\n",
      "   macro avg       0.50      0.45      0.47      1097\n",
      "weighted avg       1.00      0.90      0.95      1097\n",
      "\n",
      "/n Classification report edit\n"
     ]
    },
    {
     "data": {
      "text/html": [
       "<pre style=\"white-space:pre;overflow-x:auto;line-height:normal;font-family:Menlo,'DejaVu Sans Mono',consolas,'Courier New',monospace\"><span style=\"color: #7fbfbf; text-decoration-color: #7fbfbf\">                    </span><span style=\"color: #800000; text-decoration-color: #800000\">WARNING </span> <span style=\"color: #800080; text-decoration-color: #800080\">/usr/local/lib/python3.9/dist-packages/sklearn/metrics/</span><span style=\"color: #ff00ff; text-decoration-color: #ff00ff\">_classification</span> <a href=\"file:///usr/lib/python3.9/warnings.py\" target=\"_blank\"><span style=\"color: #7f7f7f; text-decoration-color: #7f7f7f\">warnings.py</span></a><span style=\"color: #7f7f7f; text-decoration-color: #7f7f7f\">:</span><a href=\"file:///usr/lib/python3.9/warnings.py#109\" target=\"_blank\"><span style=\"color: #7f7f7f; text-decoration-color: #7f7f7f\">109</span></a>\n",
       "<span style=\"color: #7fbfbf; text-decoration-color: #7fbfbf\">                    </span>         <span style=\"color: #ff00ff; text-decoration-color: #ff00ff\">.py</span>:<span style=\"color: #008080; text-decoration-color: #008080; font-weight: bold\">1334</span>: UndefinedMetricWarning: Recall and F-score are ill-defined   <span style=\"color: #7f7f7f; text-decoration-color: #7f7f7f\">               </span>\n",
       "<span style=\"color: #7fbfbf; text-decoration-color: #7fbfbf\">                    </span>         and being set to <span style=\"color: #008080; text-decoration-color: #008080; font-weight: bold\">0.0</span> in labels with no true samples. Use               <span style=\"color: #7f7f7f; text-decoration-color: #7f7f7f\">               </span>\n",
       "<span style=\"color: #7fbfbf; text-decoration-color: #7fbfbf\">                    </span>         `zero_division` parameter to control this behavior.                    <span style=\"color: #7f7f7f; text-decoration-color: #7f7f7f\">               </span>\n",
       "<span style=\"color: #7fbfbf; text-decoration-color: #7fbfbf\">                    </span>           <span style=\"color: #800080; text-decoration-color: #800080; font-weight: bold\">_warn_prf</span><span style=\"font-weight: bold\">(</span>average, modifier, msg_start, <span style=\"color: #800080; text-decoration-color: #800080; font-weight: bold\">len</span><span style=\"font-weight: bold\">(</span>result<span style=\"font-weight: bold\">))</span>                 <span style=\"color: #7f7f7f; text-decoration-color: #7f7f7f\">               </span>\n",
       "<span style=\"color: #7fbfbf; text-decoration-color: #7fbfbf\">                    </span>                                                                                <span style=\"color: #7f7f7f; text-decoration-color: #7f7f7f\">               </span>\n",
       "</pre>\n"
      ],
      "text/plain": [
       "\u001b[2;36m                   \u001b[0m\u001b[2;36m \u001b[0m\u001b[31mWARNING \u001b[0m \u001b[35m/usr/local/lib/python3.9/dist-packages/sklearn/metrics/\u001b[0m\u001b[95m_classification\u001b[0m \u001b]8;id=143877;file:///usr/lib/python3.9/warnings.py\u001b\\\u001b[2mwarnings.py\u001b[0m\u001b]8;;\u001b\\\u001b[2m:\u001b[0m\u001b]8;id=811532;file:///usr/lib/python3.9/warnings.py#109\u001b\\\u001b[2m109\u001b[0m\u001b]8;;\u001b\\\n",
       "\u001b[2;36m                    \u001b[0m         \u001b[95m.py\u001b[0m:\u001b[1;36m1334\u001b[0m: UndefinedMetricWarning: Recall and F-score are ill-defined   \u001b[2m               \u001b[0m\n",
       "\u001b[2;36m                    \u001b[0m         and being set to \u001b[1;36m0.0\u001b[0m in labels with no true samples. Use               \u001b[2m               \u001b[0m\n",
       "\u001b[2;36m                    \u001b[0m         `zero_division` parameter to control this behavior.                    \u001b[2m               \u001b[0m\n",
       "\u001b[2;36m                    \u001b[0m           \u001b[1;35m_warn_prf\u001b[0m\u001b[1m(\u001b[0maverage, modifier, msg_start, \u001b[1;35mlen\u001b[0m\u001b[1m(\u001b[0mresult\u001b[1m)\u001b[0m\u001b[1m)\u001b[0m                 \u001b[2m               \u001b[0m\n",
       "\u001b[2;36m                    \u001b[0m                                                                                \u001b[2m               \u001b[0m\n"
      ]
     },
     "metadata": {},
     "output_type": "display_data"
    },
    {
     "data": {
      "text/html": [
       "<pre style=\"white-space:pre;overflow-x:auto;line-height:normal;font-family:Menlo,'DejaVu Sans Mono',consolas,'Courier New',monospace\"><span style=\"color: #7fbfbf; text-decoration-color: #7fbfbf\">                    </span><span style=\"color: #800000; text-decoration-color: #800000\">WARNING </span> <span style=\"color: #800080; text-decoration-color: #800080\">/usr/local/lib/python3.9/dist-packages/sklearn/metrics/</span><span style=\"color: #ff00ff; text-decoration-color: #ff00ff\">_classification</span> <a href=\"file:///usr/lib/python3.9/warnings.py\" target=\"_blank\"><span style=\"color: #7f7f7f; text-decoration-color: #7f7f7f\">warnings.py</span></a><span style=\"color: #7f7f7f; text-decoration-color: #7f7f7f\">:</span><a href=\"file:///usr/lib/python3.9/warnings.py#109\" target=\"_blank\"><span style=\"color: #7f7f7f; text-decoration-color: #7f7f7f\">109</span></a>\n",
       "<span style=\"color: #7fbfbf; text-decoration-color: #7fbfbf\">                    </span>         <span style=\"color: #ff00ff; text-decoration-color: #ff00ff\">.py</span>:<span style=\"color: #008080; text-decoration-color: #008080; font-weight: bold\">1334</span>: UndefinedMetricWarning: Recall and F-score are ill-defined   <span style=\"color: #7f7f7f; text-decoration-color: #7f7f7f\">               </span>\n",
       "<span style=\"color: #7fbfbf; text-decoration-color: #7fbfbf\">                    </span>         and being set to <span style=\"color: #008080; text-decoration-color: #008080; font-weight: bold\">0.0</span> in labels with no true samples. Use               <span style=\"color: #7f7f7f; text-decoration-color: #7f7f7f\">               </span>\n",
       "<span style=\"color: #7fbfbf; text-decoration-color: #7fbfbf\">                    </span>         `zero_division` parameter to control this behavior.                    <span style=\"color: #7f7f7f; text-decoration-color: #7f7f7f\">               </span>\n",
       "<span style=\"color: #7fbfbf; text-decoration-color: #7fbfbf\">                    </span>           <span style=\"color: #800080; text-decoration-color: #800080; font-weight: bold\">_warn_prf</span><span style=\"font-weight: bold\">(</span>average, modifier, msg_start, <span style=\"color: #800080; text-decoration-color: #800080; font-weight: bold\">len</span><span style=\"font-weight: bold\">(</span>result<span style=\"font-weight: bold\">))</span>                 <span style=\"color: #7f7f7f; text-decoration-color: #7f7f7f\">               </span>\n",
       "<span style=\"color: #7fbfbf; text-decoration-color: #7fbfbf\">                    </span>                                                                                <span style=\"color: #7f7f7f; text-decoration-color: #7f7f7f\">               </span>\n",
       "</pre>\n"
      ],
      "text/plain": [
       "\u001b[2;36m                   \u001b[0m\u001b[2;36m \u001b[0m\u001b[31mWARNING \u001b[0m \u001b[35m/usr/local/lib/python3.9/dist-packages/sklearn/metrics/\u001b[0m\u001b[95m_classification\u001b[0m \u001b]8;id=752808;file:///usr/lib/python3.9/warnings.py\u001b\\\u001b[2mwarnings.py\u001b[0m\u001b]8;;\u001b\\\u001b[2m:\u001b[0m\u001b]8;id=111282;file:///usr/lib/python3.9/warnings.py#109\u001b\\\u001b[2m109\u001b[0m\u001b]8;;\u001b\\\n",
       "\u001b[2;36m                    \u001b[0m         \u001b[95m.py\u001b[0m:\u001b[1;36m1334\u001b[0m: UndefinedMetricWarning: Recall and F-score are ill-defined   \u001b[2m               \u001b[0m\n",
       "\u001b[2;36m                    \u001b[0m         and being set to \u001b[1;36m0.0\u001b[0m in labels with no true samples. Use               \u001b[2m               \u001b[0m\n",
       "\u001b[2;36m                    \u001b[0m         `zero_division` parameter to control this behavior.                    \u001b[2m               \u001b[0m\n",
       "\u001b[2;36m                    \u001b[0m           \u001b[1;35m_warn_prf\u001b[0m\u001b[1m(\u001b[0maverage, modifier, msg_start, \u001b[1;35mlen\u001b[0m\u001b[1m(\u001b[0mresult\u001b[1m)\u001b[0m\u001b[1m)\u001b[0m                 \u001b[2m               \u001b[0m\n",
       "\u001b[2;36m                    \u001b[0m                                                                                \u001b[2m               \u001b[0m\n"
      ]
     },
     "metadata": {},
     "output_type": "display_data"
    },
    {
     "data": {
      "text/html": [
       "<pre style=\"white-space:pre;overflow-x:auto;line-height:normal;font-family:Menlo,'DejaVu Sans Mono',consolas,'Courier New',monospace\"><span style=\"color: #7fbfbf; text-decoration-color: #7fbfbf\">                    </span><span style=\"color: #800000; text-decoration-color: #800000\">WARNING </span> <span style=\"color: #800080; text-decoration-color: #800080\">/usr/local/lib/python3.9/dist-packages/sklearn/metrics/</span><span style=\"color: #ff00ff; text-decoration-color: #ff00ff\">_classification</span> <a href=\"file:///usr/lib/python3.9/warnings.py\" target=\"_blank\"><span style=\"color: #7f7f7f; text-decoration-color: #7f7f7f\">warnings.py</span></a><span style=\"color: #7f7f7f; text-decoration-color: #7f7f7f\">:</span><a href=\"file:///usr/lib/python3.9/warnings.py#109\" target=\"_blank\"><span style=\"color: #7f7f7f; text-decoration-color: #7f7f7f\">109</span></a>\n",
       "<span style=\"color: #7fbfbf; text-decoration-color: #7fbfbf\">                    </span>         <span style=\"color: #ff00ff; text-decoration-color: #ff00ff\">.py</span>:<span style=\"color: #008080; text-decoration-color: #008080; font-weight: bold\">1334</span>: UndefinedMetricWarning: Recall and F-score are ill-defined   <span style=\"color: #7f7f7f; text-decoration-color: #7f7f7f\">               </span>\n",
       "<span style=\"color: #7fbfbf; text-decoration-color: #7fbfbf\">                    </span>         and being set to <span style=\"color: #008080; text-decoration-color: #008080; font-weight: bold\">0.0</span> in labels with no true samples. Use               <span style=\"color: #7f7f7f; text-decoration-color: #7f7f7f\">               </span>\n",
       "<span style=\"color: #7fbfbf; text-decoration-color: #7fbfbf\">                    </span>         `zero_division` parameter to control this behavior.                    <span style=\"color: #7f7f7f; text-decoration-color: #7f7f7f\">               </span>\n",
       "<span style=\"color: #7fbfbf; text-decoration-color: #7fbfbf\">                    </span>           <span style=\"color: #800080; text-decoration-color: #800080; font-weight: bold\">_warn_prf</span><span style=\"font-weight: bold\">(</span>average, modifier, msg_start, <span style=\"color: #800080; text-decoration-color: #800080; font-weight: bold\">len</span><span style=\"font-weight: bold\">(</span>result<span style=\"font-weight: bold\">))</span>                 <span style=\"color: #7f7f7f; text-decoration-color: #7f7f7f\">               </span>\n",
       "<span style=\"color: #7fbfbf; text-decoration-color: #7fbfbf\">                    </span>                                                                                <span style=\"color: #7f7f7f; text-decoration-color: #7f7f7f\">               </span>\n",
       "</pre>\n"
      ],
      "text/plain": [
       "\u001b[2;36m                   \u001b[0m\u001b[2;36m \u001b[0m\u001b[31mWARNING \u001b[0m \u001b[35m/usr/local/lib/python3.9/dist-packages/sklearn/metrics/\u001b[0m\u001b[95m_classification\u001b[0m \u001b]8;id=432610;file:///usr/lib/python3.9/warnings.py\u001b\\\u001b[2mwarnings.py\u001b[0m\u001b]8;;\u001b\\\u001b[2m:\u001b[0m\u001b]8;id=470055;file:///usr/lib/python3.9/warnings.py#109\u001b\\\u001b[2m109\u001b[0m\u001b]8;;\u001b\\\n",
       "\u001b[2;36m                    \u001b[0m         \u001b[95m.py\u001b[0m:\u001b[1;36m1334\u001b[0m: UndefinedMetricWarning: Recall and F-score are ill-defined   \u001b[2m               \u001b[0m\n",
       "\u001b[2;36m                    \u001b[0m         and being set to \u001b[1;36m0.0\u001b[0m in labels with no true samples. Use               \u001b[2m               \u001b[0m\n",
       "\u001b[2;36m                    \u001b[0m         `zero_division` parameter to control this behavior.                    \u001b[2m               \u001b[0m\n",
       "\u001b[2;36m                    \u001b[0m           \u001b[1;35m_warn_prf\u001b[0m\u001b[1m(\u001b[0maverage, modifier, msg_start, \u001b[1;35mlen\u001b[0m\u001b[1m(\u001b[0mresult\u001b[1m)\u001b[0m\u001b[1m)\u001b[0m                 \u001b[2m               \u001b[0m\n",
       "\u001b[2;36m                    \u001b[0m                                                                                \u001b[2m               \u001b[0m\n"
      ]
     },
     "metadata": {},
     "output_type": "display_data"
    },
    {
     "name": "stdout",
     "output_type": "stream",
     "text": [
      "              precision    recall  f1-score   support\n",
      "\n",
      "       False       0.00      0.00      0.00         0\n",
      "        True       1.00      0.68      0.81      1097\n",
      "\n",
      "    accuracy                           0.68      1097\n",
      "   macro avg       0.50      0.34      0.41      1097\n",
      "weighted avg       1.00      0.68      0.81      1097\n",
      "\n"
     ]
    }
   ],
   "source": [
    "generate_comparison_model_vs_edit(data_prod_abt_pairs, data_prod_abt_target, .5)"
   ]
  },
  {
   "cell_type": "markdown",
   "id": "63b0df6c-9eec-495c-b7b5-159bbbc062d2",
   "metadata": {},
   "source": [
    "# Affiliations dataset"
   ]
  },
  {
   "cell_type": "code",
   "execution_count": 129,
   "id": "1a7ffed7-3328-42c4-92df-f38929911229",
   "metadata": {},
   "outputs": [],
   "source": [
    "raw_names = pd.read_csv('../../data/01_raw/affiliations/affiliationstrings_ids.csv')\n",
    "mapping = pd.read_csv('../../data/01_raw/affiliations/affiliationstrings_mapping.csv').astype('int')"
   ]
  },
  {
   "cell_type": "code",
   "execution_count": 130,
   "id": "b7eedb46-0ba6-4dbc-a217-db5288b5ff41",
   "metadata": {},
   "outputs": [],
   "source": [
    "mapping.columns = ['id1', 'id2']\n",
    "raw_names.columns = ['id', 'name']"
   ]
  },
  {
   "cell_type": "code",
   "execution_count": 131,
   "id": "d017af08-f895-420c-8b08-2669ef46cb4d",
   "metadata": {},
   "outputs": [],
   "source": [
    "data_affiliations = mapping.merge(raw_names, left_on='id1', right_on='id').merge(raw_names, left_on='id2', right_on='id')"
   ]
  },
  {
   "cell_type": "code",
   "execution_count": 132,
   "id": "306ccb97-6f7f-41cd-a24b-44b31f7fc4be",
   "metadata": {},
   "outputs": [],
   "source": [
    "data_affiliations['name_x'] = data_affiliations['name_x'].apply(lambda x: normalize_characters(x))\n",
    "data_affiliations['name_y'] = data_affiliations['name_y'].apply(lambda x: normalize_characters(x))\n",
    "data_affiliations['target'] = 1"
   ]
  },
  {
   "cell_type": "code",
   "execution_count": 133,
   "id": "fb38940c-863c-48f9-9563-d59be906214f",
   "metadata": {},
   "outputs": [],
   "source": [
    "data_affiliations = data_affiliations.drop_duplicates(subset=['name_x', 'name_y'])"
   ]
  },
  {
   "cell_type": "code",
   "execution_count": 134,
   "id": "51db0f57-78a9-422f-87a6-978b0510a9e6",
   "metadata": {},
   "outputs": [],
   "source": [
    "data_affiliations_pairs = data_affiliations[['name_x', 'name_y']].values\n",
    "data_affiliations_target = data_affiliations['target'].values"
   ]
  },
  {
   "cell_type": "code",
   "execution_count": 135,
   "id": "1d36c674-fa9e-440b-8614-32ca8561318d",
   "metadata": {},
   "outputs": [
    {
     "name": "stdout",
     "output_type": "stream",
     "text": [
      "863/863 [==============================] - 122s 142ms/step\n"
     ]
    }
   ],
   "source": [
    "X_encoded_1 = encode_sparsed_list(data_affiliations_pairs[:, 0],char_to_index_dict=char_to_index, max_len=MAX_NAME_LEN)\n",
    "X_encoded_2 = encode_sparsed_list(data_affiliations_pairs[:, 1],char_to_index_dict=char_to_index, max_len=MAX_NAME_LEN)\n",
    "    \n",
    "prediction = poi_c2v.model.predict((X_encoded_1, X_encoded_2))"
   ]
  },
  {
   "cell_type": "code",
   "execution_count": 136,
   "id": "0023f836-c514-4588-8b33-42a1c7b6d375",
   "metadata": {},
   "outputs": [],
   "source": [
    "prediction_token_set = np.array([fuzz.token_set_ratio(name1, name2)/100 for name1, name2 in data_affiliations_pairs])"
   ]
  },
  {
   "cell_type": "code",
   "execution_count": 137,
   "id": "c14d599c-57fc-44c7-bf3f-e62ca04b9c5c",
   "metadata": {},
   "outputs": [],
   "source": [
    "data_affiliations['cnn_prediction'] = prediction.flatten()\n",
    "data_affiliations['token_set_prediction'] = prediction_token_set\n",
    "\n",
    "data_affiliations['cnn_match'] = prediction>.5\n",
    "data_affiliations['token_set_match'] = prediction_token_set>.75"
   ]
  },
  {
   "cell_type": "code",
   "execution_count": 243,
   "id": "175d0a99-5b1a-4120-b566-fce0797f9cc3",
   "metadata": {},
   "outputs": [],
   "source": [
    "data_affiliations.to_csv('affiliations_cnn_vs_edit_predictions.csv', index=False)"
   ]
  },
  {
   "cell_type": "code",
   "execution_count": 138,
   "id": "e426f2ce-1a24-484a-b1c7-3e4feaf44188",
   "metadata": {},
   "outputs": [
    {
     "name": "stdout",
     "output_type": "stream",
     "text": [
      "863/863 [==============================] - 122s 142ms/step\n"
     ]
    },
    {
     "data": {
      "text/html": [
       "<pre style=\"white-space:pre;overflow-x:auto;line-height:normal;font-family:Menlo,'DejaVu Sans Mono',consolas,'Courier New',monospace\"><span style=\"color: #7fbfbf; text-decoration-color: #7fbfbf\">[08/22/23 11:08:49] </span><span style=\"color: #800000; text-decoration-color: #800000\">WARNING </span> <span style=\"color: #800080; text-decoration-color: #800080\">/tmp/ipykernel_26498/</span><span style=\"color: #ff00ff; text-decoration-color: #ff00ff\">1921957139.py</span>:<span style=\"color: #008080; text-decoration-color: #008080; font-weight: bold\">12</span>: DeprecationWarning: `np.bool`   <a href=\"file:///usr/lib/python3.9/warnings.py\" target=\"_blank\"><span style=\"color: #7f7f7f; text-decoration-color: #7f7f7f\">warnings.py</span></a><span style=\"color: #7f7f7f; text-decoration-color: #7f7f7f\">:</span><a href=\"file:///usr/lib/python3.9/warnings.py#109\" target=\"_blank\"><span style=\"color: #7f7f7f; text-decoration-color: #7f7f7f\">109</span></a>\n",
       "<span style=\"color: #7fbfbf; text-decoration-color: #7fbfbf\">                    </span>         is a deprecated alias for the builtin `bool`. To silence this warning, <span style=\"color: #7f7f7f; text-decoration-color: #7f7f7f\">               </span>\n",
       "<span style=\"color: #7fbfbf; text-decoration-color: #7fbfbf\">                    </span>         use `bool` by itself. Doing this will not modify any behavior and is   <span style=\"color: #7f7f7f; text-decoration-color: #7f7f7f\">               </span>\n",
       "<span style=\"color: #7fbfbf; text-decoration-color: #7fbfbf\">                    </span>         safe. If you specifically wanted the numpy scalar type, use `np.bool_` <span style=\"color: #7f7f7f; text-decoration-color: #7f7f7f\">               </span>\n",
       "<span style=\"color: #7fbfbf; text-decoration-color: #7fbfbf\">                    </span>         here.                                                                  <span style=\"color: #7f7f7f; text-decoration-color: #7f7f7f\">               </span>\n",
       "<span style=\"color: #7fbfbf; text-decoration-color: #7fbfbf\">                    </span>         Deprecated in NumPy <span style=\"color: #008080; text-decoration-color: #008080; font-weight: bold\">1.20</span>; for more details and guidance:               <span style=\"color: #7f7f7f; text-decoration-color: #7f7f7f\">               </span>\n",
       "<span style=\"color: #7fbfbf; text-decoration-color: #7fbfbf\">                    </span>         <span style=\"color: #0000ff; text-decoration-color: #0000ff; text-decoration: underline\">https://numpy.org/devdocs/release/1.20.0-notes.html#deprecations</span>       <span style=\"color: #7f7f7f; text-decoration-color: #7f7f7f\">               </span>\n",
       "<span style=\"color: #7fbfbf; text-decoration-color: #7fbfbf\">                    </span>           target = <span style=\"color: #800080; text-decoration-color: #800080; font-weight: bold\">target.astype</span><span style=\"font-weight: bold\">(</span>np.bool<span style=\"font-weight: bold\">)</span><span style=\"color: #800080; text-decoration-color: #800080; font-weight: bold\">.flatten</span><span style=\"font-weight: bold\">()</span>                            <span style=\"color: #7f7f7f; text-decoration-color: #7f7f7f\">               </span>\n",
       "<span style=\"color: #7fbfbf; text-decoration-color: #7fbfbf\">                    </span>                                                                                <span style=\"color: #7f7f7f; text-decoration-color: #7f7f7f\">               </span>\n",
       "</pre>\n"
      ],
      "text/plain": [
       "\u001b[2;36m[08/22/23 11:08:49]\u001b[0m\u001b[2;36m \u001b[0m\u001b[31mWARNING \u001b[0m \u001b[35m/tmp/ipykernel_26498/\u001b[0m\u001b[95m1921957139.py\u001b[0m:\u001b[1;36m12\u001b[0m: DeprecationWarning: `np.bool`   \u001b]8;id=221065;file:///usr/lib/python3.9/warnings.py\u001b\\\u001b[2mwarnings.py\u001b[0m\u001b]8;;\u001b\\\u001b[2m:\u001b[0m\u001b]8;id=413936;file:///usr/lib/python3.9/warnings.py#109\u001b\\\u001b[2m109\u001b[0m\u001b]8;;\u001b\\\n",
       "\u001b[2;36m                    \u001b[0m         is a deprecated alias for the builtin `bool`. To silence this warning, \u001b[2m               \u001b[0m\n",
       "\u001b[2;36m                    \u001b[0m         use `bool` by itself. Doing this will not modify any behavior and is   \u001b[2m               \u001b[0m\n",
       "\u001b[2;36m                    \u001b[0m         safe. If you specifically wanted the numpy scalar type, use `np.bool_` \u001b[2m               \u001b[0m\n",
       "\u001b[2;36m                    \u001b[0m         here.                                                                  \u001b[2m               \u001b[0m\n",
       "\u001b[2;36m                    \u001b[0m         Deprecated in NumPy \u001b[1;36m1.20\u001b[0m; for more details and guidance:               \u001b[2m               \u001b[0m\n",
       "\u001b[2;36m                    \u001b[0m         \u001b[4;94mhttps://numpy.org/devdocs/release/1.20.0-notes.html#deprecations\u001b[0m       \u001b[2m               \u001b[0m\n",
       "\u001b[2;36m                    \u001b[0m           target = \u001b[1;35mtarget.astype\u001b[0m\u001b[1m(\u001b[0mnp.bool\u001b[1m)\u001b[0m\u001b[1;35m.flatten\u001b[0m\u001b[1m(\u001b[0m\u001b[1m)\u001b[0m                            \u001b[2m               \u001b[0m\n",
       "\u001b[2;36m                    \u001b[0m                                                                                \u001b[2m               \u001b[0m\n"
      ]
     },
     "metadata": {},
     "output_type": "display_data"
    },
    {
     "name": "stdout",
     "output_type": "stream",
     "text": [
      "confussion matrix model\n",
      "col_0  False  True \n",
      "row_0              \n",
      "True   11530  16086\n",
      "\n",
      " confussion matrix edit\n",
      "col_0  False  True \n",
      "row_0              \n",
      "True    8030  19586\n",
      "/n/n Classification report model\n"
     ]
    },
    {
     "data": {
      "text/html": [
       "<pre style=\"white-space:pre;overflow-x:auto;line-height:normal;font-family:Menlo,'DejaVu Sans Mono',consolas,'Courier New',monospace\"><span style=\"color: #7fbfbf; text-decoration-color: #7fbfbf\">                    </span><span style=\"color: #800000; text-decoration-color: #800000\">WARNING </span> <span style=\"color: #800080; text-decoration-color: #800080\">/usr/local/lib/python3.9/dist-packages/sklearn/metrics/</span><span style=\"color: #ff00ff; text-decoration-color: #ff00ff\">_classification</span> <a href=\"file:///usr/lib/python3.9/warnings.py\" target=\"_blank\"><span style=\"color: #7f7f7f; text-decoration-color: #7f7f7f\">warnings.py</span></a><span style=\"color: #7f7f7f; text-decoration-color: #7f7f7f\">:</span><a href=\"file:///usr/lib/python3.9/warnings.py#109\" target=\"_blank\"><span style=\"color: #7f7f7f; text-decoration-color: #7f7f7f\">109</span></a>\n",
       "<span style=\"color: #7fbfbf; text-decoration-color: #7fbfbf\">                    </span>         <span style=\"color: #ff00ff; text-decoration-color: #ff00ff\">.py</span>:<span style=\"color: #008080; text-decoration-color: #008080; font-weight: bold\">1334</span>: UndefinedMetricWarning: Recall and F-score are ill-defined   <span style=\"color: #7f7f7f; text-decoration-color: #7f7f7f\">               </span>\n",
       "<span style=\"color: #7fbfbf; text-decoration-color: #7fbfbf\">                    </span>         and being set to <span style=\"color: #008080; text-decoration-color: #008080; font-weight: bold\">0.0</span> in labels with no true samples. Use               <span style=\"color: #7f7f7f; text-decoration-color: #7f7f7f\">               </span>\n",
       "<span style=\"color: #7fbfbf; text-decoration-color: #7fbfbf\">                    </span>         `zero_division` parameter to control this behavior.                    <span style=\"color: #7f7f7f; text-decoration-color: #7f7f7f\">               </span>\n",
       "<span style=\"color: #7fbfbf; text-decoration-color: #7fbfbf\">                    </span>           <span style=\"color: #800080; text-decoration-color: #800080; font-weight: bold\">_warn_prf</span><span style=\"font-weight: bold\">(</span>average, modifier, msg_start, <span style=\"color: #800080; text-decoration-color: #800080; font-weight: bold\">len</span><span style=\"font-weight: bold\">(</span>result<span style=\"font-weight: bold\">))</span>                 <span style=\"color: #7f7f7f; text-decoration-color: #7f7f7f\">               </span>\n",
       "<span style=\"color: #7fbfbf; text-decoration-color: #7fbfbf\">                    </span>                                                                                <span style=\"color: #7f7f7f; text-decoration-color: #7f7f7f\">               </span>\n",
       "</pre>\n"
      ],
      "text/plain": [
       "\u001b[2;36m                   \u001b[0m\u001b[2;36m \u001b[0m\u001b[31mWARNING \u001b[0m \u001b[35m/usr/local/lib/python3.9/dist-packages/sklearn/metrics/\u001b[0m\u001b[95m_classification\u001b[0m \u001b]8;id=579947;file:///usr/lib/python3.9/warnings.py\u001b\\\u001b[2mwarnings.py\u001b[0m\u001b]8;;\u001b\\\u001b[2m:\u001b[0m\u001b]8;id=153363;file:///usr/lib/python3.9/warnings.py#109\u001b\\\u001b[2m109\u001b[0m\u001b]8;;\u001b\\\n",
       "\u001b[2;36m                    \u001b[0m         \u001b[95m.py\u001b[0m:\u001b[1;36m1334\u001b[0m: UndefinedMetricWarning: Recall and F-score are ill-defined   \u001b[2m               \u001b[0m\n",
       "\u001b[2;36m                    \u001b[0m         and being set to \u001b[1;36m0.0\u001b[0m in labels with no true samples. Use               \u001b[2m               \u001b[0m\n",
       "\u001b[2;36m                    \u001b[0m         `zero_division` parameter to control this behavior.                    \u001b[2m               \u001b[0m\n",
       "\u001b[2;36m                    \u001b[0m           \u001b[1;35m_warn_prf\u001b[0m\u001b[1m(\u001b[0maverage, modifier, msg_start, \u001b[1;35mlen\u001b[0m\u001b[1m(\u001b[0mresult\u001b[1m)\u001b[0m\u001b[1m)\u001b[0m                 \u001b[2m               \u001b[0m\n",
       "\u001b[2;36m                    \u001b[0m                                                                                \u001b[2m               \u001b[0m\n"
      ]
     },
     "metadata": {},
     "output_type": "display_data"
    },
    {
     "data": {
      "text/html": [
       "<pre style=\"white-space:pre;overflow-x:auto;line-height:normal;font-family:Menlo,'DejaVu Sans Mono',consolas,'Courier New',monospace\"><span style=\"color: #7fbfbf; text-decoration-color: #7fbfbf\">                    </span><span style=\"color: #800000; text-decoration-color: #800000\">WARNING </span> <span style=\"color: #800080; text-decoration-color: #800080\">/usr/local/lib/python3.9/dist-packages/sklearn/metrics/</span><span style=\"color: #ff00ff; text-decoration-color: #ff00ff\">_classification</span> <a href=\"file:///usr/lib/python3.9/warnings.py\" target=\"_blank\"><span style=\"color: #7f7f7f; text-decoration-color: #7f7f7f\">warnings.py</span></a><span style=\"color: #7f7f7f; text-decoration-color: #7f7f7f\">:</span><a href=\"file:///usr/lib/python3.9/warnings.py#109\" target=\"_blank\"><span style=\"color: #7f7f7f; text-decoration-color: #7f7f7f\">109</span></a>\n",
       "<span style=\"color: #7fbfbf; text-decoration-color: #7fbfbf\">                    </span>         <span style=\"color: #ff00ff; text-decoration-color: #ff00ff\">.py</span>:<span style=\"color: #008080; text-decoration-color: #008080; font-weight: bold\">1334</span>: UndefinedMetricWarning: Recall and F-score are ill-defined   <span style=\"color: #7f7f7f; text-decoration-color: #7f7f7f\">               </span>\n",
       "<span style=\"color: #7fbfbf; text-decoration-color: #7fbfbf\">                    </span>         and being set to <span style=\"color: #008080; text-decoration-color: #008080; font-weight: bold\">0.0</span> in labels with no true samples. Use               <span style=\"color: #7f7f7f; text-decoration-color: #7f7f7f\">               </span>\n",
       "<span style=\"color: #7fbfbf; text-decoration-color: #7fbfbf\">                    </span>         `zero_division` parameter to control this behavior.                    <span style=\"color: #7f7f7f; text-decoration-color: #7f7f7f\">               </span>\n",
       "<span style=\"color: #7fbfbf; text-decoration-color: #7fbfbf\">                    </span>           <span style=\"color: #800080; text-decoration-color: #800080; font-weight: bold\">_warn_prf</span><span style=\"font-weight: bold\">(</span>average, modifier, msg_start, <span style=\"color: #800080; text-decoration-color: #800080; font-weight: bold\">len</span><span style=\"font-weight: bold\">(</span>result<span style=\"font-weight: bold\">))</span>                 <span style=\"color: #7f7f7f; text-decoration-color: #7f7f7f\">               </span>\n",
       "<span style=\"color: #7fbfbf; text-decoration-color: #7fbfbf\">                    </span>                                                                                <span style=\"color: #7f7f7f; text-decoration-color: #7f7f7f\">               </span>\n",
       "</pre>\n"
      ],
      "text/plain": [
       "\u001b[2;36m                   \u001b[0m\u001b[2;36m \u001b[0m\u001b[31mWARNING \u001b[0m \u001b[35m/usr/local/lib/python3.9/dist-packages/sklearn/metrics/\u001b[0m\u001b[95m_classification\u001b[0m \u001b]8;id=137531;file:///usr/lib/python3.9/warnings.py\u001b\\\u001b[2mwarnings.py\u001b[0m\u001b]8;;\u001b\\\u001b[2m:\u001b[0m\u001b]8;id=892598;file:///usr/lib/python3.9/warnings.py#109\u001b\\\u001b[2m109\u001b[0m\u001b]8;;\u001b\\\n",
       "\u001b[2;36m                    \u001b[0m         \u001b[95m.py\u001b[0m:\u001b[1;36m1334\u001b[0m: UndefinedMetricWarning: Recall and F-score are ill-defined   \u001b[2m               \u001b[0m\n",
       "\u001b[2;36m                    \u001b[0m         and being set to \u001b[1;36m0.0\u001b[0m in labels with no true samples. Use               \u001b[2m               \u001b[0m\n",
       "\u001b[2;36m                    \u001b[0m         `zero_division` parameter to control this behavior.                    \u001b[2m               \u001b[0m\n",
       "\u001b[2;36m                    \u001b[0m           \u001b[1;35m_warn_prf\u001b[0m\u001b[1m(\u001b[0maverage, modifier, msg_start, \u001b[1;35mlen\u001b[0m\u001b[1m(\u001b[0mresult\u001b[1m)\u001b[0m\u001b[1m)\u001b[0m                 \u001b[2m               \u001b[0m\n",
       "\u001b[2;36m                    \u001b[0m                                                                                \u001b[2m               \u001b[0m\n"
      ]
     },
     "metadata": {},
     "output_type": "display_data"
    },
    {
     "data": {
      "text/html": [
       "<pre style=\"white-space:pre;overflow-x:auto;line-height:normal;font-family:Menlo,'DejaVu Sans Mono',consolas,'Courier New',monospace\"><span style=\"color: #7fbfbf; text-decoration-color: #7fbfbf\">                    </span><span style=\"color: #800000; text-decoration-color: #800000\">WARNING </span> <span style=\"color: #800080; text-decoration-color: #800080\">/usr/local/lib/python3.9/dist-packages/sklearn/metrics/</span><span style=\"color: #ff00ff; text-decoration-color: #ff00ff\">_classification</span> <a href=\"file:///usr/lib/python3.9/warnings.py\" target=\"_blank\"><span style=\"color: #7f7f7f; text-decoration-color: #7f7f7f\">warnings.py</span></a><span style=\"color: #7f7f7f; text-decoration-color: #7f7f7f\">:</span><a href=\"file:///usr/lib/python3.9/warnings.py#109\" target=\"_blank\"><span style=\"color: #7f7f7f; text-decoration-color: #7f7f7f\">109</span></a>\n",
       "<span style=\"color: #7fbfbf; text-decoration-color: #7fbfbf\">                    </span>         <span style=\"color: #ff00ff; text-decoration-color: #ff00ff\">.py</span>:<span style=\"color: #008080; text-decoration-color: #008080; font-weight: bold\">1334</span>: UndefinedMetricWarning: Recall and F-score are ill-defined   <span style=\"color: #7f7f7f; text-decoration-color: #7f7f7f\">               </span>\n",
       "<span style=\"color: #7fbfbf; text-decoration-color: #7fbfbf\">                    </span>         and being set to <span style=\"color: #008080; text-decoration-color: #008080; font-weight: bold\">0.0</span> in labels with no true samples. Use               <span style=\"color: #7f7f7f; text-decoration-color: #7f7f7f\">               </span>\n",
       "<span style=\"color: #7fbfbf; text-decoration-color: #7fbfbf\">                    </span>         `zero_division` parameter to control this behavior.                    <span style=\"color: #7f7f7f; text-decoration-color: #7f7f7f\">               </span>\n",
       "<span style=\"color: #7fbfbf; text-decoration-color: #7fbfbf\">                    </span>           <span style=\"color: #800080; text-decoration-color: #800080; font-weight: bold\">_warn_prf</span><span style=\"font-weight: bold\">(</span>average, modifier, msg_start, <span style=\"color: #800080; text-decoration-color: #800080; font-weight: bold\">len</span><span style=\"font-weight: bold\">(</span>result<span style=\"font-weight: bold\">))</span>                 <span style=\"color: #7f7f7f; text-decoration-color: #7f7f7f\">               </span>\n",
       "<span style=\"color: #7fbfbf; text-decoration-color: #7fbfbf\">                    </span>                                                                                <span style=\"color: #7f7f7f; text-decoration-color: #7f7f7f\">               </span>\n",
       "</pre>\n"
      ],
      "text/plain": [
       "\u001b[2;36m                   \u001b[0m\u001b[2;36m \u001b[0m\u001b[31mWARNING \u001b[0m \u001b[35m/usr/local/lib/python3.9/dist-packages/sklearn/metrics/\u001b[0m\u001b[95m_classification\u001b[0m \u001b]8;id=282077;file:///usr/lib/python3.9/warnings.py\u001b\\\u001b[2mwarnings.py\u001b[0m\u001b]8;;\u001b\\\u001b[2m:\u001b[0m\u001b]8;id=369341;file:///usr/lib/python3.9/warnings.py#109\u001b\\\u001b[2m109\u001b[0m\u001b]8;;\u001b\\\n",
       "\u001b[2;36m                    \u001b[0m         \u001b[95m.py\u001b[0m:\u001b[1;36m1334\u001b[0m: UndefinedMetricWarning: Recall and F-score are ill-defined   \u001b[2m               \u001b[0m\n",
       "\u001b[2;36m                    \u001b[0m         and being set to \u001b[1;36m0.0\u001b[0m in labels with no true samples. Use               \u001b[2m               \u001b[0m\n",
       "\u001b[2;36m                    \u001b[0m         `zero_division` parameter to control this behavior.                    \u001b[2m               \u001b[0m\n",
       "\u001b[2;36m                    \u001b[0m           \u001b[1;35m_warn_prf\u001b[0m\u001b[1m(\u001b[0maverage, modifier, msg_start, \u001b[1;35mlen\u001b[0m\u001b[1m(\u001b[0mresult\u001b[1m)\u001b[0m\u001b[1m)\u001b[0m                 \u001b[2m               \u001b[0m\n",
       "\u001b[2;36m                    \u001b[0m                                                                                \u001b[2m               \u001b[0m\n"
      ]
     },
     "metadata": {},
     "output_type": "display_data"
    },
    {
     "name": "stdout",
     "output_type": "stream",
     "text": [
      "              precision    recall  f1-score   support\n",
      "\n",
      "       False       0.00      0.00      0.00         0\n",
      "        True       1.00      0.58      0.74     27616\n",
      "\n",
      "    accuracy                           0.58     27616\n",
      "   macro avg       0.50      0.29      0.37     27616\n",
      "weighted avg       1.00      0.58      0.74     27616\n",
      "\n",
      "/n Classification report edit\n"
     ]
    },
    {
     "data": {
      "text/html": [
       "<pre style=\"white-space:pre;overflow-x:auto;line-height:normal;font-family:Menlo,'DejaVu Sans Mono',consolas,'Courier New',monospace\"><span style=\"color: #7fbfbf; text-decoration-color: #7fbfbf\">                    </span><span style=\"color: #800000; text-decoration-color: #800000\">WARNING </span> <span style=\"color: #800080; text-decoration-color: #800080\">/usr/local/lib/python3.9/dist-packages/sklearn/metrics/</span><span style=\"color: #ff00ff; text-decoration-color: #ff00ff\">_classification</span> <a href=\"file:///usr/lib/python3.9/warnings.py\" target=\"_blank\"><span style=\"color: #7f7f7f; text-decoration-color: #7f7f7f\">warnings.py</span></a><span style=\"color: #7f7f7f; text-decoration-color: #7f7f7f\">:</span><a href=\"file:///usr/lib/python3.9/warnings.py#109\" target=\"_blank\"><span style=\"color: #7f7f7f; text-decoration-color: #7f7f7f\">109</span></a>\n",
       "<span style=\"color: #7fbfbf; text-decoration-color: #7fbfbf\">                    </span>         <span style=\"color: #ff00ff; text-decoration-color: #ff00ff\">.py</span>:<span style=\"color: #008080; text-decoration-color: #008080; font-weight: bold\">1334</span>: UndefinedMetricWarning: Recall and F-score are ill-defined   <span style=\"color: #7f7f7f; text-decoration-color: #7f7f7f\">               </span>\n",
       "<span style=\"color: #7fbfbf; text-decoration-color: #7fbfbf\">                    </span>         and being set to <span style=\"color: #008080; text-decoration-color: #008080; font-weight: bold\">0.0</span> in labels with no true samples. Use               <span style=\"color: #7f7f7f; text-decoration-color: #7f7f7f\">               </span>\n",
       "<span style=\"color: #7fbfbf; text-decoration-color: #7fbfbf\">                    </span>         `zero_division` parameter to control this behavior.                    <span style=\"color: #7f7f7f; text-decoration-color: #7f7f7f\">               </span>\n",
       "<span style=\"color: #7fbfbf; text-decoration-color: #7fbfbf\">                    </span>           <span style=\"color: #800080; text-decoration-color: #800080; font-weight: bold\">_warn_prf</span><span style=\"font-weight: bold\">(</span>average, modifier, msg_start, <span style=\"color: #800080; text-decoration-color: #800080; font-weight: bold\">len</span><span style=\"font-weight: bold\">(</span>result<span style=\"font-weight: bold\">))</span>                 <span style=\"color: #7f7f7f; text-decoration-color: #7f7f7f\">               </span>\n",
       "<span style=\"color: #7fbfbf; text-decoration-color: #7fbfbf\">                    </span>                                                                                <span style=\"color: #7f7f7f; text-decoration-color: #7f7f7f\">               </span>\n",
       "</pre>\n"
      ],
      "text/plain": [
       "\u001b[2;36m                   \u001b[0m\u001b[2;36m \u001b[0m\u001b[31mWARNING \u001b[0m \u001b[35m/usr/local/lib/python3.9/dist-packages/sklearn/metrics/\u001b[0m\u001b[95m_classification\u001b[0m \u001b]8;id=455296;file:///usr/lib/python3.9/warnings.py\u001b\\\u001b[2mwarnings.py\u001b[0m\u001b]8;;\u001b\\\u001b[2m:\u001b[0m\u001b]8;id=459010;file:///usr/lib/python3.9/warnings.py#109\u001b\\\u001b[2m109\u001b[0m\u001b]8;;\u001b\\\n",
       "\u001b[2;36m                    \u001b[0m         \u001b[95m.py\u001b[0m:\u001b[1;36m1334\u001b[0m: UndefinedMetricWarning: Recall and F-score are ill-defined   \u001b[2m               \u001b[0m\n",
       "\u001b[2;36m                    \u001b[0m         and being set to \u001b[1;36m0.0\u001b[0m in labels with no true samples. Use               \u001b[2m               \u001b[0m\n",
       "\u001b[2;36m                    \u001b[0m         `zero_division` parameter to control this behavior.                    \u001b[2m               \u001b[0m\n",
       "\u001b[2;36m                    \u001b[0m           \u001b[1;35m_warn_prf\u001b[0m\u001b[1m(\u001b[0maverage, modifier, msg_start, \u001b[1;35mlen\u001b[0m\u001b[1m(\u001b[0mresult\u001b[1m)\u001b[0m\u001b[1m)\u001b[0m                 \u001b[2m               \u001b[0m\n",
       "\u001b[2;36m                    \u001b[0m                                                                                \u001b[2m               \u001b[0m\n"
      ]
     },
     "metadata": {},
     "output_type": "display_data"
    },
    {
     "data": {
      "text/html": [
       "<pre style=\"white-space:pre;overflow-x:auto;line-height:normal;font-family:Menlo,'DejaVu Sans Mono',consolas,'Courier New',monospace\"><span style=\"color: #7fbfbf; text-decoration-color: #7fbfbf\">                    </span><span style=\"color: #800000; text-decoration-color: #800000\">WARNING </span> <span style=\"color: #800080; text-decoration-color: #800080\">/usr/local/lib/python3.9/dist-packages/sklearn/metrics/</span><span style=\"color: #ff00ff; text-decoration-color: #ff00ff\">_classification</span> <a href=\"file:///usr/lib/python3.9/warnings.py\" target=\"_blank\"><span style=\"color: #7f7f7f; text-decoration-color: #7f7f7f\">warnings.py</span></a><span style=\"color: #7f7f7f; text-decoration-color: #7f7f7f\">:</span><a href=\"file:///usr/lib/python3.9/warnings.py#109\" target=\"_blank\"><span style=\"color: #7f7f7f; text-decoration-color: #7f7f7f\">109</span></a>\n",
       "<span style=\"color: #7fbfbf; text-decoration-color: #7fbfbf\">                    </span>         <span style=\"color: #ff00ff; text-decoration-color: #ff00ff\">.py</span>:<span style=\"color: #008080; text-decoration-color: #008080; font-weight: bold\">1334</span>: UndefinedMetricWarning: Recall and F-score are ill-defined   <span style=\"color: #7f7f7f; text-decoration-color: #7f7f7f\">               </span>\n",
       "<span style=\"color: #7fbfbf; text-decoration-color: #7fbfbf\">                    </span>         and being set to <span style=\"color: #008080; text-decoration-color: #008080; font-weight: bold\">0.0</span> in labels with no true samples. Use               <span style=\"color: #7f7f7f; text-decoration-color: #7f7f7f\">               </span>\n",
       "<span style=\"color: #7fbfbf; text-decoration-color: #7fbfbf\">                    </span>         `zero_division` parameter to control this behavior.                    <span style=\"color: #7f7f7f; text-decoration-color: #7f7f7f\">               </span>\n",
       "<span style=\"color: #7fbfbf; text-decoration-color: #7fbfbf\">                    </span>           <span style=\"color: #800080; text-decoration-color: #800080; font-weight: bold\">_warn_prf</span><span style=\"font-weight: bold\">(</span>average, modifier, msg_start, <span style=\"color: #800080; text-decoration-color: #800080; font-weight: bold\">len</span><span style=\"font-weight: bold\">(</span>result<span style=\"font-weight: bold\">))</span>                 <span style=\"color: #7f7f7f; text-decoration-color: #7f7f7f\">               </span>\n",
       "<span style=\"color: #7fbfbf; text-decoration-color: #7fbfbf\">                    </span>                                                                                <span style=\"color: #7f7f7f; text-decoration-color: #7f7f7f\">               </span>\n",
       "</pre>\n"
      ],
      "text/plain": [
       "\u001b[2;36m                   \u001b[0m\u001b[2;36m \u001b[0m\u001b[31mWARNING \u001b[0m \u001b[35m/usr/local/lib/python3.9/dist-packages/sklearn/metrics/\u001b[0m\u001b[95m_classification\u001b[0m \u001b]8;id=339207;file:///usr/lib/python3.9/warnings.py\u001b\\\u001b[2mwarnings.py\u001b[0m\u001b]8;;\u001b\\\u001b[2m:\u001b[0m\u001b]8;id=500421;file:///usr/lib/python3.9/warnings.py#109\u001b\\\u001b[2m109\u001b[0m\u001b]8;;\u001b\\\n",
       "\u001b[2;36m                    \u001b[0m         \u001b[95m.py\u001b[0m:\u001b[1;36m1334\u001b[0m: UndefinedMetricWarning: Recall and F-score are ill-defined   \u001b[2m               \u001b[0m\n",
       "\u001b[2;36m                    \u001b[0m         and being set to \u001b[1;36m0.0\u001b[0m in labels with no true samples. Use               \u001b[2m               \u001b[0m\n",
       "\u001b[2;36m                    \u001b[0m         `zero_division` parameter to control this behavior.                    \u001b[2m               \u001b[0m\n",
       "\u001b[2;36m                    \u001b[0m           \u001b[1;35m_warn_prf\u001b[0m\u001b[1m(\u001b[0maverage, modifier, msg_start, \u001b[1;35mlen\u001b[0m\u001b[1m(\u001b[0mresult\u001b[1m)\u001b[0m\u001b[1m)\u001b[0m                 \u001b[2m               \u001b[0m\n",
       "\u001b[2;36m                    \u001b[0m                                                                                \u001b[2m               \u001b[0m\n"
      ]
     },
     "metadata": {},
     "output_type": "display_data"
    },
    {
     "data": {
      "text/html": [
       "<pre style=\"white-space:pre;overflow-x:auto;line-height:normal;font-family:Menlo,'DejaVu Sans Mono',consolas,'Courier New',monospace\"><span style=\"color: #7fbfbf; text-decoration-color: #7fbfbf\">                    </span><span style=\"color: #800000; text-decoration-color: #800000\">WARNING </span> <span style=\"color: #800080; text-decoration-color: #800080\">/usr/local/lib/python3.9/dist-packages/sklearn/metrics/</span><span style=\"color: #ff00ff; text-decoration-color: #ff00ff\">_classification</span> <a href=\"file:///usr/lib/python3.9/warnings.py\" target=\"_blank\"><span style=\"color: #7f7f7f; text-decoration-color: #7f7f7f\">warnings.py</span></a><span style=\"color: #7f7f7f; text-decoration-color: #7f7f7f\">:</span><a href=\"file:///usr/lib/python3.9/warnings.py#109\" target=\"_blank\"><span style=\"color: #7f7f7f; text-decoration-color: #7f7f7f\">109</span></a>\n",
       "<span style=\"color: #7fbfbf; text-decoration-color: #7fbfbf\">                    </span>         <span style=\"color: #ff00ff; text-decoration-color: #ff00ff\">.py</span>:<span style=\"color: #008080; text-decoration-color: #008080; font-weight: bold\">1334</span>: UndefinedMetricWarning: Recall and F-score are ill-defined   <span style=\"color: #7f7f7f; text-decoration-color: #7f7f7f\">               </span>\n",
       "<span style=\"color: #7fbfbf; text-decoration-color: #7fbfbf\">                    </span>         and being set to <span style=\"color: #008080; text-decoration-color: #008080; font-weight: bold\">0.0</span> in labels with no true samples. Use               <span style=\"color: #7f7f7f; text-decoration-color: #7f7f7f\">               </span>\n",
       "<span style=\"color: #7fbfbf; text-decoration-color: #7fbfbf\">                    </span>         `zero_division` parameter to control this behavior.                    <span style=\"color: #7f7f7f; text-decoration-color: #7f7f7f\">               </span>\n",
       "<span style=\"color: #7fbfbf; text-decoration-color: #7fbfbf\">                    </span>           <span style=\"color: #800080; text-decoration-color: #800080; font-weight: bold\">_warn_prf</span><span style=\"font-weight: bold\">(</span>average, modifier, msg_start, <span style=\"color: #800080; text-decoration-color: #800080; font-weight: bold\">len</span><span style=\"font-weight: bold\">(</span>result<span style=\"font-weight: bold\">))</span>                 <span style=\"color: #7f7f7f; text-decoration-color: #7f7f7f\">               </span>\n",
       "<span style=\"color: #7fbfbf; text-decoration-color: #7fbfbf\">                    </span>                                                                                <span style=\"color: #7f7f7f; text-decoration-color: #7f7f7f\">               </span>\n",
       "</pre>\n"
      ],
      "text/plain": [
       "\u001b[2;36m                   \u001b[0m\u001b[2;36m \u001b[0m\u001b[31mWARNING \u001b[0m \u001b[35m/usr/local/lib/python3.9/dist-packages/sklearn/metrics/\u001b[0m\u001b[95m_classification\u001b[0m \u001b]8;id=82057;file:///usr/lib/python3.9/warnings.py\u001b\\\u001b[2mwarnings.py\u001b[0m\u001b]8;;\u001b\\\u001b[2m:\u001b[0m\u001b]8;id=24481;file:///usr/lib/python3.9/warnings.py#109\u001b\\\u001b[2m109\u001b[0m\u001b]8;;\u001b\\\n",
       "\u001b[2;36m                    \u001b[0m         \u001b[95m.py\u001b[0m:\u001b[1;36m1334\u001b[0m: UndefinedMetricWarning: Recall and F-score are ill-defined   \u001b[2m               \u001b[0m\n",
       "\u001b[2;36m                    \u001b[0m         and being set to \u001b[1;36m0.0\u001b[0m in labels with no true samples. Use               \u001b[2m               \u001b[0m\n",
       "\u001b[2;36m                    \u001b[0m         `zero_division` parameter to control this behavior.                    \u001b[2m               \u001b[0m\n",
       "\u001b[2;36m                    \u001b[0m           \u001b[1;35m_warn_prf\u001b[0m\u001b[1m(\u001b[0maverage, modifier, msg_start, \u001b[1;35mlen\u001b[0m\u001b[1m(\u001b[0mresult\u001b[1m)\u001b[0m\u001b[1m)\u001b[0m                 \u001b[2m               \u001b[0m\n",
       "\u001b[2;36m                    \u001b[0m                                                                                \u001b[2m               \u001b[0m\n"
      ]
     },
     "metadata": {},
     "output_type": "display_data"
    },
    {
     "name": "stdout",
     "output_type": "stream",
     "text": [
      "              precision    recall  f1-score   support\n",
      "\n",
      "       False       0.00      0.00      0.00         0\n",
      "        True       1.00      0.71      0.83     27616\n",
      "\n",
      "    accuracy                           0.71     27616\n",
      "   macro avg       0.50      0.35      0.41     27616\n",
      "weighted avg       1.00      0.71      0.83     27616\n",
      "\n"
     ]
    }
   ],
   "source": [
    "generate_comparison_model_vs_edit(data_affiliations_pairs, data_affiliations_target, .5)"
   ]
  },
  {
   "cell_type": "markdown",
   "id": "6c87d740-c5b5-4488-a018-14c8b6fe2ccf",
   "metadata": {},
   "source": [
    "# Voters North Carolina"
   ]
  },
  {
   "cell_type": "code",
   "execution_count": 1106,
   "id": "01093aef-3478-4757-bf07-1b04a8c31b7e",
   "metadata": {},
   "outputs": [
    {
     "data": {
      "text/html": [
       "<pre style=\"white-space:pre;overflow-x:auto;line-height:normal;font-family:Menlo,'DejaVu Sans Mono',consolas,'Courier New',monospace\"><span style=\"color: #7fbfbf; text-decoration-color: #7fbfbf\">[08/15/23 20:44:56] </span><span style=\"color: #800000; text-decoration-color: #800000\">WARNING </span> <span style=\"color: #800080; text-decoration-color: #800080\">/tmp/ipykernel_26880/</span><span style=\"color: #ff00ff; text-decoration-color: #ff00ff\">3995391869.py</span>:<span style=\"color: #008080; text-decoration-color: #008080; font-weight: bold\">1</span>: DtypeWarning: Columns <span style=\"font-weight: bold\">(</span><span style=\"color: #008080; text-decoration-color: #008080; font-weight: bold\">4</span><span style=\"font-weight: bold\">)</span> have   <a href=\"file:///usr/lib/python3.9/warnings.py\" target=\"_blank\"><span style=\"color: #7f7f7f; text-decoration-color: #7f7f7f\">warnings.py</span></a><span style=\"color: #7f7f7f; text-decoration-color: #7f7f7f\">:</span><a href=\"file:///usr/lib/python3.9/warnings.py#109\" target=\"_blank\"><span style=\"color: #7f7f7f; text-decoration-color: #7f7f7f\">109</span></a>\n",
       "<span style=\"color: #7fbfbf; text-decoration-color: #7fbfbf\">                    </span>         mixed types. Specify dtype option on import or set <span style=\"color: #808000; text-decoration-color: #808000\">low_memory</span>=<span style=\"color: #ff0000; text-decoration-color: #ff0000; font-style: italic\">False</span>.   <span style=\"color: #7f7f7f; text-decoration-color: #7f7f7f\">               </span>\n",
       "<span style=\"color: #7fbfbf; text-decoration-color: #7fbfbf\">                    </span>           voters_raw_1 =                                                       <span style=\"color: #7f7f7f; text-decoration-color: #7f7f7f\">               </span>\n",
       "<span style=\"color: #7fbfbf; text-decoration-color: #7fbfbf\">                    </span>         <span style=\"color: #800080; text-decoration-color: #800080; font-weight: bold\">pd.read_csv</span><span style=\"font-weight: bold\">(</span><span style=\"color: #008000; text-decoration-color: #008000\">'../../data/01_raw/voters_north_carolina/ncvr_numrec_10000</span> <span style=\"color: #7f7f7f; text-decoration-color: #7f7f7f\">               </span>\n",
       "<span style=\"color: #7fbfbf; text-decoration-color: #7fbfbf\">                    </span>         <span style=\"color: #008000; text-decoration-color: #008000\">00_modrec_2_ocp_20_myp_0_nump_5.csv'</span><span style=\"font-weight: bold\">)</span>                                  <span style=\"color: #7f7f7f; text-decoration-color: #7f7f7f\">               </span>\n",
       "<span style=\"color: #7fbfbf; text-decoration-color: #7fbfbf\">                    </span>                                                                                <span style=\"color: #7f7f7f; text-decoration-color: #7f7f7f\">               </span>\n",
       "</pre>\n"
      ],
      "text/plain": [
       "\u001b[2;36m[08/15/23 20:44:56]\u001b[0m\u001b[2;36m \u001b[0m\u001b[31mWARNING \u001b[0m \u001b[35m/tmp/ipykernel_26880/\u001b[0m\u001b[95m3995391869.py\u001b[0m:\u001b[1;36m1\u001b[0m: DtypeWarning: Columns \u001b[1m(\u001b[0m\u001b[1;36m4\u001b[0m\u001b[1m)\u001b[0m have   \u001b]8;id=863690;file:///usr/lib/python3.9/warnings.py\u001b\\\u001b[2mwarnings.py\u001b[0m\u001b]8;;\u001b\\\u001b[2m:\u001b[0m\u001b]8;id=364802;file:///usr/lib/python3.9/warnings.py#109\u001b\\\u001b[2m109\u001b[0m\u001b]8;;\u001b\\\n",
       "\u001b[2;36m                    \u001b[0m         mixed types. Specify dtype option on import or set \u001b[33mlow_memory\u001b[0m=\u001b[3;91mFalse\u001b[0m.   \u001b[2m               \u001b[0m\n",
       "\u001b[2;36m                    \u001b[0m           voters_raw_1 =                                                       \u001b[2m               \u001b[0m\n",
       "\u001b[2;36m                    \u001b[0m         \u001b[1;35mpd.read_csv\u001b[0m\u001b[1m(\u001b[0m\u001b[32m'../../data/01_raw/voters_north_carolina/ncvr_numrec_10000\u001b[0m \u001b[2m               \u001b[0m\n",
       "\u001b[2;36m                    \u001b[0m         \u001b[32m00_modrec_2_ocp_20_myp_0_nump_5.csv'\u001b[0m\u001b[1m)\u001b[0m                                  \u001b[2m               \u001b[0m\n",
       "\u001b[2;36m                    \u001b[0m                                                                                \u001b[2m               \u001b[0m\n"
      ]
     },
     "metadata": {},
     "output_type": "display_data"
    },
    {
     "data": {
      "text/html": [
       "<pre style=\"white-space:pre;overflow-x:auto;line-height:normal;font-family:Menlo,'DejaVu Sans Mono',consolas,'Courier New',monospace\"><span style=\"color: #7fbfbf; text-decoration-color: #7fbfbf\">                    </span><span style=\"color: #800000; text-decoration-color: #800000\">WARNING </span> <span style=\"color: #800080; text-decoration-color: #800080\">/tmp/ipykernel_26880/</span><span style=\"color: #ff00ff; text-decoration-color: #ff00ff\">3995391869.py</span>:<span style=\"color: #008080; text-decoration-color: #008080; font-weight: bold\">2</span>: DtypeWarning: Columns <span style=\"font-weight: bold\">(</span><span style=\"color: #008080; text-decoration-color: #008080; font-weight: bold\">4</span><span style=\"font-weight: bold\">)</span> have   <a href=\"file:///usr/lib/python3.9/warnings.py\" target=\"_blank\"><span style=\"color: #7f7f7f; text-decoration-color: #7f7f7f\">warnings.py</span></a><span style=\"color: #7f7f7f; text-decoration-color: #7f7f7f\">:</span><a href=\"file:///usr/lib/python3.9/warnings.py#109\" target=\"_blank\"><span style=\"color: #7f7f7f; text-decoration-color: #7f7f7f\">109</span></a>\n",
       "<span style=\"color: #7fbfbf; text-decoration-color: #7fbfbf\">                    </span>         mixed types. Specify dtype option on import or set <span style=\"color: #808000; text-decoration-color: #808000\">low_memory</span>=<span style=\"color: #ff0000; text-decoration-color: #ff0000; font-style: italic\">False</span>.   <span style=\"color: #7f7f7f; text-decoration-color: #7f7f7f\">               </span>\n",
       "<span style=\"color: #7fbfbf; text-decoration-color: #7fbfbf\">                    </span>           voters_raw_2 =                                                       <span style=\"color: #7f7f7f; text-decoration-color: #7f7f7f\">               </span>\n",
       "<span style=\"color: #7fbfbf; text-decoration-color: #7fbfbf\">                    </span>         <span style=\"color: #800080; text-decoration-color: #800080; font-weight: bold\">pd.read_csv</span><span style=\"font-weight: bold\">(</span><span style=\"color: #008000; text-decoration-color: #008000\">'../../data/01_raw/voters_north_carolina/ncvr_numrec_10000</span> <span style=\"color: #7f7f7f; text-decoration-color: #7f7f7f\">               </span>\n",
       "<span style=\"color: #7fbfbf; text-decoration-color: #7fbfbf\">                    </span>         <span style=\"color: #008000; text-decoration-color: #008000\">00_modrec_2_ocp_20_myp_1_nump_5.csv'</span><span style=\"font-weight: bold\">)</span>                                  <span style=\"color: #7f7f7f; text-decoration-color: #7f7f7f\">               </span>\n",
       "<span style=\"color: #7fbfbf; text-decoration-color: #7fbfbf\">                    </span>                                                                                <span style=\"color: #7f7f7f; text-decoration-color: #7f7f7f\">               </span>\n",
       "</pre>\n"
      ],
      "text/plain": [
       "\u001b[2;36m                   \u001b[0m\u001b[2;36m \u001b[0m\u001b[31mWARNING \u001b[0m \u001b[35m/tmp/ipykernel_26880/\u001b[0m\u001b[95m3995391869.py\u001b[0m:\u001b[1;36m2\u001b[0m: DtypeWarning: Columns \u001b[1m(\u001b[0m\u001b[1;36m4\u001b[0m\u001b[1m)\u001b[0m have   \u001b]8;id=597558;file:///usr/lib/python3.9/warnings.py\u001b\\\u001b[2mwarnings.py\u001b[0m\u001b]8;;\u001b\\\u001b[2m:\u001b[0m\u001b]8;id=764248;file:///usr/lib/python3.9/warnings.py#109\u001b\\\u001b[2m109\u001b[0m\u001b]8;;\u001b\\\n",
       "\u001b[2;36m                    \u001b[0m         mixed types. Specify dtype option on import or set \u001b[33mlow_memory\u001b[0m=\u001b[3;91mFalse\u001b[0m.   \u001b[2m               \u001b[0m\n",
       "\u001b[2;36m                    \u001b[0m           voters_raw_2 =                                                       \u001b[2m               \u001b[0m\n",
       "\u001b[2;36m                    \u001b[0m         \u001b[1;35mpd.read_csv\u001b[0m\u001b[1m(\u001b[0m\u001b[32m'../../data/01_raw/voters_north_carolina/ncvr_numrec_10000\u001b[0m \u001b[2m               \u001b[0m\n",
       "\u001b[2;36m                    \u001b[0m         \u001b[32m00_modrec_2_ocp_20_myp_1_nump_5.csv'\u001b[0m\u001b[1m)\u001b[0m                                  \u001b[2m               \u001b[0m\n",
       "\u001b[2;36m                    \u001b[0m                                                                                \u001b[2m               \u001b[0m\n"
      ]
     },
     "metadata": {},
     "output_type": "display_data"
    },
    {
     "data": {
      "text/html": [
       "<pre style=\"white-space:pre;overflow-x:auto;line-height:normal;font-family:Menlo,'DejaVu Sans Mono',consolas,'Courier New',monospace\"><span style=\"color: #7fbfbf; text-decoration-color: #7fbfbf\">[08/15/23 20:44:57] </span><span style=\"color: #800000; text-decoration-color: #800000\">WARNING </span> <span style=\"color: #800080; text-decoration-color: #800080\">/tmp/ipykernel_26880/</span><span style=\"color: #ff00ff; text-decoration-color: #ff00ff\">3995391869.py</span>:<span style=\"color: #008080; text-decoration-color: #008080; font-weight: bold\">3</span>: DtypeWarning: Columns <span style=\"font-weight: bold\">(</span><span style=\"color: #008080; text-decoration-color: #008080; font-weight: bold\">4</span><span style=\"font-weight: bold\">)</span> have   <a href=\"file:///usr/lib/python3.9/warnings.py\" target=\"_blank\"><span style=\"color: #7f7f7f; text-decoration-color: #7f7f7f\">warnings.py</span></a><span style=\"color: #7f7f7f; text-decoration-color: #7f7f7f\">:</span><a href=\"file:///usr/lib/python3.9/warnings.py#109\" target=\"_blank\"><span style=\"color: #7f7f7f; text-decoration-color: #7f7f7f\">109</span></a>\n",
       "<span style=\"color: #7fbfbf; text-decoration-color: #7fbfbf\">                    </span>         mixed types. Specify dtype option on import or set <span style=\"color: #808000; text-decoration-color: #808000\">low_memory</span>=<span style=\"color: #ff0000; text-decoration-color: #ff0000; font-style: italic\">False</span>.   <span style=\"color: #7f7f7f; text-decoration-color: #7f7f7f\">               </span>\n",
       "<span style=\"color: #7fbfbf; text-decoration-color: #7fbfbf\">                    </span>           voters_raw_3 =                                                       <span style=\"color: #7f7f7f; text-decoration-color: #7f7f7f\">               </span>\n",
       "<span style=\"color: #7fbfbf; text-decoration-color: #7fbfbf\">                    </span>         <span style=\"color: #800080; text-decoration-color: #800080; font-weight: bold\">pd.read_csv</span><span style=\"font-weight: bold\">(</span><span style=\"color: #008000; text-decoration-color: #008000\">'../../data/01_raw/voters_north_carolina/ncvr_numrec_10000</span> <span style=\"color: #7f7f7f; text-decoration-color: #7f7f7f\">               </span>\n",
       "<span style=\"color: #7fbfbf; text-decoration-color: #7fbfbf\">                    </span>         <span style=\"color: #008000; text-decoration-color: #008000\">00_modrec_2_ocp_20_myp_2_nump_5.csv'</span><span style=\"font-weight: bold\">)</span>                                  <span style=\"color: #7f7f7f; text-decoration-color: #7f7f7f\">               </span>\n",
       "<span style=\"color: #7fbfbf; text-decoration-color: #7fbfbf\">                    </span>                                                                                <span style=\"color: #7f7f7f; text-decoration-color: #7f7f7f\">               </span>\n",
       "</pre>\n"
      ],
      "text/plain": [
       "\u001b[2;36m[08/15/23 20:44:57]\u001b[0m\u001b[2;36m \u001b[0m\u001b[31mWARNING \u001b[0m \u001b[35m/tmp/ipykernel_26880/\u001b[0m\u001b[95m3995391869.py\u001b[0m:\u001b[1;36m3\u001b[0m: DtypeWarning: Columns \u001b[1m(\u001b[0m\u001b[1;36m4\u001b[0m\u001b[1m)\u001b[0m have   \u001b]8;id=135609;file:///usr/lib/python3.9/warnings.py\u001b\\\u001b[2mwarnings.py\u001b[0m\u001b]8;;\u001b\\\u001b[2m:\u001b[0m\u001b]8;id=84305;file:///usr/lib/python3.9/warnings.py#109\u001b\\\u001b[2m109\u001b[0m\u001b]8;;\u001b\\\n",
       "\u001b[2;36m                    \u001b[0m         mixed types. Specify dtype option on import or set \u001b[33mlow_memory\u001b[0m=\u001b[3;91mFalse\u001b[0m.   \u001b[2m               \u001b[0m\n",
       "\u001b[2;36m                    \u001b[0m           voters_raw_3 =                                                       \u001b[2m               \u001b[0m\n",
       "\u001b[2;36m                    \u001b[0m         \u001b[1;35mpd.read_csv\u001b[0m\u001b[1m(\u001b[0m\u001b[32m'../../data/01_raw/voters_north_carolina/ncvr_numrec_10000\u001b[0m \u001b[2m               \u001b[0m\n",
       "\u001b[2;36m                    \u001b[0m         \u001b[32m00_modrec_2_ocp_20_myp_2_nump_5.csv'\u001b[0m\u001b[1m)\u001b[0m                                  \u001b[2m               \u001b[0m\n",
       "\u001b[2;36m                    \u001b[0m                                                                                \u001b[2m               \u001b[0m\n"
      ]
     },
     "metadata": {},
     "output_type": "display_data"
    },
    {
     "data": {
      "text/html": [
       "<pre style=\"white-space:pre;overflow-x:auto;line-height:normal;font-family:Menlo,'DejaVu Sans Mono',consolas,'Courier New',monospace\"><span style=\"color: #7fbfbf; text-decoration-color: #7fbfbf\">                    </span><span style=\"color: #800000; text-decoration-color: #800000\">WARNING </span> <span style=\"color: #800080; text-decoration-color: #800080\">/tmp/ipykernel_26880/</span><span style=\"color: #ff00ff; text-decoration-color: #ff00ff\">3995391869.py</span>:<span style=\"color: #008080; text-decoration-color: #008080; font-weight: bold\">4</span>: DtypeWarning: Columns <span style=\"font-weight: bold\">(</span><span style=\"color: #008080; text-decoration-color: #008080; font-weight: bold\">4</span><span style=\"font-weight: bold\">)</span> have   <a href=\"file:///usr/lib/python3.9/warnings.py\" target=\"_blank\"><span style=\"color: #7f7f7f; text-decoration-color: #7f7f7f\">warnings.py</span></a><span style=\"color: #7f7f7f; text-decoration-color: #7f7f7f\">:</span><a href=\"file:///usr/lib/python3.9/warnings.py#109\" target=\"_blank\"><span style=\"color: #7f7f7f; text-decoration-color: #7f7f7f\">109</span></a>\n",
       "<span style=\"color: #7fbfbf; text-decoration-color: #7fbfbf\">                    </span>         mixed types. Specify dtype option on import or set <span style=\"color: #808000; text-decoration-color: #808000\">low_memory</span>=<span style=\"color: #ff0000; text-decoration-color: #ff0000; font-style: italic\">False</span>.   <span style=\"color: #7f7f7f; text-decoration-color: #7f7f7f\">               </span>\n",
       "<span style=\"color: #7fbfbf; text-decoration-color: #7fbfbf\">                    </span>           voters_raw_4 =                                                       <span style=\"color: #7f7f7f; text-decoration-color: #7f7f7f\">               </span>\n",
       "<span style=\"color: #7fbfbf; text-decoration-color: #7fbfbf\">                    </span>         <span style=\"color: #800080; text-decoration-color: #800080; font-weight: bold\">pd.read_csv</span><span style=\"font-weight: bold\">(</span><span style=\"color: #008000; text-decoration-color: #008000\">'../../data/01_raw/voters_north_carolina/ncvr_numrec_10000</span> <span style=\"color: #7f7f7f; text-decoration-color: #7f7f7f\">               </span>\n",
       "<span style=\"color: #7fbfbf; text-decoration-color: #7fbfbf\">                    </span>         <span style=\"color: #008000; text-decoration-color: #008000\">00_modrec_2_ocp_20_myp_3_nump_5.csv'</span><span style=\"font-weight: bold\">)</span>                                  <span style=\"color: #7f7f7f; text-decoration-color: #7f7f7f\">               </span>\n",
       "<span style=\"color: #7fbfbf; text-decoration-color: #7fbfbf\">                    </span>                                                                                <span style=\"color: #7f7f7f; text-decoration-color: #7f7f7f\">               </span>\n",
       "</pre>\n"
      ],
      "text/plain": [
       "\u001b[2;36m                   \u001b[0m\u001b[2;36m \u001b[0m\u001b[31mWARNING \u001b[0m \u001b[35m/tmp/ipykernel_26880/\u001b[0m\u001b[95m3995391869.py\u001b[0m:\u001b[1;36m4\u001b[0m: DtypeWarning: Columns \u001b[1m(\u001b[0m\u001b[1;36m4\u001b[0m\u001b[1m)\u001b[0m have   \u001b]8;id=99010;file:///usr/lib/python3.9/warnings.py\u001b\\\u001b[2mwarnings.py\u001b[0m\u001b]8;;\u001b\\\u001b[2m:\u001b[0m\u001b]8;id=610317;file:///usr/lib/python3.9/warnings.py#109\u001b\\\u001b[2m109\u001b[0m\u001b]8;;\u001b\\\n",
       "\u001b[2;36m                    \u001b[0m         mixed types. Specify dtype option on import or set \u001b[33mlow_memory\u001b[0m=\u001b[3;91mFalse\u001b[0m.   \u001b[2m               \u001b[0m\n",
       "\u001b[2;36m                    \u001b[0m           voters_raw_4 =                                                       \u001b[2m               \u001b[0m\n",
       "\u001b[2;36m                    \u001b[0m         \u001b[1;35mpd.read_csv\u001b[0m\u001b[1m(\u001b[0m\u001b[32m'../../data/01_raw/voters_north_carolina/ncvr_numrec_10000\u001b[0m \u001b[2m               \u001b[0m\n",
       "\u001b[2;36m                    \u001b[0m         \u001b[32m00_modrec_2_ocp_20_myp_3_nump_5.csv'\u001b[0m\u001b[1m)\u001b[0m                                  \u001b[2m               \u001b[0m\n",
       "\u001b[2;36m                    \u001b[0m                                                                                \u001b[2m               \u001b[0m\n"
      ]
     },
     "metadata": {},
     "output_type": "display_data"
    },
    {
     "data": {
      "text/html": [
       "<pre style=\"white-space:pre;overflow-x:auto;line-height:normal;font-family:Menlo,'DejaVu Sans Mono',consolas,'Courier New',monospace\"><span style=\"color: #7fbfbf; text-decoration-color: #7fbfbf\">[08/15/23 20:44:58] </span><span style=\"color: #800000; text-decoration-color: #800000\">WARNING </span> <span style=\"color: #800080; text-decoration-color: #800080\">/tmp/ipykernel_26880/</span><span style=\"color: #ff00ff; text-decoration-color: #ff00ff\">3995391869.py</span>:<span style=\"color: #008080; text-decoration-color: #008080; font-weight: bold\">5</span>: DtypeWarning: Columns <span style=\"font-weight: bold\">(</span><span style=\"color: #008080; text-decoration-color: #008080; font-weight: bold\">4</span><span style=\"font-weight: bold\">)</span> have   <a href=\"file:///usr/lib/python3.9/warnings.py\" target=\"_blank\"><span style=\"color: #7f7f7f; text-decoration-color: #7f7f7f\">warnings.py</span></a><span style=\"color: #7f7f7f; text-decoration-color: #7f7f7f\">:</span><a href=\"file:///usr/lib/python3.9/warnings.py#109\" target=\"_blank\"><span style=\"color: #7f7f7f; text-decoration-color: #7f7f7f\">109</span></a>\n",
       "<span style=\"color: #7fbfbf; text-decoration-color: #7fbfbf\">                    </span>         mixed types. Specify dtype option on import or set <span style=\"color: #808000; text-decoration-color: #808000\">low_memory</span>=<span style=\"color: #ff0000; text-decoration-color: #ff0000; font-style: italic\">False</span>.   <span style=\"color: #7f7f7f; text-decoration-color: #7f7f7f\">               </span>\n",
       "<span style=\"color: #7fbfbf; text-decoration-color: #7fbfbf\">                    </span>           voters_raw_5 =                                                       <span style=\"color: #7f7f7f; text-decoration-color: #7f7f7f\">               </span>\n",
       "<span style=\"color: #7fbfbf; text-decoration-color: #7fbfbf\">                    </span>         <span style=\"color: #800080; text-decoration-color: #800080; font-weight: bold\">pd.read_csv</span><span style=\"font-weight: bold\">(</span><span style=\"color: #008000; text-decoration-color: #008000\">'../../data/01_raw/voters_north_carolina/ncvr_numrec_10000</span> <span style=\"color: #7f7f7f; text-decoration-color: #7f7f7f\">               </span>\n",
       "<span style=\"color: #7fbfbf; text-decoration-color: #7fbfbf\">                    </span>         <span style=\"color: #008000; text-decoration-color: #008000\">00_modrec_2_ocp_20_myp_4_nump_5.csv'</span><span style=\"font-weight: bold\">)</span>                                  <span style=\"color: #7f7f7f; text-decoration-color: #7f7f7f\">               </span>\n",
       "<span style=\"color: #7fbfbf; text-decoration-color: #7fbfbf\">                    </span>                                                                                <span style=\"color: #7f7f7f; text-decoration-color: #7f7f7f\">               </span>\n",
       "</pre>\n"
      ],
      "text/plain": [
       "\u001b[2;36m[08/15/23 20:44:58]\u001b[0m\u001b[2;36m \u001b[0m\u001b[31mWARNING \u001b[0m \u001b[35m/tmp/ipykernel_26880/\u001b[0m\u001b[95m3995391869.py\u001b[0m:\u001b[1;36m5\u001b[0m: DtypeWarning: Columns \u001b[1m(\u001b[0m\u001b[1;36m4\u001b[0m\u001b[1m)\u001b[0m have   \u001b]8;id=189391;file:///usr/lib/python3.9/warnings.py\u001b\\\u001b[2mwarnings.py\u001b[0m\u001b]8;;\u001b\\\u001b[2m:\u001b[0m\u001b]8;id=269717;file:///usr/lib/python3.9/warnings.py#109\u001b\\\u001b[2m109\u001b[0m\u001b]8;;\u001b\\\n",
       "\u001b[2;36m                    \u001b[0m         mixed types. Specify dtype option on import or set \u001b[33mlow_memory\u001b[0m=\u001b[3;91mFalse\u001b[0m.   \u001b[2m               \u001b[0m\n",
       "\u001b[2;36m                    \u001b[0m           voters_raw_5 =                                                       \u001b[2m               \u001b[0m\n",
       "\u001b[2;36m                    \u001b[0m         \u001b[1;35mpd.read_csv\u001b[0m\u001b[1m(\u001b[0m\u001b[32m'../../data/01_raw/voters_north_carolina/ncvr_numrec_10000\u001b[0m \u001b[2m               \u001b[0m\n",
       "\u001b[2;36m                    \u001b[0m         \u001b[32m00_modrec_2_ocp_20_myp_4_nump_5.csv'\u001b[0m\u001b[1m)\u001b[0m                                  \u001b[2m               \u001b[0m\n",
       "\u001b[2;36m                    \u001b[0m                                                                                \u001b[2m               \u001b[0m\n"
      ]
     },
     "metadata": {},
     "output_type": "display_data"
    }
   ],
   "source": [
    "voters_raw_1 = pd.read_csv('../../data/01_raw/voters_north_carolina/ncvr_numrec_1000000_modrec_2_ocp_20_myp_0_nump_5.csv')\n",
    "voters_raw_2 = pd.read_csv('../../data/01_raw/voters_north_carolina/ncvr_numrec_1000000_modrec_2_ocp_20_myp_1_nump_5.csv')\n",
    "voters_raw_3 = pd.read_csv('../../data/01_raw/voters_north_carolina/ncvr_numrec_1000000_modrec_2_ocp_20_myp_2_nump_5.csv')\n",
    "voters_raw_4 = pd.read_csv('../../data/01_raw/voters_north_carolina/ncvr_numrec_1000000_modrec_2_ocp_20_myp_3_nump_5.csv')\n",
    "voters_raw_5 = pd.read_csv('../../data/01_raw/voters_north_carolina/ncvr_numrec_1000000_modrec_2_ocp_20_myp_4_nump_5.csv')"
   ]
  },
  {
   "cell_type": "code",
   "execution_count": 1121,
   "id": "d4870eb5-994f-4031-ac17-ed59354b8ab2",
   "metadata": {},
   "outputs": [],
   "source": [
    "voters_raw_full = pd.concat([voters_raw_1, voters_raw_2, voters_raw_3, voters_raw_4, voters_raw_5])"
   ]
  },
  {
   "cell_type": "code",
   "execution_count": 1133,
   "id": "b777447f-3e79-4000-b541-7208cb5dfb6c",
   "metadata": {},
   "outputs": [
    {
     "data": {
      "text/html": [
       "<pre style=\"white-space:pre;overflow-x:auto;line-height:normal;font-family:Menlo,'DejaVu Sans Mono',consolas,'Courier New',monospace\"></pre>\n"
      ],
      "text/plain": []
     },
     "metadata": {},
     "output_type": "display_data"
    },
    {
     "data": {
      "text/html": [
       "<div>\n",
       "<style scoped>\n",
       "    .dataframe tbody tr th:only-of-type {\n",
       "        vertical-align: middle;\n",
       "    }\n",
       "\n",
       "    .dataframe tbody tr th {\n",
       "        vertical-align: top;\n",
       "    }\n",
       "\n",
       "    .dataframe thead th {\n",
       "        text-align: right;\n",
       "    }\n",
       "</style>\n",
       "<table border=\"1\" class=\"dataframe\">\n",
       "  <thead>\n",
       "    <tr style=\"text-align: right;\">\n",
       "      <th></th>\n",
       "      <th>recid</th>\n",
       "      <th>givenname</th>\n",
       "      <th>surname</th>\n",
       "      <th>suburb</th>\n",
       "      <th>postcode</th>\n",
       "    </tr>\n",
       "  </thead>\n",
       "  <tbody>\n",
       "    <tr>\n",
       "      <th>848117</th>\n",
       "      <td>58253</td>\n",
       "      <td>dullie</td>\n",
       "      <td>moss</td>\n",
       "      <td>charlotte</td>\n",
       "      <td>28269.0</td>\n",
       "    </tr>\n",
       "  </tbody>\n",
       "</table>\n",
       "</div>"
      ],
      "text/plain": [
       "\n",
       "        recid givenname surname     suburb postcode\n",
       "\u001b[1;36m848117\u001b[0m  \u001b[1;36m58253\u001b[0m    dullie    moss  charlotte  \u001b[1;36m28269.0\u001b[0m"
      ]
     },
     "execution_count": 1133,
     "metadata": {},
     "output_type": "execute_result"
    }
   ],
   "source": [
    "voters_raw_full[voters_raw_full.recid == 58253]"
   ]
  },
  {
   "cell_type": "code",
   "execution_count": 1132,
   "id": "28161a06-5b6c-489c-940a-1d2874774c26",
   "metadata": {},
   "outputs": [
    {
     "data": {
      "text/html": [
       "<pre style=\"white-space:pre;overflow-x:auto;line-height:normal;font-family:Menlo,'DejaVu Sans Mono',consolas,'Courier New',monospace\"></pre>\n"
      ],
      "text/plain": []
     },
     "metadata": {},
     "output_type": "display_data"
    },
    {
     "data": {
      "text/html": [
       "<div>\n",
       "<style scoped>\n",
       "    .dataframe tbody tr th:only-of-type {\n",
       "        vertical-align: middle;\n",
       "    }\n",
       "\n",
       "    .dataframe tbody tr th {\n",
       "        vertical-align: top;\n",
       "    }\n",
       "\n",
       "    .dataframe thead th {\n",
       "        text-align: right;\n",
       "    }\n",
       "</style>\n",
       "<table border=\"1\" class=\"dataframe\">\n",
       "  <thead>\n",
       "    <tr style=\"text-align: right;\">\n",
       "      <th></th>\n",
       "      <th>recid</th>\n",
       "      <th>givenname</th>\n",
       "      <th>surname</th>\n",
       "      <th>suburb</th>\n",
       "      <th>postcode</th>\n",
       "    </tr>\n",
       "  </thead>\n",
       "  <tbody>\n",
       "    <tr>\n",
       "      <th>88045</th>\n",
       "      <td>185780</td>\n",
       "      <td>ida</td>\n",
       "      <td>watts</td>\n",
       "      <td>carrboro</td>\n",
       "      <td>27510</td>\n",
       "    </tr>\n",
       "  </tbody>\n",
       "</table>\n",
       "</div>"
      ],
      "text/plain": [
       "\n",
       "        recid givenname surname    suburb postcode\n",
       "\u001b[1;36m88045\u001b[0m  \u001b[1;36m185780\u001b[0m       ida   watts  carrboro    \u001b[1;36m27510\u001b[0m"
      ]
     },
     "execution_count": 1132,
     "metadata": {},
     "output_type": "execute_result"
    }
   ],
   "source": [
    "voters_raw_full[voters_raw_full.recid == 185780]"
   ]
  },
  {
   "cell_type": "code",
   "execution_count": 1115,
   "id": "2176f906-25fc-4c70-bbb2-45f78a37a614",
   "metadata": {},
   "outputs": [
    {
     "data": {
      "text/html": [
       "<pre style=\"white-space:pre;overflow-x:auto;line-height:normal;font-family:Menlo,'DejaVu Sans Mono',consolas,'Courier New',monospace\"></pre>\n"
      ],
      "text/plain": []
     },
     "metadata": {},
     "output_type": "display_data"
    },
    {
     "data": {
      "text/plain": [
       "\n",
       "\u001b[1;36m4829629\u001b[0m    \u001b[1;36m2\u001b[0m\n",
       "\u001b[1;36m1802971\u001b[0m    \u001b[1;36m2\u001b[0m\n",
       "\u001b[1;36m1615979\u001b[0m    \u001b[1;36m2\u001b[0m\n",
       "\u001b[1;36m8026477\u001b[0m    \u001b[1;36m2\u001b[0m\n",
       "\u001b[1;36m536452\u001b[0m     \u001b[1;36m2\u001b[0m\n",
       "          ..\n",
       "\u001b[1;36m5237754\u001b[0m    \u001b[1;36m2\u001b[0m\n",
       "\u001b[1;36m4857586\u001b[0m    \u001b[1;36m2\u001b[0m\n",
       "\u001b[1;36m1667198\u001b[0m    \u001b[1;36m2\u001b[0m\n",
       "\u001b[1;36m3782787\u001b[0m    \u001b[1;36m2\u001b[0m\n",
       "\u001b[1;36m893276\u001b[0m     \u001b[1;36m2\u001b[0m\n",
       "Name: recid, Length: \u001b[1;36m83904\u001b[0m, dtype: int64"
      ]
     },
     "execution_count": 1115,
     "metadata": {},
     "output_type": "execute_result"
    }
   ],
   "source": [
    "voters_raw_full.recid.value_counts()[voters_raw_full.recid.value_counts() == 2]"
   ]
  },
  {
   "cell_type": "code",
   "execution_count": 1102,
   "id": "aa4b340f-bb43-44cd-982f-5876a029f280",
   "metadata": {},
   "outputs": [],
   "source": [
    "voters_raw_1['name'] = voters_raw_1['givenname'] + ' ' + voters_raw_1['surname']\n",
    "voters_raw_2['name'] = voters_raw_2['givenname'] + ' ' + voters_raw_2['surname']\n",
    "voters_raw_3['name'] = voters_raw_3['givenname'] + ' ' + voters_raw_3['surname']\n"
   ]
  },
  {
   "cell_type": "code",
   "execution_count": 1105,
   "id": "c3620375-7fa3-4bf0-bd92-ec408ac7fec5",
   "metadata": {},
   "outputs": [
    {
     "data": {
      "text/html": [
       "<pre style=\"white-space:pre;overflow-x:auto;line-height:normal;font-family:Menlo,'DejaVu Sans Mono',consolas,'Courier New',monospace\"></pre>\n"
      ],
      "text/plain": []
     },
     "metadata": {},
     "output_type": "display_data"
    },
    {
     "data": {
      "text/html": [
       "<div>\n",
       "<style scoped>\n",
       "    .dataframe tbody tr th:only-of-type {\n",
       "        vertical-align: middle;\n",
       "    }\n",
       "\n",
       "    .dataframe tbody tr th {\n",
       "        vertical-align: top;\n",
       "    }\n",
       "\n",
       "    .dataframe thead th {\n",
       "        text-align: right;\n",
       "    }\n",
       "</style>\n",
       "<table border=\"1\" class=\"dataframe\">\n",
       "  <thead>\n",
       "    <tr style=\"text-align: right;\">\n",
       "      <th></th>\n",
       "      <th>recid</th>\n",
       "      <th>givenname_x</th>\n",
       "      <th>surname_x</th>\n",
       "      <th>suburb_x</th>\n",
       "      <th>postcode_x</th>\n",
       "      <th>name_x</th>\n",
       "      <th>givenname_y</th>\n",
       "      <th>surname_y</th>\n",
       "      <th>suburb_y</th>\n",
       "      <th>postcode_y</th>\n",
       "      <th>name_y</th>\n",
       "      <th>givenname</th>\n",
       "      <th>surname</th>\n",
       "      <th>suburb</th>\n",
       "      <th>postcode</th>\n",
       "      <th>name</th>\n",
       "    </tr>\n",
       "  </thead>\n",
       "  <tbody>\n",
       "    <tr>\n",
       "      <th>1</th>\n",
       "      <td>3138435</td>\n",
       "      <td>ronel</td>\n",
       "      <td>carter</td>\n",
       "      <td>washington</td>\n",
       "      <td>2788g</td>\n",
       "      <td>ronel carter</td>\n",
       "      <td>ronnel</td>\n",
       "      <td>carter</td>\n",
       "      <td>washington</td>\n",
       "      <td>27889.0</td>\n",
       "      <td>ronnel carter</td>\n",
       "      <td>ronnel</td>\n",
       "      <td>carter</td>\n",
       "      <td>washington</td>\n",
       "      <td>27889.0</td>\n",
       "      <td>ronnel carter</td>\n",
       "    </tr>\n",
       "    <tr>\n",
       "      <th>2</th>\n",
       "      <td>6117295</td>\n",
       "      <td>jason</td>\n",
       "      <td>roehrig</td>\n",
       "      <td>millers ceeek</td>\n",
       "      <td>286s1</td>\n",
       "      <td>jason roehrig</td>\n",
       "      <td>jason</td>\n",
       "      <td>roehrig</td>\n",
       "      <td>millers creek</td>\n",
       "      <td>28651.0</td>\n",
       "      <td>jason roehrig</td>\n",
       "      <td>jason</td>\n",
       "      <td>roehrig</td>\n",
       "      <td>millers creek</td>\n",
       "      <td>28651.0</td>\n",
       "      <td>jason roehrig</td>\n",
       "    </tr>\n",
       "    <tr>\n",
       "      <th>3</th>\n",
       "      <td>6401695</td>\n",
       "      <td>antrea</td>\n",
       "      <td>mure</td>\n",
       "      <td>greensboro</td>\n",
       "      <td>27410</td>\n",
       "      <td>antrea mure</td>\n",
       "      <td>andrea</td>\n",
       "      <td>moore</td>\n",
       "      <td>greensboro</td>\n",
       "      <td>27410.0</td>\n",
       "      <td>andrea moore</td>\n",
       "      <td>andrea</td>\n",
       "      <td>moore</td>\n",
       "      <td>greensboro</td>\n",
       "      <td>27410.0</td>\n",
       "      <td>andrea moore</td>\n",
       "    </tr>\n",
       "    <tr>\n",
       "      <th>5</th>\n",
       "      <td>4338459</td>\n",
       "      <td>jonn</td>\n",
       "      <td>snyder</td>\n",
       "      <td>louisbuahg</td>\n",
       "      <td>27549</td>\n",
       "      <td>jonn snyder</td>\n",
       "      <td>john</td>\n",
       "      <td>snyddr</td>\n",
       "      <td>louisburg</td>\n",
       "      <td>27s49</td>\n",
       "      <td>john snyddr</td>\n",
       "      <td>zohn</td>\n",
       "      <td>snyder</td>\n",
       "      <td>louiburg</td>\n",
       "      <td>27549</td>\n",
       "      <td>zohn snyder</td>\n",
       "    </tr>\n",
       "    <tr>\n",
       "      <th>6</th>\n",
       "      <td>795481</td>\n",
       "      <td>charie</td>\n",
       "      <td>lyles</td>\n",
       "      <td>sdate road</td>\n",
       "      <td>28676</td>\n",
       "      <td>charie lyles</td>\n",
       "      <td>charlie</td>\n",
       "      <td>lyles</td>\n",
       "      <td>state road</td>\n",
       "      <td>28676.0</td>\n",
       "      <td>charlie lyles</td>\n",
       "      <td>charlie</td>\n",
       "      <td>lyles</td>\n",
       "      <td>state road</td>\n",
       "      <td>28676.0</td>\n",
       "      <td>charlie lyles</td>\n",
       "    </tr>\n",
       "    <tr>\n",
       "      <th>...</th>\n",
       "      <td>...</td>\n",
       "      <td>...</td>\n",
       "      <td>...</td>\n",
       "      <td>...</td>\n",
       "      <td>...</td>\n",
       "      <td>...</td>\n",
       "      <td>...</td>\n",
       "      <td>...</td>\n",
       "      <td>...</td>\n",
       "      <td>...</td>\n",
       "      <td>...</td>\n",
       "      <td>...</td>\n",
       "      <td>...</td>\n",
       "      <td>...</td>\n",
       "      <td>...</td>\n",
       "      <td>...</td>\n",
       "    </tr>\n",
       "    <tr>\n",
       "      <th>999985</th>\n",
       "      <td>5819868</td>\n",
       "      <td>meagan</td>\n",
       "      <td>pruitt</td>\n",
       "      <td>roxboro</td>\n",
       "      <td>27574.0</td>\n",
       "      <td>meagan pruitt</td>\n",
       "      <td>meagsn</td>\n",
       "      <td>pruiatt</td>\n",
       "      <td>roxboro</td>\n",
       "      <td>27574</td>\n",
       "      <td>meagsn pruiatt</td>\n",
       "      <td>mesgan</td>\n",
       "      <td>pruitt</td>\n",
       "      <td>roxboro</td>\n",
       "      <td>2757q</td>\n",
       "      <td>mesgan pruitt</td>\n",
       "    </tr>\n",
       "    <tr>\n",
       "      <th>999989</th>\n",
       "      <td>6680655</td>\n",
       "      <td>justin</td>\n",
       "      <td>pence</td>\n",
       "      <td>greensboro</td>\n",
       "      <td>27407.0</td>\n",
       "      <td>justin pence</td>\n",
       "      <td>justin</td>\n",
       "      <td>pence</td>\n",
       "      <td>greensboro</td>\n",
       "      <td>27407.0</td>\n",
       "      <td>justin pence</td>\n",
       "      <td>justin</td>\n",
       "      <td>pence</td>\n",
       "      <td>greensboro</td>\n",
       "      <td>27407.0</td>\n",
       "      <td>justin pence</td>\n",
       "    </tr>\n",
       "    <tr>\n",
       "      <th>999991</th>\n",
       "      <td>517540</td>\n",
       "      <td>roger</td>\n",
       "      <td>fristoe</td>\n",
       "      <td>greensboro</td>\n",
       "      <td>27408.0</td>\n",
       "      <td>roger fristoe</td>\n",
       "      <td>rojyr</td>\n",
       "      <td>fristoe</td>\n",
       "      <td>greensnoro</td>\n",
       "      <td>27408</td>\n",
       "      <td>rojyr fristoe</td>\n",
       "      <td>roger</td>\n",
       "      <td>fristoe</td>\n",
       "      <td>greensboro</td>\n",
       "      <td>27408.0</td>\n",
       "      <td>roger fristoe</td>\n",
       "    </tr>\n",
       "    <tr>\n",
       "      <th>999995</th>\n",
       "      <td>6614741</td>\n",
       "      <td>virginia</td>\n",
       "      <td>angle</td>\n",
       "      <td>charlotte</td>\n",
       "      <td>28205.0</td>\n",
       "      <td>virginia angle</td>\n",
       "      <td>virginia</td>\n",
       "      <td>angle</td>\n",
       "      <td>charlotte</td>\n",
       "      <td>28205.0</td>\n",
       "      <td>virginia angle</td>\n",
       "      <td>virginia</td>\n",
       "      <td>angle</td>\n",
       "      <td>charlotte</td>\n",
       "      <td>28205.0</td>\n",
       "      <td>virginia angle</td>\n",
       "    </tr>\n",
       "    <tr>\n",
       "      <th>999997</th>\n",
       "      <td>5781566</td>\n",
       "      <td>rebecca</td>\n",
       "      <td>allen</td>\n",
       "      <td>willow springs</td>\n",
       "      <td>27592.0</td>\n",
       "      <td>rebecca allen</td>\n",
       "      <td>rebrcca</td>\n",
       "      <td>alen</td>\n",
       "      <td>willow springs</td>\n",
       "      <td>27592</td>\n",
       "      <td>rebrcca alen</td>\n",
       "      <td>rebecca</td>\n",
       "      <td>allen</td>\n",
       "      <td>willow springs</td>\n",
       "      <td>27592.0</td>\n",
       "      <td>rebecca allen</td>\n",
       "    </tr>\n",
       "  </tbody>\n",
       "</table>\n",
       "<p>291451 rows × 16 columns</p>\n",
       "</div>"
      ],
      "text/plain": [
       "\n",
       "          recid givenname_x surname_x        suburb_x postcode_x  \\\n",
       "\u001b[1;36m1\u001b[0m       \u001b[1;36m3138435\u001b[0m       ronel    carter      washington      2788g   \n",
       "\u001b[1;36m2\u001b[0m       \u001b[1;36m6117295\u001b[0m       jason   roehrig   millers ceeek      286s1   \n",
       "\u001b[1;36m3\u001b[0m       \u001b[1;36m6401695\u001b[0m      antrea      mure      greensboro      \u001b[1;36m27410\u001b[0m   \n",
       "\u001b[1;36m5\u001b[0m       \u001b[1;36m4338459\u001b[0m        jonn    snyder      louisbuahg      \u001b[1;36m27549\u001b[0m   \n",
       "\u001b[1;36m6\u001b[0m        \u001b[1;36m795481\u001b[0m      charie     lyles      sdate road      \u001b[1;36m28676\u001b[0m   \n",
       "\u001b[33m...\u001b[0m         \u001b[33m...\u001b[0m         \u001b[33m...\u001b[0m       \u001b[33m...\u001b[0m             \u001b[33m...\u001b[0m        \u001b[33m...\u001b[0m   \n",
       "\u001b[1;36m999985\u001b[0m  \u001b[1;36m5819868\u001b[0m      meagan    pruitt         roxboro    \u001b[1;36m27574.0\u001b[0m   \n",
       "\u001b[1;36m999989\u001b[0m  \u001b[1;36m6680655\u001b[0m      justin     pence      greensboro    \u001b[1;36m27407.0\u001b[0m   \n",
       "\u001b[1;36m999991\u001b[0m   \u001b[1;36m517540\u001b[0m       roger   fristoe      greensboro    \u001b[1;36m27408.0\u001b[0m   \n",
       "\u001b[1;36m999995\u001b[0m  \u001b[1;36m6614741\u001b[0m    virginia     angle       charlotte    \u001b[1;36m28205.0\u001b[0m   \n",
       "\u001b[1;36m999997\u001b[0m  \u001b[1;36m5781566\u001b[0m     rebecca     allen  willow springs    \u001b[1;36m27592.0\u001b[0m   \n",
       "\n",
       "                name_x givenname_y surname_y        suburb_y postcode_y  \\\n",
       "\u001b[1;36m1\u001b[0m         ronel carter      ronnel    carter      washington    \u001b[1;36m27889.0\u001b[0m   \n",
       "\u001b[1;36m2\u001b[0m        jason roehrig       jason   roehrig   millers creek    \u001b[1;36m28651.0\u001b[0m   \n",
       "\u001b[1;36m3\u001b[0m          antrea mure      andrea     moore      greensboro    \u001b[1;36m27410.0\u001b[0m   \n",
       "\u001b[1;36m5\u001b[0m          jonn snyder        john    snyddr       louisburg      27s49   \n",
       "\u001b[1;36m6\u001b[0m         charie lyles     charlie     lyles      state road    \u001b[1;36m28676.0\u001b[0m   \n",
       "\u001b[33m...\u001b[0m                \u001b[33m...\u001b[0m         \u001b[33m...\u001b[0m       \u001b[33m...\u001b[0m             \u001b[33m...\u001b[0m        \u001b[33m...\u001b[0m   \n",
       "\u001b[1;36m999985\u001b[0m   meagan pruitt      meagsn   pruiatt         roxboro      \u001b[1;36m27574\u001b[0m   \n",
       "\u001b[1;36m999989\u001b[0m    justin pence      justin     pence      greensboro    \u001b[1;36m27407.0\u001b[0m   \n",
       "\u001b[1;36m999991\u001b[0m   roger fristoe       rojyr   fristoe      greensnoro      \u001b[1;36m27408\u001b[0m   \n",
       "\u001b[1;36m999995\u001b[0m  virginia angle    virginia     angle       charlotte    \u001b[1;36m28205.0\u001b[0m   \n",
       "\u001b[1;36m999997\u001b[0m   rebecca allen     rebrcca      alen  willow springs      \u001b[1;36m27592\u001b[0m   \n",
       "\n",
       "                name_y givenname  surname          suburb postcode  \\\n",
       "\u001b[1;36m1\u001b[0m        ronnel carter    ronnel   carter      washington  \u001b[1;36m27889.0\u001b[0m   \n",
       "\u001b[1;36m2\u001b[0m        jason roehrig     jason  roehrig   millers creek  \u001b[1;36m28651.0\u001b[0m   \n",
       "\u001b[1;36m3\u001b[0m         andrea moore    andrea    moore      greensboro  \u001b[1;36m27410.0\u001b[0m   \n",
       "\u001b[1;36m5\u001b[0m          john snyddr      zohn   snyder        louiburg    \u001b[1;36m27549\u001b[0m   \n",
       "\u001b[1;36m6\u001b[0m        charlie lyles   charlie    lyles      state road  \u001b[1;36m28676.0\u001b[0m   \n",
       "\u001b[33m...\u001b[0m                \u001b[33m...\u001b[0m       \u001b[33m...\u001b[0m      \u001b[33m...\u001b[0m             \u001b[33m...\u001b[0m      \u001b[33m...\u001b[0m   \n",
       "\u001b[1;36m999985\u001b[0m  meagsn pruiatt    mesgan   pruitt         roxboro    2757q   \n",
       "\u001b[1;36m999989\u001b[0m    justin pence    justin    pence      greensboro  \u001b[1;36m27407.0\u001b[0m   \n",
       "\u001b[1;36m999991\u001b[0m   rojyr fristoe     roger  fristoe      greensboro  \u001b[1;36m27408.0\u001b[0m   \n",
       "\u001b[1;36m999995\u001b[0m  virginia angle  virginia    angle       charlotte  \u001b[1;36m28205.0\u001b[0m   \n",
       "\u001b[1;36m999997\u001b[0m    rebrcca alen   rebecca    allen  willow springs  \u001b[1;36m27592.0\u001b[0m   \n",
       "\n",
       "                  name  \n",
       "\u001b[1;36m1\u001b[0m        ronnel carter  \n",
       "\u001b[1;36m2\u001b[0m        jason roehrig  \n",
       "\u001b[1;36m3\u001b[0m         andrea moore  \n",
       "\u001b[1;36m5\u001b[0m          zohn snyder  \n",
       "\u001b[1;36m6\u001b[0m        charlie lyles  \n",
       "\u001b[33m...\u001b[0m                \u001b[33m...\u001b[0m  \n",
       "\u001b[1;36m999985\u001b[0m   mesgan pruitt  \n",
       "\u001b[1;36m999989\u001b[0m    justin pence  \n",
       "\u001b[1;36m999991\u001b[0m   roger fristoe  \n",
       "\u001b[1;36m999995\u001b[0m  virginia angle  \n",
       "\u001b[1;36m999997\u001b[0m   rebecca allen  \n",
       "\n",
       "\u001b[1m[\u001b[0m\u001b[1;36m291451\u001b[0m rows x \u001b[1;36m16\u001b[0m columns\u001b[1m]\u001b[0m"
      ]
     },
     "execution_count": 1105,
     "metadata": {},
     "output_type": "execute_result"
    }
   ],
   "source": [
    "voters_raw_1.merge(voters_raw_2, on='recid', how='left').merge(voters_raw_3, on='recid', how='left').dropna()"
   ]
  },
  {
   "cell_type": "code",
   "execution_count": null,
   "id": "ca3f581f-e11f-4d5c-89df-223cd5e0c899",
   "metadata": {},
   "outputs": [],
   "source": []
  },
  {
   "cell_type": "markdown",
   "id": "56768c0a-f753-4088-8db4-4a54ffe15783",
   "metadata": {},
   "source": [
    "# Embedding analysis"
   ]
  },
  {
   "cell_type": "code",
   "execution_count": 148,
   "id": "de4b6c89-eb15-43d6-affb-f44fe4daa260",
   "metadata": {},
   "outputs": [],
   "source": [
    "\n",
    "poi_c2v = poiNames_C2V(150, char_to_index)\n",
    "poi_c2v = poi_c2v.load_model('../../data/06_models/Conv-mixed-sources-training-BEAT-EDIT')"
   ]
  },
  {
   "cell_type": "code",
   "execution_count": 160,
   "id": "08f87e69-1259-409c-82c6-ace1f8592954",
   "metadata": {},
   "outputs": [],
   "source": [
    "test_names = ['ibm', 'international business machines']"
   ]
  },
  {
   "cell_type": "code",
   "execution_count": 161,
   "id": "40d1996f-25c4-4966-9fb0-edbaaf6f44b5",
   "metadata": {},
   "outputs": [],
   "source": [
    "X = encode_sparsed_list(test_names,char_to_index_dict=char_to_index, max_len=MAX_NAME_LEN)"
   ]
  },
  {
   "cell_type": "code",
   "execution_count": 163,
   "id": "158d809e-6821-4a87-9b5b-0e831f0d978e",
   "metadata": {},
   "outputs": [
    {
     "data": {
      "text/html": [
       "<pre style=\"white-space:pre;overflow-x:auto;line-height:normal;font-family:Menlo,'DejaVu Sans Mono',consolas,'Courier New',monospace\"></pre>\n"
      ],
      "text/plain": []
     },
     "metadata": {},
     "output_type": "display_data"
    },
    {
     "data": {
      "text/plain": [
       "\u001b[1m[\u001b[0m\u001b[32m'ibm'\u001b[0m, \u001b[32m'international business machines'\u001b[0m\u001b[1m]\u001b[0m"
      ]
     },
     "execution_count": 163,
     "metadata": {},
     "output_type": "execute_result"
    }
   ],
   "source": [
    "test_names"
   ]
  },
  {
   "cell_type": "code",
   "execution_count": 162,
   "id": "fa4045aa-c69d-4b53-9664-6b2971ceaec0",
   "metadata": {},
   "outputs": [
    {
     "name": "stdout",
     "output_type": "stream",
     "text": [
      "[[20. 13. 24.  0.  0.  0.  0.  0.  0.  0.  0.  0.  0.  0.  0.  0.  0.  0.\n",
      "   0.  0.  0.  0.  0.  0.  0.  0.  0.  0.  0.  0.  0.  0.  0.  0.  0.  0.\n",
      "   0.  0.  0.  0.  0.  0.  0.  0.  0.  0.  0.  0.  0.  0.  0.  0.  0.  0.\n",
      "   0.  0.  0.  0.  0.  0.  0.  0.  0.  0.  0.  0.  0.  0.  0.  0.  0.  0.\n",
      "   0.  0.  0.  0.  0.  0.  0.  0.  0.  0.  0.  0.  0.  0.  0.  0.  0.  0.\n",
      "   0.  0.  0.  0.  0.  0.  0.  0.  0.  0.]\n",
      " [20. 25. 31. 16. 29. 25. 12. 31. 20. 26. 25. 12. 23.  1. 13. 32. 30. 20.\n",
      "  25. 16. 30. 30.  1. 24. 12. 14. 19. 20. 25. 16. 30.  0.  0.  0.  0.  0.\n",
      "   0.  0.  0.  0.  0.  0.  0.  0.  0.  0.  0.  0.  0.  0.  0.  0.  0.  0.\n",
      "   0.  0.  0.  0.  0.  0.  0.  0.  0.  0.  0.  0.  0.  0.  0.  0.  0.  0.\n",
      "   0.  0.  0.  0.  0.  0.  0.  0.  0.  0.  0.  0.  0.  0.  0.  0.  0.  0.\n",
      "   0.  0.  0.  0.  0.  0.  0.  0.  0.  0.]]\n"
     ]
    }
   ],
   "source": [
    "print(X)"
   ]
  },
  {
   "cell_type": "code",
   "execution_count": 164,
   "id": "9697f353-e2a9-4bc1-bbd8-3edf6c42eb5a",
   "metadata": {},
   "outputs": [
    {
     "data": {
      "text/html": [
       "<pre style=\"white-space:pre;overflow-x:auto;line-height:normal;font-family:Menlo,'DejaVu Sans Mono',consolas,'Courier New',monospace\"></pre>\n"
      ],
      "text/plain": []
     },
     "metadata": {},
     "output_type": "display_data"
    },
    {
     "data": {
      "text/plain": [
       "\u001b[1m<\u001b[0m\u001b[1;95mmatplotlib.image.AxesImage\u001b[0m\u001b[39m object at \u001b[0m\u001b[1;36m0x7f502caf0c40\u001b[0m\u001b[1m>\u001b[0m"
      ]
     },
     "execution_count": 164,
     "metadata": {},
     "output_type": "execute_result"
    },
    {
     "data": {
      "text/html": [
       "<pre style=\"white-space:pre;overflow-x:auto;line-height:normal;font-family:Menlo,'DejaVu Sans Mono',consolas,'Courier New',monospace\"></pre>\n"
      ],
      "text/plain": []
     },
     "metadata": {},
     "output_type": "display_data"
    },
    {
     "data": {
      "image/png": "[encoded data removed]",
      "text/plain": [
       "\u001b[1m<\u001b[0m\u001b[1;95mFigure\u001b[0m\u001b[39m size 1000\u001b[0m\u001b[1;36m0x10000\u001b[0m\u001b[39m with \u001b[0m\u001b[1;36m1\u001b[0m\u001b[39m Axes\u001b[0m\u001b[1m>\u001b[0m"
      ]
     },
     "metadata": {},
     "output_type": "display_data"
    }
   ],
   "source": [
    "plt.figure(figsize=(100,100))\n",
    "plt.imshow(X[:2])"
   ]
  },
  {
   "cell_type": "code",
   "execution_count": 165,
   "id": "e2c41637-b2ad-4cbb-9bbd-3a21940e2175",
   "metadata": {},
   "outputs": [
    {
     "name": "stdout",
     "output_type": "stream",
     "text": [
      "1/1 [==============================] - 0s 26ms/step\n"
     ]
    },
    {
     "data": {
      "text/html": [
       "<pre style=\"white-space:pre;overflow-x:auto;line-height:normal;font-family:Menlo,'DejaVu Sans Mono',consolas,'Courier New',monospace\"></pre>\n"
      ],
      "text/plain": []
     },
     "metadata": {},
     "output_type": "display_data"
    },
    {
     "data": {
      "text/plain": [
       "\u001b[1m<\u001b[0m\u001b[1;95mmatplotlib.image.AxesImage\u001b[0m\u001b[39m object at \u001b[0m\u001b[1;36m0x7f502c97cca0\u001b[0m\u001b[1m>\u001b[0m"
      ]
     },
     "execution_count": 165,
     "metadata": {},
     "output_type": "execute_result"
    },
    {
     "data": {
      "text/html": [
       "<pre style=\"white-space:pre;overflow-x:auto;line-height:normal;font-family:Menlo,'DejaVu Sans Mono',consolas,'Courier New',monospace\"></pre>\n"
      ],
      "text/plain": []
     },
     "metadata": {},
     "output_type": "display_data"
    },
    {
     "data": {
      "image/png": "[encoded data removed]",
      "text/plain": [
       "\u001b[1m<\u001b[0m\u001b[1;95mFigure\u001b[0m\u001b[39m size 1000\u001b[0m\u001b[1;36m0x1000\u001b[0m\u001b[39m with \u001b[0m\u001b[1;36m1\u001b[0m\u001b[39m Axes\u001b[0m\u001b[1m>\u001b[0m"
      ]
     },
     "metadata": {},
     "output_type": "display_data"
    }
   ],
   "source": [
    "plt.figure(figsize=(100,10))\n",
    "plt.imshow(poi_c2v.embedding_layer.predict(X[0:1]).reshape(-1,150))"
   ]
  },
  {
   "cell_type": "code",
   "execution_count": 166,
   "id": "5c51ec7a-cee2-4302-aeb8-00034c5c2f3d",
   "metadata": {},
   "outputs": [
    {
     "name": "stdout",
     "output_type": "stream",
     "text": [
      "4/4 [==============================] - 0s 2ms/step\n"
     ]
    },
    {
     "data": {
      "text/html": [
       "<pre style=\"white-space:pre;overflow-x:auto;line-height:normal;font-family:Menlo,'DejaVu Sans Mono',consolas,'Courier New',monospace\"></pre>\n"
      ],
      "text/plain": []
     },
     "metadata": {},
     "output_type": "display_data"
    },
    {
     "data": {
      "text/plain": [
       "\u001b[1m<\u001b[0m\u001b[1;95mmatplotlib.image.AxesImage\u001b[0m\u001b[39m object at \u001b[0m\u001b[1;36m0x7f4feae79730\u001b[0m\u001b[1m>\u001b[0m"
      ]
     },
     "execution_count": 166,
     "metadata": {},
     "output_type": "execute_result"
    },
    {
     "data": {
      "text/html": [
       "<pre style=\"white-space:pre;overflow-x:auto;line-height:normal;font-family:Menlo,'DejaVu Sans Mono',consolas,'Courier New',monospace\"></pre>\n"
      ],
      "text/plain": []
     },
     "metadata": {},
     "output_type": "display_data"
    },
    {
     "data": {
      "image/png": "[encoded data removed]",
      "text/plain": [
       "\u001b[1m<\u001b[0m\u001b[1;95mFigure\u001b[0m\u001b[39m size 64\u001b[0m\u001b[1;36m0x480\u001b[0m\u001b[39m with \u001b[0m\u001b[1;36m1\u001b[0m\u001b[39m Axes\u001b[0m\u001b[1m>\u001b[0m"
      ]
     },
     "metadata": {},
     "output_type": "display_data"
    }
   ],
   "source": [
    "plt.imshow(poi_c2v.embedding_layer.predict(X[1]).reshape(-1,150))"
   ]
  },
  {
   "cell_type": "code",
   "execution_count": 171,
   "id": "05c7d7cc-2985-4389-96d9-8cb80535a098",
   "metadata": {},
   "outputs": [
    {
     "data": {
      "text/html": [
       "<pre style=\"white-space:pre;overflow-x:auto;line-height:normal;font-family:Menlo,'DejaVu Sans Mono',consolas,'Courier New',monospace\"></pre>\n"
      ],
      "text/plain": []
     },
     "metadata": {},
     "output_type": "display_data"
    },
    {
     "data": {
      "text/plain": [
       "\u001b[1;36m44\u001b[0m"
      ]
     },
     "execution_count": 171,
     "metadata": {},
     "output_type": "execute_result"
    }
   ],
   "source": [
    "fuzz.token_set_ratio('Car Craft', 'Carcraft Mot & Service Centre')"
   ]
  },
  {
   "cell_type": "code",
   "execution_count": null,
   "id": "597c8a9c-f134-4c8b-b9d3-a2f65fa878d8",
   "metadata": {},
   "outputs": [],
   "source": []
  },
  {
   "cell_type": "markdown",
   "id": "5b963c58-8205-4e0e-b60a-ef4aaea0e20c",
   "metadata": {},
   "source": [
    "# Test layers"
   ]
  },
  {
   "cell_type": "code",
   "execution_count": 176,
   "id": "88e75f01-6fb8-4978-aee5-f806726923a9",
   "metadata": {},
   "outputs": [],
   "source": [
    "input_sequence = tf.keras.layers.Input(shape=100, name='input_sequence')\n",
    "x = tf.keras.layers.Masking(mask_value=0)(input_sequence)\n",
    "x = tf.keras.layers.Embedding(input_dim=100, output_dim=150, mask_zero=True)(x)\n",
    "embedding_layer = tf.keras.models.Model(inputs=[input_sequence], outputs=x)"
   ]
  },
  {
   "cell_type": "code",
   "execution_count": 178,
   "id": "08d19b2a-7888-41cc-9aaf-53722e293bfb",
   "metadata": {},
   "outputs": [
    {
     "data": {
      "text/html": [
       "<pre style=\"white-space:pre;overflow-x:auto;line-height:normal;font-family:Menlo,'DejaVu Sans Mono',consolas,'Courier New',monospace\"></pre>\n"
      ],
      "text/plain": []
     },
     "metadata": {},
     "output_type": "display_data"
    },
    {
     "data": {
      "text/plain": [
       "\n",
       "\u001b[1m<\u001b[0m\u001b[1;95mtf.Tensor:\u001b[0m\u001b[39m \u001b[0m\u001b[33mshape\u001b[0m\u001b[39m=\u001b[0m\u001b[1;39m(\u001b[0m\u001b[1;36m2\u001b[0m\u001b[39m, \u001b[0m\u001b[1;36m100\u001b[0m\u001b[1;39m)\u001b[0m\u001b[39m, \u001b[0m\u001b[33mdtype\u001b[0m\u001b[39m=\u001b[0m\u001b[35mfloat32\u001b[0m\u001b[39m, \u001b[0m\u001b[33mnumpy\u001b[0m\u001b[39m=\u001b[0m\n",
       "\u001b[1;35marray\u001b[0m\u001b[1;39m(\u001b[0m\u001b[1;39m[\u001b[0m\u001b[1;39m[\u001b[0m\u001b[1;36m20\u001b[0m\u001b[39m., \u001b[0m\u001b[1;36m13\u001b[0m\u001b[39m., \u001b[0m\u001b[1;36m24\u001b[0m\u001b[39m.,  \u001b[0m\u001b[1;36m0\u001b[0m\u001b[39m.,  \u001b[0m\u001b[1;36m0\u001b[0m\u001b[39m.,  \u001b[0m\u001b[1;36m0\u001b[0m\u001b[39m.,  \u001b[0m\u001b[1;36m0\u001b[0m\u001b[39m.,  \u001b[0m\u001b[1;36m0\u001b[0m\u001b[39m.,  \u001b[0m\u001b[1;36m0\u001b[0m\u001b[39m.,  \u001b[0m\u001b[1;36m0\u001b[0m\u001b[39m.,  \u001b[0m\u001b[1;36m0\u001b[0m\u001b[39m.,  \u001b[0m\u001b[1;36m0\u001b[0m\u001b[39m.,  \u001b[0m\u001b[1;36m0\u001b[0m\u001b[39m.,\u001b[0m\n",
       "\u001b[39m         \u001b[0m\u001b[1;36m0\u001b[0m\u001b[39m.,  \u001b[0m\u001b[1;36m0\u001b[0m\u001b[39m.,  \u001b[0m\u001b[1;36m0\u001b[0m\u001b[39m.,  \u001b[0m\u001b[1;36m0\u001b[0m\u001b[39m.,  \u001b[0m\u001b[1;36m0\u001b[0m\u001b[39m.,  \u001b[0m\u001b[1;36m0\u001b[0m\u001b[39m.,  \u001b[0m\u001b[1;36m0\u001b[0m\u001b[39m.,  \u001b[0m\u001b[1;36m0\u001b[0m\u001b[39m.,  \u001b[0m\u001b[1;36m0\u001b[0m\u001b[39m.,  \u001b[0m\u001b[1;36m0\u001b[0m\u001b[39m.,  \u001b[0m\u001b[1;36m0\u001b[0m\u001b[39m.,  \u001b[0m\u001b[1;36m0\u001b[0m\u001b[39m.,  \u001b[0m\u001b[1;36m0\u001b[0m\u001b[39m.,\u001b[0m\n",
       "\u001b[39m         \u001b[0m\u001b[1;36m0\u001b[0m\u001b[39m.,  \u001b[0m\u001b[1;36m0\u001b[0m\u001b[39m.,  \u001b[0m\u001b[1;36m0\u001b[0m\u001b[39m.,  \u001b[0m\u001b[1;36m0\u001b[0m\u001b[39m.,  \u001b[0m\u001b[1;36m0\u001b[0m\u001b[39m.,  \u001b[0m\u001b[1;36m0\u001b[0m\u001b[39m.,  \u001b[0m\u001b[1;36m0\u001b[0m\u001b[39m.,  \u001b[0m\u001b[1;36m0\u001b[0m\u001b[39m.,  \u001b[0m\u001b[1;36m0\u001b[0m\u001b[39m.,  \u001b[0m\u001b[1;36m0\u001b[0m\u001b[39m.,  \u001b[0m\u001b[1;36m0\u001b[0m\u001b[39m.,  \u001b[0m\u001b[1;36m0\u001b[0m\u001b[39m.,  \u001b[0m\u001b[1;36m0\u001b[0m\u001b[39m.,\u001b[0m\n",
       "\u001b[39m         \u001b[0m\u001b[1;36m0\u001b[0m\u001b[39m.,  \u001b[0m\u001b[1;36m0\u001b[0m\u001b[39m.,  \u001b[0m\u001b[1;36m0\u001b[0m\u001b[39m.,  \u001b[0m\u001b[1;36m0\u001b[0m\u001b[39m.,  \u001b[0m\u001b[1;36m0\u001b[0m\u001b[39m.,  \u001b[0m\u001b[1;36m0\u001b[0m\u001b[39m.,  \u001b[0m\u001b[1;36m0\u001b[0m\u001b[39m.,  \u001b[0m\u001b[1;36m0\u001b[0m\u001b[39m.,  \u001b[0m\u001b[1;36m0\u001b[0m\u001b[39m.,  \u001b[0m\u001b[1;36m0\u001b[0m\u001b[39m.,  \u001b[0m\u001b[1;36m0\u001b[0m\u001b[39m.,  \u001b[0m\u001b[1;36m0\u001b[0m\u001b[39m.,  \u001b[0m\u001b[1;36m0\u001b[0m\u001b[39m.,\u001b[0m\n",
       "\u001b[39m         \u001b[0m\u001b[1;36m0\u001b[0m\u001b[39m.,  \u001b[0m\u001b[1;36m0\u001b[0m\u001b[39m.,  \u001b[0m\u001b[1;36m0\u001b[0m\u001b[39m.,  \u001b[0m\u001b[1;36m0\u001b[0m\u001b[39m.,  \u001b[0m\u001b[1;36m0\u001b[0m\u001b[39m.,  \u001b[0m\u001b[1;36m0\u001b[0m\u001b[39m.,  \u001b[0m\u001b[1;36m0\u001b[0m\u001b[39m.,  \u001b[0m\u001b[1;36m0\u001b[0m\u001b[39m.,  \u001b[0m\u001b[1;36m0\u001b[0m\u001b[39m.,  \u001b[0m\u001b[1;36m0\u001b[0m\u001b[39m.,  \u001b[0m\u001b[1;36m0\u001b[0m\u001b[39m.,  \u001b[0m\u001b[1;36m0\u001b[0m\u001b[39m.,  \u001b[0m\u001b[1;36m0\u001b[0m\u001b[39m.,\u001b[0m\n",
       "\u001b[39m         \u001b[0m\u001b[1;36m0\u001b[0m\u001b[39m.,  \u001b[0m\u001b[1;36m0\u001b[0m\u001b[39m.,  \u001b[0m\u001b[1;36m0\u001b[0m\u001b[39m.,  \u001b[0m\u001b[1;36m0\u001b[0m\u001b[39m.,  \u001b[0m\u001b[1;36m0\u001b[0m\u001b[39m.,  \u001b[0m\u001b[1;36m0\u001b[0m\u001b[39m.,  \u001b[0m\u001b[1;36m0\u001b[0m\u001b[39m.,  \u001b[0m\u001b[1;36m0\u001b[0m\u001b[39m.,  \u001b[0m\u001b[1;36m0\u001b[0m\u001b[39m.,  \u001b[0m\u001b[1;36m0\u001b[0m\u001b[39m.,  \u001b[0m\u001b[1;36m0\u001b[0m\u001b[39m.,  \u001b[0m\u001b[1;36m0\u001b[0m\u001b[39m.,  \u001b[0m\u001b[1;36m0\u001b[0m\u001b[39m.,\u001b[0m\n",
       "\u001b[39m         \u001b[0m\u001b[1;36m0\u001b[0m\u001b[39m.,  \u001b[0m\u001b[1;36m0\u001b[0m\u001b[39m.,  \u001b[0m\u001b[1;36m0\u001b[0m\u001b[39m.,  \u001b[0m\u001b[1;36m0\u001b[0m\u001b[39m.,  \u001b[0m\u001b[1;36m0\u001b[0m\u001b[39m.,  \u001b[0m\u001b[1;36m0\u001b[0m\u001b[39m.,  \u001b[0m\u001b[1;36m0\u001b[0m\u001b[39m.,  \u001b[0m\u001b[1;36m0\u001b[0m\u001b[39m.,  \u001b[0m\u001b[1;36m0\u001b[0m\u001b[39m.,  \u001b[0m\u001b[1;36m0\u001b[0m\u001b[39m.,  \u001b[0m\u001b[1;36m0\u001b[0m\u001b[39m.,  \u001b[0m\u001b[1;36m0\u001b[0m\u001b[39m.,  \u001b[0m\u001b[1;36m0\u001b[0m\u001b[39m.,\u001b[0m\n",
       "\u001b[39m         \u001b[0m\u001b[1;36m0\u001b[0m\u001b[39m.,  \u001b[0m\u001b[1;36m0\u001b[0m\u001b[39m.,  \u001b[0m\u001b[1;36m0\u001b[0m\u001b[39m.,  \u001b[0m\u001b[1;36m0\u001b[0m\u001b[39m.,  \u001b[0m\u001b[1;36m0\u001b[0m\u001b[39m.,  \u001b[0m\u001b[1;36m0\u001b[0m\u001b[39m.,  \u001b[0m\u001b[1;36m0\u001b[0m\u001b[39m.,  \u001b[0m\u001b[1;36m0\u001b[0m\u001b[39m.,  \u001b[0m\u001b[1;36m0\u001b[0m\u001b[39m.\u001b[0m\u001b[1;39m]\u001b[0m\u001b[39m,\u001b[0m\n",
       "\u001b[39m       \u001b[0m\u001b[1;39m[\u001b[0m\u001b[1;36m20\u001b[0m\u001b[39m., \u001b[0m\u001b[1;36m25\u001b[0m\u001b[39m., \u001b[0m\u001b[1;36m31\u001b[0m\u001b[39m., \u001b[0m\u001b[1;36m16\u001b[0m\u001b[39m., \u001b[0m\u001b[1;36m29\u001b[0m\u001b[39m., \u001b[0m\u001b[1;36m25\u001b[0m\u001b[39m., \u001b[0m\u001b[1;36m12\u001b[0m\u001b[39m., \u001b[0m\u001b[1;36m31\u001b[0m\u001b[39m., \u001b[0m\u001b[1;36m20\u001b[0m\u001b[39m., \u001b[0m\u001b[1;36m26\u001b[0m\u001b[39m., \u001b[0m\u001b[1;36m25\u001b[0m\u001b[39m., \u001b[0m\u001b[1;36m12\u001b[0m\u001b[39m., \u001b[0m\u001b[1;36m23\u001b[0m\u001b[39m.,\u001b[0m\n",
       "\u001b[39m         \u001b[0m\u001b[1;36m1\u001b[0m\u001b[39m., \u001b[0m\u001b[1;36m13\u001b[0m\u001b[39m., \u001b[0m\u001b[1;36m32\u001b[0m\u001b[39m., \u001b[0m\u001b[1;36m30\u001b[0m\u001b[39m., \u001b[0m\u001b[1;36m20\u001b[0m\u001b[39m., \u001b[0m\u001b[1;36m25\u001b[0m\u001b[39m., \u001b[0m\u001b[1;36m16\u001b[0m\u001b[39m., \u001b[0m\u001b[1;36m30\u001b[0m\u001b[39m., \u001b[0m\u001b[1;36m30\u001b[0m\u001b[39m.,  \u001b[0m\u001b[1;36m1\u001b[0m\u001b[39m., \u001b[0m\u001b[1;36m24\u001b[0m\u001b[39m., \u001b[0m\u001b[1;36m12\u001b[0m\u001b[39m., \u001b[0m\u001b[1;36m14\u001b[0m\u001b[39m.,\u001b[0m\n",
       "\u001b[39m        \u001b[0m\u001b[1;36m19\u001b[0m\u001b[39m., \u001b[0m\u001b[1;36m20\u001b[0m\u001b[39m., \u001b[0m\u001b[1;36m25\u001b[0m\u001b[39m., \u001b[0m\u001b[1;36m16\u001b[0m\u001b[39m., \u001b[0m\u001b[1;36m30\u001b[0m\u001b[39m.,  \u001b[0m\u001b[1;36m0\u001b[0m\u001b[39m.,  \u001b[0m\u001b[1;36m0\u001b[0m\u001b[39m.,  \u001b[0m\u001b[1;36m0\u001b[0m\u001b[39m.,  \u001b[0m\u001b[1;36m0\u001b[0m\u001b[39m.,  \u001b[0m\u001b[1;36m0\u001b[0m\u001b[39m.,  \u001b[0m\u001b[1;36m0\u001b[0m\u001b[39m.,  \u001b[0m\u001b[1;36m0\u001b[0m\u001b[39m.,  \u001b[0m\u001b[1;36m0\u001b[0m\u001b[39m.,\u001b[0m\n",
       "\u001b[39m         \u001b[0m\u001b[1;36m0\u001b[0m\u001b[39m.,  \u001b[0m\u001b[1;36m0\u001b[0m\u001b[39m.,  \u001b[0m\u001b[1;36m0\u001b[0m\u001b[39m.,  \u001b[0m\u001b[1;36m0\u001b[0m\u001b[39m.,  \u001b[0m\u001b[1;36m0\u001b[0m\u001b[39m.,  \u001b[0m\u001b[1;36m0\u001b[0m\u001b[39m.,  \u001b[0m\u001b[1;36m0\u001b[0m\u001b[39m.,  \u001b[0m\u001b[1;36m0\u001b[0m\u001b[39m.,  \u001b[0m\u001b[1;36m0\u001b[0m\u001b[39m.,  \u001b[0m\u001b[1;36m0\u001b[0m\u001b[39m.,  \u001b[0m\u001b[1;36m0\u001b[0m\u001b[39m.,  \u001b[0m\u001b[1;36m0\u001b[0m\u001b[39m.,  \u001b[0m\u001b[1;36m0\u001b[0m\u001b[39m.,\u001b[0m\n",
       "\u001b[39m         \u001b[0m\u001b[1;36m0\u001b[0m\u001b[39m.,  \u001b[0m\u001b[1;36m0\u001b[0m\u001b[39m.,  \u001b[0m\u001b[1;36m0\u001b[0m\u001b[39m.,  \u001b[0m\u001b[1;36m0\u001b[0m\u001b[39m.,  \u001b[0m\u001b[1;36m0\u001b[0m\u001b[39m.,  \u001b[0m\u001b[1;36m0\u001b[0m\u001b[39m.,  \u001b[0m\u001b[1;36m0\u001b[0m\u001b[39m.,  \u001b[0m\u001b[1;36m0\u001b[0m\u001b[39m.,  \u001b[0m\u001b[1;36m0\u001b[0m\u001b[39m.,  \u001b[0m\u001b[1;36m0\u001b[0m\u001b[39m.,  \u001b[0m\u001b[1;36m0\u001b[0m\u001b[39m.,  \u001b[0m\u001b[1;36m0\u001b[0m\u001b[39m.,  \u001b[0m\u001b[1;36m0\u001b[0m\u001b[39m.,\u001b[0m\n",
       "\u001b[39m         \u001b[0m\u001b[1;36m0\u001b[0m\u001b[39m.,  \u001b[0m\u001b[1;36m0\u001b[0m\u001b[39m.,  \u001b[0m\u001b[1;36m0\u001b[0m\u001b[39m.,  \u001b[0m\u001b[1;36m0\u001b[0m\u001b[39m.,  \u001b[0m\u001b[1;36m0\u001b[0m\u001b[39m.,  \u001b[0m\u001b[1;36m0\u001b[0m\u001b[39m.,  \u001b[0m\u001b[1;36m0\u001b[0m\u001b[39m.,  \u001b[0m\u001b[1;36m0\u001b[0m\u001b[39m.,  \u001b[0m\u001b[1;36m0\u001b[0m\u001b[39m.,  \u001b[0m\u001b[1;36m0\u001b[0m\u001b[39m.,  \u001b[0m\u001b[1;36m0\u001b[0m\u001b[39m.,  \u001b[0m\u001b[1;36m0\u001b[0m\u001b[39m.,  \u001b[0m\u001b[1;36m0\u001b[0m\u001b[39m.,\u001b[0m\n",
       "\u001b[39m         \u001b[0m\u001b[1;36m0\u001b[0m\u001b[39m.,  \u001b[0m\u001b[1;36m0\u001b[0m\u001b[39m.,  \u001b[0m\u001b[1;36m0\u001b[0m\u001b[39m.,  \u001b[0m\u001b[1;36m0\u001b[0m\u001b[39m.,  \u001b[0m\u001b[1;36m0\u001b[0m\u001b[39m.,  \u001b[0m\u001b[1;36m0\u001b[0m\u001b[39m.,  \u001b[0m\u001b[1;36m0\u001b[0m\u001b[39m.,  \u001b[0m\u001b[1;36m0\u001b[0m\u001b[39m.,  \u001b[0m\u001b[1;36m0\u001b[0m\u001b[39m.,  \u001b[0m\u001b[1;36m0\u001b[0m\u001b[39m.,  \u001b[0m\u001b[1;36m0\u001b[0m\u001b[39m.,  \u001b[0m\u001b[1;36m0\u001b[0m\u001b[39m.,  \u001b[0m\u001b[1;36m0\u001b[0m\u001b[39m.,\u001b[0m\n",
       "\u001b[39m         \u001b[0m\u001b[1;36m0\u001b[0m\u001b[39m.,  \u001b[0m\u001b[1;36m0\u001b[0m\u001b[39m.,  \u001b[0m\u001b[1;36m0\u001b[0m\u001b[39m.,  \u001b[0m\u001b[1;36m0\u001b[0m\u001b[39m.,  \u001b[0m\u001b[1;36m0\u001b[0m\u001b[39m.,  \u001b[0m\u001b[1;36m0\u001b[0m\u001b[39m.,  \u001b[0m\u001b[1;36m0\u001b[0m\u001b[39m.,  \u001b[0m\u001b[1;36m0\u001b[0m\u001b[39m.,  \u001b[0m\u001b[1;36m0\u001b[0m\u001b[39m.\u001b[0m\u001b[1;39m]\u001b[0m\u001b[1;39m]\u001b[0m\u001b[39m, \u001b[0m\u001b[33mdtype\u001b[0m\u001b[39m=\u001b[0m\u001b[35mfloat32\u001b[0m\u001b[1;39m)\u001b[0m\u001b[1m>\u001b[0m"
      ]
     },
     "execution_count": 178,
     "metadata": {},
     "output_type": "execute_result"
    }
   ],
   "source": [
    "tf.keras.layers.Masking(mask_value=0)(X)"
   ]
  },
  {
   "cell_type": "code",
   "execution_count": 53,
   "id": "0bbf20ba-fe7b-4d91-bbee-8f01b544591d",
   "metadata": {},
   "outputs": [
    {
     "data": {
      "text/html": [
       "<pre style=\"white-space:pre;overflow-x:auto;line-height:normal;font-family:Menlo,'DejaVu Sans Mono',consolas,'Courier New',monospace\"></pre>\n"
      ],
      "text/plain": []
     },
     "metadata": {},
     "output_type": "display_data"
    },
    {
     "data": {
      "text/plain": [
       "\u001b[1m<\u001b[0m\u001b[1;95mmatplotlib.image.AxesImage\u001b[0m\u001b[39m object at \u001b[0m\u001b[1;36m0x7f505c7bab20\u001b[0m\u001b[1m>\u001b[0m"
      ]
     },
     "execution_count": 53,
     "metadata": {},
     "output_type": "execute_result"
    },
    {
     "data": {
      "text/html": [
       "<pre style=\"white-space:pre;overflow-x:auto;line-height:normal;font-family:Menlo,'DejaVu Sans Mono',consolas,'Courier New',monospace\"></pre>\n"
      ],
      "text/plain": []
     },
     "metadata": {},
     "output_type": "display_data"
    },
    {
     "data": {
      "image/png": "[encoded data removed]",
      "text/plain": [
       "\u001b[1m<\u001b[0m\u001b[1;95mFigure\u001b[0m\u001b[39m size 64\u001b[0m\u001b[1;36m0x480\u001b[0m\u001b[39m with \u001b[0m\u001b[1;36m1\u001b[0m\u001b[39m Axes\u001b[0m\u001b[1m>\u001b[0m"
      ]
     },
     "metadata": {},
     "output_type": "display_data"
    }
   ],
   "source": [
    "plt.imshow(embedding_layer(ones))"
   ]
  },
  {
   "cell_type": "code",
   "execution_count": 12,
   "id": "f80d9c5e-9247-4416-ad05-87674adad0b3",
   "metadata": {},
   "outputs": [
    {
     "data": {
      "text/html": [
       "<pre style=\"white-space:pre;overflow-x:auto;line-height:normal;font-family:Menlo,'DejaVu Sans Mono',consolas,'Courier New',monospace\"></pre>\n"
      ],
      "text/plain": []
     },
     "metadata": {},
     "output_type": "display_data"
    },
    {
     "data": {
      "image/png": "[encoded data removed]",
      "text/plain": [
       "\u001b[1m<\u001b[0m\u001b[1;95mFigure\u001b[0m\u001b[39m size 64\u001b[0m\u001b[1;36m0x480\u001b[0m\u001b[39m with \u001b[0m\u001b[1;36m2\u001b[0m\u001b[39m Axes\u001b[0m\u001b[1m>\u001b[0m"
      ]
     },
     "metadata": {},
     "output_type": "display_data"
    }
   ],
   "source": [
    "import matplotlib.pyplot as plt\n",
    "from sklearn.datasets import make_classification\n",
    "from sklearn.metrics import confusion_matrix, ConfusionMatrixDisplay\n",
    "from sklearn.model_selection import train_test_split\n",
    "from sklearn.svm import SVC\n",
    "X, y = make_classification(random_state=0)\n",
    "X_train, X_test, y_train, y_test = train_test_split(X, y)\n",
    "clf = SVC(random_state=0)\n",
    "clf.fit(X_train, y_train)\n",
    "predictions = clf.predict(X_test)\n",
    "cm = confusion_matrix(y_test, predictions, labels=clf.classes_)\n",
    "disp = ConfusionMatrixDisplay(confusion_matrix=cm,display_labels=clf.classes_)\n",
    "f = disp.plot()\n",
    "plt.show()"
   ]
  },
  {
   "cell_type": "code",
   "execution_count": null,
   "id": "11152b2e-4ff9-42c7-a558-a6b95d83f61b",
   "metadata": {},
   "outputs": [],
   "source": []
  },
  {
   "cell_type": "code",
   "execution_count": 3,
   "id": "4edb1845-1bf4-4f04-8152-b5913fac4ca9",
   "metadata": {},
   "outputs": [
    {
     "data": {
      "text/html": [
       "<pre style=\"white-space:pre;overflow-x:auto;line-height:normal;font-family:Menlo,'DejaVu Sans Mono',consolas,'Courier New',monospace\"><span style=\"color: #7fbfbf; text-decoration-color: #7fbfbf\">[09/04/23 22:42:22] </span><span style=\"color: #000080; text-decoration-color: #000080\">INFO    </span> Loading data from <span style=\"color: #008000; text-decoration-color: #008000\">'vocabulary_file'</span> <span style=\"font-weight: bold\">(</span>JSONDataSet<span style=\"font-weight: bold\">)</span><span style=\"color: #808000; text-decoration-color: #808000\">...</span>               <a href=\"file:///usr/local/lib/python3.9/dist-packages/kedro/io/data_catalog.py\" target=\"_blank\"><span style=\"color: #7f7f7f; text-decoration-color: #7f7f7f\">data_catalog.py</span></a><span style=\"color: #7f7f7f; text-decoration-color: #7f7f7f\">:</span><a href=\"file:///usr/local/lib/python3.9/dist-packages/kedro/io/data_catalog.py#475\" target=\"_blank\"><span style=\"color: #7f7f7f; text-decoration-color: #7f7f7f\">475</span></a>\n",
       "</pre>\n"
      ],
      "text/plain": [
       "\u001b[2;36m[09/04/23 22:42:22]\u001b[0m\u001b[2;36m \u001b[0m\u001b[34mINFO    \u001b[0m Loading data from \u001b[32m'vocabulary_file'\u001b[0m \u001b[1m(\u001b[0mJSONDataSet\u001b[1m)\u001b[0m\u001b[33m...\u001b[0m               \u001b]8;id=261490;file:///usr/local/lib/python3.9/dist-packages/kedro/io/data_catalog.py\u001b\\\u001b[2mdata_catalog.py\u001b[0m\u001b]8;;\u001b\\\u001b[2m:\u001b[0m\u001b]8;id=778458;file:///usr/local/lib/python3.9/dist-packages/kedro/io/data_catalog.py#475\u001b\\\u001b[2m475\u001b[0m\u001b]8;;\u001b\\\n"
      ]
     },
     "metadata": {},
     "output_type": "display_data"
    },
    {
     "data": {
      "text/html": [
       "<pre style=\"white-space:pre;overflow-x:auto;line-height:normal;font-family:Menlo,'DejaVu Sans Mono',consolas,'Courier New',monospace\"></pre>\n"
      ],
      "text/plain": []
     },
     "metadata": {},
     "output_type": "display_data"
    },
    {
     "data": {
      "text/plain": [
       "\n",
       "\u001b[1m{\u001b[0m\n",
       "    \u001b[32m'з'\u001b[0m: \u001b[1;36m1\u001b[0m,\n",
       "    \u001b[32m'т'\u001b[0m: \u001b[1;36m2\u001b[0m,\n",
       "    \u001b[32m'н'\u001b[0m: \u001b[1;36m3\u001b[0m,\n",
       "    \u001b[32m'п'\u001b[0m: \u001b[1;36m4\u001b[0m,\n",
       "    \u001b[32m'м'\u001b[0m: \u001b[1;36m5\u001b[0m,\n",
       "    \u001b[32m'к'\u001b[0m: \u001b[1;36m6\u001b[0m,\n",
       "    \u001b[32m'ю'\u001b[0m: \u001b[1;36m7\u001b[0m,\n",
       "    \u001b[32m'о'\u001b[0m: \u001b[1;36m8\u001b[0m,\n",
       "    \u001b[32m'у'\u001b[0m: \u001b[1;36m9\u001b[0m,\n",
       "    \u001b[32m'а'\u001b[0m: \u001b[1;36m10\u001b[0m,\n",
       "    \u001b[32m'р'\u001b[0m: \u001b[1;36m11\u001b[0m,\n",
       "    \u001b[32m'е'\u001b[0m: \u001b[1;36m12\u001b[0m,\n",
       "    \u001b[32m'с'\u001b[0m: \u001b[1;36m13\u001b[0m,\n",
       "    \u001b[32m' '\u001b[0m: \u001b[1;36m14\u001b[0m,\n",
       "    \u001b[32m'ц'\u001b[0m: \u001b[1;36m15\u001b[0m,\n",
       "    \u001b[32m'ь'\u001b[0m: \u001b[1;36m16\u001b[0m,\n",
       "    \u001b[32m'л'\u001b[0m: \u001b[1;36m17\u001b[0m,\n",
       "    \u001b[32m'ж'\u001b[0m: \u001b[1;36m18\u001b[0m,\n",
       "    \u001b[32m'б'\u001b[0m: \u001b[1;36m19\u001b[0m,\n",
       "    \u001b[32m'г'\u001b[0m: \u001b[1;36m20\u001b[0m,\n",
       "    \u001b[32m'ф'\u001b[0m: \u001b[1;36m21\u001b[0m,\n",
       "    \u001b[32m'д'\u001b[0m: \u001b[1;36m22\u001b[0m,\n",
       "    \u001b[32m'и'\u001b[0m: \u001b[1;36m23\u001b[0m,\n",
       "    \u001b[32m'ч'\u001b[0m: \u001b[1;36m24\u001b[0m,\n",
       "    \u001b[32m'n'\u001b[0m: \u001b[1;36m25\u001b[0m,\n",
       "    \u001b[32m'h'\u001b[0m: \u001b[1;36m26\u001b[0m,\n",
       "    \u001b[32m'i'\u001b[0m: \u001b[1;36m27\u001b[0m,\n",
       "    \u001b[32m'm'\u001b[0m: \u001b[1;36m28\u001b[0m,\n",
       "    \u001b[32m'a'\u001b[0m: \u001b[1;36m29\u001b[0m,\n",
       "    \u001b[32m'e'\u001b[0m: \u001b[1;36m30\u001b[0m,\n",
       "    \u001b[32m'c'\u001b[0m: \u001b[1;36m31\u001b[0m,\n",
       "    \u001b[32m'u'\u001b[0m: \u001b[1;36m32\u001b[0m,\n",
       "    \u001b[32m'z'\u001b[0m: \u001b[1;36m33\u001b[0m,\n",
       "    \u001b[32m'й'\u001b[0m: \u001b[1;36m34\u001b[0m,\n",
       "    \u001b[32m'2'\u001b[0m: \u001b[1;36m35\u001b[0m,\n",
       "    \u001b[32m'6'\u001b[0m: \u001b[1;36m36\u001b[0m,\n",
       "    \u001b[32m'5'\u001b[0m: \u001b[1;36m37\u001b[0m,\n",
       "    \u001b[32m'0'\u001b[0m: \u001b[1;36m38\u001b[0m,\n",
       "    \u001b[32m'ы'\u001b[0m: \u001b[1;36m39\u001b[0m,\n",
       "    \u001b[32m'4'\u001b[0m: \u001b[1;36m40\u001b[0m,\n",
       "    \u001b[32m'9'\u001b[0m: \u001b[1;36m41\u001b[0m,\n",
       "    \u001b[32m'k'\u001b[0m: \u001b[1;36m42\u001b[0m,\n",
       "    \u001b[32m'b'\u001b[0m: \u001b[1;36m43\u001b[0m,\n",
       "    \u001b[32m'o'\u001b[0m: \u001b[1;36m44\u001b[0m,\n",
       "    \u001b[32m'r'\u001b[0m: \u001b[1;36m45\u001b[0m,\n",
       "    \u001b[32m't'\u001b[0m: \u001b[1;36m46\u001b[0m,\n",
       "    \u001b[32m's'\u001b[0m: \u001b[1;36m47\u001b[0m,\n",
       "    \u001b[32m'g'\u001b[0m: \u001b[1;36m48\u001b[0m,\n",
       "    \u001b[32m'l'\u001b[0m: \u001b[1;36m49\u001b[0m,\n",
       "    \u001b[32m'p'\u001b[0m: \u001b[1;36m50\u001b[0m,\n",
       "    \u001b[32m'1'\u001b[0m: \u001b[1;36m51\u001b[0m,\n",
       "    \u001b[32m'в'\u001b[0m: \u001b[1;36m52\u001b[0m,\n",
       "    \u001b[32m'v'\u001b[0m: \u001b[1;36m53\u001b[0m,\n",
       "    \u001b[32m'd'\u001b[0m: \u001b[1;36m54\u001b[0m,\n",
       "    \u001b[32m'y'\u001b[0m: \u001b[1;36m55\u001b[0m,\n",
       "    \u001b[32m'f'\u001b[0m: \u001b[1;36m56\u001b[0m,\n",
       "    \u001b[32m'x'\u001b[0m: \u001b[1;36m57\u001b[0m,\n",
       "    \u001b[32m'х'\u001b[0m: \u001b[1;36m58\u001b[0m,\n",
       "    \u001b[32m'я'\u001b[0m: \u001b[1;36m59\u001b[0m,\n",
       "    \u001b[32m'ш'\u001b[0m: \u001b[1;36m60\u001b[0m,\n",
       "    \u001b[32m'щ'\u001b[0m: \u001b[1;36m61\u001b[0m,\n",
       "    \u001b[32m'ъ'\u001b[0m: \u001b[1;36m62\u001b[0m,\n",
       "    \u001b[32m'э'\u001b[0m: \u001b[1;36m63\u001b[0m,\n",
       "    \u001b[32m'w'\u001b[0m: \u001b[1;36m64\u001b[0m,\n",
       "    \u001b[32m'3'\u001b[0m: \u001b[1;36m65\u001b[0m,\n",
       "    \u001b[32m'8'\u001b[0m: \u001b[1;36m66\u001b[0m,\n",
       "    \u001b[32m'7'\u001b[0m: \u001b[1;36m67\u001b[0m,\n",
       "    \u001b[32m'№'\u001b[0m: \u001b[1;36m68\u001b[0m,\n",
       "    \u001b[32m'ё'\u001b[0m: \u001b[1;36m69\u001b[0m,\n",
       "    \u001b[32m'»'\u001b[0m: \u001b[1;36m70\u001b[0m,\n",
       "    \u001b[32m'«'\u001b[0m: \u001b[1;36m71\u001b[0m,\n",
       "    \u001b[32m'j'\u001b[0m: \u001b[1;36m72\u001b[0m,\n",
       "    \u001b[32m'é'\u001b[0m: \u001b[1;36m73\u001b[0m,\n",
       "    \u001b[32m'ö'\u001b[0m: \u001b[1;36m74\u001b[0m,\n",
       "    \u001b[32m'’'\u001b[0m: \u001b[1;36m75\u001b[0m,\n",
       "    \u001b[32m'q'\u001b[0m: \u001b[1;36m76\u001b[0m,\n",
       "    \u001b[32m'\\xa0'\u001b[0m: \u001b[1;36m77\u001b[0m,\n",
       "    \u001b[32m'—'\u001b[0m: \u001b[1;36m78\u001b[0m,\n",
       "    \u001b[32m'ä'\u001b[0m: \u001b[1;36m79\u001b[0m,\n",
       "    \u001b[32m'–'\u001b[0m: \u001b[1;36m80\u001b[0m,\n",
       "    \u001b[32m'ñ'\u001b[0m: \u001b[1;36m81\u001b[0m,\n",
       "    \u001b[32m'æ'\u001b[0m: \u001b[1;36m82\u001b[0m,\n",
       "    \u001b[32m'č'\u001b[0m: \u001b[1;36m83\u001b[0m,\n",
       "    \u001b[32m'á'\u001b[0m: \u001b[1;36m84\u001b[0m,\n",
       "    \u001b[32m'·'\u001b[0m: \u001b[1;36m85\u001b[0m,\n",
       "    \u001b[32m'ī'\u001b[0m: \u001b[1;36m86\u001b[0m,\n",
       "    \u001b[32m'â'\u001b[0m: \u001b[1;36m87\u001b[0m,\n",
       "    \u001b[32m'́'\u001b[0m: \u001b[1;36m88\u001b[0m,\n",
       "    \u001b[32m'ō'\u001b[0m: \u001b[1;36m89\u001b[0m,\n",
       "    \u001b[32m'ū'\u001b[0m: \u001b[1;36m90\u001b[0m\n",
       "\u001b[1m}\u001b[0m"
      ]
     },
     "execution_count": 3,
     "metadata": {},
     "output_type": "execute_result"
    }
   ],
   "source": [
    "catalog.load('vocabulary_file')"
   ]
  },
  {
   "cell_type": "code",
   "execution_count": 27,
   "id": "d6cbf953-380a-492a-a675-59c868f9dae6",
   "metadata": {},
   "outputs": [
    {
     "data": {
      "text/html": [
       "<pre style=\"white-space:pre;overflow-x:auto;line-height:normal;font-family:Menlo,'DejaVu Sans Mono',consolas,'Courier New',monospace\"><span style=\"color: #7fbfbf; text-decoration-color: #7fbfbf\">[09/04/23 22:36:30] </span><span style=\"color: #000080; text-decoration-color: #000080\">INFO    </span> Loading data from <span style=\"color: #008000; text-decoration-color: #008000\">'df_normalized_pairs'</span> <span style=\"font-weight: bold\">(</span>SparkDataSet<span style=\"font-weight: bold\">)</span><span style=\"color: #808000; text-decoration-color: #808000\">...</span>          <a href=\"file:///usr/local/lib/python3.9/dist-packages/kedro/io/data_catalog.py\" target=\"_blank\"><span style=\"color: #7f7f7f; text-decoration-color: #7f7f7f\">data_catalog.py</span></a><span style=\"color: #7f7f7f; text-decoration-color: #7f7f7f\">:</span><a href=\"file:///usr/local/lib/python3.9/dist-packages/kedro/io/data_catalog.py#475\" target=\"_blank\"><span style=\"color: #7f7f7f; text-decoration-color: #7f7f7f\">475</span></a>\n",
       "</pre>\n"
      ],
      "text/plain": [
       "\u001b[2;36m[09/04/23 22:36:30]\u001b[0m\u001b[2;36m \u001b[0m\u001b[34mINFO    \u001b[0m Loading data from \u001b[32m'df_normalized_pairs'\u001b[0m \u001b[1m(\u001b[0mSparkDataSet\u001b[1m)\u001b[0m\u001b[33m...\u001b[0m          \u001b]8;id=601953;file:///usr/local/lib/python3.9/dist-packages/kedro/io/data_catalog.py\u001b\\\u001b[2mdata_catalog.py\u001b[0m\u001b]8;;\u001b\\\u001b[2m:\u001b[0m\u001b]8;id=281603;file:///usr/local/lib/python3.9/dist-packages/kedro/io/data_catalog.py#475\u001b\\\u001b[2m475\u001b[0m\u001b]8;;\u001b\\\n"
      ]
     },
     "metadata": {},
     "output_type": "display_data"
    },
    {
     "name": "stdout",
     "output_type": "stream",
     "text": [
      "+------------+----------------+--------------------------------------+-------------------------------------+--------------------+----------+-----------+--------------------+--------------------------------------+-------------------------------------+------------------+-------+\n",
      "|reference_id|           brand|                                  name|                             alt_name|                tags|  latitude|  longitude|     category_fields|                       name_normalized|                  alt_name_normalized|            run_id|country|\n",
      "+------------+----------------+--------------------------------------+-------------------------------------+--------------------+----------+-----------+--------------------+--------------------------------------+-------------------------------------+------------------+-------+\n",
      "| 11151753964|            null|                          アトサヌプリ|                               硫黄山|\"license\"=>\"ODbL\"...|43.6104074|144.4386401|      [natural=peak]|                          アトサヌプリ|                               硫黄山|20230901-test-0007|    jpn|\n",
      "|  6942886745|            null|              興福寺・幼稚園専用駐車場|              花園幼稚園ちゅうりっぷP|\"license\"=>\"ODbL\"...|34.6880123|137.6575601|   [amenity=parking]|              興福寺・幼稚園専用駐車場|              花園幼稚園ちゅうりっぷp|20230901-test-0007|    jpn|\n",
      "|  3728612127|            null|                    堺市立日置荘小学校|                     市立日置荘小学校|\"license\"=>\"ODbL\"...|34.5414353|135.5339841|    [amenity=school]|                    堺市立日置荘小学校|                     市立日置荘小学校|20230901-test-0007|    jpn|\n",
      "|  7156632039|            null|                              成田空港|                    第1旅客ターミナル|\"license\"=>\"ODbL\"...|35.7650987|140.3859428|[railway=station,...|                              成田空港|                    第1旅客ターミナル|20230901-test-0007|    jpn|\n",
      "|  4940112367|            null|                    堺市立北八下小学校|                     市立北八下小学校|\"license\"=>\"ODbL\"...|34.5653545|135.5363215|    [amenity=school]|                    堺市立北八下小学校|                     市立北八下小学校|20230901-test-0007|    jpn|\n",
      "|  1031111702|             NTT|                                   NTT|                     エヌ・ティ・ティ|\"license\"=>\"ODbL\"...|35.4602134|133.0763094|[office=telecommu...|                                   ntt|                     エヌ・ティ・ティ|20230901-test-0007|    jpn|\n",
      "| 48089336456|            null|ポケふた（アローラロコン・ミルタンク）|ポケモンマンホール（アローラロコン...|\"license\"=>\"ODbL\"...|45.1032486|141.7786407|  [man_made=manhole]|ポケふた（アローラロコン・ミルタンク）|ポケモンマンホール（アローラロコン...|20230901-test-0007|    jpn|\n",
      "|  3210889326|            null| 堺市産業振興センター（じばしん南大...|             じばしん南大阪 第2駐車場|\"license\"=>\"ODbL\"...| 34.559105|135.5074298|   [amenity=parking]| 堺市産業振興センター（じばしん南大...|             じばしん南大阪 第2駐車場|20230901-test-0007|    jpn|\n",
      "|  5422348390|            null|                                  中川|          東京都市大 横浜キャンパス前|\"license\"=>\"ODbL\"...|35.5629483|139.5699281|[public_transport...|                                  中川|          東京都市大 横浜キャンパス前|20230901-test-0007|    jpn|\n",
      "|  9017969711|            null|                            こくら電化|                アトム電器 奈良船橋店|\"phone\"=>\"0742-24...|34.6872993|135.8217261|  [shop=electronics]|                            こくら電化|                アトム電器 奈良船橋店|20230901-test-0007|    jpn|\n",
      "|  9987367114|            null|                  ピーエムオフィスエー|                               プラム|\"fax\"=>\"0266-78-6...|36.0096878|138.1396195|    [office=company]|                  ピーエムオフィスエー|                               プラム|20230901-test-0007|    jpn|\n",
      "| 47674964367|            null|                            呉陸橋北側|                             呉陸橋北|\"license\"=>\"ODbL\"...|34.2480161|132.5537451|[highway=traffic_...|                            呉陸橋北側|                             呉陸橋北|20230901-test-0007|    jpn|\n",
      "|  6365373153|         NewDays|                               NewDays|                         ニューデイズ|\"phone\"=>\"0478-50...|35.8945803|140.4940295|  [shop=convenience]|                               newdays|                         ニューデイズ|20230901-test-0007|    jpn|\n",
      "| 12623741854|            null|                        スズキ荘観月園|           スズキ塾観月園研修センター|\"license\"=>\"ODbL\"...|34.6979048| 137.597762|  [amenity=training]|                        スズキ荘観月園|           スズキ塾観月園研修センター|20230901-test-0007|    jpn|\n",
      "| 47427179921|            null|                        GLOCALISM Inc.|               株式会社グローカリズム|\"phone\"=>\"+81-50-...|35.3376812| 139.523953|                  []|                         glocalism inc|               株式会社グローカリズム|20230901-test-0007|    jpn|\n",
      "|  7909821736|            null|                                  関内|                         リスト本社前|\"license\"=>\"ODbL\"...|35.4453811|139.6367414|[public_transport...|                                  関内|                         リスト本社前|20230901-test-0007|    jpn|\n",
      "|  9151153767|            null|                  聖マリアンナ医大入口|         聖マリアンナ医科大グランド前|\"license\"=>\"ODbL\"...|35.6021289|139.5482394|[public_transport...|                  聖マリアンナ医大入口|         聖マリアンナ医科大グランド前|20230901-test-0007|    jpn|\n",
      "|  6291290059|            null|                                  犬掛|                           滝田郵便局|\"license\"=>\"ODbL\"...|35.0757442|139.8998753|[public_transport...|                                  犬掛|                           滝田郵便局|20230901-test-0007|    jpn|\n",
      "|   409264620|オーエスドラッグ|                      オーエスドラッグ|                           OSドラッグ|\"license\"=>\"ODbL\"...|34.7531602|135.4155284|  [amenity=pharmacy]|                      オーエスドラッグ|                           osドラッグ|20230901-test-0007|    jpn|\n",
      "| 11884279869|         NewDays|                               NewDays|                         ニューデイズ|\"license\"=>\"ODbL\"...|35.7053502|139.6502583|  [shop=convenience]|                               newdays|                         ニューデイズ|20230901-test-0007|    jpn|\n",
      "+------------+----------------+--------------------------------------+-------------------------------------+--------------------+----------+-----------+--------------------+--------------------------------------+-------------------------------------+------------------+-------+\n",
      "only showing top 20 rows\n",
      "\n"
     ]
    }
   ],
   "source": [
    "catalog.load('df_normalized_pairs').show()"
   ]
  }
 ],
 "metadata": {
  "kernelspec": {
   "display_name": "Kedro (entity_name_matching_dnn)",
   "language": "python",
   "name": "kedro_entity_name_matching_dnn"
  },
  "language_info": {
   "codemirror_mode": {
    "name": "ipython",
    "version": 3
   },
   "file_extension": ".py",
   "mimetype": "text/x-python",
   "name": "python",
   "nbconvert_exporter": "python",
   "pygments_lexer": "ipython3",
   "version": "3.9.5"
  }
 },
 "nbformat": 4,
 "nbformat_minor": 5
}
