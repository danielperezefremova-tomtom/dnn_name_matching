{
 "cells": [
  {
   "cell_type": "code",
   "execution_count": 1,
   "id": "4a689f22",
   "metadata": {},
   "outputs": [
    {
     "name": "stderr",
     "output_type": "stream",
     "text": [
      "2023-08-13 09:22:49.332159: I tensorflow/core/platform/cpu_feature_guard.cc:193] This TensorFlow binary is optimized with oneAPI Deep Neural Network Library (oneDNN) to use the following CPU instructions in performance-critical operations:  AVX2 AVX512F AVX512_VNNI FMA\n",
      "To enable them in other operations, rebuild TensorFlow with the appropriate compiler flags.\n",
      "2023-08-13 09:22:49.591656: I tensorflow/core/util/port.cc:104] oneDNN custom operations are on. You may see slightly different numerical results due to floating-point round-off errors from different computation orders. To turn them off, set the environment variable `TF_ENABLE_ONEDNN_OPTS=0`.\n"
     ]
    }
   ],
   "source": [
    "import pandas as pd\n",
    "from pyspark.sql.functions import (col, rand, udf, collect_set, collect_list, concat, array_distinct, flatten, when, length)\n",
    "import pyspark.sql.functions as F\n",
    "from pyspark.sql.types import ArrayType, StringType, FloatType\n",
    "from unidecode import unidecode\n",
    "import re\n",
    "from functools import reduce\n",
    "import numpy as np\n",
    "import tensorflow as tf\n",
    "import keras\n",
    "from keras.models import Sequential\n",
    "from keras.layers import Dense, Dropout, GRU, Bidirectional, GlobalMaxPooling1D, Layer, Masking, Lambda, Permute\n",
    "import os\n",
    "import pickle\n",
    "from keras.layers import Bidirectional\n",
    "import matplotlib.pyplot as plt\n",
    "from sklearn.metrics import classification_report\n",
    "import functools\n",
    "from keras.callbacks import ModelCheckpoint"
   ]
  },
  {
   "cell_type": "code",
   "execution_count": 2,
   "id": "40fe30d5",
   "metadata": {},
   "outputs": [],
   "source": [
    "#env: geoNames"
   ]
  },
  {
   "cell_type": "code",
   "execution_count": 3,
   "id": "5d835198",
   "metadata": {},
   "outputs": [
    {
     "data": {
      "text/html": [
       "<pre style=\"white-space:pre;overflow-x:auto;line-height:normal;font-family:Menlo,'DejaVu Sans Mono',consolas,'Courier New',monospace\"><span style=\"color: #7fbfbf; text-decoration-color: #7fbfbf\">[08/13/23 09:23:22] </span><span style=\"color: #000080; text-decoration-color: #000080\">INFO    </span> Loading data from <span style=\"color: #008000; text-decoration-color: #008000\">'geonames_latin_pairs'</span> <span style=\"font-weight: bold\">(</span>SparkDataSet<span style=\"font-weight: bold\">)</span><span style=\"color: #808000; text-decoration-color: #808000\">...</span>         <a href=\"file:///usr/local/lib/python3.9/dist-packages/kedro/io/data_catalog.py\" target=\"_blank\"><span style=\"color: #7f7f7f; text-decoration-color: #7f7f7f\">data_catalog.py</span></a><span style=\"color: #7f7f7f; text-decoration-color: #7f7f7f\">:</span><a href=\"file:///usr/local/lib/python3.9/dist-packages/kedro/io/data_catalog.py#475\" target=\"_blank\"><span style=\"color: #7f7f7f; text-decoration-color: #7f7f7f\">475</span></a>\n",
       "</pre>\n"
      ],
      "text/plain": [
       "\u001b[2;36m[08/13/23 09:23:22]\u001b[0m\u001b[2;36m \u001b[0m\u001b[34mINFO    \u001b[0m Loading data from \u001b[32m'geonames_latin_pairs'\u001b[0m \u001b[1m(\u001b[0mSparkDataSet\u001b[1m)\u001b[0m\u001b[33m...\u001b[0m         \u001b]8;id=987739;file:///usr/local/lib/python3.9/dist-packages/kedro/io/data_catalog.py\u001b\\\u001b[2mdata_catalog.py\u001b[0m\u001b]8;;\u001b\\\u001b[2m:\u001b[0m\u001b]8;id=233923;file:///usr/local/lib/python3.9/dist-packages/kedro/io/data_catalog.py#475\u001b\\\u001b[2m475\u001b[0m\u001b]8;;\u001b\\\n"
      ]
     },
     "metadata": {},
     "output_type": "display_data"
    },
    {
     "name": "stderr",
     "output_type": "stream",
     "text": [
      "                                                                                \r"
     ]
    }
   ],
   "source": [
    "geonames_pairs = catalog.load('geonames_latin_pairs')\n",
    "geonames_pairs = geonames_pairs.withColumn('target', when(col('match') == 'true', 1).otherwise(0).cast(FloatType()))"
   ]
  },
  {
   "cell_type": "code",
   "execution_count": 4,
   "id": "c9f413a7-818a-45c7-a1de-55aeb1b76dea",
   "metadata": {},
   "outputs": [],
   "source": [
    "geonames_pairs_es = geonames_pairs.filter(col('language_1').isin(['ES', 'MX']))"
   ]
  },
  {
   "cell_type": "markdown",
   "id": "0c853998-de01-4ee0-b2dd-88486dd74781",
   "metadata": {},
   "source": [
    "# 2. Function to normalize names"
   ]
  },
  {
   "cell_type": "markdown",
   "id": "4151d55b-eea0-4f85-9eb3-546b6fe96cd8",
   "metadata": {},
   "source": [
    "Requirements:\n",
    "\n",
    "* Transform to unicode characters (utf-8)\n",
    "* remove whitespaces"
   ]
  },
  {
   "cell_type": "code",
   "execution_count": 5,
   "id": "5a80a74d-63b6-4c7c-9aa5-952c4edca331",
   "metadata": {},
   "outputs": [],
   "source": [
    "def normalize_characters(text: str) -> str:\n",
    "    \n",
    "    if text is None:\n",
    "        return ''\n",
    "\n",
    "    strange_char_space = r\"!#$%&()*+,./:;<=>?@[\\]^_{|}~ºª®-\"\n",
    "    char_2_remove = \"\\\"'^`\"\n",
    "    space_mask = \"                                \"\n",
    "    punctuation_table = str.maketrans(strange_char_space, space_mask,\n",
    "                                        char_2_remove)\n",
    "    text = text.lower()\n",
    "    text = text.strip()\n",
    "    text = unidecode(text)\n",
    "    text = text.translate(punctuation_table)\n",
    "    text = re.sub(r' +', ' ', text)\n",
    "    text = text.strip()\n",
    "    text = text.lower()\n",
    "\n",
    "    return text\n",
    "\n",
    "udf_normalize_chars = udf(normalize_characters)"
   ]
  },
  {
   "cell_type": "code",
   "execution_count": 6,
   "id": "6a48c848-5dbf-4a6c-afeb-f9593c95d5d7",
   "metadata": {},
   "outputs": [],
   "source": [
    "geonames_normalized = geonames_pairs_es.withColumn('name_1_normalized', udf_normalize_chars(col('name_1'))) \\\n",
    "                .withColumn('name_2_normalized', udf_normalize_chars(col('name_2')))"
   ]
  },
  {
   "cell_type": "markdown",
   "id": "843e9da3-86ac-4b4f-9e41-c01d83bc8469",
   "metadata": {},
   "source": [
    "# 3. Function to generate vocabulary"
   ]
  },
  {
   "cell_type": "code",
   "execution_count": 7,
   "id": "4879fcf5-a024-4dad-8100-a505fe3c55a9",
   "metadata": {},
   "outputs": [],
   "source": [
    "def get_unique_characters(string: str) -> list:\n",
    "\n",
    "    unique_characters = list(set(string))\n",
    "    return unique_characters\n",
    "\n",
    "udf_get_unique_characters = udf(get_unique_characters, ArrayType(StringType()))\n",
    "\n",
    "\n",
    "def compute_max_word_len(string: str) -> int:\n",
    "    return max([len(word) for word in string.split(' ')])\n",
    "\n",
    "udf_compute_max_word_len = udf(compute_max_word_len)\n",
    "\n",
    "def compute_token_count(string: str) -> int:\n",
    "    return len([word for word in string.split(' ')])\n",
    "\n",
    "udf_compute_token_count = udf(compute_token_count)"
   ]
  },
  {
   "cell_type": "code",
   "execution_count": 8,
   "id": "8579c47b-2115-4acf-b6dd-c08257bf8f23",
   "metadata": {},
   "outputs": [],
   "source": [
    "geonames_characters = geonames_normalized.withColumn('unique_characters_1', udf_get_unique_characters(col('name_1_normalized'))) \\\n",
    "                                        .withColumn('unique_characters_2', udf_get_unique_characters(col('name_2_normalized'))) \\\n",
    "                                        .withColumn('unique_characters', array_distinct(concat(col('unique_characters_1'), col('unique_characters_2')))) \\\n",
    "                                        .withColumn('max_word_len_1', udf_compute_max_word_len(col('name_1_normalized')).cast(FloatType())) \\\n",
    "                                        .withColumn('max_word_len_2', udf_compute_max_word_len(col('name_2_normalized')).cast(FloatType())) \\\n",
    "                                        .withColumn('max_token_num_1', udf_compute_token_count(col('name_1_normalized')).cast(FloatType())) \\\n",
    "                                        .withColumn('max_token_num_2', udf_compute_token_count(col('name_2_normalized')).cast(FloatType())) \\\n",
    "                                        .withColumn('max_len_1', length(col('name_1_normalized')).cast(FloatType())) \\\n",
    "                                        .withColumn('max_len_2', length(col('name_2_normalized')).cast(FloatType()))"
   ]
  },
  {
   "cell_type": "code",
   "execution_count": 9,
   "id": "ab8f18d7-4089-42dc-a886-f50759d78518",
   "metadata": {},
   "outputs": [],
   "source": [
    "geonames_char_list = geonames_characters.groupBy().agg(\n",
    "    array_distinct(flatten(collect_set(col('unique_characters')))).alias('char_list'),\n",
    "    F.max(col('max_word_len_1')).alias('max_len_1'),\n",
    "    F.max(col('max_word_len_2')).alias('max_len_2'),\n",
    "    F.max(col('max_token_num_2')).alias('max_num_2'),\n",
    "    F.max(col('max_token_num_1')).alias('max_num_1'),\n",
    "    F.max(col('max_len_1')).alias('max_len_1'),\n",
    "    F.max(col('max_len_2')).alias('max_len_1')\n",
    ")"
   ]
  },
  {
   "cell_type": "code",
   "execution_count": 12,
   "id": "0c646bef-36bb-4044-a39e-2451a4643812",
   "metadata": {},
   "outputs": [
    {
     "name": "stderr",
     "output_type": "stream",
     "text": [
      "[Stage 4:===>                                                     (1 + 15) / 16]\r"
     ]
    },
    {
     "name": "stdout",
     "output_type": "stream",
     "text": [
      "+--------------------+---------+---------+---------+---------+---------+---------+\n",
      "|           char_list|max_len_1|max_len_2|max_num_2|max_num_1|max_len_1|max_len_1|\n",
      "+--------------------+---------+---------+---------+---------+---------+---------+\n",
      "|[n, h, o, r, a, d...|     27.0|     27.0|     18.0|     14.0|     96.0|    111.0|\n",
      "+--------------------+---------+---------+---------+---------+---------+---------+\n",
      "\n"
     ]
    },
    {
     "name": "stderr",
     "output_type": "stream",
     "text": [
      "                                                                                \r"
     ]
    }
   ],
   "source": [
    "geonames_char_list.show()"
   ]
  },
  {
   "cell_type": "code",
   "execution_count": 10,
   "id": "2c7c39dd-51f2-4c32-83e8-375848c3ae6f",
   "metadata": {},
   "outputs": [
    {
     "name": "stderr",
     "output_type": "stream",
     "text": [
      "                                                                                \r"
     ]
    }
   ],
   "source": [
    "characters_list = geonames_char_list.rdd.map(lambda x: x.char_list).collect()[0]\n",
    "sorted_char_list = sorted(characters_list)"
   ]
  },
  {
   "cell_type": "markdown",
   "id": "b87c9a47-d5dd-419d-a0a3-3e3356a3b8d7",
   "metadata": {},
   "source": [
    "# 4. One Hot encoder"
   ]
  },
  {
   "cell_type": "code",
   "execution_count": 100,
   "id": "6edd9435-5664-4ccf-a1ab-9209d8576c46",
   "metadata": {},
   "outputs": [],
   "source": [
    "char_to_index = {char: index+1 for index, char in enumerate(sorted_char_list)}\n",
    "index_to_char = {index: char for char, index in char_to_index.items()}\n",
    "MAX_WORD_LENGTH = 16\n",
    "MAX_TOKEN_NUMBER = 8\n",
    "MAX_NAME_LEN = 100"
   ]
  },
  {
   "cell_type": "code",
   "execution_count": 101,
   "id": "a2cc8fc2-1c79-4b8d-8528-c9ffdeed5eef",
   "metadata": {},
   "outputs": [
    {
     "data": {
      "text/html": [
       "<pre style=\"white-space:pre;overflow-x:auto;line-height:normal;font-family:Menlo,'DejaVu Sans Mono',consolas,'Courier New',monospace\"></pre>\n"
      ],
      "text/plain": []
     },
     "metadata": {},
     "output_type": "display_data"
    },
    {
     "data": {
      "text/plain": [
       "\n",
       "\u001b[1m{\u001b[0m\n",
       "    \u001b[32m' '\u001b[0m: \u001b[1;36m1\u001b[0m,\n",
       "    \u001b[32m'0'\u001b[0m: \u001b[1;36m2\u001b[0m,\n",
       "    \u001b[32m'1'\u001b[0m: \u001b[1;36m3\u001b[0m,\n",
       "    \u001b[32m'2'\u001b[0m: \u001b[1;36m4\u001b[0m,\n",
       "    \u001b[32m'3'\u001b[0m: \u001b[1;36m5\u001b[0m,\n",
       "    \u001b[32m'4'\u001b[0m: \u001b[1;36m6\u001b[0m,\n",
       "    \u001b[32m'5'\u001b[0m: \u001b[1;36m7\u001b[0m,\n",
       "    \u001b[32m'6'\u001b[0m: \u001b[1;36m8\u001b[0m,\n",
       "    \u001b[32m'7'\u001b[0m: \u001b[1;36m9\u001b[0m,\n",
       "    \u001b[32m'8'\u001b[0m: \u001b[1;36m10\u001b[0m,\n",
       "    \u001b[32m'9'\u001b[0m: \u001b[1;36m11\u001b[0m,\n",
       "    \u001b[32m'a'\u001b[0m: \u001b[1;36m12\u001b[0m,\n",
       "    \u001b[32m'b'\u001b[0m: \u001b[1;36m13\u001b[0m,\n",
       "    \u001b[32m'c'\u001b[0m: \u001b[1;36m14\u001b[0m,\n",
       "    \u001b[32m'd'\u001b[0m: \u001b[1;36m15\u001b[0m,\n",
       "    \u001b[32m'e'\u001b[0m: \u001b[1;36m16\u001b[0m,\n",
       "    \u001b[32m'f'\u001b[0m: \u001b[1;36m17\u001b[0m,\n",
       "    \u001b[32m'g'\u001b[0m: \u001b[1;36m18\u001b[0m,\n",
       "    \u001b[32m'h'\u001b[0m: \u001b[1;36m19\u001b[0m,\n",
       "    \u001b[32m'i'\u001b[0m: \u001b[1;36m20\u001b[0m,\n",
       "    \u001b[32m'j'\u001b[0m: \u001b[1;36m21\u001b[0m,\n",
       "    \u001b[32m'k'\u001b[0m: \u001b[1;36m22\u001b[0m,\n",
       "    \u001b[32m'l'\u001b[0m: \u001b[1;36m23\u001b[0m,\n",
       "    \u001b[32m'm'\u001b[0m: \u001b[1;36m24\u001b[0m,\n",
       "    \u001b[32m'n'\u001b[0m: \u001b[1;36m25\u001b[0m,\n",
       "    \u001b[32m'o'\u001b[0m: \u001b[1;36m26\u001b[0m,\n",
       "    \u001b[32m'p'\u001b[0m: \u001b[1;36m27\u001b[0m,\n",
       "    \u001b[32m'q'\u001b[0m: \u001b[1;36m28\u001b[0m,\n",
       "    \u001b[32m'r'\u001b[0m: \u001b[1;36m29\u001b[0m,\n",
       "    \u001b[32m's'\u001b[0m: \u001b[1;36m30\u001b[0m,\n",
       "    \u001b[32m't'\u001b[0m: \u001b[1;36m31\u001b[0m,\n",
       "    \u001b[32m'u'\u001b[0m: \u001b[1;36m32\u001b[0m,\n",
       "    \u001b[32m'v'\u001b[0m: \u001b[1;36m33\u001b[0m,\n",
       "    \u001b[32m'w'\u001b[0m: \u001b[1;36m34\u001b[0m,\n",
       "    \u001b[32m'x'\u001b[0m: \u001b[1;36m35\u001b[0m,\n",
       "    \u001b[32m'y'\u001b[0m: \u001b[1;36m36\u001b[0m,\n",
       "    \u001b[32m'z'\u001b[0m: \u001b[1;36m37\u001b[0m\n",
       "\u001b[1m}\u001b[0m"
      ]
     },
     "execution_count": 101,
     "metadata": {},
     "output_type": "execute_result"
    }
   ],
   "source": [
    "char_to_index"
   ]
  },
  {
   "cell_type": "code",
   "execution_count": 102,
   "id": "4be74622-e88c-44b9-b0b5-95e09b52251c",
   "metadata": {},
   "outputs": [],
   "source": [
    "def one_hot_encoder(string: str, char_to_index_dict: dict) -> np.array:\n",
    "\n",
    "    vocabulary_size = len(char_to_index_dict.keys())\n",
    "    vector = np.zeros(vocabulary_size)\n",
    "    for char in string:\n",
    "        vector[char_to_index[char]-1] = 1 \n",
    "    return vector\n",
    "\n",
    "def encode_name_list(iterable: iter, char_to_index_dict: dict) -> np.array:\n",
    "\n",
    "    return np.array([one_hot_encoder(string, char_to_index_dict) for string in iterable])\n",
    "\n",
    "def check_chars_OOV(string: str, char_to_index_dict: dict) -> bool:\n",
    "\n",
    "    vocabulary = char_to_index_dict.keys()\n",
    "    return all([char in vocabulary for char in string])\n",
    "\n",
    "def name_matrix_encoder(string: iter, char_to_index_dict: dict, max_word_length:int, max_token_number:int) -> np.array :\n",
    "\n",
    "    representation_matrix = np.zeros(shape=(max_token_number, max_word_length))\n",
    "    for token_ind, token in enumerate(string.split(' ')):\n",
    "        for char_ind, char in enumerate(token):\n",
    "            try:\n",
    "                representation_matrix[token_ind][char_ind] = char_to_index[char]\n",
    "            except IndexError:\n",
    "                continue\n",
    "    return representation_matrix\n",
    "\n",
    "def sparse_encoder(string: str, char_to_index_dict: dict, max_len: int) -> np.array:\n",
    "\n",
    "    vector = np.zeros(max_len)\n",
    "    for ind, char in enumerate(string):\n",
    "        if ind>=max_len:\n",
    "            break\n",
    "        vector[ind] = char_to_index[char]\n",
    "    return vector\n",
    "\n",
    "def encode_sparsed_list(iterable: iter, char_to_index_dict: dict, max_len: int) -> np.array:\n",
    "    \n",
    "    return np.array([sparse_encoder(string, char_to_index_dict, max_len) for string in iterable])"
   ]
  },
  {
   "cell_type": "code",
   "execution_count": 17,
   "id": "a23c63b4-4440-4296-a43c-a6770da60f4e",
   "metadata": {},
   "outputs": [
    {
     "name": "stderr",
     "output_type": "stream",
     "text": [
      "                                                                                \r"
     ]
    }
   ],
   "source": [
    "name_pairs = geonames_characters.select('name_1_normalized', 'name_2_normalized').toPandas().values"
   ]
  },
  {
   "cell_type": "markdown",
   "id": "b89dccf8-9450-4712-9af0-50cdb41f0e26",
   "metadata": {},
   "source": [
    "# 5.1. Create a model class for char2vec embedding (Sparse encoding - Siamese Bigru - Dense)"
   ]
  },
  {
   "cell_type": "code",
   "execution_count": 92,
   "id": "03ef1167-5181-44e8-9b95-30ac5a746557",
   "metadata": {},
   "outputs": [],
   "source": [
    "class poiNames_C2V:\n",
    "    \n",
    "    def __init__(self, embedding_size:int, char_to_index:dict):\n",
    "\n",
    "        self.char_to_index = char_to_index\n",
    "        self.index_to_char = {char_to_index[char]: char for char in char_to_index}\n",
    "        self.max_len = MAX_NAME_LEN\n",
    "        self.hidden_units = embedding_size\n",
    "        \n",
    "        gru_input = tf.keras.layers.Input(shape=(self.max_len, 1,), name='gru_input')\n",
    "        x = tf.keras.layers.Masking(mask_value=0)(gru_input)\n",
    "        x = Bidirectional(tf.keras.layers.GRU(self.hidden_units, return_sequences=True, name='gru_1'))(x)\n",
    "        x = Bidirectional(tf.keras.layers.GRU(self.hidden_units, name='gru_2'))(x)\n",
    "        self.embedding_model = tf.keras.models.Model(inputs=[gru_input], outputs=x)\n",
    "\n",
    "        left_branch_input = tf.keras.layers.Input(shape=(self.max_len, 1), name='left_branch_input')\n",
    "        right_branch_input = tf.keras.layers.Input(shape=(self.max_len, 1),name='right_branch_input')\n",
    "\n",
    "        left_branch_embedding = self.embedding_model(left_branch_input)\n",
    "        right_branch_embedding = self.embedding_model(right_branch_input)\n",
    "\n",
    "        concat_layer = tf.keras.layers.Concatenate(axis=1)([left_branch_embedding, right_branch_embedding])\n",
    "        product_layer = tf.keras.layers.Multiply()([left_branch_embedding, right_branch_embedding])\n",
    "        difference_layer = tf.keras.layers.Subtract()([left_branch_embedding, right_branch_embedding])\n",
    "        representation_layer = tf.keras.layers.Concatenate(axis=1)([\n",
    "                                                                    concat_layer, product_layer, difference_layer, \n",
    "                                                                    ])\n",
    "\n",
    "        \n",
    "        x = tf.keras.layers.Dropout(0.3)(representation_layer)\n",
    "        x = tf.keras.layers.Dense(128, activation='relu')(x)\n",
    "        x = tf.keras.layers.Dropout(0.3)(x)\n",
    "        x = tf.keras.layers.Dense(64, activation='relu')(x)\n",
    "        x = tf.keras.layers.Dropout(0.1)(x)\n",
    "        model_output = tf.keras.layers.Dense(1, activation='sigmoid')(x)\n",
    "                \n",
    "        # x = tf.keras.layers.Dot(axes=1, normalize=True)([left_branch_embedding, right_branch_embedding]) # cosine similarity\n",
    "        # model_output = tf.keras.layers.Dense(1, activation='sigmoid')(x)\n",
    "        \n",
    "        self.model = tf.keras.models.Model(inputs=[left_branch_input, right_branch_input], outputs=model_output)\n",
    "        self.model.compile(loss='binary_crossentropy', optimizer='adam', metrics=['accuracy',\n",
    "                                                              tf.keras.metrics.Precision(),\n",
    "                                                              tf.keras.metrics.Recall()])\n",
    "        \n",
    "    def fit(\n",
    "        self, name_pairs, target, max_epochs:int, patience:int, validation_split:float, batch_size:int, callbacks: iter):\n",
    "\n",
    "        print(f'Encoding names... ({2*len(name_pairs)})')\n",
    "\n",
    "        X1 = encode_sparsed_list(name_pairs[:, 0],char_to_index_dict=self.char_to_index, max_len=MAX_NAME_LEN)\n",
    "        X2 = encode_sparsed_list(name_pairs[:, 1], char_to_index_dict=self.char_to_index, max_len=MAX_NAME_LEN)\n",
    "        \n",
    "        X1 = np.expand_dims(X1, axis=-1)\n",
    "        X2 = np.expand_dims(X2, axis=-1)\n",
    "        \n",
    "        X1_pad = tf.keras.preprocessing.sequence.pad_sequences(X1)\n",
    "        X2_pad = tf.keras.preprocessing.sequence.pad_sequences(X2)\n",
    "        \n",
    "        self.model.fit((X1_pad, X2_pad), target,verbose=1,\n",
    "                    batch_size=batch_size, epochs=max_epochs,\n",
    "                    validation_split=validation_split,\n",
    "                    callbacks=[tf.keras.callbacks.EarlyStopping(monitor='val_loss', patience=patience)]\n",
    "                            + callbacks)\n",
    "\n",
    "\n",
    "    def save_model(self, path_to_model):\n",
    "        '''\n",
    "        Saves trained model to directory.\n",
    "    \n",
    "        :param path_to_model: str, path to save model.\n",
    "        '''\n",
    "    \n",
    "        if not os.path.exists(path_to_model):\n",
    "            os.makedirs(path_to_model)\n",
    "        \n",
    "        self.embedding_model.save_weights(path_to_model + '/weights.h5')\n",
    "    \n",
    "        with open(path_to_model + '/model.pkl', 'wb') as f:\n",
    "            pickle.dump([self.hidden_units, self.char_to_index], f, protocol=2)\n",
    "\n",
    "\n",
    "    def load_model(self, path):\n",
    "        '''\n",
    "        Loads trained model.\n",
    "    \n",
    "        :param path: loads model from `path`.\n",
    "    \n",
    "        :return c2v_model: Chars2Vec object, trained model.\n",
    "        '''\n",
    "        path_to_model = path\n",
    "    \n",
    "        with open(path_to_model + '/model.pkl', 'rb') as f:\n",
    "            structure = pickle.load(f)\n",
    "            embedding_size, char_to_index = structure[0], structure[1]\n",
    "    \n",
    "        model = poiNames_C2V(embedding_size=embedding_size, char_to_index=char_to_index)\n",
    "        model.embedding_model.load_weights(path_to_model + '/weights.h5')\n",
    "        model.embedding_model.compile(optimizer='adam', loss='mae')\n",
    "    \n",
    "        return model\n",
    "\n",
    "\n",
    "    def vectorize(self, iterable: iter) -> np.array:\n",
    "        \n",
    "        X = encode_sparsed_list(iterable,char_to_index_dict=self.char_to_index)\n",
    "        X = np.expand_dims(X, axis=-1)\n",
    "        X_pad = tf.keras.preprocessing.sequence.pad_sequences(X)\n",
    "\n",
    "        return X_pad, self.embedding_model(X_pad)\n",
    "        "
   ]
  },
  {
   "cell_type": "markdown",
   "id": "4c665c4c-96ae-41fb-a6b5-47ab07a472d5",
   "metadata": {},
   "source": [
    "## Data Preparation"
   ]
  },
  {
   "cell_type": "code",
   "execution_count": 103,
   "id": "218631cf-b5e2-4099-8451-6a809002d04f",
   "metadata": {},
   "outputs": [
    {
     "name": "stderr",
     "output_type": "stream",
     "text": [
      "                                                                                \r"
     ]
    }
   ],
   "source": [
    "name_pairs = geonames_characters.select('name_1_normalized', 'name_2_normalized').toPandas().values"
   ]
  },
  {
   "cell_type": "code",
   "execution_count": 104,
   "id": "a8d0f43e-9ed2-4c23-afc8-58a30bd7517e",
   "metadata": {},
   "outputs": [
    {
     "name": "stderr",
     "output_type": "stream",
     "text": [
      "                                                                                \r"
     ]
    }
   ],
   "source": [
    "target = geonames_characters.select(col('target')).toPandas().astype(float).values"
   ]
  },
  {
   "cell_type": "code",
   "execution_count": 105,
   "id": "b4ef5de4-4b8f-4ad5-acf9-ba1b4a01ca90",
   "metadata": {},
   "outputs": [
    {
     "data": {
      "text/html": [
       "<pre style=\"white-space:pre;overflow-x:auto;line-height:normal;font-family:Menlo,'DejaVu Sans Mono',consolas,'Courier New',monospace\"></pre>\n"
      ],
      "text/plain": []
     },
     "metadata": {},
     "output_type": "display_data"
    },
    {
     "data": {
      "text/plain": [
       "\u001b[1m(\u001b[0m\u001b[1;36m49178\u001b[0m, \u001b[1;36m5465\u001b[0m\u001b[1m)\u001b[0m"
      ]
     },
     "execution_count": 105,
     "metadata": {},
     "output_type": "execute_result"
    }
   ],
   "source": [
    "from sklearn.model_selection import train_test_split\n",
    "X_train, X_test, y_train, y_test = train_test_split(name_pairs, target, test_size=0.1, random_state=0)\n",
    "\n",
    "len(X_train), len(X_test)"
   ]
  },
  {
   "cell_type": "code",
   "execution_count": 106,
   "id": "db92441d-9144-4ffa-b704-aaa9698c00cb",
   "metadata": {},
   "outputs": [],
   "source": [
    "poi_c2v = poiNames_C2V(100, char_to_index)"
   ]
  },
  {
   "cell_type": "code",
   "execution_count": 107,
   "id": "034097da-7624-4c3d-baad-2f49e46872b5",
   "metadata": {},
   "outputs": [
    {
     "name": "stdout",
     "output_type": "stream",
     "text": [
      "Encoding names... (98356)\n",
      "Epoch 1/10000\n",
      "308/308 [==============================] - 173s 510ms/step - loss: 0.6634 - accuracy: 0.6012 - precision_8: 0.5939 - recall_8: 0.6394 - val_loss: 0.5926 - val_accuracy: 0.7066 - val_precision_8: 0.7098 - val_recall_8: 0.6783\n",
      "Epoch 2/10000\n",
      "308/308 [==============================] - 156s 506ms/step - loss: 0.5877 - accuracy: 0.7177 - precision_8: 0.7303 - recall_8: 0.6901 - val_loss: 0.5542 - val_accuracy: 0.7386 - val_precision_8: 0.7773 - val_recall_8: 0.6536\n",
      "Epoch 3/10000\n",
      "308/308 [==============================] - 157s 509ms/step - loss: 0.5545 - accuracy: 0.7420 - precision_8: 0.7863 - recall_8: 0.6644 - val_loss: 0.5475 - val_accuracy: 0.7404 - val_precision_8: 0.7787 - val_recall_8: 0.6567\n",
      "Epoch 4/10000\n",
      "308/308 [==============================] - 158s 514ms/step - loss: 0.5392 - accuracy: 0.7477 - precision_8: 0.8016 - recall_8: 0.6581 - val_loss: 0.5291 - val_accuracy: 0.7513 - val_precision_8: 0.8061 - val_recall_8: 0.6482\n",
      "Epoch 5/10000\n",
      "308/308 [==============================] - 158s 512ms/step - loss: 0.5282 - accuracy: 0.7505 - precision_8: 0.8053 - recall_8: 0.6605 - val_loss: 0.5225 - val_accuracy: 0.7518 - val_precision_8: 0.8070 - val_recall_8: 0.6484\n",
      "Epoch 6/10000\n",
      "308/308 [==============================] - 159s 516ms/step - loss: 0.5145 - accuracy: 0.7562 - precision_8: 0.8106 - recall_8: 0.6686 - val_loss: 0.5142 - val_accuracy: 0.7565 - val_precision_8: 0.8062 - val_recall_8: 0.6621\n",
      "Epoch 7/10000\n",
      "308/308 [==============================] - 158s 513ms/step - loss: 0.5047 - accuracy: 0.7603 - precision_8: 0.8100 - recall_8: 0.6799 - val_loss: 0.5041 - val_accuracy: 0.7601 - val_precision_8: 0.7907 - val_recall_8: 0.6939\n",
      "Epoch 8/10000\n",
      "308/308 [==============================] - 157s 508ms/step - loss: 0.4944 - accuracy: 0.7678 - precision_8: 0.8115 - recall_8: 0.6973 - val_loss: 0.4953 - val_accuracy: 0.7621 - val_precision_8: 0.8085 - val_recall_8: 0.6739\n",
      "Epoch 9/10000\n",
      "308/308 [==============================] - 158s 514ms/step - loss: 0.4840 - accuracy: 0.7717 - precision_8: 0.8157 - recall_8: 0.7017 - val_loss: 0.4974 - val_accuracy: 0.7636 - val_precision_8: 0.7737 - val_recall_8: 0.7314\n",
      "Epoch 10/10000\n",
      "308/308 [==============================] - 160s 520ms/step - loss: 0.4736 - accuracy: 0.7740 - precision_8: 0.8063 - recall_8: 0.7210 - val_loss: 0.4884 - val_accuracy: 0.7678 - val_precision_8: 0.8041 - val_recall_8: 0.6953\n",
      "Epoch 11/10000\n",
      "308/308 [==============================] - 159s 516ms/step - loss: 0.4665 - accuracy: 0.7815 - precision_8: 0.8129 - recall_8: 0.7311 - val_loss: 0.4904 - val_accuracy: 0.7656 - val_precision_8: 0.7764 - val_recall_8: 0.7323\n",
      "Epoch 12/10000\n",
      "308/308 [==============================] - 159s 515ms/step - loss: 0.4560 - accuracy: 0.7846 - precision_8: 0.8109 - recall_8: 0.7423 - val_loss: 0.4829 - val_accuracy: 0.7658 - val_precision_8: 0.7768 - val_recall_8: 0.7323\n",
      "Epoch 13/10000\n",
      "308/308 [==============================] - 158s 512ms/step - loss: 0.4468 - accuracy: 0.7923 - precision_8: 0.8127 - recall_8: 0.7595 - val_loss: 0.4817 - val_accuracy: 0.7687 - val_precision_8: 0.7848 - val_recall_8: 0.7273\n",
      "Epoch 14/10000\n",
      "308/308 [==============================] - 157s 508ms/step - loss: 0.4380 - accuracy: 0.7961 - precision_8: 0.8149 - recall_8: 0.7661 - val_loss: 0.4802 - val_accuracy: 0.7741 - val_precision_8: 0.7941 - val_recall_8: 0.7275\n",
      "Epoch 15/10000\n",
      "308/308 [==============================] - 156s 508ms/step - loss: 0.4316 - accuracy: 0.7990 - precision_8: 0.8158 - recall_8: 0.7722 - val_loss: 0.4847 - val_accuracy: 0.7660 - val_precision_8: 0.7687 - val_recall_8: 0.7470\n",
      "Epoch 16/10000\n",
      "308/308 [==============================] - 157s 510ms/step - loss: 0.4218 - accuracy: 0.8041 - precision_8: 0.8182 - recall_8: 0.7817 - val_loss: 0.4799 - val_accuracy: 0.7677 - val_precision_8: 0.7760 - val_recall_8: 0.7391\n",
      "Epoch 17/10000\n",
      "308/308 [==============================] - 156s 507ms/step - loss: 0.4132 - accuracy: 0.8099 - precision_8: 0.8215 - recall_8: 0.7918 - val_loss: 0.4795 - val_accuracy: 0.7680 - val_precision_8: 0.7715 - val_recall_8: 0.7478\n",
      "Epoch 18/10000\n",
      "308/308 [==============================] - 156s 506ms/step - loss: 0.4034 - accuracy: 0.8154 - precision_8: 0.8222 - recall_8: 0.8046 - val_loss: 0.4851 - val_accuracy: 0.7692 - val_precision_8: 0.7672 - val_recall_8: 0.7592\n",
      "Epoch 19/10000\n",
      "308/308 [==============================] - 157s 509ms/step - loss: 0.3949 - accuracy: 0.8199 - precision_8: 0.8270 - recall_8: 0.8091 - val_loss: 0.4838 - val_accuracy: 0.7706 - val_precision_8: 0.7669 - val_recall_8: 0.7640\n",
      "Epoch 20/10000\n",
      "308/308 [==============================] - 157s 509ms/step - loss: 0.3843 - accuracy: 0.8227 - precision_8: 0.8243 - recall_8: 0.8202 - val_loss: 0.4923 - val_accuracy: 0.7676 - val_precision_8: 0.7560 - val_recall_8: 0.7760\n",
      "Epoch 21/10000\n",
      "308/308 [==============================] - 158s 512ms/step - loss: 0.3779 - accuracy: 0.8268 - precision_8: 0.8284 - recall_8: 0.8241 - val_loss: 0.5007 - val_accuracy: 0.7705 - val_precision_8: 0.7639 - val_recall_8: 0.7694\n",
      "Epoch 22/10000\n",
      "308/308 [==============================] - 157s 511ms/step - loss: 0.3683 - accuracy: 0.8331 - precision_8: 0.8316 - recall_8: 0.8351 - val_loss: 0.4934 - val_accuracy: 0.7677 - val_precision_8: 0.7584 - val_recall_8: 0.7715\n"
     ]
    }
   ],
   "source": [
    "from keras.callbacks import History\n",
    "history = History()\n",
    "\n",
    "poi_c2v.fit(\n",
    "    name_pairs=X_train,\n",
    "    target=y_train,\n",
    "    validation_split=0.2,\n",
    "    max_epochs=10000,\n",
    "    patience=5,\n",
    "    batch_size=128,\n",
    "    callbacks=[history])"
   ]
  },
  {
   "cell_type": "code",
   "execution_count": 108,
   "id": "f13107f1-68ab-492c-84f2-e48c426525bc",
   "metadata": {},
   "outputs": [
    {
     "data": {
      "text/html": [
       "<pre style=\"white-space:pre;overflow-x:auto;line-height:normal;font-family:Menlo,'DejaVu Sans Mono',consolas,'Courier New',monospace\"></pre>\n"
      ],
      "text/plain": []
     },
     "metadata": {},
     "output_type": "display_data"
    },
    {
     "data": {
      "text/plain": [
       "\u001b[1m<\u001b[0m\u001b[1;95mmatplotlib.legend.Legend\u001b[0m\u001b[39m object at \u001b[0m\u001b[1;36m0x7fb210052640\u001b[0m\u001b[1m>\u001b[0m"
      ]
     },
     "execution_count": 108,
     "metadata": {},
     "output_type": "execute_result"
    },
    {
     "data": {
      "text/html": [
       "<pre style=\"white-space:pre;overflow-x:auto;line-height:normal;font-family:Menlo,'DejaVu Sans Mono',consolas,'Courier New',monospace\"></pre>\n"
      ],
      "text/plain": []
     },
     "metadata": {},
     "output_type": "display_data"
    },
    {
     "data": {
      "image/png": "[encoded data removed]",
      "text/plain": [
       "\u001b[1m<\u001b[0m\u001b[1;95mFigure\u001b[0m\u001b[39m size 100\u001b[0m\u001b[1;36m0x500\u001b[0m\u001b[39m with \u001b[0m\u001b[1;36m2\u001b[0m\u001b[39m Axes\u001b[0m\u001b[1m>\u001b[0m"
      ]
     },
     "metadata": {},
     "output_type": "display_data"
    }
   ],
   "source": [
    "fig, ax = plt.subplots(1, 2, figsize=(10,5))\n",
    "\n",
    "ax[0].plot(history.history['loss'])\n",
    "ax[0].plot(history.history['val_loss'])\n",
    "ax[0].set_title('Loss history')\n",
    "ax[0].legend(['Train loss', 'Validation loss'],loc='upper right')\n",
    "\n",
    "ax[1].plot(history.history['accuracy'])\n",
    "ax[1].plot(history.history['val_accuracy'])\n",
    "ax[1].set_title('Accuracy history')\n",
    "ax[1].legend(['Train accuracy', 'Validation accuracy'], loc='upper right')"
   ]
  },
  {
   "cell_type": "code",
   "execution_count": 109,
   "id": "70d10b23-5ffa-4ec3-b795-56ae3e77c328",
   "metadata": {},
   "outputs": [],
   "source": [
    "poi_c2v.save_model('../../data/06_models/chars2vec-60-cosine-BiGRU-sparsedEnc-Deep-geonames-spanish/')"
   ]
  },
  {
   "cell_type": "code",
   "execution_count": null,
   "id": "40d26ade-3e5f-4545-9877-89441e49066c",
   "metadata": {},
   "outputs": [],
   "source": [
    "poi_c2v.load_model('../../data/06_models/chars2vec-150-cosine-BiLSTM-sparsedEnc-geonames-spanish/')"
   ]
  },
  {
   "cell_type": "code",
   "execution_count": 110,
   "id": "c3c4da50-06a2-47b0-926d-aef8476c6e9c",
   "metadata": {},
   "outputs": [
    {
     "name": "stdout",
     "output_type": "stream",
     "text": [
      "Model: \"model_19\"\n",
      "__________________________________________________________________________________________________\n",
      " Layer (type)                   Output Shape         Param #     Connected to                     \n",
      "==================================================================================================\n",
      " left_branch_input (InputLayer)  [(None, 100, 1)]    0           []                               \n",
      "                                                                                                  \n",
      " right_branch_input (InputLayer  [(None, 100, 1)]    0           []                               \n",
      " )                                                                                                \n",
      "                                                                                                  \n",
      " model_18 (Functional)          (None, 200)          243000      ['left_branch_input[0][0]',      \n",
      "                                                                  'right_branch_input[0][0]']     \n",
      "                                                                                                  \n",
      " concatenate_19 (Concatenate)   (None, 400)          0           ['model_18[0][0]',               \n",
      "                                                                  'model_18[1][0]']               \n",
      "                                                                                                  \n",
      " multiply_9 (Multiply)          (None, 200)          0           ['model_18[0][0]',               \n",
      "                                                                  'model_18[1][0]']               \n",
      "                                                                                                  \n",
      " subtract_9 (Subtract)          (None, 200)          0           ['model_18[0][0]',               \n",
      "                                                                  'model_18[1][0]']               \n",
      "                                                                                                  \n",
      " concatenate_20 (Concatenate)   (None, 800)          0           ['concatenate_19[0][0]',         \n",
      "                                                                  'multiply_9[0][0]',             \n",
      "                                                                  'subtract_9[0][0]']             \n",
      "                                                                                                  \n",
      " dropout_29 (Dropout)           (None, 800)          0           ['concatenate_20[0][0]']         \n",
      "                                                                                                  \n",
      " dense_29 (Dense)               (None, 128)          102528      ['dropout_29[0][0]']             \n",
      "                                                                                                  \n",
      " dropout_30 (Dropout)           (None, 128)          0           ['dense_29[0][0]']               \n",
      "                                                                                                  \n",
      " dense_30 (Dense)               (None, 64)           8256        ['dropout_30[0][0]']             \n",
      "                                                                                                  \n",
      " dropout_31 (Dropout)           (None, 64)           0           ['dense_30[0][0]']               \n",
      "                                                                                                  \n",
      " dense_31 (Dense)               (None, 1)            65          ['dropout_31[0][0]']             \n",
      "                                                                                                  \n",
      "==================================================================================================\n",
      "Total params: 353,849\n",
      "Trainable params: 353,849\n",
      "Non-trainable params: 0\n",
      "__________________________________________________________________________________________________\n"
     ]
    }
   ],
   "source": [
    "poi_c2v.model.summary()"
   ]
  },
  {
   "cell_type": "code",
   "execution_count": 111,
   "id": "d771e780-12b9-4795-961b-c113a1ba261f",
   "metadata": {},
   "outputs": [],
   "source": [
    "X_test_1 = encode_sparsed_list(X_test[:, 0],char_to_index_dict=char_to_index, max_len=MAX_NAME_LEN)\n",
    "X_test_2 = encode_sparsed_list(X_test[:, 1],char_to_index_dict=char_to_index, max_len=MAX_NAME_LEN)\n",
    "\n",
    "X_train_1 = encode_sparsed_list(X_train[:, 0],char_to_index_dict=char_to_index, max_len=MAX_NAME_LEN)\n",
    "X_train_2 = encode_sparsed_list(X_train[:, 1],char_to_index_dict=char_to_index, max_len=MAX_NAME_LEN)"
   ]
  },
  {
   "cell_type": "code",
   "execution_count": 112,
   "id": "5d803071-7795-44a1-b057-646704dde891",
   "metadata": {},
   "outputs": [
    {
     "name": "stdout",
     "output_type": "stream",
     "text": [
      "171/171 [==============================] - 25s 116ms/step\n"
     ]
    }
   ],
   "source": [
    "test_predictions = poi_c2v.model.predict((X_test_1, X_test_2))\n",
    "# train_predictions = poi_c2v.model.predict((X_train_1, X_train_2))"
   ]
  },
  {
   "cell_type": "code",
   "execution_count": 113,
   "id": "ba28d180-f86f-4563-b9f4-9914ecc58e75",
   "metadata": {},
   "outputs": [
    {
     "data": {
      "text/html": [
       "<pre style=\"white-space:pre;overflow-x:auto;line-height:normal;font-family:Menlo,'DejaVu Sans Mono',consolas,'Courier New',monospace\"></pre>\n"
      ],
      "text/plain": []
     },
     "metadata": {},
     "output_type": "display_data"
    },
    {
     "data": {
      "text/plain": [
       "\n",
       "\u001b[1m(\u001b[0m\n",
       "    \u001b[1;35marray\u001b[0m\u001b[1m(\u001b[0m\u001b[1m[\u001b[0m \u001b[1;36m979\u001b[0m.,  \u001b[1;36m473\u001b[0m.,  \u001b[1;36m405\u001b[0m.,  \u001b[1;36m391\u001b[0m.,  \u001b[1;36m442\u001b[0m.,  \u001b[1;36m415\u001b[0m.,  \u001b[1;36m329\u001b[0m.,  \u001b[1;36m456\u001b[0m.,  \u001b[1;36m519\u001b[0m.,\n",
       "       \u001b[1;36m1056\u001b[0m.\u001b[1m]\u001b[0m\u001b[1m)\u001b[0m,\n",
       "    \u001b[1;35marray\u001b[0m\u001b[1m(\u001b[0m\u001b[1m[\u001b[0m\u001b[1;36m1.36153312e-06\u001b[0m, \u001b[1;36m9.99719650e-02\u001b[0m, \u001b[1;36m1.99942574e-01\u001b[0m, \u001b[1;36m2.99913168e-01\u001b[0m,\n",
       "       \u001b[1;36m3.99883777e-01\u001b[0m, \u001b[1;36m4.99854386e-01\u001b[0m, \u001b[1;36m5.99824965e-01\u001b[0m, \u001b[1;36m6.99795604e-01\u001b[0m,\n",
       "       \u001b[1;36m7.99766183e-01\u001b[0m, \u001b[1;36m8.99736822e-01\u001b[0m, \u001b[1;36m9.99707401e-01\u001b[0m\u001b[1m]\u001b[0m\u001b[1m)\u001b[0m,\n",
       "    \u001b[1m<\u001b[0m\u001b[1;95mBarContainer\u001b[0m\u001b[39m object of \u001b[0m\u001b[1;36m10\u001b[0m\u001b[39m artists\u001b[0m\u001b[1m>\u001b[0m\n",
       "\u001b[1m)\u001b[0m"
      ]
     },
     "execution_count": 113,
     "metadata": {},
     "output_type": "execute_result"
    },
    {
     "data": {
      "text/html": [
       "<pre style=\"white-space:pre;overflow-x:auto;line-height:normal;font-family:Menlo,'DejaVu Sans Mono',consolas,'Courier New',monospace\"></pre>\n"
      ],
      "text/plain": []
     },
     "metadata": {},
     "output_type": "display_data"
    },
    {
     "data": {
      "image/png": "[encoded data removed]",
      "text/plain": [
       "\u001b[1m<\u001b[0m\u001b[1;95mFigure\u001b[0m\u001b[39m size 64\u001b[0m\u001b[1;36m0x480\u001b[0m\u001b[39m with \u001b[0m\u001b[1;36m1\u001b[0m\u001b[39m Axes\u001b[0m\u001b[1m>\u001b[0m"
      ]
     },
     "metadata": {},
     "output_type": "display_data"
    }
   ],
   "source": [
    "plt.hist(test_predictions)"
   ]
  },
  {
   "cell_type": "code",
   "execution_count": 117,
   "id": "209bae71-d802-4827-8c9e-d3f02beb4562",
   "metadata": {},
   "outputs": [
    {
     "data": {
      "text/html": [
       "<pre style=\"white-space:pre;overflow-x:auto;line-height:normal;font-family:Menlo,'DejaVu Sans Mono',consolas,'Courier New',monospace\"></pre>\n"
      ],
      "text/plain": []
     },
     "metadata": {},
     "output_type": "display_data"
    },
    {
     "data": {
      "text/html": [
       "<div>\n",
       "<style scoped>\n",
       "    .dataframe tbody tr th:only-of-type {\n",
       "        vertical-align: middle;\n",
       "    }\n",
       "\n",
       "    .dataframe tbody tr th {\n",
       "        vertical-align: top;\n",
       "    }\n",
       "\n",
       "    .dataframe thead th {\n",
       "        text-align: right;\n",
       "    }\n",
       "</style>\n",
       "<table border=\"1\" class=\"dataframe\">\n",
       "  <thead>\n",
       "    <tr style=\"text-align: right;\">\n",
       "      <th>col_0</th>\n",
       "      <th>False</th>\n",
       "      <th>True</th>\n",
       "    </tr>\n",
       "    <tr>\n",
       "      <th>row_0</th>\n",
       "      <th></th>\n",
       "      <th></th>\n",
       "    </tr>\n",
       "  </thead>\n",
       "  <tbody>\n",
       "    <tr>\n",
       "      <th>False</th>\n",
       "      <td>20907</td>\n",
       "      <td>3788</td>\n",
       "    </tr>\n",
       "    <tr>\n",
       "      <th>True</th>\n",
       "      <td>5636</td>\n",
       "      <td>18847</td>\n",
       "    </tr>\n",
       "  </tbody>\n",
       "</table>\n",
       "</div>"
      ],
      "text/plain": [
       "\n",
       "col_0  \u001b[3;91mFalse\u001b[0m  \u001b[3;92mTrue\u001b[0m \n",
       "row_0              \n",
       "\u001b[3;91mFalse\u001b[0m  \u001b[1;36m20907\u001b[0m   \u001b[1;36m3788\u001b[0m\n",
       "\u001b[3;92mTrue\u001b[0m    \u001b[1;36m5636\u001b[0m  \u001b[1;36m18847\u001b[0m"
      ]
     },
     "execution_count": 117,
     "metadata": {},
     "output_type": "execute_result"
    }
   ],
   "source": [
    "pd.crosstab((y_train>=.75).flatten(), (train_predictions>=.5).flatten())"
   ]
  },
  {
   "cell_type": "code",
   "execution_count": 118,
   "id": "464cd42c-a35d-421b-993d-fd82e28f39ce",
   "metadata": {},
   "outputs": [
    {
     "name": "stdout",
     "output_type": "stream",
     "text": [
      "              precision    recall  f1-score   support\n",
      "\n",
      "       False       0.79      0.85      0.82     24695\n",
      "        True       0.83      0.77      0.80     24483\n",
      "\n",
      "    accuracy                           0.81     49178\n",
      "   macro avg       0.81      0.81      0.81     49178\n",
      "weighted avg       0.81      0.81      0.81     49178\n",
      "\n"
     ]
    }
   ],
   "source": [
    "print(classification_report((y_train>=.5).flatten(), (train_predictions>=.5).flatten()))"
   ]
  },
  {
   "cell_type": "code",
   "execution_count": 139,
   "id": "5e6475be-da41-4300-be6f-61c7e24b73a3",
   "metadata": {},
   "outputs": [
    {
     "data": {
      "text/html": [
       "<pre style=\"white-space:pre;overflow-x:auto;line-height:normal;font-family:Menlo,'DejaVu Sans Mono',consolas,'Courier New',monospace\"></pre>\n"
      ],
      "text/plain": []
     },
     "metadata": {},
     "output_type": "display_data"
    },
    {
     "data": {
      "text/html": [
       "<div>\n",
       "<style scoped>\n",
       "    .dataframe tbody tr th:only-of-type {\n",
       "        vertical-align: middle;\n",
       "    }\n",
       "\n",
       "    .dataframe tbody tr th {\n",
       "        vertical-align: top;\n",
       "    }\n",
       "\n",
       "    .dataframe thead th {\n",
       "        text-align: right;\n",
       "    }\n",
       "</style>\n",
       "<table border=\"1\" class=\"dataframe\">\n",
       "  <thead>\n",
       "    <tr style=\"text-align: right;\">\n",
       "      <th>col_0</th>\n",
       "      <th>False</th>\n",
       "      <th>True</th>\n",
       "    </tr>\n",
       "    <tr>\n",
       "      <th>row_0</th>\n",
       "      <th></th>\n",
       "      <th></th>\n",
       "    </tr>\n",
       "  </thead>\n",
       "  <tbody>\n",
       "    <tr>\n",
       "      <th>False</th>\n",
       "      <td>2187</td>\n",
       "      <td>519</td>\n",
       "    </tr>\n",
       "    <tr>\n",
       "      <th>True</th>\n",
       "      <td>722</td>\n",
       "      <td>2037</td>\n",
       "    </tr>\n",
       "  </tbody>\n",
       "</table>\n",
       "</div>"
      ],
      "text/plain": [
       "\n",
       "col_0  \u001b[3;91mFalse\u001b[0m  \u001b[3;92mTrue\u001b[0m \n",
       "row_0              \n",
       "\u001b[3;91mFalse\u001b[0m   \u001b[1;36m2187\u001b[0m    \u001b[1;36m519\u001b[0m\n",
       "\u001b[3;92mTrue\u001b[0m     \u001b[1;36m722\u001b[0m   \u001b[1;36m2037\u001b[0m"
      ]
     },
     "execution_count": 139,
     "metadata": {},
     "output_type": "execute_result"
    }
   ],
   "source": [
    "pd.crosstab((y_test>=.75).flatten(), (test_predictions>=.55).flatten())"
   ]
  },
  {
   "cell_type": "code",
   "execution_count": 140,
   "id": "4a045273-2af7-49d0-8738-ea4237330719",
   "metadata": {},
   "outputs": [
    {
     "name": "stdout",
     "output_type": "stream",
     "text": [
      "              precision    recall  f1-score   support\n",
      "\n",
      "       False       0.75      0.81      0.78      2706\n",
      "        True       0.80      0.74      0.77      2759\n",
      "\n",
      "    accuracy                           0.77      5465\n",
      "   macro avg       0.77      0.77      0.77      5465\n",
      "weighted avg       0.77      0.77      0.77      5465\n",
      "\n"
     ]
    }
   ],
   "source": [
    "print(classification_report((y_test>=.5).flatten(), (test_predictions>=.55).flatten()))"
   ]
  },
  {
   "cell_type": "code",
   "execution_count": 44,
   "id": "f1001e24-4103-4257-ba69-487a09b75c01",
   "metadata": {},
   "outputs": [
    {
     "data": {
      "text/html": [
       "<pre style=\"white-space:pre;overflow-x:auto;line-height:normal;font-family:Menlo,'DejaVu Sans Mono',consolas,'Courier New',monospace\"><span style=\"color: #7fbfbf; text-decoration-color: #7fbfbf\">[08/13/23 10:48:57] </span><span style=\"color: #800000; text-decoration-color: #800000\">WARNING </span> <span style=\"color: #800080; text-decoration-color: #800080\">/usr/local/lib/python3.9/dist-packages/fuzzywuzzy/</span><span style=\"color: #ff00ff; text-decoration-color: #ff00ff\">fuzz.py</span>:<span style=\"color: #008080; text-decoration-color: #008080; font-weight: bold\">11</span>:          <a href=\"file:///usr/lib/python3.9/warnings.py\" target=\"_blank\"><span style=\"color: #7f7f7f; text-decoration-color: #7f7f7f\">warnings.py</span></a><span style=\"color: #7f7f7f; text-decoration-color: #7f7f7f\">:</span><a href=\"file:///usr/lib/python3.9/warnings.py#109\" target=\"_blank\"><span style=\"color: #7f7f7f; text-decoration-color: #7f7f7f\">109</span></a>\n",
       "<span style=\"color: #7fbfbf; text-decoration-color: #7fbfbf\">                    </span>         UserWarning: Using slow pure-python SequenceMatcher. Install           <span style=\"color: #7f7f7f; text-decoration-color: #7f7f7f\">               </span>\n",
       "<span style=\"color: #7fbfbf; text-decoration-color: #7fbfbf\">                    </span>         python-Levenshtein to remove this warning                              <span style=\"color: #7f7f7f; text-decoration-color: #7f7f7f\">               </span>\n",
       "<span style=\"color: #7fbfbf; text-decoration-color: #7fbfbf\">                    </span>           <span style=\"color: #800080; text-decoration-color: #800080; font-weight: bold\">warnings.warn</span><span style=\"font-weight: bold\">(</span><span style=\"color: #008000; text-decoration-color: #008000\">'Using slow pure-python SequenceMatcher. Install </span>      <span style=\"color: #7f7f7f; text-decoration-color: #7f7f7f\">               </span>\n",
       "<span style=\"color: #7fbfbf; text-decoration-color: #7fbfbf\">                    </span>         <span style=\"color: #008000; text-decoration-color: #008000\">python-Levenshtein to remove this warning'</span><span style=\"font-weight: bold\">)</span>                            <span style=\"color: #7f7f7f; text-decoration-color: #7f7f7f\">               </span>\n",
       "<span style=\"color: #7fbfbf; text-decoration-color: #7fbfbf\">                    </span>                                                                                <span style=\"color: #7f7f7f; text-decoration-color: #7f7f7f\">               </span>\n",
       "</pre>\n"
      ],
      "text/plain": [
       "\u001b[2;36m[08/13/23 10:48:57]\u001b[0m\u001b[2;36m \u001b[0m\u001b[31mWARNING \u001b[0m \u001b[35m/usr/local/lib/python3.9/dist-packages/fuzzywuzzy/\u001b[0m\u001b[95mfuzz.py\u001b[0m:\u001b[1;36m11\u001b[0m:          \u001b]8;id=789371;file:///usr/lib/python3.9/warnings.py\u001b\\\u001b[2mwarnings.py\u001b[0m\u001b]8;;\u001b\\\u001b[2m:\u001b[0m\u001b]8;id=147627;file:///usr/lib/python3.9/warnings.py#109\u001b\\\u001b[2m109\u001b[0m\u001b]8;;\u001b\\\n",
       "\u001b[2;36m                    \u001b[0m         UserWarning: Using slow pure-python SequenceMatcher. Install           \u001b[2m               \u001b[0m\n",
       "\u001b[2;36m                    \u001b[0m         python-Levenshtein to remove this warning                              \u001b[2m               \u001b[0m\n",
       "\u001b[2;36m                    \u001b[0m           \u001b[1;35mwarnings.warn\u001b[0m\u001b[1m(\u001b[0m\u001b[32m'Using slow pure-python SequenceMatcher. Install \u001b[0m      \u001b[2m               \u001b[0m\n",
       "\u001b[2;36m                    \u001b[0m         \u001b[32mpython-Levenshtein to remove this warning'\u001b[0m\u001b[1m)\u001b[0m                            \u001b[2m               \u001b[0m\n",
       "\u001b[2;36m                    \u001b[0m                                                                                \u001b[2m               \u001b[0m\n"
      ]
     },
     "metadata": {},
     "output_type": "display_data"
    }
   ],
   "source": [
    "from fuzzywuzzy import fuzz"
   ]
  },
  {
   "cell_type": "code",
   "execution_count": 45,
   "id": "243fb1d9-fdb4-4a42-84c1-cda865c4d807",
   "metadata": {},
   "outputs": [],
   "source": [
    "token_set_predictions = np.array([fuzz.token_set_ratio(name1, name2)/100 for name1, name2 in X_test])\n",
    "token_set_predictions_train = np.array([fuzz.token_set_ratio(name1, name2)/100 for name1, name2 in X_train])"
   ]
  },
  {
   "cell_type": "code",
   "execution_count": 123,
   "id": "76262aa6-2b13-46ce-8ed3-242729099662",
   "metadata": {},
   "outputs": [
    {
     "data": {
      "text/html": [
       "<pre style=\"white-space:pre;overflow-x:auto;line-height:normal;font-family:Menlo,'DejaVu Sans Mono',consolas,'Courier New',monospace\"></pre>\n"
      ],
      "text/plain": []
     },
     "metadata": {},
     "output_type": "display_data"
    },
    {
     "data": {
      "text/html": [
       "<div>\n",
       "<style scoped>\n",
       "    .dataframe tbody tr th:only-of-type {\n",
       "        vertical-align: middle;\n",
       "    }\n",
       "\n",
       "    .dataframe tbody tr th {\n",
       "        vertical-align: top;\n",
       "    }\n",
       "\n",
       "    .dataframe thead th {\n",
       "        text-align: right;\n",
       "    }\n",
       "</style>\n",
       "<table border=\"1\" class=\"dataframe\">\n",
       "  <thead>\n",
       "    <tr style=\"text-align: right;\">\n",
       "      <th>col_0</th>\n",
       "      <th>False</th>\n",
       "      <th>True</th>\n",
       "    </tr>\n",
       "    <tr>\n",
       "      <th>row_0</th>\n",
       "      <th></th>\n",
       "      <th></th>\n",
       "    </tr>\n",
       "  </thead>\n",
       "  <tbody>\n",
       "    <tr>\n",
       "      <th>False</th>\n",
       "      <td>2303</td>\n",
       "      <td>403</td>\n",
       "    </tr>\n",
       "    <tr>\n",
       "      <th>True</th>\n",
       "      <td>724</td>\n",
       "      <td>2035</td>\n",
       "    </tr>\n",
       "  </tbody>\n",
       "</table>\n",
       "</div>"
      ],
      "text/plain": [
       "\n",
       "col_0  \u001b[3;91mFalse\u001b[0m  \u001b[3;92mTrue\u001b[0m \n",
       "row_0              \n",
       "\u001b[3;91mFalse\u001b[0m   \u001b[1;36m2303\u001b[0m    \u001b[1;36m403\u001b[0m\n",
       "\u001b[3;92mTrue\u001b[0m     \u001b[1;36m724\u001b[0m   \u001b[1;36m2035\u001b[0m"
      ]
     },
     "execution_count": 123,
     "metadata": {},
     "output_type": "execute_result"
    }
   ],
   "source": [
    "pd.crosstab((y_test>=.5).flatten(), token_set_predictions>.75)"
   ]
  },
  {
   "cell_type": "code",
   "execution_count": 124,
   "id": "b4d25459-c959-47f6-91f6-d1bad6e0e272",
   "metadata": {},
   "outputs": [
    {
     "name": "stdout",
     "output_type": "stream",
     "text": [
      "              precision    recall  f1-score   support\n",
      "\n",
      "       False       0.76      0.85      0.80      2706\n",
      "        True       0.83      0.74      0.78      2759\n",
      "\n",
      "    accuracy                           0.79      5465\n",
      "   macro avg       0.80      0.79      0.79      5465\n",
      "weighted avg       0.80      0.79      0.79      5465\n",
      "\n"
     ]
    }
   ],
   "source": [
    "print(classification_report((y_test>=.75).flatten(), token_set_predictions>.75))"
   ]
  },
  {
   "cell_type": "code",
   "execution_count": 122,
   "id": "bc777fd0-7dfa-458c-9818-50b9eb1793a3",
   "metadata": {},
   "outputs": [
    {
     "data": {
      "text/html": [
       "<pre style=\"white-space:pre;overflow-x:auto;line-height:normal;font-family:Menlo,'DejaVu Sans Mono',consolas,'Courier New',monospace\"></pre>\n"
      ],
      "text/plain": []
     },
     "metadata": {},
     "output_type": "display_data"
    },
    {
     "data": {
      "text/html": [
       "<div>\n",
       "<style scoped>\n",
       "    .dataframe tbody tr th:only-of-type {\n",
       "        vertical-align: middle;\n",
       "    }\n",
       "\n",
       "    .dataframe tbody tr th {\n",
       "        vertical-align: top;\n",
       "    }\n",
       "\n",
       "    .dataframe thead th {\n",
       "        text-align: right;\n",
       "    }\n",
       "</style>\n",
       "<table border=\"1\" class=\"dataframe\">\n",
       "  <thead>\n",
       "    <tr style=\"text-align: right;\">\n",
       "      <th>col_0</th>\n",
       "      <th>False</th>\n",
       "      <th>True</th>\n",
       "    </tr>\n",
       "    <tr>\n",
       "      <th>row_0</th>\n",
       "      <th></th>\n",
       "      <th></th>\n",
       "    </tr>\n",
       "  </thead>\n",
       "  <tbody>\n",
       "    <tr>\n",
       "      <th>False</th>\n",
       "      <td>20861</td>\n",
       "      <td>3834</td>\n",
       "    </tr>\n",
       "    <tr>\n",
       "      <th>True</th>\n",
       "      <td>6626</td>\n",
       "      <td>17857</td>\n",
       "    </tr>\n",
       "  </tbody>\n",
       "</table>\n",
       "</div>"
      ],
      "text/plain": [
       "\n",
       "col_0  \u001b[3;91mFalse\u001b[0m  \u001b[3;92mTrue\u001b[0m \n",
       "row_0              \n",
       "\u001b[3;91mFalse\u001b[0m  \u001b[1;36m20861\u001b[0m   \u001b[1;36m3834\u001b[0m\n",
       "\u001b[3;92mTrue\u001b[0m    \u001b[1;36m6626\u001b[0m  \u001b[1;36m17857\u001b[0m"
      ]
     },
     "execution_count": 122,
     "metadata": {},
     "output_type": "execute_result"
    }
   ],
   "source": [
    "pd.crosstab((y_train>=.5).flatten(), token_set_predictions_train>.75)"
   ]
  },
  {
   "cell_type": "code",
   "execution_count": 121,
   "id": "9a21afc5-bd7f-4575-9e85-be43f9888733",
   "metadata": {},
   "outputs": [
    {
     "name": "stdout",
     "output_type": "stream",
     "text": [
      "              precision    recall  f1-score   support\n",
      "\n",
      "       False       0.76      0.84      0.80     24695\n",
      "        True       0.82      0.73      0.77     24483\n",
      "\n",
      "    accuracy                           0.79     49178\n",
      "   macro avg       0.79      0.79      0.79     49178\n",
      "weighted avg       0.79      0.79      0.79     49178\n",
      "\n"
     ]
    }
   ],
   "source": [
    "print(classification_report((y_train>=.75).flatten(), token_set_predictions_train>.75))"
   ]
  },
  {
   "cell_type": "code",
   "execution_count": 50,
   "id": "05939c49-51ae-45d6-a32e-a4299e20a49a",
   "metadata": {},
   "outputs": [],
   "source": [
    "results = pd.DataFrame(X_test)\n",
    "results['prediction'] = test_predictions\n",
    "results['token_set_ratio'] = token_set_predictions\n",
    "results['label'] = y_test\n",
    "results.columns = ['name_1', 'name_2', 'prediction','token_set_ratio', 'label']\n",
    "results['error'] = results['prediction'] != results['label']"
   ]
  },
  {
   "cell_type": "code",
   "execution_count": 51,
   "id": "b7c0aab6-fd5c-4672-958b-f65fb6e148ee",
   "metadata": {},
   "outputs": [],
   "source": [
    "results_train = pd.DataFrame(X_train)\n",
    "results_train['prediction'] = train_predictions\n",
    "results_train['token_set_ratio'] = token_set_predictions_train\n",
    "results_train['label'] = y_train\n",
    "results_train.columns = ['name_1', 'name_2', 'prediction','token_set_ratio', 'label']\n",
    "results_train['error'] = (results_train['prediction']>.5).astype(int) != results_train['label'].astype(int)"
   ]
  },
  {
   "cell_type": "code",
   "execution_count": 52,
   "id": "e0c50178-6e8a-4f8e-a9f9-4767f4d4554d",
   "metadata": {},
   "outputs": [],
   "source": [
    "results.to_csv('bigru_results_test.csv', index=False)\n",
    "results_train.to_csv('bigru_results_train.csv', index=False)"
   ]
  },
  {
   "cell_type": "markdown",
   "id": "ae21aaa0-9e2e-42b2-bc54-ed0d108c17a5",
   "metadata": {},
   "source": [
    "# 6. Prediciton"
   ]
  },
  {
   "cell_type": "code",
   "execution_count": 129,
   "id": "a16124da-6699-44c3-b0f8-d95ffae2ed0c",
   "metadata": {},
   "outputs": [],
   "source": [
    "standard_1 = np.array(['dave smith', 'international business machine corp', 'bill gates', 'william h gates', 'mary miller', 'mary', 'ibm inc', 'ibm inc', 'dave smith', 'royal free hospital', 'royal free hospital emergency room', 'royal free hospital school of medicine'])\n",
    "standard_2 = np.array(['david smith', 'ibm', 'william gates', 'william a gates', 'mark miller', 'mark', 'ibm corp', 'ibs inc', 'smith dave', 'royal free hospital emergency room', 'royal free hospital immunology', 'royal free hospital immunology'])\n",
    "standard_target = np.array([1, 1, 1, 0, 0, 0, 1, 0, 1, 0, 0, 0, 0])\n",
    "token_set_ratio = [fuzz.token_set_ratio(name1, name2)/100 for name1, name2 in list(zip(standard_1, standard_2))]"
   ]
  },
  {
   "cell_type": "code",
   "execution_count": 130,
   "id": "aed0775d-7597-4607-bf66-460893fec003",
   "metadata": {},
   "outputs": [],
   "source": [
    "standard_1_vectorized = encode_sparsed_list(standard_1,char_to_index_dict=char_to_index, max_len=MAX_NAME_LEN)\n",
    "standard_2_vectorized = encode_sparsed_list(standard_2,char_to_index_dict=char_to_index, max_len=MAX_NAME_LEN)"
   ]
  },
  {
   "cell_type": "code",
   "execution_count": 131,
   "id": "be7fb3b6-3845-43c2-8c09-b3b7fc4c23cd",
   "metadata": {},
   "outputs": [
    {
     "name": "stdout",
     "output_type": "stream",
     "text": [
      "1/1 [==============================] - 0s 135ms/step\n"
     ]
    }
   ],
   "source": [
    "standard_predictions = poi_c2v.model.predict((standard_1_vectorized, standard_2_vectorized))"
   ]
  },
  {
   "cell_type": "code",
   "execution_count": 132,
   "id": "e347ac74-d2db-45d3-ae28-50c0b89cb9c7",
   "metadata": {},
   "outputs": [
    {
     "data": {
      "text/html": [
       "<pre style=\"white-space:pre;overflow-x:auto;line-height:normal;font-family:Menlo,'DejaVu Sans Mono',consolas,'Courier New',monospace\"></pre>\n"
      ],
      "text/plain": []
     },
     "metadata": {},
     "output_type": "display_data"
    },
    {
     "data": {
      "text/html": [
       "<div>\n",
       "<style scoped>\n",
       "    .dataframe tbody tr th:only-of-type {\n",
       "        vertical-align: middle;\n",
       "    }\n",
       "\n",
       "    .dataframe tbody tr th {\n",
       "        vertical-align: top;\n",
       "    }\n",
       "\n",
       "    .dataframe thead th {\n",
       "        text-align: right;\n",
       "    }\n",
       "</style>\n",
       "<table border=\"1\" class=\"dataframe\">\n",
       "  <thead>\n",
       "    <tr style=\"text-align: right;\">\n",
       "      <th></th>\n",
       "      <th>0</th>\n",
       "      <th>1</th>\n",
       "      <th>2</th>\n",
       "      <th>3</th>\n",
       "      <th>4</th>\n",
       "    </tr>\n",
       "  </thead>\n",
       "  <tbody>\n",
       "    <tr>\n",
       "      <th>0</th>\n",
       "      <td>dave smith</td>\n",
       "      <td>david smith</td>\n",
       "      <td>1</td>\n",
       "      <td>[0.79407823]</td>\n",
       "      <td>0.86</td>\n",
       "    </tr>\n",
       "    <tr>\n",
       "      <th>1</th>\n",
       "      <td>international business machine corp</td>\n",
       "      <td>ibm</td>\n",
       "      <td>1</td>\n",
       "      <td>[0.8562869]</td>\n",
       "      <td>0.11</td>\n",
       "    </tr>\n",
       "    <tr>\n",
       "      <th>2</th>\n",
       "      <td>bill gates</td>\n",
       "      <td>william gates</td>\n",
       "      <td>1</td>\n",
       "      <td>[0.58393437]</td>\n",
       "      <td>0.78</td>\n",
       "    </tr>\n",
       "    <tr>\n",
       "      <th>3</th>\n",
       "      <td>william h gates</td>\n",
       "      <td>william a gates</td>\n",
       "      <td>0</td>\n",
       "      <td>[0.90428543]</td>\n",
       "      <td>0.93</td>\n",
       "    </tr>\n",
       "    <tr>\n",
       "      <th>4</th>\n",
       "      <td>mary miller</td>\n",
       "      <td>mark miller</td>\n",
       "      <td>0</td>\n",
       "      <td>[0.863057]</td>\n",
       "      <td>0.91</td>\n",
       "    </tr>\n",
       "    <tr>\n",
       "      <th>5</th>\n",
       "      <td>mary</td>\n",
       "      <td>mark</td>\n",
       "      <td>0</td>\n",
       "      <td>[0.9156499]</td>\n",
       "      <td>0.75</td>\n",
       "    </tr>\n",
       "    <tr>\n",
       "      <th>6</th>\n",
       "      <td>ibm inc</td>\n",
       "      <td>ibm corp</td>\n",
       "      <td>1</td>\n",
       "      <td>[0.70528185]</td>\n",
       "      <td>0.67</td>\n",
       "    </tr>\n",
       "    <tr>\n",
       "      <th>7</th>\n",
       "      <td>ibm inc</td>\n",
       "      <td>ibs inc</td>\n",
       "      <td>0</td>\n",
       "      <td>[0.76052266]</td>\n",
       "      <td>0.86</td>\n",
       "    </tr>\n",
       "    <tr>\n",
       "      <th>8</th>\n",
       "      <td>dave smith</td>\n",
       "      <td>smith dave</td>\n",
       "      <td>1</td>\n",
       "      <td>[0.31934947]</td>\n",
       "      <td>1.00</td>\n",
       "    </tr>\n",
       "    <tr>\n",
       "      <th>9</th>\n",
       "      <td>royal free hospital</td>\n",
       "      <td>royal free hospital emergency room</td>\n",
       "      <td>0</td>\n",
       "      <td>[0.4245388]</td>\n",
       "      <td>1.00</td>\n",
       "    </tr>\n",
       "    <tr>\n",
       "      <th>10</th>\n",
       "      <td>royal free hospital emergency room</td>\n",
       "      <td>royal free hospital immunology</td>\n",
       "      <td>0</td>\n",
       "      <td>[0.5149968]</td>\n",
       "      <td>0.78</td>\n",
       "    </tr>\n",
       "    <tr>\n",
       "      <th>11</th>\n",
       "      <td>royal free hospital school of medicine</td>\n",
       "      <td>royal free hospital immunology</td>\n",
       "      <td>0</td>\n",
       "      <td>[0.69988775]</td>\n",
       "      <td>0.78</td>\n",
       "    </tr>\n",
       "  </tbody>\n",
       "</table>\n",
       "</div>"
      ],
      "text/plain": [
       "\n",
       "                                         \u001b[1;36m0\u001b[0m  \\\n",
       "\u001b[1;36m0\u001b[0m                               dave smith   \n",
       "\u001b[1;36m1\u001b[0m      international business machine corp   \n",
       "\u001b[1;36m2\u001b[0m                               bill gates   \n",
       "\u001b[1;36m3\u001b[0m                          william h gates   \n",
       "\u001b[1;36m4\u001b[0m                              mary miller   \n",
       "\u001b[1;36m5\u001b[0m                                     mary   \n",
       "\u001b[1;36m6\u001b[0m                                  ibm inc   \n",
       "\u001b[1;36m7\u001b[0m                                  ibm inc   \n",
       "\u001b[1;36m8\u001b[0m                               dave smith   \n",
       "\u001b[1;36m9\u001b[0m                      royal free hospital   \n",
       "\u001b[1;36m10\u001b[0m      royal free hospital emergency room   \n",
       "\u001b[1;36m11\u001b[0m  royal free hospital school of medicine   \n",
       "\n",
       "                                     \u001b[1;36m1\u001b[0m  \u001b[1;36m2\u001b[0m             \u001b[1;36m3\u001b[0m     \u001b[1;36m4\u001b[0m  \n",
       "\u001b[1;36m0\u001b[0m                          david smith  \u001b[1;36m1\u001b[0m  \u001b[1m[\u001b[0m\u001b[1;36m0.79407823\u001b[0m\u001b[1m]\u001b[0m  \u001b[1;36m0.86\u001b[0m  \n",
       "\u001b[1;36m1\u001b[0m                                  ibm  \u001b[1;36m1\u001b[0m   \u001b[1m[\u001b[0m\u001b[1;36m0.8562869\u001b[0m\u001b[1m]\u001b[0m  \u001b[1;36m0.11\u001b[0m  \n",
       "\u001b[1;36m2\u001b[0m                        william gates  \u001b[1;36m1\u001b[0m  \u001b[1m[\u001b[0m\u001b[1;36m0.58393437\u001b[0m\u001b[1m]\u001b[0m  \u001b[1;36m0.78\u001b[0m  \n",
       "\u001b[1;36m3\u001b[0m                      william a gates  \u001b[1;36m0\u001b[0m  \u001b[1m[\u001b[0m\u001b[1;36m0.90428543\u001b[0m\u001b[1m]\u001b[0m  \u001b[1;36m0.93\u001b[0m  \n",
       "\u001b[1;36m4\u001b[0m                          mark miller  \u001b[1;36m0\u001b[0m    \u001b[1m[\u001b[0m\u001b[1;36m0.863057\u001b[0m\u001b[1m]\u001b[0m  \u001b[1;36m0.91\u001b[0m  \n",
       "\u001b[1;36m5\u001b[0m                                 mark  \u001b[1;36m0\u001b[0m   \u001b[1m[\u001b[0m\u001b[1;36m0.9156499\u001b[0m\u001b[1m]\u001b[0m  \u001b[1;36m0.75\u001b[0m  \n",
       "\u001b[1;36m6\u001b[0m                             ibm corp  \u001b[1;36m1\u001b[0m  \u001b[1m[\u001b[0m\u001b[1;36m0.70528185\u001b[0m\u001b[1m]\u001b[0m  \u001b[1;36m0.67\u001b[0m  \n",
       "\u001b[1;36m7\u001b[0m                              ibs inc  \u001b[1;36m0\u001b[0m  \u001b[1m[\u001b[0m\u001b[1;36m0.76052266\u001b[0m\u001b[1m]\u001b[0m  \u001b[1;36m0.86\u001b[0m  \n",
       "\u001b[1;36m8\u001b[0m                           smith dave  \u001b[1;36m1\u001b[0m  \u001b[1m[\u001b[0m\u001b[1;36m0.31934947\u001b[0m\u001b[1m]\u001b[0m  \u001b[1;36m1.00\u001b[0m  \n",
       "\u001b[1;36m9\u001b[0m   royal free hospital emergency room  \u001b[1;36m0\u001b[0m   \u001b[1m[\u001b[0m\u001b[1;36m0.4245388\u001b[0m\u001b[1m]\u001b[0m  \u001b[1;36m1.00\u001b[0m  \n",
       "\u001b[1;36m10\u001b[0m      royal free hospital immunology  \u001b[1;36m0\u001b[0m   \u001b[1m[\u001b[0m\u001b[1;36m0.5149968\u001b[0m\u001b[1m]\u001b[0m  \u001b[1;36m0.78\u001b[0m  \n",
       "\u001b[1;36m11\u001b[0m      royal free hospital immunology  \u001b[1;36m0\u001b[0m  \u001b[1m[\u001b[0m\u001b[1;36m0.69988775\u001b[0m\u001b[1m]\u001b[0m  \u001b[1;36m0.78\u001b[0m  "
      ]
     },
     "execution_count": 132,
     "metadata": {},
     "output_type": "execute_result"
    }
   ],
   "source": [
    "pd.DataFrame(list(zip(standard_1, standard_2, standard_target, standard_predictions, token_set_ratio)))"
   ]
  },
  {
   "cell_type": "code",
   "execution_count": 286,
   "id": "77b60d6c-9a13-410f-a5d8-5195039d4b55",
   "metadata": {},
   "outputs": [
    {
     "data": {
      "text/html": [
       "<pre style=\"white-space:pre;overflow-x:auto;line-height:normal;font-family:Menlo,'DejaVu Sans Mono',consolas,'Courier New',monospace\"><span style=\"color: #7fbfbf; text-decoration-color: #7fbfbf\">[08/12/23 19:22:44] </span><span style=\"color: #000080; text-decoration-color: #000080\">INFO    </span> Loading data from <span style=\"color: #008000; text-decoration-color: #008000\">'geonames_latin_pairs'</span> <span style=\"font-weight: bold\">(</span>SparkDataSet<span style=\"font-weight: bold\">)</span><span style=\"color: #808000; text-decoration-color: #808000\">...</span>         <a href=\"file:///usr/local/lib/python3.9/dist-packages/kedro/io/data_catalog.py\" target=\"_blank\"><span style=\"color: #7f7f7f; text-decoration-color: #7f7f7f\">data_catalog.py</span></a><span style=\"color: #7f7f7f; text-decoration-color: #7f7f7f\">:</span><a href=\"file:///usr/local/lib/python3.9/dist-packages/kedro/io/data_catalog.py#475\" target=\"_blank\"><span style=\"color: #7f7f7f; text-decoration-color: #7f7f7f\">475</span></a>\n",
       "</pre>\n"
      ],
      "text/plain": [
       "\u001b[2;36m[08/12/23 19:22:44]\u001b[0m\u001b[2;36m \u001b[0m\u001b[34mINFO    \u001b[0m Loading data from \u001b[32m'geonames_latin_pairs'\u001b[0m \u001b[1m(\u001b[0mSparkDataSet\u001b[1m)\u001b[0m\u001b[33m...\u001b[0m         \u001b]8;id=566907;file:///usr/local/lib/python3.9/dist-packages/kedro/io/data_catalog.py\u001b\\\u001b[2mdata_catalog.py\u001b[0m\u001b]8;;\u001b\\\u001b[2m:\u001b[0m\u001b]8;id=388061;file:///usr/local/lib/python3.9/dist-packages/kedro/io/data_catalog.py#475\u001b\\\u001b[2m475\u001b[0m\u001b]8;;\u001b\\\n"
      ]
     },
     "metadata": {},
     "output_type": "display_data"
    },
    {
     "name": "stderr",
     "output_type": "stream",
     "text": [
      "                                                                                \r"
     ]
    }
   ],
   "source": [
    "geonames_pairs = catalog.load('geonames_latin_pairs')\n",
    "geonames_pairs = geonames_pairs.withColumn('target', when(col('match') == 'true', 1).otherwise(0).cast(FloatType()))\n",
    "geonames_pairs_es = geonames_pairs.filter(col('language_1').isin(['ES', 'MX']))\n",
    "geonames_normalized = geonames_pairs_es.withColumn('name_1_normalized', udf_normalize_chars(col('name_1'))) \\\n",
    "                .withColumn('name_2_normalized', udf_normalize_chars(col('name_2')))\n",
    "\n",
    "\n",
    "name_pairs = geonames_normalized.select('name_1_normalized', 'name_2_normalized').toPandas().values\n",
    "target = geonames_normalized.select(col('target')).toPandas().astype(float).values\n",
    "\n",
    "X1 = encode_sparsed_list(name_pairs[:, 0],char_to_index_dict=char_to_index, max_len=MAX_NAME_LEN)\n",
    "X2 = encode_sparsed_list(name_pairs[:, 1],char_to_index_dict=char_to_index, max_len=MAX_NAME_LEN)"
   ]
  },
  {
   "cell_type": "code",
   "execution_count": 287,
   "id": "35b4fb98-53ee-45ab-919a-041486825692",
   "metadata": {},
   "outputs": [
    {
     "name": "stdout",
     "output_type": "stream",
     "text": [
      "1708/1708 [==============================] - 210s 123ms/step\n"
     ]
    }
   ],
   "source": [
    "geonames_predictions = poi_c2v.model.predict((X1, X2))"
   ]
  },
  {
   "cell_type": "code",
   "execution_count": 288,
   "id": "dc50151b-8037-49c3-913e-24eb78625649",
   "metadata": {},
   "outputs": [
    {
     "data": {
      "text/html": [
       "<pre style=\"white-space:pre;overflow-x:auto;line-height:normal;font-family:Menlo,'DejaVu Sans Mono',consolas,'Courier New',monospace\"></pre>\n"
      ],
      "text/plain": []
     },
     "metadata": {},
     "output_type": "display_data"
    },
    {
     "data": {
      "text/html": [
       "<div>\n",
       "<style scoped>\n",
       "    .dataframe tbody tr th:only-of-type {\n",
       "        vertical-align: middle;\n",
       "    }\n",
       "\n",
       "    .dataframe tbody tr th {\n",
       "        vertical-align: top;\n",
       "    }\n",
       "\n",
       "    .dataframe thead th {\n",
       "        text-align: right;\n",
       "    }\n",
       "</style>\n",
       "<table border=\"1\" class=\"dataframe\">\n",
       "  <thead>\n",
       "    <tr style=\"text-align: right;\">\n",
       "      <th>col_0</th>\n",
       "      <th>False</th>\n",
       "      <th>True</th>\n",
       "    </tr>\n",
       "    <tr>\n",
       "      <th>row_0</th>\n",
       "      <th></th>\n",
       "      <th></th>\n",
       "    </tr>\n",
       "  </thead>\n",
       "  <tbody>\n",
       "    <tr>\n",
       "      <th>False</th>\n",
       "      <td>18117</td>\n",
       "      <td>9284</td>\n",
       "    </tr>\n",
       "    <tr>\n",
       "      <th>True</th>\n",
       "      <td>11604</td>\n",
       "      <td>15638</td>\n",
       "    </tr>\n",
       "  </tbody>\n",
       "</table>\n",
       "</div>"
      ],
      "text/plain": [
       "\n",
       "col_0  \u001b[3;91mFalse\u001b[0m  \u001b[3;92mTrue\u001b[0m \n",
       "row_0              \n",
       "\u001b[3;91mFalse\u001b[0m  \u001b[1;36m18117\u001b[0m   \u001b[1;36m9284\u001b[0m\n",
       "\u001b[3;92mTrue\u001b[0m   \u001b[1;36m11604\u001b[0m  \u001b[1;36m15638\u001b[0m"
      ]
     },
     "execution_count": 288,
     "metadata": {},
     "output_type": "execute_result"
    }
   ],
   "source": [
    "pd.crosstab((target>=.75).flatten(), (geonames_predictions>=.5).flatten())"
   ]
  },
  {
   "cell_type": "code",
   "execution_count": 290,
   "id": "bd4e955d-c4b3-44b0-95b0-a42561c6b07e",
   "metadata": {},
   "outputs": [
    {
     "name": "stdout",
     "output_type": "stream",
     "text": [
      "              precision    recall  f1-score   support\n",
      "\n",
      "       False       0.61      0.66      0.63     27401\n",
      "        True       0.63      0.57      0.60     27242\n",
      "\n",
      "    accuracy                           0.62     54643\n",
      "   macro avg       0.62      0.62      0.62     54643\n",
      "weighted avg       0.62      0.62      0.62     54643\n",
      "\n"
     ]
    }
   ],
   "source": [
    "print(classification_report((target>=.5).flatten(), geonames_predictions>.5))"
   ]
  },
  {
   "cell_type": "code",
   "execution_count": 291,
   "id": "a20f6ff8-c001-4d8c-b157-59be5c515aaf",
   "metadata": {},
   "outputs": [
    {
     "name": "stdout",
     "output_type": "stream",
     "text": [
      "              precision    recall  f1-score   support\n",
      "\n",
      "       False       0.61      0.66      0.63     27401\n",
      "        True       0.63      0.57      0.60     27242\n",
      "\n",
      "    accuracy                           0.62     54643\n",
      "   macro avg       0.62      0.62      0.62     54643\n",
      "weighted avg       0.62      0.62      0.62     54643\n",
      "\n"
     ]
    }
   ],
   "source": [
    "print(classification_report((target>=.5).flatten(), geonames_predictions>.5))"
   ]
  },
  {
   "cell_type": "code",
   "execution_count": 159,
   "id": "6f76abcc-8c09-4768-a84b-7b0f04900bc9",
   "metadata": {},
   "outputs": [
    {
     "data": {
      "text/html": [
       "<pre style=\"white-space:pre;overflow-x:auto;line-height:normal;font-family:Menlo,'DejaVu Sans Mono',consolas,'Courier New',monospace\"></pre>\n"
      ],
      "text/plain": []
     },
     "metadata": {},
     "output_type": "display_data"
    },
    {
     "data": {
      "text/html": [
       "<div>\n",
       "<style scoped>\n",
       "    .dataframe tbody tr th:only-of-type {\n",
       "        vertical-align: middle;\n",
       "    }\n",
       "\n",
       "    .dataframe tbody tr th {\n",
       "        vertical-align: top;\n",
       "    }\n",
       "\n",
       "    .dataframe thead th {\n",
       "        text-align: right;\n",
       "    }\n",
       "</style>\n",
       "<table border=\"1\" class=\"dataframe\">\n",
       "  <thead>\n",
       "    <tr style=\"text-align: right;\">\n",
       "      <th>col_0</th>\n",
       "      <th>False</th>\n",
       "      <th>True</th>\n",
       "    </tr>\n",
       "    <tr>\n",
       "      <th>row_0</th>\n",
       "      <th></th>\n",
       "      <th></th>\n",
       "    </tr>\n",
       "  </thead>\n",
       "  <tbody>\n",
       "    <tr>\n",
       "      <th>False</th>\n",
       "      <td>23164</td>\n",
       "      <td>4237</td>\n",
       "    </tr>\n",
       "    <tr>\n",
       "      <th>True</th>\n",
       "      <td>7350</td>\n",
       "      <td>19892</td>\n",
       "    </tr>\n",
       "  </tbody>\n",
       "</table>\n",
       "</div>"
      ],
      "text/plain": [
       "\n",
       "col_0  \u001b[3;91mFalse\u001b[0m  \u001b[3;92mTrue\u001b[0m \n",
       "row_0              \n",
       "\u001b[3;91mFalse\u001b[0m  \u001b[1;36m23164\u001b[0m   \u001b[1;36m4237\u001b[0m\n",
       "\u001b[3;92mTrue\u001b[0m    \u001b[1;36m7350\u001b[0m  \u001b[1;36m19892\u001b[0m"
      ]
     },
     "execution_count": 159,
     "metadata": {},
     "output_type": "execute_result"
    }
   ],
   "source": [
    "from fuzzywuzzy import fuzz\n",
    "\n",
    "token_set_predictions = np.array([fuzz.token_set_ratio(name1, name2)/100 for name1, name2 in name_pairs])>.75\n",
    "pd.crosstab((target>=.5).flatten(), token_set_predictions)"
   ]
  },
  {
   "cell_type": "code",
   "execution_count": 161,
   "id": "e121b341-177a-408f-848a-faaffde466e2",
   "metadata": {},
   "outputs": [
    {
     "name": "stdout",
     "output_type": "stream",
     "text": [
      "              precision    recall  f1-score   support\n",
      "\n",
      "       False       0.76      0.85      0.80     27401\n",
      "        True       0.82      0.73      0.77     27242\n",
      "\n",
      "    accuracy                           0.79     54643\n",
      "   macro avg       0.79      0.79      0.79     54643\n",
      "weighted avg       0.79      0.79      0.79     54643\n",
      "\n"
     ]
    }
   ],
   "source": [
    "print(classification_report((target>=.5).flatten(), token_set_predictions))"
   ]
  },
  {
   "cell_type": "code",
   "execution_count": null,
   "id": "f26e75ed-0afd-4d17-82b9-255bc2faf7c1",
   "metadata": {},
   "outputs": [],
   "source": []
  }
 ],
 "metadata": {
  "kernelspec": {
   "display_name": "Kedro (entity_name_matching_dnn)",
   "language": "python",
   "name": "kedro_entity_name_matching_dnn"
  },
  "language_info": {
   "codemirror_mode": {
    "name": "ipython",
    "version": 3
   },
   "file_extension": ".py",
   "mimetype": "text/x-python",
   "name": "python",
   "nbconvert_exporter": "python",
   "pygments_lexer": "ipython3",
   "version": "3.9.5"
  }
 },
 "nbformat": 4,
 "nbformat_minor": 5
}
