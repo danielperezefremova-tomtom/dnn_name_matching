{
 "cells": [
  {
   "cell_type": "code",
   "execution_count": 48,
   "id": "4a689f22",
   "metadata": {},
   "outputs": [],
   "source": [
    "import pandas as pd\n",
    "from pyspark.sql.functions import (col, rand, udf, collect_set, collect_list, concat, array_distinct, flatten, when, length)\n",
    "import pyspark.sql.functions as F\n",
    "from pyspark.sql.types import ArrayType, StringType, FloatType\n",
    "from unidecode import unidecode\n",
    "import re\n",
    "from functools import reduce\n",
    "import numpy as np\n",
    "import tensorflow as tf\n",
    "import keras\n",
    "from keras.models import Sequential\n",
    "from keras.layers import Dense, Dropout, GRU, Bidirectional, GlobalMaxPooling1D, Layer, Masking, Lambda, Permute\n",
    "import os\n",
    "import pickle\n",
    "from keras.layers import Bidirectional\n",
    "import matplotlib.pyplot as plt\n",
    "from sklearn.metrics import classification_report\n"
   ]
  },
  {
   "cell_type": "code",
   "execution_count": 2,
   "id": "40fe30d5",
   "metadata": {},
   "outputs": [],
   "source": [
    "#env: geoNames"
   ]
  },
  {
   "cell_type": "code",
   "execution_count": 3,
   "id": "81e8247a",
   "metadata": {},
   "outputs": [
    {
     "data": {
      "text/html": [
       "<pre style=\"white-space:pre;overflow-x:auto;line-height:normal;font-family:Menlo,'DejaVu Sans Mono',consolas,'Courier New',monospace\"></pre>\n"
      ],
      "text/plain": []
     },
     "metadata": {},
     "output_type": "display_data"
    },
    {
     "data": {
      "text/plain": [
       "\u001b[1m[\u001b[0m\u001b[32m'df_input'\u001b[0m, \u001b[32m'df_output'\u001b[0m, \u001b[32m'geonames_latin_pairs'\u001b[0m, \u001b[32m'parameters'\u001b[0m\u001b[1m]\u001b[0m"
      ]
     },
     "execution_count": 3,
     "metadata": {},
     "output_type": "execute_result"
    }
   ],
   "source": [
    "catalog.list()"
   ]
  },
  {
   "cell_type": "code",
   "execution_count": 4,
   "id": "5d835198",
   "metadata": {},
   "outputs": [
    {
     "data": {
      "text/html": [
       "<pre style=\"white-space:pre;overflow-x:auto;line-height:normal;font-family:Menlo,'DejaVu Sans Mono',consolas,'Courier New',monospace\"><span style=\"color: #7fbfbf; text-decoration-color: #7fbfbf\">[08/12/23 12:29:29] </span><span style=\"color: #000080; text-decoration-color: #000080\">INFO    </span> Loading data from <span style=\"color: #008000; text-decoration-color: #008000\">'geonames_latin_pairs'</span> <span style=\"font-weight: bold\">(</span>SparkDataSet<span style=\"font-weight: bold\">)</span><span style=\"color: #808000; text-decoration-color: #808000\">...</span>         <a href=\"file:///usr/local/lib/python3.9/dist-packages/kedro/io/data_catalog.py\" target=\"_blank\"><span style=\"color: #7f7f7f; text-decoration-color: #7f7f7f\">data_catalog.py</span></a><span style=\"color: #7f7f7f; text-decoration-color: #7f7f7f\">:</span><a href=\"file:///usr/local/lib/python3.9/dist-packages/kedro/io/data_catalog.py#475\" target=\"_blank\"><span style=\"color: #7f7f7f; text-decoration-color: #7f7f7f\">475</span></a>\n",
       "</pre>\n"
      ],
      "text/plain": [
       "\u001b[2;36m[08/12/23 12:29:29]\u001b[0m\u001b[2;36m \u001b[0m\u001b[34mINFO    \u001b[0m Loading data from \u001b[32m'geonames_latin_pairs'\u001b[0m \u001b[1m(\u001b[0mSparkDataSet\u001b[1m)\u001b[0m\u001b[33m...\u001b[0m         \u001b]8;id=147449;file:///usr/local/lib/python3.9/dist-packages/kedro/io/data_catalog.py\u001b\\\u001b[2mdata_catalog.py\u001b[0m\u001b]8;;\u001b\\\u001b[2m:\u001b[0m\u001b]8;id=268822;file:///usr/local/lib/python3.9/dist-packages/kedro/io/data_catalog.py#475\u001b\\\u001b[2m475\u001b[0m\u001b]8;;\u001b\\\n"
      ]
     },
     "metadata": {},
     "output_type": "display_data"
    },
    {
     "name": "stderr",
     "output_type": "stream",
     "text": [
      "                                                                                \r"
     ]
    }
   ],
   "source": [
    "geonames_pairs = catalog.load('geonames_latin_pairs')"
   ]
  },
  {
   "cell_type": "code",
   "execution_count": 5,
   "id": "f9769f1e-9c7f-4085-a53b-1e0300cc945b",
   "metadata": {},
   "outputs": [],
   "source": [
    "geonames_pairs = geonames_pairs.withColumn('target', when(col('match') == 'true', 1).otherwise(0).cast(FloatType()))"
   ]
  },
  {
   "cell_type": "code",
   "execution_count": 6,
   "id": "e153a082-5904-49a6-8305-e01f77903924",
   "metadata": {},
   "outputs": [
    {
     "name": "stderr",
     "output_type": "stream",
     "text": [
      "                                                                                \r"
     ]
    },
    {
     "data": {
      "text/html": [
       "<pre style=\"white-space:pre;overflow-x:auto;line-height:normal;font-family:Menlo,'DejaVu Sans Mono',consolas,'Courier New',monospace\"></pre>\n"
      ],
      "text/plain": []
     },
     "metadata": {},
     "output_type": "display_data"
    },
    {
     "data": {
      "text/html": [
       "<div>\n",
       "<style scoped>\n",
       "    .dataframe tbody tr th:only-of-type {\n",
       "        vertical-align: middle;\n",
       "    }\n",
       "\n",
       "    .dataframe tbody tr th {\n",
       "        vertical-align: top;\n",
       "    }\n",
       "\n",
       "    .dataframe thead th {\n",
       "        text-align: right;\n",
       "    }\n",
       "</style>\n",
       "<table border=\"1\" class=\"dataframe\">\n",
       "  <thead>\n",
       "    <tr style=\"text-align: right;\">\n",
       "      <th></th>\n",
       "      <th>language_1</th>\n",
       "      <th>count</th>\n",
       "    </tr>\n",
       "  </thead>\n",
       "  <tbody>\n",
       "    <tr>\n",
       "      <th>203</th>\n",
       "      <td>MK</td>\n",
       "      <td>10939</td>\n",
       "    </tr>\n",
       "    <tr>\n",
       "      <th>204</th>\n",
       "      <td>SD</td>\n",
       "      <td>10941</td>\n",
       "    </tr>\n",
       "    <tr>\n",
       "      <th>205</th>\n",
       "      <td>BD</td>\n",
       "      <td>11051</td>\n",
       "    </tr>\n",
       "    <tr>\n",
       "      <th>206</th>\n",
       "      <td>IL</td>\n",
       "      <td>11533</td>\n",
       "    </tr>\n",
       "    <tr>\n",
       "      <th>207</th>\n",
       "      <td>CZ</td>\n",
       "      <td>11808</td>\n",
       "    </tr>\n",
       "    <tr>\n",
       "      <th>208</th>\n",
       "      <td>AZ</td>\n",
       "      <td>12792</td>\n",
       "    </tr>\n",
       "    <tr>\n",
       "      <th>209</th>\n",
       "      <td>JO</td>\n",
       "      <td>12801</td>\n",
       "    </tr>\n",
       "    <tr>\n",
       "      <th>210</th>\n",
       "      <td>US</td>\n",
       "      <td>12893</td>\n",
       "    </tr>\n",
       "    <tr>\n",
       "      <th>211</th>\n",
       "      <td>AL</td>\n",
       "      <td>13844</td>\n",
       "    </tr>\n",
       "    <tr>\n",
       "      <th>212</th>\n",
       "      <td>LT</td>\n",
       "      <td>14028</td>\n",
       "    </tr>\n",
       "    <tr>\n",
       "      <th>213</th>\n",
       "      <td>BG</td>\n",
       "      <td>14278</td>\n",
       "    </tr>\n",
       "    <tr>\n",
       "      <th>214</th>\n",
       "      <td>FI</td>\n",
       "      <td>14607</td>\n",
       "    </tr>\n",
       "    <tr>\n",
       "      <th>215</th>\n",
       "      <td>CH</td>\n",
       "      <td>15824</td>\n",
       "    </tr>\n",
       "    <tr>\n",
       "      <th>216</th>\n",
       "      <td>KH</td>\n",
       "      <td>16805</td>\n",
       "    </tr>\n",
       "    <tr>\n",
       "      <th>217</th>\n",
       "      <td>KZ</td>\n",
       "      <td>16839</td>\n",
       "    </tr>\n",
       "    <tr>\n",
       "      <th>218</th>\n",
       "      <td>ES</td>\n",
       "      <td>17096</td>\n",
       "    </tr>\n",
       "    <tr>\n",
       "      <th>219</th>\n",
       "      <td>SA</td>\n",
       "      <td>17938</td>\n",
       "    </tr>\n",
       "    <tr>\n",
       "      <th>220</th>\n",
       "      <td>DE</td>\n",
       "      <td>18543</td>\n",
       "    </tr>\n",
       "    <tr>\n",
       "      <th>221</th>\n",
       "      <td>PL</td>\n",
       "      <td>19144</td>\n",
       "    </tr>\n",
       "    <tr>\n",
       "      <th>222</th>\n",
       "      <td>TN</td>\n",
       "      <td>19699</td>\n",
       "    </tr>\n",
       "    <tr>\n",
       "      <th>223</th>\n",
       "      <td>RO</td>\n",
       "      <td>19784</td>\n",
       "    </tr>\n",
       "    <tr>\n",
       "      <th>224</th>\n",
       "      <td>BY</td>\n",
       "      <td>21121</td>\n",
       "    </tr>\n",
       "    <tr>\n",
       "      <th>225</th>\n",
       "      <td>BR</td>\n",
       "      <td>21697</td>\n",
       "    </tr>\n",
       "    <tr>\n",
       "      <th>226</th>\n",
       "      <td>IN</td>\n",
       "      <td>24457</td>\n",
       "    </tr>\n",
       "    <tr>\n",
       "      <th>227</th>\n",
       "      <td>LY</td>\n",
       "      <td>26685</td>\n",
       "    </tr>\n",
       "    <tr>\n",
       "      <th>228</th>\n",
       "      <td>MA</td>\n",
       "      <td>28351</td>\n",
       "    </tr>\n",
       "    <tr>\n",
       "      <th>229</th>\n",
       "      <td>VN</td>\n",
       "      <td>28940</td>\n",
       "    </tr>\n",
       "    <tr>\n",
       "      <th>230</th>\n",
       "      <td>LB</td>\n",
       "      <td>31226</td>\n",
       "    </tr>\n",
       "    <tr>\n",
       "      <th>231</th>\n",
       "      <td>KP</td>\n",
       "      <td>33589</td>\n",
       "    </tr>\n",
       "    <tr>\n",
       "      <th>232</th>\n",
       "      <td>ID</td>\n",
       "      <td>35802</td>\n",
       "    </tr>\n",
       "    <tr>\n",
       "      <th>233</th>\n",
       "      <td>MX</td>\n",
       "      <td>37547</td>\n",
       "    </tr>\n",
       "    <tr>\n",
       "      <th>234</th>\n",
       "      <td>UA</td>\n",
       "      <td>39231</td>\n",
       "    </tr>\n",
       "    <tr>\n",
       "      <th>235</th>\n",
       "      <td>YE</td>\n",
       "      <td>40943</td>\n",
       "    </tr>\n",
       "    <tr>\n",
       "      <th>236</th>\n",
       "      <td>GR</td>\n",
       "      <td>41502</td>\n",
       "    </tr>\n",
       "    <tr>\n",
       "      <th>237</th>\n",
       "      <td>SY</td>\n",
       "      <td>45737</td>\n",
       "    </tr>\n",
       "    <tr>\n",
       "      <th>238</th>\n",
       "      <td>EG</td>\n",
       "      <td>47493</td>\n",
       "    </tr>\n",
       "    <tr>\n",
       "      <th>239</th>\n",
       "      <td>SE</td>\n",
       "      <td>47650</td>\n",
       "    </tr>\n",
       "    <tr>\n",
       "      <th>240</th>\n",
       "      <td>TR</td>\n",
       "      <td>49718</td>\n",
       "    </tr>\n",
       "    <tr>\n",
       "      <th>241</th>\n",
       "      <td>PK</td>\n",
       "      <td>55530</td>\n",
       "    </tr>\n",
       "    <tr>\n",
       "      <th>242</th>\n",
       "      <td>FR</td>\n",
       "      <td>58277</td>\n",
       "    </tr>\n",
       "    <tr>\n",
       "      <th>243</th>\n",
       "      <td>IQ</td>\n",
       "      <td>59890</td>\n",
       "    </tr>\n",
       "    <tr>\n",
       "      <th>244</th>\n",
       "      <td>JP</td>\n",
       "      <td>81481</td>\n",
       "    </tr>\n",
       "    <tr>\n",
       "      <th>245</th>\n",
       "      <td>TW</td>\n",
       "      <td>85863</td>\n",
       "    </tr>\n",
       "    <tr>\n",
       "      <th>246</th>\n",
       "      <td>KR</td>\n",
       "      <td>104579</td>\n",
       "    </tr>\n",
       "    <tr>\n",
       "      <th>247</th>\n",
       "      <td>NO</td>\n",
       "      <td>109708</td>\n",
       "    </tr>\n",
       "    <tr>\n",
       "      <th>248</th>\n",
       "      <td>AF</td>\n",
       "      <td>171604</td>\n",
       "    </tr>\n",
       "    <tr>\n",
       "      <th>249</th>\n",
       "      <td>TH</td>\n",
       "      <td>174396</td>\n",
       "    </tr>\n",
       "    <tr>\n",
       "      <th>250</th>\n",
       "      <td>RU</td>\n",
       "      <td>234588</td>\n",
       "    </tr>\n",
       "    <tr>\n",
       "      <th>251</th>\n",
       "      <td>IR</td>\n",
       "      <td>282669</td>\n",
       "    </tr>\n",
       "    <tr>\n",
       "      <th>252</th>\n",
       "      <td>CN</td>\n",
       "      <td>503487</td>\n",
       "    </tr>\n",
       "  </tbody>\n",
       "</table>\n",
       "</div>"
      ],
      "text/plain": [
       "\n",
       "    language_1   count\n",
       "\u001b[1;36m203\u001b[0m         MK   \u001b[1;36m10939\u001b[0m\n",
       "\u001b[1;36m204\u001b[0m         SD   \u001b[1;36m10941\u001b[0m\n",
       "\u001b[1;36m205\u001b[0m         BD   \u001b[1;36m11051\u001b[0m\n",
       "\u001b[1;36m206\u001b[0m         IL   \u001b[1;36m11533\u001b[0m\n",
       "\u001b[1;36m207\u001b[0m         CZ   \u001b[1;36m11808\u001b[0m\n",
       "\u001b[1;36m208\u001b[0m         AZ   \u001b[1;36m12792\u001b[0m\n",
       "\u001b[1;36m209\u001b[0m         JO   \u001b[1;36m12801\u001b[0m\n",
       "\u001b[1;36m210\u001b[0m         US   \u001b[1;36m12893\u001b[0m\n",
       "\u001b[1;36m211\u001b[0m         AL   \u001b[1;36m13844\u001b[0m\n",
       "\u001b[1;36m212\u001b[0m         LT   \u001b[1;36m14028\u001b[0m\n",
       "\u001b[1;36m213\u001b[0m         BG   \u001b[1;36m14278\u001b[0m\n",
       "\u001b[1;36m214\u001b[0m         FI   \u001b[1;36m14607\u001b[0m\n",
       "\u001b[1;36m215\u001b[0m         CH   \u001b[1;36m15824\u001b[0m\n",
       "\u001b[1;36m216\u001b[0m         KH   \u001b[1;36m16805\u001b[0m\n",
       "\u001b[1;36m217\u001b[0m         KZ   \u001b[1;36m16839\u001b[0m\n",
       "\u001b[1;36m218\u001b[0m         ES   \u001b[1;36m17096\u001b[0m\n",
       "\u001b[1;36m219\u001b[0m         SA   \u001b[1;36m17938\u001b[0m\n",
       "\u001b[1;36m220\u001b[0m         DE   \u001b[1;36m18543\u001b[0m\n",
       "\u001b[1;36m221\u001b[0m         PL   \u001b[1;36m19144\u001b[0m\n",
       "\u001b[1;36m222\u001b[0m         TN   \u001b[1;36m19699\u001b[0m\n",
       "\u001b[1;36m223\u001b[0m         RO   \u001b[1;36m19784\u001b[0m\n",
       "\u001b[1;36m224\u001b[0m         BY   \u001b[1;36m21121\u001b[0m\n",
       "\u001b[1;36m225\u001b[0m         BR   \u001b[1;36m21697\u001b[0m\n",
       "\u001b[1;36m226\u001b[0m         IN   \u001b[1;36m24457\u001b[0m\n",
       "\u001b[1;36m227\u001b[0m         LY   \u001b[1;36m26685\u001b[0m\n",
       "\u001b[1;36m228\u001b[0m         MA   \u001b[1;36m28351\u001b[0m\n",
       "\u001b[1;36m229\u001b[0m         VN   \u001b[1;36m28940\u001b[0m\n",
       "\u001b[1;36m230\u001b[0m         LB   \u001b[1;36m31226\u001b[0m\n",
       "\u001b[1;36m231\u001b[0m         KP   \u001b[1;36m33589\u001b[0m\n",
       "\u001b[1;36m232\u001b[0m         ID   \u001b[1;36m35802\u001b[0m\n",
       "\u001b[1;36m233\u001b[0m         MX   \u001b[1;36m37547\u001b[0m\n",
       "\u001b[1;36m234\u001b[0m         UA   \u001b[1;36m39231\u001b[0m\n",
       "\u001b[1;36m235\u001b[0m         YE   \u001b[1;36m40943\u001b[0m\n",
       "\u001b[1;36m236\u001b[0m         GR   \u001b[1;36m41502\u001b[0m\n",
       "\u001b[1;36m237\u001b[0m         SY   \u001b[1;36m45737\u001b[0m\n",
       "\u001b[1;36m238\u001b[0m         EG   \u001b[1;36m47493\u001b[0m\n",
       "\u001b[1;36m239\u001b[0m         SE   \u001b[1;36m47650\u001b[0m\n",
       "\u001b[1;36m240\u001b[0m         TR   \u001b[1;36m49718\u001b[0m\n",
       "\u001b[1;36m241\u001b[0m         PK   \u001b[1;36m55530\u001b[0m\n",
       "\u001b[1;36m242\u001b[0m         FR   \u001b[1;36m58277\u001b[0m\n",
       "\u001b[1;36m243\u001b[0m         IQ   \u001b[1;36m59890\u001b[0m\n",
       "\u001b[1;36m244\u001b[0m         JP   \u001b[1;36m81481\u001b[0m\n",
       "\u001b[1;36m245\u001b[0m         TW   \u001b[1;36m85863\u001b[0m\n",
       "\u001b[1;36m246\u001b[0m         KR  \u001b[1;36m104579\u001b[0m\n",
       "\u001b[1;36m247\u001b[0m         NO  \u001b[1;36m109708\u001b[0m\n",
       "\u001b[1;36m248\u001b[0m         AF  \u001b[1;36m171604\u001b[0m\n",
       "\u001b[1;36m249\u001b[0m         TH  \u001b[1;36m174396\u001b[0m\n",
       "\u001b[1;36m250\u001b[0m         RU  \u001b[1;36m234588\u001b[0m\n",
       "\u001b[1;36m251\u001b[0m         IR  \u001b[1;36m282669\u001b[0m\n",
       "\u001b[1;36m252\u001b[0m         CN  \u001b[1;36m503487\u001b[0m"
      ]
     },
     "execution_count": 6,
     "metadata": {},
     "output_type": "execute_result"
    }
   ],
   "source": [
    "\n",
    "geonames_pairs.groupBy('language_1').count().orderBy('count').toPandas().tail(50)"
   ]
  },
  {
   "cell_type": "markdown",
   "id": "9ac77eab",
   "metadata": {},
   "source": [
    "# 1. POC with Spain and Mexico"
   ]
  },
  {
   "cell_type": "code",
   "execution_count": 7,
   "id": "0dafd012-7a58-430b-84a7-a1d035ab0463",
   "metadata": {},
   "outputs": [],
   "source": [
    "geonames_pairs_es = geonames_pairs.filter(col('language_1').isin(['ES', 'MX']))"
   ]
  },
  {
   "cell_type": "code",
   "execution_count": 8,
   "id": "7dfeaceb-c4aa-4836-bf67-3bd0a0acedd5",
   "metadata": {},
   "outputs": [
    {
     "name": "stdout",
     "output_type": "stream",
     "text": [
      "+--------------------+--------------------+--------+--------+----------+----------+----------+----------+-----+------+\n",
      "|              name_1|              name_2|    id_1|    id_2|alphabet_1|alphabet_2|language_1|language_2|match|target|\n",
      "+--------------------+--------------------+--------+--------+----------+----------+----------+----------+-----+------+\n",
      "|              Atoyac|          Rio Atojac| 3532571| 3532572|     LATIN|     LATIN|        MX|        MX|false|   0.0|\n",
      "|           La Cumbre|      Cerro Natiltón| 9624088| 9624363|     LATIN|     LATIN|        MX|        MX|false|   0.0|\n",
      "|Salinas de El Cab...|        Cabo de Gata| 2518666| 2518667|     LATIN|     LATIN|        ES|        ES|false|   0.0|\n",
      "|               Palma|            La Palma| 3525283| 3525287|     LATIN|     LATIN|        MX|        MX|false|   0.0|\n",
      "|   Caserio La Parata|   Caserio la Paloma| 2515676| 2515678|     LATIN|     LATIN|        ES|        ES|false|   0.0|\n",
      "|        Chichen Itza|         Chichen-Ica| 3530977| 3530978|     LATIN|     LATIN|        MX|        MX|false|   0.0|\n",
      "|          Bacamacari|    Rio Bacadehuachi| 4017834| 4017836|     LATIN|     LATIN|        MX|        MX|false|   0.0|\n",
      "|         El Bañadero|El Bajio de Santa...| 9275462| 9275607|     LATIN|     LATIN|        MX|        MX|false|   0.0|\n",
      "|Puerto Deportivo ...|Puerto de Los Cri...|10859003|10860702|     LATIN|     LATIN|        ES|        ES|false|   0.0|\n",
      "|         Las Aguilas|       Cerro El Leon|11181212|11181230|     LATIN|     LATIN|        MX|        MX|false|   0.0|\n",
      "|           San Lucas|  San Lucas Camotlán| 3518518| 3518519|     LATIN|     LATIN|        MX|        MX|false|   0.0|\n",
      "|        Apipilhuazco|             Epazote| 3532796| 3532800|     LATIN|     LATIN|        MX|        MX|false|   0.0|\n",
      "|     Estacion Torres|Francisco Sarabia...| 3981223| 3981230|     LATIN|     LATIN|        MX|        MX|false|   0.0|\n",
      "|Caserio Venta Cab...|          Venta Alta| 2509741| 2509743|     LATIN|     LATIN|        ES|        ES|false|   0.0|\n",
      "|San Bartolome Tir...|       San Bartolome| 2511440| 2511444|     LATIN|     LATIN|        ES|        ES|false|   0.0|\n",
      "|        Mina Sauceda|       Bajío Sauceda| 3983353| 3983355|     LATIN|     LATIN|        MX|        MX|false|   0.0|\n",
      "| Barriada El Cañuelo|   Caserío El Cantón| 2518617| 2518618|     LATIN|     LATIN|        ES|        ES|false|   0.0|\n",
      "|         Rio Durango|     Rio San Antonio| 9192684| 9192920|     LATIN|     LATIN|        MX|        MX|false|   0.0|\n",
      "|Agua Blanca de la...|  Sierra Agua Blanca| 4019635| 4019639|     LATIN|     LATIN|        MX|        MX|false|   0.0|\n",
      "|      Bachigualatito|         Bachamuchic| 4017796| 4017799|     LATIN|     LATIN|        MX|        MX|false|   0.0|\n",
      "+--------------------+--------------------+--------+--------+----------+----------+----------+----------+-----+------+\n",
      "only showing top 20 rows\n",
      "\n"
     ]
    }
   ],
   "source": [
    "geonames_pairs_es.show()"
   ]
  },
  {
   "cell_type": "markdown",
   "id": "0c853998-de01-4ee0-b2dd-88486dd74781",
   "metadata": {},
   "source": [
    "# 2. Function to normalize names"
   ]
  },
  {
   "cell_type": "markdown",
   "id": "4151d55b-eea0-4f85-9eb3-546b6fe96cd8",
   "metadata": {},
   "source": [
    "Requirements:\n",
    "\n",
    "* Transform to unicode characters (utf-8)\n",
    "* remove whitespaces"
   ]
  },
  {
   "cell_type": "code",
   "execution_count": 9,
   "id": "5a80a74d-63b6-4c7c-9aa5-952c4edca331",
   "metadata": {},
   "outputs": [],
   "source": [
    "def normalize_characters(text: str) -> str:\n",
    "    \n",
    "    if text is None:\n",
    "        return ''\n",
    "\n",
    "    strange_char_space = r\"!#$%&()*+,./:;<=>?@[\\]^_{|}~ºª®-\"\n",
    "    char_2_remove = \"\\\"'^`\"\n",
    "    space_mask = \"                                \"\n",
    "    punctuation_table = str.maketrans(strange_char_space, space_mask,\n",
    "                                        char_2_remove)\n",
    "    text = text.lower()\n",
    "    text = text.strip()\n",
    "    text = unidecode(text)\n",
    "    text = text.translate(punctuation_table)\n",
    "    text = re.sub(r' +', ' ', text)\n",
    "    text = text.strip()\n",
    "    text = text.lower()\n",
    "\n",
    "    return text"
   ]
  },
  {
   "cell_type": "code",
   "execution_count": 10,
   "id": "6a48c848-5dbf-4a6c-afeb-f9593c95d5d7",
   "metadata": {},
   "outputs": [],
   "source": [
    "udf_normalize_chars = udf(normalize_characters)"
   ]
  },
  {
   "cell_type": "code",
   "execution_count": 11,
   "id": "d9f20a60-d9ce-4854-a23e-48da0af4415e",
   "metadata": {},
   "outputs": [],
   "source": [
    "geonames_normalized = geonames_pairs_es.withColumn('name_1_normalized', udf_normalize_chars(col('name_1'))) \\\n",
    "                .withColumn('name_2_normalized', udf_normalize_chars(col('name_2')))\n",
    "                            "
   ]
  },
  {
   "cell_type": "markdown",
   "id": "843e9da3-86ac-4b4f-9e41-c01d83bc8469",
   "metadata": {},
   "source": [
    "# 3. Function to generate vocabulary"
   ]
  },
  {
   "cell_type": "code",
   "execution_count": 12,
   "id": "4879fcf5-a024-4dad-8100-a505fe3c55a9",
   "metadata": {},
   "outputs": [],
   "source": [
    "def get_unique_characters(string: str) -> list:\n",
    "\n",
    "    unique_characters = list(set(string))\n",
    "    return unique_characters\n",
    "\n",
    "udf_get_unique_characters = udf(get_unique_characters, ArrayType(StringType()))\n",
    "\n",
    "\n",
    "def compute_max_word_len(string: str) -> int:\n",
    "    return max([len(word) for word in string.split(' ')])\n",
    "\n",
    "udf_compute_max_word_len = udf(compute_max_word_len)\n",
    "\n",
    "def compute_token_count(string: str) -> int:\n",
    "    return len([word for word in string.split(' ')])\n",
    "\n",
    "udf_compute_token_count = udf(compute_token_count)"
   ]
  },
  {
   "cell_type": "code",
   "execution_count": 13,
   "id": "aeb72def-9e58-479e-9450-dabde9101a09",
   "metadata": {},
   "outputs": [],
   "source": [
    "geonames_characters = geonames_normalized.withColumn('unique_characters_1', udf_get_unique_characters(col('name_1_normalized'))) \\\n",
    "                                        .withColumn('unique_characters_2', udf_get_unique_characters(col('name_2_normalized'))) \\\n",
    "                                        .withColumn('unique_characters', array_distinct(concat(col('unique_characters_1'), col('unique_characters_2')))) \\\n",
    "                                        .withColumn('max_word_len_1', udf_compute_max_word_len(col('name_1_normalized')).cast(FloatType())) \\\n",
    "                                        .withColumn('max_word_len_2', udf_compute_max_word_len(col('name_2_normalized')).cast(FloatType())) \\\n",
    "                                        .withColumn('max_token_num_1', udf_compute_token_count(col('name_1_normalized')).cast(FloatType())) \\\n",
    "                                        .withColumn('max_token_num_2', udf_compute_token_count(col('name_2_normalized')).cast(FloatType())) \\\n",
    "                                        .withColumn('max_len_1', length(col('name_1_normalized')).cast(FloatType())) \\\n",
    "                                        .withColumn('max_len_2', length(col('name_2_normalized')).cast(FloatType()))"
   ]
  },
  {
   "cell_type": "code",
   "execution_count": 14,
   "id": "4cf6c390-dc80-4f65-b9d8-7a2152e7be10",
   "metadata": {},
   "outputs": [
    {
     "name": "stdout",
     "output_type": "stream",
     "text": [
      "root\n",
      " |-- name_1: string (nullable = true)\n",
      " |-- name_2: string (nullable = true)\n",
      " |-- id_1: integer (nullable = true)\n",
      " |-- id_2: integer (nullable = true)\n",
      " |-- alphabet_1: string (nullable = true)\n",
      " |-- alphabet_2: string (nullable = true)\n",
      " |-- language_1: string (nullable = true)\n",
      " |-- language_2: string (nullable = true)\n",
      " |-- match: string (nullable = true)\n",
      " |-- target: float (nullable = false)\n",
      " |-- name_1_normalized: string (nullable = true)\n",
      " |-- name_2_normalized: string (nullable = true)\n",
      " |-- unique_characters_1: array (nullable = true)\n",
      " |    |-- element: string (containsNull = true)\n",
      " |-- unique_characters_2: array (nullable = true)\n",
      " |    |-- element: string (containsNull = true)\n",
      " |-- unique_characters: array (nullable = true)\n",
      " |    |-- element: string (containsNull = true)\n",
      " |-- max_word_len_1: float (nullable = true)\n",
      " |-- max_word_len_2: float (nullable = true)\n",
      " |-- max_token_num_1: float (nullable = true)\n",
      " |-- max_token_num_2: float (nullable = true)\n",
      " |-- max_len_1: float (nullable = true)\n",
      " |-- max_len_2: float (nullable = true)\n",
      "\n"
     ]
    }
   ],
   "source": [
    "geonames_characters.printSchema()"
   ]
  },
  {
   "cell_type": "code",
   "execution_count": 15,
   "id": "d4c4a6a6-437b-40af-aeae-a26d084e5f21",
   "metadata": {},
   "outputs": [
    {
     "name": "stderr",
     "output_type": "stream",
     "text": [
      "[Stage 10:>                                                         (0 + 1) / 1]\r"
     ]
    },
    {
     "name": "stdout",
     "output_type": "stream",
     "text": [
      "+--------------------+--------------------+--------+--------+----------+----------+----------+----------+-----+------+--------------------+--------------------+--------------------+--------------------+--------------------+--------------+--------------+---------------+---------------+---------+---------+\n",
      "|              name_1|              name_2|    id_1|    id_2|alphabet_1|alphabet_2|language_1|language_2|match|target|   name_1_normalized|   name_2_normalized| unique_characters_1| unique_characters_2|   unique_characters|max_word_len_1|max_word_len_2|max_token_num_1|max_token_num_2|max_len_1|max_len_2|\n",
      "+--------------------+--------------------+--------+--------+----------+----------+----------+----------+-----+------+--------------------+--------------------+--------------------+--------------------+--------------------+--------------+--------------+---------------+---------------+---------+---------+\n",
      "|              Atoyac|          Rio Atojac| 3532571| 3532572|     LATIN|     LATIN|        MX|        MX|false|   0.0|              atoyac|          rio atojac|     [o, a, t, c, y]|[o, r, i, a, t, j...|[o, a, t, c, y, r...|           6.0|           6.0|            1.0|            2.0|      6.0|     10.0|\n",
      "|           La Cumbre|      Cerro Natiltón| 9624088| 9624363|     LATIN|     LATIN|        MX|        MX|false|   0.0|           la cumbre|      cerro natilton|[b, r, a, m,  , c...|[n, o, r, a, i, t...|[b, r, a, m,  , c...|           6.0|           8.0|            2.0|            2.0|      9.0|     14.0|\n",
      "|Salinas de El Cab...|        Cabo de Gata| 2518666| 2518667|     LATIN|     LATIN|        ES|        ES|false|   0.0|salinas de el cab...|        cabo de gata|[n, b, o, i, a, t...|[b, o, a, t, d, g...|[n, b, o, i, a, t...|           7.0|           4.0|            6.0|            3.0|     26.0|     12.0|\n",
      "|               Palma|            La Palma| 3525283| 3525287|     LATIN|     LATIN|        MX|        MX|false|   0.0|               palma|            la palma|        [l, a, p, m]|     [a, m, p,  , l]|     [l, a, p, m,  ]|           5.0|           5.0|            1.0|            2.0|      5.0|      8.0|\n",
      "|   Caserio La Parata|   Caserio la Paloma| 2515676| 2515678|     LATIN|     LATIN|        ES|        ES|false|   0.0|   caserio la parata|   caserio la paloma|[o, r, a, i, t, p...|[o, r, a, i, m, p...|[o, r, a, i, t, p...|           7.0|           7.0|            3.0|            3.0|     17.0|     17.0|\n",
      "|        Chichen Itza|         Chichen-Ica| 3530977| 3530978|     LATIN|     LATIN|        MX|        MX|false|   0.0|        chichen itza|         chichen ica|[n, h, z, i, a, t...|[n, h, i, a, c,  ...|[n, h, z, i, a, t...|           7.0|           7.0|            2.0|            2.0|     12.0|     11.0|\n",
      "|          Bacamacari|    Rio Bacadehuachi| 4017834| 4017836|     LATIN|     LATIN|        MX|        MX|false|   0.0|          bacamacari|    rio bacadehuachi|  [b, r, a, m, i, c]|[b, h, o, r, i, a...|[b, r, a, m, i, c...|          10.0|          12.0|            1.0|            2.0|     10.0|     16.0|\n",
      "|         El Bañadero|El Bajio de Santa...| 9275462| 9275607|     LATIN|     LATIN|        MX|        MX|false|   0.0|         el banadero|el bajio de santa...|[n, b, o, r, a, d...|[n, b, o, i, a, j...|[n, b, o, r, a, d...|           8.0|           5.0|            2.0|            5.0|     11.0|     22.0|\n",
      "|Puerto Deportivo ...|Puerto de Los Cri...|10859003|10860702|     LATIN|     LATIN|        ES|        ES|false|   0.0|puerto deportivo ...|puerto de los cri...|[v, b, o, r, i, m...|[n, o, r, i, a, t...|[v, b, o, r, i, m...|           9.0|          10.0|            4.0|            4.0|     28.0|     24.0|\n",
      "|         Las Aguilas|       Cerro El Leon|11181212|11181230|     LATIN|     LATIN|        MX|        MX|false|   0.0|         las aguilas|       cerro el leon|[i, a, g, s,  , l...|[n, o, r, c,  , l...|[i, a, g, s,  , l...|           7.0|           5.0|            2.0|            3.0|     11.0|     13.0|\n",
      "|           San Lucas|  San Lucas Camotlán| 3518518| 3518519|     LATIN|     LATIN|        MX|        MX|false|   0.0|           san lucas|  san lucas camotlan|[n, a, s, c,  , l...|[n, o, a, m, t, s...|[n, a, s, c,  , l...|           5.0|           8.0|            2.0|            3.0|      9.0|     18.0|\n",
      "|        Apipilhuazco|             Epazote| 3532796| 3532800|     LATIN|     LATIN|        MX|        MX|false|   0.0|        apipilhuazco|             epazote|[h, o, i, a, p, c...|  [o, z, a, t, p, e]|[h, o, i, a, p, c...|          12.0|           7.0|            1.0|            1.0|     12.0|      7.0|\n",
      "|     Estacion Torres|Francisco Sarabia...| 3981223| 3981230|     LATIN|     LATIN|        MX|        MX|false|   0.0|     estacion torres|francisco sarabia...|[n, o, i, a, r, t...|[n, b, o, r, a, i...|[n, o, i, a, r, t...|           8.0|          13.0|            2.0|            4.0|     15.0|     39.0|\n",
      "|Caserio Venta Cab...|          Venta Alta| 2509741| 2509743|     LATIN|     LATIN|        ES|        ES|false|   0.0|caserio venta cab...|          venta alta|[v, n, b, o, r, a...|[n, a, t,  , v, l...|[v, n, b, o, r, a...|           7.0|           5.0|            3.0|            2.0|     21.0|     10.0|\n",
      "|San Bartolome Tir...|       San Bartolome| 2511440| 2511444|     LATIN|     LATIN|        ES|        ES|false|   0.0|san bartolome tir...|       san bartolome|[n, b, o, r, a, m...|[n, b, o, r, a, m...|[n, b, o, r, a, m...|           9.0|           9.0|            3.0|            2.0|     22.0|     13.0|\n",
      "|        Mina Sauceda|       Bajío Sauceda| 3983353| 3983355|     LATIN|     LATIN|        MX|        MX|false|   0.0|        mina sauceda|       bajio sauceda|[n, i, m, a, d, s...|[b, o, i, a, j, d...|[n, i, m, a, d, s...|           7.0|           7.0|            2.0|            2.0|     12.0|     13.0|\n",
      "| Barriada El Cañuelo|   Caserío El Cantón| 2518617| 2518618|     LATIN|     LATIN|        ES|        ES|false|   0.0| barriada el canuelo|   caserio el canton|[n, b, o, r, a, i...|[n, o, r, a, i, t...|[n, b, o, r, a, i...|           8.0|           7.0|            3.0|            3.0|     19.0|     17.0|\n",
      "|         Rio Durango|     Rio San Antonio| 9192684| 9192920|     LATIN|     LATIN|        MX|        MX|false|   0.0|         rio durango|     rio san antonio|[n, o, r, i, a, d...|[n, o, r, i, a, t...|[n, o, r, i, a, d...|           7.0|           7.0|            2.0|            3.0|     11.0|     15.0|\n",
      "|Agua Blanca de la...|  Sierra Agua Blanca| 4019635| 4019639|     LATIN|     LATIN|        MX|        MX|false|   0.0|agua blanca de la...|  sierra agua blanca|[n, b, q, r, a, d...|[n, b, i, a, r, s...|[n, b, q, r, a, d...|           8.0|           6.0|            5.0|            3.0|     26.0|     18.0|\n",
      "|      Bachigualatito|         Bachamuchic| 4017796| 4017799|     LATIN|     LATIN|        MX|        MX|false|   0.0|      bachigualatito|         bachamuchic|[b, h, o, i, a, t...|[b, h, i, a, m, c...|[b, h, o, i, a, t...|          14.0|          11.0|            1.0|            1.0|     14.0|     11.0|\n",
      "+--------------------+--------------------+--------+--------+----------+----------+----------+----------+-----+------+--------------------+--------------------+--------------------+--------------------+--------------------+--------------+--------------+---------------+---------------+---------+---------+\n",
      "only showing top 20 rows\n",
      "\n"
     ]
    },
    {
     "name": "stderr",
     "output_type": "stream",
     "text": [
      "                                                                                \r"
     ]
    }
   ],
   "source": [
    "geonames_characters.show()"
   ]
  },
  {
   "cell_type": "code",
   "execution_count": 16,
   "id": "e21d6a8c-4958-4c5b-98f7-aac3845e4245",
   "metadata": {},
   "outputs": [],
   "source": [
    "geonames_char_list = geonames_characters.groupBy().agg(\n",
    "    array_distinct(flatten(collect_set(col('unique_characters')))).alias('char_list'),\n",
    "    F.max(col('max_word_len_1')).alias('max_len_1'),\n",
    "    F.max(col('max_word_len_2')).alias('max_len_2'),\n",
    "    F.max(col('max_token_num_2')).alias('max_num_2'),\n",
    "    F.max(col('max_token_num_1')).alias('max_num_1'),\n",
    "    F.max(col('max_len_1')).alias('max_len_1'),\n",
    "    F.max(col('max_len_2')).alias('max_len_1')\n",
    ")"
   ]
  },
  {
   "cell_type": "code",
   "execution_count": 17,
   "id": "435a7fd3-2b3c-4205-b288-95b2ea10ed08",
   "metadata": {},
   "outputs": [
    {
     "name": "stderr",
     "output_type": "stream",
     "text": [
      "[Stage 11:=================================================>      (14 + 2) / 16]\r"
     ]
    },
    {
     "name": "stdout",
     "output_type": "stream",
     "text": [
      "+--------------------+---------+---------+---------+---------+---------+---------+\n",
      "|           char_list|max_len_1|max_len_2|max_num_2|max_num_1|max_len_1|max_len_1|\n",
      "+--------------------+---------+---------+---------+---------+---------+---------+\n",
      "|[n, h, o, r, a, d...|     27.0|     27.0|     18.0|     14.0|     96.0|    111.0|\n",
      "+--------------------+---------+---------+---------+---------+---------+---------+\n",
      "\n"
     ]
    },
    {
     "name": "stderr",
     "output_type": "stream",
     "text": [
      "                                                                                \r"
     ]
    }
   ],
   "source": [
    "geonames_char_list.show()"
   ]
  },
  {
   "cell_type": "code",
   "execution_count": 19,
   "id": "2c7c39dd-51f2-4c32-83e8-375848c3ae6f",
   "metadata": {},
   "outputs": [
    {
     "name": "stderr",
     "output_type": "stream",
     "text": [
      "                                                                                \r"
     ]
    }
   ],
   "source": [
    "characters_list = geonames_char_list.rdd.map(lambda x: x.char_list).collect()[0]\n",
    "sorted_char_list = sorted(characters_list)"
   ]
  },
  {
   "cell_type": "markdown",
   "id": "b87c9a47-d5dd-419d-a0a3-3e3356a3b8d7",
   "metadata": {},
   "source": [
    "# 4. One Hot encoder"
   ]
  },
  {
   "cell_type": "code",
   "execution_count": 20,
   "id": "6edd9435-5664-4ccf-a1ab-9209d8576c46",
   "metadata": {},
   "outputs": [],
   "source": [
    "char_to_index = {char: index for index, char in enumerate(sorted_char_list)}\n",
    "index_to_char = {index: char for char, index in char_to_index.items()}\n",
    "MAX_WORD_LENGTH = 16\n",
    "MAX_TOKEN_NUMBER = 8\n",
    "MAX_NAME_LEN = 100"
   ]
  },
  {
   "cell_type": "code",
   "execution_count": 21,
   "id": "a2cc8fc2-1c79-4b8d-8528-c9ffdeed5eef",
   "metadata": {},
   "outputs": [
    {
     "data": {
      "text/html": [
       "<pre style=\"white-space:pre;overflow-x:auto;line-height:normal;font-family:Menlo,'DejaVu Sans Mono',consolas,'Courier New',monospace\"></pre>\n"
      ],
      "text/plain": []
     },
     "metadata": {},
     "output_type": "display_data"
    },
    {
     "data": {
      "text/plain": [
       "\n",
       "\u001b[1m{\u001b[0m\n",
       "    \u001b[32m' '\u001b[0m: \u001b[1;36m0\u001b[0m,\n",
       "    \u001b[32m'0'\u001b[0m: \u001b[1;36m1\u001b[0m,\n",
       "    \u001b[32m'1'\u001b[0m: \u001b[1;36m2\u001b[0m,\n",
       "    \u001b[32m'2'\u001b[0m: \u001b[1;36m3\u001b[0m,\n",
       "    \u001b[32m'3'\u001b[0m: \u001b[1;36m4\u001b[0m,\n",
       "    \u001b[32m'4'\u001b[0m: \u001b[1;36m5\u001b[0m,\n",
       "    \u001b[32m'5'\u001b[0m: \u001b[1;36m6\u001b[0m,\n",
       "    \u001b[32m'6'\u001b[0m: \u001b[1;36m7\u001b[0m,\n",
       "    \u001b[32m'7'\u001b[0m: \u001b[1;36m8\u001b[0m,\n",
       "    \u001b[32m'8'\u001b[0m: \u001b[1;36m9\u001b[0m,\n",
       "    \u001b[32m'9'\u001b[0m: \u001b[1;36m10\u001b[0m,\n",
       "    \u001b[32m'a'\u001b[0m: \u001b[1;36m11\u001b[0m,\n",
       "    \u001b[32m'b'\u001b[0m: \u001b[1;36m12\u001b[0m,\n",
       "    \u001b[32m'c'\u001b[0m: \u001b[1;36m13\u001b[0m,\n",
       "    \u001b[32m'd'\u001b[0m: \u001b[1;36m14\u001b[0m,\n",
       "    \u001b[32m'e'\u001b[0m: \u001b[1;36m15\u001b[0m,\n",
       "    \u001b[32m'f'\u001b[0m: \u001b[1;36m16\u001b[0m,\n",
       "    \u001b[32m'g'\u001b[0m: \u001b[1;36m17\u001b[0m,\n",
       "    \u001b[32m'h'\u001b[0m: \u001b[1;36m18\u001b[0m,\n",
       "    \u001b[32m'i'\u001b[0m: \u001b[1;36m19\u001b[0m,\n",
       "    \u001b[32m'j'\u001b[0m: \u001b[1;36m20\u001b[0m,\n",
       "    \u001b[32m'k'\u001b[0m: \u001b[1;36m21\u001b[0m,\n",
       "    \u001b[32m'l'\u001b[0m: \u001b[1;36m22\u001b[0m,\n",
       "    \u001b[32m'm'\u001b[0m: \u001b[1;36m23\u001b[0m,\n",
       "    \u001b[32m'n'\u001b[0m: \u001b[1;36m24\u001b[0m,\n",
       "    \u001b[32m'o'\u001b[0m: \u001b[1;36m25\u001b[0m,\n",
       "    \u001b[32m'p'\u001b[0m: \u001b[1;36m26\u001b[0m,\n",
       "    \u001b[32m'q'\u001b[0m: \u001b[1;36m27\u001b[0m,\n",
       "    \u001b[32m'r'\u001b[0m: \u001b[1;36m28\u001b[0m,\n",
       "    \u001b[32m's'\u001b[0m: \u001b[1;36m29\u001b[0m,\n",
       "    \u001b[32m't'\u001b[0m: \u001b[1;36m30\u001b[0m,\n",
       "    \u001b[32m'u'\u001b[0m: \u001b[1;36m31\u001b[0m,\n",
       "    \u001b[32m'v'\u001b[0m: \u001b[1;36m32\u001b[0m,\n",
       "    \u001b[32m'w'\u001b[0m: \u001b[1;36m33\u001b[0m,\n",
       "    \u001b[32m'x'\u001b[0m: \u001b[1;36m34\u001b[0m,\n",
       "    \u001b[32m'y'\u001b[0m: \u001b[1;36m35\u001b[0m,\n",
       "    \u001b[32m'z'\u001b[0m: \u001b[1;36m36\u001b[0m\n",
       "\u001b[1m}\u001b[0m"
      ]
     },
     "execution_count": 21,
     "metadata": {},
     "output_type": "execute_result"
    }
   ],
   "source": [
    "char_to_index"
   ]
  },
  {
   "cell_type": "code",
   "execution_count": 22,
   "id": "4be74622-e88c-44b9-b0b5-95e09b52251c",
   "metadata": {},
   "outputs": [],
   "source": [
    "def one_hot_encoder(string: str, char_to_index_dict: dict) -> np.array:\n",
    "\n",
    "    vocabulary_size = len(char_to_index_dict.keys())\n",
    "    vector = np.zeros(vocabulary_size)\n",
    "    for char in string:\n",
    "        vector[char_to_index[char]-1] = 1 \n",
    "    return vector\n",
    "\n",
    "def encode_name_list(iterable: iter, char_to_index_dict: dict) -> np.array:\n",
    "\n",
    "    return np.array([one_hot_encoder(string, char_to_index_dict) for string in iterable])\n",
    "\n",
    "def check_chars_OOV(string: str, char_to_index_dict: dict) -> bool:\n",
    "\n",
    "    vocabulary = char_to_index_dict.keys()\n",
    "    return all([char in vocabulary for char in string])\n",
    "\n",
    "def name_matrix_encoder(string: iter, char_to_index_dict: dict, max_word_length:int, max_token_number:int) -> np.array :\n",
    "\n",
    "    representation_matrix = np.zeros(shape=(max_token_number, max_word_length))\n",
    "    for token_ind, token in enumerate(string.split(' ')):\n",
    "        for char_ind, char in enumerate(token):\n",
    "            try:\n",
    "                representation_matrix[token_ind][char_ind] = char_to_index[char]\n",
    "            except IndexError:\n",
    "                continue\n",
    "    return representation_matrix\n",
    "\n",
    "def sparse_encoder(string: str, char_to_index_dict: dict, max_len: int) -> np.array:\n",
    "\n",
    "    vector = np.zeros(max_len)\n",
    "    for ind, char in enumerate(string):\n",
    "        if ind>=max_len:\n",
    "            break\n",
    "        vector[ind] = char_to_index[char]\n",
    "    return vector\n",
    "\n",
    "def encode_sparsed_list(iterable: iter, char_to_index_dict: dict, max_len: int) -> np.array:\n",
    "    \n",
    "    return np.array([sparse_encoder(string, char_to_index_dict, max_len) for string in iterable])"
   ]
  },
  {
   "cell_type": "code",
   "execution_count": 23,
   "id": "a23c63b4-4440-4296-a43c-a6770da60f4e",
   "metadata": {},
   "outputs": [
    {
     "name": "stderr",
     "output_type": "stream",
     "text": [
      "                                                                                \r"
     ]
    }
   ],
   "source": [
    "name_pairs = geonames_characters.select('name_1_normalized', 'name_2_normalized').toPandas().values"
   ]
  },
  {
   "cell_type": "code",
   "execution_count": 24,
   "id": "68ed74c0-dda4-40bf-9f43-c8c11d2a38c8",
   "metadata": {},
   "outputs": [],
   "source": [
    "names_encoded_1 = np.array([name_matrix_encoder(name,\n",
    "                                                char_to_index_dict=char_to_index,\n",
    "                                                max_word_length=MAX_WORD_LENGTH,\n",
    "                                                max_token_number=MAX_TOKEN_NUMBER\n",
    "                                               ) for name in name_pairs[:, 0]], dtype=object)\n",
    "\n",
    "names_encoded_2 = np.array([name_matrix_encoder(name,\n",
    "                                                char_to_index_dict=char_to_index,\n",
    "                                                max_word_length=MAX_WORD_LENGTH,\n",
    "                                                max_token_number=MAX_TOKEN_NUMBER\n",
    "                                               ) for name in name_pairs[:, 1]], dtype=object)"
   ]
  },
  {
   "cell_type": "code",
   "execution_count": 25,
   "id": "61f43e99-57bb-4059-b768-3927cc9559d6",
   "metadata": {},
   "outputs": [],
   "source": [
    "string1, string2 = 'dpe', 'daniel perez efremova'\n",
    "strig1_matrix = name_matrix_encoder(string1, \n",
    "                                    char_to_index_dict=char_to_index,\n",
    "                                    max_word_length=MAX_WORD_LENGTH,\n",
    "                                    max_token_number=MAX_TOKEN_NUMBER)\n",
    "strig2_matrix = name_matrix_encoder(string2, \n",
    "                                    char_to_index_dict=char_to_index,\n",
    "                                    max_word_length=MAX_WORD_LENGTH,\n",
    "                                    max_token_number=MAX_TOKEN_NUMBER)"
   ]
  },
  {
   "cell_type": "code",
   "execution_count": 25,
   "id": "3ce3ab25-94ef-4bd9-b68a-71d850a15702",
   "metadata": {},
   "outputs": [],
   "source": [
    "def show_field(field1,field2):\n",
    "\n",
    "    combined_data = np.array([field1,field2])\n",
    "    #Get the min and max of all your data\n",
    "    _min, _max = np.amin(combined_data), np.amax(combined_data)\n",
    "\n",
    "    fig = plt.figure(figsize=(15,15))\n",
    "    ax = fig.add_subplot(1, 2, 1)\n",
    "    #Add the vmin and vmax arguments to set the color scale\n",
    "    ax.imshow(field1,cmap=plt.cm.hot, vmin = _min, vmax = _max)\n",
    "    ax.autoscale(False)\n",
    "    ax2 = fig.add_subplot(1, 2, 2)\n",
    "    #Add the vmin and vmax arguments to set the color scale\n",
    "    ax2.imshow(field2,cmap=plt.cm.hot, vmin = _min, vmax = _max)\n",
    "    ax2.autoscale(False)\n",
    "    plt.show()"
   ]
  },
  {
   "cell_type": "code",
   "execution_count": 29,
   "id": "afe90da8-ed58-41db-87f8-16ae57f8c535",
   "metadata": {},
   "outputs": [
    {
     "data": {
      "text/html": [
       "<pre style=\"white-space:pre;overflow-x:auto;line-height:normal;font-family:Menlo,'DejaVu Sans Mono',consolas,'Courier New',monospace\"></pre>\n"
      ],
      "text/plain": []
     },
     "metadata": {},
     "output_type": "display_data"
    },
    {
     "data": {
      "image/png": "[encoded data removed]",
      "text/plain": [
       "\u001b[1m<\u001b[0m\u001b[1;95mFigure\u001b[0m\u001b[39m size 150\u001b[0m\u001b[1;36m0x1500\u001b[0m\u001b[39m with \u001b[0m\u001b[1;36m2\u001b[0m\u001b[39m Axes\u001b[0m\u001b[1m>\u001b[0m"
      ]
     },
     "metadata": {},
     "output_type": "display_data"
    }
   ],
   "source": [
    "show_field(strig1_matrix, strig2_matrix)"
   ]
  },
  {
   "cell_type": "markdown",
   "id": "b89dccf8-9450-4712-9af0-50cdb41f0e26",
   "metadata": {},
   "source": [
    "# 5.1. Create a model class for char2vec embedding (One hot encoder - Siamese LSTM - Cosine similarity)"
   ]
  },
  {
   "cell_type": "code",
   "execution_count": 4,
   "id": "03ef1167-5181-44e8-9b95-30ac5a746557",
   "metadata": {},
   "outputs": [
    {
     "data": {
      "text/html": [
       "<pre style=\"white-space:pre;overflow-x:auto;line-height:normal;font-family:Menlo,'DejaVu Sans Mono',consolas,'Courier New',monospace\"><span style=\"color: #800000; text-decoration-color: #800000\">╭─────────────────────────────── </span><span style=\"color: #800000; text-decoration-color: #800000; font-weight: bold\">Traceback </span><span style=\"color: #bf7f7f; text-decoration-color: #bf7f7f; font-weight: bold\">(most recent call last)</span><span style=\"color: #800000; text-decoration-color: #800000\"> ────────────────────────────────╮</span>\n",
       "<span style=\"color: #800000; text-decoration-color: #800000\">│</span> in <span style=\"color: #00ff00; text-decoration-color: #00ff00\">&lt;cell line: 1&gt;</span>:<span style=\"color: #0000ff; text-decoration-color: #0000ff\">1</span>                                                                              <span style=\"color: #800000; text-decoration-color: #800000\">│</span>\n",
       "<span style=\"color: #800000; text-decoration-color: #800000\">│</span>                                                                                                  <span style=\"color: #800000; text-decoration-color: #800000\">│</span>\n",
       "<span style=\"color: #800000; text-decoration-color: #800000\">│</span> <span style=\"color: #800000; text-decoration-color: #800000\">❱ </span>  1 <span style=\"color: #0000ff; text-decoration-color: #0000ff\">class</span> <span style=\"color: #00ff00; text-decoration-color: #00ff00; text-decoration: underline\">poiNames_C2V</span>:                                                                        <span style=\"color: #800000; text-decoration-color: #800000\">│</span>\n",
       "<span style=\"color: #800000; text-decoration-color: #800000\">│</span>   <span style=\"color: #7f7f7f; text-decoration-color: #7f7f7f\">  2 </span><span style=\"color: #7f7f7f; text-decoration-color: #7f7f7f\">│   </span>                                                                                       <span style=\"color: #800000; text-decoration-color: #800000\">│</span>\n",
       "<span style=\"color: #800000; text-decoration-color: #800000\">│</span>   <span style=\"color: #7f7f7f; text-decoration-color: #7f7f7f\">  3 </span><span style=\"color: #7f7f7f; text-decoration-color: #7f7f7f\">│   </span><span style=\"color: #0000ff; text-decoration-color: #0000ff\">def</span> <span style=\"color: #00ff00; text-decoration-color: #00ff00\">__init__</span>(<span style=\"color: #00ffff; text-decoration-color: #00ffff\">self</span>, embedding_size:<span style=\"color: #00ffff; text-decoration-color: #00ffff\">int</span>, char_to_index:<span style=\"color: #00ffff; text-decoration-color: #00ffff\">dict</span>):                            <span style=\"color: #800000; text-decoration-color: #800000\">│</span>\n",
       "<span style=\"color: #800000; text-decoration-color: #800000\">│</span>   <span style=\"color: #7f7f7f; text-decoration-color: #7f7f7f\">  4 </span>                                                                                           <span style=\"color: #800000; text-decoration-color: #800000\">│</span>\n",
       "<span style=\"color: #800000; text-decoration-color: #800000\">│</span>                                                                                                  <span style=\"color: #800000; text-decoration-color: #800000\">│</span>\n",
       "<span style=\"color: #800000; text-decoration-color: #800000\">│</span> in <span style=\"color: #00ff00; text-decoration-color: #00ff00\">poiNames_C2V</span>:<span style=\"color: #0000ff; text-decoration-color: #0000ff\">101</span>                                                                              <span style=\"color: #800000; text-decoration-color: #800000\">│</span>\n",
       "<span style=\"color: #800000; text-decoration-color: #800000\">│</span>                                                                                                  <span style=\"color: #800000; text-decoration-color: #800000\">│</span>\n",
       "<span style=\"color: #800000; text-decoration-color: #800000\">│</span>   <span style=\"color: #7f7f7f; text-decoration-color: #7f7f7f\"> 98 </span><span style=\"color: #7f7f7f; text-decoration-color: #7f7f7f\">│   │   </span><span style=\"color: #0000ff; text-decoration-color: #0000ff\">return</span> model                                                                       <span style=\"color: #800000; text-decoration-color: #800000\">│</span>\n",
       "<span style=\"color: #800000; text-decoration-color: #800000\">│</span>   <span style=\"color: #7f7f7f; text-decoration-color: #7f7f7f\"> 99 </span><span style=\"color: #7f7f7f; text-decoration-color: #7f7f7f\">│   </span>                                                                                       <span style=\"color: #800000; text-decoration-color: #800000\">│</span>\n",
       "<span style=\"color: #800000; text-decoration-color: #800000\">│</span>   <span style=\"color: #7f7f7f; text-decoration-color: #7f7f7f\">100 </span><span style=\"color: #7f7f7f; text-decoration-color: #7f7f7f\">│   </span>                                                                                       <span style=\"color: #800000; text-decoration-color: #800000\">│</span>\n",
       "<span style=\"color: #800000; text-decoration-color: #800000\">│</span> <span style=\"color: #800000; text-decoration-color: #800000\">❱ </span>101 <span style=\"color: #7f7f7f; text-decoration-color: #7f7f7f\">│   </span><span style=\"color: #0000ff; text-decoration-color: #0000ff\">def</span> <span style=\"color: #00ff00; text-decoration-color: #00ff00\">vectorize</span>(<span style=\"color: #00ffff; text-decoration-color: #00ffff\">self</span>, iterable: <span style=\"color: #00ffff; text-decoration-color: #00ffff\">iter</span>) -&gt; np.array:                                       <span style=\"color: #800000; text-decoration-color: #800000\">│</span>\n",
       "<span style=\"color: #800000; text-decoration-color: #800000\">│</span>   <span style=\"color: #7f7f7f; text-decoration-color: #7f7f7f\">102 </span><span style=\"color: #7f7f7f; text-decoration-color: #7f7f7f\">│   │   </span>                                                                                   <span style=\"color: #800000; text-decoration-color: #800000\">│</span>\n",
       "<span style=\"color: #800000; text-decoration-color: #800000\">│</span>   <span style=\"color: #7f7f7f; text-decoration-color: #7f7f7f\">103 </span><span style=\"color: #7f7f7f; text-decoration-color: #7f7f7f\">│   │   </span>X = encode_name_list(iterable,char_to_index_dict=<span style=\"color: #00ffff; text-decoration-color: #00ffff\">self</span>.char_to_index)               <span style=\"color: #800000; text-decoration-color: #800000\">│</span>\n",
       "<span style=\"color: #800000; text-decoration-color: #800000\">│</span>   <span style=\"color: #7f7f7f; text-decoration-color: #7f7f7f\">104 </span><span style=\"color: #7f7f7f; text-decoration-color: #7f7f7f\">│   │   </span>X = np.expand_dims(X, axis=-<span style=\"color: #0000ff; text-decoration-color: #0000ff\">1</span>)                                                     <span style=\"color: #800000; text-decoration-color: #800000\">│</span>\n",
       "<span style=\"color: #800000; text-decoration-color: #800000\">╰──────────────────────────────────────────────────────────────────────────────────────────────────╯</span>\n",
       "<span style=\"color: #ff0000; text-decoration-color: #ff0000; font-weight: bold\">NameError: </span>name <span style=\"color: #008000; text-decoration-color: #008000\">'np'</span> is not defined\n",
       "</pre>\n"
      ],
      "text/plain": [
       "\u001b[31m╭─\u001b[0m\u001b[31m──────────────────────────────\u001b[0m\u001b[31m \u001b[0m\u001b[1;31mTraceback \u001b[0m\u001b[1;2;31m(most recent call last)\u001b[0m\u001b[31m \u001b[0m\u001b[31m───────────────────────────────\u001b[0m\u001b[31m─╮\u001b[0m\n",
       "\u001b[31m│\u001b[0m in \u001b[92m<cell line: 1>\u001b[0m:\u001b[94m1\u001b[0m                                                                              \u001b[31m│\u001b[0m\n",
       "\u001b[31m│\u001b[0m                                                                                                  \u001b[31m│\u001b[0m\n",
       "\u001b[31m│\u001b[0m \u001b[31m❱ \u001b[0m  1 \u001b[94mclass\u001b[0m \u001b[4;92mpoiNames_C2V\u001b[0m:                                                                        \u001b[31m│\u001b[0m\n",
       "\u001b[31m│\u001b[0m   \u001b[2m  2 \u001b[0m\u001b[2m│   \u001b[0m                                                                                       \u001b[31m│\u001b[0m\n",
       "\u001b[31m│\u001b[0m   \u001b[2m  3 \u001b[0m\u001b[2m│   \u001b[0m\u001b[94mdef\u001b[0m \u001b[92m__init__\u001b[0m(\u001b[96mself\u001b[0m, embedding_size:\u001b[96mint\u001b[0m, char_to_index:\u001b[96mdict\u001b[0m):                            \u001b[31m│\u001b[0m\n",
       "\u001b[31m│\u001b[0m   \u001b[2m  4 \u001b[0m                                                                                           \u001b[31m│\u001b[0m\n",
       "\u001b[31m│\u001b[0m                                                                                                  \u001b[31m│\u001b[0m\n",
       "\u001b[31m│\u001b[0m in \u001b[92mpoiNames_C2V\u001b[0m:\u001b[94m101\u001b[0m                                                                              \u001b[31m│\u001b[0m\n",
       "\u001b[31m│\u001b[0m                                                                                                  \u001b[31m│\u001b[0m\n",
       "\u001b[31m│\u001b[0m   \u001b[2m 98 \u001b[0m\u001b[2m│   │   \u001b[0m\u001b[94mreturn\u001b[0m model                                                                       \u001b[31m│\u001b[0m\n",
       "\u001b[31m│\u001b[0m   \u001b[2m 99 \u001b[0m\u001b[2m│   \u001b[0m                                                                                       \u001b[31m│\u001b[0m\n",
       "\u001b[31m│\u001b[0m   \u001b[2m100 \u001b[0m\u001b[2m│   \u001b[0m                                                                                       \u001b[31m│\u001b[0m\n",
       "\u001b[31m│\u001b[0m \u001b[31m❱ \u001b[0m101 \u001b[2m│   \u001b[0m\u001b[94mdef\u001b[0m \u001b[92mvectorize\u001b[0m(\u001b[96mself\u001b[0m, iterable: \u001b[96miter\u001b[0m) -> np.array:                                       \u001b[31m│\u001b[0m\n",
       "\u001b[31m│\u001b[0m   \u001b[2m102 \u001b[0m\u001b[2m│   │   \u001b[0m                                                                                   \u001b[31m│\u001b[0m\n",
       "\u001b[31m│\u001b[0m   \u001b[2m103 \u001b[0m\u001b[2m│   │   \u001b[0mX = encode_name_list(iterable,char_to_index_dict=\u001b[96mself\u001b[0m.char_to_index)               \u001b[31m│\u001b[0m\n",
       "\u001b[31m│\u001b[0m   \u001b[2m104 \u001b[0m\u001b[2m│   │   \u001b[0mX = np.expand_dims(X, axis=-\u001b[94m1\u001b[0m)                                                     \u001b[31m│\u001b[0m\n",
       "\u001b[31m╰──────────────────────────────────────────────────────────────────────────────────────────────────╯\u001b[0m\n",
       "\u001b[1;91mNameError: \u001b[0mname \u001b[32m'np'\u001b[0m is not defined\n"
      ]
     },
     "metadata": {},
     "output_type": "display_data"
    }
   ],
   "source": [
    "class poiNames_C2V:\n",
    "    \n",
    "    def __init__(self, embedding_size:int, char_to_index:dict):\n",
    "\n",
    "        self.char_to_index = char_to_index\n",
    "        self.index_to_char = {char_to_index[char]: char for char in char_to_index}\n",
    "        self.input_size = MAX_NAME_LEN\n",
    "        self.embedding_size = embedding_size\n",
    "\n",
    "        lstm_input = tf.keras.layers.Input(shape=(self.input_size, 1,), name='lstm_input')\n",
    "        x = tf.keras.layers.Masking(mask_value=0)(lstm_input)\n",
    "        x = Bidirectional(tf.keras.layers.LSTM(self.embedding_size, return_sequences=True, name='lstm_1'))(x)\n",
    "        x = Bidirectional(tf.keras.layers.LSTM(self.embedding_size, name='lstm_2'))(x)\n",
    "        self.embedding_model = tf.keras.models.Model(inputs=[lstm_input], outputs=x)\n",
    "\n",
    "        left_branch_input = tf.keras.layers.Input(shape=(self.input_size, 1), name='left_branch_input')\n",
    "        right_branch_input = tf.keras.layers.Input(shape=(self.input_size, 1),name='right_branch_input')\n",
    "\n",
    "        left_branch_embedding = self.embedding_model(left_branch_input)\n",
    "        right_branch_embedding = self.embedding_model(right_branch_input)\n",
    "\n",
    "        concat_layer = tf.keras.layers.Concatenate(axis=1)([left_branch_embedding, right_branch_embedding])\n",
    "        product_layer = tf.keras.layers.Multiply()([left_branch_embedding, right_branch_embedding])\n",
    "        difference_layer = tf.keras.layers.Subtract()([left_branch_embedding, right_branch_embedding])\n",
    "\n",
    "         \n",
    "        representation_layer = tf.keras.layers.Concatenate(axis=1)([concat_layer, product_layer, difference_layer])\n",
    "        \n",
    "        x = tf.keras.layers.Dropout(0.3)(representation_layer)\n",
    "        x = tf.keras.layers.Dense(128, activation='relu')(x)\n",
    "        x = tf.keras.layers.Dense(64, activation='relu')(x)\n",
    "        model_output = tf.keras.layers.Dense(1, activation='sigmoid')(x)\n",
    "                \n",
    "        # x = tf.keras.layers.Dot(axes=1, normalize=True)([left_branch_embedding, right_branch_embedding]) # cosine similarity\n",
    "        # model_output = tf.keras.layers.Dense(1, activation='sigmoid')(x)\n",
    "        \n",
    "        self.model = tf.keras.models.Model(inputs=[left_branch_input, right_branch_input], outputs=model_output)\n",
    "        self.model.compile(loss='binary_crossentropy', optimizer='adam', metrics=['accuracy',\n",
    "                                                              tf.keras.metrics.Precision(),\n",
    "                                                              tf.keras.metrics.Recall()])\n",
    "        \n",
    "    def fit(\n",
    "        self, name_pairs, target, max_epochs:int, patience:int, validation_split:float, batch_size:int, callbacks: iter):\n",
    "\n",
    "        print(f'Encoding names... ({2*len(name_pairs)})')\n",
    "        # X1 = encode_name_list(name_pairs[:, 0],char_to_index_dict=self.char_to_index)\n",
    "        # X2 = encode_name_list(name_pairs[:, 1], char_to_index_dict=self.char_to_index)\n",
    "\n",
    "        X1 = encode_sparsed_list(name_pairs[:, 0],char_to_index_dict=self.char_to_index, max_len=MAX_NAME_LEN)\n",
    "        X2 = encode_sparsed_list(name_pairs[:, 1], char_to_index_dict=self.char_to_index, max_len=MAX_NAME_LEN)\n",
    "        \n",
    "        X1 = np.expand_dims(X1, axis=-1)\n",
    "        X2 = np.expand_dims(X2, axis=-1)\n",
    "        \n",
    "        X1_pad = tf.keras.preprocessing.sequence.pad_sequences(X1)\n",
    "        X2_pad = tf.keras.preprocessing.sequence.pad_sequences(X2)\n",
    "        \n",
    "        self.model.fit((X1_pad, X2_pad), target,verbose=1,\n",
    "                    batch_size=batch_size, epochs=max_epochs,\n",
    "                    validation_split=validation_split,\n",
    "                    callbacks=[tf.keras.callbacks.EarlyStopping(monitor='val_loss', patience=patience)] + callbacks)\n",
    "\n",
    "\n",
    "    def save_model(self, path_to_model):\n",
    "        '''\n",
    "        Saves trained model to directory.\n",
    "    \n",
    "        :param path_to_model: str, path to save model.\n",
    "        '''\n",
    "    \n",
    "        if not os.path.exists(path_to_model):\n",
    "            os.makedirs(path_to_model)\n",
    "        \n",
    "        self.embedding_model.save_weights(path_to_model + '/weights.h5')\n",
    "    \n",
    "        with open(path_to_model + '/model.pkl', 'wb') as f:\n",
    "            pickle.dump([self.embedding_size, self.char_to_index], f, protocol=2)\n",
    "\n",
    "\n",
    "    def load_model(self, path):\n",
    "        '''\n",
    "        Loads trained model.\n",
    "    \n",
    "        :param path: loads model from `path`.\n",
    "    \n",
    "        :return c2v_model: Chars2Vec object, trained model.\n",
    "        '''\n",
    "        path_to_model = path\n",
    "    \n",
    "        with open(path_to_model + '/model.pkl', 'rb') as f:\n",
    "            structure = pickle.load(f)\n",
    "            embedding_size, char_to_index = structure[0], structure[1]\n",
    "    \n",
    "        model = poiNames_C2V(embedding_size=embedding_size, char_to_index=char_to_index)\n",
    "        model.embedding_model.load_weights(path_to_model + '/weights.h5')\n",
    "        model.embedding_model.compile(optimizer='adam', loss='mae')\n",
    "    \n",
    "        return model\n",
    "\n",
    "\n",
    "    def vectorize(self, iterable: iter) -> np.array:\n",
    "        \n",
    "        X = encode_name_list(iterable,char_to_index_dict=self.char_to_index)\n",
    "        X = np.expand_dims(X, axis=-1)\n",
    "        X_pad = tf.keras.preprocessing.sequence.pad_sequences(X)\n",
    "\n",
    "        return X_pad, self.embedding_model(X_pad)\n",
    "        "
   ]
  },
  {
   "cell_type": "markdown",
   "id": "4c665c4c-96ae-41fb-a6b5-47ab07a472d5",
   "metadata": {},
   "source": [
    "## Data Preparation"
   ]
  },
  {
   "cell_type": "code",
   "execution_count": null,
   "id": "68ad9756-5d3b-406d-9af1-752077dfbd24",
   "metadata": {},
   "outputs": [],
   "source": []
  },
  {
   "cell_type": "code",
   "execution_count": 64,
   "id": "218631cf-b5e2-4099-8451-6a809002d04f",
   "metadata": {},
   "outputs": [
    {
     "name": "stderr",
     "output_type": "stream",
     "text": [
      "                                                                                \r"
     ]
    }
   ],
   "source": [
    "name_pairs = geonames_characters.select('name_1_normalized', 'name_2_normalized').toPandas().values"
   ]
  },
  {
   "cell_type": "code",
   "execution_count": 65,
   "id": "a8d0f43e-9ed2-4c23-afc8-58a30bd7517e",
   "metadata": {},
   "outputs": [
    {
     "name": "stderr",
     "output_type": "stream",
     "text": [
      "                                                                                \r"
     ]
    }
   ],
   "source": [
    "target = geonames_characters.select(col('target')).toPandas().astype(float).values"
   ]
  },
  {
   "cell_type": "code",
   "execution_count": 66,
   "id": "b4ef5de4-4b8f-4ad5-acf9-ba1b4a01ca90",
   "metadata": {},
   "outputs": [
    {
     "data": {
      "text/html": [
       "<pre style=\"white-space:pre;overflow-x:auto;line-height:normal;font-family:Menlo,'DejaVu Sans Mono',consolas,'Courier New',monospace\"></pre>\n"
      ],
      "text/plain": []
     },
     "metadata": {},
     "output_type": "display_data"
    },
    {
     "data": {
      "text/plain": [
       "\u001b[1m(\u001b[0m\u001b[1;36m49178\u001b[0m, \u001b[1;36m5465\u001b[0m\u001b[1m)\u001b[0m"
      ]
     },
     "execution_count": 66,
     "metadata": {},
     "output_type": "execute_result"
    }
   ],
   "source": [
    "from sklearn.model_selection import train_test_split\n",
    "X_train, X_test, y_train, y_test = train_test_split(name_pairs, target, test_size=0.1, random_state=0)\n",
    "\n",
    "len(X_train), len(X_test)"
   ]
  },
  {
   "cell_type": "code",
   "execution_count": 67,
   "id": "db92441d-9144-4ffa-b704-aaa9698c00cb",
   "metadata": {},
   "outputs": [],
   "source": [
    "poi_c2v = poiNames_C2V(150, char_to_index)"
   ]
  },
  {
   "cell_type": "code",
   "execution_count": 68,
   "id": "034097da-7624-4c3d-baad-2f49e46872b5",
   "metadata": {},
   "outputs": [
    {
     "name": "stdout",
     "output_type": "stream",
     "text": [
      "Encoding names... (98356)\n",
      "Epoch 1/10000\n",
      "346/346 [==============================] - 284s 776ms/step - loss: 0.6800 - accuracy: 0.5463 - precision_2: 0.5428 - recall_2: 0.5693 - val_loss: 0.5997 - val_accuracy: 0.7011 - val_precision_2: 0.6900 - val_recall_2: 0.7123\n",
      "Epoch 2/10000\n",
      "346/346 [==============================] - 268s 774ms/step - loss: 0.5721 - accuracy: 0.7262 - precision_2: 0.7591 - recall_2: 0.6603 - val_loss: 0.5557 - val_accuracy: 0.7403 - val_precision_2: 0.7750 - val_recall_2: 0.6652\n",
      "Epoch 3/10000\n",
      "346/346 [==============================] - 270s 781ms/step - loss: 0.5517 - accuracy: 0.7413 - precision_2: 0.7970 - recall_2: 0.6454 - val_loss: 0.5427 - val_accuracy: 0.7495 - val_precision_2: 0.8152 - val_recall_2: 0.6346\n",
      "Epoch 4/10000\n",
      "346/346 [==============================] - 269s 779ms/step - loss: 0.5432 - accuracy: 0.7476 - precision_2: 0.8121 - recall_2: 0.6423 - val_loss: 0.5450 - val_accuracy: 0.7428 - val_precision_2: 0.8072 - val_recall_2: 0.6267\n",
      "Epoch 5/10000\n",
      "346/346 [==============================] - 269s 777ms/step - loss: 0.5356 - accuracy: 0.7502 - precision_2: 0.8167 - recall_2: 0.6432 - val_loss: 0.5383 - val_accuracy: 0.7493 - val_precision_2: 0.7930 - val_recall_2: 0.6635\n",
      "Epoch 6/10000\n",
      "346/346 [==============================] - 279s 808ms/step - loss: 0.5280 - accuracy: 0.7535 - precision_2: 0.8182 - recall_2: 0.6501 - val_loss: 0.5310 - val_accuracy: 0.7487 - val_precision_2: 0.7962 - val_recall_2: 0.6573\n",
      "Epoch 7/10000\n",
      "346/346 [==============================] - 270s 781ms/step - loss: 0.5221 - accuracy: 0.7549 - precision_2: 0.8160 - recall_2: 0.6564 - val_loss: 0.5246 - val_accuracy: 0.7544 - val_precision_2: 0.8017 - val_recall_2: 0.6652\n",
      "Epoch 8/10000\n",
      "346/346 [==============================] - 270s 780ms/step - loss: 0.5137 - accuracy: 0.7594 - precision_2: 0.8183 - recall_2: 0.6649 - val_loss: 0.5228 - val_accuracy: 0.7544 - val_precision_2: 0.8152 - val_recall_2: 0.6474\n",
      "Epoch 9/10000\n",
      "346/346 [==============================] - 271s 783ms/step - loss: 0.5083 - accuracy: 0.7608 - precision_2: 0.8166 - recall_2: 0.6707 - val_loss: 0.5176 - val_accuracy: 0.7556 - val_precision_2: 0.8084 - val_recall_2: 0.6594\n",
      "Epoch 10/10000\n",
      "346/346 [==============================] - 269s 778ms/step - loss: 0.5021 - accuracy: 0.7640 - precision_2: 0.8144 - recall_2: 0.6819 - val_loss: 0.5121 - val_accuracy: 0.7584 - val_precision_2: 0.8123 - val_recall_2: 0.6618\n",
      "Epoch 11/10000\n",
      "346/346 [==============================] - 271s 783ms/step - loss: 0.4962 - accuracy: 0.7659 - precision_2: 0.8126 - recall_2: 0.6894 - val_loss: 0.5131 - val_accuracy: 0.7554 - val_precision_2: 0.7794 - val_recall_2: 0.7011\n",
      "Epoch 12/10000\n",
      "346/346 [==============================] - 271s 784ms/step - loss: 0.4879 - accuracy: 0.7721 - precision_2: 0.8129 - recall_2: 0.7051 - val_loss: 0.5090 - val_accuracy: 0.7582 - val_precision_2: 0.7885 - val_recall_2: 0.6949\n",
      "Epoch 13/10000\n",
      "346/346 [==============================] - 270s 780ms/step - loss: 0.4804 - accuracy: 0.7749 - precision_2: 0.8090 - recall_2: 0.7178 - val_loss: 0.5079 - val_accuracy: 0.7603 - val_precision_2: 0.7925 - val_recall_2: 0.6945\n",
      "Epoch 14/10000\n",
      "346/346 [==============================] - 275s 794ms/step - loss: 0.4698 - accuracy: 0.7813 - precision_2: 0.8144 - recall_2: 0.7270 - val_loss: 0.5023 - val_accuracy: 0.7611 - val_precision_2: 0.7809 - val_recall_2: 0.7148\n",
      "Epoch 15/10000\n",
      "346/346 [==============================] - 273s 789ms/step - loss: 0.4617 - accuracy: 0.7839 - precision_2: 0.8118 - recall_2: 0.7375 - val_loss: 0.5066 - val_accuracy: 0.7556 - val_precision_2: 0.7670 - val_recall_2: 0.7226\n",
      "Epoch 16/10000\n",
      "346/346 [==============================] - 269s 778ms/step - loss: 0.4521 - accuracy: 0.7908 - precision_2: 0.8173 - recall_2: 0.7474 - val_loss: 0.5075 - val_accuracy: 0.7566 - val_precision_2: 0.7728 - val_recall_2: 0.7156\n",
      "Epoch 17/10000\n",
      "346/346 [==============================] - 267s 773ms/step - loss: 0.4409 - accuracy: 0.7958 - precision_2: 0.8182 - recall_2: 0.7592 - val_loss: 0.5046 - val_accuracy: 0.7619 - val_precision_2: 0.7842 - val_recall_2: 0.7119\n",
      "Epoch 18/10000\n",
      "346/346 [==============================] - 268s 775ms/step - loss: 0.4294 - accuracy: 0.8027 - precision_2: 0.8217 - recall_2: 0.7716 - val_loss: 0.5153 - val_accuracy: 0.7588 - val_precision_2: 0.7741 - val_recall_2: 0.7197\n",
      "Epoch 19/10000\n",
      "346/346 [==============================] - 270s 781ms/step - loss: 0.4185 - accuracy: 0.8076 - precision_2: 0.8245 - recall_2: 0.7800 - val_loss: 0.5197 - val_accuracy: 0.7560 - val_precision_2: 0.7545 - val_recall_2: 0.7470\n",
      "Epoch 20/10000\n",
      "346/346 [==============================] - 288s 834ms/step - loss: 0.4030 - accuracy: 0.8185 - precision_2: 0.8328 - recall_2: 0.7956 - val_loss: 0.5198 - val_accuracy: 0.7700 - val_precision_2: 0.7793 - val_recall_2: 0.7429\n",
      "Epoch 21/10000\n",
      " 59/346 [====>.........................] - ETA: 3:36 - loss: 0.3846 - accuracy: 0.8297 - precision_2: 0.8424 - recall_2: 0.8150"
     ]
    },
    {
     "data": {
      "text/html": [
       "<pre style=\"white-space:pre;overflow-x:auto;line-height:normal;font-family:Menlo,'DejaVu Sans Mono',consolas,'Courier New',monospace\"><span style=\"color: #800000; text-decoration-color: #800000\">╭─────────────────────────────── </span><span style=\"color: #800000; text-decoration-color: #800000; font-weight: bold\">Traceback </span><span style=\"color: #bf7f7f; text-decoration-color: #bf7f7f; font-weight: bold\">(most recent call last)</span><span style=\"color: #800000; text-decoration-color: #800000\"> ────────────────────────────────╮</span>\n",
       "<span style=\"color: #800000; text-decoration-color: #800000\">│</span> in <span style=\"color: #00ff00; text-decoration-color: #00ff00\">&lt;cell line: 4&gt;</span>:<span style=\"color: #0000ff; text-decoration-color: #0000ff\">4</span>                                                                              <span style=\"color: #800000; text-decoration-color: #800000\">│</span>\n",
       "<span style=\"color: #800000; text-decoration-color: #800000\">│</span>                                                                                                  <span style=\"color: #800000; text-decoration-color: #800000\">│</span>\n",
       "<span style=\"color: #800000; text-decoration-color: #800000\">│</span>   <span style=\"color: #7f7f7f; text-decoration-color: #7f7f7f\"> 1 </span><span style=\"color: #0000ff; text-decoration-color: #0000ff\">from</span> <span style=\"color: #00ffff; text-decoration-color: #00ffff; text-decoration: underline\">keras.callbacks</span> <span style=\"color: #0000ff; text-decoration-color: #0000ff\">import</span> History                                                         <span style=\"color: #800000; text-decoration-color: #800000\">│</span>\n",
       "<span style=\"color: #800000; text-decoration-color: #800000\">│</span>   <span style=\"color: #7f7f7f; text-decoration-color: #7f7f7f\"> 2 </span>history = History()                                                                         <span style=\"color: #800000; text-decoration-color: #800000\">│</span>\n",
       "<span style=\"color: #800000; text-decoration-color: #800000\">│</span>   <span style=\"color: #7f7f7f; text-decoration-color: #7f7f7f\"> 3 </span>                                                                                            <span style=\"color: #800000; text-decoration-color: #800000\">│</span>\n",
       "<span style=\"color: #800000; text-decoration-color: #800000\">│</span> <span style=\"color: #800000; text-decoration-color: #800000\">❱ </span> 4 poi_c2v.fit(                                                                                <span style=\"color: #800000; text-decoration-color: #800000\">│</span>\n",
       "<span style=\"color: #800000; text-decoration-color: #800000\">│</span>   <span style=\"color: #7f7f7f; text-decoration-color: #7f7f7f\"> 5 </span><span style=\"color: #7f7f7f; text-decoration-color: #7f7f7f\">│   </span>name_pairs=X_train,                                                                     <span style=\"color: #800000; text-decoration-color: #800000\">│</span>\n",
       "<span style=\"color: #800000; text-decoration-color: #800000\">│</span>   <span style=\"color: #7f7f7f; text-decoration-color: #7f7f7f\"> 6 </span><span style=\"color: #7f7f7f; text-decoration-color: #7f7f7f\">│   </span>target=y_train,                                                                         <span style=\"color: #800000; text-decoration-color: #800000\">│</span>\n",
       "<span style=\"color: #800000; text-decoration-color: #800000\">│</span>   <span style=\"color: #7f7f7f; text-decoration-color: #7f7f7f\"> 7 </span><span style=\"color: #7f7f7f; text-decoration-color: #7f7f7f\">│   </span>validation_split=<span style=\"color: #0000ff; text-decoration-color: #0000ff\">0.1</span>,                                                                   <span style=\"color: #800000; text-decoration-color: #800000\">│</span>\n",
       "<span style=\"color: #800000; text-decoration-color: #800000\">│</span>                                                                                                  <span style=\"color: #800000; text-decoration-color: #800000\">│</span>\n",
       "<span style=\"color: #800000; text-decoration-color: #800000\">│</span> in <span style=\"color: #00ff00; text-decoration-color: #00ff00\">fit</span>:<span style=\"color: #0000ff; text-decoration-color: #0000ff\">56</span>                                                                                        <span style=\"color: #800000; text-decoration-color: #800000\">│</span>\n",
       "<span style=\"color: #800000; text-decoration-color: #800000\">│</span>                                                                                                  <span style=\"color: #800000; text-decoration-color: #800000\">│</span>\n",
       "<span style=\"color: #800000; text-decoration-color: #800000\">│</span>   <span style=\"color: #7f7f7f; text-decoration-color: #7f7f7f\"> 53 </span><span style=\"color: #7f7f7f; text-decoration-color: #7f7f7f\">│   │   </span>X1_pad = tf.keras.preprocessing.sequence.pad_sequences(X1)                         <span style=\"color: #800000; text-decoration-color: #800000\">│</span>\n",
       "<span style=\"color: #800000; text-decoration-color: #800000\">│</span>   <span style=\"color: #7f7f7f; text-decoration-color: #7f7f7f\"> 54 </span><span style=\"color: #7f7f7f; text-decoration-color: #7f7f7f\">│   │   </span>X2_pad = tf.keras.preprocessing.sequence.pad_sequences(X2)                         <span style=\"color: #800000; text-decoration-color: #800000\">│</span>\n",
       "<span style=\"color: #800000; text-decoration-color: #800000\">│</span>   <span style=\"color: #7f7f7f; text-decoration-color: #7f7f7f\"> 55 </span><span style=\"color: #7f7f7f; text-decoration-color: #7f7f7f\">│   │   </span>                                                                                   <span style=\"color: #800000; text-decoration-color: #800000\">│</span>\n",
       "<span style=\"color: #800000; text-decoration-color: #800000\">│</span> <span style=\"color: #800000; text-decoration-color: #800000\">❱ </span> 56 <span style=\"color: #7f7f7f; text-decoration-color: #7f7f7f\">│   │   </span><span style=\"color: #00ffff; text-decoration-color: #00ffff\">self</span>.model.fit((X1_pad, X2_pad), target,verbose=<span style=\"color: #0000ff; text-decoration-color: #0000ff\">1</span>,                                 <span style=\"color: #800000; text-decoration-color: #800000\">│</span>\n",
       "<span style=\"color: #800000; text-decoration-color: #800000\">│</span>   <span style=\"color: #7f7f7f; text-decoration-color: #7f7f7f\"> 57 </span><span style=\"color: #7f7f7f; text-decoration-color: #7f7f7f\">│   │   │   │   │   </span>batch_size=batch_size, epochs=max_epochs,                              <span style=\"color: #800000; text-decoration-color: #800000\">│</span>\n",
       "<span style=\"color: #800000; text-decoration-color: #800000\">│</span>   <span style=\"color: #7f7f7f; text-decoration-color: #7f7f7f\"> 58 </span><span style=\"color: #7f7f7f; text-decoration-color: #7f7f7f\">│   │   │   │   │   </span>validation_split=validation_split,                                     <span style=\"color: #800000; text-decoration-color: #800000\">│</span>\n",
       "<span style=\"color: #800000; text-decoration-color: #800000\">│</span>   <span style=\"color: #7f7f7f; text-decoration-color: #7f7f7f\"> 59 </span><span style=\"color: #7f7f7f; text-decoration-color: #7f7f7f\">│   │   │   │   │   </span>callbacks=[tf.keras.callbacks.EarlyStopping(monitor=<span style=\"color: #808000; text-decoration-color: #808000\">'val_loss'</span>, pati   <span style=\"color: #800000; text-decoration-color: #800000\">│</span>\n",
       "<span style=\"color: #800000; text-decoration-color: #800000\">│</span>                                                                                                  <span style=\"color: #800000; text-decoration-color: #800000\">│</span>\n",
       "<span style=\"color: #800000; text-decoration-color: #800000\">│</span> <span style=\"color: #bfbf7f; text-decoration-color: #bfbf7f\">/usr/local/lib/python3.9/dist-packages/keras/utils/</span><span style=\"color: #808000; text-decoration-color: #808000; font-weight: bold\">traceback_utils.py</span>:<span style=\"color: #0000ff; text-decoration-color: #0000ff\">65</span> in <span style=\"color: #00ff00; text-decoration-color: #00ff00\">error_handler</span>        <span style=\"color: #800000; text-decoration-color: #800000\">│</span>\n",
       "<span style=\"color: #800000; text-decoration-color: #800000\">│</span>                                                                                                  <span style=\"color: #800000; text-decoration-color: #800000\">│</span>\n",
       "<span style=\"color: #800000; text-decoration-color: #800000\">│</span>   <span style=\"color: #7f7f7f; text-decoration-color: #7f7f7f\"> 62 </span><span style=\"color: #7f7f7f; text-decoration-color: #7f7f7f\">│   │   </span>                                                                                   <span style=\"color: #800000; text-decoration-color: #800000\">│</span>\n",
       "<span style=\"color: #800000; text-decoration-color: #800000\">│</span>   <span style=\"color: #7f7f7f; text-decoration-color: #7f7f7f\"> 63 </span><span style=\"color: #7f7f7f; text-decoration-color: #7f7f7f\">│   │   </span>filtered_tb = <span style=\"color: #0000ff; text-decoration-color: #0000ff\">None</span>                                                                 <span style=\"color: #800000; text-decoration-color: #800000\">│</span>\n",
       "<span style=\"color: #800000; text-decoration-color: #800000\">│</span>   <span style=\"color: #7f7f7f; text-decoration-color: #7f7f7f\"> 64 </span><span style=\"color: #7f7f7f; text-decoration-color: #7f7f7f\">│   │   </span><span style=\"color: #0000ff; text-decoration-color: #0000ff\">try</span>:                                                                               <span style=\"color: #800000; text-decoration-color: #800000\">│</span>\n",
       "<span style=\"color: #800000; text-decoration-color: #800000\">│</span> <span style=\"color: #800000; text-decoration-color: #800000\">❱ </span> 65 <span style=\"color: #7f7f7f; text-decoration-color: #7f7f7f\">│   │   │   </span><span style=\"color: #0000ff; text-decoration-color: #0000ff\">return</span> fn(*args, **kwargs)                                                     <span style=\"color: #800000; text-decoration-color: #800000\">│</span>\n",
       "<span style=\"color: #800000; text-decoration-color: #800000\">│</span>   <span style=\"color: #7f7f7f; text-decoration-color: #7f7f7f\"> 66 </span><span style=\"color: #7f7f7f; text-decoration-color: #7f7f7f\">│   │   </span><span style=\"color: #0000ff; text-decoration-color: #0000ff\">except</span> <span style=\"color: #00ffff; text-decoration-color: #00ffff\">Exception</span> <span style=\"color: #0000ff; text-decoration-color: #0000ff\">as</span> e:                                                             <span style=\"color: #800000; text-decoration-color: #800000\">│</span>\n",
       "<span style=\"color: #800000; text-decoration-color: #800000\">│</span>   <span style=\"color: #7f7f7f; text-decoration-color: #7f7f7f\"> 67 </span><span style=\"color: #7f7f7f; text-decoration-color: #7f7f7f\">│   │   │   </span>filtered_tb = _process_traceback_frames(e.__traceback__)                       <span style=\"color: #800000; text-decoration-color: #800000\">│</span>\n",
       "<span style=\"color: #800000; text-decoration-color: #800000\">│</span>   <span style=\"color: #7f7f7f; text-decoration-color: #7f7f7f\"> 68 </span><span style=\"color: #7f7f7f; text-decoration-color: #7f7f7f\">│   │   │   </span><span style=\"color: #7f7f7f; text-decoration-color: #7f7f7f\"># To get the full stack trace, call:</span>                                           <span style=\"color: #800000; text-decoration-color: #800000\">│</span>\n",
       "<span style=\"color: #800000; text-decoration-color: #800000\">│</span>                                                                                                  <span style=\"color: #800000; text-decoration-color: #800000\">│</span>\n",
       "<span style=\"color: #800000; text-decoration-color: #800000\">│</span> <span style=\"color: #bfbf7f; text-decoration-color: #bfbf7f\">/usr/local/lib/python3.9/dist-packages/keras/engine/</span><span style=\"color: #808000; text-decoration-color: #808000; font-weight: bold\">training.py</span>:<span style=\"color: #0000ff; text-decoration-color: #0000ff\">1650</span> in <span style=\"color: #00ff00; text-decoration-color: #00ff00\">fit</span>                      <span style=\"color: #800000; text-decoration-color: #800000\">│</span>\n",
       "<span style=\"color: #800000; text-decoration-color: #800000\">│</span>                                                                                                  <span style=\"color: #800000; text-decoration-color: #800000\">│</span>\n",
       "<span style=\"color: #800000; text-decoration-color: #800000\">│</span>   <span style=\"color: #7f7f7f; text-decoration-color: #7f7f7f\">1647 </span><span style=\"color: #7f7f7f; text-decoration-color: #7f7f7f\">│   │   │   │   │   │   │   </span>_r=<span style=\"color: #0000ff; text-decoration-color: #0000ff\">1</span>,                                                         <span style=\"color: #800000; text-decoration-color: #800000\">│</span>\n",
       "<span style=\"color: #800000; text-decoration-color: #800000\">│</span>   <span style=\"color: #7f7f7f; text-decoration-color: #7f7f7f\">1648 </span><span style=\"color: #7f7f7f; text-decoration-color: #7f7f7f\">│   │   │   │   │   │   </span>):                                                                <span style=\"color: #800000; text-decoration-color: #800000\">│</span>\n",
       "<span style=\"color: #800000; text-decoration-color: #800000\">│</span>   <span style=\"color: #7f7f7f; text-decoration-color: #7f7f7f\">1649 </span><span style=\"color: #7f7f7f; text-decoration-color: #7f7f7f\">│   │   │   │   │   │   │   </span>callbacks.on_train_batch_begin(step)                          <span style=\"color: #800000; text-decoration-color: #800000\">│</span>\n",
       "<span style=\"color: #800000; text-decoration-color: #800000\">│</span> <span style=\"color: #800000; text-decoration-color: #800000\">❱ </span>1650 <span style=\"color: #7f7f7f; text-decoration-color: #7f7f7f\">│   │   │   │   │   │   │   </span>tmp_logs = <span style=\"color: #00ffff; text-decoration-color: #00ffff\">self</span>.train_function(iterator)                      <span style=\"color: #800000; text-decoration-color: #800000\">│</span>\n",
       "<span style=\"color: #800000; text-decoration-color: #800000\">│</span>   <span style=\"color: #7f7f7f; text-decoration-color: #7f7f7f\">1651 </span><span style=\"color: #7f7f7f; text-decoration-color: #7f7f7f\">│   │   │   │   │   │   │   </span><span style=\"color: #0000ff; text-decoration-color: #0000ff\">if</span> data_handler.should_sync:                                  <span style=\"color: #800000; text-decoration-color: #800000\">│</span>\n",
       "<span style=\"color: #800000; text-decoration-color: #800000\">│</span>   <span style=\"color: #7f7f7f; text-decoration-color: #7f7f7f\">1652 </span><span style=\"color: #7f7f7f; text-decoration-color: #7f7f7f\">│   │   │   │   │   │   │   │   </span>context.async_wait()                                      <span style=\"color: #800000; text-decoration-color: #800000\">│</span>\n",
       "<span style=\"color: #800000; text-decoration-color: #800000\">│</span>   <span style=\"color: #7f7f7f; text-decoration-color: #7f7f7f\">1653 </span><span style=\"color: #7f7f7f; text-decoration-color: #7f7f7f\">│   │   │   │   │   │   │   </span><span style=\"color: #7f7f7f; text-decoration-color: #7f7f7f\"># No error, now safe to assign to logs.</span>                       <span style=\"color: #800000; text-decoration-color: #800000\">│</span>\n",
       "<span style=\"color: #800000; text-decoration-color: #800000\">│</span>                                                                                                  <span style=\"color: #800000; text-decoration-color: #800000\">│</span>\n",
       "<span style=\"color: #800000; text-decoration-color: #800000\">│</span> <span style=\"color: #bfbf7f; text-decoration-color: #bfbf7f\">/usr/local/lib/python3.9/dist-packages/tensorflow/python/util/</span><span style=\"color: #808000; text-decoration-color: #808000; font-weight: bold\">traceback_utils.py</span>:<span style=\"color: #0000ff; text-decoration-color: #0000ff\">150</span> in          <span style=\"color: #800000; text-decoration-color: #800000\">│</span>\n",
       "<span style=\"color: #800000; text-decoration-color: #800000\">│</span> <span style=\"color: #00ff00; text-decoration-color: #00ff00\">error_handler</span>                                                                                    <span style=\"color: #800000; text-decoration-color: #800000\">│</span>\n",
       "<span style=\"color: #800000; text-decoration-color: #800000\">│</span>                                                                                                  <span style=\"color: #800000; text-decoration-color: #800000\">│</span>\n",
       "<span style=\"color: #800000; text-decoration-color: #800000\">│</span>   <span style=\"color: #7f7f7f; text-decoration-color: #7f7f7f\">147 </span><span style=\"color: #7f7f7f; text-decoration-color: #7f7f7f\">│   </span>                                                                                       <span style=\"color: #800000; text-decoration-color: #800000\">│</span>\n",
       "<span style=\"color: #800000; text-decoration-color: #800000\">│</span>   <span style=\"color: #7f7f7f; text-decoration-color: #7f7f7f\">148 </span><span style=\"color: #7f7f7f; text-decoration-color: #7f7f7f\">│   </span>filtered_tb = <span style=\"color: #0000ff; text-decoration-color: #0000ff\">None</span>                                                                     <span style=\"color: #800000; text-decoration-color: #800000\">│</span>\n",
       "<span style=\"color: #800000; text-decoration-color: #800000\">│</span>   <span style=\"color: #7f7f7f; text-decoration-color: #7f7f7f\">149 </span><span style=\"color: #7f7f7f; text-decoration-color: #7f7f7f\">│   </span><span style=\"color: #0000ff; text-decoration-color: #0000ff\">try</span>:                                                                                   <span style=\"color: #800000; text-decoration-color: #800000\">│</span>\n",
       "<span style=\"color: #800000; text-decoration-color: #800000\">│</span> <span style=\"color: #800000; text-decoration-color: #800000\">❱ </span>150 <span style=\"color: #7f7f7f; text-decoration-color: #7f7f7f\">│     </span><span style=\"color: #0000ff; text-decoration-color: #0000ff\">return</span> fn(*args, **kwargs)                                                           <span style=\"color: #800000; text-decoration-color: #800000\">│</span>\n",
       "<span style=\"color: #800000; text-decoration-color: #800000\">│</span>   <span style=\"color: #7f7f7f; text-decoration-color: #7f7f7f\">151 </span><span style=\"color: #7f7f7f; text-decoration-color: #7f7f7f\">│   </span><span style=\"color: #0000ff; text-decoration-color: #0000ff\">except</span> <span style=\"color: #00ffff; text-decoration-color: #00ffff\">Exception</span> <span style=\"color: #0000ff; text-decoration-color: #0000ff\">as</span> e:                                                                 <span style=\"color: #800000; text-decoration-color: #800000\">│</span>\n",
       "<span style=\"color: #800000; text-decoration-color: #800000\">│</span>   <span style=\"color: #7f7f7f; text-decoration-color: #7f7f7f\">152 </span><span style=\"color: #7f7f7f; text-decoration-color: #7f7f7f\">│     </span>filtered_tb = _process_traceback_frames(e.__traceback__)                             <span style=\"color: #800000; text-decoration-color: #800000\">│</span>\n",
       "<span style=\"color: #800000; text-decoration-color: #800000\">│</span>   <span style=\"color: #7f7f7f; text-decoration-color: #7f7f7f\">153 </span><span style=\"color: #7f7f7f; text-decoration-color: #7f7f7f\">│     </span><span style=\"color: #0000ff; text-decoration-color: #0000ff\">raise</span> e.with_traceback(filtered_tb) <span style=\"color: #0000ff; text-decoration-color: #0000ff\">from</span> <span style=\"color: #0000ff; text-decoration-color: #0000ff\">None</span>                                        <span style=\"color: #800000; text-decoration-color: #800000\">│</span>\n",
       "<span style=\"color: #800000; text-decoration-color: #800000\">│</span>                                                                                                  <span style=\"color: #800000; text-decoration-color: #800000\">│</span>\n",
       "<span style=\"color: #800000; text-decoration-color: #800000\">│</span> <span style=\"color: #bfbf7f; text-decoration-color: #bfbf7f\">/usr/local/lib/python3.9/dist-packages/tensorflow/python/eager/polymorphic_function/</span><span style=\"color: #808000; text-decoration-color: #808000; font-weight: bold\">polymorphic_</span> <span style=\"color: #800000; text-decoration-color: #800000\">│</span>\n",
       "<span style=\"color: #800000; text-decoration-color: #800000\">│</span> <span style=\"color: #808000; text-decoration-color: #808000; font-weight: bold\">function.py</span>:<span style=\"color: #0000ff; text-decoration-color: #0000ff\">880</span> in <span style=\"color: #00ff00; text-decoration-color: #00ff00\">__call__</span>                                                                      <span style=\"color: #800000; text-decoration-color: #800000\">│</span>\n",
       "<span style=\"color: #800000; text-decoration-color: #800000\">│</span>                                                                                                  <span style=\"color: #800000; text-decoration-color: #800000\">│</span>\n",
       "<span style=\"color: #800000; text-decoration-color: #800000\">│</span>   <span style=\"color: #7f7f7f; text-decoration-color: #7f7f7f\"> 877 </span><span style=\"color: #7f7f7f; text-decoration-color: #7f7f7f\">│     </span>compiler = <span style=\"color: #808000; text-decoration-color: #808000\">\"xla\"</span> <span style=\"color: #0000ff; text-decoration-color: #0000ff\">if</span> <span style=\"color: #00ffff; text-decoration-color: #00ffff\">self</span>._jit_compile <span style=\"color: #0000ff; text-decoration-color: #0000ff\">else</span> <span style=\"color: #808000; text-decoration-color: #808000\">\"nonXla\"</span>                                 <span style=\"color: #800000; text-decoration-color: #800000\">│</span>\n",
       "<span style=\"color: #800000; text-decoration-color: #800000\">│</span>   <span style=\"color: #7f7f7f; text-decoration-color: #7f7f7f\"> 878 </span><span style=\"color: #7f7f7f; text-decoration-color: #7f7f7f\">│     </span>                                                                                    <span style=\"color: #800000; text-decoration-color: #800000\">│</span>\n",
       "<span style=\"color: #800000; text-decoration-color: #800000\">│</span>   <span style=\"color: #7f7f7f; text-decoration-color: #7f7f7f\"> 879 </span><span style=\"color: #7f7f7f; text-decoration-color: #7f7f7f\">│     </span><span style=\"color: #0000ff; text-decoration-color: #0000ff\">with</span> OptionalXlaContext(<span style=\"color: #00ffff; text-decoration-color: #00ffff\">self</span>._jit_compile):                                         <span style=\"color: #800000; text-decoration-color: #800000\">│</span>\n",
       "<span style=\"color: #800000; text-decoration-color: #800000\">│</span> <span style=\"color: #800000; text-decoration-color: #800000\">❱ </span> 880 <span style=\"color: #7f7f7f; text-decoration-color: #7f7f7f\">│   │   </span>result = <span style=\"color: #00ffff; text-decoration-color: #00ffff\">self</span>._call(*args, **kwds)                                                <span style=\"color: #800000; text-decoration-color: #800000\">│</span>\n",
       "<span style=\"color: #800000; text-decoration-color: #800000\">│</span>   <span style=\"color: #7f7f7f; text-decoration-color: #7f7f7f\"> 881 </span><span style=\"color: #7f7f7f; text-decoration-color: #7f7f7f\">│     </span>                                                                                    <span style=\"color: #800000; text-decoration-color: #800000\">│</span>\n",
       "<span style=\"color: #800000; text-decoration-color: #800000\">│</span>   <span style=\"color: #7f7f7f; text-decoration-color: #7f7f7f\"> 882 </span><span style=\"color: #7f7f7f; text-decoration-color: #7f7f7f\">│     </span>new_tracing_count = <span style=\"color: #00ffff; text-decoration-color: #00ffff\">self</span>.experimental_get_tracing_count()                           <span style=\"color: #800000; text-decoration-color: #800000\">│</span>\n",
       "<span style=\"color: #800000; text-decoration-color: #800000\">│</span>   <span style=\"color: #7f7f7f; text-decoration-color: #7f7f7f\"> 883 </span><span style=\"color: #7f7f7f; text-decoration-color: #7f7f7f\">│     </span>without_tracing = (tracing_count == new_tracing_count)                              <span style=\"color: #800000; text-decoration-color: #800000\">│</span>\n",
       "<span style=\"color: #800000; text-decoration-color: #800000\">│</span>                                                                                                  <span style=\"color: #800000; text-decoration-color: #800000\">│</span>\n",
       "<span style=\"color: #800000; text-decoration-color: #800000\">│</span> <span style=\"color: #bfbf7f; text-decoration-color: #bfbf7f\">/usr/local/lib/python3.9/dist-packages/tensorflow/python/eager/polymorphic_function/</span><span style=\"color: #808000; text-decoration-color: #808000; font-weight: bold\">polymorphic_</span> <span style=\"color: #800000; text-decoration-color: #800000\">│</span>\n",
       "<span style=\"color: #800000; text-decoration-color: #800000\">│</span> <span style=\"color: #808000; text-decoration-color: #808000; font-weight: bold\">function.py</span>:<span style=\"color: #0000ff; text-decoration-color: #0000ff\">912</span> in <span style=\"color: #00ff00; text-decoration-color: #00ff00\">_call</span>                                                                         <span style=\"color: #800000; text-decoration-color: #800000\">│</span>\n",
       "<span style=\"color: #800000; text-decoration-color: #800000\">│</span>                                                                                                  <span style=\"color: #800000; text-decoration-color: #800000\">│</span>\n",
       "<span style=\"color: #800000; text-decoration-color: #800000\">│</span>   <span style=\"color: #7f7f7f; text-decoration-color: #7f7f7f\"> 909 </span><span style=\"color: #7f7f7f; text-decoration-color: #7f7f7f\">│     </span><span style=\"color: #00ffff; text-decoration-color: #00ffff\">self</span>._lock.release()                                                                <span style=\"color: #800000; text-decoration-color: #800000\">│</span>\n",
       "<span style=\"color: #800000; text-decoration-color: #800000\">│</span>   <span style=\"color: #7f7f7f; text-decoration-color: #7f7f7f\"> 910 </span><span style=\"color: #7f7f7f; text-decoration-color: #7f7f7f\">│     </span><span style=\"color: #7f7f7f; text-decoration-color: #7f7f7f\"># In this case we have created variables on the first call, so we run the</span>           <span style=\"color: #800000; text-decoration-color: #800000\">│</span>\n",
       "<span style=\"color: #800000; text-decoration-color: #800000\">│</span>   <span style=\"color: #7f7f7f; text-decoration-color: #7f7f7f\"> 911 </span><span style=\"color: #7f7f7f; text-decoration-color: #7f7f7f\">│     </span><span style=\"color: #7f7f7f; text-decoration-color: #7f7f7f\"># defunned version which is guaranteed to never create variables.</span>                   <span style=\"color: #800000; text-decoration-color: #800000\">│</span>\n",
       "<span style=\"color: #800000; text-decoration-color: #800000\">│</span> <span style=\"color: #800000; text-decoration-color: #800000\">❱ </span> 912 <span style=\"color: #7f7f7f; text-decoration-color: #7f7f7f\">│     </span><span style=\"color: #0000ff; text-decoration-color: #0000ff\">return</span> <span style=\"color: #00ffff; text-decoration-color: #00ffff\">self</span>._no_variable_creation_fn(*args, **kwds)  <span style=\"color: #7f7f7f; text-decoration-color: #7f7f7f\"># pylint: disable=not-callabl</span>  <span style=\"color: #800000; text-decoration-color: #800000\">│</span>\n",
       "<span style=\"color: #800000; text-decoration-color: #800000\">│</span>   <span style=\"color: #7f7f7f; text-decoration-color: #7f7f7f\"> 913 </span><span style=\"color: #7f7f7f; text-decoration-color: #7f7f7f\">│   </span><span style=\"color: #0000ff; text-decoration-color: #0000ff\">elif</span> <span style=\"color: #00ffff; text-decoration-color: #00ffff\">self</span>._variable_creation_fn <span style=\"color: #ff00ff; text-decoration-color: #ff00ff\">is</span> <span style=\"color: #ff00ff; text-decoration-color: #ff00ff\">not</span> <span style=\"color: #0000ff; text-decoration-color: #0000ff\">None</span>:                                          <span style=\"color: #800000; text-decoration-color: #800000\">│</span>\n",
       "<span style=\"color: #800000; text-decoration-color: #800000\">│</span>   <span style=\"color: #7f7f7f; text-decoration-color: #7f7f7f\"> 914 </span><span style=\"color: #7f7f7f; text-decoration-color: #7f7f7f\">│     </span><span style=\"color: #7f7f7f; text-decoration-color: #7f7f7f\"># Release the lock early so that multiple threads can perform the call</span>              <span style=\"color: #800000; text-decoration-color: #800000\">│</span>\n",
       "<span style=\"color: #800000; text-decoration-color: #800000\">│</span>   <span style=\"color: #7f7f7f; text-decoration-color: #7f7f7f\"> 915 </span><span style=\"color: #7f7f7f; text-decoration-color: #7f7f7f\">│     </span><span style=\"color: #7f7f7f; text-decoration-color: #7f7f7f\"># in parallel.</span>                                                                      <span style=\"color: #800000; text-decoration-color: #800000\">│</span>\n",
       "<span style=\"color: #800000; text-decoration-color: #800000\">│</span>                                                                                                  <span style=\"color: #800000; text-decoration-color: #800000\">│</span>\n",
       "<span style=\"color: #800000; text-decoration-color: #800000\">│</span> <span style=\"color: #bfbf7f; text-decoration-color: #bfbf7f\">/usr/local/lib/python3.9/dist-packages/tensorflow/python/eager/polymorphic_function/</span><span style=\"color: #808000; text-decoration-color: #808000; font-weight: bold\">tracing_comp</span> <span style=\"color: #800000; text-decoration-color: #800000\">│</span>\n",
       "<span style=\"color: #800000; text-decoration-color: #800000\">│</span> <span style=\"color: #808000; text-decoration-color: #808000; font-weight: bold\">iler.py</span>:<span style=\"color: #0000ff; text-decoration-color: #0000ff\">134</span> in <span style=\"color: #00ff00; text-decoration-color: #00ff00\">__call__</span>                                                                          <span style=\"color: #800000; text-decoration-color: #800000\">│</span>\n",
       "<span style=\"color: #800000; text-decoration-color: #800000\">│</span>                                                                                                  <span style=\"color: #800000; text-decoration-color: #800000\">│</span>\n",
       "<span style=\"color: #800000; text-decoration-color: #800000\">│</span>   <span style=\"color: #7f7f7f; text-decoration-color: #7f7f7f\">131 </span><span style=\"color: #7f7f7f; text-decoration-color: #7f7f7f\">│   </span><span style=\"color: #0000ff; text-decoration-color: #0000ff\">with</span> <span style=\"color: #00ffff; text-decoration-color: #00ffff\">self</span>._lock:                                                                       <span style=\"color: #800000; text-decoration-color: #800000\">│</span>\n",
       "<span style=\"color: #800000; text-decoration-color: #800000\">│</span>   <span style=\"color: #7f7f7f; text-decoration-color: #7f7f7f\">132 </span><span style=\"color: #7f7f7f; text-decoration-color: #7f7f7f\">│     </span>(concrete_function,                                                                  <span style=\"color: #800000; text-decoration-color: #800000\">│</span>\n",
       "<span style=\"color: #800000; text-decoration-color: #800000\">│</span>   <span style=\"color: #7f7f7f; text-decoration-color: #7f7f7f\">133 </span><span style=\"color: #7f7f7f; text-decoration-color: #7f7f7f\">│      </span>filtered_flat_args) = <span style=\"color: #00ffff; text-decoration-color: #00ffff\">self</span>._maybe_define_function(args, kwargs)                     <span style=\"color: #800000; text-decoration-color: #800000\">│</span>\n",
       "<span style=\"color: #800000; text-decoration-color: #800000\">│</span> <span style=\"color: #800000; text-decoration-color: #800000\">❱ </span>134 <span style=\"color: #7f7f7f; text-decoration-color: #7f7f7f\">│   </span><span style=\"color: #0000ff; text-decoration-color: #0000ff\">return</span> concrete_function._call_flat(                                                   <span style=\"color: #800000; text-decoration-color: #800000\">│</span>\n",
       "<span style=\"color: #800000; text-decoration-color: #800000\">│</span>   <span style=\"color: #7f7f7f; text-decoration-color: #7f7f7f\">135 </span><span style=\"color: #7f7f7f; text-decoration-color: #7f7f7f\">│   │   </span>filtered_flat_args, captured_inputs=concrete_function.captured_inputs)  <span style=\"color: #7f7f7f; text-decoration-color: #7f7f7f\"># pylint</span>   <span style=\"color: #800000; text-decoration-color: #800000\">│</span>\n",
       "<span style=\"color: #800000; text-decoration-color: #800000\">│</span>   <span style=\"color: #7f7f7f; text-decoration-color: #7f7f7f\">136 </span><span style=\"color: #7f7f7f; text-decoration-color: #7f7f7f\">  </span>                                                                                         <span style=\"color: #800000; text-decoration-color: #800000\">│</span>\n",
       "<span style=\"color: #800000; text-decoration-color: #800000\">│</span>   <span style=\"color: #7f7f7f; text-decoration-color: #7f7f7f\">137 </span><span style=\"color: #7f7f7f; text-decoration-color: #7f7f7f\">  </span><span style=\"color: #ff00ff; text-decoration-color: #ff00ff; font-weight: bold\">@property</span>                                                                                <span style=\"color: #800000; text-decoration-color: #800000\">│</span>\n",
       "<span style=\"color: #800000; text-decoration-color: #800000\">│</span>                                                                                                  <span style=\"color: #800000; text-decoration-color: #800000\">│</span>\n",
       "<span style=\"color: #800000; text-decoration-color: #800000\">│</span> <span style=\"color: #bfbf7f; text-decoration-color: #bfbf7f\">/usr/local/lib/python3.9/dist-packages/tensorflow/python/eager/polymorphic_function/</span><span style=\"color: #808000; text-decoration-color: #808000; font-weight: bold\">monomorphic_</span> <span style=\"color: #800000; text-decoration-color: #800000\">│</span>\n",
       "<span style=\"color: #800000; text-decoration-color: #800000\">│</span> <span style=\"color: #808000; text-decoration-color: #808000; font-weight: bold\">function.py</span>:<span style=\"color: #0000ff; text-decoration-color: #0000ff\">1745</span> in <span style=\"color: #00ff00; text-decoration-color: #00ff00\">_call_flat</span>                                                                   <span style=\"color: #800000; text-decoration-color: #800000\">│</span>\n",
       "<span style=\"color: #800000; text-decoration-color: #800000\">│</span>                                                                                                  <span style=\"color: #800000; text-decoration-color: #800000\">│</span>\n",
       "<span style=\"color: #800000; text-decoration-color: #800000\">│</span>   <span style=\"color: #7f7f7f; text-decoration-color: #7f7f7f\">1742 </span><span style=\"color: #7f7f7f; text-decoration-color: #7f7f7f\">│   </span><span style=\"color: #0000ff; text-decoration-color: #0000ff\">if</span> (possible_gradient_type == gradients_util.POSSIBLE_GRADIENT_TYPES_NONE             <span style=\"color: #800000; text-decoration-color: #800000\">│</span>\n",
       "<span style=\"color: #800000; text-decoration-color: #800000\">│</span>   <span style=\"color: #7f7f7f; text-decoration-color: #7f7f7f\">1743 </span><span style=\"color: #7f7f7f; text-decoration-color: #7f7f7f\">│   │   </span><span style=\"color: #ff00ff; text-decoration-color: #ff00ff\">and</span> executing_eagerly):                                                           <span style=\"color: #800000; text-decoration-color: #800000\">│</span>\n",
       "<span style=\"color: #800000; text-decoration-color: #800000\">│</span>   <span style=\"color: #7f7f7f; text-decoration-color: #7f7f7f\">1744 </span><span style=\"color: #7f7f7f; text-decoration-color: #7f7f7f\">│     </span><span style=\"color: #7f7f7f; text-decoration-color: #7f7f7f\"># No tape is watching; skip to running the function.</span>                                <span style=\"color: #800000; text-decoration-color: #800000\">│</span>\n",
       "<span style=\"color: #800000; text-decoration-color: #800000\">│</span> <span style=\"color: #800000; text-decoration-color: #800000\">❱ </span>1745 <span style=\"color: #7f7f7f; text-decoration-color: #7f7f7f\">│     </span><span style=\"color: #0000ff; text-decoration-color: #0000ff\">return</span> <span style=\"color: #00ffff; text-decoration-color: #00ffff\">self</span>._build_call_outputs(<span style=\"color: #00ffff; text-decoration-color: #00ffff\">self</span>._inference_function.call(                      <span style=\"color: #800000; text-decoration-color: #800000\">│</span>\n",
       "<span style=\"color: #800000; text-decoration-color: #800000\">│</span>   <span style=\"color: #7f7f7f; text-decoration-color: #7f7f7f\">1746 </span><span style=\"color: #7f7f7f; text-decoration-color: #7f7f7f\">│   │     </span>ctx, args, cancellation_manager=cancellation_manager))                          <span style=\"color: #800000; text-decoration-color: #800000\">│</span>\n",
       "<span style=\"color: #800000; text-decoration-color: #800000\">│</span>   <span style=\"color: #7f7f7f; text-decoration-color: #7f7f7f\">1747 </span><span style=\"color: #7f7f7f; text-decoration-color: #7f7f7f\">│   </span>forward_backward = <span style=\"color: #00ffff; text-decoration-color: #00ffff\">self</span>._select_forward_and_backward_functions(                       <span style=\"color: #800000; text-decoration-color: #800000\">│</span>\n",
       "<span style=\"color: #800000; text-decoration-color: #800000\">│</span>   <span style=\"color: #7f7f7f; text-decoration-color: #7f7f7f\">1748 </span><span style=\"color: #7f7f7f; text-decoration-color: #7f7f7f\">│   │   </span>args,                                                                             <span style=\"color: #800000; text-decoration-color: #800000\">│</span>\n",
       "<span style=\"color: #800000; text-decoration-color: #800000\">│</span>                                                                                                  <span style=\"color: #800000; text-decoration-color: #800000\">│</span>\n",
       "<span style=\"color: #800000; text-decoration-color: #800000\">│</span> <span style=\"color: #bfbf7f; text-decoration-color: #bfbf7f\">/usr/local/lib/python3.9/dist-packages/tensorflow/python/eager/polymorphic_function/</span><span style=\"color: #808000; text-decoration-color: #808000; font-weight: bold\">monomorphic_</span> <span style=\"color: #800000; text-decoration-color: #800000\">│</span>\n",
       "<span style=\"color: #800000; text-decoration-color: #800000\">│</span> <span style=\"color: #808000; text-decoration-color: #808000; font-weight: bold\">function.py</span>:<span style=\"color: #0000ff; text-decoration-color: #0000ff\">378</span> in <span style=\"color: #00ff00; text-decoration-color: #00ff00\">call</span>                                                                          <span style=\"color: #800000; text-decoration-color: #800000\">│</span>\n",
       "<span style=\"color: #800000; text-decoration-color: #800000\">│</span>                                                                                                  <span style=\"color: #800000; text-decoration-color: #800000\">│</span>\n",
       "<span style=\"color: #800000; text-decoration-color: #800000\">│</span>   <span style=\"color: #7f7f7f; text-decoration-color: #7f7f7f\"> 375 </span><span style=\"color: #7f7f7f; text-decoration-color: #7f7f7f\">│   </span><span style=\"color: #0000ff; text-decoration-color: #0000ff\">if</span> executing_eagerly:                                                                 <span style=\"color: #800000; text-decoration-color: #800000\">│</span>\n",
       "<span style=\"color: #800000; text-decoration-color: #800000\">│</span>   <span style=\"color: #7f7f7f; text-decoration-color: #7f7f7f\"> 376 </span><span style=\"color: #7f7f7f; text-decoration-color: #7f7f7f\">│     </span><span style=\"color: #0000ff; text-decoration-color: #0000ff\">with</span> _InterpolateFunctionError(<span style=\"color: #00ffff; text-decoration-color: #00ffff\">self</span>):                                               <span style=\"color: #800000; text-decoration-color: #800000\">│</span>\n",
       "<span style=\"color: #800000; text-decoration-color: #800000\">│</span>   <span style=\"color: #7f7f7f; text-decoration-color: #7f7f7f\"> 377 </span><span style=\"color: #7f7f7f; text-decoration-color: #7f7f7f\">│   │   </span><span style=\"color: #0000ff; text-decoration-color: #0000ff\">if</span> cancellation_manager <span style=\"color: #ff00ff; text-decoration-color: #ff00ff\">is</span> <span style=\"color: #0000ff; text-decoration-color: #0000ff\">None</span>:                                                  <span style=\"color: #800000; text-decoration-color: #800000\">│</span>\n",
       "<span style=\"color: #800000; text-decoration-color: #800000\">│</span> <span style=\"color: #800000; text-decoration-color: #800000\">❱ </span> 378 <span style=\"color: #7f7f7f; text-decoration-color: #7f7f7f\">│   │     </span>outputs = execute.execute(                                                      <span style=\"color: #800000; text-decoration-color: #800000\">│</span>\n",
       "<span style=\"color: #800000; text-decoration-color: #800000\">│</span>   <span style=\"color: #7f7f7f; text-decoration-color: #7f7f7f\"> 379 </span><span style=\"color: #7f7f7f; text-decoration-color: #7f7f7f\">│   │   │     </span><span style=\"color: #00ffff; text-decoration-color: #00ffff\">str</span>(<span style=\"color: #00ffff; text-decoration-color: #00ffff\">self</span>.signature.name),                                                   <span style=\"color: #800000; text-decoration-color: #800000\">│</span>\n",
       "<span style=\"color: #800000; text-decoration-color: #800000\">│</span>   <span style=\"color: #7f7f7f; text-decoration-color: #7f7f7f\"> 380 </span><span style=\"color: #7f7f7f; text-decoration-color: #7f7f7f\">│   │   │     </span>num_outputs=<span style=\"color: #00ffff; text-decoration-color: #00ffff\">self</span>._num_outputs,                                              <span style=\"color: #800000; text-decoration-color: #800000\">│</span>\n",
       "<span style=\"color: #800000; text-decoration-color: #800000\">│</span>   <span style=\"color: #7f7f7f; text-decoration-color: #7f7f7f\"> 381 </span><span style=\"color: #7f7f7f; text-decoration-color: #7f7f7f\">│   │   │     </span>inputs=args,                                                                <span style=\"color: #800000; text-decoration-color: #800000\">│</span>\n",
       "<span style=\"color: #800000; text-decoration-color: #800000\">│</span>                                                                                                  <span style=\"color: #800000; text-decoration-color: #800000\">│</span>\n",
       "<span style=\"color: #800000; text-decoration-color: #800000\">│</span> <span style=\"color: #bfbf7f; text-decoration-color: #bfbf7f\">/usr/local/lib/python3.9/dist-packages/tensorflow/python/eager/</span><span style=\"color: #808000; text-decoration-color: #808000; font-weight: bold\">execute.py</span>:<span style=\"color: #0000ff; text-decoration-color: #0000ff\">52</span> in <span style=\"color: #00ff00; text-decoration-color: #00ff00\">quick_execute</span>    <span style=\"color: #800000; text-decoration-color: #800000\">│</span>\n",
       "<span style=\"color: #800000; text-decoration-color: #800000\">│</span>                                                                                                  <span style=\"color: #800000; text-decoration-color: #800000\">│</span>\n",
       "<span style=\"color: #800000; text-decoration-color: #800000\">│</span>   <span style=\"color: #7f7f7f; text-decoration-color: #7f7f7f\"> 49 </span><span style=\"color: #7f7f7f; text-decoration-color: #7f7f7f\">  </span><span style=\"color: #7f7f7f; text-decoration-color: #7f7f7f\"># pylint: disable=protected-access</span>                                                       <span style=\"color: #800000; text-decoration-color: #800000\">│</span>\n",
       "<span style=\"color: #800000; text-decoration-color: #800000\">│</span>   <span style=\"color: #7f7f7f; text-decoration-color: #7f7f7f\"> 50 </span><span style=\"color: #7f7f7f; text-decoration-color: #7f7f7f\">  </span><span style=\"color: #0000ff; text-decoration-color: #0000ff\">try</span>:                                                                                     <span style=\"color: #800000; text-decoration-color: #800000\">│</span>\n",
       "<span style=\"color: #800000; text-decoration-color: #800000\">│</span>   <span style=\"color: #7f7f7f; text-decoration-color: #7f7f7f\"> 51 </span><span style=\"color: #7f7f7f; text-decoration-color: #7f7f7f\">│   </span>ctx.ensure_initialized()                                                               <span style=\"color: #800000; text-decoration-color: #800000\">│</span>\n",
       "<span style=\"color: #800000; text-decoration-color: #800000\">│</span> <span style=\"color: #800000; text-decoration-color: #800000\">❱ </span> 52 <span style=\"color: #7f7f7f; text-decoration-color: #7f7f7f\">│   </span>tensors = pywrap_tfe.TFE_Py_Execute(ctx._handle, device_name, op_name,                 <span style=\"color: #800000; text-decoration-color: #800000\">│</span>\n",
       "<span style=\"color: #800000; text-decoration-color: #800000\">│</span>   <span style=\"color: #7f7f7f; text-decoration-color: #7f7f7f\"> 53 </span><span style=\"color: #7f7f7f; text-decoration-color: #7f7f7f\">│   │   │   │   │   │   │   │   │   │   </span>inputs, attrs, num_outputs)                        <span style=\"color: #800000; text-decoration-color: #800000\">│</span>\n",
       "<span style=\"color: #800000; text-decoration-color: #800000\">│</span>   <span style=\"color: #7f7f7f; text-decoration-color: #7f7f7f\"> 54 </span><span style=\"color: #7f7f7f; text-decoration-color: #7f7f7f\">  </span><span style=\"color: #0000ff; text-decoration-color: #0000ff\">except</span> core._NotOkStatusException <span style=\"color: #0000ff; text-decoration-color: #0000ff\">as</span> e:                                                  <span style=\"color: #800000; text-decoration-color: #800000\">│</span>\n",
       "<span style=\"color: #800000; text-decoration-color: #800000\">│</span>   <span style=\"color: #7f7f7f; text-decoration-color: #7f7f7f\"> 55 </span><span style=\"color: #7f7f7f; text-decoration-color: #7f7f7f\">│   </span><span style=\"color: #0000ff; text-decoration-color: #0000ff\">if</span> name <span style=\"color: #ff00ff; text-decoration-color: #ff00ff\">is</span> <span style=\"color: #ff00ff; text-decoration-color: #ff00ff\">not</span> <span style=\"color: #0000ff; text-decoration-color: #0000ff\">None</span>:                                                                   <span style=\"color: #800000; text-decoration-color: #800000\">│</span>\n",
       "<span style=\"color: #800000; text-decoration-color: #800000\">╰──────────────────────────────────────────────────────────────────────────────────────────────────╯</span>\n",
       "<span style=\"color: #ff0000; text-decoration-color: #ff0000; font-weight: bold\">KeyboardInterrupt</span>\n",
       "</pre>\n"
      ],
      "text/plain": [
       "\u001b[31m╭─\u001b[0m\u001b[31m──────────────────────────────\u001b[0m\u001b[31m \u001b[0m\u001b[1;31mTraceback \u001b[0m\u001b[1;2;31m(most recent call last)\u001b[0m\u001b[31m \u001b[0m\u001b[31m───────────────────────────────\u001b[0m\u001b[31m─╮\u001b[0m\n",
       "\u001b[31m│\u001b[0m in \u001b[92m<cell line: 4>\u001b[0m:\u001b[94m4\u001b[0m                                                                              \u001b[31m│\u001b[0m\n",
       "\u001b[31m│\u001b[0m                                                                                                  \u001b[31m│\u001b[0m\n",
       "\u001b[31m│\u001b[0m   \u001b[2m 1 \u001b[0m\u001b[94mfrom\u001b[0m \u001b[4;96mkeras\u001b[0m\u001b[4;96m.\u001b[0m\u001b[4;96mcallbacks\u001b[0m \u001b[94mimport\u001b[0m History                                                         \u001b[31m│\u001b[0m\n",
       "\u001b[31m│\u001b[0m   \u001b[2m 2 \u001b[0mhistory = History()                                                                         \u001b[31m│\u001b[0m\n",
       "\u001b[31m│\u001b[0m   \u001b[2m 3 \u001b[0m                                                                                            \u001b[31m│\u001b[0m\n",
       "\u001b[31m│\u001b[0m \u001b[31m❱ \u001b[0m 4 poi_c2v.fit(                                                                                \u001b[31m│\u001b[0m\n",
       "\u001b[31m│\u001b[0m   \u001b[2m 5 \u001b[0m\u001b[2m│   \u001b[0mname_pairs=X_train,                                                                     \u001b[31m│\u001b[0m\n",
       "\u001b[31m│\u001b[0m   \u001b[2m 6 \u001b[0m\u001b[2m│   \u001b[0mtarget=y_train,                                                                         \u001b[31m│\u001b[0m\n",
       "\u001b[31m│\u001b[0m   \u001b[2m 7 \u001b[0m\u001b[2m│   \u001b[0mvalidation_split=\u001b[94m0.1\u001b[0m,                                                                   \u001b[31m│\u001b[0m\n",
       "\u001b[31m│\u001b[0m                                                                                                  \u001b[31m│\u001b[0m\n",
       "\u001b[31m│\u001b[0m in \u001b[92mfit\u001b[0m:\u001b[94m56\u001b[0m                                                                                        \u001b[31m│\u001b[0m\n",
       "\u001b[31m│\u001b[0m                                                                                                  \u001b[31m│\u001b[0m\n",
       "\u001b[31m│\u001b[0m   \u001b[2m 53 \u001b[0m\u001b[2m│   │   \u001b[0mX1_pad = tf.keras.preprocessing.sequence.pad_sequences(X1)                         \u001b[31m│\u001b[0m\n",
       "\u001b[31m│\u001b[0m   \u001b[2m 54 \u001b[0m\u001b[2m│   │   \u001b[0mX2_pad = tf.keras.preprocessing.sequence.pad_sequences(X2)                         \u001b[31m│\u001b[0m\n",
       "\u001b[31m│\u001b[0m   \u001b[2m 55 \u001b[0m\u001b[2m│   │   \u001b[0m                                                                                   \u001b[31m│\u001b[0m\n",
       "\u001b[31m│\u001b[0m \u001b[31m❱ \u001b[0m 56 \u001b[2m│   │   \u001b[0m\u001b[96mself\u001b[0m.model.fit((X1_pad, X2_pad), target,verbose=\u001b[94m1\u001b[0m,                                 \u001b[31m│\u001b[0m\n",
       "\u001b[31m│\u001b[0m   \u001b[2m 57 \u001b[0m\u001b[2m│   │   │   │   │   \u001b[0mbatch_size=batch_size, epochs=max_epochs,                              \u001b[31m│\u001b[0m\n",
       "\u001b[31m│\u001b[0m   \u001b[2m 58 \u001b[0m\u001b[2m│   │   │   │   │   \u001b[0mvalidation_split=validation_split,                                     \u001b[31m│\u001b[0m\n",
       "\u001b[31m│\u001b[0m   \u001b[2m 59 \u001b[0m\u001b[2m│   │   │   │   │   \u001b[0mcallbacks=[tf.keras.callbacks.EarlyStopping(monitor=\u001b[33m'\u001b[0m\u001b[33mval_loss\u001b[0m\u001b[33m'\u001b[0m, pati   \u001b[31m│\u001b[0m\n",
       "\u001b[31m│\u001b[0m                                                                                                  \u001b[31m│\u001b[0m\n",
       "\u001b[31m│\u001b[0m \u001b[2;33m/usr/local/lib/python3.9/dist-packages/keras/utils/\u001b[0m\u001b[1;33mtraceback_utils.py\u001b[0m:\u001b[94m65\u001b[0m in \u001b[92merror_handler\u001b[0m        \u001b[31m│\u001b[0m\n",
       "\u001b[31m│\u001b[0m                                                                                                  \u001b[31m│\u001b[0m\n",
       "\u001b[31m│\u001b[0m   \u001b[2m 62 \u001b[0m\u001b[2m│   │   \u001b[0m                                                                                   \u001b[31m│\u001b[0m\n",
       "\u001b[31m│\u001b[0m   \u001b[2m 63 \u001b[0m\u001b[2m│   │   \u001b[0mfiltered_tb = \u001b[94mNone\u001b[0m                                                                 \u001b[31m│\u001b[0m\n",
       "\u001b[31m│\u001b[0m   \u001b[2m 64 \u001b[0m\u001b[2m│   │   \u001b[0m\u001b[94mtry\u001b[0m:                                                                               \u001b[31m│\u001b[0m\n",
       "\u001b[31m│\u001b[0m \u001b[31m❱ \u001b[0m 65 \u001b[2m│   │   │   \u001b[0m\u001b[94mreturn\u001b[0m fn(*args, **kwargs)                                                     \u001b[31m│\u001b[0m\n",
       "\u001b[31m│\u001b[0m   \u001b[2m 66 \u001b[0m\u001b[2m│   │   \u001b[0m\u001b[94mexcept\u001b[0m \u001b[96mException\u001b[0m \u001b[94mas\u001b[0m e:                                                             \u001b[31m│\u001b[0m\n",
       "\u001b[31m│\u001b[0m   \u001b[2m 67 \u001b[0m\u001b[2m│   │   │   \u001b[0mfiltered_tb = _process_traceback_frames(e.__traceback__)                       \u001b[31m│\u001b[0m\n",
       "\u001b[31m│\u001b[0m   \u001b[2m 68 \u001b[0m\u001b[2m│   │   │   \u001b[0m\u001b[2m# To get the full stack trace, call:\u001b[0m                                           \u001b[31m│\u001b[0m\n",
       "\u001b[31m│\u001b[0m                                                                                                  \u001b[31m│\u001b[0m\n",
       "\u001b[31m│\u001b[0m \u001b[2;33m/usr/local/lib/python3.9/dist-packages/keras/engine/\u001b[0m\u001b[1;33mtraining.py\u001b[0m:\u001b[94m1650\u001b[0m in \u001b[92mfit\u001b[0m                      \u001b[31m│\u001b[0m\n",
       "\u001b[31m│\u001b[0m                                                                                                  \u001b[31m│\u001b[0m\n",
       "\u001b[31m│\u001b[0m   \u001b[2m1647 \u001b[0m\u001b[2m│   │   │   │   │   │   │   \u001b[0m_r=\u001b[94m1\u001b[0m,                                                         \u001b[31m│\u001b[0m\n",
       "\u001b[31m│\u001b[0m   \u001b[2m1648 \u001b[0m\u001b[2m│   │   │   │   │   │   \u001b[0m):                                                                \u001b[31m│\u001b[0m\n",
       "\u001b[31m│\u001b[0m   \u001b[2m1649 \u001b[0m\u001b[2m│   │   │   │   │   │   │   \u001b[0mcallbacks.on_train_batch_begin(step)                          \u001b[31m│\u001b[0m\n",
       "\u001b[31m│\u001b[0m \u001b[31m❱ \u001b[0m1650 \u001b[2m│   │   │   │   │   │   │   \u001b[0mtmp_logs = \u001b[96mself\u001b[0m.train_function(iterator)                      \u001b[31m│\u001b[0m\n",
       "\u001b[31m│\u001b[0m   \u001b[2m1651 \u001b[0m\u001b[2m│   │   │   │   │   │   │   \u001b[0m\u001b[94mif\u001b[0m data_handler.should_sync:                                  \u001b[31m│\u001b[0m\n",
       "\u001b[31m│\u001b[0m   \u001b[2m1652 \u001b[0m\u001b[2m│   │   │   │   │   │   │   │   \u001b[0mcontext.async_wait()                                      \u001b[31m│\u001b[0m\n",
       "\u001b[31m│\u001b[0m   \u001b[2m1653 \u001b[0m\u001b[2m│   │   │   │   │   │   │   \u001b[0m\u001b[2m# No error, now safe to assign to logs.\u001b[0m                       \u001b[31m│\u001b[0m\n",
       "\u001b[31m│\u001b[0m                                                                                                  \u001b[31m│\u001b[0m\n",
       "\u001b[31m│\u001b[0m \u001b[2;33m/usr/local/lib/python3.9/dist-packages/tensorflow/python/util/\u001b[0m\u001b[1;33mtraceback_utils.py\u001b[0m:\u001b[94m150\u001b[0m in          \u001b[31m│\u001b[0m\n",
       "\u001b[31m│\u001b[0m \u001b[92merror_handler\u001b[0m                                                                                    \u001b[31m│\u001b[0m\n",
       "\u001b[31m│\u001b[0m                                                                                                  \u001b[31m│\u001b[0m\n",
       "\u001b[31m│\u001b[0m   \u001b[2m147 \u001b[0m\u001b[2m│   \u001b[0m                                                                                       \u001b[31m│\u001b[0m\n",
       "\u001b[31m│\u001b[0m   \u001b[2m148 \u001b[0m\u001b[2m│   \u001b[0mfiltered_tb = \u001b[94mNone\u001b[0m                                                                     \u001b[31m│\u001b[0m\n",
       "\u001b[31m│\u001b[0m   \u001b[2m149 \u001b[0m\u001b[2m│   \u001b[0m\u001b[94mtry\u001b[0m:                                                                                   \u001b[31m│\u001b[0m\n",
       "\u001b[31m│\u001b[0m \u001b[31m❱ \u001b[0m150 \u001b[2m│     \u001b[0m\u001b[94mreturn\u001b[0m fn(*args, **kwargs)                                                           \u001b[31m│\u001b[0m\n",
       "\u001b[31m│\u001b[0m   \u001b[2m151 \u001b[0m\u001b[2m│   \u001b[0m\u001b[94mexcept\u001b[0m \u001b[96mException\u001b[0m \u001b[94mas\u001b[0m e:                                                                 \u001b[31m│\u001b[0m\n",
       "\u001b[31m│\u001b[0m   \u001b[2m152 \u001b[0m\u001b[2m│     \u001b[0mfiltered_tb = _process_traceback_frames(e.__traceback__)                             \u001b[31m│\u001b[0m\n",
       "\u001b[31m│\u001b[0m   \u001b[2m153 \u001b[0m\u001b[2m│     \u001b[0m\u001b[94mraise\u001b[0m e.with_traceback(filtered_tb) \u001b[94mfrom\u001b[0m \u001b[94mNone\u001b[0m                                        \u001b[31m│\u001b[0m\n",
       "\u001b[31m│\u001b[0m                                                                                                  \u001b[31m│\u001b[0m\n",
       "\u001b[31m│\u001b[0m \u001b[2;33m/usr/local/lib/python3.9/dist-packages/tensorflow/python/eager/polymorphic_function/\u001b[0m\u001b[1;33mpolymorphic_\u001b[0m \u001b[31m│\u001b[0m\n",
       "\u001b[31m│\u001b[0m \u001b[1;33mfunction.py\u001b[0m:\u001b[94m880\u001b[0m in \u001b[92m__call__\u001b[0m                                                                      \u001b[31m│\u001b[0m\n",
       "\u001b[31m│\u001b[0m                                                                                                  \u001b[31m│\u001b[0m\n",
       "\u001b[31m│\u001b[0m   \u001b[2m 877 \u001b[0m\u001b[2m│     \u001b[0mcompiler = \u001b[33m\"\u001b[0m\u001b[33mxla\u001b[0m\u001b[33m\"\u001b[0m \u001b[94mif\u001b[0m \u001b[96mself\u001b[0m._jit_compile \u001b[94melse\u001b[0m \u001b[33m\"\u001b[0m\u001b[33mnonXla\u001b[0m\u001b[33m\"\u001b[0m                                 \u001b[31m│\u001b[0m\n",
       "\u001b[31m│\u001b[0m   \u001b[2m 878 \u001b[0m\u001b[2m│     \u001b[0m                                                                                    \u001b[31m│\u001b[0m\n",
       "\u001b[31m│\u001b[0m   \u001b[2m 879 \u001b[0m\u001b[2m│     \u001b[0m\u001b[94mwith\u001b[0m OptionalXlaContext(\u001b[96mself\u001b[0m._jit_compile):                                         \u001b[31m│\u001b[0m\n",
       "\u001b[31m│\u001b[0m \u001b[31m❱ \u001b[0m 880 \u001b[2m│   │   \u001b[0mresult = \u001b[96mself\u001b[0m._call(*args, **kwds)                                                \u001b[31m│\u001b[0m\n",
       "\u001b[31m│\u001b[0m   \u001b[2m 881 \u001b[0m\u001b[2m│     \u001b[0m                                                                                    \u001b[31m│\u001b[0m\n",
       "\u001b[31m│\u001b[0m   \u001b[2m 882 \u001b[0m\u001b[2m│     \u001b[0mnew_tracing_count = \u001b[96mself\u001b[0m.experimental_get_tracing_count()                           \u001b[31m│\u001b[0m\n",
       "\u001b[31m│\u001b[0m   \u001b[2m 883 \u001b[0m\u001b[2m│     \u001b[0mwithout_tracing = (tracing_count == new_tracing_count)                              \u001b[31m│\u001b[0m\n",
       "\u001b[31m│\u001b[0m                                                                                                  \u001b[31m│\u001b[0m\n",
       "\u001b[31m│\u001b[0m \u001b[2;33m/usr/local/lib/python3.9/dist-packages/tensorflow/python/eager/polymorphic_function/\u001b[0m\u001b[1;33mpolymorphic_\u001b[0m \u001b[31m│\u001b[0m\n",
       "\u001b[31m│\u001b[0m \u001b[1;33mfunction.py\u001b[0m:\u001b[94m912\u001b[0m in \u001b[92m_call\u001b[0m                                                                         \u001b[31m│\u001b[0m\n",
       "\u001b[31m│\u001b[0m                                                                                                  \u001b[31m│\u001b[0m\n",
       "\u001b[31m│\u001b[0m   \u001b[2m 909 \u001b[0m\u001b[2m│     \u001b[0m\u001b[96mself\u001b[0m._lock.release()                                                                \u001b[31m│\u001b[0m\n",
       "\u001b[31m│\u001b[0m   \u001b[2m 910 \u001b[0m\u001b[2m│     \u001b[0m\u001b[2m# In this case we have created variables on the first call, so we run the\u001b[0m           \u001b[31m│\u001b[0m\n",
       "\u001b[31m│\u001b[0m   \u001b[2m 911 \u001b[0m\u001b[2m│     \u001b[0m\u001b[2m# defunned version which is guaranteed to never create variables.\u001b[0m                   \u001b[31m│\u001b[0m\n",
       "\u001b[31m│\u001b[0m \u001b[31m❱ \u001b[0m 912 \u001b[2m│     \u001b[0m\u001b[94mreturn\u001b[0m \u001b[96mself\u001b[0m._no_variable_creation_fn(*args, **kwds)  \u001b[2m# pylint: disable=not-callabl\u001b[0m  \u001b[31m│\u001b[0m\n",
       "\u001b[31m│\u001b[0m   \u001b[2m 913 \u001b[0m\u001b[2m│   \u001b[0m\u001b[94melif\u001b[0m \u001b[96mself\u001b[0m._variable_creation_fn \u001b[95mis\u001b[0m \u001b[95mnot\u001b[0m \u001b[94mNone\u001b[0m:                                          \u001b[31m│\u001b[0m\n",
       "\u001b[31m│\u001b[0m   \u001b[2m 914 \u001b[0m\u001b[2m│     \u001b[0m\u001b[2m# Release the lock early so that multiple threads can perform the call\u001b[0m              \u001b[31m│\u001b[0m\n",
       "\u001b[31m│\u001b[0m   \u001b[2m 915 \u001b[0m\u001b[2m│     \u001b[0m\u001b[2m# in parallel.\u001b[0m                                                                      \u001b[31m│\u001b[0m\n",
       "\u001b[31m│\u001b[0m                                                                                                  \u001b[31m│\u001b[0m\n",
       "\u001b[31m│\u001b[0m \u001b[2;33m/usr/local/lib/python3.9/dist-packages/tensorflow/python/eager/polymorphic_function/\u001b[0m\u001b[1;33mtracing_comp\u001b[0m \u001b[31m│\u001b[0m\n",
       "\u001b[31m│\u001b[0m \u001b[1;33miler.py\u001b[0m:\u001b[94m134\u001b[0m in \u001b[92m__call__\u001b[0m                                                                          \u001b[31m│\u001b[0m\n",
       "\u001b[31m│\u001b[0m                                                                                                  \u001b[31m│\u001b[0m\n",
       "\u001b[31m│\u001b[0m   \u001b[2m131 \u001b[0m\u001b[2m│   \u001b[0m\u001b[94mwith\u001b[0m \u001b[96mself\u001b[0m._lock:                                                                       \u001b[31m│\u001b[0m\n",
       "\u001b[31m│\u001b[0m   \u001b[2m132 \u001b[0m\u001b[2m│     \u001b[0m(concrete_function,                                                                  \u001b[31m│\u001b[0m\n",
       "\u001b[31m│\u001b[0m   \u001b[2m133 \u001b[0m\u001b[2m│      \u001b[0mfiltered_flat_args) = \u001b[96mself\u001b[0m._maybe_define_function(args, kwargs)                     \u001b[31m│\u001b[0m\n",
       "\u001b[31m│\u001b[0m \u001b[31m❱ \u001b[0m134 \u001b[2m│   \u001b[0m\u001b[94mreturn\u001b[0m concrete_function._call_flat(                                                   \u001b[31m│\u001b[0m\n",
       "\u001b[31m│\u001b[0m   \u001b[2m135 \u001b[0m\u001b[2m│   │   \u001b[0mfiltered_flat_args, captured_inputs=concrete_function.captured_inputs)  \u001b[2m# pylint\u001b[0m   \u001b[31m│\u001b[0m\n",
       "\u001b[31m│\u001b[0m   \u001b[2m136 \u001b[0m\u001b[2m  \u001b[0m                                                                                         \u001b[31m│\u001b[0m\n",
       "\u001b[31m│\u001b[0m   \u001b[2m137 \u001b[0m\u001b[2m  \u001b[0m\u001b[1;95m@property\u001b[0m                                                                                \u001b[31m│\u001b[0m\n",
       "\u001b[31m│\u001b[0m                                                                                                  \u001b[31m│\u001b[0m\n",
       "\u001b[31m│\u001b[0m \u001b[2;33m/usr/local/lib/python3.9/dist-packages/tensorflow/python/eager/polymorphic_function/\u001b[0m\u001b[1;33mmonomorphic_\u001b[0m \u001b[31m│\u001b[0m\n",
       "\u001b[31m│\u001b[0m \u001b[1;33mfunction.py\u001b[0m:\u001b[94m1745\u001b[0m in \u001b[92m_call_flat\u001b[0m                                                                   \u001b[31m│\u001b[0m\n",
       "\u001b[31m│\u001b[0m                                                                                                  \u001b[31m│\u001b[0m\n",
       "\u001b[31m│\u001b[0m   \u001b[2m1742 \u001b[0m\u001b[2m│   \u001b[0m\u001b[94mif\u001b[0m (possible_gradient_type == gradients_util.POSSIBLE_GRADIENT_TYPES_NONE             \u001b[31m│\u001b[0m\n",
       "\u001b[31m│\u001b[0m   \u001b[2m1743 \u001b[0m\u001b[2m│   │   \u001b[0m\u001b[95mand\u001b[0m executing_eagerly):                                                           \u001b[31m│\u001b[0m\n",
       "\u001b[31m│\u001b[0m   \u001b[2m1744 \u001b[0m\u001b[2m│     \u001b[0m\u001b[2m# No tape is watching; skip to running the function.\u001b[0m                                \u001b[31m│\u001b[0m\n",
       "\u001b[31m│\u001b[0m \u001b[31m❱ \u001b[0m1745 \u001b[2m│     \u001b[0m\u001b[94mreturn\u001b[0m \u001b[96mself\u001b[0m._build_call_outputs(\u001b[96mself\u001b[0m._inference_function.call(                      \u001b[31m│\u001b[0m\n",
       "\u001b[31m│\u001b[0m   \u001b[2m1746 \u001b[0m\u001b[2m│   │     \u001b[0mctx, args, cancellation_manager=cancellation_manager))                          \u001b[31m│\u001b[0m\n",
       "\u001b[31m│\u001b[0m   \u001b[2m1747 \u001b[0m\u001b[2m│   \u001b[0mforward_backward = \u001b[96mself\u001b[0m._select_forward_and_backward_functions(                       \u001b[31m│\u001b[0m\n",
       "\u001b[31m│\u001b[0m   \u001b[2m1748 \u001b[0m\u001b[2m│   │   \u001b[0margs,                                                                             \u001b[31m│\u001b[0m\n",
       "\u001b[31m│\u001b[0m                                                                                                  \u001b[31m│\u001b[0m\n",
       "\u001b[31m│\u001b[0m \u001b[2;33m/usr/local/lib/python3.9/dist-packages/tensorflow/python/eager/polymorphic_function/\u001b[0m\u001b[1;33mmonomorphic_\u001b[0m \u001b[31m│\u001b[0m\n",
       "\u001b[31m│\u001b[0m \u001b[1;33mfunction.py\u001b[0m:\u001b[94m378\u001b[0m in \u001b[92mcall\u001b[0m                                                                          \u001b[31m│\u001b[0m\n",
       "\u001b[31m│\u001b[0m                                                                                                  \u001b[31m│\u001b[0m\n",
       "\u001b[31m│\u001b[0m   \u001b[2m 375 \u001b[0m\u001b[2m│   \u001b[0m\u001b[94mif\u001b[0m executing_eagerly:                                                                 \u001b[31m│\u001b[0m\n",
       "\u001b[31m│\u001b[0m   \u001b[2m 376 \u001b[0m\u001b[2m│     \u001b[0m\u001b[94mwith\u001b[0m _InterpolateFunctionError(\u001b[96mself\u001b[0m):                                               \u001b[31m│\u001b[0m\n",
       "\u001b[31m│\u001b[0m   \u001b[2m 377 \u001b[0m\u001b[2m│   │   \u001b[0m\u001b[94mif\u001b[0m cancellation_manager \u001b[95mis\u001b[0m \u001b[94mNone\u001b[0m:                                                  \u001b[31m│\u001b[0m\n",
       "\u001b[31m│\u001b[0m \u001b[31m❱ \u001b[0m 378 \u001b[2m│   │     \u001b[0moutputs = execute.execute(                                                      \u001b[31m│\u001b[0m\n",
       "\u001b[31m│\u001b[0m   \u001b[2m 379 \u001b[0m\u001b[2m│   │   │     \u001b[0m\u001b[96mstr\u001b[0m(\u001b[96mself\u001b[0m.signature.name),                                                   \u001b[31m│\u001b[0m\n",
       "\u001b[31m│\u001b[0m   \u001b[2m 380 \u001b[0m\u001b[2m│   │   │     \u001b[0mnum_outputs=\u001b[96mself\u001b[0m._num_outputs,                                              \u001b[31m│\u001b[0m\n",
       "\u001b[31m│\u001b[0m   \u001b[2m 381 \u001b[0m\u001b[2m│   │   │     \u001b[0minputs=args,                                                                \u001b[31m│\u001b[0m\n",
       "\u001b[31m│\u001b[0m                                                                                                  \u001b[31m│\u001b[0m\n",
       "\u001b[31m│\u001b[0m \u001b[2;33m/usr/local/lib/python3.9/dist-packages/tensorflow/python/eager/\u001b[0m\u001b[1;33mexecute.py\u001b[0m:\u001b[94m52\u001b[0m in \u001b[92mquick_execute\u001b[0m    \u001b[31m│\u001b[0m\n",
       "\u001b[31m│\u001b[0m                                                                                                  \u001b[31m│\u001b[0m\n",
       "\u001b[31m│\u001b[0m   \u001b[2m 49 \u001b[0m\u001b[2m  \u001b[0m\u001b[2m# pylint: disable=protected-access\u001b[0m                                                       \u001b[31m│\u001b[0m\n",
       "\u001b[31m│\u001b[0m   \u001b[2m 50 \u001b[0m\u001b[2m  \u001b[0m\u001b[94mtry\u001b[0m:                                                                                     \u001b[31m│\u001b[0m\n",
       "\u001b[31m│\u001b[0m   \u001b[2m 51 \u001b[0m\u001b[2m│   \u001b[0mctx.ensure_initialized()                                                               \u001b[31m│\u001b[0m\n",
       "\u001b[31m│\u001b[0m \u001b[31m❱ \u001b[0m 52 \u001b[2m│   \u001b[0mtensors = pywrap_tfe.TFE_Py_Execute(ctx._handle, device_name, op_name,                 \u001b[31m│\u001b[0m\n",
       "\u001b[31m│\u001b[0m   \u001b[2m 53 \u001b[0m\u001b[2m│   │   │   │   │   │   │   │   │   │   \u001b[0minputs, attrs, num_outputs)                        \u001b[31m│\u001b[0m\n",
       "\u001b[31m│\u001b[0m   \u001b[2m 54 \u001b[0m\u001b[2m  \u001b[0m\u001b[94mexcept\u001b[0m core._NotOkStatusException \u001b[94mas\u001b[0m e:                                                  \u001b[31m│\u001b[0m\n",
       "\u001b[31m│\u001b[0m   \u001b[2m 55 \u001b[0m\u001b[2m│   \u001b[0m\u001b[94mif\u001b[0m name \u001b[95mis\u001b[0m \u001b[95mnot\u001b[0m \u001b[94mNone\u001b[0m:                                                                   \u001b[31m│\u001b[0m\n",
       "\u001b[31m╰──────────────────────────────────────────────────────────────────────────────────────────────────╯\u001b[0m\n",
       "\u001b[1;91mKeyboardInterrupt\u001b[0m\n"
      ]
     },
     "metadata": {},
     "output_type": "display_data"
    }
   ],
   "source": [
    "from keras.callbacks import History\n",
    "history = History()\n",
    "\n",
    "poi_c2v.fit(\n",
    "    name_pairs=X_train,\n",
    "    target=y_train,\n",
    "    validation_split=0.1,\n",
    "    max_epochs=10000,\n",
    "    patience=10,\n",
    "    batch_size=128,\n",
    "    callbacks=[history])"
   ]
  },
  {
   "cell_type": "code",
   "execution_count": 36,
   "id": "eecc7e18-2cbb-409c-b50a-989a43ba9064",
   "metadata": {},
   "outputs": [
    {
     "data": {
      "text/html": [
       "<pre style=\"white-space:pre;overflow-x:auto;line-height:normal;font-family:Menlo,'DejaVu Sans Mono',consolas,'Courier New',monospace\"></pre>\n"
      ],
      "text/plain": []
     },
     "metadata": {},
     "output_type": "display_data"
    },
    {
     "data": {
      "text/plain": [
       "\u001b[1m<\u001b[0m\u001b[1;95mmatplotlib.legend.Legend\u001b[0m\u001b[39m object at \u001b[0m\u001b[1;36m0x7fab1522e370\u001b[0m\u001b[1m>\u001b[0m"
      ]
     },
     "execution_count": 36,
     "metadata": {},
     "output_type": "execute_result"
    },
    {
     "data": {
      "text/html": [
       "<pre style=\"white-space:pre;overflow-x:auto;line-height:normal;font-family:Menlo,'DejaVu Sans Mono',consolas,'Courier New',monospace\"></pre>\n"
      ],
      "text/plain": []
     },
     "metadata": {},
     "output_type": "display_data"
    },
    {
     "data": {
      "image/png": "[encoded data removed]",
      "text/plain": [
       "\u001b[1m<\u001b[0m\u001b[1;95mFigure\u001b[0m\u001b[39m size 100\u001b[0m\u001b[1;36m0x500\u001b[0m\u001b[39m with \u001b[0m\u001b[1;36m2\u001b[0m\u001b[39m Axes\u001b[0m\u001b[1m>\u001b[0m"
      ]
     },
     "metadata": {},
     "output_type": "display_data"
    }
   ],
   "source": [
    "fig, ax = plt.subplots(1, 2, figsize=(10,5))\n",
    "\n",
    "ax[0].plot(history.history['loss'])\n",
    "ax[0].plot(history.history['val_loss'])\n",
    "ax[0].set_title('Loss history')\n",
    "ax[0].legend(['Train loss', 'Validation loss'],loc='upper right')\n",
    "\n",
    "ax[1].plot(history.history['accuracy'])\n",
    "ax[1].plot(history.history['val_accuracy'])\n",
    "ax[1].set_title('Accuracy history')\n",
    "ax[1].legend(['Train accuracy', 'Validation accuracy'], loc='upper right')"
   ]
  },
  {
   "cell_type": "code",
   "execution_count": 40,
   "id": "7fda89b7-6d94-4dc6-9e46-8af13e12934f",
   "metadata": {},
   "outputs": [
    {
     "data": {
      "text/html": [
       "<pre style=\"white-space:pre;overflow-x:auto;line-height:normal;font-family:Menlo,'DejaVu Sans Mono',consolas,'Courier New',monospace\"></pre>\n"
      ],
      "text/plain": []
     },
     "metadata": {},
     "output_type": "display_data"
    },
    {
     "data": {
      "text/plain": [
       "\u001b[1m<\u001b[0m\u001b[1;95mmatplotlib.legend.Legend\u001b[0m\u001b[39m object at \u001b[0m\u001b[1;36m0x7fa1063687c0\u001b[0m\u001b[1m>\u001b[0m"
      ]
     },
     "execution_count": 40,
     "metadata": {},
     "output_type": "execute_result"
    },
    {
     "data": {
      "text/html": [
       "<pre style=\"white-space:pre;overflow-x:auto;line-height:normal;font-family:Menlo,'DejaVu Sans Mono',consolas,'Courier New',monospace\"></pre>\n"
      ],
      "text/plain": []
     },
     "metadata": {},
     "output_type": "display_data"
    },
    {
     "data": {
      "image/png": "[encoded data removed]",
      "text/plain": [
       "\u001b[1m<\u001b[0m\u001b[1;95mFigure\u001b[0m\u001b[39m size 100\u001b[0m\u001b[1;36m0x500\u001b[0m\u001b[39m with \u001b[0m\u001b[1;36m2\u001b[0m\u001b[39m Axes\u001b[0m\u001b[1m>\u001b[0m"
      ]
     },
     "metadata": {},
     "output_type": "display_data"
    }
   ],
   "source": [
    "fig, ax = plt.subplots(1, 2, figsize=(10,5))\n",
    "\n",
    "ax[0].plot(history.history['loss'])\n",
    "ax[0].plot(history.history['val_loss'])\n",
    "ax[0].set_title('Loss history')\n",
    "ax[0].legend(['Train loss', 'Validation loss'],loc='upper right')\n",
    "\n",
    "ax[1].plot(history.history['accuracy'])\n",
    "ax[1].plot(history.history['val_accuracy'])\n",
    "ax[1].set_title('Accuracy history')\n",
    "ax[1].legend(['Train accuracy', 'Validation accuracy'], loc='upper right')"
   ]
  },
  {
   "cell_type": "code",
   "execution_count": 70,
   "id": "92ab15a1-9893-4524-9dd7-f85a87eea661",
   "metadata": {},
   "outputs": [
    {
     "data": {
      "text/html": [
       "<pre style=\"white-space:pre;overflow-x:auto;line-height:normal;font-family:Menlo,'DejaVu Sans Mono',consolas,'Courier New',monospace\"></pre>\n"
      ],
      "text/plain": []
     },
     "metadata": {},
     "output_type": "display_data"
    },
    {
     "data": {
      "text/plain": [
       "\u001b[1m<\u001b[0m\u001b[1;95mmatplotlib.legend.Legend\u001b[0m\u001b[39m object at \u001b[0m\u001b[1;36m0x7fa19205c280\u001b[0m\u001b[1m>\u001b[0m"
      ]
     },
     "execution_count": 70,
     "metadata": {},
     "output_type": "execute_result"
    },
    {
     "data": {
      "text/html": [
       "<pre style=\"white-space:pre;overflow-x:auto;line-height:normal;font-family:Menlo,'DejaVu Sans Mono',consolas,'Courier New',monospace\"></pre>\n"
      ],
      "text/plain": []
     },
     "metadata": {},
     "output_type": "display_data"
    },
    {
     "data": {
      "image/png": "[encoded data removed]",
      "text/plain": [
       "\u001b[1m<\u001b[0m\u001b[1;95mFigure\u001b[0m\u001b[39m size 100\u001b[0m\u001b[1;36m0x500\u001b[0m\u001b[39m with \u001b[0m\u001b[1;36m2\u001b[0m\u001b[39m Axes\u001b[0m\u001b[1m>\u001b[0m"
      ]
     },
     "metadata": {},
     "output_type": "display_data"
    }
   ],
   "source": [
    "fig, ax = plt.subplots(1, 2, figsize=(10,5))\n",
    "\n",
    "ax[0].plot(history.history['loss'])\n",
    "ax[0].plot(history.history['val_loss'])\n",
    "ax[0].set_title('Loss history')\n",
    "ax[0].legend(['Train loss', 'Validation loss'],loc='upper right')\n",
    "\n",
    "ax[1].plot(history.history['accuracy'])\n",
    "ax[1].plot(history.history['val_accuracy'])\n",
    "ax[1].set_title('Accuracy history')\n",
    "ax[1].legend(['Train accuracy', 'Validation accuracy'], loc='upper right')"
   ]
  },
  {
   "cell_type": "code",
   "execution_count": 2,
   "id": "70d10b23-5ffa-4ec3-b795-56ae3e77c328",
   "metadata": {},
   "outputs": [
    {
     "data": {
      "text/html": [
       "<pre style=\"white-space:pre;overflow-x:auto;line-height:normal;font-family:Menlo,'DejaVu Sans Mono',consolas,'Courier New',monospace\"><span style=\"color: #800000; text-decoration-color: #800000\">╭─────────────────────────────── </span><span style=\"color: #800000; text-decoration-color: #800000; font-weight: bold\">Traceback </span><span style=\"color: #bf7f7f; text-decoration-color: #bf7f7f; font-weight: bold\">(most recent call last)</span><span style=\"color: #800000; text-decoration-color: #800000\"> ────────────────────────────────╮</span>\n",
       "<span style=\"color: #800000; text-decoration-color: #800000\">│</span> in <span style=\"color: #00ff00; text-decoration-color: #00ff00\">&lt;cell line: 1&gt;</span>:<span style=\"color: #0000ff; text-decoration-color: #0000ff\">1</span>                                                                              <span style=\"color: #800000; text-decoration-color: #800000\">│</span>\n",
       "<span style=\"color: #800000; text-decoration-color: #800000\">│</span>                                                                                                  <span style=\"color: #800000; text-decoration-color: #800000\">│</span>\n",
       "<span style=\"color: #800000; text-decoration-color: #800000\">│</span> <span style=\"color: #800000; text-decoration-color: #800000\">❱ </span>1 poi_c2v.save_model(<span style=\"color: #808000; text-decoration-color: #808000\">'../../data/06_models/chars2vec-150-cosine-BiLSTM-sparsedEnc-Deep-geo</span>     <span style=\"color: #800000; text-decoration-color: #800000\">│</span>\n",
       "<span style=\"color: #800000; text-decoration-color: #800000\">│</span>   <span style=\"color: #7f7f7f; text-decoration-color: #7f7f7f\">2 </span>                                                                                             <span style=\"color: #800000; text-decoration-color: #800000\">│</span>\n",
       "<span style=\"color: #800000; text-decoration-color: #800000\">╰──────────────────────────────────────────────────────────────────────────────────────────────────╯</span>\n",
       "<span style=\"color: #ff0000; text-decoration-color: #ff0000; font-weight: bold\">NameError: </span>name <span style=\"color: #008000; text-decoration-color: #008000\">'poi_c2v'</span> is not defined\n",
       "</pre>\n"
      ],
      "text/plain": [
       "\u001b[31m╭─\u001b[0m\u001b[31m──────────────────────────────\u001b[0m\u001b[31m \u001b[0m\u001b[1;31mTraceback \u001b[0m\u001b[1;2;31m(most recent call last)\u001b[0m\u001b[31m \u001b[0m\u001b[31m───────────────────────────────\u001b[0m\u001b[31m─╮\u001b[0m\n",
       "\u001b[31m│\u001b[0m in \u001b[92m<cell line: 1>\u001b[0m:\u001b[94m1\u001b[0m                                                                              \u001b[31m│\u001b[0m\n",
       "\u001b[31m│\u001b[0m                                                                                                  \u001b[31m│\u001b[0m\n",
       "\u001b[31m│\u001b[0m \u001b[31m❱ \u001b[0m1 poi_c2v.save_model(\u001b[33m'\u001b[0m\u001b[33m../../data/06_models/chars2vec-150-cosine-BiLSTM-sparsedEnc-Deep-geo\u001b[0m     \u001b[31m│\u001b[0m\n",
       "\u001b[31m│\u001b[0m   \u001b[2m2 \u001b[0m                                                                                             \u001b[31m│\u001b[0m\n",
       "\u001b[31m╰──────────────────────────────────────────────────────────────────────────────────────────────────╯\u001b[0m\n",
       "\u001b[1;91mNameError: \u001b[0mname \u001b[32m'poi_c2v'\u001b[0m is not defined\n"
      ]
     },
     "metadata": {},
     "output_type": "display_data"
    }
   ],
   "source": [
    "poi_c2v.save_model('../../data/06_models/chars2vec-150-cosine-BiLSTM-sparsedEnc-Deep-geonames-spanish/')"
   ]
  },
  {
   "cell_type": "code",
   "execution_count": 3,
   "id": "40d26ade-3e5f-4545-9877-89441e49066c",
   "metadata": {},
   "outputs": [
    {
     "data": {
      "text/html": [
       "<pre style=\"white-space:pre;overflow-x:auto;line-height:normal;font-family:Menlo,'DejaVu Sans Mono',consolas,'Courier New',monospace\"><span style=\"color: #800000; text-decoration-color: #800000\">╭─────────────────────────────── </span><span style=\"color: #800000; text-decoration-color: #800000; font-weight: bold\">Traceback </span><span style=\"color: #bf7f7f; text-decoration-color: #bf7f7f; font-weight: bold\">(most recent call last)</span><span style=\"color: #800000; text-decoration-color: #800000\"> ────────────────────────────────╮</span>\n",
       "<span style=\"color: #800000; text-decoration-color: #800000\">│</span> in <span style=\"color: #00ff00; text-decoration-color: #00ff00\">&lt;cell line: 1&gt;</span>:<span style=\"color: #0000ff; text-decoration-color: #0000ff\">1</span>                                                                              <span style=\"color: #800000; text-decoration-color: #800000\">│</span>\n",
       "<span style=\"color: #800000; text-decoration-color: #800000\">│</span>                                                                                                  <span style=\"color: #800000; text-decoration-color: #800000\">│</span>\n",
       "<span style=\"color: #800000; text-decoration-color: #800000\">│</span> <span style=\"color: #800000; text-decoration-color: #800000\">❱ </span>1 poi_c2v.load_model(<span style=\"color: #808000; text-decoration-color: #808000\">'../../data/06_models/chars2vec-150-cosine-BiLSTM-sparsedEnc-geonames</span>     <span style=\"color: #800000; text-decoration-color: #800000\">│</span>\n",
       "<span style=\"color: #800000; text-decoration-color: #800000\">│</span>   <span style=\"color: #7f7f7f; text-decoration-color: #7f7f7f\">2 </span>                                                                                             <span style=\"color: #800000; text-decoration-color: #800000\">│</span>\n",
       "<span style=\"color: #800000; text-decoration-color: #800000\">╰──────────────────────────────────────────────────────────────────────────────────────────────────╯</span>\n",
       "<span style=\"color: #ff0000; text-decoration-color: #ff0000; font-weight: bold\">NameError: </span>name <span style=\"color: #008000; text-decoration-color: #008000\">'poi_c2v'</span> is not defined\n",
       "</pre>\n"
      ],
      "text/plain": [
       "\u001b[31m╭─\u001b[0m\u001b[31m──────────────────────────────\u001b[0m\u001b[31m \u001b[0m\u001b[1;31mTraceback \u001b[0m\u001b[1;2;31m(most recent call last)\u001b[0m\u001b[31m \u001b[0m\u001b[31m───────────────────────────────\u001b[0m\u001b[31m─╮\u001b[0m\n",
       "\u001b[31m│\u001b[0m in \u001b[92m<cell line: 1>\u001b[0m:\u001b[94m1\u001b[0m                                                                              \u001b[31m│\u001b[0m\n",
       "\u001b[31m│\u001b[0m                                                                                                  \u001b[31m│\u001b[0m\n",
       "\u001b[31m│\u001b[0m \u001b[31m❱ \u001b[0m1 poi_c2v.load_model(\u001b[33m'\u001b[0m\u001b[33m../../data/06_models/chars2vec-150-cosine-BiLSTM-sparsedEnc-geonames\u001b[0m     \u001b[31m│\u001b[0m\n",
       "\u001b[31m│\u001b[0m   \u001b[2m2 \u001b[0m                                                                                             \u001b[31m│\u001b[0m\n",
       "\u001b[31m╰──────────────────────────────────────────────────────────────────────────────────────────────────╯\u001b[0m\n",
       "\u001b[1;91mNameError: \u001b[0mname \u001b[32m'poi_c2v'\u001b[0m is not defined\n"
      ]
     },
     "metadata": {},
     "output_type": "display_data"
    }
   ],
   "source": [
    "poi_c2v.load_model('../../data/06_models/chars2vec-150-cosine-BiLSTM-sparsedEnc-geonames-spanish/')"
   ]
  },
  {
   "cell_type": "code",
   "execution_count": 1,
   "id": "c3c4da50-06a2-47b0-926d-aef8476c6e9c",
   "metadata": {},
   "outputs": [
    {
     "data": {
      "text/html": [
       "<pre style=\"white-space:pre;overflow-x:auto;line-height:normal;font-family:Menlo,'DejaVu Sans Mono',consolas,'Courier New',monospace\"><span style=\"color: #800000; text-decoration-color: #800000\">╭─────────────────────────────── </span><span style=\"color: #800000; text-decoration-color: #800000; font-weight: bold\">Traceback </span><span style=\"color: #bf7f7f; text-decoration-color: #bf7f7f; font-weight: bold\">(most recent call last)</span><span style=\"color: #800000; text-decoration-color: #800000\"> ────────────────────────────────╮</span>\n",
       "<span style=\"color: #800000; text-decoration-color: #800000\">│</span> in <span style=\"color: #00ff00; text-decoration-color: #00ff00\">&lt;cell line: 1&gt;</span>:<span style=\"color: #0000ff; text-decoration-color: #0000ff\">1</span>                                                                              <span style=\"color: #800000; text-decoration-color: #800000\">│</span>\n",
       "<span style=\"color: #800000; text-decoration-color: #800000\">│</span>                                                                                                  <span style=\"color: #800000; text-decoration-color: #800000\">│</span>\n",
       "<span style=\"color: #800000; text-decoration-color: #800000\">│</span> <span style=\"color: #800000; text-decoration-color: #800000\">❱ </span>1 poi_c2v.model.summary()                                                                      <span style=\"color: #800000; text-decoration-color: #800000\">│</span>\n",
       "<span style=\"color: #800000; text-decoration-color: #800000\">│</span>   <span style=\"color: #7f7f7f; text-decoration-color: #7f7f7f\">2 </span>                                                                                             <span style=\"color: #800000; text-decoration-color: #800000\">│</span>\n",
       "<span style=\"color: #800000; text-decoration-color: #800000\">╰──────────────────────────────────────────────────────────────────────────────────────────────────╯</span>\n",
       "<span style=\"color: #ff0000; text-decoration-color: #ff0000; font-weight: bold\">NameError: </span>name <span style=\"color: #008000; text-decoration-color: #008000\">'poi_c2v'</span> is not defined\n",
       "</pre>\n"
      ],
      "text/plain": [
       "\u001b[31m╭─\u001b[0m\u001b[31m──────────────────────────────\u001b[0m\u001b[31m \u001b[0m\u001b[1;31mTraceback \u001b[0m\u001b[1;2;31m(most recent call last)\u001b[0m\u001b[31m \u001b[0m\u001b[31m───────────────────────────────\u001b[0m\u001b[31m─╮\u001b[0m\n",
       "\u001b[31m│\u001b[0m in \u001b[92m<cell line: 1>\u001b[0m:\u001b[94m1\u001b[0m                                                                              \u001b[31m│\u001b[0m\n",
       "\u001b[31m│\u001b[0m                                                                                                  \u001b[31m│\u001b[0m\n",
       "\u001b[31m│\u001b[0m \u001b[31m❱ \u001b[0m1 poi_c2v.model.summary()                                                                      \u001b[31m│\u001b[0m\n",
       "\u001b[31m│\u001b[0m   \u001b[2m2 \u001b[0m                                                                                             \u001b[31m│\u001b[0m\n",
       "\u001b[31m╰──────────────────────────────────────────────────────────────────────────────────────────────────╯\u001b[0m\n",
       "\u001b[1;91mNameError: \u001b[0mname \u001b[32m'poi_c2v'\u001b[0m is not defined\n"
      ]
     },
     "metadata": {},
     "output_type": "display_data"
    }
   ],
   "source": [
    "poi_c2v.model.summary()"
   ]
  },
  {
   "cell_type": "code",
   "execution_count": 71,
   "id": "d771e780-12b9-4795-961b-c113a1ba261f",
   "metadata": {},
   "outputs": [],
   "source": [
    "X_test_1 = encode_sparsed_list(X_test[:, 0],char_to_index_dict=char_to_index, max_len=MAX_NAME_LEN)\n",
    "X_test_2 = encode_sparsed_list(X_test[:, 1],char_to_index_dict=char_to_index, max_len=MAX_NAME_LEN)\n",
    "\n",
    "# X_train_1, X_train_1_embed = poi_c2v.vectorize(X_train[:, 0])\n",
    "# X_train_2, X_train_2_embed = poi_c2v.vectorize(X_train[:, 1])"
   ]
  },
  {
   "cell_type": "code",
   "execution_count": 72,
   "id": "5d803071-7795-44a1-b057-646704dde891",
   "metadata": {},
   "outputs": [
    {
     "name": "stdout",
     "output_type": "stream",
     "text": [
      "171/171 [==============================] - 24s 112ms/step\n"
     ]
    }
   ],
   "source": [
    "test_predictions = poi_c2v.model.predict((X_test_1, X_test_2))\n",
    "# train_predictions = poi_c2v.model.predict((X_train_1, X_train_2))"
   ]
  },
  {
   "cell_type": "code",
   "execution_count": 73,
   "id": "ba28d180-f86f-4563-b9f4-9914ecc58e75",
   "metadata": {},
   "outputs": [
    {
     "data": {
      "text/html": [
       "<pre style=\"white-space:pre;overflow-x:auto;line-height:normal;font-family:Menlo,'DejaVu Sans Mono',consolas,'Courier New',monospace\"></pre>\n"
      ],
      "text/plain": []
     },
     "metadata": {},
     "output_type": "display_data"
    },
    {
     "data": {
      "text/plain": [
       "\n",
       "\u001b[1m(\u001b[0m\n",
       "    \u001b[1;35marray\u001b[0m\u001b[1m(\u001b[0m\u001b[1m[\u001b[0m \u001b[1;36m850\u001b[0m.,  \u001b[1;36m648\u001b[0m.,  \u001b[1;36m532\u001b[0m.,  \u001b[1;36m423\u001b[0m.,  \u001b[1;36m350\u001b[0m.,  \u001b[1;36m313\u001b[0m.,  \u001b[1;36m341\u001b[0m.,  \u001b[1;36m381\u001b[0m.,  \u001b[1;36m494\u001b[0m.,\n",
       "       \u001b[1;36m1133\u001b[0m.\u001b[1m]\u001b[0m\u001b[1m)\u001b[0m,\n",
       "    \u001b[1;35marray\u001b[0m\u001b[1m(\u001b[0m\u001b[1m[\u001b[0m\u001b[1;36m2.11265215e-04\u001b[0m, \u001b[1;36m1.00089163e-01\u001b[0m, \u001b[1;36m1.99967057e-01\u001b[0m, \u001b[1;36m2.99844950e-01\u001b[0m,\n",
       "       \u001b[1;36m3.99722844e-01\u001b[0m, \u001b[1;36m4.99600738e-01\u001b[0m, \u001b[1;36m5.99478662e-01\u001b[0m, \u001b[1;36m6.99356556e-01\u001b[0m,\n",
       "       \u001b[1;36m7.99234450e-01\u001b[0m, \u001b[1;36m8.99112344e-01\u001b[0m, \u001b[1;36m9.98990238e-01\u001b[0m\u001b[1m]\u001b[0m\u001b[1m)\u001b[0m,\n",
       "    \u001b[1m<\u001b[0m\u001b[1;95mBarContainer\u001b[0m\u001b[39m object of \u001b[0m\u001b[1;36m10\u001b[0m\u001b[39m artists\u001b[0m\u001b[1m>\u001b[0m\n",
       "\u001b[1m)\u001b[0m"
      ]
     },
     "execution_count": 73,
     "metadata": {},
     "output_type": "execute_result"
    },
    {
     "data": {
      "text/html": [
       "<pre style=\"white-space:pre;overflow-x:auto;line-height:normal;font-family:Menlo,'DejaVu Sans Mono',consolas,'Courier New',monospace\"></pre>\n"
      ],
      "text/plain": []
     },
     "metadata": {},
     "output_type": "display_data"
    },
    {
     "data": {
      "image/png": "[encoded data removed]",
      "text/plain": [
       "\u001b[1m<\u001b[0m\u001b[1;95mFigure\u001b[0m\u001b[39m size 64\u001b[0m\u001b[1;36m0x480\u001b[0m\u001b[39m with \u001b[0m\u001b[1;36m1\u001b[0m\u001b[39m Axes\u001b[0m\u001b[1m>\u001b[0m"
      ]
     },
     "metadata": {},
     "output_type": "display_data"
    }
   ],
   "source": [
    "plt.hist(test_predictions)"
   ]
  },
  {
   "cell_type": "code",
   "execution_count": 88,
   "id": "02174952-60e0-4568-832a-126d8d3b5075",
   "metadata": {},
   "outputs": [
    {
     "data": {
      "text/html": [
       "<pre style=\"white-space:pre;overflow-x:auto;line-height:normal;font-family:Menlo,'DejaVu Sans Mono',consolas,'Courier New',monospace\"></pre>\n"
      ],
      "text/plain": []
     },
     "metadata": {},
     "output_type": "display_data"
    },
    {
     "data": {
      "text/html": [
       "<div>\n",
       "<style scoped>\n",
       "    .dataframe tbody tr th:only-of-type {\n",
       "        vertical-align: middle;\n",
       "    }\n",
       "\n",
       "    .dataframe tbody tr th {\n",
       "        vertical-align: top;\n",
       "    }\n",
       "\n",
       "    .dataframe thead th {\n",
       "        text-align: right;\n",
       "    }\n",
       "</style>\n",
       "<table border=\"1\" class=\"dataframe\">\n",
       "  <thead>\n",
       "    <tr style=\"text-align: right;\">\n",
       "      <th>col_0</th>\n",
       "      <th>False</th>\n",
       "      <th>True</th>\n",
       "    </tr>\n",
       "    <tr>\n",
       "      <th>row_0</th>\n",
       "      <th></th>\n",
       "      <th></th>\n",
       "    </tr>\n",
       "  </thead>\n",
       "  <tbody>\n",
       "    <tr>\n",
       "      <th>False</th>\n",
       "      <td>2070</td>\n",
       "      <td>636</td>\n",
       "    </tr>\n",
       "    <tr>\n",
       "      <th>True</th>\n",
       "      <td>733</td>\n",
       "      <td>2026</td>\n",
       "    </tr>\n",
       "  </tbody>\n",
       "</table>\n",
       "</div>"
      ],
      "text/plain": [
       "\n",
       "col_0  \u001b[3;91mFalse\u001b[0m  \u001b[3;92mTrue\u001b[0m \n",
       "row_0              \n",
       "\u001b[3;91mFalse\u001b[0m   \u001b[1;36m2070\u001b[0m    \u001b[1;36m636\u001b[0m\n",
       "\u001b[3;92mTrue\u001b[0m     \u001b[1;36m733\u001b[0m   \u001b[1;36m2026\u001b[0m"
      ]
     },
     "execution_count": 88,
     "metadata": {},
     "output_type": "execute_result"
    }
   ],
   "source": [
    "pd.crosstab((y_test>=.75).flatten(), (test_predictions>=.5).flatten())"
   ]
  },
  {
   "cell_type": "code",
   "execution_count": 89,
   "id": "4a045273-2af7-49d0-8738-ea4237330719",
   "metadata": {},
   "outputs": [
    {
     "name": "stdout",
     "output_type": "stream",
     "text": [
      "              precision    recall  f1-score   support\n",
      "\n",
      "       False       0.74      0.76      0.75      2706\n",
      "        True       0.76      0.73      0.75      2759\n",
      "\n",
      "    accuracy                           0.75      5465\n",
      "   macro avg       0.75      0.75      0.75      5465\n",
      "weighted avg       0.75      0.75      0.75      5465\n",
      "\n"
     ]
    }
   ],
   "source": [
    "print(classification_report((y_test>=.5).flatten(), (test_predictions>=.5).flatten()))"
   ]
  },
  {
   "cell_type": "code",
   "execution_count": 90,
   "id": "f1001e24-4103-4257-ba69-487a09b75c01",
   "metadata": {},
   "outputs": [],
   "source": [
    "from fuzzywuzzy import fuzz"
   ]
  },
  {
   "cell_type": "code",
   "execution_count": 94,
   "id": "243fb1d9-fdb4-4a42-84c1-cda865c4d807",
   "metadata": {},
   "outputs": [],
   "source": [
    "token_set_predictions = np.array([fuzz.token_set_ratio(name1, name2)/100 for name1, name2 in X_test])>.75"
   ]
  },
  {
   "cell_type": "code",
   "execution_count": 95,
   "id": "76262aa6-2b13-46ce-8ed3-242729099662",
   "metadata": {},
   "outputs": [
    {
     "data": {
      "text/html": [
       "<pre style=\"white-space:pre;overflow-x:auto;line-height:normal;font-family:Menlo,'DejaVu Sans Mono',consolas,'Courier New',monospace\"></pre>\n"
      ],
      "text/plain": []
     },
     "metadata": {},
     "output_type": "display_data"
    },
    {
     "data": {
      "text/html": [
       "<div>\n",
       "<style scoped>\n",
       "    .dataframe tbody tr th:only-of-type {\n",
       "        vertical-align: middle;\n",
       "    }\n",
       "\n",
       "    .dataframe tbody tr th {\n",
       "        vertical-align: top;\n",
       "    }\n",
       "\n",
       "    .dataframe thead th {\n",
       "        text-align: right;\n",
       "    }\n",
       "</style>\n",
       "<table border=\"1\" class=\"dataframe\">\n",
       "  <thead>\n",
       "    <tr style=\"text-align: right;\">\n",
       "      <th>col_0</th>\n",
       "      <th>False</th>\n",
       "      <th>True</th>\n",
       "    </tr>\n",
       "    <tr>\n",
       "      <th>row_0</th>\n",
       "      <th></th>\n",
       "      <th></th>\n",
       "    </tr>\n",
       "  </thead>\n",
       "  <tbody>\n",
       "    <tr>\n",
       "      <th>False</th>\n",
       "      <td>2303</td>\n",
       "      <td>403</td>\n",
       "    </tr>\n",
       "    <tr>\n",
       "      <th>True</th>\n",
       "      <td>724</td>\n",
       "      <td>2035</td>\n",
       "    </tr>\n",
       "  </tbody>\n",
       "</table>\n",
       "</div>"
      ],
      "text/plain": [
       "\n",
       "col_0  \u001b[3;91mFalse\u001b[0m  \u001b[3;92mTrue\u001b[0m \n",
       "row_0              \n",
       "\u001b[3;91mFalse\u001b[0m   \u001b[1;36m2303\u001b[0m    \u001b[1;36m403\u001b[0m\n",
       "\u001b[3;92mTrue\u001b[0m     \u001b[1;36m724\u001b[0m   \u001b[1;36m2035\u001b[0m"
      ]
     },
     "execution_count": 95,
     "metadata": {},
     "output_type": "execute_result"
    }
   ],
   "source": [
    "pd.crosstab((y_test>=.5).flatten(), token_set_predictions)"
   ]
  },
  {
   "cell_type": "code",
   "execution_count": 96,
   "id": "b4d25459-c959-47f6-91f6-d1bad6e0e272",
   "metadata": {},
   "outputs": [
    {
     "name": "stdout",
     "output_type": "stream",
     "text": [
      "              precision    recall  f1-score   support\n",
      "\n",
      "       False       0.76      0.85      0.80      2706\n",
      "        True       0.83      0.74      0.78      2759\n",
      "\n",
      "    accuracy                           0.79      5465\n",
      "   macro avg       0.80      0.79      0.79      5465\n",
      "weighted avg       0.80      0.79      0.79      5465\n",
      "\n"
     ]
    }
   ],
   "source": [
    "print(classification_report((y_test>=.75).flatten(), token_set_predictions))"
   ]
  },
  {
   "cell_type": "code",
   "execution_count": 97,
   "id": "05939c49-51ae-45d6-a32e-a4299e20a49a",
   "metadata": {},
   "outputs": [],
   "source": [
    "results = pd.DataFrame(X_test)\n",
    "results['prediction'] = test_predictions>=.5\n",
    "results['prediction'] = results['prediction'].astype(float)\n",
    "results['label'] = y_test\n",
    "results.columns = ['name_1', 'name_2', 'prediction', 'label']\n",
    "results['error'] = results['prediction'] != results['label']"
   ]
  },
  {
   "cell_type": "code",
   "execution_count": 98,
   "id": "e0c50178-6e8a-4f8e-a9f9-4767f4d4554d",
   "metadata": {},
   "outputs": [],
   "source": [
    "results.to_csv('results.csv', index=False)"
   ]
  },
  {
   "cell_type": "markdown",
   "id": "ae21aaa0-9e2e-42b2-bc54-ed0d108c17a5",
   "metadata": {},
   "source": [
    "# 6. Prediciton"
   ]
  },
  {
   "cell_type": "code",
   "execution_count": 99,
   "id": "a16124da-6699-44c3-b0f8-d95ffae2ed0c",
   "metadata": {},
   "outputs": [],
   "source": [
    "standard_1 = np.array(['dave smith', 'international business machine corp', 'bill gates', 'william h gates', 'mary miller', 'mary', 'ibm inc', 'ibm inc', 'dave smith', 'royal free hospital', 'royal free hospital emergency room', 'royal free hospital school of medicine'])\n",
    "standard_2 = np.array(['david smith', 'ibm', 'william gates', 'william a gates', 'mark miller', 'mark', 'ibm corp', 'ibs inc', 'smith dave', 'royal free hospital emergency room', 'royal free hospital immunology', 'royal free hospital immunology'])\n",
    "standard_target = np.array([1, 1, 1, 0, 0, 0, 1, 0, 1, 0, 0, 0, 0])\n",
    "token_set_ratio = [fuzz.token_set_ratio(name1, name2)/100 for name1, name2 in list(zip(standard_1, standard_2))]"
   ]
  },
  {
   "cell_type": "code",
   "execution_count": 100,
   "id": "aed0775d-7597-4607-bf66-460893fec003",
   "metadata": {},
   "outputs": [],
   "source": [
    "standard_1_vectorized = encode_sparsed_list(standard_1,char_to_index_dict=char_to_index, max_len=MAX_NAME_LEN)\n",
    "standard_2_vectorized = encode_sparsed_list(standard_2,char_to_index_dict=char_to_index, max_len=MAX_NAME_LEN)"
   ]
  },
  {
   "cell_type": "code",
   "execution_count": 101,
   "id": "be7fb3b6-3845-43c2-8c09-b3b7fc4c23cd",
   "metadata": {},
   "outputs": [
    {
     "name": "stdout",
     "output_type": "stream",
     "text": [
      "1/1 [==============================] - 0s 117ms/step\n"
     ]
    }
   ],
   "source": [
    "standard_predictions = poi_c2v.model.predict((standard_1_vectorized, standard_2_vectorized))"
   ]
  },
  {
   "cell_type": "code",
   "execution_count": 102,
   "id": "e347ac74-d2db-45d3-ae28-50c0b89cb9c7",
   "metadata": {},
   "outputs": [
    {
     "data": {
      "text/html": [
       "<pre style=\"white-space:pre;overflow-x:auto;line-height:normal;font-family:Menlo,'DejaVu Sans Mono',consolas,'Courier New',monospace\"></pre>\n"
      ],
      "text/plain": []
     },
     "metadata": {},
     "output_type": "display_data"
    },
    {
     "data": {
      "text/html": [
       "<div>\n",
       "<style scoped>\n",
       "    .dataframe tbody tr th:only-of-type {\n",
       "        vertical-align: middle;\n",
       "    }\n",
       "\n",
       "    .dataframe tbody tr th {\n",
       "        vertical-align: top;\n",
       "    }\n",
       "\n",
       "    .dataframe thead th {\n",
       "        text-align: right;\n",
       "    }\n",
       "</style>\n",
       "<table border=\"1\" class=\"dataframe\">\n",
       "  <thead>\n",
       "    <tr style=\"text-align: right;\">\n",
       "      <th></th>\n",
       "      <th>0</th>\n",
       "      <th>1</th>\n",
       "      <th>2</th>\n",
       "      <th>3</th>\n",
       "      <th>4</th>\n",
       "    </tr>\n",
       "  </thead>\n",
       "  <tbody>\n",
       "    <tr>\n",
       "      <th>0</th>\n",
       "      <td>dave smith</td>\n",
       "      <td>david smith</td>\n",
       "      <td>1</td>\n",
       "      <td>[0.9574919]</td>\n",
       "      <td>0.86</td>\n",
       "    </tr>\n",
       "    <tr>\n",
       "      <th>1</th>\n",
       "      <td>international business machine corp</td>\n",
       "      <td>ibm</td>\n",
       "      <td>1</td>\n",
       "      <td>[0.17393866]</td>\n",
       "      <td>0.11</td>\n",
       "    </tr>\n",
       "    <tr>\n",
       "      <th>2</th>\n",
       "      <td>bill gates</td>\n",
       "      <td>william gates</td>\n",
       "      <td>1</td>\n",
       "      <td>[0.9042522]</td>\n",
       "      <td>0.78</td>\n",
       "    </tr>\n",
       "    <tr>\n",
       "      <th>3</th>\n",
       "      <td>william h gates</td>\n",
       "      <td>william a gates</td>\n",
       "      <td>0</td>\n",
       "      <td>[0.9814604]</td>\n",
       "      <td>0.93</td>\n",
       "    </tr>\n",
       "    <tr>\n",
       "      <th>4</th>\n",
       "      <td>mary miller</td>\n",
       "      <td>mark miller</td>\n",
       "      <td>0</td>\n",
       "      <td>[0.972018]</td>\n",
       "      <td>0.91</td>\n",
       "    </tr>\n",
       "    <tr>\n",
       "      <th>5</th>\n",
       "      <td>mary</td>\n",
       "      <td>mark</td>\n",
       "      <td>0</td>\n",
       "      <td>[0.8049448]</td>\n",
       "      <td>0.75</td>\n",
       "    </tr>\n",
       "    <tr>\n",
       "      <th>6</th>\n",
       "      <td>ibm inc</td>\n",
       "      <td>ibm corp</td>\n",
       "      <td>1</td>\n",
       "      <td>[0.64314485]</td>\n",
       "      <td>0.67</td>\n",
       "    </tr>\n",
       "    <tr>\n",
       "      <th>7</th>\n",
       "      <td>ibm inc</td>\n",
       "      <td>ibs inc</td>\n",
       "      <td>0</td>\n",
       "      <td>[0.85294044]</td>\n",
       "      <td>0.86</td>\n",
       "    </tr>\n",
       "    <tr>\n",
       "      <th>8</th>\n",
       "      <td>dave smith</td>\n",
       "      <td>smith dave</td>\n",
       "      <td>1</td>\n",
       "      <td>[0.09877295]</td>\n",
       "      <td>1.00</td>\n",
       "    </tr>\n",
       "    <tr>\n",
       "      <th>9</th>\n",
       "      <td>royal free hospital</td>\n",
       "      <td>royal free hospital emergency room</td>\n",
       "      <td>0</td>\n",
       "      <td>[0.088789076]</td>\n",
       "      <td>1.00</td>\n",
       "    </tr>\n",
       "    <tr>\n",
       "      <th>10</th>\n",
       "      <td>royal free hospital emergency room</td>\n",
       "      <td>royal free hospital immunology</td>\n",
       "      <td>0</td>\n",
       "      <td>[0.30236816]</td>\n",
       "      <td>0.78</td>\n",
       "    </tr>\n",
       "    <tr>\n",
       "      <th>11</th>\n",
       "      <td>royal free hospital school of medicine</td>\n",
       "      <td>royal free hospital immunology</td>\n",
       "      <td>0</td>\n",
       "      <td>[0.74169725]</td>\n",
       "      <td>0.78</td>\n",
       "    </tr>\n",
       "  </tbody>\n",
       "</table>\n",
       "</div>"
      ],
      "text/plain": [
       "\n",
       "                                         \u001b[1;36m0\u001b[0m  \\\n",
       "\u001b[1;36m0\u001b[0m                               dave smith   \n",
       "\u001b[1;36m1\u001b[0m      international business machine corp   \n",
       "\u001b[1;36m2\u001b[0m                               bill gates   \n",
       "\u001b[1;36m3\u001b[0m                          william h gates   \n",
       "\u001b[1;36m4\u001b[0m                              mary miller   \n",
       "\u001b[1;36m5\u001b[0m                                     mary   \n",
       "\u001b[1;36m6\u001b[0m                                  ibm inc   \n",
       "\u001b[1;36m7\u001b[0m                                  ibm inc   \n",
       "\u001b[1;36m8\u001b[0m                               dave smith   \n",
       "\u001b[1;36m9\u001b[0m                      royal free hospital   \n",
       "\u001b[1;36m10\u001b[0m      royal free hospital emergency room   \n",
       "\u001b[1;36m11\u001b[0m  royal free hospital school of medicine   \n",
       "\n",
       "                                     \u001b[1;36m1\u001b[0m  \u001b[1;36m2\u001b[0m              \u001b[1;36m3\u001b[0m     \u001b[1;36m4\u001b[0m  \n",
       "\u001b[1;36m0\u001b[0m                          david smith  \u001b[1;36m1\u001b[0m    \u001b[1m[\u001b[0m\u001b[1;36m0.9574919\u001b[0m\u001b[1m]\u001b[0m  \u001b[1;36m0.86\u001b[0m  \n",
       "\u001b[1;36m1\u001b[0m                                  ibm  \u001b[1;36m1\u001b[0m   \u001b[1m[\u001b[0m\u001b[1;36m0.17393866\u001b[0m\u001b[1m]\u001b[0m  \u001b[1;36m0.11\u001b[0m  \n",
       "\u001b[1;36m2\u001b[0m                        william gates  \u001b[1;36m1\u001b[0m    \u001b[1m[\u001b[0m\u001b[1;36m0.9042522\u001b[0m\u001b[1m]\u001b[0m  \u001b[1;36m0.78\u001b[0m  \n",
       "\u001b[1;36m3\u001b[0m                      william a gates  \u001b[1;36m0\u001b[0m    \u001b[1m[\u001b[0m\u001b[1;36m0.9814604\u001b[0m\u001b[1m]\u001b[0m  \u001b[1;36m0.93\u001b[0m  \n",
       "\u001b[1;36m4\u001b[0m                          mark miller  \u001b[1;36m0\u001b[0m     \u001b[1m[\u001b[0m\u001b[1;36m0.972018\u001b[0m\u001b[1m]\u001b[0m  \u001b[1;36m0.91\u001b[0m  \n",
       "\u001b[1;36m5\u001b[0m                                 mark  \u001b[1;36m0\u001b[0m    \u001b[1m[\u001b[0m\u001b[1;36m0.8049448\u001b[0m\u001b[1m]\u001b[0m  \u001b[1;36m0.75\u001b[0m  \n",
       "\u001b[1;36m6\u001b[0m                             ibm corp  \u001b[1;36m1\u001b[0m   \u001b[1m[\u001b[0m\u001b[1;36m0.64314485\u001b[0m\u001b[1m]\u001b[0m  \u001b[1;36m0.67\u001b[0m  \n",
       "\u001b[1;36m7\u001b[0m                              ibs inc  \u001b[1;36m0\u001b[0m   \u001b[1m[\u001b[0m\u001b[1;36m0.85294044\u001b[0m\u001b[1m]\u001b[0m  \u001b[1;36m0.86\u001b[0m  \n",
       "\u001b[1;36m8\u001b[0m                           smith dave  \u001b[1;36m1\u001b[0m   \u001b[1m[\u001b[0m\u001b[1;36m0.09877295\u001b[0m\u001b[1m]\u001b[0m  \u001b[1;36m1.00\u001b[0m  \n",
       "\u001b[1;36m9\u001b[0m   royal free hospital emergency room  \u001b[1;36m0\u001b[0m  \u001b[1m[\u001b[0m\u001b[1;36m0.088789076\u001b[0m\u001b[1m]\u001b[0m  \u001b[1;36m1.00\u001b[0m  \n",
       "\u001b[1;36m10\u001b[0m      royal free hospital immunology  \u001b[1;36m0\u001b[0m   \u001b[1m[\u001b[0m\u001b[1;36m0.30236816\u001b[0m\u001b[1m]\u001b[0m  \u001b[1;36m0.78\u001b[0m  \n",
       "\u001b[1;36m11\u001b[0m      royal free hospital immunology  \u001b[1;36m0\u001b[0m   \u001b[1m[\u001b[0m\u001b[1;36m0.74169725\u001b[0m\u001b[1m]\u001b[0m  \u001b[1;36m0.78\u001b[0m  "
      ]
     },
     "execution_count": 102,
     "metadata": {},
     "output_type": "execute_result"
    }
   ],
   "source": [
    "pd.DataFrame(list(zip(standard_1, standard_2, standard_target, standard_predictions, token_set_ratio)))"
   ]
  },
  {
   "cell_type": "markdown",
   "id": "0ade7940-c910-4675-9ec9-acd72377f8dc",
   "metadata": {},
   "source": [
    "# 5.2. Create a model class (Sparse encoder - Siamese ConvNet)"
   ]
  },
  {
   "cell_type": "code",
   "execution_count": null,
   "id": "4088391b-2936-45e6-955a-f78a21eab537",
   "metadata": {},
   "outputs": [],
   "source": [
    "fig, ax = plt.subplots(1, 2, figsize=(10,5))\n",
    "\n",
    "ax[0].plot(history.history['loss'])\n",
    "ax[0].plot(history.history['val_loss'])\n",
    "ax[0].set_title('Loss history')\n",
    "ax[0].legend(['Train loss', 'Validation loss'],loc='upper right')\n",
    "\n",
    "ax[1].plot(history.history['accuracy'])\n",
    "ax[1].plot(history.history['val_accuracy'])\n",
    "ax[1].set_title('Accuracy history')\n",
    "ax[1].legend(['Train accuracy', 'Validation accuracy'], loc='upper right')"
   ]
  },
  {
   "cell_type": "code",
   "execution_count": null,
   "id": "f26e75ed-0afd-4d17-82b9-255bc2faf7c1",
   "metadata": {},
   "outputs": [],
   "source": []
  }
 ],
 "metadata": {
  "kernelspec": {
   "display_name": "Kedro (entity_name_matching_dnn)",
   "language": "python",
   "name": "kedro_entity_name_matching_dnn"
  },
  "language_info": {
   "codemirror_mode": {
    "name": "ipython",
    "version": 3
   },
   "file_extension": ".py",
   "mimetype": "text/x-python",
   "name": "python",
   "nbconvert_exporter": "python",
   "pygments_lexer": "ipython3",
   "version": "3.9.5"
  }
 },
 "nbformat": 4,
 "nbformat_minor": 5
}
